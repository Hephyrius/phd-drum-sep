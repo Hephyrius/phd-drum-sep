{
 "cells": [
  {
   "cell_type": "markdown",
   "id": "20b2a3bb-3d01-4f42-bc37-dff46522af7f",
   "metadata": {},
   "source": [
    "# Imports"
   ]
  },
  {
   "cell_type": "code",
   "execution_count": 1,
   "id": "71d686e6-8847-4861-88f0-58141c363862",
   "metadata": {},
   "outputs": [
    {
     "name": "stdout",
     "output_type": "stream",
     "text": [
      "True\n"
     ]
    }
   ],
   "source": [
    "import os\n",
    "import pywt\n",
    "import torch\n",
    "import torch.nn as nn\n",
    "import torch.nn.functional as F\n",
    "import torchaudio\n",
    "import pytorch_lightning as pl\n",
    "from torch.utils.data import DataLoader, Dataset\n",
    "from torchaudio.pipelines import HDEMUCS_HIGH_MUSDB\n",
    "from torchaudio.models import conv_tasnet_base, ConvTasNet\n",
    "import torch.optim as optim\n",
    "from torch.utils.data import Dataset, DataLoader\n",
    "import torchaudio\n",
    "import numpy as np\n",
    "import random\n",
    "from pytorch_lightning.loggers import WandbLogger\n",
    "import wandb\n",
    "import auraloss\n",
    "import collections\n",
    "from tqdm import tqdm\n",
    "import pretty_midi\n",
    "import matplotlib.pyplot as plt\n",
    "from torchaudio.pipelines import HDEMUCS_HIGH_MUSDB, CONVTASNET_BASE_LIBRI2MIX\n",
    "print(torch.cuda.is_available())\n",
    "import plotly.graph_objects as go\n",
    "from torch.optim import lr_scheduler\n"
   ]
  },
  {
   "cell_type": "markdown",
   "id": "e1c82506-04c8-4200-9e63-26857aa176bd",
   "metadata": {},
   "source": [
    "# Set Seeds"
   ]
  },
  {
   "cell_type": "code",
   "execution_count": 2,
   "id": "db3acd3b-d177-44d3-a3f4-35140f45e48a",
   "metadata": {},
   "outputs": [],
   "source": [
    "seed_value = 3407\n",
    "torch.manual_seed(seed_value)\n",
    "random.seed(seed_value)\n",
    "np.random.seed(seed_value)\n",
    "torch.cuda.manual_seed(seed_value)\n",
    "torch.cuda.manual_seed_all(seed_value)\n",
    "torch.set_float32_matmul_precision('high')"
   ]
  },
  {
   "cell_type": "markdown",
   "id": "6182916a-aec1-4c05-8a08-4d2e44dfd979",
   "metadata": {},
   "source": [
    "# Construct Teh Datas"
   ]
  },
  {
   "cell_type": "code",
   "execution_count": 3,
   "id": "dbe5ef07-9ab9-4e3e-9334-048f67ae25e4",
   "metadata": {},
   "outputs": [],
   "source": [
    "path = \"D:/Github/phd-drum-sep/Data/musdb18hq/\""
   ]
  },
  {
   "cell_type": "code",
   "execution_count": 4,
   "id": "e101d3bb-e001-42ff-90cc-42384739d506",
   "metadata": {},
   "outputs": [
    {
     "data": {
      "text/plain": [
       "['test', 'train']"
      ]
     },
     "execution_count": 4,
     "metadata": {},
     "output_type": "execute_result"
    }
   ],
   "source": [
    "os.listdir(path)"
   ]
  },
  {
   "cell_type": "code",
   "execution_count": 5,
   "id": "c52ab99f-41d2-4b7f-a179-90681a8a0a81",
   "metadata": {},
   "outputs": [],
   "source": [
    "train = list(os.listdir(path+'train'))\n",
    "test = list(os.listdir(path+'test'))"
   ]
  },
  {
   "cell_type": "code",
   "execution_count": 6,
   "id": "21aa39ee-b25f-4bdc-950a-9389eb93765a",
   "metadata": {},
   "outputs": [],
   "source": [
    "sources = ['drum', 'bass', 'other', 'vocals']"
   ]
  },
  {
   "cell_type": "code",
   "execution_count": 7,
   "id": "f07f7f9c-2d6b-42b9-b5ac-0f4bd9aeb6a7",
   "metadata": {},
   "outputs": [
    {
     "name": "stderr",
     "output_type": "stream",
     "text": [
      "100it [00:00, 6718.41it/s]\n"
     ]
    }
   ],
   "source": [
    "all_scenes = {}\n",
    "counter = 0\n",
    "for idx, val in tqdm(enumerate(train)):\n",
    "    p = path + 'train/' + val + \"/\"\n",
    "    info = torchaudio.info(f\"{p}mixture.wav\")\n",
    "    seconds = info.num_frames // 44100\n",
    "    for i in range(0, seconds - 10, 10):\n",
    "        start_point = i * 44100\n",
    "        if start_point + 441000 < info.num_frames:\n",
    "            all_scenes[counter] = {'music_path': p, 'start_point': start_point, 'length': 441000, 'frames' : info.num_frames}\n",
    "            counter += 1"
   ]
  },
  {
   "cell_type": "code",
   "execution_count": 8,
   "id": "d6d4eb9a-f08d-4452-a4ad-b9769a218278",
   "metadata": {},
   "outputs": [],
   "source": [
    "def turn_transcription_into_roll(transcription, frames):\n",
    "    # Determine your sampling frequency (frames per second)\n",
    "    fs = 44100\n",
    "    \n",
    "    piano_roll_length = int(frames)\n",
    "    \n",
    "    # Initialize the piano roll array\n",
    "    piano_roll = np.zeros((64, piano_roll_length))\n",
    "    \n",
    "    # Fill in the piano roll array\n",
    "    for note in transcription.instruments[0].notes:\n",
    "        # Convert start and end times to frame indices\n",
    "        start_frame = int(np.floor(note.start * fs))\n",
    "        end_frame = int(np.ceil(note.end * fs))\n",
    "        \n",
    "        # Set the corresponding frames to 1 (or note.velocity for a velocity-sensitive representation)\n",
    "        piano_roll[note.pitch, start_frame:end_frame] = 1  # Or use note.velocity\n",
    "        \n",
    "    roll = np.vstack([piano_roll[35:36, :], piano_roll[38:39, :], piano_roll[42:43, :], piano_roll[47:48, :], piano_roll[49:50, :]])\n",
    "    return roll"
   ]
  },
  {
   "cell_type": "markdown",
   "id": "20988d30-a95e-4dca-ac19-a6f7cea95717",
   "metadata": {},
   "source": [
    "# Data Loaders"
   ]
  },
  {
   "cell_type": "code",
   "execution_count": 9,
   "id": "79d11190-4e68-41f8-ae19-36d8199c1643",
   "metadata": {},
   "outputs": [],
   "source": [
    "class AudioDataGenerator(Dataset):\n",
    "    def __init__(self, data, sample_rate=HDEMUCS_HIGH_MUSDB.sample_rate, segment_length = 10):\n",
    "        self.data = data\n",
    "        self.sample_rate = sample_rate\n",
    "        self.segment_length = sample_rate * segment_length\n",
    "\n",
    "    def __len__(self):\n",
    "        return len(self.data)\n",
    "    \n",
    "    def load_audio(self, path, start_point, filename):\n",
    "        audio_tensors = []\n",
    "        file = filename\n",
    "        segment, _ = torchaudio.load(f\"{path}/{file}\", frame_offset=start_point, num_frames=self.segment_length)\n",
    "        audio_tensors.append(segment)\n",
    "        return torch.cat(audio_tensors, dim=0)\n",
    "\n",
    "    def load_roll(self, path, start_point, frames):\n",
    "        midi = path + '/mixture.wav.mid'\n",
    "        transcription = pretty_midi.PrettyMIDI(midi)\n",
    "        roll = turn_transcription_into_roll(transcription, frames)\n",
    "        # print(roll.shape)\n",
    "        roll = roll[:, start_point: start_point + self.segment_length]\n",
    "        return torch.from_numpy(roll).float()\n",
    "\n",
    "    def __getitem__(self, idx):\n",
    "\n",
    "        if torch.is_tensor(idx):\n",
    "            idx = idx.tolist()\n",
    "\n",
    "        sample = self.data[idx]\n",
    "\n",
    "        # Load audio as a tensor\n",
    "        audio_path = sample['music_path']\n",
    "\n",
    "        start_point = sample['start_point']\n",
    "\n",
    "        mixture_tensor = self.load_audio(audio_path, start_point,'mixture.wav')\n",
    "        drum_tensor = self.load_audio(audio_path, start_point,'drums.wav')\n",
    "        roll_tensor = self.load_roll(audio_path, start_point, sample['frames'])\n",
    "        return mixture_tensor, drum_tensor, roll_tensor"
   ]
  },
  {
   "cell_type": "markdown",
   "id": "9b2a74ca-f7f7-4c32-a229-8d43faf5e43f",
   "metadata": {},
   "source": [
    "## Lightning Data Module"
   ]
  },
  {
   "cell_type": "code",
   "execution_count": 10,
   "id": "7a521574-8b4f-4f85-88be-f97920050fbf",
   "metadata": {},
   "outputs": [],
   "source": [
    "class AudioDataModule(pl.LightningDataModule):\n",
    "    def __init__(self, data, batch_size=32, num_workers=0, persistent_workers=False, shuffle=False):\n",
    "        super().__init__()\n",
    "        self.data = data\n",
    "        self.batch_size = batch_size\n",
    "        self.num_workers = num_workers\n",
    "        self.persistent_workers=persistent_workers\n",
    "        self.shuffle = shuffle\n",
    "\n",
    "    def setup(self, stage=None):\n",
    "        # Split your data here if necessary, e.g., into train, validation, test\n",
    "        self.dataset = AudioDataGenerator(self.data)\n",
    "\n",
    "    def train_dataloader(self):\n",
    "        return DataLoader(self.dataset, batch_size=self.batch_size, shuffle=self.shuffle, num_workers = self.num_workers, persistent_workers=self.persistent_workers)\n",
    "\n",
    "    # Implement val_dataloader() and test_dataloader() if you have validation and test data"
   ]
  },
  {
   "cell_type": "markdown",
   "id": "f8c90603-3461-41ad-8707-28630df0c7ed",
   "metadata": {},
   "source": [
    "# making the model"
   ]
  },
  {
   "cell_type": "code",
   "execution_count": 11,
   "id": "66579c66-3459-4678-bb1d-a394b7fee5a1",
   "metadata": {},
   "outputs": [],
   "source": [
    "import torch\n",
    "import torch.nn as nn"
   ]
  },
  {
   "cell_type": "code",
   "execution_count": 12,
   "id": "df743817-81a9-466a-b328-34690c96975e",
   "metadata": {},
   "outputs": [],
   "source": [
    "class ChannelAttention(nn.Module):\n",
    "    def __init__(self, in_channels, reduction_ratio=16):\n",
    "        super(ChannelAttention, self).__init__()\n",
    "        self.avg_pool = nn.AdaptiveAvgPool1d(1)\n",
    "        self.max_pool = nn.AdaptiveMaxPool1d(1)\n",
    "        self.fc = nn.Sequential(\n",
    "            nn.Conv1d(in_channels, in_channels // reduction_ratio, 1, bias=False),\n",
    "            nn.ReLU(),\n",
    "            nn.Conv1d(in_channels // reduction_ratio, in_channels, 1, bias=False)\n",
    "        )\n",
    "        self.sigmoid = nn.Sigmoid()\n",
    "\n",
    "    def forward(self, x):\n",
    "        avg_out = self.fc(self.avg_pool(x))\n",
    "        max_out = self.fc(self.max_pool(x))\n",
    "        out = avg_out + max_out\n",
    "        return self.sigmoid(out)\n",
    "\n",
    "class SpatialAttention(nn.Module):\n",
    "    def __init__(self, kernel_size=15, padding=7):\n",
    "        super(SpatialAttention, self).__init__()\n",
    "        # assert kernel_size in (3, 7), 'kernel size must be 3 or 7'\n",
    "        # padding = 3 if kernel_size == 7 else 1\n",
    "        self.conv1 = nn.Conv1d(2, 1, kernel_size, padding=padding, bias=False)\n",
    "        self.sigmoid = nn.Sigmoid()\n",
    "\n",
    "    def forward(self, x):\n",
    "        avg_out = torch.mean(x, dim=1, keepdim=True)\n",
    "        max_out, _ = torch.max(x, dim=1, keepdim=True)\n",
    "        x = torch.cat([avg_out, max_out], dim=1)\n",
    "        x = self.conv1(x)\n",
    "        return self.sigmoid(x)\n",
    "\n",
    "class CBAMBlock(nn.Module):\n",
    "    def __init__(self, in_channels):\n",
    "        super(CBAMBlock, self).__init__()\n",
    "        self.channel_attention = ChannelAttention(in_channels)\n",
    "        self.spatial_attention = SpatialAttention()\n",
    "\n",
    "    def forward(self, x):\n",
    "        x = x * self.channel_attention(x)\n",
    "        x = x * self.spatial_attention(x)\n",
    "        return x\n"
   ]
  },
  {
   "cell_type": "code",
   "execution_count": 13,
   "id": "57765a18-4699-489e-b592-ec5ca09cd55d",
   "metadata": {},
   "outputs": [],
   "source": [
    "class Encoder(nn.Module):\n",
    "    def __init__(self):\n",
    "        super(Encoder, self).__init__()\n",
    "        # Define down-sampling layers for one encoder head\n",
    "        self.down1 = nn.Sequential(nn.Conv1d(7, 16, kernel_size=25, stride=1, padding=12), nn.BatchNorm1d(16), nn.PReLU())\n",
    "        self.down2 = nn.Sequential(nn.Conv1d(16, 32, kernel_size=19, stride=2, padding=9), nn.BatchNorm1d(32), nn.PReLU())\n",
    "        self.down3 = nn.Sequential(nn.Conv1d(32, 64, kernel_size=15, stride=2, padding=7), nn.BatchNorm1d(64), nn.PReLU())\n",
    "        self.down4 = nn.Sequential(nn.Conv1d(64, 128, kernel_size=13, stride=2, padding=6), nn.BatchNorm1d(128), nn.PReLU())\n",
    "        self.down5 = nn.Sequential(nn.Conv1d(128, 256, kernel_size=11, stride=2, padding=5), nn.BatchNorm1d(256), nn.PReLU())\n",
    "        self.down6 = nn.Sequential(nn.Conv1d(256, 512, kernel_size=9, stride=2, padding=4), nn.BatchNorm1d(512), nn.PReLU())\n",
    "        self.down7 = nn.Sequential(nn.Conv1d(512, 1024, kernel_size=7, stride=2, padding=3), nn.BatchNorm1d(1024), nn.PReLU())\n",
    "        self.down8 = nn.Sequential(nn.Conv1d(1024, 2048, kernel_size=5, stride=2, padding=2), nn.BatchNorm1d(2048), nn.PReLU())\n",
    "        self.down9 = nn.Sequential(nn.Conv1d(2048, 4096, kernel_size=3, stride=2, padding=1), nn.BatchNorm1d(4096), nn.PReLU())\n",
    "        # self.down8 = nn.Sequential(nn.Conv1d(1024, 2048, kernel_size=3, stride=2, padding=1), nn.BatchNorm1d(2048), nn.ReLU())\n",
    "    \n",
    "    def forward(self, x):\n",
    "        d1 = self.down1(x)\n",
    "        d2 = self.down2(d1)\n",
    "        d3 = self.down3(d2)\n",
    "        d4 = self.down4(d3)\n",
    "        d5 = self.down5(d4)\n",
    "        d6 = self.down6(d5)\n",
    "        d7 = self.down7(d6)\n",
    "        d8 = self.down8(d7)\n",
    "        d9 = self.down9(d8)\n",
    "        # ... (additional down-sampling steps)\n",
    "        return [d1, d2, d3, d4, d5, d6, d7, d8, d9]  # Return all intermediate outputs for skip connections"
   ]
  },
  {
   "cell_type": "code",
   "execution_count": 14,
   "id": "565c8a36-7eb1-4284-82a0-51ccc521a18f",
   "metadata": {},
   "outputs": [],
   "source": [
    "class WaveUNet(pl.LightningModule):\n",
    "    def __init__(self):\n",
    "        super(WaveUNet, self).__init__()\n",
    "        # Create 4 separate encoder heads\n",
    "        self.encoders = Encoder()\n",
    "\n",
    "        # Define the up-sampling layers\n",
    "        # Adjust the number of input channels according to the concatenated encoder outputs\n",
    "        self.up9 = nn.Sequential(nn.ConvTranspose1d(4096, 2048, kernel_size=3, stride=2, padding=1, output_padding=1), nn.BatchNorm1d(2048), nn.PReLU())\n",
    "        self.up8 = nn.Sequential(nn.ConvTranspose1d(2048, 1024, kernel_size=5, stride=2, padding=2, output_padding=0), nn.BatchNorm1d(1024), nn.PReLU())\n",
    "        self.up7 = nn.Sequential(nn.ConvTranspose1d(1024, 512, kernel_size=7, stride=2, padding=3, output_padding=1), nn.BatchNorm1d(512), nn.PReLU())\n",
    "        self.up6 = nn.Sequential(nn.ConvTranspose1d(512, 256, kernel_size=9, stride=2, padding=4, output_padding=0), nn.BatchNorm1d(256), nn.PReLU())\n",
    "        self.up5 = nn.Sequential(nn.ConvTranspose1d(256, 128, kernel_size=11, stride=2, padding=5, output_padding=0), nn.BatchNorm1d(128), nn.PReLU())\n",
    "        self.up4 = nn.Sequential(nn.ConvTranspose1d(128, 64, kernel_size=13, stride=2, padding=6, output_padding=1), nn.BatchNorm1d(64), nn.PReLU())\n",
    "        self.up3 = nn.Sequential(nn.ConvTranspose1d(64, 32, kernel_size=15, stride=2, padding=7, output_padding=1), nn.BatchNorm1d(32), nn.PReLU())\n",
    "        self.up2 = nn.Sequential(nn.ConvTranspose1d(32, 16, kernel_size=19, stride=2, padding=9, output_padding=1), nn.BatchNorm1d(16), nn.PReLU())\n",
    "        self.up1 = nn.Sequential(nn.ConvTranspose1d(16, 16, kernel_size=25, stride=1, padding=12, output_padding=0), nn.BatchNorm1d(16), nn.PReLU())\n",
    "        \n",
    "         # Additional convolutions for processing concatenated skip connections\n",
    "        self.conv_skip_8 = nn.Sequential(nn.Conv1d(4096, 2048, kernel_size=1), nn.BatchNorm1d(2048), nn.PReLU())  # 1024 (from up3) + 512 (skip)\n",
    "        self.conv_skip_7 = nn.Sequential(nn.Conv1d(2048, 1024, kernel_size=1), nn.BatchNorm1d(1024), nn.PReLU())  # 1024 (from up3) + 512 (skip)\n",
    "        self.conv_skip_6 = nn.Sequential(nn.Conv1d(1024, 512, kernel_size=1), nn.BatchNorm1d(512), nn.PReLU())  # 1024 (from up3) + 512 (skip)\n",
    "        self.conv_skip_5 = nn.Sequential(nn.Conv1d(512, 256, kernel_size=1), nn.BatchNorm1d(256), nn.PReLU())  # 512 (from up3) + 256 (skip)\n",
    "        self.conv_skip_4 = nn.Sequential(nn.Conv1d(256, 128, kernel_size=1), nn.BatchNorm1d(128), nn.PReLU())  # 256 (from up3) + 128 (skip)\n",
    "        self.conv_skip_3 = nn.Sequential(nn.Conv1d(128, 64, kernel_size=1), nn.BatchNorm1d(64), nn.PReLU())  # 128 (from up3) + 64 (skip)\n",
    "        self.conv_skip_2 = nn.Sequential(nn.Conv1d(64, 32, kernel_size=1), nn.BatchNorm1d(32), nn.PReLU())  # 64 (from up3) + 32 (skip)\n",
    "        self.conv_skip_1 = nn.Sequential(nn.Conv1d(32, 16, kernel_size=1), nn.BatchNorm1d(16), nn.PReLU())  # 32 (from up2) + 16 (skip)\n",
    "\n",
    "        self.cbam_8_a = CBAMBlock(2048)\n",
    "        self.cbam_8_b = CBAMBlock(2048)\n",
    "\n",
    "        # Output layer\n",
    "        self.out = nn.Conv1d(16, 2, kernel_size=1)\n",
    "\n",
    "        self.loss_fn = auraloss.freq.MultiResolutionSTFTLoss(\n",
    "                fft_sizes=[1024, 2048, 4096],\n",
    "                hop_sizes=[256, 512, 1024],\n",
    "                win_lengths=[1024, 2048, 4096],\n",
    "                scale=\"mel\", \n",
    "                n_bins=160,\n",
    "                sample_rate=44100,\n",
    "                device=\"cuda\"\n",
    "            )\n",
    "\n",
    "        self.loss_fn_2 = auraloss.time.SISDRLoss()\n",
    "    \n",
    "        self.loss_fn_3 = torch.nn.L1Loss()\n",
    "\n",
    "\n",
    "    def forward(self, audio, drumroll):\n",
    "        skip_connections = []\n",
    "        encoded_output = []\n",
    "\n",
    "        audio_input = torch.cat([audio, drumroll], axis=1)\n",
    "        \n",
    "        outputs = self.encoders(audio_input)\n",
    "        encoded_output.append(outputs[-1])  # Use the last output for the main path\n",
    "        skip_connections.append(outputs[:-1])  # Collect earlier outputs for skip connections\n",
    "\n",
    "        # Combine the encoded representations with feature embeddings\n",
    "        combined = torch.cat([o for o in encoded_output], dim=1)\n",
    "\n",
    "        #9\n",
    "        u9 = self.up9(combined)\n",
    "\n",
    "        #8 attention\n",
    "        cb8_a = self.cbam_8_a(u9)\n",
    "        cb8_b = self.cbam_8_b(skip_connections[0][-1])\n",
    "\n",
    "        #8\n",
    "        skip_8 = torch.cat([cb8_a, cb8_b], dim=1)  \n",
    "        skip_8 = self.conv_skip_8(skip_8)  # Convolution to adjust channel size\n",
    "        u8 = self.up8(skip_8)\n",
    "\n",
    "        #7\n",
    "        skip_7 = torch.cat([u8, skip_connections[0][-2]], dim=1)  \n",
    "        skip_7 = self.conv_skip_7(skip_7)  # Convolution to adjust channel size\n",
    "        u7 = self.up7(skip_7)\n",
    "\n",
    "        #6\n",
    "        skip_6 = torch.cat([u7, skip_connections[0][-3]], dim=1)  \n",
    "        skip_6 = self.conv_skip_6(skip_6)  # Convolution to adjust channel size\n",
    "        u6 = self.up6(skip_6)\n",
    "\n",
    "        #5\n",
    "        skip_5 = torch.cat([u6, skip_connections[0][-4]], dim=1)  \n",
    "        skip_5 = self.conv_skip_5(skip_5)  # Convolution to adjust channel size\n",
    "        u5 = self.up5(skip_5)\n",
    "\n",
    "        #4\n",
    "        skip_4 = torch.cat([u5, skip_connections[0][-5]], dim=1)  \n",
    "        skip_4 = self.conv_skip_4(skip_4)  # Convolution to adjust channel size\n",
    "        u4 = self.up4(skip_4)\n",
    "\n",
    "        #3\n",
    "        skip_3 = torch.cat([u4, skip_connections[0][-6]], dim=1)  \n",
    "        skip_3 = self.conv_skip_3(skip_3)  # Convolution to adjust channel size\n",
    "        u3 = self.up3(skip_3)\n",
    "\n",
    "        #2\n",
    "        skip_2 = torch.cat([u3, skip_connections[0][-7]], dim=1)  \n",
    "        skip_2 = self.conv_skip_2(skip_2)  # Convolution to adjust channel size\n",
    "        u2 = self.up2(skip_2)\n",
    "\n",
    "        #1\n",
    "        skip_1 = torch.cat([u2, skip_connections[0][-8]], dim=1)  \n",
    "        skip_1 = self.conv_skip_1(skip_1)  # Convolution to adjust channel size\n",
    "        u1 = self.up1(skip_1)\n",
    "        \n",
    "        # Output\n",
    "        out = self.out(u1)\n",
    "        return out\n",
    "\n",
    "    def compute_loss(self, outputs, ref_signals):\n",
    "        loss = self.loss_fn(outputs, ref_signals) + self.loss_fn_2(outputs, ref_signals) +  self.loss_fn_3(outputs, ref_signals)\n",
    "        return loss\n",
    "\n",
    "    \n",
    "    def training_step(self, batch, batch_idx):\n",
    "        # training_step defines the train loop. It is independent of forward\n",
    "        audio, drum, drumroll = batch\n",
    "        \n",
    "        outputs = self.forward(audio, drumroll)\n",
    "        # print(outputs.size())\n",
    "\n",
    "        if batch_idx % 64 == 0:\n",
    "            input_signal = audio[0].cpu().detach().numpy().T\n",
    "            generated_signal = outputs[0].cpu().detach().numpy().T\n",
    "            drum_signal = drum[0].cpu().detach().numpy().T \n",
    "            wandb.log({'audio_input': [wandb.Audio(input_signal, caption=\"Input\", sample_rate=44100)]})\n",
    "            wandb.log({'audio_reference': [wandb.Audio(drum_signal, caption=\"Reference\", sample_rate=44100)]})\n",
    "            wandb.log({'audio_output': [wandb.Audio(generated_signal, caption=\"Output\", sample_rate=44100)]})\n",
    "             \n",
    "            for i in range(5):\n",
    "                wandb.log({f'drum_{i + 1}': [wandb.Audio(drumroll[0].cpu().detach().numpy()[i, :], caption=\"Output\", sample_rate=44100)]})\n",
    "\n",
    "\n",
    "        loss = self.compute_loss(outputs, drum)         \n",
    "\n",
    "        self.log('train_loss', loss, on_step=True, on_epoch=True, prog_bar=True, logger=True)\n",
    "        \n",
    "        return loss\n",
    "    \n",
    "\n",
    "    def configure_optimizers(self):\n",
    "        # Define your optimizer and optionally learning rate scheduler here\n",
    "        optimizer = optim.Adam(self.parameters(), lr=0.001)\n",
    "        scheduler = lr_scheduler.StepLR(optimizer, step_size=1, gamma=0.99)\n",
    "        return [optimizer], [scheduler]\n",
    "        "
   ]
  },
  {
   "cell_type": "markdown",
   "id": "288abb41-d05d-46b5-9046-68a2e1a44e12",
   "metadata": {},
   "source": [
    "## Lightning Callbacks"
   ]
  },
  {
   "cell_type": "code",
   "execution_count": 15,
   "id": "a1b4c478-fbb1-4fc0-9913-d0b9cfe99457",
   "metadata": {},
   "outputs": [],
   "source": [
    "class SaveModelEveryNSteps(pl.Callback):\n",
    "    def __init__(self, save_step_frequency=256,):\n",
    "        self.save_step_frequency = save_step_frequency\n",
    "        self.save_path = \"D://Github//phd-drum-sep//models//DrumWaveUNetAttention//\"\n",
    "        os.makedirs(self.save_path , exist_ok=True)\n",
    "\n",
    "    def on_train_batch_end(self, trainer, pl_module, outputs, batch, batch_idx):\n",
    "        if (trainer.global_step + 1) % self.save_step_frequency == 0:\n",
    "            checkpoint_path = os.path.join(self.save_path, f\"step_{trainer.global_step + 1}.ckpt\")\n",
    "            trainer.save_checkpoint(checkpoint_path)"
   ]
  },
  {
   "cell_type": "markdown",
   "id": "9ee77954-bf41-491a-b7bc-58e45391c21f",
   "metadata": {},
   "source": [
    "# Train Loop"
   ]
  },
  {
   "cell_type": "code",
   "execution_count": 16,
   "id": "5f1230be-8d20-47b1-ad76-bb306dd17a85",
   "metadata": {},
   "outputs": [],
   "source": [
    "model = WaveUNet()"
   ]
  },
  {
   "cell_type": "code",
   "execution_count": 17,
   "id": "4425a453-8bc8-4727-b262-633d18dd193d",
   "metadata": {},
   "outputs": [],
   "source": [
    "wandb_logger = WandbLogger(project='DrumWaveUNetAttention', log_model='all')"
   ]
  },
  {
   "cell_type": "code",
   "execution_count": 18,
   "id": "923baf49-1806-4355-9ece-601ef315ab62",
   "metadata": {},
   "outputs": [],
   "source": [
    "audio_data_module = AudioDataModule(all_scenes, batch_size=4, num_workers=0, persistent_workers=False)"
   ]
  },
  {
   "cell_type": "code",
   "execution_count": 19,
   "id": "807069e3-0e09-4aaa-a050-f3ebb64a42c1",
   "metadata": {},
   "outputs": [
    {
     "name": "stderr",
     "output_type": "stream",
     "text": [
      "GPU available: True (cuda), used: True\n",
      "TPU available: False, using: 0 TPU cores\n",
      "IPU available: False, using: 0 IPUs\n",
      "HPU available: False, using: 0 HPUs\n"
     ]
    }
   ],
   "source": [
    "trainer = pl.Trainer(\n",
    "    max_epochs=1000,\n",
    "    accelerator=\"gpu\", \n",
    "    devices=-1,\n",
    "    logger=wandb_logger,\n",
    "    callbacks=[SaveModelEveryNSteps()],\n",
    "    # accumulate_grad_batches=4,\n",
    "    gradient_clip_val=5,\n",
    ")"
   ]
  },
  {
   "cell_type": "code",
   "execution_count": null,
   "id": "d2842558-de38-4276-b174-7484c01f8069",
   "metadata": {},
   "outputs": [
    {
     "name": "stderr",
     "output_type": "stream",
     "text": [
      "\u001b[34m\u001b[1mwandb\u001b[0m: Currently logged in as: \u001b[33mhephyrius\u001b[0m. Use \u001b[1m`wandb login --relogin`\u001b[0m to force relogin\n"
     ]
    },
    {
     "data": {
      "text/html": [
       "wandb version 0.16.3 is available!  To upgrade, please run:\n",
       " $ pip install wandb --upgrade"
      ],
      "text/plain": [
       "<IPython.core.display.HTML object>"
      ]
     },
     "metadata": {},
     "output_type": "display_data"
    },
    {
     "data": {
      "text/html": [
       "Tracking run with wandb version 0.16.0"
      ],
      "text/plain": [
       "<IPython.core.display.HTML object>"
      ]
     },
     "metadata": {},
     "output_type": "display_data"
    },
    {
     "data": {
      "text/html": [
       "Run data is saved locally in <code>.\\wandb\\run-20240219_005025-tzoe19gi</code>"
      ],
      "text/plain": [
       "<IPython.core.display.HTML object>"
      ]
     },
     "metadata": {},
     "output_type": "display_data"
    },
    {
     "data": {
      "text/html": [
       "Syncing run <strong><a href='https://wandb.ai/hephyrius/DrumWaveUNetAttention/runs/tzoe19gi' target=\"_blank\">enchanting-tiger-6</a></strong> to <a href='https://wandb.ai/hephyrius/DrumWaveUNetAttention' target=\"_blank\">Weights & Biases</a> (<a href='https://wandb.me/run' target=\"_blank\">docs</a>)<br/>"
      ],
      "text/plain": [
       "<IPython.core.display.HTML object>"
      ]
     },
     "metadata": {},
     "output_type": "display_data"
    },
    {
     "data": {
      "text/html": [
       " View project at <a href='https://wandb.ai/hephyrius/DrumWaveUNetAttention' target=\"_blank\">https://wandb.ai/hephyrius/DrumWaveUNetAttention</a>"
      ],
      "text/plain": [
       "<IPython.core.display.HTML object>"
      ]
     },
     "metadata": {},
     "output_type": "display_data"
    },
    {
     "data": {
      "text/html": [
       " View run at <a href='https://wandb.ai/hephyrius/DrumWaveUNetAttention/runs/tzoe19gi' target=\"_blank\">https://wandb.ai/hephyrius/DrumWaveUNetAttention/runs/tzoe19gi</a>"
      ],
      "text/plain": [
       "<IPython.core.display.HTML object>"
      ]
     },
     "metadata": {},
     "output_type": "display_data"
    },
    {
     "name": "stderr",
     "output_type": "stream",
     "text": [
      "LOCAL_RANK: 0 - CUDA_VISIBLE_DEVICES: [0]\n",
      "\n",
      "   | Name        | Type                    | Params\n",
      "---------------------------------------------------------\n",
      "0  | encoders    | Encoder                 | 41.0 M\n",
      "1  | up9         | Sequential              | 25.2 M\n",
      "2  | up8         | Sequential              | 10.5 M\n",
      "3  | up7         | Sequential              | 3.7 M \n",
      "4  | up6         | Sequential              | 1.2 M \n",
      "5  | up5         | Sequential              | 360 K \n",
      "6  | up4         | Sequential              | 106 K \n",
      "7  | up3         | Sequential              | 30.8 K\n",
      "8  | up2         | Sequential              | 9.8 K \n",
      "9  | up1         | Sequential              | 6.4 K \n",
      "10 | conv_skip_8 | Sequential              | 8.4 M \n",
      "11 | conv_skip_7 | Sequential              | 2.1 M \n",
      "12 | conv_skip_6 | Sequential              | 525 K \n",
      "13 | conv_skip_5 | Sequential              | 131 K \n",
      "14 | conv_skip_4 | Sequential              | 33.2 K\n",
      "15 | conv_skip_3 | Sequential              | 8.4 K \n",
      "16 | conv_skip_2 | Sequential              | 2.1 K \n",
      "17 | conv_skip_1 | Sequential              | 561   \n",
      "18 | cbam_8_a    | CBAMBlock               | 524 K \n",
      "19 | cbam_8_b    | CBAMBlock               | 524 K \n",
      "20 | out         | Conv1d                  | 34    \n",
      "21 | loss_fn     | MultiResolutionSTFTLoss | 0     \n",
      "22 | loss_fn_2   | SISDRLoss               | 0     \n",
      "23 | loss_fn_3   | L1Loss                  | 0     \n",
      "---------------------------------------------------------\n",
      "94.3 M    Trainable params\n",
      "0         Non-trainable params\n",
      "94.3 M    Total params\n",
      "377.235   Total estimated model params size (MB)\n",
      "C:\\Python311\\Lib\\site-packages\\pytorch_lightning\\trainer\\connectors\\data_connector.py:441: The 'train_dataloader' does not have many workers which may be a bottleneck. Consider increasing the value of the `num_workers` argument` to `num_workers=15` in the `DataLoader` to improve performance.\n"
     ]
    },
    {
     "data": {
      "application/vnd.jupyter.widget-view+json": {
       "model_id": "013e221a594d4836b9fa41637ece538e",
       "version_major": 2,
       "version_minor": 0
      },
      "text/plain": [
       "Training: |                                                                                      | 0/? [00:00<…"
      ]
     },
     "metadata": {},
     "output_type": "display_data"
    }
   ],
   "source": [
    "trainer.fit(model, audio_data_module)"
   ]
  },
  {
   "cell_type": "code",
   "execution_count": null,
   "id": "08be66c1-ae4c-4620-94d5-00604306b9b7",
   "metadata": {},
   "outputs": [],
   "source": []
  }
 ],
 "metadata": {
  "kernelspec": {
   "display_name": "Python 3 (ipykernel)",
   "language": "python",
   "name": "python3"
  },
  "language_info": {
   "codemirror_mode": {
    "name": "ipython",
    "version": 3
   },
   "file_extension": ".py",
   "mimetype": "text/x-python",
   "name": "python",
   "nbconvert_exporter": "python",
   "pygments_lexer": "ipython3",
   "version": "3.11.4"
  }
 },
 "nbformat": 4,
 "nbformat_minor": 5
}
