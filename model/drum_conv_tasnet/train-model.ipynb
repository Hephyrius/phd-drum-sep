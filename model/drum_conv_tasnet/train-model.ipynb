{
 "cells": [
  {
   "cell_type": "markdown",
   "id": "20b2a3bb-3d01-4f42-bc37-dff46522af7f",
   "metadata": {},
   "source": [
    "# Imports"
   ]
  },
  {
   "cell_type": "code",
   "execution_count": 1,
   "id": "71d686e6-8847-4861-88f0-58141c363862",
   "metadata": {},
   "outputs": [
    {
     "name": "stdout",
     "output_type": "stream",
     "text": [
      "True\n"
     ]
    }
   ],
   "source": [
    "import os\n",
    "import pywt\n",
    "import torch\n",
    "import torch.nn as nn\n",
    "import torch.nn.functional as F\n",
    "import torchaudio\n",
    "import pytorch_lightning as pl\n",
    "from torch.utils.data import DataLoader, Dataset\n",
    "from torchaudio.pipelines import HDEMUCS_HIGH_MUSDB\n",
    "from torchaudio.models import conv_tasnet_base, ConvTasNet\n",
    "import torch.optim as optim\n",
    "from torch.utils.data import Dataset, DataLoader\n",
    "import torchaudio\n",
    "import numpy as np\n",
    "import random\n",
    "from pytorch_lightning.loggers import WandbLogger\n",
    "import wandb\n",
    "import auraloss\n",
    "import collections\n",
    "from tqdm import tqdm\n",
    "import pretty_midi\n",
    "import matplotlib.pyplot as plt\n",
    "from torchaudio.pipelines import HDEMUCS_HIGH_MUSDB, CONVTASNET_BASE_LIBRI2MIX\n",
    "print(torch.cuda.is_available())\n",
    "import plotly.graph_objects as go\n",
    "from torch.optim import lr_scheduler\n"
   ]
  },
  {
   "cell_type": "markdown",
   "id": "e1c82506-04c8-4200-9e63-26857aa176bd",
   "metadata": {},
   "source": [
    "# Set Seeds"
   ]
  },
  {
   "cell_type": "code",
   "execution_count": 2,
   "id": "db3acd3b-d177-44d3-a3f4-35140f45e48a",
   "metadata": {},
   "outputs": [],
   "source": [
    "seed_value = 3407\n",
    "torch.manual_seed(seed_value)\n",
    "random.seed(seed_value)\n",
    "np.random.seed(seed_value)\n",
    "torch.cuda.manual_seed(seed_value)\n",
    "torch.cuda.manual_seed_all(seed_value)\n",
    "torch.set_float32_matmul_precision('high')"
   ]
  },
  {
   "cell_type": "markdown",
   "id": "6182916a-aec1-4c05-8a08-4d2e44dfd979",
   "metadata": {},
   "source": [
    "# Construct Teh Datas"
   ]
  },
  {
   "cell_type": "code",
   "execution_count": 3,
   "id": "dbe5ef07-9ab9-4e3e-9334-048f67ae25e4",
   "metadata": {},
   "outputs": [],
   "source": [
    "path = \"D:/Github/phd-drum-sep/Data/musdb18hq/\""
   ]
  },
  {
   "cell_type": "code",
   "execution_count": 4,
   "id": "e101d3bb-e001-42ff-90cc-42384739d506",
   "metadata": {},
   "outputs": [
    {
     "data": {
      "text/plain": [
       "['test', 'train']"
      ]
     },
     "execution_count": 4,
     "metadata": {},
     "output_type": "execute_result"
    }
   ],
   "source": [
    "os.listdir(path)"
   ]
  },
  {
   "cell_type": "code",
   "execution_count": 5,
   "id": "c52ab99f-41d2-4b7f-a179-90681a8a0a81",
   "metadata": {},
   "outputs": [],
   "source": [
    "train = list(os.listdir(path+'train'))\n",
    "test = list(os.listdir(path+'test'))"
   ]
  },
  {
   "cell_type": "code",
   "execution_count": 6,
   "id": "21aa39ee-b25f-4bdc-950a-9389eb93765a",
   "metadata": {},
   "outputs": [],
   "source": [
    "sources = ['drum', 'bass', 'other', 'vocals']"
   ]
  },
  {
   "cell_type": "code",
   "execution_count": 7,
   "id": "f07f7f9c-2d6b-42b9-b5ac-0f4bd9aeb6a7",
   "metadata": {},
   "outputs": [
    {
     "name": "stderr",
     "output_type": "stream",
     "text": [
      "100it [00:00, 4639.41it/s]\n"
     ]
    }
   ],
   "source": [
    "all_scenes = {}\n",
    "counter = 0\n",
    "for idx, val in tqdm(enumerate(train)):\n",
    "    p = path + 'train/' + val + \"/\"\n",
    "    info = torchaudio.info(f\"{p}mixture.wav\")\n",
    "    seconds = info.num_frames // 44100\n",
    "    for i in range(0, seconds - 1, 1):\n",
    "        start_point = i * 44100\n",
    "        if start_point + 44100 < info.num_frames:\n",
    "            all_scenes[counter] = {'music_path': p, 'start_point': start_point, 'length': 44100, 'frames' : info.num_frames}\n",
    "            counter += 1"
   ]
  },
  {
   "cell_type": "code",
   "execution_count": 8,
   "id": "d6d4eb9a-f08d-4452-a4ad-b9769a218278",
   "metadata": {},
   "outputs": [],
   "source": [
    "def turn_transcription_into_roll(transcription, frames):\n",
    "    # Determine your sampling frequency (frames per second)\n",
    "    fs = 44100\n",
    "    \n",
    "    piano_roll_length = int(frames)\n",
    "    \n",
    "    # Initialize the piano roll array\n",
    "    piano_roll = np.zeros((64, piano_roll_length))\n",
    "    \n",
    "    # Fill in the piano roll array\n",
    "    for note in transcription.instruments[0].notes:\n",
    "        # Convert start and end times to frame indices\n",
    "        start_frame = int(np.floor(note.start * fs))\n",
    "        end_frame = int(np.ceil(note.end * fs))\n",
    "        \n",
    "        # Set the corresponding frames to 1 (or note.velocity for a velocity-sensitive representation)\n",
    "        piano_roll[note.pitch, start_frame:end_frame] = 1  # Or use note.velocity\n",
    "        \n",
    "    roll = np.vstack([piano_roll[35:36, :], piano_roll[38:39, :], piano_roll[42:43, :], piano_roll[47:48, :], piano_roll[49:50, :]])\n",
    "    return roll"
   ]
  },
  {
   "cell_type": "markdown",
   "id": "20988d30-a95e-4dca-ac19-a6f7cea95717",
   "metadata": {},
   "source": [
    "# Data Loaders"
   ]
  },
  {
   "cell_type": "code",
   "execution_count": 9,
   "id": "79d11190-4e68-41f8-ae19-36d8199c1643",
   "metadata": {},
   "outputs": [],
   "source": [
    "class AudioDataGenerator(Dataset):\n",
    "    def __init__(self, data, sample_rate=HDEMUCS_HIGH_MUSDB.sample_rate, segment_length = 1):\n",
    "        self.data = data\n",
    "        self.sample_rate = sample_rate\n",
    "        self.segment_length = sample_rate * segment_length\n",
    "\n",
    "    def __len__(self):\n",
    "        return len(self.data)\n",
    "    \n",
    "    def load_audio(self, path, start_point, filename):\n",
    "        audio_tensors = []\n",
    "        file = filename\n",
    "        segment, _ = torchaudio.load(f\"{path}/{file}\", frame_offset=start_point, num_frames=self.segment_length)\n",
    "        audio_tensors.append(segment)\n",
    "        return torch.cat(audio_tensors, dim=0)\n",
    "\n",
    "    def load_roll(self, path, start_point, frames):\n",
    "        midi = path + '/mixture.wav.mid'\n",
    "        transcription = pretty_midi.PrettyMIDI(midi)\n",
    "        roll = turn_transcription_into_roll(transcription, frames)\n",
    "        # print(roll.shape)\n",
    "        roll = roll[:, start_point: start_point + self.segment_length]\n",
    "        return torch.from_numpy(roll).float()\n",
    "\n",
    "    def __getitem__(self, idx):\n",
    "\n",
    "        if torch.is_tensor(idx):\n",
    "            idx = idx.tolist()\n",
    "\n",
    "        sample = self.data[idx]\n",
    "\n",
    "        # Load audio as a tensor\n",
    "        audio_path = sample['music_path']\n",
    "\n",
    "        start_point = sample['start_point']\n",
    "\n",
    "        mixture_tensor = self.load_audio(audio_path, start_point,'mixture.wav')\n",
    "        drum_tensor = self.load_audio(audio_path, start_point,'drums.wav')\n",
    "        roll_tensor = self.load_roll(audio_path, start_point, sample['frames'])\n",
    "        return mixture_tensor, drum_tensor, roll_tensor"
   ]
  },
  {
   "cell_type": "markdown",
   "id": "9b2a74ca-f7f7-4c32-a229-8d43faf5e43f",
   "metadata": {},
   "source": [
    "## Lightning Data Module"
   ]
  },
  {
   "cell_type": "code",
   "execution_count": 10,
   "id": "7a521574-8b4f-4f85-88be-f97920050fbf",
   "metadata": {},
   "outputs": [],
   "source": [
    "class AudioDataModule(pl.LightningDataModule):\n",
    "    def __init__(self, data, batch_size=32, num_workers=0, persistent_workers=False, shuffle=False):\n",
    "        super().__init__()\n",
    "        self.data = data\n",
    "        self.batch_size = batch_size\n",
    "        self.num_workers = num_workers\n",
    "        self.persistent_workers=persistent_workers\n",
    "        self.shuffle = shuffle\n",
    "\n",
    "    def setup(self, stage=None):\n",
    "        # Split your data here if necessary, e.g., into train, validation, test\n",
    "        self.dataset = AudioDataGenerator(self.data)\n",
    "\n",
    "    def train_dataloader(self):\n",
    "        return DataLoader(self.dataset, batch_size=self.batch_size, shuffle=self.shuffle, num_workers = self.num_workers, persistent_workers=self.persistent_workers)\n",
    "\n",
    "    # Implement val_dataloader() and test_dataloader() if you have validation and test data"
   ]
  },
  {
   "cell_type": "markdown",
   "id": "f8c90603-3461-41ad-8707-28630df0c7ed",
   "metadata": {},
   "source": [
    "# making the model"
   ]
  },
  {
   "cell_type": "code",
   "execution_count": 11,
   "id": "57765a18-4699-489e-b592-ec5ca09cd55d",
   "metadata": {},
   "outputs": [],
   "source": [
    "\n",
    "class Decoder(torch.nn.Module):\n",
    "    def __init__(self, channels = 2, length = 40, basis_signals = 500):\n",
    "        super().__init__()\n",
    "        self.channels = channels\n",
    "        self.basis_signals = basis_signals\n",
    "        self.length = length\n",
    "        self.inverse = torch.nn.Linear(self.basis_signals, self.length, bias=False)\n",
    "\n",
    "    def forward(self, masks, weight_mixture, norm):\n",
    "        out = weight_mixture.unsqueeze(2) * masks\n",
    "\n",
    "        out = self.inverse(out)\n",
    "        norm = norm.unsqueeze(2)\n",
    "        out = out * norm\n",
    "        \n",
    "        return out\n",
    "        \n",
    "class Encoder(torch.nn.Module):\n",
    "    def __init__(self, length=40, basis_signals=500, eps=1e-8):\n",
    "        super().__init__()\n",
    "\n",
    "        self.length = length\n",
    "        self.basis_signals = basis_signals\n",
    "        self.eps = eps\n",
    "\n",
    "        self.u = torch.nn.Conv1d(length, basis_signals, kernel_size=1, bias=False)\n",
    "        self.v = torch.nn.Conv1d(length, basis_signals, kernel_size=1, bias=False)\n",
    "        self.relu = torch.nn.ReLU()\n",
    "\n",
    "\n",
    "    def forward(self, x):\n",
    "\n",
    "        B, K, L = x.size()\n",
    "\n",
    "        norm = torch.norm(x, p=2, dim=2, keepdim=True)  # B x K x 1\n",
    "        normalised_x = x / (norm + self.eps) # B x K\n",
    "\n",
    "        # print(normalised_x.shape)\n",
    "        normalised_x = normalised_x.view(B, L, -1)\n",
    "        # print(normalised_x.shape)\n",
    "\n",
    "\n",
    "        ux = self.u(normalised_x)\n",
    "        ux = self.relu(ux)\n",
    "\n",
    "\n",
    "        vx = self.v(normalised_x)\n",
    "        vx = torch.sigmoid(vx)\n",
    "\n",
    "        w = torch.mul(ux, vx)\n",
    "\n",
    "        w = w.view(B, K, self.basis_signals)\n",
    "\n",
    "        return w, norm\n",
    "\n",
    "\n",
    "class DepthConvLayer(torch.nn.Module):\n",
    "\n",
    "    def __init__(self, input_channels, hidden_channels, conv_kernel_size, padding, dilation=1):\n",
    "        super().__init__()\n",
    "\n",
    "        self.conv_kernel_size = conv_kernel_size\n",
    "        self.padding = padding\n",
    "        self.input_channels = input_channels\n",
    "        self.hidden_channels = hidden_channels\n",
    "        \n",
    "        self.prelu = torch.nn.PReLU()\n",
    "        self.group_norm = torch.nn.GroupNorm(1, self.hidden_channels, eps=1e-08)\n",
    "        \n",
    "        self.conv = torch.nn.Conv1d(input_channels, self.hidden_channels, 1)\n",
    "        \n",
    "        self.dilated_conv = torch.nn.Conv1d(self.hidden_channels, self.hidden_channels, \n",
    "                                            self.conv_kernel_size, dilation=dilation, \n",
    "                                            groups=self.hidden_channels, padding=self.padding)\n",
    "        \n",
    "        self.residual_output = torch.nn.Conv1d(self.hidden_channels, self.input_channels, 1)\n",
    "        \n",
    "        self.skip_output = torch.nn.Conv1d(self.hidden_channels, self.input_channels, 1)\n",
    "\n",
    "    def forward(self, x):\n",
    "        \n",
    "        output = self.group_norm(self.prelu(self.conv(x)))\n",
    "        \n",
    "        output = self.group_norm(self.prelu(self.dilated_conv(output)))\n",
    "        \n",
    "        residual = self.residual_output(output)\n",
    "        \n",
    "        skip = self.skip_output(output)\n",
    "        \n",
    "        return residual, skip\n",
    "\n",
    "class Seperator(torch.nn.Module):\n",
    "    def __init__(self, input_dim, output_dim, bottleneck_conv_size=128, skip_conv_size = 512,\n",
    "                 layers_per_block=8, number_blocks=3, conv_kernel_size=3):\n",
    "        super().__init__()\n",
    "\n",
    "        self.layers_per_block = layers_per_block\n",
    "        self.number_blocks = number_blocks\n",
    "        \n",
    "        # normalization\n",
    "        self.first_conv = torch.nn.Conv1d(input_dim, bottleneck_conv_size, 1)\n",
    "        \n",
    "        self.dilation_factors = []\n",
    "        self.padding = []\n",
    "        \n",
    "        # TCN for feature extraction\n",
    "        self.TCN = torch.nn.ModuleList([])\n",
    "        for s in range(self.number_blocks):\n",
    "            for l in range(self.layers_per_block):\n",
    "                \n",
    "                dilation_padding_factor = 2 ** l\n",
    "                \n",
    "                self.dilation_factors.append(dilation_padding_factor)\n",
    "                self.padding.append(dilation_padding_factor)\n",
    "                \n",
    "                self.TCN.append(DepthConvLayer(bottleneck_conv_size, skip_conv_size, conv_kernel_size=conv_kernel_size, \n",
    "                                            dilation=dilation_padding_factor, padding=dilation_padding_factor))\n",
    "                \n",
    "        self.output = torch.nn.Sequential(torch.nn.PReLU(), torch.nn.Conv1d(bottleneck_conv_size, output_dim, 1) )\n",
    "        self.softmax = torch.nn.Softmax(dim=2)\n",
    "    \n",
    "    def forward(self, x):\n",
    "        \n",
    "        B, K, L = x.size()\n",
    "        \n",
    "        output = x.permute(0,2,1)\n",
    "        output = torch.nn.LayerNorm(output.shape, elementwise_affine=False, eps=1e-8)(output)\n",
    "        output = self.first_conv(output)\n",
    "        \n",
    "        skip_connection = 0.\n",
    "        \n",
    "        for idx, layer in enumerate(self.TCN):\n",
    "            residual, skip = layer(output)\n",
    "            output = output + residual\n",
    "            skip_connection = skip_connection + skip\n",
    "            \n",
    "        output = self.output(skip_connection)\n",
    "        \n",
    "        output = output.permute(0, 2, 1).view(B, K, 2, L)\n",
    "        output = self.softmax(output)\n",
    "        return output \n"
   ]
  },
  {
   "cell_type": "code",
   "execution_count": 12,
   "id": "d98efec8-b060-49fa-bb15-d8545eb34e9f",
   "metadata": {},
   "outputs": [],
   "source": [
    "\n",
    "class DrumConvTasNet(pl.core.LightningModule):\n",
    "    def __init__(self, \n",
    "                length=44100, \n",
    "                basis_signals=1000,\n",
    "                num_sources=2,\n",
    "                **kwargs):\n",
    "        super().__init__()\n",
    "        self.save_hyperparameters()\n",
    "\n",
    "        # loss function\n",
    "        self.loss_fn = auraloss.freq.MultiResolutionSTFTLoss(\n",
    "                    fft_sizes=[1024, 2048, 4096],\n",
    "                    hop_sizes=[256, 512, 1024],\n",
    "                    win_lengths=[1024, 2048, 4096],\n",
    "                    scale=\"mel\", \n",
    "                    n_bins=150,\n",
    "                    sample_rate=44100,\n",
    "                    device=\"cuda\"\n",
    "                )\n",
    "\n",
    "        self.loss_fn_2 = auraloss.time.SISDRLoss()\n",
    "\n",
    "        self.loss_fn_3 = torch.nn.L1Loss()\n",
    "\n",
    "        self.loss_used = 0\n",
    "\n",
    "        # this is where we construct the model components\n",
    "        self.encoder = Encoder(length=length, \n",
    "                               basis_signals=basis_signals)\n",
    "        self.seperation = Seperator(basis_signals, basis_signals*num_sources)\n",
    "        self.decoder = Decoder(length=length, \n",
    "                               basis_signals=basis_signals)\n",
    "\n",
    "        self.out_conv = nn.Conv1d(in_channels=7, out_channels=2, kernel_size=1)\n",
    "        self.out = nn.Conv1d(in_channels=2, out_channels=2, kernel_size=1)  \n",
    "\n",
    "\n",
    "    def compute_loss(self, outputs, ref_signals):\n",
    "        loss = self.loss_fn(outputs, ref_signals) + self.loss_fn_2(outputs, ref_signals) +  self.loss_fn_3(outputs, ref_signals)\n",
    "        return loss\n",
    "\n",
    "    def forward(self, audio, drumroll):\n",
    "        #input = x.permute(0, 2, 1)\n",
    "        to_mix = torch.cat([audio, drumroll], axis=1)\n",
    "        out, norm = self.encoder(to_mix)\n",
    "        masks = self.seperation(out)\n",
    "        outputs = self.decoder(masks, out, norm)\n",
    "        shape = outputs.shape\n",
    "        outputs = outputs.view(shape[0], shape[2], shape[1], shape[3])\n",
    "        # print(outputs.size())\n",
    "        \n",
    "\n",
    "        out_2 = self.out_conv(outputs[:, 0, :, :])\n",
    "        out_2 = self.out(out_2)\n",
    "        \n",
    "        return out_2\n",
    "\n",
    "    \n",
    "    def training_step(self, batch, batch_idx):\n",
    "        # training_step defines the train loop. It is independent of forward\n",
    "        audio, drum, drumroll = batch\n",
    "        \n",
    "        outputs = self.forward(audio, drumroll)\n",
    "        # print(outputs.size())\n",
    "        # print(audio.size())\n",
    "\n",
    "        if batch_idx % 64 == 0:\n",
    "            input_signal = audio[0].cpu().detach().numpy().T\n",
    "            generated_signal = outputs[0].cpu().detach().numpy().T\n",
    "            drum_signal = drum[0].cpu().detach().numpy().T \n",
    "            wandb.log({'audio_input': [wandb.Audio(input_signal, caption=\"Input\", sample_rate=44100)]})\n",
    "            wandb.log({'audio_reference': [wandb.Audio(drum_signal, caption=\"Reference\", sample_rate=44100)]})\n",
    "            wandb.log({'audio_output': [wandb.Audio(generated_signal, caption=\"Output\", sample_rate=44100)]})\n",
    "             \n",
    "            for i in range(5):\n",
    "                wandb.log({f'drum_{i + 1}': [wandb.Audio(drumroll[0].cpu().detach().numpy()[i, :], caption=\"Output\", sample_rate=44100)]})\n",
    "\n",
    "\n",
    "        loss = self.compute_loss(outputs, drum)         \n",
    "\n",
    "        self.log('train_loss', loss, on_step=True, on_epoch=True, prog_bar=True, logger=True)\n",
    "        \n",
    "        return loss\n",
    "    \n",
    "\n",
    "    def configure_optimizers(self):\n",
    "        # Define your optimizer and optionally learning rate scheduler here\n",
    "        optimizer = optim.Adam(self.parameters(), lr=0.001)\n",
    "        scheduler = lr_scheduler.StepLR(optimizer, step_size=1, gamma=0.99)\n",
    "        return [optimizer], [scheduler]\n",
    "        "
   ]
  },
  {
   "cell_type": "markdown",
   "id": "288abb41-d05d-46b5-9046-68a2e1a44e12",
   "metadata": {},
   "source": [
    "## Lightning Callbacks"
   ]
  },
  {
   "cell_type": "code",
   "execution_count": 13,
   "id": "a1b4c478-fbb1-4fc0-9913-d0b9cfe99457",
   "metadata": {},
   "outputs": [],
   "source": [
    "class SaveModelEveryNSteps(pl.Callback):\n",
    "    def __init__(self, save_step_frequency=256,):\n",
    "        self.save_step_frequency = save_step_frequency\n",
    "        self.save_path = \"D://Github//phd-drum-sep//models//DrumConvTasNet//\"\n",
    "        os.makedirs(self.save_path , exist_ok=True)\n",
    "\n",
    "    def on_train_batch_end(self, trainer, pl_module, outputs, batch, batch_idx):\n",
    "        if (trainer.global_step + 1) % self.save_step_frequency == 0:\n",
    "            checkpoint_path = os.path.join(self.save_path, f\"step_{trainer.global_step + 1}.ckpt\")\n",
    "            trainer.save_checkpoint(checkpoint_path)"
   ]
  },
  {
   "cell_type": "markdown",
   "id": "9ee77954-bf41-491a-b7bc-58e45391c21f",
   "metadata": {},
   "source": [
    "# Train Loop"
   ]
  },
  {
   "cell_type": "code",
   "execution_count": 14,
   "id": "5f1230be-8d20-47b1-ad76-bb306dd17a85",
   "metadata": {},
   "outputs": [],
   "source": [
    "model = DrumConvTasNet()"
   ]
  },
  {
   "cell_type": "code",
   "execution_count": 15,
   "id": "4425a453-8bc8-4727-b262-633d18dd193d",
   "metadata": {},
   "outputs": [],
   "source": [
    "wandb_logger = WandbLogger(project='DrumConvTasNet', log_model='all')"
   ]
  },
  {
   "cell_type": "code",
   "execution_count": 16,
   "id": "923baf49-1806-4355-9ece-601ef315ab62",
   "metadata": {},
   "outputs": [],
   "source": [
    "audio_data_module = AudioDataModule(all_scenes, batch_size=16, num_workers=0, persistent_workers=False)"
   ]
  },
  {
   "cell_type": "code",
   "execution_count": 17,
   "id": "807069e3-0e09-4aaa-a050-f3ebb64a42c1",
   "metadata": {},
   "outputs": [
    {
     "name": "stderr",
     "output_type": "stream",
     "text": [
      "GPU available: True (cuda), used: True\n",
      "TPU available: False, using: 0 TPU cores\n",
      "IPU available: False, using: 0 IPUs\n",
      "HPU available: False, using: 0 HPUs\n"
     ]
    }
   ],
   "source": [
    "trainer = pl.Trainer(\n",
    "    max_epochs=1000,\n",
    "    accelerator=\"gpu\", \n",
    "    devices=-1,\n",
    "    logger=wandb_logger,\n",
    "    callbacks=[SaveModelEveryNSteps()],\n",
    "    # accumulate_grad_batches=2,\n",
    "    gradient_clip_val=5,\n",
    ")"
   ]
  },
  {
   "cell_type": "code",
   "execution_count": null,
   "id": "d2842558-de38-4276-b174-7484c01f8069",
   "metadata": {},
   "outputs": [
    {
     "name": "stderr",
     "output_type": "stream",
     "text": [
      "\u001b[34m\u001b[1mwandb\u001b[0m: Currently logged in as: \u001b[33mhephyrius\u001b[0m. Use \u001b[1m`wandb login --relogin`\u001b[0m to force relogin\n"
     ]
    },
    {
     "data": {
      "text/html": [
       "wandb version 0.16.3 is available!  To upgrade, please run:\n",
       " $ pip install wandb --upgrade"
      ],
      "text/plain": [
       "<IPython.core.display.HTML object>"
      ]
     },
     "metadata": {},
     "output_type": "display_data"
    },
    {
     "data": {
      "text/html": [
       "Tracking run with wandb version 0.16.0"
      ],
      "text/plain": [
       "<IPython.core.display.HTML object>"
      ]
     },
     "metadata": {},
     "output_type": "display_data"
    },
    {
     "data": {
      "text/html": [
       "Run data is saved locally in <code>.\\wandb\\run-20240218_123442-bq8t0eq7</code>"
      ],
      "text/plain": [
       "<IPython.core.display.HTML object>"
      ]
     },
     "metadata": {},
     "output_type": "display_data"
    },
    {
     "data": {
      "text/html": [
       "Syncing run <strong><a href='https://wandb.ai/hephyrius/DrumConvTasNet/runs/bq8t0eq7' target=\"_blank\">incandescent-pig-19</a></strong> to <a href='https://wandb.ai/hephyrius/DrumConvTasNet' target=\"_blank\">Weights & Biases</a> (<a href='https://wandb.me/run' target=\"_blank\">docs</a>)<br/>"
      ],
      "text/plain": [
       "<IPython.core.display.HTML object>"
      ]
     },
     "metadata": {},
     "output_type": "display_data"
    },
    {
     "data": {
      "text/html": [
       " View project at <a href='https://wandb.ai/hephyrius/DrumConvTasNet' target=\"_blank\">https://wandb.ai/hephyrius/DrumConvTasNet</a>"
      ],
      "text/plain": [
       "<IPython.core.display.HTML object>"
      ]
     },
     "metadata": {},
     "output_type": "display_data"
    },
    {
     "data": {
      "text/html": [
       " View run at <a href='https://wandb.ai/hephyrius/DrumConvTasNet/runs/bq8t0eq7' target=\"_blank\">https://wandb.ai/hephyrius/DrumConvTasNet/runs/bq8t0eq7</a>"
      ],
      "text/plain": [
       "<IPython.core.display.HTML object>"
      ]
     },
     "metadata": {},
     "output_type": "display_data"
    },
    {
     "name": "stderr",
     "output_type": "stream",
     "text": [
      "LOCAL_RANK: 0 - CUDA_VISIBLE_DEVICES: [0]\n",
      "\n",
      "  | Name       | Type                    | Params\n",
      "-------------------------------------------------------\n",
      "0 | loss_fn    | MultiResolutionSTFTLoss | 0     \n",
      "1 | loss_fn_2  | SISDRLoss               | 0     \n",
      "2 | loss_fn_3  | L1Loss                  | 0     \n",
      "3 | encoder    | Encoder                 | 88.2 M\n",
      "4 | seperation | Seperator               | 5.2 M \n",
      "5 | decoder    | Decoder                 | 44.1 M\n",
      "6 | out_conv   | Conv1d                  | 16    \n",
      "7 | out        | Conv1d                  | 6     \n",
      "-------------------------------------------------------\n",
      "137 M     Trainable params\n",
      "0         Non-trainable params\n",
      "137 M     Total params\n",
      "549.988   Total estimated model params size (MB)\n",
      "C:\\Python311\\Lib\\site-packages\\pytorch_lightning\\trainer\\connectors\\data_connector.py:441: The 'train_dataloader' does not have many workers which may be a bottleneck. Consider increasing the value of the `num_workers` argument` to `num_workers=15` in the `DataLoader` to improve performance.\n"
     ]
    },
    {
     "data": {
      "application/vnd.jupyter.widget-view+json": {
       "model_id": "0ff53b2d1f1449fcb8b908fe185c6499",
       "version_major": 2,
       "version_minor": 0
      },
      "text/plain": [
       "Training: |                                                                                      | 0/? [00:00<…"
      ]
     },
     "metadata": {},
     "output_type": "display_data"
    },
    {
     "name": "stdout",
     "output_type": "stream",
     "text": [
      "torch.Size([32, 2, 7, 44100])\n",
      "torch.Size([32, 2, 7, 44100])\n"
     ]
    }
   ],
   "source": [
    "trainer.fit(model, audio_data_module)"
   ]
  },
  {
   "cell_type": "code",
   "execution_count": null,
   "id": "08be66c1-ae4c-4620-94d5-00604306b9b7",
   "metadata": {},
   "outputs": [],
   "source": []
  },
  {
   "cell_type": "code",
   "execution_count": null,
   "id": "2d35cf6a-3ab4-4e8e-a6fb-772d891300ed",
   "metadata": {},
   "outputs": [],
   "source": []
  }
 ],
 "metadata": {
  "kernelspec": {
   "display_name": "Python 3 (ipykernel)",
   "language": "python",
   "name": "python3"
  },
  "language_info": {
   "codemirror_mode": {
    "name": "ipython",
    "version": 3
   },
   "file_extension": ".py",
   "mimetype": "text/x-python",
   "name": "python",
   "nbconvert_exporter": "python",
   "pygments_lexer": "ipython3",
   "version": "3.11.4"
  }
 },
 "nbformat": 4,
 "nbformat_minor": 5
}
