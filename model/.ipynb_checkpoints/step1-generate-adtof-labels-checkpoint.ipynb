{
 "cells": [
  {
   "cell_type": "code",
   "execution_count": null,
   "metadata": {},
   "outputs": [],
   "source": [
    "\"\"\"Import the model\"\"\"\n",
    "from adtof.model.model import Model\n",
    "\n",
    "model, hparams = Model.modelFactory(modelName=\"Frame_RNN\", scenario=\"adtofAll\", fold=0)\n",
    "assert \"peakThreshold\" in hparams\n",
    "assert model.weightLoadedFlag\n",
    "from tqdm import tqdm"
   ]
  },
  {
   "cell_type": "code",
   "execution_count": null,
   "metadata": {},
   "outputs": [],
   "source": [
    "import os\n",
    "\n",
    "for v in ['train', 'test']:\n",
    "    folders = os.listdir(f'../../data/musdb18/{v}')\n",
    "    path = [f'../../data/musdb18hq/{v}/{f}/' for f in folders]\n",
    "    tracks = [f'{p}mixture.wav' for p in path]\n",
    "    \n",
    "    for idx, value in tqdm(enumerate(tracks)):\n",
    "        model.predictFolder(tracks[idx], path[idx], **hparams)"
   ]
  },
  {
   "cell_type": "code",
   "execution_count": null,
   "metadata": {},
   "outputs": [],
   "source": []
  }
 ],
 "metadata": {
  "kernelspec": {
   "display_name": "Python 3 (ipykernel)",
   "language": "python",
   "name": "python3"
  },
  "language_info": {
   "codemirror_mode": {
    "name": "ipython",
    "version": 3
   },
   "file_extension": ".py",
   "mimetype": "text/x-python",
   "name": "python",
   "nbconvert_exporter": "python",
   "pygments_lexer": "ipython3",
   "version": "3.11.4"
  }
 },
 "nbformat": 4,
 "nbformat_minor": 4
}
