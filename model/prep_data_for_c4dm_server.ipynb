{
 "cells": [
  {
   "cell_type": "code",
   "execution_count": 24,
   "id": "866326e3-a965-4bf4-a7af-a6293cb5a0aa",
   "metadata": {},
   "outputs": [],
   "source": [
    "import os\n",
    "import shutil\n",
    "from tqdm import tqdm"
   ]
  },
  {
   "cell_type": "code",
   "execution_count": 16,
   "id": "23cf7b37-a2e8-4e64-b432-2276fe917803",
   "metadata": {},
   "outputs": [
    {
     "name": "stdout",
     "output_type": "stream",
     "text": [
      "done [WinError 183] Cannot create a file when that file already exists: 'D:/Github/phd-drum-sep/Data/adtof'\n"
     ]
    }
   ],
   "source": [
    "try:\n",
    "    os.mkdir(\"D:/Github/phd-drum-sep/Data/adtof\")\n",
    "    os.mkdir(\"D:/Github/phd-drum-sep/Data/adtof/train\")\n",
    "    os.mkdir(\"D:/Github/phd-drum-sep/Data/adtof/test\")\n",
    "except Exception as e:\n",
    "    print(\"done\", e)"
   ]
  },
  {
   "cell_type": "code",
   "execution_count": 17,
   "id": "507a561b-86f7-4510-8d34-19aaa6543dc2",
   "metadata": {},
   "outputs": [],
   "source": [
    "path = \"D:/Github/phd-drum-sep/Data/musdb18hq/\""
   ]
  },
  {
   "cell_type": "code",
   "execution_count": 18,
   "id": "3ee6e21f-7ef8-484c-adb2-9016a87360d6",
   "metadata": {},
   "outputs": [
    {
     "data": {
      "text/plain": [
       "['test', 'train']"
      ]
     },
     "execution_count": 18,
     "metadata": {},
     "output_type": "execute_result"
    }
   ],
   "source": [
    "os.listdir(path)"
   ]
  },
  {
   "cell_type": "code",
   "execution_count": 19,
   "id": "5d9e52d3-acee-4480-9fda-6fc6d4dae98d",
   "metadata": {},
   "outputs": [],
   "source": [
    "train = list(os.listdir(path+'train'))\n",
    "test = list(os.listdir(path+'test'))"
   ]
  },
  {
   "cell_type": "code",
   "execution_count": 20,
   "id": "82aaef43-d4b0-4eb7-a7fc-52359979cbbf",
   "metadata": {},
   "outputs": [
    {
     "data": {
      "text/plain": [
       "['bass.wav',\n",
       " 'drums.wav',\n",
       " 'mixture.wav',\n",
       " 'mixture.wav.mid',\n",
       " 'mixture.wav.txt',\n",
       " 'other.wav',\n",
       " 'vocals.wav']"
      ]
     },
     "execution_count": 20,
     "metadata": {},
     "output_type": "execute_result"
    }
   ],
   "source": [
    "p = path + 'train/' + train[0] + \"/\"\n",
    "os.listdir(p)"
   ]
  },
  {
   "cell_type": "code",
   "execution_count": 27,
   "id": "815bcacf-3ba6-40b2-9200-9b096b13192a",
   "metadata": {},
   "outputs": [
    {
     "name": "stderr",
     "output_type": "stream",
     "text": [
      "100it [00:00, 823.18it/s]\n"
     ]
    }
   ],
   "source": [
    "path_new = 'D:/Github/phd-drum-sep/Data/adtof/'\n",
    "for idx, val in tqdm(enumerate(train)):\n",
    "    p = path + 'train/' + val + \"/mixture.wav.mid\"\n",
    "    p2 = path_new + 'train/' + val\n",
    "    \n",
    "    try:\n",
    "        os.mkdir(p2)\n",
    "    except Exception as e:\n",
    "        print(\"done\", e)\n",
    "        \n",
    "    shutil.copy2(p, f\"{p2}/adtof.mid\") # complete target filename given\n",
    "    "
   ]
  },
  {
   "cell_type": "code",
   "execution_count": 28,
   "id": "539023e7-d54f-4a59-9d5a-8b931f120ce2",
   "metadata": {},
   "outputs": [
    {
     "name": "stderr",
     "output_type": "stream",
     "text": [
      "50it [00:00, 109.34it/s]\n"
     ]
    }
   ],
   "source": [
    "path_new = 'D:/Github/phd-drum-sep/Data/adtof/'\n",
    "for idx, val in tqdm(enumerate(test)):\n",
    "    p = path + 'test/' + val + \"/mixture.wav.mid\"\n",
    "    p2 = path_new + 'test/' + val\n",
    "    \n",
    "    try:\n",
    "        os.mkdir(p2)\n",
    "    except Exception as e:\n",
    "        print(\"done\", e)\n",
    "        \n",
    "    shutil.copy2(p, f\"{p2}/adtof.mid\") # complete target filename given\n",
    "    "
   ]
  },
  {
   "cell_type": "code",
   "execution_count": null,
   "id": "12f88a23-8895-4d20-b50d-b85329078de6",
   "metadata": {},
   "outputs": [],
   "source": []
  }
 ],
 "metadata": {
  "kernelspec": {
   "display_name": "Python 3 (ipykernel)",
   "language": "python",
   "name": "python3"
  },
  "language_info": {
   "codemirror_mode": {
    "name": "ipython",
    "version": 3
   },
   "file_extension": ".py",
   "mimetype": "text/x-python",
   "name": "python",
   "nbconvert_exporter": "python",
   "pygments_lexer": "ipython3",
   "version": "3.11.4"
  }
 },
 "nbformat": 4,
 "nbformat_minor": 5
}
