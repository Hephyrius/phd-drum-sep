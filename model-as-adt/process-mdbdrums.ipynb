{
 "cells": [
  {
   "cell_type": "code",
   "execution_count": 1,
   "id": "ff2d7ef7-f2c3-4a7e-abfd-1c95aa899bf9",
   "metadata": {},
   "outputs": [],
   "source": [
    "import os\n",
    "from tqdm import tqdm\n",
    "import pandas as pd\n",
    "import mido\n",
    "from mido import MidiFile, MidiTrack, Message, MetaMessage\n",
    "import numpy as np"
   ]
  },
  {
   "cell_type": "code",
   "execution_count": 2,
   "id": "4e50e8b3-a034-4be4-ba0c-f2bb7952eccf",
   "metadata": {},
   "outputs": [],
   "source": [
    "MDBS_MIDI = {\n",
    "    \"KD\": 35,\n",
    "    \"SD\": 38,\n",
    "    \"SDB\": 38,\n",
    "    \"SDD\": 38,\n",
    "    \"SDF\": 38,\n",
    "    \"SDG\": 38,\n",
    "    \"SDNS\": 38,\n",
    "    \"CHH\": 42,\n",
    "    \"OHH\": 46,\n",
    "    \"PHH\": 44,\n",
    "    \"HIT\": 50,\n",
    "    \"MHT\": 48,\n",
    "    \"HFT\": 43,\n",
    "    \"LFT\": 41,\n",
    "    \"RDC\": 51,\n",
    "    \"RDB\": 53,\n",
    "    \"CRC\": 49,\n",
    "    \"CHC\": 52,\n",
    "    \"SPC\": 55,\n",
    "    \"SST\": 37,\n",
    "    \"TMB\": 54, \n",
    "}"
   ]
  },
  {
   "cell_type": "code",
   "execution_count": 3,
   "id": "81c09e37-6b1b-4d34-bfbf-fbf18d388e7c",
   "metadata": {},
   "outputs": [],
   "source": [
    "mix_folder = 'D:/Github/phd-drum-sep/data/MDBDrums-master/MDB Drums/audio/full_mix/'\n",
    "mixes = os.listdir(mix_folder)\n",
    "mixes = [mix_folder + m for m in mixes]"
   ]
  },
  {
   "cell_type": "code",
   "execution_count": 4,
   "id": "88e61380-66bc-4f46-962f-5af8eaa3bd51",
   "metadata": {},
   "outputs": [],
   "source": [
    "drum_folder = 'D:/Github/phd-drum-sep/data/MDBDrums-master/MDB Drums/audio/drum_only/'\n",
    "drum = os.listdir(drum_folder)\n",
    "drum = [drum_folder + d for d in drum]"
   ]
  },
  {
   "cell_type": "code",
   "execution_count": 5,
   "id": "d7a7f9f1-4286-455a-be06-26398967c788",
   "metadata": {},
   "outputs": [],
   "source": [
    "beats_folder = 'D:/Github/phd-drum-sep/data/MDBDrums-master/MDB Drums/annotations/beats/'\n",
    "beats = os.listdir(beats_folder)\n",
    "beats = [beats_folder + b for b in beats]"
   ]
  },
  {
   "cell_type": "code",
   "execution_count": 6,
   "id": "8d99e2be-1210-40f6-b7f6-fa3273229179",
   "metadata": {},
   "outputs": [],
   "source": [
    "class_folder = 'D:/Github/phd-drum-sep/data/MDBDrums-master/MDB Drums/annotations/subclass/'\n",
    "classes = os.listdir(class_folder)\n",
    "classes = [class_folder + c for c in classes]"
   ]
  },
  {
   "cell_type": "code",
   "execution_count": 7,
   "id": "f63bef87-a02e-4279-8035-7722a317b091",
   "metadata": {
    "scrolled": true
   },
   "outputs": [
    {
     "name": "stderr",
     "output_type": "stream",
     "text": [
      "23it [00:00, 185.50it/s]\n"
     ]
    }
   ],
   "source": [
    "for idx, val in tqdm(enumerate(classes)):\n",
    "\n",
    "    name = val.replace('D:/Github/phd-drum-sep/data/MDBDrums-master/MDB Drums/annotations/subclass/', '')\n",
    "    name = name.replace('_subclass.txt', '')\n",
    "\n",
    "    f = open(beats[idx], \"r\")\n",
    "    b = f.read()\n",
    "\n",
    "    f = open(classes[idx], \"r\")\n",
    "    c = f.read()\n",
    "    \n",
    "\n",
    "    bets = b.replace('\\n', '\t').split('\t')\n",
    "    bs = []\n",
    "    for idx, val in enumerate(bets):\n",
    "        if idx % 2 == 0:\n",
    "            bs.append(val)\n",
    "    \n",
    "    bs = bs[:len(bs) - 1]\n",
    "    bs = [float(b) for b in bs]\n",
    "\n",
    "    clsses = c.replace(\"\\n\", \"\\t\").replace(\" \", \"\")\n",
    "    clsses = clsses.split(\"\\t\")\n",
    "    times = []\n",
    "    cl = []\n",
    "    for idx, val in enumerate(clsses):\n",
    "        if idx % 2 == 0:\n",
    "            times.append(val)\n",
    "        else:\n",
    "            cl.append(val)\n",
    "    \n",
    "    if len(times) != len(cl):\n",
    "        times = times[:len(times) - 1]\n",
    "    \n",
    "    times = [float(t) for t in times]\n",
    "    \n",
    "    clsses = cl\n",
    "    times = times\n",
    "    bets = bs\n",
    "    # Create a new MIDI file and a MIDI track for drums\n",
    "    mid = MidiFile()\n",
    "    drum_track = MidiTrack()\n",
    "    mid.tracks.append(drum_track)\n",
    "    \n",
    "    # Set a default tempo (120 BPM as an example)\n",
    "    tempo = mido.bpm2tempo(120)\n",
    "    drum_track.append(MetaMessage('set_tempo', tempo=tempo))\n",
    "    \n",
    "    # In General MIDI, channel 10 (0-indexed as 9) is reserved for percussion\n",
    "    # and does not typically require a program change.\n",
    "    # However, if setting a program number for a specific setup, here's how:\n",
    "    program_number = 0  # Example: Standard Acoustic Grand Piano\n",
    "    drum_track.append(Message('program_change', program=program_number, channel=9, time=0))\n",
    "    \n",
    "    # Process annotations and create MIDI events\n",
    "    last_time = 0.0\n",
    "    for cls, time in zip(clsses, times):\n",
    "        note = MDBS_MIDI[cls]\n",
    "        # Calculate delta time in ticks\n",
    "        delta_time_seconds = time - last_time\n",
    "        ticks_per_beat = mid.ticks_per_beat\n",
    "        delta_ticks = int(mido.second2tick(delta_time_seconds, ticks_per_beat, tempo))\n",
    "        # Add MIDI note on event to the percussion channel\n",
    "        drum_track.append(Message('note_on', note=note, velocity=64, time=delta_ticks, channel=9))\n",
    "        # Immediate note off event for simplicity\n",
    "        drum_track.append(Message('note_off', note=note, velocity=64, time=0, channel=9))\n",
    "        last_time = time\n",
    "    \n",
    "    # Save the MIDI file\n",
    "    midi_file_name = f'D:/Github/phd-drum-sep/data/MDBDrums-master/MDB Drums/midi/{name}.mid'\n",
    "    mid.save(midi_file_name)\n"
   ]
  },
  {
   "cell_type": "code",
   "execution_count": null,
   "id": "1f8452c4-3a0e-46fb-a0cc-f047b1b0e7d3",
   "metadata": {},
   "outputs": [],
   "source": []
  }
 ],
 "metadata": {
  "kernelspec": {
   "display_name": "Python 3 (ipykernel)",
   "language": "python",
   "name": "python3"
  },
  "language_info": {
   "codemirror_mode": {
    "name": "ipython",
    "version": 3
   },
   "file_extension": ".py",
   "mimetype": "text/x-python",
   "name": "python",
   "nbconvert_exporter": "python",
   "pygments_lexer": "ipython3",
   "version": "3.11.4"
  }
 },
 "nbformat": 4,
 "nbformat_minor": 5
}
