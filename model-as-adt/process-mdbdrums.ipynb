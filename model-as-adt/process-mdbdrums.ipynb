{
 "cells": [
  {
   "cell_type": "code",
   "execution_count": 14,
   "id": "ff2d7ef7-f2c3-4a7e-abfd-1c95aa899bf9",
   "metadata": {},
   "outputs": [],
   "source": [
    "import os\n",
    "from tqdm import tqdm\n",
    "import pandas as pd\n",
    "import mido\n",
    "from mido import MidiFile, MidiTrack, Message, MetaMessage\n",
    "import numpy as np"
   ]
  },
  {
   "cell_type": "code",
   "execution_count": 7,
   "id": "81c09e37-6b1b-4d34-bfbf-fbf18d388e7c",
   "metadata": {},
   "outputs": [],
   "source": [
    "mix_folder = 'D:/Github/phd-drum-sep/data/MDBDrums-master/MDB Drums/audio/full_mix/'\n",
    "mixes = os.listdir(mix_folder)\n",
    "mixes = [mix_folder + m for m in mixes]"
   ]
  },
  {
   "cell_type": "code",
   "execution_count": 8,
   "id": "88e61380-66bc-4f46-962f-5af8eaa3bd51",
   "metadata": {},
   "outputs": [],
   "source": [
    "drum_folder = 'D:/Github/phd-drum-sep/data/MDBDrums-master/MDB Drums/audio/drum_only/'\n",
    "drum = os.listdir(drum_folder)\n",
    "drum = [drum_folder + d for d in drum]"
   ]
  },
  {
   "cell_type": "code",
   "execution_count": 9,
   "id": "d7a7f9f1-4286-455a-be06-26398967c788",
   "metadata": {},
   "outputs": [],
   "source": [
    "beats_folder = 'D:/Github/phd-drum-sep/data/MDBDrums-master/MDB Drums/annotations/beats/'\n",
    "beats = os.listdir(beats_folder)\n",
    "beats = [beats_folder + b for b in beats]"
   ]
  },
  {
   "cell_type": "code",
   "execution_count": 10,
   "id": "8d99e2be-1210-40f6-b7f6-fa3273229179",
   "metadata": {},
   "outputs": [],
   "source": [
    "class_folder = 'D:/Github/phd-drum-sep/data/MDBDrums-master/MDB Drums/annotations/class/'\n",
    "classes = os.listdir(class_folder)\n",
    "classes = [class_folder + c for c in classes]"
   ]
  },
  {
   "cell_type": "code",
   "execution_count": 13,
   "id": "4e50e8b3-a034-4be4-ba0c-f2bb7952eccf",
   "metadata": {},
   "outputs": [],
   "source": [
    "MDBS_MIDI = {\n",
    "    \"KD\": 35,\n",
    "    \"SD\": 38,\n",
    "    \"SDB\": 38,\n",
    "    \"SDD\": 38,\n",
    "    \"SDF\": 38,\n",
    "    \"SDG\": 38,\n",
    "    \"SDNS\": 38,\n",
    "    \"CHH\": 42,\n",
    "    \"OHH\": 46,\n",
    "    \"PHH\": 44,\n",
    "    \"HIT\": 50,\n",
    "    \"MHT\": 48,\n",
    "    \"HFT\": 43,\n",
    "    \"LFT\": 41,\n",
    "    \"RDC\": 51,\n",
    "    \"RDB\": 53,\n",
    "    \"CRC\": 49,\n",
    "    \"CHC\": 52,\n",
    "    \"SPC\": 55,\n",
    "    \"SST\": 37,\n",
    "    \"TMB\": 54,\n",
    "}"
   ]
  },
  {
   "cell_type": "code",
   "execution_count": 19,
   "id": "f63bef87-a02e-4279-8035-7722a317b091",
   "metadata": {},
   "outputs": [
    {
     "name": "stderr",
     "output_type": "stream",
     "text": [
      "0it [00:00, ?it/s]\n"
     ]
    }
   ],
   "source": [
    "for idx, val in tqdm(enumerate(classes)):\n",
    "    f = open(beats[idx], \"r\")\n",
    "    b = f.read()\n",
    "    break"
   ]
  },
  {
   "cell_type": "code",
   "execution_count": 21,
   "id": "f7218ad1-2eaf-432b-a48c-de421380a9db",
   "metadata": {},
   "outputs": [
    {
     "data": {
      "text/plain": [
       "['0.010',\n",
       " '1',\n",
       " '0.570',\n",
       " '2',\n",
       " '1.120',\n",
       " '3',\n",
       " '1.660',\n",
       " '4',\n",
       " '2.210',\n",
       " '1',\n",
       " '2.770',\n",
       " '2',\n",
       " '3.310',\n",
       " '3',\n",
       " '3.840',\n",
       " '4',\n",
       " '4.370',\n",
       " '1',\n",
       " '4.900',\n",
       " '2',\n",
       " '5.460',\n",
       " '3',\n",
       " '6.010',\n",
       " '4',\n",
       " '6.550',\n",
       " '1',\n",
       " '7.100',\n",
       " '2',\n",
       " '7.650',\n",
       " '3',\n",
       " '8.200',\n",
       " '4',\n",
       " '8.750',\n",
       " '1',\n",
       " '9.290',\n",
       " '2',\n",
       " '9.830',\n",
       " '3',\n",
       " '10.380',\n",
       " '4',\n",
       " '10.940',\n",
       " '1',\n",
       " '11.480',\n",
       " '2',\n",
       " '12.020',\n",
       " '3',\n",
       " '12.570',\n",
       " '4',\n",
       " '13.110',\n",
       " '1',\n",
       " '13.660',\n",
       " '2',\n",
       " '14.210',\n",
       " '3',\n",
       " '14.740',\n",
       " '4',\n",
       " '15.280',\n",
       " '1',\n",
       " '15.840',\n",
       " '2',\n",
       " '16.390',\n",
       " '3',\n",
       " '16.930',\n",
       " '4',\n",
       " '17.480',\n",
       " '1',\n",
       " '18.020',\n",
       " '2',\n",
       " '18.560',\n",
       " '3',\n",
       " '19.120',\n",
       " '4',\n",
       " '19.660',\n",
       " '1',\n",
       " '20.200',\n",
       " '2',\n",
       " '20.750',\n",
       " '3',\n",
       " '21.280',\n",
       " '4',\n",
       " '21.820',\n",
       " '1',\n",
       " '22.360',\n",
       " '2',\n",
       " '22.930',\n",
       " '3',\n",
       " '23.490',\n",
       " '4',\n",
       " '24.030',\n",
       " '1',\n",
       " '24.570',\n",
       " '2',\n",
       " '25.110',\n",
       " '3',\n",
       " '25.660',\n",
       " '4',\n",
       " '26.200',\n",
       " '1',\n",
       " '26.760',\n",
       " '2',\n",
       " '27.300',\n",
       " '3',\n",
       " '27.850',\n",
       " '4',\n",
       " '28.390',\n",
       " '1',\n",
       " '28.930',\n",
       " '2',\n",
       " '29.480',\n",
       " '3',\n",
       " '30.030',\n",
       " '4',\n",
       " '30.580',\n",
       " '1',\n",
       " '31.120',\n",
       " '2',\n",
       " '31.650',\n",
       " '3',\n",
       " '32.200',\n",
       " '4',\n",
       " '32.740',\n",
       " '1',\n",
       " '33.280',\n",
       " '2',\n",
       " '33.830',\n",
       " '3',\n",
       " '34.410',\n",
       " '4',\n",
       " '34.960',\n",
       " '1',\n",
       " '35.500',\n",
       " '2',\n",
       " '']"
      ]
     },
     "execution_count": 21,
     "metadata": {},
     "output_type": "execute_result"
    }
   ],
   "source": [
    "beats = b.replace('\\n', '\t').split('\t')\n",
    "\n",
    "for idx, val"
   ]
  },
  {
   "cell_type": "code",
   "execution_count": null,
   "id": "55c571af-4c95-4245-8011-533606893e41",
   "metadata": {},
   "outputs": [],
   "source": []
  }
 ],
 "metadata": {
  "kernelspec": {
   "display_name": "Python 3 (ipykernel)",
   "language": "python",
   "name": "python3"
  },
  "language_info": {
   "codemirror_mode": {
    "name": "ipython",
    "version": 3
   },
   "file_extension": ".py",
   "mimetype": "text/x-python",
   "name": "python",
   "nbconvert_exporter": "python",
   "pygments_lexer": "ipython3",
   "version": "3.11.4"
  }
 },
 "nbformat": 4,
 "nbformat_minor": 5
}
