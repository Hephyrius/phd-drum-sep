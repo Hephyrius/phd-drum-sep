{
 "cells": [
  {
   "cell_type": "markdown",
   "id": "20b2a3bb-3d01-4f42-bc37-dff46522af7f",
   "metadata": {},
   "source": [
    "# Imports"
   ]
  },
  {
   "cell_type": "code",
   "execution_count": 1,
   "id": "71d686e6-8847-4861-88f0-58141c363862",
   "metadata": {},
   "outputs": [],
   "source": [
    "import museval\n",
    "import pandas as pd\n",
    "import numpy as np"
   ]
  },
  {
   "cell_type": "code",
   "execution_count": 22,
   "id": "30168d3d-f6a2-4361-9fd5-3afb2d1bac21",
   "metadata": {},
   "outputs": [],
   "source": [
    "df = pd.read_csv(\"D:/Github/phd-drum-sep/analysis/demucs_small_model_analysis/results_epoch_280/results.csv\")"
   ]
  },
  {
   "cell_type": "code",
   "execution_count": 23,
   "id": "32e6e15a-0a2a-4c7a-9d77-bc96053a45df",
   "metadata": {},
   "outputs": [],
   "source": [
    "results = museval.EvalStore(frames_agg='median', tracks_agg='median')"
   ]
  },
  {
   "cell_type": "code",
   "execution_count": 24,
   "id": "db4f89fb-0722-442b-acb6-77c3ccb7260c",
   "metadata": {},
   "outputs": [],
   "source": [
    "results.df = df"
   ]
  },
  {
   "cell_type": "code",
   "execution_count": 25,
   "id": "6cd0a0c5-a825-44cb-94e7-9fef9dcc91fb",
   "metadata": {},
   "outputs": [
    {
     "data": {
      "text/plain": [
       "(target  metric\n",
       " bass    ISR         8.637505\n",
       "         SAR         3.668205\n",
       "         SDR         4.450615\n",
       "         SIR       213.022790\n",
       " drums   ISR         8.637505\n",
       "         SAR         3.668205\n",
       "         SDR         4.450615\n",
       "         SIR       213.022790\n",
       " Name: score, dtype: float64,)"
      ]
     },
     "execution_count": 25,
     "metadata": {},
     "output_type": "execute_result"
    }
   ],
   "source": [
    "results.agg_frames_tracks_scores(), "
   ]
  },
  {
   "cell_type": "code",
   "execution_count": 26,
   "id": "246b6f4f-d272-4105-aef9-26757a4c3b4f",
   "metadata": {},
   "outputs": [],
   "source": [
    "r = results.agg_frames_scores().to_dict()"
   ]
  },
  {
   "cell_type": "code",
   "execution_count": 27,
   "id": "d600d210-0015-462f-8dc5-4c5888589fe3",
   "metadata": {},
   "outputs": [
    {
     "name": "stdout",
     "output_type": "stream",
     "text": [
      "4.450615\n"
     ]
    }
   ],
   "source": [
    "sdrs = []\n",
    "for key in list(r.keys()):\n",
    "    if 'SDR' in key:\n",
    "        sdrs.append(r[key])\n",
    "\n",
    "print(np.median(sdrs))"
   ]
  },
  {
   "cell_type": "code",
   "execution_count": null,
   "id": "58db3f19-21c2-4daf-bdf1-eb25814ec5d7",
   "metadata": {},
   "outputs": [],
   "source": []
  },
  {
   "cell_type": "code",
   "execution_count": null,
   "id": "b033f4fe-5a0d-4eff-9ab3-774441595197",
   "metadata": {},
   "outputs": [],
   "source": []
  }
 ],
 "metadata": {
  "kernelspec": {
   "display_name": "Python 3 (ipykernel)",
   "language": "python",
   "name": "python3"
  },
  "language_info": {
   "codemirror_mode": {
    "name": "ipython",
    "version": 3
   },
   "file_extension": ".py",
   "mimetype": "text/x-python",
   "name": "python",
   "nbconvert_exporter": "python",
   "pygments_lexer": "ipython3",
   "version": "3.11.4"
  }
 },
 "nbformat": 4,
 "nbformat_minor": 5
}
