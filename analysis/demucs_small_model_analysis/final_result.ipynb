{
 "cells": [
  {
   "cell_type": "markdown",
   "id": "20b2a3bb-3d01-4f42-bc37-dff46522af7f",
   "metadata": {},
   "source": [
    "# Imports"
   ]
  },
  {
   "cell_type": "code",
   "execution_count": 1,
   "id": "71d686e6-8847-4861-88f0-58141c363862",
   "metadata": {},
   "outputs": [],
   "source": [
    "import museval\n",
    "import pandas as pd\n",
    "import numpy as np"
   ]
  },
  {
   "cell_type": "code",
   "execution_count": 29,
   "id": "30168d3d-f6a2-4361-9fd5-3afb2d1bac21",
   "metadata": {},
   "outputs": [
    {
     "name": "stdout",
     "output_type": "stream",
     "text": [
      "=======================\n",
      "Hybrid Demucs Tasnet 4s \n",
      "metric\n",
      "ISR      8.637505\n",
      "SAR      3.668205\n",
      "SDR      4.450615\n",
      "SIR    213.022790\n",
      "Name: score, dtype: float64\n",
      "=======================\n",
      "=======================\n",
      "Hybrid Demucs Tasnet 4s  32\n",
      "metric\n",
      "ISR      8.570975\n",
      "SAR      4.346370\n",
      "SDR      4.567680\n",
      "SIR    208.331520\n",
      "Name: score, dtype: float64\n",
      "=======================\n",
      "=======================\n",
      "Hybrid Demucs Tasnet 4s  zeros\n",
      "metric\n",
      "ISR      0.80913\n",
      "SAR     -1.78432\n",
      "SDR      0.39301\n",
      "SIR    198.94568\n",
      "Name: score, dtype: float64\n",
      "=======================\n",
      "=======================\n",
      "Hybrid Demucs Tasnet 4s  ones\n",
      "metric\n",
      "ISR      8.698010\n",
      "SAR     -4.175500\n",
      "SDR     -0.844900\n",
      "SIR    211.662845\n",
      "Name: score, dtype: float64\n",
      "=======================\n",
      "=======================\n",
      "Hybrid Demucs Tasnet 4s  finder\n",
      "metric\n",
      "ISR      8.611625\n",
      "SAR      4.885165\n",
      "SDR      6.070020\n",
      "SIR    212.474440\n",
      "Name: score, dtype: float64\n",
      "=======================\n",
      "=======================\n",
      "Hybrid Demucs Tasnet 4s  finder rerun\n",
      "metric\n",
      "ISR      9.55930\n",
      "SAR      4.49255\n",
      "SDR      5.58711\n",
      "SIR    209.80363\n",
      "Name: score, dtype: float64\n",
      "=======================\n"
     ]
    }
   ],
   "source": [
    "types = ['', '_32', '_zeros', '_ones', '_finder', '_finder_rerun']\n",
    "length_s = \"4s\"\n",
    "for t in types:\n",
    "    df = pd.read_csv(f\"D:/Github/phd-drum-sep/analysis/demucs_small_model_analysis/results_epoch_280{t}/results.csv\")\n",
    "    results = museval.EvalStore(frames_agg='median', tracks_agg='median')\n",
    "    results.df = df\n",
    "    print(\"=======================\")\n",
    "    print(\"Hybrid Demucs Tasnet\", length_s, t.replace(\"_\", \" \"))\n",
    "    print(results.agg_frames_tracks_scores()['drums'])\n",
    "    print(\"=======================\")"
   ]
  },
  {
   "cell_type": "code",
   "execution_count": null,
   "id": "dff8e600-22f9-41f3-93e3-f17e70b2f2f5",
   "metadata": {},
   "outputs": [],
   "source": []
  }
 ],
 "metadata": {
  "kernelspec": {
   "display_name": "Python 3 (ipykernel)",
   "language": "python",
   "name": "python3"
  },
  "language_info": {
   "codemirror_mode": {
    "name": "ipython",
    "version": 3
   },
   "file_extension": ".py",
   "mimetype": "text/x-python",
   "name": "python",
   "nbconvert_exporter": "python",
   "pygments_lexer": "ipython3",
   "version": "3.11.4"
  }
 },
 "nbformat": 4,
 "nbformat_minor": 5
}
