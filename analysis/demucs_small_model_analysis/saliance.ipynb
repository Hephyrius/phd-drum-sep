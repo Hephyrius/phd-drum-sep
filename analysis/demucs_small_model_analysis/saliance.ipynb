{
 "cells": [
  {
   "cell_type": "code",
   "execution_count": 1,
   "id": "72868c9b-bbde-4408-b7cf-8be3d8316d49",
   "metadata": {},
   "outputs": [],
   "source": [
    "import pandas as pd\n",
    "import numpy as np"
   ]
  },
  {
   "cell_type": "code",
   "execution_count": 2,
   "id": "205cd6f5-15ff-445d-ab1d-10608875f862",
   "metadata": {},
   "outputs": [],
   "source": [
    "df = pd.read_csv(\"D:/Github/phd-drum-sep/analysis/demucs_small_model_analysis/saliance.csv\")"
   ]
  },
  {
   "cell_type": "code",
   "execution_count": 3,
   "id": "c90b4f1d-1940-4e16-b793-4e212a0efced",
   "metadata": {},
   "outputs": [
    {
     "data": {
      "text/plain": [
       "(0.03419158435767674, 0.0339666201209258)"
      ]
     },
     "execution_count": 3,
     "metadata": {},
     "output_type": "execute_result"
    }
   ],
   "source": [
    "np.mean(list(df['l'])), np.mean(list(df['r']))"
   ]
  },
  {
   "cell_type": "code",
   "execution_count": 4,
   "id": "a95d3b2a-88e1-4cab-83db-39e472d66f14",
   "metadata": {},
   "outputs": [
    {
     "data": {
      "text/plain": [
       "(0.0308144278824329, 0.0305741224437952)"
      ]
     },
     "execution_count": 4,
     "metadata": {},
     "output_type": "execute_result"
    }
   ],
   "source": [
    "np.median(list(df['l'])), np.median(list(df['r'])), "
   ]
  },
  {
   "cell_type": "code",
   "execution_count": 5,
   "id": "a7a4585f-179a-45a5-adbd-d3c41c1121a0",
   "metadata": {},
   "outputs": [
    {
     "data": {
      "text/plain": [
       "(0.0027710283918374063,\n",
       " 0.005358116111219092,\n",
       " 0.00210457119778523,\n",
       " 0.0042693521384126855,\n",
       " 0.002140683008689162)"
      ]
     },
     "execution_count": 5,
     "metadata": {},
     "output_type": "execute_result"
    }
   ],
   "source": [
    "np.mean(list(df['d1'])), np.mean(list(df['d2'])), np.mean(list(df['d3'])), np.mean(list(df['d4'])), np.mean(list(df['d5']))"
   ]
  },
  {
   "cell_type": "code",
   "execution_count": 6,
   "id": "add0872c-2f2b-4730-972d-b1aceaaffd25",
   "metadata": {},
   "outputs": [
    {
     "data": {
      "text/plain": [
       "(0.0025543246883898,\n",
       " 0.0050461674109101,\n",
       " 0.0018403144786134,\n",
       " 0.0039364881813526,\n",
       " 0.0019398968433961)"
      ]
     },
     "execution_count": 6,
     "metadata": {},
     "output_type": "execute_result"
    }
   ],
   "source": [
    "np.median(list(df['d1'])), np.median(list(df['d2'])), np.median(list(df['d3'])), np.median(list(df['d4'])), np.median(list(df['d5']))"
   ]
  }
 ],
 "metadata": {
  "kernelspec": {
   "display_name": "Python 3 (ipykernel)",
   "language": "python",
   "name": "python3"
  },
  "language_info": {
   "codemirror_mode": {
    "name": "ipython",
    "version": 3
   },
   "file_extension": ".py",
   "mimetype": "text/x-python",
   "name": "python",
   "nbconvert_exporter": "python",
   "pygments_lexer": "ipython3",
   "version": "3.11.4"
  }
 },
 "nbformat": 4,
 "nbformat_minor": 5
}
