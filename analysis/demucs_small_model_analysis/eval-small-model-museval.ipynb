{
 "cells": [
  {
   "cell_type": "markdown",
   "id": "20b2a3bb-3d01-4f42-bc37-dff46522af7f",
   "metadata": {},
   "source": [
    "# Imports"
   ]
  },
  {
   "cell_type": "code",
   "execution_count": 1,
   "id": "71d686e6-8847-4861-88f0-58141c363862",
   "metadata": {},
   "outputs": [
    {
     "name": "stdout",
     "output_type": "stream",
     "text": [
      "True\n"
     ]
    }
   ],
   "source": [
    "import os\n",
    "import pywt\n",
    "import torch\n",
    "import torch.nn as nn\n",
    "import torch.nn.functional as F\n",
    "import torchaudio\n",
    "import pytorch_lightning as pl\n",
    "from torch.utils.data import DataLoader, Dataset\n",
    "from torchaudio.pipelines import HDEMUCS_HIGH_MUSDB\n",
    "import torch.optim as optim\n",
    "from torch.utils.data import Dataset, DataLoader\n",
    "import torchaudio\n",
    "import numpy as np\n",
    "import random\n",
    "from pytorch_lightning.loggers import WandbLogger\n",
    "import wandb\n",
    "import auraloss\n",
    "import collections\n",
    "from tqdm import tqdm\n",
    "import pretty_midi\n",
    "import matplotlib.pyplot as plt\n",
    "from torchaudio.pipelines import HDEMUCS_HIGH_MUSDB\n",
    "print(torch.cuda.is_available())\n",
    "import plotly.graph_objects as go\n",
    "from torch.optim import lr_scheduler\n",
    "from IPython.display import Audio\n",
    "from torchaudio.transforms import Fade\n",
    "import musdb\n",
    "import museval\n",
    "import gc"
   ]
  },
  {
   "cell_type": "markdown",
   "id": "e1c82506-04c8-4200-9e63-26857aa176bd",
   "metadata": {},
   "source": [
    "# Set Seeds"
   ]
  },
  {
   "cell_type": "code",
   "execution_count": 2,
   "id": "db3acd3b-d177-44d3-a3f4-35140f45e48a",
   "metadata": {},
   "outputs": [],
   "source": [
    "seed_value = 3407\n",
    "torch.manual_seed(seed_value)\n",
    "random.seed(seed_value)\n",
    "np.random.seed(seed_value)\n",
    "torch.cuda.manual_seed(seed_value)\n",
    "torch.cuda.manual_seed_all(seed_value)\n",
    "torch.set_float32_matmul_precision('high')"
   ]
  },
  {
   "cell_type": "markdown",
   "id": "6182916a-aec1-4c05-8a08-4d2e44dfd979",
   "metadata": {},
   "source": [
    "# Construct Teh Datas"
   ]
  },
  {
   "cell_type": "code",
   "execution_count": 3,
   "id": "dbe5ef07-9ab9-4e3e-9334-048f67ae25e4",
   "metadata": {},
   "outputs": [],
   "source": [
    "path = \"D:/Github/phd-drum-sep/Data/musdb18hq/\""
   ]
  },
  {
   "cell_type": "code",
   "execution_count": 4,
   "id": "e101d3bb-e001-42ff-90cc-42384739d506",
   "metadata": {},
   "outputs": [
    {
     "data": {
      "text/plain": [
       "['test', 'train']"
      ]
     },
     "execution_count": 4,
     "metadata": {},
     "output_type": "execute_result"
    }
   ],
   "source": [
    "os.listdir(path)"
   ]
  },
  {
   "cell_type": "code",
   "execution_count": 5,
   "id": "c52ab99f-41d2-4b7f-a179-90681a8a0a81",
   "metadata": {},
   "outputs": [],
   "source": [
    "train = list(os.listdir(path+'train'))\n",
    "test = list(os.listdir(path+'test'))"
   ]
  },
  {
   "cell_type": "code",
   "execution_count": 6,
   "id": "21aa39ee-b25f-4bdc-950a-9389eb93765a",
   "metadata": {},
   "outputs": [],
   "source": [
    "sources = ['drum', 'bass', 'other', 'vocals']"
   ]
  },
  {
   "cell_type": "code",
   "execution_count": 7,
   "id": "f07f7f9c-2d6b-42b9-b5ac-0f4bd9aeb6a7",
   "metadata": {},
   "outputs": [
    {
     "name": "stderr",
     "output_type": "stream",
     "text": [
      "50it [00:00, 4166.72it/s]\n"
     ]
    }
   ],
   "source": [
    "all_scenes = {}\n",
    "counter = 0\n",
    "sample_rate = 44100\n",
    "segment_length = sample_rate * 1\n",
    "\n",
    "for idx, val in tqdm(enumerate(test)):\n",
    "    p = path + 'test/' + val + \"/\"\n",
    "    info = torchaudio.info(f\"{p}mixture.wav\")\n",
    "    seconds = info.num_frames // 44100\n",
    "    for i in range(0, seconds - 1, 1):\n",
    "        start_point = i * 44100\n",
    "        if start_point + 44100 < info.num_frames:\n",
    "            all_scenes[counter] = {'music_path': p, 'start_point': start_point, 'length': 44100, 'frames' : info.num_frames}\n",
    "            counter += 1"
   ]
  },
  {
   "cell_type": "code",
   "execution_count": 8,
   "id": "d6d4eb9a-f08d-4452-a4ad-b9769a218278",
   "metadata": {},
   "outputs": [],
   "source": [
    "def turn_transcription_into_roll(transcription, frames):\n",
    "    # Determine your sampling frequency (frames per second)\n",
    "    fs = 44100\n",
    "    \n",
    "    piano_roll_length = int(frames)\n",
    "    \n",
    "    # Initialize the piano roll array\n",
    "    piano_roll = np.zeros((64, piano_roll_length))\n",
    "    \n",
    "    # Fill in the piano roll array\n",
    "    for note in transcription.instruments[0].notes:\n",
    "        # Convert start and end times to frame indices\n",
    "        start_frame = int(np.floor(note.start * fs))\n",
    "        end_frame = int(np.ceil(note.end * fs))\n",
    "        \n",
    "        # Set the corresponding frames to 1 (or note.velocity for a velocity-sensitive representation)\n",
    "        piano_roll[note.pitch, start_frame:end_frame] = 1  # Or use note.velocity\n",
    "        \n",
    "    roll = np.vstack([piano_roll[35:36, :], piano_roll[38:39, :], piano_roll[42:43, :], piano_roll[47:48, :], piano_roll[49:50, :]])\n",
    "    return roll"
   ]
  },
  {
   "cell_type": "markdown",
   "id": "20988d30-a95e-4dca-ac19-a6f7cea95717",
   "metadata": {},
   "source": [
    "# model"
   ]
  },
  {
   "cell_type": "code",
   "execution_count": 9,
   "id": "b72a57b5-7115-421d-b26e-3ca3d21fef5d",
   "metadata": {},
   "outputs": [],
   "source": [
    "class DrumDemucs(pl.LightningModule):\n",
    "    def __init__(self):\n",
    "        super(DrumDemucs, self).__init__()\n",
    "\n",
    "        self.loss_fn = auraloss.freq.MultiResolutionSTFTLoss(\n",
    "                    fft_sizes=[1024, 2048, 4096],\n",
    "                    hop_sizes=[256, 512, 1024],\n",
    "                    win_lengths=[1024, 2048, 4096],\n",
    "                    scale=\"mel\", \n",
    "                    n_bins=150,\n",
    "                    sample_rate=44100,\n",
    "                    device=\"cuda\"\n",
    "                )\n",
    "\n",
    "        self.loss_fn_2 = auraloss.time.SISDRLoss()\n",
    "\n",
    "        self.loss_fn_3 = torch.nn.L1Loss()\n",
    "\n",
    "        self.loss_used = 0\n",
    "\n",
    "        sources = ['drum',\n",
    "                   'noise',\n",
    "                   ]\n",
    "        \n",
    "        self.demucs_mixer =  torchaudio.models.HDemucs(\n",
    "            sources=sources,\n",
    "            audio_channels=7,\n",
    "            depth=6,\n",
    "        )\n",
    "\n",
    "        self.out_conv = nn.Conv1d(in_channels=7, out_channels=2, kernel_size=1)\n",
    "        self.out = nn.Conv1d(in_channels=2, out_channels=2, kernel_size=1)      \n",
    "\n",
    "\n",
    "    def compute_loss(self, outputs, ref_signals):\n",
    "        loss = self.loss_fn(outputs, ref_signals) + self.loss_fn_2(outputs, ref_signals) +  self.loss_fn_3(outputs, ref_signals)\n",
    "        return loss\n",
    "\n",
    "    def forward(self, audio, drumroll):\n",
    "        to_mix = torch.cat([audio, drumroll], axis=1)\n",
    "        out = self.demucs_mixer(to_mix)\n",
    "        out_2 = self.out_conv(out[:, 0, :, :])\n",
    "        out_2 = self.out(out_2)\n",
    "        # out_2 = torch.tanh(out_2)\n",
    "\n",
    "        return out_2\n",
    "    \n",
    "    def training_step(self, batch, batch_idx):\n",
    "        # training_step defines the train loop. It is independent of forward\n",
    "        audio, drum, drumroll = batch\n",
    "        \n",
    "        outputs = self.forward(audio, drumroll)\n",
    "        # print(outputs.size())\n",
    "\n",
    "        if batch_idx % 64 == 0:\n",
    "            input_signal = audio[0].cpu().detach().numpy().T\n",
    "            generated_signal = outputs[0].cpu().detach().numpy().T\n",
    "            drum_signal = drum[0].cpu().detach().numpy().T \n",
    "            wandb.log({'audio_input': [wandb.Audio(input_signal, caption=\"Input\", sample_rate=44100)]})\n",
    "            wandb.log({'audio_reference': [wandb.Audio(drum_signal, caption=\"Reference\", sample_rate=44100)]})\n",
    "            wandb.log({'audio_output': [wandb.Audio(generated_signal, caption=\"Output\", sample_rate=44100)]})\n",
    "             \n",
    "            for i in range(5):\n",
    "                wandb.log({f'drum_{i + 1}': [wandb.Audio(drumroll[0].cpu().detach().numpy()[i, :], caption=\"Output\", sample_rate=44100)]})\n",
    "\n",
    "\n",
    "        loss = self.compute_loss(outputs, drum)         \n",
    "\n",
    "        self.log('train_loss', loss, on_step=True, on_epoch=True, prog_bar=True, logger=True)\n",
    "        \n",
    "        return loss\n",
    "    \n",
    "\n",
    "    def configure_optimizers(self):\n",
    "        # Define your optimizer and optionally learning rate scheduler here\n",
    "        optimizer = optim.Adam(self.parameters(), lr=0.001)\n",
    "        scheduler = lr_scheduler.StepLR(optimizer, step_size=1, gamma=0.99)\n",
    "        return [optimizer], [scheduler]\n",
    "        "
   ]
  },
  {
   "cell_type": "code",
   "execution_count": 10,
   "id": "79d11190-4e68-41f8-ae19-36d8199c1643",
   "metadata": {},
   "outputs": [],
   "source": [
    "def load_audio(path, start_point, filename):\n",
    "    audio_tensors = []\n",
    "    waveform, _ = torchaudio.load(f\"{path}/{filename}\")\n",
    "    return waveform\n",
    "\n",
    "def load_roll(path, start_point, frames):\n",
    "    midi = path + '/mixture.wav.mid'\n",
    "    transcription = pretty_midi.PrettyMIDI(midi)\n",
    "    roll = turn_transcription_into_roll(transcription, frames)\n",
    "\n",
    "    return torch.from_numpy(roll).float()\n"
   ]
  },
  {
   "cell_type": "markdown",
   "id": "28a00457-307d-4743-9784-9f4cdae73730",
   "metadata": {},
   "source": [
    "# SISNR"
   ]
  },
  {
   "cell_type": "code",
   "execution_count": 11,
   "id": "3873fcee-a3cb-4975-98f5-fc50e77883fa",
   "metadata": {},
   "outputs": [],
   "source": [
    "def separate_sources(\n",
    "    model,\n",
    "    mix,\n",
    "    drumroll,\n",
    "    segment=4.0,\n",
    "    overlap=0.1,\n",
    "    device=None,\n",
    "):\n",
    "    \"\"\"\n",
    "    Apply model to a given mixture. Use fade, and add segments together in order to add model segment by segment.\n",
    "\n",
    "    Args:\n",
    "        segment (int): segment length in seconds\n",
    "        device (torch.device, str, or None): if provided, device on which to\n",
    "            execute the computation, otherwise `mix.device` is assumed.\n",
    "            When `device` is different from `mix.device`, only local computations will\n",
    "            be on `device`, while the entire tracks will be stored on `mix.device`.\n",
    "    \"\"\"\n",
    "    if device is None:\n",
    "        device = mix.device\n",
    "    else:\n",
    "        device = torch.device(device)\n",
    "\n",
    "    batch, channels, length = mix.shape\n",
    "\n",
    "    chunk_len = int(sample_rate * segment * (1 + overlap))\n",
    "    start = 0\n",
    "    end = chunk_len\n",
    "    overlap_frames = overlap * sample_rate\n",
    "    fade = Fade(fade_in_len=0, fade_out_len=int(overlap_frames), fade_shape=\"linear\")\n",
    "\n",
    "    final = torch.zeros(batch, channels, length, device=device)\n",
    "\n",
    "    while start < length - overlap_frames:\n",
    "        chunk = mix[:, :, start:end]\n",
    "        roll = drumroll[:, :, start:end]\n",
    "        with torch.no_grad():\n",
    "            out = model.forward(chunk, roll)\n",
    "        out = fade(out)\n",
    "        final[:, :, start:end] += out\n",
    "        if start == 0:\n",
    "            fade.fade_in_len = int(overlap_frames)\n",
    "            start += int(chunk_len - overlap_frames)\n",
    "        else:\n",
    "            start += chunk_len\n",
    "        end += chunk_len\n",
    "        if end >= length:\n",
    "            fade.fade_out_len = 0\n",
    "    return final"
   ]
  },
  {
   "cell_type": "code",
   "execution_count": 12,
   "id": "b97a63a5-d58e-47db-9768-e063efd5da5a",
   "metadata": {},
   "outputs": [],
   "source": [
    "class AudioData:\n",
    "    def __init__(self, audio):\n",
    "        self.audio = audio"
   ]
  },
  {
   "cell_type": "code",
   "execution_count": 13,
   "id": "bcf06e62-3267-4faf-838f-70f14be50e92",
   "metadata": {},
   "outputs": [
    {
     "name": "stderr",
     "output_type": "stream",
     "text": [
      "  2%|█▋                                                                                 | 1/50 [00:36<29:51, 36.56s/it]"
     ]
    },
    {
     "name": "stdout",
     "output_type": "stream",
     "text": [
      "drums           ==> SDR:   3.411  SIR: 229.041  ISR:   6.798  SAR:   3.322  \n",
      "bass            ==> SDR:   3.411  SIR: 229.041  ISR:   6.798  SAR:   3.322  \n",
      "\n"
     ]
    },
    {
     "name": "stderr",
     "output_type": "stream",
     "text": [
      "  4%|███▎                                                                               | 2/50 [01:10<27:56, 34.93s/it]"
     ]
    },
    {
     "name": "stdout",
     "output_type": "stream",
     "text": [
      "drums           ==> SDR:   2.860  SIR: 181.808  ISR:   6.362  SAR:   0.352  \n",
      "bass            ==> SDR:   2.860  SIR: 181.808  ISR:   6.362  SAR:   0.352  \n",
      "\n"
     ]
    },
    {
     "name": "stderr",
     "output_type": "stream",
     "text": [
      "  6%|████▉                                                                              | 3/50 [01:30<22:08, 28.26s/it]"
     ]
    },
    {
     "name": "stdout",
     "output_type": "stream",
     "text": [
      "drums           ==> SDR:   4.307  SIR: 228.895  ISR:   7.812  SAR:   3.579  \n",
      "bass            ==> SDR:   4.307  SIR: 228.895  ISR:   7.812  SAR:   3.579  \n",
      "\n"
     ]
    },
    {
     "name": "stderr",
     "output_type": "stream",
     "text": [
      "  8%|██████▋                                                                            | 4/50 [02:05<23:33, 30.72s/it]"
     ]
    },
    {
     "name": "stdout",
     "output_type": "stream",
     "text": [
      "drums           ==> SDR:   2.173  SIR: 235.081  ISR:   9.746  SAR:   0.124  \n",
      "bass            ==> SDR:   2.173  SIR: 235.081  ISR:   9.746  SAR:   0.124  \n",
      "\n"
     ]
    },
    {
     "name": "stderr",
     "output_type": "stream",
     "text": [
      " 10%|████████▎                                                                          | 5/50 [02:43<25:11, 33.59s/it]"
     ]
    },
    {
     "name": "stdout",
     "output_type": "stream",
     "text": [
      "drums           ==> SDR:   7.940  SIR: 195.020  ISR:  12.058  SAR:   7.813  \n",
      "bass            ==> SDR:   7.940  SIR: 195.020  ISR:  12.058  SAR:   7.813  \n",
      "\n"
     ]
    },
    {
     "name": "stderr",
     "output_type": "stream",
     "text": [
      " 12%|█████████▉                                                                         | 6/50 [03:19<25:13, 34.40s/it]"
     ]
    },
    {
     "name": "stdout",
     "output_type": "stream",
     "text": [
      "drums           ==> SDR:   4.843  SIR: 233.603  ISR:   9.010  SAR:   3.811  \n",
      "bass            ==> SDR:   4.843  SIR: 233.603  ISR:   9.010  SAR:   3.811  \n",
      "\n"
     ]
    },
    {
     "name": "stderr",
     "output_type": "stream",
     "text": [
      " 14%|███████████▌                                                                       | 7/50 [03:54<24:38, 34.40s/it]"
     ]
    },
    {
     "name": "stdout",
     "output_type": "stream",
     "text": [
      "drums           ==> SDR:   5.098  SIR: 187.689  ISR:   9.904  SAR:   3.843  \n",
      "bass            ==> SDR:   5.098  SIR: 187.689  ISR:   9.904  SAR:   3.843  \n",
      "\n"
     ]
    },
    {
     "name": "stderr",
     "output_type": "stream",
     "text": [
      " 16%|█████████████▎                                                                     | 8/50 [04:29<24:21, 34.79s/it]"
     ]
    },
    {
     "name": "stdout",
     "output_type": "stream",
     "text": [
      "drums           ==> SDR:   3.891  SIR: 243.300  ISR:   7.997  SAR:   2.225  \n",
      "bass            ==> SDR:   3.891  SIR: 243.300  ISR:   7.997  SAR:   2.225  \n",
      "\n"
     ]
    },
    {
     "name": "stderr",
     "output_type": "stream",
     "text": [
      " 18%|██████████████▉                                                                    | 9/50 [05:08<24:30, 35.87s/it]"
     ]
    },
    {
     "name": "stdout",
     "output_type": "stream",
     "text": [
      "drums           ==> SDR:   6.334  SIR: 178.965  ISR:   9.979  SAR:   6.305  \n",
      "bass            ==> SDR:   6.334  SIR: 178.965  ISR:   9.979  SAR:   6.305  \n",
      "\n"
     ]
    },
    {
     "name": "stderr",
     "output_type": "stream",
     "text": [
      " 20%|████████████████▍                                                                 | 10/50 [05:44<23:59, 35.99s/it]"
     ]
    },
    {
     "name": "stdout",
     "output_type": "stream",
     "text": [
      "drums           ==> SDR:   2.635  SIR: 219.487  ISR:   5.923  SAR:   0.474  \n",
      "bass            ==> SDR:   2.635  SIR: 219.487  ISR:   5.923  SAR:   0.474  \n",
      "\n"
     ]
    },
    {
     "name": "stderr",
     "output_type": "stream",
     "text": [
      " 22%|██████████████████                                                                | 11/50 [06:23<24:04, 37.04s/it]"
     ]
    },
    {
     "name": "stdout",
     "output_type": "stream",
     "text": [
      "drums           ==> SDR:   7.486  SIR: 213.552  ISR:  12.322  SAR:   7.412  \n",
      "bass            ==> SDR:   7.486  SIR: 213.552  ISR:  12.322  SAR:   7.412  \n",
      "\n"
     ]
    },
    {
     "name": "stderr",
     "output_type": "stream",
     "text": [
      " 24%|███████████████████▋                                                              | 12/50 [07:01<23:35, 37.26s/it]"
     ]
    },
    {
     "name": "stdout",
     "output_type": "stream",
     "text": [
      "drums           ==> SDR:   4.004  SIR: 224.400  ISR:   4.789  SAR:   3.585  \n",
      "bass            ==> SDR:   4.004  SIR: 224.400  ISR:   4.789  SAR:   3.585  \n",
      "\n"
     ]
    },
    {
     "name": "stderr",
     "output_type": "stream",
     "text": [
      " 26%|█████████████████████▎                                                            | 13/50 [07:21<19:44, 32.01s/it]"
     ]
    },
    {
     "name": "stdout",
     "output_type": "stream",
     "text": [
      "drums           ==> SDR:   2.103  SIR: 162.889  ISR:   3.395  SAR:   0.066  \n",
      "bass            ==> SDR:   2.103  SIR: 162.889  ISR:   3.395  SAR:   0.066  \n",
      "\n"
     ]
    },
    {
     "name": "stderr",
     "output_type": "stream",
     "text": [
      " 28%|██████████████████████▉                                                           | 14/50 [07:56<19:50, 33.08s/it]"
     ]
    },
    {
     "name": "stdout",
     "output_type": "stream",
     "text": [
      "drums           ==> SDR:   7.446  SIR: 215.459  ISR:  11.685  SAR:   7.561  \n",
      "bass            ==> SDR:   7.446  SIR: 215.459  ISR:  11.685  SAR:   7.561  \n",
      "\n"
     ]
    },
    {
     "name": "stderr",
     "output_type": "stream",
     "text": [
      " 30%|████████████████████████▌                                                         | 15/50 [09:08<26:00, 44.58s/it]"
     ]
    },
    {
     "name": "stdout",
     "output_type": "stream",
     "text": [
      "drums           ==> SDR:   4.594  SIR: 245.990  ISR:   7.415  SAR:   3.194  \n",
      "bass            ==> SDR:   4.594  SIR: 245.990  ISR:   7.415  SAR:   3.194  \n",
      "\n"
     ]
    },
    {
     "name": "stderr",
     "output_type": "stream",
     "text": [
      " 32%|██████████████████████████▏                                                       | 16/50 [09:45<24:03, 42.46s/it]"
     ]
    },
    {
     "name": "stdout",
     "output_type": "stream",
     "text": [
      "drums           ==> SDR:   4.039  SIR: 216.972  ISR:   7.030  SAR:   2.210  \n",
      "bass            ==> SDR:   4.039  SIR: 216.972  ISR:   7.030  SAR:   2.210  \n",
      "\n"
     ]
    },
    {
     "name": "stderr",
     "output_type": "stream",
     "text": [
      " 34%|███████████████████████████▉                                                      | 17/50 [10:05<19:35, 35.61s/it]"
     ]
    },
    {
     "name": "stdout",
     "output_type": "stream",
     "text": [
      "drums           ==> SDR:   1.468  SIR: 218.617  ISR:   3.449  SAR:  -2.572  \n",
      "bass            ==> SDR:   1.468  SIR: 218.617  ISR:   3.449  SAR:  -2.572  \n",
      "\n"
     ]
    },
    {
     "name": "stderr",
     "output_type": "stream",
     "text": [
      " 36%|█████████████████████████████▌                                                    | 18/50 [10:38<18:34, 34.83s/it]"
     ]
    },
    {
     "name": "stdout",
     "output_type": "stream",
     "text": [
      "drums           ==> SDR:   5.681  SIR: 228.986  ISR:  11.041  SAR:   5.564  \n",
      "bass            ==> SDR:   5.681  SIR: 228.986  ISR:  11.041  SAR:   5.564  \n",
      "\n"
     ]
    },
    {
     "name": "stderr",
     "output_type": "stream",
     "text": [
      " 38%|███████████████████████████████▏                                                  | 19/50 [11:13<18:01, 34.87s/it]"
     ]
    },
    {
     "name": "stdout",
     "output_type": "stream",
     "text": [
      "drums           ==> SDR:   9.870  SIR: 219.223  ISR:  17.471  SAR:   9.927  \n",
      "bass            ==> SDR:   9.870  SIR: 219.223  ISR:  17.471  SAR:   9.927  \n",
      "\n"
     ]
    },
    {
     "name": "stderr",
     "output_type": "stream",
     "text": [
      " 40%|████████████████████████████████▊                                                 | 20/50 [11:49<17:32, 35.10s/it]"
     ]
    },
    {
     "name": "stdout",
     "output_type": "stream",
     "text": [
      "drums           ==> SDR:   9.372  SIR: 226.090  ISR:  12.848  SAR:  10.094  \n",
      "bass            ==> SDR:   9.372  SIR: 226.090  ISR:  12.848  SAR:  10.094  \n",
      "\n"
     ]
    },
    {
     "name": "stderr",
     "output_type": "stream",
     "text": [
      " 42%|██████████████████████████████████▍                                               | 21/50 [12:24<17:04, 35.34s/it]"
     ]
    },
    {
     "name": "stdout",
     "output_type": "stream",
     "text": [
      "drums           ==> SDR:   6.319  SIR: 153.643  ISR:   9.282  SAR:   6.391  \n",
      "bass            ==> SDR:   6.319  SIR: 153.643  ISR:   9.282  SAR:   6.391  \n",
      "\n"
     ]
    },
    {
     "name": "stderr",
     "output_type": "stream",
     "text": [
      " 44%|████████████████████████████████████                                              | 22/50 [12:57<16:04, 34.46s/it]"
     ]
    },
    {
     "name": "stdout",
     "output_type": "stream",
     "text": [
      "drums           ==> SDR:   3.223  SIR: 175.796  ISR:   8.387  SAR:   1.921  \n",
      "bass            ==> SDR:   3.223  SIR: 175.796  ISR:   8.387  SAR:   1.921  \n",
      "\n"
     ]
    },
    {
     "name": "stderr",
     "output_type": "stream",
     "text": [
      " 46%|█████████████████████████████████████▋                                            | 23/50 [13:32<15:36, 34.69s/it]"
     ]
    },
    {
     "name": "stdout",
     "output_type": "stream",
     "text": [
      "drums           ==> SDR:   3.833  SIR: 161.493  ISR:   7.261  SAR:   2.439  \n",
      "bass            ==> SDR:   3.833  SIR: 161.493  ISR:   7.261  SAR:   2.439  \n",
      "\n"
     ]
    },
    {
     "name": "stderr",
     "output_type": "stream",
     "text": [
      " 48%|███████████████████████████████████████▎                                          | 24/50 [14:05<14:45, 34.06s/it]"
     ]
    },
    {
     "name": "stdout",
     "output_type": "stream",
     "text": [
      "drums           ==> SDR:   6.389  SIR: 138.573  ISR:  10.116  SAR:   6.213  \n",
      "bass            ==> SDR:   6.389  SIR: 138.573  ISR:  10.116  SAR:   6.213  \n",
      "\n"
     ]
    },
    {
     "name": "stderr",
     "output_type": "stream",
     "text": [
      " 50%|█████████████████████████████████████████                                         | 25/50 [14:39<14:16, 34.26s/it]"
     ]
    },
    {
     "name": "stdout",
     "output_type": "stream",
     "text": [
      "drums           ==> SDR:   3.780  SIR: 220.672  ISR:   6.801  SAR:   1.839  \n",
      "bass            ==> SDR:   3.780  SIR: 220.672  ISR:   6.801  SAR:   1.839  \n",
      "\n"
     ]
    },
    {
     "name": "stderr",
     "output_type": "stream",
     "text": [
      " 52%|██████████████████████████████████████████▋                                       | 26/50 [15:15<13:54, 34.78s/it]"
     ]
    },
    {
     "name": "stdout",
     "output_type": "stream",
     "text": [
      "drums           ==> SDR:   9.358  SIR: 154.061  ISR:  15.297  SAR:   9.173  \n",
      "bass            ==> SDR:   9.358  SIR: 154.061  ISR:  15.297  SAR:   9.173  \n",
      "\n"
     ]
    },
    {
     "name": "stderr",
     "output_type": "stream",
     "text": [
      " 54%|████████████████████████████████████████████▎                                     | 27/50 [15:53<13:41, 35.70s/it]"
     ]
    },
    {
     "name": "stdout",
     "output_type": "stream",
     "text": [
      "drums           ==> SDR:   7.052  SIR: 169.438  ISR:  12.925  SAR:   6.864  \n",
      "bass            ==> SDR:   7.052  SIR: 169.438  ISR:  12.925  SAR:   6.864  \n",
      "\n"
     ]
    },
    {
     "name": "stderr",
     "output_type": "stream",
     "text": [
      " 56%|█████████████████████████████████████████████▉                                    | 28/50 [16:13<11:17, 30.80s/it]"
     ]
    },
    {
     "name": "stdout",
     "output_type": "stream",
     "text": [
      "drums           ==> SDR:   8.822  SIR: 203.151  ISR:  12.494  SAR:   9.399  \n",
      "bass            ==> SDR:   8.822  SIR: 203.151  ISR:  12.494  SAR:   9.399  \n",
      "\n"
     ]
    },
    {
     "name": "stderr",
     "output_type": "stream",
     "text": [
      " 58%|███████████████████████████████████████████████▌                                  | 29/50 [16:26<08:59, 25.69s/it]"
     ]
    },
    {
     "name": "stdout",
     "output_type": "stream",
     "text": [
      "drums           ==> SDR:   5.307  SIR: 212.494  ISR:   7.134  SAR:   6.128  \n",
      "bass            ==> SDR:   5.307  SIR: 212.494  ISR:   7.134  SAR:   6.128  \n",
      "\n"
     ]
    },
    {
     "name": "stderr",
     "output_type": "stream",
     "text": [
      " 60%|█████████████████████████████████████████████████▏                                | 30/50 [17:01<09:30, 28.50s/it]"
     ]
    },
    {
     "name": "stdout",
     "output_type": "stream",
     "text": [
      "drums           ==> SDR:   5.344  SIR: 202.961  ISR:   9.445  SAR:   4.571  \n",
      "bass            ==> SDR:   5.344  SIR: 202.961  ISR:   9.445  SAR:   4.571  \n",
      "\n"
     ]
    },
    {
     "name": "stderr",
     "output_type": "stream",
     "text": [
      " 62%|██████████████████████████████████████████████████▊                               | 31/50 [17:36<09:36, 30.33s/it]"
     ]
    },
    {
     "name": "stdout",
     "output_type": "stream",
     "text": [
      "drums           ==> SDR:   3.792  SIR: 194.532  ISR:  10.498  SAR:   2.190  \n",
      "bass            ==> SDR:   3.792  SIR: 194.532  ISR:  10.498  SAR:   2.190  \n",
      "\n"
     ]
    },
    {
     "name": "stderr",
     "output_type": "stream",
     "text": [
      " 64%|████████████████████████████████████████████████████▍                             | 32/50 [18:13<09:41, 32.32s/it]"
     ]
    },
    {
     "name": "stdout",
     "output_type": "stream",
     "text": [
      "drums           ==> SDR:   1.442  SIR: 235.545  ISR:   6.886  SAR:   0.068  \n",
      "bass            ==> SDR:   1.442  SIR: 235.545  ISR:   6.886  SAR:   0.068  \n",
      "\n"
     ]
    },
    {
     "name": "stderr",
     "output_type": "stream",
     "text": [
      " 66%|██████████████████████████████████████████████████████                            | 33/50 [18:51<09:37, 33.96s/it]"
     ]
    },
    {
     "name": "stdout",
     "output_type": "stream",
     "text": [
      "drums           ==> SDR:   2.803  SIR: 242.676  ISR:   6.293  SAR:   0.690  \n",
      "bass            ==> SDR:   2.803  SIR: 242.676  ISR:   6.293  SAR:   0.690  \n",
      "\n"
     ]
    },
    {
     "name": "stderr",
     "output_type": "stream",
     "text": [
      " 68%|███████████████████████████████████████████████████████▊                          | 34/50 [19:28<09:20, 35.04s/it]"
     ]
    },
    {
     "name": "stdout",
     "output_type": "stream",
     "text": [
      "drums           ==> SDR:   4.097  SIR: 238.339  ISR:   7.892  SAR:   2.582  \n",
      "bass            ==> SDR:   4.097  SIR: 238.339  ISR:   7.892  SAR:   2.582  \n",
      "\n"
     ]
    },
    {
     "name": "stderr",
     "output_type": "stream",
     "text": [
      " 70%|█████████████████████████████████████████████████████████▍                        | 35/50 [20:05<08:51, 35.45s/it]"
     ]
    },
    {
     "name": "stdout",
     "output_type": "stream",
     "text": [
      "drums           ==> SDR:   8.960  SIR: 218.772  ISR:  13.089  SAR:   9.637  \n",
      "bass            ==> SDR:   8.960  SIR: 218.772  ISR:  13.089  SAR:   9.637  \n",
      "\n"
     ]
    },
    {
     "name": "stderr",
     "output_type": "stream",
     "text": [
      " 72%|███████████████████████████████████████████████████████████                       | 36/50 [20:25<07:11, 30.84s/it]"
     ]
    },
    {
     "name": "stdout",
     "output_type": "stream",
     "text": [
      "drums           ==> SDR:   2.221  SIR: 202.936  ISR:   5.749  SAR:  -0.351  \n",
      "bass            ==> SDR:   2.221  SIR: 202.936  ISR:   5.749  SAR:  -0.351  \n",
      "\n"
     ]
    },
    {
     "name": "stderr",
     "output_type": "stream",
     "text": [
      " 74%|████████████████████████████████████████████████████████████▋                     | 37/50 [21:35<09:15, 42.72s/it]"
     ]
    },
    {
     "name": "stdout",
     "output_type": "stream",
     "text": [
      "drums           ==> SDR:   5.932  SIR: 234.712  ISR:  13.483  SAR:   4.961  \n",
      "bass            ==> SDR:   5.932  SIR: 234.712  ISR:  13.483  SAR:   4.961  \n",
      "\n"
     ]
    },
    {
     "name": "stderr",
     "output_type": "stream",
     "text": [
      " 76%|██████████████████████████████████████████████████████████████▎                   | 38/50 [22:12<08:09, 40.83s/it]"
     ]
    },
    {
     "name": "stdout",
     "output_type": "stream",
     "text": [
      "drums           ==> SDR:   3.653  SIR: 222.580  ISR:   7.678  SAR:   3.752  \n",
      "bass            ==> SDR:   3.653  SIR: 222.580  ISR:   7.678  SAR:   3.752  \n",
      "\n"
     ]
    },
    {
     "name": "stderr",
     "output_type": "stream",
     "text": [
      " 78%|███████████████████████████████████████████████████████████████▉                  | 39/50 [22:50<07:21, 40.15s/it]"
     ]
    },
    {
     "name": "stdout",
     "output_type": "stream",
     "text": [
      "drums           ==> SDR:   2.615  SIR: 233.951  ISR:   4.483  SAR:   1.985  \n",
      "bass            ==> SDR:   2.615  SIR: 233.951  ISR:   4.483  SAR:   1.985  \n",
      "\n"
     ]
    },
    {
     "name": "stderr",
     "output_type": "stream",
     "text": [
      " 80%|█████████████████████████████████████████████████████████████████▌                | 40/50 [23:30<06:41, 40.11s/it]"
     ]
    },
    {
     "name": "stdout",
     "output_type": "stream",
     "text": [
      "drums           ==> SDR:   4.856  SIR: 191.444  ISR:   8.888  SAR:   4.245  \n",
      "bass            ==> SDR:   4.856  SIR: 191.444  ISR:   8.888  SAR:   4.245  \n",
      "\n"
     ]
    },
    {
     "name": "stderr",
     "output_type": "stream",
     "text": [
      " 82%|███████████████████████████████████████████████████████████████████▏              | 41/50 [24:06<05:49, 38.86s/it]"
     ]
    },
    {
     "name": "stdout",
     "output_type": "stream",
     "text": [
      "drums           ==> SDR:   5.312  SIR: 177.584  ISR:   9.957  SAR:   4.568  \n",
      "bass            ==> SDR:   5.312  SIR: 177.584  ISR:   9.957  SAR:   4.568  \n",
      "\n"
     ]
    },
    {
     "name": "stderr",
     "output_type": "stream",
     "text": [
      " 84%|████████████████████████████████████████████████████████████████████▉             | 42/50 [24:41<05:01, 37.63s/it]"
     ]
    },
    {
     "name": "stdout",
     "output_type": "stream",
     "text": [
      "drums           ==> SDR:   7.002  SIR: 134.485  ISR:  11.497  SAR:   6.021  \n",
      "bass            ==> SDR:   7.002  SIR: 134.485  ISR:  11.497  SAR:   6.021  \n",
      "\n"
     ]
    },
    {
     "name": "stderr",
     "output_type": "stream",
     "text": [
      " 86%|██████████████████████████████████████████████████████████████████████▌           | 43/50 [25:18<04:21, 37.42s/it]"
     ]
    },
    {
     "name": "stdout",
     "output_type": "stream",
     "text": [
      "drums           ==> SDR:   3.446  SIR: 168.545  ISR:   7.635  SAR:   1.518  \n",
      "bass            ==> SDR:   3.446  SIR: 168.545  ISR:   7.635  SAR:   1.518  \n",
      "\n"
     ]
    },
    {
     "name": "stderr",
     "output_type": "stream",
     "text": [
      " 88%|████████████████████████████████████████████████████████████████████████▏         | 44/50 [25:50<03:35, 35.97s/it]"
     ]
    },
    {
     "name": "stdout",
     "output_type": "stream",
     "text": [
      "drums           ==> SDR:   3.075  SIR: 195.482  ISR:   4.763  SAR:   1.005  \n",
      "bass            ==> SDR:   3.075  SIR: 195.482  ISR:   4.763  SAR:   1.005  \n",
      "\n"
     ]
    },
    {
     "name": "stderr",
     "output_type": "stream",
     "text": [
      " 90%|█████████████████████████████████████████████████████████████████████████▊        | 45/50 [26:28<03:02, 36.48s/it]"
     ]
    },
    {
     "name": "stdout",
     "output_type": "stream",
     "text": [
      "drums           ==> SDR:   1.035  SIR: 200.690  ISR:   2.153  SAR:  -1.404  \n",
      "bass            ==> SDR:   1.035  SIR: 200.690  ISR:   2.153  SAR:  -1.404  \n",
      "\n"
     ]
    },
    {
     "name": "stderr",
     "output_type": "stream",
     "text": [
      " 92%|███████████████████████████████████████████████████████████████████████████▍      | 46/50 [27:03<02:24, 36.12s/it]"
     ]
    },
    {
     "name": "stdout",
     "output_type": "stream",
     "text": [
      "drums           ==> SDR:   2.085  SIR: 216.414  ISR:   3.745  SAR:  -0.553  \n",
      "bass            ==> SDR:   2.085  SIR: 216.414  ISR:   3.745  SAR:  -0.553  \n",
      "\n"
     ]
    },
    {
     "name": "stderr",
     "output_type": "stream",
     "text": [
      " 94%|█████████████████████████████████████████████████████████████████████████████     | 47/50 [27:22<01:32, 30.99s/it]"
     ]
    },
    {
     "name": "stdout",
     "output_type": "stream",
     "text": [
      "drums           ==> SDR:   8.843  SIR: 149.860  ISR:  14.317  SAR:   8.637  \n",
      "bass            ==> SDR:   8.843  SIR: 149.860  ISR:  14.317  SAR:   8.637  \n",
      "\n"
     ]
    },
    {
     "name": "stderr",
     "output_type": "stream",
     "text": [
      " 96%|██████████████████████████████████████████████████████████████████████████████▋   | 48/50 [27:58<01:04, 32.31s/it]"
     ]
    },
    {
     "name": "stdout",
     "output_type": "stream",
     "text": [
      "drums           ==> SDR:   3.184  SIR: 196.163  ISR:   6.705  SAR:   1.310  \n",
      "bass            ==> SDR:   3.184  SIR: 196.163  ISR:   6.705  SAR:   1.310  \n",
      "\n"
     ]
    },
    {
     "name": "stderr",
     "output_type": "stream",
     "text": [
      " 98%|████████████████████████████████████████████████████████████████████████████████▎ | 49/50 [28:31<00:32, 32.72s/it]"
     ]
    },
    {
     "name": "stdout",
     "output_type": "stream",
     "text": [
      "drums           ==> SDR:   8.528  SIR: 218.360  ISR:  16.222  SAR:   8.401  \n",
      "bass            ==> SDR:   8.528  SIR: 218.360  ISR:  16.222  SAR:   8.401  \n",
      "\n"
     ]
    },
    {
     "name": "stderr",
     "output_type": "stream",
     "text": [
      "100%|██████████████████████████████████████████████████████████████████████████████████| 50/50 [29:06<00:00, 34.94s/it]"
     ]
    },
    {
     "name": "stdout",
     "output_type": "stream",
     "text": [
      "drums           ==> SDR:   5.347  SIR: 207.845  ISR:   9.244  SAR:   4.637  \n",
      "bass            ==> SDR:   5.347  SIR: 207.845  ISR:   9.244  SAR:   4.637  \n",
      "\n"
     ]
    },
    {
     "name": "stderr",
     "output_type": "stream",
     "text": [
      "\n",
      "  2%|█▋                                                                                 | 1/50 [00:33<26:57, 33.01s/it]"
     ]
    },
    {
     "name": "stdout",
     "output_type": "stream",
     "text": [
      "drums           ==> SDR:  -2.413  SIR: 226.922  ISR:  -1.972  SAR:   3.412  \n",
      "bass            ==> SDR:  -2.413  SIR: 226.922  ISR:  -1.972  SAR:   3.412  \n",
      "\n"
     ]
    },
    {
     "name": "stderr",
     "output_type": "stream",
     "text": [
      "  4%|███▎                                                                               | 2/50 [01:05<26:08, 32.67s/it]"
     ]
    },
    {
     "name": "stdout",
     "output_type": "stream",
     "text": [
      "drums           ==> SDR:  -2.724  SIR: 182.982  ISR:  -1.748  SAR:   0.417  \n",
      "bass            ==> SDR:  -2.724  SIR: 182.982  ISR:  -1.748  SAR:   0.417  \n",
      "\n"
     ]
    },
    {
     "name": "stderr",
     "output_type": "stream",
     "text": [
      "  6%|████▉                                                                              | 3/50 [01:25<20:58, 26.77s/it]"
     ]
    },
    {
     "name": "stdout",
     "output_type": "stream",
     "text": [
      "drums           ==> SDR:  -2.567  SIR: 226.751  ISR:  -1.957  SAR:   3.460  \n",
      "bass            ==> SDR:  -2.567  SIR: 226.751  ISR:  -1.957  SAR:   3.460  \n",
      "\n"
     ]
    },
    {
     "name": "stderr",
     "output_type": "stream",
     "text": [
      "  8%|██████▋                                                                            | 4/50 [01:58<22:25, 29.25s/it]"
     ]
    },
    {
     "name": "stdout",
     "output_type": "stream",
     "text": [
      "drums           ==> SDR:  -3.268  SIR: 233.138  ISR:  -1.988  SAR:   0.512  \n",
      "bass            ==> SDR:  -3.268  SIR: 233.138  ISR:  -1.988  SAR:   0.512  \n",
      "\n"
     ]
    },
    {
     "name": "stderr",
     "output_type": "stream",
     "text": [
      " 10%|████████▎                                                                          | 5/50 [02:36<24:25, 32.56s/it]"
     ]
    },
    {
     "name": "stdout",
     "output_type": "stream",
     "text": [
      "drums           ==> SDR:  -2.677  SIR: 193.877  ISR:  -2.317  SAR:   7.644  \n",
      "bass            ==> SDR:  -2.677  SIR: 193.877  ISR:  -2.317  SAR:   7.644  \n",
      "\n"
     ]
    },
    {
     "name": "stderr",
     "output_type": "stream",
     "text": [
      " 12%|█████████▉                                                                         | 6/50 [03:10<24:11, 32.98s/it]"
     ]
    },
    {
     "name": "stdout",
     "output_type": "stream",
     "text": [
      "drums           ==> SDR:  -2.444  SIR: 233.461  ISR:  -1.941  SAR:   3.823  \n",
      "bass            ==> SDR:  -2.444  SIR: 233.461  ISR:  -1.941  SAR:   3.823  \n",
      "\n"
     ]
    },
    {
     "name": "stderr",
     "output_type": "stream",
     "text": [
      " 14%|███████████▌                                                                       | 7/50 [03:42<23:27, 32.74s/it]"
     ]
    },
    {
     "name": "stdout",
     "output_type": "stream",
     "text": [
      "drums           ==> SDR:  -2.831  SIR: 189.904  ISR:  -2.203  SAR:   3.687  \n",
      "bass            ==> SDR:  -2.831  SIR: 189.904  ISR:  -2.203  SAR:   3.687  \n",
      "\n"
     ]
    },
    {
     "name": "stderr",
     "output_type": "stream",
     "text": [
      " 16%|█████████████▎                                                                     | 8/50 [04:16<23:07, 33.04s/it]"
     ]
    },
    {
     "name": "stdout",
     "output_type": "stream",
     "text": [
      "drums           ==> SDR:  -3.050  SIR: 243.731  ISR:  -2.332  SAR:   1.856  \n",
      "bass            ==> SDR:  -3.050  SIR: 243.731  ISR:  -2.332  SAR:   1.856  \n",
      "\n"
     ]
    },
    {
     "name": "stderr",
     "output_type": "stream",
     "text": [
      " 18%|██████████████▉                                                                    | 9/50 [04:52<23:08, 33.86s/it]"
     ]
    },
    {
     "name": "stdout",
     "output_type": "stream",
     "text": [
      "drums           ==> SDR:  -2.087  SIR: 181.685  ISR:  -1.665  SAR:   6.288  \n",
      "bass            ==> SDR:  -2.087  SIR: 181.685  ISR:  -1.665  SAR:   6.288  \n",
      "\n"
     ]
    },
    {
     "name": "stderr",
     "output_type": "stream",
     "text": [
      " 20%|████████████████▍                                                                 | 10/50 [05:26<22:41, 34.04s/it]"
     ]
    },
    {
     "name": "stdout",
     "output_type": "stream",
     "text": [
      "drums           ==> SDR:  -2.115  SIR: 224.231  ISR:  -1.084  SAR:   0.796  \n",
      "bass            ==> SDR:  -2.115  SIR: 224.231  ISR:  -1.084  SAR:   0.796  \n",
      "\n"
     ]
    },
    {
     "name": "stderr",
     "output_type": "stream",
     "text": [
      " 22%|██████████████████                                                                | 11/50 [06:01<22:14, 34.22s/it]"
     ]
    },
    {
     "name": "stdout",
     "output_type": "stream",
     "text": [
      "drums           ==> SDR:  -2.688  SIR: 209.975  ISR:  -2.404  SAR:   7.660  \n",
      "bass            ==> SDR:  -2.688  SIR: 209.975  ISR:  -2.404  SAR:   7.660  \n",
      "\n"
     ]
    },
    {
     "name": "stderr",
     "output_type": "stream",
     "text": [
      " 24%|███████████████████▋                                                              | 12/50 [06:33<21:14, 33.55s/it]"
     ]
    },
    {
     "name": "stdout",
     "output_type": "stream",
     "text": [
      "drums           ==> SDR:  -1.927  SIR: 218.952  ISR:  -1.468  SAR:   3.826  \n",
      "bass            ==> SDR:  -1.927  SIR: 218.952  ISR:  -1.468  SAR:   3.826  \n",
      "\n"
     ]
    },
    {
     "name": "stderr",
     "output_type": "stream",
     "text": [
      " 26%|█████████████████████▎                                                            | 13/50 [06:52<18:01, 29.23s/it]"
     ]
    },
    {
     "name": "stdout",
     "output_type": "stream",
     "text": [
      "drums           ==> SDR:  -1.088  SIR: 164.085  ISR:  -0.588  SAR:   0.272  \n",
      "bass            ==> SDR:  -1.088  SIR: 164.085  ISR:  -0.588  SAR:   0.272  \n",
      "\n"
     ]
    },
    {
     "name": "stderr",
     "output_type": "stream",
     "text": [
      " 28%|██████████████████████▉                                                           | 14/50 [07:28<18:41, 31.16s/it]"
     ]
    },
    {
     "name": "stdout",
     "output_type": "stream",
     "text": [
      "drums           ==> SDR:  -2.625  SIR: 210.563  ISR:  -2.299  SAR:   7.247  \n",
      "bass            ==> SDR:  -2.625  SIR: 210.563  ISR:  -2.299  SAR:   7.247  \n",
      "\n"
     ]
    },
    {
     "name": "stderr",
     "output_type": "stream",
     "text": [
      " 30%|████████████████████████▌                                                         | 15/50 [08:37<24:54, 42.71s/it]"
     ]
    },
    {
     "name": "stdout",
     "output_type": "stream",
     "text": [
      "drums           ==> SDR:  -1.560  SIR: 245.976  ISR:  -1.011  SAR:   3.353  \n",
      "bass            ==> SDR:  -1.560  SIR: 245.976  ISR:  -1.011  SAR:   3.353  \n",
      "\n"
     ]
    },
    {
     "name": "stderr",
     "output_type": "stream",
     "text": [
      " 32%|██████████████████████████▏                                                       | 16/50 [09:14<23:14, 41.03s/it]"
     ]
    },
    {
     "name": "stdout",
     "output_type": "stream",
     "text": [
      "drums           ==> SDR:  -2.212  SIR: 220.315  ISR:  -1.562  SAR:   2.137  \n",
      "bass            ==> SDR:  -2.212  SIR: 220.315  ISR:  -1.562  SAR:   2.137  \n",
      "\n"
     ]
    },
    {
     "name": "stderr",
     "output_type": "stream",
     "text": [
      " 34%|███████████████████████████▉                                                      | 17/50 [09:32<18:44, 34.07s/it]"
     ]
    },
    {
     "name": "stdout",
     "output_type": "stream",
     "text": [
      "drums           ==> SDR:  -1.420  SIR: 228.236  ISR:  -0.208  SAR:  -2.835  \n",
      "bass            ==> SDR:  -1.420  SIR: 228.236  ISR:  -0.208  SAR:  -2.835  \n",
      "\n"
     ]
    },
    {
     "name": "stderr",
     "output_type": "stream",
     "text": [
      " 36%|█████████████████████████████▌                                                    | 18/50 [10:05<17:57, 33.67s/it]"
     ]
    },
    {
     "name": "stdout",
     "output_type": "stream",
     "text": [
      "drums           ==> SDR:  -3.203  SIR: 226.972  ISR:  -2.855  SAR:   5.686  \n",
      "bass            ==> SDR:  -3.203  SIR: 226.972  ISR:  -2.855  SAR:   5.686  \n",
      "\n"
     ]
    },
    {
     "name": "stderr",
     "output_type": "stream",
     "text": [
      " 38%|███████████████████████████████▏                                                  | 19/50 [10:40<17:33, 33.99s/it]"
     ]
    },
    {
     "name": "stdout",
     "output_type": "stream",
     "text": [
      "drums           ==> SDR:  -3.193  SIR: 219.287  ISR:  -2.982  SAR:   9.424  \n",
      "bass            ==> SDR:  -3.193  SIR: 219.287  ISR:  -2.982  SAR:   9.424  \n",
      "\n"
     ]
    },
    {
     "name": "stderr",
     "output_type": "stream",
     "text": [
      " 40%|████████████████████████████████▊                                                 | 20/50 [11:15<17:11, 34.38s/it]"
     ]
    },
    {
     "name": "stdout",
     "output_type": "stream",
     "text": [
      "drums           ==> SDR:  -2.054  SIR: 224.261  ISR:  -1.885  SAR:  10.851  \n",
      "bass            ==> SDR:  -2.054  SIR: 224.261  ISR:  -1.885  SAR:  10.851  \n",
      "\n"
     ]
    },
    {
     "name": "stderr",
     "output_type": "stream",
     "text": [
      " 42%|██████████████████████████████████▍                                               | 21/50 [11:51<16:49, 34.83s/it]"
     ]
    },
    {
     "name": "stdout",
     "output_type": "stream",
     "text": [
      "drums           ==> SDR:  -3.106  SIR: 161.507  ISR:  -2.774  SAR:   6.582  \n",
      "bass            ==> SDR:  -3.106  SIR: 161.507  ISR:  -2.774  SAR:   6.582  \n",
      "\n"
     ]
    },
    {
     "name": "stderr",
     "output_type": "stream",
     "text": [
      " 44%|████████████████████████████████████                                              | 22/50 [12:23<15:57, 34.18s/it]"
     ]
    },
    {
     "name": "stdout",
     "output_type": "stream",
     "text": [
      "drums           ==> SDR:  -1.885  SIR: 177.322  ISR:  -1.259  SAR:   2.284  \n",
      "bass            ==> SDR:  -1.885  SIR: 177.322  ISR:  -1.259  SAR:   2.284  \n",
      "\n"
     ]
    },
    {
     "name": "stderr",
     "output_type": "stream",
     "text": [
      " 46%|█████████████████████████████████████▋                                            | 23/50 [12:59<15:31, 34.51s/it]"
     ]
    },
    {
     "name": "stdout",
     "output_type": "stream",
     "text": [
      "drums           ==> SDR:  -2.169  SIR: 159.825  ISR:  -1.582  SAR:   2.578  \n",
      "bass            ==> SDR:  -2.169  SIR: 159.825  ISR:  -1.582  SAR:   2.578  \n",
      "\n"
     ]
    },
    {
     "name": "stderr",
     "output_type": "stream",
     "text": [
      " 48%|███████████████████████████████████████▎                                          | 24/50 [13:31<14:40, 33.85s/it]"
     ]
    },
    {
     "name": "stdout",
     "output_type": "stream",
     "text": [
      "drums           ==> SDR:  -3.033  SIR: 139.369  ISR:  -2.840  SAR:   6.467  \n",
      "bass            ==> SDR:  -3.033  SIR: 139.369  ISR:  -2.840  SAR:   6.467  \n",
      "\n"
     ]
    },
    {
     "name": "stderr",
     "output_type": "stream",
     "text": [
      " 50%|█████████████████████████████████████████                                         | 25/50 [14:06<14:15, 34.22s/it]"
     ]
    },
    {
     "name": "stdout",
     "output_type": "stream",
     "text": [
      "drums           ==> SDR:  -2.338  SIR: 226.274  ISR:  -1.459  SAR:   1.502  \n",
      "bass            ==> SDR:  -2.338  SIR: 226.274  ISR:  -1.459  SAR:   1.502  \n",
      "\n"
     ]
    },
    {
     "name": "stderr",
     "output_type": "stream",
     "text": [
      " 52%|██████████████████████████████████████████▋                                       | 26/50 [14:41<13:44, 34.36s/it]"
     ]
    },
    {
     "name": "stdout",
     "output_type": "stream",
     "text": [
      "drums           ==> SDR:  -3.509  SIR: 153.338  ISR:  -3.261  SAR:   8.695  \n",
      "bass            ==> SDR:  -3.509  SIR: 153.338  ISR:  -3.261  SAR:   8.695  \n",
      "\n"
     ]
    },
    {
     "name": "stderr",
     "output_type": "stream",
     "text": [
      " 54%|████████████████████████████████████████████▎                                     | 27/50 [15:19<13:36, 35.49s/it]"
     ]
    },
    {
     "name": "stdout",
     "output_type": "stream",
     "text": [
      "drums           ==> SDR:  -3.390  SIR: 175.562  ISR:  -3.170  SAR:   6.792  \n",
      "bass            ==> SDR:  -3.390  SIR: 175.562  ISR:  -3.170  SAR:   6.792  \n",
      "\n"
     ]
    },
    {
     "name": "stderr",
     "output_type": "stream",
     "text": [
      " 56%|█████████████████████████████████████████████▉                                    | 28/50 [15:38<11:14, 30.65s/it]"
     ]
    },
    {
     "name": "stdout",
     "output_type": "stream",
     "text": [
      "drums           ==> SDR:  -2.745  SIR: 201.760  ISR:  -2.511  SAR:   9.675  \n",
      "bass            ==> SDR:  -2.745  SIR: 201.760  ISR:  -2.511  SAR:   9.675  \n",
      "\n"
     ]
    },
    {
     "name": "stderr",
     "output_type": "stream",
     "text": [
      " 58%|███████████████████████████████████████████████▌                                  | 29/50 [15:48<08:30, 24.32s/it]"
     ]
    },
    {
     "name": "stdout",
     "output_type": "stream",
     "text": [
      "drums           ==> SDR:  -2.995  SIR: 214.579  ISR:  -2.696  SAR:   5.793  \n",
      "bass            ==> SDR:  -2.995  SIR: 214.579  ISR:  -2.696  SAR:   5.793  \n",
      "\n"
     ]
    },
    {
     "name": "stderr",
     "output_type": "stream",
     "text": [
      " 60%|█████████████████████████████████████████████████▏                                | 30/50 [16:20<08:56, 26.84s/it]"
     ]
    },
    {
     "name": "stdout",
     "output_type": "stream",
     "text": [
      "drums           ==> SDR:  -2.399  SIR: 201.961  ISR:  -1.888  SAR:   4.266  \n",
      "bass            ==> SDR:  -2.399  SIR: 201.961  ISR:  -1.888  SAR:   4.266  \n",
      "\n"
     ]
    },
    {
     "name": "stderr",
     "output_type": "stream",
     "text": [
      " 62%|██████████████████████████████████████████████████▊                               | 31/50 [16:54<09:05, 28.70s/it]"
     ]
    },
    {
     "name": "stdout",
     "output_type": "stream",
     "text": [
      "drums           ==> SDR:  -2.591  SIR: 193.849  ISR:  -1.568  SAR:   2.372  \n",
      "bass            ==> SDR:  -2.591  SIR: 193.849  ISR:  -1.568  SAR:   2.372  \n",
      "\n"
     ]
    },
    {
     "name": "stderr",
     "output_type": "stream",
     "text": [
      " 64%|████████████████████████████████████████████████████▍                             | 32/50 [17:29<09:14, 30.80s/it]"
     ]
    },
    {
     "name": "stdout",
     "output_type": "stream",
     "text": [
      "drums           ==> SDR:  -2.230  SIR: 239.934  ISR:  -1.121  SAR:   0.011  \n",
      "bass            ==> SDR:  -2.230  SIR: 239.934  ISR:  -1.121  SAR:   0.011  \n",
      "\n"
     ]
    },
    {
     "name": "stderr",
     "output_type": "stream",
     "text": [
      " 66%|██████████████████████████████████████████████████████                            | 33/50 [18:08<09:24, 33.22s/it]"
     ]
    },
    {
     "name": "stdout",
     "output_type": "stream",
     "text": [
      "drums           ==> SDR:  -2.365  SIR: 243.715  ISR:  -1.519  SAR:   0.726  \n",
      "bass            ==> SDR:  -2.365  SIR: 243.715  ISR:  -1.519  SAR:   0.726  \n",
      "\n"
     ]
    },
    {
     "name": "stderr",
     "output_type": "stream",
     "text": [
      " 68%|███████████████████████████████████████████████████████▊                          | 34/50 [18:45<09:09, 34.35s/it]"
     ]
    },
    {
     "name": "stdout",
     "output_type": "stream",
     "text": [
      "drums           ==> SDR:  -2.280  SIR: 240.165  ISR:  -1.599  SAR:   2.872  \n",
      "bass            ==> SDR:  -2.280  SIR: 240.165  ISR:  -1.599  SAR:   2.872  \n",
      "\n"
     ]
    },
    {
     "name": "stderr",
     "output_type": "stream",
     "text": [
      " 70%|█████████████████████████████████████████████████████████▍                        | 35/50 [19:22<08:47, 35.17s/it]"
     ]
    },
    {
     "name": "stdout",
     "output_type": "stream",
     "text": [
      "drums           ==> SDR:  -2.786  SIR: 220.467  ISR:  -2.610  SAR:   9.497  \n",
      "bass            ==> SDR:  -2.786  SIR: 220.467  ISR:  -2.610  SAR:   9.497  \n",
      "\n"
     ]
    },
    {
     "name": "stderr",
     "output_type": "stream",
     "text": [
      " 72%|███████████████████████████████████████████████████████████                       | 36/50 [19:42<07:09, 30.67s/it]"
     ]
    },
    {
     "name": "stdout",
     "output_type": "stream",
     "text": [
      "drums           ==> SDR:  -2.281  SIR: 203.743  ISR:  -1.303  SAR:  -0.402  \n",
      "bass            ==> SDR:  -2.281  SIR: 203.743  ISR:  -1.303  SAR:  -0.402  \n",
      "\n"
     ]
    },
    {
     "name": "stderr",
     "output_type": "stream",
     "text": [
      " 74%|████████████████████████████████████████████████████████████▋                     | 37/50 [20:52<09:11, 42.42s/it]"
     ]
    },
    {
     "name": "stdout",
     "output_type": "stream",
     "text": [
      "drums           ==> SDR:  -2.906  SIR: 241.718  ISR:  -2.271  SAR:   5.199  \n",
      "bass            ==> SDR:  -2.906  SIR: 241.718  ISR:  -2.271  SAR:   5.199  \n",
      "\n"
     ]
    },
    {
     "name": "stderr",
     "output_type": "stream",
     "text": [
      " 76%|██████████████████████████████████████████████████████████████▎                   | 38/50 [21:28<08:04, 40.37s/it]"
     ]
    },
    {
     "name": "stdout",
     "output_type": "stream",
     "text": [
      "drums           ==> SDR:  -2.621  SIR: 224.509  ISR:  -1.865  SAR:   4.061  \n",
      "bass            ==> SDR:  -2.621  SIR: 224.509  ISR:  -1.865  SAR:   4.061  \n",
      "\n"
     ]
    },
    {
     "name": "stderr",
     "output_type": "stream",
     "text": [
      " 78%|███████████████████████████████████████████████████████████████▉                  | 39/50 [22:06<07:15, 39.61s/it]"
     ]
    },
    {
     "name": "stdout",
     "output_type": "stream",
     "text": [
      "drums           ==> SDR:  -1.376  SIR: 228.165  ISR:  -0.808  SAR:   2.387  \n",
      "bass            ==> SDR:  -1.376  SIR: 228.165  ISR:  -0.808  SAR:   2.387  \n",
      "\n"
     ]
    },
    {
     "name": "stderr",
     "output_type": "stream",
     "text": [
      " 80%|█████████████████████████████████████████████████████████████████▌                | 40/50 [22:44<06:31, 39.14s/it]"
     ]
    },
    {
     "name": "stdout",
     "output_type": "stream",
     "text": [
      "drums           ==> SDR:  -2.399  SIR: 201.089  ISR:  -1.877  SAR:   3.884  \n",
      "bass            ==> SDR:  -2.399  SIR: 201.089  ISR:  -1.877  SAR:   3.884  \n",
      "\n"
     ]
    },
    {
     "name": "stderr",
     "output_type": "stream",
     "text": [
      " 82%|███████████████████████████████████████████████████████████████████▏              | 41/50 [23:18<05:38, 37.61s/it]"
     ]
    },
    {
     "name": "stdout",
     "output_type": "stream",
     "text": [
      "drums           ==> SDR:  -3.085  SIR: 170.504  ISR:  -2.261  SAR:   3.785  \n",
      "bass            ==> SDR:  -3.085  SIR: 170.504  ISR:  -2.261  SAR:   3.785  \n",
      "\n"
     ]
    },
    {
     "name": "stderr",
     "output_type": "stream",
     "text": [
      " 84%|████████████████████████████████████████████████████████████████████▉             | 42/50 [23:52<04:53, 36.63s/it]"
     ]
    },
    {
     "name": "stdout",
     "output_type": "stream",
     "text": [
      "drums           ==> SDR:  -2.578  SIR: 137.204  ISR:  -2.200  SAR:   5.886  \n",
      "bass            ==> SDR:  -2.578  SIR: 137.204  ISR:  -2.200  SAR:   5.886  \n",
      "\n"
     ]
    },
    {
     "name": "stderr",
     "output_type": "stream",
     "text": [
      " 86%|██████████████████████████████████████████████████████████████████████▌           | 43/50 [24:29<04:17, 36.81s/it]"
     ]
    },
    {
     "name": "stdout",
     "output_type": "stream",
     "text": [
      "drums           ==> SDR:  -2.601  SIR: 169.380  ISR:  -1.694  SAR:   1.314  \n",
      "bass            ==> SDR:  -2.601  SIR: 169.380  ISR:  -1.694  SAR:   1.314  \n",
      "\n"
     ]
    },
    {
     "name": "stderr",
     "output_type": "stream",
     "text": [
      " 88%|████████████████████████████████████████████████████████████████████████▏         | 44/50 [25:03<03:34, 35.80s/it]"
     ]
    },
    {
     "name": "stdout",
     "output_type": "stream",
     "text": [
      "drums           ==> SDR:  -2.156  SIR: 200.457  ISR:  -1.583  SAR:   1.360  \n",
      "bass            ==> SDR:  -2.156  SIR: 200.457  ISR:  -1.583  SAR:   1.360  \n",
      "\n"
     ]
    },
    {
     "name": "stderr",
     "output_type": "stream",
     "text": [
      " 90%|█████████████████████████████████████████████████████████████████████████▊        | 45/50 [25:39<03:00, 36.05s/it]"
     ]
    },
    {
     "name": "stdout",
     "output_type": "stream",
     "text": [
      "drums           ==> SDR:  -0.859  SIR: 196.626  ISR:  -0.492  SAR:  -1.133  \n",
      "bass            ==> SDR:  -0.859  SIR: 196.626  ISR:  -0.492  SAR:  -1.133  \n",
      "\n"
     ]
    },
    {
     "name": "stderr",
     "output_type": "stream",
     "text": [
      " 92%|███████████████████████████████████████████████████████████████████████████▍      | 46/50 [26:14<02:23, 35.76s/it]"
     ]
    },
    {
     "name": "stdout",
     "output_type": "stream",
     "text": [
      "drums           ==> SDR:  -1.842  SIR: 215.888  ISR:  -1.116  SAR:  -0.228  \n",
      "bass            ==> SDR:  -1.842  SIR: 215.888  ISR:  -1.116  SAR:  -0.228  \n",
      "\n"
     ]
    },
    {
     "name": "stderr",
     "output_type": "stream",
     "text": [
      " 94%|█████████████████████████████████████████████████████████████████████████████     | 47/50 [26:34<01:32, 30.90s/it]"
     ]
    },
    {
     "name": "stdout",
     "output_type": "stream",
     "text": [
      "drums           ==> SDR:  -1.754  SIR: 151.128  ISR:  -1.495  SAR:   9.161  \n",
      "bass            ==> SDR:  -1.754  SIR: 151.128  ISR:  -1.495  SAR:   9.161  \n",
      "\n"
     ]
    },
    {
     "name": "stderr",
     "output_type": "stream",
     "text": [
      " 96%|██████████████████████████████████████████████████████████████████████████████▋   | 48/50 [27:13<01:06, 33.25s/it]"
     ]
    },
    {
     "name": "stdout",
     "output_type": "stream",
     "text": [
      "drums           ==> SDR:  -1.830  SIR: 201.179  ISR:  -1.090  SAR:   1.295  \n",
      "bass            ==> SDR:  -1.830  SIR: 201.179  ISR:  -1.090  SAR:   1.295  \n",
      "\n"
     ]
    },
    {
     "name": "stderr",
     "output_type": "stream",
     "text": [
      " 98%|████████████████████████████████████████████████████████████████████████████████▎ | 49/50 [27:48<00:33, 33.75s/it]"
     ]
    },
    {
     "name": "stdout",
     "output_type": "stream",
     "text": [
      "drums           ==> SDR:  -2.852  SIR: 207.113  ISR:  -2.459  SAR:   8.175  \n",
      "bass            ==> SDR:  -2.852  SIR: 207.113  ISR:  -2.459  SAR:   8.175  \n",
      "\n"
     ]
    },
    {
     "name": "stderr",
     "output_type": "stream",
     "text": [
      "100%|██████████████████████████████████████████████████████████████████████████████████| 50/50 [28:24<00:00, 34.09s/it]"
     ]
    },
    {
     "name": "stdout",
     "output_type": "stream",
     "text": [
      "drums           ==> SDR:  -2.847  SIR: 206.888  ISR:  -2.382  SAR:   4.490  \n",
      "bass            ==> SDR:  -2.847  SIR: 206.888  ISR:  -2.382  SAR:   4.490  \n",
      "\n"
     ]
    },
    {
     "name": "stderr",
     "output_type": "stream",
     "text": [
      "\n",
      "  2%|█▋                                                                                 | 1/50 [00:33<27:31, 33.71s/it]"
     ]
    },
    {
     "name": "stdout",
     "output_type": "stream",
     "text": [
      "drums           ==> SDR:  -2.457  SIR: 230.145  ISR:  -1.994  SAR:   3.421  \n",
      "bass            ==> SDR:  -2.457  SIR: 230.145  ISR:  -1.994  SAR:   3.421  \n",
      "\n"
     ]
    },
    {
     "name": "stderr",
     "output_type": "stream",
     "text": [
      "  4%|███▎                                                                               | 2/50 [01:07<27:04, 33.84s/it]"
     ]
    },
    {
     "name": "stdout",
     "output_type": "stream",
     "text": [
      "drums           ==> SDR:  -2.700  SIR: 182.934  ISR:  -1.692  SAR:   0.240  \n",
      "bass            ==> SDR:  -2.700  SIR: 182.934  ISR:  -1.692  SAR:   0.240  \n",
      "\n"
     ]
    },
    {
     "name": "stderr",
     "output_type": "stream",
     "text": [
      "  6%|████▉                                                                              | 3/50 [01:29<22:03, 28.15s/it]"
     ]
    },
    {
     "name": "stdout",
     "output_type": "stream",
     "text": [
      "drums           ==> SDR:  -2.530  SIR: 219.011  ISR:  -1.938  SAR:   3.608  \n",
      "bass            ==> SDR:  -2.530  SIR: 219.011  ISR:  -1.938  SAR:   3.608  \n",
      "\n"
     ]
    },
    {
     "name": "stderr",
     "output_type": "stream",
     "text": [
      "  8%|██████▋                                                                            | 4/50 [02:04<23:55, 31.22s/it]"
     ]
    },
    {
     "name": "stdout",
     "output_type": "stream",
     "text": [
      "drums           ==> SDR:  -3.253  SIR: 237.803  ISR:  -2.056  SAR:   1.183  \n",
      "bass            ==> SDR:  -3.253  SIR: 237.803  ISR:  -2.056  SAR:   1.183  \n",
      "\n"
     ]
    },
    {
     "name": "stderr",
     "output_type": "stream",
     "text": [
      " 10%|████████▎                                                                          | 5/50 [02:44<25:38, 34.19s/it]"
     ]
    },
    {
     "name": "stdout",
     "output_type": "stream",
     "text": [
      "drums           ==> SDR:  -2.672  SIR: 191.730  ISR:  -2.312  SAR:   7.627  \n",
      "bass            ==> SDR:  -2.672  SIR: 191.730  ISR:  -2.312  SAR:   7.627  \n",
      "\n"
     ]
    },
    {
     "name": "stderr",
     "output_type": "stream",
     "text": [
      " 12%|█████████▉                                                                         | 6/50 [03:17<24:51, 33.90s/it]"
     ]
    },
    {
     "name": "stdout",
     "output_type": "stream",
     "text": [
      "drums           ==> SDR:  -2.479  SIR: 234.283  ISR:  -1.963  SAR:   4.180  \n",
      "bass            ==> SDR:  -2.479  SIR: 234.283  ISR:  -1.963  SAR:   4.180  \n",
      "\n"
     ]
    },
    {
     "name": "stderr",
     "output_type": "stream",
     "text": [
      " 14%|███████████▌                                                                       | 7/50 [03:49<23:48, 33.21s/it]"
     ]
    },
    {
     "name": "stdout",
     "output_type": "stream",
     "text": [
      "drums           ==> SDR:  -2.745  SIR: 186.568  ISR:  -2.146  SAR:   3.714  \n",
      "bass            ==> SDR:  -2.745  SIR: 186.568  ISR:  -2.146  SAR:   3.714  \n",
      "\n"
     ]
    },
    {
     "name": "stderr",
     "output_type": "stream",
     "text": [
      " 16%|█████████████▎                                                                     | 8/50 [04:23<23:27, 33.52s/it]"
     ]
    },
    {
     "name": "stdout",
     "output_type": "stream",
     "text": [
      "drums           ==> SDR:  -2.964  SIR: 239.808  ISR:  -2.295  SAR:   2.034  \n",
      "bass            ==> SDR:  -2.964  SIR: 239.808  ISR:  -2.295  SAR:   2.034  \n",
      "\n"
     ]
    },
    {
     "name": "stderr",
     "output_type": "stream",
     "text": [
      " 18%|██████████████▉                                                                    | 9/50 [05:00<23:31, 34.41s/it]"
     ]
    },
    {
     "name": "stdout",
     "output_type": "stream",
     "text": [
      "drums           ==> SDR:  -2.119  SIR: 180.230  ISR:  -1.706  SAR:   6.118  \n",
      "bass            ==> SDR:  -2.119  SIR: 180.230  ISR:  -1.706  SAR:   6.118  \n",
      "\n"
     ]
    },
    {
     "name": "stderr",
     "output_type": "stream",
     "text": [
      " 20%|████████████████▍                                                                 | 10/50 [05:35<23:12, 34.81s/it]"
     ]
    },
    {
     "name": "stdout",
     "output_type": "stream",
     "text": [
      "drums           ==> SDR:  -2.178  SIR: 224.681  ISR:  -1.030  SAR:   0.384  \n",
      "bass            ==> SDR:  -2.178  SIR: 224.681  ISR:  -1.030  SAR:   0.384  \n",
      "\n"
     ]
    },
    {
     "name": "stderr",
     "output_type": "stream",
     "text": [
      " 22%|██████████████████                                                                | 11/50 [06:11<22:51, 35.16s/it]"
     ]
    },
    {
     "name": "stdout",
     "output_type": "stream",
     "text": [
      "drums           ==> SDR:  -2.777  SIR: 220.503  ISR:  -2.447  SAR:   7.413  \n",
      "bass            ==> SDR:  -2.777  SIR: 220.503  ISR:  -2.447  SAR:   7.413  \n",
      "\n"
     ]
    },
    {
     "name": "stderr",
     "output_type": "stream",
     "text": [
      " 24%|███████████████████▋                                                              | 12/50 [06:44<21:50, 34.49s/it]"
     ]
    },
    {
     "name": "stdout",
     "output_type": "stream",
     "text": [
      "drums           ==> SDR:  -1.915  SIR: 215.979  ISR:  -1.467  SAR:   3.813  \n",
      "bass            ==> SDR:  -1.915  SIR: 215.979  ISR:  -1.467  SAR:   3.813  \n",
      "\n"
     ]
    },
    {
     "name": "stderr",
     "output_type": "stream",
     "text": [
      " 26%|█████████████████████▎                                                            | 13/50 [07:04<18:28, 29.95s/it]"
     ]
    },
    {
     "name": "stdout",
     "output_type": "stream",
     "text": [
      "drums           ==> SDR:  -0.832  SIR: 160.011  ISR:  -0.467  SAR:  -0.287  \n",
      "bass            ==> SDR:  -0.832  SIR: 160.011  ISR:  -0.467  SAR:  -0.287  \n",
      "\n"
     ]
    },
    {
     "name": "stderr",
     "output_type": "stream",
     "text": [
      " 28%|██████████████████████▉                                                           | 14/50 [07:41<19:13, 32.05s/it]"
     ]
    },
    {
     "name": "stdout",
     "output_type": "stream",
     "text": [
      "drums           ==> SDR:  -2.567  SIR: 209.018  ISR:  -2.273  SAR:   7.193  \n",
      "bass            ==> SDR:  -2.567  SIR: 209.018  ISR:  -2.273  SAR:   7.193  \n",
      "\n"
     ]
    },
    {
     "name": "stderr",
     "output_type": "stream",
     "text": [
      " 30%|████████████████████████▌                                                         | 15/50 [08:52<25:36, 43.90s/it]"
     ]
    },
    {
     "name": "stdout",
     "output_type": "stream",
     "text": [
      "drums           ==> SDR:  -1.648  SIR: 239.201  ISR:  -1.086  SAR:   3.124  \n",
      "bass            ==> SDR:  -1.648  SIR: 237.975  ISR:  -1.086  SAR:   3.124  \n",
      "\n"
     ]
    },
    {
     "name": "stderr",
     "output_type": "stream",
     "text": [
      " 32%|██████████████████████████▏                                                       | 16/50 [09:30<23:50, 42.09s/it]"
     ]
    },
    {
     "name": "stdout",
     "output_type": "stream",
     "text": [
      "drums           ==> SDR:  -2.353  SIR: 220.289  ISR:  -1.743  SAR:   3.106  \n",
      "bass            ==> SDR:  -2.353  SIR: 220.289  ISR:  -1.743  SAR:   3.106  \n",
      "\n"
     ]
    },
    {
     "name": "stderr",
     "output_type": "stream",
     "text": [
      " 34%|███████████████████████████▉                                                      | 17/50 [09:48<19:15, 35.00s/it]"
     ]
    },
    {
     "name": "stdout",
     "output_type": "stream",
     "text": [
      "drums           ==> SDR:  -1.597  SIR: 222.690  ISR:  -0.284  SAR:  -2.363  \n",
      "bass            ==> SDR:  -1.597  SIR: 222.690  ISR:  -0.284  SAR:  -2.363  \n",
      "\n"
     ]
    },
    {
     "name": "stderr",
     "output_type": "stream",
     "text": [
      " 36%|█████████████████████████████▌                                                    | 18/50 [10:22<18:28, 34.66s/it]"
     ]
    },
    {
     "name": "stdout",
     "output_type": "stream",
     "text": [
      "drums           ==> SDR:  -3.213  SIR: 229.179  ISR:  -2.895  SAR:   5.837  \n",
      "bass            ==> SDR:  -3.213  SIR: 229.179  ISR:  -2.895  SAR:   5.837  \n",
      "\n"
     ]
    },
    {
     "name": "stderr",
     "output_type": "stream",
     "text": [
      " 38%|███████████████████████████████▏                                                  | 19/50 [10:57<17:51, 34.56s/it]"
     ]
    },
    {
     "name": "stdout",
     "output_type": "stream",
     "text": [
      "drums           ==> SDR:  -3.259  SIR: 221.368  ISR:  -3.038  SAR:   9.604  \n",
      "bass            ==> SDR:  -3.259  SIR: 221.368  ISR:  -3.038  SAR:   9.604  \n",
      "\n"
     ]
    },
    {
     "name": "stderr",
     "output_type": "stream",
     "text": [
      " 40%|████████████████████████████████▊                                                 | 20/50 [11:31<17:19, 34.66s/it]"
     ]
    },
    {
     "name": "stdout",
     "output_type": "stream",
     "text": [
      "drums           ==> SDR:  -2.026  SIR: 223.939  ISR:  -1.880  SAR:  10.963  \n",
      "bass            ==> SDR:  -2.026  SIR: 223.939  ISR:  -1.880  SAR:  10.963  \n",
      "\n"
     ]
    },
    {
     "name": "stderr",
     "output_type": "stream",
     "text": [
      " 42%|██████████████████████████████████▍                                               | 21/50 [12:07<16:52, 34.92s/it]"
     ]
    },
    {
     "name": "stdout",
     "output_type": "stream",
     "text": [
      "drums           ==> SDR:  -3.005  SIR: 159.542  ISR:  -2.693  SAR:   6.412  \n",
      "bass            ==> SDR:  -3.005  SIR: 159.542  ISR:  -2.693  SAR:   6.412  \n",
      "\n"
     ]
    },
    {
     "name": "stderr",
     "output_type": "stream",
     "text": [
      " 44%|████████████████████████████████████                                              | 22/50 [12:39<15:54, 34.11s/it]"
     ]
    },
    {
     "name": "stdout",
     "output_type": "stream",
     "text": [
      "drums           ==> SDR:  -2.130  SIR: 177.407  ISR:  -1.350  SAR:   2.559  \n",
      "bass            ==> SDR:  -2.130  SIR: 177.407  ISR:  -1.350  SAR:   2.559  \n",
      "\n"
     ]
    },
    {
     "name": "stderr",
     "output_type": "stream",
     "text": [
      " 46%|█████████████████████████████████████▋                                            | 23/50 [13:14<15:22, 34.17s/it]"
     ]
    },
    {
     "name": "stdout",
     "output_type": "stream",
     "text": [
      "drums           ==> SDR:  -2.078  SIR: 157.225  ISR:  -1.498  SAR:   2.088  \n",
      "bass            ==> SDR:  -2.078  SIR: 157.225  ISR:  -1.498  SAR:   2.088  \n",
      "\n"
     ]
    },
    {
     "name": "stderr",
     "output_type": "stream",
     "text": [
      " 48%|███████████████████████████████████████▎                                          | 24/50 [13:45<14:30, 33.47s/it]"
     ]
    },
    {
     "name": "stdout",
     "output_type": "stream",
     "text": [
      "drums           ==> SDR:  -3.054  SIR: 138.141  ISR:  -2.852  SAR:   6.277  \n",
      "bass            ==> SDR:  -3.054  SIR: 138.141  ISR:  -2.852  SAR:   6.277  \n",
      "\n"
     ]
    },
    {
     "name": "stderr",
     "output_type": "stream",
     "text": [
      " 50%|█████████████████████████████████████████                                         | 25/50 [14:19<13:58, 33.55s/it]"
     ]
    },
    {
     "name": "stdout",
     "output_type": "stream",
     "text": [
      "drums           ==> SDR:  -2.264  SIR: 231.925  ISR:  -1.456  SAR:   1.651  \n",
      "bass            ==> SDR:  -2.264  SIR: 231.925  ISR:  -1.456  SAR:   1.651  \n",
      "\n"
     ]
    },
    {
     "name": "stderr",
     "output_type": "stream",
     "text": [
      " 52%|██████████████████████████████████████████▋                                       | 26/50 [14:54<13:34, 33.96s/it]"
     ]
    },
    {
     "name": "stdout",
     "output_type": "stream",
     "text": [
      "drums           ==> SDR:  -3.369  SIR: 153.428  ISR:  -3.167  SAR:   8.607  \n",
      "bass            ==> SDR:  -3.369  SIR: 153.428  ISR:  -3.167  SAR:   8.607  \n",
      "\n"
     ]
    },
    {
     "name": "stderr",
     "output_type": "stream",
     "text": [
      " 54%|████████████████████████████████████████████▎                                     | 27/50 [15:31<13:22, 34.89s/it]"
     ]
    },
    {
     "name": "stdout",
     "output_type": "stream",
     "text": [
      "drums           ==> SDR:  -3.377  SIR: 173.094  ISR:  -3.202  SAR:   7.082  \n",
      "bass            ==> SDR:  -3.377  SIR: 173.094  ISR:  -3.202  SAR:   7.082  \n",
      "\n"
     ]
    },
    {
     "name": "stderr",
     "output_type": "stream",
     "text": [
      " 56%|█████████████████████████████████████████████▉                                    | 28/50 [15:50<11:01, 30.05s/it]"
     ]
    },
    {
     "name": "stdout",
     "output_type": "stream",
     "text": [
      "drums           ==> SDR:  -2.700  SIR: 202.514  ISR:  -2.445  SAR:   9.147  \n",
      "bass            ==> SDR:  -2.700  SIR: 202.514  ISR:  -2.445  SAR:   9.147  \n",
      "\n"
     ]
    },
    {
     "name": "stderr",
     "output_type": "stream",
     "text": [
      " 58%|███████████████████████████████████████████████▌                                  | 29/50 [15:59<08:20, 23.85s/it]"
     ]
    },
    {
     "name": "stdout",
     "output_type": "stream",
     "text": [
      "drums           ==> SDR:  -2.689  SIR: 211.986  ISR:  -2.466  SAR:   5.521  \n",
      "bass            ==> SDR:  -2.689  SIR: 211.986  ISR:  -2.466  SAR:   5.521  \n",
      "\n"
     ]
    },
    {
     "name": "stderr",
     "output_type": "stream",
     "text": [
      " 60%|█████████████████████████████████████████████████▏                                | 30/50 [16:31<08:46, 26.35s/it]"
     ]
    },
    {
     "name": "stdout",
     "output_type": "stream",
     "text": [
      "drums           ==> SDR:  -2.194  SIR: 202.250  ISR:  -1.710  SAR:   4.011  \n",
      "bass            ==> SDR:  -2.194  SIR: 202.250  ISR:  -1.710  SAR:   4.011  \n",
      "\n"
     ]
    },
    {
     "name": "stderr",
     "output_type": "stream",
     "text": [
      " 62%|██████████████████████████████████████████████████▊                               | 31/50 [17:04<08:53, 28.08s/it]"
     ]
    },
    {
     "name": "stdout",
     "output_type": "stream",
     "text": [
      "drums           ==> SDR:  -2.674  SIR: 197.152  ISR:  -1.572  SAR:   2.136  \n",
      "bass            ==> SDR:  -2.674  SIR: 197.152  ISR:  -1.572  SAR:   2.136  \n",
      "\n"
     ]
    },
    {
     "name": "stderr",
     "output_type": "stream",
     "text": [
      " 64%|████████████████████████████████████████████████████▍                             | 32/50 [17:38<08:58, 29.91s/it]"
     ]
    },
    {
     "name": "stdout",
     "output_type": "stream",
     "text": [
      "drums           ==> SDR:  -2.106  SIR: 241.687  ISR:  -1.120  SAR:   0.102  \n",
      "bass            ==> SDR:  -2.106  SIR: 241.687  ISR:  -1.120  SAR:   0.102  \n",
      "\n"
     ]
    },
    {
     "name": "stderr",
     "output_type": "stream",
     "text": [
      " 66%|██████████████████████████████████████████████████████                            | 33/50 [18:13<08:54, 31.45s/it]"
     ]
    },
    {
     "name": "stdout",
     "output_type": "stream",
     "text": [
      "drums           ==> SDR:  -2.307  SIR: 242.844  ISR:  -1.453  SAR:   0.521  \n",
      "bass            ==> SDR:  -2.307  SIR: 242.844  ISR:  -1.453  SAR:   0.521  \n",
      "\n"
     ]
    },
    {
     "name": "stderr",
     "output_type": "stream",
     "text": [
      " 68%|███████████████████████████████████████████████████████▊                          | 34/50 [18:46<08:33, 32.09s/it]"
     ]
    },
    {
     "name": "stdout",
     "output_type": "stream",
     "text": [
      "drums           ==> SDR:  -2.329  SIR: 238.166  ISR:  -1.603  SAR:   2.854  \n",
      "bass            ==> SDR:  -2.329  SIR: 238.166  ISR:  -1.603  SAR:   2.854  \n",
      "\n"
     ]
    },
    {
     "name": "stderr",
     "output_type": "stream",
     "text": [
      " 70%|█████████████████████████████████████████████████████████▍                        | 35/50 [19:21<08:12, 32.83s/it]"
     ]
    },
    {
     "name": "stdout",
     "output_type": "stream",
     "text": [
      "drums           ==> SDR:  -2.852  SIR: 216.687  ISR:  -2.662  SAR:   9.421  \n",
      "bass            ==> SDR:  -2.852  SIR: 216.687  ISR:  -2.662  SAR:   9.421  \n",
      "\n"
     ]
    },
    {
     "name": "stderr",
     "output_type": "stream",
     "text": [
      " 72%|███████████████████████████████████████████████████████████                       | 36/50 [19:41<06:44, 28.89s/it]"
     ]
    },
    {
     "name": "stdout",
     "output_type": "stream",
     "text": [
      "drums           ==> SDR:  -2.275  SIR: 203.405  ISR:  -1.349  SAR:  -0.342  \n",
      "bass            ==> SDR:  -2.275  SIR: 203.405  ISR:  -1.349  SAR:  -0.342  \n",
      "\n"
     ]
    },
    {
     "name": "stderr",
     "output_type": "stream",
     "text": [
      " 74%|████████████████████████████████████████████████████████████▋                     | 37/50 [20:49<08:48, 40.66s/it]"
     ]
    },
    {
     "name": "stdout",
     "output_type": "stream",
     "text": [
      "drums           ==> SDR:  -2.930  SIR: 233.576  ISR:  -2.269  SAR:   5.049  \n",
      "bass            ==> SDR:  -2.930  SIR: 233.576  ISR:  -2.269  SAR:   5.049  \n",
      "\n"
     ]
    },
    {
     "name": "stderr",
     "output_type": "stream",
     "text": [
      " 76%|██████████████████████████████████████████████████████████████▎                   | 38/50 [21:23<07:45, 38.76s/it]"
     ]
    },
    {
     "name": "stdout",
     "output_type": "stream",
     "text": [
      "drums           ==> SDR:  -2.563  SIR: 219.901  ISR:  -1.719  SAR:   3.588  \n",
      "bass            ==> SDR:  -2.563  SIR: 219.901  ISR:  -1.719  SAR:   3.588  \n",
      "\n"
     ]
    },
    {
     "name": "stderr",
     "output_type": "stream",
     "text": [
      " 78%|███████████████████████████████████████████████████████████████▉                  | 39/50 [22:00<06:59, 38.17s/it]"
     ]
    },
    {
     "name": "stdout",
     "output_type": "stream",
     "text": [
      "drums           ==> SDR:  -1.392  SIR: 227.313  ISR:  -0.828  SAR:   2.354  \n",
      "bass            ==> SDR:  -1.392  SIR: 227.313  ISR:  -0.828  SAR:   2.354  \n",
      "\n"
     ]
    },
    {
     "name": "stderr",
     "output_type": "stream",
     "text": [
      " 80%|█████████████████████████████████████████████████████████████████▌                | 40/50 [22:38<06:21, 38.13s/it]"
     ]
    },
    {
     "name": "stdout",
     "output_type": "stream",
     "text": [
      "drums           ==> SDR:  -2.731  SIR: 189.661  ISR:  -1.930  SAR:   3.950  \n",
      "bass            ==> SDR:  -2.731  SIR: 189.661  ISR:  -1.930  SAR:   3.950  \n",
      "\n"
     ]
    },
    {
     "name": "stderr",
     "output_type": "stream",
     "text": [
      " 82%|███████████████████████████████████████████████████████████████████▏              | 41/50 [23:12<05:31, 36.86s/it]"
     ]
    },
    {
     "name": "stdout",
     "output_type": "stream",
     "text": [
      "drums           ==> SDR:  -2.850  SIR: 170.213  ISR:  -2.135  SAR:   3.479  \n",
      "bass            ==> SDR:  -2.850  SIR: 170.213  ISR:  -2.135  SAR:   3.479  \n",
      "\n"
     ]
    },
    {
     "name": "stderr",
     "output_type": "stream",
     "text": [
      " 84%|████████████████████████████████████████████████████████████████████▉             | 42/50 [23:46<04:47, 35.98s/it]"
     ]
    },
    {
     "name": "stdout",
     "output_type": "stream",
     "text": [
      "drums           ==> SDR:  -2.519  SIR: 137.331  ISR:  -2.153  SAR:   6.122  \n",
      "bass            ==> SDR:  -2.519  SIR: 137.331  ISR:  -2.153  SAR:   6.122  \n",
      "\n"
     ]
    },
    {
     "name": "stderr",
     "output_type": "stream",
     "text": [
      " 86%|██████████████████████████████████████████████████████████████████████▌           | 43/50 [24:21<04:11, 35.90s/it]"
     ]
    },
    {
     "name": "stdout",
     "output_type": "stream",
     "text": [
      "drums           ==> SDR:  -2.619  SIR: 168.520  ISR:  -1.699  SAR:   1.437  \n",
      "bass            ==> SDR:  -2.619  SIR: 168.520  ISR:  -1.699  SAR:   1.437  \n",
      "\n"
     ]
    },
    {
     "name": "stderr",
     "output_type": "stream",
     "text": [
      " 88%|████████████████████████████████████████████████████████████████████████▏         | 44/50 [24:54<03:28, 34.83s/it]"
     ]
    },
    {
     "name": "stdout",
     "output_type": "stream",
     "text": [
      "drums           ==> SDR:  -2.125  SIR: 196.655  ISR:  -1.488  SAR:   1.143  \n",
      "bass            ==> SDR:  -2.125  SIR: 196.655  ISR:  -1.488  SAR:   1.143  \n",
      "\n"
     ]
    },
    {
     "name": "stderr",
     "output_type": "stream",
     "text": [
      " 90%|█████████████████████████████████████████████████████████████████████████▊        | 45/50 [25:31<02:57, 35.55s/it]"
     ]
    },
    {
     "name": "stdout",
     "output_type": "stream",
     "text": [
      "drums           ==> SDR:  -0.782  SIR: 210.427  ISR:  -0.453  SAR:  -0.971  \n",
      "bass            ==> SDR:  -0.782  SIR: 210.427  ISR:  -0.453  SAR:  -0.971  \n",
      "\n"
     ]
    },
    {
     "name": "stderr",
     "output_type": "stream",
     "text": [
      " 92%|███████████████████████████████████████████████████████████████████████████▍      | 46/50 [26:07<02:22, 35.75s/it]"
     ]
    },
    {
     "name": "stdout",
     "output_type": "stream",
     "text": [
      "drums           ==> SDR:  -1.930  SIR: 219.124  ISR:  -1.131  SAR:  -0.279  \n",
      "bass            ==> SDR:  -1.930  SIR: 219.124  ISR:  -1.131  SAR:  -0.279  \n",
      "\n"
     ]
    },
    {
     "name": "stderr",
     "output_type": "stream",
     "text": [
      " 94%|█████████████████████████████████████████████████████████████████████████████     | 47/50 [26:27<01:33, 31.01s/it]"
     ]
    },
    {
     "name": "stdout",
     "output_type": "stream",
     "text": [
      "drums           ==> SDR:  -1.820  SIR: 150.336  ISR:  -1.546  SAR:   9.015  \n",
      "bass            ==> SDR:  -1.820  SIR: 150.336  ISR:  -1.546  SAR:   9.015  \n",
      "\n"
     ]
    },
    {
     "name": "stderr",
     "output_type": "stream",
     "text": [
      " 96%|██████████████████████████████████████████████████████████████████████████████▋   | 48/50 [27:03<01:04, 32.45s/it]"
     ]
    },
    {
     "name": "stdout",
     "output_type": "stream",
     "text": [
      "drums           ==> SDR:  -1.822  SIR: 201.197  ISR:  -1.030  SAR:   1.037  \n",
      "bass            ==> SDR:  -1.822  SIR: 201.197  ISR:  -1.030  SAR:   1.037  \n",
      "\n"
     ]
    },
    {
     "name": "stderr",
     "output_type": "stream",
     "text": [
      " 98%|████████████████████████████████████████████████████████████████████████████████▎ | 49/50 [27:43<00:34, 34.64s/it]"
     ]
    },
    {
     "name": "stdout",
     "output_type": "stream",
     "text": [
      "drums           ==> SDR:  -2.819  SIR: 212.451  ISR:  -2.442  SAR:   8.256  \n",
      "bass            ==> SDR:  -2.819  SIR: 212.451  ISR:  -2.442  SAR:   8.256  \n",
      "\n"
     ]
    },
    {
     "name": "stderr",
     "output_type": "stream",
     "text": [
      "100%|██████████████████████████████████████████████████████████████████████████████████| 50/50 [28:20<00:00, 34.01s/it]"
     ]
    },
    {
     "name": "stdout",
     "output_type": "stream",
     "text": [
      "drums           ==> SDR:  -2.859  SIR: 211.113  ISR:  -2.362  SAR:   4.552  \n",
      "bass            ==> SDR:  -2.859  SIR: 211.113  ISR:  -2.362  SAR:   4.552  \n",
      "\n"
     ]
    },
    {
     "name": "stderr",
     "output_type": "stream",
     "text": [
      "\n",
      "  2%|█▋                                                                                 | 1/50 [00:34<28:15, 34.60s/it]"
     ]
    },
    {
     "name": "stdout",
     "output_type": "stream",
     "text": [
      "drums           ==> SDR:  -2.475  SIR: 224.315  ISR:  -2.014  SAR:   3.678  \n",
      "bass            ==> SDR:  -2.475  SIR: 224.315  ISR:  -2.014  SAR:   3.678  \n",
      "\n"
     ]
    },
    {
     "name": "stderr",
     "output_type": "stream",
     "text": [
      "  4%|███▎                                                                               | 2/50 [01:13<29:33, 36.94s/it]"
     ]
    },
    {
     "name": "stdout",
     "output_type": "stream",
     "text": [
      "drums           ==> SDR:  -2.604  SIR: 179.403  ISR:  -1.652  SAR:   0.678  \n",
      "bass            ==> SDR:  -2.604  SIR: 179.403  ISR:  -1.652  SAR:   0.678  \n",
      "\n"
     ]
    },
    {
     "name": "stderr",
     "output_type": "stream",
     "text": [
      "  6%|████▉                                                                              | 3/50 [01:34<23:18, 29.75s/it]"
     ]
    },
    {
     "name": "stdout",
     "output_type": "stream",
     "text": [
      "drums           ==> SDR:  -2.683  SIR: 216.950  ISR:  -2.208  SAR:   5.104  \n",
      "bass            ==> SDR:  -2.683  SIR: 216.950  ISR:  -2.208  SAR:   5.104  \n",
      "\n"
     ]
    },
    {
     "name": "stderr",
     "output_type": "stream",
     "text": [
      "  8%|██████▋                                                                            | 4/50 [02:10<24:37, 32.11s/it]"
     ]
    },
    {
     "name": "stdout",
     "output_type": "stream",
     "text": [
      "drums           ==> SDR:  -3.653  SIR: 235.055  ISR:  -2.192  SAR:  -0.304  \n",
      "bass            ==> SDR:  -3.653  SIR: 235.055  ISR:  -2.192  SAR:  -0.304  \n",
      "\n"
     ]
    },
    {
     "name": "stderr",
     "output_type": "stream",
     "text": [
      " 10%|████████▎                                                                          | 5/50 [02:52<27:00, 36.00s/it]"
     ]
    },
    {
     "name": "stdout",
     "output_type": "stream",
     "text": [
      "drums           ==> SDR:  -2.620  SIR: 199.980  ISR:  -2.311  SAR:   8.148  \n",
      "bass            ==> SDR:  -2.620  SIR: 199.980  ISR:  -2.311  SAR:   8.148  \n",
      "\n"
     ]
    },
    {
     "name": "stderr",
     "output_type": "stream",
     "text": [
      " 12%|█████████▉                                                                         | 6/50 [03:30<26:52, 36.64s/it]"
     ]
    },
    {
     "name": "stdout",
     "output_type": "stream",
     "text": [
      "drums           ==> SDR:  -2.378  SIR: 229.966  ISR:  -1.972  SAR:   4.205  \n",
      "bass            ==> SDR:  -2.378  SIR: 229.966  ISR:  -1.972  SAR:   4.205  \n",
      "\n"
     ]
    },
    {
     "name": "stderr",
     "output_type": "stream",
     "text": [
      " 14%|███████████▌                                                                       | 7/50 [04:05<25:44, 35.91s/it]"
     ]
    },
    {
     "name": "stdout",
     "output_type": "stream",
     "text": [
      "drums           ==> SDR:  -2.633  SIR: 194.536  ISR:  -2.022  SAR:   3.788  \n",
      "bass            ==> SDR:  -2.633  SIR: 194.536  ISR:  -2.022  SAR:   3.788  \n",
      "\n"
     ]
    },
    {
     "name": "stderr",
     "output_type": "stream",
     "text": [
      " 16%|█████████████▎                                                                     | 8/50 [04:40<24:54, 35.58s/it]"
     ]
    },
    {
     "name": "stdout",
     "output_type": "stream",
     "text": [
      "drums           ==> SDR:  -2.844  SIR: 242.903  ISR:  -2.182  SAR:   1.962  \n",
      "bass            ==> SDR:  -2.844  SIR: 242.903  ISR:  -2.182  SAR:   1.962  \n",
      "\n"
     ]
    },
    {
     "name": "stderr",
     "output_type": "stream",
     "text": [
      " 18%|██████████████▉                                                                    | 9/50 [05:17<24:43, 36.19s/it]"
     ]
    },
    {
     "name": "stdout",
     "output_type": "stream",
     "text": [
      "drums           ==> SDR:  -2.178  SIR: 178.966  ISR:  -1.823  SAR:   7.019  \n",
      "bass            ==> SDR:  -2.178  SIR: 178.966  ISR:  -1.823  SAR:   7.019  \n",
      "\n"
     ]
    },
    {
     "name": "stderr",
     "output_type": "stream",
     "text": [
      " 20%|████████████████▍                                                                 | 10/50 [05:54<24:11, 36.28s/it]"
     ]
    },
    {
     "name": "stdout",
     "output_type": "stream",
     "text": [
      "drums           ==> SDR:  -1.945  SIR: 217.757  ISR:  -1.002  SAR:   0.918  \n",
      "bass            ==> SDR:  -1.945  SIR: 217.757  ISR:  -1.002  SAR:   0.918  \n",
      "\n"
     ]
    },
    {
     "name": "stderr",
     "output_type": "stream",
     "text": [
      " 22%|██████████████████                                                                | 11/50 [06:34<24:20, 37.46s/it]"
     ]
    },
    {
     "name": "stdout",
     "output_type": "stream",
     "text": [
      "drums           ==> SDR:  -2.726  SIR: 222.433  ISR:  -2.410  SAR:   7.895  \n",
      "bass            ==> SDR:  -2.726  SIR: 222.433  ISR:  -2.410  SAR:   7.895  \n",
      "\n"
     ]
    },
    {
     "name": "stderr",
     "output_type": "stream",
     "text": [
      " 24%|███████████████████▋                                                              | 12/50 [07:07<22:53, 36.15s/it]"
     ]
    },
    {
     "name": "stdout",
     "output_type": "stream",
     "text": [
      "drums           ==> SDR:  -1.921  SIR: 213.289  ISR:  -1.469  SAR:   4.200  \n",
      "bass            ==> SDR:  -1.921  SIR: 213.289  ISR:  -1.469  SAR:   4.200  \n",
      "\n"
     ]
    },
    {
     "name": "stderr",
     "output_type": "stream",
     "text": [
      " 26%|█████████████████████▎                                                            | 13/50 [07:30<19:47, 32.09s/it]"
     ]
    },
    {
     "name": "stdout",
     "output_type": "stream",
     "text": [
      "drums           ==> SDR:  -1.096  SIR: 161.951  ISR:  -0.736  SAR:   1.532  \n",
      "bass            ==> SDR:  -1.096  SIR: 161.951  ISR:  -0.736  SAR:   1.532  \n",
      "\n"
     ]
    },
    {
     "name": "stderr",
     "output_type": "stream",
     "text": [
      " 28%|██████████████████████▉                                                           | 14/50 [08:08<20:21, 33.93s/it]"
     ]
    },
    {
     "name": "stdout",
     "output_type": "stream",
     "text": [
      "drums           ==> SDR:  -2.513  SIR: 205.660  ISR:  -2.204  SAR:   7.780  \n",
      "bass            ==> SDR:  -2.513  SIR: 205.660  ISR:  -2.204  SAR:   7.780  \n",
      "\n"
     ]
    },
    {
     "name": "stderr",
     "output_type": "stream",
     "text": [
      " 30%|████████████████████████▌                                                         | 15/50 [09:21<26:42, 45.80s/it]"
     ]
    },
    {
     "name": "stdout",
     "output_type": "stream",
     "text": [
      "drums           ==> SDR:  -1.669  SIR: 240.124  ISR:  -1.182  SAR:   4.275  \n",
      "bass            ==> SDR:  -1.669  SIR: 240.124  ISR:  -1.182  SAR:   4.275  \n",
      "\n"
     ]
    },
    {
     "name": "stderr",
     "output_type": "stream",
     "text": [
      " 32%|██████████████████████████▏                                                       | 16/50 [10:00<24:48, 43.78s/it]"
     ]
    },
    {
     "name": "stdout",
     "output_type": "stream",
     "text": [
      "drums           ==> SDR:  -2.175  SIR: 216.751  ISR:  -1.606  SAR:   3.051  \n",
      "bass            ==> SDR:  -2.175  SIR: 216.751  ISR:  -1.606  SAR:   3.051  \n",
      "\n"
     ]
    },
    {
     "name": "stderr",
     "output_type": "stream",
     "text": [
      " 34%|███████████████████████████▉                                                      | 17/50 [10:19<19:57, 36.30s/it]"
     ]
    },
    {
     "name": "stdout",
     "output_type": "stream",
     "text": [
      "drums           ==> SDR:  -1.385  SIR: 228.427  ISR:  -0.256  SAR:  -0.788  \n",
      "bass            ==> SDR:  -1.385  SIR: 228.427  ISR:  -0.256  SAR:  -0.788  \n",
      "\n"
     ]
    },
    {
     "name": "stderr",
     "output_type": "stream",
     "text": [
      " 36%|█████████████████████████████▌                                                    | 18/50 [10:54<19:04, 35.77s/it]"
     ]
    },
    {
     "name": "stdout",
     "output_type": "stream",
     "text": [
      "drums           ==> SDR:  -3.155  SIR: 223.267  ISR:  -2.840  SAR:   5.621  \n",
      "bass            ==> SDR:  -3.155  SIR: 223.267  ISR:  -2.840  SAR:   5.621  \n",
      "\n"
     ]
    },
    {
     "name": "stderr",
     "output_type": "stream",
     "text": [
      " 38%|███████████████████████████████▏                                                  | 19/50 [11:29<18:24, 35.64s/it]"
     ]
    },
    {
     "name": "stdout",
     "output_type": "stream",
     "text": [
      "drums           ==> SDR:  -3.074  SIR: 222.337  ISR:  -2.881  SAR:   9.827  \n",
      "bass            ==> SDR:  -3.074  SIR: 222.337  ISR:  -2.881  SAR:   9.827  \n",
      "\n"
     ]
    },
    {
     "name": "stderr",
     "output_type": "stream",
     "text": [
      " 40%|████████████████████████████████▊                                                 | 20/50 [12:05<17:48, 35.63s/it]"
     ]
    },
    {
     "name": "stdout",
     "output_type": "stream",
     "text": [
      "drums           ==> SDR:  -1.772  SIR: 221.118  ISR:  -1.628  SAR:  11.087  \n",
      "bass            ==> SDR:  -1.772  SIR: 221.118  ISR:  -1.628  SAR:  11.087  \n",
      "\n"
     ]
    },
    {
     "name": "stderr",
     "output_type": "stream",
     "text": [
      " 42%|██████████████████████████████████▍                                               | 21/50 [12:41<17:17, 35.76s/it]"
     ]
    },
    {
     "name": "stdout",
     "output_type": "stream",
     "text": [
      "drums           ==> SDR:  -3.088  SIR: 157.608  ISR:  -2.750  SAR:   6.728  \n",
      "bass            ==> SDR:  -3.088  SIR: 157.608  ISR:  -2.750  SAR:   6.728  \n",
      "\n"
     ]
    },
    {
     "name": "stderr",
     "output_type": "stream",
     "text": [
      " 44%|████████████████████████████████████                                              | 22/50 [13:14<16:17, 34.90s/it]"
     ]
    },
    {
     "name": "stdout",
     "output_type": "stream",
     "text": [
      "drums           ==> SDR:  -1.926  SIR: 177.033  ISR:  -1.237  SAR:   2.168  \n",
      "bass            ==> SDR:  -1.926  SIR: 177.033  ISR:  -1.237  SAR:   2.168  \n",
      "\n"
     ]
    },
    {
     "name": "stderr",
     "output_type": "stream",
     "text": [
      " 46%|█████████████████████████████████████▋                                            | 23/50 [13:49<15:48, 35.14s/it]"
     ]
    },
    {
     "name": "stdout",
     "output_type": "stream",
     "text": [
      "drums           ==> SDR:  -2.153  SIR: 154.809  ISR:  -1.586  SAR:   2.338  \n",
      "bass            ==> SDR:  -2.153  SIR: 154.809  ISR:  -1.586  SAR:   2.338  \n",
      "\n"
     ]
    },
    {
     "name": "stderr",
     "output_type": "stream",
     "text": [
      " 48%|███████████████████████████████████████▎                                          | 24/50 [14:22<14:52, 34.34s/it]"
     ]
    },
    {
     "name": "stdout",
     "output_type": "stream",
     "text": [
      "drums           ==> SDR:  -2.929  SIR: 131.197  ISR:  -2.698  SAR:   6.196  \n",
      "bass            ==> SDR:  -2.929  SIR: 131.197  ISR:  -2.698  SAR:   6.196  \n",
      "\n"
     ]
    },
    {
     "name": "stderr",
     "output_type": "stream",
     "text": [
      " 50%|█████████████████████████████████████████                                         | 25/50 [14:56<14:19, 34.38s/it]"
     ]
    },
    {
     "name": "stdout",
     "output_type": "stream",
     "text": [
      "drums           ==> SDR:  -2.139  SIR: 231.937  ISR:  -1.495  SAR:   2.720  \n",
      "bass            ==> SDR:  -2.139  SIR: 231.937  ISR:  -1.495  SAR:   2.720  \n",
      "\n"
     ]
    },
    {
     "name": "stderr",
     "output_type": "stream",
     "text": [
      " 52%|██████████████████████████████████████████▋                                       | 26/50 [15:31<13:50, 34.59s/it]"
     ]
    },
    {
     "name": "stdout",
     "output_type": "stream",
     "text": [
      "drums           ==> SDR:  -3.355  SIR: 151.910  ISR:  -3.188  SAR:   9.833  \n",
      "bass            ==> SDR:  -3.355  SIR: 151.910  ISR:  -3.188  SAR:   9.833  \n",
      "\n"
     ]
    },
    {
     "name": "stderr",
     "output_type": "stream",
     "text": [
      " 54%|████████████████████████████████████████████▎                                     | 27/50 [16:08<13:31, 35.28s/it]"
     ]
    },
    {
     "name": "stdout",
     "output_type": "stream",
     "text": [
      "drums           ==> SDR:  -3.306  SIR: 171.508  ISR:  -3.099  SAR:   7.302  \n",
      "bass            ==> SDR:  -3.306  SIR: 171.508  ISR:  -3.099  SAR:   7.302  \n",
      "\n"
     ]
    },
    {
     "name": "stderr",
     "output_type": "stream",
     "text": [
      " 56%|█████████████████████████████████████████████▉                                    | 28/50 [16:28<11:11, 30.52s/it]"
     ]
    },
    {
     "name": "stdout",
     "output_type": "stream",
     "text": [
      "drums           ==> SDR:  -2.722  SIR: 195.414  ISR:  -2.450  SAR:   9.036  \n",
      "bass            ==> SDR:  -2.722  SIR: 195.414  ISR:  -2.450  SAR:   9.036  \n",
      "\n"
     ]
    },
    {
     "name": "stderr",
     "output_type": "stream",
     "text": [
      " 58%|███████████████████████████████████████████████▌                                  | 29/50 [16:37<08:30, 24.31s/it]"
     ]
    },
    {
     "name": "stdout",
     "output_type": "stream",
     "text": [
      "drums           ==> SDR:  -2.221  SIR: 216.514  ISR:  -2.086  SAR:   5.765  \n",
      "bass            ==> SDR:  -2.221  SIR: 216.514  ISR:  -2.086  SAR:   5.765  \n",
      "\n"
     ]
    },
    {
     "name": "stderr",
     "output_type": "stream",
     "text": [
      " 60%|█████████████████████████████████████████████████▏                                | 30/50 [17:10<08:55, 26.76s/it]"
     ]
    },
    {
     "name": "stdout",
     "output_type": "stream",
     "text": [
      "drums           ==> SDR:  -2.035  SIR: 202.703  ISR:  -1.586  SAR:   4.296  \n",
      "bass            ==> SDR:  -2.035  SIR: 202.703  ISR:  -1.586  SAR:   4.296  \n",
      "\n"
     ]
    },
    {
     "name": "stderr",
     "output_type": "stream",
     "text": [
      " 62%|██████████████████████████████████████████████████▊                               | 31/50 [17:43<09:02, 28.57s/it]"
     ]
    },
    {
     "name": "stdout",
     "output_type": "stream",
     "text": [
      "drums           ==> SDR:  -2.658  SIR: 210.363  ISR:  -1.728  SAR:   2.358  \n",
      "bass            ==> SDR:  -2.658  SIR: 210.363  ISR:  -1.728  SAR:   2.358  \n",
      "\n"
     ]
    },
    {
     "name": "stderr",
     "output_type": "stream",
     "text": [
      " 64%|████████████████████████████████████████████████████▍                             | 32/50 [18:19<09:14, 30.79s/it]"
     ]
    },
    {
     "name": "stdout",
     "output_type": "stream",
     "text": [
      "drums           ==> SDR:  -2.289  SIR: 236.111  ISR:  -1.188  SAR:  -0.051  \n",
      "bass            ==> SDR:  -2.289  SIR: 236.111  ISR:  -1.188  SAR:  -0.051  \n",
      "\n"
     ]
    },
    {
     "name": "stderr",
     "output_type": "stream",
     "text": [
      " 66%|██████████████████████████████████████████████████████                            | 33/50 [18:54<09:08, 32.24s/it]"
     ]
    },
    {
     "name": "stdout",
     "output_type": "stream",
     "text": [
      "drums           ==> SDR:  -2.139  SIR: 246.096  ISR:  -1.470  SAR:   1.566  \n",
      "bass            ==> SDR:  -2.139  SIR: 246.096  ISR:  -1.470  SAR:   1.566  \n",
      "\n"
     ]
    },
    {
     "name": "stderr",
     "output_type": "stream",
     "text": [
      " 68%|███████████████████████████████████████████████████████▊                          | 34/50 [19:28<08:44, 32.81s/it]"
     ]
    },
    {
     "name": "stdout",
     "output_type": "stream",
     "text": [
      "drums           ==> SDR:  -2.302  SIR: 239.265  ISR:  -1.705  SAR:   3.722  \n",
      "bass            ==> SDR:  -2.302  SIR: 239.265  ISR:  -1.705  SAR:   3.722  \n",
      "\n"
     ]
    },
    {
     "name": "stderr",
     "output_type": "stream",
     "text": [
      " 70%|█████████████████████████████████████████████████████████▍                        | 35/50 [20:03<08:19, 33.27s/it]"
     ]
    },
    {
     "name": "stdout",
     "output_type": "stream",
     "text": [
      "drums           ==> SDR:  -2.816  SIR: 215.321  ISR:  -2.682  SAR:  10.093  \n",
      "bass            ==> SDR:  -2.816  SIR: 215.321  ISR:  -2.682  SAR:  10.093  \n",
      "\n"
     ]
    },
    {
     "name": "stderr",
     "output_type": "stream",
     "text": [
      " 72%|███████████████████████████████████████████████████████████                       | 36/50 [20:22<06:48, 29.15s/it]"
     ]
    },
    {
     "name": "stdout",
     "output_type": "stream",
     "text": [
      "drums           ==> SDR:  -2.261  SIR: 202.646  ISR:  -1.374  SAR:  -0.002  \n",
      "bass            ==> SDR:  -2.261  SIR: 202.646  ISR:  -1.374  SAR:  -0.002  \n",
      "\n"
     ]
    },
    {
     "name": "stderr",
     "output_type": "stream",
     "text": [
      " 74%|████████████████████████████████████████████████████████████▋                     | 37/50 [21:32<08:56, 41.29s/it]"
     ]
    },
    {
     "name": "stdout",
     "output_type": "stream",
     "text": [
      "drums           ==> SDR:  -2.775  SIR: 238.242  ISR:  -2.137  SAR:   5.007  \n",
      "bass            ==> SDR:  -2.775  SIR: 238.242  ISR:  -2.137  SAR:   5.007  \n",
      "\n"
     ]
    },
    {
     "name": "stderr",
     "output_type": "stream",
     "text": [
      " 76%|██████████████████████████████████████████████████████████████▎                   | 38/50 [22:07<07:51, 39.30s/it]"
     ]
    },
    {
     "name": "stdout",
     "output_type": "stream",
     "text": [
      "drums           ==> SDR:  -2.277  SIR: 219.871  ISR:  -1.712  SAR:   4.265  \n",
      "bass            ==> SDR:  -2.277  SIR: 219.871  ISR:  -1.712  SAR:   4.265  \n",
      "\n"
     ]
    },
    {
     "name": "stderr",
     "output_type": "stream",
     "text": [
      " 78%|███████████████████████████████████████████████████████████████▉                  | 39/50 [22:43<07:03, 38.53s/it]"
     ]
    },
    {
     "name": "stdout",
     "output_type": "stream",
     "text": [
      "drums           ==> SDR:  -1.291  SIR: 233.191  ISR:  -0.765  SAR:   2.299  \n",
      "bass            ==> SDR:  -1.291  SIR: 233.191  ISR:  -0.765  SAR:   2.299  \n",
      "\n"
     ]
    },
    {
     "name": "stderr",
     "output_type": "stream",
     "text": [
      " 80%|█████████████████████████████████████████████████████████████████▌                | 40/50 [23:22<06:25, 38.59s/it]"
     ]
    },
    {
     "name": "stdout",
     "output_type": "stream",
     "text": [
      "drums           ==> SDR:  -2.894  SIR: 195.090  ISR:  -2.197  SAR:   4.852  \n",
      "bass            ==> SDR:  -2.894  SIR: 195.090  ISR:  -2.197  SAR:   4.852  \n",
      "\n"
     ]
    },
    {
     "name": "stderr",
     "output_type": "stream",
     "text": [
      " 82%|███████████████████████████████████████████████████████████████████▏              | 41/50 [23:56<05:34, 37.18s/it]"
     ]
    },
    {
     "name": "stdout",
     "output_type": "stream",
     "text": [
      "drums           ==> SDR:  -2.797  SIR: 169.100  ISR:  -2.233  SAR:   5.404  \n",
      "bass            ==> SDR:  -2.797  SIR: 169.100  ISR:  -2.233  SAR:   5.404  \n",
      "\n"
     ]
    },
    {
     "name": "stderr",
     "output_type": "stream",
     "text": [
      " 84%|████████████████████████████████████████████████████████████████████▉             | 42/50 [24:30<04:50, 36.29s/it]"
     ]
    },
    {
     "name": "stdout",
     "output_type": "stream",
     "text": [
      "drums           ==> SDR:  -2.246  SIR: 132.925  ISR:  -1.925  SAR:   5.718  \n",
      "bass            ==> SDR:  -2.246  SIR: 132.925  ISR:  -1.925  SAR:   5.718  \n",
      "\n"
     ]
    },
    {
     "name": "stderr",
     "output_type": "stream",
     "text": [
      " 86%|██████████████████████████████████████████████████████████████████████▌           | 43/50 [25:06<04:13, 36.28s/it]"
     ]
    },
    {
     "name": "stdout",
     "output_type": "stream",
     "text": [
      "drums           ==> SDR:  -2.595  SIR: 167.664  ISR:  -1.678  SAR:   1.570  \n",
      "bass            ==> SDR:  -2.595  SIR: 167.664  ISR:  -1.678  SAR:   1.570  \n",
      "\n"
     ]
    },
    {
     "name": "stderr",
     "output_type": "stream",
     "text": [
      " 88%|████████████████████████████████████████████████████████████████████████▏         | 44/50 [25:39<03:31, 35.21s/it]"
     ]
    },
    {
     "name": "stdout",
     "output_type": "stream",
     "text": [
      "drums           ==> SDR:  -2.241  SIR: 203.538  ISR:  -1.681  SAR:   1.994  \n",
      "bass            ==> SDR:  -2.241  SIR: 203.538  ISR:  -1.681  SAR:   1.994  \n",
      "\n"
     ]
    },
    {
     "name": "stderr",
     "output_type": "stream",
     "text": [
      " 90%|█████████████████████████████████████████████████████████████████████████▊        | 45/50 [26:17<02:59, 35.89s/it]"
     ]
    },
    {
     "name": "stdout",
     "output_type": "stream",
     "text": [
      "drums           ==> SDR:  -0.618  SIR: 202.358  ISR:  -0.382  SAR:  -0.831  \n",
      "bass            ==> SDR:  -0.618  SIR: 202.358  ISR:  -0.382  SAR:  -0.831  \n",
      "\n"
     ]
    },
    {
     "name": "stderr",
     "output_type": "stream",
     "text": [
      " 92%|███████████████████████████████████████████████████████████████████████████▍      | 46/50 [26:51<02:22, 35.54s/it]"
     ]
    },
    {
     "name": "stdout",
     "output_type": "stream",
     "text": [
      "drums           ==> SDR:  -1.797  SIR: 216.749  ISR:  -1.018  SAR:   0.233  \n",
      "bass            ==> SDR:  -1.797  SIR: 216.749  ISR:  -1.018  SAR:   0.233  \n",
      "\n"
     ]
    },
    {
     "name": "stderr",
     "output_type": "stream",
     "text": [
      " 94%|█████████████████████████████████████████████████████████████████████████████     | 47/50 [27:10<01:31, 30.58s/it]"
     ]
    },
    {
     "name": "stdout",
     "output_type": "stream",
     "text": [
      "drums           ==> SDR:  -1.696  SIR: 149.640  ISR:  -1.407  SAR:   8.148  \n",
      "bass            ==> SDR:  -1.696  SIR: 149.640  ISR:  -1.407  SAR:   8.148  \n",
      "\n"
     ]
    },
    {
     "name": "stderr",
     "output_type": "stream",
     "text": [
      " 96%|██████████████████████████████████████████████████████████████████████████████▋   | 48/50 [27:44<01:03, 31.60s/it]"
     ]
    },
    {
     "name": "stdout",
     "output_type": "stream",
     "text": [
      "drums           ==> SDR:  -1.712  SIR: 199.892  ISR:  -1.045  SAR:   1.473  \n",
      "bass            ==> SDR:  -1.712  SIR: 199.892  ISR:  -1.045  SAR:   1.473  \n",
      "\n"
     ]
    },
    {
     "name": "stderr",
     "output_type": "stream",
     "text": [
      " 98%|████████████████████████████████████████████████████████████████████████████████▎ | 49/50 [28:20<00:32, 32.71s/it]"
     ]
    },
    {
     "name": "stdout",
     "output_type": "stream",
     "text": [
      "drums           ==> SDR:  -2.862  SIR: 217.927  ISR:  -2.528  SAR:   9.074  \n",
      "bass            ==> SDR:  -2.862  SIR: 217.927  ISR:  -2.528  SAR:   9.074  \n",
      "\n"
     ]
    },
    {
     "name": "stderr",
     "output_type": "stream",
     "text": [
      "100%|██████████████████████████████████████████████████████████████████████████████████| 50/50 [28:54<00:00, 34.70s/it]\n"
     ]
    },
    {
     "name": "stdout",
     "output_type": "stream",
     "text": [
      "drums           ==> SDR:  -2.754  SIR: 205.452  ISR:  -2.309  SAR:   4.909  \n",
      "bass            ==> SDR:  -2.754  SIR: 205.452  ISR:  -2.309  SAR:   4.909  \n",
      "\n"
     ]
    }
   ],
   "source": [
    "for name in ['epoch_280', 'epoch_230','epoch_200','epoch_100']:\n",
    "    try:\n",
    "        try:\n",
    "            os.mkdir(f\"D:/Github/phd-drum-sep/analysis/demucs_small_model_analysis/results_{name}/\")\n",
    "        except:\n",
    "            pass\n",
    "    \n",
    "        model = DrumDemucs.load_from_checkpoint(f'D:/Github/phd-drum-sep/analysis/demucs_small_model_analysis/checkpoint/{name}.ckpt')\n",
    "        # model.to('cpu')\n",
    "        model = model.eval()\n",
    "        \n",
    "        mus = musdb.DB(root=\"D:/Github/phd-drum-sep/Data/musdb18_stems/\", subsets=\"test\") \n",
    "        \n",
    "        results = museval.EvalStore(frames_agg='median', tracks_agg='median')\n",
    "        for track in tqdm(mus):\n",
    "            path = \"D:/Github/phd-drum-sep/Data/musdb18hq/\"\n",
    "            audio_path = path + 'test/' + track.name + \"/\"\n",
    "        \n",
    "        \n",
    "            mixture_tensor = load_audio(audio_path, start_point,'mixture.wav').unsqueeze(0).to(model.device)\n",
    "            drum_tensor = load_audio(audio_path, start_point,'drums.wav').unsqueeze(0).to(model.device)\n",
    "            shape = mixture_tensor.shape[2]\n",
    "            roll_tensor = load_roll(audio_path, start_point, shape).unsqueeze(0).to(model.device)\n",
    "        \n",
    "            seperated = separate_sources(model, mixture_tensor, roll_tensor, device='cuda')\n",
    "        \n",
    "            output_path = f\"D:/Github/phd-drum-sep/analysis/demucs_small_model_analysis/results_{name}/\"\n",
    "            \n",
    "            audio = seperated.squeeze(0).cpu().numpy()\n",
    "            audio = np.swapaxes(audio,0,1)\n",
    "            estimates = {'drums': audio, 'bass': audio}\n",
    "        \n",
    "            d = drum_tensor.squeeze(0).cpu().numpy()\n",
    "            d = np.swapaxes(d,0,1)\n",
    "            \n",
    "            track.targets['drums'] = AudioData(d)\n",
    "            track.targets['bass'] = AudioData(d)\n",
    "            \n",
    "            scores = museval.eval_mus_track(\n",
    "                track, estimates, output_dir=f\"{output_path}\"\n",
    "            )\n",
    "        \n",
    "            print(scores)\n",
    "            results.add_track(scores)\n",
    "            # break\n",
    "        \n",
    "        results.df.to_csv(f\"{output_path}results.csv\")\n",
    "    \n",
    "        del model\n",
    "        del mus\n",
    "        gc.collect()\n",
    "    except Exception as e:\n",
    "        print('error with model, skipping', name, e)"
   ]
  },
  {
   "cell_type": "code",
   "execution_count": null,
   "id": "ff3d97f7-2804-4b99-adcb-5adeb7dc9d7d",
   "metadata": {},
   "outputs": [],
   "source": []
  }
 ],
 "metadata": {
  "kernelspec": {
   "display_name": "Python 3 (ipykernel)",
   "language": "python",
   "name": "python3"
  },
  "language_info": {
   "codemirror_mode": {
    "name": "ipython",
    "version": 3
   },
   "file_extension": ".py",
   "mimetype": "text/x-python",
   "name": "python",
   "nbconvert_exporter": "python",
   "pygments_lexer": "ipython3",
   "version": "3.11.4"
  }
 },
 "nbformat": 4,
 "nbformat_minor": 5
}
