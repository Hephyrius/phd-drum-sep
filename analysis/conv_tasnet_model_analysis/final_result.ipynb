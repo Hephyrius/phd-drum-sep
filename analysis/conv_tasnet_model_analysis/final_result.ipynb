{
 "cells": [
  {
   "cell_type": "markdown",
   "id": "20b2a3bb-3d01-4f42-bc37-dff46522af7f",
   "metadata": {},
   "source": [
    "# Imports"
   ]
  },
  {
   "cell_type": "code",
   "execution_count": 1,
   "id": "71d686e6-8847-4861-88f0-58141c363862",
   "metadata": {},
   "outputs": [],
   "source": [
    "import museval\n",
    "import pandas as pd\n",
    "import numpy as np"
   ]
  },
  {
   "cell_type": "code",
   "execution_count": 22,
   "id": "30168d3d-f6a2-4361-9fd5-3afb2d1bac21",
   "metadata": {},
   "outputs": [
    {
     "name": "stdout",
     "output_type": "stream",
     "text": [
      "=======================\n",
      "Conv Tasnet 4s \n",
      "metric\n",
      "ISR      6.473720\n",
      "SAR      2.589745\n",
      "SDR      3.453030\n",
      "SIR    211.171238\n",
      "Name: score, dtype: float64\n",
      "=======================\n",
      "=======================\n",
      "Conv Tasnet 4s  32\n",
      "metric\n",
      "ISR      6.311270\n",
      "SAR      2.540120\n",
      "SDR      3.280125\n",
      "SIR    207.796070\n",
      "Name: score, dtype: float64\n",
      "=======================\n",
      "=======================\n",
      "Conv Tasnet 4s  zeros\n",
      "metric\n",
      "ISR      1.575410\n",
      "SAR     -1.205982\n",
      "SDR      0.981755\n",
      "SIR    212.941680\n",
      "Name: score, dtype: float64\n",
      "=======================\n",
      "=======================\n",
      "Conv Tasnet 4s  ones\n",
      "metric\n",
      "ISR      7.208417\n",
      "SAR     -0.408992\n",
      "SDR      1.830110\n",
      "SIR    208.997165\n",
      "Name: score, dtype: float64\n",
      "=======================\n",
      "=======================\n",
      "Conv Tasnet 4s  finder\n",
      "metric\n",
      "ISR      7.501670\n",
      "SAR      3.416880\n",
      "SDR      4.288680\n",
      "SIR    210.118065\n",
      "Name: score, dtype: float64\n",
      "=======================\n",
      "=======================\n",
      "Conv Tasnet 4s  finder rerun\n",
      "metric\n",
      "ISR      8.19596\n",
      "SAR      3.49973\n",
      "SDR      4.32087\n",
      "SIR    212.70679\n",
      "Name: score, dtype: float64\n",
      "=======================\n"
     ]
    }
   ],
   "source": [
    "types = ['', '_32', '_zeros', '_ones', '_finder', '_finder_rerun']\n",
    "length_s = \"4s\"\n",
    "for t in types:\n",
    "    df = pd.read_csv(f\"D:/Github/phd-drum-sep/analysis/conv_tasnet_model_analysis/results_epoch_200{t}/results.csv\")\n",
    "    results = museval.EvalStore(frames_agg='median', tracks_agg='median')\n",
    "    results.df = df\n",
    "    print(\"=======================\")\n",
    "    print(\"Conv Tasnet\", length_s, t.replace(\"_\", \" \"))\n",
    "    print(results.agg_frames_tracks_scores()['drums'])\n",
    "    print(\"=======================\")\n",
    "\n",
    "\n"
   ]
  },
  {
   "cell_type": "code",
   "execution_count": null,
   "id": "58db3f19-21c2-4daf-bdf1-eb25814ec5d7",
   "metadata": {},
   "outputs": [],
   "source": []
  }
 ],
 "metadata": {
  "kernelspec": {
   "display_name": "Python 3 (ipykernel)",
   "language": "python",
   "name": "python3"
  },
  "language_info": {
   "codemirror_mode": {
    "name": "ipython",
    "version": 3
   },
   "file_extension": ".py",
   "mimetype": "text/x-python",
   "name": "python",
   "nbconvert_exporter": "python",
   "pygments_lexer": "ipython3",
   "version": "3.11.4"
  }
 },
 "nbformat": 4,
 "nbformat_minor": 5
}
