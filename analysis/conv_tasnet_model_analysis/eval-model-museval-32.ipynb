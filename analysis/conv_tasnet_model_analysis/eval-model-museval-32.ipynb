{
 "cells": [
  {
   "cell_type": "markdown",
   "id": "20b2a3bb-3d01-4f42-bc37-dff46522af7f",
   "metadata": {},
   "source": [
    "# Imports"
   ]
  },
  {
   "cell_type": "code",
   "execution_count": 1,
   "id": "71d686e6-8847-4861-88f0-58141c363862",
   "metadata": {},
   "outputs": [
    {
     "name": "stdout",
     "output_type": "stream",
     "text": [
      "True\n"
     ]
    }
   ],
   "source": [
    "import os\n",
    "import pywt\n",
    "import torch\n",
    "import torch.nn as nn\n",
    "import torch.nn.functional as F\n",
    "import torchaudio\n",
    "import pytorch_lightning as pl\n",
    "from torch.utils.data import DataLoader, Dataset\n",
    "from torchaudio.pipelines import HDEMUCS_HIGH_MUSDB\n",
    "import torch.optim as optim\n",
    "from torch.utils.data import Dataset, DataLoader\n",
    "import torchaudio\n",
    "import numpy as np\n",
    "import random\n",
    "from pytorch_lightning.loggers import WandbLogger\n",
    "import wandb\n",
    "import auraloss\n",
    "import collections\n",
    "from tqdm import tqdm\n",
    "import pretty_midi\n",
    "import matplotlib.pyplot as plt\n",
    "from torchaudio.pipelines import HDEMUCS_HIGH_MUSDB\n",
    "print(torch.cuda.is_available())\n",
    "import plotly.graph_objects as go\n",
    "from torch.optim import lr_scheduler\n",
    "from IPython.display import Audio\n",
    "from torchaudio.transforms import Fade\n",
    "import musdb\n",
    "import museval\n",
    "import gc"
   ]
  },
  {
   "cell_type": "code",
   "execution_count": 2,
   "id": "275ddd3f-aa3d-4444-8ddd-c8874bac940c",
   "metadata": {},
   "outputs": [
    {
     "name": "stdout",
     "output_type": "stream",
     "text": [
      "True\n"
     ]
    }
   ],
   "source": [
    "\n",
    "import os\n",
    "import torch\n",
    "import torch.nn as nn\n",
    "import torch.nn.functional as F\n",
    "import torchaudio\n",
    "import pytorch_lightning as pl\n",
    "from torch.utils.data import DataLoader, Dataset\n",
    "from torchaudio.pipelines import HDEMUCS_HIGH_MUSDB\n",
    "import torch.optim as optim\n",
    "from torch.utils.data import Dataset, DataLoader\n",
    "import torchaudio\n",
    "import numpy as np\n",
    "import random\n",
    "from pytorch_lightning.loggers import WandbLogger\n",
    "import subprocess\n",
    "import wandb\n",
    "import auraloss\n",
    "import collections\n",
    "from tqdm import tqdm\n",
    "import librosa\n",
    "from torchaudio.pipelines import HDEMUCS_HIGH_MUSDB\n",
    "print(torch.cuda.is_available())\n",
    "from torch.optim import lr_scheduler\n",
    "import pretty_midi\n",
    "from typing import Optional, Tuple\n"
   ]
  },
  {
   "cell_type": "markdown",
   "id": "e1c82506-04c8-4200-9e63-26857aa176bd",
   "metadata": {},
   "source": [
    "# Set Seeds"
   ]
  },
  {
   "cell_type": "code",
   "execution_count": 3,
   "id": "db3acd3b-d177-44d3-a3f4-35140f45e48a",
   "metadata": {},
   "outputs": [],
   "source": [
    "seed_value = 3407\n",
    "torch.manual_seed(seed_value)\n",
    "random.seed(seed_value)\n",
    "np.random.seed(seed_value)\n",
    "torch.cuda.manual_seed(seed_value)\n",
    "torch.cuda.manual_seed_all(seed_value)\n",
    "torch.set_float32_matmul_precision('high')"
   ]
  },
  {
   "cell_type": "markdown",
   "id": "6182916a-aec1-4c05-8a08-4d2e44dfd979",
   "metadata": {},
   "source": [
    "# Construct Teh Datas"
   ]
  },
  {
   "cell_type": "code",
   "execution_count": 4,
   "id": "dbe5ef07-9ab9-4e3e-9334-048f67ae25e4",
   "metadata": {},
   "outputs": [],
   "source": [
    "path = \"D:/Github/phd-drum-sep/Data/musdb18hq/\""
   ]
  },
  {
   "cell_type": "code",
   "execution_count": 5,
   "id": "e101d3bb-e001-42ff-90cc-42384739d506",
   "metadata": {},
   "outputs": [
    {
     "data": {
      "text/plain": [
       "['test', 'train']"
      ]
     },
     "execution_count": 5,
     "metadata": {},
     "output_type": "execute_result"
    }
   ],
   "source": [
    "os.listdir(path)"
   ]
  },
  {
   "cell_type": "code",
   "execution_count": 6,
   "id": "c52ab99f-41d2-4b7f-a179-90681a8a0a81",
   "metadata": {},
   "outputs": [],
   "source": [
    "train = list(os.listdir(path+'train'))\n",
    "test = list(os.listdir(path+'test'))"
   ]
  },
  {
   "cell_type": "code",
   "execution_count": 7,
   "id": "21aa39ee-b25f-4bdc-950a-9389eb93765a",
   "metadata": {},
   "outputs": [],
   "source": [
    "sources = ['drum', 'bass', 'other', 'vocals']"
   ]
  },
  {
   "cell_type": "code",
   "execution_count": 8,
   "id": "f07f7f9c-2d6b-42b9-b5ac-0f4bd9aeb6a7",
   "metadata": {},
   "outputs": [
    {
     "name": "stderr",
     "output_type": "stream",
     "text": [
      "50it [00:00, 4546.87it/s]\n"
     ]
    }
   ],
   "source": [
    "all_scenes = {}\n",
    "counter = 0\n",
    "sample_rate = 44100\n",
    "segment_length = sample_rate * 1\n",
    "\n",
    "for idx, val in tqdm(enumerate(test)):\n",
    "    p = path + 'test/' + val + \"/\"\n",
    "    info = torchaudio.info(f\"{p}mixture.wav\")\n",
    "    seconds = info.num_frames // 44100\n",
    "    for i in range(0, seconds - 1, 1):\n",
    "        start_point = i * 44100\n",
    "        if start_point + 44100 < info.num_frames:\n",
    "            all_scenes[counter] = {'music_path': p, 'start_point': start_point, 'length': 44100, 'frames' : info.num_frames}\n",
    "            counter += 1"
   ]
  },
  {
   "cell_type": "code",
   "execution_count": 9,
   "id": "d6d4eb9a-f08d-4452-a4ad-b9769a218278",
   "metadata": {},
   "outputs": [],
   "source": [
    "def turn_transcription_into_roll(transcription, frames):\n",
    "    # Determine your sampling frequency (frames per second)\n",
    "    fs = 44100\n",
    "    \n",
    "    piano_roll_length = int(frames)\n",
    "    \n",
    "    # Initialize the piano roll array\n",
    "    piano_roll = np.zeros((64, piano_roll_length))\n",
    "    \n",
    "    # Fill in the piano roll array\n",
    "    for note in transcription.instruments[0].notes:\n",
    "        # Convert start and end times to frame indices\n",
    "        start_frame = int(np.floor(note.start * fs))\n",
    "        end_frame = int(np.ceil(note.end * fs))\n",
    "        \n",
    "        # Set the corresponding frames to 1 (or note.velocity for a velocity-sensitive representation)\n",
    "        piano_roll[note.pitch, start_frame:end_frame] = 1  # Or use note.velocity\n",
    "        \n",
    "    roll = np.vstack([piano_roll[35:36, :], piano_roll[38:39, :], piano_roll[42:43, :], piano_roll[47:48, :], piano_roll[49:50, :]])\n",
    "    return roll"
   ]
  },
  {
   "cell_type": "markdown",
   "id": "20988d30-a95e-4dca-ac19-a6f7cea95717",
   "metadata": {},
   "source": [
    "# model"
   ]
  },
  {
   "cell_type": "code",
   "execution_count": 10,
   "id": "b72a57b5-7115-421d-b26e-3ca3d21fef5d",
   "metadata": {},
   "outputs": [],
   "source": [
    "\n",
    "class ConvBlock(torch.nn.Module):\n",
    "    \"\"\"1D Convolutional block.\n",
    "\n",
    "    Args:\n",
    "        io_channels (int): The number of input/output channels, <B, Sc>\n",
    "        hidden_channels (int): The number of channels in the internal layers, <H>.\n",
    "        kernel_size (int): The convolution kernel size of the middle layer, <P>.\n",
    "        padding (int): Padding value of the convolution in the middle layer.\n",
    "        dilation (int, optional): Dilation value of the convolution in the middle layer.\n",
    "        no_redisual (bool, optional): Disable residual block/output.\n",
    "\n",
    "    Note:\n",
    "        This implementation corresponds to the \"non-causal\" setting in the paper.\n",
    "    \"\"\"\n",
    "\n",
    "    def __init__(\n",
    "        self,\n",
    "        io_channels: int,\n",
    "        hidden_channels: int,\n",
    "        kernel_size: int,\n",
    "        padding: int,\n",
    "        dilation: int = 1,\n",
    "        no_residual: bool = False,\n",
    "    ):\n",
    "        super().__init__()\n",
    "\n",
    "        self.conv_layers = torch.nn.Sequential(\n",
    "            torch.nn.Conv1d(in_channels=io_channels, out_channels=hidden_channels, kernel_size=1),\n",
    "            torch.nn.PReLU(),\n",
    "            torch.nn.GroupNorm(num_groups=1, num_channels=hidden_channels, eps=1e-08),\n",
    "            torch.nn.Conv1d(\n",
    "                in_channels=hidden_channels,\n",
    "                out_channels=hidden_channels,\n",
    "                kernel_size=kernel_size,\n",
    "                padding=padding,\n",
    "                dilation=dilation,\n",
    "                groups=hidden_channels,\n",
    "            ),\n",
    "            torch.nn.PReLU(),\n",
    "            torch.nn.GroupNorm(num_groups=1, num_channels=hidden_channels, eps=1e-08),\n",
    "        )\n",
    "\n",
    "        self.res_out = (\n",
    "            None\n",
    "            if no_residual\n",
    "            else torch.nn.Conv1d(in_channels=hidden_channels, out_channels=io_channels, kernel_size=1)\n",
    "        )\n",
    "        self.skip_out = torch.nn.Conv1d(in_channels=hidden_channels, out_channels=io_channels, kernel_size=1)\n",
    "\n",
    "    def forward(self, input: torch.Tensor) -> Tuple[Optional[torch.Tensor], torch.Tensor]:\n",
    "        feature = self.conv_layers(input)\n",
    "        if self.res_out is None:\n",
    "            residual = None\n",
    "        else:\n",
    "            residual = self.res_out(feature)\n",
    "        skip_out = self.skip_out(feature)\n",
    "        return residual, skip_out\n",
    "\n",
    "\n",
    "\n",
    "\n",
    "# In[12]:\n",
    "\n",
    "\n",
    "class MaskGenerator(torch.nn.Module):\n",
    "    \"\"\"TCN (Temporal Convolution Network) Separation Module\n",
    "\n",
    "    Generates masks for separation.\n",
    "\n",
    "    Args:\n",
    "        input_dim (int): Input feature dimension, <N>.\n",
    "        num_sources (int): The number of sources to separate.\n",
    "        kernel_size (int): The convolution kernel size of conv blocks, <P>.\n",
    "        num_featrs (int): Input/output feature dimenstion of conv blocks, <B, Sc>.\n",
    "        num_hidden (int): Intermediate feature dimention of conv blocks, <H>\n",
    "        num_layers (int): The number of conv blocks in one stack, <X>.\n",
    "        num_stacks (int): The number of conv block stacks, <R>.\n",
    "        msk_activate (str): The activation function of the mask output.\n",
    "\n",
    "    Note:\n",
    "        This implementation corresponds to the \"non-causal\" setting in the paper.\n",
    "    \"\"\"\n",
    "\n",
    "    def __init__(\n",
    "        self,\n",
    "        input_dim: int,\n",
    "        num_sources: int,\n",
    "        kernel_size: int,\n",
    "        num_feats: int,\n",
    "        num_hidden: int,\n",
    "        num_layers: int,\n",
    "        num_stacks: int,\n",
    "        msk_activate: str,\n",
    "    ):\n",
    "        super().__init__()\n",
    "\n",
    "        self.input_dim = input_dim\n",
    "        self.num_sources = num_sources\n",
    "\n",
    "        self.input_norm = torch.nn.GroupNorm(num_groups=1, num_channels=input_dim, eps=1e-8)\n",
    "        self.input_conv = torch.nn.Conv1d(in_channels=input_dim, out_channels=num_feats, kernel_size=1)\n",
    "\n",
    "        self.receptive_field = 0\n",
    "        self.conv_layers = torch.nn.ModuleList([])\n",
    "        for s in range(num_stacks):\n",
    "            for l in range(num_layers):\n",
    "                multi = 2**l\n",
    "                self.conv_layers.append(\n",
    "                    ConvBlock(\n",
    "                        io_channels=num_feats,\n",
    "                        hidden_channels=num_hidden,\n",
    "                        kernel_size=kernel_size,\n",
    "                        dilation=multi,\n",
    "                        padding=multi,\n",
    "                        # The last ConvBlock does not need residual\n",
    "                        no_residual=(l == (num_layers - 1) and s == (num_stacks - 1)),\n",
    "                    )\n",
    "                )\n",
    "                self.receptive_field += kernel_size if s == 0 and l == 0 else (kernel_size - 1) * multi\n",
    "        self.output_prelu = torch.nn.PReLU()\n",
    "        self.output_conv = torch.nn.Conv1d(\n",
    "            in_channels=num_feats,\n",
    "            out_channels=input_dim * num_sources,\n",
    "            kernel_size=1,\n",
    "        )\n",
    "        if msk_activate == \"sigmoid\":\n",
    "            self.mask_activate = torch.nn.Sigmoid()\n",
    "        elif msk_activate == \"relu\":\n",
    "            self.mask_activate = torch.nn.ReLU()\n",
    "        elif msk_activate == \"prelu\":\n",
    "            self.mask_activate = torch.nn.PReLU()\n",
    "        else:\n",
    "            raise ValueError(f\"Unsupported activation {msk_activate}\")\n",
    "\n",
    "    def forward(self, input: torch.Tensor) -> torch.Tensor:\n",
    "        \"\"\"Generate separation mask.\n",
    "\n",
    "        Args:\n",
    "            input (torch.Tensor): 3D Tensor with shape [batch, features, frames]\n",
    "\n",
    "        Returns:\n",
    "            Tensor: shape [batch, num_sources, features, frames]\n",
    "        \"\"\"\n",
    "        batch_size = input.shape[0]\n",
    "        feats = self.input_norm(input)\n",
    "        feats = self.input_conv(feats)\n",
    "        output = 0.0\n",
    "        for layer in self.conv_layers:\n",
    "            residual, skip = layer(feats)\n",
    "            if residual is not None:  # the last conv layer does not produce residual\n",
    "                feats = feats + residual\n",
    "            output = output + skip\n",
    "        output = self.output_prelu(output)\n",
    "        output = self.output_conv(output)\n",
    "        output = self.mask_activate(output)\n",
    "        return output.view(batch_size, self.num_sources, self.input_dim, -1)\n",
    "\n",
    "\n",
    "# In[13]:\n",
    "\n",
    "\n",
    "class ConvTasNet(torch.nn.Module):\n",
    "    \"\"\"Conv-TasNet architecture introduced in\n",
    "    *Conv-TasNet: Surpassing Ideal Time–Frequency Magnitude Masking for Speech Separation*\n",
    "    :cite:`Luo_2019`.\n",
    "\n",
    "    Note:\n",
    "        This implementation corresponds to the \"non-causal\" setting in the paper.\n",
    "\n",
    "    See Also:\n",
    "        * :class:`torchaudio.pipelines.SourceSeparationBundle`: Source separation pipeline with pre-trained models.\n",
    "\n",
    "    Args:\n",
    "        num_sources (int, optional): The number of sources to split.\n",
    "        enc_kernel_size (int, optional): The convolution kernel size of the encoder/decoder, <L>.\n",
    "        enc_num_feats (int, optional): The feature dimensions passed to mask generator, <N>.\n",
    "        msk_kernel_size (int, optional): The convolution kernel size of the mask generator, <P>.\n",
    "        msk_num_feats (int, optional): The input/output feature dimension of conv block in the mask generator, <B, Sc>.\n",
    "        msk_num_hidden_feats (int, optional): The internal feature dimension of conv block of the mask generator, <H>.\n",
    "        msk_num_layers (int, optional): The number of layers in one conv block of the mask generator, <X>.\n",
    "        msk_num_stacks (int, optional): The numbr of conv blocks of the mask generator, <R>.\n",
    "        msk_activate (str, optional): The activation function of the mask output (Default: ``sigmoid``).\n",
    "    \"\"\"\n",
    "\n",
    "    def __init__(\n",
    "        self,\n",
    "        num_sources: int = 2,\n",
    "        # encoder/decoder parameters\n",
    "        enc_kernel_size: int = 16,\n",
    "        enc_num_feats: int = 512,\n",
    "        # mask generator parameters\n",
    "        msk_kernel_size: int = 3,\n",
    "        msk_num_feats: int = 128,\n",
    "        msk_num_hidden_feats: int = 512,\n",
    "        msk_num_layers: int = 8,\n",
    "        msk_num_stacks: int = 3,\n",
    "        msk_activate: str = \"sigmoid\",\n",
    "    ):\n",
    "        super().__init__()\n",
    "\n",
    "        self.num_sources = num_sources\n",
    "        self.enc_num_feats = enc_num_feats\n",
    "        self.enc_kernel_size = enc_kernel_size\n",
    "        self.enc_stride = enc_kernel_size // 2\n",
    "\n",
    "        self.encoder = torch.nn.Conv1d(\n",
    "            in_channels=7,\n",
    "            out_channels=enc_num_feats,\n",
    "            kernel_size=enc_kernel_size,\n",
    "            stride=self.enc_stride,\n",
    "            padding=self.enc_stride,\n",
    "            bias=False,\n",
    "        )\n",
    "        self.mask_generator = MaskGenerator(\n",
    "            input_dim=enc_num_feats,\n",
    "            num_sources=num_sources,\n",
    "            kernel_size=msk_kernel_size,\n",
    "            num_feats=msk_num_feats,\n",
    "            num_hidden=msk_num_hidden_feats,\n",
    "            num_layers=msk_num_layers,\n",
    "            num_stacks=msk_num_stacks,\n",
    "            msk_activate=msk_activate,\n",
    "        )\n",
    "        self.decoder = torch.nn.ConvTranspose1d(\n",
    "            in_channels=enc_num_feats,\n",
    "            out_channels=2,\n",
    "            kernel_size=enc_kernel_size,\n",
    "            stride=self.enc_stride,\n",
    "            padding=self.enc_stride,\n",
    "            bias=False,\n",
    "        )\n",
    "\n",
    "    def _align_num_frames_with_strides(self, input: torch.Tensor) -> Tuple[torch.Tensor, int]:\n",
    "        \"\"\"Pad input Tensor so that the end of the input tensor corresponds with\n",
    "\n",
    "        1. (if kernel size is odd) the center of the last convolution kernel\n",
    "        or 2. (if kernel size is even) the end of the first half of the last convolution kernel\n",
    "\n",
    "        Assumption:\n",
    "            The resulting Tensor will be padded with the size of stride (== kernel_width // 2)\n",
    "            on the both ends in Conv1D\n",
    "\n",
    "        |<--- k_1 --->|\n",
    "        |      |            |<-- k_n-1 -->|\n",
    "        |      |                  |  |<--- k_n --->|\n",
    "        |      |                  |         |      |\n",
    "        |      |                  |         |      |\n",
    "        |      v                  v         v      |\n",
    "        |<---->|<--- input signal --->|<--->|<---->|\n",
    "         stride                         PAD  stride\n",
    "\n",
    "        Args:\n",
    "            input (torch.Tensor): 3D Tensor with shape (batch_size, channels==1, frames)\n",
    "\n",
    "        Returns:\n",
    "            Tensor: Padded Tensor\n",
    "            int: Number of paddings performed\n",
    "        \"\"\"\n",
    "        batch_size, num_channels, num_frames = input.shape\n",
    "        is_odd = self.enc_kernel_size % 2\n",
    "        num_strides = (num_frames - is_odd) // self.enc_stride\n",
    "        num_remainings = num_frames - (is_odd + num_strides * self.enc_stride)\n",
    "        if num_remainings == 0:\n",
    "            return input, 0\n",
    "\n",
    "        num_paddings = self.enc_stride - num_remainings\n",
    "        pad = torch.zeros(\n",
    "            batch_size,\n",
    "            num_channels,\n",
    "            num_paddings,\n",
    "            dtype=input.dtype,\n",
    "            device=input.device,\n",
    "        )\n",
    "        return torch.cat([input, pad], 2), num_paddings\n",
    "    \n",
    "    def forward(self, input: torch.Tensor) -> torch.Tensor:\n",
    "        \"\"\"Perform source separation. Generate audio source waveforms.\n",
    "\n",
    "        Args:\n",
    "            input (torch.Tensor): 3D Tensor with shape [batch, channel==1, frames]\n",
    "\n",
    "        Returns:\n",
    "            Tensor: 3D Tensor with shape [batch, channel==num_sources, frames]\n",
    "        \"\"\"\n",
    "\n",
    "        # B: batch size\n",
    "        # L: input frame length\n",
    "        # L': padded input frame length\n",
    "        # F: feature dimension\n",
    "        # M: feature frame length\n",
    "        # S: number of sources\n",
    "\n",
    "        padded, num_pads = self._align_num_frames_with_strides(input)  # B, 1, L'\n",
    "        batch_size, num_padded_frames = padded.shape[0], padded.shape[2]\n",
    "        feats = self.encoder(padded)  # B, F, M\n",
    "        masked = self.mask_generator(feats) * feats.unsqueeze(1)  # B, S, F, M\n",
    "        masked = masked.view(batch_size * self.num_sources, self.enc_num_feats, -1)  # B*S, F, M\n",
    "        decoded = self.decoder(masked)  # B*S, 1, L'\n",
    "        out = decoded.reshape(batch_size, 4, -1)\n",
    "        # print(out.shape)\n",
    "        return out\n",
    "\n",
    "\n",
    "# In[14]:\n",
    "\n",
    "\n",
    "class DrumConvTasnet(pl.LightningModule):\n",
    "    def __init__(self):\n",
    "        super(DrumConvTasnet, self).__init__()\n",
    "\n",
    "        self.loss_fn = auraloss.freq.MultiResolutionSTFTLoss(\n",
    "                    fft_sizes=[1024, 2048, 4096],\n",
    "                    hop_sizes=[256, 512, 1024],\n",
    "                    win_lengths=[1024, 2048, 4096],\n",
    "                    scale=\"mel\", \n",
    "                    n_bins=150,\n",
    "                    sample_rate=44100,\n",
    "                    device=\"cuda\"\n",
    "                )\n",
    "\n",
    "        self.loss_fn_2 = auraloss.time.SISDRLoss()\n",
    "\n",
    "        self.loss_fn_3 = torch.nn.L1Loss()\n",
    "\n",
    "        self.loss_used = 0\n",
    "        \n",
    "        self.conv_tasnet =  ConvTasNet(\n",
    "            num_sources=2,\n",
    "            enc_kernel_size=16,\n",
    "            enc_num_feats=512,\n",
    "            msk_kernel_size=3,\n",
    "            msk_num_feats=128,\n",
    "            msk_num_hidden_feats=512,\n",
    "            msk_num_layers=8,\n",
    "            msk_num_stacks=3,\n",
    "            msk_activate=\"prelu\",\n",
    "        )\n",
    "\n",
    "        self.out = nn.Conv1d(4, 2, kernel_size=1)\n",
    "\n",
    "    def compute_loss(self, outputs, ref_signals):\n",
    "        loss = self.loss_fn(outputs, ref_signals) + self.loss_fn_2(outputs, ref_signals) +  self.loss_fn_3(outputs, ref_signals)\n",
    "        return loss\n",
    "\n",
    "    def forward(self, audio, drumroll):\n",
    "        to_mix = torch.cat([audio, drumroll], axis=1)\n",
    "        out = self.conv_tasnet(to_mix)\n",
    "        out = self.out(out)\n",
    "        return out\n",
    "    \n",
    "    def training_step(self, batch, batch_idx):\n",
    "        # training_step defines the train loop. It is independent of forward\n",
    "        audio, drum, drumroll = batch\n",
    "        \n",
    "        outputs = self.forward(audio, drumroll)\n",
    "        # print(outputs.size())\n",
    "\n",
    "        if batch_idx % 64 == 0:\n",
    "            input_signal = audio[0].cpu().detach().numpy().T\n",
    "            generated_signal = outputs[0].cpu().detach().numpy().T\n",
    "            drum_signal = drum[0].cpu().detach().numpy().T \n",
    "            wandb.log({'audio_input': [wandb.Audio(input_signal, caption=\"Input\", sample_rate=44100)]})\n",
    "            wandb.log({'audio_reference': [wandb.Audio(drum_signal, caption=\"Reference\", sample_rate=44100)]})\n",
    "            wandb.log({'audio_output': [wandb.Audio(generated_signal, caption=\"Output\", sample_rate=44100)]})\n",
    "             \n",
    "            for i in range(5):\n",
    "                wandb.log({f'drum_{i + 1}': [wandb.Audio(drumroll[0].cpu().detach().numpy()[i, :], caption=\"Output\", sample_rate=44100)]})\n",
    "\n",
    "\n",
    "        loss = self.compute_loss(outputs, drum)         \n",
    "\n",
    "        self.log('train_loss', loss, on_step=True, on_epoch=True, prog_bar=True, logger=True)\n",
    "        \n",
    "        return loss\n",
    "    \n",
    "\n",
    "    def configure_optimizers(self):\n",
    "        # Define your optimizer and optionally learning rate scheduler here\n",
    "        optimizer = optim.Adam(self.parameters(), lr=0.001)\n",
    "        scheduler = lr_scheduler.StepLR(optimizer, step_size=1, gamma=0.99)\n",
    "        return [optimizer], [scheduler]\n",
    "        \n",
    " \n"
   ]
  },
  {
   "cell_type": "code",
   "execution_count": 11,
   "id": "79d11190-4e68-41f8-ae19-36d8199c1643",
   "metadata": {},
   "outputs": [],
   "source": [
    "def load_audio(path, start_point, filename):\n",
    "    audio_tensors = []\n",
    "    waveform, _ = torchaudio.load(f\"{path}/{filename}\")\n",
    "    return waveform\n",
    "\n",
    "def load_roll(path, start_point, frames):\n",
    "    midi = path + '/mixture.wav.mid'\n",
    "    transcription = pretty_midi.PrettyMIDI(midi)\n",
    "    roll = turn_transcription_into_roll(transcription, frames)\n",
    "\n",
    "    return torch.from_numpy(roll).float()\n"
   ]
  },
  {
   "cell_type": "markdown",
   "id": "28a00457-307d-4743-9784-9f4cdae73730",
   "metadata": {},
   "source": [
    "# SISNR"
   ]
  },
  {
   "cell_type": "code",
   "execution_count": 12,
   "id": "3873fcee-a3cb-4975-98f5-fc50e77883fa",
   "metadata": {},
   "outputs": [],
   "source": [
    "def separate_sources(\n",
    "    model,\n",
    "    mix,\n",
    "    drumroll,\n",
    "    segment=4.0,\n",
    "    overlap=0,\n",
    "    device=None,\n",
    "):\n",
    "    \"\"\"\n",
    "    Apply model to a given mixture. Use fade, and add segments together in order to add model segment by segment.\n",
    "\n",
    "    Args:\n",
    "        segment (int): segment length in seconds\n",
    "        device (torch.device, str, or None): if provided, device on which to\n",
    "            execute the computation, otherwise `mix.device` is assumed.\n",
    "            When `device` is different from `mix.device`, only local computations will\n",
    "            be on `device`, while the entire tracks will be stored on `mix.device`.\n",
    "    \"\"\"\n",
    "    if device is None:\n",
    "        device = mix.device\n",
    "    else:\n",
    "        device = torch.device(device)\n",
    "\n",
    "    batch, channels, length = mix.shape\n",
    "\n",
    "    chunk_len = int(sample_rate * segment * (1 + overlap))\n",
    "    start = 0\n",
    "    end = chunk_len\n",
    "    overlap_frames = overlap * sample_rate\n",
    "    fade = Fade(fade_in_len=0, fade_out_len=int(overlap_frames), fade_shape=\"linear\")\n",
    "\n",
    "    final = torch.zeros(batch, channels, length, device=device)\n",
    "\n",
    "    while start < length - overlap_frames:\n",
    "        chunk = mix[:, :, start:end]\n",
    "        roll = drumroll[:, :, start:end]\n",
    "        with torch.no_grad():\n",
    "            out = model.forward(chunk, roll)\n",
    "        # print(out.shape)\n",
    "        out = fade(out)\n",
    "        # print(out.shape)\n",
    "        try:\n",
    "            final[:, :, start:end] += out\n",
    "        except:\n",
    "            pass\n",
    "        if start == 0:\n",
    "            fade.fade_in_len = int(overlap_frames)\n",
    "            start += int(chunk_len - overlap_frames)\n",
    "        else:\n",
    "            start += chunk_len\n",
    "        end += chunk_len\n",
    "        if end >= length:\n",
    "            fade.fade_out_len = 0\n",
    "    return final"
   ]
  },
  {
   "cell_type": "code",
   "execution_count": 13,
   "id": "b97a63a5-d58e-47db-9768-e063efd5da5a",
   "metadata": {},
   "outputs": [],
   "source": [
    "class AudioData:\n",
    "    def __init__(self, audio):\n",
    "        self.audio = audio"
   ]
  },
  {
   "cell_type": "code",
   "execution_count": 14,
   "id": "bcf06e62-3267-4faf-838f-70f14be50e92",
   "metadata": {},
   "outputs": [
    {
     "name": "stderr",
     "output_type": "stream",
     "text": [
      "C:\\Python311\\Lib\\site-packages\\pytorch_lightning\\utilities\\migration\\utils.py:55: The loaded checkpoint was produced with Lightning v2.2.1, which is newer than your current Lightning version: v2.1.2\n",
      "  2%|█▋                                                                                 | 1/50 [00:09<07:47,  9.54s/it]"
     ]
    },
    {
     "name": "stdout",
     "output_type": "stream",
     "text": [
      "drums           ==> SDR:   5.276  SIR: 193.027  ISR:   7.816  SAR:   4.548  \n",
      "bass            ==> SDR:   5.276  SIR: 193.027  ISR:   7.816  SAR:   4.548  \n",
      "\n"
     ]
    },
    {
     "name": "stderr",
     "output_type": "stream",
     "text": [
      "  4%|███▎                                                                               | 2/50 [00:17<06:47,  8.50s/it]"
     ]
    },
    {
     "name": "stdout",
     "output_type": "stream",
     "text": [
      "drums           ==> SDR:   2.875  SIR: 191.345  ISR:   5.714  SAR:   0.272  \n",
      "bass            ==> SDR:   2.875  SIR: 191.345  ISR:   5.714  SAR:   0.272  \n",
      "\n"
     ]
    },
    {
     "name": "stderr",
     "output_type": "stream",
     "text": [
      "  6%|████▉                                                                              | 3/50 [00:24<06:20,  8.09s/it]"
     ]
    },
    {
     "name": "stdout",
     "output_type": "stream",
     "text": [
      "drums           ==> SDR:   3.600  SIR: 230.451  ISR:   6.672  SAR:   2.234  \n",
      "bass            ==> SDR:   3.600  SIR: 230.451  ISR:   6.672  SAR:   2.234  \n",
      "\n"
     ]
    },
    {
     "name": "stderr",
     "output_type": "stream",
     "text": [
      "  8%|██████▋                                                                            | 4/50 [00:32<06:02,  7.89s/it]"
     ]
    },
    {
     "name": "stdout",
     "output_type": "stream",
     "text": [
      "drums           ==> SDR:  -0.824  SIR: 221.972  ISR:   6.311  SAR:  -4.580  \n",
      "bass            ==> SDR:  -0.824  SIR: 221.972  ISR:   6.311  SAR:  -4.580  \n",
      "\n"
     ]
    },
    {
     "name": "stderr",
     "output_type": "stream",
     "text": [
      " 10%|████████▎                                                                          | 5/50 [00:40<05:53,  7.87s/it]"
     ]
    },
    {
     "name": "stdout",
     "output_type": "stream",
     "text": [
      "drums           ==> SDR:   7.595  SIR: 199.649  ISR:  10.461  SAR:   7.415  \n",
      "bass            ==> SDR:   7.595  SIR: 199.649  ISR:  10.461  SAR:   7.415  \n",
      "\n"
     ]
    },
    {
     "name": "stderr",
     "output_type": "stream",
     "text": [
      " 12%|█████████▉                                                                         | 6/50 [00:47<05:41,  7.76s/it]"
     ]
    },
    {
     "name": "stdout",
     "output_type": "stream",
     "text": [
      "drums           ==> SDR:   4.217  SIR: 235.342  ISR:   5.814  SAR:   2.768  \n",
      "bass            ==> SDR:   4.217  SIR: 235.342  ISR:   5.814  SAR:   2.768  \n",
      "\n"
     ]
    },
    {
     "name": "stderr",
     "output_type": "stream",
     "text": [
      " 14%|███████████▌                                                                       | 7/50 [00:55<05:28,  7.65s/it]"
     ]
    },
    {
     "name": "stdout",
     "output_type": "stream",
     "text": [
      "drums           ==> SDR:   3.511  SIR: 203.950  ISR:   7.349  SAR:   2.232  \n",
      "bass            ==> SDR:   3.511  SIR: 203.950  ISR:   7.349  SAR:   2.232  \n",
      "\n"
     ]
    },
    {
     "name": "stderr",
     "output_type": "stream",
     "text": [
      " 16%|█████████████▎                                                                     | 8/50 [01:02<05:20,  7.62s/it]"
     ]
    },
    {
     "name": "stdout",
     "output_type": "stream",
     "text": [
      "drums           ==> SDR:   2.937  SIR: 233.382  ISR:   6.191  SAR:   0.865  \n",
      "bass            ==> SDR:   2.937  SIR: 233.382  ISR:   6.191  SAR:   0.865  \n",
      "\n"
     ]
    },
    {
     "name": "stderr",
     "output_type": "stream",
     "text": [
      " 18%|██████████████▉                                                                    | 9/50 [01:10<05:16,  7.71s/it]"
     ]
    },
    {
     "name": "stdout",
     "output_type": "stream",
     "text": [
      "drums           ==> SDR:   2.556  SIR: 168.993  ISR:   4.478  SAR:  -0.579  \n",
      "bass            ==> SDR:   2.556  SIR: 168.993  ISR:   4.478  SAR:  -0.579  \n",
      "\n"
     ]
    },
    {
     "name": "stderr",
     "output_type": "stream",
     "text": [
      " 20%|████████████████▍                                                                 | 10/50 [01:18<05:08,  7.71s/it]"
     ]
    },
    {
     "name": "stdout",
     "output_type": "stream",
     "text": [
      "drums           ==> SDR: -10.134  SIR: 273.310  ISR: -10.095  SAR:  17.819  \n",
      "bass            ==> SDR: -10.134  SIR: 273.310  ISR: -10.095  SAR:  17.819  \n",
      "\n"
     ]
    },
    {
     "name": "stderr",
     "output_type": "stream",
     "text": [
      " 22%|██████████████████                                                                | 11/50 [01:27<05:12,  8.01s/it]"
     ]
    },
    {
     "name": "stdout",
     "output_type": "stream",
     "text": [
      "drums           ==> SDR:   6.651  SIR: 214.502  ISR:   9.412  SAR:   7.390  \n",
      "bass            ==> SDR:   6.651  SIR: 214.502  ISR:   9.412  SAR:   7.390  \n",
      "\n"
     ]
    },
    {
     "name": "stderr",
     "output_type": "stream",
     "text": [
      " 24%|███████████████████▋                                                              | 12/50 [01:35<05:04,  8.02s/it]"
     ]
    },
    {
     "name": "stdout",
     "output_type": "stream",
     "text": [
      "drums           ==> SDR:   4.794  SIR: 211.407  ISR:   6.158  SAR:   5.386  \n",
      "bass            ==> SDR:   4.794  SIR: 211.407  ISR:   6.158  SAR:   5.386  \n",
      "\n"
     ]
    },
    {
     "name": "stderr",
     "output_type": "stream",
     "text": [
      " 24%|███████████████████▋                                                              | 12/50 [01:39<05:14,  8.26s/it]\n"
     ]
    },
    {
     "ename": "ValueError",
     "evalue": "All the reference sources should be non-silent (not all-zeros), but at least one of the reference sources is all 0s, which introduces ambiguity to the evaluation. (Otherwise we can add infinitely many all-zero sources.)",
     "output_type": "error",
     "traceback": [
      "\u001b[1;31m---------------------------------------------------------------------------\u001b[0m",
      "\u001b[1;31mValueError\u001b[0m                                Traceback (most recent call last)",
      "Cell \u001b[1;32mIn[14], line 44\u001b[0m\n\u001b[0;32m     41\u001b[0m track\u001b[38;5;241m.\u001b[39mtargets[\u001b[38;5;124m'\u001b[39m\u001b[38;5;124mdrums\u001b[39m\u001b[38;5;124m'\u001b[39m] \u001b[38;5;241m=\u001b[39m AudioData(d)\n\u001b[0;32m     42\u001b[0m track\u001b[38;5;241m.\u001b[39mtargets[\u001b[38;5;124m'\u001b[39m\u001b[38;5;124mbass\u001b[39m\u001b[38;5;124m'\u001b[39m] \u001b[38;5;241m=\u001b[39m AudioData(d)\n\u001b[1;32m---> 44\u001b[0m scores \u001b[38;5;241m=\u001b[39m \u001b[43mmuseval\u001b[49m\u001b[38;5;241;43m.\u001b[39;49m\u001b[43meval_mus_track\u001b[49m\u001b[43m(\u001b[49m\n\u001b[0;32m     45\u001b[0m \u001b[43m    \u001b[49m\u001b[43mtrack\u001b[49m\u001b[43m,\u001b[49m\u001b[43m \u001b[49m\u001b[43mestimates\u001b[49m\u001b[43m,\u001b[49m\u001b[43m \u001b[49m\u001b[43moutput_dir\u001b[49m\u001b[38;5;241;43m=\u001b[39;49m\u001b[38;5;124;43mf\u001b[39;49m\u001b[38;5;124;43m\"\u001b[39;49m\u001b[38;5;132;43;01m{\u001b[39;49;00m\u001b[43moutput_path\u001b[49m\u001b[38;5;132;43;01m}\u001b[39;49;00m\u001b[38;5;124;43m\"\u001b[39;49m\n\u001b[0;32m     46\u001b[0m \u001b[43m\u001b[49m\u001b[43m)\u001b[49m\n\u001b[0;32m     48\u001b[0m \u001b[38;5;28mprint\u001b[39m(scores)\n\u001b[0;32m     49\u001b[0m results\u001b[38;5;241m.\u001b[39madd_track(scores)\n",
      "File \u001b[1;32mC:\\Python311\\Lib\\site-packages\\museval\\__init__.py:193\u001b[0m, in \u001b[0;36meval_mus_track\u001b[1;34m(track, user_estimates, output_dir, mode, win, hop)\u001b[0m\n\u001b[0;32m    190\u001b[0m     audio_estimates\u001b[38;5;241m.\u001b[39mappend(user_estimates[target])\n\u001b[0;32m    191\u001b[0m     audio_reference\u001b[38;5;241m.\u001b[39mappend(track\u001b[38;5;241m.\u001b[39mtargets[target]\u001b[38;5;241m.\u001b[39maudio)\n\u001b[1;32m--> 193\u001b[0m SDR, ISR, SIR, SAR \u001b[38;5;241m=\u001b[39m \u001b[43mevaluate\u001b[49m\u001b[43m(\u001b[49m\n\u001b[0;32m    194\u001b[0m \u001b[43m    \u001b[49m\u001b[43maudio_reference\u001b[49m\u001b[43m,\u001b[49m\n\u001b[0;32m    195\u001b[0m \u001b[43m    \u001b[49m\u001b[43maudio_estimates\u001b[49m\u001b[43m,\u001b[49m\n\u001b[0;32m    196\u001b[0m \u001b[43m    \u001b[49m\u001b[43mwin\u001b[49m\u001b[38;5;241;43m=\u001b[39;49m\u001b[38;5;28;43mint\u001b[39;49m\u001b[43m(\u001b[49m\u001b[43mwin\u001b[49m\u001b[43m \u001b[49m\u001b[38;5;241;43m*\u001b[39;49m\u001b[43m \u001b[49m\u001b[43mtrack\u001b[49m\u001b[38;5;241;43m.\u001b[39;49m\u001b[43mrate\u001b[49m\u001b[43m)\u001b[49m\u001b[43m,\u001b[49m\n\u001b[0;32m    197\u001b[0m \u001b[43m    \u001b[49m\u001b[43mhop\u001b[49m\u001b[38;5;241;43m=\u001b[39;49m\u001b[38;5;28;43mint\u001b[39;49m\u001b[43m(\u001b[49m\u001b[43mhop\u001b[49m\u001b[43m \u001b[49m\u001b[38;5;241;43m*\u001b[39;49m\u001b[43m \u001b[49m\u001b[43mtrack\u001b[49m\u001b[38;5;241;43m.\u001b[39;49m\u001b[43mrate\u001b[49m\u001b[43m)\u001b[49m\u001b[43m,\u001b[49m\n\u001b[0;32m    198\u001b[0m \u001b[43m    \u001b[49m\u001b[43mmode\u001b[49m\u001b[38;5;241;43m=\u001b[39;49m\u001b[43mmode\u001b[49m\u001b[43m,\u001b[49m\n\u001b[0;32m    199\u001b[0m \u001b[43m\u001b[49m\u001b[43m)\u001b[49m\n\u001b[0;32m    201\u001b[0m \u001b[38;5;66;03m# iterate over all evaluation results except for vocals\u001b[39;00m\n\u001b[0;32m    202\u001b[0m \u001b[38;5;28;01mfor\u001b[39;00m i, target \u001b[38;5;129;01min\u001b[39;00m \u001b[38;5;28menumerate\u001b[39m(eval_targets):\n",
      "File \u001b[1;32mC:\\Python311\\Lib\\site-packages\\museval\\__init__.py:340\u001b[0m, in \u001b[0;36mevaluate\u001b[1;34m(references, estimates, win, hop, mode, padding)\u001b[0m\n\u001b[0;32m    337\u001b[0m \u001b[38;5;28;01mif\u001b[39;00m padding:\n\u001b[0;32m    338\u001b[0m     references, estimates \u001b[38;5;241m=\u001b[39m pad_or_truncate(references, estimates)\n\u001b[1;32m--> 340\u001b[0m SDR, ISR, SIR, SAR, _ \u001b[38;5;241m=\u001b[39m \u001b[43mmetrics\u001b[49m\u001b[38;5;241;43m.\u001b[39;49m\u001b[43mbss_eval\u001b[49m\u001b[43m(\u001b[49m\n\u001b[0;32m    341\u001b[0m \u001b[43m    \u001b[49m\u001b[43mreferences\u001b[49m\u001b[43m,\u001b[49m\n\u001b[0;32m    342\u001b[0m \u001b[43m    \u001b[49m\u001b[43mestimates\u001b[49m\u001b[43m,\u001b[49m\n\u001b[0;32m    343\u001b[0m \u001b[43m    \u001b[49m\u001b[43mcompute_permutation\u001b[49m\u001b[38;5;241;43m=\u001b[39;49m\u001b[38;5;28;43;01mFalse\u001b[39;49;00m\u001b[43m,\u001b[49m\n\u001b[0;32m    344\u001b[0m \u001b[43m    \u001b[49m\u001b[43mwindow\u001b[49m\u001b[38;5;241;43m=\u001b[39;49m\u001b[43mwin\u001b[49m\u001b[43m,\u001b[49m\n\u001b[0;32m    345\u001b[0m \u001b[43m    \u001b[49m\u001b[43mhop\u001b[49m\u001b[38;5;241;43m=\u001b[39;49m\u001b[43mhop\u001b[49m\u001b[43m,\u001b[49m\n\u001b[0;32m    346\u001b[0m \u001b[43m    \u001b[49m\u001b[43mframewise_filters\u001b[49m\u001b[38;5;241;43m=\u001b[39;49m\u001b[43m(\u001b[49m\u001b[43mmode\u001b[49m\u001b[43m \u001b[49m\u001b[38;5;241;43m==\u001b[39;49m\u001b[43m \u001b[49m\u001b[38;5;124;43m\"\u001b[39;49m\u001b[38;5;124;43mv3\u001b[39;49m\u001b[38;5;124;43m\"\u001b[39;49m\u001b[43m)\u001b[49m\u001b[43m,\u001b[49m\n\u001b[0;32m    347\u001b[0m \u001b[43m    \u001b[49m\u001b[43mbsseval_sources_version\u001b[49m\u001b[38;5;241;43m=\u001b[39;49m\u001b[38;5;28;43;01mFalse\u001b[39;49;00m\u001b[43m,\u001b[49m\n\u001b[0;32m    348\u001b[0m \u001b[43m\u001b[49m\u001b[43m)\u001b[49m\n\u001b[0;32m    350\u001b[0m \u001b[38;5;28;01mreturn\u001b[39;00m SDR, ISR, SIR, SAR\n",
      "File \u001b[1;32mC:\\Python311\\Lib\\site-packages\\museval\\metrics.py:243\u001b[0m, in \u001b[0;36mbss_eval\u001b[1;34m(reference_sources, estimated_sources, window, hop, compute_permutation, filters_len, framewise_filters, bsseval_sources_version)\u001b[0m\n\u001b[0;32m    240\u001b[0m reference_sources \u001b[38;5;241m=\u001b[39m np\u001b[38;5;241m.\u001b[39matleast_3d(reference_sources)\n\u001b[0;32m    242\u001b[0m \u001b[38;5;66;03m# validate input\u001b[39;00m\n\u001b[1;32m--> 243\u001b[0m \u001b[43mvalidate\u001b[49m\u001b[43m(\u001b[49m\u001b[43mreference_sources\u001b[49m\u001b[43m,\u001b[49m\u001b[43m \u001b[49m\u001b[43mestimated_sources\u001b[49m\u001b[43m)\u001b[49m\n\u001b[0;32m    245\u001b[0m \u001b[38;5;66;03m# If empty matrices were supplied, return empty lists (special case)\u001b[39;00m\n\u001b[0;32m    246\u001b[0m \u001b[38;5;28;01mif\u001b[39;00m reference_sources\u001b[38;5;241m.\u001b[39msize \u001b[38;5;241m==\u001b[39m \u001b[38;5;241m0\u001b[39m \u001b[38;5;129;01mor\u001b[39;00m estimated_sources\u001b[38;5;241m.\u001b[39msize \u001b[38;5;241m==\u001b[39m \u001b[38;5;241m0\u001b[39m:\n",
      "File \u001b[1;32mC:\\Python311\\Lib\\site-packages\\museval\\metrics.py:94\u001b[0m, in \u001b[0;36mvalidate\u001b[1;34m(reference_sources, estimated_sources)\u001b[0m\n\u001b[0;32m     88\u001b[0m     warnings\u001b[38;5;241m.\u001b[39mwarn(\n\u001b[0;32m     89\u001b[0m         \u001b[38;5;124m\"\u001b[39m\u001b[38;5;124mreference_sources is empty, should be of size \u001b[39m\u001b[38;5;124m\"\u001b[39m\n\u001b[0;32m     90\u001b[0m         \u001b[38;5;124m\"\u001b[39m\u001b[38;5;124m(nsrc, nsample, nchan). sdr, isr sir, sar, and perm \u001b[39m\u001b[38;5;124m\"\u001b[39m\n\u001b[0;32m     91\u001b[0m         \u001b[38;5;124m\"\u001b[39m\u001b[38;5;124mwill all be empty np.ndarrays\u001b[39m\u001b[38;5;124m\"\u001b[39m\n\u001b[0;32m     92\u001b[0m     )\n\u001b[0;32m     93\u001b[0m \u001b[38;5;28;01melif\u001b[39;00m _any_source_silent(reference_sources):\n\u001b[1;32m---> 94\u001b[0m     \u001b[38;5;28;01mraise\u001b[39;00m \u001b[38;5;167;01mValueError\u001b[39;00m(\n\u001b[0;32m     95\u001b[0m         \u001b[38;5;124m\"\u001b[39m\u001b[38;5;124mAll the reference sources should be non-silent (not \u001b[39m\u001b[38;5;124m\"\u001b[39m\n\u001b[0;32m     96\u001b[0m         \u001b[38;5;124m\"\u001b[39m\u001b[38;5;124mall-zeros), but at least one of the reference \u001b[39m\u001b[38;5;124m\"\u001b[39m\n\u001b[0;32m     97\u001b[0m         \u001b[38;5;124m\"\u001b[39m\u001b[38;5;124msources is all 0s, which introduces ambiguity to the\u001b[39m\u001b[38;5;124m\"\u001b[39m\n\u001b[0;32m     98\u001b[0m         \u001b[38;5;124m\"\u001b[39m\u001b[38;5;124m evaluation. (Otherwise we can add infinitely many \u001b[39m\u001b[38;5;124m\"\u001b[39m\n\u001b[0;32m     99\u001b[0m         \u001b[38;5;124m\"\u001b[39m\u001b[38;5;124mall-zero sources.)\u001b[39m\u001b[38;5;124m\"\u001b[39m\n\u001b[0;32m    100\u001b[0m     )\n\u001b[0;32m    102\u001b[0m \u001b[38;5;28;01mif\u001b[39;00m estimated_sources\u001b[38;5;241m.\u001b[39msize \u001b[38;5;241m==\u001b[39m \u001b[38;5;241m0\u001b[39m:\n\u001b[0;32m    103\u001b[0m     warnings\u001b[38;5;241m.\u001b[39mwarn(\n\u001b[0;32m    104\u001b[0m         \u001b[38;5;124m\"\u001b[39m\u001b[38;5;124mestimated_sources is empty, should be of size \u001b[39m\u001b[38;5;124m\"\u001b[39m\n\u001b[0;32m    105\u001b[0m         \u001b[38;5;124m\"\u001b[39m\u001b[38;5;124m(nsrc, nsample, nchan).  sdr, isr, sir, sar, and perm \u001b[39m\u001b[38;5;124m\"\u001b[39m\n\u001b[0;32m    106\u001b[0m         \u001b[38;5;124m\"\u001b[39m\u001b[38;5;124mwill all be empty np.ndarrays\u001b[39m\u001b[38;5;124m\"\u001b[39m\n\u001b[0;32m    107\u001b[0m     )\n",
      "\u001b[1;31mValueError\u001b[0m: All the reference sources should be non-silent (not all-zeros), but at least one of the reference sources is all 0s, which introduces ambiguity to the evaluation. (Otherwise we can add infinitely many all-zero sources.)"
     ]
    }
   ],
   "source": [
    "for name in ['epoch_200']:\n",
    "    #try:\n",
    "    try:\n",
    "        os.mkdir(f\"D:/Github/phd-drum-sep/analysis/conv_tasnet_model_analysis/results_{name}_32/\")\n",
    "    except:\n",
    "        pass\n",
    "\n",
    "    model = DrumConvTasnet.load_from_checkpoint(f'D:/Github/phd-drum-sep/analysis/conv_tasnet_model_analysis/checkpoint/{name}.ckpt')\n",
    "    # model.to('cpu')\n",
    "    model = model.eval()\n",
    "    \n",
    "    mus = musdb.DB(root=\"D:/Github/phd-drum-sep/Data/musdb18_stems/\", subsets=\"test\") \n",
    "    \n",
    "    results = museval.EvalStore(frames_agg='median', tracks_agg='median')\n",
    "    for track in tqdm(mus):\n",
    "        try:\n",
    "            path = \"D:/Github/phd-drum-sep/Data/musdb18hq/\"\n",
    "            audio_path = path + 'test/' + track.name + \"/\"\n",
    "        \n",
    "        \n",
    "            mixture_tensor = load_audio(audio_path, start_point,'mixture.wav').unsqueeze(0).to(model.device)\n",
    "            mixture_tensor = mixture_tensor[:,:, :(44100 * 32)]\n",
    "            \n",
    "            drum_tensor = load_audio(audio_path, start_point,'drums.wav').unsqueeze(0).to(model.device)\n",
    "            drum_tensor = drum_tensor[:,:, :(44100 * 32)]\n",
    "            \n",
    "            shape = mixture_tensor.shape[2]\n",
    "            roll_tensor = load_roll(audio_path, start_point, shape).unsqueeze(0).to(model.device)\n",
    "            roll_tensor = roll_tensor[:,:, :(44100 * 32)]\n",
    "        \n",
    "            seperated = separate_sources(model, mixture_tensor, roll_tensor, device='cuda')\n",
    "        \n",
    "            output_path = f\"D:/Github/phd-drum-sep/analysis/conv_tasnet_model_analysis/results_{name}_32/\"\n",
    "            \n",
    "            audio = seperated.squeeze(0).cpu().numpy()\n",
    "            audio = np.swapaxes(audio,0,1)\n",
    "            estimates = {'drums': audio, 'bass': audio}\n",
    "        \n",
    "            d = drum_tensor.squeeze(0).cpu().numpy()\n",
    "            d = np.swapaxes(d,0,1)\n",
    "            \n",
    "            track.targets['drums'] = AudioData(d)\n",
    "            track.targets['bass'] = AudioData(d)\n",
    "            \n",
    "            scores = museval.eval_mus_track(\n",
    "                track, estimates, output_dir=f\"{output_path}\"\n",
    "            )\n",
    "        \n",
    "            print(scores)\n",
    "            results.add_track(scores)\n",
    "            # break\n",
    "        except:\n",
    "            pass\n",
    "    \n",
    "    results.df.to_csv(f\"{output_path}results.csv\")\n",
    "\n",
    "    del model\n",
    "    del mus\n",
    "    gc.collect()\n",
    "    # except Exception as e:\n",
    "    #     print('error with model, skipping', name, e)"
   ]
  },
  {
   "cell_type": "code",
   "execution_count": null,
   "id": "ff3d97f7-2804-4b99-adcb-5adeb7dc9d7d",
   "metadata": {},
   "outputs": [],
   "source": [
    "dir(results)"
   ]
  },
  {
   "cell_type": "code",
   "execution_count": null,
   "id": "6cd0a0c5-a825-44cb-94e7-9fef9dcc91fb",
   "metadata": {},
   "outputs": [],
   "source": [
    "results.agg_frames_tracks_scores(), "
   ]
  },
  {
   "cell_type": "code",
   "execution_count": null,
   "id": "246b6f4f-d272-4105-aef9-26757a4c3b4f",
   "metadata": {},
   "outputs": [],
   "source": [
    "r = results.agg_frames_scores().to_dict()"
   ]
  },
  {
   "cell_type": "code",
   "execution_count": null,
   "id": "d600d210-0015-462f-8dc5-4c5888589fe3",
   "metadata": {},
   "outputs": [],
   "source": [
    "sdrs = []\n",
    "for key in list(r.keys()):\n",
    "    if 'SDR' in key:\n",
    "        sdrs.append(r[key])\n",
    "\n",
    "print(np.median(sdrs))"
   ]
  },
  {
   "cell_type": "code",
   "execution_count": null,
   "id": "58db3f19-21c2-4daf-bdf1-eb25814ec5d7",
   "metadata": {},
   "outputs": [],
   "source": []
  }
 ],
 "metadata": {
  "kernelspec": {
   "display_name": "Python 3 (ipykernel)",
   "language": "python",
   "name": "python3"
  },
  "language_info": {
   "codemirror_mode": {
    "name": "ipython",
    "version": 3
   },
   "file_extension": ".py",
   "mimetype": "text/x-python",
   "name": "python",
   "nbconvert_exporter": "python",
   "pygments_lexer": "ipython3",
   "version": "3.11.4"
  }
 },
 "nbformat": 4,
 "nbformat_minor": 5
}
