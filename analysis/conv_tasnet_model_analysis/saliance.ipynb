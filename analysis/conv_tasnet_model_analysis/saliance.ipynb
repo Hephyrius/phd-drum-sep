{
 "cells": [
  {
   "cell_type": "code",
   "execution_count": 1,
   "id": "72868c9b-bbde-4408-b7cf-8be3d8316d49",
   "metadata": {},
   "outputs": [],
   "source": [
    "import pandas as pd\n",
    "import numpy as np"
   ]
  },
  {
   "cell_type": "code",
   "execution_count": 2,
   "id": "205cd6f5-15ff-445d-ab1d-10608875f862",
   "metadata": {},
   "outputs": [],
   "source": [
    "df = pd.read_csv(\"D:/Github/phd-drum-sep/analysis/conv_tasnet_model_analysis/saliance.csv\")"
   ]
  },
  {
   "cell_type": "code",
   "execution_count": 10,
   "id": "c90b4f1d-1940-4e16-b793-4e212a0efced",
   "metadata": {},
   "outputs": [
    {
     "data": {
      "text/plain": [
       "('conv tasnet 4s mean salience: Audio',\n",
       " 0.0031933280895500133,\n",
       " 0.0034734209907695286)"
      ]
     },
     "execution_count": 10,
     "metadata": {},
     "output_type": "execute_result"
    }
   ],
   "source": [
    "'conv tasnet 4s mean salience: Audio', np.mean(list(df['l'])), np.mean(list(df['r'])) "
   ]
  },
  {
   "cell_type": "code",
   "execution_count": 7,
   "id": "a7a4585f-179a-45a5-adbd-d3c41c1121a0",
   "metadata": {},
   "outputs": [
    {
     "data": {
      "text/plain": [
       "('conv tasnet 4s mean salience: Drum Transcriptions',\n",
       " 0.0002904405010450817,\n",
       " 0.00039622539396703634,\n",
       " 0.00026919759481468946,\n",
       " 0.00022655483329291003,\n",
       " 0.00020523796925814885)"
      ]
     },
     "execution_count": 7,
     "metadata": {},
     "output_type": "execute_result"
    }
   ],
   "source": [
    "'conv tasnet 4s mean salience: Drum Transcriptions', np.mean(list(df['d1'])), np.mean(list(df['d2'])), np.mean(list(df['d3'])), np.mean(list(df['d4'])), np.mean(list(df['d5']))"
   ]
  },
  {
   "cell_type": "code",
   "execution_count": 8,
   "id": "a95d3b2a-88e1-4cab-83db-39e472d66f14",
   "metadata": {},
   "outputs": [
    {
     "data": {
      "text/plain": [
       "('conv tasnet 4s median salience: Drum Transcriptions',\n",
       " 0.0030597823206335,\n",
       " 0.0033253612928092)"
      ]
     },
     "execution_count": 8,
     "metadata": {},
     "output_type": "execute_result"
    }
   ],
   "source": [
    "'conv tasnet 4s median salience: Drum Transcriptions', np.median(list(df['l'])), np.median(list(df['r'])), "
   ]
  },
  {
   "cell_type": "code",
   "execution_count": 9,
   "id": "add0872c-2f2b-4730-972d-b1aceaaffd25",
   "metadata": {},
   "outputs": [
    {
     "data": {
      "text/plain": [
       "('conv tasnet 4s median salience: Drum Transcriptions',\n",
       " 0.0002746951649896,\n",
       " 0.0003731999604497,\n",
       " 0.0002495940134394,\n",
       " 0.0002155753463739,\n",
       " 0.0001988702424569)"
      ]
     },
     "execution_count": 9,
     "metadata": {},
     "output_type": "execute_result"
    }
   ],
   "source": [
    "'conv tasnet 4s median salience: Drum Transcriptions', np.median(list(df['d1'])), np.median(list(df['d2'])), np.median(list(df['d3'])), np.median(list(df['d4'])), np.median(list(df['d5']))"
   ]
  },
  {
   "cell_type": "code",
   "execution_count": null,
   "id": "48b31294-cf4e-4663-afbe-f6435d7f09cf",
   "metadata": {},
   "outputs": [],
   "source": []
  }
 ],
 "metadata": {
  "kernelspec": {
   "display_name": "Python 3 (ipykernel)",
   "language": "python",
   "name": "python3"
  },
  "language_info": {
   "codemirror_mode": {
    "name": "ipython",
    "version": 3
   },
   "file_extension": ".py",
   "mimetype": "text/x-python",
   "name": "python",
   "nbconvert_exporter": "python",
   "pygments_lexer": "ipython3",
   "version": "3.11.4"
  }
 },
 "nbformat": 4,
 "nbformat_minor": 5
}
