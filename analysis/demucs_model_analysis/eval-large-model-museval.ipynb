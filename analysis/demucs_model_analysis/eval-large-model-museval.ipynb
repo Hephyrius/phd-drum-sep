{
 "cells": [
  {
   "cell_type": "markdown",
   "id": "20b2a3bb-3d01-4f42-bc37-dff46522af7f",
   "metadata": {},
   "source": [
    "# Imports"
   ]
  },
  {
   "cell_type": "code",
   "execution_count": 1,
   "id": "71d686e6-8847-4861-88f0-58141c363862",
   "metadata": {},
   "outputs": [
    {
     "name": "stdout",
     "output_type": "stream",
     "text": [
      "True\n"
     ]
    }
   ],
   "source": [
    "import os\n",
    "import pywt\n",
    "import torch\n",
    "import torch.nn as nn\n",
    "import torch.nn.functional as F\n",
    "import torchaudio\n",
    "import pytorch_lightning as pl\n",
    "from torch.utils.data import DataLoader, Dataset\n",
    "from torchaudio.pipelines import HDEMUCS_HIGH_MUSDB\n",
    "import torch.optim as optim\n",
    "from torch.utils.data import Dataset, DataLoader\n",
    "import torchaudio\n",
    "import numpy as np\n",
    "import random\n",
    "from pytorch_lightning.loggers import WandbLogger\n",
    "import wandb\n",
    "import auraloss\n",
    "import collections\n",
    "from tqdm import tqdm\n",
    "import pretty_midi\n",
    "import matplotlib.pyplot as plt\n",
    "from torchaudio.pipelines import HDEMUCS_HIGH_MUSDB\n",
    "print(torch.cuda.is_available())\n",
    "import plotly.graph_objects as go\n",
    "from torch.optim import lr_scheduler\n",
    "from IPython.display import Audio\n",
    "from torchaudio.transforms import Fade\n",
    "import musdb\n",
    "import museval\n",
    "import gc"
   ]
  },
  {
   "cell_type": "markdown",
   "id": "e1c82506-04c8-4200-9e63-26857aa176bd",
   "metadata": {},
   "source": [
    "# Set Seeds"
   ]
  },
  {
   "cell_type": "code",
   "execution_count": 2,
   "id": "db3acd3b-d177-44d3-a3f4-35140f45e48a",
   "metadata": {},
   "outputs": [],
   "source": [
    "seed_value = 3407\n",
    "torch.manual_seed(seed_value)\n",
    "random.seed(seed_value)\n",
    "np.random.seed(seed_value)\n",
    "torch.cuda.manual_seed(seed_value)\n",
    "torch.cuda.manual_seed_all(seed_value)\n",
    "torch.set_float32_matmul_precision('high')"
   ]
  },
  {
   "cell_type": "markdown",
   "id": "6182916a-aec1-4c05-8a08-4d2e44dfd979",
   "metadata": {},
   "source": [
    "# Construct Teh Datas"
   ]
  },
  {
   "cell_type": "code",
   "execution_count": 3,
   "id": "dbe5ef07-9ab9-4e3e-9334-048f67ae25e4",
   "metadata": {},
   "outputs": [],
   "source": [
    "path = \"D:/Github/phd-drum-sep/Data/musdb18hq/\""
   ]
  },
  {
   "cell_type": "code",
   "execution_count": 4,
   "id": "e101d3bb-e001-42ff-90cc-42384739d506",
   "metadata": {},
   "outputs": [
    {
     "data": {
      "text/plain": [
       "['test', 'train']"
      ]
     },
     "execution_count": 4,
     "metadata": {},
     "output_type": "execute_result"
    }
   ],
   "source": [
    "os.listdir(path)"
   ]
  },
  {
   "cell_type": "code",
   "execution_count": 5,
   "id": "c52ab99f-41d2-4b7f-a179-90681a8a0a81",
   "metadata": {},
   "outputs": [],
   "source": [
    "train = list(os.listdir(path+'train'))\n",
    "test = list(os.listdir(path+'test'))"
   ]
  },
  {
   "cell_type": "code",
   "execution_count": 6,
   "id": "21aa39ee-b25f-4bdc-950a-9389eb93765a",
   "metadata": {},
   "outputs": [],
   "source": [
    "sources = ['drum', 'bass', 'other', 'vocals']"
   ]
  },
  {
   "cell_type": "code",
   "execution_count": 7,
   "id": "f07f7f9c-2d6b-42b9-b5ac-0f4bd9aeb6a7",
   "metadata": {},
   "outputs": [
    {
     "name": "stderr",
     "output_type": "stream",
     "text": [
      "50it [00:00, 4545.29it/s]\n"
     ]
    }
   ],
   "source": [
    "all_scenes = {}\n",
    "counter = 0\n",
    "sample_rate = 44100\n",
    "segment_length = sample_rate * 1\n",
    "\n",
    "for idx, val in tqdm(enumerate(test)):\n",
    "    p = path + 'test/' + val + \"/\"\n",
    "    info = torchaudio.info(f\"{p}mixture.wav\")\n",
    "    seconds = info.num_frames // 44100\n",
    "    for i in range(0, seconds - 1, 1):\n",
    "        start_point = i * 44100\n",
    "        if start_point + 44100 < info.num_frames:\n",
    "            all_scenes[counter] = {'music_path': p, 'start_point': start_point, 'length': 44100, 'frames' : info.num_frames}\n",
    "            counter += 1"
   ]
  },
  {
   "cell_type": "code",
   "execution_count": 8,
   "id": "d6d4eb9a-f08d-4452-a4ad-b9769a218278",
   "metadata": {},
   "outputs": [],
   "source": [
    "def turn_transcription_into_roll(transcription, frames):\n",
    "    # Determine your sampling frequency (frames per second)\n",
    "    fs = 44100\n",
    "    \n",
    "    piano_roll_length = int(frames)\n",
    "    \n",
    "    # Initialize the piano roll array\n",
    "    piano_roll = np.zeros((64, piano_roll_length))\n",
    "    \n",
    "    # Fill in the piano roll array\n",
    "    for note in transcription.instruments[0].notes:\n",
    "        # Convert start and end times to frame indices\n",
    "        start_frame = int(np.floor(note.start * fs))\n",
    "        end_frame = int(np.ceil(note.end * fs))\n",
    "        \n",
    "        # Set the corresponding frames to 1 (or note.velocity for a velocity-sensitive representation)\n",
    "        piano_roll[note.pitch, start_frame:end_frame] = 1  # Or use note.velocity\n",
    "        \n",
    "    roll = np.vstack([piano_roll[35:36, :], piano_roll[38:39, :], piano_roll[42:43, :], piano_roll[47:48, :], piano_roll[49:50, :]])\n",
    "    return roll"
   ]
  },
  {
   "cell_type": "markdown",
   "id": "20988d30-a95e-4dca-ac19-a6f7cea95717",
   "metadata": {},
   "source": [
    "# model"
   ]
  },
  {
   "cell_type": "code",
   "execution_count": 9,
   "id": "b72a57b5-7115-421d-b26e-3ca3d21fef5d",
   "metadata": {},
   "outputs": [],
   "source": [
    "class DrumDemucs(pl.LightningModule):\n",
    "    def __init__(self):\n",
    "        super(DrumDemucs, self).__init__()\n",
    "\n",
    "        self.loss_fn = auraloss.freq.MultiResolutionSTFTLoss(\n",
    "                    fft_sizes=[1024, 2048, 4096],\n",
    "                    hop_sizes=[256, 512, 1024],\n",
    "                    win_lengths=[1024, 2048, 4096],\n",
    "                    scale=\"mel\", \n",
    "                    n_bins=150,\n",
    "                    sample_rate=44100,\n",
    "                    device=\"cuda\"\n",
    "                )\n",
    "\n",
    "        self.loss_fn_2 = auraloss.time.SISDRLoss()\n",
    "\n",
    "        self.loss_fn_3 = torch.nn.L1Loss()\n",
    "\n",
    "        self.loss_used = 0\n",
    "\n",
    "        sources = ['drum',\n",
    "                   'noise',\n",
    "                   ]\n",
    "        \n",
    "        self.demucs_mixer =  torchaudio.models.HDemucs(\n",
    "            sources=sources,\n",
    "            audio_channels=7,\n",
    "            depth=6,\n",
    "        )\n",
    "\n",
    "        self.out_conv = nn.Conv1d(in_channels=7, out_channels=2, kernel_size=1)\n",
    "        self.out = nn.Conv1d(in_channels=2, out_channels=2, kernel_size=1)      \n",
    "\n",
    "\n",
    "    def compute_loss(self, outputs, ref_signals):\n",
    "        loss = self.loss_fn(outputs, ref_signals) + self.loss_fn_2(outputs, ref_signals) +  self.loss_fn_3(outputs, ref_signals)\n",
    "        return loss\n",
    "\n",
    "    def forward(self, audio, drumroll):\n",
    "        to_mix = torch.cat([audio, drumroll], axis=1)\n",
    "        out = self.demucs_mixer(to_mix)\n",
    "        out_2 = self.out_conv(out[:, 0, :, :])\n",
    "        out_2 = self.out(out_2)\n",
    "        # out_2 = torch.tanh(out_2)\n",
    "\n",
    "        return out_2\n",
    "    \n",
    "    def training_step(self, batch, batch_idx):\n",
    "        # training_step defines the train loop. It is independent of forward\n",
    "        audio, drum, drumroll = batch\n",
    "        \n",
    "        outputs = self.forward(audio, drumroll)\n",
    "        # print(outputs.size())\n",
    "\n",
    "        if batch_idx % 64 == 0:\n",
    "            input_signal = audio[0].cpu().detach().numpy().T\n",
    "            generated_signal = outputs[0].cpu().detach().numpy().T\n",
    "            drum_signal = drum[0].cpu().detach().numpy().T \n",
    "            wandb.log({'audio_input': [wandb.Audio(input_signal, caption=\"Input\", sample_rate=44100)]})\n",
    "            wandb.log({'audio_reference': [wandb.Audio(drum_signal, caption=\"Reference\", sample_rate=44100)]})\n",
    "            wandb.log({'audio_output': [wandb.Audio(generated_signal, caption=\"Output\", sample_rate=44100)]})\n",
    "             \n",
    "            for i in range(5):\n",
    "                wandb.log({f'drum_{i + 1}': [wandb.Audio(drumroll[0].cpu().detach().numpy()[i, :], caption=\"Output\", sample_rate=44100)]})\n",
    "\n",
    "\n",
    "        loss = self.compute_loss(outputs, drum)         \n",
    "\n",
    "        self.log('train_loss', loss, on_step=True, on_epoch=True, prog_bar=True, logger=True)\n",
    "        \n",
    "        return loss\n",
    "    \n",
    "\n",
    "    def configure_optimizers(self):\n",
    "        # Define your optimizer and optionally learning rate scheduler here\n",
    "        optimizer = optim.Adam(self.parameters(), lr=0.001)\n",
    "        scheduler = lr_scheduler.StepLR(optimizer, step_size=1, gamma=0.99)\n",
    "        return [optimizer], [scheduler]\n",
    "        "
   ]
  },
  {
   "cell_type": "code",
   "execution_count": 10,
   "id": "79d11190-4e68-41f8-ae19-36d8199c1643",
   "metadata": {},
   "outputs": [],
   "source": [
    "def load_audio(path, start_point, filename):\n",
    "    audio_tensors = []\n",
    "    waveform, _ = torchaudio.load(f\"{path}/{filename}\")\n",
    "    return waveform\n",
    "\n",
    "def load_roll(path, start_point, frames):\n",
    "    midi = path + '/mixture.wav.mid'\n",
    "    transcription = pretty_midi.PrettyMIDI(midi)\n",
    "    roll = turn_transcription_into_roll(transcription, frames)\n",
    "\n",
    "    return torch.from_numpy(roll).float()\n"
   ]
  },
  {
   "cell_type": "markdown",
   "id": "28a00457-307d-4743-9784-9f4cdae73730",
   "metadata": {},
   "source": [
    "# SISNR"
   ]
  },
  {
   "cell_type": "code",
   "execution_count": 11,
   "id": "87127472-d58b-405a-8372-376fa62d5eb7",
   "metadata": {},
   "outputs": [],
   "source": [
    "try:\n",
    "    os.mkdir(\"D:/Github/phd-drum-sep/analysis/demucs_model_analysis/output/\")\n",
    "    os.mkdir(\"D:/Github/phd-drum-sep/analysis/demucs_model_analysis/output/test\")\n",
    "except:\n",
    "    pass"
   ]
  },
  {
   "cell_type": "code",
   "execution_count": 12,
   "id": "3873fcee-a3cb-4975-98f5-fc50e77883fa",
   "metadata": {},
   "outputs": [],
   "source": [
    "def separate_sources(\n",
    "    model,\n",
    "    mix,\n",
    "    drumroll,\n",
    "    segment=10.0,\n",
    "    overlap=0.1,\n",
    "    device=None,\n",
    "):\n",
    "    \"\"\"\n",
    "    Apply model to a given mixture. Use fade, and add segments together in order to add model segment by segment.\n",
    "\n",
    "    Args:\n",
    "        segment (int): segment length in seconds\n",
    "        device (torch.device, str, or None): if provided, device on which to\n",
    "            execute the computation, otherwise `mix.device` is assumed.\n",
    "            When `device` is different from `mix.device`, only local computations will\n",
    "            be on `device`, while the entire tracks will be stored on `mix.device`.\n",
    "    \"\"\"\n",
    "    if device is None:\n",
    "        device = mix.device\n",
    "    else:\n",
    "        device = torch.device(device)\n",
    "\n",
    "    batch, channels, length = mix.shape\n",
    "\n",
    "    chunk_len = int(sample_rate * segment * (1 + overlap))\n",
    "    start = 0\n",
    "    end = chunk_len\n",
    "    overlap_frames = overlap * sample_rate\n",
    "    fade = Fade(fade_in_len=0, fade_out_len=int(overlap_frames), fade_shape=\"linear\")\n",
    "\n",
    "    final = torch.zeros(batch, channels, length, device=device)\n",
    "\n",
    "    while start < length - overlap_frames:\n",
    "        chunk = mix[:, :, start:end]\n",
    "        roll = drumroll[:, :, start:end]\n",
    "        with torch.no_grad():\n",
    "            out = model.forward(chunk, roll)\n",
    "        out = fade(out)\n",
    "        final[:, :, start:end] += out\n",
    "        if start == 0:\n",
    "            fade.fade_in_len = int(overlap_frames)\n",
    "            start += int(chunk_len - overlap_frames)\n",
    "        else:\n",
    "            start += chunk_len\n",
    "        end += chunk_len\n",
    "        if end >= length:\n",
    "            fade.fade_out_len = 0\n",
    "    return final"
   ]
  },
  {
   "cell_type": "code",
   "execution_count": 13,
   "id": "b97a63a5-d58e-47db-9768-e063efd5da5a",
   "metadata": {},
   "outputs": [],
   "source": [
    "class AudioData:\n",
    "    def __init__(self, audio):\n",
    "        self.audio = audio"
   ]
  },
  {
   "cell_type": "code",
   "execution_count": 14,
   "id": "bcf06e62-3267-4faf-838f-70f14be50e92",
   "metadata": {},
   "outputs": [
    {
     "name": "stderr",
     "output_type": "stream",
     "text": [
      "  2%|█▋                                                                                 | 1/50 [00:33<27:10, 33.28s/it]"
     ]
    },
    {
     "name": "stdout",
     "output_type": "stream",
     "text": [
      "drums           ==> SDR:   3.629  SIR: 224.168  ISR:   7.583  SAR:   3.215  \n",
      "bass            ==> SDR:   3.629  SIR: 224.168  ISR:   7.583  SAR:   3.215  \n",
      "\n"
     ]
    },
    {
     "name": "stderr",
     "output_type": "stream",
     "text": [
      "  4%|███▎                                                                               | 2/50 [01:04<25:43, 32.15s/it]"
     ]
    },
    {
     "name": "stdout",
     "output_type": "stream",
     "text": [
      "drums           ==> SDR:   2.922  SIR: 180.238  ISR:   7.855  SAR:   0.405  \n",
      "bass            ==> SDR:   2.922  SIR: 180.238  ISR:   7.855  SAR:   0.405  \n",
      "\n"
     ]
    },
    {
     "name": "stderr",
     "output_type": "stream",
     "text": [
      "  6%|████▉                                                                              | 3/50 [01:23<20:28, 26.14s/it]"
     ]
    },
    {
     "name": "stdout",
     "output_type": "stream",
     "text": [
      "drums           ==> SDR:   4.214  SIR: 218.937  ISR:   8.961  SAR:   3.802  \n",
      "bass            ==> SDR:   4.214  SIR: 218.937  ISR:   8.961  SAR:   3.802  \n",
      "\n"
     ]
    },
    {
     "name": "stderr",
     "output_type": "stream",
     "text": [
      "  8%|██████▋                                                                            | 4/50 [01:55<21:54, 28.58s/it]"
     ]
    },
    {
     "name": "stdout",
     "output_type": "stream",
     "text": [
      "drums           ==> SDR:   1.331  SIR: 235.093  ISR:   9.723  SAR:  -1.101  \n",
      "bass            ==> SDR:   1.331  SIR: 235.093  ISR:   9.723  SAR:  -1.101  \n",
      "\n"
     ]
    },
    {
     "name": "stderr",
     "output_type": "stream",
     "text": [
      " 10%|████████▎                                                                          | 5/50 [02:33<23:43, 31.64s/it]"
     ]
    },
    {
     "name": "stdout",
     "output_type": "stream",
     "text": [
      "drums           ==> SDR:   7.549  SIR: 196.770  ISR:  13.264  SAR:   7.044  \n",
      "bass            ==> SDR:   7.549  SIR: 196.770  ISR:  13.264  SAR:   7.044  \n",
      "\n"
     ]
    },
    {
     "name": "stderr",
     "output_type": "stream",
     "text": [
      " 12%|█████████▉                                                                         | 6/50 [03:05<23:23, 31.90s/it]"
     ]
    },
    {
     "name": "stdout",
     "output_type": "stream",
     "text": [
      "drums           ==> SDR:   4.721  SIR: 230.535  ISR:  10.765  SAR:   3.581  \n",
      "bass            ==> SDR:   4.721  SIR: 230.535  ISR:  10.765  SAR:   3.581  \n",
      "\n"
     ]
    },
    {
     "name": "stderr",
     "output_type": "stream",
     "text": [
      " 14%|███████████▌                                                                       | 7/50 [03:36<22:43, 31.70s/it]"
     ]
    },
    {
     "name": "stdout",
     "output_type": "stream",
     "text": [
      "drums           ==> SDR:   4.942  SIR: 188.706  ISR:  10.746  SAR:   3.985  \n",
      "bass            ==> SDR:   4.942  SIR: 188.706  ISR:  10.746  SAR:   3.985  \n",
      "\n"
     ]
    },
    {
     "name": "stderr",
     "output_type": "stream",
     "text": [
      " 16%|█████████████▎                                                                     | 8/50 [04:09<22:26, 32.05s/it]"
     ]
    },
    {
     "name": "stdout",
     "output_type": "stream",
     "text": [
      "drums           ==> SDR:   3.420  SIR: 243.482  ISR:   9.272  SAR:   1.488  \n",
      "bass            ==> SDR:   3.420  SIR: 243.482  ISR:   9.272  SAR:   1.488  \n",
      "\n"
     ]
    },
    {
     "name": "stderr",
     "output_type": "stream",
     "text": [
      " 18%|██████████████▉                                                                    | 9/50 [04:43<22:20, 32.68s/it]"
     ]
    },
    {
     "name": "stdout",
     "output_type": "stream",
     "text": [
      "drums           ==> SDR:   5.857  SIR: 174.192  ISR:   8.920  SAR:   5.099  \n",
      "bass            ==> SDR:   5.857  SIR: 174.192  ISR:   8.920  SAR:   5.099  \n",
      "\n"
     ]
    },
    {
     "name": "stderr",
     "output_type": "stream",
     "text": [
      " 20%|████████████████▍                                                                 | 10/50 [05:16<21:45, 32.63s/it]"
     ]
    },
    {
     "name": "stdout",
     "output_type": "stream",
     "text": [
      "drums           ==> SDR:   3.292  SIR: 229.639  ISR:   7.956  SAR:   1.368  \n",
      "bass            ==> SDR:   3.292  SIR: 229.639  ISR:   7.956  SAR:   1.368  \n",
      "\n"
     ]
    },
    {
     "name": "stderr",
     "output_type": "stream",
     "text": [
      " 22%|██████████████████                                                                | 11/50 [05:48<21:12, 32.63s/it]"
     ]
    },
    {
     "name": "stdout",
     "output_type": "stream",
     "text": [
      "drums           ==> SDR:   8.192  SIR: 214.679  ISR:  14.394  SAR:   8.086  \n",
      "bass            ==> SDR:   8.192  SIR: 214.679  ISR:  14.394  SAR:   8.086  \n",
      "\n"
     ]
    },
    {
     "name": "stderr",
     "output_type": "stream",
     "text": [
      " 24%|███████████████████▋                                                              | 12/50 [06:19<20:14, 31.96s/it]"
     ]
    },
    {
     "name": "stdout",
     "output_type": "stream",
     "text": [
      "drums           ==> SDR:   4.496  SIR: 211.584  ISR:   5.580  SAR:   3.735  \n",
      "bass            ==> SDR:   4.496  SIR: 211.584  ISR:   5.580  SAR:   3.735  \n",
      "\n"
     ]
    },
    {
     "name": "stderr",
     "output_type": "stream",
     "text": [
      " 26%|█████████████████████▎                                                            | 13/50 [06:36<17:03, 27.67s/it]"
     ]
    },
    {
     "name": "stdout",
     "output_type": "stream",
     "text": [
      "drums           ==> SDR:   1.982  SIR: 164.147  ISR:   3.459  SAR:   0.537  \n",
      "bass            ==> SDR:   1.982  SIR: 164.147  ISR:   3.459  SAR:   0.537  \n",
      "\n"
     ]
    },
    {
     "name": "stderr",
     "output_type": "stream",
     "text": [
      " 28%|██████████████████████▉                                                           | 14/50 [07:10<17:38, 29.41s/it]"
     ]
    },
    {
     "name": "stdout",
     "output_type": "stream",
     "text": [
      "drums           ==> SDR:   7.071  SIR: 211.485  ISR:  12.055  SAR:   7.077  \n",
      "bass            ==> SDR:   7.071  SIR: 211.485  ISR:  12.055  SAR:   7.077  \n",
      "\n"
     ]
    },
    {
     "name": "stderr",
     "output_type": "stream",
     "text": [
      " 30%|████████████████████████▌                                                         | 15/50 [08:15<23:26, 40.18s/it]"
     ]
    },
    {
     "name": "stdout",
     "output_type": "stream",
     "text": [
      "drums           ==> SDR:   5.091  SIR: 240.208  ISR:  10.079  SAR:   3.747  \n",
      "bass            ==> SDR:   5.091  SIR: 240.208  ISR:  10.079  SAR:   3.747  \n",
      "\n"
     ]
    },
    {
     "name": "stderr",
     "output_type": "stream",
     "text": [
      " 32%|██████████████████████████▏                                                       | 16/50 [08:50<21:51, 38.58s/it]"
     ]
    },
    {
     "name": "stdout",
     "output_type": "stream",
     "text": [
      "drums           ==> SDR:   5.155  SIR: 219.864  ISR:  12.575  SAR:   3.901  \n",
      "bass            ==> SDR:   5.155  SIR: 219.864  ISR:  12.575  SAR:   3.901  \n",
      "\n"
     ]
    },
    {
     "name": "stderr",
     "output_type": "stream",
     "text": [
      " 34%|███████████████████████████▉                                                      | 17/50 [09:07<17:36, 32.00s/it]"
     ]
    },
    {
     "name": "stdout",
     "output_type": "stream",
     "text": [
      "drums           ==> SDR:   2.021  SIR: 222.721  ISR:   4.802  SAR:  -1.088  \n",
      "bass            ==> SDR:   2.021  SIR: 222.721  ISR:   4.802  SAR:  -1.088  \n",
      "\n"
     ]
    },
    {
     "name": "stderr",
     "output_type": "stream",
     "text": [
      " 36%|█████████████████████████████▌                                                    | 18/50 [09:38<16:55, 31.74s/it]"
     ]
    },
    {
     "name": "stdout",
     "output_type": "stream",
     "text": [
      "drums           ==> SDR:   5.778  SIR: 226.135  ISR:  12.338  SAR:   5.105  \n",
      "bass            ==> SDR:   5.778  SIR: 226.135  ISR:  12.338  SAR:   5.105  \n",
      "\n"
     ]
    },
    {
     "name": "stderr",
     "output_type": "stream",
     "text": [
      " 38%|███████████████████████████████▏                                                  | 19/50 [10:11<16:36, 32.15s/it]"
     ]
    },
    {
     "name": "stdout",
     "output_type": "stream",
     "text": [
      "drums           ==> SDR:  10.307  SIR: 216.517  ISR:  18.717  SAR:  10.239  \n",
      "bass            ==> SDR:  10.307  SIR: 216.517  ISR:  18.717  SAR:  10.239  \n",
      "\n"
     ]
    },
    {
     "name": "stderr",
     "output_type": "stream",
     "text": [
      " 40%|████████████████████████████████▊                                                 | 20/50 [10:45<16:21, 32.73s/it]"
     ]
    },
    {
     "name": "stdout",
     "output_type": "stream",
     "text": [
      "drums           ==> SDR:   1.861  SIR: 219.844  ISR:   2.544  SAR:   4.989  \n",
      "bass            ==> SDR:   1.861  SIR: 219.844  ISR:   2.544  SAR:   4.989  \n",
      "\n"
     ]
    },
    {
     "name": "stderr",
     "output_type": "stream",
     "text": [
      " 42%|██████████████████████████████████▍                                               | 21/50 [11:19<16:02, 33.17s/it]"
     ]
    },
    {
     "name": "stdout",
     "output_type": "stream",
     "text": [
      "drums           ==> SDR:   6.281  SIR: 157.480  ISR:   9.777  SAR:   6.468  \n",
      "bass            ==> SDR:   6.281  SIR: 157.480  ISR:   9.777  SAR:   6.468  \n",
      "\n"
     ]
    },
    {
     "name": "stderr",
     "output_type": "stream",
     "text": [
      " 44%|████████████████████████████████████                                              | 22/50 [11:51<15:14, 32.64s/it]"
     ]
    },
    {
     "name": "stdout",
     "output_type": "stream",
     "text": [
      "drums           ==> SDR:   3.184  SIR: 180.555  ISR:   9.504  SAR:   2.211  \n",
      "bass            ==> SDR:   3.184  SIR: 180.555  ISR:   9.504  SAR:   2.211  \n",
      "\n"
     ]
    },
    {
     "name": "stderr",
     "output_type": "stream",
     "text": [
      " 46%|█████████████████████████████████████▋                                            | 23/50 [12:24<14:46, 32.83s/it]"
     ]
    },
    {
     "name": "stdout",
     "output_type": "stream",
     "text": [
      "drums           ==> SDR:   3.434  SIR: 158.159  ISR:   6.775  SAR:   1.594  \n",
      "bass            ==> SDR:   3.434  SIR: 158.159  ISR:   6.775  SAR:   1.594  \n",
      "\n"
     ]
    },
    {
     "name": "stderr",
     "output_type": "stream",
     "text": [
      " 48%|███████████████████████████████████████▎                                          | 24/50 [12:55<13:58, 32.26s/it]"
     ]
    },
    {
     "name": "stdout",
     "output_type": "stream",
     "text": [
      "drums           ==> SDR:   5.833  SIR: 133.219  ISR:  10.355  SAR:   6.097  \n",
      "bass            ==> SDR:   5.833  SIR: 133.219  ISR:  10.355  SAR:   6.097  \n",
      "\n"
     ]
    },
    {
     "name": "stderr",
     "output_type": "stream",
     "text": [
      " 50%|█████████████████████████████████████████                                         | 25/50 [13:27<13:29, 32.38s/it]"
     ]
    },
    {
     "name": "stdout",
     "output_type": "stream",
     "text": [
      "drums           ==> SDR:   3.604  SIR: 223.150  ISR:   7.123  SAR:   1.330  \n",
      "bass            ==> SDR:   3.604  SIR: 223.150  ISR:   7.123  SAR:   1.330  \n",
      "\n"
     ]
    },
    {
     "name": "stderr",
     "output_type": "stream",
     "text": [
      " 52%|██████████████████████████████████████████▋                                       | 26/50 [14:01<13:07, 32.81s/it]"
     ]
    },
    {
     "name": "stdout",
     "output_type": "stream",
     "text": [
      "drums           ==> SDR:   8.803  SIR: 152.217  ISR:  13.750  SAR:   9.266  \n",
      "bass            ==> SDR:   8.803  SIR: 152.217  ISR:  13.750  SAR:   9.266  \n",
      "\n"
     ]
    },
    {
     "name": "stderr",
     "output_type": "stream",
     "text": [
      " 54%|████████████████████████████████████████████▎                                     | 27/50 [14:37<12:54, 33.65s/it]"
     ]
    },
    {
     "name": "stdout",
     "output_type": "stream",
     "text": [
      "drums           ==> SDR:   7.165  SIR: 170.371  ISR:  14.722  SAR:   6.826  \n",
      "bass            ==> SDR:   7.165  SIR: 170.371  ISR:  14.722  SAR:   6.826  \n",
      "\n"
     ]
    },
    {
     "name": "stderr",
     "output_type": "stream",
     "text": [
      " 56%|█████████████████████████████████████████████▉                                    | 28/50 [14:55<10:39, 29.08s/it]"
     ]
    },
    {
     "name": "stdout",
     "output_type": "stream",
     "text": [
      "drums           ==> SDR:   8.955  SIR: 213.731  ISR:  13.170  SAR:   9.183  \n",
      "bass            ==> SDR:   8.955  SIR: 213.731  ISR:  13.170  SAR:   9.183  \n",
      "\n"
     ]
    },
    {
     "name": "stderr",
     "output_type": "stream",
     "text": [
      " 58%|███████████████████████████████████████████████▌                                  | 29/50 [15:05<08:07, 23.21s/it]"
     ]
    },
    {
     "name": "stdout",
     "output_type": "stream",
     "text": [
      "drums           ==> SDR:   4.900  SIR: 209.156  ISR:   6.513  SAR:   5.861  \n",
      "bass            ==> SDR:   4.900  SIR: 209.156  ISR:   6.513  SAR:   5.861  \n",
      "\n"
     ]
    },
    {
     "name": "stderr",
     "output_type": "stream",
     "text": [
      " 60%|█████████████████████████████████████████████████▏                                | 30/50 [15:37<08:36, 25.82s/it]"
     ]
    },
    {
     "name": "stdout",
     "output_type": "stream",
     "text": [
      "drums           ==> SDR:   5.521  SIR: 203.789  ISR:   8.565  SAR:   4.891  \n",
      "bass            ==> SDR:   5.521  SIR: 203.789  ISR:   8.565  SAR:   4.891  \n",
      "\n"
     ]
    },
    {
     "name": "stderr",
     "output_type": "stream",
     "text": [
      " 62%|██████████████████████████████████████████████████▊                               | 31/50 [16:09<08:46, 27.73s/it]"
     ]
    },
    {
     "name": "stdout",
     "output_type": "stream",
     "text": [
      "drums           ==> SDR:   3.532  SIR: 199.638  ISR:  11.425  SAR:   1.983  \n",
      "bass            ==> SDR:   3.532  SIR: 199.638  ISR:  11.425  SAR:   1.983  \n",
      "\n"
     ]
    },
    {
     "name": "stderr",
     "output_type": "stream",
     "text": [
      " 64%|████████████████████████████████████████████████████▍                             | 32/50 [16:42<08:50, 29.46s/it]"
     ]
    },
    {
     "name": "stdout",
     "output_type": "stream",
     "text": [
      "drums           ==> SDR:   2.045  SIR: 237.694  ISR:   6.550  SAR:   0.390  \n",
      "bass            ==> SDR:   2.045  SIR: 237.694  ISR:   6.550  SAR:   0.390  \n",
      "\n"
     ]
    },
    {
     "name": "stderr",
     "output_type": "stream",
     "text": [
      " 66%|██████████████████████████████████████████████████████                            | 33/50 [17:17<08:49, 31.14s/it]"
     ]
    },
    {
     "name": "stdout",
     "output_type": "stream",
     "text": [
      "drums           ==> SDR:   2.705  SIR: 245.760  ISR:   7.548  SAR:   0.990  \n",
      "bass            ==> SDR:   2.705  SIR: 245.760  ISR:   7.548  SAR:   0.990  \n",
      "\n"
     ]
    },
    {
     "name": "stderr",
     "output_type": "stream",
     "text": [
      " 68%|███████████████████████████████████████████████████████▊                          | 34/50 [17:50<08:27, 31.69s/it]"
     ]
    },
    {
     "name": "stdout",
     "output_type": "stream",
     "text": [
      "drums           ==> SDR:   3.982  SIR: 240.593  ISR:   8.530  SAR:   2.410  \n",
      "bass            ==> SDR:   3.982  SIR: 240.593  ISR:   8.530  SAR:   2.410  \n",
      "\n"
     ]
    },
    {
     "name": "stderr",
     "output_type": "stream",
     "text": [
      " 70%|█████████████████████████████████████████████████████████▍                        | 35/50 [18:25<08:08, 32.54s/it]"
     ]
    },
    {
     "name": "stdout",
     "output_type": "stream",
     "text": [
      "drums           ==> SDR:   9.381  SIR: 220.293  ISR:  14.961  SAR:   9.557  \n",
      "bass            ==> SDR:   9.381  SIR: 220.293  ISR:  14.961  SAR:   9.557  \n",
      "\n"
     ]
    },
    {
     "name": "stderr",
     "output_type": "stream",
     "text": [
      " 72%|███████████████████████████████████████████████████████████                       | 36/50 [18:44<06:38, 28.47s/it]"
     ]
    },
    {
     "name": "stdout",
     "output_type": "stream",
     "text": [
      "drums           ==> SDR:   2.464  SIR: 204.091  ISR:   7.273  SAR:   0.030  \n",
      "bass            ==> SDR:   2.464  SIR: 204.091  ISR:   7.273  SAR:   0.030  \n",
      "\n"
     ]
    },
    {
     "name": "stderr",
     "output_type": "stream",
     "text": [
      " 74%|████████████████████████████████████████████████████████████▋                     | 37/50 [19:50<08:38, 39.90s/it]"
     ]
    },
    {
     "name": "stdout",
     "output_type": "stream",
     "text": [
      "drums           ==> SDR:   5.939  SIR: 236.188  ISR:  13.552  SAR:   4.919  \n",
      "bass            ==> SDR:   5.939  SIR: 236.188  ISR:  13.552  SAR:   4.919  \n",
      "\n"
     ]
    },
    {
     "name": "stderr",
     "output_type": "stream",
     "text": [
      " 76%|██████████████████████████████████████████████████████████████▎                   | 38/50 [20:25<07:37, 38.16s/it]"
     ]
    },
    {
     "name": "stdout",
     "output_type": "stream",
     "text": [
      "drums           ==> SDR:   3.614  SIR: 223.326  ISR:   7.379  SAR:   3.278  \n",
      "bass            ==> SDR:   3.614  SIR: 223.326  ISR:   7.379  SAR:   3.278  \n",
      "\n"
     ]
    },
    {
     "name": "stderr",
     "output_type": "stream",
     "text": [
      " 78%|███████████████████████████████████████████████████████████████▉                  | 39/50 [21:01<06:55, 37.76s/it]"
     ]
    },
    {
     "name": "stdout",
     "output_type": "stream",
     "text": [
      "drums           ==> SDR:   2.497  SIR: 233.778  ISR:   4.265  SAR:   1.907  \n",
      "bass            ==> SDR:   2.497  SIR: 233.778  ISR:   4.265  SAR:   1.907  \n",
      "\n"
     ]
    },
    {
     "name": "stderr",
     "output_type": "stream",
     "text": [
      " 80%|█████████████████████████████████████████████████████████████████▌                | 40/50 [21:38<06:14, 37.47s/it]"
     ]
    },
    {
     "name": "stdout",
     "output_type": "stream",
     "text": [
      "drums           ==> SDR:   5.384  SIR: 185.799  ISR:  10.434  SAR:   4.716  \n",
      "bass            ==> SDR:   5.384  SIR: 185.799  ISR:  10.434  SAR:   4.716  \n",
      "\n"
     ]
    },
    {
     "name": "stderr",
     "output_type": "stream",
     "text": [
      " 82%|███████████████████████████████████████████████████████████████████▏              | 41/50 [22:12<05:28, 36.46s/it]"
     ]
    },
    {
     "name": "stdout",
     "output_type": "stream",
     "text": [
      "drums           ==> SDR:   2.360  SIR: 173.541  ISR:   5.861  SAR:   1.030  \n",
      "bass            ==> SDR:   2.360  SIR: 173.541  ISR:   5.861  SAR:   1.030  \n",
      "\n"
     ]
    },
    {
     "name": "stderr",
     "output_type": "stream",
     "text": [
      " 84%|████████████████████████████████████████████████████████████████████▉             | 42/50 [22:46<04:43, 35.50s/it]"
     ]
    },
    {
     "name": "stdout",
     "output_type": "stream",
     "text": [
      "drums           ==> SDR:   6.812  SIR: 136.403  ISR:  11.898  SAR:   5.949  \n",
      "bass            ==> SDR:   6.812  SIR: 136.403  ISR:  11.898  SAR:   5.949  \n",
      "\n"
     ]
    },
    {
     "name": "stderr",
     "output_type": "stream",
     "text": [
      " 86%|██████████████████████████████████████████████████████████████████████▌           | 43/50 [23:20<04:07, 35.32s/it]"
     ]
    },
    {
     "name": "stdout",
     "output_type": "stream",
     "text": [
      "drums           ==> SDR:   3.149  SIR: 170.252  ISR:   8.226  SAR:   1.342  \n",
      "bass            ==> SDR:   3.149  SIR: 170.252  ISR:   8.226  SAR:   1.342  \n",
      "\n"
     ]
    },
    {
     "name": "stderr",
     "output_type": "stream",
     "text": [
      " 88%|████████████████████████████████████████████████████████████████████████▏         | 44/50 [23:52<03:25, 34.24s/it]"
     ]
    },
    {
     "name": "stdout",
     "output_type": "stream",
     "text": [
      "drums           ==> SDR:   2.356  SIR: 217.398  ISR:   4.025  SAR:   0.099  \n",
      "bass            ==> SDR:   2.356  SIR: 217.398  ISR:   4.025  SAR:   0.099  \n",
      "\n"
     ]
    },
    {
     "name": "stderr",
     "output_type": "stream",
     "text": [
      " 90%|█████████████████████████████████████████████████████████████████████████▊        | 45/50 [24:29<02:54, 34.97s/it]"
     ]
    },
    {
     "name": "stdout",
     "output_type": "stream",
     "text": [
      "drums           ==> SDR:   0.921  SIR: 199.976  ISR:   2.129  SAR:  -2.485  \n",
      "bass            ==> SDR:   0.921  SIR: 199.976  ISR:   2.129  SAR:  -2.485  \n",
      "\n"
     ]
    },
    {
     "name": "stderr",
     "output_type": "stream",
     "text": [
      " 92%|███████████████████████████████████████████████████████████████████████████▍      | 46/50 [25:03<02:19, 34.76s/it]"
     ]
    },
    {
     "name": "stdout",
     "output_type": "stream",
     "text": [
      "drums           ==> SDR:   1.949  SIR: 215.584  ISR:   4.372  SAR:  -1.376  \n",
      "bass            ==> SDR:   1.949  SIR: 215.584  ISR:   4.372  SAR:  -1.376  \n",
      "\n"
     ]
    },
    {
     "name": "stderr",
     "output_type": "stream",
     "text": [
      " 94%|█████████████████████████████████████████████████████████████████████████████     | 47/50 [25:21<01:29, 29.82s/it]"
     ]
    },
    {
     "name": "stdout",
     "output_type": "stream",
     "text": [
      "drums           ==> SDR:   8.370  SIR: 157.776  ISR:  14.159  SAR:   8.191  \n",
      "bass            ==> SDR:   8.370  SIR: 157.776  ISR:  14.159  SAR:   8.191  \n",
      "\n"
     ]
    },
    {
     "name": "stderr",
     "output_type": "stream",
     "text": [
      " 96%|██████████████████████████████████████████████████████████████████████████████▋   | 48/50 [25:55<01:01, 30.86s/it]"
     ]
    },
    {
     "name": "stdout",
     "output_type": "stream",
     "text": [
      "drums           ==> SDR:   2.785  SIR: 200.857  ISR:   8.491  SAR:   0.823  \n",
      "bass            ==> SDR:   2.785  SIR: 200.857  ISR:   8.491  SAR:   0.823  \n",
      "\n"
     ]
    },
    {
     "name": "stderr",
     "output_type": "stream",
     "text": [
      " 98%|████████████████████████████████████████████████████████████████████████████████▎ | 49/50 [26:27<00:31, 31.34s/it]"
     ]
    },
    {
     "name": "stdout",
     "output_type": "stream",
     "text": [
      "drums           ==> SDR:   8.427  SIR: 214.677  ISR:  14.960  SAR:   7.995  \n",
      "bass            ==> SDR:   8.427  SIR: 214.677  ISR:  14.960  SAR:   7.995  \n",
      "\n"
     ]
    },
    {
     "name": "stderr",
     "output_type": "stream",
     "text": [
      "100%|██████████████████████████████████████████████████████████████████████████████████| 50/50 [27:01<00:00, 32.43s/it]"
     ]
    },
    {
     "name": "stdout",
     "output_type": "stream",
     "text": [
      "drums           ==> SDR:   5.878  SIR: 205.841  ISR:  11.596  SAR:   5.218  \n",
      "bass            ==> SDR:   5.878  SIR: 205.841  ISR:  11.596  SAR:   5.218  \n",
      "\n"
     ]
    },
    {
     "name": "stderr",
     "output_type": "stream",
     "text": [
      "\n",
      "C:\\Python311\\Lib\\site-packages\\pytorch_lightning\\utilities\\migration\\utils.py:55: The loaded checkpoint was produced with Lightning v2.2.1, which is newer than your current Lightning version: v2.1.2\n",
      "  2%|█▋                                                                                 | 1/50 [00:31<25:50, 31.64s/it]"
     ]
    },
    {
     "name": "stdout",
     "output_type": "stream",
     "text": [
      "drums           ==> SDR:   3.911  SIR: 231.861  ISR:   8.655  SAR:   3.609  \n",
      "bass            ==> SDR:   3.911  SIR: 231.861  ISR:   8.655  SAR:   3.609  \n",
      "\n"
     ]
    },
    {
     "name": "stderr",
     "output_type": "stream",
     "text": [
      "  4%|███▎                                                                               | 2/50 [01:03<25:13, 31.53s/it]"
     ]
    },
    {
     "name": "stdout",
     "output_type": "stream",
     "text": [
      "drums           ==> SDR:   2.697  SIR: 182.974  ISR:   8.749  SAR:   0.492  \n",
      "bass            ==> SDR:   2.697  SIR: 182.974  ISR:   8.749  SAR:   0.492  \n",
      "\n"
     ]
    },
    {
     "name": "stderr",
     "output_type": "stream",
     "text": [
      "  6%|████▉                                                                              | 3/50 [01:22<20:11, 25.78s/it]"
     ]
    },
    {
     "name": "stdout",
     "output_type": "stream",
     "text": [
      "drums           ==> SDR:   4.162  SIR: 227.244  ISR:   9.663  SAR:   3.656  \n",
      "bass            ==> SDR:   4.162  SIR: 227.244  ISR:   9.663  SAR:   3.656  \n",
      "\n"
     ]
    },
    {
     "name": "stderr",
     "output_type": "stream",
     "text": [
      "  8%|██████▋                                                                            | 4/50 [01:54<21:39, 28.25s/it]"
     ]
    },
    {
     "name": "stdout",
     "output_type": "stream",
     "text": [
      "drums           ==> SDR:   1.013  SIR: 231.704  ISR:   9.964  SAR:  -1.288  \n",
      "bass            ==> SDR:   1.013  SIR: 231.704  ISR:   9.964  SAR:  -1.288  \n",
      "\n"
     ]
    },
    {
     "name": "stderr",
     "output_type": "stream",
     "text": [
      " 10%|████████▎                                                                          | 5/50 [02:30<23:24, 31.20s/it]"
     ]
    },
    {
     "name": "stdout",
     "output_type": "stream",
     "text": [
      "drums           ==> SDR:   7.633  SIR: 195.943  ISR:  14.912  SAR:   7.223  \n",
      "bass            ==> SDR:   7.633  SIR: 195.943  ISR:  14.912  SAR:   7.223  \n",
      "\n"
     ]
    },
    {
     "name": "stderr",
     "output_type": "stream",
     "text": [
      " 12%|█████████▉                                                                         | 6/50 [03:03<23:19, 31.81s/it]"
     ]
    },
    {
     "name": "stdout",
     "output_type": "stream",
     "text": [
      "drums           ==> SDR:   4.674  SIR: 236.938  ISR:  12.360  SAR:   3.556  \n",
      "bass            ==> SDR:   4.674  SIR: 236.938  ISR:  12.360  SAR:   3.556  \n",
      "\n"
     ]
    },
    {
     "name": "stderr",
     "output_type": "stream",
     "text": [
      " 14%|███████████▌                                                                       | 7/50 [03:34<22:34, 31.49s/it]"
     ]
    },
    {
     "name": "stdout",
     "output_type": "stream",
     "text": [
      "drums           ==> SDR:   4.893  SIR: 190.935  ISR:  12.036  SAR:   3.895  \n",
      "bass            ==> SDR:   4.893  SIR: 190.935  ISR:  12.036  SAR:   3.895  \n",
      "\n"
     ]
    },
    {
     "name": "stderr",
     "output_type": "stream",
     "text": [
      " 16%|█████████████▎                                                                     | 8/50 [04:06<22:09, 31.64s/it]"
     ]
    },
    {
     "name": "stdout",
     "output_type": "stream",
     "text": [
      "drums           ==> SDR:   3.116  SIR: 244.367  ISR:   9.900  SAR:   1.265  \n",
      "bass            ==> SDR:   3.116  SIR: 244.367  ISR:   9.900  SAR:   1.265  \n",
      "\n"
     ]
    },
    {
     "name": "stderr",
     "output_type": "stream",
     "text": [
      " 18%|██████████████▉                                                                    | 9/50 [04:40<22:09, 32.42s/it]"
     ]
    },
    {
     "name": "stdout",
     "output_type": "stream",
     "text": [
      "drums           ==> SDR:   5.883  SIR: 177.229  ISR:   9.625  SAR:   5.086  \n",
      "bass            ==> SDR:   5.883  SIR: 177.229  ISR:   9.625  SAR:   5.086  \n",
      "\n"
     ]
    },
    {
     "name": "stderr",
     "output_type": "stream",
     "text": [
      " 20%|████████████████▍                                                                 | 10/50 [05:14<21:52, 32.81s/it]"
     ]
    },
    {
     "name": "stdout",
     "output_type": "stream",
     "text": [
      "drums           ==> SDR:   3.349  SIR: 214.373  ISR:   8.832  SAR:   1.651  \n",
      "bass            ==> SDR:   3.349  SIR: 214.373  ISR:   8.832  SAR:   1.651  \n",
      "\n"
     ]
    },
    {
     "name": "stderr",
     "output_type": "stream",
     "text": [
      " 22%|██████████████████                                                                | 11/50 [05:47<21:27, 33.01s/it]"
     ]
    },
    {
     "name": "stdout",
     "output_type": "stream",
     "text": [
      "drums           ==> SDR:   8.059  SIR: 220.839  ISR:  15.251  SAR:   8.011  \n",
      "bass            ==> SDR:   8.059  SIR: 220.839  ISR:  15.251  SAR:   8.011  \n",
      "\n"
     ]
    },
    {
     "name": "stderr",
     "output_type": "stream",
     "text": [
      " 24%|███████████████████▋                                                              | 12/50 [06:18<20:30, 32.37s/it]"
     ]
    },
    {
     "name": "stdout",
     "output_type": "stream",
     "text": [
      "drums           ==> SDR:   4.895  SIR: 218.384  ISR:   6.376  SAR:   4.118  \n",
      "bass            ==> SDR:   4.895  SIR: 218.384  ISR:   6.376  SAR:   4.118  \n",
      "\n"
     ]
    },
    {
     "name": "stderr",
     "output_type": "stream",
     "text": [
      " 26%|█████████████████████▎                                                            | 13/50 [06:36<17:19, 28.11s/it]"
     ]
    },
    {
     "name": "stdout",
     "output_type": "stream",
     "text": [
      "drums           ==> SDR:   2.108  SIR: 163.945  ISR:   3.776  SAR:   0.321  \n",
      "bass            ==> SDR:   2.108  SIR: 163.945  ISR:   3.776  SAR:   0.321  \n",
      "\n"
     ]
    },
    {
     "name": "stderr",
     "output_type": "stream",
     "text": [
      " 28%|██████████████████████▉                                                           | 14/50 [07:11<17:59, 29.99s/it]"
     ]
    },
    {
     "name": "stdout",
     "output_type": "stream",
     "text": [
      "drums           ==> SDR:   7.006  SIR: 206.728  ISR:  13.553  SAR:   6.894  \n",
      "bass            ==> SDR:   7.006  SIR: 206.728  ISR:  13.553  SAR:   6.894  \n",
      "\n"
     ]
    },
    {
     "name": "stderr",
     "output_type": "stream",
     "text": [
      " 30%|████████████████████████▌                                                         | 15/50 [08:18<23:59, 41.12s/it]"
     ]
    },
    {
     "name": "stdout",
     "output_type": "stream",
     "text": [
      "drums           ==> SDR:   5.118  SIR: 244.368  ISR:  10.988  SAR:   3.767  \n",
      "bass            ==> SDR:   5.118  SIR: 244.368  ISR:  10.988  SAR:   3.767  \n",
      "\n"
     ]
    },
    {
     "name": "stderr",
     "output_type": "stream",
     "text": [
      " 32%|██████████████████████████▏                                                       | 16/50 [08:54<22:28, 39.67s/it]"
     ]
    },
    {
     "name": "stdout",
     "output_type": "stream",
     "text": [
      "drums           ==> SDR:   4.813  SIR: 215.619  ISR:  15.021  SAR:   3.963  \n",
      "bass            ==> SDR:   4.813  SIR: 215.619  ISR:  15.021  SAR:   3.963  \n",
      "\n"
     ]
    },
    {
     "name": "stderr",
     "output_type": "stream",
     "text": [
      " 34%|███████████████████████████▉                                                      | 17/50 [09:11<18:04, 32.87s/it]"
     ]
    },
    {
     "name": "stdout",
     "output_type": "stream",
     "text": [
      "drums           ==> SDR:   1.877  SIR: 225.996  ISR:   4.612  SAR:  -0.959  \n",
      "bass            ==> SDR:   1.877  SIR: 225.996  ISR:   4.612  SAR:  -0.959  \n",
      "\n"
     ]
    },
    {
     "name": "stderr",
     "output_type": "stream",
     "text": [
      " 36%|█████████████████████████████▌                                                    | 18/50 [09:42<17:17, 32.41s/it]"
     ]
    },
    {
     "name": "stdout",
     "output_type": "stream",
     "text": [
      "drums           ==> SDR:   5.865  SIR: 225.012  ISR:  13.266  SAR:   5.407  \n",
      "bass            ==> SDR:   5.865  SIR: 225.012  ISR:  13.266  SAR:   5.407  \n",
      "\n"
     ]
    },
    {
     "name": "stderr",
     "output_type": "stream",
     "text": [
      " 38%|███████████████████████████████▏                                                  | 19/50 [10:17<17:02, 32.98s/it]"
     ]
    },
    {
     "name": "stdout",
     "output_type": "stream",
     "text": [
      "drums           ==> SDR:   9.955  SIR: 222.724  ISR:  20.345  SAR:  10.134  \n",
      "bass            ==> SDR:   9.955  SIR: 222.724  ISR:  20.345  SAR:  10.134  \n",
      "\n"
     ]
    },
    {
     "name": "stderr",
     "output_type": "stream",
     "text": [
      " 40%|████████████████████████████████▊                                                 | 20/50 [10:51<16:38, 33.29s/it]"
     ]
    },
    {
     "name": "stdout",
     "output_type": "stream",
     "text": [
      "drums           ==> SDR:   2.313  SIR: 223.742  ISR:   3.165  SAR:   4.961  \n",
      "bass            ==> SDR:   2.313  SIR: 223.742  ISR:   3.165  SAR:   4.961  \n",
      "\n"
     ]
    },
    {
     "name": "stderr",
     "output_type": "stream",
     "text": [
      " 42%|██████████████████████████████████▍                                               | 21/50 [11:25<16:17, 33.70s/it]"
     ]
    },
    {
     "name": "stdout",
     "output_type": "stream",
     "text": [
      "drums           ==> SDR:   6.336  SIR: 158.163  ISR:  10.846  SAR:   6.487  \n",
      "bass            ==> SDR:   6.336  SIR: 158.163  ISR:  10.846  SAR:   6.487  \n",
      "\n"
     ]
    },
    {
     "name": "stderr",
     "output_type": "stream",
     "text": [
      " 44%|████████████████████████████████████                                              | 22/50 [11:57<15:27, 33.13s/it]"
     ]
    },
    {
     "name": "stdout",
     "output_type": "stream",
     "text": [
      "drums           ==> SDR:   2.923  SIR: 181.479  ISR:  10.033  SAR:   1.863  \n",
      "bass            ==> SDR:   2.923  SIR: 181.479  ISR:  10.033  SAR:   1.863  \n",
      "\n"
     ]
    },
    {
     "name": "stderr",
     "output_type": "stream",
     "text": [
      " 46%|█████████████████████████████████████▋                                            | 23/50 [12:31<14:59, 33.30s/it]"
     ]
    },
    {
     "name": "stdout",
     "output_type": "stream",
     "text": [
      "drums           ==> SDR:   3.738  SIR: 162.045  ISR:   8.592  SAR:   2.217  \n",
      "bass            ==> SDR:   3.738  SIR: 162.045  ISR:   8.592  SAR:   2.217  \n",
      "\n"
     ]
    },
    {
     "name": "stderr",
     "output_type": "stream",
     "text": [
      " 48%|███████████████████████████████████████▎                                          | 24/50 [13:02<14:09, 32.68s/it]"
     ]
    },
    {
     "name": "stdout",
     "output_type": "stream",
     "text": [
      "drums           ==> SDR:   6.177  SIR: 133.921  ISR:  11.469  SAR:   6.464  \n",
      "bass            ==> SDR:   6.177  SIR: 133.921  ISR:  11.469  SAR:   6.464  \n",
      "\n"
     ]
    },
    {
     "name": "stderr",
     "output_type": "stream",
     "text": [
      " 50%|█████████████████████████████████████████                                         | 25/50 [13:35<13:37, 32.72s/it]"
     ]
    },
    {
     "name": "stdout",
     "output_type": "stream",
     "text": [
      "drums           ==> SDR:   3.662  SIR: 223.442  ISR:   7.820  SAR:   1.467  \n",
      "bass            ==> SDR:   3.662  SIR: 223.442  ISR:   7.820  SAR:   1.467  \n",
      "\n"
     ]
    },
    {
     "name": "stderr",
     "output_type": "stream",
     "text": [
      " 52%|██████████████████████████████████████████▋                                       | 26/50 [14:08<13:11, 33.00s/it]"
     ]
    },
    {
     "name": "stdout",
     "output_type": "stream",
     "text": [
      "drums           ==> SDR:   9.108  SIR: 153.540  ISR:  15.726  SAR:   9.403  \n",
      "bass            ==> SDR:   9.108  SIR: 153.540  ISR:  15.726  SAR:   9.403  \n",
      "\n"
     ]
    },
    {
     "name": "stderr",
     "output_type": "stream",
     "text": [
      " 54%|████████████████████████████████████████████▎                                     | 27/50 [14:44<12:55, 33.73s/it]"
     ]
    },
    {
     "name": "stdout",
     "output_type": "stream",
     "text": [
      "drums           ==> SDR:   6.765  SIR: 169.861  ISR:  16.194  SAR:   6.564  \n",
      "bass            ==> SDR:   6.765  SIR: 169.861  ISR:  16.194  SAR:   6.564  \n",
      "\n"
     ]
    },
    {
     "name": "stderr",
     "output_type": "stream",
     "text": [
      " 56%|█████████████████████████████████████████████▉                                    | 28/50 [15:02<10:39, 29.07s/it]"
     ]
    },
    {
     "name": "stdout",
     "output_type": "stream",
     "text": [
      "drums           ==> SDR:   9.882  SIR: 196.063  ISR:  16.015  SAR:   9.753  \n",
      "bass            ==> SDR:   9.882  SIR: 196.063  ISR:  16.015  SAR:   9.753  \n",
      "\n"
     ]
    },
    {
     "name": "stderr",
     "output_type": "stream",
     "text": [
      " 58%|███████████████████████████████████████████████▌                                  | 29/50 [15:11<08:06, 23.17s/it]"
     ]
    },
    {
     "name": "stdout",
     "output_type": "stream",
     "text": [
      "drums           ==> SDR:   5.263  SIR: 207.925  ISR:   7.327  SAR:   6.281  \n",
      "bass            ==> SDR:   5.263  SIR: 207.925  ISR:   7.327  SAR:   6.281  \n",
      "\n"
     ]
    },
    {
     "name": "stderr",
     "output_type": "stream",
     "text": [
      " 60%|█████████████████████████████████████████████████▏                                | 30/50 [15:43<08:33, 25.70s/it]"
     ]
    },
    {
     "name": "stdout",
     "output_type": "stream",
     "text": [
      "drums           ==> SDR:   5.623  SIR: 201.364  ISR:  10.330  SAR:   5.192  \n",
      "bass            ==> SDR:   5.623  SIR: 201.364  ISR:  10.330  SAR:   5.192  \n",
      "\n"
     ]
    },
    {
     "name": "stderr",
     "output_type": "stream",
     "text": [
      " 62%|██████████████████████████████████████████████████▊                               | 31/50 [16:15<08:42, 27.51s/it]"
     ]
    },
    {
     "name": "stdout",
     "output_type": "stream",
     "text": [
      "drums           ==> SDR:   3.147  SIR: 200.964  ISR:  13.126  SAR:   1.888  \n",
      "bass            ==> SDR:   3.147  SIR: 200.964  ISR:  13.126  SAR:   1.888  \n",
      "\n"
     ]
    },
    {
     "name": "stderr",
     "output_type": "stream",
     "text": [
      " 64%|████████████████████████████████████████████████████▍                             | 32/50 [16:49<08:49, 29.40s/it]"
     ]
    },
    {
     "name": "stdout",
     "output_type": "stream",
     "text": [
      "drums           ==> SDR:   2.311  SIR: 238.857  ISR:   7.503  SAR:   0.792  \n",
      "bass            ==> SDR:   2.311  SIR: 238.857  ISR:   7.503  SAR:   0.792  \n",
      "\n"
     ]
    },
    {
     "name": "stderr",
     "output_type": "stream",
     "text": [
      " 66%|██████████████████████████████████████████████████████                            | 33/50 [17:23<08:47, 31.05s/it]"
     ]
    },
    {
     "name": "stdout",
     "output_type": "stream",
     "text": [
      "drums           ==> SDR:   2.737  SIR: 242.109  ISR:   8.783  SAR:   1.076  \n",
      "bass            ==> SDR:   2.737  SIR: 242.109  ISR:   8.783  SAR:   1.076  \n",
      "\n"
     ]
    },
    {
     "name": "stderr",
     "output_type": "stream",
     "text": [
      " 68%|███████████████████████████████████████████████████████▊                          | 34/50 [17:57<08:27, 31.75s/it]"
     ]
    },
    {
     "name": "stdout",
     "output_type": "stream",
     "text": [
      "drums           ==> SDR:   3.766  SIR: 245.596  ISR:   9.885  SAR:   2.310  \n",
      "bass            ==> SDR:   3.766  SIR: 245.596  ISR:   9.885  SAR:   2.310  \n",
      "\n"
     ]
    },
    {
     "name": "stderr",
     "output_type": "stream",
     "text": [
      " 70%|█████████████████████████████████████████████████████████▍                        | 35/50 [18:30<08:02, 32.20s/it]"
     ]
    },
    {
     "name": "stdout",
     "output_type": "stream",
     "text": [
      "drums           ==> SDR:   9.578  SIR: 225.548  ISR:  16.602  SAR:   9.739  \n",
      "bass            ==> SDR:   9.578  SIR: 225.548  ISR:  16.602  SAR:   9.739  \n",
      "\n"
     ]
    },
    {
     "name": "stderr",
     "output_type": "stream",
     "text": [
      " 72%|███████████████████████████████████████████████████████████                       | 36/50 [18:49<06:33, 28.14s/it]"
     ]
    },
    {
     "name": "stdout",
     "output_type": "stream",
     "text": [
      "drums           ==> SDR:   2.333  SIR: 207.501  ISR:   8.113  SAR:   0.042  \n",
      "bass            ==> SDR:   2.333  SIR: 207.501  ISR:   8.113  SAR:   0.042  \n",
      "\n"
     ]
    },
    {
     "name": "stderr",
     "output_type": "stream",
     "text": [
      " 74%|████████████████████████████████████████████████████████████▋                     | 37/50 [19:54<08:30, 39.28s/it]"
     ]
    },
    {
     "name": "stdout",
     "output_type": "stream",
     "text": [
      "drums           ==> SDR:   5.892  SIR: 235.304  ISR:  16.887  SAR:   5.104  \n",
      "bass            ==> SDR:   5.892  SIR: 235.304  ISR:  16.887  SAR:   5.104  \n",
      "\n"
     ]
    },
    {
     "name": "stderr",
     "output_type": "stream",
     "text": [
      " 76%|██████████████████████████████████████████████████████████████▎                   | 38/50 [20:27<07:28, 37.40s/it]"
     ]
    },
    {
     "name": "stdout",
     "output_type": "stream",
     "text": [
      "drums           ==> SDR:   3.841  SIR: 224.060  ISR:   8.421  SAR:   3.788  \n",
      "bass            ==> SDR:   3.841  SIR: 224.060  ISR:   8.421  SAR:   3.788  \n",
      "\n"
     ]
    },
    {
     "name": "stderr",
     "output_type": "stream",
     "text": [
      " 78%|███████████████████████████████████████████████████████████████▉                  | 39/50 [21:03<06:47, 37.06s/it]"
     ]
    },
    {
     "name": "stdout",
     "output_type": "stream",
     "text": [
      "drums           ==> SDR:   2.826  SIR: 228.190  ISR:   4.836  SAR:   2.192  \n",
      "bass            ==> SDR:   2.826  SIR: 228.190  ISR:   4.836  SAR:   2.192  \n",
      "\n"
     ]
    },
    {
     "name": "stderr",
     "output_type": "stream",
     "text": [
      " 80%|█████████████████████████████████████████████████████████████████▌                | 40/50 [21:40<06:08, 36.89s/it]"
     ]
    },
    {
     "name": "stdout",
     "output_type": "stream",
     "text": [
      "drums           ==> SDR:   5.344  SIR: 199.524  ISR:  11.394  SAR:   4.588  \n",
      "bass            ==> SDR:   5.344  SIR: 199.524  ISR:  11.394  SAR:   4.588  \n",
      "\n"
     ]
    },
    {
     "name": "stderr",
     "output_type": "stream",
     "text": [
      " 82%|███████████████████████████████████████████████████████████████████▏              | 41/50 [22:12<05:20, 35.61s/it]"
     ]
    },
    {
     "name": "stdout",
     "output_type": "stream",
     "text": [
      "drums           ==> SDR:   2.498  SIR: 174.708  ISR:   7.350  SAR:   1.526  \n",
      "bass            ==> SDR:   2.498  SIR: 174.708  ISR:   7.350  SAR:   1.526  \n",
      "\n"
     ]
    },
    {
     "name": "stderr",
     "output_type": "stream",
     "text": [
      " 84%|████████████████████████████████████████████████████████████████████▉             | 42/50 [22:46<04:39, 34.93s/it]"
     ]
    },
    {
     "name": "stdout",
     "output_type": "stream",
     "text": [
      "drums           ==> SDR:   6.954  SIR: 135.682  ISR:  14.071  SAR:   6.164  \n",
      "bass            ==> SDR:   6.954  SIR: 135.682  ISR:  14.071  SAR:   6.164  \n",
      "\n"
     ]
    },
    {
     "name": "stderr",
     "output_type": "stream",
     "text": [
      " 86%|██████████████████████████████████████████████████████████████████████▌           | 43/50 [23:20<04:03, 34.84s/it]"
     ]
    },
    {
     "name": "stdout",
     "output_type": "stream",
     "text": [
      "drums           ==> SDR:   3.276  SIR: 170.016  ISR:   8.682  SAR:   1.450  \n",
      "bass            ==> SDR:   3.276  SIR: 170.016  ISR:   8.682  SAR:   1.450  \n",
      "\n"
     ]
    },
    {
     "name": "stderr",
     "output_type": "stream",
     "text": [
      " 88%|████████████████████████████████████████████████████████████████████████▏         | 44/50 [23:53<03:24, 34.04s/it]"
     ]
    },
    {
     "name": "stdout",
     "output_type": "stream",
     "text": [
      "drums           ==> SDR:   2.459  SIR: 208.312  ISR:   4.801  SAR:   0.526  \n",
      "bass            ==> SDR:   2.459  SIR: 208.312  ISR:   4.801  SAR:   0.526  \n",
      "\n"
     ]
    },
    {
     "name": "stderr",
     "output_type": "stream",
     "text": [
      " 90%|█████████████████████████████████████████████████████████████████████████▊        | 45/50 [24:28<02:52, 34.47s/it]"
     ]
    },
    {
     "name": "stdout",
     "output_type": "stream",
     "text": [
      "drums           ==> SDR:   1.093  SIR: 206.575  ISR:   2.620  SAR:  -2.085  \n",
      "bass            ==> SDR:   1.093  SIR: 206.575  ISR:   2.620  SAR:  -2.085  \n",
      "\n"
     ]
    },
    {
     "name": "stderr",
     "output_type": "stream",
     "text": [
      " 92%|███████████████████████████████████████████████████████████████████████████▍      | 46/50 [25:01<02:16, 34.11s/it]"
     ]
    },
    {
     "name": "stdout",
     "output_type": "stream",
     "text": [
      "drums           ==> SDR:   2.004  SIR: 216.414  ISR:   4.526  SAR:  -0.829  \n",
      "bass            ==> SDR:   2.004  SIR: 216.414  ISR:   4.526  SAR:  -0.829  \n",
      "\n"
     ]
    },
    {
     "name": "stderr",
     "output_type": "stream",
     "text": [
      " 94%|█████████████████████████████████████████████████████████████████████████████     | 47/50 [25:19<01:27, 29.26s/it]"
     ]
    },
    {
     "name": "stdout",
     "output_type": "stream",
     "text": [
      "drums           ==> SDR:   8.278  SIR: 153.331  ISR:  15.075  SAR:   8.006  \n",
      "bass            ==> SDR:   8.278  SIR: 153.331  ISR:  15.075  SAR:   8.006  \n",
      "\n"
     ]
    },
    {
     "name": "stderr",
     "output_type": "stream",
     "text": [
      " 96%|██████████████████████████████████████████████████████████████████████████████▋   | 48/50 [25:52<01:00, 30.19s/it]"
     ]
    },
    {
     "name": "stdout",
     "output_type": "stream",
     "text": [
      "drums           ==> SDR:   2.501  SIR: 199.101  ISR:   9.824  SAR:   0.467  \n",
      "bass            ==> SDR:   2.501  SIR: 199.101  ISR:   9.824  SAR:   0.467  \n",
      "\n"
     ]
    },
    {
     "name": "stderr",
     "output_type": "stream",
     "text": [
      " 98%|████████████████████████████████████████████████████████████████████████████████▎ | 49/50 [26:23<00:30, 30.62s/it]"
     ]
    },
    {
     "name": "stdout",
     "output_type": "stream",
     "text": [
      "drums           ==> SDR:   8.076  SIR: 213.502  ISR:  17.063  SAR:   7.929  \n",
      "bass            ==> SDR:   8.076  SIR: 213.502  ISR:  17.063  SAR:   7.929  \n",
      "\n"
     ]
    },
    {
     "name": "stderr",
     "output_type": "stream",
     "text": [
      "100%|██████████████████████████████████████████████████████████████████████████████████| 50/50 [26:56<00:00, 32.33s/it]"
     ]
    },
    {
     "name": "stdout",
     "output_type": "stream",
     "text": [
      "drums           ==> SDR:   6.001  SIR: 210.949  ISR:  12.786  SAR:   5.348  \n",
      "bass            ==> SDR:   6.001  SIR: 210.949  ISR:  12.786  SAR:   5.348  \n",
      "\n"
     ]
    },
    {
     "name": "stderr",
     "output_type": "stream",
     "text": [
      "\n",
      "C:\\Python311\\Lib\\site-packages\\pytorch_lightning\\utilities\\migration\\utils.py:55: The loaded checkpoint was produced with Lightning v2.2.1, which is newer than your current Lightning version: v2.1.2\n",
      "  2%|█▋                                                                                 | 1/50 [00:31<26:00, 31.84s/it]"
     ]
    },
    {
     "name": "stdout",
     "output_type": "stream",
     "text": [
      "drums           ==> SDR:   3.824  SIR: 232.577  ISR:   8.617  SAR:   3.613  \n",
      "bass            ==> SDR:   3.824  SIR: 232.577  ISR:   8.617  SAR:   3.613  \n",
      "\n"
     ]
    },
    {
     "name": "stderr",
     "output_type": "stream",
     "text": [
      "  4%|███▎                                                                               | 2/50 [01:03<25:14, 31.56s/it]"
     ]
    },
    {
     "name": "stdout",
     "output_type": "stream",
     "text": [
      "drums           ==> SDR:   2.644  SIR: 183.061  ISR:   8.906  SAR:   0.477  \n",
      "bass            ==> SDR:   2.644  SIR: 183.061  ISR:   8.906  SAR:   0.477  \n",
      "\n"
     ]
    },
    {
     "name": "stderr",
     "output_type": "stream",
     "text": [
      "  6%|████▉                                                                              | 3/50 [01:22<20:12, 25.79s/it]"
     ]
    },
    {
     "name": "stdout",
     "output_type": "stream",
     "text": [
      "drums           ==> SDR:   4.145  SIR: 219.167  ISR:   9.802  SAR:   3.594  \n",
      "bass            ==> SDR:   4.145  SIR: 219.167  ISR:   9.802  SAR:   3.594  \n",
      "\n"
     ]
    },
    {
     "name": "stderr",
     "output_type": "stream",
     "text": [
      "  8%|██████▋                                                                            | 4/50 [01:53<21:35, 28.17s/it]"
     ]
    },
    {
     "name": "stdout",
     "output_type": "stream",
     "text": [
      "drums           ==> SDR:   0.935  SIR: 232.669  ISR:   9.878  SAR:  -1.275  \n",
      "bass            ==> SDR:   0.935  SIR: 232.669  ISR:   9.878  SAR:  -1.275  \n",
      "\n"
     ]
    },
    {
     "name": "stderr",
     "output_type": "stream",
     "text": [
      " 10%|████████▎                                                                          | 5/50 [02:30<23:21, 31.15s/it]"
     ]
    },
    {
     "name": "stdout",
     "output_type": "stream",
     "text": [
      "drums           ==> SDR:   7.677  SIR: 202.830  ISR:  15.086  SAR:   7.156  \n",
      "bass            ==> SDR:   7.677  SIR: 202.830  ISR:  15.086  SAR:   7.156  \n",
      "\n"
     ]
    },
    {
     "name": "stderr",
     "output_type": "stream",
     "text": [
      " 12%|█████████▉                                                                         | 6/50 [03:02<23:00, 31.37s/it]"
     ]
    },
    {
     "name": "stdout",
     "output_type": "stream",
     "text": [
      "drums           ==> SDR:   4.584  SIR: 237.553  ISR:  12.402  SAR:   3.576  \n",
      "bass            ==> SDR:   4.584  SIR: 237.553  ISR:  12.402  SAR:   3.576  \n",
      "\n"
     ]
    },
    {
     "name": "stderr",
     "output_type": "stream",
     "text": [
      " 14%|███████████▌                                                                       | 7/50 [03:32<22:19, 31.16s/it]"
     ]
    },
    {
     "name": "stdout",
     "output_type": "stream",
     "text": [
      "drums           ==> SDR:   4.806  SIR: 189.030  ISR:  12.144  SAR:   3.886  \n",
      "bass            ==> SDR:   4.806  SIR: 189.030  ISR:  12.144  SAR:   3.886  \n",
      "\n"
     ]
    },
    {
     "name": "stderr",
     "output_type": "stream",
     "text": [
      " 16%|█████████████▎                                                                     | 8/50 [04:04<21:57, 31.37s/it]"
     ]
    },
    {
     "name": "stdout",
     "output_type": "stream",
     "text": [
      "drums           ==> SDR:   3.126  SIR: 241.472  ISR:  10.140  SAR:   1.204  \n",
      "bass            ==> SDR:   3.126  SIR: 241.472  ISR:  10.140  SAR:   1.204  \n",
      "\n"
     ]
    },
    {
     "name": "stderr",
     "output_type": "stream",
     "text": [
      " 18%|██████████████▉                                                                    | 9/50 [04:38<21:57, 32.15s/it]"
     ]
    },
    {
     "name": "stdout",
     "output_type": "stream",
     "text": [
      "drums           ==> SDR:   5.896  SIR: 175.958  ISR:   9.716  SAR:   5.088  \n",
      "bass            ==> SDR:   5.896  SIR: 175.958  ISR:   9.716  SAR:   5.088  \n",
      "\n"
     ]
    },
    {
     "name": "stderr",
     "output_type": "stream",
     "text": [
      " 20%|████████████████▍                                                                 | 10/50 [05:11<21:40, 32.50s/it]"
     ]
    },
    {
     "name": "stdout",
     "output_type": "stream",
     "text": [
      "drums           ==> SDR:   3.352  SIR: 219.334  ISR:   8.935  SAR:   1.587  \n",
      "bass            ==> SDR:   3.352  SIR: 219.334  ISR:   8.935  SAR:   1.587  \n",
      "\n"
     ]
    },
    {
     "name": "stderr",
     "output_type": "stream",
     "text": [
      " 22%|██████████████████                                                                | 11/50 [05:45<21:19, 32.80s/it]"
     ]
    },
    {
     "name": "stdout",
     "output_type": "stream",
     "text": [
      "drums           ==> SDR:   8.110  SIR: 214.482  ISR:  15.441  SAR:   8.010  \n",
      "bass            ==> SDR:   8.110  SIR: 214.482  ISR:  15.441  SAR:   8.010  \n",
      "\n"
     ]
    },
    {
     "name": "stderr",
     "output_type": "stream",
     "text": [
      " 24%|███████████████████▋                                                              | 12/50 [06:16<20:24, 32.24s/it]"
     ]
    },
    {
     "name": "stdout",
     "output_type": "stream",
     "text": [
      "drums           ==> SDR:   4.836  SIR: 211.044  ISR:   6.424  SAR:   4.044  \n",
      "bass            ==> SDR:   4.836  SIR: 211.044  ISR:   6.424  SAR:   4.044  \n",
      "\n"
     ]
    },
    {
     "name": "stderr",
     "output_type": "stream",
     "text": [
      " 26%|█████████████████████▎                                                            | 13/50 [06:34<17:14, 27.96s/it]"
     ]
    },
    {
     "name": "stdout",
     "output_type": "stream",
     "text": [
      "drums           ==> SDR:   2.076  SIR: 164.769  ISR:   3.815  SAR:   0.388  \n",
      "bass            ==> SDR:   2.076  SIR: 164.769  ISR:   3.815  SAR:   0.388  \n",
      "\n"
     ]
    },
    {
     "name": "stderr",
     "output_type": "stream",
     "text": [
      " 28%|██████████████████████▉                                                           | 14/50 [07:08<17:50, 29.75s/it]"
     ]
    },
    {
     "name": "stdout",
     "output_type": "stream",
     "text": [
      "drums           ==> SDR:   6.972  SIR: 210.064  ISR:  13.677  SAR:   6.842  \n",
      "bass            ==> SDR:   6.972  SIR: 210.064  ISR:  13.677  SAR:   6.842  \n",
      "\n"
     ]
    },
    {
     "name": "stderr",
     "output_type": "stream",
     "text": [
      " 30%|████████████████████████▌                                                         | 15/50 [08:15<23:54, 41.00s/it]"
     ]
    },
    {
     "name": "stdout",
     "output_type": "stream",
     "text": [
      "drums           ==> SDR:   5.148  SIR: 240.583  ISR:  11.140  SAR:   3.823  \n",
      "bass            ==> SDR:   5.148  SIR: 240.583  ISR:  11.140  SAR:   3.823  \n",
      "\n"
     ]
    },
    {
     "name": "stderr",
     "output_type": "stream",
     "text": [
      " 32%|██████████████████████████▏                                                       | 16/50 [08:53<22:44, 40.13s/it]"
     ]
    },
    {
     "name": "stdout",
     "output_type": "stream",
     "text": [
      "drums           ==> SDR:   4.849  SIR: 220.312  ISR:  14.990  SAR:   3.919  \n",
      "bass            ==> SDR:   4.849  SIR: 220.312  ISR:  14.990  SAR:   3.919  \n",
      "\n"
     ]
    },
    {
     "name": "stderr",
     "output_type": "stream",
     "text": [
      " 34%|███████████████████████████▉                                                      | 17/50 [09:10<18:17, 33.24s/it]"
     ]
    },
    {
     "name": "stdout",
     "output_type": "stream",
     "text": [
      "drums           ==> SDR:   1.946  SIR: 226.473  ISR:   4.837  SAR:  -0.898  \n",
      "bass            ==> SDR:   1.946  SIR: 226.473  ISR:   4.837  SAR:  -0.898  \n",
      "\n"
     ]
    },
    {
     "name": "stderr",
     "output_type": "stream",
     "text": [
      " 36%|█████████████████████████████▌                                                    | 18/50 [09:42<17:28, 32.76s/it]"
     ]
    },
    {
     "name": "stdout",
     "output_type": "stream",
     "text": [
      "drums           ==> SDR:   5.701  SIR: 223.191  ISR:  13.414  SAR:   5.212  \n",
      "bass            ==> SDR:   5.701  SIR: 223.191  ISR:  13.414  SAR:   5.212  \n",
      "\n"
     ]
    },
    {
     "name": "stderr",
     "output_type": "stream",
     "text": [
      " 38%|███████████████████████████████▏                                                  | 19/50 [10:15<17:02, 33.00s/it]"
     ]
    },
    {
     "name": "stdout",
     "output_type": "stream",
     "text": [
      "drums           ==> SDR:   9.850  SIR: 223.925  ISR:  20.482  SAR:  10.002  \n",
      "bass            ==> SDR:   9.850  SIR: 223.925  ISR:  20.482  SAR:  10.002  \n",
      "\n"
     ]
    },
    {
     "name": "stderr",
     "output_type": "stream",
     "text": [
      " 40%|████████████████████████████████▊                                                 | 20/50 [10:50<16:40, 33.34s/it]"
     ]
    },
    {
     "name": "stdout",
     "output_type": "stream",
     "text": [
      "drums           ==> SDR:   2.151  SIR: 224.007  ISR:   3.029  SAR:   4.940  \n",
      "bass            ==> SDR:   2.151  SIR: 224.007  ISR:   3.029  SAR:   4.940  \n",
      "\n"
     ]
    },
    {
     "name": "stderr",
     "output_type": "stream",
     "text": [
      " 42%|██████████████████████████████████▍                                               | 21/50 [11:24<16:17, 33.70s/it]"
     ]
    },
    {
     "name": "stdout",
     "output_type": "stream",
     "text": [
      "drums           ==> SDR:   6.342  SIR: 156.977  ISR:  11.026  SAR:   6.430  \n",
      "bass            ==> SDR:   6.342  SIR: 156.977  ISR:  11.026  SAR:   6.430  \n",
      "\n"
     ]
    },
    {
     "name": "stderr",
     "output_type": "stream",
     "text": [
      " 44%|████████████████████████████████████                                              | 22/50 [11:56<15:26, 33.10s/it]"
     ]
    },
    {
     "name": "stdout",
     "output_type": "stream",
     "text": [
      "drums           ==> SDR:   2.968  SIR: 175.805  ISR:  10.154  SAR:   1.838  \n",
      "bass            ==> SDR:   2.968  SIR: 175.805  ISR:  10.154  SAR:   1.838  \n",
      "\n"
     ]
    },
    {
     "name": "stderr",
     "output_type": "stream",
     "text": [
      " 46%|█████████████████████████████████████▋                                            | 23/50 [12:29<14:56, 33.19s/it]"
     ]
    },
    {
     "name": "stdout",
     "output_type": "stream",
     "text": [
      "drums           ==> SDR:   3.687  SIR: 159.727  ISR:   8.338  SAR:   2.158  \n",
      "bass            ==> SDR:   3.687  SIR: 159.727  ISR:   8.338  SAR:   2.158  \n",
      "\n"
     ]
    },
    {
     "name": "stderr",
     "output_type": "stream",
     "text": [
      " 48%|███████████████████████████████████████▎                                          | 24/50 [13:00<14:04, 32.50s/it]"
     ]
    },
    {
     "name": "stdout",
     "output_type": "stream",
     "text": [
      "drums           ==> SDR:   6.119  SIR: 133.263  ISR:  11.511  SAR:   6.357  \n",
      "bass            ==> SDR:   6.119  SIR: 133.263  ISR:  11.511  SAR:   6.357  \n",
      "\n"
     ]
    },
    {
     "name": "stderr",
     "output_type": "stream",
     "text": [
      " 50%|█████████████████████████████████████████                                         | 25/50 [13:33<13:38, 32.73s/it]"
     ]
    },
    {
     "name": "stdout",
     "output_type": "stream",
     "text": [
      "drums           ==> SDR:   3.565  SIR: 230.114  ISR:   7.894  SAR:   1.420  \n",
      "bass            ==> SDR:   3.565  SIR: 230.114  ISR:   7.894  SAR:   1.420  \n",
      "\n"
     ]
    },
    {
     "name": "stderr",
     "output_type": "stream",
     "text": [
      " 52%|██████████████████████████████████████████▋                                       | 26/50 [14:07<13:09, 32.91s/it]"
     ]
    },
    {
     "name": "stdout",
     "output_type": "stream",
     "text": [
      "drums           ==> SDR:   9.041  SIR: 153.834  ISR:  15.635  SAR:   9.316  \n",
      "bass            ==> SDR:   9.041  SIR: 153.834  ISR:  15.635  SAR:   9.316  \n",
      "\n"
     ]
    },
    {
     "name": "stderr",
     "output_type": "stream",
     "text": [
      " 54%|████████████████████████████████████████████▎                                     | 27/50 [14:42<12:51, 33.54s/it]"
     ]
    },
    {
     "name": "stdout",
     "output_type": "stream",
     "text": [
      "drums           ==> SDR:   6.667  SIR: 172.749  ISR:  16.221  SAR:   6.464  \n",
      "bass            ==> SDR:   6.667  SIR: 172.749  ISR:  16.221  SAR:   6.464  \n",
      "\n"
     ]
    },
    {
     "name": "stderr",
     "output_type": "stream",
     "text": [
      " 56%|█████████████████████████████████████████████▉                                    | 28/50 [15:00<10:35, 28.89s/it]"
     ]
    },
    {
     "name": "stdout",
     "output_type": "stream",
     "text": [
      "drums           ==> SDR:   9.559  SIR: 200.838  ISR:  15.533  SAR:   9.440  \n",
      "bass            ==> SDR:   9.559  SIR: 200.838  ISR:  15.533  SAR:   9.440  \n",
      "\n"
     ]
    },
    {
     "name": "stderr",
     "output_type": "stream",
     "text": [
      " 58%|███████████████████████████████████████████████▌                                  | 29/50 [15:09<08:00, 22.88s/it]"
     ]
    },
    {
     "name": "stdout",
     "output_type": "stream",
     "text": [
      "drums           ==> SDR:   5.185  SIR: 206.404  ISR:   7.173  SAR:   6.265  \n",
      "bass            ==> SDR:   5.185  SIR: 206.404  ISR:   7.173  SAR:   6.265  \n",
      "\n"
     ]
    },
    {
     "name": "stderr",
     "output_type": "stream",
     "text": [
      " 60%|█████████████████████████████████████████████████▏                                | 30/50 [15:40<08:27, 25.38s/it]"
     ]
    },
    {
     "name": "stdout",
     "output_type": "stream",
     "text": [
      "drums           ==> SDR:   5.509  SIR: 203.738  ISR:   9.816  SAR:   4.913  \n",
      "bass            ==> SDR:   5.509  SIR: 203.738  ISR:   9.816  SAR:   4.913  \n",
      "\n"
     ]
    },
    {
     "name": "stderr",
     "output_type": "stream",
     "text": [
      " 62%|██████████████████████████████████████████████████▊                               | 31/50 [16:11<08:36, 27.16s/it]"
     ]
    },
    {
     "name": "stdout",
     "output_type": "stream",
     "text": [
      "drums           ==> SDR:   3.172  SIR: 196.589  ISR:  13.049  SAR:   1.924  \n",
      "bass            ==> SDR:   3.172  SIR: 196.589  ISR:  13.049  SAR:   1.924  \n",
      "\n"
     ]
    },
    {
     "name": "stderr",
     "output_type": "stream",
     "text": [
      " 64%|████████████████████████████████████████████████████▍                             | 32/50 [16:44<08:41, 28.98s/it]"
     ]
    },
    {
     "name": "stdout",
     "output_type": "stream",
     "text": [
      "drums           ==> SDR:   2.445  SIR: 242.899  ISR:   7.415  SAR:   0.838  \n",
      "bass            ==> SDR:   2.445  SIR: 242.899  ISR:   7.415  SAR:   0.838  \n",
      "\n"
     ]
    },
    {
     "name": "stderr",
     "output_type": "stream",
     "text": [
      " 66%|██████████████████████████████████████████████████████                            | 33/50 [17:19<08:40, 30.63s/it]"
     ]
    },
    {
     "name": "stdout",
     "output_type": "stream",
     "text": [
      "drums           ==> SDR:   2.714  SIR: 241.738  ISR:   8.847  SAR:   0.966  \n",
      "bass            ==> SDR:   2.714  SIR: 241.738  ISR:   8.847  SAR:   0.966  \n",
      "\n"
     ]
    },
    {
     "name": "stderr",
     "output_type": "stream",
     "text": [
      " 68%|███████████████████████████████████████████████████████▊                          | 34/50 [17:51<08:19, 31.24s/it]"
     ]
    },
    {
     "name": "stdout",
     "output_type": "stream",
     "text": [
      "drums           ==> SDR:   3.832  SIR: 238.984  ISR:   9.906  SAR:   2.302  \n",
      "bass            ==> SDR:   3.832  SIR: 238.984  ISR:   9.906  SAR:   2.302  \n",
      "\n"
     ]
    },
    {
     "name": "stderr",
     "output_type": "stream",
     "text": [
      " 70%|█████████████████████████████████████████████████████████▍                        | 35/50 [18:24<07:56, 31.74s/it]"
     ]
    },
    {
     "name": "stdout",
     "output_type": "stream",
     "text": [
      "drums           ==> SDR:   9.607  SIR: 220.871  ISR:  16.801  SAR:   9.692  \n",
      "bass            ==> SDR:   9.607  SIR: 220.871  ISR:  16.801  SAR:   9.692  \n",
      "\n"
     ]
    },
    {
     "name": "stderr",
     "output_type": "stream",
     "text": [
      " 72%|███████████████████████████████████████████████████████████                       | 36/50 [18:43<06:28, 27.75s/it]"
     ]
    },
    {
     "name": "stdout",
     "output_type": "stream",
     "text": [
      "drums           ==> SDR:   2.249  SIR: 206.510  ISR:   8.137  SAR:  -0.118  \n",
      "bass            ==> SDR:   2.249  SIR: 206.510  ISR:   8.137  SAR:  -0.118  \n",
      "\n"
     ]
    },
    {
     "name": "stderr",
     "output_type": "stream",
     "text": [
      " 74%|████████████████████████████████████████████████████████████▋                     | 37/50 [19:48<08:26, 38.97s/it]"
     ]
    },
    {
     "name": "stdout",
     "output_type": "stream",
     "text": [
      "drums           ==> SDR:   5.902  SIR: 236.562  ISR:  16.824  SAR:   5.090  \n",
      "bass            ==> SDR:   5.902  SIR: 236.562  ISR:  16.824  SAR:   5.090  \n",
      "\n"
     ]
    },
    {
     "name": "stderr",
     "output_type": "stream",
     "text": [
      " 76%|██████████████████████████████████████████████████████████████▎                   | 38/50 [20:21<07:26, 37.23s/it]"
     ]
    },
    {
     "name": "stdout",
     "output_type": "stream",
     "text": [
      "drums           ==> SDR:   3.918  SIR: 221.079  ISR:   8.428  SAR:   3.725  \n",
      "bass            ==> SDR:   3.918  SIR: 221.079  ISR:   8.428  SAR:   3.725  \n",
      "\n"
     ]
    },
    {
     "name": "stderr",
     "output_type": "stream",
     "text": [
      " 78%|███████████████████████████████████████████████████████████████▉                  | 39/50 [20:56<06:41, 36.54s/it]"
     ]
    },
    {
     "name": "stdout",
     "output_type": "stream",
     "text": [
      "drums           ==> SDR:   2.870  SIR: 229.029  ISR:   4.923  SAR:   2.139  \n",
      "bass            ==> SDR:   2.870  SIR: 229.029  ISR:   4.923  SAR:   2.139  \n",
      "\n"
     ]
    },
    {
     "name": "stderr",
     "output_type": "stream",
     "text": [
      " 80%|█████████████████████████████████████████████████████████████████▌                | 40/50 [21:32<06:04, 36.46s/it]"
     ]
    },
    {
     "name": "stdout",
     "output_type": "stream",
     "text": [
      "drums           ==> SDR:   5.230  SIR: 188.147  ISR:  11.432  SAR:   4.501  \n",
      "bass            ==> SDR:   5.230  SIR: 188.147  ISR:  11.432  SAR:   4.501  \n",
      "\n"
     ]
    },
    {
     "name": "stderr",
     "output_type": "stream",
     "text": [
      " 82%|███████████████████████████████████████████████████████████████████▏              | 41/50 [22:06<05:21, 35.74s/it]"
     ]
    },
    {
     "name": "stdout",
     "output_type": "stream",
     "text": [
      "drums           ==> SDR:   2.384  SIR: 172.948  ISR:   6.862  SAR:   1.207  \n",
      "bass            ==> SDR:   2.384  SIR: 172.948  ISR:   6.862  SAR:   1.207  \n",
      "\n"
     ]
    },
    {
     "name": "stderr",
     "output_type": "stream",
     "text": [
      " 84%|████████████████████████████████████████████████████████████████████▉             | 42/50 [22:39<04:38, 34.83s/it]"
     ]
    },
    {
     "name": "stdout",
     "output_type": "stream",
     "text": [
      "drums           ==> SDR:   6.892  SIR: 135.651  ISR:  13.828  SAR:   6.059  \n",
      "bass            ==> SDR:   6.892  SIR: 135.651  ISR:  13.828  SAR:   6.059  \n",
      "\n"
     ]
    },
    {
     "name": "stderr",
     "output_type": "stream",
     "text": [
      " 86%|██████████████████████████████████████████████████████████████████████▌           | 43/50 [23:14<04:03, 34.75s/it]"
     ]
    },
    {
     "name": "stdout",
     "output_type": "stream",
     "text": [
      "drums           ==> SDR:   3.185  SIR: 170.625  ISR:   8.773  SAR:   1.291  \n",
      "bass            ==> SDR:   3.185  SIR: 170.625  ISR:   8.773  SAR:   1.291  \n",
      "\n"
     ]
    },
    {
     "name": "stderr",
     "output_type": "stream",
     "text": [
      " 88%|████████████████████████████████████████████████████████████████████████▏         | 44/50 [23:46<03:23, 33.93s/it]"
     ]
    },
    {
     "name": "stdout",
     "output_type": "stream",
     "text": [
      "drums           ==> SDR:   2.427  SIR: 198.142  ISR:   4.721  SAR:   0.513  \n",
      "bass            ==> SDR:   2.427  SIR: 198.142  ISR:   4.721  SAR:   0.513  \n",
      "\n"
     ]
    },
    {
     "name": "stderr",
     "output_type": "stream",
     "text": [
      " 90%|█████████████████████████████████████████████████████████████████████████▊        | 45/50 [24:23<02:54, 34.84s/it]"
     ]
    },
    {
     "name": "stdout",
     "output_type": "stream",
     "text": [
      "drums           ==> SDR:   1.128  SIR: 206.433  ISR:   2.643  SAR:  -2.024  \n",
      "bass            ==> SDR:   1.128  SIR: 206.433  ISR:   2.643  SAR:  -2.024  \n",
      "\n"
     ]
    },
    {
     "name": "stderr",
     "output_type": "stream",
     "text": [
      " 92%|███████████████████████████████████████████████████████████████████████████▍      | 46/50 [24:56<02:17, 34.38s/it]"
     ]
    },
    {
     "name": "stdout",
     "output_type": "stream",
     "text": [
      "drums           ==> SDR:   2.028  SIR: 216.384  ISR:   4.691  SAR:  -1.013  \n",
      "bass            ==> SDR:   2.028  SIR: 216.384  ISR:   4.691  SAR:  -1.013  \n",
      "\n"
     ]
    },
    {
     "name": "stderr",
     "output_type": "stream",
     "text": [
      " 94%|█████████████████████████████████████████████████████████████████████████████     | 47/50 [25:14<01:28, 29.40s/it]"
     ]
    },
    {
     "name": "stdout",
     "output_type": "stream",
     "text": [
      "drums           ==> SDR:   8.293  SIR: 151.702  ISR:  15.203  SAR:   8.082  \n",
      "bass            ==> SDR:   8.293  SIR: 151.702  ISR:  15.203  SAR:   8.082  \n",
      "\n"
     ]
    },
    {
     "name": "stderr",
     "output_type": "stream",
     "text": [
      " 96%|██████████████████████████████████████████████████████████████████████████████▋   | 48/50 [25:46<01:00, 30.35s/it]"
     ]
    },
    {
     "name": "stdout",
     "output_type": "stream",
     "text": [
      "drums           ==> SDR:   2.524  SIR: 209.133  ISR:   9.842  SAR:   0.453  \n",
      "bass            ==> SDR:   2.524  SIR: 209.133  ISR:   9.842  SAR:   0.453  \n",
      "\n"
     ]
    },
    {
     "name": "stderr",
     "output_type": "stream",
     "text": [
      " 98%|████████████████████████████████████████████████████████████████████████████████▎ | 49/50 [26:18<00:30, 30.83s/it]"
     ]
    },
    {
     "name": "stdout",
     "output_type": "stream",
     "text": [
      "drums           ==> SDR:   8.074  SIR: 203.866  ISR:  17.145  SAR:   7.896  \n",
      "bass            ==> SDR:   8.074  SIR: 203.866  ISR:  17.145  SAR:   7.896  \n",
      "\n"
     ]
    },
    {
     "name": "stderr",
     "output_type": "stream",
     "text": [
      "100%|██████████████████████████████████████████████████████████████████████████████████| 50/50 [26:51<00:00, 32.23s/it]"
     ]
    },
    {
     "name": "stdout",
     "output_type": "stream",
     "text": [
      "drums           ==> SDR:   5.934  SIR: 211.080  ISR:  12.873  SAR:   5.270  \n",
      "bass            ==> SDR:   5.934  SIR: 211.080  ISR:  12.873  SAR:   5.270  \n",
      "\n"
     ]
    },
    {
     "name": "stderr",
     "output_type": "stream",
     "text": [
      "\n",
      "C:\\Python311\\Lib\\site-packages\\pytorch_lightning\\utilities\\migration\\utils.py:55: The loaded checkpoint was produced with Lightning v2.2.1, which is newer than your current Lightning version: v2.1.2\n",
      "  2%|█▋                                                                                 | 1/50 [00:32<26:08, 32.01s/it]"
     ]
    },
    {
     "name": "stdout",
     "output_type": "stream",
     "text": [
      "drums           ==> SDR:   4.374  SIR: 227.774  ISR:   8.816  SAR:   4.085  \n",
      "bass            ==> SDR:   4.374  SIR: 227.774  ISR:   8.816  SAR:   4.085  \n",
      "\n"
     ]
    },
    {
     "name": "stderr",
     "output_type": "stream",
     "text": [
      "  4%|███▎                                                                               | 2/50 [01:03<25:19, 31.65s/it]"
     ]
    },
    {
     "name": "stdout",
     "output_type": "stream",
     "text": [
      "drums           ==> SDR:   3.055  SIR: 183.115  ISR:   9.589  SAR:   1.092  \n",
      "bass            ==> SDR:   3.055  SIR: 183.115  ISR:   9.589  SAR:   1.092  \n",
      "\n"
     ]
    },
    {
     "name": "stderr",
     "output_type": "stream",
     "text": [
      "  6%|████▉                                                                              | 3/50 [01:22<20:22, 26.01s/it]"
     ]
    },
    {
     "name": "stdout",
     "output_type": "stream",
     "text": [
      "drums           ==> SDR:   4.477  SIR: 217.912  ISR:  10.072  SAR:   4.156  \n",
      "bass            ==> SDR:   4.477  SIR: 217.912  ISR:  10.072  SAR:   4.156  \n",
      "\n"
     ]
    },
    {
     "name": "stderr",
     "output_type": "stream",
     "text": [
      "  8%|██████▋                                                                            | 4/50 [01:54<21:47, 28.43s/it]"
     ]
    },
    {
     "name": "stdout",
     "output_type": "stream",
     "text": [
      "drums           ==> SDR:   1.004  SIR: 232.224  ISR:  11.304  SAR:  -0.656  \n",
      "bass            ==> SDR:   1.004  SIR: 232.224  ISR:  11.304  SAR:  -0.656  \n",
      "\n"
     ]
    },
    {
     "name": "stderr",
     "output_type": "stream",
     "text": [
      " 10%|████████▎                                                                          | 5/50 [02:31<23:30, 31.34s/it]"
     ]
    },
    {
     "name": "stdout",
     "output_type": "stream",
     "text": [
      "drums           ==> SDR:   8.383  SIR: 196.682  ISR:  15.858  SAR:   8.088  \n",
      "bass            ==> SDR:   8.383  SIR: 196.682  ISR:  15.858  SAR:   8.088  \n",
      "\n"
     ]
    },
    {
     "name": "stderr",
     "output_type": "stream",
     "text": [
      " 12%|█████████▉                                                                         | 6/50 [03:03<23:06, 31.51s/it]"
     ]
    },
    {
     "name": "stdout",
     "output_type": "stream",
     "text": [
      "drums           ==> SDR:   5.526  SIR: 237.966  ISR:  12.877  SAR:   4.613  \n",
      "bass            ==> SDR:   5.526  SIR: 237.966  ISR:  12.877  SAR:   4.613  \n",
      "\n"
     ]
    },
    {
     "name": "stderr",
     "output_type": "stream",
     "text": [
      " 14%|███████████▌                                                                       | 7/50 [03:34<22:27, 31.33s/it]"
     ]
    },
    {
     "name": "stdout",
     "output_type": "stream",
     "text": [
      "drums           ==> SDR:   5.598  SIR: 190.973  ISR:  13.025  SAR:   4.868  \n",
      "bass            ==> SDR:   5.598  SIR: 190.973  ISR:  13.025  SAR:   4.868  \n",
      "\n"
     ]
    },
    {
     "name": "stderr",
     "output_type": "stream",
     "text": [
      " 16%|█████████████▎                                                                     | 8/50 [04:06<22:06, 31.59s/it]"
     ]
    },
    {
     "name": "stdout",
     "output_type": "stream",
     "text": [
      "drums           ==> SDR:   3.523  SIR: 240.126  ISR:  11.128  SAR:   2.119  \n",
      "bass            ==> SDR:   3.523  SIR: 240.126  ISR:  11.128  SAR:   2.119  \n",
      "\n"
     ]
    },
    {
     "name": "stderr",
     "output_type": "stream",
     "text": [
      " 18%|██████████████▉                                                                    | 9/50 [04:41<22:15, 32.58s/it]"
     ]
    },
    {
     "name": "stdout",
     "output_type": "stream",
     "text": [
      "drums           ==> SDR:   6.109  SIR: 178.020  ISR:   9.546  SAR:   5.368  \n",
      "bass            ==> SDR:   6.109  SIR: 178.020  ISR:   9.546  SAR:   5.368  \n",
      "\n"
     ]
    },
    {
     "name": "stderr",
     "output_type": "stream",
     "text": [
      " 20%|████████████████▍                                                                 | 10/50 [05:14<21:54, 32.87s/it]"
     ]
    },
    {
     "name": "stdout",
     "output_type": "stream",
     "text": [
      "drums           ==> SDR:   3.752  SIR: 216.606  ISR:   9.700  SAR:   2.460  \n",
      "bass            ==> SDR:   3.752  SIR: 216.606  ISR:   9.700  SAR:   2.460  \n",
      "\n"
     ]
    },
    {
     "name": "stderr",
     "output_type": "stream",
     "text": [
      " 22%|██████████████████                                                                | 11/50 [05:48<21:30, 33.09s/it]"
     ]
    },
    {
     "name": "stdout",
     "output_type": "stream",
     "text": [
      "drums           ==> SDR:   8.789  SIR: 210.733  ISR:  15.768  SAR:   8.878  \n",
      "bass            ==> SDR:   8.789  SIR: 210.733  ISR:  15.768  SAR:   8.878  \n",
      "\n"
     ]
    },
    {
     "name": "stderr",
     "output_type": "stream",
     "text": [
      " 24%|███████████████████▋                                                              | 12/50 [06:19<20:33, 32.45s/it]"
     ]
    },
    {
     "name": "stdout",
     "output_type": "stream",
     "text": [
      "drums           ==> SDR:   5.361  SIR: 216.028  ISR:   6.718  SAR:   4.857  \n",
      "bass            ==> SDR:   5.361  SIR: 216.028  ISR:   6.718  SAR:   4.857  \n",
      "\n"
     ]
    },
    {
     "name": "stderr",
     "output_type": "stream",
     "text": [
      " 26%|█████████████████████▎                                                            | 13/50 [06:37<17:21, 28.14s/it]"
     ]
    },
    {
     "name": "stdout",
     "output_type": "stream",
     "text": [
      "drums           ==> SDR:   1.870  SIR: 164.116  ISR:   3.189  SAR:   0.877  \n",
      "bass            ==> SDR:   1.870  SIR: 164.116  ISR:   3.189  SAR:   0.877  \n",
      "\n"
     ]
    },
    {
     "name": "stderr",
     "output_type": "stream",
     "text": [
      " 28%|██████████████████████▉                                                           | 14/50 [07:11<17:56, 29.91s/it]"
     ]
    },
    {
     "name": "stdout",
     "output_type": "stream",
     "text": [
      "drums           ==> SDR:   7.808  SIR: 209.009  ISR:  14.159  SAR:   7.762  \n",
      "bass            ==> SDR:   7.808  SIR: 209.009  ISR:  14.159  SAR:   7.762  \n",
      "\n"
     ]
    },
    {
     "name": "stderr",
     "output_type": "stream",
     "text": [
      " 30%|████████████████████████▌                                                         | 15/50 [08:17<23:46, 40.76s/it]"
     ]
    },
    {
     "name": "stdout",
     "output_type": "stream",
     "text": [
      "drums           ==> SDR:   5.906  SIR: 238.511  ISR:  12.048  SAR:   4.982  \n",
      "bass            ==> SDR:   5.906  SIR: 238.511  ISR:  12.048  SAR:   4.982  \n",
      "\n"
     ]
    },
    {
     "name": "stderr",
     "output_type": "stream",
     "text": [
      " 32%|██████████████████████████▏                                                       | 16/50 [08:52<22:13, 39.22s/it]"
     ]
    },
    {
     "name": "stdout",
     "output_type": "stream",
     "text": [
      "drums           ==> SDR:   5.705  SIR: 218.225  ISR:  15.421  SAR:   4.980  \n",
      "bass            ==> SDR:   5.705  SIR: 218.225  ISR:  15.421  SAR:   4.980  \n",
      "\n"
     ]
    },
    {
     "name": "stderr",
     "output_type": "stream",
     "text": [
      " 34%|███████████████████████████▉                                                      | 17/50 [09:10<17:55, 32.58s/it]"
     ]
    },
    {
     "name": "stdout",
     "output_type": "stream",
     "text": [
      "drums           ==> SDR:   2.629  SIR: 223.104  ISR:   6.341  SAR:   0.325  \n",
      "bass            ==> SDR:   2.629  SIR: 223.104  ISR:   6.341  SAR:   0.325  \n",
      "\n"
     ]
    },
    {
     "name": "stderr",
     "output_type": "stream",
     "text": [
      " 36%|█████████████████████████████▌                                                    | 18/50 [09:41<17:11, 32.22s/it]"
     ]
    },
    {
     "name": "stdout",
     "output_type": "stream",
     "text": [
      "drums           ==> SDR:   6.388  SIR: 227.583  ISR:  14.340  SAR:   5.875  \n",
      "bass            ==> SDR:   6.388  SIR: 227.583  ISR:  14.340  SAR:   5.875  \n",
      "\n"
     ]
    },
    {
     "name": "stderr",
     "output_type": "stream",
     "text": [
      " 38%|███████████████████████████████▏                                                  | 19/50 [10:14<16:49, 32.56s/it]"
     ]
    },
    {
     "name": "stdout",
     "output_type": "stream",
     "text": [
      "drums           ==> SDR:  10.700  SIR: 222.430  ISR:  20.048  SAR:  11.190  \n",
      "bass            ==> SDR:  10.700  SIR: 222.430  ISR:  20.048  SAR:  11.190  \n",
      "\n"
     ]
    },
    {
     "name": "stderr",
     "output_type": "stream",
     "text": [
      " 40%|████████████████████████████████▊                                                 | 20/50 [10:48<16:27, 32.90s/it]"
     ]
    },
    {
     "name": "stdout",
     "output_type": "stream",
     "text": [
      "drums           ==> SDR:   3.785  SIR: 225.246  ISR:   5.355  SAR:   5.253  \n",
      "bass            ==> SDR:   3.785  SIR: 225.246  ISR:   5.355  SAR:   5.253  \n",
      "\n"
     ]
    },
    {
     "name": "stderr",
     "output_type": "stream",
     "text": [
      " 42%|██████████████████████████████████▍                                               | 21/50 [11:22<16:06, 33.32s/it]"
     ]
    },
    {
     "name": "stdout",
     "output_type": "stream",
     "text": [
      "drums           ==> SDR:   6.942  SIR: 176.654  ISR:  11.732  SAR:   7.308  \n",
      "bass            ==> SDR:   6.942  SIR: 176.654  ISR:  11.732  SAR:   7.308  \n",
      "\n"
     ]
    },
    {
     "name": "stderr",
     "output_type": "stream",
     "text": [
      " 44%|████████████████████████████████████                                              | 22/50 [11:54<15:15, 32.71s/it]"
     ]
    },
    {
     "name": "stdout",
     "output_type": "stream",
     "text": [
      "drums           ==> SDR:   3.578  SIR: 186.178  ISR:  10.528  SAR:   2.654  \n",
      "bass            ==> SDR:   3.578  SIR: 186.178  ISR:  10.528  SAR:   2.654  \n",
      "\n"
     ]
    },
    {
     "name": "stderr",
     "output_type": "stream",
     "text": [
      " 46%|█████████████████████████████████████▋                                            | 23/50 [12:27<14:47, 32.89s/it]"
     ]
    },
    {
     "name": "stdout",
     "output_type": "stream",
     "text": [
      "drums           ==> SDR:   4.225  SIR: 157.300  ISR:   8.664  SAR:   2.864  \n",
      "bass            ==> SDR:   4.225  SIR: 157.300  ISR:   8.664  SAR:   2.864  \n",
      "\n"
     ]
    },
    {
     "name": "stderr",
     "output_type": "stream",
     "text": [
      " 48%|███████████████████████████████████████▎                                          | 24/50 [12:58<13:59, 32.31s/it]"
     ]
    },
    {
     "name": "stdout",
     "output_type": "stream",
     "text": [
      "drums           ==> SDR:   6.774  SIR: 131.282  ISR:  12.143  SAR:   7.206  \n",
      "bass            ==> SDR:   6.774  SIR: 131.282  ISR:  12.143  SAR:   7.206  \n",
      "\n"
     ]
    },
    {
     "name": "stderr",
     "output_type": "stream",
     "text": [
      " 50%|█████████████████████████████████████████                                         | 25/50 [13:30<13:30, 32.42s/it]"
     ]
    },
    {
     "name": "stdout",
     "output_type": "stream",
     "text": [
      "drums           ==> SDR:   3.825  SIR: 227.607  ISR:   7.873  SAR:   1.740  \n",
      "bass            ==> SDR:   3.825  SIR: 227.607  ISR:   7.873  SAR:   1.740  \n",
      "\n"
     ]
    },
    {
     "name": "stderr",
     "output_type": "stream",
     "text": [
      " 52%|██████████████████████████████████████████▋                                       | 26/50 [14:04<13:06, 32.75s/it]"
     ]
    },
    {
     "name": "stdout",
     "output_type": "stream",
     "text": [
      "drums           ==> SDR:   9.399  SIR: 153.770  ISR:  15.141  SAR:   9.818  \n",
      "bass            ==> SDR:   9.399  SIR: 153.770  ISR:  15.141  SAR:   9.818  \n",
      "\n"
     ]
    },
    {
     "name": "stderr",
     "output_type": "stream",
     "text": [
      " 54%|████████████████████████████████████████████▎                                     | 27/50 [14:39<12:50, 33.49s/it]"
     ]
    },
    {
     "name": "stdout",
     "output_type": "stream",
     "text": [
      "drums           ==> SDR:   7.733  SIR: 172.137  ISR:  15.932  SAR:   7.881  \n",
      "bass            ==> SDR:   7.733  SIR: 172.137  ISR:  15.932  SAR:   7.881  \n",
      "\n"
     ]
    },
    {
     "name": "stderr",
     "output_type": "stream",
     "text": [
      " 56%|█████████████████████████████████████████████▉                                    | 28/50 [14:58<10:36, 28.94s/it]"
     ]
    },
    {
     "name": "stdout",
     "output_type": "stream",
     "text": [
      "drums           ==> SDR:  11.137  SIR: 194.014  ISR:  17.746  SAR:  10.766  \n",
      "bass            ==> SDR:  11.137  SIR: 194.014  ISR:  17.746  SAR:  10.766  \n",
      "\n"
     ]
    },
    {
     "name": "stderr",
     "output_type": "stream",
     "text": [
      " 58%|███████████████████████████████████████████████▌                                  | 29/50 [15:07<08:02, 22.99s/it]"
     ]
    },
    {
     "name": "stdout",
     "output_type": "stream",
     "text": [
      "drums           ==> SDR:   5.018  SIR: 207.182  ISR:   7.221  SAR:   6.127  \n",
      "bass            ==> SDR:   5.018  SIR: 207.182  ISR:   7.221  SAR:   6.127  \n",
      "\n"
     ]
    },
    {
     "name": "stderr",
     "output_type": "stream",
     "text": [
      " 60%|█████████████████████████████████████████████████▏                                | 30/50 [15:38<08:29, 25.46s/it]"
     ]
    },
    {
     "name": "stdout",
     "output_type": "stream",
     "text": [
      "drums           ==> SDR:   6.100  SIR: 206.058  ISR:  10.419  SAR:   5.831  \n",
      "bass            ==> SDR:   6.100  SIR: 206.058  ISR:  10.419  SAR:   5.831  \n",
      "\n"
     ]
    },
    {
     "name": "stderr",
     "output_type": "stream",
     "text": [
      " 62%|██████████████████████████████████████████████████▊                               | 31/50 [16:09<08:36, 27.20s/it]"
     ]
    },
    {
     "name": "stdout",
     "output_type": "stream",
     "text": [
      "drums           ==> SDR:   3.697  SIR: 197.857  ISR:  13.729  SAR:   2.593  \n",
      "bass            ==> SDR:   3.697  SIR: 197.857  ISR:  13.729  SAR:   2.593  \n",
      "\n"
     ]
    },
    {
     "name": "stderr",
     "output_type": "stream",
     "text": [
      " 64%|████████████████████████████████████████████████████▍                             | 32/50 [16:42<08:41, 28.99s/it]"
     ]
    },
    {
     "name": "stdout",
     "output_type": "stream",
     "text": [
      "drums           ==> SDR:   2.616  SIR: 239.842  ISR:   7.549  SAR:   1.231  \n",
      "bass            ==> SDR:   2.616  SIR: 239.842  ISR:   7.549  SAR:   1.231  \n",
      "\n"
     ]
    },
    {
     "name": "stderr",
     "output_type": "stream",
     "text": [
      " 66%|██████████████████████████████████████████████████████                            | 33/50 [17:17<08:39, 30.55s/it]"
     ]
    },
    {
     "name": "stdout",
     "output_type": "stream",
     "text": [
      "drums           ==> SDR:   2.934  SIR: 244.149  ISR:   8.895  SAR:   1.494  \n",
      "bass            ==> SDR:   2.934  SIR: 244.149  ISR:   8.895  SAR:   1.494  \n",
      "\n"
     ]
    },
    {
     "name": "stderr",
     "output_type": "stream",
     "text": [
      " 68%|███████████████████████████████████████████████████████▊                          | 34/50 [17:49<08:18, 31.17s/it]"
     ]
    },
    {
     "name": "stdout",
     "output_type": "stream",
     "text": [
      "drums           ==> SDR:   4.634  SIR: 240.032  ISR:   9.426  SAR:   3.471  \n",
      "bass            ==> SDR:   4.634  SIR: 240.032  ISR:   9.426  SAR:   3.471  \n",
      "\n"
     ]
    },
    {
     "name": "stderr",
     "output_type": "stream",
     "text": [
      " 70%|█████████████████████████████████████████████████████████▍                        | 35/50 [18:22<07:55, 31.67s/it]"
     ]
    },
    {
     "name": "stdout",
     "output_type": "stream",
     "text": [
      "drums           ==> SDR:  10.423  SIR: 219.367  ISR:  17.588  SAR:  10.687  \n",
      "bass            ==> SDR:  10.423  SIR: 219.367  ISR:  17.588  SAR:  10.687  \n",
      "\n"
     ]
    },
    {
     "name": "stderr",
     "output_type": "stream",
     "text": [
      " 72%|███████████████████████████████████████████████████████████                       | 36/50 [18:41<06:28, 27.76s/it]"
     ]
    },
    {
     "name": "stdout",
     "output_type": "stream",
     "text": [
      "drums           ==> SDR:   2.622  SIR: 216.656  ISR:   9.032  SAR:   0.558  \n",
      "bass            ==> SDR:   2.622  SIR: 216.656  ISR:   9.032  SAR:   0.558  \n",
      "\n"
     ]
    },
    {
     "name": "stderr",
     "output_type": "stream",
     "text": [
      " 74%|████████████████████████████████████████████████████████████▋                     | 37/50 [19:45<08:25, 38.88s/it]"
     ]
    },
    {
     "name": "stdout",
     "output_type": "stream",
     "text": [
      "drums           ==> SDR:   6.539  SIR: 241.633  ISR:  16.087  SAR:   5.786  \n",
      "bass            ==> SDR:   6.539  SIR: 241.633  ISR:  16.087  SAR:   5.786  \n",
      "\n"
     ]
    },
    {
     "name": "stderr",
     "output_type": "stream",
     "text": [
      " 76%|██████████████████████████████████████████████████████████████▎                   | 38/50 [20:18<07:25, 37.11s/it]"
     ]
    },
    {
     "name": "stdout",
     "output_type": "stream",
     "text": [
      "drums           ==> SDR:   4.268  SIR: 220.598  ISR:   8.227  SAR:   4.230  \n",
      "bass            ==> SDR:   4.268  SIR: 220.598  ISR:   8.227  SAR:   4.230  \n",
      "\n"
     ]
    },
    {
     "name": "stderr",
     "output_type": "stream",
     "text": [
      " 78%|███████████████████████████████████████████████████████████████▉                  | 39/50 [20:53<06:41, 36.50s/it]"
     ]
    },
    {
     "name": "stdout",
     "output_type": "stream",
     "text": [
      "drums           ==> SDR:   3.220  SIR: 228.105  ISR:   5.148  SAR:   2.794  \n",
      "bass            ==> SDR:   3.220  SIR: 228.105  ISR:   5.148  SAR:   2.794  \n",
      "\n"
     ]
    },
    {
     "name": "stderr",
     "output_type": "stream",
     "text": [
      " 80%|█████████████████████████████████████████████████████████████████▌                | 40/50 [21:30<06:04, 36.42s/it]"
     ]
    },
    {
     "name": "stdout",
     "output_type": "stream",
     "text": [
      "drums           ==> SDR:   6.056  SIR: 195.673  ISR:  12.561  SAR:   5.365  \n",
      "bass            ==> SDR:   6.056  SIR: 195.673  ISR:  12.561  SAR:   5.365  \n",
      "\n"
     ]
    },
    {
     "name": "stderr",
     "output_type": "stream",
     "text": [
      " 82%|███████████████████████████████████████████████████████████████████▏              | 41/50 [22:02<05:16, 35.22s/it]"
     ]
    },
    {
     "name": "stdout",
     "output_type": "stream",
     "text": [
      "drums           ==> SDR:   2.615  SIR: 172.740  ISR:   7.779  SAR:   1.615  \n",
      "bass            ==> SDR:   2.615  SIR: 172.740  ISR:   7.779  SAR:   1.615  \n",
      "\n"
     ]
    },
    {
     "name": "stderr",
     "output_type": "stream",
     "text": [
      " 84%|████████████████████████████████████████████████████████████████████▉             | 42/50 [22:34<04:34, 34.36s/it]"
     ]
    },
    {
     "name": "stdout",
     "output_type": "stream",
     "text": [
      "drums           ==> SDR:   7.564  SIR: 141.720  ISR:  15.711  SAR:   7.048  \n",
      "bass            ==> SDR:   7.564  SIR: 141.720  ISR:  15.711  SAR:   7.048  \n",
      "\n"
     ]
    },
    {
     "name": "stderr",
     "output_type": "stream",
     "text": [
      " 86%|██████████████████████████████████████████████████████████████████████▌           | 43/50 [23:09<04:00, 34.36s/it]"
     ]
    },
    {
     "name": "stdout",
     "output_type": "stream",
     "text": [
      "drums           ==> SDR:   3.943  SIR: 171.894  ISR:   9.073  SAR:   2.319  \n",
      "bass            ==> SDR:   3.943  SIR: 171.894  ISR:   9.073  SAR:   2.319  \n",
      "\n"
     ]
    },
    {
     "name": "stderr",
     "output_type": "stream",
     "text": [
      " 88%|████████████████████████████████████████████████████████████████████████▏         | 44/50 [23:40<03:20, 33.34s/it]"
     ]
    },
    {
     "name": "stdout",
     "output_type": "stream",
     "text": [
      "drums           ==> SDR:   3.224  SIR: 196.674  ISR:   4.844  SAR:   0.935  \n",
      "bass            ==> SDR:   3.224  SIR: 196.674  ISR:   4.844  SAR:   0.935  \n",
      "\n"
     ]
    },
    {
     "name": "stderr",
     "output_type": "stream",
     "text": [
      " 90%|█████████████████████████████████████████████████████████████████████████▊        | 45/50 [24:15<02:49, 33.89s/it]"
     ]
    },
    {
     "name": "stdout",
     "output_type": "stream",
     "text": [
      "drums           ==> SDR:   1.185  SIR: 198.833  ISR:   2.646  SAR:  -1.394  \n",
      "bass            ==> SDR:   1.185  SIR: 198.833  ISR:   2.646  SAR:  -1.394  \n",
      "\n"
     ]
    },
    {
     "name": "stderr",
     "output_type": "stream",
     "text": [
      " 92%|███████████████████████████████████████████████████████████████████████████▍      | 46/50 [24:48<02:14, 33.73s/it]"
     ]
    },
    {
     "name": "stdout",
     "output_type": "stream",
     "text": [
      "drums           ==> SDR:   2.275  SIR: 219.142  ISR:   5.936  SAR:  -0.647  \n",
      "bass            ==> SDR:   2.275  SIR: 219.142  ISR:   5.936  SAR:  -0.647  \n",
      "\n"
     ]
    },
    {
     "name": "stderr",
     "output_type": "stream",
     "text": [
      " 94%|█████████████████████████████████████████████████████████████████████████████     | 47/50 [25:06<01:27, 29.02s/it]"
     ]
    },
    {
     "name": "stdout",
     "output_type": "stream",
     "text": [
      "drums           ==> SDR:   8.884  SIR: 154.090  ISR:  15.687  SAR:   8.911  \n",
      "bass            ==> SDR:   8.884  SIR: 154.090  ISR:  15.687  SAR:   8.911  \n",
      "\n"
     ]
    },
    {
     "name": "stderr",
     "output_type": "stream",
     "text": [
      " 96%|██████████████████████████████████████████████████████████████████████████████▋   | 48/50 [25:39<00:59, 29.98s/it]"
     ]
    },
    {
     "name": "stdout",
     "output_type": "stream",
     "text": [
      "drums           ==> SDR:   3.618  SIR: 200.807  ISR:  10.614  SAR:   2.121  \n",
      "bass            ==> SDR:   3.618  SIR: 200.807  ISR:  10.614  SAR:   2.121  \n",
      "\n"
     ]
    },
    {
     "name": "stderr",
     "output_type": "stream",
     "text": [
      " 98%|████████████████████████████████████████████████████████████████████████████████▎ | 49/50 [26:10<00:30, 30.44s/it]"
     ]
    },
    {
     "name": "stdout",
     "output_type": "stream",
     "text": [
      "drums           ==> SDR:   8.565  SIR: 205.300  ISR:  17.692  SAR:   8.516  \n",
      "bass            ==> SDR:   8.565  SIR: 205.300  ISR:  17.692  SAR:   8.516  \n",
      "\n"
     ]
    },
    {
     "name": "stderr",
     "output_type": "stream",
     "text": [
      "100%|██████████████████████████████████████████████████████████████████████████████████| 50/50 [26:43<00:00, 32.06s/it]"
     ]
    },
    {
     "name": "stdout",
     "output_type": "stream",
     "text": [
      "drums           ==> SDR:   6.280  SIR: 210.792  ISR:  13.553  SAR:   5.941  \n",
      "bass            ==> SDR:   6.280  SIR: 210.792  ISR:  13.553  SAR:   5.941  \n",
      "\n"
     ]
    },
    {
     "name": "stderr",
     "output_type": "stream",
     "text": [
      "\n",
      "  2%|█▋                                                                                 | 1/50 [00:31<25:51, 31.66s/it]"
     ]
    },
    {
     "name": "stdout",
     "output_type": "stream",
     "text": [
      "drums           ==> SDR:   4.030  SIR: 225.193  ISR:   8.533  SAR:   3.959  \n",
      "bass            ==> SDR:   4.030  SIR: 225.193  ISR:   8.533  SAR:   3.959  \n",
      "\n"
     ]
    },
    {
     "name": "stderr",
     "output_type": "stream",
     "text": [
      "  4%|███▎                                                                               | 2/50 [01:02<25:05, 31.36s/it]"
     ]
    },
    {
     "name": "stdout",
     "output_type": "stream",
     "text": [
      "drums           ==> SDR:   3.037  SIR: 186.827  ISR:   8.545  SAR:   1.112  \n",
      "bass            ==> SDR:   3.037  SIR: 186.827  ISR:   8.545  SAR:   1.112  \n",
      "\n"
     ]
    },
    {
     "name": "stderr",
     "output_type": "stream",
     "text": [
      "  6%|████▉                                                                              | 3/50 [01:21<20:07, 25.70s/it]"
     ]
    },
    {
     "name": "stdout",
     "output_type": "stream",
     "text": [
      "drums           ==> SDR:   4.562  SIR: 217.577  ISR:   9.891  SAR:   4.294  \n",
      "bass            ==> SDR:   4.562  SIR: 217.577  ISR:   9.891  SAR:   4.294  \n",
      "\n"
     ]
    },
    {
     "name": "stderr",
     "output_type": "stream",
     "text": [
      "  8%|██████▋                                                                            | 4/50 [01:53<21:38, 28.23s/it]"
     ]
    },
    {
     "name": "stdout",
     "output_type": "stream",
     "text": [
      "drums           ==> SDR:   1.143  SIR: 236.005  ISR:  11.077  SAR:  -0.395  \n",
      "bass            ==> SDR:   1.143  SIR: 236.005  ISR:  11.077  SAR:  -0.395  \n",
      "\n"
     ]
    },
    {
     "name": "stderr",
     "output_type": "stream",
     "text": [
      " 10%|████████▎                                                                          | 5/50 [02:30<23:23, 31.18s/it]"
     ]
    },
    {
     "name": "stdout",
     "output_type": "stream",
     "text": [
      "drums           ==> SDR:   8.114  SIR: 192.151  ISR:  14.498  SAR:   8.067  \n",
      "bass            ==> SDR:   8.114  SIR: 192.151  ISR:  14.498  SAR:   8.067  \n",
      "\n"
     ]
    },
    {
     "name": "stderr",
     "output_type": "stream",
     "text": [
      " 12%|█████████▉                                                                         | 6/50 [03:02<23:01, 31.40s/it]"
     ]
    },
    {
     "name": "stdout",
     "output_type": "stream",
     "text": [
      "drums           ==> SDR:   5.568  SIR: 233.500  ISR:  12.575  SAR:   4.561  \n",
      "bass            ==> SDR:   5.568  SIR: 233.500  ISR:  12.575  SAR:   4.561  \n",
      "\n"
     ]
    },
    {
     "name": "stderr",
     "output_type": "stream",
     "text": [
      " 14%|███████████▌                                                                       | 7/50 [03:33<22:25, 31.28s/it]"
     ]
    },
    {
     "name": "stdout",
     "output_type": "stream",
     "text": [
      "drums           ==> SDR:   5.432  SIR: 196.510  ISR:  11.721  SAR:   4.412  \n",
      "bass            ==> SDR:   5.432  SIR: 196.510  ISR:  11.721  SAR:   4.412  \n",
      "\n"
     ]
    },
    {
     "name": "stderr",
     "output_type": "stream",
     "text": [
      " 16%|█████████████▎                                                                     | 8/50 [04:05<22:05, 31.57s/it]"
     ]
    },
    {
     "name": "stdout",
     "output_type": "stream",
     "text": [
      "drums           ==> SDR:   3.457  SIR: 241.008  ISR:   9.978  SAR:   1.607  \n",
      "bass            ==> SDR:   3.457  SIR: 241.008  ISR:   9.978  SAR:   1.607  \n",
      "\n"
     ]
    },
    {
     "name": "stderr",
     "output_type": "stream",
     "text": [
      " 18%|██████████████▉                                                                    | 9/50 [04:39<22:06, 32.35s/it]"
     ]
    },
    {
     "name": "stdout",
     "output_type": "stream",
     "text": [
      "drums           ==> SDR:   6.612  SIR: 177.010  ISR:  10.479  SAR:   5.935  \n",
      "bass            ==> SDR:   6.612  SIR: 177.010  ISR:  10.479  SAR:   5.935  \n",
      "\n"
     ]
    },
    {
     "name": "stderr",
     "output_type": "stream",
     "text": [
      " 20%|████████████████▍                                                                 | 10/50 [05:12<21:43, 32.58s/it]"
     ]
    },
    {
     "name": "stdout",
     "output_type": "stream",
     "text": [
      "drums           ==> SDR:   3.278  SIR: 222.343  ISR:   8.002  SAR:   1.632  \n",
      "bass            ==> SDR:   3.278  SIR: 222.343  ISR:   8.002  SAR:   1.632  \n",
      "\n"
     ]
    },
    {
     "name": "stderr",
     "output_type": "stream",
     "text": [
      " 22%|██████████████████                                                                | 11/50 [05:45<21:19, 32.82s/it]"
     ]
    },
    {
     "name": "stdout",
     "output_type": "stream",
     "text": [
      "drums           ==> SDR:   8.583  SIR: 215.911  ISR:  14.899  SAR:   8.613  \n",
      "bass            ==> SDR:   8.583  SIR: 215.911  ISR:  14.899  SAR:   8.613  \n",
      "\n"
     ]
    },
    {
     "name": "stderr",
     "output_type": "stream",
     "text": [
      " 24%|███████████████████▋                                                              | 12/50 [06:16<20:23, 32.20s/it]"
     ]
    },
    {
     "name": "stdout",
     "output_type": "stream",
     "text": [
      "drums           ==> SDR:   4.814  SIR: 210.047  ISR:   5.945  SAR:   4.609  \n",
      "bass            ==> SDR:   4.814  SIR: 210.047  ISR:   5.945  SAR:   4.609  \n",
      "\n"
     ]
    },
    {
     "name": "stderr",
     "output_type": "stream",
     "text": [
      " 26%|█████████████████████▎                                                            | 13/50 [06:34<17:15, 28.00s/it]"
     ]
    },
    {
     "name": "stdout",
     "output_type": "stream",
     "text": [
      "drums           ==> SDR:   3.870  SIR: 171.967  ISR:   5.906  SAR:   2.180  \n",
      "bass            ==> SDR:   3.870  SIR: 171.967  ISR:   5.906  SAR:   2.180  \n",
      "\n"
     ]
    },
    {
     "name": "stderr",
     "output_type": "stream",
     "text": [
      " 28%|██████████████████████▉                                                           | 14/50 [07:08<17:52, 29.80s/it]"
     ]
    },
    {
     "name": "stdout",
     "output_type": "stream",
     "text": [
      "drums           ==> SDR:   6.802  SIR: 207.100  ISR:  12.549  SAR:   6.517  \n",
      "bass            ==> SDR:   6.802  SIR: 207.100  ISR:  12.549  SAR:   6.517  \n",
      "\n"
     ]
    },
    {
     "name": "stderr",
     "output_type": "stream",
     "text": [
      " 30%|████████████████████████▌                                                         | 15/50 [08:14<23:39, 40.57s/it]"
     ]
    },
    {
     "name": "stdout",
     "output_type": "stream",
     "text": [
      "drums           ==> SDR:   5.682  SIR: 245.074  ISR:  11.775  SAR:   4.820  \n",
      "bass            ==> SDR:   5.682  SIR: 245.074  ISR:  11.775  SAR:   4.820  \n",
      "\n"
     ]
    },
    {
     "name": "stderr",
     "output_type": "stream",
     "text": [
      " 32%|██████████████████████████▏                                                       | 16/50 [08:49<22:06, 39.03s/it]"
     ]
    },
    {
     "name": "stdout",
     "output_type": "stream",
     "text": [
      "drums           ==> SDR:   4.859  SIR: 220.123  ISR:  16.464  SAR:   4.285  \n",
      "bass            ==> SDR:   4.859  SIR: 220.123  ISR:  16.464  SAR:   4.285  \n",
      "\n"
     ]
    },
    {
     "name": "stderr",
     "output_type": "stream",
     "text": [
      " 34%|███████████████████████████▉                                                      | 17/50 [09:06<17:49, 32.42s/it]"
     ]
    },
    {
     "name": "stdout",
     "output_type": "stream",
     "text": [
      "drums           ==> SDR:   2.000  SIR: 229.246  ISR:   6.402  SAR:  -0.795  \n",
      "bass            ==> SDR:   2.000  SIR: 229.246  ISR:   6.402  SAR:  -0.795  \n",
      "\n"
     ]
    },
    {
     "name": "stderr",
     "output_type": "stream",
     "text": [
      " 36%|█████████████████████████████▌                                                    | 18/50 [09:38<17:07, 32.12s/it]"
     ]
    },
    {
     "name": "stdout",
     "output_type": "stream",
     "text": [
      "drums           ==> SDR:   6.060  SIR: 222.395  ISR:  13.222  SAR:   5.923  \n",
      "bass            ==> SDR:   6.060  SIR: 222.395  ISR:  13.222  SAR:   5.923  \n",
      "\n"
     ]
    },
    {
     "name": "stderr",
     "output_type": "stream",
     "text": [
      " 38%|███████████████████████████████▏                                                  | 19/50 [10:11<16:47, 32.51s/it]"
     ]
    },
    {
     "name": "stdout",
     "output_type": "stream",
     "text": [
      "drums           ==> SDR:  10.126  SIR: 222.276  ISR:  19.827  SAR:  10.268  \n",
      "bass            ==> SDR:  10.126  SIR: 222.276  ISR:  19.827  SAR:  10.268  \n",
      "\n"
     ]
    },
    {
     "name": "stderr",
     "output_type": "stream",
     "text": [
      " 40%|████████████████████████████████▊                                                 | 20/50 [10:45<16:29, 32.97s/it]"
     ]
    },
    {
     "name": "stdout",
     "output_type": "stream",
     "text": [
      "drums           ==> SDR:   2.339  SIR: 225.205  ISR:   3.223  SAR:   4.693  \n",
      "bass            ==> SDR:   2.339  SIR: 225.205  ISR:   3.223  SAR:   4.693  \n",
      "\n"
     ]
    },
    {
     "name": "stderr",
     "output_type": "stream",
     "text": [
      " 42%|██████████████████████████████████▍                                               | 21/50 [11:20<16:08, 33.39s/it]"
     ]
    },
    {
     "name": "stdout",
     "output_type": "stream",
     "text": [
      "drums           ==> SDR:   6.390  SIR: 165.689  ISR:   9.969  SAR:   6.988  \n",
      "bass            ==> SDR:   6.390  SIR: 165.689  ISR:   9.969  SAR:   6.988  \n",
      "\n"
     ]
    },
    {
     "name": "stderr",
     "output_type": "stream",
     "text": [
      " 44%|████████████████████████████████████                                              | 22/50 [11:51<15:17, 32.78s/it]"
     ]
    },
    {
     "name": "stdout",
     "output_type": "stream",
     "text": [
      "drums           ==> SDR:   3.539  SIR: 180.810  ISR:  10.175  SAR:   2.617  \n",
      "bass            ==> SDR:   3.539  SIR: 180.810  ISR:  10.175  SAR:   2.617  \n",
      "\n"
     ]
    },
    {
     "name": "stderr",
     "output_type": "stream",
     "text": [
      " 46%|█████████████████████████████████████▋                                            | 23/50 [12:24<14:48, 32.92s/it]"
     ]
    },
    {
     "name": "stdout",
     "output_type": "stream",
     "text": [
      "drums           ==> SDR:   3.785  SIR: 157.311  ISR:   7.905  SAR:   2.313  \n",
      "bass            ==> SDR:   3.785  SIR: 157.311  ISR:   7.905  SAR:   2.313  \n",
      "\n"
     ]
    },
    {
     "name": "stderr",
     "output_type": "stream",
     "text": [
      " 48%|███████████████████████████████████████▎                                          | 24/50 [12:55<13:59, 32.30s/it]"
     ]
    },
    {
     "name": "stdout",
     "output_type": "stream",
     "text": [
      "drums           ==> SDR:   6.475  SIR: 138.563  ISR:  12.455  SAR:   6.652  \n",
      "bass            ==> SDR:   6.475  SIR: 138.563  ISR:  12.455  SAR:   6.652  \n",
      "\n"
     ]
    },
    {
     "name": "stderr",
     "output_type": "stream",
     "text": [
      " 50%|█████████████████████████████████████████                                         | 25/50 [13:28<13:30, 32.41s/it]"
     ]
    },
    {
     "name": "stdout",
     "output_type": "stream",
     "text": [
      "drums           ==> SDR:   3.747  SIR: 227.033  ISR:   7.622  SAR:   1.635  \n",
      "bass            ==> SDR:   3.747  SIR: 227.033  ISR:   7.622  SAR:   1.635  \n",
      "\n"
     ]
    },
    {
     "name": "stderr",
     "output_type": "stream",
     "text": [
      " 52%|██████████████████████████████████████████▋                                       | 26/50 [14:01<13:05, 32.74s/it]"
     ]
    },
    {
     "name": "stdout",
     "output_type": "stream",
     "text": [
      "drums           ==> SDR:   8.515  SIR: 152.163  ISR:  13.688  SAR:   8.948  \n",
      "bass            ==> SDR:   8.515  SIR: 152.163  ISR:  13.688  SAR:   8.948  \n",
      "\n"
     ]
    },
    {
     "name": "stderr",
     "output_type": "stream",
     "text": [
      " 54%|████████████████████████████████████████████▎                                     | 27/50 [14:36<12:49, 33.45s/it]"
     ]
    },
    {
     "name": "stdout",
     "output_type": "stream",
     "text": [
      "drums           ==> SDR:   7.420  SIR: 178.253  ISR:  15.164  SAR:   7.329  \n",
      "bass            ==> SDR:   7.420  SIR: 178.253  ISR:  15.164  SAR:   7.329  \n",
      "\n"
     ]
    },
    {
     "name": "stderr",
     "output_type": "stream",
     "text": [
      " 56%|█████████████████████████████████████████████▉                                    | 28/50 [14:55<10:34, 28.83s/it]"
     ]
    },
    {
     "name": "stdout",
     "output_type": "stream",
     "text": [
      "drums           ==> SDR:  10.305  SIR: 194.195  ISR:  15.265  SAR:  10.087  \n",
      "bass            ==> SDR:  10.305  SIR: 194.195  ISR:  15.265  SAR:  10.087  \n",
      "\n"
     ]
    },
    {
     "name": "stderr",
     "output_type": "stream",
     "text": [
      " 58%|███████████████████████████████████████████████▌                                  | 29/50 [15:04<08:00, 22.88s/it]"
     ]
    },
    {
     "name": "stdout",
     "output_type": "stream",
     "text": [
      "drums           ==> SDR:   5.462  SIR: 212.320  ISR:   7.405  SAR:   6.769  \n",
      "bass            ==> SDR:   5.462  SIR: 212.320  ISR:   7.405  SAR:   6.769  \n",
      "\n"
     ]
    },
    {
     "name": "stderr",
     "output_type": "stream",
     "text": [
      " 60%|█████████████████████████████████████████████████▏                                | 30/50 [15:35<08:28, 25.41s/it]"
     ]
    },
    {
     "name": "stdout",
     "output_type": "stream",
     "text": [
      "drums           ==> SDR:   5.670  SIR: 203.820  ISR:   9.566  SAR:   5.390  \n",
      "bass            ==> SDR:   5.670  SIR: 203.820  ISR:   9.566  SAR:   5.390  \n",
      "\n"
     ]
    },
    {
     "name": "stderr",
     "output_type": "stream",
     "text": [
      " 62%|██████████████████████████████████████████████████▊                               | 31/50 [16:06<08:35, 27.12s/it]"
     ]
    },
    {
     "name": "stdout",
     "output_type": "stream",
     "text": [
      "drums           ==> SDR:   3.588  SIR: 191.265  ISR:  11.925  SAR:   2.305  \n",
      "bass            ==> SDR:   3.588  SIR: 191.265  ISR:  11.925  SAR:   2.305  \n",
      "\n"
     ]
    },
    {
     "name": "stderr",
     "output_type": "stream",
     "text": [
      " 64%|████████████████████████████████████████████████████▍                             | 32/50 [16:39<08:39, 28.86s/it]"
     ]
    },
    {
     "name": "stdout",
     "output_type": "stream",
     "text": [
      "drums           ==> SDR:   2.284  SIR: 240.141  ISR:   7.956  SAR:   1.132  \n",
      "bass            ==> SDR:   2.284  SIR: 240.141  ISR:   7.956  SAR:   1.132  \n",
      "\n"
     ]
    },
    {
     "name": "stderr",
     "output_type": "stream",
     "text": [
      " 66%|██████████████████████████████████████████████████████                            | 33/50 [17:13<08:35, 30.33s/it]"
     ]
    },
    {
     "name": "stdout",
     "output_type": "stream",
     "text": [
      "drums           ==> SDR:   3.204  SIR: 242.791  ISR:   8.273  SAR:   1.789  \n",
      "bass            ==> SDR:   3.204  SIR: 242.791  ISR:   8.273  SAR:   1.789  \n",
      "\n"
     ]
    },
    {
     "name": "stderr",
     "output_type": "stream",
     "text": [
      " 68%|███████████████████████████████████████████████████████▊                          | 34/50 [17:45<08:15, 30.95s/it]"
     ]
    },
    {
     "name": "stdout",
     "output_type": "stream",
     "text": [
      "drums           ==> SDR:   4.461  SIR: 239.307  ISR:   9.646  SAR:   3.461  \n",
      "bass            ==> SDR:   4.461  SIR: 239.307  ISR:   9.646  SAR:   3.461  \n",
      "\n"
     ]
    },
    {
     "name": "stderr",
     "output_type": "stream",
     "text": [
      " 70%|█████████████████████████████████████████████████████████▍                        | 35/50 [18:18<07:52, 31.49s/it]"
     ]
    },
    {
     "name": "stdout",
     "output_type": "stream",
     "text": [
      "drums           ==> SDR:   9.717  SIR: 226.997  ISR:  15.477  SAR:  10.053  \n",
      "bass            ==> SDR:   9.717  SIR: 226.997  ISR:  15.477  SAR:  10.053  \n",
      "\n"
     ]
    },
    {
     "name": "stderr",
     "output_type": "stream",
     "text": [
      " 72%|███████████████████████████████████████████████████████████                       | 36/50 [18:36<06:25, 27.53s/it]"
     ]
    },
    {
     "name": "stdout",
     "output_type": "stream",
     "text": [
      "drums           ==> SDR:   2.504  SIR: 201.299  ISR:   8.569  SAR:   0.519  \n",
      "bass            ==> SDR:   2.504  SIR: 201.299  ISR:   8.569  SAR:   0.519  \n",
      "\n"
     ]
    },
    {
     "name": "stderr",
     "output_type": "stream",
     "text": [
      " 74%|████████████████████████████████████████████████████████████▋                     | 37/50 [19:40<08:21, 38.54s/it]"
     ]
    },
    {
     "name": "stdout",
     "output_type": "stream",
     "text": [
      "drums           ==> SDR:   6.152  SIR: 233.875  ISR:  15.987  SAR:   5.225  \n",
      "bass            ==> SDR:   6.152  SIR: 233.875  ISR:  15.987  SAR:   5.225  \n",
      "\n"
     ]
    },
    {
     "name": "stderr",
     "output_type": "stream",
     "text": [
      " 76%|██████████████████████████████████████████████████████████████▎                   | 38/50 [20:13<07:21, 36.81s/it]"
     ]
    },
    {
     "name": "stdout",
     "output_type": "stream",
     "text": [
      "drums           ==> SDR:   3.757  SIR: 224.454  ISR:   8.274  SAR:   3.324  \n",
      "bass            ==> SDR:   3.757  SIR: 224.454  ISR:   8.274  SAR:   3.324  \n",
      "\n"
     ]
    },
    {
     "name": "stderr",
     "output_type": "stream",
     "text": [
      " 78%|███████████████████████████████████████████████████████████████▉                  | 39/50 [20:48<06:39, 36.27s/it]"
     ]
    },
    {
     "name": "stdout",
     "output_type": "stream",
     "text": [
      "drums           ==> SDR:   3.050  SIR: 224.717  ISR:   5.131  SAR:   2.884  \n",
      "bass            ==> SDR:   3.050  SIR: 224.717  ISR:   5.131  SAR:   2.884  \n",
      "\n"
     ]
    },
    {
     "name": "stderr",
     "output_type": "stream",
     "text": [
      " 80%|█████████████████████████████████████████████████████████████████▌                | 40/50 [21:24<06:01, 36.15s/it]"
     ]
    },
    {
     "name": "stdout",
     "output_type": "stream",
     "text": [
      "drums           ==> SDR:   5.659  SIR: 205.441  ISR:  11.815  SAR:   5.101  \n",
      "bass            ==> SDR:   5.659  SIR: 205.441  ISR:  11.815  SAR:   5.101  \n",
      "\n"
     ]
    },
    {
     "name": "stderr",
     "output_type": "stream",
     "text": [
      " 82%|███████████████████████████████████████████████████████████████████▏              | 41/50 [21:56<05:14, 34.98s/it]"
     ]
    },
    {
     "name": "stdout",
     "output_type": "stream",
     "text": [
      "drums           ==> SDR:   2.515  SIR: 175.781  ISR:   6.510  SAR:   1.343  \n",
      "bass            ==> SDR:   2.515  SIR: 175.781  ISR:   6.510  SAR:   1.343  \n",
      "\n"
     ]
    },
    {
     "name": "stderr",
     "output_type": "stream",
     "text": [
      " 84%|████████████████████████████████████████████████████████████████████▉             | 42/50 [22:28<04:33, 34.17s/it]"
     ]
    },
    {
     "name": "stdout",
     "output_type": "stream",
     "text": [
      "drums           ==> SDR:   7.504  SIR: 138.847  ISR:  15.478  SAR:   6.796  \n",
      "bass            ==> SDR:   7.504  SIR: 138.847  ISR:  15.478  SAR:   6.796  \n",
      "\n"
     ]
    },
    {
     "name": "stderr",
     "output_type": "stream",
     "text": [
      " 86%|██████████████████████████████████████████████████████████████████████▌           | 43/50 [23:03<03:59, 34.18s/it]"
     ]
    },
    {
     "name": "stdout",
     "output_type": "stream",
     "text": [
      "drums           ==> SDR:   3.693  SIR: 172.847  ISR:   9.406  SAR:   2.274  \n",
      "bass            ==> SDR:   3.693  SIR: 172.847  ISR:   9.406  SAR:   2.274  \n",
      "\n"
     ]
    },
    {
     "name": "stderr",
     "output_type": "stream",
     "text": [
      " 88%|████████████████████████████████████████████████████████████████████████▏         | 44/50 [23:33<03:18, 33.10s/it]"
     ]
    },
    {
     "name": "stdout",
     "output_type": "stream",
     "text": [
      "drums           ==> SDR:   2.951  SIR: 201.035  ISR:   4.887  SAR:   0.765  \n",
      "bass            ==> SDR:   2.951  SIR: 201.035  ISR:   4.887  SAR:   0.765  \n",
      "\n"
     ]
    },
    {
     "name": "stderr",
     "output_type": "stream",
     "text": [
      " 90%|█████████████████████████████████████████████████████████████████████████▊        | 45/50 [24:08<02:48, 33.66s/it]"
     ]
    },
    {
     "name": "stdout",
     "output_type": "stream",
     "text": [
      "drums           ==> SDR:   1.128  SIR: 197.090  ISR:   2.518  SAR:  -1.531  \n",
      "bass            ==> SDR:   1.128  SIR: 197.090  ISR:   2.518  SAR:  -1.531  \n",
      "\n"
     ]
    },
    {
     "name": "stderr",
     "output_type": "stream",
     "text": [
      " 92%|███████████████████████████████████████████████████████████████████████████▍      | 46/50 [24:41<02:13, 33.43s/it]"
     ]
    },
    {
     "name": "stdout",
     "output_type": "stream",
     "text": [
      "drums           ==> SDR:   2.408  SIR: 222.259  ISR:   6.311  SAR:  -0.288  \n",
      "bass            ==> SDR:   2.408  SIR: 222.259  ISR:   6.311  SAR:  -0.288  \n",
      "\n"
     ]
    },
    {
     "name": "stderr",
     "output_type": "stream",
     "text": [
      " 94%|█████████████████████████████████████████████████████████████████████████████     | 47/50 [24:59<01:26, 28.70s/it]"
     ]
    },
    {
     "name": "stdout",
     "output_type": "stream",
     "text": [
      "drums           ==> SDR:   8.114  SIR: 152.797  ISR:  14.481  SAR:   8.001  \n",
      "bass            ==> SDR:   8.114  SIR: 152.797  ISR:  14.481  SAR:   8.001  \n",
      "\n"
     ]
    },
    {
     "name": "stderr",
     "output_type": "stream",
     "text": [
      " 96%|██████████████████████████████████████████████████████████████████████████████▋   | 48/50 [25:31<00:59, 29.70s/it]"
     ]
    },
    {
     "name": "stdout",
     "output_type": "stream",
     "text": [
      "drums           ==> SDR:   3.584  SIR: 219.248  ISR:  10.432  SAR:   2.086  \n",
      "bass            ==> SDR:   3.584  SIR: 219.248  ISR:  10.432  SAR:   2.086  \n",
      "\n"
     ]
    },
    {
     "name": "stderr",
     "output_type": "stream",
     "text": [
      " 98%|████████████████████████████████████████████████████████████████████████████████▎ | 49/50 [26:02<00:30, 30.14s/it]"
     ]
    },
    {
     "name": "stdout",
     "output_type": "stream",
     "text": [
      "drums           ==> SDR:   8.029  SIR: 207.919  ISR:  17.917  SAR:   8.053  \n",
      "bass            ==> SDR:   8.029  SIR: 207.919  ISR:  17.917  SAR:   8.053  \n",
      "\n"
     ]
    },
    {
     "name": "stderr",
     "output_type": "stream",
     "text": [
      "100%|██████████████████████████████████████████████████████████████████████████████████| 50/50 [26:34<00:00, 31.89s/it]"
     ]
    },
    {
     "name": "stdout",
     "output_type": "stream",
     "text": [
      "drums           ==> SDR:   5.938  SIR: 210.540  ISR:  12.780  SAR:   5.523  \n",
      "bass            ==> SDR:   5.938  SIR: 210.540  ISR:  12.780  SAR:   5.523  \n",
      "\n"
     ]
    },
    {
     "name": "stderr",
     "output_type": "stream",
     "text": [
      "\n"
     ]
    }
   ],
   "source": [
    "for name in ['epoch_380', 'epoch_300','epoch_200', 'epoch_110', 'epoch_100']:\n",
    "    try:\n",
    "        try:\n",
    "            os.mkdir(f\"D:/Github/phd-drum-sep/analysis/demucs_model_analysis/results_{name}/\")\n",
    "        except:\n",
    "            pass\n",
    "    \n",
    "        model = DrumDemucs.load_from_checkpoint(f'D:/Github/phd-drum-sep/analysis/demucs_model_analysis/checkpoint/{name}.ckpt')\n",
    "        # model.to('cpu')\n",
    "        model = model.eval()\n",
    "        \n",
    "        mus = musdb.DB(root=\"D:/Github/phd-drum-sep/Data/musdb18_stems/\", subsets=\"test\") \n",
    "        \n",
    "        results = museval.EvalStore(frames_agg='median', tracks_agg='median')\n",
    "        for track in tqdm(mus):\n",
    "            path = \"D:/Github/phd-drum-sep/Data/musdb18hq/\"\n",
    "            audio_path = path + 'test/' + track.name + \"/\"\n",
    "        \n",
    "        \n",
    "            mixture_tensor = load_audio(audio_path, start_point,'mixture.wav').unsqueeze(0).to(model.device)\n",
    "            drum_tensor = load_audio(audio_path, start_point,'drums.wav').unsqueeze(0).to(model.device)\n",
    "            shape = mixture_tensor.shape[2]\n",
    "            roll_tensor = load_roll(audio_path, start_point, shape).unsqueeze(0).to(model.device)\n",
    "        \n",
    "            seperated = separate_sources(model, mixture_tensor, roll_tensor, device='cuda')\n",
    "        \n",
    "            output_path = f\"D:/Github/phd-drum-sep/analysis/demucs_model_analysis/results_{name}/\"\n",
    "            \n",
    "            audio = seperated.squeeze(0).cpu().numpy()\n",
    "            audio = np.swapaxes(audio,0,1)\n",
    "            estimates = {'drums': audio, 'bass': audio}\n",
    "        \n",
    "            d = drum_tensor.squeeze(0).cpu().numpy()\n",
    "            d = np.swapaxes(d,0,1)\n",
    "            \n",
    "            track.targets['drums'] = AudioData(d)\n",
    "            track.targets['bass'] = AudioData(d)\n",
    "            \n",
    "            scores = museval.eval_mus_track(\n",
    "                track, estimates, output_dir=f\"{output_path}\"\n",
    "            )\n",
    "        \n",
    "            print(scores)\n",
    "            results.add_track(scores)\n",
    "            # break\n",
    "        \n",
    "        results.df.to_csv(f\"{output_path}results.csv\")\n",
    "    \n",
    "        del model\n",
    "        del mus\n",
    "        gc.collect()\n",
    "    except:\n",
    "        print('error with model, skipping', name)"
   ]
  },
  {
   "cell_type": "code",
   "execution_count": null,
   "id": "ff3d97f7-2804-4b99-adcb-5adeb7dc9d7d",
   "metadata": {},
   "outputs": [],
   "source": []
  }
 ],
 "metadata": {
  "kernelspec": {
   "display_name": "Python 3 (ipykernel)",
   "language": "python",
   "name": "python3"
  },
  "language_info": {
   "codemirror_mode": {
    "name": "ipython",
    "version": 3
   },
   "file_extension": ".py",
   "mimetype": "text/x-python",
   "name": "python",
   "nbconvert_exporter": "python",
   "pygments_lexer": "ipython3",
   "version": "3.11.4"
  }
 },
 "nbformat": 4,
 "nbformat_minor": 5
}
