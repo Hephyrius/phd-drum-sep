{
 "cells": [
  {
   "cell_type": "markdown",
   "id": "20b2a3bb-3d01-4f42-bc37-dff46522af7f",
   "metadata": {},
   "source": [
    "# Imports"
   ]
  },
  {
   "cell_type": "code",
   "execution_count": 1,
   "id": "71d686e6-8847-4861-88f0-58141c363862",
   "metadata": {},
   "outputs": [],
   "source": [
    "import museval\n",
    "import pandas as pd\n",
    "import numpy as np"
   ]
  },
  {
   "cell_type": "code",
   "execution_count": 34,
   "id": "30168d3d-f6a2-4361-9fd5-3afb2d1bac21",
   "metadata": {},
   "outputs": [
    {
     "name": "stdout",
     "output_type": "stream",
     "text": [
      "=======================\n",
      "Hybrid Demucs 10s \n",
      "metric\n",
      "ISR      9.932365\n",
      "SAR      3.777670\n",
      "SDR      4.417700\n",
      "SIR    209.630760\n",
      "Name: score, dtype: float64\n",
      "=======================\n"
     ]
    }
   ],
   "source": [
    "types = ['',]\n",
    "length_s = \"10s\"\n",
    "for t in types:\n",
    "    df = pd.read_csv(f\"D:/Github/phd-drum-sep/analysis/demucs_model_analysis/results_epoch_300{t}/results.csv\")\n",
    "    results = museval.EvalStore(frames_agg='median', tracks_agg='median')\n",
    "    results.df = df\n",
    "    print(\"=======================\")\n",
    "    print(\"Hybrid Demucs\", length_s, t.replace(\"_\", \" \"))\n",
    "    print(results.agg_frames_tracks_scores()['drums'])\n",
    "    print(\"=======================\")\n",
    "\n"
   ]
  },
  {
   "cell_type": "code",
   "execution_count": null,
   "id": "88f84049-e75f-4b92-8820-5936cb5b6712",
   "metadata": {},
   "outputs": [],
   "source": []
  }
 ],
 "metadata": {
  "kernelspec": {
   "display_name": "Python 3 (ipykernel)",
   "language": "python",
   "name": "python3"
  },
  "language_info": {
   "codemirror_mode": {
    "name": "ipython",
    "version": 3
   },
   "file_extension": ".py",
   "mimetype": "text/x-python",
   "name": "python",
   "nbconvert_exporter": "python",
   "pygments_lexer": "ipython3",
   "version": "3.11.4"
  }
 },
 "nbformat": 4,
 "nbformat_minor": 5
}
