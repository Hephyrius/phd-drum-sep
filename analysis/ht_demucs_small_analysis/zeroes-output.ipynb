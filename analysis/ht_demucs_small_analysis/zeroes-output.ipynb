{
 "cells": [
  {
   "cell_type": "markdown",
   "id": "20b2a3bb-3d01-4f42-bc37-dff46522af7f",
   "metadata": {},
   "source": [
    "# Imports"
   ]
  },
  {
   "cell_type": "code",
   "execution_count": 1,
   "id": "71d686e6-8847-4861-88f0-58141c363862",
   "metadata": {},
   "outputs": [
    {
     "name": "stdout",
     "output_type": "stream",
     "text": [
      "True\n"
     ]
    }
   ],
   "source": [
    "import os\n",
    "import pywt\n",
    "import torch\n",
    "import torch.nn as nn\n",
    "import torch.nn.functional as F\n",
    "import torchaudio\n",
    "import pytorch_lightning as pl\n",
    "from torch.utils.data import DataLoader, Dataset\n",
    "from torchaudio.pipelines import HDEMUCS_HIGH_MUSDB\n",
    "import torch.optim as optim\n",
    "from torch.utils.data import Dataset, DataLoader\n",
    "import torchaudio\n",
    "import numpy as np\n",
    "import random\n",
    "from pytorch_lightning.loggers import WandbLogger\n",
    "import wandb\n",
    "import auraloss\n",
    "import collections\n",
    "from tqdm import tqdm\n",
    "import pretty_midi\n",
    "import matplotlib.pyplot as plt\n",
    "from torchaudio.pipelines import HDEMUCS_HIGH_MUSDB\n",
    "print(torch.cuda.is_available())\n",
    "import plotly.graph_objects as go\n",
    "from torch.optim import lr_scheduler\n",
    "from IPython.display import Audio\n",
    "from torchaudio.transforms import Fade\n",
    "import musdb\n",
    "import museval\n",
    "import gc\n",
    "from demucs import pretrained, htdemucs"
   ]
  },
  {
   "cell_type": "markdown",
   "id": "e1c82506-04c8-4200-9e63-26857aa176bd",
   "metadata": {},
   "source": [
    "# Set Seeds"
   ]
  },
  {
   "cell_type": "code",
   "execution_count": 2,
   "id": "db3acd3b-d177-44d3-a3f4-35140f45e48a",
   "metadata": {},
   "outputs": [],
   "source": [
    "seed_value = 3407\n",
    "torch.manual_seed(seed_value)\n",
    "random.seed(seed_value)\n",
    "np.random.seed(seed_value)\n",
    "torch.cuda.manual_seed(seed_value)\n",
    "torch.cuda.manual_seed_all(seed_value)\n",
    "torch.set_float32_matmul_precision('high')"
   ]
  },
  {
   "cell_type": "markdown",
   "id": "6182916a-aec1-4c05-8a08-4d2e44dfd979",
   "metadata": {},
   "source": [
    "# Construct Teh Datas"
   ]
  },
  {
   "cell_type": "code",
   "execution_count": 3,
   "id": "dbe5ef07-9ab9-4e3e-9334-048f67ae25e4",
   "metadata": {},
   "outputs": [],
   "source": [
    "path = \"D:/Github/phd-drum-sep/Data/musdb18hq/\""
   ]
  },
  {
   "cell_type": "code",
   "execution_count": 4,
   "id": "e101d3bb-e001-42ff-90cc-42384739d506",
   "metadata": {},
   "outputs": [
    {
     "data": {
      "text/plain": [
       "['test', 'train']"
      ]
     },
     "execution_count": 4,
     "metadata": {},
     "output_type": "execute_result"
    }
   ],
   "source": [
    "os.listdir(path)"
   ]
  },
  {
   "cell_type": "code",
   "execution_count": 5,
   "id": "c52ab99f-41d2-4b7f-a179-90681a8a0a81",
   "metadata": {},
   "outputs": [],
   "source": [
    "train = list(os.listdir(path+'train'))\n",
    "test = list(os.listdir(path+'test'))"
   ]
  },
  {
   "cell_type": "code",
   "execution_count": 6,
   "id": "21aa39ee-b25f-4bdc-950a-9389eb93765a",
   "metadata": {},
   "outputs": [],
   "source": [
    "sources = ['drum', 'bass', 'other', 'vocals']"
   ]
  },
  {
   "cell_type": "code",
   "execution_count": 7,
   "id": "f07f7f9c-2d6b-42b9-b5ac-0f4bd9aeb6a7",
   "metadata": {},
   "outputs": [
    {
     "name": "stderr",
     "output_type": "stream",
     "text": [
      "50it [00:00, 4546.57it/s]\n"
     ]
    }
   ],
   "source": [
    "all_scenes = {}\n",
    "counter = 0\n",
    "sample_rate = 44100\n",
    "segment_length = sample_rate * 1\n",
    "\n",
    "for idx, val in tqdm(enumerate(test)):\n",
    "    p = path + 'test/' + val + \"/\"\n",
    "    info = torchaudio.info(f\"{p}mixture.wav\")\n",
    "    seconds = info.num_frames // 44100\n",
    "    for i in range(0, seconds - 1, 1):\n",
    "        start_point = i * 44100\n",
    "        if start_point + 44100 < info.num_frames:\n",
    "            all_scenes[counter] = {'music_path': p, 'start_point': start_point, 'length': 44100, 'frames' : info.num_frames}\n",
    "            counter += 1"
   ]
  },
  {
   "cell_type": "code",
   "execution_count": 8,
   "id": "d6d4eb9a-f08d-4452-a4ad-b9769a218278",
   "metadata": {},
   "outputs": [],
   "source": [
    "def turn_transcription_into_roll(transcription, frames):\n",
    "    # Determine your sampling frequency (frames per second)\n",
    "    fs = 44100\n",
    "    \n",
    "    piano_roll_length = int(frames)\n",
    "    \n",
    "    # Initialize the piano roll array\n",
    "    piano_roll = np.zeros((64, piano_roll_length))\n",
    "    \n",
    "    # Fill in the piano roll array\n",
    "    for note in transcription.instruments[0].notes:\n",
    "        # Convert start and end times to frame indices\n",
    "        start_frame = int(np.floor(note.start * fs))\n",
    "        end_frame = int(np.ceil(note.end * fs))\n",
    "        \n",
    "        # Set the corresponding frames to 1 (or note.velocity for a velocity-sensitive representation)\n",
    "        piano_roll[note.pitch, start_frame:end_frame] = 1  # Or use note.velocity\n",
    "        \n",
    "    roll = np.vstack([piano_roll[35:36, :], piano_roll[38:39, :], piano_roll[42:43, :], piano_roll[47:48, :], piano_roll[49:50, :]])\n",
    "    return roll"
   ]
  },
  {
   "cell_type": "markdown",
   "id": "20988d30-a95e-4dca-ac19-a6f7cea95717",
   "metadata": {},
   "source": [
    "# model"
   ]
  },
  {
   "cell_type": "code",
   "execution_count": 9,
   "id": "b72a57b5-7115-421d-b26e-3ca3d21fef5d",
   "metadata": {},
   "outputs": [],
   "source": [
    "\n",
    "\n",
    "# # making the model\n",
    "class NewSDRLoss(nn.Module):\n",
    "    \"\"\"\n",
    "    New Signal-to-Distortion Ratio (SDR) loss module based on the MDX challenge definition.\n",
    "\n",
    "    Args:\n",
    "        reduction (str, optional): Specifies the reduction to apply to the output:\n",
    "            'none': no reduction will be applied,\n",
    "            'mean': the mean of the output will be calculated,\n",
    "            'sum': the sum of the output will be calculated. Default: 'mean'.\n",
    "    \"\"\"\n",
    "    def __init__(self, reduction='mean'):\n",
    "        super(NewSDRLoss, self).__init__()\n",
    "        self.reduction = reduction\n",
    "\n",
    "    def forward(self, estimates, references):\n",
    "        \"\"\"\n",
    "        Computes the SDR loss between the estimated and reference signals.\n",
    "\n",
    "        Args:\n",
    "            estimates (Tensor): Estimated signals, shape (batch, channels, height, width).\n",
    "            references (Tensor): Reference signals, shape (batch, channels, height, width).\n",
    "\n",
    "        Returns:\n",
    "            Tensor: The calculated SDR loss.\n",
    "        \"\"\"\n",
    "        assert references.dim() == 4 and estimates.dim() == 4, \"Inputs must be 4D tensors.\"\n",
    "\n",
    "        delta = 1e-7  # Avoid numerical errors\n",
    "        num = torch.sum(torch.square(references), dim=(2, 3))\n",
    "        den = torch.sum(torch.square(references - estimates), dim=(2, 3))\n",
    "        num += delta\n",
    "        den += delta\n",
    "        scores = 10 * torch.log10(num / den)\n",
    "\n",
    "        if self.reduction == 'mean':\n",
    "            return -scores.mean()\n",
    "        elif self.reduction == 'sum':\n",
    "            return -scores.sum()\n",
    "        else:  # 'none'\n",
    "            return -scores\n",
    "        \n",
    "class DrumHybridDemucs(pl.LightningModule):\n",
    "    def __init__(self):\n",
    "        super(DrumHybridDemucs, self).__init__()\n",
    "\n",
    "        self.loss_fn = auraloss.freq.MultiResolutionSTFTLoss(\n",
    "                    fft_sizes=[1024, 2048, 4096],\n",
    "                    hop_sizes=[256, 512, 1024],\n",
    "                    win_lengths=[1024, 2048, 4096],\n",
    "                    scale=\"mel\", \n",
    "                    n_bins=150,\n",
    "                    sample_rate=44100,\n",
    "                    device=\"cuda\"\n",
    "                )\n",
    "\n",
    "        self.loss_fn_2 = auraloss.time.SISDRLoss()\n",
    "\n",
    "        self.loss_fn_3 = torch.nn.L1Loss()\n",
    "\n",
    "        self.loss_fn_4 = NewSDRLoss()\n",
    "\n",
    "        self.loss_used = 0\n",
    "\n",
    "        sources = ['drum',\n",
    "                   'noise',\n",
    "                   ]\n",
    "        \n",
    "        self.demucs_mixer = htdemucs.HTDemucs(sources=sources, audio_channels=7)\n",
    "\n",
    "        self.out_conv = nn.Conv1d(in_channels=7, out_channels=2, kernel_size=1)\n",
    "        self.out = nn.Conv1d(in_channels=2, out_channels=2, kernel_size=1)      \n",
    "\n",
    "\n",
    "    def compute_loss(self, outputs, ref_signals):\n",
    "        # loss = self.loss_fn(outputs, ref_signals) + self.loss_fn_2(outputs, ref_signals) +  self.loss_fn_3(outputs, ref_signals)\n",
    "        loss = self.loss_fn_4(outputs.unsqueeze(2), ref_signals.unsqueeze(2))\n",
    "        return loss\n",
    "    \n",
    "    def forward(self, audio, drumroll):\n",
    "        to_mix = torch.cat([audio, drumroll], axis=1)\n",
    "        out = self.demucs_mixer(to_mix)\n",
    "        out_2 = self.out_conv(out[:, 0, :, :])\n",
    "        out_2 = self.out(out_2)\n",
    "        # out_2 = torch.tanh(out_2)\n",
    "\n",
    "        return out_2\n",
    "    \n",
    "    def training_step(self, batch, batch_idx):\n",
    "        # training_step defines the train loop. It is independent of forward\n",
    "        audio, drum, drumroll = batch\n",
    "        \n",
    "        outputs = self.forward(audio, drumroll)\n",
    "        # print(outputs.size())\n",
    "\n",
    "        if batch_idx % 256 == 0:\n",
    "            input_signal = audio[0].cpu().detach().numpy().T\n",
    "            generated_signal = outputs[0].cpu().detach().numpy().T\n",
    "            drum_signal = drum[0].cpu().detach().numpy().T \n",
    "            wandb.log({'audio_input': [wandb.Audio(input_signal, caption=\"Input\", sample_rate=44100)]})\n",
    "            wandb.log({'audio_reference': [wandb.Audio(drum_signal, caption=\"Reference\", sample_rate=44100)]})\n",
    "            wandb.log({'audio_output': [wandb.Audio(generated_signal, caption=\"Output\", sample_rate=44100)]})\n",
    "             \n",
    "            for i in range(5):\n",
    "                wandb.log({f'drum_{i + 1}': [wandb.Audio(drumroll[0].cpu().detach().numpy()[i, :], caption=\"Output\", sample_rate=44100)]})\n",
    "\n",
    "\n",
    "        loss = self.compute_loss(outputs, drum)         \n",
    "\n",
    "        self.log('train_loss', loss, on_step=True, on_epoch=True, prog_bar=True, logger=True)\n",
    "        \n",
    "        return loss\n",
    "    \n",
    "\n",
    "    def configure_optimizers(self):\n",
    "        # Define your optimizer and optionally learning rate scheduler here\n",
    "        optimizer = optim.Adam(self.parameters(), lr=0.001)\n",
    "        scheduler = lr_scheduler.StepLR(optimizer, step_size=1, gamma=0.99)\n",
    "        return [optimizer], [scheduler]\n",
    "        \n"
   ]
  },
  {
   "cell_type": "code",
   "execution_count": 10,
   "id": "79d11190-4e68-41f8-ae19-36d8199c1643",
   "metadata": {},
   "outputs": [],
   "source": [
    "def load_audio(path, start_point, filename):\n",
    "    audio_tensors = []\n",
    "    waveform, _ = torchaudio.load(f\"{path}/{filename}\")\n",
    "    return waveform\n",
    "\n",
    "def load_roll(path, start_point, frames):\n",
    "    midi = path + '/mixture.wav.mid'\n",
    "    transcription = pretty_midi.PrettyMIDI(midi)\n",
    "    roll = turn_transcription_into_roll(transcription, frames)\n",
    "\n",
    "    return torch.from_numpy(roll).float()\n"
   ]
  },
  {
   "cell_type": "markdown",
   "id": "28a00457-307d-4743-9784-9f4cdae73730",
   "metadata": {},
   "source": [
    "# SISNR"
   ]
  },
  {
   "cell_type": "code",
   "execution_count": 11,
   "id": "3873fcee-a3cb-4975-98f5-fc50e77883fa",
   "metadata": {},
   "outputs": [],
   "source": [
    "def separate_sources(\n",
    "    model,\n",
    "    mix,\n",
    "    drumroll,\n",
    "    segment=4.0,\n",
    "    overlap=0,\n",
    "    device=None,\n",
    "):\n",
    "    \"\"\"\n",
    "    Apply model to a given mixture. Use fade, and add segments together in order to add model segment by segment.\n",
    "\n",
    "    Args:\n",
    "        segment (int): segment length in seconds\n",
    "        device (torch.device, str, or None): if provided, device on which to\n",
    "            execute the computation, otherwise `mix.device` is assumed.\n",
    "            When `device` is different from `mix.device`, only local computations will\n",
    "            be on `device`, while the entire tracks will be stored on `mix.device`.\n",
    "    \"\"\"\n",
    "    if device is None:\n",
    "        device = mix.device\n",
    "    else:\n",
    "        device = torch.device(device)\n",
    "\n",
    "    batch, channels, length = mix.shape\n",
    "\n",
    "    chunk_len = int(sample_rate * segment * (1 + overlap))\n",
    "    start = 0\n",
    "    end = chunk_len\n",
    "    overlap_frames = overlap * sample_rate\n",
    "    fade = Fade(fade_in_len=0, fade_out_len=int(overlap_frames), fade_shape=\"linear\")\n",
    "\n",
    "    final = torch.zeros(batch, channels, length, device=device)\n",
    "\n",
    "    while start < length - overlap_frames:\n",
    "        chunk = mix[:, :, start:end]\n",
    "        roll = drumroll[:, :, start:end]\n",
    "        roll = torch.zeros_like(roll).to(model.device)\n",
    "        with torch.no_grad():\n",
    "            out = model.forward(chunk, roll)\n",
    "        out = fade(out)\n",
    "        final[:, :, start:end] += out\n",
    "        if start == 0:\n",
    "            fade.fade_in_len = int(overlap_frames)\n",
    "            start += int(chunk_len - overlap_frames)\n",
    "        else:\n",
    "            start += chunk_len\n",
    "        end += chunk_len\n",
    "        if end >= length:\n",
    "            fade.fade_out_len = 0\n",
    "    return final"
   ]
  },
  {
   "cell_type": "code",
   "execution_count": 12,
   "id": "b97a63a5-d58e-47db-9768-e063efd5da5a",
   "metadata": {},
   "outputs": [],
   "source": [
    "class AudioData:\n",
    "    def __init__(self, audio):\n",
    "        self.audio = audio"
   ]
  },
  {
   "cell_type": "code",
   "execution_count": 13,
   "id": "bcf06e62-3267-4faf-838f-70f14be50e92",
   "metadata": {},
   "outputs": [
    {
     "name": "stderr",
     "output_type": "stream",
     "text": [
      "C:\\Python311\\Lib\\site-packages\\pytorch_lightning\\utilities\\migration\\utils.py:55: The loaded checkpoint was produced with Lightning v2.2.1, which is newer than your current Lightning version: v2.1.2\n",
      "  2%|████                                                                                                                                                                                                    | 1/50 [00:37<30:30, 37.36s/it]"
     ]
    },
    {
     "name": "stdout",
     "output_type": "stream",
     "text": [
      "drums           ==> SDR:   0.436  SIR: 223.520  ISR:   0.981  SAR:  -3.639  \n",
      "bass            ==> SDR:   0.436  SIR: 223.520  ISR:   0.981  SAR:  -3.639  \n",
      "\n"
     ]
    },
    {
     "name": "stderr",
     "output_type": "stream",
     "text": [
      "  4%|████████                                                                                                                                                                                                | 2/50 [01:13<29:23, 36.73s/it]"
     ]
    },
    {
     "name": "stdout",
     "output_type": "stream",
     "text": [
      "drums           ==> SDR:   0.171  SIR: 177.307  ISR:   0.621  SAR:  -8.306  \n",
      "bass            ==> SDR:   0.171  SIR: 177.307  ISR:   0.621  SAR:  -8.306  \n",
      "\n"
     ]
    },
    {
     "name": "stderr",
     "output_type": "stream",
     "text": [
      "  6%|████████████                                                                                                                                                                                            | 3/50 [01:35<23:21, 29.82s/it]"
     ]
    },
    {
     "name": "stdout",
     "output_type": "stream",
     "text": [
      "drums           ==> SDR:   0.152  SIR: 223.453  ISR:   0.489  SAR:  -6.356  \n",
      "bass            ==> SDR:   0.152  SIR: 223.453  ISR:   0.489  SAR:  -6.356  \n",
      "\n"
     ]
    },
    {
     "name": "stderr",
     "output_type": "stream",
     "text": [
      "  8%|████████████████                                                                                                                                                                                        | 4/50 [02:11<24:43, 32.26s/it]"
     ]
    },
    {
     "name": "stdout",
     "output_type": "stream",
     "text": [
      "drums           ==> SDR:   1.166  SIR: 239.902  ISR:   2.794  SAR:  -1.391  \n",
      "bass            ==> SDR:   1.166  SIR: 239.902  ISR:   2.794  SAR:  -1.391  \n",
      "\n"
     ]
    },
    {
     "name": "stderr",
     "output_type": "stream",
     "text": [
      " 10%|████████████████████                                                                                                                                                                                    | 5/50 [02:53<26:58, 35.96s/it]"
     ]
    },
    {
     "name": "stdout",
     "output_type": "stream",
     "text": [
      "drums           ==> SDR:   1.346  SIR: 194.312  ISR:   2.042  SAR:  -1.514  \n",
      "bass            ==> SDR:   1.346  SIR: 194.312  ISR:   2.042  SAR:  -1.514  \n",
      "\n"
     ]
    },
    {
     "name": "stderr",
     "output_type": "stream",
     "text": [
      " 12%|████████████████████████                                                                                                                                                                                | 6/50 [03:29<26:24, 36.01s/it]"
     ]
    },
    {
     "name": "stdout",
     "output_type": "stream",
     "text": [
      "drums           ==> SDR:   0.311  SIR: 236.587  ISR:   0.572  SAR:  -5.227  \n",
      "bass            ==> SDR:   0.311  SIR: 236.587  ISR:   0.572  SAR:  -5.227  \n",
      "\n"
     ]
    },
    {
     "name": "stderr",
     "output_type": "stream",
     "text": [
      " 14%|████████████████████████████                                                                                                                                                                            | 7/50 [04:04<25:23, 35.43s/it]"
     ]
    },
    {
     "name": "stdout",
     "output_type": "stream",
     "text": [
      "drums           ==> SDR:   0.415  SIR: 192.061  ISR:   0.889  SAR:  -3.616  \n",
      "bass            ==> SDR:   0.415  SIR: 192.061  ISR:   0.889  SAR:  -3.616  \n",
      "\n"
     ]
    },
    {
     "name": "stderr",
     "output_type": "stream",
     "text": [
      " 16%|████████████████████████████████                                                                                                                                                                        | 8/50 [04:39<24:50, 35.48s/it]"
     ]
    },
    {
     "name": "stdout",
     "output_type": "stream",
     "text": [
      "drums           ==> SDR:   1.351  SIR: 241.104  ISR:   2.422  SAR:  -0.812  \n",
      "bass            ==> SDR:   1.351  SIR: 241.104  ISR:   2.422  SAR:  -0.812  \n",
      "\n"
     ]
    },
    {
     "name": "stderr",
     "output_type": "stream",
     "text": [
      " 18%|████████████████████████████████████                                                                                                                                                                    | 9/50 [05:17<24:50, 36.36s/it]"
     ]
    },
    {
     "name": "stdout",
     "output_type": "stream",
     "text": [
      "drums           ==> SDR:   0.085  SIR: 153.926  ISR:   0.179  SAR:  -7.666  \n",
      "bass            ==> SDR:   0.085  SIR: 153.926  ISR:   0.179  SAR:  -7.666  \n",
      "\n"
     ]
    },
    {
     "name": "stderr",
     "output_type": "stream",
     "text": [
      " 20%|███████████████████████████████████████▊                                                                                                                                                               | 10/50 [05:54<24:22, 36.55s/it]"
     ]
    },
    {
     "name": "stdout",
     "output_type": "stream",
     "text": [
      "drums           ==> SDR:   0.074  SIR: 215.218  ISR:   0.562  SAR: -10.655  \n",
      "bass            ==> SDR:   0.074  SIR: 215.218  ISR:   0.562  SAR: -10.655  \n",
      "\n"
     ]
    },
    {
     "name": "stderr",
     "output_type": "stream",
     "text": [
      " 22%|███████████████████████████████████████████▊                                                                                                                                                           | 11/50 [06:31<23:47, 36.59s/it]"
     ]
    },
    {
     "name": "stdout",
     "output_type": "stream",
     "text": [
      "drums           ==> SDR:   0.160  SIR: 214.233  ISR:   0.381  SAR:  -3.206  \n",
      "bass            ==> SDR:   0.160  SIR: 214.233  ISR:   0.381  SAR:  -3.206  \n",
      "\n"
     ]
    },
    {
     "name": "stderr",
     "output_type": "stream",
     "text": [
      " 24%|███████████████████████████████████████████████▊                                                                                                                                                       | 12/50 [07:05<22:39, 35.78s/it]"
     ]
    },
    {
     "name": "stdout",
     "output_type": "stream",
     "text": [
      "drums           ==> SDR:   1.172  SIR: 214.882  ISR:   1.713  SAR:  -2.963  \n",
      "bass            ==> SDR:   1.172  SIR: 214.882  ISR:   1.713  SAR:  -2.963  \n",
      "\n"
     ]
    },
    {
     "name": "stderr",
     "output_type": "stream",
     "text": [
      " 26%|███████████████████████████████████████████████████▋                                                                                                                                                   | 13/50 [07:26<19:17, 31.27s/it]"
     ]
    },
    {
     "name": "stdout",
     "output_type": "stream",
     "text": [
      "drums           ==> SDR:   0.048  SIR: 148.389  ISR:   0.060  SAR:  -6.660  \n",
      "bass            ==> SDR:   0.048  SIR: 148.389  ISR:   0.060  SAR:  -6.660  \n",
      "\n"
     ]
    },
    {
     "name": "stderr",
     "output_type": "stream",
     "text": [
      " 28%|███████████████████████████████████████████████████████▋                                                                                                                                               | 14/50 [08:03<19:51, 33.10s/it]"
     ]
    },
    {
     "name": "stdout",
     "output_type": "stream",
     "text": [
      "drums           ==> SDR:   2.045  SIR: 207.254  ISR:   3.065  SAR:   1.436  \n",
      "bass            ==> SDR:   2.045  SIR: 207.254  ISR:   3.065  SAR:   1.436  \n",
      "\n"
     ]
    },
    {
     "name": "stderr",
     "output_type": "stream",
     "text": [
      " 30%|███████████████████████████████████████████████████████████▋                                                                                                                                           | 15/50 [09:18<26:35, 45.59s/it]"
     ]
    },
    {
     "name": "stdout",
     "output_type": "stream",
     "text": [
      "drums           ==> SDR:   0.227  SIR: 235.163  ISR:   0.552  SAR:  -6.457  \n",
      "bass            ==> SDR:   0.227  SIR: 235.163  ISR:   0.552  SAR:  -6.457  \n",
      "\n"
     ]
    },
    {
     "name": "stderr",
     "output_type": "stream",
     "text": [
      " 32%|███████████████████████████████████████████████████████████████▋                                                                                                                                       | 16/50 [09:58<24:56, 44.01s/it]"
     ]
    },
    {
     "name": "stdout",
     "output_type": "stream",
     "text": [
      "drums           ==> SDR:   0.275  SIR: 213.250  ISR:   0.521  SAR:  -7.823  \n",
      "bass            ==> SDR:   0.275  SIR: 213.250  ISR:   0.521  SAR:  -7.823  \n",
      "\n"
     ]
    },
    {
     "name": "stderr",
     "output_type": "stream",
     "text": [
      " 34%|███████████████████████████████████████████████████████████████████▋                                                                                                                                   | 17/50 [10:18<20:11, 36.70s/it]"
     ]
    },
    {
     "name": "stdout",
     "output_type": "stream",
     "text": [
      "drums           ==> SDR:   0.217  SIR: 219.775  ISR:   0.538  SAR:  -9.888  \n",
      "bass            ==> SDR:   0.217  SIR: 219.775  ISR:   0.538  SAR:  -9.888  \n",
      "\n"
     ]
    },
    {
     "name": "stderr",
     "output_type": "stream",
     "text": [
      " 36%|███████████████████████████████████████████████████████████████████████▋                                                                                                                               | 18/50 [10:53<19:16, 36.15s/it]"
     ]
    },
    {
     "name": "stdout",
     "output_type": "stream",
     "text": [
      "drums           ==> SDR:   1.145  SIR: 228.149  ISR:   1.918  SAR:  -1.992  \n",
      "bass            ==> SDR:   1.145  SIR: 228.149  ISR:   1.918  SAR:  -1.992  \n",
      "\n"
     ]
    },
    {
     "name": "stderr",
     "output_type": "stream",
     "text": [
      " 38%|███████████████████████████████████████████████████████████████████████████▌                                                                                                                           | 19/50 [11:30<18:50, 36.48s/it]"
     ]
    },
    {
     "name": "stdout",
     "output_type": "stream",
     "text": [
      "drums           ==> SDR:   1.550  SIR: 217.863  ISR:   2.116  SAR:  -1.225  \n",
      "bass            ==> SDR:   1.550  SIR: 217.863  ISR:   2.116  SAR:  -1.225  \n",
      "\n"
     ]
    },
    {
     "name": "stderr",
     "output_type": "stream",
     "text": [
      " 40%|███████████████████████████████████████████████████████████████████████████████▌                                                                                                                       | 20/50 [12:09<18:33, 37.13s/it]"
     ]
    },
    {
     "name": "stdout",
     "output_type": "stream",
     "text": [
      "drums           ==> SDR:   0.375  SIR: 222.807  ISR:   0.516  SAR:  -1.662  \n",
      "bass            ==> SDR:   0.375  SIR: 222.807  ISR:   0.516  SAR:  -1.662  \n",
      "\n"
     ]
    },
    {
     "name": "stderr",
     "output_type": "stream",
     "text": [
      " 42%|███████████████████████████████████████████████████████████████████████████████████▌                                                                                                                   | 21/50 [12:47<18:11, 37.63s/it]"
     ]
    },
    {
     "name": "stdout",
     "output_type": "stream",
     "text": [
      "drums           ==> SDR:   1.057  SIR: 164.899  ISR:   1.954  SAR:  -0.864  \n",
      "bass            ==> SDR:   1.057  SIR: 164.899  ISR:   1.954  SAR:  -0.864  \n",
      "\n"
     ]
    },
    {
     "name": "stderr",
     "output_type": "stream",
     "text": [
      " 44%|███████████████████████████████████████████████████████████████████████████████████████▌                                                                                                               | 22/50 [13:22<17:07, 36.69s/it]"
     ]
    },
    {
     "name": "stdout",
     "output_type": "stream",
     "text": [
      "drums           ==> SDR:   0.063  SIR: 164.053  ISR:   0.637  SAR:  -5.382  \n",
      "bass            ==> SDR:   0.063  SIR: 164.053  ISR:   0.637  SAR:  -5.382  \n",
      "\n"
     ]
    },
    {
     "name": "stderr",
     "output_type": "stream",
     "text": [
      " 46%|███████████████████████████████████████████████████████████████████████████████████████████▌                                                                                                           | 23/50 [13:59<16:31, 36.74s/it]"
     ]
    },
    {
     "name": "stdout",
     "output_type": "stream",
     "text": [
      "drums           ==> SDR:   0.421  SIR: 163.367  ISR:   0.910  SAR:  -4.540  \n",
      "bass            ==> SDR:   0.421  SIR: 163.367  ISR:   0.910  SAR:  -4.540  \n",
      "\n"
     ]
    },
    {
     "name": "stderr",
     "output_type": "stream",
     "text": [
      " 48%|███████████████████████████████████████████████████████████████████████████████████████████████▌                                                                                                       | 24/50 [14:33<15:34, 35.96s/it]"
     ]
    },
    {
     "name": "stdout",
     "output_type": "stream",
     "text": [
      "drums           ==> SDR:   0.359  SIR: 122.746  ISR:   0.661  SAR:  -5.108  \n",
      "bass            ==> SDR:   0.359  SIR: 122.746  ISR:   0.661  SAR:  -5.108  \n",
      "\n"
     ]
    },
    {
     "name": "stderr",
     "output_type": "stream",
     "text": [
      " 50%|███████████████████████████████████████████████████████████████████████████████████████████████████▌                                                                                                   | 25/50 [15:10<15:04, 36.20s/it]"
     ]
    },
    {
     "name": "stdout",
     "output_type": "stream",
     "text": [
      "drums           ==> SDR:   0.562  SIR: 223.854  ISR:   1.171  SAR:  -3.206  \n",
      "bass            ==> SDR:   0.562  SIR: 223.854  ISR:   1.171  SAR:  -3.206  \n",
      "\n"
     ]
    },
    {
     "name": "stderr",
     "output_type": "stream",
     "text": [
      " 52%|███████████████████████████████████████████████████████████████████████████████████████████████████████▍                                                                                               | 26/50 [15:47<14:38, 36.59s/it]"
     ]
    },
    {
     "name": "stdout",
     "output_type": "stream",
     "text": [
      "drums           ==> SDR:   0.646  SIR: 150.502  ISR:   1.109  SAR:  -1.889  \n",
      "bass            ==> SDR:   0.646  SIR: 150.502  ISR:   1.109  SAR:  -1.889  \n",
      "\n"
     ]
    },
    {
     "name": "stderr",
     "output_type": "stream",
     "text": [
      " 54%|███████████████████████████████████████████████████████████████████████████████████████████████████████████▍                                                                                           | 27/50 [16:28<14:29, 37.79s/it]"
     ]
    },
    {
     "name": "stdout",
     "output_type": "stream",
     "text": [
      "drums           ==> SDR:   0.478  SIR: 160.539  ISR:   1.593  SAR:  -1.060  \n",
      "bass            ==> SDR:   0.478  SIR: 160.539  ISR:   1.593  SAR:  -1.060  \n",
      "\n"
     ]
    },
    {
     "name": "stderr",
     "output_type": "stream",
     "text": [
      " 56%|███████████████████████████████████████████████████████████████████████████████████████████████████████████████▍                                                                                       | 28/50 [16:48<11:55, 32.54s/it]"
     ]
    },
    {
     "name": "stdout",
     "output_type": "stream",
     "text": [
      "drums           ==> SDR:   1.371  SIR: 200.888  ISR:   1.823  SAR:   0.109  \n",
      "bass            ==> SDR:   1.371  SIR: 200.888  ISR:   1.823  SAR:   0.109  \n",
      "\n"
     ]
    },
    {
     "name": "stderr",
     "output_type": "stream",
     "text": [
      " 58%|███████████████████████████████████████████████████████████████████████████████████████████████████████████████████▍                                                                                   | 29/50 [16:59<09:05, 25.99s/it]"
     ]
    },
    {
     "name": "stdout",
     "output_type": "stream",
     "text": [
      "drums           ==> SDR:   0.867  SIR: 213.793  ISR:   1.254  SAR:  -1.859  \n",
      "bass            ==> SDR:   0.867  SIR: 213.793  ISR:   1.254  SAR:  -1.859  \n",
      "\n"
     ]
    },
    {
     "name": "stderr",
     "output_type": "stream",
     "text": [
      " 60%|███████████████████████████████████████████████████████████████████████████████████████████████████████████████████████▍                                                                               | 30/50 [17:35<09:39, 28.99s/it]"
     ]
    },
    {
     "name": "stdout",
     "output_type": "stream",
     "text": [
      "drums           ==> SDR:   0.742  SIR: 206.428  ISR:   1.103  SAR:  -2.414  \n",
      "bass            ==> SDR:   0.742  SIR: 206.428  ISR:   1.103  SAR:  -2.414  \n",
      "\n"
     ]
    },
    {
     "name": "stderr",
     "output_type": "stream",
     "text": [
      " 62%|███████████████████████████████████████████████████████████████████████████████████████████████████████████████████████████▍                                                                           | 31/50 [18:11<09:51, 31.12s/it]"
     ]
    },
    {
     "name": "stdout",
     "output_type": "stream",
     "text": [
      "drums           ==> SDR:   0.138  SIR: 201.555  ISR:   0.899  SAR:  -9.255  \n",
      "bass            ==> SDR:   0.138  SIR: 201.555  ISR:   0.899  SAR:  -9.255  \n",
      "\n"
     ]
    },
    {
     "name": "stderr",
     "output_type": "stream",
     "text": [
      " 64%|███████████████████████████████████████████████████████████████████████████████████████████████████████████████████████████████▎                                                                       | 32/50 [18:49<10:00, 33.36s/it]"
     ]
    },
    {
     "name": "stdout",
     "output_type": "stream",
     "text": [
      "drums           ==> SDR:   0.145  SIR: 231.680  ISR:   0.565  SAR:  -4.400  \n",
      "bass            ==> SDR:   0.145  SIR: 231.680  ISR:   0.565  SAR:  -4.400  \n",
      "\n"
     ]
    },
    {
     "name": "stderr",
     "output_type": "stream",
     "text": [
      " 66%|███████████████████████████████████████████████████████████████████████████████████████████████████████████████████████████████████▎                                                                   | 33/50 [19:29<09:56, 35.11s/it]"
     ]
    },
    {
     "name": "stdout",
     "output_type": "stream",
     "text": [
      "drums           ==> SDR:   0.097  SIR: 239.897  ISR:   0.422  SAR:  -6.970  \n",
      "bass            ==> SDR:   0.097  SIR: 239.897  ISR:   0.422  SAR:  -6.970  \n",
      "\n"
     ]
    },
    {
     "name": "stderr",
     "output_type": "stream",
     "text": [
      " 68%|███████████████████████████████████████████████████████████████████████████████████████████████████████████████████████████████████████▎                                                               | 34/50 [20:06<09:34, 35.94s/it]"
     ]
    },
    {
     "name": "stdout",
     "output_type": "stream",
     "text": [
      "drums           ==> SDR:   0.110  SIR: 235.400  ISR:   0.212  SAR:  -7.088  \n",
      "bass            ==> SDR:   0.110  SIR: 235.400  ISR:   0.212  SAR:  -7.088  \n",
      "\n"
     ]
    },
    {
     "name": "stderr",
     "output_type": "stream",
     "text": [
      " 70%|███████████████████████████████████████████████████████████████████████████████████████████████████████████████████████████████████████████▎                                                           | 35/50 [20:45<09:09, 36.61s/it]"
     ]
    },
    {
     "name": "stdout",
     "output_type": "stream",
     "text": [
      "drums           ==> SDR:   2.950  SIR: 217.837  ISR:   3.502  SAR:   1.741  \n",
      "bass            ==> SDR:   2.950  SIR: 217.837  ISR:   3.502  SAR:   1.741  \n",
      "\n"
     ]
    },
    {
     "name": "stderr",
     "output_type": "stream",
     "text": [
      " 72%|███████████████████████████████████████████████████████████████████████████████████████████████████████████████████████████████████████████████▎                                                       | 36/50 [21:07<07:30, 32.21s/it]"
     ]
    },
    {
     "name": "stdout",
     "output_type": "stream",
     "text": [
      "drums           ==> SDR:   0.288  SIR: 221.748  ISR:   0.889  SAR:  -7.752  \n",
      "bass            ==> SDR:   0.288  SIR: 221.748  ISR:   0.889  SAR:  -7.752  \n",
      "\n"
     ]
    },
    {
     "name": "stderr",
     "output_type": "stream",
     "text": [
      " 76%|███████████████████████████████████████████████████████████████████████████████████████████████████████████████████████████████████████████████████████▏                                               | 38/50 [21:45<05:26, 27.23s/it]"
     ]
    },
    {
     "name": "stdout",
     "output_type": "stream",
     "text": [
      "drums           ==> SDR:   0.321  SIR: 222.143  ISR:   0.730  SAR:  -2.806  \n",
      "bass            ==> SDR:   0.321  SIR: 222.143  ISR:   0.730  SAR:  -2.806  \n",
      "\n"
     ]
    },
    {
     "name": "stderr",
     "output_type": "stream",
     "text": [
      " 78%|███████████████████████████████████████████████████████████████████████████████████████████████████████████████████████████████████████████████████████████▏                                           | 39/50 [22:26<05:45, 31.41s/it]"
     ]
    },
    {
     "name": "stdout",
     "output_type": "stream",
     "text": [
      "drums           ==> SDR:   0.207  SIR: 228.472  ISR:   0.406  SAR:  -4.034  \n",
      "bass            ==> SDR:   0.207  SIR: 228.472  ISR:   0.406  SAR:  -4.034  \n",
      "\n"
     ]
    },
    {
     "name": "stderr",
     "output_type": "stream",
     "text": [
      " 80%|███████████████████████████████████████████████████████████████████████████████████████████████████████████████████████████████████████████████████████████████▏                                       | 40/50 [23:07<05:43, 34.33s/it]"
     ]
    },
    {
     "name": "stdout",
     "output_type": "stream",
     "text": [
      "drums           ==> SDR:   0.163  SIR: 182.969  ISR:   0.291  SAR:  -8.367  \n",
      "bass            ==> SDR:   0.163  SIR: 182.969  ISR:   0.291  SAR:  -8.367  \n",
      "\n"
     ]
    },
    {
     "name": "stderr",
     "output_type": "stream",
     "text": [
      " 82%|███████████████████████████████████████████████████████████████████████████████████████████████████████████████████████████████████████████████████████████████████▏                                   | 41/50 [23:44<05:14, 34.98s/it]"
     ]
    },
    {
     "name": "stdout",
     "output_type": "stream",
     "text": [
      "drums           ==> SDR:   0.271  SIR: 167.690  ISR:   0.723  SAR:  -7.013  \n",
      "bass            ==> SDR:   0.271  SIR: 167.690  ISR:   0.723  SAR:  -7.013  \n",
      "\n"
     ]
    },
    {
     "name": "stderr",
     "output_type": "stream",
     "text": [
      " 84%|███████████████████████████████████████████████████████████████████████████████████████████████████████████████████████████████████████████████████████████████████████▏                               | 42/50 [24:20<04:43, 35.39s/it]"
     ]
    },
    {
     "name": "stdout",
     "output_type": "stream",
     "text": [
      "drums           ==> SDR:   0.617  SIR: 136.288  ISR:   1.076  SAR:  -3.177  \n",
      "bass            ==> SDR:   0.617  SIR: 136.288  ISR:   1.076  SAR:  -3.177  \n",
      "\n"
     ]
    },
    {
     "name": "stderr",
     "output_type": "stream",
     "text": [
      " 86%|███████████████████████████████████████████████████████████████████████████████████████████████████████████████████████████████████████████████████████████████████████████▏                           | 43/50 [25:01<04:18, 36.87s/it]"
     ]
    },
    {
     "name": "stdout",
     "output_type": "stream",
     "text": [
      "drums           ==> SDR:   0.102  SIR: 160.843  ISR:   0.455  SAR:  -7.763  \n",
      "bass            ==> SDR:   0.102  SIR: 160.843  ISR:   0.455  SAR:  -7.763  \n",
      "\n"
     ]
    },
    {
     "name": "stderr",
     "output_type": "stream",
     "text": [
      " 88%|███████████████████████████████████████████████████████████████████████████████████████████████████████████████████████████████████████████████████████████████████████████████                        | 44/50 [25:36<03:39, 36.51s/it]"
     ]
    },
    {
     "name": "stdout",
     "output_type": "stream",
     "text": [
      "drums           ==> SDR:   0.082  SIR: 197.456  ISR:   0.185  SAR:  -7.053  \n",
      "bass            ==> SDR:   0.082  SIR: 197.456  ISR:   0.185  SAR:  -7.053  \n",
      "\n"
     ]
    },
    {
     "name": "stderr",
     "output_type": "stream",
     "text": [
      " 90%|███████████████████████████████████████████████████████████████████████████████████████████████████████████████████████████████████████████████████████████████████████████████████                    | 45/50 [26:18<03:10, 38.00s/it]"
     ]
    },
    {
     "name": "stdout",
     "output_type": "stream",
     "text": [
      "drums           ==> SDR:   0.062  SIR: 195.770  ISR:   0.116  SAR:  -8.588  \n",
      "bass            ==> SDR:   0.062  SIR: 195.770  ISR:   0.116  SAR:  -8.588  \n",
      "\n"
     ]
    },
    {
     "name": "stderr",
     "output_type": "stream",
     "text": [
      " 92%|███████████████████████████████████████████████████████████████████████████████████████████████████████████████████████████████████████████████████████████████████████████████████████                | 46/50 [26:55<02:30, 37.72s/it]"
     ]
    },
    {
     "name": "stdout",
     "output_type": "stream",
     "text": [
      "drums           ==> SDR:   0.283  SIR: 217.670  ISR:   0.975  SAR:  -8.381  \n",
      "bass            ==> SDR:   0.283  SIR: 217.670  ISR:   0.975  SAR:  -8.381  \n",
      "\n"
     ]
    },
    {
     "name": "stderr",
     "output_type": "stream",
     "text": [
      " 94%|███████████████████████████████████████████████████████████████████████████████████████████████████████████████████████████████████████████████████████████████████████████████████████████            | 47/50 [27:15<01:37, 32.45s/it]"
     ]
    },
    {
     "name": "stdout",
     "output_type": "stream",
     "text": [
      "drums           ==> SDR:   0.176  SIR: 136.188  ISR:   0.231  SAR:  -5.580  \n",
      "bass            ==> SDR:   0.176  SIR: 136.188  ISR:   0.231  SAR:  -5.580  \n",
      "\n"
     ]
    },
    {
     "name": "stderr",
     "output_type": "stream",
     "text": [
      " 96%|███████████████████████████████████████████████████████████████████████████████████████████████████████████████████████████████████████████████████████████████████████████████████████████████        | 48/50 [27:51<01:07, 33.58s/it]"
     ]
    },
    {
     "name": "stdout",
     "output_type": "stream",
     "text": [
      "drums           ==> SDR:   0.215  SIR: 201.013  ISR:   0.480  SAR:  -8.609  \n",
      "bass            ==> SDR:   0.215  SIR: 201.013  ISR:   0.480  SAR:  -8.609  \n",
      "\n"
     ]
    },
    {
     "name": "stderr",
     "output_type": "stream",
     "text": [
      " 98%|███████████████████████████████████████████████████████████████████████████████████████████████████████████████████████████████████████████████████████████████████████████████████████████████████    | 49/50 [28:27<00:34, 34.20s/it]"
     ]
    },
    {
     "name": "stdout",
     "output_type": "stream",
     "text": [
      "drums           ==> SDR:   1.451  SIR: 211.670  ISR:   2.214  SAR:  -2.594  \n",
      "bass            ==> SDR:   1.451  SIR: 211.670  ISR:   2.214  SAR:  -2.594  \n",
      "\n"
     ]
    },
    {
     "name": "stderr",
     "output_type": "stream",
     "text": [
      "100%|███████████████████████████████████████████████████████████████████████████████████████████████████████████████████████████████████████████████████████████████████████████████████████████████████████| 50/50 [29:03<00:00, 34.88s/it]"
     ]
    },
    {
     "name": "stdout",
     "output_type": "stream",
     "text": [
      "drums           ==> SDR:   0.452  SIR: 203.582  ISR:   0.859  SAR:  -4.280  \n",
      "bass            ==> SDR:   0.452  SIR: 203.582  ISR:   0.859  SAR:  -4.280  \n",
      "\n"
     ]
    },
    {
     "name": "stderr",
     "output_type": "stream",
     "text": [
      "\n"
     ]
    }
   ],
   "source": [
    "for name in ['epoch_280']:\n",
    "    try:\n",
    "        try:\n",
    "            os.mkdir(f\"D:/Github/phd-drum-sep/analysis/ht_demucs_small_analysis/results_{name}_zeros/\")\n",
    "        except:\n",
    "            pass\n",
    "    \n",
    "        model = DrumHybridDemucs.load_from_checkpoint(f'D:/Github/phd-drum-sep/analysis/ht_demucs_small_analysis/checkpoint/{name}.ckpt')\n",
    "        # model.to('cpu')\n",
    "        model = model.eval()\n",
    "        \n",
    "        mus = musdb.DB(root=\"D:/Github/phd-drum-sep/Data/musdb18_stems/\", subsets=\"test\") \n",
    "        \n",
    "        results = museval.EvalStore(frames_agg='median', tracks_agg='median')\n",
    "        for track in tqdm(mus):\n",
    "            try:\n",
    "                path = \"D:/Github/phd-drum-sep/Data/musdb18hq/\"\n",
    "                audio_path = path + 'test/' + track.name + \"/\"\n",
    "            \n",
    "            \n",
    "                mixture_tensor = load_audio(audio_path, start_point,'mixture.wav').unsqueeze(0).to(model.device)\n",
    "                drum_tensor = load_audio(audio_path, start_point,'drums.wav').unsqueeze(0).to(model.device)\n",
    "                shape = mixture_tensor.shape[2]\n",
    "                roll_tensor = load_roll(audio_path, start_point, shape).unsqueeze(0).to(model.device)\n",
    "            \n",
    "                seperated = separate_sources(model, mixture_tensor, roll_tensor, device='cuda')\n",
    "            \n",
    "                output_path = f\"D:/Github/phd-drum-sep/analysis/ht_demucs_small_analysis/results_{name}_zeros/\"\n",
    "                \n",
    "                audio = seperated.squeeze(0).cpu().numpy()\n",
    "                audio = np.swapaxes(audio,0,1)\n",
    "                estimates = {'drums': audio, 'bass': audio}\n",
    "            \n",
    "                d = drum_tensor.squeeze(0).cpu().numpy()\n",
    "                d = np.swapaxes(d,0,1)\n",
    "                \n",
    "                track.targets['drums'] = AudioData(d)\n",
    "                track.targets['bass'] = AudioData(d)\n",
    "                \n",
    "                scores = museval.eval_mus_track(\n",
    "                    track, estimates, output_dir=f\"{output_path}\"\n",
    "                )\n",
    "            \n",
    "                print(scores)\n",
    "                results.add_track(scores)\n",
    "                gc.collect()\n",
    "                # break\n",
    "            except:\n",
    "                pass\n",
    "        \n",
    "        results.df.to_csv(f\"{output_path}results.csv\")\n",
    "    \n",
    "        del model\n",
    "        del mus\n",
    "        \n",
    "    except Exception as e:\n",
    "        print('error with model, skipping', name, e)"
   ]
  },
  {
   "cell_type": "code",
   "execution_count": 14,
   "id": "ff3d97f7-2804-4b99-adcb-5adeb7dc9d7d",
   "metadata": {},
   "outputs": [
    {
     "data": {
      "text/plain": [
       "target  metric\n",
       "bass    ISR         0.729700\n",
       "        SAR        -4.400030\n",
       "        SDR         0.310790\n",
       "        SIR       211.669875\n",
       "drums   ISR         0.729700\n",
       "        SAR        -4.400030\n",
       "        SDR         0.310790\n",
       "        SIR       211.669875\n",
       "Name: score, dtype: float64"
      ]
     },
     "execution_count": 14,
     "metadata": {},
     "output_type": "execute_result"
    }
   ],
   "source": [
    "results.agg_frames_tracks_scores()"
   ]
  },
  {
   "cell_type": "code",
   "execution_count": null,
   "id": "1ffc2290-2b3a-4c3c-bc2d-772853311415",
   "metadata": {},
   "outputs": [],
   "source": []
  }
 ],
 "metadata": {
  "kernelspec": {
   "display_name": "Python 3 (ipykernel)",
   "language": "python",
   "name": "python3"
  },
  "language_info": {
   "codemirror_mode": {
    "name": "ipython",
    "version": 3
   },
   "file_extension": ".py",
   "mimetype": "text/x-python",
   "name": "python",
   "nbconvert_exporter": "python",
   "pygments_lexer": "ipython3",
   "version": "3.11.4"
  }
 },
 "nbformat": 4,
 "nbformat_minor": 5
}
