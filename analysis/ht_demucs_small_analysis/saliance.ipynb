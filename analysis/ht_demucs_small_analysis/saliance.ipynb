{
 "cells": [
  {
   "cell_type": "code",
   "execution_count": 8,
   "id": "72868c9b-bbde-4408-b7cf-8be3d8316d49",
   "metadata": {},
   "outputs": [],
   "source": [
    "import pandas as pd\n",
    "import numpy as np"
   ]
  },
  {
   "cell_type": "code",
   "execution_count": 9,
   "id": "205cd6f5-15ff-445d-ab1d-10608875f862",
   "metadata": {},
   "outputs": [],
   "source": [
    "df = pd.read_csv(\"D:/Github/phd-drum-sep/analysis/ht_demucs_small_analysis/saliance.csv\")"
   ]
  },
  {
   "cell_type": "code",
   "execution_count": 23,
   "id": "c90b4f1d-1940-4e16-b793-4e212a0efced",
   "metadata": {},
   "outputs": [
    {
     "data": {
      "text/plain": [
       "(0.015431061803851976, 0.01575893554021823)"
      ]
     },
     "execution_count": 23,
     "metadata": {},
     "output_type": "execute_result"
    }
   ],
   "source": [
    "np.mean(list(df['l'])), np.mean(list(df['r']))"
   ]
  },
  {
   "cell_type": "code",
   "execution_count": 24,
   "id": "a95d3b2a-88e1-4cab-83db-39e472d66f14",
   "metadata": {},
   "outputs": [
    {
     "data": {
      "text/plain": [
       "(0.0107605224475264, 0.0110063049942255)"
      ]
     },
     "execution_count": 24,
     "metadata": {},
     "output_type": "execute_result"
    }
   ],
   "source": [
    "np.median(list(df['l'])), np.median(list(df['r'])), "
   ]
  },
  {
   "cell_type": "code",
   "execution_count": 25,
   "id": "a7a4585f-179a-45a5-adbd-d3c41c1121a0",
   "metadata": {},
   "outputs": [
    {
     "data": {
      "text/plain": [
       "(0.002262930098970405,\n",
       " 0.005586442415339613,\n",
       " 0.001765127485728555,\n",
       " 0.0032553798663081082,\n",
       " 0.0023625259942113867)"
      ]
     },
     "execution_count": 25,
     "metadata": {},
     "output_type": "execute_result"
    }
   ],
   "source": [
    "np.mean(list(df['d1'])), np.mean(list(df['d2'])), np.mean(list(df['d3'])), np.mean(list(df['d4'])), np.mean(list(df['d5']))"
   ]
  },
  {
   "cell_type": "code",
   "execution_count": 26,
   "id": "add0872c-2f2b-4730-972d-b1aceaaffd25",
   "metadata": {},
   "outputs": [
    {
     "data": {
      "text/plain": [
       "(0.0015201978385448,\n",
       " 0.003827377455309,\n",
       " 0.0011811369331553,\n",
       " 0.002212333260104,\n",
       " 0.0016020543407648)"
      ]
     },
     "execution_count": 26,
     "metadata": {},
     "output_type": "execute_result"
    }
   ],
   "source": [
    "np.median(list(df['d1'])), np.median(list(df['d2'])), np.median(list(df['d3'])), np.median(list(df['d4'])), np.median(list(df['d5']))"
   ]
  }
 ],
 "metadata": {
  "kernelspec": {
   "display_name": "Python 3 (ipykernel)",
   "language": "python",
   "name": "python3"
  },
  "language_info": {
   "codemirror_mode": {
    "name": "ipython",
    "version": 3
   },
   "file_extension": ".py",
   "mimetype": "text/x-python",
   "name": "python",
   "nbconvert_exporter": "python",
   "pygments_lexer": "ipython3",
   "version": "3.11.4"
  }
 },
 "nbformat": 4,
 "nbformat_minor": 5
}
