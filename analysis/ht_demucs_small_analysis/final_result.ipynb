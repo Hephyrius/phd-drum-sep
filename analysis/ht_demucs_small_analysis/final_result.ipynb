{
 "cells": [
  {
   "cell_type": "markdown",
   "id": "20b2a3bb-3d01-4f42-bc37-dff46522af7f",
   "metadata": {},
   "source": [
    "# Imports"
   ]
  },
  {
   "cell_type": "code",
   "execution_count": 1,
   "id": "71d686e6-8847-4861-88f0-58141c363862",
   "metadata": {},
   "outputs": [],
   "source": [
    "import museval\n",
    "import pandas as pd\n",
    "import numpy as np"
   ]
  },
  {
   "cell_type": "code",
   "execution_count": 16,
   "id": "30168d3d-f6a2-4361-9fd5-3afb2d1bac21",
   "metadata": {},
   "outputs": [
    {
     "name": "stdout",
     "output_type": "stream",
     "text": [
      "=======================\n",
      "HT Demucs 4s \n",
      "metric\n",
      "ISR      9.435018\n",
      "SAR      4.448092\n",
      "SDR      4.740787\n",
      "SIR    211.934147\n",
      "Name: score, dtype: float64\n",
      "=======================\n",
      "=======================\n",
      "HT Demucs 4s  32\n",
      "metric\n",
      "ISR      9.156350\n",
      "SAR      4.278150\n",
      "SDR      4.849710\n",
      "SIR    209.718015\n",
      "Name: score, dtype: float64\n",
      "=======================\n",
      "=======================\n",
      "HT Demucs 4s  zeros\n",
      "metric\n",
      "ISR      0.729700\n",
      "SAR     -4.400030\n",
      "SDR      0.310790\n",
      "SIR    211.669875\n",
      "Name: score, dtype: float64\n",
      "=======================\n",
      "=======================\n",
      "HT Demucs 4s  ones\n",
      "metric\n",
      "ISR     10.165520\n",
      "SAR      2.489147\n",
      "SDR      3.602670\n",
      "SIR    210.914925\n",
      "Name: score, dtype: float64\n",
      "=======================\n",
      "=======================\n",
      "HT Demucs 4s  finder\n",
      "metric\n",
      "ISR      8.48357\n",
      "SAR      4.30792\n",
      "SDR      5.36741\n",
      "SIR    212.35154\n",
      "Name: score, dtype: float64\n",
      "=======================\n",
      "=======================\n",
      "HT Demucs 4s  finder rerun\n",
      "metric\n",
      "ISR      9.540975\n",
      "SAR      4.236210\n",
      "SDR      5.056980\n",
      "SIR    211.370430\n",
      "Name: score, dtype: float64\n",
      "=======================\n"
     ]
    }
   ],
   "source": [
    "types = ['', '_32', '_zeros', '_ones', '_finder', '_finder_rerun']\n",
    "length_s = \"4s\"\n",
    "for t in types:\n",
    "    df = pd.read_csv(f\"D:/Github/phd-drum-sep/analysis/ht_demucs_small_analysis/results_epoch_280{t}/results.csv\")\n",
    "    results = museval.EvalStore(frames_agg='median', tracks_agg='median')\n",
    "    results.df = df\n",
    "    print(\"=======================\")\n",
    "    print(\"HT Demucs\", length_s, t.replace(\"_\", \" \"))\n",
    "    print(results.agg_frames_tracks_scores()['drums'])\n",
    "    print(\"=======================\")\n"
   ]
  },
  {
   "cell_type": "code",
   "execution_count": null,
   "id": "f425b863-ae4e-446e-8810-327e5f50bdf5",
   "metadata": {},
   "outputs": [],
   "source": []
  }
 ],
 "metadata": {
  "kernelspec": {
   "display_name": "Python 3 (ipykernel)",
   "language": "python",
   "name": "python3"
  },
  "language_info": {
   "codemirror_mode": {
    "name": "ipython",
    "version": 3
   },
   "file_extension": ".py",
   "mimetype": "text/x-python",
   "name": "python",
   "nbconvert_exporter": "python",
   "pygments_lexer": "ipython3",
   "version": "3.11.4"
  }
 },
 "nbformat": 4,
 "nbformat_minor": 5
}
