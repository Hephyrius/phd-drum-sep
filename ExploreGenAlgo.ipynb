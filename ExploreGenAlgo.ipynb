{
 "cells": [
  {
   "cell_type": "code",
   "execution_count": 1,
   "id": "89628be7-ffc0-47f6-ae71-9470292c6a40",
   "metadata": {},
   "outputs": [],
   "source": [
    "import torch\n",
    "import numpy as np"
   ]
  },
  {
   "cell_type": "code",
   "execution_count": 2,
   "id": "1fb626d0-b099-4387-8061-951a481243f6",
   "metadata": {},
   "outputs": [],
   "source": [
    "def expand(x):\n",
    "    output_tensor = torch.zeros((5, 44100))\n",
    "    for i in range(x.shape[1]):  # Iterate over the second dimension\n",
    "        start_idx = i * 4410\n",
    "        end_idx = start_idx + 4410\n",
    "        output_tensor[:, start_idx:end_idx] = x[:, i].unsqueeze(1)\n",
    "    return output_tensor"
   ]
  },
  {
   "cell_type": "code",
   "execution_count": 3,
   "id": "575e4613-4c0d-490b-aebd-7e4fb65573dc",
   "metadata": {},
   "outputs": [],
   "source": [
    "def tournament_selection(population, losses, tournament_size=3):\n",
    "    \"\"\"\n",
    "    Selects two parents using tournament selection.\n",
    "\n",
    "    Args:\n",
    "    - population (list of Tensors): The population from which to select parents.\n",
    "    - losses (list of floats): The loss associated with each individual in the population, serving as a measure of fitness.\n",
    "    - tournament_size (int): The number of individuals to sample for each tournament.\n",
    "\n",
    "    Returns:\n",
    "    - parent1, parent2 (tuple of Tensors): Two selected parents from the population.\n",
    "    \"\"\"\n",
    "    population_size = len(population)\n",
    "\n",
    "    # Tournament 1\n",
    "    indices = np.random.choice(range(population_size), size=tournament_size, replace=False)\n",
    "    tournament_losses = [losses[i] for i in indices]\n",
    "    winner_index = indices[np.argmin(tournament_losses)]\n",
    "    parent1 = population[winner_index]\n",
    "\n",
    "    # Tournament 2\n",
    "    indices = np.random.choice(range(population_size), size=tournament_size, replace=False)\n",
    "    tournament_losses = [losses[i] for i in indices]\n",
    "    winner_index = indices[np.argmin(tournament_losses)]\n",
    "    parent2 = population[winner_index]\n",
    "\n",
    "    return parent1, parent2"
   ]
  },
  {
   "cell_type": "code",
   "execution_count": 4,
   "id": "3e09eccc-54b6-43d7-b29d-a679b951a706",
   "metadata": {},
   "outputs": [],
   "source": [
    "def crossover(parent1, parent2):\n",
    "    mask = torch.randint(0, 2, size=parent1.shape, dtype=torch.bool)\n",
    "    offspring = torch.where(mask, parent1, parent2)\n",
    "    return offspring"
   ]
  },
  {
   "cell_type": "code",
   "execution_count": 5,
   "id": "9395b8ae-fa19-4d1a-a964-f66566a92bf6",
   "metadata": {},
   "outputs": [],
   "source": [
    "def adaptive_mutation_rate(current_iteration, max_iterations, start_rate=0.1, end_rate=0.01):\n",
    "    \"\"\"\n",
    "    Calculates an adaptive mutation rate that decreases from start_rate to end_rate over time.\n",
    "\n",
    "    Args:\n",
    "    - current_iteration (int): The current iteration number (should start from 0).\n",
    "    - max_iterations (int): The total number of iterations the algorithm will run.\n",
    "    - start_rate (float): The initial mutation rate at the start of the algorithm.\n",
    "    - end_rate (float): The final mutation rate at the end of the algorithm.\n",
    "\n",
    "    Returns:\n",
    "    - float: The calculated mutation rate for the current iteration.\n",
    "    \"\"\"\n",
    "    # Linear decay\n",
    "    rate = start_rate - ((start_rate - end_rate) * (current_iteration / max_iterations))\n",
    "    \n",
    "    # Ensure the rate never falls below the end_rate\n",
    "    return max(rate, end_rate)\n"
   ]
  },
  {
   "cell_type": "code",
   "execution_count": 6,
   "id": "9950ea78-47f1-4719-a443-b788a0c25839",
   "metadata": {},
   "outputs": [],
   "source": [
    "n_iters = 100\n",
    "population_size = 16\n",
    "elite_size = 2  # Number of elites to carry over to the next generation\n",
    "shape = (5,40)\n"
   ]
  },
  {
   "cell_type": "code",
   "execution_count": 7,
   "id": "d3059b70-6270-40b4-8a48-4d9f64c7aa42",
   "metadata": {},
   "outputs": [
    {
     "name": "stdout",
     "output_type": "stream",
     "text": [
      "Iteration 0, Loss: 0.3199999928474426\n",
      "Iteration 6, Loss: 0.30000001192092896\n",
      "Iteration 8, Loss: 0.2800000011920929\n",
      "Iteration 18, Loss: 0.25999999046325684\n",
      "Iteration 21, Loss: 0.23999999463558197\n"
     ]
    }
   ],
   "source": [
    "solution = torch.randn(shape).clamp(0, 1)\n",
    "solution = torch.where(solution < 0.5, torch.tensor(1), torch.tensor(0))\n",
    "\n",
    "population = []\n",
    "for i in range(16):\n",
    "    candidates = torch.randint_like(solution, low=0, high=1)\n",
    "    population.append(candidates)\n",
    "    \n",
    "best_loss = 10000000000\n",
    "best_solution = []\n",
    "\n",
    "for iteration in range(n_iters):\n",
    "    \n",
    "    losses = []\n",
    "    for i in range(16):\n",
    "        proposed = torch.where(population[i] < 0.5, torch.tensor(1), torch.tensor(0))\n",
    "        proposed = expand(proposed).unsqueeze(0)\n",
    "        y = expand(solution).unsqueeze(0)\n",
    "    \n",
    "        loss = torch.nn.functional.l1_loss(y, proposed).item()\n",
    "        losses.append(loss)\n",
    "\n",
    "    sorted_indices = np.argsort(losses)\n",
    "    sorted_population = [population[i] for i in sorted_indices]\n",
    "    sorted_losses = [losses[i] for i in sorted_indices]\n",
    "\n",
    "    # Update best solution if found\n",
    "    if sorted_losses[0] < best_loss:\n",
    "        best_loss = sorted_losses[0]\n",
    "        best_solution = sorted_population[0]\n",
    "        print(f\"Iteration {iteration}, Loss: {best_loss}\")\n",
    "\n",
    "\n",
    "    # Elitism: Carry over the best solutions unchanged\n",
    "    new_population = sorted_population[:elite_size]\n",
    "    \n",
    "     # Fill the rest of the new population\n",
    "    while len(new_population) < population_size:\n",
    "        # Tournament selection for parent selection\n",
    "        parent1, parent2 = tournament_selection(sorted_population, sorted_losses)\n",
    "\n",
    "        # Crossover to produce offspring\n",
    "        offspring1 = crossover(parent1, parent2)\n",
    "        offspring2 = crossover(parent2, parent1)\n",
    "\n",
    "        # Adaptive mutation rate\n",
    "        mutation_rate = adaptive_mutation_rate(iteration, n_iters)\n",
    "\n",
    "        # Mutation for offspring\n",
    "        for offspring in [offspring1, offspring2]:\n",
    "            if len(new_population) < population_size:  # Check if there's still space in the new population\n",
    "                if torch.rand(1) < mutation_rate:\n",
    "                    mutation = torch.randint(-1, 2, size=offspring.shape)\n",
    "                    mutated_offspring = offspring + mutation\n",
    "                    mutated_offspring = mutated_offspring.clamp(0, 1)\n",
    "                    new_population.append(mutated_offspring)\n",
    "\n",
    "    # Update population for the next iteration\n",
    "    population = new_population\n"
   ]
  },
  {
   "cell_type": "code",
   "execution_count": null,
   "id": "8719bd3c-cf63-459b-bbce-379cf01337e2",
   "metadata": {},
   "outputs": [],
   "source": []
  }
 ],
 "metadata": {
  "kernelspec": {
   "display_name": "Python 3 (ipykernel)",
   "language": "python",
   "name": "python3"
  },
  "language_info": {
   "codemirror_mode": {
    "name": "ipython",
    "version": 3
   },
   "file_extension": ".py",
   "mimetype": "text/x-python",
   "name": "python",
   "nbconvert_exporter": "python",
   "pygments_lexer": "ipython3",
   "version": "3.11.4"
  }
 },
 "nbformat": 4,
 "nbformat_minor": 5
}
