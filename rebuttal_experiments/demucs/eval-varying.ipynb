{
 "cells": [
  {
   "cell_type": "markdown",
   "id": "20b2a3bb-3d01-4f42-bc37-dff46522af7f",
   "metadata": {},
   "source": [
    "# Imports"
   ]
  },
  {
   "cell_type": "code",
   "execution_count": 1,
   "id": "71d686e6-8847-4861-88f0-58141c363862",
   "metadata": {},
   "outputs": [
    {
     "name": "stdout",
     "output_type": "stream",
     "text": [
      "True\n"
     ]
    }
   ],
   "source": [
    "import os\n",
    "import pywt\n",
    "import torch\n",
    "import torch.nn as nn\n",
    "import torch.nn.functional as F\n",
    "import torchaudio\n",
    "import pytorch_lightning as pl\n",
    "from torch.utils.data import DataLoader, Dataset\n",
    "from torchaudio.pipelines import HDEMUCS_HIGH_MUSDB\n",
    "import torch.optim as optim\n",
    "from torch.utils.data import Dataset, DataLoader\n",
    "import torchaudio\n",
    "import numpy as np\n",
    "import random\n",
    "from pytorch_lightning.loggers import WandbLogger\n",
    "import wandb\n",
    "import auraloss\n",
    "import collections\n",
    "from tqdm import tqdm\n",
    "import pretty_midi\n",
    "import matplotlib.pyplot as plt\n",
    "from torchaudio.pipelines import HDEMUCS_HIGH_MUSDB\n",
    "print(torch.cuda.is_available())\n",
    "import plotly.graph_objects as go\n",
    "from torch.optim import lr_scheduler\n",
    "from IPython.display import Audio\n",
    "from torchaudio.transforms import Fade\n",
    "import musdb\n",
    "import museval\n",
    "import gc"
   ]
  },
  {
   "cell_type": "code",
   "execution_count": 2,
   "id": "275ddd3f-aa3d-4444-8ddd-c8874bac940c",
   "metadata": {},
   "outputs": [
    {
     "name": "stdout",
     "output_type": "stream",
     "text": [
      "True\n"
     ]
    }
   ],
   "source": [
    "\n",
    "import os\n",
    "import torch\n",
    "import torch.nn as nn\n",
    "import torch.nn.functional as F\n",
    "import torchaudio\n",
    "import pytorch_lightning as pl\n",
    "from torch.utils.data import DataLoader, Dataset\n",
    "from torchaudio.pipelines import HDEMUCS_HIGH_MUSDB\n",
    "import torch.optim as optim\n",
    "from torch.utils.data import Dataset, DataLoader\n",
    "import torchaudio\n",
    "import numpy as np\n",
    "import random\n",
    "from pytorch_lightning.loggers import WandbLogger\n",
    "import subprocess\n",
    "import wandb\n",
    "import auraloss\n",
    "import collections\n",
    "from tqdm import tqdm\n",
    "import librosa\n",
    "from torchaudio.pipelines import HDEMUCS_HIGH_MUSDB\n",
    "print(torch.cuda.is_available())\n",
    "from torch.optim import lr_scheduler\n",
    "import pretty_midi\n",
    "from typing import Optional, Tuple\n",
    "import numpy as np\n",
    "import random"
   ]
  },
  {
   "cell_type": "markdown",
   "id": "e1c82506-04c8-4200-9e63-26857aa176bd",
   "metadata": {},
   "source": [
    "# Set Seeds"
   ]
  },
  {
   "cell_type": "code",
   "execution_count": 3,
   "id": "db3acd3b-d177-44d3-a3f4-35140f45e48a",
   "metadata": {},
   "outputs": [],
   "source": [
    "seed_value = 3407\n",
    "torch.manual_seed(seed_value)\n",
    "random.seed(seed_value)\n",
    "np.random.seed(seed_value)\n",
    "torch.cuda.manual_seed(seed_value)\n",
    "torch.cuda.manual_seed_all(seed_value)\n",
    "torch.set_float32_matmul_precision('high')"
   ]
  },
  {
   "cell_type": "markdown",
   "id": "6182916a-aec1-4c05-8a08-4d2e44dfd979",
   "metadata": {},
   "source": [
    "# Construct Teh Datas"
   ]
  },
  {
   "cell_type": "code",
   "execution_count": 4,
   "id": "dbe5ef07-9ab9-4e3e-9334-048f67ae25e4",
   "metadata": {},
   "outputs": [],
   "source": [
    "path = \"D:/Github/phd-drum-sep/Data/musdb18hq/\""
   ]
  },
  {
   "cell_type": "code",
   "execution_count": 5,
   "id": "e101d3bb-e001-42ff-90cc-42384739d506",
   "metadata": {},
   "outputs": [
    {
     "data": {
      "text/plain": [
       "['test', 'train']"
      ]
     },
     "execution_count": 5,
     "metadata": {},
     "output_type": "execute_result"
    }
   ],
   "source": [
    "os.listdir(path)"
   ]
  },
  {
   "cell_type": "code",
   "execution_count": 6,
   "id": "c52ab99f-41d2-4b7f-a179-90681a8a0a81",
   "metadata": {},
   "outputs": [],
   "source": [
    "train = list(os.listdir(path+'train'))\n",
    "test = list(os.listdir(path+'test'))"
   ]
  },
  {
   "cell_type": "code",
   "execution_count": 7,
   "id": "21aa39ee-b25f-4bdc-950a-9389eb93765a",
   "metadata": {},
   "outputs": [],
   "source": [
    "sources = ['drum', 'bass', 'other', 'vocals']"
   ]
  },
  {
   "cell_type": "code",
   "execution_count": 8,
   "id": "f07f7f9c-2d6b-42b9-b5ac-0f4bd9aeb6a7",
   "metadata": {},
   "outputs": [
    {
     "name": "stderr",
     "output_type": "stream",
     "text": [
      "50it [00:00, 4715.88it/s]\n"
     ]
    }
   ],
   "source": [
    "all_scenes = {}\n",
    "counter = 0\n",
    "sample_rate = 44100\n",
    "segment_length = sample_rate * 1\n",
    "\n",
    "for idx, val in tqdm(enumerate(test)):\n",
    "    p = path + 'test/' + val + \"/\"\n",
    "    info = torchaudio.info(f\"{p}mixture.wav\")\n",
    "    seconds = info.num_frames // 44100\n",
    "    for i in range(0, seconds - 1, 1):\n",
    "        start_point = i * 44100\n",
    "        if start_point + 44100 < info.num_frames:\n",
    "            all_scenes[counter] = {'music_path': p, 'start_point': start_point, 'length': 44100, 'frames' : info.num_frames}\n",
    "            counter += 1"
   ]
  },
  {
   "cell_type": "code",
   "execution_count": 9,
   "id": "d6d4eb9a-f08d-4452-a4ad-b9769a218278",
   "metadata": {},
   "outputs": [],
   "source": [
    "def turn_transcription_into_roll(transcription, frames, threshold=1.0):\n",
    "    \"\"\"\n",
    "    Convert transcription into a piano roll, selectively including notes based on a threshold.\n",
    "    \n",
    "    Args:\n",
    "        transcription (music21.stream.Score): The transcription data.\n",
    "        frames (int): The number of frames in the output roll.\n",
    "        threshold (float): The threshold for including a note (0.0 to 1.0).\n",
    "    \n",
    "    Returns:\n",
    "        np.ndarray: The piano roll representation of the transcription.\n",
    "    \"\"\"\n",
    "    # Determine your sampling frequency (frames per second)\n",
    "    fs = 44100\n",
    "    \n",
    "    piano_roll_length = int(frames)\n",
    "    \n",
    "    # Initialize the piano roll array\n",
    "    piano_roll = np.zeros((64, piano_roll_length))\n",
    "    \n",
    "    # Fill in the piano roll array\n",
    "    for note in transcription.instruments[0].notes:\n",
    "        if random.random() <= threshold:\n",
    "            # Convert start and end times to frame indices\n",
    "            start_frame = int(np.floor(note.start * fs))\n",
    "            end_frame = int(np.ceil(note.end * fs))\n",
    "            \n",
    "            # Set the corresponding frames to 1 (or note.velocity for a velocity-sensitive representation)\n",
    "            piano_roll[note.pitch, start_frame:end_frame] = 1  # Or use note.velocity\n",
    "        \n",
    "    roll = np.vstack([\n",
    "        piano_roll[35:36, :],  # Kick\n",
    "        piano_roll[38:39, :],  # Snare\n",
    "        piano_roll[42:43, :],  # Hi-hat closed\n",
    "        piano_roll[47:48, :],  # Hi-hat open\n",
    "        piano_roll[49:50, :]   # Crash\n",
    "    ])\n",
    "    \n",
    "    return roll\n"
   ]
  },
  {
   "cell_type": "markdown",
   "id": "20988d30-a95e-4dca-ac19-a6f7cea95717",
   "metadata": {},
   "source": [
    "# model"
   ]
  },
  {
   "cell_type": "code",
   "execution_count": 10,
   "id": "b72a57b5-7115-421d-b26e-3ca3d21fef5d",
   "metadata": {},
   "outputs": [],
   "source": [
    "class DrumDemucs(pl.LightningModule):\n",
    "    def __init__(self):\n",
    "        super(DrumDemucs, self).__init__()\n",
    "\n",
    "        self.loss_fn = auraloss.freq.MultiResolutionSTFTLoss(\n",
    "                    fft_sizes=[1024, 2048, 4096],\n",
    "                    hop_sizes=[256, 512, 1024],\n",
    "                    win_lengths=[1024, 2048, 4096],\n",
    "                    scale=\"mel\", \n",
    "                    n_bins=150,\n",
    "                    sample_rate=44100,\n",
    "                    device=\"cuda\"\n",
    "                )\n",
    "\n",
    "        self.loss_fn_2 = auraloss.time.SISDRLoss()\n",
    "\n",
    "        self.loss_fn_3 = torch.nn.L1Loss()\n",
    "\n",
    "        self.loss_used = 0\n",
    "\n",
    "        sources = ['drum',\n",
    "                   'noise',\n",
    "                   ]\n",
    "        \n",
    "        self.demucs_mixer =  torchaudio.models.HDemucs(\n",
    "            sources=sources,\n",
    "            audio_channels=7,\n",
    "            depth=6,\n",
    "        )\n",
    "\n",
    "        self.out_conv = nn.Conv1d(in_channels=7, out_channels=2, kernel_size=1)\n",
    "        self.out = nn.Conv1d(in_channels=2, out_channels=2, kernel_size=1)      \n",
    "\n",
    "\n",
    "    def compute_loss(self, outputs, ref_signals):\n",
    "        loss = self.loss_fn(outputs, ref_signals) + self.loss_fn_2(outputs, ref_signals) +  self.loss_fn_3(outputs, ref_signals)\n",
    "        return loss\n",
    "\n",
    "    def forward(self, audio, drumroll):\n",
    "        to_mix = torch.cat([audio, drumroll], axis=1)\n",
    "        out = self.demucs_mixer(to_mix)\n",
    "        out_2 = self.out_conv(out[:, 0, :, :])\n",
    "        out_2 = self.out(out_2)\n",
    "        # out_2 = torch.tanh(out_2)\n",
    "\n",
    "        return out_2\n",
    "    \n",
    "    def training_step(self, batch, batch_idx):\n",
    "        # training_step defines the train loop. It is independent of forward\n",
    "        audio, drum, drumroll = batch\n",
    "        \n",
    "        outputs = self.forward(audio, drumroll)\n",
    "        # print(outputs.size())\n",
    "\n",
    "        if batch_idx % 64 == 0:\n",
    "            input_signal = audio[0].cpu().detach().numpy().T\n",
    "            generated_signal = outputs[0].cpu().detach().numpy().T\n",
    "            drum_signal = drum[0].cpu().detach().numpy().T \n",
    "            wandb.log({'audio_input': [wandb.Audio(input_signal, caption=\"Input\", sample_rate=44100)]})\n",
    "            wandb.log({'audio_reference': [wandb.Audio(drum_signal, caption=\"Reference\", sample_rate=44100)]})\n",
    "            wandb.log({'audio_output': [wandb.Audio(generated_signal, caption=\"Output\", sample_rate=44100)]})\n",
    "             \n",
    "            for i in range(5):\n",
    "                wandb.log({f'drum_{i + 1}': [wandb.Audio(drumroll[0].cpu().detach().numpy()[i, :], caption=\"Output\", sample_rate=44100)]})\n",
    "\n",
    "\n",
    "        loss = self.compute_loss(outputs, drum)         \n",
    "\n",
    "        self.log('train_loss', loss, on_step=True, on_epoch=True, prog_bar=True, logger=True)\n",
    "        \n",
    "        return loss\n",
    "    \n",
    "\n",
    "    def configure_optimizers(self):\n",
    "        # Define your optimizer and optionally learning rate scheduler here\n",
    "        optimizer = optim.Adam(self.parameters(), lr=0.001)\n",
    "        scheduler = lr_scheduler.StepLR(optimizer, step_size=1, gamma=0.99)\n",
    "        return [optimizer], [scheduler]\n",
    "        "
   ]
  },
  {
   "cell_type": "code",
   "execution_count": 11,
   "id": "79d11190-4e68-41f8-ae19-36d8199c1643",
   "metadata": {},
   "outputs": [],
   "source": [
    "def load_audio(path, start_point, filename):\n",
    "    audio_tensors = []\n",
    "    waveform, _ = torchaudio.load(f\"{path}/{filename}\")\n",
    "    return waveform\n",
    "\n",
    "def load_roll(path, start_point, frames, threshold=1.0):\n",
    "    midi = path + '/mixture.wav.mid'\n",
    "    transcription = pretty_midi.PrettyMIDI(midi)\n",
    "    roll = turn_transcription_into_roll(transcription, frames, threshold)\n",
    "\n",
    "    return torch.from_numpy(roll).float()\n"
   ]
  },
  {
   "cell_type": "markdown",
   "id": "28a00457-307d-4743-9784-9f4cdae73730",
   "metadata": {},
   "source": [
    "# SISNR"
   ]
  },
  {
   "cell_type": "code",
   "execution_count": 12,
   "id": "3873fcee-a3cb-4975-98f5-fc50e77883fa",
   "metadata": {},
   "outputs": [],
   "source": [
    "def separate_sources(\n",
    "    model,\n",
    "    mix,\n",
    "    drumroll,\n",
    "    segment=4.0,\n",
    "    overlap=0,\n",
    "    device=None,\n",
    "):\n",
    "    \"\"\"\n",
    "    Apply model to a given mixture. Use fade, and add segments together in order to add model segment by segment.\n",
    "\n",
    "    Args:\n",
    "        segment (int): segment length in seconds\n",
    "        device (torch.device, str, or None): if provided, device on which to\n",
    "            execute the computation, otherwise `mix.device` is assumed.\n",
    "            When `device` is different from `mix.device`, only local computations will\n",
    "            be on `device`, while the entire tracks will be stored on `mix.device`.\n",
    "    \"\"\"\n",
    "    if device is None:\n",
    "        device = mix.device\n",
    "    else:\n",
    "        device = torch.device(device)\n",
    "\n",
    "    batch, channels, length = mix.shape\n",
    "\n",
    "    chunk_len = int(sample_rate * segment * (1 + overlap))\n",
    "    start = 0\n",
    "    end = chunk_len\n",
    "    overlap_frames = overlap * sample_rate\n",
    "    fade = Fade(fade_in_len=0, fade_out_len=int(overlap_frames), fade_shape=\"linear\")\n",
    "\n",
    "    final = torch.zeros(batch, channels, length, device=device)\n",
    "\n",
    "    while start < length - overlap_frames:\n",
    "        chunk = mix[:, :, start:end]\n",
    "        roll = drumroll[:, :, start:end]\n",
    "        \n",
    "        with torch.no_grad():\n",
    "            out = model.forward(chunk, roll)\n",
    "        # print(out.shape)\n",
    "        out = fade(out)\n",
    "        # print(out.shape)\n",
    "        try:\n",
    "            final[:, :, start:end] += out\n",
    "        except:\n",
    "            pass\n",
    "        if start == 0:\n",
    "            fade.fade_in_len = int(overlap_frames)\n",
    "            start += int(chunk_len - overlap_frames)\n",
    "        else:\n",
    "            start += chunk_len\n",
    "        end += chunk_len\n",
    "        if end >= length:\n",
    "            fade.fade_out_len = 0\n",
    "    return final"
   ]
  },
  {
   "cell_type": "code",
   "execution_count": 13,
   "id": "b97a63a5-d58e-47db-9768-e063efd5da5a",
   "metadata": {},
   "outputs": [],
   "source": [
    "class AudioData:\n",
    "    def __init__(self, audio):\n",
    "        self.audio = audio"
   ]
  },
  {
   "cell_type": "code",
   "execution_count": 14,
   "id": "0bc5296c-89cf-4321-98dd-5ed9ca7d325a",
   "metadata": {},
   "outputs": [],
   "source": [
    "duration = 64 * 44100"
   ]
  },
  {
   "cell_type": "code",
   "execution_count": null,
   "id": "bcf06e62-3267-4faf-838f-70f14be50e92",
   "metadata": {},
   "outputs": [
    {
     "name": "stderr",
     "output_type": "stream",
     "text": [
      "  2%|███▋                                                                                                                                                                                       | 1/50 [00:12<09:48, 12.01s/it]"
     ]
    },
    {
     "name": "stdout",
     "output_type": "stream",
     "text": [
      "drums           ==> SDR:   8.585  SIR: 202.811  ISR:  11.120  SAR:   7.262  \n",
      "bass            ==> SDR:   8.585  SIR: 202.811  ISR:  11.120  SAR:   7.262  \n",
      "\n"
     ]
    },
    {
     "name": "stderr",
     "output_type": "stream",
     "text": [
      "  4%|███████▍                                                                                                                                                                                   | 2/50 [00:22<08:43, 10.90s/it]"
     ]
    },
    {
     "name": "stdout",
     "output_type": "stream",
     "text": [
      "drums           ==> SDR:   2.970  SIR: 188.062  ISR:   6.476  SAR:   0.471  \n",
      "bass            ==> SDR:   2.970  SIR: 188.062  ISR:   6.476  SAR:   0.471  \n",
      "\n"
     ]
    },
    {
     "name": "stderr",
     "output_type": "stream",
     "text": [
      "  6%|███████████▏                                                                                                                                                                               | 3/50 [00:32<08:10, 10.43s/it]"
     ]
    },
    {
     "name": "stdout",
     "output_type": "stream",
     "text": [
      "drums           ==> SDR:   4.358  SIR: 230.665  ISR:   8.100  SAR:   3.372  \n",
      "bass            ==> SDR:   4.358  SIR: 230.665  ISR:   8.100  SAR:   3.372  \n",
      "\n"
     ]
    },
    {
     "name": "stderr",
     "output_type": "stream",
     "text": [
      "  8%|██████████████▉                                                                                                                                                                            | 4/50 [00:41<07:40, 10.02s/it]"
     ]
    },
    {
     "name": "stdout",
     "output_type": "stream",
     "text": [
      "drums           ==> SDR:   1.753  SIR: 223.662  ISR:   9.301  SAR:  -0.927  \n",
      "bass            ==> SDR:   1.753  SIR: 223.662  ISR:   9.301  SAR:  -0.927  \n",
      "\n"
     ]
    },
    {
     "name": "stderr",
     "output_type": "stream",
     "text": [
      " 10%|██████████████████▋                                                                                                                                                                        | 5/50 [00:51<07:36, 10.15s/it]"
     ]
    },
    {
     "name": "stdout",
     "output_type": "stream",
     "text": [
      "drums           ==> SDR:   8.999  SIR: 201.500  ISR:  15.402  SAR:   8.995  \n",
      "bass            ==> SDR:   8.999  SIR: 201.500  ISR:  15.402  SAR:   8.995  \n",
      "\n"
     ]
    },
    {
     "name": "stderr",
     "output_type": "stream",
     "text": [
      " 12%|██████████████████████▍                                                                                                                                                                    | 6/50 [01:01<07:15,  9.90s/it]"
     ]
    },
    {
     "name": "stdout",
     "output_type": "stream",
     "text": [
      "drums           ==> SDR:   5.646  SIR: 230.584  ISR:   9.422  SAR:   4.793  \n",
      "bass            ==> SDR:   5.646  SIR: 230.584  ISR:   9.422  SAR:   4.793  \n",
      "\n"
     ]
    },
    {
     "name": "stderr",
     "output_type": "stream",
     "text": [
      " 14%|██████████████████████████▏                                                                                                                                                                | 7/50 [01:10<06:57,  9.72s/it]"
     ]
    },
    {
     "name": "stdout",
     "output_type": "stream",
     "text": [
      "drums           ==> SDR:   5.149  SIR: 217.946  ISR:   8.891  SAR:   4.004  \n",
      "bass            ==> SDR:   5.149  SIR: 217.946  ISR:   8.891  SAR:   4.004  \n",
      "\n"
     ]
    },
    {
     "name": "stderr",
     "output_type": "stream",
     "text": [
      " 16%|█████████████████████████████▉                                                                                                                                                             | 8/50 [01:20<06:47,  9.69s/it]"
     ]
    },
    {
     "name": "stdout",
     "output_type": "stream",
     "text": [
      "drums           ==> SDR:   4.003  SIR: 243.653  ISR:   8.275  SAR:   2.285  \n",
      "bass            ==> SDR:   4.003  SIR: 243.653  ISR:   8.275  SAR:   2.285  \n",
      "\n"
     ]
    },
    {
     "name": "stderr",
     "output_type": "stream",
     "text": [
      " 18%|█████████████████████████████████▋                                                                                                                                                         | 9/50 [01:29<06:38,  9.72s/it]"
     ]
    },
    {
     "name": "stdout",
     "output_type": "stream",
     "text": [
      "drums           ==> SDR:   6.352  SIR: 164.461  ISR:   9.865  SAR:   6.041  \n",
      "bass            ==> SDR:   6.352  SIR: 164.461  ISR:   9.865  SAR:   6.041  \n",
      "\n"
     ]
    },
    {
     "name": "stderr",
     "output_type": "stream",
     "text": [
      " 20%|█████████████████████████████████████▏                                                                                                                                                    | 10/50 [01:40<06:44, 10.10s/it]"
     ]
    },
    {
     "name": "stdout",
     "output_type": "stream",
     "text": [
      "drums           ==> SDR:  -2.159  SIR: 177.687  ISR:   6.695  SAR:  -4.973  \n",
      "bass            ==> SDR:  -2.159  SIR: 177.687  ISR:   6.695  SAR:  -4.973  \n",
      "\n"
     ]
    },
    {
     "name": "stderr",
     "output_type": "stream",
     "text": [
      " 22%|████████████████████████████████████████▉                                                                                                                                                 | 11/50 [01:52<06:50, 10.52s/it]"
     ]
    },
    {
     "name": "stdout",
     "output_type": "stream",
     "text": [
      "drums           ==> SDR:   8.898  SIR: 215.637  ISR:  13.471  SAR:   8.646  \n",
      "bass            ==> SDR:   8.898  SIR: 215.637  ISR:  13.471  SAR:   8.646  \n",
      "\n"
     ]
    },
    {
     "name": "stderr",
     "output_type": "stream",
     "text": [
      " 24%|████████████████████████████████████████████▋                                                                                                                                             | 12/50 [02:02<06:37, 10.47s/it]"
     ]
    },
    {
     "name": "stdout",
     "output_type": "stream",
     "text": [
      "drums           ==> SDR:   4.632  SIR: 223.358  ISR:   5.901  SAR:   5.084  \n",
      "bass            ==> SDR:   4.632  SIR: 223.358  ISR:   5.901  SAR:   5.084  \n",
      "\n"
     ]
    },
    {
     "name": "stderr",
     "output_type": "stream",
     "text": [
      " 26%|████████████████████████████████████████████████▎                                                                                                                                         | 13/50 [02:12<06:14, 10.12s/it]"
     ]
    },
    {
     "name": "stdout",
     "output_type": "stream",
     "text": [
      "drums           ==> SDR:   2.273  SIR:  94.011  ISR:   3.532  SAR:   0.207  \n",
      "bass            ==> SDR:   2.273  SIR:  94.011  ISR:   3.532  SAR:   0.207  \n",
      "\n"
     ]
    },
    {
     "name": "stderr",
     "output_type": "stream",
     "text": [
      " 28%|████████████████████████████████████████████████████                                                                                                                                      | 14/50 [02:21<05:57,  9.92s/it]"
     ]
    },
    {
     "name": "stdout",
     "output_type": "stream",
     "text": [
      "drums           ==> SDR:   7.619  SIR: 212.701  ISR:  12.711  SAR:   7.526  \n",
      "bass            ==> SDR:   7.619  SIR: 212.701  ISR:  12.711  SAR:   7.526  \n",
      "\n"
     ]
    },
    {
     "name": "stderr",
     "output_type": "stream",
     "text": [
      " 30%|███████████████████████████████████████████████████████▊                                                                                                                                  | 15/50 [02:31<05:49,  9.98s/it]"
     ]
    },
    {
     "name": "stdout",
     "output_type": "stream",
     "text": [
      "drums           ==> SDR:   5.578  SIR: 213.059  ISR:   8.655  SAR:   4.613  \n",
      "bass            ==> SDR:   5.578  SIR: 213.059  ISR:   8.655  SAR:   4.613  \n",
      "\n"
     ]
    },
    {
     "name": "stderr",
     "output_type": "stream",
     "text": [
      " 32%|███████████████████████████████████████████████████████████▌                                                                                                                              | 16/50 [02:41<05:39, 10.00s/it]"
     ]
    },
    {
     "name": "stdout",
     "output_type": "stream",
     "text": [
      "drums           ==> SDR:   4.317  SIR: 215.527  ISR:   7.166  SAR:   2.323  \n",
      "bass            ==> SDR:   4.317  SIR: 215.527  ISR:   7.166  SAR:   2.323  \n",
      "\n"
     ]
    },
    {
     "name": "stderr",
     "output_type": "stream",
     "text": [
      " 34%|███████████████████████████████████████████████████████████████▏                                                                                                                          | 17/50 [02:52<05:34, 10.14s/it]"
     ]
    },
    {
     "name": "stdout",
     "output_type": "stream",
     "text": [
      "drums           ==> SDR:   1.487  SIR: 217.772  ISR:   3.277  SAR:  -2.497  \n",
      "bass            ==> SDR:   1.487  SIR: 217.772  ISR:   3.277  SAR:  -2.497  \n",
      "\n"
     ]
    },
    {
     "name": "stderr",
     "output_type": "stream",
     "text": [
      " 36%|██████████████████████████████████████████████████████████████████▉                                                                                                                       | 18/50 [03:02<05:25, 10.16s/it]"
     ]
    },
    {
     "name": "stdout",
     "output_type": "stream",
     "text": [
      "drums           ==> SDR:   8.387  SIR: 203.348  ISR:  12.581  SAR:   8.927  \n",
      "bass            ==> SDR:   8.387  SIR: 203.348  ISR:  12.581  SAR:   8.927  \n",
      "\n"
     ]
    },
    {
     "name": "stderr",
     "output_type": "stream",
     "text": [
      " 38%|██████████████████████████████████████████████████████████████████████▋                                                                                                                   | 19/50 [03:12<05:14, 10.16s/it]"
     ]
    },
    {
     "name": "stdout",
     "output_type": "stream",
     "text": [
      "drums           ==> SDR:  10.514  SIR: 219.101  ISR:  18.431  SAR:  10.555  \n",
      "bass            ==> SDR:  10.514  SIR: 219.101  ISR:  18.431  SAR:  10.555  \n",
      "\n"
     ]
    },
    {
     "name": "stderr",
     "output_type": "stream",
     "text": [
      " 40%|██████████████████████████████████████████████████████████████████████████▍                                                                                                               | 20/50 [03:22<05:02, 10.07s/it]"
     ]
    },
    {
     "name": "stdout",
     "output_type": "stream",
     "text": [
      "drums           ==> SDR:   9.325  SIR: 216.945  ISR:  12.769  SAR:   9.502  \n",
      "bass            ==> SDR:   9.325  SIR: 216.945  ISR:  12.769  SAR:   9.502  \n",
      "\n"
     ]
    },
    {
     "name": "stderr",
     "output_type": "stream",
     "text": [
      " 42%|██████████████████████████████████████████████████████████████████████████████                                                                                                            | 21/50 [03:32<04:50, 10.03s/it]"
     ]
    },
    {
     "name": "stdout",
     "output_type": "stream",
     "text": [
      "drums           ==> SDR:   7.563  SIR: 185.983  ISR:  10.519  SAR:   7.909  \n",
      "bass            ==> SDR:   7.563  SIR: 185.983  ISR:  10.519  SAR:   7.909  \n",
      "\n"
     ]
    },
    {
     "name": "stderr",
     "output_type": "stream",
     "text": [
      " 44%|█████████████████████████████████████████████████████████████████████████████████▊                                                                                                        | 22/50 [03:42<04:40, 10.00s/it]"
     ]
    },
    {
     "name": "stdout",
     "output_type": "stream",
     "text": [
      "drums           ==> SDR:  -2.253  SIR: 269.757  ISR:   0.368  SAR: -16.164  \n",
      "bass            ==> SDR:  -2.253  SIR: 269.757  ISR:   0.368  SAR: -16.164  \n",
      "\n"
     ]
    },
    {
     "name": "stderr",
     "output_type": "stream",
     "text": [
      " 46%|█████████████████████████████████████████████████████████████████████████████████████▌                                                                                                    | 23/50 [03:52<04:31, 10.05s/it]"
     ]
    },
    {
     "name": "stdout",
     "output_type": "stream",
     "text": [
      "drums           ==> SDR:   3.557  SIR: 168.151  ISR:   6.249  SAR:   1.845  \n",
      "bass            ==> SDR:   3.557  SIR: 168.151  ISR:   6.249  SAR:   1.845  \n",
      "\n"
     ]
    },
    {
     "name": "stderr",
     "output_type": "stream",
     "text": [
      " 48%|█████████████████████████████████████████████████████████████████████████████████████████▎                                                                                                | 24/50 [04:02<04:23, 10.12s/it]"
     ]
    },
    {
     "name": "stdout",
     "output_type": "stream",
     "text": [
      "drums           ==> SDR:   5.381  SIR: 139.791  ISR:   9.965  SAR:   6.118  \n",
      "bass            ==> SDR:   5.381  SIR: 139.791  ISR:   9.965  SAR:   6.118  \n",
      "\n"
     ]
    },
    {
     "name": "stderr",
     "output_type": "stream",
     "text": [
      " 50%|█████████████████████████████████████████████████████████████████████████████████████████████                                                                                             | 25/50 [04:12<04:11, 10.07s/it]"
     ]
    },
    {
     "name": "stdout",
     "output_type": "stream",
     "text": [
      "drums           ==> SDR:   3.585  SIR: 218.981  ISR:   6.495  SAR:   2.194  \n",
      "bass            ==> SDR:   3.585  SIR: 218.981  ISR:   6.495  SAR:   2.194  \n",
      "\n"
     ]
    },
    {
     "name": "stderr",
     "output_type": "stream",
     "text": [
      " 52%|████████████████████████████████████████████████████████████████████████████████████████████████▋                                                                                         | 26/50 [04:23<04:07, 10.31s/it]"
     ]
    },
    {
     "name": "stdout",
     "output_type": "stream",
     "text": [
      "drums           ==> SDR:  10.392  SIR: 183.737  ISR:  18.162  SAR:  10.598  \n",
      "bass            ==> SDR:  10.392  SIR: 183.737  ISR:  18.162  SAR:  10.598  \n",
      "\n"
     ]
    },
    {
     "name": "stderr",
     "output_type": "stream",
     "text": [
      " 54%|████████████████████████████████████████████████████████████████████████████████████████████████████▍                                                                                     | 27/50 [04:33<03:54, 10.22s/it]"
     ]
    },
    {
     "name": "stdout",
     "output_type": "stream",
     "text": [
      "drums           ==> SDR:   7.868  SIR: 187.322  ISR:  15.019  SAR:   7.560  \n",
      "bass            ==> SDR:   7.868  SIR: 187.322  ISR:  15.019  SAR:   7.560  \n",
      "\n"
     ]
    },
    {
     "name": "stderr",
     "output_type": "stream",
     "text": [
      " 56%|████████████████████████████████████████████████████████████████████████████████████████████████████████▏                                                                                 | 28/50 [04:44<03:48, 10.40s/it]"
     ]
    },
    {
     "name": "stdout",
     "output_type": "stream",
     "text": [
      "drums           ==> SDR:   8.798  SIR: 199.495  ISR:  12.355  SAR:   9.442  \n",
      "bass            ==> SDR:   8.798  SIR: 199.495  ISR:  12.355  SAR:   9.442  \n",
      "\n"
     ]
    },
    {
     "name": "stderr",
     "output_type": "stream",
     "text": [
      " 58%|███████████████████████████████████████████████████████████████████████████████████████████████████████████▉                                                                              | 29/50 [04:54<03:37, 10.35s/it]"
     ]
    },
    {
     "name": "stdout",
     "output_type": "stream",
     "text": [
      "drums           ==> SDR:   5.082  SIR: 188.599  ISR:   7.081  SAR:   6.337  \n",
      "bass            ==> SDR:   5.082  SIR: 188.599  ISR:   7.081  SAR:   6.337  \n",
      "\n"
     ]
    },
    {
     "name": "stderr",
     "output_type": "stream",
     "text": [
      " 60%|███████████████████████████████████████████████████████████████████████████████████████████████████████████████▌                                                                          | 30/50 [05:04<03:26, 10.34s/it]"
     ]
    },
    {
     "name": "stdout",
     "output_type": "stream",
     "text": [
      "drums           ==> SDR:   5.600  SIR: 211.720  ISR:   9.004  SAR:   4.891  \n",
      "bass            ==> SDR:   5.600  SIR: 211.720  ISR:   9.004  SAR:   4.891  \n",
      "\n"
     ]
    },
    {
     "name": "stderr",
     "output_type": "stream",
     "text": [
      " 62%|███████████████████████████████████████████████████████████████████████████████████████████████████████████████████▎                                                                      | 31/50 [05:15<03:15, 10.31s/it]"
     ]
    },
    {
     "name": "stdout",
     "output_type": "stream",
     "text": [
      "drums           ==> SDR:   3.494  SIR: 196.343  ISR:   9.084  SAR:   1.831  \n",
      "bass            ==> SDR:   3.494  SIR: 196.343  ISR:   9.084  SAR:   1.831  \n",
      "\n"
     ]
    },
    {
     "name": "stderr",
     "output_type": "stream",
     "text": [
      " 64%|███████████████████████████████████████████████████████████████████████████████████████████████████████████████████████                                                                   | 32/50 [05:26<03:11, 10.62s/it]"
     ]
    },
    {
     "name": "stdout",
     "output_type": "stream",
     "text": [
      "drums           ==> SDR:   0.514  SIR: 194.533  ISR:   4.624  SAR:  -0.007  \n",
      "bass            ==> SDR:   0.514  SIR: 194.533  ISR:   4.624  SAR:  -0.007  \n",
      "\n"
     ]
    },
    {
     "name": "stderr",
     "output_type": "stream",
     "text": [
      " 66%|██████████████████████████████████████████████████████████████████████████████████████████████████████████████████████████▊                                                               | 33/50 [05:37<03:03, 10.77s/it]"
     ]
    },
    {
     "name": "stdout",
     "output_type": "stream",
     "text": [
      "drums           ==> SDR:   2.124  SIR: 224.592  ISR:   5.879  SAR:  -0.310  \n",
      "bass            ==> SDR:   2.124  SIR: 224.592  ISR:   5.879  SAR:  -0.310  \n",
      "\n"
     ]
    },
    {
     "name": "stderr",
     "output_type": "stream",
     "text": [
      " 68%|██████████████████████████████████████████████████████████████████████████████████████████████████████████████████████████████▍                                                           | 34/50 [05:48<02:54, 10.94s/it]"
     ]
    },
    {
     "name": "stdout",
     "output_type": "stream",
     "text": [
      "drums           ==> SDR:   4.507  SIR: 243.595  ISR:   8.857  SAR:   3.472  \n",
      "bass            ==> SDR:   4.507  SIR: 243.595  ISR:   8.857  SAR:   3.472  \n",
      "\n"
     ]
    },
    {
     "name": "stderr",
     "output_type": "stream",
     "text": [
      " 70%|██████████████████████████████████████████████████████████████████████████████████████████████████████████████████████████████████▏                                                       | 35/50 [05:59<02:44, 10.96s/it]"
     ]
    },
    {
     "name": "stdout",
     "output_type": "stream",
     "text": [
      "drums           ==> SDR:   8.624  SIR: 221.664  ISR:  12.872  SAR:   9.522  \n",
      "bass            ==> SDR:   8.624  SIR: 221.664  ISR:  12.872  SAR:   9.522  \n",
      "\n"
     ]
    },
    {
     "name": "stderr",
     "output_type": "stream",
     "text": [
      " 72%|█████████████████████████████████████████████████████████████████████████████████████████████████████████████████████████████████████▉                                                    | 36/50 [06:12<02:38, 11.34s/it]"
     ]
    },
    {
     "name": "stdout",
     "output_type": "stream",
     "text": [
      "drums           ==> SDR:   2.255  SIR: 203.925  ISR:   5.797  SAR:  -0.603  \n",
      "bass            ==> SDR:   2.255  SIR: 203.925  ISR:   5.797  SAR:  -0.603  \n",
      "\n"
     ]
    },
    {
     "name": "stderr",
     "output_type": "stream",
     "text": [
      " 74%|█████████████████████████████████████████████████████████████████████████████████████████████████████████████████████████████████████████▋                                                | 37/50 [06:28<02:46, 12.78s/it]"
     ]
    },
    {
     "name": "stdout",
     "output_type": "stream",
     "text": [
      "drums           ==> SDR:   4.468  SIR: 198.505  ISR:  17.356  SAR:   3.542  \n",
      "bass            ==> SDR:   4.468  SIR: 198.505  ISR:  17.356  SAR:   3.542  \n",
      "\n"
     ]
    },
    {
     "name": "stderr",
     "output_type": "stream",
     "text": [
      " 76%|█████████████████████████████████████████████████████████████████████████████████████████████████████████████████████████████████████████████▎                                            | 38/50 [06:40<02:30, 12.52s/it]"
     ]
    },
    {
     "name": "stdout",
     "output_type": "stream",
     "text": [
      "drums           ==> SDR:   7.695  SIR: 225.966  ISR:   9.969  SAR:   5.292  \n",
      "bass            ==> SDR:   7.695  SIR: 225.966  ISR:   9.969  SAR:   5.292  \n",
      "\n"
     ]
    },
    {
     "name": "stderr",
     "output_type": "stream",
     "text": [
      " 78%|█████████████████████████████████████████████████████████████████████████████████████████████████████████████████████████████████████████████████                                         | 39/50 [06:51<02:14, 12.21s/it]"
     ]
    },
    {
     "name": "stdout",
     "output_type": "stream",
     "text": [
      "drums           ==> SDR:   4.347  SIR: 233.331  ISR:   5.978  SAR:   5.276  \n",
      "bass            ==> SDR:   4.347  SIR: 233.331  ISR:   5.978  SAR:   5.276  \n",
      "\n"
     ]
    },
    {
     "name": "stderr",
     "output_type": "stream",
     "text": [
      " 80%|████████████████████████████████████████████████████████████████████████████████████████████████████████████████████████████████████████████████████▊                                     | 40/50 [07:02<01:58, 11.88s/it]"
     ]
    },
    {
     "name": "stdout",
     "output_type": "stream",
     "text": [
      "drums           ==> SDR:   2.842  SIR: 175.874  ISR:   4.435  SAR:   2.452  \n",
      "bass            ==> SDR:   2.842  SIR: 175.874  ISR:   4.435  SAR:   2.452  \n",
      "\n"
     ]
    },
    {
     "name": "stderr",
     "output_type": "stream",
     "text": [
      " 82%|████████████████████████████████████████████████████████████████████████████████████████████████████████████████████████████████████████████████████████▌                                 | 41/50 [07:13<01:44, 11.61s/it]"
     ]
    },
    {
     "name": "stdout",
     "output_type": "stream",
     "text": [
      "drums           ==> SDR:   5.138  SIR: 180.676  ISR:  12.660  SAR:   5.078  \n",
      "bass            ==> SDR:   5.138  SIR: 180.676  ISR:  12.660  SAR:   5.078  \n",
      "\n"
     ]
    },
    {
     "name": "stderr",
     "output_type": "stream",
     "text": [
      " 84%|████████████████████████████████████████████████████████████████████████████████████████████████████████████████████████████████████████████████████████████▏                             | 42/50 [07:25<01:32, 11.58s/it]"
     ]
    },
    {
     "name": "stdout",
     "output_type": "stream",
     "text": [
      "drums           ==> SDR:   6.950  SIR: 121.526  ISR:  12.807  SAR:   6.350  \n",
      "bass            ==> SDR:   6.950  SIR: 121.526  ISR:  12.807  SAR:   6.350  \n",
      "\n"
     ]
    },
    {
     "name": "stderr",
     "output_type": "stream",
     "text": [
      " 86%|███████████████████████████████████████████████████████████████████████████████████████████████████████████████████████████████████████████████████████████████▉                          | 43/50 [07:36<01:20, 11.49s/it]"
     ]
    },
    {
     "name": "stdout",
     "output_type": "stream",
     "text": [
      "drums           ==> SDR:   4.686  SIR: 176.467  ISR:   8.019  SAR:   3.047  \n",
      "bass            ==> SDR:   4.686  SIR: 176.467  ISR:   8.019  SAR:   3.047  \n",
      "\n"
     ]
    },
    {
     "name": "stderr",
     "output_type": "stream",
     "text": [
      " 88%|███████████████████████████████████████████████████████████████████████████████████████████████████████████████████████████████████████████████████████████████████▋                      | 44/50 [07:46<01:06, 11.15s/it]"
     ]
    },
    {
     "name": "stdout",
     "output_type": "stream",
     "text": [
      "drums           ==> SDR:   5.869  SIR: 218.598  ISR:  10.447  SAR:   5.376  \n",
      "bass            ==> SDR:   5.869  SIR: 218.598  ISR:  10.447  SAR:   5.376  \n",
      "\n"
     ]
    },
    {
     "name": "stderr",
     "output_type": "stream",
     "text": [
      " 90%|███████████████████████████████████████████████████████████████████████████████████████████████████████████████████████████████████████████████████████████████████████▍                  | 45/50 [07:59<00:58, 11.67s/it]"
     ]
    },
    {
     "name": "stdout",
     "output_type": "stream",
     "text": [
      "drums           ==> SDR:   0.481  SIR: 207.584  ISR:   0.921  SAR:  -0.947  \n",
      "bass            ==> SDR:   0.481  SIR: 207.584  ISR:   0.921  SAR:  -0.947  \n",
      "\n"
     ]
    },
    {
     "name": "stderr",
     "output_type": "stream",
     "text": [
      " 92%|███████████████████████████████████████████████████████████████████████████████████████████████████████████████████████████████████████████████████████████████████████████               | 46/50 [08:11<00:46, 11.54s/it]"
     ]
    },
    {
     "name": "stdout",
     "output_type": "stream",
     "text": [
      "drums           ==> SDR:   2.108  SIR: 209.063  ISR:   3.867  SAR:  -0.207  \n",
      "bass            ==> SDR:   2.108  SIR: 209.063  ISR:   3.867  SAR:  -0.207  \n",
      "\n"
     ]
    },
    {
     "name": "stderr",
     "output_type": "stream",
     "text": [
      " 94%|██████████████████████████████████████████████████████████████████████████████████████████████████████████████████████████████████████████████████████████████████████████████▊           | 47/50 [08:22<00:34, 11.42s/it]"
     ]
    },
    {
     "name": "stdout",
     "output_type": "stream",
     "text": [
      "drums           ==> SDR:   6.488  SIR: 162.949  ISR:   7.763  SAR:   5.800  \n",
      "bass            ==> SDR:   6.488  SIR: 162.949  ISR:   7.763  SAR:   5.800  \n",
      "\n"
     ]
    },
    {
     "name": "stderr",
     "output_type": "stream",
     "text": [
      " 96%|██████████████████████████████████████████████████████████████████████████████████████████████████████████████████████████████████████████████████████████████████████████████████▌       | 48/50 [08:33<00:22, 11.28s/it]"
     ]
    },
    {
     "name": "stdout",
     "output_type": "stream",
     "text": [
      "drums           ==> SDR:   3.452  SIR: 221.009  ISR:   7.234  SAR:   1.403  \n",
      "bass            ==> SDR:   3.452  SIR: 221.009  ISR:   7.234  SAR:   1.403  \n",
      "\n"
     ]
    },
    {
     "name": "stderr",
     "output_type": "stream",
     "text": [
      " 98%|██████████████████████████████████████████████████████████████████████████████████████████████████████████████████████████████████████████████████████████████████████████████████████▎   | 49/50 [08:44<00:11, 11.16s/it]"
     ]
    },
    {
     "name": "stdout",
     "output_type": "stream",
     "text": [
      "drums           ==> SDR:   9.313  SIR: 218.258  ISR:  17.073  SAR:   9.570  \n",
      "bass            ==> SDR:   9.313  SIR: 218.258  ISR:  17.073  SAR:   9.570  \n",
      "\n"
     ]
    },
    {
     "name": "stderr",
     "output_type": "stream",
     "text": [
      "100%|██████████████████████████████████████████████████████████████████████████████████████████████████████████████████████████████████████████████████████████████████████████████████████████| 50/50 [08:55<00:00, 10.70s/it]"
     ]
    },
    {
     "name": "stdout",
     "output_type": "stream",
     "text": [
      "drums           ==> SDR:   6.021  SIR: 203.556  ISR:   9.422  SAR:   5.348  \n",
      "bass            ==> SDR:   6.021  SIR: 203.556  ISR:   9.422  SAR:   5.348  \n",
      "\n"
     ]
    },
    {
     "name": "stderr",
     "output_type": "stream",
     "text": [
      "\n",
      "  2%|███▋                                                                                                                                                                                       | 1/50 [00:10<08:57, 10.97s/it]"
     ]
    },
    {
     "name": "stdout",
     "output_type": "stream",
     "text": [
      "drums           ==> SDR:   8.409  SIR: 207.215  ISR:  10.785  SAR:   7.110  \n",
      "bass            ==> SDR:   8.409  SIR: 207.215  ISR:  10.785  SAR:   7.110  \n",
      "\n"
     ]
    },
    {
     "name": "stderr",
     "output_type": "stream",
     "text": [
      "  4%|███████▍                                                                                                                                                                                   | 2/50 [00:22<09:08, 11.44s/it]"
     ]
    },
    {
     "name": "stdout",
     "output_type": "stream",
     "text": [
      "drums           ==> SDR:   3.008  SIR: 184.940  ISR:   6.229  SAR:   0.177  \n",
      "bass            ==> SDR:   3.008  SIR: 184.940  ISR:   6.229  SAR:   0.177  \n",
      "\n"
     ]
    },
    {
     "name": "stderr",
     "output_type": "stream",
     "text": [
      "  6%|███████████▏                                                                                                                                                                               | 3/50 [00:32<08:32, 10.90s/it]"
     ]
    },
    {
     "name": "stdout",
     "output_type": "stream",
     "text": [
      "drums           ==> SDR:   4.320  SIR: 229.736  ISR:   7.837  SAR:   3.131  \n",
      "bass            ==> SDR:   4.320  SIR: 229.736  ISR:   7.837  SAR:   3.131  \n",
      "\n"
     ]
    },
    {
     "name": "stderr",
     "output_type": "stream",
     "text": [
      "  8%|██████████████▉                                                                                                                                                                            | 4/50 [00:43<08:21, 10.90s/it]"
     ]
    },
    {
     "name": "stdout",
     "output_type": "stream",
     "text": [
      "drums           ==> SDR:   1.551  SIR: 226.503  ISR:   9.163  SAR:  -0.501  \n",
      "bass            ==> SDR:   1.551  SIR: 226.503  ISR:   9.163  SAR:  -0.501  \n",
      "\n"
     ]
    },
    {
     "name": "stderr",
     "output_type": "stream",
     "text": [
      " 10%|██████████████████▋                                                                                                                                                                        | 5/50 [00:54<08:13, 10.97s/it]"
     ]
    },
    {
     "name": "stdout",
     "output_type": "stream",
     "text": [
      "drums           ==> SDR:   8.795  SIR: 203.796  ISR:  14.390  SAR:   8.541  \n",
      "bass            ==> SDR:   8.795  SIR: 203.796  ISR:  14.390  SAR:   8.541  \n",
      "\n"
     ]
    },
    {
     "name": "stderr",
     "output_type": "stream",
     "text": [
      " 12%|██████████████████████▍                                                                                                                                                                    | 6/50 [01:05<07:58, 10.87s/it]"
     ]
    },
    {
     "name": "stdout",
     "output_type": "stream",
     "text": [
      "drums           ==> SDR:   5.043  SIR: 237.087  ISR:   9.066  SAR:   4.369  \n",
      "bass            ==> SDR:   5.043  SIR: 237.087  ISR:   9.066  SAR:   4.369  \n",
      "\n"
     ]
    },
    {
     "name": "stderr",
     "output_type": "stream",
     "text": [
      " 14%|██████████████████████████▏                                                                                                                                                                | 7/50 [01:16<07:42, 10.75s/it]"
     ]
    },
    {
     "name": "stdout",
     "output_type": "stream",
     "text": [
      "drums           ==> SDR:   4.855  SIR: 217.542  ISR:   8.808  SAR:   3.883  \n",
      "bass            ==> SDR:   4.855  SIR: 217.542  ISR:   8.808  SAR:   3.883  \n",
      "\n"
     ]
    },
    {
     "name": "stderr",
     "output_type": "stream",
     "text": [
      " 16%|█████████████████████████████▉                                                                                                                                                             | 8/50 [01:26<07:27, 10.65s/it]"
     ]
    },
    {
     "name": "stdout",
     "output_type": "stream",
     "text": [
      "drums           ==> SDR:   3.851  SIR: 240.697  ISR:   8.046  SAR:   2.207  \n",
      "bass            ==> SDR:   3.851  SIR: 240.697  ISR:   8.046  SAR:   2.207  \n",
      "\n"
     ]
    },
    {
     "name": "stderr",
     "output_type": "stream",
     "text": [
      " 18%|█████████████████████████████████▋                                                                                                                                                         | 9/50 [01:37<07:19, 10.71s/it]"
     ]
    },
    {
     "name": "stdout",
     "output_type": "stream",
     "text": [
      "drums           ==> SDR:   6.317  SIR: 164.633  ISR:   9.681  SAR:   5.881  \n",
      "bass            ==> SDR:   6.317  SIR: 164.633  ISR:   9.681  SAR:   5.881  \n",
      "\n"
     ]
    },
    {
     "name": "stderr",
     "output_type": "stream",
     "text": [
      " 20%|█████████████████████████████████████▏                                                                                                                                                    | 10/50 [01:49<07:20, 11.01s/it]"
     ]
    },
    {
     "name": "stdout",
     "output_type": "stream",
     "text": [
      "drums           ==> SDR:  -2.159  SIR: 175.562  ISR:   6.595  SAR:  -5.027  \n",
      "bass            ==> SDR:  -2.159  SIR: 175.562  ISR:   6.595  SAR:  -5.027  \n",
      "\n"
     ]
    },
    {
     "name": "stderr",
     "output_type": "stream",
     "text": [
      " 22%|████████████████████████████████████████▉                                                                                                                                                 | 11/50 [02:00<07:13, 11.11s/it]"
     ]
    },
    {
     "name": "stdout",
     "output_type": "stream",
     "text": [
      "drums           ==> SDR:   8.520  SIR: 220.475  ISR:  12.537  SAR:   8.118  \n",
      "bass            ==> SDR:   8.520  SIR: 220.475  ISR:  12.537  SAR:   8.118  \n",
      "\n"
     ]
    },
    {
     "name": "stderr",
     "output_type": "stream",
     "text": [
      " 24%|████████████████████████████████████████████▋                                                                                                                                             | 12/50 [02:12<07:14, 11.43s/it]"
     ]
    },
    {
     "name": "stdout",
     "output_type": "stream",
     "text": [
      "drums           ==> SDR:   4.490  SIR: 221.962  ISR:   5.693  SAR:   4.915  \n",
      "bass            ==> SDR:   4.490  SIR: 221.962  ISR:   5.693  SAR:   4.915  \n",
      "\n"
     ]
    },
    {
     "name": "stderr",
     "output_type": "stream",
     "text": [
      " 26%|████████████████████████████████████████████████▎                                                                                                                                         | 13/50 [02:22<06:48, 11.04s/it]"
     ]
    },
    {
     "name": "stdout",
     "output_type": "stream",
     "text": [
      "drums           ==> SDR:   2.206  SIR:  88.450  ISR:   3.302  SAR:  -0.129  \n",
      "bass            ==> SDR:   2.206  SIR:  88.450  ISR:   3.302  SAR:  -0.129  \n",
      "\n"
     ]
    },
    {
     "name": "stderr",
     "output_type": "stream",
     "text": [
      " 28%|████████████████████████████████████████████████████                                                                                                                                      | 14/50 [02:34<06:46, 11.30s/it]"
     ]
    },
    {
     "name": "stdout",
     "output_type": "stream",
     "text": [
      "drums           ==> SDR:   7.522  SIR: 211.489  ISR:  12.308  SAR:   7.454  \n",
      "bass            ==> SDR:   7.522  SIR: 211.489  ISR:  12.308  SAR:   7.454  \n",
      "\n"
     ]
    },
    {
     "name": "stderr",
     "output_type": "stream",
     "text": [
      " 30%|███████████████████████████████████████████████████████▊                                                                                                                                  | 15/50 [02:45<06:27, 11.08s/it]"
     ]
    },
    {
     "name": "stdout",
     "output_type": "stream",
     "text": [
      "drums           ==> SDR:   5.205  SIR: 199.715  ISR:   7.942  SAR:   3.964  \n",
      "bass            ==> SDR:   5.205  SIR: 199.715  ISR:   7.942  SAR:   3.964  \n",
      "\n"
     ]
    },
    {
     "name": "stderr",
     "output_type": "stream",
     "text": [
      " 32%|███████████████████████████████████████████████████████████▌                                                                                                                              | 16/50 [02:55<06:06, 10.77s/it]"
     ]
    },
    {
     "name": "stdout",
     "output_type": "stream",
     "text": [
      "drums           ==> SDR:   4.293  SIR: 215.375  ISR:   6.985  SAR:   2.126  \n",
      "bass            ==> SDR:   4.293  SIR: 215.375  ISR:   6.985  SAR:   2.126  \n",
      "\n"
     ]
    },
    {
     "name": "stderr",
     "output_type": "stream",
     "text": [
      " 34%|███████████████████████████████████████████████████████████████▏                                                                                                                          | 17/50 [03:05<05:49, 10.60s/it]"
     ]
    },
    {
     "name": "stdout",
     "output_type": "stream",
     "text": [
      "drums           ==> SDR:   1.516  SIR: 219.054  ISR:   3.297  SAR:  -2.555  \n",
      "bass            ==> SDR:   1.516  SIR: 219.054  ISR:   3.297  SAR:  -2.555  \n",
      "\n"
     ]
    },
    {
     "name": "stderr",
     "output_type": "stream",
     "text": [
      " 36%|██████████████████████████████████████████████████████████████████▉                                                                                                                       | 18/50 [03:15<05:32, 10.39s/it]"
     ]
    },
    {
     "name": "stdout",
     "output_type": "stream",
     "text": [
      "drums           ==> SDR:   8.182  SIR: 197.312  ISR:  12.133  SAR:   8.669  \n",
      "bass            ==> SDR:   8.182  SIR: 197.312  ISR:  12.133  SAR:   8.669  \n",
      "\n"
     ]
    },
    {
     "name": "stderr",
     "output_type": "stream",
     "text": [
      " 38%|██████████████████████████████████████████████████████████████████████▋                                                                                                                   | 19/50 [03:26<05:26, 10.54s/it]"
     ]
    },
    {
     "name": "stdout",
     "output_type": "stream",
     "text": [
      "drums           ==> SDR:  10.322  SIR: 223.893  ISR:  17.597  SAR:  10.443  \n",
      "bass            ==> SDR:  10.322  SIR: 223.893  ISR:  17.597  SAR:  10.443  \n",
      "\n"
     ]
    },
    {
     "name": "stderr",
     "output_type": "stream",
     "text": [
      " 40%|██████████████████████████████████████████████████████████████████████████▍                                                                                                               | 20/50 [03:36<05:10, 10.35s/it]"
     ]
    },
    {
     "name": "stdout",
     "output_type": "stream",
     "text": [
      "drums           ==> SDR:   9.196  SIR: 217.057  ISR:  12.507  SAR:   9.333  \n",
      "bass            ==> SDR:   9.196  SIR: 217.057  ISR:  12.507  SAR:   9.333  \n",
      "\n"
     ]
    },
    {
     "name": "stderr",
     "output_type": "stream",
     "text": [
      " 42%|██████████████████████████████████████████████████████████████████████████████                                                                                                            | 21/50 [03:46<04:58, 10.31s/it]"
     ]
    },
    {
     "name": "stdout",
     "output_type": "stream",
     "text": [
      "drums           ==> SDR:   7.251  SIR: 178.715  ISR:   9.922  SAR:   7.666  \n",
      "bass            ==> SDR:   7.251  SIR: 178.715  ISR:   9.922  SAR:   7.666  \n",
      "\n"
     ]
    },
    {
     "name": "stderr",
     "output_type": "stream",
     "text": [
      " 44%|█████████████████████████████████████████████████████████████████████████████████▊                                                                                                        | 22/50 [03:56<04:43, 10.13s/it]"
     ]
    },
    {
     "name": "stdout",
     "output_type": "stream",
     "text": [
      "drums           ==> SDR:  -2.253  SIR: 269.757  ISR:   0.368  SAR: -16.164  \n",
      "bass            ==> SDR:  -2.253  SIR: 269.757  ISR:   0.368  SAR: -16.164  \n",
      "\n"
     ]
    },
    {
     "name": "stderr",
     "output_type": "stream",
     "text": [
      " 46%|█████████████████████████████████████████████████████████████████████████████████████▌                                                                                                    | 23/50 [04:05<04:29,  9.98s/it]"
     ]
    },
    {
     "name": "stdout",
     "output_type": "stream",
     "text": [
      "drums           ==> SDR:   3.327  SIR: 168.435  ISR:   5.687  SAR:   1.367  \n",
      "bass            ==> SDR:   3.327  SIR: 168.435  ISR:   5.687  SAR:   1.367  \n",
      "\n"
     ]
    },
    {
     "name": "stderr",
     "output_type": "stream",
     "text": [
      " 48%|█████████████████████████████████████████████████████████████████████████████████████████▎                                                                                                | 24/50 [04:15<04:16,  9.85s/it]"
     ]
    },
    {
     "name": "stdout",
     "output_type": "stream",
     "text": [
      "drums           ==> SDR:   5.422  SIR: 139.219  ISR:   9.674  SAR:   5.985  \n",
      "bass            ==> SDR:   5.422  SIR: 139.219  ISR:   9.674  SAR:   5.985  \n",
      "\n"
     ]
    },
    {
     "name": "stderr",
     "output_type": "stream",
     "text": [
      " 50%|█████████████████████████████████████████████████████████████████████████████████████████████                                                                                             | 25/50 [04:25<04:10, 10.02s/it]"
     ]
    },
    {
     "name": "stdout",
     "output_type": "stream",
     "text": [
      "drums           ==> SDR:   3.478  SIR: 221.382  ISR:   6.186  SAR:   2.060  \n",
      "bass            ==> SDR:   3.478  SIR: 221.382  ISR:   6.186  SAR:   2.060  \n",
      "\n"
     ]
    },
    {
     "name": "stderr",
     "output_type": "stream",
     "text": [
      " 52%|████████████████████████████████████████████████████████████████████████████████████████████████▋                                                                                         | 26/50 [04:35<03:56,  9.87s/it]"
     ]
    },
    {
     "name": "stdout",
     "output_type": "stream",
     "text": [
      "drums           ==> SDR:  10.402  SIR: 178.375  ISR:  16.693  SAR:  10.146  \n",
      "bass            ==> SDR:  10.402  SIR: 178.375  ISR:  16.693  SAR:  10.146  \n",
      "\n"
     ]
    },
    {
     "name": "stderr",
     "output_type": "stream",
     "text": [
      " 54%|████████████████████████████████████████████████████████████████████████████████████████████████████▍                                                                                     | 27/50 [04:45<03:47,  9.91s/it]"
     ]
    },
    {
     "name": "stdout",
     "output_type": "stream",
     "text": [
      "drums           ==> SDR:   7.641  SIR: 185.327  ISR:  14.460  SAR:   7.185  \n",
      "bass            ==> SDR:   7.641  SIR: 185.327  ISR:  14.460  SAR:   7.185  \n",
      "\n"
     ]
    },
    {
     "name": "stderr",
     "output_type": "stream",
     "text": [
      " 56%|████████████████████████████████████████████████████████████████████████████████████████████████████████▏                                                                                 | 28/50 [04:55<03:42, 10.11s/it]"
     ]
    },
    {
     "name": "stdout",
     "output_type": "stream",
     "text": [
      "drums           ==> SDR:   8.823  SIR: 199.598  ISR:  12.135  SAR:   9.207  \n",
      "bass            ==> SDR:   8.823  SIR: 199.598  ISR:  12.135  SAR:   9.207  \n",
      "\n"
     ]
    },
    {
     "name": "stderr",
     "output_type": "stream",
     "text": [
      " 58%|███████████████████████████████████████████████████████████████████████████████████████████████████████████▉                                                                              | 29/50 [05:05<03:29,  9.98s/it]"
     ]
    },
    {
     "name": "stdout",
     "output_type": "stream",
     "text": [
      "drums           ==> SDR:   5.072  SIR: 186.881  ISR:   6.839  SAR:   6.182  \n",
      "bass            ==> SDR:   5.072  SIR: 186.881  ISR:   6.839  SAR:   6.182  \n",
      "\n"
     ]
    },
    {
     "name": "stderr",
     "output_type": "stream",
     "text": [
      " 60%|███████████████████████████████████████████████████████████████████████████████████████████████████████████████▌                                                                          | 30/50 [05:15<03:21, 10.07s/it]"
     ]
    },
    {
     "name": "stdout",
     "output_type": "stream",
     "text": [
      "drums           ==> SDR:   5.451  SIR: 215.102  ISR:   8.543  SAR:   4.732  \n",
      "bass            ==> SDR:   5.451  SIR: 215.102  ISR:   8.543  SAR:   4.732  \n",
      "\n"
     ]
    },
    {
     "name": "stderr",
     "output_type": "stream",
     "text": [
      " 62%|███████████████████████████████████████████████████████████████████████████████████████████████████████████████████▎                                                                      | 31/50 [05:25<03:10, 10.05s/it]"
     ]
    },
    {
     "name": "stdout",
     "output_type": "stream",
     "text": [
      "drums           ==> SDR:   3.424  SIR: 194.222  ISR:   8.992  SAR:   1.708  \n",
      "bass            ==> SDR:   3.424  SIR: 194.222  ISR:   8.992  SAR:   1.708  \n",
      "\n"
     ]
    },
    {
     "name": "stderr",
     "output_type": "stream",
     "text": [
      " 64%|███████████████████████████████████████████████████████████████████████████████████████████████████████████████████████                                                                   | 32/50 [05:35<02:57,  9.87s/it]"
     ]
    },
    {
     "name": "stdout",
     "output_type": "stream",
     "text": [
      "drums           ==> SDR:   0.790  SIR: 186.982  ISR:   4.222  SAR:  -0.011  \n",
      "bass            ==> SDR:   0.790  SIR: 186.982  ISR:   4.222  SAR:  -0.011  \n",
      "\n"
     ]
    },
    {
     "name": "stderr",
     "output_type": "stream",
     "text": [
      " 66%|██████████████████████████████████████████████████████████████████████████████████████████████████████████████████████████▊                                                               | 33/50 [05:46<02:56, 10.39s/it]"
     ]
    },
    {
     "name": "stdout",
     "output_type": "stream",
     "text": [
      "drums           ==> SDR:   2.131  SIR: 219.456  ISR:   5.642  SAR:  -0.298  \n",
      "bass            ==> SDR:   2.131  SIR: 219.456  ISR:   5.642  SAR:  -0.298  \n",
      "\n"
     ]
    },
    {
     "name": "stderr",
     "output_type": "stream",
     "text": [
      " 68%|██████████████████████████████████████████████████████████████████████████████████████████████████████████████████████████████▍                                                           | 34/50 [05:57<02:46, 10.41s/it]"
     ]
    },
    {
     "name": "stdout",
     "output_type": "stream",
     "text": [
      "drums           ==> SDR:   4.262  SIR: 253.384  ISR:   8.366  SAR:   3.156  \n",
      "bass            ==> SDR:   4.262  SIR: 253.384  ISR:   8.366  SAR:   3.156  \n",
      "\n"
     ]
    },
    {
     "name": "stderr",
     "output_type": "stream",
     "text": [
      " 70%|██████████████████████████████████████████████████████████████████████████████████████████████████████████████████████████████████▏                                                       | 35/50 [06:07<02:37, 10.49s/it]"
     ]
    },
    {
     "name": "stdout",
     "output_type": "stream",
     "text": [
      "drums           ==> SDR:   8.569  SIR: 224.976  ISR:  12.740  SAR:   9.530  \n",
      "bass            ==> SDR:   8.569  SIR: 224.976  ISR:  12.740  SAR:   9.530  \n",
      "\n"
     ]
    },
    {
     "name": "stderr",
     "output_type": "stream",
     "text": [
      " 72%|█████████████████████████████████████████████████████████████████████████████████████████████████████████████████████████████████████▉                                                    | 36/50 [06:17<02:24, 10.34s/it]"
     ]
    },
    {
     "name": "stdout",
     "output_type": "stream",
     "text": [
      "drums           ==> SDR:   2.166  SIR: 200.806  ISR:   5.551  SAR:  -0.846  \n",
      "bass            ==> SDR:   2.166  SIR: 200.806  ISR:   5.551  SAR:  -0.846  \n",
      "\n"
     ]
    },
    {
     "name": "stderr",
     "output_type": "stream",
     "text": [
      " 74%|█████████████████████████████████████████████████████████████████████████████████████████████████████████████████████████████████████████▋                                                | 37/50 [06:28<02:13, 10.26s/it]"
     ]
    },
    {
     "name": "stdout",
     "output_type": "stream",
     "text": [
      "drums           ==> SDR:   4.274  SIR: 197.792  ISR:  17.063  SAR:   3.515  \n",
      "bass            ==> SDR:   4.274  SIR: 197.792  ISR:  17.063  SAR:   3.515  \n",
      "\n"
     ]
    },
    {
     "name": "stderr",
     "output_type": "stream",
     "text": [
      " 76%|█████████████████████████████████████████████████████████████████████████████████████████████████████████████████████████████████████████████▎                                            | 38/50 [06:37<02:01, 10.09s/it]"
     ]
    },
    {
     "name": "stdout",
     "output_type": "stream",
     "text": [
      "drums           ==> SDR:   7.784  SIR: 224.400  ISR:   9.692  SAR:   5.256  \n",
      "bass            ==> SDR:   7.784  SIR: 224.400  ISR:   9.692  SAR:   5.256  \n",
      "\n"
     ]
    },
    {
     "name": "stderr",
     "output_type": "stream",
     "text": [
      " 78%|█████████████████████████████████████████████████████████████████████████████████████████████████████████████████████████████████████████████████                                         | 39/50 [06:48<01:54, 10.42s/it]"
     ]
    },
    {
     "name": "stdout",
     "output_type": "stream",
     "text": [
      "drums           ==> SDR:   4.104  SIR: 226.609  ISR:   5.778  SAR:   4.990  \n",
      "bass            ==> SDR:   4.104  SIR: 226.609  ISR:   5.778  SAR:   4.990  \n",
      "\n"
     ]
    },
    {
     "name": "stderr",
     "output_type": "stream",
     "text": [
      " 80%|████████████████████████████████████████████████████████████████████████████████████████████████████████████████████████████████████████████████████▊                                     | 40/50 [06:59<01:45, 10.59s/it]"
     ]
    },
    {
     "name": "stdout",
     "output_type": "stream",
     "text": [
      "drums           ==> SDR:   2.790  SIR: 168.697  ISR:   4.199  SAR:   2.146  \n",
      "bass            ==> SDR:   2.790  SIR: 168.697  ISR:   4.199  SAR:   2.146  \n",
      "\n"
     ]
    },
    {
     "name": "stderr",
     "output_type": "stream",
     "text": [
      " 82%|████████████████████████████████████████████████████████████████████████████████████████████████████████████████████████████████████████████████████████▌                                 | 41/50 [07:10<01:35, 10.63s/it]"
     ]
    },
    {
     "name": "stdout",
     "output_type": "stream",
     "text": [
      "drums           ==> SDR:   4.873  SIR: 175.787  ISR:  11.625  SAR:   4.467  \n",
      "bass            ==> SDR:   4.873  SIR: 175.787  ISR:  11.625  SAR:   4.467  \n",
      "\n"
     ]
    },
    {
     "name": "stderr",
     "output_type": "stream",
     "text": [
      " 84%|████████████████████████████████████████████████████████████████████████████████████████████████████████████████████████████████████████████████████████████▏                             | 42/50 [07:20<01:24, 10.53s/it]"
     ]
    },
    {
     "name": "stdout",
     "output_type": "stream",
     "text": [
      "drums           ==> SDR:   6.837  SIR: 120.707  ISR:  12.267  SAR:   6.244  \n",
      "bass            ==> SDR:   6.837  SIR: 120.707  ISR:  12.267  SAR:   6.244  \n",
      "\n"
     ]
    },
    {
     "name": "stderr",
     "output_type": "stream",
     "text": [
      " 86%|███████████████████████████████████████████████████████████████████████████████████████████████████████████████████████████████████████████████████████████████▉                          | 43/50 [07:30<01:12, 10.32s/it]"
     ]
    },
    {
     "name": "stdout",
     "output_type": "stream",
     "text": [
      "drums           ==> SDR:   4.320  SIR: 176.531  ISR:   7.695  SAR:   2.794  \n",
      "bass            ==> SDR:   4.320  SIR: 176.531  ISR:   7.695  SAR:   2.794  \n",
      "\n"
     ]
    },
    {
     "name": "stderr",
     "output_type": "stream",
     "text": [
      " 88%|███████████████████████████████████████████████████████████████████████████████████████████████████████████████████████████████████████████████████████████████████▋                      | 44/50 [07:40<01:01, 10.21s/it]"
     ]
    },
    {
     "name": "stdout",
     "output_type": "stream",
     "text": [
      "drums           ==> SDR:   5.621  SIR: 216.824  ISR:   9.609  SAR:   4.391  \n",
      "bass            ==> SDR:   5.621  SIR: 216.824  ISR:   9.609  SAR:   4.391  \n",
      "\n"
     ]
    },
    {
     "name": "stderr",
     "output_type": "stream",
     "text": [
      " 90%|███████████████████████████████████████████████████████████████████████████████████████████████████████████████████████████████████████████████████████████████████████▍                  | 45/50 [07:51<00:52, 10.48s/it]"
     ]
    },
    {
     "name": "stdout",
     "output_type": "stream",
     "text": [
      "drums           ==> SDR:   0.471  SIR: 206.684  ISR:   0.868  SAR:  -1.014  \n",
      "bass            ==> SDR:   0.471  SIR: 206.684  ISR:   0.868  SAR:  -1.014  \n",
      "\n"
     ]
    },
    {
     "name": "stderr",
     "output_type": "stream",
     "text": [
      " 92%|███████████████████████████████████████████████████████████████████████████████████████████████████████████████████████████████████████████████████████████████████████████               | 46/50 [08:03<00:43, 10.82s/it]"
     ]
    },
    {
     "name": "stdout",
     "output_type": "stream",
     "text": [
      "drums           ==> SDR:   2.075  SIR: 203.633  ISR:   3.698  SAR:  -0.285  \n",
      "bass            ==> SDR:   2.075  SIR: 203.633  ISR:   3.698  SAR:  -0.285  \n",
      "\n"
     ]
    },
    {
     "name": "stderr",
     "output_type": "stream",
     "text": [
      " 94%|██████████████████████████████████████████████████████████████████████████████████████████████████████████████████████████████████████████████████████████████████████████████▊           | 47/50 [08:13<00:31, 10.62s/it]"
     ]
    },
    {
     "name": "stdout",
     "output_type": "stream",
     "text": [
      "drums           ==> SDR:   5.481  SIR: 164.384  ISR:   7.585  SAR:   4.756  \n",
      "bass            ==> SDR:   5.481  SIR: 164.384  ISR:   7.585  SAR:   4.756  \n",
      "\n"
     ]
    },
    {
     "name": "stderr",
     "output_type": "stream",
     "text": [
      " 96%|██████████████████████████████████████████████████████████████████████████████████████████████████████████████████████████████████████████████████████████████████████████████████▌       | 48/50 [08:25<00:21, 10.92s/it]"
     ]
    },
    {
     "name": "stdout",
     "output_type": "stream",
     "text": [
      "drums           ==> SDR:   3.290  SIR: 214.498  ISR:   6.970  SAR:   1.470  \n",
      "bass            ==> SDR:   3.290  SIR: 214.498  ISR:   6.970  SAR:   1.470  \n",
      "\n"
     ]
    },
    {
     "name": "stderr",
     "output_type": "stream",
     "text": [
      " 98%|██████████████████████████████████████████████████████████████████████████████████████████████████████████████████████████████████████████████████████████████████████████████████████▎   | 49/50 [08:35<00:10, 10.65s/it]"
     ]
    },
    {
     "name": "stdout",
     "output_type": "stream",
     "text": [
      "drums           ==> SDR:   9.255  SIR: 219.594  ISR:  16.441  SAR:   9.372  \n",
      "bass            ==> SDR:   9.255  SIR: 219.594  ISR:  16.441  SAR:   9.372  \n",
      "\n"
     ]
    },
    {
     "name": "stderr",
     "output_type": "stream",
     "text": [
      "100%|██████████████████████████████████████████████████████████████████████████████████████████████████████████████████████████████████████████████████████████████████████████████████████████| 50/50 [08:46<00:00, 10.53s/it]"
     ]
    },
    {
     "name": "stdout",
     "output_type": "stream",
     "text": [
      "drums           ==> SDR:   5.811  SIR: 207.947  ISR:   9.009  SAR:   5.153  \n",
      "bass            ==> SDR:   5.811  SIR: 207.947  ISR:   9.009  SAR:   5.153  \n",
      "\n"
     ]
    },
    {
     "name": "stderr",
     "output_type": "stream",
     "text": [
      "\n",
      "  2%|███▋                                                                                                                                                                                       | 1/50 [00:11<09:36, 11.77s/it]"
     ]
    },
    {
     "name": "stdout",
     "output_type": "stream",
     "text": [
      "drums           ==> SDR:   8.089  SIR: 199.663  ISR:  10.746  SAR:   7.126  \n",
      "bass            ==> SDR:   8.089  SIR: 199.663  ISR:  10.746  SAR:   7.126  \n",
      "\n"
     ]
    },
    {
     "name": "stderr",
     "output_type": "stream",
     "text": [
      "  4%|███████▍                                                                                                                                                                                   | 2/50 [00:22<08:59, 11.25s/it]"
     ]
    },
    {
     "name": "stdout",
     "output_type": "stream",
     "text": [
      "drums           ==> SDR:   2.870  SIR: 183.331  ISR:   5.961  SAR:   0.283  \n",
      "bass            ==> SDR:   2.870  SIR: 183.331  ISR:   5.961  SAR:   0.283  \n",
      "\n"
     ]
    },
    {
     "name": "stderr",
     "output_type": "stream",
     "text": [
      "  6%|███████████▏                                                                                                                                                                               | 3/50 [00:32<08:28, 10.81s/it]"
     ]
    },
    {
     "name": "stdout",
     "output_type": "stream",
     "text": [
      "drums           ==> SDR:   4.172  SIR: 227.065  ISR:   7.503  SAR:   2.831  \n",
      "bass            ==> SDR:   4.172  SIR: 227.065  ISR:   7.503  SAR:   2.831  \n",
      "\n"
     ]
    },
    {
     "name": "stderr",
     "output_type": "stream",
     "text": [
      "  8%|██████████████▉                                                                                                                                                                            | 4/50 [00:43<08:14, 10.75s/it]"
     ]
    },
    {
     "name": "stdout",
     "output_type": "stream",
     "text": [
      "drums           ==> SDR:   1.636  SIR: 221.899  ISR:   8.926  SAR:  -0.901  \n",
      "bass            ==> SDR:   1.636  SIR: 221.899  ISR:   8.926  SAR:  -0.901  \n",
      "\n"
     ]
    },
    {
     "name": "stderr",
     "output_type": "stream",
     "text": [
      " 10%|██████████████████▋                                                                                                                                                                        | 5/50 [00:54<08:03, 10.75s/it]"
     ]
    },
    {
     "name": "stdout",
     "output_type": "stream",
     "text": [
      "drums           ==> SDR:   8.781  SIR: 207.655  ISR:  14.492  SAR:   8.965  \n",
      "bass            ==> SDR:   8.781  SIR: 207.655  ISR:  14.492  SAR:   8.965  \n",
      "\n"
     ]
    },
    {
     "name": "stderr",
     "output_type": "stream",
     "text": [
      " 12%|██████████████████████▍                                                                                                                                                                    | 6/50 [01:04<07:47, 10.61s/it]"
     ]
    },
    {
     "name": "stdout",
     "output_type": "stream",
     "text": [
      "drums           ==> SDR:   5.399  SIR: 243.173  ISR:   8.855  SAR:   4.326  \n",
      "bass            ==> SDR:   5.399  SIR: 243.173  ISR:   8.855  SAR:   4.326  \n",
      "\n"
     ]
    },
    {
     "name": "stderr",
     "output_type": "stream",
     "text": [
      " 14%|██████████████████████████▏                                                                                                                                                                | 7/50 [01:16<07:50, 10.93s/it]"
     ]
    },
    {
     "name": "stdout",
     "output_type": "stream",
     "text": [
      "drums           ==> SDR:   4.814  SIR: 220.419  ISR:   8.419  SAR:   3.644  \n",
      "bass            ==> SDR:   4.814  SIR: 220.419  ISR:   8.419  SAR:   3.644  \n",
      "\n"
     ]
    },
    {
     "name": "stderr",
     "output_type": "stream",
     "text": [
      " 16%|█████████████████████████████▉                                                                                                                                                             | 8/50 [01:26<07:32, 10.77s/it]"
     ]
    },
    {
     "name": "stdout",
     "output_type": "stream",
     "text": [
      "drums           ==> SDR:   3.761  SIR: 239.391  ISR:   7.588  SAR:   2.188  \n",
      "bass            ==> SDR:   3.761  SIR: 239.391  ISR:   7.588  SAR:   2.188  \n",
      "\n"
     ]
    },
    {
     "name": "stderr",
     "output_type": "stream",
     "text": [
      " 18%|█████████████████████████████████▋                                                                                                                                                         | 9/50 [01:37<07:22, 10.79s/it]"
     ]
    },
    {
     "name": "stdout",
     "output_type": "stream",
     "text": [
      "drums           ==> SDR:   6.061  SIR: 164.653  ISR:   9.282  SAR:   5.817  \n",
      "bass            ==> SDR:   6.061  SIR: 164.653  ISR:   9.282  SAR:   5.817  \n",
      "\n"
     ]
    },
    {
     "name": "stderr",
     "output_type": "stream",
     "text": [
      " 20%|█████████████████████████████████████▏                                                                                                                                                    | 10/50 [01:49<07:23, 11.10s/it]"
     ]
    },
    {
     "name": "stdout",
     "output_type": "stream",
     "text": [
      "drums           ==> SDR:  -2.159  SIR: 178.289  ISR:   6.458  SAR:  -5.087  \n",
      "bass            ==> SDR:  -2.159  SIR: 178.289  ISR:   6.458  SAR:  -5.087  \n",
      "\n"
     ]
    },
    {
     "name": "stderr",
     "output_type": "stream",
     "text": [
      " 22%|████████████████████████████████████████▉                                                                                                                                                 | 11/50 [02:00<07:10, 11.03s/it]"
     ]
    },
    {
     "name": "stdout",
     "output_type": "stream",
     "text": [
      "drums           ==> SDR:   8.349  SIR: 214.655  ISR:  12.019  SAR:   7.891  \n",
      "bass            ==> SDR:   8.349  SIR: 214.655  ISR:  12.019  SAR:   7.891  \n",
      "\n"
     ]
    },
    {
     "name": "stderr",
     "output_type": "stream",
     "text": [
      " 24%|████████████████████████████████████████████▋                                                                                                                                             | 12/50 [02:10<06:54, 10.91s/it]"
     ]
    },
    {
     "name": "stdout",
     "output_type": "stream",
     "text": [
      "drums           ==> SDR:   4.168  SIR: 226.294  ISR:   5.469  SAR:   4.741  \n",
      "bass            ==> SDR:   4.168  SIR: 226.294  ISR:   5.469  SAR:   4.741  \n",
      "\n"
     ]
    },
    {
     "name": "stderr",
     "output_type": "stream",
     "text": [
      " 26%|████████████████████████████████████████████████▎                                                                                                                                         | 13/50 [02:19<06:23, 10.37s/it]"
     ]
    },
    {
     "name": "stdout",
     "output_type": "stream",
     "text": [
      "drums           ==> SDR:   2.368  SIR:  90.799  ISR:   3.046  SAR:  -0.213  \n",
      "bass            ==> SDR:   2.368  SIR:  90.799  ISR:   3.046  SAR:  -0.213  \n",
      "\n"
     ]
    },
    {
     "name": "stderr",
     "output_type": "stream",
     "text": [
      " 28%|████████████████████████████████████████████████████                                                                                                                                      | 14/50 [02:30<06:17, 10.48s/it]"
     ]
    },
    {
     "name": "stdout",
     "output_type": "stream",
     "text": [
      "drums           ==> SDR:   7.328  SIR: 210.948  ISR:  12.095  SAR:   7.479  \n",
      "bass            ==> SDR:   7.328  SIR: 210.948  ISR:  12.095  SAR:   7.479  \n",
      "\n"
     ]
    },
    {
     "name": "stderr",
     "output_type": "stream",
     "text": [
      " 30%|███████████████████████████████████████████████████████▊                                                                                                                                  | 15/50 [02:42<06:15, 10.72s/it]"
     ]
    },
    {
     "name": "stdout",
     "output_type": "stream",
     "text": [
      "drums           ==> SDR:   5.245  SIR: 206.118  ISR:   8.034  SAR:   4.166  \n",
      "bass            ==> SDR:   5.245  SIR: 206.118  ISR:   8.034  SAR:   4.166  \n",
      "\n"
     ]
    },
    {
     "name": "stderr",
     "output_type": "stream",
     "text": [
      " 32%|███████████████████████████████████████████████████████████▌                                                                                                                              | 16/50 [02:52<06:05, 10.74s/it]"
     ]
    },
    {
     "name": "stdout",
     "output_type": "stream",
     "text": [
      "drums           ==> SDR:   3.571  SIR: 212.207  ISR:   6.260  SAR:   1.526  \n",
      "bass            ==> SDR:   3.571  SIR: 212.207  ISR:   6.260  SAR:   1.526  \n",
      "\n"
     ]
    },
    {
     "name": "stderr",
     "output_type": "stream",
     "text": [
      " 34%|███████████████████████████████████████████████████████████████▏                                                                                                                          | 17/50 [03:02<05:46, 10.50s/it]"
     ]
    },
    {
     "name": "stdout",
     "output_type": "stream",
     "text": [
      "drums           ==> SDR:   1.482  SIR: 222.851  ISR:   3.319  SAR:  -2.974  \n",
      "bass            ==> SDR:   1.482  SIR: 222.851  ISR:   3.319  SAR:  -2.974  \n",
      "\n"
     ]
    },
    {
     "name": "stderr",
     "output_type": "stream",
     "text": [
      " 36%|██████████████████████████████████████████████████████████████████▉                                                                                                                       | 18/50 [03:13<05:35, 10.48s/it]"
     ]
    },
    {
     "name": "stdout",
     "output_type": "stream",
     "text": [
      "drums           ==> SDR:   8.201  SIR: 211.579  ISR:  12.103  SAR:   8.697  \n",
      "bass            ==> SDR:   8.201  SIR: 211.579  ISR:  12.103  SAR:   8.697  \n",
      "\n"
     ]
    },
    {
     "name": "stderr",
     "output_type": "stream",
     "text": [
      " 38%|██████████████████████████████████████████████████████████████████████▋                                                                                                                   | 19/50 [03:24<05:28, 10.60s/it]"
     ]
    },
    {
     "name": "stdout",
     "output_type": "stream",
     "text": [
      "drums           ==> SDR:  10.148  SIR: 211.448  ISR:  16.119  SAR:  10.199  \n",
      "bass            ==> SDR:  10.148  SIR: 211.448  ISR:  16.119  SAR:  10.199  \n",
      "\n"
     ]
    },
    {
     "name": "stderr",
     "output_type": "stream",
     "text": [
      " 40%|██████████████████████████████████████████████████████████████████████████▍                                                                                                               | 20/50 [03:34<05:16, 10.54s/it]"
     ]
    },
    {
     "name": "stdout",
     "output_type": "stream",
     "text": [
      "drums           ==> SDR:   9.088  SIR: 218.868  ISR:  12.333  SAR:   9.079  \n",
      "bass            ==> SDR:   9.088  SIR: 218.868  ISR:  12.333  SAR:   9.079  \n",
      "\n"
     ]
    },
    {
     "name": "stderr",
     "output_type": "stream",
     "text": [
      " 42%|██████████████████████████████████████████████████████████████████████████████                                                                                                            | 21/50 [03:45<05:06, 10.57s/it]"
     ]
    },
    {
     "name": "stdout",
     "output_type": "stream",
     "text": [
      "drums           ==> SDR:   7.025  SIR: 182.927  ISR:   9.436  SAR:   7.512  \n",
      "bass            ==> SDR:   7.025  SIR: 182.927  ISR:   9.436  SAR:   7.512  \n",
      "\n"
     ]
    },
    {
     "name": "stderr",
     "output_type": "stream",
     "text": [
      " 44%|█████████████████████████████████████████████████████████████████████████████████▊                                                                                                        | 22/50 [03:55<04:50, 10.39s/it]"
     ]
    },
    {
     "name": "stdout",
     "output_type": "stream",
     "text": [
      "drums           ==> SDR:  -2.253  SIR: 269.757  ISR:   0.368  SAR: -16.164  \n",
      "bass            ==> SDR:  -2.253  SIR: 269.757  ISR:   0.368  SAR: -16.164  \n",
      "\n"
     ]
    },
    {
     "name": "stderr",
     "output_type": "stream",
     "text": [
      " 46%|█████████████████████████████████████████████████████████████████████████████████████▌                                                                                                    | 23/50 [04:04<04:36, 10.24s/it]"
     ]
    },
    {
     "name": "stdout",
     "output_type": "stream",
     "text": [
      "drums           ==> SDR:   3.278  SIR: 167.524  ISR:   5.521  SAR:   1.416  \n",
      "bass            ==> SDR:   3.278  SIR: 167.524  ISR:   5.521  SAR:   1.416  \n",
      "\n"
     ]
    },
    {
     "name": "stderr",
     "output_type": "stream",
     "text": [
      " 48%|█████████████████████████████████████████████████████████████████████████████████████████▎                                                                                                | 24/50 [04:15<04:27, 10.27s/it]"
     ]
    },
    {
     "name": "stdout",
     "output_type": "stream",
     "text": [
      "drums           ==> SDR:   5.518  SIR: 138.603  ISR:   9.354  SAR:   5.514  \n",
      "bass            ==> SDR:   5.518  SIR: 138.603  ISR:   9.354  SAR:   5.514  \n",
      "\n"
     ]
    },
    {
     "name": "stderr",
     "output_type": "stream",
     "text": [
      " 50%|█████████████████████████████████████████████████████████████████████████████████████████████                                                                                             | 25/50 [04:26<04:21, 10.46s/it]"
     ]
    },
    {
     "name": "stdout",
     "output_type": "stream",
     "text": [
      "drums           ==> SDR:   3.441  SIR: 226.197  ISR:   5.937  SAR:   2.000  \n",
      "bass            ==> SDR:   3.441  SIR: 226.197  ISR:   5.937  SAR:   2.000  \n",
      "\n"
     ]
    },
    {
     "name": "stderr",
     "output_type": "stream",
     "text": [
      " 52%|████████████████████████████████████████████████████████████████████████████████████████████████▋                                                                                         | 26/50 [04:36<04:12, 10.51s/it]"
     ]
    },
    {
     "name": "stdout",
     "output_type": "stream",
     "text": [
      "drums           ==> SDR:  10.148  SIR: 173.134  ISR:  16.707  SAR:   9.747  \n",
      "bass            ==> SDR:  10.148  SIR: 173.134  ISR:  16.707  SAR:   9.747  \n",
      "\n"
     ]
    },
    {
     "name": "stderr",
     "output_type": "stream",
     "text": [
      " 54%|████████████████████████████████████████████████████████████████████████████████████████████████████▍                                                                                     | 27/50 [04:47<04:00, 10.46s/it]"
     ]
    },
    {
     "name": "stdout",
     "output_type": "stream",
     "text": [
      "drums           ==> SDR:   7.063  SIR: 184.564  ISR:  13.603  SAR:   6.521  \n",
      "bass            ==> SDR:   7.063  SIR: 184.564  ISR:  13.603  SAR:   6.521  \n",
      "\n"
     ]
    },
    {
     "name": "stderr",
     "output_type": "stream",
     "text": [
      " 56%|████████████████████████████████████████████████████████████████████████████████████████████████████████▏                                                                                 | 28/50 [04:58<03:52, 10.58s/it]"
     ]
    },
    {
     "name": "stdout",
     "output_type": "stream",
     "text": [
      "drums           ==> SDR:   8.233  SIR: 197.314  ISR:  11.290  SAR:   8.596  \n",
      "bass            ==> SDR:   8.233  SIR: 197.314  ISR:  11.290  SAR:   8.596  \n",
      "\n"
     ]
    },
    {
     "name": "stderr",
     "output_type": "stream",
     "text": [
      " 58%|███████████████████████████████████████████████████████████████████████████████████████████████████████████▉                                                                              | 29/50 [05:08<03:43, 10.63s/it]"
     ]
    },
    {
     "name": "stdout",
     "output_type": "stream",
     "text": [
      "drums           ==> SDR:   4.895  SIR: 181.188  ISR:   6.697  SAR:   6.097  \n",
      "bass            ==> SDR:   4.895  SIR: 181.188  ISR:   6.697  SAR:   6.097  \n",
      "\n"
     ]
    },
    {
     "name": "stderr",
     "output_type": "stream",
     "text": [
      " 60%|███████████████████████████████████████████████████████████████████████████████████████████████████████████████▌                                                                          | 30/50 [05:19<03:30, 10.52s/it]"
     ]
    },
    {
     "name": "stdout",
     "output_type": "stream",
     "text": [
      "drums           ==> SDR:   4.840  SIR: 217.184  ISR:   7.320  SAR:   3.687  \n",
      "bass            ==> SDR:   4.840  SIR: 217.184  ISR:   7.320  SAR:   3.687  \n",
      "\n"
     ]
    },
    {
     "name": "stderr",
     "output_type": "stream",
     "text": [
      " 62%|███████████████████████████████████████████████████████████████████████████████████████████████████████████████████▎                                                                      | 31/50 [05:29<03:19, 10.51s/it]"
     ]
    },
    {
     "name": "stdout",
     "output_type": "stream",
     "text": [
      "drums           ==> SDR:   3.233  SIR: 192.239  ISR:   8.772  SAR:   1.446  \n",
      "bass            ==> SDR:   3.233  SIR: 192.239  ISR:   8.772  SAR:   1.446  \n",
      "\n"
     ]
    },
    {
     "name": "stderr",
     "output_type": "stream",
     "text": [
      " 64%|███████████████████████████████████████████████████████████████████████████████████████████████████████████████████████                                                                   | 32/50 [05:39<03:07, 10.42s/it]"
     ]
    },
    {
     "name": "stdout",
     "output_type": "stream",
     "text": [
      "drums           ==> SDR:   0.490  SIR: 185.263  ISR:   4.137  SAR:  -0.023  \n",
      "bass            ==> SDR:   0.490  SIR: 185.263  ISR:   4.137  SAR:  -0.023  \n",
      "\n"
     ]
    },
    {
     "name": "stderr",
     "output_type": "stream",
     "text": [
      " 66%|██████████████████████████████████████████████████████████████████████████████████████████████████████████████████████████▊                                                               | 33/50 [05:50<02:56, 10.40s/it]"
     ]
    },
    {
     "name": "stdout",
     "output_type": "stream",
     "text": [
      "drums           ==> SDR:   1.962  SIR: 219.597  ISR:   5.582  SAR:  -0.607  \n",
      "bass            ==> SDR:   1.962  SIR: 219.597  ISR:   5.582  SAR:  -0.607  \n",
      "\n"
     ]
    },
    {
     "name": "stderr",
     "output_type": "stream",
     "text": [
      " 68%|██████████████████████████████████████████████████████████████████████████████████████████████████████████████████████████████▍                                                           | 34/50 [06:00<02:46, 10.38s/it]"
     ]
    },
    {
     "name": "stdout",
     "output_type": "stream",
     "text": [
      "drums           ==> SDR:   4.318  SIR: 252.947  ISR:   8.039  SAR:   3.214  \n",
      "bass            ==> SDR:   4.318  SIR: 252.947  ISR:   8.039  SAR:   3.214  \n",
      "\n"
     ]
    },
    {
     "name": "stderr",
     "output_type": "stream",
     "text": [
      " 70%|██████████████████████████████████████████████████████████████████████████████████████████████████████████████████████████████████▏                                                       | 35/50 [06:10<02:35, 10.38s/it]"
     ]
    },
    {
     "name": "stdout",
     "output_type": "stream",
     "text": [
      "drums           ==> SDR:   8.563  SIR: 225.579  ISR:  12.692  SAR:   9.148  \n",
      "bass            ==> SDR:   8.563  SIR: 225.579  ISR:  12.692  SAR:   9.148  \n",
      "\n"
     ]
    },
    {
     "name": "stderr",
     "output_type": "stream",
     "text": [
      " 72%|█████████████████████████████████████████████████████████████████████████████████████████████████████████████████████████████████████▉                                                    | 36/50 [06:21<02:26, 10.43s/it]"
     ]
    },
    {
     "name": "stdout",
     "output_type": "stream",
     "text": [
      "drums           ==> SDR:   2.023  SIR: 192.209  ISR:   5.301  SAR:  -0.788  \n",
      "bass            ==> SDR:   2.023  SIR: 192.209  ISR:   5.301  SAR:  -0.788  \n",
      "\n"
     ]
    },
    {
     "name": "stderr",
     "output_type": "stream",
     "text": [
      " 74%|█████████████████████████████████████████████████████████████████████████████████████████████████████████████████████████████████████████▋                                                | 37/50 [06:32<02:16, 10.53s/it]"
     ]
    },
    {
     "name": "stdout",
     "output_type": "stream",
     "text": [
      "drums           ==> SDR:   3.751  SIR: 197.799  ISR:  15.864  SAR:   2.532  \n",
      "bass            ==> SDR:   3.751  SIR: 197.799  ISR:  15.864  SAR:   2.532  \n",
      "\n"
     ]
    },
    {
     "name": "stderr",
     "output_type": "stream",
     "text": [
      " 76%|█████████████████████████████████████████████████████████████████████████████████████████████████████████████████████████████████████████████▎                                            | 38/50 [06:43<02:08, 10.71s/it]"
     ]
    },
    {
     "name": "stdout",
     "output_type": "stream",
     "text": [
      "drums           ==> SDR:   7.870  SIR: 229.014  ISR:   9.404  SAR:   5.454  \n",
      "bass            ==> SDR:   7.870  SIR: 229.014  ISR:   9.404  SAR:   5.454  \n",
      "\n"
     ]
    },
    {
     "name": "stderr",
     "output_type": "stream",
     "text": [
      " 78%|█████████████████████████████████████████████████████████████████████████████████████████████████████████████████████████████████████████████████                                         | 39/50 [06:53<01:57, 10.72s/it]"
     ]
    },
    {
     "name": "stdout",
     "output_type": "stream",
     "text": [
      "drums           ==> SDR:   4.023  SIR: 223.912  ISR:   5.657  SAR:   4.880  \n",
      "bass            ==> SDR:   4.023  SIR: 223.912  ISR:   5.657  SAR:   4.880  \n",
      "\n"
     ]
    },
    {
     "name": "stderr",
     "output_type": "stream",
     "text": [
      " 80%|████████████████████████████████████████████████████████████████████████████████████████████████████████████████████████████████████████████████████▊                                     | 40/50 [07:04<01:47, 10.70s/it]"
     ]
    },
    {
     "name": "stdout",
     "output_type": "stream",
     "text": [
      "drums           ==> SDR:   2.655  SIR: 176.211  ISR:   3.966  SAR:   1.988  \n",
      "bass            ==> SDR:   2.655  SIR: 176.211  ISR:   3.966  SAR:   1.988  \n",
      "\n"
     ]
    },
    {
     "name": "stderr",
     "output_type": "stream",
     "text": [
      " 82%|████████████████████████████████████████████████████████████████████████████████████████████████████████████████████████████████████████████████████████▌                                 | 41/50 [07:14<01:35, 10.60s/it]"
     ]
    },
    {
     "name": "stdout",
     "output_type": "stream",
     "text": [
      "drums           ==> SDR:   4.868  SIR: 179.049  ISR:  10.882  SAR:   4.004  \n",
      "bass            ==> SDR:   4.868  SIR: 179.049  ISR:  10.882  SAR:   4.004  \n",
      "\n"
     ]
    },
    {
     "name": "stderr",
     "output_type": "stream",
     "text": [
      " 84%|████████████████████████████████████████████████████████████████████████████████████████████████████████████████████████████████████████████████████████████▏                             | 42/50 [07:24<01:22, 10.34s/it]"
     ]
    },
    {
     "name": "stdout",
     "output_type": "stream",
     "text": [
      "drums           ==> SDR:   7.036  SIR: 120.514  ISR:  11.687  SAR:   6.148  \n",
      "bass            ==> SDR:   7.036  SIR: 120.514  ISR:  11.687  SAR:   6.148  \n",
      "\n"
     ]
    },
    {
     "name": "stderr",
     "output_type": "stream",
     "text": [
      " 86%|███████████████████████████████████████████████████████████████████████████████████████████████████████████████████████████████████████████████████████████████▉                          | 43/50 [07:34<01:11, 10.24s/it]"
     ]
    },
    {
     "name": "stdout",
     "output_type": "stream",
     "text": [
      "drums           ==> SDR:   4.050  SIR: 175.103  ISR:   7.355  SAR:   2.427  \n",
      "bass            ==> SDR:   4.050  SIR: 175.103  ISR:   7.355  SAR:   2.427  \n",
      "\n"
     ]
    },
    {
     "name": "stderr",
     "output_type": "stream",
     "text": [
      " 88%|███████████████████████████████████████████████████████████████████████████████████████████████████████████████████████████████████████████████████████████████████▋                      | 44/50 [07:44<01:00, 10.02s/it]"
     ]
    },
    {
     "name": "stdout",
     "output_type": "stream",
     "text": [
      "drums           ==> SDR:   3.987  SIR: 219.320  ISR:   9.255  SAR:   4.625  \n",
      "bass            ==> SDR:   3.987  SIR: 219.320  ISR:   9.255  SAR:   4.625  \n",
      "\n"
     ]
    },
    {
     "name": "stderr",
     "output_type": "stream",
     "text": [
      " 90%|███████████████████████████████████████████████████████████████████████████████████████████████████████████████████████████████████████████████████████████████████████▍                  | 45/50 [07:54<00:50, 10.15s/it]"
     ]
    },
    {
     "name": "stdout",
     "output_type": "stream",
     "text": [
      "drums           ==> SDR:   0.321  SIR: 204.368  ISR:   0.678  SAR:  -1.180  \n",
      "bass            ==> SDR:   0.321  SIR: 204.368  ISR:   0.678  SAR:  -1.180  \n",
      "\n"
     ]
    },
    {
     "name": "stderr",
     "output_type": "stream",
     "text": [
      " 92%|███████████████████████████████████████████████████████████████████████████████████████████████████████████████████████████████████████████████████████████████████████████               | 46/50 [08:04<00:40, 10.14s/it]"
     ]
    },
    {
     "name": "stdout",
     "output_type": "stream",
     "text": [
      "drums           ==> SDR:   2.035  SIR: 204.125  ISR:   3.677  SAR:  -0.503  \n",
      "bass            ==> SDR:   2.035  SIR: 204.125  ISR:   3.677  SAR:  -0.503  \n",
      "\n"
     ]
    },
    {
     "name": "stderr",
     "output_type": "stream",
     "text": [
      " 94%|██████████████████████████████████████████████████████████████████████████████████████████████████████████████████████████████████████████████████████████████████████████████▊           | 47/50 [08:13<00:29,  9.84s/it]"
     ]
    },
    {
     "name": "stdout",
     "output_type": "stream",
     "text": [
      "drums           ==> SDR:   4.663  SIR: 164.783  ISR:   7.529  SAR:   4.592  \n",
      "bass            ==> SDR:   4.663  SIR: 164.783  ISR:   7.529  SAR:   4.592  \n",
      "\n"
     ]
    },
    {
     "name": "stderr",
     "output_type": "stream",
     "text": [
      " 96%|██████████████████████████████████████████████████████████████████████████████████████████████████████████████████████████████████████████████████████████████████████████████████▌       | 48/50 [08:23<00:19,  9.77s/it]"
     ]
    },
    {
     "name": "stdout",
     "output_type": "stream",
     "text": [
      "drums           ==> SDR:   3.227  SIR: 212.585  ISR:   6.529  SAR:   1.341  \n",
      "bass            ==> SDR:   3.227  SIR: 212.585  ISR:   6.529  SAR:   1.341  \n",
      "\n"
     ]
    },
    {
     "name": "stderr",
     "output_type": "stream",
     "text": [
      " 98%|██████████████████████████████████████████████████████████████████████████████████████████████████████████████████████████████████████████████████████████████████████████████████████▎   | 49/50 [08:33<00:09,  9.73s/it]"
     ]
    },
    {
     "name": "stdout",
     "output_type": "stream",
     "text": [
      "drums           ==> SDR:   9.209  SIR: 220.029  ISR:  15.755  SAR:   8.991  \n",
      "bass            ==> SDR:   9.209  SIR: 220.029  ISR:  15.755  SAR:   8.991  \n",
      "\n"
     ]
    },
    {
     "name": "stderr",
     "output_type": "stream",
     "text": [
      "100%|██████████████████████████████████████████████████████████████████████████████████████████████████████████████████████████████████████████████████████████████████████████████████████████| 50/50 [08:42<00:00, 10.46s/it]"
     ]
    },
    {
     "name": "stdout",
     "output_type": "stream",
     "text": [
      "drums           ==> SDR:   5.719  SIR: 211.538  ISR:   8.791  SAR:   4.810  \n",
      "bass            ==> SDR:   5.719  SIR: 211.538  ISR:   8.791  SAR:   4.810  \n",
      "\n"
     ]
    },
    {
     "name": "stderr",
     "output_type": "stream",
     "text": [
      "\n",
      "  2%|███▋                                                                                                                                                                                       | 1/50 [00:09<07:53,  9.67s/it]"
     ]
    },
    {
     "name": "stdout",
     "output_type": "stream",
     "text": [
      "drums           ==> SDR:   7.579  SIR: 216.610  ISR:  10.565  SAR:   6.790  \n",
      "bass            ==> SDR:   7.579  SIR: 216.610  ISR:  10.565  SAR:   6.790  \n",
      "\n"
     ]
    },
    {
     "name": "stderr",
     "output_type": "stream",
     "text": [
      "  4%|███████▍                                                                                                                                                                                   | 2/50 [00:19<07:40,  9.59s/it]"
     ]
    },
    {
     "name": "stdout",
     "output_type": "stream",
     "text": [
      "drums           ==> SDR:   2.667  SIR: 182.311  ISR:   5.604  SAR:   0.173  \n",
      "bass            ==> SDR:   2.667  SIR: 182.311  ISR:   5.604  SAR:   0.173  \n",
      "\n"
     ]
    },
    {
     "name": "stderr",
     "output_type": "stream",
     "text": [
      "  6%|███████████▏                                                                                                                                                                               | 3/50 [00:28<07:26,  9.50s/it]"
     ]
    },
    {
     "name": "stdout",
     "output_type": "stream",
     "text": [
      "drums           ==> SDR:   4.059  SIR: 238.275  ISR:   7.089  SAR:   2.617  \n",
      "bass            ==> SDR:   4.059  SIR: 238.275  ISR:   7.089  SAR:   2.617  \n",
      "\n"
     ]
    },
    {
     "name": "stderr",
     "output_type": "stream",
     "text": [
      "  8%|██████████████▉                                                                                                                                                                            | 4/50 [00:37<07:14,  9.45s/it]"
     ]
    },
    {
     "name": "stdout",
     "output_type": "stream",
     "text": [
      "drums           ==> SDR:   1.524  SIR: 220.144  ISR:   9.293  SAR:  -0.556  \n",
      "bass            ==> SDR:   1.524  SIR: 220.144  ISR:   9.293  SAR:  -0.556  \n",
      "\n"
     ]
    },
    {
     "name": "stderr",
     "output_type": "stream",
     "text": [
      " 10%|██████████████████▋                                                                                                                                                                        | 5/50 [00:47<07:09,  9.55s/it]"
     ]
    },
    {
     "name": "stdout",
     "output_type": "stream",
     "text": [
      "drums           ==> SDR:   8.660  SIR: 201.174  ISR:  13.546  SAR:   8.487  \n",
      "bass            ==> SDR:   8.660  SIR: 201.174  ISR:  13.546  SAR:   8.487  \n",
      "\n"
     ]
    },
    {
     "name": "stderr",
     "output_type": "stream",
     "text": [
      " 12%|██████████████████████▍                                                                                                                                                                    | 6/50 [00:57<06:59,  9.52s/it]"
     ]
    },
    {
     "name": "stdout",
     "output_type": "stream",
     "text": [
      "drums           ==> SDR:   5.168  SIR: 235.984  ISR:   8.410  SAR:   3.807  \n",
      "bass            ==> SDR:   5.168  SIR: 235.984  ISR:   8.410  SAR:   3.807  \n",
      "\n"
     ]
    },
    {
     "name": "stderr",
     "output_type": "stream",
     "text": [
      " 14%|██████████████████████████▏                                                                                                                                                                | 7/50 [01:07<06:54,  9.64s/it]"
     ]
    },
    {
     "name": "stdout",
     "output_type": "stream",
     "text": [
      "drums           ==> SDR:   4.671  SIR: 222.257  ISR:   7.894  SAR:   3.158  \n",
      "bass            ==> SDR:   4.671  SIR: 222.257  ISR:   7.894  SAR:   3.158  \n",
      "\n"
     ]
    },
    {
     "name": "stderr",
     "output_type": "stream",
     "text": [
      " 16%|█████████████████████████████▉                                                                                                                                                             | 8/50 [01:16<06:44,  9.63s/it]"
     ]
    },
    {
     "name": "stdout",
     "output_type": "stream",
     "text": [
      "drums           ==> SDR:   3.767  SIR: 244.261  ISR:   7.107  SAR:   1.738  \n",
      "bass            ==> SDR:   3.767  SIR: 244.261  ISR:   7.107  SAR:   1.738  \n",
      "\n"
     ]
    },
    {
     "name": "stderr",
     "output_type": "stream",
     "text": [
      " 18%|█████████████████████████████████▋                                                                                                                                                         | 9/50 [01:26<06:33,  9.61s/it]"
     ]
    },
    {
     "name": "stdout",
     "output_type": "stream",
     "text": [
      "drums           ==> SDR:   5.276  SIR: 164.529  ISR:   8.606  SAR:   5.383  \n",
      "bass            ==> SDR:   5.276  SIR: 164.529  ISR:   8.606  SAR:   5.383  \n",
      "\n"
     ]
    },
    {
     "name": "stderr",
     "output_type": "stream",
     "text": [
      " 20%|█████████████████████████████████████▏                                                                                                                                                    | 10/50 [01:36<06:26,  9.67s/it]"
     ]
    },
    {
     "name": "stdout",
     "output_type": "stream",
     "text": [
      "drums           ==> SDR:  -2.159  SIR: 180.558  ISR:   5.614  SAR:  -5.781  \n",
      "bass            ==> SDR:  -2.159  SIR: 180.558  ISR:   5.614  SAR:  -5.781  \n",
      "\n"
     ]
    },
    {
     "name": "stderr",
     "output_type": "stream",
     "text": [
      " 22%|████████████████████████████████████████▉                                                                                                                                                 | 11/50 [01:45<06:17,  9.67s/it]"
     ]
    },
    {
     "name": "stdout",
     "output_type": "stream",
     "text": [
      "drums           ==> SDR:   7.977  SIR: 215.869  ISR:  11.520  SAR:   7.339  \n",
      "bass            ==> SDR:   7.977  SIR: 215.869  ISR:  11.520  SAR:   7.339  \n",
      "\n"
     ]
    },
    {
     "name": "stderr",
     "output_type": "stream",
     "text": [
      " 24%|████████████████████████████████████████████▋                                                                                                                                             | 12/50 [01:55<06:07,  9.66s/it]"
     ]
    },
    {
     "name": "stdout",
     "output_type": "stream",
     "text": [
      "drums           ==> SDR:   4.239  SIR: 223.887  ISR:   5.355  SAR:   4.693  \n",
      "bass            ==> SDR:   4.239  SIR: 223.887  ISR:   5.355  SAR:   4.693  \n",
      "\n"
     ]
    },
    {
     "name": "stderr",
     "output_type": "stream",
     "text": [
      " 26%|████████████████████████████████████████████████▎                                                                                                                                         | 13/50 [02:04<05:48,  9.42s/it]"
     ]
    },
    {
     "name": "stdout",
     "output_type": "stream",
     "text": [
      "drums           ==> SDR:   1.539  SIR:  87.719  ISR:   2.770  SAR:  -0.880  \n",
      "bass            ==> SDR:   1.539  SIR:  87.719  ISR:   2.770  SAR:  -0.880  \n",
      "\n"
     ]
    },
    {
     "name": "stderr",
     "output_type": "stream",
     "text": [
      " 28%|████████████████████████████████████████████████████                                                                                                                                      | 14/50 [02:14<05:47,  9.66s/it]"
     ]
    },
    {
     "name": "stdout",
     "output_type": "stream",
     "text": [
      "drums           ==> SDR:   7.100  SIR: 214.610  ISR:  11.653  SAR:   7.071  \n",
      "bass            ==> SDR:   7.100  SIR: 214.610  ISR:  11.653  SAR:   7.071  \n",
      "\n"
     ]
    },
    {
     "name": "stderr",
     "output_type": "stream",
     "text": [
      " 30%|███████████████████████████████████████████████████████▊                                                                                                                                  | 15/50 [02:24<05:42,  9.78s/it]"
     ]
    },
    {
     "name": "stdout",
     "output_type": "stream",
     "text": [
      "drums           ==> SDR:   4.925  SIR: 212.060  ISR:   7.444  SAR:   3.487  \n",
      "bass            ==> SDR:   4.925  SIR: 212.060  ISR:   7.444  SAR:   3.487  \n",
      "\n"
     ]
    },
    {
     "name": "stderr",
     "output_type": "stream",
     "text": [
      " 32%|███████████████████████████████████████████████████████████▌                                                                                                                              | 16/50 [02:34<05:30,  9.73s/it]"
     ]
    },
    {
     "name": "stdout",
     "output_type": "stream",
     "text": [
      "drums           ==> SDR:   3.878  SIR: 219.877  ISR:   6.234  SAR:   1.760  \n",
      "bass            ==> SDR:   3.878  SIR: 219.877  ISR:   6.234  SAR:   1.760  \n",
      "\n"
     ]
    },
    {
     "name": "stderr",
     "output_type": "stream",
     "text": [
      " 34%|███████████████████████████████████████████████████████████████▏                                                                                                                          | 17/50 [02:43<05:20,  9.71s/it]"
     ]
    },
    {
     "name": "stdout",
     "output_type": "stream",
     "text": [
      "drums           ==> SDR:   1.569  SIR: 223.344  ISR:   3.503  SAR:  -2.661  \n",
      "bass            ==> SDR:   1.569  SIR: 223.344  ISR:   3.503  SAR:  -2.661  \n",
      "\n"
     ]
    },
    {
     "name": "stderr",
     "output_type": "stream",
     "text": [
      " 36%|██████████████████████████████████████████████████████████████████▉                                                                                                                       | 18/50 [02:53<05:13,  9.80s/it]"
     ]
    },
    {
     "name": "stdout",
     "output_type": "stream",
     "text": [
      "drums           ==> SDR:   8.156  SIR: 198.280  ISR:  12.027  SAR:   8.604  \n",
      "bass            ==> SDR:   8.156  SIR: 198.280  ISR:  12.027  SAR:   8.604  \n",
      "\n"
     ]
    },
    {
     "name": "stderr",
     "output_type": "stream",
     "text": [
      " 38%|██████████████████████████████████████████████████████████████████████▋                                                                                                                   | 19/50 [03:03<05:01,  9.74s/it]"
     ]
    },
    {
     "name": "stdout",
     "output_type": "stream",
     "text": [
      "drums           ==> SDR:  10.137  SIR: 213.900  ISR:  16.327  SAR:  10.112  \n",
      "bass            ==> SDR:  10.137  SIR: 213.900  ISR:  16.327  SAR:  10.112  \n",
      "\n"
     ]
    },
    {
     "name": "stderr",
     "output_type": "stream",
     "text": [
      " 40%|██████████████████████████████████████████████████████████████████████████▍                                                                                                               | 20/50 [03:13<04:54,  9.83s/it]"
     ]
    },
    {
     "name": "stdout",
     "output_type": "stream",
     "text": [
      "drums           ==> SDR:   8.898  SIR: 219.544  ISR:  12.200  SAR:   8.981  \n",
      "bass            ==> SDR:   8.898  SIR: 219.544  ISR:  12.200  SAR:   8.981  \n",
      "\n"
     ]
    },
    {
     "name": "stderr",
     "output_type": "stream",
     "text": [
      " 42%|██████████████████████████████████████████████████████████████████████████████                                                                                                            | 21/50 [03:23<04:44,  9.81s/it]"
     ]
    },
    {
     "name": "stdout",
     "output_type": "stream",
     "text": [
      "drums           ==> SDR:   6.893  SIR: 182.755  ISR:   9.139  SAR:   7.240  \n",
      "bass            ==> SDR:   6.893  SIR: 182.755  ISR:   9.139  SAR:   7.240  \n",
      "\n"
     ]
    },
    {
     "name": "stderr",
     "output_type": "stream",
     "text": [
      " 44%|█████████████████████████████████████████████████████████████████████████████████▊                                                                                                        | 22/50 [03:33<04:36,  9.88s/it]"
     ]
    },
    {
     "name": "stdout",
     "output_type": "stream",
     "text": [
      "drums           ==> SDR:  -2.253  SIR: 269.757  ISR:   0.368  SAR: -16.164  \n",
      "bass            ==> SDR:  -2.253  SIR: 269.757  ISR:   0.368  SAR: -16.164  \n",
      "\n"
     ]
    },
    {
     "name": "stderr",
     "output_type": "stream",
     "text": [
      " 46%|█████████████████████████████████████████████████████████████████████████████████████▌                                                                                                    | 23/50 [03:42<04:22,  9.71s/it]"
     ]
    },
    {
     "name": "stdout",
     "output_type": "stream",
     "text": [
      "drums           ==> SDR:   3.387  SIR: 165.730  ISR:   5.145  SAR:   1.283  \n",
      "bass            ==> SDR:   3.387  SIR: 165.730  ISR:   5.145  SAR:   1.283  \n",
      "\n"
     ]
    },
    {
     "name": "stderr",
     "output_type": "stream",
     "text": [
      " 48%|█████████████████████████████████████████████████████████████████████████████████████████▎                                                                                                | 24/50 [03:53<04:25, 10.22s/it]"
     ]
    },
    {
     "name": "stdout",
     "output_type": "stream",
     "text": [
      "drums           ==> SDR:   4.884  SIR: 136.428  ISR:   8.538  SAR:   5.233  \n",
      "bass            ==> SDR:   4.884  SIR: 136.428  ISR:   8.538  SAR:   5.233  \n",
      "\n"
     ]
    },
    {
     "name": "stderr",
     "output_type": "stream",
     "text": [
      " 50%|█████████████████████████████████████████████████████████████████████████████████████████████                                                                                             | 25/50 [04:04<04:18, 10.33s/it]"
     ]
    },
    {
     "name": "stdout",
     "output_type": "stream",
     "text": [
      "drums           ==> SDR:   3.145  SIR: 229.573  ISR:   5.495  SAR:   1.672  \n",
      "bass            ==> SDR:   3.145  SIR: 229.573  ISR:   5.495  SAR:   1.672  \n",
      "\n"
     ]
    },
    {
     "name": "stderr",
     "output_type": "stream",
     "text": [
      " 52%|████████████████████████████████████████████████████████████████████████████████████████████████▋                                                                                         | 26/50 [04:14<04:07, 10.32s/it]"
     ]
    },
    {
     "name": "stdout",
     "output_type": "stream",
     "text": [
      "drums           ==> SDR:   9.499  SIR: 172.349  ISR:  14.841  SAR:   9.318  \n",
      "bass            ==> SDR:   9.499  SIR: 172.349  ISR:  14.841  SAR:   9.318  \n",
      "\n"
     ]
    },
    {
     "name": "stderr",
     "output_type": "stream",
     "text": [
      " 54%|████████████████████████████████████████████████████████████████████████████████████████████████████▍                                                                                     | 27/50 [04:24<03:53, 10.16s/it]"
     ]
    },
    {
     "name": "stdout",
     "output_type": "stream",
     "text": [
      "drums           ==> SDR:   7.409  SIR: 187.566  ISR:  13.570  SAR:   6.585  \n",
      "bass            ==> SDR:   7.409  SIR: 187.566  ISR:  13.570  SAR:   6.585  \n",
      "\n"
     ]
    },
    {
     "name": "stderr",
     "output_type": "stream",
     "text": [
      " 56%|████████████████████████████████████████████████████████████████████████████████████████████████████████▏                                                                                 | 28/50 [04:35<03:48, 10.40s/it]"
     ]
    },
    {
     "name": "stdout",
     "output_type": "stream",
     "text": [
      "drums           ==> SDR:   8.175  SIR: 200.244  ISR:  11.394  SAR:   8.613  \n",
      "bass            ==> SDR:   8.175  SIR: 200.244  ISR:  11.394  SAR:   8.613  \n",
      "\n"
     ]
    },
    {
     "name": "stderr",
     "output_type": "stream",
     "text": [
      " 58%|███████████████████████████████████████████████████████████████████████████████████████████████████████████▉                                                                              | 29/50 [04:46<03:39, 10.44s/it]"
     ]
    },
    {
     "name": "stdout",
     "output_type": "stream",
     "text": [
      "drums           ==> SDR:   4.693  SIR: 198.757  ISR:   6.438  SAR:   5.712  \n",
      "bass            ==> SDR:   4.693  SIR: 198.757  ISR:   6.438  SAR:   5.712  \n",
      "\n"
     ]
    },
    {
     "name": "stderr",
     "output_type": "stream",
     "text": [
      " 60%|███████████████████████████████████████████████████████████████████████████████████████████████████████████████▌                                                                          | 30/50 [04:56<03:31, 10.58s/it]"
     ]
    },
    {
     "name": "stdout",
     "output_type": "stream",
     "text": [
      "drums           ==> SDR:   5.243  SIR: 215.299  ISR:   7.642  SAR:   4.356  \n",
      "bass            ==> SDR:   5.243  SIR: 215.299  ISR:   7.642  SAR:   4.356  \n",
      "\n"
     ]
    },
    {
     "name": "stderr",
     "output_type": "stream",
     "text": [
      " 62%|███████████████████████████████████████████████████████████████████████████████████████████████████████████████████▎                                                                      | 31/50 [05:08<03:26, 10.85s/it]"
     ]
    },
    {
     "name": "stdout",
     "output_type": "stream",
     "text": [
      "drums           ==> SDR:   3.020  SIR: 186.571  ISR:   8.051  SAR:   1.744  \n",
      "bass            ==> SDR:   3.020  SIR: 186.571  ISR:   8.051  SAR:   1.744  \n",
      "\n"
     ]
    },
    {
     "name": "stderr",
     "output_type": "stream",
     "text": [
      " 64%|███████████████████████████████████████████████████████████████████████████████████████████████████████████████████████                                                                   | 32/50 [05:17<03:06, 10.34s/it]"
     ]
    },
    {
     "name": "stdout",
     "output_type": "stream",
     "text": [
      "drums           ==> SDR:   0.837  SIR: 192.684  ISR:   4.170  SAR:  -0.004  \n",
      "bass            ==> SDR:   0.837  SIR: 192.684  ISR:   4.170  SAR:  -0.004  \n",
      "\n"
     ]
    },
    {
     "name": "stderr",
     "output_type": "stream",
     "text": [
      " 66%|██████████████████████████████████████████████████████████████████████████████████████████████████████████████████████████▊                                                               | 33/50 [05:27<02:51, 10.09s/it]"
     ]
    },
    {
     "name": "stdout",
     "output_type": "stream",
     "text": [
      "drums           ==> SDR:   2.074  SIR: 216.361  ISR:   5.081  SAR:  -0.259  \n",
      "bass            ==> SDR:   2.074  SIR: 216.361  ISR:   5.081  SAR:  -0.259  \n",
      "\n"
     ]
    },
    {
     "name": "stderr",
     "output_type": "stream",
     "text": [
      " 68%|██████████████████████████████████████████████████████████████████████████████████████████████████████████████████████████████▍                                                           | 34/50 [05:36<02:39,  9.98s/it]"
     ]
    },
    {
     "name": "stdout",
     "output_type": "stream",
     "text": [
      "drums           ==> SDR:   4.036  SIR: 248.601  ISR:   7.593  SAR:   3.051  \n",
      "bass            ==> SDR:   4.036  SIR: 248.601  ISR:   7.593  SAR:   3.051  \n",
      "\n"
     ]
    },
    {
     "name": "stderr",
     "output_type": "stream",
     "text": [
      " 70%|██████████████████████████████████████████████████████████████████████████████████████████████████████████████████████████████████▏                                                       | 35/50 [05:46<02:27,  9.83s/it]"
     ]
    },
    {
     "name": "stdout",
     "output_type": "stream",
     "text": [
      "drums           ==> SDR:   8.133  SIR: 225.560  ISR:  12.133  SAR:   8.813  \n",
      "bass            ==> SDR:   8.133  SIR: 225.560  ISR:  12.133  SAR:   8.813  \n",
      "\n"
     ]
    },
    {
     "name": "stderr",
     "output_type": "stream",
     "text": [
      " 72%|█████████████████████████████████████████████████████████████████████████████████████████████████████████████████████████████████████▉                                                    | 36/50 [05:56<02:17,  9.82s/it]"
     ]
    },
    {
     "name": "stdout",
     "output_type": "stream",
     "text": [
      "drums           ==> SDR:   2.108  SIR: 197.215  ISR:   5.327  SAR:  -1.067  \n",
      "bass            ==> SDR:   2.108  SIR: 197.215  ISR:   5.327  SAR:  -1.067  \n",
      "\n"
     ]
    },
    {
     "name": "stderr",
     "output_type": "stream",
     "text": [
      " 74%|█████████████████████████████████████████████████████████████████████████████████████████████████████████████████████████████████████████▋                                                | 37/50 [06:05<02:06,  9.74s/it]"
     ]
    },
    {
     "name": "stdout",
     "output_type": "stream",
     "text": [
      "drums           ==> SDR:   3.652  SIR: 200.999  ISR:  15.281  SAR:   2.503  \n",
      "bass            ==> SDR:   3.652  SIR: 200.999  ISR:  15.281  SAR:   2.503  \n",
      "\n"
     ]
    },
    {
     "name": "stderr",
     "output_type": "stream",
     "text": [
      " 76%|█████████████████████████████████████████████████████████████████████████████████████████████████████████████████████████████████████████████▎                                            | 38/50 [06:15<01:57,  9.80s/it]"
     ]
    },
    {
     "name": "stdout",
     "output_type": "stream",
     "text": [
      "drums           ==> SDR:   7.866  SIR: 223.745  ISR:   8.921  SAR:   4.772  \n",
      "bass            ==> SDR:   7.866  SIR: 223.745  ISR:   8.921  SAR:   4.772  \n",
      "\n"
     ]
    },
    {
     "name": "stderr",
     "output_type": "stream",
     "text": [
      " 78%|█████████████████████████████████████████████████████████████████████████████████████████████████████████████████████████████████████████████████                                         | 39/50 [06:25<01:47,  9.75s/it]"
     ]
    },
    {
     "name": "stdout",
     "output_type": "stream",
     "text": [
      "drums           ==> SDR:   3.863  SIR: 224.292  ISR:   5.450  SAR:   4.687  \n",
      "bass            ==> SDR:   3.863  SIR: 224.292  ISR:   5.450  SAR:   4.687  \n",
      "\n"
     ]
    },
    {
     "name": "stderr",
     "output_type": "stream",
     "text": [
      " 80%|████████████████████████████████████████████████████████████████████████████████████████████████████████████████████████████████████████████████████▊                                     | 40/50 [06:35<01:40, 10.01s/it]"
     ]
    },
    {
     "name": "stdout",
     "output_type": "stream",
     "text": [
      "drums           ==> SDR:   2.470  SIR: 180.433  ISR:   3.763  SAR:   1.805  \n",
      "bass            ==> SDR:   2.470  SIR: 180.433  ISR:   3.763  SAR:   1.805  \n",
      "\n"
     ]
    },
    {
     "name": "stderr",
     "output_type": "stream",
     "text": [
      " 82%|████████████████████████████████████████████████████████████████████████████████████████████████████████████████████████████████████████████████████████▌                                 | 41/50 [06:45<01:30, 10.01s/it]"
     ]
    },
    {
     "name": "stdout",
     "output_type": "stream",
     "text": [
      "drums           ==> SDR:   3.600  SIR: 181.367  ISR:  10.384  SAR:   3.432  \n",
      "bass            ==> SDR:   3.600  SIR: 181.367  ISR:  10.384  SAR:   3.432  \n",
      "\n"
     ]
    },
    {
     "name": "stderr",
     "output_type": "stream",
     "text": [
      " 84%|████████████████████████████████████████████████████████████████████████████████████████████████████████████████████████████████████████████████████████████▏                             | 42/50 [06:55<01:20, 10.03s/it]"
     ]
    },
    {
     "name": "stdout",
     "output_type": "stream",
     "text": [
      "drums           ==> SDR:   6.784  SIR: 120.958  ISR:  11.420  SAR:   5.955  \n",
      "bass            ==> SDR:   6.784  SIR: 120.958  ISR:  11.420  SAR:   5.955  \n",
      "\n"
     ]
    },
    {
     "name": "stderr",
     "output_type": "stream",
     "text": [
      " 86%|███████████████████████████████████████████████████████████████████████████████████████████████████████████████████████████████████████████████████████████████▉                          | 43/50 [07:05<01:08,  9.82s/it]"
     ]
    },
    {
     "name": "stdout",
     "output_type": "stream",
     "text": [
      "drums           ==> SDR:   3.384  SIR: 175.788  ISR:   6.600  SAR:   1.938  \n",
      "bass            ==> SDR:   3.384  SIR: 175.788  ISR:   6.600  SAR:   1.938  \n",
      "\n"
     ]
    },
    {
     "name": "stderr",
     "output_type": "stream",
     "text": [
      " 88%|███████████████████████████████████████████████████████████████████████████████████████████████████████████████████████████████████████████████████████████████████▋                      | 44/50 [07:15<00:59,  9.95s/it]"
     ]
    },
    {
     "name": "stdout",
     "output_type": "stream",
     "text": [
      "drums           ==> SDR:   4.773  SIR: 218.494  ISR:   9.472  SAR:   4.137  \n",
      "bass            ==> SDR:   4.773  SIR: 218.494  ISR:   9.472  SAR:   4.137  \n",
      "\n"
     ]
    },
    {
     "name": "stderr",
     "output_type": "stream",
     "text": [
      " 90%|███████████████████████████████████████████████████████████████████████████████████████████████████████████████████████████████████████████████████████████████████████▍                  | 45/50 [07:25<00:49,  9.85s/it]"
     ]
    },
    {
     "name": "stdout",
     "output_type": "stream",
     "text": [
      "drums           ==> SDR:   0.300  SIR: 206.025  ISR:   0.654  SAR:   0.152  \n",
      "bass            ==> SDR:   0.300  SIR: 206.025  ISR:   0.654  SAR:   0.152  \n",
      "\n"
     ]
    },
    {
     "name": "stderr",
     "output_type": "stream",
     "text": [
      " 92%|███████████████████████████████████████████████████████████████████████████████████████████████████████████████████████████████████████████████████████████████████████████               | 46/50 [07:35<00:39,  9.97s/it]"
     ]
    },
    {
     "name": "stdout",
     "output_type": "stream",
     "text": [
      "drums           ==> SDR:   1.885  SIR: 203.019  ISR:   3.526  SAR:  -0.430  \n",
      "bass            ==> SDR:   1.885  SIR: 203.019  ISR:   3.526  SAR:  -0.430  \n",
      "\n"
     ]
    },
    {
     "name": "stderr",
     "output_type": "stream",
     "text": [
      " 94%|██████████████████████████████████████████████████████████████████████████████████████████████████████████████████████████████████████████████████████████████████████████████▊           | 47/50 [07:45<00:29,  9.93s/it]"
     ]
    },
    {
     "name": "stdout",
     "output_type": "stream",
     "text": [
      "drums           ==> SDR:   5.132  SIR: 162.279  ISR:   6.934  SAR:   4.205  \n",
      "bass            ==> SDR:   5.132  SIR: 162.279  ISR:   6.934  SAR:   4.205  \n",
      "\n"
     ]
    },
    {
     "name": "stderr",
     "output_type": "stream",
     "text": [
      " 96%|██████████████████████████████████████████████████████████████████████████████████████████████████████████████████████████████████████████████████████████████████████████████████▌       | 48/50 [07:55<00:20, 10.12s/it]"
     ]
    },
    {
     "name": "stdout",
     "output_type": "stream",
     "text": [
      "drums           ==> SDR:   2.849  SIR: 214.754  ISR:   6.264  SAR:   0.949  \n",
      "bass            ==> SDR:   2.849  SIR: 214.754  ISR:   6.264  SAR:   0.949  \n",
      "\n"
     ]
    },
    {
     "name": "stderr",
     "output_type": "stream",
     "text": [
      " 98%|██████████████████████████████████████████████████████████████████████████████████████████████████████████████████████████████████████████████████████████████████████████████████████▎   | 49/50 [08:05<00:09,  9.96s/it]"
     ]
    },
    {
     "name": "stdout",
     "output_type": "stream",
     "text": [
      "drums           ==> SDR:   9.092  SIR: 213.404  ISR:  15.525  SAR:   9.098  \n",
      "bass            ==> SDR:   9.092  SIR: 213.404  ISR:  15.525  SAR:   9.098  \n",
      "\n"
     ]
    },
    {
     "name": "stderr",
     "output_type": "stream",
     "text": [
      "100%|██████████████████████████████████████████████████████████████████████████████████████████████████████████████████████████████████████████████████████████████████████████████████████████| 50/50 [08:15<00:00,  9.91s/it]"
     ]
    },
    {
     "name": "stdout",
     "output_type": "stream",
     "text": [
      "drums           ==> SDR:   5.323  SIR: 207.614  ISR:   8.261  SAR:   4.556  \n",
      "bass            ==> SDR:   5.323  SIR: 207.614  ISR:   8.261  SAR:   4.556  \n",
      "\n"
     ]
    },
    {
     "name": "stderr",
     "output_type": "stream",
     "text": [
      "\n",
      "  2%|███▋                                                                                                                                                                                       | 1/50 [00:09<07:50,  9.61s/it]"
     ]
    },
    {
     "name": "stdout",
     "output_type": "stream",
     "text": [
      "drums           ==> SDR:   7.704  SIR: 199.474  ISR:  10.561  SAR:   6.775  \n",
      "bass            ==> SDR:   7.704  SIR: 199.474  ISR:  10.561  SAR:   6.775  \n",
      "\n"
     ]
    },
    {
     "name": "stderr",
     "output_type": "stream",
     "text": [
      "  4%|███████▍                                                                                                                                                                                   | 2/50 [00:19<07:52,  9.85s/it]"
     ]
    },
    {
     "name": "stdout",
     "output_type": "stream",
     "text": [
      "drums           ==> SDR:   2.706  SIR: 177.830  ISR:   5.229  SAR:  -0.266  \n",
      "bass            ==> SDR:   2.706  SIR: 177.830  ISR:   5.229  SAR:  -0.266  \n",
      "\n"
     ]
    },
    {
     "name": "stderr",
     "output_type": "stream",
     "text": [
      "  6%|███████████▏                                                                                                                                                                               | 3/50 [00:29<07:43,  9.86s/it]"
     ]
    },
    {
     "name": "stdout",
     "output_type": "stream",
     "text": [
      "drums           ==> SDR:   3.893  SIR: 237.040  ISR:   7.199  SAR:   2.644  \n",
      "bass            ==> SDR:   3.893  SIR: 237.040  ISR:   7.199  SAR:   2.644  \n",
      "\n"
     ]
    },
    {
     "name": "stderr",
     "output_type": "stream",
     "text": [
      "  8%|██████████████▉                                                                                                                                                                            | 4/50 [00:39<07:30,  9.80s/it]"
     ]
    },
    {
     "name": "stdout",
     "output_type": "stream",
     "text": [
      "drums           ==> SDR:   1.802  SIR: 219.439  ISR:   8.630  SAR:  -0.535  \n",
      "bass            ==> SDR:   1.802  SIR: 219.439  ISR:   8.630  SAR:  -0.535  \n",
      "\n"
     ]
    },
    {
     "name": "stderr",
     "output_type": "stream",
     "text": [
      " 10%|██████████████████▋                                                                                                                                                                        | 5/50 [00:49<07:29,  9.99s/it]"
     ]
    },
    {
     "name": "stdout",
     "output_type": "stream",
     "text": [
      "drums           ==> SDR:   8.217  SIR: 193.597  ISR:  12.761  SAR:   7.918  \n",
      "bass            ==> SDR:   8.217  SIR: 193.597  ISR:  12.761  SAR:   7.918  \n",
      "\n"
     ]
    },
    {
     "name": "stderr",
     "output_type": "stream",
     "text": [
      " 12%|██████████████████████▍                                                                                                                                                                    | 6/50 [01:00<07:35, 10.35s/it]"
     ]
    },
    {
     "name": "stdout",
     "output_type": "stream",
     "text": [
      "drums           ==> SDR:   4.996  SIR: 228.159  ISR:   7.950  SAR:   3.757  \n",
      "bass            ==> SDR:   4.996  SIR: 228.159  ISR:   7.950  SAR:   3.757  \n",
      "\n"
     ]
    },
    {
     "name": "stderr",
     "output_type": "stream",
     "text": [
      " 14%|██████████████████████████▏                                                                                                                                                                | 7/50 [01:11<07:27, 10.42s/it]"
     ]
    },
    {
     "name": "stdout",
     "output_type": "stream",
     "text": [
      "drums           ==> SDR:   4.428  SIR: 219.643  ISR:   7.797  SAR:   3.086  \n",
      "bass            ==> SDR:   4.428  SIR: 219.643  ISR:   7.797  SAR:   3.086  \n",
      "\n"
     ]
    },
    {
     "name": "stderr",
     "output_type": "stream",
     "text": [
      " 16%|█████████████████████████████▉                                                                                                                                                             | 8/50 [01:20<07:05, 10.13s/it]"
     ]
    },
    {
     "name": "stdout",
     "output_type": "stream",
     "text": [
      "drums           ==> SDR:   3.894  SIR: 240.728  ISR:   7.377  SAR:   2.274  \n",
      "bass            ==> SDR:   3.894  SIR: 240.728  ISR:   7.377  SAR:   2.274  \n",
      "\n"
     ]
    },
    {
     "name": "stderr",
     "output_type": "stream",
     "text": [
      " 18%|█████████████████████████████████▋                                                                                                                                                         | 9/50 [01:30<06:50, 10.01s/it]"
     ]
    },
    {
     "name": "stdout",
     "output_type": "stream",
     "text": [
      "drums           ==> SDR:   5.340  SIR: 164.526  ISR:   8.150  SAR:   4.938  \n",
      "bass            ==> SDR:   5.340  SIR: 164.526  ISR:   8.150  SAR:   4.938  \n",
      "\n"
     ]
    },
    {
     "name": "stderr",
     "output_type": "stream",
     "text": [
      " 20%|█████████████████████████████████████▏                                                                                                                                                    | 10/50 [01:40<06:40, 10.01s/it]"
     ]
    },
    {
     "name": "stdout",
     "output_type": "stream",
     "text": [
      "drums           ==> SDR:  -2.159  SIR: 189.919  ISR:   5.968  SAR:  -5.587  \n",
      "bass            ==> SDR:  -2.159  SIR: 189.919  ISR:   5.968  SAR:  -5.587  \n",
      "\n"
     ]
    },
    {
     "name": "stderr",
     "output_type": "stream",
     "text": [
      " 22%|████████████████████████████████████████▉                                                                                                                                                 | 11/50 [01:50<06:34, 10.10s/it]"
     ]
    },
    {
     "name": "stdout",
     "output_type": "stream",
     "text": [
      "drums           ==> SDR:   7.249  SIR: 218.363  ISR:  10.610  SAR:   6.432  \n",
      "bass            ==> SDR:   7.249  SIR: 218.363  ISR:  10.610  SAR:   6.432  \n",
      "\n"
     ]
    },
    {
     "name": "stderr",
     "output_type": "stream",
     "text": [
      " 24%|████████████████████████████████████████████▋                                                                                                                                             | 12/50 [02:01<06:27, 10.18s/it]"
     ]
    },
    {
     "name": "stdout",
     "output_type": "stream",
     "text": [
      "drums           ==> SDR:   4.046  SIR: 225.909  ISR:   5.189  SAR:   4.530  \n",
      "bass            ==> SDR:   4.046  SIR: 225.909  ISR:   5.189  SAR:   4.530  \n",
      "\n"
     ]
    },
    {
     "name": "stderr",
     "output_type": "stream",
     "text": [
      " 26%|████████████████████████████████████████████████▎                                                                                                                                         | 13/50 [02:09<06:01,  9.77s/it]"
     ]
    },
    {
     "name": "stdout",
     "output_type": "stream",
     "text": [
      "drums           ==> SDR:   1.635  SIR:  88.598  ISR:   2.678  SAR:  -1.407  \n",
      "bass            ==> SDR:   1.635  SIR:  88.598  ISR:   2.678  SAR:  -1.407  \n",
      "\n"
     ]
    },
    {
     "name": "stderr",
     "output_type": "stream",
     "text": [
      " 28%|████████████████████████████████████████████████████                                                                                                                                      | 14/50 [02:20<06:01, 10.03s/it]"
     ]
    },
    {
     "name": "stdout",
     "output_type": "stream",
     "text": [
      "drums           ==> SDR:   6.864  SIR: 211.329  ISR:  10.946  SAR:   7.014  \n",
      "bass            ==> SDR:   6.864  SIR: 211.329  ISR:  10.946  SAR:   7.014  \n",
      "\n"
     ]
    },
    {
     "name": "stderr",
     "output_type": "stream",
     "text": [
      " 30%|███████████████████████████████████████████████████████▊                                                                                                                                  | 15/50 [02:32<06:12, 10.65s/it]"
     ]
    },
    {
     "name": "stdout",
     "output_type": "stream",
     "text": [
      "drums           ==> SDR:   4.838  SIR: 211.966  ISR:   7.477  SAR:   3.486  \n",
      "bass            ==> SDR:   4.838  SIR: 211.966  ISR:   7.477  SAR:   3.486  \n",
      "\n"
     ]
    },
    {
     "name": "stderr",
     "output_type": "stream",
     "text": [
      " 32%|███████████████████████████████████████████████████████████▌                                                                                                                              | 16/50 [02:42<05:49, 10.28s/it]"
     ]
    },
    {
     "name": "stdout",
     "output_type": "stream",
     "text": [
      "drums           ==> SDR:   3.656  SIR: 215.708  ISR:   6.170  SAR:   1.644  \n",
      "bass            ==> SDR:   3.656  SIR: 215.708  ISR:   6.170  SAR:   1.644  \n",
      "\n"
     ]
    },
    {
     "name": "stderr",
     "output_type": "stream",
     "text": [
      " 34%|███████████████████████████████████████████████████████████████▏                                                                                                                          | 17/50 [02:51<05:30, 10.03s/it]"
     ]
    },
    {
     "name": "stdout",
     "output_type": "stream",
     "text": [
      "drums           ==> SDR:   1.530  SIR: 219.757  ISR:   3.504  SAR:  -2.665  \n",
      "bass            ==> SDR:   1.530  SIR: 219.757  ISR:   3.504  SAR:  -2.665  \n",
      "\n"
     ]
    },
    {
     "name": "stderr",
     "output_type": "stream",
     "text": [
      " 36%|██████████████████████████████████████████████████████████████████▉                                                                                                                       | 18/50 [03:01<05:23, 10.12s/it]"
     ]
    },
    {
     "name": "stdout",
     "output_type": "stream",
     "text": [
      "drums           ==> SDR:   7.822  SIR: 197.642  ISR:  11.145  SAR:   8.307  \n",
      "bass            ==> SDR:   7.822  SIR: 197.642  ISR:  11.145  SAR:   8.307  \n",
      "\n"
     ]
    },
    {
     "name": "stderr",
     "output_type": "stream",
     "text": [
      " 38%|██████████████████████████████████████████████████████████████████████▋                                                                                                                   | 19/50 [03:11<05:07,  9.93s/it]"
     ]
    },
    {
     "name": "stdout",
     "output_type": "stream",
     "text": [
      "drums           ==> SDR:   9.825  SIR: 216.883  ISR:  15.003  SAR:   9.757  \n",
      "bass            ==> SDR:   9.825  SIR: 216.883  ISR:  15.003  SAR:   9.757  \n",
      "\n"
     ]
    },
    {
     "name": "stderr",
     "output_type": "stream",
     "text": [
      " 40%|██████████████████████████████████████████████████████████████████████████▍                                                                                                               | 20/50 [03:21<04:55,  9.86s/it]"
     ]
    },
    {
     "name": "stdout",
     "output_type": "stream",
     "text": [
      "drums           ==> SDR:   8.246  SIR: 218.203  ISR:  11.091  SAR:   8.658  \n",
      "bass            ==> SDR:   8.246  SIR: 218.203  ISR:  11.091  SAR:   8.658  \n",
      "\n"
     ]
    },
    {
     "name": "stderr",
     "output_type": "stream",
     "text": [
      " 42%|██████████████████████████████████████████████████████████████████████████████                                                                                                            | 21/50 [03:30<04:40,  9.66s/it]"
     ]
    },
    {
     "name": "stdout",
     "output_type": "stream",
     "text": [
      "drums           ==> SDR:   6.422  SIR: 182.792  ISR:   8.909  SAR:   7.242  \n",
      "bass            ==> SDR:   6.422  SIR: 182.792  ISR:   8.909  SAR:   7.242  \n",
      "\n"
     ]
    },
    {
     "name": "stderr",
     "output_type": "stream",
     "text": [
      " 44%|█████████████████████████████████████████████████████████████████████████████████▊                                                                                                        | 22/50 [03:39<04:26,  9.53s/it]"
     ]
    },
    {
     "name": "stdout",
     "output_type": "stream",
     "text": [
      "drums           ==> SDR:  -2.253  SIR: 269.757  ISR:   0.368  SAR: -16.164  \n",
      "bass            ==> SDR:  -2.253  SIR: 269.757  ISR:   0.368  SAR: -16.164  \n",
      "\n"
     ]
    },
    {
     "name": "stderr",
     "output_type": "stream",
     "text": [
      " 46%|█████████████████████████████████████████████████████████████████████████████████████▌                                                                                                    | 23/50 [03:48<04:15,  9.45s/it]"
     ]
    },
    {
     "name": "stdout",
     "output_type": "stream",
     "text": [
      "drums           ==> SDR:   3.167  SIR: 164.854  ISR:   4.692  SAR:   0.910  \n",
      "bass            ==> SDR:   3.167  SIR: 164.854  ISR:   4.692  SAR:   0.910  \n",
      "\n"
     ]
    },
    {
     "name": "stderr",
     "output_type": "stream",
     "text": [
      " 48%|█████████████████████████████████████████████████████████████████████████████████████████▎                                                                                                | 24/50 [03:59<04:12,  9.73s/it]"
     ]
    },
    {
     "name": "stdout",
     "output_type": "stream",
     "text": [
      "drums           ==> SDR:   4.715  SIR: 138.987  ISR:   8.111  SAR:   4.567  \n",
      "bass            ==> SDR:   4.715  SIR: 138.987  ISR:   8.111  SAR:   4.567  \n",
      "\n"
     ]
    },
    {
     "name": "stderr",
     "output_type": "stream",
     "text": [
      " 50%|█████████████████████████████████████████████████████████████████████████████████████████████                                                                                             | 25/50 [04:09<04:08,  9.96s/it]"
     ]
    },
    {
     "name": "stdout",
     "output_type": "stream",
     "text": [
      "drums           ==> SDR:   2.971  SIR: 223.067  ISR:   5.255  SAR:   1.534  \n",
      "bass            ==> SDR:   2.971  SIR: 223.067  ISR:   5.255  SAR:   1.534  \n",
      "\n"
     ]
    },
    {
     "name": "stderr",
     "output_type": "stream",
     "text": [
      " 52%|████████████████████████████████████████████████████████████████████████████████████████████████▋                                                                                         | 26/50 [04:19<03:57,  9.91s/it]"
     ]
    },
    {
     "name": "stdout",
     "output_type": "stream",
     "text": [
      "drums           ==> SDR:   9.174  SIR: 190.194  ISR:  14.572  SAR:   9.259  \n",
      "bass            ==> SDR:   9.174  SIR: 190.194  ISR:  14.572  SAR:   9.259  \n",
      "\n"
     ]
    },
    {
     "name": "stderr",
     "output_type": "stream",
     "text": [
      " 54%|████████████████████████████████████████████████████████████████████████████████████████████████████▍                                                                                     | 27/50 [04:28<03:45,  9.80s/it]"
     ]
    },
    {
     "name": "stdout",
     "output_type": "stream",
     "text": [
      "drums           ==> SDR:   7.276  SIR: 185.005  ISR:  13.079  SAR:   5.897  \n",
      "bass            ==> SDR:   7.276  SIR: 185.005  ISR:  13.079  SAR:   5.897  \n",
      "\n"
     ]
    },
    {
     "name": "stderr",
     "output_type": "stream",
     "text": [
      " 56%|████████████████████████████████████████████████████████████████████████████████████████████████████████▏                                                                                 | 28/50 [04:38<03:36,  9.83s/it]"
     ]
    },
    {
     "name": "stdout",
     "output_type": "stream",
     "text": [
      "drums           ==> SDR:   7.236  SIR: 190.727  ISR:  10.249  SAR:   7.777  \n",
      "bass            ==> SDR:   7.236  SIR: 190.727  ISR:  10.249  SAR:   7.777  \n",
      "\n"
     ]
    },
    {
     "name": "stderr",
     "output_type": "stream",
     "text": [
      " 58%|███████████████████████████████████████████████████████████████████████████████████████████████████████████▉                                                                              | 29/50 [04:49<03:29,  9.97s/it]"
     ]
    },
    {
     "name": "stdout",
     "output_type": "stream",
     "text": [
      "drums           ==> SDR:   4.751  SIR: 195.972  ISR:   6.103  SAR:   5.623  \n",
      "bass            ==> SDR:   4.751  SIR: 195.972  ISR:   6.103  SAR:   5.623  \n",
      "\n"
     ]
    },
    {
     "name": "stderr",
     "output_type": "stream",
     "text": [
      " 60%|███████████████████████████████████████████████████████████████████████████████████████████████████████████████▌                                                                          | 30/50 [04:58<03:17,  9.85s/it]"
     ]
    },
    {
     "name": "stdout",
     "output_type": "stream",
     "text": [
      "drums           ==> SDR:   4.543  SIR: 210.918  ISR:   6.890  SAR:   3.310  \n",
      "bass            ==> SDR:   4.543  SIR: 210.918  ISR:   6.890  SAR:   3.310  \n",
      "\n"
     ]
    },
    {
     "name": "stderr",
     "output_type": "stream",
     "text": [
      " 62%|███████████████████████████████████████████████████████████████████████████████████████████████████████████████████▎                                                                      | 31/50 [05:08<03:06,  9.82s/it]"
     ]
    },
    {
     "name": "stdout",
     "output_type": "stream",
     "text": [
      "drums           ==> SDR:   2.986  SIR: 196.045  ISR:   8.386  SAR:   1.361  \n",
      "bass            ==> SDR:   2.986  SIR: 196.045  ISR:   8.386  SAR:   1.361  \n",
      "\n"
     ]
    },
    {
     "name": "stderr",
     "output_type": "stream",
     "text": [
      " 64%|███████████████████████████████████████████████████████████████████████████████████████████████████████████████████████                                                                   | 32/50 [05:17<02:52,  9.56s/it]"
     ]
    },
    {
     "name": "stdout",
     "output_type": "stream",
     "text": [
      "drums           ==> SDR:   0.739  SIR: 188.058  ISR:   3.628  SAR:  -0.036  \n",
      "bass            ==> SDR:   0.739  SIR: 188.058  ISR:   3.628  SAR:  -0.036  \n",
      "\n"
     ]
    },
    {
     "name": "stderr",
     "output_type": "stream",
     "text": [
      " 66%|██████████████████████████████████████████████████████████████████████████████████████████████████████████████████████████▊                                                               | 33/50 [05:27<02:43,  9.64s/it]"
     ]
    },
    {
     "name": "stdout",
     "output_type": "stream",
     "text": [
      "drums           ==> SDR:   2.027  SIR: 219.274  ISR:   4.601  SAR:  -0.819  \n",
      "bass            ==> SDR:   2.027  SIR: 219.274  ISR:   4.601  SAR:  -0.819  \n",
      "\n"
     ]
    },
    {
     "name": "stderr",
     "output_type": "stream",
     "text": [
      " 68%|██████████████████████████████████████████████████████████████████████████████████████████████████████████████████████████████▍                                                           | 34/50 [05:36<02:34,  9.65s/it]"
     ]
    },
    {
     "name": "stdout",
     "output_type": "stream",
     "text": [
      "drums           ==> SDR:   3.971  SIR: 254.275  ISR:   6.917  SAR:   2.415  \n",
      "bass            ==> SDR:   3.971  SIR: 254.275  ISR:   6.917  SAR:   2.415  \n",
      "\n"
     ]
    },
    {
     "name": "stderr",
     "output_type": "stream",
     "text": [
      " 70%|██████████████████████████████████████████████████████████████████████████████████████████████████████████████████████████████████▏                                                       | 35/50 [05:46<02:25,  9.70s/it]"
     ]
    },
    {
     "name": "stdout",
     "output_type": "stream",
     "text": [
      "drums           ==> SDR:   8.034  SIR: 226.390  ISR:  11.789  SAR:   8.908  \n",
      "bass            ==> SDR:   8.034  SIR: 226.390  ISR:  11.789  SAR:   8.908  \n",
      "\n"
     ]
    },
    {
     "name": "stderr",
     "output_type": "stream",
     "text": [
      " 72%|█████████████████████████████████████████████████████████████████████████████████████████████████████████████████████████████████████▉                                                    | 36/50 [05:56<02:18,  9.87s/it]"
     ]
    },
    {
     "name": "stdout",
     "output_type": "stream",
     "text": [
      "drums           ==> SDR:   2.190  SIR: 211.179  ISR:   4.841  SAR:  -0.958  \n",
      "bass            ==> SDR:   2.190  SIR: 211.179  ISR:   4.841  SAR:  -0.958  \n",
      "\n"
     ]
    },
    {
     "name": "stderr",
     "output_type": "stream",
     "text": [
      " 74%|█████████████████████████████████████████████████████████████████████████████████████████████████████████████████████████████████████████▋                                                | 37/50 [06:06<02:07,  9.79s/it]"
     ]
    },
    {
     "name": "stdout",
     "output_type": "stream",
     "text": [
      "drums           ==> SDR:   3.693  SIR: 205.076  ISR:  14.213  SAR:   2.441  \n",
      "bass            ==> SDR:   3.693  SIR: 205.076  ISR:  14.213  SAR:   2.441  \n",
      "\n"
     ]
    },
    {
     "name": "stderr",
     "output_type": "stream",
     "text": [
      " 76%|█████████████████████████████████████████████████████████████████████████████████████████████████████████████████████████████████████████████▎                                            | 38/50 [06:16<01:59,  9.96s/it]"
     ]
    },
    {
     "name": "stdout",
     "output_type": "stream",
     "text": [
      "drums           ==> SDR:   7.791  SIR: 224.634  ISR:   8.747  SAR:   5.100  \n",
      "bass            ==> SDR:   7.791  SIR: 224.634  ISR:   8.747  SAR:   5.100  \n",
      "\n"
     ]
    },
    {
     "name": "stderr",
     "output_type": "stream",
     "text": [
      " 78%|█████████████████████████████████████████████████████████████████████████████████████████████████████████████████████████████████████████████████                                         | 39/50 [06:27<01:50, 10.01s/it]"
     ]
    },
    {
     "name": "stdout",
     "output_type": "stream",
     "text": [
      "drums           ==> SDR:   3.772  SIR: 225.161  ISR:   5.460  SAR:   4.360  \n",
      "bass            ==> SDR:   3.772  SIR: 225.161  ISR:   5.460  SAR:   4.360  \n",
      "\n"
     ]
    },
    {
     "name": "stderr",
     "output_type": "stream",
     "text": [
      " 80%|████████████████████████████████████████████████████████████████████████████████████████████████████████████████████████████████████████████████████▊                                     | 40/50 [06:37<01:40, 10.01s/it]"
     ]
    },
    {
     "name": "stdout",
     "output_type": "stream",
     "text": [
      "drums           ==> SDR:   2.566  SIR: 174.205  ISR:   3.637  SAR:   1.749  \n",
      "bass            ==> SDR:   2.566  SIR: 174.205  ISR:   3.637  SAR:   1.749  \n",
      "\n"
     ]
    },
    {
     "name": "stderr",
     "output_type": "stream",
     "text": [
      " 82%|████████████████████████████████████████████████████████████████████████████████████████████████████████████████████████████████████████████████████████▌                                 | 41/50 [06:47<01:30, 10.02s/it]"
     ]
    },
    {
     "name": "stdout",
     "output_type": "stream",
     "text": [
      "drums           ==> SDR:   3.983  SIR: 185.246  ISR:   9.764  SAR:   3.233  \n",
      "bass            ==> SDR:   3.983  SIR: 185.246  ISR:   9.764  SAR:   3.233  \n",
      "\n"
     ]
    },
    {
     "name": "stderr",
     "output_type": "stream",
     "text": [
      " 84%|████████████████████████████████████████████████████████████████████████████████████████████████████████████████████████████████████████████████████████████▏                             | 42/50 [06:57<01:19,  9.99s/it]"
     ]
    },
    {
     "name": "stdout",
     "output_type": "stream",
     "text": [
      "drums           ==> SDR:   6.630  SIR: 119.140  ISR:  10.666  SAR:   5.716  \n",
      "bass            ==> SDR:   6.630  SIR: 119.140  ISR:  10.666  SAR:   5.716  \n",
      "\n"
     ]
    },
    {
     "name": "stderr",
     "output_type": "stream",
     "text": [
      " 86%|███████████████████████████████████████████████████████████████████████████████████████████████████████████████████████████████████████████████████████████████▉                          | 43/50 [07:06<01:09,  9.98s/it]"
     ]
    },
    {
     "name": "stdout",
     "output_type": "stream",
     "text": [
      "drums           ==> SDR:   3.640  SIR: 175.445  ISR:   6.257  SAR:   1.975  \n",
      "bass            ==> SDR:   3.640  SIR: 175.445  ISR:   6.257  SAR:   1.975  \n",
      "\n"
     ]
    },
    {
     "name": "stderr",
     "output_type": "stream",
     "text": [
      " 88%|███████████████████████████████████████████████████████████████████████████████████████████████████████████████████████████████████████████████████████████████████▋                      | 44/50 [07:16<00:58,  9.79s/it]"
     ]
    },
    {
     "name": "stdout",
     "output_type": "stream",
     "text": [
      "drums           ==> SDR:   4.380  SIR: 217.142  ISR:   8.538  SAR:   3.994  \n",
      "bass            ==> SDR:   4.380  SIR: 217.142  ISR:   8.538  SAR:   3.994  \n",
      "\n"
     ]
    },
    {
     "name": "stderr",
     "output_type": "stream",
     "text": [
      " 90%|███████████████████████████████████████████████████████████████████████████████████████████████████████████████████████████████████████████████████████████████████████▍                  | 45/50 [07:26<00:50, 10.00s/it]"
     ]
    },
    {
     "name": "stdout",
     "output_type": "stream",
     "text": [
      "drums           ==> SDR:   0.296  SIR: 203.842  ISR:   0.524  SAR:   0.498  \n",
      "bass            ==> SDR:   0.296  SIR: 203.842  ISR:   0.524  SAR:   0.498  \n",
      "\n"
     ]
    },
    {
     "name": "stderr",
     "output_type": "stream",
     "text": [
      " 92%|███████████████████████████████████████████████████████████████████████████████████████████████████████████████████████████████████████████████████████████████████████████               | 46/50 [07:36<00:40, 10.02s/it]"
     ]
    },
    {
     "name": "stdout",
     "output_type": "stream",
     "text": [
      "drums           ==> SDR:   1.991  SIR: 204.752  ISR:   3.340  SAR:  -0.369  \n",
      "bass            ==> SDR:   1.991  SIR: 204.752  ISR:   3.340  SAR:  -0.369  \n",
      "\n"
     ]
    },
    {
     "name": "stderr",
     "output_type": "stream",
     "text": [
      " 94%|██████████████████████████████████████████████████████████████████████████████████████████████████████████████████████████████████████████████████████████████████████████████▊           | 47/50 [07:47<00:30, 10.29s/it]"
     ]
    },
    {
     "name": "stdout",
     "output_type": "stream",
     "text": [
      "drums           ==> SDR:   5.378  SIR: 163.591  ISR:   7.375  SAR:   4.382  \n",
      "bass            ==> SDR:   5.378  SIR: 163.591  ISR:   7.375  SAR:   4.382  \n",
      "\n"
     ]
    },
    {
     "name": "stderr",
     "output_type": "stream",
     "text": [
      " 96%|██████████████████████████████████████████████████████████████████████████████████████████████████████████████████████████████████████████████████████████████████████████████████▌       | 48/50 [07:58<00:20, 10.40s/it]"
     ]
    },
    {
     "name": "stdout",
     "output_type": "stream",
     "text": [
      "drums           ==> SDR:   2.874  SIR: 214.155  ISR:   5.616  SAR:   0.994  \n",
      "bass            ==> SDR:   2.874  SIR: 214.155  ISR:   5.616  SAR:   0.994  \n",
      "\n"
     ]
    },
    {
     "name": "stderr",
     "output_type": "stream",
     "text": [
      " 98%|██████████████████████████████████████████████████████████████████████████████████████████████████████████████████████████████████████████████████████████████████████████████████████▎   | 49/50 [08:09<00:10, 10.59s/it]"
     ]
    },
    {
     "name": "stdout",
     "output_type": "stream",
     "text": [
      "drums           ==> SDR:   8.802  SIR: 213.087  ISR:  14.919  SAR:   8.635  \n",
      "bass            ==> SDR:   8.802  SIR: 213.087  ISR:  14.919  SAR:   8.635  \n",
      "\n"
     ]
    },
    {
     "name": "stderr",
     "output_type": "stream",
     "text": [
      "100%|██████████████████████████████████████████████████████████████████████████████████████████████████████████████████████████████████████████████████████████████████████████████████████████| 50/50 [08:19<00:00,  9.98s/it]"
     ]
    },
    {
     "name": "stdout",
     "output_type": "stream",
     "text": [
      "drums           ==> SDR:   5.229  SIR: 203.906  ISR:   8.167  SAR:   4.508  \n",
      "bass            ==> SDR:   5.229  SIR: 203.906  ISR:   8.167  SAR:   4.508  \n",
      "\n"
     ]
    },
    {
     "name": "stderr",
     "output_type": "stream",
     "text": [
      "\n",
      "  2%|███▋                                                                                                                                                                                       | 1/50 [00:11<09:19, 11.42s/it]"
     ]
    },
    {
     "name": "stdout",
     "output_type": "stream",
     "text": [
      "drums           ==> SDR:   7.274  SIR: 213.321  ISR:   9.974  SAR:   6.230  \n",
      "bass            ==> SDR:   7.274  SIR: 213.321  ISR:   9.974  SAR:   6.230  \n",
      "\n"
     ]
    },
    {
     "name": "stderr",
     "output_type": "stream",
     "text": [
      "  4%|███████▍                                                                                                                                                                                   | 2/50 [00:20<08:09, 10.19s/it]"
     ]
    },
    {
     "name": "stdout",
     "output_type": "stream",
     "text": [
      "drums           ==> SDR:   2.458  SIR: 177.854  ISR:   4.925  SAR:  -0.365  \n",
      "bass            ==> SDR:   2.458  SIR: 177.854  ISR:   4.925  SAR:  -0.365  \n",
      "\n"
     ]
    },
    {
     "name": "stderr",
     "output_type": "stream",
     "text": [
      "  6%|███████████▏                                                                                                                                                                               | 3/50 [00:30<07:50, 10.02s/it]"
     ]
    },
    {
     "name": "stdout",
     "output_type": "stream",
     "text": [
      "drums           ==> SDR:   3.720  SIR: 224.258  ISR:   6.763  SAR:   2.354  \n",
      "bass            ==> SDR:   3.720  SIR: 224.258  ISR:   6.763  SAR:   2.354  \n",
      "\n"
     ]
    },
    {
     "name": "stderr",
     "output_type": "stream",
     "text": [
      "  8%|██████████████▉                                                                                                                                                                            | 4/50 [00:40<07:42, 10.05s/it]"
     ]
    },
    {
     "name": "stdout",
     "output_type": "stream",
     "text": [
      "drums           ==> SDR:   1.908  SIR: 230.493  ISR:   8.853  SAR:  -0.815  \n",
      "bass            ==> SDR:   1.908  SIR: 230.493  ISR:   8.853  SAR:  -0.815  \n",
      "\n"
     ]
    },
    {
     "name": "stderr",
     "output_type": "stream",
     "text": [
      " 10%|██████████████████▋                                                                                                                                                                        | 5/50 [00:50<07:26,  9.91s/it]"
     ]
    },
    {
     "name": "stdout",
     "output_type": "stream",
     "text": [
      "drums           ==> SDR:   7.914  SIR: 197.222  ISR:  12.566  SAR:   7.922  \n",
      "bass            ==> SDR:   7.914  SIR: 197.222  ISR:  12.566  SAR:   7.922  \n",
      "\n"
     ]
    },
    {
     "name": "stderr",
     "output_type": "stream",
     "text": [
      " 12%|██████████████████████▍                                                                                                                                                                    | 6/50 [01:00<07:19, 10.00s/it]"
     ]
    },
    {
     "name": "stdout",
     "output_type": "stream",
     "text": [
      "drums           ==> SDR:   5.044  SIR: 239.047  ISR:   7.415  SAR:   3.679  \n",
      "bass            ==> SDR:   5.044  SIR: 239.047  ISR:   7.415  SAR:   3.679  \n",
      "\n"
     ]
    },
    {
     "name": "stderr",
     "output_type": "stream",
     "text": [
      " 14%|██████████████████████████▏                                                                                                                                                                | 7/50 [01:10<07:06,  9.92s/it]"
     ]
    },
    {
     "name": "stdout",
     "output_type": "stream",
     "text": [
      "drums           ==> SDR:   4.582  SIR: 223.205  ISR:   7.170  SAR:   2.448  \n",
      "bass            ==> SDR:   4.582  SIR: 223.205  ISR:   7.170  SAR:   2.448  \n",
      "\n"
     ]
    },
    {
     "name": "stderr",
     "output_type": "stream",
     "text": [
      " 16%|█████████████████████████████▉                                                                                                                                                             | 8/50 [01:19<06:53,  9.86s/it]"
     ]
    },
    {
     "name": "stdout",
     "output_type": "stream",
     "text": [
      "drums           ==> SDR:   3.377  SIR: 240.851  ISR:   6.851  SAR:   1.830  \n",
      "bass            ==> SDR:   3.377  SIR: 240.851  ISR:   6.851  SAR:   1.830  \n",
      "\n"
     ]
    },
    {
     "name": "stderr",
     "output_type": "stream",
     "text": [
      " 18%|█████████████████████████████████▋                                                                                                                                                         | 9/50 [01:29<06:43,  9.84s/it]"
     ]
    },
    {
     "name": "stdout",
     "output_type": "stream",
     "text": [
      "drums           ==> SDR:   5.031  SIR: 165.086  ISR:   8.151  SAR:   5.259  \n",
      "bass            ==> SDR:   5.031  SIR: 165.086  ISR:   8.151  SAR:   5.259  \n",
      "\n"
     ]
    },
    {
     "name": "stderr",
     "output_type": "stream",
     "text": [
      " 20%|█████████████████████████████████████▏                                                                                                                                                    | 10/50 [01:39<06:38,  9.96s/it]"
     ]
    },
    {
     "name": "stdout",
     "output_type": "stream",
     "text": [
      "drums           ==> SDR:  -2.159  SIR: 185.638  ISR:   5.357  SAR:  -5.956  \n",
      "bass            ==> SDR:  -2.159  SIR: 185.638  ISR:   5.357  SAR:  -5.956  \n",
      "\n"
     ]
    },
    {
     "name": "stderr",
     "output_type": "stream",
     "text": [
      " 22%|████████████████████████████████████████▉                                                                                                                                                 | 11/50 [01:52<06:57, 10.70s/it]"
     ]
    },
    {
     "name": "stdout",
     "output_type": "stream",
     "text": [
      "drums           ==> SDR:   6.461  SIR: 216.462  ISR:   9.675  SAR:   5.866  \n",
      "bass            ==> SDR:   6.461  SIR: 216.462  ISR:   9.675  SAR:   5.866  \n",
      "\n"
     ]
    },
    {
     "name": "stderr",
     "output_type": "stream",
     "text": [
      " 24%|████████████████████████████████████████████▋                                                                                                                                             | 12/50 [02:02<06:41, 10.57s/it]"
     ]
    },
    {
     "name": "stdout",
     "output_type": "stream",
     "text": [
      "drums           ==> SDR:   3.893  SIR: 224.921  ISR:   5.084  SAR:   4.399  \n",
      "bass            ==> SDR:   3.893  SIR: 224.921  ISR:   5.084  SAR:   4.399  \n",
      "\n"
     ]
    },
    {
     "name": "stderr",
     "output_type": "stream",
     "text": [
      " 26%|████████████████████████████████████████████████▎                                                                                                                                         | 13/50 [02:11<06:12, 10.06s/it]"
     ]
    },
    {
     "name": "stdout",
     "output_type": "stream",
     "text": [
      "drums           ==> SDR:   0.877  SIR:  80.768  ISR:   1.711  SAR:  -2.236  \n",
      "bass            ==> SDR:   0.877  SIR:  80.768  ISR:   1.711  SAR:  -2.236  \n",
      "\n"
     ]
    },
    {
     "name": "stderr",
     "output_type": "stream",
     "text": [
      " 28%|████████████████████████████████████████████████████                                                                                                                                      | 14/50 [02:21<06:06, 10.18s/it]"
     ]
    },
    {
     "name": "stdout",
     "output_type": "stream",
     "text": [
      "drums           ==> SDR:   6.811  SIR: 215.176  ISR:  10.493  SAR:   6.684  \n",
      "bass            ==> SDR:   6.811  SIR: 215.176  ISR:  10.493  SAR:   6.684  \n",
      "\n"
     ]
    },
    {
     "name": "stderr",
     "output_type": "stream",
     "text": [
      " 30%|███████████████████████████████████████████████████████▊                                                                                                                                  | 15/50 [02:31<05:49,  9.98s/it]"
     ]
    },
    {
     "name": "stdout",
     "output_type": "stream",
     "text": [
      "drums           ==> SDR:   4.677  SIR: 217.894  ISR:   6.927  SAR:   3.463  \n",
      "bass            ==> SDR:   4.677  SIR: 217.894  ISR:   6.927  SAR:   3.463  \n",
      "\n"
     ]
    },
    {
     "name": "stderr",
     "output_type": "stream",
     "text": [
      " 32%|███████████████████████████████████████████████████████████▌                                                                                                                              | 16/50 [02:41<05:37,  9.92s/it]"
     ]
    },
    {
     "name": "stdout",
     "output_type": "stream",
     "text": [
      "drums           ==> SDR:   3.636  SIR: 216.965  ISR:   6.133  SAR:   1.621  \n",
      "bass            ==> SDR:   3.636  SIR: 216.965  ISR:   6.133  SAR:   1.621  \n",
      "\n"
     ]
    },
    {
     "name": "stderr",
     "output_type": "stream",
     "text": [
      " 34%|███████████████████████████████████████████████████████████████▏                                                                                                                          | 17/50 [02:52<05:39, 10.30s/it]"
     ]
    },
    {
     "name": "stdout",
     "output_type": "stream",
     "text": [
      "drums           ==> SDR:   1.583  SIR: 226.651  ISR:   3.712  SAR:  -2.702  \n",
      "bass            ==> SDR:   1.583  SIR: 226.651  ISR:   3.712  SAR:  -2.702  \n",
      "\n"
     ]
    },
    {
     "name": "stderr",
     "output_type": "stream",
     "text": [
      " 36%|██████████████████████████████████████████████████████████████████▉                                                                                                                       | 18/50 [03:02<05:28, 10.25s/it]"
     ]
    },
    {
     "name": "stdout",
     "output_type": "stream",
     "text": [
      "drums           ==> SDR:   7.656  SIR: 218.688  ISR:  10.827  SAR:   8.171  \n",
      "bass            ==> SDR:   7.656  SIR: 218.688  ISR:  10.827  SAR:   8.171  \n",
      "\n"
     ]
    },
    {
     "name": "stderr",
     "output_type": "stream",
     "text": [
      " 38%|██████████████████████████████████████████████████████████████████████▋                                                                                                                   | 19/50 [03:12<05:14, 10.14s/it]"
     ]
    },
    {
     "name": "stdout",
     "output_type": "stream",
     "text": [
      "drums           ==> SDR:   9.315  SIR: 215.724  ISR:  14.142  SAR:   9.228  \n",
      "bass            ==> SDR:   9.315  SIR: 215.724  ISR:  14.142  SAR:   9.228  \n",
      "\n"
     ]
    },
    {
     "name": "stderr",
     "output_type": "stream",
     "text": [
      " 40%|██████████████████████████████████████████████████████████████████████████▍                                                                                                               | 20/50 [03:23<05:14, 10.47s/it]"
     ]
    },
    {
     "name": "stdout",
     "output_type": "stream",
     "text": [
      "drums           ==> SDR:   8.431  SIR: 216.264  ISR:  10.775  SAR:   8.809  \n",
      "bass            ==> SDR:   8.431  SIR: 216.264  ISR:  10.775  SAR:   8.809  \n",
      "\n"
     ]
    },
    {
     "name": "stderr",
     "output_type": "stream",
     "text": [
      " 42%|██████████████████████████████████████████████████████████████████████████████                                                                                                            | 21/50 [03:34<05:03, 10.45s/it]"
     ]
    },
    {
     "name": "stdout",
     "output_type": "stream",
     "text": [
      "drums           ==> SDR:   6.188  SIR: 181.540  ISR:   8.353  SAR:   6.798  \n",
      "bass            ==> SDR:   6.188  SIR: 181.540  ISR:   8.353  SAR:   6.798  \n",
      "\n"
     ]
    },
    {
     "name": "stderr",
     "output_type": "stream",
     "text": [
      " 44%|█████████████████████████████████████████████████████████████████████████████████▊                                                                                                        | 22/50 [03:43<04:45, 10.21s/it]"
     ]
    },
    {
     "name": "stdout",
     "output_type": "stream",
     "text": [
      "drums           ==> SDR:  -2.253  SIR: 269.757  ISR:   0.368  SAR: -16.164  \n",
      "bass            ==> SDR:  -2.253  SIR: 269.757  ISR:   0.368  SAR: -16.164  \n",
      "\n"
     ]
    },
    {
     "name": "stderr",
     "output_type": "stream",
     "text": [
      " 46%|█████████████████████████████████████████████████████████████████████████████████████▌                                                                                                    | 23/50 [03:52<04:26,  9.88s/it]"
     ]
    },
    {
     "name": "stdout",
     "output_type": "stream",
     "text": [
      "drums           ==> SDR:   2.545  SIR: 161.743  ISR:   3.992  SAR:   0.261  \n",
      "bass            ==> SDR:   2.545  SIR: 161.743  ISR:   3.992  SAR:   0.261  \n",
      "\n"
     ]
    },
    {
     "name": "stderr",
     "output_type": "stream",
     "text": [
      " 48%|█████████████████████████████████████████████████████████████████████████████████████████▎                                                                                                | 24/50 [04:02<04:13,  9.73s/it]"
     ]
    },
    {
     "name": "stdout",
     "output_type": "stream",
     "text": [
      "drums           ==> SDR:   4.452  SIR: 135.210  ISR:   7.455  SAR:   4.417  \n",
      "bass            ==> SDR:   4.452  SIR: 135.210  ISR:   7.455  SAR:   4.417  \n",
      "\n"
     ]
    },
    {
     "name": "stderr",
     "output_type": "stream",
     "text": [
      " 50%|█████████████████████████████████████████████████████████████████████████████████████████████                                                                                             | 25/50 [04:12<04:05,  9.82s/it]"
     ]
    },
    {
     "name": "stdout",
     "output_type": "stream",
     "text": [
      "drums           ==> SDR:   2.868  SIR: 229.776  ISR:   5.040  SAR:   1.496  \n",
      "bass            ==> SDR:   2.868  SIR: 229.776  ISR:   5.040  SAR:   1.496  \n",
      "\n"
     ]
    },
    {
     "name": "stderr",
     "output_type": "stream",
     "text": [
      " 52%|████████████████████████████████████████████████████████████████████████████████████████████████▋                                                                                         | 26/50 [04:21<03:53,  9.74s/it]"
     ]
    },
    {
     "name": "stdout",
     "output_type": "stream",
     "text": [
      "drums           ==> SDR:   9.381  SIR: 175.248  ISR:  13.115  SAR:   8.795  \n",
      "bass            ==> SDR:   9.381  SIR: 175.248  ISR:  13.115  SAR:   8.795  \n",
      "\n"
     ]
    },
    {
     "name": "stderr",
     "output_type": "stream",
     "text": [
      " 54%|████████████████████████████████████████████████████████████████████████████████████████████████████▍                                                                                     | 27/50 [04:31<03:42,  9.68s/it]"
     ]
    },
    {
     "name": "stdout",
     "output_type": "stream",
     "text": [
      "drums           ==> SDR:   6.676  SIR: 183.989  ISR:  12.297  SAR:   6.924  \n",
      "bass            ==> SDR:   6.676  SIR: 183.989  ISR:  12.297  SAR:   6.924  \n",
      "\n"
     ]
    },
    {
     "name": "stderr",
     "output_type": "stream",
     "text": [
      " 56%|████████████████████████████████████████████████████████████████████████████████████████████████████████▏                                                                                 | 28/50 [04:41<03:36,  9.83s/it]"
     ]
    },
    {
     "name": "stdout",
     "output_type": "stream",
     "text": [
      "drums           ==> SDR:   7.133  SIR: 196.334  ISR:   9.465  SAR:   6.801  \n",
      "bass            ==> SDR:   7.133  SIR: 196.334  ISR:   9.465  SAR:   6.801  \n",
      "\n"
     ]
    },
    {
     "name": "stderr",
     "output_type": "stream",
     "text": [
      " 58%|███████████████████████████████████████████████████████████████████████████████████████████████████████████▉                                                                              | 29/50 [04:51<03:28,  9.91s/it]"
     ]
    },
    {
     "name": "stdout",
     "output_type": "stream",
     "text": [
      "drums           ==> SDR:   4.495  SIR: 197.709  ISR:   6.126  SAR:   5.856  \n",
      "bass            ==> SDR:   4.495  SIR: 197.709  ISR:   6.126  SAR:   5.856  \n",
      "\n"
     ]
    },
    {
     "name": "stderr",
     "output_type": "stream",
     "text": [
      " 60%|███████████████████████████████████████████████████████████████████████████████████████████████████████████████▌                                                                          | 30/50 [05:02<03:24, 10.22s/it]"
     ]
    },
    {
     "name": "stdout",
     "output_type": "stream",
     "text": [
      "drums           ==> SDR:   4.423  SIR: 211.767  ISR:   6.402  SAR:   3.668  \n",
      "bass            ==> SDR:   4.423  SIR: 211.767  ISR:   6.402  SAR:   3.668  \n",
      "\n"
     ]
    },
    {
     "name": "stderr",
     "output_type": "stream",
     "text": [
      " 62%|███████████████████████████████████████████████████████████████████████████████████████████████████████████████████▎                                                                      | 31/50 [05:14<03:25, 10.81s/it]"
     ]
    },
    {
     "name": "stdout",
     "output_type": "stream",
     "text": [
      "drums           ==> SDR:   2.417  SIR: 196.846  ISR:   6.682  SAR:   0.685  \n",
      "bass            ==> SDR:   2.417  SIR: 196.846  ISR:   6.682  SAR:   0.685  \n",
      "\n"
     ]
    },
    {
     "name": "stderr",
     "output_type": "stream",
     "text": [
      " 64%|███████████████████████████████████████████████████████████████████████████████████████████████████████████████████████                                                                   | 32/50 [05:25<03:12, 10.70s/it]"
     ]
    },
    {
     "name": "stdout",
     "output_type": "stream",
     "text": [
      "drums           ==> SDR:   0.568  SIR: 190.677  ISR:   3.237  SAR:  -0.035  \n",
      "bass            ==> SDR:   0.568  SIR: 190.677  ISR:   3.237  SAR:  -0.035  \n",
      "\n"
     ]
    },
    {
     "name": "stderr",
     "output_type": "stream",
     "text": [
      " 66%|██████████████████████████████████████████████████████████████████████████████████████████████████████████████████████████▊                                                               | 33/50 [05:35<02:59, 10.55s/it]"
     ]
    },
    {
     "name": "stdout",
     "output_type": "stream",
     "text": [
      "drums           ==> SDR:   2.170  SIR: 219.429  ISR:   4.570  SAR:  -0.403  \n",
      "bass            ==> SDR:   2.170  SIR: 219.429  ISR:   4.570  SAR:  -0.403  \n",
      "\n"
     ]
    },
    {
     "name": "stderr",
     "output_type": "stream",
     "text": [
      " 68%|██████████████████████████████████████████████████████████████████████████████████████████████████████████████████████████████▍                                                           | 34/50 [05:45<02:47, 10.45s/it]"
     ]
    },
    {
     "name": "stdout",
     "output_type": "stream",
     "text": [
      "drums           ==> SDR:   3.589  SIR: 250.439  ISR:   6.593  SAR:   2.545  \n",
      "bass            ==> SDR:   3.589  SIR: 250.439  ISR:   6.593  SAR:   2.545  \n",
      "\n"
     ]
    },
    {
     "name": "stderr",
     "output_type": "stream",
     "text": [
      " 70%|██████████████████████████████████████████████████████████████████████████████████████████████████████████████████████████████████▏                                                       | 35/50 [05:57<02:43, 10.90s/it]"
     ]
    },
    {
     "name": "stdout",
     "output_type": "stream",
     "text": [
      "drums           ==> SDR:   7.874  SIR: 218.185  ISR:  11.155  SAR:   8.438  \n",
      "bass            ==> SDR:   7.874  SIR: 218.185  ISR:  11.155  SAR:   8.438  \n",
      "\n"
     ]
    },
    {
     "name": "stderr",
     "output_type": "stream",
     "text": [
      " 72%|█████████████████████████████████████████████████████████████████████████████████████████████████████████████████████████████████████▉                                                    | 36/50 [06:08<02:33, 10.99s/it]"
     ]
    },
    {
     "name": "stdout",
     "output_type": "stream",
     "text": [
      "drums           ==> SDR:   2.304  SIR: 198.515  ISR:   4.874  SAR:  -0.906  \n",
      "bass            ==> SDR:   2.304  SIR: 198.515  ISR:   4.874  SAR:  -0.906  \n",
      "\n"
     ]
    },
    {
     "name": "stderr",
     "output_type": "stream",
     "text": [
      " 74%|█████████████████████████████████████████████████████████████████████████████████████████████████████████████████████████████████████████▋                                                | 37/50 [06:19<02:20, 10.84s/it]"
     ]
    },
    {
     "name": "stdout",
     "output_type": "stream",
     "text": [
      "drums           ==> SDR:   3.881  SIR: 201.587  ISR:  14.335  SAR:   2.543  \n",
      "bass            ==> SDR:   3.881  SIR: 201.587  ISR:  14.335  SAR:   2.543  \n",
      "\n"
     ]
    },
    {
     "name": "stderr",
     "output_type": "stream",
     "text": [
      " 76%|█████████████████████████████████████████████████████████████████████████████████████████████████████████████████████████████████████████████▎                                            | 38/50 [06:30<02:10, 10.88s/it]"
     ]
    },
    {
     "name": "stdout",
     "output_type": "stream",
     "text": [
      "drums           ==> SDR:   7.537  SIR: 225.024  ISR:   8.397  SAR:   4.876  \n",
      "bass            ==> SDR:   7.537  SIR: 225.024  ISR:   8.397  SAR:   4.876  \n",
      "\n"
     ]
    },
    {
     "name": "stderr",
     "output_type": "stream",
     "text": [
      " 78%|█████████████████████████████████████████████████████████████████████████████████████████████████████████████████████████████████████████████████                                         | 39/50 [06:40<01:56, 10.59s/it]"
     ]
    },
    {
     "name": "stdout",
     "output_type": "stream",
     "text": [
      "drums           ==> SDR:   3.594  SIR: 224.579  ISR:   5.310  SAR:   4.191  \n",
      "bass            ==> SDR:   3.594  SIR: 224.579  ISR:   5.310  SAR:   4.191  \n",
      "\n"
     ]
    },
    {
     "name": "stderr",
     "output_type": "stream",
     "text": [
      " 80%|████████████████████████████████████████████████████████████████████████████████████████████████████████████████████████████████████████████████████▊                                     | 40/50 [06:51<01:47, 10.72s/it]"
     ]
    },
    {
     "name": "stdout",
     "output_type": "stream",
     "text": [
      "drums           ==> SDR:   2.211  SIR: 172.537  ISR:   3.247  SAR:   1.243  \n",
      "bass            ==> SDR:   2.211  SIR: 172.537  ISR:   3.247  SAR:   1.243  \n",
      "\n"
     ]
    },
    {
     "name": "stderr",
     "output_type": "stream",
     "text": [
      " 82%|████████████████████████████████████████████████████████████████████████████████████████████████████████████████████████████████████████████████████████▌                                 | 41/50 [07:02<01:37, 10.88s/it]"
     ]
    },
    {
     "name": "stdout",
     "output_type": "stream",
     "text": [
      "drums           ==> SDR:   3.545  SIR: 181.048  ISR:   9.503  SAR:   3.169  \n",
      "bass            ==> SDR:   3.545  SIR: 181.048  ISR:   9.503  SAR:   3.169  \n",
      "\n"
     ]
    },
    {
     "name": "stderr",
     "output_type": "stream",
     "text": [
      " 84%|████████████████████████████████████████████████████████████████████████████████████████████████████████████████████████████████████████████████████████████▏                             | 42/50 [07:13<01:27, 10.94s/it]"
     ]
    },
    {
     "name": "stdout",
     "output_type": "stream",
     "text": [
      "drums           ==> SDR:   6.422  SIR: 120.484  ISR:  10.727  SAR:   5.555  \n",
      "bass            ==> SDR:   6.422  SIR: 120.484  ISR:  10.727  SAR:   5.555  \n",
      "\n"
     ]
    },
    {
     "name": "stderr",
     "output_type": "stream",
     "text": [
      " 86%|███████████████████████████████████████████████████████████████████████████████████████████████████████████████████████████████████████████████████████████████▉                          | 43/50 [07:23<01:14, 10.60s/it]"
     ]
    },
    {
     "name": "stdout",
     "output_type": "stream",
     "text": [
      "drums           ==> SDR:   3.705  SIR: 174.577  ISR:   5.995  SAR:   1.891  \n",
      "bass            ==> SDR:   3.705  SIR: 174.577  ISR:   5.995  SAR:   1.891  \n",
      "\n"
     ]
    },
    {
     "name": "stderr",
     "output_type": "stream",
     "text": [
      " 88%|███████████████████████████████████████████████████████████████████████████████████████████████████████████████████████████████████████████████████████████████████▋                      | 44/50 [07:34<01:05, 10.84s/it]"
     ]
    },
    {
     "name": "stdout",
     "output_type": "stream",
     "text": [
      "drums           ==> SDR:   3.657  SIR: 213.789  ISR:   5.403  SAR:   1.488  \n",
      "bass            ==> SDR:   3.657  SIR: 213.789  ISR:   5.403  SAR:   1.488  \n",
      "\n"
     ]
    },
    {
     "name": "stderr",
     "output_type": "stream",
     "text": [
      " 90%|███████████████████████████████████████████████████████████████████████████████████████████████████████████████████████████████████████████████████████████████████████▍                  | 45/50 [07:45<00:53, 10.71s/it]"
     ]
    },
    {
     "name": "stdout",
     "output_type": "stream",
     "text": [
      "drums           ==> SDR:   0.232  SIR: 202.695  ISR:   0.482  SAR:   0.904  \n",
      "bass            ==> SDR:   0.232  SIR: 202.695  ISR:   0.482  SAR:   0.904  \n",
      "\n"
     ]
    },
    {
     "name": "stderr",
     "output_type": "stream",
     "text": [
      " 92%|███████████████████████████████████████████████████████████████████████████████████████████████████████████████████████████████████████████████████████████████████████████               | 46/50 [07:55<00:42, 10.50s/it]"
     ]
    },
    {
     "name": "stdout",
     "output_type": "stream",
     "text": [
      "drums           ==> SDR:   1.838  SIR: 206.743  ISR:   3.330  SAR:  -0.975  \n",
      "bass            ==> SDR:   1.838  SIR: 206.743  ISR:   3.330  SAR:  -0.975  \n",
      "\n"
     ]
    },
    {
     "name": "stderr",
     "output_type": "stream",
     "text": [
      " 94%|██████████████████████████████████████████████████████████████████████████████████████████████████████████████████████████████████████████████████████████████████████████████▊           | 47/50 [08:03<00:29,  9.95s/it]"
     ]
    },
    {
     "name": "stdout",
     "output_type": "stream",
     "text": [
      "drums           ==> SDR:   4.444  SIR: 161.248  ISR:   7.338  SAR:   4.708  \n",
      "bass            ==> SDR:   4.444  SIR: 161.248  ISR:   7.338  SAR:   4.708  \n",
      "\n"
     ]
    },
    {
     "name": "stderr",
     "output_type": "stream",
     "text": [
      " 96%|██████████████████████████████████████████████████████████████████████████████████████████████████████████████████████████████████████████████████████████████████████████████████▌       | 48/50 [08:13<00:19,  9.89s/it]"
     ]
    },
    {
     "name": "stdout",
     "output_type": "stream",
     "text": [
      "drums           ==> SDR:   2.702  SIR: 214.982  ISR:   5.496  SAR:   0.369  \n",
      "bass            ==> SDR:   2.702  SIR: 214.982  ISR:   5.496  SAR:   0.369  \n",
      "\n"
     ]
    },
    {
     "name": "stderr",
     "output_type": "stream",
     "text": [
      " 98%|██████████████████████████████████████████████████████████████████████████████████████████████████████████████████████████████████████████████████████████████████████████████████████▎   | 49/50 [08:23<00:09,  9.76s/it]"
     ]
    },
    {
     "name": "stdout",
     "output_type": "stream",
     "text": [
      "drums           ==> SDR:   8.299  SIR: 213.986  ISR:  13.230  SAR:   7.952  \n",
      "bass            ==> SDR:   8.299  SIR: 213.986  ISR:  13.230  SAR:   7.952  \n",
      "\n"
     ]
    },
    {
     "name": "stderr",
     "output_type": "stream",
     "text": [
      "100%|██████████████████████████████████████████████████████████████████████████████████████████████████████████████████████████████████████████████████████████████████████████████████████████| 50/50 [08:32<00:00, 10.26s/it]"
     ]
    },
    {
     "name": "stdout",
     "output_type": "stream",
     "text": [
      "drums           ==> SDR:   4.947  SIR: 208.995  ISR:   7.543  SAR:   4.172  \n",
      "bass            ==> SDR:   4.947  SIR: 208.995  ISR:   7.543  SAR:   4.172  \n",
      "\n"
     ]
    },
    {
     "name": "stderr",
     "output_type": "stream",
     "text": [
      "\n",
      "  2%|███▋                                                                                                                                                                                       | 1/50 [00:11<09:00, 11.03s/it]"
     ]
    },
    {
     "name": "stdout",
     "output_type": "stream",
     "text": [
      "drums           ==> SDR:   7.349  SIR: 202.596  ISR:   9.898  SAR:   6.088  \n",
      "bass            ==> SDR:   7.349  SIR: 202.596  ISR:   9.898  SAR:   6.088  \n",
      "\n"
     ]
    },
    {
     "name": "stderr",
     "output_type": "stream",
     "text": [
      "  4%|███████▍                                                                                                                                                                                   | 2/50 [00:21<08:30, 10.63s/it]"
     ]
    },
    {
     "name": "stdout",
     "output_type": "stream",
     "text": [
      "drums           ==> SDR:   2.919  SIR: 174.722  ISR:   5.216  SAR:  -0.028  \n",
      "bass            ==> SDR:   2.919  SIR: 174.722  ISR:   5.216  SAR:  -0.028  \n",
      "\n"
     ]
    },
    {
     "name": "stderr",
     "output_type": "stream",
     "text": [
      "  6%|███████████▏                                                                                                                                                                               | 3/50 [00:30<07:52, 10.05s/it]"
     ]
    },
    {
     "name": "stdout",
     "output_type": "stream",
     "text": [
      "drums           ==> SDR:   3.890  SIR: 226.872  ISR:   6.366  SAR:   2.251  \n",
      "bass            ==> SDR:   3.890  SIR: 226.872  ISR:   6.366  SAR:   2.251  \n",
      "\n"
     ]
    },
    {
     "name": "stderr",
     "output_type": "stream",
     "text": [
      "  8%|██████████████▉                                                                                                                                                                            | 4/50 [00:40<07:39, 10.00s/it]"
     ]
    },
    {
     "name": "stdout",
     "output_type": "stream",
     "text": [
      "drums           ==> SDR:   1.258  SIR: 223.866  ISR:   8.358  SAR:  -0.925  \n",
      "bass            ==> SDR:   1.258  SIR: 223.866  ISR:   8.358  SAR:  -0.925  \n",
      "\n"
     ]
    },
    {
     "name": "stderr",
     "output_type": "stream",
     "text": [
      " 10%|██████████████████▋                                                                                                                                                                        | 5/50 [00:50<07:30, 10.02s/it]"
     ]
    },
    {
     "name": "stdout",
     "output_type": "stream",
     "text": [
      "drums           ==> SDR:   7.721  SIR: 206.350  ISR:  11.762  SAR:   7.991  \n",
      "bass            ==> SDR:   7.721  SIR: 206.350  ISR:  11.762  SAR:   7.991  \n",
      "\n"
     ]
    },
    {
     "name": "stderr",
     "output_type": "stream",
     "text": [
      " 12%|██████████████████████▍                                                                                                                                                                    | 6/50 [01:00<07:19,  9.99s/it]"
     ]
    },
    {
     "name": "stdout",
     "output_type": "stream",
     "text": [
      "drums           ==> SDR:   4.511  SIR: 232.859  ISR:   7.539  SAR:   3.317  \n",
      "bass            ==> SDR:   4.511  SIR: 232.859  ISR:   7.539  SAR:   3.317  \n",
      "\n"
     ]
    },
    {
     "name": "stderr",
     "output_type": "stream",
     "text": [
      " 14%|██████████████████████████▏                                                                                                                                                                | 7/50 [01:10<07:07,  9.94s/it]"
     ]
    },
    {
     "name": "stdout",
     "output_type": "stream",
     "text": [
      "drums           ==> SDR:   4.113  SIR: 217.913  ISR:   6.444  SAR:   2.241  \n",
      "bass            ==> SDR:   4.113  SIR: 217.913  ISR:   6.444  SAR:   2.241  \n",
      "\n"
     ]
    },
    {
     "name": "stderr",
     "output_type": "stream",
     "text": [
      " 16%|█████████████████████████████▉                                                                                                                                                             | 8/50 [01:19<06:50,  9.78s/it]"
     ]
    },
    {
     "name": "stdout",
     "output_type": "stream",
     "text": [
      "drums           ==> SDR:   3.489  SIR: 241.915  ISR:   6.412  SAR:   1.941  \n",
      "bass            ==> SDR:   3.489  SIR: 241.915  ISR:   6.412  SAR:   1.941  \n",
      "\n"
     ]
    },
    {
     "name": "stderr",
     "output_type": "stream",
     "text": [
      " 18%|█████████████████████████████████▋                                                                                                                                                         | 9/50 [01:29<06:44,  9.86s/it]"
     ]
    },
    {
     "name": "stdout",
     "output_type": "stream",
     "text": [
      "drums           ==> SDR:   4.411  SIR: 167.301  ISR:   7.214  SAR:   4.457  \n",
      "bass            ==> SDR:   4.411  SIR: 167.301  ISR:   7.214  SAR:   4.457  \n",
      "\n"
     ]
    },
    {
     "name": "stderr",
     "output_type": "stream",
     "text": [
      " 20%|█████████████████████████████████████▏                                                                                                                                                    | 10/50 [01:39<06:36,  9.91s/it]"
     ]
    },
    {
     "name": "stdout",
     "output_type": "stream",
     "text": [
      "drums           ==> SDR:  -2.159  SIR: 178.858  ISR:   4.791  SAR:  -6.212  \n",
      "bass            ==> SDR:  -2.159  SIR: 178.858  ISR:   4.791  SAR:  -6.212  \n",
      "\n"
     ]
    },
    {
     "name": "stderr",
     "output_type": "stream",
     "text": [
      " 22%|████████████████████████████████████████▉                                                                                                                                                 | 11/50 [01:50<06:27,  9.94s/it]"
     ]
    },
    {
     "name": "stdout",
     "output_type": "stream",
     "text": [
      "drums           ==> SDR:   6.043  SIR: 221.193  ISR:   8.827  SAR:   4.935  \n",
      "bass            ==> SDR:   6.043  SIR: 221.193  ISR:   8.827  SAR:   4.935  \n",
      "\n"
     ]
    },
    {
     "name": "stderr",
     "output_type": "stream",
     "text": [
      " 24%|████████████████████████████████████████████▋                                                                                                                                             | 12/50 [02:00<06:24, 10.11s/it]"
     ]
    },
    {
     "name": "stdout",
     "output_type": "stream",
     "text": [
      "drums           ==> SDR:   3.720  SIR: 225.465  ISR:   4.832  SAR:   4.209  \n",
      "bass            ==> SDR:   3.720  SIR: 225.465  ISR:   4.832  SAR:   4.209  \n",
      "\n"
     ]
    },
    {
     "name": "stderr",
     "output_type": "stream",
     "text": [
      " 26%|████████████████████████████████████████████████▎                                                                                                                                         | 13/50 [02:09<05:58,  9.68s/it]"
     ]
    },
    {
     "name": "stdout",
     "output_type": "stream",
     "text": [
      "drums           ==> SDR:   1.114  SIR:  82.097  ISR:   2.055  SAR:  -2.790  \n",
      "bass            ==> SDR:   1.114  SIR:  82.097  ISR:   2.055  SAR:  -2.790  \n",
      "\n"
     ]
    },
    {
     "name": "stderr",
     "output_type": "stream",
     "text": [
      " 28%|████████████████████████████████████████████████████                                                                                                                                      | 14/50 [02:18<05:47,  9.66s/it]"
     ]
    },
    {
     "name": "stdout",
     "output_type": "stream",
     "text": [
      "drums           ==> SDR:   6.558  SIR: 209.463  ISR:   9.790  SAR:   6.235  \n",
      "bass            ==> SDR:   6.558  SIR: 209.463  ISR:   9.790  SAR:   6.235  \n",
      "\n"
     ]
    },
    {
     "name": "stderr",
     "output_type": "stream",
     "text": [
      " 30%|███████████████████████████████████████████████████████▊                                                                                                                                  | 15/50 [02:28<05:40,  9.72s/it]"
     ]
    },
    {
     "name": "stdout",
     "output_type": "stream",
     "text": [
      "drums           ==> SDR:   4.702  SIR: 211.179  ISR:   6.904  SAR:   3.624  \n",
      "bass            ==> SDR:   4.702  SIR: 211.179  ISR:   6.904  SAR:   3.624  \n",
      "\n"
     ]
    },
    {
     "name": "stderr",
     "output_type": "stream",
     "text": [
      " 32%|███████████████████████████████████████████████████████████▌                                                                                                                              | 16/50 [02:38<05:32,  9.77s/it]"
     ]
    },
    {
     "name": "stdout",
     "output_type": "stream",
     "text": [
      "drums           ==> SDR:   3.968  SIR: 216.962  ISR:   6.607  SAR:   1.696  \n",
      "bass            ==> SDR:   3.968  SIR: 216.962  ISR:   6.607  SAR:   1.696  \n",
      "\n"
     ]
    },
    {
     "name": "stderr",
     "output_type": "stream",
     "text": [
      " 34%|███████████████████████████████████████████████████████████████▏                                                                                                                          | 17/50 [02:47<05:18,  9.65s/it]"
     ]
    },
    {
     "name": "stdout",
     "output_type": "stream",
     "text": [
      "drums           ==> SDR:   1.666  SIR: 216.837  ISR:   3.815  SAR:  -2.676  \n",
      "bass            ==> SDR:   1.666  SIR: 216.837  ISR:   3.815  SAR:  -2.676  \n",
      "\n"
     ]
    },
    {
     "name": "stderr",
     "output_type": "stream",
     "text": [
      " 36%|██████████████████████████████████████████████████████████████████▉                                                                                                                       | 18/50 [02:57<05:08,  9.65s/it]"
     ]
    },
    {
     "name": "stdout",
     "output_type": "stream",
     "text": [
      "drums           ==> SDR:   7.352  SIR: 215.981  ISR:  10.359  SAR:   7.836  \n",
      "bass            ==> SDR:   7.352  SIR: 215.981  ISR:  10.359  SAR:   7.836  \n",
      "\n"
     ]
    },
    {
     "name": "stderr",
     "output_type": "stream",
     "text": [
      " 38%|██████████████████████████████████████████████████████████████████████▋                                                                                                                   | 19/50 [03:06<04:56,  9.58s/it]"
     ]
    },
    {
     "name": "stdout",
     "output_type": "stream",
     "text": [
      "drums           ==> SDR:   8.598  SIR: 218.647  ISR:  12.806  SAR:   8.638  \n",
      "bass            ==> SDR:   8.598  SIR: 218.647  ISR:  12.806  SAR:   8.638  \n",
      "\n"
     ]
    },
    {
     "name": "stderr",
     "output_type": "stream",
     "text": [
      " 40%|██████████████████████████████████████████████████████████████████████████▍                                                                                                               | 20/50 [03:16<04:47,  9.58s/it]"
     ]
    },
    {
     "name": "stdout",
     "output_type": "stream",
     "text": [
      "drums           ==> SDR:   7.383  SIR: 219.507  ISR:   9.451  SAR:   7.663  \n",
      "bass            ==> SDR:   7.383  SIR: 219.507  ISR:   9.451  SAR:   7.663  \n",
      "\n"
     ]
    },
    {
     "name": "stderr",
     "output_type": "stream",
     "text": [
      " 42%|██████████████████████████████████████████████████████████████████████████████                                                                                                            | 21/50 [03:26<04:36,  9.55s/it]"
     ]
    },
    {
     "name": "stdout",
     "output_type": "stream",
     "text": [
      "drums           ==> SDR:   6.090  SIR: 180.876  ISR:   7.744  SAR:   6.571  \n",
      "bass            ==> SDR:   6.090  SIR: 180.876  ISR:   7.744  SAR:   6.571  \n",
      "\n"
     ]
    },
    {
     "name": "stderr",
     "output_type": "stream",
     "text": [
      " 44%|█████████████████████████████████████████████████████████████████████████████████▊                                                                                                        | 22/50 [03:35<04:27,  9.56s/it]"
     ]
    },
    {
     "name": "stdout",
     "output_type": "stream",
     "text": [
      "drums           ==> SDR:  -2.253  SIR: 269.757  ISR:   0.368  SAR: -16.164  \n",
      "bass            ==> SDR:  -2.253  SIR: 269.757  ISR:   0.368  SAR: -16.164  \n",
      "\n"
     ]
    },
    {
     "name": "stderr",
     "output_type": "stream",
     "text": [
      " 46%|█████████████████████████████████████████████████████████████████████████████████████▌                                                                                                    | 23/50 [03:44<04:13,  9.37s/it]"
     ]
    },
    {
     "name": "stdout",
     "output_type": "stream",
     "text": [
      "drums           ==> SDR:   2.844  SIR: 160.378  ISR:   4.035  SAR:  -0.031  \n",
      "bass            ==> SDR:   2.844  SIR: 160.378  ISR:   4.035  SAR:  -0.031  \n",
      "\n"
     ]
    },
    {
     "name": "stderr",
     "output_type": "stream",
     "text": [
      " 48%|█████████████████████████████████████████████████████████████████████████████████████████▎                                                                                                | 24/50 [03:54<04:04,  9.39s/it]"
     ]
    },
    {
     "name": "stdout",
     "output_type": "stream",
     "text": [
      "drums           ==> SDR:   4.328  SIR: 136.571  ISR:   7.234  SAR:   3.947  \n",
      "bass            ==> SDR:   4.328  SIR: 136.571  ISR:   7.234  SAR:   3.947  \n",
      "\n"
     ]
    },
    {
     "name": "stderr",
     "output_type": "stream",
     "text": [
      " 50%|█████████████████████████████████████████████████████████████████████████████████████████████                                                                                             | 25/50 [04:03<03:58,  9.53s/it]"
     ]
    },
    {
     "name": "stdout",
     "output_type": "stream",
     "text": [
      "drums           ==> SDR:   2.901  SIR: 225.161  ISR:   4.851  SAR:   1.467  \n",
      "bass            ==> SDR:   2.901  SIR: 225.161  ISR:   4.851  SAR:   1.467  \n",
      "\n"
     ]
    },
    {
     "name": "stderr",
     "output_type": "stream",
     "text": [
      " 52%|████████████████████████████████████████████████████████████████████████████████████████████████▋                                                                                         | 26/50 [04:13<03:49,  9.55s/it]"
     ]
    },
    {
     "name": "stdout",
     "output_type": "stream",
     "text": [
      "drums           ==> SDR:   8.999  SIR: 187.383  ISR:  13.534  SAR:   8.618  \n",
      "bass            ==> SDR:   8.999  SIR: 187.383  ISR:  13.534  SAR:   8.618  \n",
      "\n"
     ]
    },
    {
     "name": "stderr",
     "output_type": "stream",
     "text": [
      " 54%|████████████████████████████████████████████████████████████████████████████████████████████████████▍                                                                                     | 27/50 [04:23<03:43,  9.70s/it]"
     ]
    },
    {
     "name": "stdout",
     "output_type": "stream",
     "text": [
      "drums           ==> SDR:   6.632  SIR: 184.837  ISR:  10.348  SAR:   5.480  \n",
      "bass            ==> SDR:   6.632  SIR: 184.837  ISR:  10.348  SAR:   5.480  \n",
      "\n"
     ]
    },
    {
     "name": "stderr",
     "output_type": "stream",
     "text": [
      " 56%|████████████████████████████████████████████████████████████████████████████████████████████████████████▏                                                                                 | 28/50 [04:33<03:37,  9.88s/it]"
     ]
    },
    {
     "name": "stdout",
     "output_type": "stream",
     "text": [
      "drums           ==> SDR:   5.999  SIR: 202.161  ISR:   7.072  SAR:   4.347  \n",
      "bass            ==> SDR:   5.999  SIR: 202.161  ISR:   7.072  SAR:   4.347  \n",
      "\n"
     ]
    },
    {
     "name": "stderr",
     "output_type": "stream",
     "text": [
      " 58%|███████████████████████████████████████████████████████████████████████████████████████████████████████████▉                                                                              | 29/50 [04:43<03:27,  9.90s/it]"
     ]
    },
    {
     "name": "stdout",
     "output_type": "stream",
     "text": [
      "drums           ==> SDR:   4.457  SIR: 193.706  ISR:   6.113  SAR:   5.701  \n",
      "bass            ==> SDR:   4.457  SIR: 193.706  ISR:   6.113  SAR:   5.701  \n",
      "\n"
     ]
    },
    {
     "name": "stderr",
     "output_type": "stream",
     "text": [
      " 60%|███████████████████████████████████████████████████████████████████████████████████████████████████████████████▌                                                                          | 30/50 [04:53<03:17,  9.89s/it]"
     ]
    },
    {
     "name": "stdout",
     "output_type": "stream",
     "text": [
      "drums           ==> SDR:   3.607  SIR: 216.035  ISR:   5.354  SAR:   2.469  \n",
      "bass            ==> SDR:   3.607  SIR: 216.035  ISR:   5.354  SAR:   2.469  \n",
      "\n"
     ]
    },
    {
     "name": "stderr",
     "output_type": "stream",
     "text": [
      " 62%|███████████████████████████████████████████████████████████████████████████████████████████████████████████████████▎                                                                      | 31/50 [05:03<03:09,  9.96s/it]"
     ]
    },
    {
     "name": "stdout",
     "output_type": "stream",
     "text": [
      "drums           ==> SDR:   2.540  SIR: 193.764  ISR:   6.505  SAR:   0.257  \n",
      "bass            ==> SDR:   2.540  SIR: 193.764  ISR:   6.505  SAR:   0.257  \n",
      "\n"
     ]
    },
    {
     "name": "stderr",
     "output_type": "stream",
     "text": [
      " 64%|███████████████████████████████████████████████████████████████████████████████████████████████████████████████████████                                                                   | 32/50 [05:13<02:56,  9.79s/it]"
     ]
    },
    {
     "name": "stdout",
     "output_type": "stream",
     "text": [
      "drums           ==> SDR:   0.473  SIR: 185.941  ISR:   3.475  SAR:  -0.028  \n",
      "bass            ==> SDR:   0.473  SIR: 185.941  ISR:   3.475  SAR:  -0.028  \n",
      "\n"
     ]
    },
    {
     "name": "stderr",
     "output_type": "stream",
     "text": [
      " 66%|██████████████████████████████████████████████████████████████████████████████████████████████████████████████████████████▊                                                               | 33/50 [05:22<02:45,  9.74s/it]"
     ]
    },
    {
     "name": "stdout",
     "output_type": "stream",
     "text": [
      "drums           ==> SDR:   1.929  SIR: 219.180  ISR:   3.930  SAR:  -0.492  \n",
      "bass            ==> SDR:   1.929  SIR: 219.180  ISR:   3.930  SAR:  -0.492  \n",
      "\n"
     ]
    },
    {
     "name": "stderr",
     "output_type": "stream",
     "text": [
      " 68%|██████████████████████████████████████████████████████████████████████████████████████████████████████████████████████████████▍                                                           | 34/50 [05:32<02:36,  9.75s/it]"
     ]
    },
    {
     "name": "stdout",
     "output_type": "stream",
     "text": [
      "drums           ==> SDR:   3.808  SIR: 249.269  ISR:   6.594  SAR:   2.681  \n",
      "bass            ==> SDR:   3.808  SIR: 249.269  ISR:   6.594  SAR:   2.681  \n",
      "\n"
     ]
    },
    {
     "name": "stderr",
     "output_type": "stream",
     "text": [
      " 70%|██████████████████████████████████████████████████████████████████████████████████████████████████████████████████████████████████▏                                                       | 35/50 [05:42<02:27,  9.82s/it]"
     ]
    },
    {
     "name": "stdout",
     "output_type": "stream",
     "text": [
      "drums           ==> SDR:   7.685  SIR: 221.456  ISR:  11.059  SAR:   8.045  \n",
      "bass            ==> SDR:   7.685  SIR: 221.456  ISR:  11.059  SAR:   8.045  \n",
      "\n"
     ]
    },
    {
     "name": "stderr",
     "output_type": "stream",
     "text": [
      " 72%|█████████████████████████████████████████████████████████████████████████████████████████████████████████████████████████████████████▉                                                    | 36/50 [05:52<02:18,  9.87s/it]"
     ]
    },
    {
     "name": "stdout",
     "output_type": "stream",
     "text": [
      "drums           ==> SDR:   2.290  SIR: 205.236  ISR:   4.792  SAR:  -1.088  \n",
      "bass            ==> SDR:   2.290  SIR: 205.236  ISR:   4.792  SAR:  -1.088  \n",
      "\n"
     ]
    },
    {
     "name": "stderr",
     "output_type": "stream",
     "text": [
      " 74%|█████████████████████████████████████████████████████████████████████████████████████████████████████████████████████████████████████████▋                                                | 37/50 [06:02<02:08,  9.90s/it]"
     ]
    },
    {
     "name": "stdout",
     "output_type": "stream",
     "text": [
      "drums           ==> SDR:   3.766  SIR: 207.749  ISR:  14.020  SAR:   2.690  \n",
      "bass            ==> SDR:   3.766  SIR: 207.749  ISR:  14.020  SAR:   2.690  \n",
      "\n"
     ]
    },
    {
     "name": "stderr",
     "output_type": "stream",
     "text": [
      " 76%|█████████████████████████████████████████████████████████████████████████████████████████████████████████████████████████████████████████████▎                                            | 38/50 [06:12<02:00, 10.01s/it]"
     ]
    },
    {
     "name": "stdout",
     "output_type": "stream",
     "text": [
      "drums           ==> SDR:   7.173  SIR: 222.461  ISR:   8.369  SAR:   4.913  \n",
      "bass            ==> SDR:   7.173  SIR: 222.461  ISR:   8.369  SAR:   4.913  \n",
      "\n"
     ]
    },
    {
     "name": "stderr",
     "output_type": "stream",
     "text": [
      " 78%|█████████████████████████████████████████████████████████████████████████████████████████████████████████████████████████████████████████████████                                         | 39/50 [06:22<01:49,  9.93s/it]"
     ]
    },
    {
     "name": "stdout",
     "output_type": "stream",
     "text": [
      "drums           ==> SDR:   3.521  SIR: 224.525  ISR:   5.216  SAR:   4.356  \n",
      "bass            ==> SDR:   3.521  SIR: 224.525  ISR:   5.216  SAR:   4.356  \n",
      "\n"
     ]
    },
    {
     "name": "stderr",
     "output_type": "stream",
     "text": [
      " 80%|████████████████████████████████████████████████████████████████████████████████████████████████████████████████████████████████████████████████████▊                                     | 40/50 [06:32<01:39,  9.95s/it]"
     ]
    },
    {
     "name": "stdout",
     "output_type": "stream",
     "text": [
      "drums           ==> SDR:   2.561  SIR: 165.227  ISR:   2.989  SAR:   0.779  \n",
      "bass            ==> SDR:   2.561  SIR: 165.227  ISR:   2.989  SAR:   0.779  \n",
      "\n"
     ]
    },
    {
     "name": "stderr",
     "output_type": "stream",
     "text": [
      " 82%|████████████████████████████████████████████████████████████████████████████████████████████████████████████████████████████████████████████████████████▌                                 | 41/50 [06:42<01:29,  9.98s/it]"
     ]
    },
    {
     "name": "stdout",
     "output_type": "stream",
     "text": [
      "drums           ==> SDR:   3.671  SIR: 182.462  ISR:   8.842  SAR:   3.059  \n",
      "bass            ==> SDR:   3.671  SIR: 182.462  ISR:   8.842  SAR:   3.059  \n",
      "\n"
     ]
    },
    {
     "name": "stderr",
     "output_type": "stream",
     "text": [
      " 84%|████████████████████████████████████████████████████████████████████████████████████████████████████████████████████████████████████████████████████████████▏                             | 42/50 [06:52<01:20, 10.03s/it]"
     ]
    },
    {
     "name": "stdout",
     "output_type": "stream",
     "text": [
      "drums           ==> SDR:   6.458  SIR: 119.148  ISR:  10.065  SAR:   5.455  \n",
      "bass            ==> SDR:   6.458  SIR: 119.148  ISR:  10.065  SAR:   5.455  \n",
      "\n"
     ]
    },
    {
     "name": "stderr",
     "output_type": "stream",
     "text": [
      " 86%|███████████████████████████████████████████████████████████████████████████████████████████████████████████████████████████████████████████████████████████████▉                          | 43/50 [07:02<01:09,  9.93s/it]"
     ]
    },
    {
     "name": "stdout",
     "output_type": "stream",
     "text": [
      "drums           ==> SDR:   3.343  SIR: 173.465  ISR:   5.928  SAR:   2.201  \n",
      "bass            ==> SDR:   3.343  SIR: 173.465  ISR:   5.928  SAR:   2.201  \n",
      "\n"
     ]
    },
    {
     "name": "stderr",
     "output_type": "stream",
     "text": [
      " 88%|███████████████████████████████████████████████████████████████████████████████████████████████████████████████████████████████████████████████████████████████████▋                      | 44/50 [07:11<00:57,  9.55s/it]"
     ]
    },
    {
     "name": "stdout",
     "output_type": "stream",
     "text": [
      "drums           ==> SDR:   3.754  SIR: 219.247  ISR:   6.957  SAR:   2.959  \n",
      "bass            ==> SDR:   3.754  SIR: 219.247  ISR:   6.957  SAR:   2.959  \n",
      "\n"
     ]
    },
    {
     "name": "stderr",
     "output_type": "stream",
     "text": [
      " 90%|███████████████████████████████████████████████████████████████████████████████████████████████████████████████████████████████████████████████████████████████████████▍                  | 45/50 [07:21<00:48,  9.68s/it]"
     ]
    },
    {
     "name": "stdout",
     "output_type": "stream",
     "text": [
      "drums           ==> SDR:   0.294  SIR: 203.795  ISR:   0.508  SAR:   0.428  \n",
      "bass            ==> SDR:   0.294  SIR: 203.795  ISR:   0.508  SAR:   0.428  \n",
      "\n"
     ]
    },
    {
     "name": "stderr",
     "output_type": "stream",
     "text": [
      " 92%|███████████████████████████████████████████████████████████████████████████████████████████████████████████████████████████████████████████████████████████████████████████               | 46/50 [07:31<00:39,  9.80s/it]"
     ]
    },
    {
     "name": "stdout",
     "output_type": "stream",
     "text": [
      "drums           ==> SDR:   1.859  SIR: 202.894  ISR:   3.152  SAR:  -0.619  \n",
      "bass            ==> SDR:   1.859  SIR: 202.894  ISR:   3.152  SAR:  -0.619  \n",
      "\n"
     ]
    },
    {
     "name": "stderr",
     "output_type": "stream",
     "text": [
      " 94%|██████████████████████████████████████████████████████████████████████████████████████████████████████████████████████████████████████████████████████████████████████████████▊           | 47/50 [07:40<00:28,  9.63s/it]"
     ]
    },
    {
     "name": "stdout",
     "output_type": "stream",
     "text": [
      "drums           ==> SDR:   3.782  SIR: 162.312  ISR:   7.001  SAR:   3.542  \n",
      "bass            ==> SDR:   3.782  SIR: 162.312  ISR:   7.001  SAR:   3.542  \n",
      "\n"
     ]
    },
    {
     "name": "stderr",
     "output_type": "stream",
     "text": [
      " 96%|██████████████████████████████████████████████████████████████████████████████████████████████████████████████████████████████████████████████████████████████████████████████████▌       | 48/50 [07:50<00:19,  9.70s/it]"
     ]
    },
    {
     "name": "stdout",
     "output_type": "stream",
     "text": [
      "drums           ==> SDR:   2.652  SIR: 214.045  ISR:   4.808  SAR:   0.398  \n",
      "bass            ==> SDR:   2.652  SIR: 214.045  ISR:   4.808  SAR:   0.398  \n",
      "\n"
     ]
    },
    {
     "name": "stderr",
     "output_type": "stream",
     "text": [
      " 98%|██████████████████████████████████████████████████████████████████████████████████████████████████████████████████████████████████████████████████████████████████████████████████████▎   | 49/50 [08:00<00:09,  9.75s/it]"
     ]
    },
    {
     "name": "stdout",
     "output_type": "stream",
     "text": [
      "drums           ==> SDR:   8.323  SIR: 214.100  ISR:  12.973  SAR:   8.007  \n",
      "bass            ==> SDR:   8.323  SIR: 214.100  ISR:  12.973  SAR:   8.007  \n",
      "\n"
     ]
    },
    {
     "name": "stderr",
     "output_type": "stream",
     "text": [
      "100%|██████████████████████████████████████████████████████████████████████████████████████████████████████████████████████████████████████████████████████████████████████████████████████████| 50/50 [08:11<00:00,  9.83s/it]"
     ]
    },
    {
     "name": "stdout",
     "output_type": "stream",
     "text": [
      "drums           ==> SDR:   5.433  SIR: 216.000  ISR:   8.170  SAR:   4.430  \n",
      "bass            ==> SDR:   5.433  SIR: 216.000  ISR:   8.170  SAR:   4.430  \n",
      "\n"
     ]
    },
    {
     "name": "stderr",
     "output_type": "stream",
     "text": [
      "\n",
      "  2%|███▋                                                                                                                                                                                       | 1/50 [00:10<08:51, 10.84s/it]"
     ]
    },
    {
     "name": "stdout",
     "output_type": "stream",
     "text": [
      "drums           ==> SDR:   6.715  SIR: 211.731  ISR:   9.426  SAR:   5.653  \n",
      "bass            ==> SDR:   6.715  SIR: 211.731  ISR:   9.426  SAR:   5.653  \n",
      "\n"
     ]
    },
    {
     "name": "stderr",
     "output_type": "stream",
     "text": [
      "  4%|███████▍                                                                                                                                                                                   | 2/50 [00:21<08:28, 10.59s/it]"
     ]
    },
    {
     "name": "stdout",
     "output_type": "stream",
     "text": [
      "drums           ==> SDR:   2.322  SIR: 174.412  ISR:   4.677  SAR:  -0.479  \n",
      "bass            ==> SDR:   2.322  SIR: 174.412  ISR:   4.677  SAR:  -0.479  \n",
      "\n"
     ]
    },
    {
     "name": "stderr",
     "output_type": "stream",
     "text": [
      "  6%|███████████▏                                                                                                                                                                               | 3/50 [00:30<07:52, 10.06s/it]"
     ]
    },
    {
     "name": "stdout",
     "output_type": "stream",
     "text": [
      "drums           ==> SDR:   4.015  SIR: 225.007  ISR:   6.501  SAR:   2.614  \n",
      "bass            ==> SDR:   4.015  SIR: 225.007  ISR:   6.501  SAR:   2.614  \n",
      "\n"
     ]
    },
    {
     "name": "stderr",
     "output_type": "stream",
     "text": [
      "  8%|██████████████▉                                                                                                                                                                            | 4/50 [00:41<08:00, 10.46s/it]"
     ]
    },
    {
     "name": "stdout",
     "output_type": "stream",
     "text": [
      "drums           ==> SDR:   1.960  SIR: 220.715  ISR:   8.276  SAR:  -0.420  \n",
      "bass            ==> SDR:   1.960  SIR: 220.715  ISR:   8.276  SAR:  -0.420  \n",
      "\n"
     ]
    },
    {
     "name": "stderr",
     "output_type": "stream",
     "text": [
      " 10%|██████████████████▋                                                                                                                                                                        | 5/50 [00:51<07:46, 10.37s/it]"
     ]
    },
    {
     "name": "stdout",
     "output_type": "stream",
     "text": [
      "drums           ==> SDR:   7.236  SIR: 202.219  ISR:  10.176  SAR:   6.817  \n",
      "bass            ==> SDR:   7.236  SIR: 202.219  ISR:  10.176  SAR:   6.817  \n",
      "\n"
     ]
    },
    {
     "name": "stderr",
     "output_type": "stream",
     "text": [
      " 12%|██████████████████████▍                                                                                                                                                                    | 6/50 [01:01<07:29, 10.22s/it]"
     ]
    },
    {
     "name": "stdout",
     "output_type": "stream",
     "text": [
      "drums           ==> SDR:   4.878  SIR: 234.204  ISR:   7.202  SAR:   2.957  \n",
      "bass            ==> SDR:   4.878  SIR: 234.204  ISR:   7.202  SAR:   2.957  \n",
      "\n"
     ]
    },
    {
     "name": "stderr",
     "output_type": "stream",
     "text": [
      " 14%|██████████████████████████▏                                                                                                                                                                | 7/50 [01:11<07:09,  9.99s/it]"
     ]
    },
    {
     "name": "stdout",
     "output_type": "stream",
     "text": [
      "drums           ==> SDR:   3.888  SIR: 222.256  ISR:   6.442  SAR:   2.280  \n",
      "bass            ==> SDR:   3.888  SIR: 222.256  ISR:   6.442  SAR:   2.280  \n",
      "\n"
     ]
    },
    {
     "name": "stderr",
     "output_type": "stream",
     "text": [
      " 16%|█████████████████████████████▉                                                                                                                                                             | 8/50 [01:20<06:48,  9.74s/it]"
     ]
    },
    {
     "name": "stdout",
     "output_type": "stream",
     "text": [
      "drums           ==> SDR:   3.321  SIR: 240.908  ISR:   6.013  SAR:   1.396  \n",
      "bass            ==> SDR:   3.321  SIR: 240.908  ISR:   6.013  SAR:   1.396  \n",
      "\n"
     ]
    },
    {
     "name": "stderr",
     "output_type": "stream",
     "text": [
      " 18%|█████████████████████████████████▋                                                                                                                                                         | 9/50 [01:30<06:38,  9.72s/it]"
     ]
    },
    {
     "name": "stdout",
     "output_type": "stream",
     "text": [
      "drums           ==> SDR:   4.050  SIR: 162.175  ISR:   6.555  SAR:   4.142  \n",
      "bass            ==> SDR:   4.050  SIR: 162.175  ISR:   6.555  SAR:   4.142  \n",
      "\n"
     ]
    },
    {
     "name": "stderr",
     "output_type": "stream",
     "text": [
      " 20%|█████████████████████████████████████▏                                                                                                                                                    | 10/50 [01:40<06:33,  9.84s/it]"
     ]
    },
    {
     "name": "stdout",
     "output_type": "stream",
     "text": [
      "drums           ==> SDR:  -2.159  SIR: 181.349  ISR:   4.075  SAR:  -6.142  \n",
      "bass            ==> SDR:  -2.159  SIR: 181.349  ISR:   4.075  SAR:  -6.142  \n",
      "\n"
     ]
    },
    {
     "name": "stderr",
     "output_type": "stream",
     "text": [
      " 22%|████████████████████████████████████████▉                                                                                                                                                 | 11/50 [01:50<06:27,  9.95s/it]"
     ]
    },
    {
     "name": "stdout",
     "output_type": "stream",
     "text": [
      "drums           ==> SDR:   6.693  SIR: 214.737  ISR:   9.555  SAR:   5.832  \n",
      "bass            ==> SDR:   6.693  SIR: 214.737  ISR:   9.555  SAR:   5.832  \n",
      "\n"
     ]
    },
    {
     "name": "stderr",
     "output_type": "stream",
     "text": [
      " 24%|████████████████████████████████████████████▋                                                                                                                                             | 12/50 [02:00<06:18,  9.96s/it]"
     ]
    },
    {
     "name": "stdout",
     "output_type": "stream",
     "text": [
      "drums           ==> SDR:   3.588  SIR: 225.932  ISR:   4.474  SAR:   4.056  \n",
      "bass            ==> SDR:   3.588  SIR: 225.932  ISR:   4.474  SAR:   4.056  \n",
      "\n"
     ]
    },
    {
     "name": "stderr",
     "output_type": "stream",
     "text": [
      " 26%|████████████████████████████████████████████████▎                                                                                                                                         | 13/50 [02:09<06:01,  9.78s/it]"
     ]
    },
    {
     "name": "stdout",
     "output_type": "stream",
     "text": [
      "drums           ==> SDR:   0.315  SIR:  74.418  ISR:   0.754  SAR:  -5.477  \n",
      "bass            ==> SDR:   0.315  SIR:  74.418  ISR:   0.754  SAR:  -5.477  \n",
      "\n"
     ]
    },
    {
     "name": "stderr",
     "output_type": "stream",
     "text": [
      " 28%|████████████████████████████████████████████████████                                                                                                                                      | 14/50 [02:19<05:49,  9.72s/it]"
     ]
    },
    {
     "name": "stdout",
     "output_type": "stream",
     "text": [
      "drums           ==> SDR:   5.884  SIR: 213.164  ISR:   8.661  SAR:   6.074  \n",
      "bass            ==> SDR:   5.884  SIR: 213.164  ISR:   8.661  SAR:   6.074  \n",
      "\n"
     ]
    },
    {
     "name": "stderr",
     "output_type": "stream",
     "text": [
      " 30%|███████████████████████████████████████████████████████▊                                                                                                                                  | 15/50 [02:30<05:53, 10.10s/it]"
     ]
    },
    {
     "name": "stdout",
     "output_type": "stream",
     "text": [
      "drums           ==> SDR:   4.592  SIR: 211.528  ISR:   6.880  SAR:   3.737  \n",
      "bass            ==> SDR:   4.592  SIR: 211.528  ISR:   6.880  SAR:   3.737  \n",
      "\n"
     ]
    },
    {
     "name": "stderr",
     "output_type": "stream",
     "text": [
      " 32%|███████████████████████████████████████████████████████████▌                                                                                                                              | 16/50 [02:40<05:39,  9.99s/it]"
     ]
    },
    {
     "name": "stdout",
     "output_type": "stream",
     "text": [
      "drums           ==> SDR:   4.088  SIR: 216.225  ISR:   6.556  SAR:   2.177  \n",
      "bass            ==> SDR:   4.088  SIR: 216.225  ISR:   6.556  SAR:   2.177  \n",
      "\n"
     ]
    },
    {
     "name": "stderr",
     "output_type": "stream",
     "text": [
      " 34%|███████████████████████████████████████████████████████████████▏                                                                                                                          | 17/50 [02:50<05:28,  9.94s/it]"
     ]
    },
    {
     "name": "stdout",
     "output_type": "stream",
     "text": [
      "drums           ==> SDR:   1.554  SIR: 221.100  ISR:   3.861  SAR:  -2.880  \n",
      "bass            ==> SDR:   1.554  SIR: 221.100  ISR:   3.861  SAR:  -2.880  \n",
      "\n"
     ]
    },
    {
     "name": "stderr",
     "output_type": "stream",
     "text": [
      " 36%|██████████████████████████████████████████████████████████████████▉                                                                                                                       | 18/50 [03:00<05:18,  9.94s/it]"
     ]
    },
    {
     "name": "stdout",
     "output_type": "stream",
     "text": [
      "drums           ==> SDR:   6.977  SIR: 204.482  ISR:   9.759  SAR:   7.239  \n",
      "bass            ==> SDR:   6.977  SIR: 204.482  ISR:   9.759  SAR:   7.239  \n",
      "\n"
     ]
    },
    {
     "name": "stderr",
     "output_type": "stream",
     "text": [
      " 38%|██████████████████████████████████████████████████████████████████████▋                                                                                                                   | 19/50 [03:09<05:08,  9.94s/it]"
     ]
    },
    {
     "name": "stdout",
     "output_type": "stream",
     "text": [
      "drums           ==> SDR:   8.521  SIR: 220.784  ISR:  12.142  SAR:   8.591  \n",
      "bass            ==> SDR:   8.521  SIR: 220.784  ISR:  12.142  SAR:   8.591  \n",
      "\n"
     ]
    },
    {
     "name": "stderr",
     "output_type": "stream",
     "text": [
      " 40%|██████████████████████████████████████████████████████████████████████████▍                                                                                                               | 20/50 [03:19<04:54,  9.81s/it]"
     ]
    },
    {
     "name": "stdout",
     "output_type": "stream",
     "text": [
      "drums           ==> SDR:   7.578  SIR: 232.619  ISR:   9.617  SAR:   8.267  \n",
      "bass            ==> SDR:   7.578  SIR: 232.619  ISR:   9.617  SAR:   8.267  \n",
      "\n"
     ]
    },
    {
     "name": "stderr",
     "output_type": "stream",
     "text": [
      " 42%|██████████████████████████████████████████████████████████████████████████████                                                                                                            | 21/50 [03:29<04:44,  9.82s/it]"
     ]
    },
    {
     "name": "stdout",
     "output_type": "stream",
     "text": [
      "drums           ==> SDR:   5.441  SIR: 181.446  ISR:   7.421  SAR:   6.622  \n",
      "bass            ==> SDR:   5.441  SIR: 181.446  ISR:   7.421  SAR:   6.622  \n",
      "\n"
     ]
    },
    {
     "name": "stderr",
     "output_type": "stream",
     "text": [
      " 44%|█████████████████████████████████████████████████████████████████████████████████▊                                                                                                        | 22/50 [03:39<04:36,  9.87s/it]"
     ]
    },
    {
     "name": "stdout",
     "output_type": "stream",
     "text": [
      "drums           ==> SDR:  -2.253  SIR: 269.757  ISR:   0.368  SAR: -16.164  \n",
      "bass            ==> SDR:  -2.253  SIR: 269.757  ISR:   0.368  SAR: -16.164  \n",
      "\n"
     ]
    },
    {
     "name": "stderr",
     "output_type": "stream",
     "text": [
      " 46%|█████████████████████████████████████████████████████████████████████████████████████▌                                                                                                    | 23/50 [03:48<04:24,  9.79s/it]"
     ]
    },
    {
     "name": "stdout",
     "output_type": "stream",
     "text": [
      "drums           ==> SDR:   2.370  SIR: 158.955  ISR:   3.528  SAR:  -0.069  \n",
      "bass            ==> SDR:   2.370  SIR: 158.955  ISR:   3.528  SAR:  -0.069  \n",
      "\n"
     ]
    },
    {
     "name": "stderr",
     "output_type": "stream",
     "text": [
      " 48%|█████████████████████████████████████████████████████████████████████████████████████████▎                                                                                                | 24/50 [03:58<04:15,  9.84s/it]"
     ]
    },
    {
     "name": "stdout",
     "output_type": "stream",
     "text": [
      "drums           ==> SDR:   4.213  SIR: 134.125  ISR:   6.316  SAR:   3.531  \n",
      "bass            ==> SDR:   4.213  SIR: 134.125  ISR:   6.316  SAR:   3.531  \n",
      "\n"
     ]
    },
    {
     "name": "stderr",
     "output_type": "stream",
     "text": [
      " 50%|█████████████████████████████████████████████████████████████████████████████████████████████                                                                                             | 25/50 [04:09<04:11, 10.05s/it]"
     ]
    },
    {
     "name": "stdout",
     "output_type": "stream",
     "text": [
      "drums           ==> SDR:   2.534  SIR: 227.062  ISR:   4.432  SAR:   1.120  \n",
      "bass            ==> SDR:   2.534  SIR: 227.062  ISR:   4.432  SAR:   1.120  \n",
      "\n"
     ]
    },
    {
     "name": "stderr",
     "output_type": "stream",
     "text": [
      " 52%|████████████████████████████████████████████████████████████████████████████████████████████████▋                                                                                         | 26/50 [04:19<03:59,  9.98s/it]"
     ]
    },
    {
     "name": "stdout",
     "output_type": "stream",
     "text": [
      "drums           ==> SDR:   8.501  SIR: 176.794  ISR:  12.700  SAR:   8.838  \n",
      "bass            ==> SDR:   8.501  SIR: 176.794  ISR:  12.700  SAR:   8.838  \n",
      "\n"
     ]
    },
    {
     "name": "stderr",
     "output_type": "stream",
     "text": [
      " 54%|████████████████████████████████████████████████████████████████████████████████████████████████████▍                                                                                     | 27/50 [04:29<03:50, 10.01s/it]"
     ]
    },
    {
     "name": "stdout",
     "output_type": "stream",
     "text": [
      "drums           ==> SDR:   6.386  SIR: 185.742  ISR:  11.453  SAR:   6.294  \n",
      "bass            ==> SDR:   6.386  SIR: 185.742  ISR:  11.453  SAR:   6.294  \n",
      "\n"
     ]
    },
    {
     "name": "stderr",
     "output_type": "stream",
     "text": [
      " 56%|████████████████████████████████████████████████████████████████████████████████████████████████████████▏                                                                                 | 28/50 [04:39<03:40, 10.03s/it]"
     ]
    },
    {
     "name": "stdout",
     "output_type": "stream",
     "text": [
      "drums           ==> SDR:   5.609  SIR: 198.951  ISR:   7.023  SAR:   4.214  \n",
      "bass            ==> SDR:   5.609  SIR: 198.951  ISR:   7.023  SAR:   4.214  \n",
      "\n"
     ]
    },
    {
     "name": "stderr",
     "output_type": "stream",
     "text": [
      " 58%|███████████████████████████████████████████████████████████████████████████████████████████████████████████▉                                                                              | 29/50 [04:50<03:34, 10.23s/it]"
     ]
    },
    {
     "name": "stdout",
     "output_type": "stream",
     "text": [
      "drums           ==> SDR:   4.485  SIR: 187.819  ISR:   5.951  SAR:   5.548  \n",
      "bass            ==> SDR:   4.485  SIR: 187.819  ISR:   5.951  SAR:   5.548  \n",
      "\n"
     ]
    },
    {
     "name": "stderr",
     "output_type": "stream",
     "text": [
      " 60%|███████████████████████████████████████████████████████████████████████████████████████████████████████████████▌                                                                          | 30/50 [04:59<03:20, 10.05s/it]"
     ]
    },
    {
     "name": "stdout",
     "output_type": "stream",
     "text": [
      "drums           ==> SDR:   3.182  SIR: 216.377  ISR:   4.747  SAR:   1.726  \n",
      "bass            ==> SDR:   3.182  SIR: 216.377  ISR:   4.747  SAR:   1.726  \n",
      "\n"
     ]
    },
    {
     "name": "stderr",
     "output_type": "stream",
     "text": [
      " 62%|███████████████████████████████████████████████████████████████████████████████████████████████████████████████████▎                                                                      | 31/50 [05:09<03:10, 10.00s/it]"
     ]
    },
    {
     "name": "stdout",
     "output_type": "stream",
     "text": [
      "drums           ==> SDR:   2.321  SIR: 197.397  ISR:   6.325  SAR:   0.296  \n",
      "bass            ==> SDR:   2.321  SIR: 197.397  ISR:   6.325  SAR:   0.296  \n",
      "\n"
     ]
    },
    {
     "name": "stderr",
     "output_type": "stream",
     "text": [
      " 64%|███████████████████████████████████████████████████████████████████████████████████████████████████████████████████████                                                                   | 32/50 [05:18<02:56,  9.81s/it]"
     ]
    },
    {
     "name": "stdout",
     "output_type": "stream",
     "text": [
      "drums           ==> SDR:   0.865  SIR: 191.692  ISR:   2.774  SAR:  -0.548  \n",
      "bass            ==> SDR:   0.865  SIR: 191.692  ISR:   2.774  SAR:  -0.548  \n",
      "\n"
     ]
    },
    {
     "name": "stderr",
     "output_type": "stream",
     "text": [
      " 66%|██████████████████████████████████████████████████████████████████████████████████████████████████████████████████████████▊                                                               | 33/50 [05:28<02:45,  9.75s/it]"
     ]
    },
    {
     "name": "stdout",
     "output_type": "stream",
     "text": [
      "drums           ==> SDR:   1.749  SIR: 224.839  ISR:   3.651  SAR:  -0.745  \n",
      "bass            ==> SDR:   1.749  SIR: 224.839  ISR:   3.651  SAR:  -0.745  \n",
      "\n"
     ]
    },
    {
     "name": "stderr",
     "output_type": "stream",
     "text": [
      " 68%|██████████████████████████████████████████████████████████████████████████████████████████████████████████████████████████████▍                                                           | 34/50 [05:38<02:37,  9.86s/it]"
     ]
    },
    {
     "name": "stdout",
     "output_type": "stream",
     "text": [
      "drums           ==> SDR:   3.432  SIR: 246.177  ISR:   5.733  SAR:   1.841  \n",
      "bass            ==> SDR:   3.432  SIR: 246.177  ISR:   5.733  SAR:   1.841  \n",
      "\n"
     ]
    },
    {
     "name": "stderr",
     "output_type": "stream",
     "text": [
      " 70%|██████████████████████████████████████████████████████████████████████████████████████████████████████████████████████████████████▏                                                       | 35/50 [05:48<02:28,  9.92s/it]"
     ]
    },
    {
     "name": "stdout",
     "output_type": "stream",
     "text": [
      "drums           ==> SDR:   6.774  SIR: 219.537  ISR:  10.047  SAR:   7.323  \n",
      "bass            ==> SDR:   6.774  SIR: 219.537  ISR:  10.047  SAR:   7.323  \n",
      "\n"
     ]
    },
    {
     "name": "stderr",
     "output_type": "stream",
     "text": [
      " 72%|█████████████████████████████████████████████████████████████████████████████████████████████████████████████████████████████████████▉                                                    | 36/50 [05:58<02:19,  9.94s/it]"
     ]
    },
    {
     "name": "stdout",
     "output_type": "stream",
     "text": [
      "drums           ==> SDR:   1.767  SIR: 199.973  ISR:   4.571  SAR:  -1.824  \n",
      "bass            ==> SDR:   1.767  SIR: 199.973  ISR:   4.571  SAR:  -1.824  \n",
      "\n"
     ]
    },
    {
     "name": "stderr",
     "output_type": "stream",
     "text": [
      " 74%|█████████████████████████████████████████████████████████████████████████████████████████████████████████████████████████████████████████▋                                                | 37/50 [06:08<02:09,  9.99s/it]"
     ]
    },
    {
     "name": "stdout",
     "output_type": "stream",
     "text": [
      "drums           ==> SDR:   2.957  SIR: 207.047  ISR:  12.642  SAR:   1.816  \n",
      "bass            ==> SDR:   2.957  SIR: 207.047  ISR:  12.642  SAR:   1.816  \n",
      "\n"
     ]
    },
    {
     "name": "stderr",
     "output_type": "stream",
     "text": [
      " 76%|█████████████████████████████████████████████████████████████████████████████████████████████████████████████████████████████████████████████▎                                            | 38/50 [06:18<02:00, 10.00s/it]"
     ]
    },
    {
     "name": "stdout",
     "output_type": "stream",
     "text": [
      "drums           ==> SDR:   6.387  SIR: 224.220  ISR:   7.855  SAR:   4.436  \n",
      "bass            ==> SDR:   6.387  SIR: 224.220  ISR:   7.855  SAR:   4.436  \n",
      "\n"
     ]
    },
    {
     "name": "stderr",
     "output_type": "stream",
     "text": [
      " 78%|█████████████████████████████████████████████████████████████████████████████████████████████████████████████████████████████████████████████████                                         | 39/50 [06:28<01:49,  9.98s/it]"
     ]
    },
    {
     "name": "stdout",
     "output_type": "stream",
     "text": [
      "drums           ==> SDR:   3.304  SIR: 222.658  ISR:   4.959  SAR:   4.206  \n",
      "bass            ==> SDR:   3.304  SIR: 222.658  ISR:   4.959  SAR:   4.206  \n",
      "\n"
     ]
    },
    {
     "name": "stderr",
     "output_type": "stream",
     "text": [
      " 80%|████████████████████████████████████████████████████████████████████████████████████████████████████████████████████████████████████████████████████▊                                     | 40/50 [06:38<01:40, 10.01s/it]"
     ]
    },
    {
     "name": "stdout",
     "output_type": "stream",
     "text": [
      "drums           ==> SDR:   2.225  SIR: 170.396  ISR:   2.519  SAR:  -0.735  \n",
      "bass            ==> SDR:   2.225  SIR: 170.396  ISR:   2.519  SAR:  -0.735  \n",
      "\n"
     ]
    },
    {
     "name": "stderr",
     "output_type": "stream",
     "text": [
      " 82%|████████████████████████████████████████████████████████████████████████████████████████████████████████████████████████████████████████████████████████▌                                 | 41/50 [06:48<01:30, 10.01s/it]"
     ]
    },
    {
     "name": "stdout",
     "output_type": "stream",
     "text": [
      "drums           ==> SDR:   2.153  SIR: 183.402  ISR:   6.693  SAR:   1.702  \n",
      "bass            ==> SDR:   2.153  SIR: 183.402  ISR:   6.693  SAR:   1.702  \n",
      "\n"
     ]
    },
    {
     "name": "stderr",
     "output_type": "stream",
     "text": [
      " 84%|████████████████████████████████████████████████████████████████████████████████████████████████████████████████████████████████████████████████████████████▏                             | 42/50 [06:58<01:20, 10.02s/it]"
     ]
    },
    {
     "name": "stdout",
     "output_type": "stream",
     "text": [
      "drums           ==> SDR:   5.855  SIR: 116.499  ISR:   9.103  SAR:   5.150  \n",
      "bass            ==> SDR:   5.855  SIR: 116.499  ISR:   9.103  SAR:   5.150  \n",
      "\n"
     ]
    },
    {
     "name": "stderr",
     "output_type": "stream",
     "text": [
      " 86%|███████████████████████████████████████████████████████████████████████████████████████████████████████████████████████████████████████████████████████████████▉                          | 43/50 [07:08<01:09,  9.96s/it]"
     ]
    },
    {
     "name": "stdout",
     "output_type": "stream",
     "text": [
      "drums           ==> SDR:   3.110  SIR: 171.220  ISR:   4.968  SAR:   2.030  \n",
      "bass            ==> SDR:   3.110  SIR: 171.220  ISR:   4.968  SAR:   2.030  \n",
      "\n"
     ]
    },
    {
     "name": "stderr",
     "output_type": "stream",
     "text": [
      " 88%|███████████████████████████████████████████████████████████████████████████████████████████████████████████████████████████████████████████████████████████████████▋                      | 44/50 [07:17<00:57,  9.67s/it]"
     ]
    },
    {
     "name": "stdout",
     "output_type": "stream",
     "text": [
      "drums           ==> SDR:   4.738  SIR: 220.678  ISR:   8.199  SAR:   4.035  \n",
      "bass            ==> SDR:   4.738  SIR: 220.678  ISR:   8.199  SAR:   4.035  \n",
      "\n"
     ]
    },
    {
     "name": "stderr",
     "output_type": "stream",
     "text": [
      " 90%|███████████████████████████████████████████████████████████████████████████████████████████████████████████████████████████████████████████████████████████████████████▍                  | 45/50 [07:27<00:48,  9.68s/it]"
     ]
    },
    {
     "name": "stdout",
     "output_type": "stream",
     "text": [
      "drums           ==> SDR:   0.169  SIR: 201.911  ISR:   0.303  SAR:   1.267  \n",
      "bass            ==> SDR:   0.169  SIR: 201.911  ISR:   0.303  SAR:   1.267  \n",
      "\n"
     ]
    },
    {
     "name": "stderr",
     "output_type": "stream",
     "text": [
      " 92%|███████████████████████████████████████████████████████████████████████████████████████████████████████████████████████████████████████████████████████████████████████████               | 46/50 [07:36<00:38,  9.64s/it]"
     ]
    },
    {
     "name": "stdout",
     "output_type": "stream",
     "text": [
      "drums           ==> SDR:   1.839  SIR: 202.589  ISR:   3.171  SAR:  -0.982  \n",
      "bass            ==> SDR:   1.839  SIR: 202.589  ISR:   3.171  SAR:  -0.982  \n",
      "\n"
     ]
    },
    {
     "name": "stderr",
     "output_type": "stream",
     "text": [
      " 94%|██████████████████████████████████████████████████████████████████████████████████████████████████████████████████████████████████████████████████████████████████████████████▊           | 47/50 [07:45<00:28,  9.40s/it]"
     ]
    },
    {
     "name": "stdout",
     "output_type": "stream",
     "text": [
      "drums           ==> SDR:   3.405  SIR: 160.172  ISR:   6.284  SAR:   3.088  \n",
      "bass            ==> SDR:   3.405  SIR: 160.172  ISR:   6.284  SAR:   3.088  \n",
      "\n"
     ]
    },
    {
     "name": "stderr",
     "output_type": "stream",
     "text": [
      " 96%|██████████████████████████████████████████████████████████████████████████████████████████████████████████████████████████████████████████████████████████████████████████████████▌       | 48/50 [07:55<00:18,  9.43s/it]"
     ]
    },
    {
     "name": "stdout",
     "output_type": "stream",
     "text": [
      "drums           ==> SDR:   2.246  SIR: 213.925  ISR:   4.454  SAR:  -0.085  \n",
      "bass            ==> SDR:   2.246  SIR: 213.925  ISR:   4.454  SAR:  -0.085  \n",
      "\n"
     ]
    },
    {
     "name": "stderr",
     "output_type": "stream",
     "text": [
      " 98%|██████████████████████████████████████████████████████████████████████████████████████████████████████████████████████████████████████████████████████████████████████████████████████▎   | 49/50 [08:04<00:09,  9.42s/it]"
     ]
    },
    {
     "name": "stdout",
     "output_type": "stream",
     "text": [
      "drums           ==> SDR:   8.172  SIR: 211.069  ISR:  12.632  SAR:   7.871  \n",
      "bass            ==> SDR:   8.172  SIR: 211.069  ISR:  12.632  SAR:   7.871  \n",
      "\n"
     ]
    },
    {
     "name": "stderr",
     "output_type": "stream",
     "text": [
      "100%|██████████████████████████████████████████████████████████████████████████████████████████████████████████████████████████████████████████████████████████████████████████████████████████| 50/50 [08:14<00:00,  9.89s/it]"
     ]
    },
    {
     "name": "stdout",
     "output_type": "stream",
     "text": [
      "drums           ==> SDR:   4.885  SIR: 212.050  ISR:   7.455  SAR:   4.051  \n",
      "bass            ==> SDR:   4.885  SIR: 212.050  ISR:   7.455  SAR:   4.051  \n",
      "\n"
     ]
    },
    {
     "name": "stderr",
     "output_type": "stream",
     "text": [
      "\n",
      "  2%|███▋                                                                                                                                                                                       | 1/50 [00:09<07:41,  9.42s/it]"
     ]
    },
    {
     "name": "stdout",
     "output_type": "stream",
     "text": [
      "drums           ==> SDR:   6.259  SIR: 209.028  ISR:   8.567  SAR:   5.141  \n",
      "bass            ==> SDR:   6.259  SIR: 209.028  ISR:   8.567  SAR:   5.141  \n",
      "\n"
     ]
    },
    {
     "name": "stderr",
     "output_type": "stream",
     "text": [
      "  4%|███████▍                                                                                                                                                                                   | 2/50 [00:19<07:43,  9.65s/it]"
     ]
    },
    {
     "name": "stdout",
     "output_type": "stream",
     "text": [
      "drums           ==> SDR:   2.386  SIR: 175.846  ISR:   4.079  SAR:  -1.015  \n",
      "bass            ==> SDR:   2.386  SIR: 175.846  ISR:   4.079  SAR:  -1.015  \n",
      "\n"
     ]
    },
    {
     "name": "stderr",
     "output_type": "stream",
     "text": [
      "  6%|███████████▏                                                                                                                                                                               | 3/50 [00:29<07:37,  9.73s/it]"
     ]
    },
    {
     "name": "stdout",
     "output_type": "stream",
     "text": [
      "drums           ==> SDR:   3.949  SIR: 221.917  ISR:   6.677  SAR:   2.884  \n",
      "bass            ==> SDR:   3.949  SIR: 221.917  ISR:   6.677  SAR:   2.884  \n",
      "\n"
     ]
    },
    {
     "name": "stderr",
     "output_type": "stream",
     "text": [
      "  8%|██████████████▉                                                                                                                                                                            | 4/50 [00:38<07:31,  9.81s/it]"
     ]
    },
    {
     "name": "stdout",
     "output_type": "stream",
     "text": [
      "drums           ==> SDR:   2.130  SIR: 219.536  ISR:   7.116  SAR:  -0.662  \n",
      "bass            ==> SDR:   2.130  SIR: 219.536  ISR:   7.116  SAR:  -0.662  \n",
      "\n"
     ]
    },
    {
     "name": "stderr",
     "output_type": "stream",
     "text": [
      " 10%|██████████████████▋                                                                                                                                                                        | 5/50 [00:49<07:25,  9.89s/it]"
     ]
    },
    {
     "name": "stdout",
     "output_type": "stream",
     "text": [
      "drums           ==> SDR:   6.710  SIR: 193.314  ISR:   9.685  SAR:   6.680  \n",
      "bass            ==> SDR:   6.710  SIR: 193.314  ISR:   9.685  SAR:   6.680  \n",
      "\n"
     ]
    },
    {
     "name": "stderr",
     "output_type": "stream",
     "text": [
      " 12%|██████████████████████▍                                                                                                                                                                    | 6/50 [00:59<07:16,  9.93s/it]"
     ]
    },
    {
     "name": "stdout",
     "output_type": "stream",
     "text": [
      "drums           ==> SDR:   4.010  SIR: 236.279  ISR:   6.596  SAR:   2.418  \n",
      "bass            ==> SDR:   4.010  SIR: 236.279  ISR:   6.596  SAR:   2.418  \n",
      "\n"
     ]
    },
    {
     "name": "stderr",
     "output_type": "stream",
     "text": [
      " 14%|██████████████████████████▏                                                                                                                                                                | 7/50 [01:08<07:04,  9.88s/it]"
     ]
    },
    {
     "name": "stdout",
     "output_type": "stream",
     "text": [
      "drums           ==> SDR:   4.020  SIR: 219.563  ISR:   6.284  SAR:   2.157  \n",
      "bass            ==> SDR:   4.020  SIR: 219.563  ISR:   6.284  SAR:   2.157  \n",
      "\n"
     ]
    },
    {
     "name": "stderr",
     "output_type": "stream",
     "text": [
      " 16%|█████████████████████████████▉                                                                                                                                                             | 8/50 [01:18<06:50,  9.76s/it]"
     ]
    },
    {
     "name": "stdout",
     "output_type": "stream",
     "text": [
      "drums           ==> SDR:   2.917  SIR: 240.715  ISR:   5.278  SAR:   0.565  \n",
      "bass            ==> SDR:   2.917  SIR: 240.715  ISR:   5.278  SAR:   0.565  \n",
      "\n"
     ]
    },
    {
     "name": "stderr",
     "output_type": "stream",
     "text": [
      " 18%|█████████████████████████████████▋                                                                                                                                                         | 9/50 [01:27<06:38,  9.73s/it]"
     ]
    },
    {
     "name": "stdout",
     "output_type": "stream",
     "text": [
      "drums           ==> SDR:   3.410  SIR: 164.003  ISR:   5.367  SAR:   2.307  \n",
      "bass            ==> SDR:   3.410  SIR: 164.003  ISR:   5.367  SAR:   2.307  \n",
      "\n"
     ]
    },
    {
     "name": "stderr",
     "output_type": "stream",
     "text": [
      " 20%|█████████████████████████████████████▏                                                                                                                                                    | 10/50 [01:38<06:33,  9.83s/it]"
     ]
    },
    {
     "name": "stdout",
     "output_type": "stream",
     "text": [
      "drums           ==> SDR:  -2.159  SIR: 181.015  ISR:   2.689  SAR:  -6.880  \n",
      "bass            ==> SDR:  -2.159  SIR: 181.015  ISR:   2.689  SAR:  -6.880  \n",
      "\n"
     ]
    },
    {
     "name": "stderr",
     "output_type": "stream",
     "text": [
      " 22%|████████████████████████████████████████▉                                                                                                                                                 | 11/50 [01:47<06:24,  9.86s/it]"
     ]
    },
    {
     "name": "stdout",
     "output_type": "stream",
     "text": [
      "drums           ==> SDR:   4.294  SIR: 222.480  ISR:   6.447  SAR:   2.687  \n",
      "bass            ==> SDR:   4.294  SIR: 222.480  ISR:   6.447  SAR:   2.687  \n",
      "\n"
     ]
    },
    {
     "name": "stderr",
     "output_type": "stream",
     "text": [
      " 24%|████████████████████████████████████████████▋                                                                                                                                             | 12/50 [01:57<06:13,  9.82s/it]"
     ]
    },
    {
     "name": "stdout",
     "output_type": "stream",
     "text": [
      "drums           ==> SDR:   3.593  SIR: 221.695  ISR:   4.540  SAR:   4.127  \n",
      "bass            ==> SDR:   3.593  SIR: 221.695  ISR:   4.540  SAR:   4.127  \n",
      "\n"
     ]
    },
    {
     "name": "stderr",
     "output_type": "stream",
     "text": [
      " 26%|████████████████████████████████████████████████▎                                                                                                                                         | 13/50 [02:07<05:59,  9.71s/it]"
     ]
    },
    {
     "name": "stdout",
     "output_type": "stream",
     "text": [
      "drums           ==> SDR:   0.042  SIR:  75.001  ISR:   0.650  SAR:  -5.950  \n",
      "bass            ==> SDR:   0.042  SIR:  75.001  ISR:   0.650  SAR:  -5.950  \n",
      "\n"
     ]
    },
    {
     "name": "stderr",
     "output_type": "stream",
     "text": [
      " 28%|████████████████████████████████████████████████████                                                                                                                                      | 14/50 [02:16<05:49,  9.72s/it]"
     ]
    },
    {
     "name": "stdout",
     "output_type": "stream",
     "text": [
      "drums           ==> SDR:   5.172  SIR: 206.093  ISR:   7.546  SAR:   5.206  \n",
      "bass            ==> SDR:   5.172  SIR: 206.093  ISR:   7.546  SAR:   5.206  \n",
      "\n"
     ]
    },
    {
     "name": "stderr",
     "output_type": "stream",
     "text": [
      " 30%|███████████████████████████████████████████████████████▊                                                                                                                                  | 15/50 [02:26<05:42,  9.79s/it]"
     ]
    },
    {
     "name": "stdout",
     "output_type": "stream",
     "text": [
      "drums           ==> SDR:   4.686  SIR: 212.339  ISR:   6.862  SAR:   3.295  \n",
      "bass            ==> SDR:   4.686  SIR: 212.339  ISR:   6.862  SAR:   3.295  \n",
      "\n"
     ]
    },
    {
     "name": "stderr",
     "output_type": "stream",
     "text": [
      " 32%|███████████████████████████████████████████████████████████▌                                                                                                                              | 16/50 [02:36<05:34,  9.84s/it]"
     ]
    },
    {
     "name": "stdout",
     "output_type": "stream",
     "text": [
      "drums           ==> SDR:   3.884  SIR: 214.285  ISR:   6.447  SAR:   2.152  \n",
      "bass            ==> SDR:   3.884  SIR: 214.285  ISR:   6.447  SAR:   2.152  \n",
      "\n"
     ]
    },
    {
     "name": "stderr",
     "output_type": "stream",
     "text": [
      " 34%|███████████████████████████████████████████████████████████████▏                                                                                                                          | 17/50 [02:46<05:20,  9.70s/it]"
     ]
    },
    {
     "name": "stdout",
     "output_type": "stream",
     "text": [
      "drums           ==> SDR:   1.523  SIR: 220.087  ISR:   3.922  SAR:  -2.536  \n",
      "bass            ==> SDR:   1.523  SIR: 220.087  ISR:   3.922  SAR:  -2.536  \n",
      "\n"
     ]
    },
    {
     "name": "stderr",
     "output_type": "stream",
     "text": [
      " 36%|██████████████████████████████████████████████████████████████████▉                                                                                                                       | 18/50 [02:55<05:11,  9.73s/it]"
     ]
    },
    {
     "name": "stdout",
     "output_type": "stream",
     "text": [
      "drums           ==> SDR:   6.504  SIR: 201.141  ISR:   8.765  SAR:   6.645  \n",
      "bass            ==> SDR:   6.504  SIR: 201.141  ISR:   8.765  SAR:   6.645  \n",
      "\n"
     ]
    },
    {
     "name": "stderr",
     "output_type": "stream",
     "text": [
      " 38%|██████████████████████████████████████████████████████████████████████▋                                                                                                                   | 19/50 [03:05<05:04,  9.82s/it]"
     ]
    },
    {
     "name": "stdout",
     "output_type": "stream",
     "text": [
      "drums           ==> SDR:   7.451  SIR: 212.307  ISR:  11.033  SAR:   7.781  \n",
      "bass            ==> SDR:   7.451  SIR: 212.307  ISR:  11.033  SAR:   7.781  \n",
      "\n"
     ]
    },
    {
     "name": "stderr",
     "output_type": "stream",
     "text": [
      " 40%|██████████████████████████████████████████████████████████████████████████▍                                                                                                               | 20/50 [03:15<04:54,  9.81s/it]"
     ]
    },
    {
     "name": "stdout",
     "output_type": "stream",
     "text": [
      "drums           ==> SDR:   6.976  SIR: 224.914  ISR:   8.770  SAR:   7.511  \n",
      "bass            ==> SDR:   6.976  SIR: 224.914  ISR:   8.770  SAR:   7.511  \n",
      "\n"
     ]
    },
    {
     "name": "stderr",
     "output_type": "stream",
     "text": [
      " 42%|██████████████████████████████████████████████████████████████████████████████                                                                                                            | 21/50 [03:24<04:39,  9.62s/it]"
     ]
    },
    {
     "name": "stdout",
     "output_type": "stream",
     "text": [
      "drums           ==> SDR:   4.918  SIR: 178.931  ISR:   6.578  SAR:   6.368  \n",
      "bass            ==> SDR:   4.918  SIR: 178.931  ISR:   6.578  SAR:   6.368  \n",
      "\n"
     ]
    },
    {
     "name": "stderr",
     "output_type": "stream",
     "text": [
      " 44%|█████████████████████████████████████████████████████████████████████████████████▊                                                                                                        | 22/50 [03:35<04:39,  9.98s/it]"
     ]
    },
    {
     "name": "stdout",
     "output_type": "stream",
     "text": [
      "drums           ==> SDR:  -2.253  SIR: 269.757  ISR:   0.368  SAR: -16.164  \n",
      "bass            ==> SDR:  -2.253  SIR: 269.757  ISR:   0.368  SAR: -16.164  \n",
      "\n"
     ]
    },
    {
     "name": "stderr",
     "output_type": "stream",
     "text": [
      " 46%|█████████████████████████████████████████████████████████████████████████████████████▌                                                                                                    | 23/50 [03:45<04:26,  9.88s/it]"
     ]
    },
    {
     "name": "stdout",
     "output_type": "stream",
     "text": [
      "drums           ==> SDR:   2.153  SIR: 156.147  ISR:   3.178  SAR:  -0.570  \n",
      "bass            ==> SDR:   2.153  SIR: 156.147  ISR:   3.178  SAR:  -0.570  \n",
      "\n"
     ]
    },
    {
     "name": "stderr",
     "output_type": "stream",
     "text": [
      " 48%|█████████████████████████████████████████████████████████████████████████████████████████▎                                                                                                | 24/50 [03:55<04:15,  9.82s/it]"
     ]
    },
    {
     "name": "stdout",
     "output_type": "stream",
     "text": [
      "drums           ==> SDR:   3.307  SIR: 130.833  ISR:   5.097  SAR:   2.116  \n",
      "bass            ==> SDR:   3.307  SIR: 130.833  ISR:   5.097  SAR:   2.116  \n",
      "\n"
     ]
    },
    {
     "name": "stderr",
     "output_type": "stream",
     "text": [
      " 50%|█████████████████████████████████████████████████████████████████████████████████████████████                                                                                             | 25/50 [04:05<04:07,  9.90s/it]"
     ]
    },
    {
     "name": "stdout",
     "output_type": "stream",
     "text": [
      "drums           ==> SDR:   2.548  SIR: 217.176  ISR:   4.067  SAR:   0.951  \n",
      "bass            ==> SDR:   2.548  SIR: 217.176  ISR:   4.067  SAR:   0.951  \n",
      "\n"
     ]
    },
    {
     "name": "stderr",
     "output_type": "stream",
     "text": [
      " 52%|████████████████████████████████████████████████████████████████████████████████████████████████▋                                                                                         | 26/50 [04:14<03:55,  9.81s/it]"
     ]
    },
    {
     "name": "stdout",
     "output_type": "stream",
     "text": [
      "drums           ==> SDR:   8.749  SIR: 173.362  ISR:  12.506  SAR:   8.361  \n",
      "bass            ==> SDR:   8.749  SIR: 173.362  ISR:  12.506  SAR:   8.361  \n",
      "\n"
     ]
    },
    {
     "name": "stderr",
     "output_type": "stream",
     "text": [
      " 54%|████████████████████████████████████████████████████████████████████████████████████████████████████▍                                                                                     | 27/50 [04:24<03:44,  9.77s/it]"
     ]
    },
    {
     "name": "stdout",
     "output_type": "stream",
     "text": [
      "drums           ==> SDR:   5.667  SIR: 181.151  ISR:   9.636  SAR:   5.182  \n",
      "bass            ==> SDR:   5.667  SIR: 181.151  ISR:   9.636  SAR:   5.182  \n",
      "\n"
     ]
    },
    {
     "name": "stderr",
     "output_type": "stream",
     "text": [
      " 56%|████████████████████████████████████████████████████████████████████████████████████████████████████████▏                                                                                 | 28/50 [04:34<03:40, 10.00s/it]"
     ]
    },
    {
     "name": "stdout",
     "output_type": "stream",
     "text": [
      "drums           ==> SDR:   2.271  SIR: 198.995  ISR:   3.554  SAR:   0.251  \n",
      "bass            ==> SDR:   2.271  SIR: 198.995  ISR:   3.554  SAR:   0.251  \n",
      "\n"
     ]
    },
    {
     "name": "stderr",
     "output_type": "stream",
     "text": [
      " 58%|███████████████████████████████████████████████████████████████████████████████████████████████████████████▉                                                                              | 29/50 [04:44<03:30, 10.00s/it]"
     ]
    },
    {
     "name": "stdout",
     "output_type": "stream",
     "text": [
      "drums           ==> SDR:   4.285  SIR: 189.841  ISR:   5.624  SAR:   4.880  \n",
      "bass            ==> SDR:   4.285  SIR: 189.841  ISR:   5.624  SAR:   4.880  \n",
      "\n"
     ]
    },
    {
     "name": "stderr",
     "output_type": "stream",
     "text": [
      " 60%|███████████████████████████████████████████████████████████████████████████████████████████████████████████████▌                                                                          | 30/50 [04:54<03:19,  9.99s/it]"
     ]
    },
    {
     "name": "stdout",
     "output_type": "stream",
     "text": [
      "drums           ==> SDR:   2.852  SIR: 215.463  ISR:   4.345  SAR:   1.862  \n",
      "bass            ==> SDR:   2.852  SIR: 215.463  ISR:   4.345  SAR:   1.862  \n",
      "\n"
     ]
    },
    {
     "name": "stderr",
     "output_type": "stream",
     "text": [
      " 62%|███████████████████████████████████████████████████████████████████████████████████████████████████████████████████▎                                                                      | 31/50 [05:04<03:09, 10.00s/it]"
     ]
    },
    {
     "name": "stdout",
     "output_type": "stream",
     "text": [
      "drums           ==> SDR:   1.740  SIR: 196.386  ISR:   4.649  SAR:  -0.110  \n",
      "bass            ==> SDR:   1.740  SIR: 196.386  ISR:   4.649  SAR:  -0.110  \n",
      "\n"
     ]
    },
    {
     "name": "stderr",
     "output_type": "stream",
     "text": [
      " 64%|███████████████████████████████████████████████████████████████████████████████████████████████████████████████████████                                                                   | 32/50 [05:14<02:56,  9.80s/it]"
     ]
    },
    {
     "name": "stdout",
     "output_type": "stream",
     "text": [
      "drums           ==> SDR:   0.494  SIR: 188.284  ISR:   2.817  SAR:  -0.541  \n",
      "bass            ==> SDR:   0.494  SIR: 188.284  ISR:   2.817  SAR:  -0.541  \n",
      "\n"
     ]
    },
    {
     "name": "stderr",
     "output_type": "stream",
     "text": [
      " 66%|██████████████████████████████████████████████████████████████████████████████████████████████████████████████████████████▊                                                               | 33/50 [05:25<02:51, 10.07s/it]"
     ]
    },
    {
     "name": "stdout",
     "output_type": "stream",
     "text": [
      "drums           ==> SDR:   1.364  SIR: 227.256  ISR:   3.090  SAR:  -1.395  \n",
      "bass            ==> SDR:   1.364  SIR: 227.256  ISR:   3.090  SAR:  -1.395  \n",
      "\n"
     ]
    },
    {
     "name": "stderr",
     "output_type": "stream",
     "text": [
      " 68%|██████████████████████████████████████████████████████████████████████████████████████████████████████████████████████████████▍                                                           | 34/50 [05:34<02:40, 10.04s/it]"
     ]
    },
    {
     "name": "stdout",
     "output_type": "stream",
     "text": [
      "drums           ==> SDR:   2.852  SIR: 255.479  ISR:   4.782  SAR:   1.443  \n",
      "bass            ==> SDR:   2.852  SIR: 255.479  ISR:   4.782  SAR:   1.443  \n",
      "\n"
     ]
    },
    {
     "name": "stderr",
     "output_type": "stream",
     "text": [
      " 70%|██████████████████████████████████████████████████████████████████████████████████████████████████████████████████████████████████▏                                                       | 35/50 [05:44<02:29,  9.98s/it]"
     ]
    },
    {
     "name": "stdout",
     "output_type": "stream",
     "text": [
      "drums           ==> SDR:   6.536  SIR: 213.518  ISR:   8.987  SAR:   6.470  \n",
      "bass            ==> SDR:   6.536  SIR: 213.518  ISR:   8.987  SAR:   6.470  \n",
      "\n"
     ]
    },
    {
     "name": "stderr",
     "output_type": "stream",
     "text": [
      " 72%|█████████████████████████████████████████████████████████████████████████████████████████████████████████████████████████████████████▉                                                    | 36/50 [05:54<02:20, 10.03s/it]"
     ]
    },
    {
     "name": "stdout",
     "output_type": "stream",
     "text": [
      "drums           ==> SDR:   2.009  SIR: 199.009  ISR:   4.313  SAR:  -1.116  \n",
      "bass            ==> SDR:   2.009  SIR: 199.009  ISR:   4.313  SAR:  -1.116  \n",
      "\n"
     ]
    },
    {
     "name": "stderr",
     "output_type": "stream",
     "text": [
      " 74%|█████████████████████████████████████████████████████████████████████████████████████████████████████████████████████████████████████████▋                                                | 37/50 [06:04<02:10, 10.02s/it]"
     ]
    },
    {
     "name": "stdout",
     "output_type": "stream",
     "text": [
      "drums           ==> SDR:   1.552  SIR: 199.267  ISR:  10.143  SAR:   0.520  \n",
      "bass            ==> SDR:   1.552  SIR: 199.267  ISR:  10.143  SAR:   0.520  \n",
      "\n"
     ]
    },
    {
     "name": "stderr",
     "output_type": "stream",
     "text": [
      " 76%|█████████████████████████████████████████████████████████████████████████████████████████████████████████████████████████████████████████████▎                                            | 38/50 [06:14<02:00, 10.01s/it]"
     ]
    },
    {
     "name": "stdout",
     "output_type": "stream",
     "text": [
      "drums           ==> SDR:   6.285  SIR: 218.303  ISR:   7.396  SAR:   3.860  \n",
      "bass            ==> SDR:   6.285  SIR: 218.303  ISR:   7.396  SAR:   3.860  \n",
      "\n"
     ]
    },
    {
     "name": "stderr",
     "output_type": "stream",
     "text": [
      " 78%|█████████████████████████████████████████████████████████████████████████████████████████████████████████████████████████████████████████████████                                         | 39/50 [06:24<01:50, 10.02s/it]"
     ]
    },
    {
     "name": "stdout",
     "output_type": "stream",
     "text": [
      "drums           ==> SDR:   3.392  SIR: 225.466  ISR:   4.690  SAR:   4.083  \n",
      "bass            ==> SDR:   3.392  SIR: 225.466  ISR:   4.690  SAR:   4.083  \n",
      "\n"
     ]
    },
    {
     "name": "stderr",
     "output_type": "stream",
     "text": [
      " 80%|████████████████████████████████████████████████████████████████████████████████████████████████████████████████████████████████████████████████████▊                                     | 40/50 [06:34<01:40, 10.01s/it]"
     ]
    },
    {
     "name": "stdout",
     "output_type": "stream",
     "text": [
      "drums           ==> SDR:   2.177  SIR: 170.544  ISR:   2.056  SAR:  -1.068  \n",
      "bass            ==> SDR:   2.177  SIR: 170.544  ISR:   2.056  SAR:  -1.068  \n",
      "\n"
     ]
    },
    {
     "name": "stderr",
     "output_type": "stream",
     "text": [
      " 82%|████████████████████████████████████████████████████████████████████████████████████████████████████████████████████████████████████████████████████████▌                                 | 41/50 [06:45<01:30, 10.05s/it]"
     ]
    },
    {
     "name": "stdout",
     "output_type": "stream",
     "text": [
      "drums           ==> SDR:   2.302  SIR: 176.014  ISR:   5.720  SAR:   1.486  \n",
      "bass            ==> SDR:   2.302  SIR: 176.014  ISR:   5.720  SAR:   1.486  \n",
      "\n"
     ]
    },
    {
     "name": "stderr",
     "output_type": "stream",
     "text": [
      " 84%|████████████████████████████████████████████████████████████████████████████████████████████████████████████████████████████████████████████████████████████▏                             | 42/50 [06:55<01:20, 10.02s/it]"
     ]
    },
    {
     "name": "stdout",
     "output_type": "stream",
     "text": [
      "drums           ==> SDR:   5.391  SIR: 115.094  ISR:   8.386  SAR:   4.278  \n",
      "bass            ==> SDR:   5.391  SIR: 115.094  ISR:   8.386  SAR:   4.278  \n",
      "\n"
     ]
    },
    {
     "name": "stderr",
     "output_type": "stream",
     "text": [
      " 86%|███████████████████████████████████████████████████████████████████████████████████████████████████████████████████████████████████████████████████████████████▉                          | 43/50 [07:05<01:11, 10.26s/it]"
     ]
    },
    {
     "name": "stdout",
     "output_type": "stream",
     "text": [
      "drums           ==> SDR:   2.798  SIR: 169.462  ISR:   4.221  SAR:   1.304  \n",
      "bass            ==> SDR:   2.798  SIR: 169.462  ISR:   4.221  SAR:   1.304  \n",
      "\n"
     ]
    },
    {
     "name": "stderr",
     "output_type": "stream",
     "text": [
      " 88%|███████████████████████████████████████████████████████████████████████████████████████████████████████████████████████████████████████████████████████████████████▋                      | 44/50 [07:16<01:02, 10.45s/it]"
     ]
    },
    {
     "name": "stdout",
     "output_type": "stream",
     "text": [
      "drums           ==> SDR:   2.198  SIR: 215.075  ISR:   5.289  SAR:   0.739  \n",
      "bass            ==> SDR:   2.198  SIR: 215.075  ISR:   5.289  SAR:   0.739  \n",
      "\n"
     ]
    },
    {
     "name": "stderr",
     "output_type": "stream",
     "text": [
      " 90%|███████████████████████████████████████████████████████████████████████████████████████████████████████████████████████████████████████████████████████████████████████▍                  | 45/50 [07:27<00:53, 10.67s/it]"
     ]
    },
    {
     "name": "stdout",
     "output_type": "stream",
     "text": [
      "drums           ==> SDR:   0.129  SIR: 201.328  ISR:   0.241  SAR:   2.275  \n",
      "bass            ==> SDR:   0.129  SIR: 201.328  ISR:   0.241  SAR:   2.275  \n",
      "\n"
     ]
    },
    {
     "name": "stderr",
     "output_type": "stream",
     "text": [
      " 92%|███████████████████████████████████████████████████████████████████████████████████████████████████████████████████████████████████████████████████████████████████████████               | 46/50 [07:38<00:42, 10.53s/it]"
     ]
    },
    {
     "name": "stdout",
     "output_type": "stream",
     "text": [
      "drums           ==> SDR:   1.810  SIR: 205.267  ISR:   3.232  SAR:  -0.809  \n",
      "bass            ==> SDR:   1.810  SIR: 205.267  ISR:   3.232  SAR:  -0.809  \n",
      "\n"
     ]
    },
    {
     "name": "stderr",
     "output_type": "stream",
     "text": [
      " 94%|██████████████████████████████████████████████████████████████████████████████████████████████████████████████████████████████████████████████████████████████████████████████▊           | 47/50 [07:47<00:30, 10.18s/it]"
     ]
    },
    {
     "name": "stdout",
     "output_type": "stream",
     "text": [
      "drums           ==> SDR:   3.719  SIR: 167.217  ISR:   6.752  SAR:   3.374  \n",
      "bass            ==> SDR:   3.719  SIR: 167.217  ISR:   6.752  SAR:   3.374  \n",
      "\n"
     ]
    },
    {
     "name": "stderr",
     "output_type": "stream",
     "text": [
      " 96%|██████████████████████████████████████████████████████████████████████████████████████████████████████████████████████████████████████████████████████████████████████████████████▌       | 48/50 [07:58<00:20, 10.33s/it]"
     ]
    },
    {
     "name": "stdout",
     "output_type": "stream",
     "text": [
      "drums           ==> SDR:   2.248  SIR: 212.331  ISR:   3.925  SAR:  -0.274  \n",
      "bass            ==> SDR:   2.248  SIR: 212.331  ISR:   3.925  SAR:  -0.274  \n",
      "\n"
     ]
    },
    {
     "name": "stderr",
     "output_type": "stream",
     "text": [
      " 98%|██████████████████████████████████████████████████████████████████████████████████████████████████████████████████████████████████████████████████████████████████████████████████████▎   | 49/50 [08:07<00:10, 10.11s/it]"
     ]
    },
    {
     "name": "stdout",
     "output_type": "stream",
     "text": [
      "drums           ==> SDR:   7.505  SIR: 213.913  ISR:  11.338  SAR:   6.979  \n",
      "bass            ==> SDR:   7.505  SIR: 213.913  ISR:  11.338  SAR:   6.979  \n",
      "\n"
     ]
    },
    {
     "name": "stderr",
     "output_type": "stream",
     "text": [
      "100%|██████████████████████████████████████████████████████████████████████████████████████████████████████████████████████████████████████████████████████████████████████████████████████████| 50/50 [08:17<00:00,  9.95s/it]"
     ]
    },
    {
     "name": "stdout",
     "output_type": "stream",
     "text": [
      "drums           ==> SDR:   4.839  SIR: 210.900  ISR:   7.092  SAR:   3.850  \n",
      "bass            ==> SDR:   4.839  SIR: 210.900  ISR:   7.092  SAR:   3.850  \n",
      "\n"
     ]
    },
    {
     "name": "stderr",
     "output_type": "stream",
     "text": [
      "\n",
      "  2%|███▋                                                                                                                                                                                       | 1/50 [00:09<08:04,  9.89s/it]"
     ]
    },
    {
     "name": "stdout",
     "output_type": "stream",
     "text": [
      "drums           ==> SDR:   3.840  SIR: 200.940  ISR:   6.244  SAR:   1.982  \n",
      "bass            ==> SDR:   3.840  SIR: 200.940  ISR:   6.244  SAR:   1.982  \n",
      "\n"
     ]
    },
    {
     "name": "stderr",
     "output_type": "stream",
     "text": [
      "  4%|███████▍                                                                                                                                                                                   | 2/50 [00:20<08:01, 10.03s/it]"
     ]
    },
    {
     "name": "stdout",
     "output_type": "stream",
     "text": [
      "drums           ==> SDR:   1.965  SIR: 173.598  ISR:   3.353  SAR:  -1.469  \n",
      "bass            ==> SDR:   1.965  SIR: 173.598  ISR:   3.353  SAR:  -1.469  \n",
      "\n"
     ]
    },
    {
     "name": "stderr",
     "output_type": "stream",
     "text": [
      "  6%|███████████▏                                                                                                                                                                               | 3/50 [00:31<08:31, 10.87s/it]"
     ]
    },
    {
     "name": "stdout",
     "output_type": "stream",
     "text": [
      "drums           ==> SDR:   3.747  SIR: 227.255  ISR:   5.998  SAR:   2.397  \n",
      "bass            ==> SDR:   3.747  SIR: 227.255  ISR:   5.998  SAR:   2.397  \n",
      "\n"
     ]
    },
    {
     "name": "stderr",
     "output_type": "stream",
     "text": [
      "  8%|██████████████▉                                                                                                                                                                            | 4/50 [00:42<08:11, 10.68s/it]"
     ]
    },
    {
     "name": "stdout",
     "output_type": "stream",
     "text": [
      "drums           ==> SDR:   2.354  SIR: 220.273  ISR:   6.551  SAR:  -0.047  \n",
      "bass            ==> SDR:   2.354  SIR: 220.273  ISR:   6.551  SAR:  -0.047  \n",
      "\n"
     ]
    },
    {
     "name": "stderr",
     "output_type": "stream",
     "text": [
      " 10%|██████████████████▋                                                                                                                                                                        | 5/50 [00:52<07:53, 10.52s/it]"
     ]
    },
    {
     "name": "stdout",
     "output_type": "stream",
     "text": [
      "drums           ==> SDR:   5.384  SIR: 197.351  ISR:   6.424  SAR:   3.045  \n",
      "bass            ==> SDR:   5.384  SIR: 197.351  ISR:   6.424  SAR:   3.045  \n",
      "\n"
     ]
    },
    {
     "name": "stderr",
     "output_type": "stream",
     "text": [
      " 12%|██████████████████████▍                                                                                                                                                                    | 6/50 [01:02<07:33, 10.30s/it]"
     ]
    },
    {
     "name": "stdout",
     "output_type": "stream",
     "text": [
      "drums           ==> SDR:   3.835  SIR: 235.086  ISR:   5.679  SAR:   1.990  \n",
      "bass            ==> SDR:   3.835  SIR: 235.086  ISR:   5.679  SAR:   1.990  \n",
      "\n"
     ]
    },
    {
     "name": "stderr",
     "output_type": "stream",
     "text": [
      " 14%|██████████████████████████▏                                                                                                                                                                | 7/50 [01:12<07:15, 10.13s/it]"
     ]
    },
    {
     "name": "stdout",
     "output_type": "stream",
     "text": [
      "drums           ==> SDR:   2.429  SIR: 218.060  ISR:   4.157  SAR:   0.026  \n",
      "bass            ==> SDR:   2.429  SIR: 218.060  ISR:   4.157  SAR:   0.026  \n",
      "\n"
     ]
    },
    {
     "name": "stderr",
     "output_type": "stream",
     "text": [
      " 16%|█████████████████████████████▉                                                                                                                                                             | 8/50 [01:23<07:24, 10.59s/it]"
     ]
    },
    {
     "name": "stdout",
     "output_type": "stream",
     "text": [
      "drums           ==> SDR:   2.357  SIR: 236.907  ISR:   5.336  SAR:   0.224  \n",
      "bass            ==> SDR:   2.357  SIR: 236.907  ISR:   5.336  SAR:   0.224  \n",
      "\n"
     ]
    },
    {
     "name": "stderr",
     "output_type": "stream",
     "text": [
      " 18%|█████████████████████████████████▋                                                                                                                                                         | 9/50 [01:34<07:10, 10.50s/it]"
     ]
    },
    {
     "name": "stdout",
     "output_type": "stream",
     "text": [
      "drums           ==> SDR:   2.048  SIR: 156.531  ISR:   3.618  SAR:   0.115  \n",
      "bass            ==> SDR:   2.048  SIR: 156.531  ISR:   3.618  SAR:   0.115  \n",
      "\n"
     ]
    },
    {
     "name": "stderr",
     "output_type": "stream",
     "text": [
      " 20%|█████████████████████████████████████▏                                                                                                                                                    | 10/50 [01:44<06:57, 10.45s/it]"
     ]
    },
    {
     "name": "stdout",
     "output_type": "stream",
     "text": [
      "drums           ==> SDR:  -2.159  SIR: 184.165  ISR:   2.675  SAR:  -8.114  \n",
      "bass            ==> SDR:  -2.159  SIR: 184.165  ISR:   2.675  SAR:  -8.114  \n",
      "\n"
     ]
    },
    {
     "name": "stderr",
     "output_type": "stream",
     "text": [
      " 22%|████████████████████████████████████████▉                                                                                                                                                 | 11/50 [01:55<06:53, 10.60s/it]"
     ]
    },
    {
     "name": "stdout",
     "output_type": "stream",
     "text": [
      "drums           ==> SDR:   3.470  SIR: 218.623  ISR:   4.546  SAR:   1.096  \n",
      "bass            ==> SDR:   3.470  SIR: 218.623  ISR:   4.546  SAR:   1.096  \n",
      "\n"
     ]
    },
    {
     "name": "stderr",
     "output_type": "stream",
     "text": [
      " 24%|████████████████████████████████████████████▋                                                                                                                                             | 12/50 [02:05<06:36, 10.44s/it]"
     ]
    },
    {
     "name": "stdout",
     "output_type": "stream",
     "text": [
      "drums           ==> SDR:   2.836  SIR: 219.286  ISR:   3.569  SAR:   1.971  \n",
      "bass            ==> SDR:   2.836  SIR: 219.286  ISR:   3.569  SAR:   1.971  \n",
      "\n"
     ]
    },
    {
     "name": "stderr",
     "output_type": "stream",
     "text": [
      " 26%|████████████████████████████████████████████████▎                                                                                                                                         | 13/50 [02:14<06:12, 10.07s/it]"
     ]
    },
    {
     "name": "stdout",
     "output_type": "stream",
     "text": [
      "drums           ==> SDR:   0.017  SIR:  79.251  ISR:   0.369  SAR:  -4.400  \n",
      "bass            ==> SDR:   0.017  SIR:  79.251  ISR:   0.369  SAR:  -4.400  \n",
      "\n"
     ]
    },
    {
     "name": "stderr",
     "output_type": "stream",
     "text": [
      " 28%|████████████████████████████████████████████████████                                                                                                                                      | 14/50 [02:24<06:05, 10.15s/it]"
     ]
    },
    {
     "name": "stdout",
     "output_type": "stream",
     "text": [
      "drums           ==> SDR:   4.476  SIR: 208.806  ISR:   6.178  SAR:   3.907  \n",
      "bass            ==> SDR:   4.476  SIR: 208.806  ISR:   6.178  SAR:   3.907  \n",
      "\n"
     ]
    },
    {
     "name": "stderr",
     "output_type": "stream",
     "text": [
      " 30%|███████████████████████████████████████████████████████▊                                                                                                                                  | 15/50 [02:34<05:52, 10.08s/it]"
     ]
    },
    {
     "name": "stdout",
     "output_type": "stream",
     "text": [
      "drums           ==> SDR:   4.654  SIR: 217.270  ISR:   6.654  SAR:   3.352  \n",
      "bass            ==> SDR:   4.654  SIR: 217.270  ISR:   6.654  SAR:   3.352  \n",
      "\n"
     ]
    },
    {
     "name": "stderr",
     "output_type": "stream",
     "text": [
      " 32%|███████████████████████████████████████████████████████████▌                                                                                                                              | 16/50 [02:45<05:44, 10.14s/it]"
     ]
    },
    {
     "name": "stdout",
     "output_type": "stream",
     "text": [
      "drums           ==> SDR:   3.621  SIR: 209.407  ISR:   5.577  SAR:   1.542  \n",
      "bass            ==> SDR:   3.621  SIR: 209.407  ISR:   5.577  SAR:   1.542  \n",
      "\n"
     ]
    },
    {
     "name": "stderr",
     "output_type": "stream",
     "text": [
      " 34%|███████████████████████████████████████████████████████████████▏                                                                                                                          | 17/50 [02:55<05:36, 10.19s/it]"
     ]
    },
    {
     "name": "stdout",
     "output_type": "stream",
     "text": [
      "drums           ==> SDR:   1.208  SIR: 221.113  ISR:   3.295  SAR:  -3.800  \n",
      "bass            ==> SDR:   1.208  SIR: 221.113  ISR:   3.295  SAR:  -3.800  \n",
      "\n"
     ]
    },
    {
     "name": "stderr",
     "output_type": "stream",
     "text": [
      " 36%|██████████████████████████████████████████████████████████████████▉                                                                                                                       | 18/50 [03:05<05:24, 10.13s/it]"
     ]
    },
    {
     "name": "stdout",
     "output_type": "stream",
     "text": [
      "drums           ==> SDR:   5.997  SIR: 202.917  ISR:   7.492  SAR:   5.562  \n",
      "bass            ==> SDR:   5.997  SIR: 202.917  ISR:   7.492  SAR:   5.562  \n",
      "\n"
     ]
    },
    {
     "name": "stderr",
     "output_type": "stream",
     "text": [
      " 38%|██████████████████████████████████████████████████████████████████████▋                                                                                                                   | 19/50 [03:15<05:12, 10.08s/it]"
     ]
    },
    {
     "name": "stdout",
     "output_type": "stream",
     "text": [
      "drums           ==> SDR:   7.357  SIR: 221.589  ISR:   9.989  SAR:   7.514  \n",
      "bass            ==> SDR:   7.357  SIR: 221.589  ISR:   9.989  SAR:   7.514  \n",
      "\n"
     ]
    },
    {
     "name": "stderr",
     "output_type": "stream",
     "text": [
      " 40%|██████████████████████████████████████████████████████████████████████████▍                                                                                                               | 20/50 [03:25<05:00, 10.03s/it]"
     ]
    },
    {
     "name": "stdout",
     "output_type": "stream",
     "text": [
      "drums           ==> SDR:   4.064  SIR: 221.777  ISR:   5.657  SAR:   3.618  \n",
      "bass            ==> SDR:   4.064  SIR: 221.777  ISR:   5.657  SAR:   3.618  \n",
      "\n"
     ]
    },
    {
     "name": "stderr",
     "output_type": "stream",
     "text": [
      " 42%|██████████████████████████████████████████████████████████████████████████████                                                                                                            | 21/50 [03:35<04:49,  9.99s/it]"
     ]
    },
    {
     "name": "stdout",
     "output_type": "stream",
     "text": [
      "drums           ==> SDR:   4.035  SIR: 179.638  ISR:   5.427  SAR:   5.259  \n",
      "bass            ==> SDR:   4.035  SIR: 179.638  ISR:   5.427  SAR:   5.259  \n",
      "\n"
     ]
    },
    {
     "name": "stderr",
     "output_type": "stream",
     "text": [
      " 44%|█████████████████████████████████████████████████████████████████████████████████▊                                                                                                        | 22/50 [03:45<04:39,  9.99s/it]"
     ]
    },
    {
     "name": "stdout",
     "output_type": "stream",
     "text": [
      "drums           ==> SDR:  -2.253  SIR: 269.757  ISR:   0.368  SAR: -16.164  \n",
      "bass            ==> SDR:  -2.253  SIR: 269.757  ISR:   0.368  SAR: -16.164  \n",
      "\n"
     ]
    },
    {
     "name": "stderr",
     "output_type": "stream",
     "text": [
      " 46%|█████████████████████████████████████████████████████████████████████████████████████▌                                                                                                    | 23/50 [03:55<04:28,  9.96s/it]"
     ]
    },
    {
     "name": "stdout",
     "output_type": "stream",
     "text": [
      "drums           ==> SDR:   1.854  SIR: 154.020  ISR:   2.658  SAR:  -1.303  \n",
      "bass            ==> SDR:   1.854  SIR: 154.020  ISR:   2.658  SAR:  -1.303  \n",
      "\n"
     ]
    },
    {
     "name": "stderr",
     "output_type": "stream",
     "text": [
      " 48%|█████████████████████████████████████████████████████████████████████████████████████████▎                                                                                                | 24/50 [04:05<04:20, 10.01s/it]"
     ]
    },
    {
     "name": "stdout",
     "output_type": "stream",
     "text": [
      "drums           ==> SDR:   2.893  SIR: 128.740  ISR:   4.531  SAR:   1.148  \n",
      "bass            ==> SDR:   2.893  SIR: 128.740  ISR:   4.531  SAR:   1.148  \n",
      "\n"
     ]
    },
    {
     "name": "stderr",
     "output_type": "stream",
     "text": [
      " 50%|█████████████████████████████████████████████████████████████████████████████████████████████                                                                                             | 25/50 [04:15<04:13, 10.15s/it]"
     ]
    },
    {
     "name": "stdout",
     "output_type": "stream",
     "text": [
      "drums           ==> SDR:   2.372  SIR: 227.994  ISR:   3.445  SAR:   0.763  \n",
      "bass            ==> SDR:   2.372  SIR: 227.994  ISR:   3.445  SAR:   0.763  \n",
      "\n"
     ]
    },
    {
     "name": "stderr",
     "output_type": "stream",
     "text": [
      " 52%|████████████████████████████████████████████████████████████████████████████████████████████████▋                                                                                         | 26/50 [04:26<04:06, 10.28s/it]"
     ]
    },
    {
     "name": "stdout",
     "output_type": "stream",
     "text": [
      "drums           ==> SDR:   5.681  SIR: 172.169  ISR:   8.611  SAR:   5.295  \n",
      "bass            ==> SDR:   5.681  SIR: 172.169  ISR:   8.611  SAR:   5.295  \n",
      "\n"
     ]
    },
    {
     "name": "stderr",
     "output_type": "stream",
     "text": [
      " 54%|████████████████████████████████████████████████████████████████████████████████████████████████████▍                                                                                     | 27/50 [04:36<03:55, 10.22s/it]"
     ]
    },
    {
     "name": "stdout",
     "output_type": "stream",
     "text": [
      "drums           ==> SDR:   4.859  SIR: 180.409  ISR:   9.076  SAR:   4.214  \n",
      "bass            ==> SDR:   4.859  SIR: 180.409  ISR:   9.076  SAR:   4.214  \n",
      "\n"
     ]
    },
    {
     "name": "stderr",
     "output_type": "stream",
     "text": [
      " 56%|████████████████████████████████████████████████████████████████████████████████████████████████████████▏                                                                                 | 28/50 [04:46<03:44, 10.19s/it]"
     ]
    },
    {
     "name": "stdout",
     "output_type": "stream",
     "text": [
      "drums           ==> SDR:   1.018  SIR: 200.189  ISR:   1.909  SAR:   0.001  \n",
      "bass            ==> SDR:   1.018  SIR: 200.189  ISR:   1.909  SAR:   0.001  \n",
      "\n"
     ]
    },
    {
     "name": "stderr",
     "output_type": "stream",
     "text": [
      " 58%|███████████████████████████████████████████████████████████████████████████████████████████████████████████▉                                                                              | 29/50 [04:57<03:36, 10.32s/it]"
     ]
    },
    {
     "name": "stdout",
     "output_type": "stream",
     "text": [
      "drums           ==> SDR:   2.817  SIR: 190.034  ISR:   3.732  SAR:   1.197  \n",
      "bass            ==> SDR:   2.817  SIR: 190.034  ISR:   3.732  SAR:   1.197  \n",
      "\n"
     ]
    },
    {
     "name": "stderr",
     "output_type": "stream",
     "text": [
      " 60%|███████████████████████████████████████████████████████████████████████████████████████████████████████████████▌                                                                          | 30/50 [05:07<03:26, 10.34s/it]"
     ]
    },
    {
     "name": "stdout",
     "output_type": "stream",
     "text": [
      "drums           ==> SDR:   1.404  SIR: 208.259  ISR:   2.123  SAR:  -0.658  \n",
      "bass            ==> SDR:   1.404  SIR: 208.259  ISR:   2.123  SAR:  -0.658  \n",
      "\n"
     ]
    },
    {
     "name": "stderr",
     "output_type": "stream",
     "text": [
      " 62%|███████████████████████████████████████████████████████████████████████████████████████████████████████████████████▎                                                                      | 31/50 [05:17<03:14, 10.24s/it]"
     ]
    },
    {
     "name": "stdout",
     "output_type": "stream",
     "text": [
      "drums           ==> SDR:   1.339  SIR: 197.081  ISR:   4.013  SAR:  -0.353  \n",
      "bass            ==> SDR:   1.339  SIR: 197.081  ISR:   4.013  SAR:  -0.353  \n",
      "\n"
     ]
    },
    {
     "name": "stderr",
     "output_type": "stream",
     "text": [
      " 64%|███████████████████████████████████████████████████████████████████████████████████████████████████████████████████████                                                                   | 32/50 [05:28<03:06, 10.38s/it]"
     ]
    },
    {
     "name": "stdout",
     "output_type": "stream",
     "text": [
      "drums           ==> SDR:   0.402  SIR: 192.279  ISR:   1.270  SAR:  -1.148  \n",
      "bass            ==> SDR:   0.402  SIR: 192.279  ISR:   1.270  SAR:  -1.148  \n",
      "\n"
     ]
    },
    {
     "name": "stderr",
     "output_type": "stream",
     "text": [
      " 66%|██████████████████████████████████████████████████████████████████████████████████████████████████████████████████████████▊                                                               | 33/50 [05:38<02:55, 10.35s/it]"
     ]
    },
    {
     "name": "stdout",
     "output_type": "stream",
     "text": [
      "drums           ==> SDR:   0.901  SIR: 222.323  ISR:   2.050  SAR:  -1.339  \n",
      "bass            ==> SDR:   0.901  SIR: 222.323  ISR:   2.050  SAR:  -1.339  \n",
      "\n"
     ]
    },
    {
     "name": "stderr",
     "output_type": "stream",
     "text": [
      " 68%|██████████████████████████████████████████████████████████████████████████████████████████████████████████████████████████████▍                                                           | 34/50 [05:48<02:43, 10.24s/it]"
     ]
    },
    {
     "name": "stdout",
     "output_type": "stream",
     "text": [
      "drums           ==> SDR:   2.675  SIR: 248.187  ISR:   3.948  SAR:   0.537  \n",
      "bass            ==> SDR:   2.675  SIR: 248.187  ISR:   3.948  SAR:   0.537  \n",
      "\n"
     ]
    },
    {
     "name": "stderr",
     "output_type": "stream",
     "text": [
      " 70%|██████████████████████████████████████████████████████████████████████████████████████████████████████████████████████████████████▏                                                       | 35/50 [05:58<02:32, 10.16s/it]"
     ]
    },
    {
     "name": "stdout",
     "output_type": "stream",
     "text": [
      "drums           ==> SDR:   4.675  SIR: 213.569  ISR:   5.934  SAR:   2.648  \n",
      "bass            ==> SDR:   4.675  SIR: 213.569  ISR:   5.934  SAR:   2.648  \n",
      "\n"
     ]
    },
    {
     "name": "stderr",
     "output_type": "stream",
     "text": [
      " 72%|█████████████████████████████████████████████████████████████████████████████████████████████████████████████████████████████████████▉                                                    | 36/50 [06:08<02:23, 10.26s/it]"
     ]
    },
    {
     "name": "stdout",
     "output_type": "stream",
     "text": [
      "drums           ==> SDR:   0.910  SIR: 205.998  ISR:   2.957  SAR:  -2.830  \n",
      "bass            ==> SDR:   0.910  SIR: 205.998  ISR:   2.957  SAR:  -2.830  \n",
      "\n"
     ]
    },
    {
     "name": "stderr",
     "output_type": "stream",
     "text": [
      " 74%|█████████████████████████████████████████████████████████████████████████████████████████████████████████████████████████████████████████▋                                                | 37/50 [06:18<02:10, 10.06s/it]"
     ]
    },
    {
     "name": "stdout",
     "output_type": "stream",
     "text": [
      "drums           ==> SDR:   0.317  SIR: 198.862  ISR:   7.508  SAR:  -1.245  \n",
      "bass            ==> SDR:   0.317  SIR: 198.862  ISR:   7.508  SAR:  -1.245  \n",
      "\n"
     ]
    },
    {
     "name": "stderr",
     "output_type": "stream",
     "text": [
      " 76%|█████████████████████████████████████████████████████████████████████████████████████████████████████████████████████████████████████████████▎                                            | 38/50 [06:28<01:59,  9.92s/it]"
     ]
    },
    {
     "name": "stdout",
     "output_type": "stream",
     "text": [
      "drums           ==> SDR:   6.057  SIR: 224.573  ISR:   6.722  SAR:   3.273  \n",
      "bass            ==> SDR:   6.057  SIR: 224.573  ISR:   6.722  SAR:   3.273  \n",
      "\n"
     ]
    },
    {
     "name": "stderr",
     "output_type": "stream",
     "text": [
      " 78%|█████████████████████████████████████████████████████████████████████████████████████████████████████████████████████████████████████████████████                                         | 39/50 [06:37<01:48,  9.87s/it]"
     ]
    },
    {
     "name": "stdout",
     "output_type": "stream",
     "text": [
      "drums           ==> SDR:   2.751  SIR: 228.112  ISR:   3.854  SAR:   2.835  \n",
      "bass            ==> SDR:   2.751  SIR: 228.112  ISR:   3.854  SAR:   2.835  \n",
      "\n"
     ]
    },
    {
     "name": "stderr",
     "output_type": "stream",
     "text": [
      " 80%|████████████████████████████████████████████████████████████████████████████████████████████████████████████████████████████████████████████████████▊                                     | 40/50 [06:48<01:41, 10.14s/it]"
     ]
    },
    {
     "name": "stdout",
     "output_type": "stream",
     "text": [
      "drums           ==> SDR:   1.907  SIR: 165.804  ISR:   1.050  SAR:  -2.552  \n",
      "bass            ==> SDR:   1.907  SIR: 165.804  ISR:   1.050  SAR:  -2.552  \n",
      "\n"
     ]
    },
    {
     "name": "stderr",
     "output_type": "stream",
     "text": [
      " 82%|████████████████████████████████████████████████████████████████████████████████████████████████████████████████████████████████████████████████████████▌                                 | 41/50 [06:58<01:30, 10.10s/it]"
     ]
    },
    {
     "name": "stdout",
     "output_type": "stream",
     "text": [
      "drums           ==> SDR:   0.030  SIR: 177.788  ISR:   3.737  SAR:  -1.526  \n",
      "bass            ==> SDR:   0.030  SIR: 177.788  ISR:   3.737  SAR:  -1.526  \n",
      "\n"
     ]
    },
    {
     "name": "stderr",
     "output_type": "stream",
     "text": [
      " 84%|████████████████████████████████████████████████████████████████████████████████████████████████████████████████████████████████████████████████████████████▏                             | 42/50 [07:08<01:20, 10.02s/it]"
     ]
    },
    {
     "name": "stdout",
     "output_type": "stream",
     "text": [
      "drums           ==> SDR:   3.648  SIR: 108.232  ISR:   5.102  SAR:   1.633  \n",
      "bass            ==> SDR:   3.648  SIR: 108.232  ISR:   5.102  SAR:   1.633  \n",
      "\n"
     ]
    },
    {
     "name": "stderr",
     "output_type": "stream",
     "text": [
      " 86%|███████████████████████████████████████████████████████████████████████████████████████████████████████████████████████████████████████████████████████████████▉                          | 43/50 [07:17<01:08,  9.80s/it]"
     ]
    },
    {
     "name": "stdout",
     "output_type": "stream",
     "text": [
      "drums           ==> SDR:   2.298  SIR: 168.332  ISR:   3.425  SAR:   0.472  \n",
      "bass            ==> SDR:   2.298  SIR: 168.332  ISR:   3.425  SAR:   0.472  \n",
      "\n"
     ]
    },
    {
     "name": "stderr",
     "output_type": "stream",
     "text": [
      " 88%|███████████████████████████████████████████████████████████████████████████████████████████████████████████████████████████████████████████████████████████████████▋                      | 44/50 [07:26<00:56,  9.37s/it]"
     ]
    },
    {
     "name": "stdout",
     "output_type": "stream",
     "text": [
      "drums           ==> SDR:   1.763  SIR: 213.972  ISR:   3.219  SAR:   0.281  \n",
      "bass            ==> SDR:   1.763  SIR: 213.972  ISR:   3.219  SAR:   0.281  \n",
      "\n"
     ]
    },
    {
     "name": "stderr",
     "output_type": "stream",
     "text": [
      " 90%|███████████████████████████████████████████████████████████████████████████████████████████████████████████████████████████████████████████████████████████████████████▍                  | 45/50 [07:35<00:46,  9.34s/it]"
     ]
    },
    {
     "name": "stdout",
     "output_type": "stream",
     "text": [
      "drums           ==> SDR:   0.160  SIR: 201.070  ISR:   0.251  SAR:   1.426  \n",
      "bass            ==> SDR:   0.160  SIR: 201.070  ISR:   0.251  SAR:   1.426  \n",
      "\n"
     ]
    },
    {
     "name": "stderr",
     "output_type": "stream",
     "text": [
      " 92%|███████████████████████████████████████████████████████████████████████████████████████████████████████████████████████████████████████████████████████████████████████████               | 46/50 [07:44<00:37,  9.35s/it]"
     ]
    },
    {
     "name": "stdout",
     "output_type": "stream",
     "text": [
      "drums           ==> SDR:   1.513  SIR: 201.317  ISR:   2.709  SAR:  -1.454  \n",
      "bass            ==> SDR:   1.513  SIR: 201.317  ISR:   2.709  SAR:  -1.454  \n",
      "\n"
     ]
    },
    {
     "name": "stderr",
     "output_type": "stream",
     "text": [
      " 94%|██████████████████████████████████████████████████████████████████████████████████████████████████████████████████████████████████████████████████████████████████████████████▊           | 47/50 [07:54<00:28,  9.36s/it]"
     ]
    },
    {
     "name": "stdout",
     "output_type": "stream",
     "text": [
      "drums           ==> SDR:   3.784  SIR: 164.351  ISR:   6.361  SAR:   3.259  \n",
      "bass            ==> SDR:   3.784  SIR: 164.351  ISR:   6.361  SAR:   3.259  \n",
      "\n"
     ]
    },
    {
     "name": "stderr",
     "output_type": "stream",
     "text": [
      " 96%|██████████████████████████████████████████████████████████████████████████████████████████████████████████████████████████████████████████████████████████████████████████████████▌       | 48/50 [08:03<00:18,  9.48s/it]"
     ]
    },
    {
     "name": "stdout",
     "output_type": "stream",
     "text": [
      "drums           ==> SDR:   1.797  SIR: 209.568  ISR:   2.848  SAR:  -1.522  \n",
      "bass            ==> SDR:   1.797  SIR: 209.568  ISR:   2.848  SAR:  -1.522  \n",
      "\n"
     ]
    },
    {
     "name": "stderr",
     "output_type": "stream",
     "text": [
      " 98%|██████████████████████████████████████████████████████████████████████████████████████████████████████████████████████████████████████████████████████████████████████████████████████▎   | 49/50 [08:13<00:09,  9.42s/it]"
     ]
    },
    {
     "name": "stdout",
     "output_type": "stream",
     "text": [
      "drums           ==> SDR:   5.768  SIR: 210.668  ISR:   7.938  SAR:   4.306  \n",
      "bass            ==> SDR:   5.768  SIR: 210.668  ISR:   7.938  SAR:   4.306  \n",
      "\n"
     ]
    },
    {
     "name": "stderr",
     "output_type": "stream",
     "text": [
      "100%|██████████████████████████████████████████████████████████████████████████████████████████████████████████████████████████████████████████████████████████████████████████████████████████| 50/50 [08:22<00:00, 10.05s/it]"
     ]
    },
    {
     "name": "stdout",
     "output_type": "stream",
     "text": [
      "drums           ==> SDR:   4.045  SIR: 210.003  ISR:   5.825  SAR:   3.082  \n",
      "bass            ==> SDR:   4.045  SIR: 210.003  ISR:   5.825  SAR:   3.082  \n",
      "\n"
     ]
    },
    {
     "name": "stderr",
     "output_type": "stream",
     "text": [
      "\n",
      "  2%|███▋                                                                                                                                                                                       | 1/50 [00:09<07:51,  9.63s/it]"
     ]
    },
    {
     "name": "stdout",
     "output_type": "stream",
     "text": [
      "drums           ==> SDR:   0.567  SIR: 199.475  ISR:   0.935  SAR:   0.478  \n",
      "bass            ==> SDR:   0.567  SIR: 199.475  ISR:   0.935  SAR:   0.478  \n",
      "\n"
     ]
    },
    {
     "name": "stderr",
     "output_type": "stream",
     "text": [
      "  4%|███████▍                                                                                                                                                                                   | 2/50 [00:19<07:49,  9.77s/it]"
     ]
    },
    {
     "name": "stdout",
     "output_type": "stream",
     "text": [
      "drums           ==> SDR:   1.139  SIR: 169.913  ISR:   1.842  SAR:  -2.267  \n",
      "bass            ==> SDR:   1.139  SIR: 169.913  ISR:   1.842  SAR:  -2.267  \n",
      "\n"
     ]
    },
    {
     "name": "stderr",
     "output_type": "stream",
     "text": [
      "  6%|███████████▏                                                                                                                                                                               | 3/50 [00:29<07:42,  9.83s/it]"
     ]
    },
    {
     "name": "stdout",
     "output_type": "stream",
     "text": [
      "drums           ==> SDR:   0.747  SIR: 223.507  ISR:   1.597  SAR:  -2.106  \n",
      "bass            ==> SDR:   0.747  SIR: 223.507  ISR:   1.597  SAR:  -2.106  \n",
      "\n"
     ]
    },
    {
     "name": "stderr",
     "output_type": "stream",
     "text": [
      "  8%|██████████████▉                                                                                                                                                                            | 4/50 [00:39<07:32,  9.83s/it]"
     ]
    },
    {
     "name": "stdout",
     "output_type": "stream",
     "text": [
      "drums           ==> SDR:   1.216  SIR: 216.600  ISR:   2.553  SAR:  -1.213  \n",
      "bass            ==> SDR:   1.216  SIR: 216.600  ISR:   2.553  SAR:  -1.213  \n",
      "\n"
     ]
    },
    {
     "name": "stderr",
     "output_type": "stream",
     "text": [
      " 10%|██████████████████▋                                                                                                                                                                        | 5/50 [00:48<07:20,  9.80s/it]"
     ]
    },
    {
     "name": "stdout",
     "output_type": "stream",
     "text": [
      "drums           ==> SDR:   0.177  SIR: 178.213  ISR:   0.611  SAR:  -3.256  \n",
      "bass            ==> SDR:   0.177  SIR: 178.213  ISR:   0.611  SAR:  -3.256  \n",
      "\n"
     ]
    },
    {
     "name": "stderr",
     "output_type": "stream",
     "text": [
      " 12%|██████████████████████▍                                                                                                                                                                    | 6/50 [00:59<07:14,  9.88s/it]"
     ]
    },
    {
     "name": "stdout",
     "output_type": "stream",
     "text": [
      "drums           ==> SDR:   1.180  SIR: 225.695  ISR:   1.702  SAR:  -0.016  \n",
      "bass            ==> SDR:   1.180  SIR: 225.695  ISR:   1.702  SAR:  -0.016  \n",
      "\n"
     ]
    },
    {
     "name": "stderr",
     "output_type": "stream",
     "text": [
      " 14%|██████████████████████████▏                                                                                                                                                                | 7/50 [01:08<07:02,  9.83s/it]"
     ]
    },
    {
     "name": "stdout",
     "output_type": "stream",
     "text": [
      "drums           ==> SDR:   0.417  SIR: 213.746  ISR:   0.982  SAR:  -3.270  \n",
      "bass            ==> SDR:   0.417  SIR: 213.746  ISR:   0.982  SAR:  -3.270  \n",
      "\n"
     ]
    },
    {
     "name": "stderr",
     "output_type": "stream",
     "text": [
      " 16%|█████████████████████████████▉                                                                                                                                                             | 8/50 [01:18<06:49,  9.76s/it]"
     ]
    },
    {
     "name": "stdout",
     "output_type": "stream",
     "text": [
      "drums           ==> SDR:   0.824  SIR: 243.579  ISR:   2.283  SAR:  -2.001  \n",
      "bass            ==> SDR:   0.824  SIR: 243.579  ISR:   2.283  SAR:  -2.001  \n",
      "\n"
     ]
    }
   ],
   "source": [
    "# for fold in range(3):\n",
    "for accuracy in [1.0, 0.9, 0.8, 0.7, 0.6, 0.5, 0.4, 0.3, 0.2, 0.1, 0]:\n",
    "    for name in ['epoch_280']:\n",
    "        #try:\n",
    "        output_path = f\"D:/Github/phd-drum-sep/rebuttal_experiments/demucs/results_{name}_{accuracy}_drop/\"\n",
    "        \n",
    "        try:\n",
    "            os.mkdir(output_path)\n",
    "        except:\n",
    "            pass\n",
    "    \n",
    "        model = DrumDemucs.load_from_checkpoint(f'D:/Github/phd-drum-sep/analysis/demucs_small_model_analysis/checkpoint/{name}.ckpt')\n",
    "        # model.to('cpu')\n",
    "        model = model.eval()\n",
    "        \n",
    "        mus = musdb.DB(root=\"D:/Github/phd-drum-sep/Data/musdb18_stems/\", subsets=\"test\") \n",
    "        \n",
    "        results = museval.EvalStore(frames_agg='median', tracks_agg='median')\n",
    "        for track in tqdm(mus):\n",
    "            try:\n",
    "                path = \"D:/Github/phd-drum-sep/Data/musdb18hq/\"\n",
    "                audio_path = path + 'test/' + track.name + \"/\"\n",
    "            \n",
    "            \n",
    "                mixture_tensor = load_audio(audio_path, start_point,'mixture.wav').unsqueeze(0).to(model.device)[:,:,:duration]\n",
    "                drum_tensor = load_audio(audio_path, start_point,'drums.wav').unsqueeze(0).to(model.device)[:,:,:duration]\n",
    "                shape = mixture_tensor.shape[2]\n",
    "                roll_tensor = load_roll(audio_path, start_point, shape, accuracy).unsqueeze(0).to(model.device)[:,:,:duration]\n",
    "            \n",
    "                seperated = separate_sources(model, mixture_tensor, roll_tensor, device='cuda')\n",
    "            \n",
    "                \n",
    "                audio = seperated.squeeze(0).cpu().numpy()\n",
    "                audio = np.swapaxes(audio,0,1)\n",
    "                estimates = {'drums': audio, 'bass': audio}\n",
    "            \n",
    "                d = drum_tensor.squeeze(0).cpu().numpy()\n",
    "                d = np.swapaxes(d,0,1)\n",
    "                \n",
    "                track.targets['drums'] = AudioData(d)\n",
    "                track.targets['bass'] = AudioData(d)\n",
    "                \n",
    "                scores = museval.eval_mus_track(\n",
    "                    track, estimates, output_dir=f\"{output_path}\"\n",
    "                )\n",
    "            \n",
    "                print(scores)\n",
    "                results.add_track(scores)\n",
    "                gc.collect()\n",
    "            except Exception as e:\n",
    "                print(e)\n",
    "                pass\n",
    "        \n",
    "        results.df.to_csv(f\"{output_path}results.csv\")\n",
    "    \n",
    "        del model\n",
    "        del mus\n",
    "        \n",
    "        # except Exception as e:\n",
    "        #     print('error with model, skipping', name, e)"
   ]
  },
  {
   "cell_type": "code",
   "execution_count": null,
   "id": "ff3d97f7-2804-4b99-adcb-5adeb7dc9d7d",
   "metadata": {},
   "outputs": [],
   "source": [
    "dir(results)"
   ]
  },
  {
   "cell_type": "code",
   "execution_count": null,
   "id": "6cd0a0c5-a825-44cb-94e7-9fef9dcc91fb",
   "metadata": {},
   "outputs": [],
   "source": [
    "results.agg_frames_tracks_scores(), "
   ]
  },
  {
   "cell_type": "code",
   "execution_count": null,
   "id": "246b6f4f-d272-4105-aef9-26757a4c3b4f",
   "metadata": {},
   "outputs": [],
   "source": [
    "r = results.agg_frames_scores().to_dict()"
   ]
  },
  {
   "cell_type": "code",
   "execution_count": null,
   "id": "d600d210-0015-462f-8dc5-4c5888589fe3",
   "metadata": {},
   "outputs": [],
   "source": [
    "sdrs = []\n",
    "for key in list(r.keys()):\n",
    "    if 'SDR' in key:\n",
    "        sdrs.append(r[key])\n",
    "\n",
    "print(np.median(sdrs))"
   ]
  },
  {
   "cell_type": "code",
   "execution_count": null,
   "id": "58db3f19-21c2-4daf-bdf1-eb25814ec5d7",
   "metadata": {},
   "outputs": [],
   "source": []
  }
 ],
 "metadata": {
  "kernelspec": {
   "display_name": "Python 3 (ipykernel)",
   "language": "python",
   "name": "python3"
  },
  "language_info": {
   "codemirror_mode": {
    "name": "ipython",
    "version": 3
   },
   "file_extension": ".py",
   "mimetype": "text/x-python",
   "name": "python",
   "nbconvert_exporter": "python",
   "pygments_lexer": "ipython3",
   "version": "3.11.4"
  }
 },
 "nbformat": 4,
 "nbformat_minor": 5
}
