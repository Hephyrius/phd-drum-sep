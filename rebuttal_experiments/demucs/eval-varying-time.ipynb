{
 "cells": [
  {
   "cell_type": "markdown",
   "id": "20b2a3bb-3d01-4f42-bc37-dff46522af7f",
   "metadata": {},
   "source": [
    "# Imports"
   ]
  },
  {
   "cell_type": "code",
   "execution_count": 1,
   "id": "71d686e6-8847-4861-88f0-58141c363862",
   "metadata": {},
   "outputs": [
    {
     "name": "stdout",
     "output_type": "stream",
     "text": [
      "True\n"
     ]
    }
   ],
   "source": [
    "import os\n",
    "import pywt\n",
    "import torch\n",
    "import torch.nn as nn\n",
    "import torch.nn.functional as F\n",
    "import torchaudio\n",
    "import pytorch_lightning as pl\n",
    "from torch.utils.data import DataLoader, Dataset\n",
    "from torchaudio.pipelines import HDEMUCS_HIGH_MUSDB\n",
    "import torch.optim as optim\n",
    "from torch.utils.data import Dataset, DataLoader\n",
    "import torchaudio\n",
    "import numpy as np\n",
    "import random\n",
    "from pytorch_lightning.loggers import WandbLogger\n",
    "import wandb\n",
    "import auraloss\n",
    "import collections\n",
    "from tqdm import tqdm\n",
    "import pretty_midi\n",
    "import matplotlib.pyplot as plt\n",
    "from torchaudio.pipelines import HDEMUCS_HIGH_MUSDB\n",
    "print(torch.cuda.is_available())\n",
    "import plotly.graph_objects as go\n",
    "from torch.optim import lr_scheduler\n",
    "from IPython.display import Audio\n",
    "from torchaudio.transforms import Fade\n",
    "import musdb\n",
    "import museval\n",
    "import gc"
   ]
  },
  {
   "cell_type": "code",
   "execution_count": 2,
   "id": "275ddd3f-aa3d-4444-8ddd-c8874bac940c",
   "metadata": {},
   "outputs": [
    {
     "name": "stdout",
     "output_type": "stream",
     "text": [
      "True\n"
     ]
    }
   ],
   "source": [
    "\n",
    "import os\n",
    "import torch\n",
    "import torch.nn as nn\n",
    "import torch.nn.functional as F\n",
    "import torchaudio\n",
    "import pytorch_lightning as pl\n",
    "from torch.utils.data import DataLoader, Dataset\n",
    "from torchaudio.pipelines import HDEMUCS_HIGH_MUSDB\n",
    "import torch.optim as optim\n",
    "from torch.utils.data import Dataset, DataLoader\n",
    "import torchaudio\n",
    "import numpy as np\n",
    "import random\n",
    "from pytorch_lightning.loggers import WandbLogger\n",
    "import subprocess\n",
    "import wandb\n",
    "import auraloss\n",
    "import collections\n",
    "from tqdm import tqdm\n",
    "import librosa\n",
    "from torchaudio.pipelines import HDEMUCS_HIGH_MUSDB\n",
    "print(torch.cuda.is_available())\n",
    "from torch.optim import lr_scheduler\n",
    "import pretty_midi\n",
    "from typing import Optional, Tuple\n",
    "import numpy as np\n",
    "import random"
   ]
  },
  {
   "cell_type": "markdown",
   "id": "e1c82506-04c8-4200-9e63-26857aa176bd",
   "metadata": {},
   "source": [
    "# Set Seeds"
   ]
  },
  {
   "cell_type": "code",
   "execution_count": 3,
   "id": "db3acd3b-d177-44d3-a3f4-35140f45e48a",
   "metadata": {},
   "outputs": [],
   "source": [
    "seed_value = 3407\n",
    "torch.manual_seed(seed_value)\n",
    "random.seed(seed_value)\n",
    "np.random.seed(seed_value)\n",
    "torch.cuda.manual_seed(seed_value)\n",
    "torch.cuda.manual_seed_all(seed_value)\n",
    "torch.set_float32_matmul_precision('high')"
   ]
  },
  {
   "cell_type": "markdown",
   "id": "6182916a-aec1-4c05-8a08-4d2e44dfd979",
   "metadata": {},
   "source": [
    "# Construct Teh Datas"
   ]
  },
  {
   "cell_type": "code",
   "execution_count": 4,
   "id": "dbe5ef07-9ab9-4e3e-9334-048f67ae25e4",
   "metadata": {},
   "outputs": [],
   "source": [
    "path = \"D:/Github/phd-drum-sep/Data/musdb18hq/\""
   ]
  },
  {
   "cell_type": "code",
   "execution_count": 5,
   "id": "e101d3bb-e001-42ff-90cc-42384739d506",
   "metadata": {},
   "outputs": [
    {
     "data": {
      "text/plain": [
       "['test', 'train']"
      ]
     },
     "execution_count": 5,
     "metadata": {},
     "output_type": "execute_result"
    }
   ],
   "source": [
    "os.listdir(path)"
   ]
  },
  {
   "cell_type": "code",
   "execution_count": 6,
   "id": "c52ab99f-41d2-4b7f-a179-90681a8a0a81",
   "metadata": {},
   "outputs": [],
   "source": [
    "train = list(os.listdir(path+'train'))\n",
    "test = list(os.listdir(path+'test'))"
   ]
  },
  {
   "cell_type": "code",
   "execution_count": 7,
   "id": "21aa39ee-b25f-4bdc-950a-9389eb93765a",
   "metadata": {},
   "outputs": [],
   "source": [
    "sources = ['drum', 'bass', 'other', 'vocals']"
   ]
  },
  {
   "cell_type": "code",
   "execution_count": 8,
   "id": "f07f7f9c-2d6b-42b9-b5ac-0f4bd9aeb6a7",
   "metadata": {},
   "outputs": [
    {
     "name": "stderr",
     "output_type": "stream",
     "text": [
      "50it [00:00, 78.93it/s]\n"
     ]
    }
   ],
   "source": [
    "all_scenes = {}\n",
    "counter = 0\n",
    "sample_rate = 44100\n",
    "segment_length = sample_rate * 1\n",
    "\n",
    "for idx, val in tqdm(enumerate(test)):\n",
    "    p = path + 'test/' + val + \"/\"\n",
    "    info = torchaudio.info(f\"{p}mixture.wav\")\n",
    "    seconds = info.num_frames // 44100\n",
    "    for i in range(0, seconds - 1, 1):\n",
    "        start_point = i * 44100\n",
    "        if start_point + 44100 < info.num_frames:\n",
    "            all_scenes[counter] = {'music_path': p, 'start_point': start_point, 'length': 44100, 'frames' : info.num_frames}\n",
    "            counter += 1"
   ]
  },
  {
   "cell_type": "code",
   "execution_count": 9,
   "id": "d6d4eb9a-f08d-4452-a4ad-b9769a218278",
   "metadata": {},
   "outputs": [],
   "source": [
    "import numpy as np\n",
    "import random\n",
    "\n",
    "def turn_transcription_into_roll(transcription, frames, shift_ms=0.001, sample_rate=44100,):\n",
    "    \"\"\"\n",
    "    Convert transcription into a piano roll, selectively shifting notes by a specified amount.\n",
    "    \n",
    "    Args:\n",
    "        transcription (music21.stream.Score): The transcription data.\n",
    "        frames (int): The number of frames in the output roll.\n",
    "        sample_rate (int): The sampling rate of the audio.\n",
    "        shift (int): The amount to shift notes by in milliseconds. Can be positive or negative.\n",
    "    \n",
    "    Returns:\n",
    "        np.ndarray: The piano roll representation of the transcription.\n",
    "    \"\"\"\n",
    "    # print(shift_ms)\n",
    "    \n",
    "    piano_roll_length = int(frames)\n",
    "    \n",
    "    # Initialize the piano roll array\n",
    "    piano_roll = np.zeros((64, piano_roll_length))\n",
    "    \n",
    "    # Fill in the piano roll array\n",
    "    for note in transcription.instruments[0].notes:\n",
    "        # Randomly decide the direction of the shift (+ or -)\n",
    "        shift = shift_ms\n",
    "        if random.choice([True, False]):\n",
    "            shift = -shift_ms\n",
    "\n",
    "        # print(shift_ms)\n",
    "        \n",
    "        # Convert start and end times to frame indices with shift\n",
    "        start_frame = int(np.floor((note.start + shift_ms) * sample_rate))\n",
    "        end_frame = int(np.ceil((note.end + shift_ms) * sample_rate))\n",
    "        \n",
    "        # Ensure start and end frames are within bounds\n",
    "        start_frame = max(0, start_frame)\n",
    "        end_frame = min(piano_roll_length, end_frame)\n",
    "        \n",
    "        if start_frame < end_frame:  # Ensure valid frame range\n",
    "            # Set the corresponding frames to 1 (or note.velocity for a velocity-sensitive representation)\n",
    "            piano_roll[note.pitch, start_frame:end_frame] = 1  # Or use note.velocity\n",
    "        \n",
    "    roll = np.vstack([\n",
    "        piano_roll[35:36, :],  # Kick\n",
    "        piano_roll[38:39, :],  # Snare\n",
    "        piano_roll[42:43, :],  # Hi-hat closed\n",
    "        piano_roll[47:48, :],  # Hi-hat open\n",
    "        piano_roll[49:50, :]   # Crash\n",
    "    ])\n",
    "    \n",
    "    return roll"
   ]
  },
  {
   "cell_type": "markdown",
   "id": "20988d30-a95e-4dca-ac19-a6f7cea95717",
   "metadata": {},
   "source": [
    "# model"
   ]
  },
  {
   "cell_type": "code",
   "execution_count": 10,
   "id": "b72a57b5-7115-421d-b26e-3ca3d21fef5d",
   "metadata": {},
   "outputs": [],
   "source": [
    "class DrumDemucs(pl.LightningModule):\n",
    "    def __init__(self):\n",
    "        super(DrumDemucs, self).__init__()\n",
    "\n",
    "        self.loss_fn = auraloss.freq.MultiResolutionSTFTLoss(\n",
    "                    fft_sizes=[1024, 2048, 4096],\n",
    "                    hop_sizes=[256, 512, 1024],\n",
    "                    win_lengths=[1024, 2048, 4096],\n",
    "                    scale=\"mel\", \n",
    "                    n_bins=150,\n",
    "                    sample_rate=44100,\n",
    "                    device=\"cuda\"\n",
    "                )\n",
    "\n",
    "        self.loss_fn_2 = auraloss.time.SISDRLoss()\n",
    "\n",
    "        self.loss_fn_3 = torch.nn.L1Loss()\n",
    "\n",
    "        self.loss_used = 0\n",
    "\n",
    "        sources = ['drum',\n",
    "                   'noise',\n",
    "                   ]\n",
    "        \n",
    "        self.demucs_mixer =  torchaudio.models.HDemucs(\n",
    "            sources=sources,\n",
    "            audio_channels=7,\n",
    "            depth=6,\n",
    "        )\n",
    "\n",
    "        self.out_conv = nn.Conv1d(in_channels=7, out_channels=2, kernel_size=1)\n",
    "        self.out = nn.Conv1d(in_channels=2, out_channels=2, kernel_size=1)      \n",
    "\n",
    "\n",
    "    def compute_loss(self, outputs, ref_signals):\n",
    "        loss = self.loss_fn(outputs, ref_signals) + self.loss_fn_2(outputs, ref_signals) +  self.loss_fn_3(outputs, ref_signals)\n",
    "        return loss\n",
    "\n",
    "    def forward(self, audio, drumroll):\n",
    "        to_mix = torch.cat([audio, drumroll], axis=1)\n",
    "        out = self.demucs_mixer(to_mix)\n",
    "        out_2 = self.out_conv(out[:, 0, :, :])\n",
    "        out_2 = self.out(out_2)\n",
    "        # out_2 = torch.tanh(out_2)\n",
    "\n",
    "        return out_2\n",
    "    \n",
    "    def training_step(self, batch, batch_idx):\n",
    "        # training_step defines the train loop. It is independent of forward\n",
    "        audio, drum, drumroll = batch\n",
    "        \n",
    "        outputs = self.forward(audio, drumroll)\n",
    "        # print(outputs.size())\n",
    "\n",
    "        if batch_idx % 64 == 0:\n",
    "            input_signal = audio[0].cpu().detach().numpy().T\n",
    "            generated_signal = outputs[0].cpu().detach().numpy().T\n",
    "            drum_signal = drum[0].cpu().detach().numpy().T \n",
    "            wandb.log({'audio_input': [wandb.Audio(input_signal, caption=\"Input\", sample_rate=44100)]})\n",
    "            wandb.log({'audio_reference': [wandb.Audio(drum_signal, caption=\"Reference\", sample_rate=44100)]})\n",
    "            wandb.log({'audio_output': [wandb.Audio(generated_signal, caption=\"Output\", sample_rate=44100)]})\n",
    "             \n",
    "            for i in range(5):\n",
    "                wandb.log({f'drum_{i + 1}': [wandb.Audio(drumroll[0].cpu().detach().numpy()[i, :], caption=\"Output\", sample_rate=44100)]})\n",
    "\n",
    "\n",
    "        loss = self.compute_loss(outputs, drum)         \n",
    "\n",
    "        self.log('train_loss', loss, on_step=True, on_epoch=True, prog_bar=True, logger=True)\n",
    "        \n",
    "        return loss\n",
    "    \n",
    "\n",
    "    def configure_optimizers(self):\n",
    "        # Define your optimizer and optionally learning rate scheduler here\n",
    "        optimizer = optim.Adam(self.parameters(), lr=0.001)\n",
    "        scheduler = lr_scheduler.StepLR(optimizer, step_size=1, gamma=0.99)\n",
    "        return [optimizer], [scheduler]\n",
    "        "
   ]
  },
  {
   "cell_type": "code",
   "execution_count": 11,
   "id": "79d11190-4e68-41f8-ae19-36d8199c1643",
   "metadata": {},
   "outputs": [],
   "source": [
    "def load_audio(path, start_point, filename):\n",
    "    audio_tensors = []\n",
    "    waveform, _ = torchaudio.load(f\"{path}/{filename}\")\n",
    "    return waveform\n",
    "\n",
    "def load_roll(path, start_point, frames, threshold=1.0):\n",
    "    midi = path + '/mixture.wav.mid'\n",
    "    transcription = pretty_midi.PrettyMIDI(midi)\n",
    "    # print(threshold)\n",
    "    roll = turn_transcription_into_roll(transcription, frames, threshold)\n",
    "\n",
    "    return torch.from_numpy(roll).float()\n"
   ]
  },
  {
   "cell_type": "markdown",
   "id": "28a00457-307d-4743-9784-9f4cdae73730",
   "metadata": {},
   "source": [
    "# SISNR"
   ]
  },
  {
   "cell_type": "code",
   "execution_count": 12,
   "id": "3873fcee-a3cb-4975-98f5-fc50e77883fa",
   "metadata": {},
   "outputs": [],
   "source": [
    "def separate_sources(\n",
    "    model,\n",
    "    mix,\n",
    "    drumroll,\n",
    "    segment=4.0,\n",
    "    overlap=0,\n",
    "    device=None,\n",
    "):\n",
    "    \"\"\"\n",
    "    Apply model to a given mixture. Use fade, and add segments together in order to add model segment by segment.\n",
    "\n",
    "    Args:\n",
    "        segment (int): segment length in seconds\n",
    "        device (torch.device, str, or None): if provided, device on which to\n",
    "            execute the computation, otherwise `mix.device` is assumed.\n",
    "            When `device` is different from `mix.device`, only local computations will\n",
    "            be on `device`, while the entire tracks will be stored on `mix.device`.\n",
    "    \"\"\"\n",
    "    if device is None:\n",
    "        device = mix.device\n",
    "    else:\n",
    "        device = torch.device(device)\n",
    "\n",
    "    batch, channels, length = mix.shape\n",
    "\n",
    "    chunk_len = int(sample_rate * segment * (1 + overlap))\n",
    "    start = 0\n",
    "    end = chunk_len\n",
    "    overlap_frames = overlap * sample_rate\n",
    "    fade = Fade(fade_in_len=0, fade_out_len=int(overlap_frames), fade_shape=\"linear\")\n",
    "\n",
    "    final = torch.zeros(batch, channels, length, device=device)\n",
    "\n",
    "    while start < length - overlap_frames:\n",
    "        chunk = mix[:, :, start:end]\n",
    "        roll = drumroll[:, :, start:end]\n",
    "        \n",
    "        with torch.no_grad():\n",
    "            out = model.forward(chunk, roll)\n",
    "        # print(out.shape)\n",
    "        out = fade(out)\n",
    "        # print(out.shape)\n",
    "        try:\n",
    "            final[:, :, start:end] += out\n",
    "        except:\n",
    "            pass\n",
    "        if start == 0:\n",
    "            fade.fade_in_len = int(overlap_frames)\n",
    "            start += int(chunk_len - overlap_frames)\n",
    "        else:\n",
    "            start += chunk_len\n",
    "        end += chunk_len\n",
    "        if end >= length:\n",
    "            fade.fade_out_len = 0\n",
    "    return final"
   ]
  },
  {
   "cell_type": "code",
   "execution_count": 13,
   "id": "b97a63a5-d58e-47db-9768-e063efd5da5a",
   "metadata": {},
   "outputs": [],
   "source": [
    "class AudioData:\n",
    "    def __init__(self, audio):\n",
    "        self.audio = audio"
   ]
  },
  {
   "cell_type": "code",
   "execution_count": 14,
   "id": "0bc5296c-89cf-4321-98dd-5ed9ca7d325a",
   "metadata": {},
   "outputs": [],
   "source": [
    "duration = 64 * 44100"
   ]
  },
  {
   "cell_type": "code",
   "execution_count": null,
   "id": "bcf06e62-3267-4faf-838f-70f14be50e92",
   "metadata": {},
   "outputs": [
    {
     "name": "stderr",
     "output_type": "stream",
     "text": [
      "  2%|███▋                                                                                                                                                                                       | 1/50 [00:14<12:11, 14.93s/it]"
     ]
    },
    {
     "name": "stdout",
     "output_type": "stream",
     "text": [
      "drums           ==> SDR:   8.130  SIR: 207.715  ISR:  11.004  SAR:   7.151  \n",
      "bass            ==> SDR:   8.130  SIR: 207.715  ISR:  11.004  SAR:   7.151  \n",
      "\n"
     ]
    },
    {
     "name": "stderr",
     "output_type": "stream",
     "text": [
      "  4%|███████▍                                                                                                                                                                                   | 2/50 [00:25<09:54, 12.38s/it]"
     ]
    },
    {
     "name": "stdout",
     "output_type": "stream",
     "text": [
      "drums           ==> SDR:   2.973  SIR: 182.106  ISR:   6.198  SAR:   0.201  \n",
      "bass            ==> SDR:   2.973  SIR: 182.106  ISR:   6.198  SAR:   0.201  \n",
      "\n"
     ]
    },
    {
     "name": "stderr",
     "output_type": "stream",
     "text": [
      "  6%|███████████▏                                                                                                                                                                               | 3/50 [00:35<08:52, 11.34s/it]"
     ]
    },
    {
     "name": "stdout",
     "output_type": "stream",
     "text": [
      "drums           ==> SDR:   4.327  SIR: 228.129  ISR:   7.930  SAR:   3.467  \n",
      "bass            ==> SDR:   4.327  SIR: 228.129  ISR:   7.930  SAR:   3.467  \n",
      "\n"
     ]
    },
    {
     "name": "stderr",
     "output_type": "stream",
     "text": [
      "  8%|██████████████▉                                                                                                                                                                            | 4/50 [00:45<08:21, 10.91s/it]"
     ]
    },
    {
     "name": "stdout",
     "output_type": "stream",
     "text": [
      "drums           ==> SDR:   1.279  SIR: 217.539  ISR:   9.483  SAR:  -0.679  \n",
      "bass            ==> SDR:   1.279  SIR: 217.539  ISR:   9.483  SAR:  -0.679  \n",
      "\n"
     ]
    },
    {
     "name": "stderr",
     "output_type": "stream",
     "text": [
      " 10%|██████████████████▋                                                                                                                                                                        | 5/50 [00:57<08:17, 11.06s/it]"
     ]
    },
    {
     "name": "stdout",
     "output_type": "stream",
     "text": [
      "drums           ==> SDR:   9.181  SIR: 199.432  ISR:  15.175  SAR:   9.279  \n",
      "bass            ==> SDR:   9.181  SIR: 199.432  ISR:  15.175  SAR:   9.279  \n",
      "\n"
     ]
    },
    {
     "name": "stderr",
     "output_type": "stream",
     "text": [
      " 12%|██████████████████████▍                                                                                                                                                                    | 6/50 [01:07<08:01, 10.94s/it]"
     ]
    },
    {
     "name": "stdout",
     "output_type": "stream",
     "text": [
      "drums           ==> SDR:   5.792  SIR: 243.779  ISR:   9.533  SAR:   4.737  \n",
      "bass            ==> SDR:   5.792  SIR: 243.779  ISR:   9.533  SAR:   4.737  \n",
      "\n"
     ]
    },
    {
     "name": "stderr",
     "output_type": "stream",
     "text": [
      " 14%|██████████████████████████▏                                                                                                                                                                | 7/50 [01:17<07:36, 10.61s/it]"
     ]
    },
    {
     "name": "stdout",
     "output_type": "stream",
     "text": [
      "drums           ==> SDR:   4.843  SIR: 223.881  ISR:   8.504  SAR:   3.576  \n",
      "bass            ==> SDR:   4.843  SIR: 223.881  ISR:   8.504  SAR:   3.576  \n",
      "\n"
     ]
    },
    {
     "name": "stderr",
     "output_type": "stream",
     "text": [
      " 16%|█████████████████████████████▉                                                                                                                                                             | 8/50 [01:30<07:51, 11.23s/it]"
     ]
    },
    {
     "name": "stdout",
     "output_type": "stream",
     "text": [
      "drums           ==> SDR:   3.686  SIR: 240.691  ISR:   7.815  SAR:   1.960  \n",
      "bass            ==> SDR:   3.686  SIR: 240.691  ISR:   7.815  SAR:   1.960  \n",
      "\n"
     ]
    },
    {
     "name": "stderr",
     "output_type": "stream",
     "text": [
      " 18%|█████████████████████████████████▋                                                                                                                                                         | 9/50 [01:40<07:28, 10.95s/it]"
     ]
    },
    {
     "name": "stdout",
     "output_type": "stream",
     "text": [
      "drums           ==> SDR:   6.299  SIR: 166.576  ISR:   9.700  SAR:   6.104  \n",
      "bass            ==> SDR:   6.299  SIR: 166.576  ISR:   9.700  SAR:   6.104  \n",
      "\n"
     ]
    },
    {
     "name": "stderr",
     "output_type": "stream",
     "text": [
      " 20%|█████████████████████████████████████▏                                                                                                                                                    | 10/50 [01:52<07:33, 11.33s/it]"
     ]
    },
    {
     "name": "stdout",
     "output_type": "stream",
     "text": [
      "drums           ==> SDR:  -2.159  SIR: 186.074  ISR:   6.779  SAR:  -4.910  \n",
      "bass            ==> SDR:  -2.159  SIR: 186.074  ISR:   6.779  SAR:  -4.910  \n",
      "\n"
     ]
    },
    {
     "name": "stderr",
     "output_type": "stream",
     "text": [
      " 22%|████████████████████████████████████████▉                                                                                                                                                 | 11/50 [02:03<07:12, 11.09s/it]"
     ]
    },
    {
     "name": "stdout",
     "output_type": "stream",
     "text": [
      "drums           ==> SDR:   8.890  SIR: 212.357  ISR:  13.731  SAR:   8.864  \n",
      "bass            ==> SDR:   8.890  SIR: 212.357  ISR:  13.731  SAR:   8.864  \n",
      "\n"
     ]
    },
    {
     "name": "stderr",
     "output_type": "stream",
     "text": [
      " 24%|████████████████████████████████████████████▋                                                                                                                                             | 12/50 [02:13<06:49, 10.79s/it]"
     ]
    },
    {
     "name": "stdout",
     "output_type": "stream",
     "text": [
      "drums           ==> SDR:   4.763  SIR: 226.407  ISR:   5.861  SAR:   5.184  \n",
      "bass            ==> SDR:   4.763  SIR: 226.407  ISR:   5.861  SAR:   5.184  \n",
      "\n"
     ]
    },
    {
     "name": "stderr",
     "output_type": "stream",
     "text": [
      " 26%|████████████████████████████████████████████████▎                                                                                                                                         | 13/50 [02:22<06:21, 10.31s/it]"
     ]
    },
    {
     "name": "stdout",
     "output_type": "stream",
     "text": [
      "drums           ==> SDR:   2.367  SIR:  89.314  ISR:   3.754  SAR:  -0.147  \n",
      "bass            ==> SDR:   2.367  SIR:  89.314  ISR:   3.754  SAR:  -0.147  \n",
      "\n"
     ]
    },
    {
     "name": "stderr",
     "output_type": "stream",
     "text": [
      " 28%|████████████████████████████████████████████████████                                                                                                                                      | 14/50 [02:32<06:07, 10.22s/it]"
     ]
    },
    {
     "name": "stdout",
     "output_type": "stream",
     "text": [
      "drums           ==> SDR:   7.609  SIR: 212.558  ISR:  12.525  SAR:   7.536  \n",
      "bass            ==> SDR:   7.609  SIR: 212.558  ISR:  12.525  SAR:   7.536  \n",
      "\n"
     ]
    },
    {
     "name": "stderr",
     "output_type": "stream",
     "text": [
      " 30%|███████████████████████████████████████████████████████▊                                                                                                                                  | 15/50 [02:43<06:05, 10.45s/it]"
     ]
    },
    {
     "name": "stdout",
     "output_type": "stream",
     "text": [
      "drums           ==> SDR:   5.511  SIR: 204.488  ISR:   8.408  SAR:   4.424  \n",
      "bass            ==> SDR:   5.511  SIR: 204.488  ISR:   8.408  SAR:   4.424  \n",
      "\n"
     ]
    },
    {
     "name": "stderr",
     "output_type": "stream",
     "text": [
      " 32%|███████████████████████████████████████████████████████████▌                                                                                                                              | 16/50 [02:55<06:08, 10.84s/it]"
     ]
    },
    {
     "name": "stdout",
     "output_type": "stream",
     "text": [
      "drums           ==> SDR:   4.334  SIR: 214.205  ISR:   7.382  SAR:   2.339  \n",
      "bass            ==> SDR:   4.334  SIR: 214.205  ISR:   7.382  SAR:   2.339  \n",
      "\n"
     ]
    },
    {
     "name": "stderr",
     "output_type": "stream",
     "text": [
      " 34%|███████████████████████████████████████████████████████████████▏                                                                                                                          | 17/50 [03:05<05:49, 10.60s/it]"
     ]
    },
    {
     "name": "stdout",
     "output_type": "stream",
     "text": [
      "drums           ==> SDR:   1.471  SIR: 221.985  ISR:   3.212  SAR:  -2.415  \n",
      "bass            ==> SDR:   1.471  SIR: 221.985  ISR:   3.212  SAR:  -2.415  \n",
      "\n"
     ]
    },
    {
     "name": "stderr",
     "output_type": "stream",
     "text": [
      " 36%|██████████████████████████████████████████████████████████████████▉                                                                                                                       | 18/50 [03:16<05:40, 10.63s/it]"
     ]
    },
    {
     "name": "stdout",
     "output_type": "stream",
     "text": [
      "drums           ==> SDR:   8.035  SIR: 210.555  ISR:  12.094  SAR:   8.590  \n",
      "bass            ==> SDR:   8.035  SIR: 210.555  ISR:  12.094  SAR:   8.590  \n",
      "\n"
     ]
    },
    {
     "name": "stderr",
     "output_type": "stream",
     "text": [
      " 38%|██████████████████████████████████████████████████████████████████████▋                                                                                                                   | 19/50 [03:26<05:23, 10.44s/it]"
     ]
    },
    {
     "name": "stdout",
     "output_type": "stream",
     "text": [
      "drums           ==> SDR:  10.748  SIR: 222.557  ISR:  18.209  SAR:  11.188  \n",
      "bass            ==> SDR:  10.748  SIR: 222.557  ISR:  18.209  SAR:  11.188  \n",
      "\n"
     ]
    },
    {
     "name": "stderr",
     "output_type": "stream",
     "text": [
      " 40%|██████████████████████████████████████████████████████████████████████████▍                                                                                                               | 20/50 [03:37<05:20, 10.69s/it]"
     ]
    },
    {
     "name": "stdout",
     "output_type": "stream",
     "text": [
      "drums           ==> SDR:   9.151  SIR: 220.199  ISR:  12.642  SAR:   9.568  \n",
      "bass            ==> SDR:   9.151  SIR: 220.199  ISR:  12.642  SAR:   9.568  \n",
      "\n"
     ]
    },
    {
     "name": "stderr",
     "output_type": "stream",
     "text": [
      " 42%|██████████████████████████████████████████████████████████████████████████████                                                                                                            | 21/50 [03:48<05:09, 10.66s/it]"
     ]
    },
    {
     "name": "stdout",
     "output_type": "stream",
     "text": [
      "drums           ==> SDR:   7.442  SIR: 180.652  ISR:  10.324  SAR:   7.932  \n",
      "bass            ==> SDR:   7.442  SIR: 180.652  ISR:  10.324  SAR:   7.932  \n",
      "\n"
     ]
    },
    {
     "name": "stderr",
     "output_type": "stream",
     "text": [
      " 44%|█████████████████████████████████████████████████████████████████████████████████▊                                                                                                        | 22/50 [04:00<05:11, 11.13s/it]"
     ]
    },
    {
     "name": "stdout",
     "output_type": "stream",
     "text": [
      "drums           ==> SDR:  -2.253  SIR: 269.757  ISR:   0.368  SAR: -16.164  \n",
      "bass            ==> SDR:  -2.253  SIR: 269.757  ISR:   0.368  SAR: -16.164  \n",
      "\n"
     ]
    },
    {
     "name": "stderr",
     "output_type": "stream",
     "text": [
      " 46%|█████████████████████████████████████████████████████████████████████████████████████▌                                                                                                    | 23/50 [04:10<04:53, 10.88s/it]"
     ]
    },
    {
     "name": "stdout",
     "output_type": "stream",
     "text": [
      "drums           ==> SDR:   3.664  SIR: 170.742  ISR:   6.276  SAR:   1.984  \n",
      "bass            ==> SDR:   3.664  SIR: 170.742  ISR:   6.276  SAR:   1.984  \n",
      "\n"
     ]
    },
    {
     "name": "stderr",
     "output_type": "stream",
     "text": [
      " 48%|█████████████████████████████████████████████████████████████████████████████████████████▎                                                                                                | 24/50 [04:21<04:39, 10.76s/it]"
     ]
    },
    {
     "name": "stdout",
     "output_type": "stream",
     "text": [
      "drums           ==> SDR:   5.199  SIR: 138.543  ISR:   9.638  SAR:   5.735  \n",
      "bass            ==> SDR:   5.199  SIR: 138.543  ISR:   9.638  SAR:   5.735  \n",
      "\n"
     ]
    },
    {
     "name": "stderr",
     "output_type": "stream",
     "text": [
      " 50%|█████████████████████████████████████████████████████████████████████████████████████████████                                                                                             | 25/50 [04:32<04:32, 10.89s/it]"
     ]
    },
    {
     "name": "stdout",
     "output_type": "stream",
     "text": [
      "drums           ==> SDR:   3.577  SIR: 230.281  ISR:   5.860  SAR:   1.654  \n",
      "bass            ==> SDR:   3.577  SIR: 230.281  ISR:   5.860  SAR:   1.654  \n",
      "\n"
     ]
    },
    {
     "name": "stderr",
     "output_type": "stream",
     "text": [
      " 52%|████████████████████████████████████████████████████████████████████████████████████████████████▋                                                                                         | 26/50 [04:42<04:15, 10.63s/it]"
     ]
    },
    {
     "name": "stdout",
     "output_type": "stream",
     "text": [
      "drums           ==> SDR:  10.279  SIR: 179.132  ISR:  17.447  SAR:  10.416  \n",
      "bass            ==> SDR:  10.279  SIR: 179.132  ISR:  17.447  SAR:  10.416  \n",
      "\n"
     ]
    },
    {
     "name": "stderr",
     "output_type": "stream",
     "text": [
      " 54%|████████████████████████████████████████████████████████████████████████████████████████████████████▍                                                                                     | 27/50 [04:52<04:00, 10.48s/it]"
     ]
    },
    {
     "name": "stdout",
     "output_type": "stream",
     "text": [
      "drums           ==> SDR:   7.402  SIR: 187.644  ISR:  14.591  SAR:   6.941  \n",
      "bass            ==> SDR:   7.402  SIR: 187.644  ISR:  14.591  SAR:   6.941  \n",
      "\n"
     ]
    },
    {
     "name": "stderr",
     "output_type": "stream",
     "text": [
      " 56%|████████████████████████████████████████████████████████████████████████████████████████████████████████▏                                                                                 | 28/50 [05:03<03:54, 10.65s/it]"
     ]
    },
    {
     "name": "stdout",
     "output_type": "stream",
     "text": [
      "drums           ==> SDR:   9.288  SIR: 194.164  ISR:  12.562  SAR:   9.494  \n",
      "bass            ==> SDR:   9.288  SIR: 194.164  ISR:  12.562  SAR:   9.494  \n",
      "\n"
     ]
    },
    {
     "name": "stderr",
     "output_type": "stream",
     "text": [
      " 58%|███████████████████████████████████████████████████████████████████████████████████████████████████████████▉                                                                              | 29/50 [05:13<03:38, 10.43s/it]"
     ]
    },
    {
     "name": "stdout",
     "output_type": "stream",
     "text": [
      "drums           ==> SDR:   5.045  SIR: 190.798  ISR:   7.141  SAR:   6.209  \n",
      "bass            ==> SDR:   5.045  SIR: 190.798  ISR:   7.141  SAR:   6.209  \n",
      "\n"
     ]
    },
    {
     "name": "stderr",
     "output_type": "stream",
     "text": [
      " 60%|███████████████████████████████████████████████████████████████████████████████████████████████████████████████▌                                                                          | 30/50 [05:23<03:29, 10.47s/it]"
     ]
    },
    {
     "name": "stdout",
     "output_type": "stream",
     "text": [
      "drums           ==> SDR:   5.811  SIR: 215.416  ISR:   9.567  SAR:   5.328  \n",
      "bass            ==> SDR:   5.811  SIR: 215.416  ISR:   9.567  SAR:   5.328  \n",
      "\n"
     ]
    },
    {
     "name": "stderr",
     "output_type": "stream",
     "text": [
      " 62%|███████████████████████████████████████████████████████████████████████████████████████████████████████████████████▎                                                                      | 31/50 [05:34<03:21, 10.61s/it]"
     ]
    },
    {
     "name": "stdout",
     "output_type": "stream",
     "text": [
      "drums           ==> SDR:   3.501  SIR: 200.372  ISR:   8.984  SAR:   1.825  \n",
      "bass            ==> SDR:   3.501  SIR: 200.372  ISR:   8.984  SAR:   1.825  \n",
      "\n"
     ]
    },
    {
     "name": "stderr",
     "output_type": "stream",
     "text": [
      " 64%|███████████████████████████████████████████████████████████████████████████████████████████████████████████████████████                                                                   | 32/50 [05:45<03:09, 10.54s/it]"
     ]
    },
    {
     "name": "stdout",
     "output_type": "stream",
     "text": [
      "drums           ==> SDR:   0.753  SIR: 192.845  ISR:   4.610  SAR:  -0.012  \n",
      "bass            ==> SDR:   0.753  SIR: 192.845  ISR:   4.610  SAR:  -0.012  \n",
      "\n"
     ]
    },
    {
     "name": "stderr",
     "output_type": "stream",
     "text": [
      " 66%|██████████████████████████████████████████████████████████████████████████████████████████████████████████████████████████▊                                                               | 33/50 [06:00<03:23, 11.96s/it]"
     ]
    },
    {
     "name": "stdout",
     "output_type": "stream",
     "text": [
      "drums           ==> SDR:   2.272  SIR: 218.024  ISR:   5.824  SAR:  -0.101  \n",
      "bass            ==> SDR:   2.272  SIR: 218.024  ISR:   5.824  SAR:  -0.101  \n",
      "\n"
     ]
    },
    {
     "name": "stderr",
     "output_type": "stream",
     "text": [
      " 68%|██████████████████████████████████████████████████████████████████████████████████████████████████████████████████████████████▍                                                           | 34/50 [06:10<03:03, 11.47s/it]"
     ]
    },
    {
     "name": "stdout",
     "output_type": "stream",
     "text": [
      "drums           ==> SDR:   4.284  SIR: 246.299  ISR:   8.830  SAR:   3.296  \n",
      "bass            ==> SDR:   4.284  SIR: 246.299  ISR:   8.830  SAR:   3.296  \n",
      "\n"
     ]
    },
    {
     "name": "stderr",
     "output_type": "stream",
     "text": [
      " 70%|██████████████████████████████████████████████████████████████████████████████████████████████████████████████████████████████████▏                                                       | 35/50 [06:21<02:46, 11.08s/it]"
     ]
    },
    {
     "name": "stdout",
     "output_type": "stream",
     "text": [
      "drums           ==> SDR:   8.159  SIR: 214.730  ISR:  12.480  SAR:   9.079  \n",
      "bass            ==> SDR:   8.159  SIR: 214.730  ISR:  12.480  SAR:   9.079  \n",
      "\n"
     ]
    },
    {
     "name": "stderr",
     "output_type": "stream",
     "text": [
      " 72%|█████████████████████████████████████████████████████████████████████████████████████████████████████████████████████████████████████▉                                                    | 36/50 [06:31<02:31, 10.79s/it]"
     ]
    },
    {
     "name": "stdout",
     "output_type": "stream",
     "text": [
      "drums           ==> SDR:   2.458  SIR: 196.594  ISR:   5.819  SAR:  -0.274  \n",
      "bass            ==> SDR:   2.458  SIR: 196.594  ISR:   5.819  SAR:  -0.274  \n",
      "\n"
     ]
    },
    {
     "name": "stderr",
     "output_type": "stream",
     "text": [
      " 74%|█████████████████████████████████████████████████████████████████████████████████████████████████████████████████████████████████████████▋                                                | 37/50 [06:41<02:17, 10.61s/it]"
     ]
    },
    {
     "name": "stdout",
     "output_type": "stream",
     "text": [
      "drums           ==> SDR:   3.976  SIR: 197.944  ISR:  16.331  SAR:   3.006  \n",
      "bass            ==> SDR:   3.976  SIR: 197.944  ISR:  16.331  SAR:   3.006  \n",
      "\n"
     ]
    },
    {
     "name": "stderr",
     "output_type": "stream",
     "text": [
      " 76%|█████████████████████████████████████████████████████████████████████████████████████████████████████████████████████████████████████████████▎                                            | 38/50 [06:51<02:04, 10.38s/it]"
     ]
    },
    {
     "name": "stdout",
     "output_type": "stream",
     "text": [
      "drums           ==> SDR:   7.781  SIR: 222.180  ISR:   9.931  SAR:   5.907  \n",
      "bass            ==> SDR:   7.781  SIR: 222.180  ISR:   9.931  SAR:   5.907  \n",
      "\n"
     ]
    },
    {
     "name": "stderr",
     "output_type": "stream",
     "text": [
      " 78%|█████████████████████████████████████████████████████████████████████████████████████████████████████████████████████████████████████████████████                                         | 39/50 [07:01<01:53, 10.36s/it]"
     ]
    },
    {
     "name": "stdout",
     "output_type": "stream",
     "text": [
      "drums           ==> SDR:   4.166  SIR: 224.398  ISR:   5.876  SAR:   5.365  \n",
      "bass            ==> SDR:   4.166  SIR: 224.398  ISR:   5.876  SAR:   5.365  \n",
      "\n"
     ]
    },
    {
     "name": "stderr",
     "output_type": "stream",
     "text": [
      " 80%|████████████████████████████████████████████████████████████████████████████████████████████████████████████████████████████████████████████████████▊                                     | 40/50 [07:11<01:43, 10.32s/it]"
     ]
    },
    {
     "name": "stdout",
     "output_type": "stream",
     "text": [
      "drums           ==> SDR:   3.012  SIR: 174.699  ISR:   4.709  SAR:   2.746  \n",
      "bass            ==> SDR:   3.012  SIR: 174.699  ISR:   4.709  SAR:   2.746  \n",
      "\n"
     ]
    },
    {
     "name": "stderr",
     "output_type": "stream",
     "text": [
      " 82%|████████████████████████████████████████████████████████████████████████████████████████████████████████████████████████████████████████████████████████▌                                 | 41/50 [07:22<01:32, 10.31s/it]"
     ]
    },
    {
     "name": "stdout",
     "output_type": "stream",
     "text": [
      "drums           ==> SDR:   5.760  SIR: 180.397  ISR:  12.816  SAR:   5.452  \n",
      "bass            ==> SDR:   5.760  SIR: 180.397  ISR:  12.816  SAR:   5.452  \n",
      "\n"
     ]
    },
    {
     "name": "stderr",
     "output_type": "stream",
     "text": [
      " 84%|████████████████████████████████████████████████████████████████████████████████████████████████████████████████████████████████████████████████████████████▏                             | 42/50 [07:31<01:21, 10.17s/it]"
     ]
    },
    {
     "name": "stdout",
     "output_type": "stream",
     "text": [
      "drums           ==> SDR:   7.177  SIR: 121.348  ISR:  12.760  SAR:   6.440  \n",
      "bass            ==> SDR:   7.177  SIR: 121.348  ISR:  12.760  SAR:   6.440  \n",
      "\n"
     ]
    },
    {
     "name": "stderr",
     "output_type": "stream",
     "text": [
      " 86%|███████████████████████████████████████████████████████████████████████████████████████████████████████████████████████████████████████████████████████████████▉                          | 43/50 [07:41<01:10, 10.09s/it]"
     ]
    },
    {
     "name": "stdout",
     "output_type": "stream",
     "text": [
      "drums           ==> SDR:   4.238  SIR: 177.656  ISR:   7.673  SAR:   2.281  \n",
      "bass            ==> SDR:   4.238  SIR: 177.656  ISR:   7.673  SAR:   2.281  \n",
      "\n"
     ]
    },
    {
     "name": "stderr",
     "output_type": "stream",
     "text": [
      " 88%|███████████████████████████████████████████████████████████████████████████████████████████████████████████████████████████████████████████████████████████████████▋                      | 44/50 [07:51<00:59, 10.00s/it]"
     ]
    },
    {
     "name": "stdout",
     "output_type": "stream",
     "text": [
      "drums           ==> SDR:   6.165  SIR: 214.810  ISR:  10.827  SAR:   5.962  \n",
      "bass            ==> SDR:   6.165  SIR: 214.810  ISR:  10.827  SAR:   5.962  \n",
      "\n"
     ]
    },
    {
     "name": "stderr",
     "output_type": "stream",
     "text": [
      " 90%|███████████████████████████████████████████████████████████████████████████████████████████████████████████████████████████████████████████████████████████████████████▍                  | 45/50 [08:02<00:50, 10.19s/it]"
     ]
    },
    {
     "name": "stdout",
     "output_type": "stream",
     "text": [
      "drums           ==> SDR:   0.434  SIR: 209.031  ISR:   0.919  SAR:  -0.728  \n",
      "bass            ==> SDR:   0.434  SIR: 209.031  ISR:   0.919  SAR:  -0.728  \n",
      "\n"
     ]
    },
    {
     "name": "stderr",
     "output_type": "stream",
     "text": [
      " 92%|███████████████████████████████████████████████████████████████████████████████████████████████████████████████████████████████████████████████████████████████████████████               | 46/50 [08:12<00:40, 10.16s/it]"
     ]
    },
    {
     "name": "stdout",
     "output_type": "stream",
     "text": [
      "drums           ==> SDR:   2.012  SIR: 209.193  ISR:   3.767  SAR:   0.011  \n",
      "bass            ==> SDR:   2.012  SIR: 209.193  ISR:   3.767  SAR:   0.011  \n",
      "\n"
     ]
    },
    {
     "name": "stderr",
     "output_type": "stream",
     "text": [
      " 94%|██████████████████████████████████████████████████████████████████████████████████████████████████████████████████████████████████████████████████████████████████████████████▊           | 47/50 [08:24<00:31, 10.63s/it]"
     ]
    },
    {
     "name": "stdout",
     "output_type": "stream",
     "text": [
      "drums           ==> SDR:   5.558  SIR: 164.521  ISR:   7.590  SAR:   4.696  \n",
      "bass            ==> SDR:   5.558  SIR: 164.521  ISR:   7.590  SAR:   4.696  \n",
      "\n"
     ]
    },
    {
     "name": "stderr",
     "output_type": "stream",
     "text": [
      " 96%|██████████████████████████████████████████████████████████████████████████████████████████████████████████████████████████████████████████████████████████████████████████████████▌       | 48/50 [08:34<00:20, 10.48s/it]"
     ]
    },
    {
     "name": "stdout",
     "output_type": "stream",
     "text": [
      "drums           ==> SDR:   3.191  SIR: 217.723  ISR:   6.708  SAR:   1.303  \n",
      "bass            ==> SDR:   3.191  SIR: 217.723  ISR:   6.708  SAR:   1.303  \n",
      "\n"
     ]
    },
    {
     "name": "stderr",
     "output_type": "stream",
     "text": [
      " 98%|██████████████████████████████████████████████████████████████████████████████████████████████████████████████████████████████████████████████████████████████████████████████████████▎   | 49/50 [08:44<00:10, 10.48s/it]"
     ]
    },
    {
     "name": "stdout",
     "output_type": "stream",
     "text": [
      "drums           ==> SDR:   9.181  SIR: 220.476  ISR:  16.710  SAR:   9.212  \n",
      "bass            ==> SDR:   9.181  SIR: 220.476  ISR:  16.710  SAR:   9.212  \n",
      "\n"
     ]
    },
    {
     "name": "stderr",
     "output_type": "stream",
     "text": [
      "100%|██████████████████████████████████████████████████████████████████████████████████████████████████████████████████████████████████████████████████████████████████████████████████████████| 50/50 [08:55<00:00, 10.71s/it]"
     ]
    },
    {
     "name": "stdout",
     "output_type": "stream",
     "text": [
      "drums           ==> SDR:   5.838  SIR: 208.021  ISR:   8.843  SAR:   5.048  \n",
      "bass            ==> SDR:   5.838  SIR: 208.021  ISR:   8.843  SAR:   5.048  \n",
      "\n"
     ]
    },
    {
     "name": "stderr",
     "output_type": "stream",
     "text": [
      "\n",
      "  2%|███▋                                                                                                                                                                                       | 1/50 [00:10<08:27, 10.35s/it]"
     ]
    },
    {
     "name": "stdout",
     "output_type": "stream",
     "text": [
      "drums           ==> SDR:   8.232  SIR: 206.659  ISR:  10.995  SAR:   7.339  \n",
      "bass            ==> SDR:   8.232  SIR: 206.659  ISR:  10.995  SAR:   7.339  \n",
      "\n"
     ]
    },
    {
     "name": "stderr",
     "output_type": "stream",
     "text": [
      "  4%|███████▍                                                                                                                                                                                   | 2/50 [00:20<08:00, 10.01s/it]"
     ]
    },
    {
     "name": "stdout",
     "output_type": "stream",
     "text": [
      "drums           ==> SDR:   2.383  SIR: 179.603  ISR:   5.144  SAR:  -0.377  \n",
      "bass            ==> SDR:   2.383  SIR: 179.603  ISR:   5.144  SAR:  -0.377  \n",
      "\n"
     ]
    },
    {
     "name": "stderr",
     "output_type": "stream",
     "text": [
      "  6%|███████████▏                                                                                                                                                                               | 3/50 [00:29<07:46,  9.93s/it]"
     ]
    },
    {
     "name": "stdout",
     "output_type": "stream",
     "text": [
      "drums           ==> SDR:   3.939  SIR: 229.800  ISR:   7.328  SAR:   3.251  \n",
      "bass            ==> SDR:   3.939  SIR: 229.800  ISR:   7.328  SAR:   3.251  \n",
      "\n"
     ]
    },
    {
     "name": "stderr",
     "output_type": "stream",
     "text": [
      "  8%|██████████████▉                                                                                                                                                                            | 4/50 [00:39<07:34,  9.89s/it]"
     ]
    },
    {
     "name": "stdout",
     "output_type": "stream",
     "text": [
      "drums           ==> SDR:   1.558  SIR: 226.341  ISR:   9.210  SAR:  -0.813  \n",
      "bass            ==> SDR:   1.558  SIR: 226.341  ISR:   9.210  SAR:  -0.813  \n",
      "\n"
     ]
    },
    {
     "name": "stderr",
     "output_type": "stream",
     "text": [
      " 10%|██████████████████▋                                                                                                                                                                        | 5/50 [00:50<07:35, 10.13s/it]"
     ]
    },
    {
     "name": "stdout",
     "output_type": "stream",
     "text": [
      "drums           ==> SDR:   8.961  SIR: 202.928  ISR:  14.202  SAR:   8.937  \n",
      "bass            ==> SDR:   8.961  SIR: 202.928  ISR:  14.202  SAR:   8.937  \n",
      "\n"
     ]
    },
    {
     "name": "stderr",
     "output_type": "stream",
     "text": [
      " 12%|██████████████████████▍                                                                                                                                                                    | 6/50 [01:00<07:28, 10.19s/it]"
     ]
    },
    {
     "name": "stdout",
     "output_type": "stream",
     "text": [
      "drums           ==> SDR:   5.328  SIR: 233.710  ISR:   8.749  SAR:   4.353  \n",
      "bass            ==> SDR:   5.328  SIR: 233.710  ISR:   8.749  SAR:   4.353  \n",
      "\n"
     ]
    },
    {
     "name": "stderr",
     "output_type": "stream",
     "text": [
      " 14%|██████████████████████████▏                                                                                                                                                                | 7/50 [01:10<07:12, 10.05s/it]"
     ]
    },
    {
     "name": "stdout",
     "output_type": "stream",
     "text": [
      "drums           ==> SDR:   4.437  SIR: 227.029  ISR:   7.107  SAR:   3.062  \n",
      "bass            ==> SDR:   4.437  SIR: 227.029  ISR:   7.107  SAR:   3.062  \n",
      "\n"
     ]
    },
    {
     "name": "stderr",
     "output_type": "stream",
     "text": [
      " 16%|█████████████████████████████▉                                                                                                                                                             | 8/50 [01:20<07:00, 10.00s/it]"
     ]
    },
    {
     "name": "stdout",
     "output_type": "stream",
     "text": [
      "drums           ==> SDR:   3.252  SIR: 243.065  ISR:   6.761  SAR:   1.062  \n",
      "bass            ==> SDR:   3.252  SIR: 243.065  ISR:   6.761  SAR:   1.062  \n",
      "\n"
     ]
    },
    {
     "name": "stderr",
     "output_type": "stream",
     "text": [
      " 18%|█████████████████████████████████▋                                                                                                                                                         | 9/50 [01:30<06:47,  9.95s/it]"
     ]
    },
    {
     "name": "stdout",
     "output_type": "stream",
     "text": [
      "drums           ==> SDR:   6.083  SIR: 165.204  ISR:   9.297  SAR:   5.777  \n",
      "bass            ==> SDR:   6.083  SIR: 165.204  ISR:   9.297  SAR:   5.777  \n",
      "\n"
     ]
    },
    {
     "name": "stderr",
     "output_type": "stream",
     "text": [
      " 20%|█████████████████████████████████████▏                                                                                                                                                    | 10/50 [01:39<06:34,  9.86s/it]"
     ]
    },
    {
     "name": "stdout",
     "output_type": "stream",
     "text": [
      "drums           ==> SDR:  -2.159  SIR: 180.160  ISR:   6.584  SAR:  -4.992  \n",
      "bass            ==> SDR:  -2.159  SIR: 180.160  ISR:   6.584  SAR:  -4.992  \n",
      "\n"
     ]
    },
    {
     "name": "stderr",
     "output_type": "stream",
     "text": [
      " 22%|████████████████████████████████████████▉                                                                                                                                                 | 11/50 [01:49<06:21,  9.78s/it]"
     ]
    },
    {
     "name": "stdout",
     "output_type": "stream",
     "text": [
      "drums           ==> SDR:   8.958  SIR: 216.082  ISR:  13.366  SAR:   9.046  \n",
      "bass            ==> SDR:   8.958  SIR: 216.082  ISR:  13.366  SAR:   9.046  \n",
      "\n"
     ]
    },
    {
     "name": "stderr",
     "output_type": "stream",
     "text": [
      " 24%|████████████████████████████████████████████▋                                                                                                                                             | 12/50 [01:59<06:18,  9.96s/it]"
     ]
    },
    {
     "name": "stdout",
     "output_type": "stream",
     "text": [
      "drums           ==> SDR:   4.568  SIR: 221.722  ISR:   5.661  SAR:   5.003  \n",
      "bass            ==> SDR:   4.568  SIR: 221.722  ISR:   5.661  SAR:   5.003  \n",
      "\n"
     ]
    },
    {
     "name": "stderr",
     "output_type": "stream",
     "text": [
      " 26%|████████████████████████████████████████████████▎                                                                                                                                         | 13/50 [02:08<05:57,  9.67s/it]"
     ]
    },
    {
     "name": "stdout",
     "output_type": "stream",
     "text": [
      "drums           ==> SDR:   1.408  SIR:  83.597  ISR:   2.632  SAR:  -0.898  \n",
      "bass            ==> SDR:   1.408  SIR:  83.597  ISR:   2.632  SAR:  -0.898  \n",
      "\n"
     ]
    },
    {
     "name": "stderr",
     "output_type": "stream",
     "text": [
      " 28%|████████████████████████████████████████████████████                                                                                                                                      | 14/50 [02:20<06:12, 10.34s/it]"
     ]
    },
    {
     "name": "stdout",
     "output_type": "stream",
     "text": [
      "drums           ==> SDR:   7.109  SIR: 211.815  ISR:  11.609  SAR:   7.305  \n",
      "bass            ==> SDR:   7.109  SIR: 211.815  ISR:  11.609  SAR:   7.305  \n",
      "\n"
     ]
    },
    {
     "name": "stderr",
     "output_type": "stream",
     "text": [
      " 30%|███████████████████████████████████████████████████████▊                                                                                                                                  | 15/50 [02:32<06:18, 10.81s/it]"
     ]
    },
    {
     "name": "stdout",
     "output_type": "stream",
     "text": [
      "drums           ==> SDR:   4.926  SIR: 208.161  ISR:   7.462  SAR:   3.432  \n",
      "bass            ==> SDR:   4.926  SIR: 208.161  ISR:   7.462  SAR:   3.432  \n",
      "\n"
     ]
    },
    {
     "name": "stderr",
     "output_type": "stream",
     "text": [
      " 32%|███████████████████████████████████████████████████████████▌                                                                                                                              | 16/50 [02:43<06:07, 10.80s/it]"
     ]
    },
    {
     "name": "stdout",
     "output_type": "stream",
     "text": [
      "drums           ==> SDR:   4.148  SIR: 218.431  ISR:   7.455  SAR:   2.392  \n",
      "bass            ==> SDR:   4.148  SIR: 218.431  ISR:   7.455  SAR:   2.392  \n",
      "\n"
     ]
    },
    {
     "name": "stderr",
     "output_type": "stream",
     "text": [
      " 34%|███████████████████████████████████████████████████████████████▏                                                                                                                          | 17/50 [02:53<05:52, 10.67s/it]"
     ]
    },
    {
     "name": "stdout",
     "output_type": "stream",
     "text": [
      "drums           ==> SDR:   1.272  SIR: 216.297  ISR:   2.787  SAR:  -3.647  \n",
      "bass            ==> SDR:   1.272  SIR: 216.297  ISR:   2.787  SAR:  -3.647  \n",
      "\n"
     ]
    },
    {
     "name": "stderr",
     "output_type": "stream",
     "text": [
      " 36%|██████████████████████████████████████████████████████████████████▉                                                                                                                       | 18/50 [03:04<05:42, 10.70s/it]"
     ]
    },
    {
     "name": "stdout",
     "output_type": "stream",
     "text": [
      "drums           ==> SDR:   7.531  SIR: 194.697  ISR:  10.995  SAR:   8.247  \n",
      "bass            ==> SDR:   7.531  SIR: 194.697  ISR:  10.995  SAR:   8.247  \n",
      "\n"
     ]
    },
    {
     "name": "stderr",
     "output_type": "stream",
     "text": [
      " 38%|██████████████████████████████████████████████████████████████████████▋                                                                                                                   | 19/50 [03:14<05:25, 10.50s/it]"
     ]
    },
    {
     "name": "stdout",
     "output_type": "stream",
     "text": [
      "drums           ==> SDR:  10.670  SIR: 213.923  ISR:  16.548  SAR:  11.566  \n",
      "bass            ==> SDR:  10.670  SIR: 213.923  ISR:  16.548  SAR:  11.566  \n",
      "\n"
     ]
    },
    {
     "name": "stderr",
     "output_type": "stream",
     "text": [
      " 40%|██████████████████████████████████████████████████████████████████████████▍                                                                                                               | 20/50 [03:25<05:21, 10.73s/it]"
     ]
    },
    {
     "name": "stdout",
     "output_type": "stream",
     "text": [
      "drums           ==> SDR:   8.622  SIR: 220.943  ISR:  11.646  SAR:   9.459  \n",
      "bass            ==> SDR:   8.622  SIR: 220.943  ISR:  11.646  SAR:   9.459  \n",
      "\n"
     ]
    },
    {
     "name": "stderr",
     "output_type": "stream",
     "text": [
      " 42%|██████████████████████████████████████████████████████████████████████████████                                                                                                            | 21/50 [03:35<05:06, 10.58s/it]"
     ]
    },
    {
     "name": "stdout",
     "output_type": "stream",
     "text": [
      "drums           ==> SDR:   6.893  SIR: 184.711  ISR:   9.140  SAR:   7.512  \n",
      "bass            ==> SDR:   6.893  SIR: 184.711  ISR:   9.140  SAR:   7.512  \n",
      "\n"
     ]
    },
    {
     "name": "stderr",
     "output_type": "stream",
     "text": [
      " 44%|█████████████████████████████████████████████████████████████████████████████████▊                                                                                                        | 22/50 [03:45<04:51, 10.40s/it]"
     ]
    },
    {
     "name": "stdout",
     "output_type": "stream",
     "text": [
      "drums           ==> SDR:  -2.253  SIR: 269.757  ISR:   0.368  SAR: -16.164  \n",
      "bass            ==> SDR:  -2.253  SIR: 269.757  ISR:   0.368  SAR: -16.164  \n",
      "\n"
     ]
    },
    {
     "name": "stderr",
     "output_type": "stream",
     "text": [
      " 46%|█████████████████████████████████████████████████████████████████████████████████████▌                                                                                                    | 23/50 [03:56<04:41, 10.41s/it]"
     ]
    },
    {
     "name": "stdout",
     "output_type": "stream",
     "text": [
      "drums           ==> SDR:   3.462  SIR: 174.418  ISR:   5.954  SAR:   1.646  \n",
      "bass            ==> SDR:   3.462  SIR: 174.418  ISR:   5.954  SAR:   1.646  \n",
      "\n"
     ]
    },
    {
     "name": "stderr",
     "output_type": "stream",
     "text": [
      " 48%|█████████████████████████████████████████████████████████████████████████████████████████▎                                                                                                | 24/50 [04:05<04:23, 10.14s/it]"
     ]
    },
    {
     "name": "stdout",
     "output_type": "stream",
     "text": [
      "drums           ==> SDR:   5.013  SIR: 138.799  ISR:   9.102  SAR:   5.364  \n",
      "bass            ==> SDR:   5.013  SIR: 138.799  ISR:   9.102  SAR:   5.364  \n",
      "\n"
     ]
    },
    {
     "name": "stderr",
     "output_type": "stream",
     "text": [
      " 50%|█████████████████████████████████████████████████████████████████████████████████████████████                                                                                             | 25/50 [04:16<04:19, 10.39s/it]"
     ]
    },
    {
     "name": "stdout",
     "output_type": "stream",
     "text": [
      "drums           ==> SDR:   2.504  SIR: 223.211  ISR:   4.182  SAR:   0.761  \n",
      "bass            ==> SDR:   2.504  SIR: 223.211  ISR:   4.182  SAR:   0.761  \n",
      "\n"
     ]
    },
    {
     "name": "stderr",
     "output_type": "stream",
     "text": [
      " 52%|████████████████████████████████████████████████████████████████████████████████████████████████▋                                                                                         | 26/50 [04:26<04:04, 10.19s/it]"
     ]
    },
    {
     "name": "stdout",
     "output_type": "stream",
     "text": [
      "drums           ==> SDR:   9.653  SIR: 175.042  ISR:  15.928  SAR:   9.652  \n",
      "bass            ==> SDR:   9.653  SIR: 175.042  ISR:  15.928  SAR:   9.652  \n",
      "\n"
     ]
    },
    {
     "name": "stderr",
     "output_type": "stream",
     "text": [
      " 54%|████████████████████████████████████████████████████████████████████████████████████████████████████▍                                                                                     | 27/50 [04:38<04:04, 10.61s/it]"
     ]
    },
    {
     "name": "stdout",
     "output_type": "stream",
     "text": [
      "drums           ==> SDR:   7.660  SIR: 183.529  ISR:  13.247  SAR:   7.034  \n",
      "bass            ==> SDR:   7.660  SIR: 183.529  ISR:  13.247  SAR:   7.034  \n",
      "\n"
     ]
    },
    {
     "name": "stderr",
     "output_type": "stream",
     "text": [
      " 56%|████████████████████████████████████████████████████████████████████████████████████████████████████████▏                                                                                 | 28/50 [04:48<03:49, 10.42s/it]"
     ]
    },
    {
     "name": "stdout",
     "output_type": "stream",
     "text": [
      "drums           ==> SDR:   9.155  SIR: 193.955  ISR:  12.670  SAR:   9.601  \n",
      "bass            ==> SDR:   9.155  SIR: 193.955  ISR:  12.670  SAR:   9.601  \n",
      "\n"
     ]
    },
    {
     "name": "stderr",
     "output_type": "stream",
     "text": [
      " 58%|███████████████████████████████████████████████████████████████████████████████████████████████████████████▉                                                                              | 29/50 [04:58<03:36, 10.32s/it]"
     ]
    },
    {
     "name": "stdout",
     "output_type": "stream",
     "text": [
      "drums           ==> SDR:   5.018  SIR: 190.867  ISR:   6.939  SAR:   6.141  \n",
      "bass            ==> SDR:   5.018  SIR: 190.867  ISR:   6.939  SAR:   6.141  \n",
      "\n"
     ]
    },
    {
     "name": "stderr",
     "output_type": "stream",
     "text": [
      " 60%|███████████████████████████████████████████████████████████████████████████████████████████████████████████████▌                                                                          | 30/50 [05:10<03:39, 10.96s/it]"
     ]
    },
    {
     "name": "stdout",
     "output_type": "stream",
     "text": [
      "drums           ==> SDR:   5.657  SIR: 211.630  ISR:   9.646  SAR:   5.587  \n",
      "bass            ==> SDR:   5.657  SIR: 211.630  ISR:   9.646  SAR:   5.587  \n",
      "\n"
     ]
    },
    {
     "name": "stderr",
     "output_type": "stream",
     "text": [
      " 62%|███████████████████████████████████████████████████████████████████████████████████████████████████████████████████▎                                                                      | 31/50 [05:22<03:30, 11.10s/it]"
     ]
    },
    {
     "name": "stdout",
     "output_type": "stream",
     "text": [
      "drums           ==> SDR:   2.880  SIR: 197.055  ISR:   8.240  SAR:   1.284  \n",
      "bass            ==> SDR:   2.880  SIR: 197.055  ISR:   8.240  SAR:   1.284  \n",
      "\n"
     ]
    },
    {
     "name": "stderr",
     "output_type": "stream",
     "text": [
      " 64%|███████████████████████████████████████████████████████████████████████████████████████████████████████████████████████                                                                   | 32/50 [05:32<03:15, 10.84s/it]"
     ]
    },
    {
     "name": "stdout",
     "output_type": "stream",
     "text": [
      "drums           ==> SDR:   0.951  SIR: 194.134  ISR:   4.082  SAR:  -0.023  \n",
      "bass            ==> SDR:   0.951  SIR: 194.134  ISR:   4.082  SAR:  -0.023  \n",
      "\n"
     ]
    },
    {
     "name": "stderr",
     "output_type": "stream",
     "text": [
      " 66%|██████████████████████████████████████████████████████████████████████████████████████████████████████████████████████████▊                                                               | 33/50 [05:43<03:07, 11.02s/it]"
     ]
    },
    {
     "name": "stdout",
     "output_type": "stream",
     "text": [
      "drums           ==> SDR:   1.954  SIR: 214.049  ISR:   4.892  SAR:  -0.615  \n",
      "bass            ==> SDR:   1.954  SIR: 214.049  ISR:   4.892  SAR:  -0.615  \n",
      "\n"
     ]
    },
    {
     "name": "stderr",
     "output_type": "stream",
     "text": [
      " 68%|██████████████████████████████████████████████████████████████████████████████████████████████████████████████████████████████▍                                                           | 34/50 [05:55<02:57, 11.09s/it]"
     ]
    },
    {
     "name": "stdout",
     "output_type": "stream",
     "text": [
      "drums           ==> SDR:   3.922  SIR: 246.224  ISR:   7.600  SAR:   3.015  \n",
      "bass            ==> SDR:   3.922  SIR: 246.224  ISR:   7.600  SAR:   3.015  \n",
      "\n"
     ]
    },
    {
     "name": "stderr",
     "output_type": "stream",
     "text": [
      " 70%|██████████████████████████████████████████████████████████████████████████████████████████████████████████████████████████████████▏                                                       | 35/50 [06:05<02:42, 10.86s/it]"
     ]
    },
    {
     "name": "stdout",
     "output_type": "stream",
     "text": [
      "drums           ==> SDR:   7.871  SIR: 216.623  ISR:  11.324  SAR:   8.378  \n",
      "bass            ==> SDR:   7.871  SIR: 216.623  ISR:  11.324  SAR:   8.378  \n",
      "\n"
     ]
    },
    {
     "name": "stderr",
     "output_type": "stream",
     "text": [
      " 72%|█████████████████████████████████████████████████████████████████████████████████████████████████████████████████████████████████████▉                                                    | 36/50 [06:16<02:31, 10.80s/it]"
     ]
    },
    {
     "name": "stdout",
     "output_type": "stream",
     "text": [
      "drums           ==> SDR:   2.341  SIR: 203.847  ISR:   5.544  SAR:  -0.252  \n",
      "bass            ==> SDR:   2.341  SIR: 203.847  ISR:   5.544  SAR:  -0.252  \n",
      "\n"
     ]
    },
    {
     "name": "stderr",
     "output_type": "stream",
     "text": [
      " 74%|█████████████████████████████████████████████████████████████████████████████████████████████████████████████████████████████████████████▋                                                | 37/50 [06:26<02:17, 10.60s/it]"
     ]
    },
    {
     "name": "stdout",
     "output_type": "stream",
     "text": [
      "drums           ==> SDR:   3.714  SIR: 198.801  ISR:  14.229  SAR:   2.601  \n",
      "bass            ==> SDR:   3.714  SIR: 198.801  ISR:  14.229  SAR:   2.601  \n",
      "\n"
     ]
    },
    {
     "name": "stderr",
     "output_type": "stream",
     "text": [
      " 76%|█████████████████████████████████████████████████████████████████████████████████████████████████████████████████████████████████████████████▎                                            | 38/50 [06:36<02:07, 10.62s/it]"
     ]
    },
    {
     "name": "stdout",
     "output_type": "stream",
     "text": [
      "drums           ==> SDR:   7.209  SIR: 224.895  ISR:   9.160  SAR:   5.137  \n",
      "bass            ==> SDR:   7.209  SIR: 224.895  ISR:   9.160  SAR:   5.137  \n",
      "\n"
     ]
    },
    {
     "name": "stderr",
     "output_type": "stream",
     "text": [
      " 78%|█████████████████████████████████████████████████████████████████████████████████████████████████████████████████████████████████████████████████                                         | 39/50 [06:48<02:01, 11.02s/it]"
     ]
    },
    {
     "name": "stdout",
     "output_type": "stream",
     "text": [
      "drums           ==> SDR:   3.776  SIR: 230.233  ISR:   5.337  SAR:   4.918  \n",
      "bass            ==> SDR:   3.776  SIR: 230.233  ISR:   5.337  SAR:   4.918  \n",
      "\n"
     ]
    },
    {
     "name": "stderr",
     "output_type": "stream",
     "text": [
      " 80%|████████████████████████████████████████████████████████████████████████████████████████████████████████████████████████████████████████████████████▊                                     | 40/50 [07:00<01:53, 11.36s/it]"
     ]
    },
    {
     "name": "stdout",
     "output_type": "stream",
     "text": [
      "drums           ==> SDR:   2.936  SIR: 169.806  ISR:   4.881  SAR:   2.278  \n",
      "bass            ==> SDR:   2.936  SIR: 169.806  ISR:   4.881  SAR:   2.278  \n",
      "\n"
     ]
    },
    {
     "name": "stderr",
     "output_type": "stream",
     "text": [
      " 82%|████████████████████████████████████████████████████████████████████████████████████████████████████████████████████████████████████████████████████████▌                                 | 41/50 [07:11<01:40, 11.13s/it]"
     ]
    },
    {
     "name": "stdout",
     "output_type": "stream",
     "text": [
      "drums           ==> SDR:   6.244  SIR: 183.859  ISR:  11.548  SAR:   5.764  \n",
      "bass            ==> SDR:   6.244  SIR: 183.859  ISR:  11.548  SAR:   5.764  \n",
      "\n"
     ]
    },
    {
     "name": "stderr",
     "output_type": "stream",
     "text": [
      " 84%|████████████████████████████████████████████████████████████████████████████████████████████████████████████████████████████████████████████████████████████▏                             | 42/50 [07:22<01:27, 10.97s/it]"
     ]
    },
    {
     "name": "stdout",
     "output_type": "stream",
     "text": [
      "drums           ==> SDR:   7.095  SIR: 121.018  ISR:  12.469  SAR:   6.678  \n",
      "bass            ==> SDR:   7.095  SIR: 121.018  ISR:  12.469  SAR:   6.678  \n",
      "\n"
     ]
    },
    {
     "name": "stderr",
     "output_type": "stream",
     "text": [
      " 86%|███████████████████████████████████████████████████████████████████████████████████████████████████████████████████████████████████████████████████████████████▉                          | 43/50 [07:31<01:14, 10.62s/it]"
     ]
    },
    {
     "name": "stdout",
     "output_type": "stream",
     "text": [
      "drums           ==> SDR:   3.745  SIR: 174.190  ISR:   6.740  SAR:   1.980  \n",
      "bass            ==> SDR:   3.745  SIR: 174.190  ISR:   6.740  SAR:   1.980  \n",
      "\n"
     ]
    },
    {
     "name": "stderr",
     "output_type": "stream",
     "text": [
      " 88%|███████████████████████████████████████████████████████████████████████████████████████████████████████████████████████████████████████████████████████████████████▋                      | 44/50 [07:40<01:00, 10.14s/it]"
     ]
    },
    {
     "name": "stdout",
     "output_type": "stream",
     "text": [
      "drums           ==> SDR:   5.162  SIR: 214.273  ISR:   9.655  SAR:   5.485  \n",
      "bass            ==> SDR:   5.162  SIR: 214.273  ISR:   9.655  SAR:   5.485  \n",
      "\n"
     ]
    },
    {
     "name": "stderr",
     "output_type": "stream",
     "text": [
      " 90%|███████████████████████████████████████████████████████████████████████████████████████████████████████████████████████████████████████████████████████████████████████▍                  | 45/50 [07:51<00:51, 10.33s/it]"
     ]
    },
    {
     "name": "stdout",
     "output_type": "stream",
     "text": [
      "drums           ==> SDR:   0.465  SIR: 206.493  ISR:   0.925  SAR:  -0.810  \n",
      "bass            ==> SDR:   0.465  SIR: 206.493  ISR:   0.925  SAR:  -0.810  \n",
      "\n"
     ]
    },
    {
     "name": "stderr",
     "output_type": "stream",
     "text": [
      " 92%|███████████████████████████████████████████████████████████████████████████████████████████████████████████████████████████████████████████████████████████████████████████               | 46/50 [08:01<00:40, 10.21s/it]"
     ]
    },
    {
     "name": "stdout",
     "output_type": "stream",
     "text": [
      "drums           ==> SDR:   1.709  SIR: 202.597  ISR:   3.116  SAR:  -0.466  \n",
      "bass            ==> SDR:   1.709  SIR: 202.597  ISR:   3.116  SAR:  -0.466  \n",
      "\n"
     ]
    },
    {
     "name": "stderr",
     "output_type": "stream",
     "text": [
      " 94%|██████████████████████████████████████████████████████████████████████████████████████████████████████████████████████████████████████████████████████████████████████████████▊           | 47/50 [08:10<00:29,  9.94s/it]"
     ]
    },
    {
     "name": "stdout",
     "output_type": "stream",
     "text": [
      "drums           ==> SDR:   5.437  SIR: 165.905  ISR:   7.045  SAR:   4.283  \n",
      "bass            ==> SDR:   5.437  SIR: 165.905  ISR:   7.045  SAR:   4.283  \n",
      "\n"
     ]
    },
    {
     "name": "stderr",
     "output_type": "stream",
     "text": [
      " 96%|██████████████████████████████████████████████████████████████████████████████████████████████████████████████████████████████████████████████████████████████████████████████████▌       | 48/50 [08:21<00:20, 10.06s/it]"
     ]
    },
    {
     "name": "stdout",
     "output_type": "stream",
     "text": [
      "drums           ==> SDR:   2.642  SIR: 218.118  ISR:   5.505  SAR:   0.581  \n",
      "bass            ==> SDR:   2.642  SIR: 218.118  ISR:   5.505  SAR:   0.581  \n",
      "\n"
     ]
    },
    {
     "name": "stderr",
     "output_type": "stream",
     "text": [
      " 98%|██████████████████████████████████████████████████████████████████████████████████████████████████████████████████████████████████████████████████████████████████████████████████████▎   | 49/50 [08:31<00:10, 10.11s/it]"
     ]
    },
    {
     "name": "stdout",
     "output_type": "stream",
     "text": [
      "drums           ==> SDR:   9.002  SIR: 216.076  ISR:  15.355  SAR:   9.037  \n",
      "bass            ==> SDR:   9.002  SIR: 216.076  ISR:  15.355  SAR:   9.037  \n",
      "\n"
     ]
    },
    {
     "name": "stderr",
     "output_type": "stream",
     "text": [
      "100%|██████████████████████████████████████████████████████████████████████████████████████████████████████████████████████████████████████████████████████████████████████████████████████████| 50/50 [08:41<00:00, 10.43s/it]"
     ]
    },
    {
     "name": "stdout",
     "output_type": "stream",
     "text": [
      "drums           ==> SDR:   5.069  SIR: 207.494  ISR:   7.450  SAR:   4.419  \n",
      "bass            ==> SDR:   5.069  SIR: 207.494  ISR:   7.450  SAR:   4.419  \n",
      "\n"
     ]
    },
    {
     "name": "stderr",
     "output_type": "stream",
     "text": [
      "\n",
      "  2%|███▋                                                                                                                                                                                       | 1/50 [00:09<07:58,  9.77s/it]"
     ]
    },
    {
     "name": "stdout",
     "output_type": "stream",
     "text": [
      "drums           ==> SDR:   7.963  SIR: 214.656  ISR:  10.719  SAR:   6.910  \n",
      "bass            ==> SDR:   7.963  SIR: 214.656  ISR:  10.719  SAR:   6.910  \n",
      "\n"
     ]
    },
    {
     "name": "stderr",
     "output_type": "stream",
     "text": [
      "  4%|███████▍                                                                                                                                                                                   | 2/50 [00:20<08:28, 10.59s/it]"
     ]
    },
    {
     "name": "stdout",
     "output_type": "stream",
     "text": [
      "drums           ==> SDR:   2.137  SIR: 180.206  ISR:   4.125  SAR:  -0.985  \n",
      "bass            ==> SDR:   2.137  SIR: 180.206  ISR:   4.125  SAR:  -0.985  \n",
      "\n"
     ]
    },
    {
     "name": "stderr",
     "output_type": "stream",
     "text": [
      "  6%|███████████▏                                                                                                                                                                               | 3/50 [00:30<08:04, 10.31s/it]"
     ]
    },
    {
     "name": "stdout",
     "output_type": "stream",
     "text": [
      "drums           ==> SDR:   3.115  SIR: 232.801  ISR:   5.624  SAR:   2.007  \n",
      "bass            ==> SDR:   3.115  SIR: 232.801  ISR:   5.624  SAR:   2.007  \n",
      "\n"
     ]
    },
    {
     "name": "stderr",
     "output_type": "stream",
     "text": [
      "  8%|██████████████▉                                                                                                                                                                            | 4/50 [00:40<07:43, 10.07s/it]"
     ]
    },
    {
     "name": "stdout",
     "output_type": "stream",
     "text": [
      "drums           ==> SDR:   1.350  SIR: 226.521  ISR:   9.020  SAR:  -1.279  \n",
      "bass            ==> SDR:   1.350  SIR: 226.521  ISR:   9.020  SAR:  -1.279  \n",
      "\n"
     ]
    },
    {
     "name": "stderr",
     "output_type": "stream",
     "text": [
      " 10%|██████████████████▋                                                                                                                                                                        | 5/50 [00:50<07:31, 10.02s/it]"
     ]
    },
    {
     "name": "stdout",
     "output_type": "stream",
     "text": [
      "drums           ==> SDR:   7.957  SIR: 191.920  ISR:  12.647  SAR:   8.006  \n",
      "bass            ==> SDR:   7.957  SIR: 191.920  ISR:  12.647  SAR:   8.006  \n",
      "\n"
     ]
    },
    {
     "name": "stderr",
     "output_type": "stream",
     "text": [
      " 12%|██████████████████████▍                                                                                                                                                                    | 6/50 [01:00<07:18,  9.97s/it]"
     ]
    },
    {
     "name": "stdout",
     "output_type": "stream",
     "text": [
      "drums           ==> SDR:   4.593  SIR: 230.004  ISR:   7.135  SAR:   3.371  \n",
      "bass            ==> SDR:   4.593  SIR: 230.004  ISR:   7.135  SAR:   3.371  \n",
      "\n"
     ]
    },
    {
     "name": "stderr",
     "output_type": "stream",
     "text": [
      " 14%|██████████████████████████▏                                                                                                                                                                | 7/50 [01:10<07:05,  9.90s/it]"
     ]
    },
    {
     "name": "stdout",
     "output_type": "stream",
     "text": [
      "drums           ==> SDR:   3.276  SIR: 223.000  ISR:   5.045  SAR:   2.042  \n",
      "bass            ==> SDR:   3.276  SIR: 223.000  ISR:   5.045  SAR:   2.042  \n",
      "\n"
     ]
    },
    {
     "name": "stderr",
     "output_type": "stream",
     "text": [
      " 16%|█████████████████████████████▉                                                                                                                                                             | 8/50 [01:22<07:28, 10.69s/it]"
     ]
    },
    {
     "name": "stdout",
     "output_type": "stream",
     "text": [
      "drums           ==> SDR:   3.361  SIR: 238.671  ISR:   6.459  SAR:   1.081  \n",
      "bass            ==> SDR:   3.361  SIR: 238.671  ISR:   6.459  SAR:   1.081  \n",
      "\n"
     ]
    },
    {
     "name": "stderr",
     "output_type": "stream",
     "text": [
      " 18%|█████████████████████████████████▋                                                                                                                                                         | 9/50 [01:33<07:25, 10.86s/it]"
     ]
    },
    {
     "name": "stdout",
     "output_type": "stream",
     "text": [
      "drums           ==> SDR:   5.398  SIR: 163.653  ISR:   7.757  SAR:   5.282  \n",
      "bass            ==> SDR:   5.398  SIR: 163.653  ISR:   7.757  SAR:   5.282  \n",
      "\n"
     ]
    },
    {
     "name": "stderr",
     "output_type": "stream",
     "text": [
      " 20%|█████████████████████████████████████▏                                                                                                                                                    | 10/50 [01:44<07:14, 10.87s/it]"
     ]
    },
    {
     "name": "stdout",
     "output_type": "stream",
     "text": [
      "drums           ==> SDR:  -2.159  SIR: 178.196  ISR:   5.334  SAR:  -5.874  \n",
      "bass            ==> SDR:  -2.159  SIR: 178.196  ISR:   5.334  SAR:  -5.874  \n",
      "\n"
     ]
    },
    {
     "name": "stderr",
     "output_type": "stream",
     "text": [
      " 22%|████████████████████████████████████████▉                                                                                                                                                 | 11/50 [01:55<06:59, 10.75s/it]"
     ]
    },
    {
     "name": "stdout",
     "output_type": "stream",
     "text": [
      "drums           ==> SDR:   8.195  SIR: 220.823  ISR:  11.667  SAR:   8.227  \n",
      "bass            ==> SDR:   8.195  SIR: 220.823  ISR:  11.667  SAR:   8.227  \n",
      "\n"
     ]
    },
    {
     "name": "stderr",
     "output_type": "stream",
     "text": [
      " 24%|████████████████████████████████████████████▋                                                                                                                                             | 12/50 [02:05<06:43, 10.62s/it]"
     ]
    },
    {
     "name": "stdout",
     "output_type": "stream",
     "text": [
      "drums           ==> SDR:   4.015  SIR: 222.748  ISR:   5.129  SAR:   4.364  \n",
      "bass            ==> SDR:   4.015  SIR: 222.748  ISR:   5.129  SAR:   4.364  \n",
      "\n"
     ]
    },
    {
     "name": "stderr",
     "output_type": "stream",
     "text": [
      " 26%|████████████████████████████████████████████████▎                                                                                                                                         | 13/50 [02:14<06:17, 10.22s/it]"
     ]
    },
    {
     "name": "stdout",
     "output_type": "stream",
     "text": [
      "drums           ==> SDR:   0.916  SIR:  83.238  ISR:   1.770  SAR:  -3.407  \n",
      "bass            ==> SDR:   0.916  SIR:  83.238  ISR:   1.770  SAR:  -3.407  \n",
      "\n"
     ]
    },
    {
     "name": "stderr",
     "output_type": "stream",
     "text": [
      " 28%|████████████████████████████████████████████████████                                                                                                                                      | 14/50 [02:25<06:13, 10.37s/it]"
     ]
    },
    {
     "name": "stdout",
     "output_type": "stream",
     "text": [
      "drums           ==> SDR:   6.754  SIR: 208.864  ISR:  10.567  SAR:   6.654  \n",
      "bass            ==> SDR:   6.754  SIR: 208.864  ISR:  10.567  SAR:   6.654  \n",
      "\n"
     ]
    },
    {
     "name": "stderr",
     "output_type": "stream",
     "text": [
      " 30%|███████████████████████████████████████████████████████▊                                                                                                                                  | 15/50 [02:35<06:00, 10.30s/it]"
     ]
    },
    {
     "name": "stdout",
     "output_type": "stream",
     "text": [
      "drums           ==> SDR:   3.886  SIR: 203.127  ISR:   5.923  SAR:   2.324  \n",
      "bass            ==> SDR:   3.886  SIR: 203.127  ISR:   5.923  SAR:   2.324  \n",
      "\n"
     ]
    },
    {
     "name": "stderr",
     "output_type": "stream",
     "text": [
      " 32%|███████████████████████████████████████████████████████████▌                                                                                                                              | 16/50 [02:46<05:52, 10.38s/it]"
     ]
    },
    {
     "name": "stdout",
     "output_type": "stream",
     "text": [
      "drums           ==> SDR:   3.643  SIR: 209.477  ISR:   6.380  SAR:   1.393  \n",
      "bass            ==> SDR:   3.643  SIR: 209.477  ISR:   6.380  SAR:   1.393  \n",
      "\n"
     ]
    },
    {
     "name": "stderr",
     "output_type": "stream",
     "text": [
      " 34%|███████████████████████████████████████████████████████████████▏                                                                                                                          | 17/50 [02:56<05:41, 10.34s/it]"
     ]
    },
    {
     "name": "stdout",
     "output_type": "stream",
     "text": [
      "drums           ==> SDR:   0.815  SIR: 217.627  ISR:   2.245  SAR:  -5.185  \n",
      "bass            ==> SDR:   0.815  SIR: 217.627  ISR:   2.245  SAR:  -5.185  \n",
      "\n"
     ]
    },
    {
     "name": "stderr",
     "output_type": "stream",
     "text": [
      " 36%|██████████████████████████████████████████████████████████████████▉                                                                                                                       | 18/50 [03:06<05:29, 10.30s/it]"
     ]
    },
    {
     "name": "stdout",
     "output_type": "stream",
     "text": [
      "drums           ==> SDR:   7.069  SIR: 204.016  ISR:  10.145  SAR:   7.725  \n",
      "bass            ==> SDR:   7.069  SIR: 204.016  ISR:  10.145  SAR:   7.725  \n",
      "\n"
     ]
    },
    {
     "name": "stderr",
     "output_type": "stream",
     "text": [
      " 38%|██████████████████████████████████████████████████████████████████████▋                                                                                                                   | 19/50 [03:17<05:26, 10.52s/it]"
     ]
    },
    {
     "name": "stdout",
     "output_type": "stream",
     "text": [
      "drums           ==> SDR:  10.982  SIR: 218.528  ISR:  15.490  SAR:  12.522  \n",
      "bass            ==> SDR:  10.982  SIR: 218.528  ISR:  15.490  SAR:  12.522  \n",
      "\n"
     ]
    },
    {
     "name": "stderr",
     "output_type": "stream",
     "text": [
      " 40%|██████████████████████████████████████████████████████████████████████████▍                                                                                                               | 20/50 [03:27<05:07, 10.26s/it]"
     ]
    },
    {
     "name": "stdout",
     "output_type": "stream",
     "text": [
      "drums           ==> SDR:   8.078  SIR: 225.736  ISR:  10.460  SAR:   9.073  \n",
      "bass            ==> SDR:   8.078  SIR: 225.736  ISR:  10.460  SAR:   9.073  \n",
      "\n"
     ]
    },
    {
     "name": "stderr",
     "output_type": "stream",
     "text": [
      " 42%|██████████████████████████████████████████████████████████████████████████████                                                                                                            | 21/50 [03:37<04:57, 10.26s/it]"
     ]
    },
    {
     "name": "stdout",
     "output_type": "stream",
     "text": [
      "drums           ==> SDR:   5.700  SIR: 178.729  ISR:   7.271  SAR:   6.803  \n",
      "bass            ==> SDR:   5.700  SIR: 178.729  ISR:   7.271  SAR:   6.803  \n",
      "\n"
     ]
    },
    {
     "name": "stderr",
     "output_type": "stream",
     "text": [
      " 44%|█████████████████████████████████████████████████████████████████████████████████▊                                                                                                        | 22/50 [03:48<04:56, 10.59s/it]"
     ]
    },
    {
     "name": "stdout",
     "output_type": "stream",
     "text": [
      "drums           ==> SDR:  -2.253  SIR: 269.757  ISR:   0.368  SAR: -16.164  \n",
      "bass            ==> SDR:  -2.253  SIR: 269.757  ISR:   0.368  SAR: -16.164  \n",
      "\n"
     ]
    },
    {
     "name": "stderr",
     "output_type": "stream",
     "text": [
      " 46%|█████████████████████████████████████████████████████████████████████████████████████▌                                                                                                    | 23/50 [04:05<05:33, 12.36s/it]"
     ]
    },
    {
     "name": "stdout",
     "output_type": "stream",
     "text": [
      "drums           ==> SDR:   2.478  SIR: 168.198  ISR:   4.387  SAR:   0.680  \n",
      "bass            ==> SDR:   2.478  SIR: 168.198  ISR:   4.387  SAR:   0.680  \n",
      "\n"
     ]
    },
    {
     "name": "stderr",
     "output_type": "stream",
     "text": [
      " 48%|█████████████████████████████████████████████████████████████████████████████████████████▎                                                                                                | 24/50 [04:17<05:21, 12.35s/it]"
     ]
    },
    {
     "name": "stdout",
     "output_type": "stream",
     "text": [
      "drums           ==> SDR:   4.764  SIR: 136.778  ISR:   8.203  SAR:   5.316  \n",
      "bass            ==> SDR:   4.764  SIR: 136.778  ISR:   8.203  SAR:   5.316  \n",
      "\n"
     ]
    },
    {
     "name": "stderr",
     "output_type": "stream",
     "text": [
      " 50%|█████████████████████████████████████████████████████████████████████████████████████████████                                                                                             | 25/50 [04:28<04:55, 11.80s/it]"
     ]
    },
    {
     "name": "stdout",
     "output_type": "stream",
     "text": [
      "drums           ==> SDR:   0.944  SIR: 218.983  ISR:   2.010  SAR:  -1.721  \n",
      "bass            ==> SDR:   0.944  SIR: 218.983  ISR:   2.010  SAR:  -1.721  \n",
      "\n"
     ]
    },
    {
     "name": "stderr",
     "output_type": "stream",
     "text": [
      " 52%|████████████████████████████████████████████████████████████████████████████████████████████████▋                                                                                         | 26/50 [04:40<04:45, 11.89s/it]"
     ]
    },
    {
     "name": "stdout",
     "output_type": "stream",
     "text": [
      "drums           ==> SDR:   8.671  SIR: 176.000  ISR:  13.647  SAR:   9.214  \n",
      "bass            ==> SDR:   8.671  SIR: 176.000  ISR:  13.647  SAR:   9.214  \n",
      "\n"
     ]
    },
    {
     "name": "stderr",
     "output_type": "stream",
     "text": [
      " 54%|████████████████████████████████████████████████████████████████████████████████████████████████████▍                                                                                     | 27/50 [04:50<04:23, 11.46s/it]"
     ]
    },
    {
     "name": "stdout",
     "output_type": "stream",
     "text": [
      "drums           ==> SDR:   6.452  SIR: 182.649  ISR:  11.582  SAR:   5.955  \n",
      "bass            ==> SDR:   6.452  SIR: 182.649  ISR:  11.582  SAR:   5.955  \n",
      "\n"
     ]
    },
    {
     "name": "stderr",
     "output_type": "stream",
     "text": [
      " 56%|████████████████████████████████████████████████████████████████████████████████████████████████████████▏                                                                                 | 28/50 [05:01<04:05, 11.18s/it]"
     ]
    },
    {
     "name": "stdout",
     "output_type": "stream",
     "text": [
      "drums           ==> SDR:   8.946  SIR: 191.122  ISR:  11.986  SAR:   9.313  \n",
      "bass            ==> SDR:   8.946  SIR: 191.122  ISR:  11.986  SAR:   9.313  \n",
      "\n"
     ]
    },
    {
     "name": "stderr",
     "output_type": "stream",
     "text": [
      " 58%|███████████████████████████████████████████████████████████████████████████████████████████████████████████▉                                                                              | 29/50 [05:11<03:49, 10.91s/it]"
     ]
    },
    {
     "name": "stdout",
     "output_type": "stream",
     "text": [
      "drums           ==> SDR:   4.858  SIR: 188.667  ISR:   6.664  SAR:   6.074  \n",
      "bass            ==> SDR:   4.858  SIR: 188.667  ISR:   6.664  SAR:   6.074  \n",
      "\n"
     ]
    },
    {
     "name": "stderr",
     "output_type": "stream",
     "text": [
      " 60%|███████████████████████████████████████████████████████████████████████████████████████████████████████████████▌                                                                          | 30/50 [05:21<03:32, 10.64s/it]"
     ]
    },
    {
     "name": "stdout",
     "output_type": "stream",
     "text": [
      "drums           ==> SDR:   4.440  SIR: 220.005  ISR:   6.845  SAR:   3.750  \n",
      "bass            ==> SDR:   4.440  SIR: 220.005  ISR:   6.845  SAR:   3.750  \n",
      "\n"
     ]
    },
    {
     "name": "stderr",
     "output_type": "stream",
     "text": [
      " 62%|███████████████████████████████████████████████████████████████████████████████████████████████████████████████████▎                                                                      | 31/50 [05:32<03:23, 10.70s/it]"
     ]
    },
    {
     "name": "stdout",
     "output_type": "stream",
     "text": [
      "drums           ==> SDR:   2.852  SIR: 196.730  ISR:   7.482  SAR:   0.725  \n",
      "bass            ==> SDR:   2.852  SIR: 196.730  ISR:   7.482  SAR:   0.725  \n",
      "\n"
     ]
    },
    {
     "name": "stderr",
     "output_type": "stream",
     "text": [
      " 64%|███████████████████████████████████████████████████████████████████████████████████████████████████████████████████████                                                                   | 32/50 [05:43<03:16, 10.93s/it]"
     ]
    },
    {
     "name": "stdout",
     "output_type": "stream",
     "text": [
      "drums           ==> SDR:   0.479  SIR: 202.825  ISR:   3.374  SAR:  -0.028  \n",
      "bass            ==> SDR:   0.479  SIR: 202.825  ISR:   3.374  SAR:  -0.028  \n",
      "\n"
     ]
    },
    {
     "name": "stderr",
     "output_type": "stream",
     "text": [
      " 66%|██████████████████████████████████████████████████████████████████████████████████████████████████████████████████████████▊                                                               | 33/50 [05:54<03:01, 10.70s/it]"
     ]
    },
    {
     "name": "stdout",
     "output_type": "stream",
     "text": [
      "drums           ==> SDR:   1.666  SIR: 222.880  ISR:   4.194  SAR:  -0.963  \n",
      "bass            ==> SDR:   1.666  SIR: 222.880  ISR:   4.194  SAR:  -0.963  \n",
      "\n"
     ]
    },
    {
     "name": "stderr",
     "output_type": "stream",
     "text": [
      " 68%|██████████████████████████████████████████████████████████████████████████████████████████████████████████████████████████████▍                                                           | 34/50 [06:04<02:49, 10.60s/it]"
     ]
    },
    {
     "name": "stdout",
     "output_type": "stream",
     "text": [
      "drums           ==> SDR:   3.394  SIR: 248.542  ISR:   6.059  SAR:   2.370  \n",
      "bass            ==> SDR:   3.394  SIR: 248.542  ISR:   6.059  SAR:   2.370  \n",
      "\n"
     ]
    },
    {
     "name": "stderr",
     "output_type": "stream",
     "text": [
      " 70%|██████████████████████████████████████████████████████████████████████████████████████████████████████████████████████████████████▏                                                       | 35/50 [06:14<02:36, 10.45s/it]"
     ]
    },
    {
     "name": "stdout",
     "output_type": "stream",
     "text": [
      "drums           ==> SDR:   7.228  SIR: 218.644  ISR:  10.642  SAR:   8.221  \n",
      "bass            ==> SDR:   7.228  SIR: 218.644  ISR:  10.642  SAR:   8.221  \n",
      "\n"
     ]
    },
    {
     "name": "stderr",
     "output_type": "stream",
     "text": [
      " 72%|█████████████████████████████████████████████████████████████████████████████████████████████████████████████████████████████████████▉                                                    | 36/50 [06:25<02:26, 10.44s/it]"
     ]
    },
    {
     "name": "stdout",
     "output_type": "stream",
     "text": [
      "drums           ==> SDR:   1.903  SIR: 193.881  ISR:   4.631  SAR:  -0.415  \n",
      "bass            ==> SDR:   1.903  SIR: 193.881  ISR:   4.631  SAR:  -0.415  \n",
      "\n"
     ]
    },
    {
     "name": "stderr",
     "output_type": "stream",
     "text": [
      " 74%|█████████████████████████████████████████████████████████████████████████████████████████████████████████████████████████████████████████▋                                                | 37/50 [06:35<02:14, 10.37s/it]"
     ]
    },
    {
     "name": "stdout",
     "output_type": "stream",
     "text": [
      "drums           ==> SDR:   2.508  SIR: 200.037  ISR:  11.707  SAR:   1.405  \n",
      "bass            ==> SDR:   2.508  SIR: 200.037  ISR:  11.707  SAR:   1.405  \n",
      "\n"
     ]
    },
    {
     "name": "stderr",
     "output_type": "stream",
     "text": [
      " 76%|█████████████████████████████████████████████████████████████████████████████████████████████████████████████████████████████████████████████▎                                            | 38/50 [06:45<02:03, 10.31s/it]"
     ]
    },
    {
     "name": "stdout",
     "output_type": "stream",
     "text": [
      "drums           ==> SDR:   6.265  SIR: 222.145  ISR:   7.329  SAR:   3.617  \n",
      "bass            ==> SDR:   6.265  SIR: 222.145  ISR:   7.329  SAR:   3.617  \n",
      "\n"
     ]
    },
    {
     "name": "stderr",
     "output_type": "stream",
     "text": [
      " 78%|█████████████████████████████████████████████████████████████████████████████████████████████████████████████████████████████████████████████████                                         | 39/50 [06:55<01:52, 10.24s/it]"
     ]
    },
    {
     "name": "stdout",
     "output_type": "stream",
     "text": [
      "drums           ==> SDR:   3.448  SIR: 226.326  ISR:   4.689  SAR:   3.411  \n",
      "bass            ==> SDR:   3.448  SIR: 226.326  ISR:   4.689  SAR:   3.411  \n",
      "\n"
     ]
    },
    {
     "name": "stderr",
     "output_type": "stream",
     "text": [
      " 80%|████████████████████████████████████████████████████████████████████████████████████████████████████████████████████████████████████████████████████▊                                     | 40/50 [07:07<01:48, 10.82s/it]"
     ]
    },
    {
     "name": "stdout",
     "output_type": "stream",
     "text": [
      "drums           ==> SDR:   2.710  SIR: 172.367  ISR:   5.267  SAR:   2.186  \n",
      "bass            ==> SDR:   2.710  SIR: 172.367  ISR:   5.267  SAR:   2.186  \n",
      "\n"
     ]
    },
    {
     "name": "stderr",
     "output_type": "stream",
     "text": [
      " 82%|████████████████████████████████████████████████████████████████████████████████████████████████████████████████████████████████████████████████████████▌                                 | 41/50 [07:17<01:35, 10.57s/it]"
     ]
    },
    {
     "name": "stdout",
     "output_type": "stream",
     "text": [
      "drums           ==> SDR:   5.908  SIR: 183.094  ISR:  10.917  SAR:   5.604  \n",
      "bass            ==> SDR:   5.908  SIR: 183.094  ISR:  10.917  SAR:   5.604  \n",
      "\n"
     ]
    },
    {
     "name": "stderr",
     "output_type": "stream",
     "text": [
      " 84%|████████████████████████████████████████████████████████████████████████████████████████████████████████████████████████████████████████████████████████████▏                             | 42/50 [07:28<01:25, 10.69s/it]"
     ]
    },
    {
     "name": "stdout",
     "output_type": "stream",
     "text": [
      "drums           ==> SDR:   6.915  SIR: 119.802  ISR:  11.351  SAR:   6.479  \n",
      "bass            ==> SDR:   6.915  SIR: 119.802  ISR:  11.351  SAR:   6.479  \n",
      "\n"
     ]
    },
    {
     "name": "stderr",
     "output_type": "stream",
     "text": [
      " 86%|███████████████████████████████████████████████████████████████████████████████████████████████████████████████████████████████████████████████████████████████▉                          | 43/50 [07:39<01:14, 10.60s/it]"
     ]
    },
    {
     "name": "stdout",
     "output_type": "stream",
     "text": [
      "drums           ==> SDR:   3.165  SIR: 169.883  ISR:   4.728  SAR:   1.735  \n",
      "bass            ==> SDR:   3.165  SIR: 169.883  ISR:   4.728  SAR:   1.735  \n",
      "\n"
     ]
    },
    {
     "name": "stderr",
     "output_type": "stream",
     "text": [
      " 88%|███████████████████████████████████████████████████████████████████████████████████████████████████████████████████████████████████████████████████████████████████▋                      | 44/50 [07:49<01:02, 10.43s/it]"
     ]
    },
    {
     "name": "stdout",
     "output_type": "stream",
     "text": [
      "drums           ==> SDR:   4.284  SIR: 215.162  ISR:   8.192  SAR:   4.890  \n",
      "bass            ==> SDR:   4.284  SIR: 215.162  ISR:   8.192  SAR:   4.890  \n",
      "\n"
     ]
    },
    {
     "name": "stderr",
     "output_type": "stream",
     "text": [
      " 90%|███████████████████████████████████████████████████████████████████████████████████████████████████████████████████████████████████████████████████████████████████████▍                  | 45/50 [08:03<00:58, 11.73s/it]"
     ]
    },
    {
     "name": "stdout",
     "output_type": "stream",
     "text": [
      "drums           ==> SDR:   0.376  SIR: 205.658  ISR:   0.737  SAR:  -0.105  \n",
      "bass            ==> SDR:   0.376  SIR: 205.658  ISR:   0.737  SAR:  -0.105  \n",
      "\n"
     ]
    },
    {
     "name": "stderr",
     "output_type": "stream",
     "text": [
      " 92%|███████████████████████████████████████████████████████████████████████████████████████████████████████████████████████████████████████████████████████████████████████████               | 46/50 [08:14<00:45, 11.29s/it]"
     ]
    },
    {
     "name": "stdout",
     "output_type": "stream",
     "text": [
      "drums           ==> SDR:   1.357  SIR: 201.962  ISR:   2.397  SAR:  -0.148  \n",
      "bass            ==> SDR:   1.357  SIR: 201.962  ISR:   2.397  SAR:  -0.148  \n",
      "\n"
     ]
    },
    {
     "name": "stderr",
     "output_type": "stream",
     "text": [
      " 94%|██████████████████████████████████████████████████████████████████████████████████████████████████████████████████████████████████████████████████████████████████████████████▊           | 47/50 [08:24<00:32, 10.92s/it]"
     ]
    },
    {
     "name": "stdout",
     "output_type": "stream",
     "text": [
      "drums           ==> SDR:   4.470  SIR: 167.385  ISR:   6.377  SAR:   3.930  \n",
      "bass            ==> SDR:   4.470  SIR: 167.385  ISR:   6.377  SAR:   3.930  \n",
      "\n"
     ]
    },
    {
     "name": "stderr",
     "output_type": "stream",
     "text": [
      " 96%|██████████████████████████████████████████████████████████████████████████████████████████████████████████████████████████████████████████████████████████████████████████████████▌       | 48/50 [08:35<00:22, 11.20s/it]"
     ]
    },
    {
     "name": "stdout",
     "output_type": "stream",
     "text": [
      "drums           ==> SDR:   1.983  SIR: 210.946  ISR:   4.111  SAR:  -0.872  \n",
      "bass            ==> SDR:   1.983  SIR: 210.946  ISR:   4.111  SAR:  -0.872  \n",
      "\n"
     ]
    },
    {
     "name": "stderr",
     "output_type": "stream",
     "text": [
      " 98%|██████████████████████████████████████████████████████████████████████████████████████████████████████████████████████████████████████████████████████████████████████████████████████▎   | 49/50 [08:45<00:10, 10.83s/it]"
     ]
    },
    {
     "name": "stdout",
     "output_type": "stream",
     "text": [
      "drums           ==> SDR:   8.490  SIR: 208.383  ISR:  13.951  SAR:   8.403  \n",
      "bass            ==> SDR:   8.490  SIR: 208.383  ISR:  13.951  SAR:   8.403  \n",
      "\n"
     ]
    },
    {
     "name": "stderr",
     "output_type": "stream",
     "text": [
      "100%|██████████████████████████████████████████████████████████████████████████████████████████████████████████████████████████████████████████████████████████████████████████████████████████| 50/50 [08:56<00:00, 10.72s/it]"
     ]
    },
    {
     "name": "stdout",
     "output_type": "stream",
     "text": [
      "drums           ==> SDR:   3.987  SIR: 200.294  ISR:   5.898  SAR:   3.359  \n",
      "bass            ==> SDR:   3.987  SIR: 200.294  ISR:   5.898  SAR:   3.359  \n",
      "\n"
     ]
    },
    {
     "name": "stderr",
     "output_type": "stream",
     "text": [
      "\n",
      "  2%|███▋                                                                                                                                                                                       | 1/50 [00:09<08:01,  9.82s/it]"
     ]
    },
    {
     "name": "stdout",
     "output_type": "stream",
     "text": [
      "drums           ==> SDR:   7.400  SIR: 202.287  ISR:  10.509  SAR:   6.644  \n",
      "bass            ==> SDR:   7.400  SIR: 202.287  ISR:  10.509  SAR:   6.644  \n",
      "\n"
     ]
    },
    {
     "name": "stderr",
     "output_type": "stream",
     "text": [
      "  4%|███████▍                                                                                                                                                                                   | 2/50 [00:19<07:48,  9.77s/it]"
     ]
    },
    {
     "name": "stdout",
     "output_type": "stream",
     "text": [
      "drums           ==> SDR:   2.262  SIR: 179.446  ISR:   4.158  SAR:  -0.803  \n",
      "bass            ==> SDR:   2.262  SIR: 179.446  ISR:   4.158  SAR:  -0.803  \n",
      "\n"
     ]
    },
    {
     "name": "stderr",
     "output_type": "stream",
     "text": [
      "  6%|███████████▏                                                                                                                                                                               | 3/50 [00:29<07:43,  9.85s/it]"
     ]
    },
    {
     "name": "stdout",
     "output_type": "stream",
     "text": [
      "drums           ==> SDR:   2.738  SIR: 221.394  ISR:   4.726  SAR:   0.659  \n",
      "bass            ==> SDR:   2.738  SIR: 221.394  ISR:   4.726  SAR:   0.659  \n",
      "\n"
     ]
    },
    {
     "name": "stderr",
     "output_type": "stream",
     "text": [
      "  8%|██████████████▉                                                                                                                                                                            | 4/50 [00:39<07:38,  9.96s/it]"
     ]
    },
    {
     "name": "stdout",
     "output_type": "stream",
     "text": [
      "drums           ==> SDR:   0.927  SIR: 219.429  ISR:   8.588  SAR:  -2.116  \n",
      "bass            ==> SDR:   0.927  SIR: 219.429  ISR:   8.588  SAR:  -2.116  \n",
      "\n"
     ]
    },
    {
     "name": "stderr",
     "output_type": "stream",
     "text": [
      " 10%|██████████████████▋                                                                                                                                                                        | 5/50 [00:49<07:22,  9.83s/it]"
     ]
    },
    {
     "name": "stdout",
     "output_type": "stream",
     "text": [
      "drums           ==> SDR:   7.544  SIR: 194.269  ISR:  11.301  SAR:   7.512  \n",
      "bass            ==> SDR:   7.544  SIR: 194.269  ISR:  11.301  SAR:   7.512  \n",
      "\n"
     ]
    },
    {
     "name": "stderr",
     "output_type": "stream",
     "text": [
      " 12%|██████████████████████▍                                                                                                                                                                    | 6/50 [00:58<07:03,  9.63s/it]"
     ]
    },
    {
     "name": "stdout",
     "output_type": "stream",
     "text": [
      "drums           ==> SDR:   3.989  SIR: 231.818  ISR:   6.622  SAR:   2.984  \n",
      "bass            ==> SDR:   3.989  SIR: 231.818  ISR:   6.622  SAR:   2.984  \n",
      "\n"
     ]
    },
    {
     "name": "stderr",
     "output_type": "stream",
     "text": [
      " 14%|██████████████████████████▏                                                                                                                                                                | 7/50 [01:07<06:49,  9.53s/it]"
     ]
    },
    {
     "name": "stdout",
     "output_type": "stream",
     "text": [
      "drums           ==> SDR:   3.494  SIR: 219.601  ISR:   5.236  SAR:   2.153  \n",
      "bass            ==> SDR:   3.494  SIR: 219.601  ISR:   5.236  SAR:   2.153  \n",
      "\n"
     ]
    },
    {
     "name": "stderr",
     "output_type": "stream",
     "text": [
      " 16%|█████████████████████████████▉                                                                                                                                                             | 8/50 [01:17<06:47,  9.69s/it]"
     ]
    },
    {
     "name": "stdout",
     "output_type": "stream",
     "text": [
      "drums           ==> SDR:   3.491  SIR: 240.620  ISR:   6.933  SAR:   1.526  \n",
      "bass            ==> SDR:   3.491  SIR: 240.620  ISR:   6.933  SAR:   1.526  \n",
      "\n"
     ]
    },
    {
     "name": "stderr",
     "output_type": "stream",
     "text": [
      " 18%|█████████████████████████████████▋                                                                                                                                                         | 9/50 [01:27<06:42,  9.82s/it]"
     ]
    },
    {
     "name": "stdout",
     "output_type": "stream",
     "text": [
      "drums           ==> SDR:   5.135  SIR: 167.069  ISR:   8.295  SAR:   5.569  \n",
      "bass            ==> SDR:   5.135  SIR: 167.069  ISR:   8.295  SAR:   5.569  \n",
      "\n"
     ]
    },
    {
     "name": "stderr",
     "output_type": "stream",
     "text": [
      " 20%|█████████████████████████████████████▏                                                                                                                                                    | 10/50 [01:37<06:34,  9.87s/it]"
     ]
    },
    {
     "name": "stdout",
     "output_type": "stream",
     "text": [
      "drums           ==> SDR:  -2.159  SIR: 177.060  ISR:   5.429  SAR:  -5.772  \n",
      "bass            ==> SDR:  -2.159  SIR: 177.060  ISR:   5.429  SAR:  -5.772  \n",
      "\n"
     ]
    },
    {
     "name": "stderr",
     "output_type": "stream",
     "text": [
      " 22%|████████████████████████████████████████▉                                                                                                                                                 | 11/50 [01:48<06:35, 10.14s/it]"
     ]
    },
    {
     "name": "stdout",
     "output_type": "stream",
     "text": [
      "drums           ==> SDR:   4.191  SIR: 218.242  ISR:   6.187  SAR:   3.042  \n",
      "bass            ==> SDR:   4.191  SIR: 218.242  ISR:   6.187  SAR:   3.042  \n",
      "\n"
     ]
    },
    {
     "name": "stderr",
     "output_type": "stream",
     "text": [
      " 24%|████████████████████████████████████████████▋                                                                                                                                             | 12/50 [01:58<06:26, 10.16s/it]"
     ]
    },
    {
     "name": "stdout",
     "output_type": "stream",
     "text": [
      "drums           ==> SDR:   3.871  SIR: 227.562  ISR:   5.005  SAR:   3.700  \n",
      "bass            ==> SDR:   3.871  SIR: 227.562  ISR:   5.005  SAR:   3.700  \n",
      "\n"
     ]
    },
    {
     "name": "stderr",
     "output_type": "stream",
     "text": [
      " 26%|████████████████████████████████████████████████▎                                                                                                                                         | 13/50 [02:07<06:03,  9.82s/it]"
     ]
    },
    {
     "name": "stdout",
     "output_type": "stream",
     "text": [
      "drums           ==> SDR:   0.528  SIR:  82.329  ISR:   1.265  SAR:  -4.158  \n",
      "bass            ==> SDR:   0.528  SIR:  82.329  ISR:   1.265  SAR:  -4.158  \n",
      "\n"
     ]
    },
    {
     "name": "stderr",
     "output_type": "stream",
     "text": [
      " 28%|████████████████████████████████████████████████████                                                                                                                                      | 14/50 [02:17<05:51,  9.77s/it]"
     ]
    },
    {
     "name": "stdout",
     "output_type": "stream",
     "text": [
      "drums           ==> SDR:   6.717  SIR: 214.719  ISR:  10.735  SAR:   6.633  \n",
      "bass            ==> SDR:   6.717  SIR: 214.719  ISR:  10.735  SAR:   6.633  \n",
      "\n"
     ]
    },
    {
     "name": "stderr",
     "output_type": "stream",
     "text": [
      " 30%|███████████████████████████████████████████████████████▊                                                                                                                                  | 15/50 [02:27<05:41,  9.75s/it]"
     ]
    },
    {
     "name": "stdout",
     "output_type": "stream",
     "text": [
      "drums           ==> SDR:   4.186  SIR: 213.916  ISR:   6.007  SAR:   2.709  \n",
      "bass            ==> SDR:   4.186  SIR: 213.916  ISR:   6.007  SAR:   2.709  \n",
      "\n"
     ]
    },
    {
     "name": "stderr",
     "output_type": "stream",
     "text": [
      " 32%|███████████████████████████████████████████████████████████▌                                                                                                                              | 16/50 [02:36<05:28,  9.66s/it]"
     ]
    },
    {
     "name": "stdout",
     "output_type": "stream",
     "text": [
      "drums           ==> SDR:   2.741  SIR: 214.138  ISR:   4.757  SAR:   0.192  \n",
      "bass            ==> SDR:   2.741  SIR: 214.138  ISR:   4.757  SAR:   0.192  \n",
      "\n"
     ]
    }
   ],
   "source": [
    "# for fold in range(3):\n",
    "for accuracy in [0.010, 0.025, 0.05, 0.1]:\n",
    "    for name in ['epoch_280']:\n",
    "        #try:    \n",
    "        output_path = f\"D:/Github/phd-drum-sep/rebuttal_experiments/demucs/results_{name}_{accuracy}_time/\"\n",
    "        try:\n",
    "            os.mkdir(output_path)\n",
    "        except:\n",
    "            pass\n",
    "    \n",
    "        model = DrumDemucs.load_from_checkpoint(f'D:/Github/phd-drum-sep/analysis/demucs_small_model_analysis/checkpoint/{name}.ckpt')\n",
    "        # model.to('cpu')\n",
    "        model = model.eval()\n",
    "        \n",
    "        mus = musdb.DB(root=\"D:/Github/phd-drum-sep/Data/musdb18_stems/\", subsets=\"test\") \n",
    "        \n",
    "        results = museval.EvalStore(frames_agg='median', tracks_agg='median')\n",
    "        for track in tqdm(mus):\n",
    "            try:\n",
    "                path = \"D:/Github/phd-drum-sep/Data/musdb18hq/\"\n",
    "                audio_path = path + 'test/' + track.name + \"/\"\n",
    "            \n",
    "            \n",
    "                mixture_tensor = load_audio(audio_path, start_point,'mixture.wav').unsqueeze(0).to(model.device)[:,:,:duration]\n",
    "                drum_tensor = load_audio(audio_path, start_point,'drums.wav').unsqueeze(0).to(model.device)[:,:,:duration]\n",
    "                shape = mixture_tensor.shape[2]\n",
    "                roll_tensor = load_roll(audio_path, start_point, shape, accuracy).unsqueeze(0).to(model.device)[:,:,:duration]\n",
    "            \n",
    "                seperated = separate_sources(model, mixture_tensor, roll_tensor, device='cuda')\n",
    "            \n",
    "                \n",
    "                audio = seperated.squeeze(0).cpu().numpy()\n",
    "                audio = np.swapaxes(audio,0,1)\n",
    "                estimates = {'drums': audio, 'bass': audio}\n",
    "            \n",
    "                d = drum_tensor.squeeze(0).cpu().numpy()\n",
    "                d = np.swapaxes(d,0,1)\n",
    "                \n",
    "                track.targets['drums'] = AudioData(d)\n",
    "                track.targets['bass'] = AudioData(d)\n",
    "                \n",
    "                scores = museval.eval_mus_track(\n",
    "                    track, estimates, output_dir=f\"{output_path}\"\n",
    "                )\n",
    "            \n",
    "                print(scores)\n",
    "                results.add_track(scores)\n",
    "                gc.collect()\n",
    "            except Exception as e:\n",
    "                print(e)\n",
    "                pass\n",
    "        \n",
    "        results.df.to_csv(f\"{output_path}results.csv\")\n",
    "    \n",
    "        del model\n",
    "        del mus\n",
    "        \n",
    "        # except Exception as e:\n",
    "        #     print('error with model, skipping', name, e)"
   ]
  },
  {
   "cell_type": "code",
   "execution_count": null,
   "id": "ff3d97f7-2804-4b99-adcb-5adeb7dc9d7d",
   "metadata": {},
   "outputs": [],
   "source": [
    "dir(results)"
   ]
  },
  {
   "cell_type": "code",
   "execution_count": null,
   "id": "6cd0a0c5-a825-44cb-94e7-9fef9dcc91fb",
   "metadata": {},
   "outputs": [],
   "source": [
    "results.agg_frames_tracks_scores(), "
   ]
  },
  {
   "cell_type": "code",
   "execution_count": null,
   "id": "246b6f4f-d272-4105-aef9-26757a4c3b4f",
   "metadata": {},
   "outputs": [],
   "source": [
    "r = results.agg_frames_scores().to_dict()"
   ]
  },
  {
   "cell_type": "code",
   "execution_count": null,
   "id": "d600d210-0015-462f-8dc5-4c5888589fe3",
   "metadata": {},
   "outputs": [],
   "source": [
    "sdrs = []\n",
    "for key in list(r.keys()):\n",
    "    if 'SDR' in key:\n",
    "        sdrs.append(r[key])\n",
    "\n",
    "print(np.median(sdrs))"
   ]
  },
  {
   "cell_type": "code",
   "execution_count": null,
   "id": "58db3f19-21c2-4daf-bdf1-eb25814ec5d7",
   "metadata": {},
   "outputs": [],
   "source": [
    "1/1000"
   ]
  },
  {
   "cell_type": "code",
   "execution_count": null,
   "id": "fcdb294d-5ee7-458b-97ae-48cfdd5f801f",
   "metadata": {},
   "outputs": [],
   "source": []
  }
 ],
 "metadata": {
  "kernelspec": {
   "display_name": "Python 3 (ipykernel)",
   "language": "python",
   "name": "python3"
  },
  "language_info": {
   "codemirror_mode": {
    "name": "ipython",
    "version": 3
   },
   "file_extension": ".py",
   "mimetype": "text/x-python",
   "name": "python",
   "nbconvert_exporter": "python",
   "pygments_lexer": "ipython3",
   "version": "3.11.4"
  }
 },
 "nbformat": 4,
 "nbformat_minor": 5
}
