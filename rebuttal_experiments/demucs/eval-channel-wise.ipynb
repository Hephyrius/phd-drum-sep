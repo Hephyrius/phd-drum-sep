{
 "cells": [
  {
   "cell_type": "markdown",
   "id": "20b2a3bb-3d01-4f42-bc37-dff46522af7f",
   "metadata": {},
   "source": [
    "# Imports"
   ]
  },
  {
   "cell_type": "code",
   "execution_count": 1,
   "id": "71d686e6-8847-4861-88f0-58141c363862",
   "metadata": {},
   "outputs": [
    {
     "name": "stdout",
     "output_type": "stream",
     "text": [
      "True\n"
     ]
    }
   ],
   "source": [
    "import os\n",
    "import pywt\n",
    "import torch\n",
    "import torch.nn as nn\n",
    "import torch.nn.functional as F\n",
    "import torchaudio\n",
    "import pytorch_lightning as pl\n",
    "from torch.utils.data import DataLoader, Dataset\n",
    "from torchaudio.pipelines import HDEMUCS_HIGH_MUSDB\n",
    "import torch.optim as optim\n",
    "from torch.utils.data import Dataset, DataLoader\n",
    "import torchaudio\n",
    "import numpy as np\n",
    "import random\n",
    "from pytorch_lightning.loggers import WandbLogger\n",
    "import wandb\n",
    "import auraloss\n",
    "import collections\n",
    "from tqdm import tqdm\n",
    "import pretty_midi\n",
    "import matplotlib.pyplot as plt\n",
    "from torchaudio.pipelines import HDEMUCS_HIGH_MUSDB\n",
    "print(torch.cuda.is_available())\n",
    "import plotly.graph_objects as go\n",
    "from torch.optim import lr_scheduler\n",
    "from IPython.display import Audio\n",
    "from torchaudio.transforms import Fade\n",
    "import musdb\n",
    "import museval\n",
    "import gc"
   ]
  },
  {
   "cell_type": "code",
   "execution_count": 2,
   "id": "275ddd3f-aa3d-4444-8ddd-c8874bac940c",
   "metadata": {},
   "outputs": [
    {
     "name": "stdout",
     "output_type": "stream",
     "text": [
      "True\n"
     ]
    }
   ],
   "source": [
    "\n",
    "import os\n",
    "import torch\n",
    "import torch.nn as nn\n",
    "import torch.nn.functional as F\n",
    "import torchaudio\n",
    "import pytorch_lightning as pl\n",
    "from torch.utils.data import DataLoader, Dataset\n",
    "from torchaudio.pipelines import HDEMUCS_HIGH_MUSDB\n",
    "import torch.optim as optim\n",
    "from torch.utils.data import Dataset, DataLoader\n",
    "import torchaudio\n",
    "import numpy as np\n",
    "import random\n",
    "from pytorch_lightning.loggers import WandbLogger\n",
    "import subprocess\n",
    "import wandb\n",
    "import auraloss\n",
    "import collections\n",
    "from tqdm import tqdm\n",
    "import librosa\n",
    "from torchaudio.pipelines import HDEMUCS_HIGH_MUSDB\n",
    "print(torch.cuda.is_available())\n",
    "from torch.optim import lr_scheduler\n",
    "import pretty_midi\n",
    "from typing import Optional, Tuple\n",
    "import numpy as np\n",
    "import random"
   ]
  },
  {
   "cell_type": "markdown",
   "id": "e1c82506-04c8-4200-9e63-26857aa176bd",
   "metadata": {},
   "source": [
    "# Set Seeds"
   ]
  },
  {
   "cell_type": "code",
   "execution_count": 3,
   "id": "db3acd3b-d177-44d3-a3f4-35140f45e48a",
   "metadata": {},
   "outputs": [],
   "source": [
    "seed_value = 3407\n",
    "torch.manual_seed(seed_value)\n",
    "random.seed(seed_value)\n",
    "np.random.seed(seed_value)\n",
    "torch.cuda.manual_seed(seed_value)\n",
    "torch.cuda.manual_seed_all(seed_value)\n",
    "torch.set_float32_matmul_precision('high')"
   ]
  },
  {
   "cell_type": "markdown",
   "id": "6182916a-aec1-4c05-8a08-4d2e44dfd979",
   "metadata": {},
   "source": [
    "# Construct Teh Datas"
   ]
  },
  {
   "cell_type": "code",
   "execution_count": 4,
   "id": "dbe5ef07-9ab9-4e3e-9334-048f67ae25e4",
   "metadata": {},
   "outputs": [],
   "source": [
    "path = \"D:/Github/phd-drum-sep/Data/musdb18hq/\""
   ]
  },
  {
   "cell_type": "code",
   "execution_count": 5,
   "id": "e101d3bb-e001-42ff-90cc-42384739d506",
   "metadata": {},
   "outputs": [
    {
     "data": {
      "text/plain": [
       "['test', 'train']"
      ]
     },
     "execution_count": 5,
     "metadata": {},
     "output_type": "execute_result"
    }
   ],
   "source": [
    "os.listdir(path)"
   ]
  },
  {
   "cell_type": "code",
   "execution_count": 6,
   "id": "c52ab99f-41d2-4b7f-a179-90681a8a0a81",
   "metadata": {},
   "outputs": [],
   "source": [
    "train = list(os.listdir(path+'train'))\n",
    "test = list(os.listdir(path+'test'))"
   ]
  },
  {
   "cell_type": "code",
   "execution_count": 7,
   "id": "21aa39ee-b25f-4bdc-950a-9389eb93765a",
   "metadata": {},
   "outputs": [],
   "source": [
    "sources = ['drum', 'bass', 'other', 'vocals']"
   ]
  },
  {
   "cell_type": "code",
   "execution_count": 8,
   "id": "f07f7f9c-2d6b-42b9-b5ac-0f4bd9aeb6a7",
   "metadata": {},
   "outputs": [
    {
     "name": "stderr",
     "output_type": "stream",
     "text": [
      "50it [00:00, 3972.41it/s]\n"
     ]
    }
   ],
   "source": [
    "all_scenes = {}\n",
    "counter = 0\n",
    "sample_rate = 44100\n",
    "segment_length = sample_rate * 1\n",
    "\n",
    "for idx, val in tqdm(enumerate(test)):\n",
    "    p = path + 'test/' + val + \"/\"\n",
    "    info = torchaudio.info(f\"{p}mixture.wav\")\n",
    "    seconds = info.num_frames // 44100\n",
    "    for i in range(0, seconds - 1, 1):\n",
    "        start_point = i * 44100\n",
    "        if start_point + 44100 < info.num_frames:\n",
    "            all_scenes[counter] = {'music_path': p, 'start_point': start_point, 'length': 44100, 'frames' : info.num_frames}\n",
    "            counter += 1"
   ]
  },
  {
   "cell_type": "code",
   "execution_count": 9,
   "id": "d6d4eb9a-f08d-4452-a4ad-b9769a218278",
   "metadata": {},
   "outputs": [],
   "source": [
    "def turn_transcription_into_roll(transcription, frames, threshold=1.0):\n",
    "    \"\"\"\n",
    "    Convert transcription into a piano roll, selectively including notes based on a threshold.\n",
    "    \n",
    "    Args:\n",
    "        transcription (music21.stream.Score): The transcription data.\n",
    "        frames (int): The number of frames in the output roll.\n",
    "        threshold (float): The threshold for including a note (0.0 to 1.0).\n",
    "    \n",
    "    Returns:\n",
    "        np.ndarray: The piano roll representation of the transcription.\n",
    "    \"\"\"\n",
    "    # Determine your sampling frequency (frames per second)\n",
    "    fs = 44100\n",
    "    \n",
    "    piano_roll_length = int(frames)\n",
    "    \n",
    "    # Initialize the piano roll array\n",
    "    piano_roll = np.zeros((64, piano_roll_length))\n",
    "    \n",
    "    # Fill in the piano roll array\n",
    "    for note in transcription.instruments[0].notes:\n",
    "        # Convert start and end times to frame indices\n",
    "        start_frame = int(np.floor(note.start * fs))\n",
    "        end_frame = int(np.ceil(note.end * fs))\n",
    "        \n",
    "        # Set the corresponding frames to 1 (or note.velocity for a velocity-sensitive representation)\n",
    "        piano_roll[note.pitch, start_frame:end_frame] = 1  # Or use note.velocity\n",
    "        \n",
    "    roll = np.vstack([\n",
    "        piano_roll[35:36, :],  # Kick\n",
    "        piano_roll[38:39, :],  # Snare\n",
    "        piano_roll[42:43, :],  # Hi-hat closed\n",
    "        piano_roll[47:48, :],  # Hi-hat open\n",
    "        piano_roll[49:50, :]   # Crash\n",
    "    ])\n",
    "    \n",
    "    return roll\n"
   ]
  },
  {
   "cell_type": "markdown",
   "id": "20988d30-a95e-4dca-ac19-a6f7cea95717",
   "metadata": {},
   "source": [
    "# model"
   ]
  },
  {
   "cell_type": "code",
   "execution_count": 10,
   "id": "b72a57b5-7115-421d-b26e-3ca3d21fef5d",
   "metadata": {},
   "outputs": [],
   "source": [
    "class DrumDemucs(pl.LightningModule):\n",
    "    def __init__(self):\n",
    "        super(DrumDemucs, self).__init__()\n",
    "\n",
    "        self.loss_fn = auraloss.freq.MultiResolutionSTFTLoss(\n",
    "                    fft_sizes=[1024, 2048, 4096],\n",
    "                    hop_sizes=[256, 512, 1024],\n",
    "                    win_lengths=[1024, 2048, 4096],\n",
    "                    scale=\"mel\", \n",
    "                    n_bins=150,\n",
    "                    sample_rate=44100,\n",
    "                    device=\"cuda\"\n",
    "                )\n",
    "\n",
    "        self.loss_fn_2 = auraloss.time.SISDRLoss()\n",
    "\n",
    "        self.loss_fn_3 = torch.nn.L1Loss()\n",
    "\n",
    "        self.loss_used = 0\n",
    "\n",
    "        sources = ['drum',\n",
    "                   'noise',\n",
    "                   ]\n",
    "        \n",
    "        self.demucs_mixer =  torchaudio.models.HDemucs(\n",
    "            sources=sources,\n",
    "            audio_channels=7,\n",
    "            depth=6,\n",
    "        )\n",
    "\n",
    "        self.out_conv = nn.Conv1d(in_channels=7, out_channels=2, kernel_size=1)\n",
    "        self.out = nn.Conv1d(in_channels=2, out_channels=2, kernel_size=1)      \n",
    "\n",
    "\n",
    "    def compute_loss(self, outputs, ref_signals):\n",
    "        loss = self.loss_fn(outputs, ref_signals) + self.loss_fn_2(outputs, ref_signals) +  self.loss_fn_3(outputs, ref_signals)\n",
    "        return loss\n",
    "\n",
    "    def forward(self, audio, drumroll):\n",
    "        to_mix = torch.cat([audio, drumroll], axis=1)\n",
    "        out = self.demucs_mixer(to_mix)\n",
    "        out_2 = self.out_conv(out[:, 0, :, :])\n",
    "        out_2 = self.out(out_2)\n",
    "        # out_2 = torch.tanh(out_2)\n",
    "\n",
    "        return out_2\n",
    "    \n",
    "    def training_step(self, batch, batch_idx):\n",
    "        # training_step defines the train loop. It is independent of forward\n",
    "        audio, drum, drumroll = batch\n",
    "        \n",
    "        outputs = self.forward(audio, drumroll)\n",
    "        # print(outputs.size())\n",
    "\n",
    "        if batch_idx % 64 == 0:\n",
    "            input_signal = audio[0].cpu().detach().numpy().T\n",
    "            generated_signal = outputs[0].cpu().detach().numpy().T\n",
    "            drum_signal = drum[0].cpu().detach().numpy().T \n",
    "            wandb.log({'audio_input': [wandb.Audio(input_signal, caption=\"Input\", sample_rate=44100)]})\n",
    "            wandb.log({'audio_reference': [wandb.Audio(drum_signal, caption=\"Reference\", sample_rate=44100)]})\n",
    "            wandb.log({'audio_output': [wandb.Audio(generated_signal, caption=\"Output\", sample_rate=44100)]})\n",
    "             \n",
    "            for i in range(5):\n",
    "                wandb.log({f'drum_{i + 1}': [wandb.Audio(drumroll[0].cpu().detach().numpy()[i, :], caption=\"Output\", sample_rate=44100)]})\n",
    "\n",
    "\n",
    "        loss = self.compute_loss(outputs, drum)         \n",
    "\n",
    "        self.log('train_loss', loss, on_step=True, on_epoch=True, prog_bar=True, logger=True)\n",
    "        \n",
    "        return loss\n",
    "    \n",
    "\n",
    "    def configure_optimizers(self):\n",
    "        # Define your optimizer and optionally learning rate scheduler here\n",
    "        optimizer = optim.Adam(self.parameters(), lr=0.001)\n",
    "        scheduler = lr_scheduler.StepLR(optimizer, step_size=1, gamma=0.99)\n",
    "        return [optimizer], [scheduler]\n",
    "        "
   ]
  },
  {
   "cell_type": "code",
   "execution_count": 11,
   "id": "79d11190-4e68-41f8-ae19-36d8199c1643",
   "metadata": {},
   "outputs": [],
   "source": [
    "def load_audio(path, start_point, filename):\n",
    "    audio_tensors = []\n",
    "    waveform, _ = torchaudio.load(f\"{path}/{filename}\")\n",
    "    return waveform\n",
    "\n",
    "def load_roll(path, start_point, frames, threshold=1.0):\n",
    "    midi = path + '/mixture.wav.mid'\n",
    "    transcription = pretty_midi.PrettyMIDI(midi)\n",
    "    roll = turn_transcription_into_roll(transcription, frames, threshold)\n",
    "\n",
    "    return torch.from_numpy(roll).float()\n"
   ]
  },
  {
   "cell_type": "markdown",
   "id": "28a00457-307d-4743-9784-9f4cdae73730",
   "metadata": {},
   "source": [
    "# SISNR"
   ]
  },
  {
   "cell_type": "code",
   "execution_count": 12,
   "id": "3873fcee-a3cb-4975-98f5-fc50e77883fa",
   "metadata": {},
   "outputs": [],
   "source": [
    "def separate_sources(\n",
    "    model,\n",
    "    mix,\n",
    "    drumroll,\n",
    "    method=0,\n",
    "    segment=4.0,\n",
    "    overlap=0,\n",
    "    device=None,\n",
    "):\n",
    "    \"\"\"\n",
    "    Apply model to a given mixture. Use fade, and add segments together in order to add model segment by segment.\n",
    "\n",
    "    Args:\n",
    "        segment (int): segment length in seconds\n",
    "        device (torch.device, str, or None): if provided, device on which to\n",
    "            execute the computation, otherwise `mix.device` is assumed.\n",
    "            When `device` is different from `mix.device`, only local computations will\n",
    "            be on `device`, while the entire tracks will be stored on `mix.device`.\n",
    "    \"\"\"\n",
    "    if device is None:\n",
    "        device = mix.device\n",
    "    else:\n",
    "        device = torch.device(device)\n",
    "\n",
    "    batch, channels, length = mix.shape\n",
    "\n",
    "    chunk_len = int(sample_rate * segment * (1 + overlap))\n",
    "    start = 0\n",
    "    end = chunk_len\n",
    "    overlap_frames = overlap * sample_rate\n",
    "    fade = Fade(fade_in_len=0, fade_out_len=int(overlap_frames), fade_shape=\"linear\")\n",
    "\n",
    "    final = torch.zeros(batch, channels, length, device=device)\n",
    "\n",
    "    while start < length - overlap_frames:\n",
    "        chunk = mix[:, :, start:end]\n",
    "        roll = drumroll[:, :, start:end]\n",
    "\n",
    "        if method < 5:\n",
    "            for m in range(5):\n",
    "                if m != method:\n",
    "                    roll[:, m, :] = 0\n",
    "        else:\n",
    "            if method == 5:\n",
    "                chunk[:,:,:] = 0\n",
    "            elif method == 6:\n",
    "                chunk[:,:,:] = 1\n",
    "            \n",
    "        with torch.no_grad():\n",
    "            out = model.forward(chunk, roll)\n",
    "        # print(out.shape)\n",
    "        out = fade(out)\n",
    "        # print(out.shape)\n",
    "        try:\n",
    "            final[:, :, start:end] += out\n",
    "        except:\n",
    "            pass\n",
    "        if start == 0:\n",
    "            fade.fade_in_len = int(overlap_frames)\n",
    "            start += int(chunk_len - overlap_frames)\n",
    "        else:\n",
    "            start += chunk_len\n",
    "        end += chunk_len\n",
    "        if end >= length:\n",
    "            fade.fade_out_len = 0\n",
    "    return final"
   ]
  },
  {
   "cell_type": "code",
   "execution_count": 13,
   "id": "b97a63a5-d58e-47db-9768-e063efd5da5a",
   "metadata": {},
   "outputs": [],
   "source": [
    "class AudioData:\n",
    "    def __init__(self, audio):\n",
    "        self.audio = audio"
   ]
  },
  {
   "cell_type": "code",
   "execution_count": 14,
   "id": "0bc5296c-89cf-4321-98dd-5ed9ca7d325a",
   "metadata": {},
   "outputs": [],
   "source": [
    "duration = 64 * 44100"
   ]
  },
  {
   "cell_type": "code",
   "execution_count": 15,
   "id": "bcf06e62-3267-4faf-838f-70f14be50e92",
   "metadata": {},
   "outputs": [
    {
     "name": "stderr",
     "output_type": "stream",
     "text": [
      "  2%|███▋                                                                                                                                                                                       | 1/50 [00:10<08:31, 10.44s/it]"
     ]
    },
    {
     "name": "stdout",
     "output_type": "stream",
     "text": [
      "drums           ==> SDR:   7.701  SIR: 201.036  ISR:  11.443  SAR:   7.441  \n",
      "bass            ==> SDR:   7.701  SIR: 201.036  ISR:  11.443  SAR:   7.441  \n",
      "\n"
     ]
    },
    {
     "name": "stderr",
     "output_type": "stream",
     "text": [
      "  4%|███████▍                                                                                                                                                                                   | 2/50 [00:20<07:58,  9.97s/it]"
     ]
    },
    {
     "name": "stdout",
     "output_type": "stream",
     "text": [
      "drums           ==> SDR:   2.464  SIR: 175.601  ISR:   4.647  SAR:  -0.297  \n",
      "bass            ==> SDR:   2.464  SIR: 175.601  ISR:   4.647  SAR:  -0.297  \n",
      "\n"
     ]
    },
    {
     "name": "stderr",
     "output_type": "stream",
     "text": [
      "  6%|███████████▏                                                                                                                                                                               | 3/50 [00:29<07:34,  9.66s/it]"
     ]
    },
    {
     "name": "stdout",
     "output_type": "stream",
     "text": [
      "drums           ==> SDR:   4.627  SIR: 232.945  ISR:   7.676  SAR:   4.760  \n",
      "bass            ==> SDR:   4.627  SIR: 232.945  ISR:   7.676  SAR:   4.760  \n",
      "\n"
     ]
    },
    {
     "name": "stderr",
     "output_type": "stream",
     "text": [
      "  8%|██████████████▉                                                                                                                                                                            | 4/50 [00:38<07:17,  9.52s/it]"
     ]
    },
    {
     "name": "stdout",
     "output_type": "stream",
     "text": [
      "drums           ==> SDR:   3.020  SIR: 220.715  ISR:   9.517  SAR:   1.023  \n",
      "bass            ==> SDR:   3.020  SIR: 220.715  ISR:   9.517  SAR:   1.023  \n",
      "\n"
     ]
    },
    {
     "name": "stderr",
     "output_type": "stream",
     "text": [
      " 10%|██████████████████▋                                                                                                                                                                        | 5/50 [00:48<07:08,  9.53s/it]"
     ]
    },
    {
     "name": "stdout",
     "output_type": "stream",
     "text": [
      "drums           ==> SDR:   7.351  SIR: 193.553  ISR:  11.243  SAR:   7.086  \n",
      "bass            ==> SDR:   7.351  SIR: 193.553  ISR:  11.243  SAR:   7.086  \n",
      "\n"
     ]
    },
    {
     "name": "stderr",
     "output_type": "stream",
     "text": [
      " 12%|██████████████████████▍                                                                                                                                                                    | 6/50 [00:57<06:55,  9.44s/it]"
     ]
    },
    {
     "name": "stdout",
     "output_type": "stream",
     "text": [
      "drums           ==> SDR:   4.870  SIR: 232.397  ISR:   8.424  SAR:   4.045  \n",
      "bass            ==> SDR:   4.870  SIR: 232.397  ISR:   8.424  SAR:   4.045  \n",
      "\n"
     ]
    },
    {
     "name": "stderr",
     "output_type": "stream",
     "text": [
      " 14%|██████████████████████████▏                                                                                                                                                                | 7/50 [01:06<06:42,  9.37s/it]"
     ]
    },
    {
     "name": "stdout",
     "output_type": "stream",
     "text": [
      "drums           ==> SDR:   3.777  SIR: 220.917  ISR:   6.032  SAR:   2.489  \n",
      "bass            ==> SDR:   3.777  SIR: 220.917  ISR:   6.032  SAR:   2.489  \n",
      "\n"
     ]
    },
    {
     "name": "stderr",
     "output_type": "stream",
     "text": [
      " 16%|█████████████████████████████▉                                                                                                                                                             | 8/50 [01:16<06:34,  9.40s/it]"
     ]
    },
    {
     "name": "stdout",
     "output_type": "stream",
     "text": [
      "drums           ==> SDR:   2.821  SIR: 242.107  ISR:   6.348  SAR:   0.645  \n",
      "bass            ==> SDR:   2.821  SIR: 242.107  ISR:   6.348  SAR:   0.645  \n",
      "\n"
     ]
    },
    {
     "name": "stderr",
     "output_type": "stream",
     "text": [
      " 18%|█████████████████████████████████▋                                                                                                                                                         | 9/50 [01:25<06:25,  9.40s/it]"
     ]
    },
    {
     "name": "stdout",
     "output_type": "stream",
     "text": [
      "drums           ==> SDR:   4.967  SIR: 166.834  ISR:   7.630  SAR:   5.262  \n",
      "bass            ==> SDR:   4.967  SIR: 166.834  ISR:   7.630  SAR:   5.262  \n",
      "\n"
     ]
    },
    {
     "name": "stderr",
     "output_type": "stream",
     "text": [
      " 20%|█████████████████████████████████████▏                                                                                                                                                    | 10/50 [01:35<06:16,  9.41s/it]"
     ]
    },
    {
     "name": "stdout",
     "output_type": "stream",
     "text": [
      "drums           ==> SDR:  -2.159  SIR: 175.539  ISR:   4.589  SAR:  -6.438  \n",
      "bass            ==> SDR:  -2.159  SIR: 175.539  ISR:   4.589  SAR:  -6.438  \n",
      "\n"
     ]
    },
    {
     "name": "stderr",
     "output_type": "stream",
     "text": [
      " 22%|████████████████████████████████████████▉                                                                                                                                                 | 11/50 [01:44<06:11,  9.54s/it]"
     ]
    },
    {
     "name": "stdout",
     "output_type": "stream",
     "text": [
      "drums           ==> SDR:   8.344  SIR: 216.062  ISR:  12.836  SAR:   8.498  \n",
      "bass            ==> SDR:   8.344  SIR: 216.062  ISR:  12.836  SAR:   8.498  \n",
      "\n"
     ]
    },
    {
     "name": "stderr",
     "output_type": "stream",
     "text": [
      " 24%|████████████████████████████████████████████▋                                                                                                                                             | 12/50 [01:54<06:06,  9.64s/it]"
     ]
    },
    {
     "name": "stdout",
     "output_type": "stream",
     "text": [
      "drums           ==> SDR:   3.794  SIR: 217.619  ISR:   4.902  SAR:   4.598  \n",
      "bass            ==> SDR:   3.794  SIR: 217.619  ISR:   4.902  SAR:   4.598  \n",
      "\n"
     ]
    },
    {
     "name": "stderr",
     "output_type": "stream",
     "text": [
      " 26%|████████████████████████████████████████████████▎                                                                                                                                         | 13/50 [02:03<05:45,  9.33s/it]"
     ]
    },
    {
     "name": "stdout",
     "output_type": "stream",
     "text": [
      "drums           ==> SDR:   1.929  SIR:  85.138  ISR:   2.826  SAR:  -0.618  \n",
      "bass            ==> SDR:   1.929  SIR:  85.138  ISR:   2.826  SAR:  -0.618  \n",
      "\n"
     ]
    },
    {
     "name": "stderr",
     "output_type": "stream",
     "text": [
      " 28%|████████████████████████████████████████████████████                                                                                                                                      | 14/50 [02:13<05:42,  9.52s/it]"
     ]
    },
    {
     "name": "stdout",
     "output_type": "stream",
     "text": [
      "drums           ==> SDR:   5.560  SIR: 210.075  ISR:   7.750  SAR:   6.155  \n",
      "bass            ==> SDR:   5.560  SIR: 210.075  ISR:   7.750  SAR:   6.155  \n",
      "\n"
     ]
    },
    {
     "name": "stderr",
     "output_type": "stream",
     "text": [
      " 30%|███████████████████████████████████████████████████████▊                                                                                                                                  | 15/50 [02:23<05:39,  9.69s/it]"
     ]
    },
    {
     "name": "stdout",
     "output_type": "stream",
     "text": [
      "drums           ==> SDR:   5.680  SIR: 222.808  ISR:   8.666  SAR:   4.782  \n",
      "bass            ==> SDR:   5.680  SIR: 222.808  ISR:   8.666  SAR:   4.782  \n",
      "\n"
     ]
    },
    {
     "name": "stderr",
     "output_type": "stream",
     "text": [
      " 32%|███████████████████████████████████████████████████████████▌                                                                                                                              | 16/50 [02:32<05:27,  9.62s/it]"
     ]
    },
    {
     "name": "stdout",
     "output_type": "stream",
     "text": [
      "drums           ==> SDR:   5.048  SIR: 218.372  ISR:  11.017  SAR:   3.763  \n",
      "bass            ==> SDR:   5.048  SIR: 218.372  ISR:  11.017  SAR:   3.763  \n",
      "\n"
     ]
    },
    {
     "name": "stderr",
     "output_type": "stream",
     "text": [
      " 34%|███████████████████████████████████████████████████████████████▏                                                                                                                          | 17/50 [02:42<05:20,  9.71s/it]"
     ]
    },
    {
     "name": "stdout",
     "output_type": "stream",
     "text": [
      "drums           ==> SDR:   1.359  SIR: 224.230  ISR:   3.771  SAR:  -2.683  \n",
      "bass            ==> SDR:   1.359  SIR: 224.230  ISR:   3.771  SAR:  -2.683  \n",
      "\n"
     ]
    },
    {
     "name": "stderr",
     "output_type": "stream",
     "text": [
      " 36%|██████████████████████████████████████████████████████████████████▉                                                                                                                       | 18/50 [02:52<05:12,  9.76s/it]"
     ]
    },
    {
     "name": "stdout",
     "output_type": "stream",
     "text": [
      "drums           ==> SDR:   7.333  SIR: 208.607  ISR:  10.341  SAR:   7.975  \n",
      "bass            ==> SDR:   7.333  SIR: 208.607  ISR:  10.341  SAR:   7.975  \n",
      "\n"
     ]
    },
    {
     "name": "stderr",
     "output_type": "stream",
     "text": [
      " 38%|██████████████████████████████████████████████████████████████████████▋                                                                                                                   | 19/50 [03:02<05:04,  9.82s/it]"
     ]
    },
    {
     "name": "stdout",
     "output_type": "stream",
     "text": [
      "drums           ==> SDR:  11.257  SIR: 217.872  ISR:  16.446  SAR:  11.994  \n",
      "bass            ==> SDR:  11.257  SIR: 217.872  ISR:  16.446  SAR:  11.994  \n",
      "\n"
     ]
    },
    {
     "name": "stderr",
     "output_type": "stream",
     "text": [
      " 40%|██████████████████████████████████████████████████████████████████████████▍                                                                                                               | 20/50 [03:11<04:49,  9.66s/it]"
     ]
    },
    {
     "name": "stdout",
     "output_type": "stream",
     "text": [
      "drums           ==> SDR:   7.969  SIR: 219.989  ISR:  10.076  SAR:   8.930  \n",
      "bass            ==> SDR:   7.969  SIR: 219.989  ISR:  10.076  SAR:   8.930  \n",
      "\n"
     ]
    },
    {
     "name": "stderr",
     "output_type": "stream",
     "text": [
      " 42%|██████████████████████████████████████████████████████████████████████████████                                                                                                            | 21/50 [03:21<04:42,  9.73s/it]"
     ]
    },
    {
     "name": "stdout",
     "output_type": "stream",
     "text": [
      "drums           ==> SDR:   5.360  SIR: 178.950  ISR:   6.819  SAR:   7.169  \n",
      "bass            ==> SDR:   5.360  SIR: 178.950  ISR:   6.819  SAR:   7.169  \n",
      "\n"
     ]
    },
    {
     "name": "stderr",
     "output_type": "stream",
     "text": [
      " 44%|█████████████████████████████████████████████████████████████████████████████████▊                                                                                                        | 22/50 [03:31<04:28,  9.58s/it]"
     ]
    },
    {
     "name": "stdout",
     "output_type": "stream",
     "text": [
      "drums           ==> SDR:  -2.253  SIR: 269.757  ISR:   0.368  SAR: -16.164  \n",
      "bass            ==> SDR:  -2.253  SIR: 269.757  ISR:   0.368  SAR: -16.164  \n",
      "\n"
     ]
    },
    {
     "name": "stderr",
     "output_type": "stream",
     "text": [
      " 46%|█████████████████████████████████████████████████████████████████████████████████████▌                                                                                                    | 23/50 [03:39<04:12,  9.36s/it]"
     ]
    },
    {
     "name": "stdout",
     "output_type": "stream",
     "text": [
      "drums           ==> SDR:   3.449  SIR: 163.709  ISR:   5.566  SAR:   1.730  \n",
      "bass            ==> SDR:   3.449  SIR: 163.709  ISR:   5.566  SAR:   1.730  \n",
      "\n"
     ]
    },
    {
     "name": "stderr",
     "output_type": "stream",
     "text": [
      " 48%|█████████████████████████████████████████████████████████████████████████████████████████▎                                                                                                | 24/50 [03:49<04:01,  9.30s/it]"
     ]
    },
    {
     "name": "stdout",
     "output_type": "stream",
     "text": [
      "drums           ==> SDR:   4.567  SIR: 134.641  ISR:   8.652  SAR:   5.071  \n",
      "bass            ==> SDR:   4.567  SIR: 134.641  ISR:   8.652  SAR:   5.071  \n",
      "\n"
     ]
    },
    {
     "name": "stderr",
     "output_type": "stream",
     "text": [
      " 50%|█████████████████████████████████████████████████████████████████████████████████████████████                                                                                             | 25/50 [03:58<03:52,  9.32s/it]"
     ]
    },
    {
     "name": "stdout",
     "output_type": "stream",
     "text": [
      "drums           ==> SDR:   2.782  SIR: 228.685  ISR:   5.248  SAR:   2.227  \n",
      "bass            ==> SDR:   2.782  SIR: 228.685  ISR:   5.248  SAR:   2.227  \n",
      "\n"
     ]
    },
    {
     "name": "stderr",
     "output_type": "stream",
     "text": [
      " 52%|████████████████████████████████████████████████████████████████████████████████████████████████▋                                                                                         | 26/50 [04:07<03:41,  9.23s/it]"
     ]
    },
    {
     "name": "stdout",
     "output_type": "stream",
     "text": [
      "drums           ==> SDR:  10.365  SIR: 178.756  ISR:  14.991  SAR:  10.521  \n",
      "bass            ==> SDR:  10.365  SIR: 178.756  ISR:  14.991  SAR:  10.521  \n",
      "\n"
     ]
    },
    {
     "name": "stderr",
     "output_type": "stream",
     "text": [
      " 54%|████████████████████████████████████████████████████████████████████████████████████████████████████▍                                                                                     | 27/50 [04:16<03:31,  9.19s/it]"
     ]
    },
    {
     "name": "stdout",
     "output_type": "stream",
     "text": [
      "drums           ==> SDR:   7.308  SIR: 180.745  ISR:  12.108  SAR:   6.972  \n",
      "bass            ==> SDR:   7.308  SIR: 180.745  ISR:  12.108  SAR:   6.972  \n",
      "\n"
     ]
    },
    {
     "name": "stderr",
     "output_type": "stream",
     "text": [
      " 56%|████████████████████████████████████████████████████████████████████████████████████████████████████████▏                                                                                 | 28/50 [04:25<03:22,  9.22s/it]"
     ]
    },
    {
     "name": "stdout",
     "output_type": "stream",
     "text": [
      "drums           ==> SDR:   7.960  SIR: 206.784  ISR:  11.181  SAR:   8.404  \n",
      "bass            ==> SDR:   7.960  SIR: 206.784  ISR:  11.181  SAR:   8.404  \n",
      "\n"
     ]
    },
    {
     "name": "stderr",
     "output_type": "stream",
     "text": [
      " 58%|███████████████████████████████████████████████████████████████████████████████████████████████████████████▉                                                                              | 29/50 [04:35<03:18,  9.44s/it]"
     ]
    },
    {
     "name": "stdout",
     "output_type": "stream",
     "text": [
      "drums           ==> SDR:   4.911  SIR: 197.092  ISR:   6.726  SAR:   6.460  \n",
      "bass            ==> SDR:   4.911  SIR: 197.092  ISR:   6.726  SAR:   6.460  \n",
      "\n"
     ]
    },
    {
     "name": "stderr",
     "output_type": "stream",
     "text": [
      " 60%|███████████████████████████████████████████████████████████████████████████████████████████████████████████████▌                                                                          | 30/50 [04:45<03:10,  9.50s/it]"
     ]
    },
    {
     "name": "stdout",
     "output_type": "stream",
     "text": [
      "drums           ==> SDR:   5.413  SIR: 214.940  ISR:   8.182  SAR:   4.827  \n",
      "bass            ==> SDR:   5.413  SIR: 214.940  ISR:   8.182  SAR:   4.827  \n",
      "\n"
     ]
    },
    {
     "name": "stderr",
     "output_type": "stream",
     "text": [
      " 62%|███████████████████████████████████████████████████████████████████████████████████████████████████████████████████▎                                                                      | 31/50 [04:55<03:03,  9.68s/it]"
     ]
    },
    {
     "name": "stdout",
     "output_type": "stream",
     "text": [
      "drums           ==> SDR:   2.469  SIR: 190.305  ISR:   7.156  SAR:   0.890  \n",
      "bass            ==> SDR:   2.469  SIR: 190.305  ISR:   7.156  SAR:   0.890  \n",
      "\n"
     ]
    },
    {
     "name": "stderr",
     "output_type": "stream",
     "text": [
      " 64%|███████████████████████████████████████████████████████████████████████████████████████████████████████████████████████                                                                   | 32/50 [05:04<02:52,  9.59s/it]"
     ]
    },
    {
     "name": "stdout",
     "output_type": "stream",
     "text": [
      "drums           ==> SDR:   1.269  SIR: 191.054  ISR:   4.569  SAR:  -0.018  \n",
      "bass            ==> SDR:   1.269  SIR: 191.054  ISR:   4.569  SAR:  -0.018  \n",
      "\n"
     ]
    },
    {
     "name": "stderr",
     "output_type": "stream",
     "text": [
      " 66%|██████████████████████████████████████████████████████████████████████████████████████████████████████████████████████████▊                                                               | 33/50 [05:14<02:42,  9.57s/it]"
     ]
    },
    {
     "name": "stdout",
     "output_type": "stream",
     "text": [
      "drums           ==> SDR:   2.326  SIR: 219.645  ISR:   4.484  SAR:   0.566  \n",
      "bass            ==> SDR:   2.326  SIR: 219.645  ISR:   4.484  SAR:   0.566  \n",
      "\n"
     ]
    },
    {
     "name": "stderr",
     "output_type": "stream",
     "text": [
      " 68%|██████████████████████████████████████████████████████████████████████████████████████████████████████████████████████████████▍                                                           | 34/50 [05:23<02:32,  9.54s/it]"
     ]
    },
    {
     "name": "stdout",
     "output_type": "stream",
     "text": [
      "drums           ==> SDR:   3.945  SIR: 248.484  ISR:   7.020  SAR:   2.886  \n",
      "bass            ==> SDR:   3.945  SIR: 248.484  ISR:   7.020  SAR:   2.886  \n",
      "\n"
     ]
    },
    {
     "name": "stderr",
     "output_type": "stream",
     "text": [
      " 70%|██████████████████████████████████████████████████████████████████████████████████████████████████████████████████████████████████▏                                                       | 35/50 [05:33<02:24,  9.62s/it]"
     ]
    },
    {
     "name": "stdout",
     "output_type": "stream",
     "text": [
      "drums           ==> SDR:   7.613  SIR: 213.550  ISR:  10.896  SAR:   8.882  \n",
      "bass            ==> SDR:   7.613  SIR: 213.550  ISR:  10.896  SAR:   8.882  \n",
      "\n"
     ]
    },
    {
     "name": "stderr",
     "output_type": "stream",
     "text": [
      " 72%|█████████████████████████████████████████████████████████████████████████████████████████████████████████████████████████████████████▉                                                    | 36/50 [05:43<02:16,  9.72s/it]"
     ]
    },
    {
     "name": "stdout",
     "output_type": "stream",
     "text": [
      "drums           ==> SDR:   2.012  SIR: 207.881  ISR:   5.361  SAR:  -0.663  \n",
      "bass            ==> SDR:   2.012  SIR: 207.881  ISR:   5.361  SAR:  -0.663  \n",
      "\n"
     ]
    },
    {
     "name": "stderr",
     "output_type": "stream",
     "text": [
      " 74%|█████████████████████████████████████████████████████████████████████████████████████████████████████████████████████████████████████████▋                                                | 37/50 [05:54<02:09,  9.98s/it]"
     ]
    },
    {
     "name": "stdout",
     "output_type": "stream",
     "text": [
      "drums           ==> SDR:   0.459  SIR: 203.535  ISR:   7.987  SAR:  -0.048  \n",
      "bass            ==> SDR:   0.459  SIR: 203.535  ISR:   7.987  SAR:  -0.048  \n",
      "\n"
     ]
    },
    {
     "name": "stderr",
     "output_type": "stream",
     "text": [
      " 76%|█████████████████████████████████████████████████████████████████████████████████████████████████████████████████████████████████████████████▎                                            | 38/50 [06:04<01:59,  9.95s/it]"
     ]
    },
    {
     "name": "stdout",
     "output_type": "stream",
     "text": [
      "drums           ==> SDR:   8.061  SIR: 227.468  ISR:  10.330  SAR:   6.952  \n",
      "bass            ==> SDR:   8.061  SIR: 227.468  ISR:  10.330  SAR:   6.952  \n",
      "\n"
     ]
    },
    {
     "name": "stderr",
     "output_type": "stream",
     "text": [
      " 78%|█████████████████████████████████████████████████████████████████████████████████████████████████████████████████████████████████████████████████                                         | 39/50 [06:14<01:49,  9.96s/it]"
     ]
    },
    {
     "name": "stdout",
     "output_type": "stream",
     "text": [
      "drums           ==> SDR:   3.754  SIR: 228.152  ISR:   5.099  SAR:   4.963  \n",
      "bass            ==> SDR:   3.754  SIR: 228.152  ISR:   5.099  SAR:   4.963  \n",
      "\n"
     ]
    },
    {
     "name": "stderr",
     "output_type": "stream",
     "text": [
      " 80%|████████████████████████████████████████████████████████████████████████████████████████████████████████████████████████████████████████████████████▊                                     | 40/50 [06:24<01:40, 10.01s/it]"
     ]
    },
    {
     "name": "stdout",
     "output_type": "stream",
     "text": [
      "drums           ==> SDR:   2.298  SIR: 174.643  ISR:   3.254  SAR:   1.151  \n",
      "bass            ==> SDR:   2.298  SIR: 174.643  ISR:   3.254  SAR:   1.151  \n",
      "\n"
     ]
    },
    {
     "name": "stderr",
     "output_type": "stream",
     "text": [
      " 82%|████████████████████████████████████████████████████████████████████████████████████████████████████████████████████████████████████████████████████████▌                                 | 41/50 [06:34<01:30, 10.01s/it]"
     ]
    },
    {
     "name": "stdout",
     "output_type": "stream",
     "text": [
      "drums           ==> SDR:   6.002  SIR: 178.477  ISR:  11.827  SAR:   6.105  \n",
      "bass            ==> SDR:   6.002  SIR: 178.477  ISR:  11.827  SAR:   6.105  \n",
      "\n"
     ]
    },
    {
     "name": "stderr",
     "output_type": "stream",
     "text": [
      " 84%|████████████████████████████████████████████████████████████████████████████████████████████████████████████████████████████████████████████████████████████▏                             | 42/50 [06:44<01:20, 10.10s/it]"
     ]
    },
    {
     "name": "stdout",
     "output_type": "stream",
     "text": [
      "drums           ==> SDR:   6.128  SIR: 121.309  ISR:  10.166  SAR:   5.881  \n",
      "bass            ==> SDR:   6.128  SIR: 121.309  ISR:  10.166  SAR:   5.881  \n",
      "\n"
     ]
    },
    {
     "name": "stderr",
     "output_type": "stream",
     "text": [
      " 86%|███████████████████████████████████████████████████████████████████████████████████████████████████████████████████████████████████████████████████████████████▉                          | 43/50 [06:53<01:09,  9.92s/it]"
     ]
    },
    {
     "name": "stdout",
     "output_type": "stream",
     "text": [
      "drums           ==> SDR:   3.043  SIR: 170.257  ISR:   5.058  SAR:   1.234  \n",
      "bass            ==> SDR:   3.043  SIR: 170.257  ISR:   5.058  SAR:   1.234  \n",
      "\n"
     ]
    },
    {
     "name": "stderr",
     "output_type": "stream",
     "text": [
      " 88%|███████████████████████████████████████████████████████████████████████████████████████████████████████████████████████████████████████████████████████████████████▋                      | 44/50 [07:02<00:57,  9.52s/it]"
     ]
    },
    {
     "name": "stdout",
     "output_type": "stream",
     "text": [
      "drums           ==> SDR:   5.233  SIR: 216.468  ISR:   9.869  SAR:   4.697  \n",
      "bass            ==> SDR:   5.233  SIR: 216.468  ISR:   9.869  SAR:   4.697  \n",
      "\n"
     ]
    },
    {
     "name": "stderr",
     "output_type": "stream",
     "text": [
      " 90%|███████████████████████████████████████████████████████████████████████████████████████████████████████████████████████████████████████████████████████████████████████▍                  | 45/50 [07:11<00:47,  9.48s/it]"
     ]
    },
    {
     "name": "stdout",
     "output_type": "stream",
     "text": [
      "drums           ==> SDR:   0.287  SIR: 205.022  ISR:   0.671  SAR:   0.400  \n",
      "bass            ==> SDR:   0.287  SIR: 205.022  ISR:   0.671  SAR:   0.400  \n",
      "\n"
     ]
    },
    {
     "name": "stderr",
     "output_type": "stream",
     "text": [
      " 92%|███████████████████████████████████████████████████████████████████████████████████████████████████████████████████████████████████████████████████████████████████████████               | 46/50 [07:21<00:37,  9.44s/it]"
     ]
    },
    {
     "name": "stdout",
     "output_type": "stream",
     "text": [
      "drums           ==> SDR:   2.172  SIR: 209.495  ISR:   3.774  SAR:  -0.104  \n",
      "bass            ==> SDR:   2.172  SIR: 209.495  ISR:   3.774  SAR:  -0.104  \n",
      "\n"
     ]
    },
    {
     "name": "stderr",
     "output_type": "stream",
     "text": [
      " 94%|██████████████████████████████████████████████████████████████████████████████████████████████████████████████████████████████████████████████████████████████████████████████▊           | 47/50 [07:29<00:27,  9.19s/it]"
     ]
    },
    {
     "name": "stdout",
     "output_type": "stream",
     "text": [
      "drums           ==> SDR:   4.675  SIR: 168.250  ISR:   6.631  SAR:   3.503  \n",
      "bass            ==> SDR:   4.675  SIR: 168.250  ISR:   6.631  SAR:   3.503  \n",
      "\n"
     ]
    },
    {
     "name": "stderr",
     "output_type": "stream",
     "text": [
      " 96%|██████████████████████████████████████████████████████████████████████████████████████████████████████████████████████████████████████████████████████████████████████████████████▌       | 48/50 [07:39<00:18,  9.24s/it]"
     ]
    },
    {
     "name": "stdout",
     "output_type": "stream",
     "text": [
      "drums           ==> SDR:   2.652  SIR: 211.809  ISR:   6.071  SAR:   0.565  \n",
      "bass            ==> SDR:   2.652  SIR: 211.809  ISR:   6.071  SAR:   0.565  \n",
      "\n"
     ]
    },
    {
     "name": "stderr",
     "output_type": "stream",
     "text": [
      " 98%|██████████████████████████████████████████████████████████████████████████████████████████████████████████████████████████████████████████████████████████████████████████████████████▎   | 49/50 [07:48<00:09,  9.28s/it]"
     ]
    },
    {
     "name": "stdout",
     "output_type": "stream",
     "text": [
      "drums           ==> SDR:   8.776  SIR: 218.295  ISR:  13.896  SAR:   8.958  \n",
      "bass            ==> SDR:   8.776  SIR: 218.295  ISR:  13.896  SAR:   8.958  \n",
      "\n"
     ]
    },
    {
     "name": "stderr",
     "output_type": "stream",
     "text": [
      "100%|██████████████████████████████████████████████████████████████████████████████████████████████████████████████████████████████████████████████████████████████████████████████████████████| 50/50 [07:58<00:00,  9.57s/it]"
     ]
    },
    {
     "name": "stdout",
     "output_type": "stream",
     "text": [
      "drums           ==> SDR:   5.563  SIR: 203.550  ISR:   8.273  SAR:   5.169  \n",
      "bass            ==> SDR:   5.563  SIR: 203.550  ISR:   8.273  SAR:   5.169  \n",
      "\n"
     ]
    },
    {
     "name": "stderr",
     "output_type": "stream",
     "text": [
      "\n",
      "  2%|███▋                                                                                                                                                                                       | 1/50 [00:09<07:43,  9.45s/it]"
     ]
    },
    {
     "name": "stdout",
     "output_type": "stream",
     "text": [
      "drums           ==> SDR:   2.756  SIR: 204.715  ISR:   4.096  SAR:   0.144  \n",
      "bass            ==> SDR:   2.756  SIR: 204.715  ISR:   4.096  SAR:   0.144  \n",
      "\n"
     ]
    },
    {
     "name": "stderr",
     "output_type": "stream",
     "text": [
      "  4%|███████▍                                                                                                                                                                                   | 2/50 [00:18<07:29,  9.37s/it]"
     ]
    },
    {
     "name": "stdout",
     "output_type": "stream",
     "text": [
      "drums           ==> SDR:   2.390  SIR: 178.108  ISR:   5.015  SAR:  -0.476  \n",
      "bass            ==> SDR:   2.390  SIR: 178.108  ISR:   5.015  SAR:  -0.476  \n",
      "\n"
     ]
    },
    {
     "name": "stderr",
     "output_type": "stream",
     "text": [
      "  6%|███████████▏                                                                                                                                                                               | 3/50 [00:28<07:17,  9.31s/it]"
     ]
    },
    {
     "name": "stdout",
     "output_type": "stream",
     "text": [
      "drums           ==> SDR:   3.885  SIR: 226.727  ISR:   7.026  SAR:   2.256  \n",
      "bass            ==> SDR:   3.885  SIR: 226.727  ISR:   7.026  SAR:   2.256  \n",
      "\n"
     ]
    },
    {
     "name": "stderr",
     "output_type": "stream",
     "text": [
      "  8%|██████████████▉                                                                                                                                                                            | 4/50 [00:37<07:08,  9.32s/it]"
     ]
    },
    {
     "name": "stdout",
     "output_type": "stream",
     "text": [
      "drums           ==> SDR:   1.761  SIR: 219.713  ISR:   6.406  SAR:  -1.130  \n",
      "bass            ==> SDR:   1.761  SIR: 219.713  ISR:   6.406  SAR:  -1.130  \n",
      "\n"
     ]
    },
    {
     "name": "stderr",
     "output_type": "stream",
     "text": [
      " 10%|██████████████████▋                                                                                                                                                                        | 5/50 [00:46<07:02,  9.39s/it]"
     ]
    },
    {
     "name": "stdout",
     "output_type": "stream",
     "text": [
      "drums           ==> SDR:   7.388  SIR: 198.484  ISR:   9.830  SAR:   6.442  \n",
      "bass            ==> SDR:   7.388  SIR: 198.484  ISR:   9.830  SAR:   6.442  \n",
      "\n"
     ]
    },
    {
     "name": "stderr",
     "output_type": "stream",
     "text": [
      " 12%|██████████████████████▍                                                                                                                                                                    | 6/50 [00:56<06:53,  9.39s/it]"
     ]
    },
    {
     "name": "stdout",
     "output_type": "stream",
     "text": [
      "drums           ==> SDR:   3.754  SIR: 231.721  ISR:   5.982  SAR:   1.896  \n",
      "bass            ==> SDR:   3.754  SIR: 231.721  ISR:   5.982  SAR:   1.896  \n",
      "\n"
     ]
    },
    {
     "name": "stderr",
     "output_type": "stream",
     "text": [
      " 14%|██████████████████████████▏                                                                                                                                                                | 7/50 [01:05<06:39,  9.28s/it]"
     ]
    },
    {
     "name": "stdout",
     "output_type": "stream",
     "text": [
      "drums           ==> SDR:   4.666  SIR: 221.430  ISR:   8.418  SAR:   3.272  \n",
      "bass            ==> SDR:   4.666  SIR: 221.430  ISR:   8.418  SAR:   3.272  \n",
      "\n"
     ]
    },
    {
     "name": "stderr",
     "output_type": "stream",
     "text": [
      " 16%|█████████████████████████████▉                                                                                                                                                             | 8/50 [01:14<06:35,  9.41s/it]"
     ]
    },
    {
     "name": "stdout",
     "output_type": "stream",
     "text": [
      "drums           ==> SDR:   3.794  SIR: 242.154  ISR:   7.962  SAR:   2.325  \n",
      "bass            ==> SDR:   3.794  SIR: 242.154  ISR:   7.962  SAR:   2.325  \n",
      "\n"
     ]
    },
    {
     "name": "stderr",
     "output_type": "stream",
     "text": [
      " 18%|█████████████████████████████████▋                                                                                                                                                         | 9/50 [01:25<06:36,  9.68s/it]"
     ]
    },
    {
     "name": "stdout",
     "output_type": "stream",
     "text": [
      "drums           ==> SDR:   3.010  SIR: 165.850  ISR:   5.110  SAR:   1.842  \n",
      "bass            ==> SDR:   3.010  SIR: 165.850  ISR:   5.110  SAR:   1.842  \n",
      "\n"
     ]
    },
    {
     "name": "stderr",
     "output_type": "stream",
     "text": [
      " 20%|█████████████████████████████████████▏                                                                                                                                                    | 10/50 [01:35<06:28,  9.71s/it]"
     ]
    },
    {
     "name": "stdout",
     "output_type": "stream",
     "text": [
      "drums           ==> SDR:  -2.159  SIR: 184.269  ISR:   3.534  SAR:  -7.270  \n",
      "bass            ==> SDR:  -2.159  SIR: 184.269  ISR:   3.534  SAR:  -7.270  \n",
      "\n"
     ]
    },
    {
     "name": "stderr",
     "output_type": "stream",
     "text": [
      " 22%|████████████████████████████████████████▉                                                                                                                                                 | 11/50 [01:44<06:19,  9.74s/it]"
     ]
    },
    {
     "name": "stdout",
     "output_type": "stream",
     "text": [
      "drums           ==> SDR:   3.799  SIR: 215.779  ISR:   5.257  SAR:   2.367  \n",
      "bass            ==> SDR:   3.799  SIR: 215.779  ISR:   5.257  SAR:   2.367  \n",
      "\n"
     ]
    },
    {
     "name": "stderr",
     "output_type": "stream",
     "text": [
      " 24%|████████████████████████████████████████████▋                                                                                                                                             | 12/50 [01:54<06:08,  9.70s/it]"
     ]
    },
    {
     "name": "stdout",
     "output_type": "stream",
     "text": [
      "drums           ==> SDR:   4.306  SIR: 224.237  ISR:   5.402  SAR:   4.419  \n",
      "bass            ==> SDR:   4.306  SIR: 224.237  ISR:   5.402  SAR:   4.419  \n",
      "\n"
     ]
    },
    {
     "name": "stderr",
     "output_type": "stream",
     "text": [
      " 26%|████████████████████████████████████████████████▎                                                                                                                                         | 13/50 [02:02<05:45,  9.33s/it]"
     ]
    },
    {
     "name": "stdout",
     "output_type": "stream",
     "text": [
      "drums           ==> SDR:   0.001  SIR:  68.235  ISR:   0.310  SAR: -12.119  \n",
      "bass            ==> SDR:   0.001  SIR:  68.235  ISR:   0.310  SAR: -12.119  \n",
      "\n"
     ]
    },
    {
     "name": "stderr",
     "output_type": "stream",
     "text": [
      " 28%|████████████████████████████████████████████████████                                                                                                                                      | 14/50 [02:12<05:39,  9.44s/it]"
     ]
    },
    {
     "name": "stdout",
     "output_type": "stream",
     "text": [
      "drums           ==> SDR:   6.349  SIR: 210.309  ISR:   8.471  SAR:   5.593  \n",
      "bass            ==> SDR:   6.349  SIR: 210.309  ISR:   8.471  SAR:   5.593  \n",
      "\n"
     ]
    },
    {
     "name": "stderr",
     "output_type": "stream",
     "text": [
      " 30%|███████████████████████████████████████████████████████▊                                                                                                                                  | 15/50 [02:22<05:35,  9.58s/it]"
     ]
    },
    {
     "name": "stdout",
     "output_type": "stream",
     "text": [
      "drums           ==> SDR:   4.144  SIR: 205.885  ISR:   6.390  SAR:   3.259  \n",
      "bass            ==> SDR:   4.144  SIR: 205.885  ISR:   6.390  SAR:   3.259  \n",
      "\n"
     ]
    },
    {
     "name": "stderr",
     "output_type": "stream",
     "text": [
      " 32%|███████████████████████████████████████████████████████████▌                                                                                                                              | 16/50 [02:31<05:21,  9.45s/it]"
     ]
    },
    {
     "name": "stdout",
     "output_type": "stream",
     "text": [
      "drums           ==> SDR:   3.160  SIR: 212.401  ISR:   5.070  SAR:   1.087  \n",
      "bass            ==> SDR:   3.160  SIR: 212.401  ISR:   5.070  SAR:   1.087  \n",
      "\n"
     ]
    },
    {
     "name": "stderr",
     "output_type": "stream",
     "text": [
      " 34%|███████████████████████████████████████████████████████████████▏                                                                                                                          | 17/50 [02:40<05:09,  9.39s/it]"
     ]
    },
    {
     "name": "stdout",
     "output_type": "stream",
     "text": [
      "drums           ==> SDR:   1.788  SIR: 220.468  ISR:   3.941  SAR:  -2.283  \n",
      "bass            ==> SDR:   1.788  SIR: 220.468  ISR:   3.941  SAR:  -2.283  \n",
      "\n"
     ]
    },
    {
     "name": "stderr",
     "output_type": "stream",
     "text": [
      " 36%|██████████████████████████████████████████████████████████████████▉                                                                                                                       | 18/50 [02:50<05:00,  9.38s/it]"
     ]
    },
    {
     "name": "stdout",
     "output_type": "stream",
     "text": [
      "drums           ==> SDR:   5.540  SIR: 192.575  ISR:   7.490  SAR:   5.281  \n",
      "bass            ==> SDR:   5.540  SIR: 192.575  ISR:   7.490  SAR:   5.281  \n",
      "\n"
     ]
    },
    {
     "name": "stderr",
     "output_type": "stream",
     "text": [
      " 38%|██████████████████████████████████████████████████████████████████████▋                                                                                                                   | 19/50 [02:59<04:49,  9.33s/it]"
     ]
    },
    {
     "name": "stdout",
     "output_type": "stream",
     "text": [
      "drums           ==> SDR:   7.333  SIR: 222.330  ISR:   9.496  SAR:   5.427  \n",
      "bass            ==> SDR:   7.333  SIR: 222.330  ISR:   9.496  SAR:   5.427  \n",
      "\n"
     ]
    },
    {
     "name": "stderr",
     "output_type": "stream",
     "text": [
      " 40%|██████████████████████████████████████████████████████████████████████████▍                                                                                                               | 20/50 [03:08<04:38,  9.28s/it]"
     ]
    },
    {
     "name": "stdout",
     "output_type": "stream",
     "text": [
      "drums           ==> SDR:   6.414  SIR: 230.453  ISR:   8.185  SAR:   6.248  \n",
      "bass            ==> SDR:   6.414  SIR: 230.453  ISR:   8.185  SAR:   6.248  \n",
      "\n"
     ]
    },
    {
     "name": "stderr",
     "output_type": "stream",
     "text": [
      " 42%|██████████████████████████████████████████████████████████████████████████████                                                                                                            | 21/50 [03:17<04:27,  9.23s/it]"
     ]
    },
    {
     "name": "stdout",
     "output_type": "stream",
     "text": [
      "drums           ==> SDR:   6.011  SIR: 182.847  ISR:   8.834  SAR:   6.619  \n",
      "bass            ==> SDR:   6.011  SIR: 182.847  ISR:   8.834  SAR:   6.619  \n",
      "\n"
     ]
    },
    {
     "name": "stderr",
     "output_type": "stream",
     "text": [
      " 44%|█████████████████████████████████████████████████████████████████████████████████▊                                                                                                        | 22/50 [03:26<04:16,  9.15s/it]"
     ]
    },
    {
     "name": "stdout",
     "output_type": "stream",
     "text": [
      "drums           ==> SDR:  -2.253  SIR: 269.757  ISR:   0.368  SAR: -16.164  \n",
      "bass            ==> SDR:  -2.253  SIR: 269.757  ISR:   0.368  SAR: -16.164  \n",
      "\n"
     ]
    },
    {
     "name": "stderr",
     "output_type": "stream",
     "text": [
      " 46%|█████████████████████████████████████████████████████████████████████████████████████▌                                                                                                    | 23/50 [03:35<04:03,  9.02s/it]"
     ]
    },
    {
     "name": "stdout",
     "output_type": "stream",
     "text": [
      "drums           ==> SDR:   1.569  SIR: 153.819  ISR:   2.297  SAR:  -1.339  \n",
      "bass            ==> SDR:   1.569  SIR: 153.819  ISR:   2.297  SAR:  -1.339  \n",
      "\n"
     ]
    },
    {
     "name": "stderr",
     "output_type": "stream",
     "text": [
      " 48%|█████████████████████████████████████████████████████████████████████████████████████████▎                                                                                                | 24/50 [03:45<04:00,  9.27s/it]"
     ]
    },
    {
     "name": "stdout",
     "output_type": "stream",
     "text": [
      "drums           ==> SDR:   3.192  SIR: 131.877  ISR:   5.076  SAR:   1.840  \n",
      "bass            ==> SDR:   3.192  SIR: 131.877  ISR:   5.076  SAR:   1.840  \n",
      "\n"
     ]
    },
    {
     "name": "stderr",
     "output_type": "stream",
     "text": [
      " 50%|█████████████████████████████████████████████████████████████████████████████████████████████                                                                                             | 25/50 [03:55<03:57,  9.49s/it]"
     ]
    },
    {
     "name": "stdout",
     "output_type": "stream",
     "text": [
      "drums           ==> SDR:   2.903  SIR: 230.816  ISR:   4.653  SAR:   1.529  \n",
      "bass            ==> SDR:   2.903  SIR: 230.816  ISR:   4.653  SAR:   1.529  \n",
      "\n"
     ]
    },
    {
     "name": "stderr",
     "output_type": "stream",
     "text": [
      " 52%|████████████████████████████████████████████████████████████████████████████████████████████████▋                                                                                         | 26/50 [04:04<03:48,  9.53s/it]"
     ]
    },
    {
     "name": "stdout",
     "output_type": "stream",
     "text": [
      "drums           ==> SDR:   8.084  SIR: 175.745  ISR:  11.248  SAR:   7.422  \n",
      "bass            ==> SDR:   8.084  SIR: 175.745  ISR:  11.248  SAR:   7.422  \n",
      "\n"
     ]
    },
    {
     "name": "stderr",
     "output_type": "stream",
     "text": [
      " 54%|████████████████████████████████████████████████████████████████████████████████████████████████████▍                                                                                     | 27/50 [04:13<03:35,  9.39s/it]"
     ]
    },
    {
     "name": "stdout",
     "output_type": "stream",
     "text": [
      "drums           ==> SDR:   6.287  SIR: 185.915  ISR:  10.771  SAR:   5.541  \n",
      "bass            ==> SDR:   6.287  SIR: 185.915  ISR:  10.771  SAR:   5.541  \n",
      "\n"
     ]
    },
    {
     "name": "stderr",
     "output_type": "stream",
     "text": [
      " 56%|████████████████████████████████████████████████████████████████████████████████████████████████████████▏                                                                                 | 28/50 [04:23<03:30,  9.56s/it]"
     ]
    },
    {
     "name": "stdout",
     "output_type": "stream",
     "text": [
      "drums           ==> SDR:   3.038  SIR: 193.227  ISR:   3.931  SAR:   0.556  \n",
      "bass            ==> SDR:   3.038  SIR: 193.227  ISR:   3.931  SAR:   0.556  \n",
      "\n"
     ]
    },
    {
     "name": "stderr",
     "output_type": "stream",
     "text": [
      " 58%|███████████████████████████████████████████████████████████████████████████████████████████████████████████▉                                                                              | 29/50 [04:33<03:23,  9.69s/it]"
     ]
    },
    {
     "name": "stdout",
     "output_type": "stream",
     "text": [
      "drums           ==> SDR:   4.130  SIR: 194.558  ISR:   5.560  SAR:   4.431  \n",
      "bass            ==> SDR:   4.130  SIR: 194.558  ISR:   5.560  SAR:   4.431  \n",
      "\n"
     ]
    },
    {
     "name": "stderr",
     "output_type": "stream",
     "text": [
      " 60%|███████████████████████████████████████████████████████████████████████████████████████████████████████████████▌                                                                          | 30/50 [04:44<03:17,  9.86s/it]"
     ]
    },
    {
     "name": "stdout",
     "output_type": "stream",
     "text": [
      "drums           ==> SDR:   2.456  SIR: 211.310  ISR:   3.115  SAR:   1.211  \n",
      "bass            ==> SDR:   2.456  SIR: 211.310  ISR:   3.115  SAR:   1.211  \n",
      "\n"
     ]
    },
    {
     "name": "stderr",
     "output_type": "stream",
     "text": [
      " 62%|███████████████████████████████████████████████████████████████████████████████████████████████████████████████████▎                                                                      | 31/50 [04:54<03:07,  9.89s/it]"
     ]
    },
    {
     "name": "stdout",
     "output_type": "stream",
     "text": [
      "drums           ==> SDR:   2.347  SIR: 195.442  ISR:   5.958  SAR:   0.054  \n",
      "bass            ==> SDR:   2.347  SIR: 195.442  ISR:   5.958  SAR:   0.054  \n",
      "\n"
     ]
    },
    {
     "name": "stderr",
     "output_type": "stream",
     "text": [
      " 64%|███████████████████████████████████████████████████████████████████████████████████████████████████████████████████████                                                                   | 32/50 [05:03<02:54,  9.70s/it]"
     ]
    },
    {
     "name": "stdout",
     "output_type": "stream",
     "text": [
      "drums           ==> SDR:   0.433  SIR: 189.807  ISR:   1.304  SAR:  -0.555  \n",
      "bass            ==> SDR:   0.433  SIR: 189.807  ISR:   1.304  SAR:  -0.555  \n",
      "\n"
     ]
    },
    {
     "name": "stderr",
     "output_type": "stream",
     "text": [
      " 66%|██████████████████████████████████████████████████████████████████████████████████████████████████████████████████████████▊                                                               | 33/50 [05:13<02:45,  9.72s/it]"
     ]
    },
    {
     "name": "stdout",
     "output_type": "stream",
     "text": [
      "drums           ==> SDR:   1.722  SIR: 216.026  ISR:   3.668  SAR:  -2.196  \n",
      "bass            ==> SDR:   1.722  SIR: 216.026  ISR:   3.668  SAR:  -2.196  \n",
      "\n"
     ]
    },
    {
     "name": "stderr",
     "output_type": "stream",
     "text": [
      " 68%|██████████████████████████████████████████████████████████████████████████████████████████████████████████████████████████████▍                                                           | 34/50 [05:22<02:33,  9.57s/it]"
     ]
    },
    {
     "name": "stdout",
     "output_type": "stream",
     "text": [
      "drums           ==> SDR:   3.047  SIR: 251.200  ISR:   5.279  SAR:   1.506  \n",
      "bass            ==> SDR:   3.047  SIR: 251.200  ISR:   5.279  SAR:   1.506  \n",
      "\n"
     ]
    },
    {
     "name": "stderr",
     "output_type": "stream",
     "text": [
      " 70%|██████████████████████████████████████████████████████████████████████████████████████████████████████████████████████████████████▏                                                       | 35/50 [05:31<02:21,  9.45s/it]"
     ]
    },
    {
     "name": "stdout",
     "output_type": "stream",
     "text": [
      "drums           ==> SDR:   6.479  SIR: 222.338  ISR:   9.433  SAR:   5.939  \n",
      "bass            ==> SDR:   6.479  SIR: 222.338  ISR:   9.433  SAR:   5.939  \n",
      "\n"
     ]
    },
    {
     "name": "stderr",
     "output_type": "stream",
     "text": [
      " 72%|█████████████████████████████████████████████████████████████████████████████████████████████████████████████████████████████████████▉                                                    | 36/50 [05:40<02:11,  9.42s/it]"
     ]
    },
    {
     "name": "stdout",
     "output_type": "stream",
     "text": [
      "drums           ==> SDR:   2.340  SIR: 196.658  ISR:   5.152  SAR:  -0.687  \n",
      "bass            ==> SDR:   2.340  SIR: 196.658  ISR:   5.152  SAR:  -0.687  \n",
      "\n"
     ]
    },
    {
     "name": "stderr",
     "output_type": "stream",
     "text": [
      " 74%|█████████████████████████████████████████████████████████████████████████████████████████████████████████████████████████████████████████▋                                                | 37/50 [05:50<02:02,  9.46s/it]"
     ]
    },
    {
     "name": "stdout",
     "output_type": "stream",
     "text": [
      "drums           ==> SDR:   0.367  SIR: 198.752  ISR:   6.589  SAR:  -0.731  \n",
      "bass            ==> SDR:   0.367  SIR: 198.752  ISR:   6.589  SAR:  -0.731  \n",
      "\n"
     ]
    },
    {
     "name": "stderr",
     "output_type": "stream",
     "text": [
      " 76%|█████████████████████████████████████████████████████████████████████████████████████████████████████████████████████████████████████████████▎                                            | 38/50 [05:59<01:53,  9.43s/it]"
     ]
    },
    {
     "name": "stdout",
     "output_type": "stream",
     "text": [
      "drums           ==> SDR:   5.055  SIR: 222.410  ISR:   5.914  SAR:   2.230  \n",
      "bass            ==> SDR:   5.055  SIR: 222.410  ISR:   5.914  SAR:   2.230  \n",
      "\n"
     ]
    },
    {
     "name": "stderr",
     "output_type": "stream",
     "text": [
      " 78%|█████████████████████████████████████████████████████████████████████████████████████████████████████████████████████████████████████████████████                                         | 39/50 [06:09<01:44,  9.54s/it]"
     ]
    },
    {
     "name": "stdout",
     "output_type": "stream",
     "text": [
      "drums           ==> SDR:   3.527  SIR: 229.393  ISR:   5.687  SAR:   3.106  \n",
      "bass            ==> SDR:   3.527  SIR: 229.393  ISR:   5.687  SAR:   3.106  \n",
      "\n"
     ]
    },
    {
     "name": "stderr",
     "output_type": "stream",
     "text": [
      " 80%|████████████████████████████████████████████████████████████████████████████████████████████████████████████████████████████████████████████████████▊                                     | 40/50 [06:19<01:35,  9.51s/it]"
     ]
    },
    {
     "name": "stdout",
     "output_type": "stream",
     "text": [
      "drums           ==> SDR:   1.855  SIR: 165.595  ISR:   1.031  SAR:  -2.200  \n",
      "bass            ==> SDR:   1.855  SIR: 165.595  ISR:   1.031  SAR:  -2.200  \n",
      "\n"
     ]
    },
    {
     "name": "stderr",
     "output_type": "stream",
     "text": [
      " 82%|████████████████████████████████████████████████████████████████████████████████████████████████████████████████████████████████████████████████████████▌                                 | 41/50 [06:28<01:25,  9.46s/it]"
     ]
    },
    {
     "name": "stdout",
     "output_type": "stream",
     "text": [
      "drums           ==> SDR:   1.206  SIR: 181.954  ISR:   4.169  SAR:  -0.020  \n",
      "bass            ==> SDR:   1.206  SIR: 181.954  ISR:   4.169  SAR:  -0.020  \n",
      "\n"
     ]
    },
    {
     "name": "stderr",
     "output_type": "stream",
     "text": [
      " 84%|████████████████████████████████████████████████████████████████████████████████████████████████████████████████████████████████████████████████████████████▏                             | 42/50 [06:37<01:15,  9.47s/it]"
     ]
    },
    {
     "name": "stdout",
     "output_type": "stream",
     "text": [
      "drums           ==> SDR:   5.321  SIR: 119.466  ISR:   8.128  SAR:   3.995  \n",
      "bass            ==> SDR:   5.321  SIR: 119.466  ISR:   8.128  SAR:   3.995  \n",
      "\n"
     ]
    },
    {
     "name": "stderr",
     "output_type": "stream",
     "text": [
      " 86%|███████████████████████████████████████████████████████████████████████████████████████████████████████████████████████████████████████████████████████████████▉                          | 43/50 [06:47<01:05,  9.37s/it]"
     ]
    },
    {
     "name": "stdout",
     "output_type": "stream",
     "text": [
      "drums           ==> SDR:   3.041  SIR: 173.097  ISR:   4.877  SAR:   1.434  \n",
      "bass            ==> SDR:   3.041  SIR: 173.097  ISR:   4.877  SAR:   1.434  \n",
      "\n"
     ]
    },
    {
     "name": "stderr",
     "output_type": "stream",
     "text": [
      " 88%|███████████████████████████████████████████████████████████████████████████████████████████████████████████████████████████████████████████████████████████████████▋                      | 44/50 [06:55<00:54,  9.15s/it]"
     ]
    },
    {
     "name": "stdout",
     "output_type": "stream",
     "text": [
      "drums           ==> SDR:   2.500  SIR: 214.259  ISR:   4.073  SAR:   0.524  \n",
      "bass            ==> SDR:   2.500  SIR: 214.259  ISR:   4.073  SAR:   0.524  \n",
      "\n"
     ]
    },
    {
     "name": "stderr",
     "output_type": "stream",
     "text": [
      " 90%|███████████████████████████████████████████████████████████████████████████████████████████████████████████████████████████████████████████████████████████████████████▍                  | 45/50 [07:05<00:46,  9.35s/it]"
     ]
    },
    {
     "name": "stdout",
     "output_type": "stream",
     "text": [
      "drums           ==> SDR:   0.116  SIR: 199.571  ISR:   0.180  SAR:   1.591  \n",
      "bass            ==> SDR:   0.116  SIR: 199.571  ISR:   0.180  SAR:   1.591  \n",
      "\n"
     ]
    },
    {
     "name": "stderr",
     "output_type": "stream",
     "text": [
      " 92%|███████████████████████████████████████████████████████████████████████████████████████████████████████████████████████████████████████████████████████████████████████████               | 46/50 [07:14<00:37,  9.36s/it]"
     ]
    },
    {
     "name": "stdout",
     "output_type": "stream",
     "text": [
      "drums           ==> SDR:   1.691  SIR: 207.924  ISR:   3.317  SAR:  -1.234  \n",
      "bass            ==> SDR:   1.691  SIR: 207.924  ISR:   3.317  SAR:  -1.234  \n",
      "\n"
     ]
    },
    {
     "name": "stderr",
     "output_type": "stream",
     "text": [
      " 94%|██████████████████████████████████████████████████████████████████████████████████████████████████████████████████████████████████████████████████████████████████████████████▊           | 47/50 [07:23<00:27,  9.16s/it]"
     ]
    },
    {
     "name": "stdout",
     "output_type": "stream",
     "text": [
      "drums           ==> SDR:   2.641  SIR: 160.603  ISR:   4.750  SAR:   0.940  \n",
      "bass            ==> SDR:   2.641  SIR: 160.603  ISR:   4.750  SAR:   0.940  \n",
      "\n"
     ]
    },
    {
     "name": "stderr",
     "output_type": "stream",
     "text": [
      " 96%|██████████████████████████████████████████████████████████████████████████████████████████████████████████████████████████████████████████████████████████████████████████████████▌       | 48/50 [07:33<00:18,  9.40s/it]"
     ]
    },
    {
     "name": "stdout",
     "output_type": "stream",
     "text": [
      "drums           ==> SDR:   2.696  SIR: 215.962  ISR:   5.096  SAR:   0.270  \n",
      "bass            ==> SDR:   2.696  SIR: 215.962  ISR:   5.096  SAR:   0.270  \n",
      "\n"
     ]
    },
    {
     "name": "stderr",
     "output_type": "stream",
     "text": [
      " 98%|██████████████████████████████████████████████████████████████████████████████████████████████████████████████████████████████████████████████████████████████████████████████████████▎   | 49/50 [07:43<00:09,  9.54s/it]"
     ]
    },
    {
     "name": "stdout",
     "output_type": "stream",
     "text": [
      "drums           ==> SDR:   7.561  SIR: 212.776  ISR:  11.466  SAR:   7.086  \n",
      "bass            ==> SDR:   7.561  SIR: 212.776  ISR:  11.466  SAR:   7.086  \n",
      "\n"
     ]
    },
    {
     "name": "stderr",
     "output_type": "stream",
     "text": [
      "100%|██████████████████████████████████████████████████████████████████████████████████████████████████████████████████████████████████████████████████████████████████████████████████████████| 50/50 [07:53<00:00,  9.47s/it]"
     ]
    },
    {
     "name": "stdout",
     "output_type": "stream",
     "text": [
      "drums           ==> SDR:   5.579  SIR: 210.427  ISR:   8.488  SAR:   4.435  \n",
      "bass            ==> SDR:   5.579  SIR: 210.427  ISR:   8.488  SAR:   4.435  \n",
      "\n"
     ]
    },
    {
     "name": "stderr",
     "output_type": "stream",
     "text": [
      "\n",
      "  2%|███▋                                                                                                                                                                                       | 1/50 [00:09<08:02,  9.85s/it]"
     ]
    },
    {
     "name": "stdout",
     "output_type": "stream",
     "text": [
      "drums           ==> SDR:   4.206  SIR: 206.890  ISR:   7.179  SAR:   2.756  \n",
      "bass            ==> SDR:   4.206  SIR: 206.890  ISR:   7.179  SAR:   2.756  \n",
      "\n"
     ]
    },
    {
     "name": "stderr",
     "output_type": "stream",
     "text": [
      "  4%|███████▍                                                                                                                                                                                   | 2/50 [00:19<07:53,  9.86s/it]"
     ]
    },
    {
     "name": "stdout",
     "output_type": "stream",
     "text": [
      "drums           ==> SDR:   2.128  SIR: 173.373  ISR:   3.671  SAR:  -0.724  \n",
      "bass            ==> SDR:   2.128  SIR: 173.373  ISR:   3.671  SAR:  -0.724  \n",
      "\n"
     ]
    },
    {
     "name": "stderr",
     "output_type": "stream",
     "text": [
      "  6%|███████████▏                                                                                                                                                                               | 3/50 [00:29<07:45,  9.90s/it]"
     ]
    },
    {
     "name": "stdout",
     "output_type": "stream",
     "text": [
      "drums           ==> SDR:   2.513  SIR: 228.794  ISR:   4.362  SAR:   1.115  \n",
      "bass            ==> SDR:   2.513  SIR: 228.794  ISR:   4.362  SAR:   1.115  \n",
      "\n"
     ]
    },
    {
     "name": "stderr",
     "output_type": "stream",
     "text": [
      "  8%|██████████████▉                                                                                                                                                                            | 4/50 [00:38<07:21,  9.60s/it]"
     ]
    },
    {
     "name": "stdout",
     "output_type": "stream",
     "text": [
      "drums           ==> SDR:   2.009  SIR: 218.619  ISR:   6.948  SAR:  -0.317  \n",
      "bass            ==> SDR:   2.009  SIR: 218.619  ISR:   6.948  SAR:  -0.317  \n",
      "\n"
     ]
    },
    {
     "name": "stderr",
     "output_type": "stream",
     "text": [
      " 10%|██████████████████▋                                                                                                                                                                        | 5/50 [00:48<07:09,  9.54s/it]"
     ]
    },
    {
     "name": "stdout",
     "output_type": "stream",
     "text": [
      "drums           ==> SDR:   7.120  SIR: 198.072  ISR:   7.696  SAR:   5.272  \n",
      "bass            ==> SDR:   7.120  SIR: 198.072  ISR:   7.696  SAR:   5.272  \n",
      "\n"
     ]
    },
    {
     "name": "stderr",
     "output_type": "stream",
     "text": [
      " 12%|██████████████████████▍                                                                                                                                                                    | 6/50 [00:57<06:53,  9.41s/it]"
     ]
    },
    {
     "name": "stdout",
     "output_type": "stream",
     "text": [
      "drums           ==> SDR:   4.465  SIR: 232.548  ISR:   5.518  SAR:   2.200  \n",
      "bass            ==> SDR:   4.465  SIR: 232.548  ISR:   5.518  SAR:   2.200  \n",
      "\n"
     ]
    },
    {
     "name": "stderr",
     "output_type": "stream",
     "text": [
      " 14%|██████████████████████████▏                                                                                                                                                                | 7/50 [01:07<06:48,  9.51s/it]"
     ]
    },
    {
     "name": "stdout",
     "output_type": "stream",
     "text": [
      "drums           ==> SDR:   3.258  SIR: 220.536  ISR:   3.569  SAR:   0.000  \n",
      "bass            ==> SDR:   3.258  SIR: 220.536  ISR:   3.569  SAR:   0.000  \n",
      "\n"
     ]
    },
    {
     "name": "stderr",
     "output_type": "stream",
     "text": [
      " 16%|█████████████████████████████▉                                                                                                                                                             | 8/50 [01:16<06:39,  9.51s/it]"
     ]
    },
    {
     "name": "stdout",
     "output_type": "stream",
     "text": [
      "drums           ==> SDR:   2.240  SIR: 240.988  ISR:   3.935  SAR:   0.033  \n",
      "bass            ==> SDR:   2.240  SIR: 240.988  ISR:   3.935  SAR:   0.033  \n",
      "\n"
     ]
    },
    {
     "name": "stderr",
     "output_type": "stream",
     "text": [
      " 18%|█████████████████████████████████▋                                                                                                                                                         | 9/50 [01:25<06:27,  9.45s/it]"
     ]
    },
    {
     "name": "stdout",
     "output_type": "stream",
     "text": [
      "drums           ==> SDR:   0.036  SIR: 137.678  ISR:   0.092  SAR:  -3.461  \n",
      "bass            ==> SDR:   0.036  SIR: 137.678  ISR:   0.092  SAR:  -3.461  \n",
      "\n"
     ]
    },
    {
     "name": "stderr",
     "output_type": "stream",
     "text": [
      " 20%|█████████████████████████████████████▏                                                                                                                                                    | 10/50 [01:35<06:15,  9.40s/it]"
     ]
    },
    {
     "name": "stdout",
     "output_type": "stream",
     "text": [
      "drums           ==> SDR:  -2.159  SIR: 182.637  ISR:   1.882  SAR:  -8.478  \n",
      "bass            ==> SDR:  -2.159  SIR: 182.637  ISR:   1.882  SAR:  -8.478  \n",
      "\n"
     ]
    },
    {
     "name": "stderr",
     "output_type": "stream",
     "text": [
      " 22%|████████████████████████████████████████▉                                                                                                                                                 | 11/50 [01:44<06:07,  9.43s/it]"
     ]
    },
    {
     "name": "stdout",
     "output_type": "stream",
     "text": [
      "drums           ==> SDR:   3.080  SIR: 214.404  ISR:   4.025  SAR:   1.323  \n",
      "bass            ==> SDR:   3.080  SIR: 214.404  ISR:   4.025  SAR:   1.323  \n",
      "\n"
     ]
    },
    {
     "name": "stderr",
     "output_type": "stream",
     "text": [
      " 24%|████████████████████████████████████████████▋                                                                                                                                             | 12/50 [01:54<05:59,  9.47s/it]"
     ]
    },
    {
     "name": "stdout",
     "output_type": "stream",
     "text": [
      "drums           ==> SDR:   2.933  SIR: 222.041  ISR:   3.784  SAR:   2.770  \n",
      "bass            ==> SDR:   2.933  SIR: 222.041  ISR:   3.784  SAR:   2.770  \n",
      "\n"
     ]
    },
    {
     "name": "stderr",
     "output_type": "stream",
     "text": [
      " 26%|████████████████████████████████████████████████▎                                                                                                                                         | 13/50 [02:02<05:40,  9.21s/it]"
     ]
    },
    {
     "name": "stdout",
     "output_type": "stream",
     "text": [
      "drums           ==> SDR:   0.000  SIR:  73.399  ISR:   0.200  SAR:  -7.864  \n",
      "bass            ==> SDR:   0.000  SIR:  73.399  ISR:   0.200  SAR:  -7.864  \n",
      "\n"
     ]
    },
    {
     "name": "stderr",
     "output_type": "stream",
     "text": [
      " 28%|████████████████████████████████████████████████████                                                                                                                                      | 14/50 [02:12<05:32,  9.24s/it]"
     ]
    },
    {
     "name": "stdout",
     "output_type": "stream",
     "text": [
      "drums           ==> SDR:   0.885  SIR: 198.032  ISR:   3.031  SAR:  -1.365  \n",
      "bass            ==> SDR:   0.885  SIR: 198.032  ISR:   3.031  SAR:  -1.365  \n",
      "\n"
     ]
    },
    {
     "name": "stderr",
     "output_type": "stream",
     "text": [
      " 30%|███████████████████████████████████████████████████████▊                                                                                                                                  | 15/50 [02:21<05:24,  9.28s/it]"
     ]
    },
    {
     "name": "stdout",
     "output_type": "stream",
     "text": [
      "drums           ==> SDR:   4.564  SIR: 208.729  ISR:   6.198  SAR:   3.423  \n",
      "bass            ==> SDR:   4.564  SIR: 208.729  ISR:   6.198  SAR:   3.423  \n",
      "\n"
     ]
    },
    {
     "name": "stderr",
     "output_type": "stream",
     "text": [
      " 32%|███████████████████████████████████████████████████████████▌                                                                                                                              | 16/50 [02:30<05:16,  9.31s/it]"
     ]
    },
    {
     "name": "stdout",
     "output_type": "stream",
     "text": [
      "drums           ==> SDR:   1.738  SIR: 215.542  ISR:   3.139  SAR:  -0.451  \n",
      "bass            ==> SDR:   1.738  SIR: 215.542  ISR:   3.139  SAR:  -0.451  \n",
      "\n"
     ]
    },
    {
     "name": "stderr",
     "output_type": "stream",
     "text": [
      " 34%|███████████████████████████████████████████████████████████████▏                                                                                                                          | 17/50 [02:40<05:06,  9.29s/it]"
     ]
    },
    {
     "name": "stdout",
     "output_type": "stream",
     "text": [
      "drums           ==> SDR:   1.020  SIR: 219.751  ISR:   2.445  SAR:  -4.437  \n",
      "bass            ==> SDR:   1.020  SIR: 219.751  ISR:   2.445  SAR:  -4.437  \n",
      "\n"
     ]
    },
    {
     "name": "stderr",
     "output_type": "stream",
     "text": [
      " 36%|██████████████████████████████████████████████████████████████████▉                                                                                                                       | 18/50 [02:50<05:04,  9.50s/it]"
     ]
    },
    {
     "name": "stdout",
     "output_type": "stream",
     "text": [
      "drums           ==> SDR:   1.506  SIR: 192.869  ISR:   2.386  SAR:  -1.284  \n",
      "bass            ==> SDR:   1.506  SIR: 192.869  ISR:   2.386  SAR:  -1.284  \n",
      "\n"
     ]
    },
    {
     "name": "stderr",
     "output_type": "stream",
     "text": [
      " 38%|██████████████████████████████████████████████████████████████████████▋                                                                                                                   | 19/50 [02:59<04:55,  9.54s/it]"
     ]
    },
    {
     "name": "stdout",
     "output_type": "stream",
     "text": [
      "drums           ==> SDR:   6.749  SIR: 215.810  ISR:   8.692  SAR:   7.210  \n",
      "bass            ==> SDR:   6.749  SIR: 215.810  ISR:   8.692  SAR:   7.210  \n",
      "\n"
     ]
    },
    {
     "name": "stderr",
     "output_type": "stream",
     "text": [
      " 40%|██████████████████████████████████████████████████████████████████████████▍                                                                                                               | 20/50 [03:09<04:43,  9.44s/it]"
     ]
    },
    {
     "name": "stdout",
     "output_type": "stream",
     "text": [
      "drums           ==> SDR:   7.878  SIR: 217.644  ISR:   9.463  SAR:   9.057  \n",
      "bass            ==> SDR:   7.878  SIR: 217.644  ISR:   9.463  SAR:   9.057  \n",
      "\n"
     ]
    },
    {
     "name": "stderr",
     "output_type": "stream",
     "text": [
      " 42%|██████████████████████████████████████████████████████████████████████████████                                                                                                            | 21/50 [03:18<04:34,  9.48s/it]"
     ]
    },
    {
     "name": "stdout",
     "output_type": "stream",
     "text": [
      "drums           ==> SDR:   5.348  SIR: 178.569  ISR:   6.798  SAR:   6.853  \n",
      "bass            ==> SDR:   5.348  SIR: 178.569  ISR:   6.798  SAR:   6.853  \n",
      "\n"
     ]
    },
    {
     "name": "stderr",
     "output_type": "stream",
     "text": [
      " 44%|█████████████████████████████████████████████████████████████████████████████████▊                                                                                                        | 22/50 [03:27<04:21,  9.32s/it]"
     ]
    },
    {
     "name": "stdout",
     "output_type": "stream",
     "text": [
      "drums           ==> SDR:  -2.253  SIR: 269.757  ISR:   0.368  SAR: -16.164  \n",
      "bass            ==> SDR:  -2.253  SIR: 269.757  ISR:   0.368  SAR: -16.164  \n",
      "\n"
     ]
    },
    {
     "name": "stderr",
     "output_type": "stream",
     "text": [
      " 46%|█████████████████████████████████████████████████████████████████████████████████████▌                                                                                                    | 23/50 [03:36<04:08,  9.20s/it]"
     ]
    },
    {
     "name": "stdout",
     "output_type": "stream",
     "text": [
      "drums           ==> SDR:   1.486  SIR: 155.834  ISR:   2.180  SAR:  -1.288  \n",
      "bass            ==> SDR:   1.486  SIR: 155.834  ISR:   2.180  SAR:  -1.288  \n",
      "\n"
     ]
    },
    {
     "name": "stderr",
     "output_type": "stream",
     "text": [
      " 48%|█████████████████████████████████████████████████████████████████████████████████████████▎                                                                                                | 24/50 [03:45<04:00,  9.27s/it]"
     ]
    },
    {
     "name": "stdout",
     "output_type": "stream",
     "text": [
      "drums           ==> SDR:   3.319  SIR: 128.482  ISR:   5.119  SAR:   2.361  \n",
      "bass            ==> SDR:   3.319  SIR: 128.482  ISR:   5.119  SAR:   2.361  \n",
      "\n"
     ]
    },
    {
     "name": "stderr",
     "output_type": "stream",
     "text": [
      " 50%|█████████████████████████████████████████████████████████████████████████████████████████████                                                                                             | 25/50 [03:55<03:51,  9.28s/it]"
     ]
    },
    {
     "name": "stdout",
     "output_type": "stream",
     "text": [
      "drums           ==> SDR:   1.980  SIR: 219.777  ISR:   3.384  SAR:   0.401  \n",
      "bass            ==> SDR:   1.980  SIR: 219.777  ISR:   3.384  SAR:   0.401  \n",
      "\n"
     ]
    },
    {
     "name": "stderr",
     "output_type": "stream",
     "text": [
      " 52%|████████████████████████████████████████████████████████████████████████████████████████████████▋                                                                                         | 26/50 [04:04<03:39,  9.16s/it]"
     ]
    },
    {
     "name": "stdout",
     "output_type": "stream",
     "text": [
      "drums           ==> SDR:   6.613  SIR: 179.478  ISR:   9.070  SAR:   7.031  \n",
      "bass            ==> SDR:   6.613  SIR: 179.478  ISR:   9.070  SAR:   7.031  \n",
      "\n"
     ]
    },
    {
     "name": "stderr",
     "output_type": "stream",
     "text": [
      " 54%|████████████████████████████████████████████████████████████████████████████████████████████████████▍                                                                                     | 27/50 [04:13<03:30,  9.14s/it]"
     ]
    },
    {
     "name": "stdout",
     "output_type": "stream",
     "text": [
      "drums           ==> SDR:   0.831  SIR: 179.178  ISR:   5.306  SAR:   0.416  \n",
      "bass            ==> SDR:   0.831  SIR: 179.178  ISR:   5.306  SAR:   0.416  \n",
      "\n"
     ]
    },
    {
     "name": "stderr",
     "output_type": "stream",
     "text": [
      " 56%|████████████████████████████████████████████████████████████████████████████████████████████████████████▏                                                                                 | 28/50 [04:22<03:21,  9.15s/it]"
     ]
    },
    {
     "name": "stdout",
     "output_type": "stream",
     "text": [
      "drums           ==> SDR:   3.466  SIR: 190.159  ISR:   4.075  SAR:   0.291  \n",
      "bass            ==> SDR:   3.466  SIR: 190.159  ISR:   4.075  SAR:   0.291  \n",
      "\n"
     ]
    },
    {
     "name": "stderr",
     "output_type": "stream",
     "text": [
      " 58%|███████████████████████████████████████████████████████████████████████████████████████████████████████████▉                                                                              | 29/50 [04:31<03:12,  9.19s/it]"
     ]
    },
    {
     "name": "stdout",
     "output_type": "stream",
     "text": [
      "drums           ==> SDR:   4.313  SIR: 187.966  ISR:   5.125  SAR:   4.937  \n",
      "bass            ==> SDR:   4.313  SIR: 187.966  ISR:   5.125  SAR:   4.937  \n",
      "\n"
     ]
    },
    {
     "name": "stderr",
     "output_type": "stream",
     "text": [
      " 60%|███████████████████████████████████████████████████████████████████████████████████████████████████████████████▌                                                                          | 30/50 [04:41<03:05,  9.25s/it]"
     ]
    },
    {
     "name": "stdout",
     "output_type": "stream",
     "text": [
      "drums           ==> SDR:   2.756  SIR: 206.587  ISR:   3.392  SAR:   0.752  \n",
      "bass            ==> SDR:   2.756  SIR: 206.587  ISR:   3.392  SAR:   0.752  \n",
      "\n"
     ]
    },
    {
     "name": "stderr",
     "output_type": "stream",
     "text": [
      " 62%|███████████████████████████████████████████████████████████████████████████████████████████████████████████████████▎                                                                      | 31/50 [04:50<02:56,  9.30s/it]"
     ]
    },
    {
     "name": "stdout",
     "output_type": "stream",
     "text": [
      "drums           ==> SDR:   1.103  SIR: 191.910  ISR:   3.219  SAR:  -3.100  \n",
      "bass            ==> SDR:   1.103  SIR: 191.910  ISR:   3.219  SAR:  -3.100  \n",
      "\n"
     ]
    },
    {
     "name": "stderr",
     "output_type": "stream",
     "text": [
      " 64%|███████████████████████████████████████████████████████████████████████████████████████████████████████████████████████                                                                   | 32/50 [04:59<02:47,  9.31s/it]"
     ]
    },
    {
     "name": "stdout",
     "output_type": "stream",
     "text": [
      "drums           ==> SDR:   0.717  SIR: 191.293  ISR:   2.767  SAR:  -0.282  \n",
      "bass            ==> SDR:   0.717  SIR: 191.293  ISR:   2.767  SAR:  -0.282  \n",
      "\n"
     ]
    },
    {
     "name": "stderr",
     "output_type": "stream",
     "text": [
      " 66%|██████████████████████████████████████████████████████████████████████████████████████████████████████████████████████████▊                                                               | 33/50 [05:09<02:38,  9.33s/it]"
     ]
    },
    {
     "name": "stdout",
     "output_type": "stream",
     "text": [
      "drums           ==> SDR:   0.928  SIR: 226.388  ISR:   1.989  SAR:  -1.813  \n",
      "bass            ==> SDR:   0.928  SIR: 226.388  ISR:   1.989  SAR:  -1.813  \n",
      "\n"
     ]
    },
    {
     "name": "stderr",
     "output_type": "stream",
     "text": [
      " 68%|██████████████████████████████████████████████████████████████████████████████████████████████████████████████████████████████▍                                                           | 34/50 [05:18<02:31,  9.47s/it]"
     ]
    },
    {
     "name": "stdout",
     "output_type": "stream",
     "text": [
      "drums           ==> SDR:   2.735  SIR: 250.816  ISR:   3.720  SAR:   1.631  \n",
      "bass            ==> SDR:   2.735  SIR: 250.816  ISR:   3.720  SAR:   1.631  \n",
      "\n"
     ]
    },
    {
     "name": "stderr",
     "output_type": "stream",
     "text": [
      " 70%|██████████████████████████████████████████████████████████████████████████████████████████████████████████████████████████████████▏                                                       | 35/50 [05:29<02:24,  9.65s/it]"
     ]
    },
    {
     "name": "stdout",
     "output_type": "stream",
     "text": [
      "drums           ==> SDR:   5.903  SIR: 219.046  ISR:   7.972  SAR:   6.212  \n",
      "bass            ==> SDR:   5.903  SIR: 219.046  ISR:   7.972  SAR:   6.212  \n",
      "\n"
     ]
    },
    {
     "name": "stderr",
     "output_type": "stream",
     "text": [
      " 72%|█████████████████████████████████████████████████████████████████████████████████████████████████████████████████████████████████████▉                                                    | 36/50 [05:39<02:16,  9.78s/it]"
     ]
    },
    {
     "name": "stdout",
     "output_type": "stream",
     "text": [
      "drums           ==> SDR:   1.555  SIR: 207.871  ISR:   3.837  SAR:  -1.945  \n",
      "bass            ==> SDR:   1.555  SIR: 207.871  ISR:   3.837  SAR:  -1.945  \n",
      "\n"
     ]
    },
    {
     "name": "stderr",
     "output_type": "stream",
     "text": [
      " 74%|█████████████████████████████████████████████████████████████████████████████████████████████████████████████████████████████████████████▋                                                | 37/50 [05:49<02:07,  9.81s/it]"
     ]
    },
    {
     "name": "stdout",
     "output_type": "stream",
     "text": [
      "drums           ==> SDR:   3.502  SIR: 201.296  ISR:  16.900  SAR:   2.953  \n",
      "bass            ==> SDR:   3.502  SIR: 201.296  ISR:  16.900  SAR:   2.953  \n",
      "\n"
     ]
    },
    {
     "name": "stderr",
     "output_type": "stream",
     "text": [
      " 76%|█████████████████████████████████████████████████████████████████████████████████████████████████████████████████████████████████████████████▎                                            | 38/50 [05:59<01:58,  9.90s/it]"
     ]
    },
    {
     "name": "stdout",
     "output_type": "stream",
     "text": [
      "drums           ==> SDR:   5.094  SIR: 218.893  ISR:   6.805  SAR:   3.063  \n",
      "bass            ==> SDR:   5.094  SIR: 218.893  ISR:   6.805  SAR:   3.063  \n",
      "\n"
     ]
    },
    {
     "name": "stderr",
     "output_type": "stream",
     "text": [
      " 78%|█████████████████████████████████████████████████████████████████████████████████████████████████████████████████████████████████████████████████                                         | 39/50 [06:09<01:49,  9.94s/it]"
     ]
    },
    {
     "name": "stdout",
     "output_type": "stream",
     "text": [
      "drums           ==> SDR:   3.091  SIR: 222.549  ISR:   3.999  SAR:   4.297  \n",
      "bass            ==> SDR:   3.091  SIR: 222.549  ISR:   3.999  SAR:   4.297  \n",
      "\n"
     ]
    },
    {
     "name": "stderr",
     "output_type": "stream",
     "text": [
      " 80%|████████████████████████████████████████████████████████████████████████████████████████████████████████████████████████████████████████████████████▊                                     | 40/50 [06:19<01:39,  9.96s/it]"
     ]
    },
    {
     "name": "stdout",
     "output_type": "stream",
     "text": [
      "drums           ==> SDR:   0.185  SIR: 160.979  ISR:  -0.590  SAR:  -5.183  \n",
      "bass            ==> SDR:   0.185  SIR: 160.979  ISR:  -0.590  SAR:  -5.183  \n",
      "\n"
     ]
    },
    {
     "name": "stderr",
     "output_type": "stream",
     "text": [
      " 82%|████████████████████████████████████████████████████████████████████████████████████████████████████████████████████████████████████████████████████████▌                                 | 41/50 [06:29<01:29,  9.99s/it]"
     ]
    },
    {
     "name": "stdout",
     "output_type": "stream",
     "text": [
      "drums           ==> SDR:   0.000  SIR: 173.984  ISR:   2.711  SAR:  -2.012  \n",
      "bass            ==> SDR:   0.000  SIR: 173.984  ISR:   2.711  SAR:  -2.012  \n",
      "\n"
     ]
    },
    {
     "name": "stderr",
     "output_type": "stream",
     "text": [
      " 84%|████████████████████████████████████████████████████████████████████████████████████████████████████████████████████████████████████████████████████████████▏                             | 42/50 [06:40<01:22, 10.26s/it]"
     ]
    },
    {
     "name": "stdout",
     "output_type": "stream",
     "text": [
      "drums           ==> SDR:   6.211  SIR: 114.992  ISR:   9.532  SAR:   5.708  \n",
      "bass            ==> SDR:   6.211  SIR: 114.992  ISR:   9.532  SAR:   5.708  \n",
      "\n"
     ]
    },
    {
     "name": "stderr",
     "output_type": "stream",
     "text": [
      " 86%|███████████████████████████████████████████████████████████████████████████████████████████████████████████████████████████████████████████████████████████████▉                          | 43/50 [06:50<01:12, 10.35s/it]"
     ]
    },
    {
     "name": "stdout",
     "output_type": "stream",
     "text": [
      "drums           ==> SDR:   3.058  SIR: 170.102  ISR:   4.309  SAR:   1.809  \n",
      "bass            ==> SDR:   3.058  SIR: 170.102  ISR:   4.309  SAR:   1.809  \n",
      "\n"
     ]
    },
    {
     "name": "stderr",
     "output_type": "stream",
     "text": [
      " 88%|███████████████████████████████████████████████████████████████████████████████████████████████████████████████████████████████████████████████████████████████████▋                      | 44/50 [06:59<01:00, 10.03s/it]"
     ]
    },
    {
     "name": "stdout",
     "output_type": "stream",
     "text": [
      "drums           ==> SDR:   0.882  SIR: 211.742  ISR:   2.125  SAR:   0.431  \n",
      "bass            ==> SDR:   0.882  SIR: 211.742  ISR:   2.125  SAR:   0.431  \n",
      "\n"
     ]
    },
    {
     "name": "stderr",
     "output_type": "stream",
     "text": [
      " 90%|███████████████████████████████████████████████████████████████████████████████████████████████████████████████████████████████████████████████████████████████████████▍                  | 45/50 [07:09<00:49,  9.86s/it]"
     ]
    },
    {
     "name": "stdout",
     "output_type": "stream",
     "text": [
      "drums           ==> SDR:   0.119  SIR: 199.528  ISR:   0.183  SAR:   1.751  \n",
      "bass            ==> SDR:   0.119  SIR: 199.528  ISR:   0.183  SAR:   1.751  \n",
      "\n"
     ]
    },
    {
     "name": "stderr",
     "output_type": "stream",
     "text": [
      " 92%|███████████████████████████████████████████████████████████████████████████████████████████████████████████████████████████████████████████████████████████████████████████               | 46/50 [07:19<00:39,  9.89s/it]"
     ]
    },
    {
     "name": "stdout",
     "output_type": "stream",
     "text": [
      "drums           ==> SDR:   1.375  SIR: 202.609  ISR:   2.193  SAR:  -1.829  \n",
      "bass            ==> SDR:   1.375  SIR: 202.609  ISR:   2.193  SAR:  -1.829  \n",
      "\n"
     ]
    },
    {
     "name": "stderr",
     "output_type": "stream",
     "text": [
      " 94%|██████████████████████████████████████████████████████████████████████████████████████████████████████████████████████████████████████████████████████████████████████████████▊           | 47/50 [07:28<00:29,  9.74s/it]"
     ]
    },
    {
     "name": "stdout",
     "output_type": "stream",
     "text": [
      "drums           ==> SDR:   3.520  SIR: 159.556  ISR:   6.338  SAR:   2.945  \n",
      "bass            ==> SDR:   3.520  SIR: 159.556  ISR:   6.338  SAR:   2.945  \n",
      "\n"
     ]
    },
    {
     "name": "stderr",
     "output_type": "stream",
     "text": [
      " 96%|██████████████████████████████████████████████████████████████████████████████████████████████████████████████████████████████████████████████████████████████████████████████████▌       | 48/50 [07:39<00:20, 10.02s/it]"
     ]
    },
    {
     "name": "stdout",
     "output_type": "stream",
     "text": [
      "drums           ==> SDR:   2.195  SIR: 211.439  ISR:   3.317  SAR:   0.617  \n",
      "bass            ==> SDR:   2.195  SIR: 211.439  ISR:   3.317  SAR:   0.617  \n",
      "\n"
     ]
    },
    {
     "name": "stderr",
     "output_type": "stream",
     "text": [
      " 98%|██████████████████████████████████████████████████████████████████████████████████████████████████████████████████████████████████████████████████████████████████████████████████████▎   | 49/50 [07:49<00:10, 10.01s/it]"
     ]
    },
    {
     "name": "stdout",
     "output_type": "stream",
     "text": [
      "drums           ==> SDR:   3.616  SIR: 208.349  ISR:   4.143  SAR:  -0.061  \n",
      "bass            ==> SDR:   3.616  SIR: 208.349  ISR:   4.143  SAR:  -0.061  \n",
      "\n"
     ]
    },
    {
     "name": "stderr",
     "output_type": "stream",
     "text": [
      "100%|██████████████████████████████████████████████████████████████████████████████████████████████████████████████████████████████████████████████████████████████████████████████████████████| 50/50 [07:59<00:00,  9.59s/it]"
     ]
    },
    {
     "name": "stdout",
     "output_type": "stream",
     "text": [
      "drums           ==> SDR:   3.798  SIR: 210.545  ISR:   5.674  SAR:   3.029  \n",
      "bass            ==> SDR:   3.798  SIR: 210.545  ISR:   5.674  SAR:   3.029  \n",
      "\n"
     ]
    },
    {
     "name": "stderr",
     "output_type": "stream",
     "text": [
      "\n",
      "  2%|███▋                                                                                                                                                                                       | 1/50 [00:09<07:46,  9.52s/it]"
     ]
    },
    {
     "name": "stdout",
     "output_type": "stream",
     "text": [
      "drums           ==> SDR:   0.652  SIR: 198.613  ISR:   1.132  SAR:   0.081  \n",
      "bass            ==> SDR:   0.652  SIR: 198.613  ISR:   1.132  SAR:   0.081  \n",
      "\n"
     ]
    },
    {
     "name": "stderr",
     "output_type": "stream",
     "text": [
      "  4%|███████▍                                                                                                                                                                                   | 2/50 [00:18<07:33,  9.44s/it]"
     ]
    },
    {
     "name": "stdout",
     "output_type": "stream",
     "text": [
      "drums           ==> SDR:   1.426  SIR: 172.516  ISR:   3.095  SAR:  -1.073  \n",
      "bass            ==> SDR:   1.426  SIR: 172.516  ISR:   3.095  SAR:  -1.073  \n",
      "\n"
     ]
    },
    {
     "name": "stderr",
     "output_type": "stream",
     "text": [
      "  6%|███████████▏                                                                                                                                                                               | 3/50 [00:28<07:35,  9.69s/it]"
     ]
    },
    {
     "name": "stdout",
     "output_type": "stream",
     "text": [
      "drums           ==> SDR:   0.964  SIR: 234.275  ISR:   2.495  SAR:  -0.706  \n",
      "bass            ==> SDR:   0.964  SIR: 234.275  ISR:   2.495  SAR:  -0.706  \n",
      "\n"
     ]
    },
    {
     "name": "stderr",
     "output_type": "stream",
     "text": [
      "  8%|██████████████▉                                                                                                                                                                            | 4/50 [00:38<07:29,  9.78s/it]"
     ]
    },
    {
     "name": "stdout",
     "output_type": "stream",
     "text": [
      "drums           ==> SDR:   1.216  SIR: 216.600  ISR:   2.553  SAR:  -1.213  \n",
      "bass            ==> SDR:   1.216  SIR: 216.600  ISR:   2.553  SAR:  -1.213  \n",
      "\n"
     ]
    },
    {
     "name": "stderr",
     "output_type": "stream",
     "text": [
      " 10%|██████████████████▋                                                                                                                                                                        | 5/50 [00:50<07:44, 10.32s/it]"
     ]
    },
    {
     "name": "stdout",
     "output_type": "stream",
     "text": [
      "drums           ==> SDR:   0.190  SIR: 189.560  ISR:   1.969  SAR:  -0.198  \n",
      "bass            ==> SDR:   0.190  SIR: 189.560  ISR:   1.969  SAR:  -0.198  \n",
      "\n"
     ]
    },
    {
     "name": "stderr",
     "output_type": "stream",
     "text": [
      " 12%|██████████████████████▍                                                                                                                                                                    | 6/50 [01:02<07:59, 10.91s/it]"
     ]
    },
    {
     "name": "stdout",
     "output_type": "stream",
     "text": [
      "drums           ==> SDR:   1.927  SIR: 234.015  ISR:   3.519  SAR:   1.012  \n",
      "bass            ==> SDR:   1.927  SIR: 234.015  ISR:   3.519  SAR:   1.012  \n",
      "\n"
     ]
    },
    {
     "name": "stderr",
     "output_type": "stream",
     "text": [
      " 14%|██████████████████████████▏                                                                                                                                                                | 7/50 [01:11<07:34, 10.57s/it]"
     ]
    },
    {
     "name": "stdout",
     "output_type": "stream",
     "text": [
      "drums           ==> SDR:   1.206  SIR: 219.183  ISR:   2.814  SAR:  -0.281  \n",
      "bass            ==> SDR:   1.206  SIR: 219.183  ISR:   2.814  SAR:  -0.281  \n",
      "\n"
     ]
    },
    {
     "name": "stderr",
     "output_type": "stream",
     "text": [
      " 16%|█████████████████████████████▉                                                                                                                                                             | 8/50 [01:21<07:05, 10.13s/it]"
     ]
    },
    {
     "name": "stdout",
     "output_type": "stream",
     "text": [
      "drums           ==> SDR:   0.919  SIR: 238.199  ISR:   2.646  SAR:  -1.406  \n",
      "bass            ==> SDR:   0.919  SIR: 238.199  ISR:   2.646  SAR:  -1.406  \n",
      "\n"
     ]
    },
    {
     "name": "stderr",
     "output_type": "stream",
     "text": [
      " 18%|█████████████████████████████████▋                                                                                                                                                         | 9/50 [01:30<06:46,  9.92s/it]"
     ]
    },
    {
     "name": "stdout",
     "output_type": "stream",
     "text": [
      "drums           ==> SDR:   0.036  SIR: 138.238  ISR:   0.118  SAR:  -3.084  \n",
      "bass            ==> SDR:   0.036  SIR: 138.238  ISR:   0.118  SAR:  -3.084  \n",
      "\n"
     ]
    },
    {
     "name": "stderr",
     "output_type": "stream",
     "text": [
      " 20%|█████████████████████████████████████▏                                                                                                                                                    | 10/50 [01:40<06:29,  9.75s/it]"
     ]
    },
    {
     "name": "stdout",
     "output_type": "stream",
     "text": [
      "drums           ==> SDR:  -2.159  SIR: 183.608  ISR:   4.938  SAR:  -6.273  \n",
      "bass            ==> SDR:  -2.159  SIR: 183.608  ISR:   4.938  SAR:  -6.273  \n",
      "\n"
     ]
    },
    {
     "name": "stderr",
     "output_type": "stream",
     "text": [
      " 22%|████████████████████████████████████████▉                                                                                                                                                 | 11/50 [01:49<06:17,  9.69s/it]"
     ]
    },
    {
     "name": "stdout",
     "output_type": "stream",
     "text": [
      "drums           ==> SDR:   0.168  SIR: 214.119  ISR:   1.075  SAR:   0.095  \n",
      "bass            ==> SDR:   0.168  SIR: 214.119  ISR:   1.075  SAR:   0.095  \n",
      "\n"
     ]
    },
    {
     "name": "stderr",
     "output_type": "stream",
     "text": [
      " 24%|████████████████████████████████████████████▋                                                                                                                                             | 12/50 [01:59<06:06,  9.64s/it]"
     ]
    },
    {
     "name": "stdout",
     "output_type": "stream",
     "text": [
      "drums           ==> SDR:   1.607  SIR: 224.424  ISR:   2.094  SAR:  -0.767  \n",
      "bass            ==> SDR:   1.607  SIR: 224.424  ISR:   2.094  SAR:  -0.767  \n",
      "\n"
     ]
    },
    {
     "name": "stderr",
     "output_type": "stream",
     "text": [
      " 26%|████████████████████████████████████████████████▎                                                                                                                                         | 13/50 [02:08<05:53,  9.55s/it]"
     ]
    },
    {
     "name": "stdout",
     "output_type": "stream",
     "text": [
      "drums           ==> SDR:   0.052  SIR:  73.247  ISR:   0.474  SAR:  -5.390  \n",
      "bass            ==> SDR:   0.052  SIR:  73.247  ISR:   0.474  SAR:  -5.390  \n",
      "\n"
     ]
    },
    {
     "name": "stderr",
     "output_type": "stream",
     "text": [
      " 28%|████████████████████████████████████████████████████                                                                                                                                      | 14/50 [02:17<05:42,  9.52s/it]"
     ]
    },
    {
     "name": "stdout",
     "output_type": "stream",
     "text": [
      "drums           ==> SDR:   6.015  SIR: 212.261  ISR:   5.603  SAR:   0.520  \n",
      "bass            ==> SDR:   6.015  SIR: 212.261  ISR:   5.603  SAR:   0.520  \n",
      "\n"
     ]
    },
    {
     "name": "stderr",
     "output_type": "stream",
     "text": [
      " 30%|███████████████████████████████████████████████████████▊                                                                                                                                  | 15/50 [02:27<05:34,  9.55s/it]"
     ]
    },
    {
     "name": "stdout",
     "output_type": "stream",
     "text": [
      "drums           ==> SDR:   1.905  SIR: 202.519  ISR:   2.489  SAR:  -0.347  \n",
      "bass            ==> SDR:   1.905  SIR: 202.519  ISR:   2.489  SAR:  -0.347  \n",
      "\n"
     ]
    },
    {
     "name": "stderr",
     "output_type": "stream",
     "text": [
      " 32%|███████████████████████████████████████████████████████████▌                                                                                                                              | 16/50 [02:37<05:30,  9.72s/it]"
     ]
    },
    {
     "name": "stdout",
     "output_type": "stream",
     "text": [
      "drums           ==> SDR:   0.057  SIR: 200.848  ISR:   0.120  SAR:  -5.323  \n",
      "bass            ==> SDR:   0.057  SIR: 200.848  ISR:   0.120  SAR:  -5.323  \n",
      "\n"
     ]
    },
    {
     "name": "stderr",
     "output_type": "stream",
     "text": [
      " 34%|███████████████████████████████████████████████████████████████▏                                                                                                                          | 17/50 [02:47<05:23,  9.80s/it]"
     ]
    },
    {
     "name": "stdout",
     "output_type": "stream",
     "text": [
      "drums           ==> SDR:   0.635  SIR: 216.754  ISR:   1.686  SAR:  -5.423  \n",
      "bass            ==> SDR:   0.635  SIR: 216.754  ISR:   1.686  SAR:  -5.423  \n",
      "\n"
     ]
    },
    {
     "name": "stderr",
     "output_type": "stream",
     "text": [
      " 36%|██████████████████████████████████████████████████████████████████▉                                                                                                                       | 18/50 [02:57<05:16,  9.89s/it]"
     ]
    },
    {
     "name": "stdout",
     "output_type": "stream",
     "text": [
      "drums           ==> SDR:   8.449  SIR: 206.770  ISR:  11.099  SAR:   8.213  \n",
      "bass            ==> SDR:   8.449  SIR: 206.770  ISR:  11.099  SAR:   8.213  \n",
      "\n"
     ]
    },
    {
     "name": "stderr",
     "output_type": "stream",
     "text": [
      " 38%|██████████████████████████████████████████████████████████████████████▋                                                                                                                   | 19/50 [03:07<05:01,  9.72s/it]"
     ]
    },
    {
     "name": "stdout",
     "output_type": "stream",
     "text": [
      "drums           ==> SDR:   0.109  SIR: 207.675  ISR:   0.659  SAR:  -1.161  \n",
      "bass            ==> SDR:   0.109  SIR: 207.675  ISR:   0.659  SAR:  -1.161  \n",
      "\n"
     ]
    },
    {
     "name": "stderr",
     "output_type": "stream",
     "text": [
      " 40%|██████████████████████████████████████████████████████████████████████████▍                                                                                                               | 20/50 [03:16<04:52,  9.75s/it]"
     ]
    },
    {
     "name": "stdout",
     "output_type": "stream",
     "text": [
      "drums           ==> SDR:   0.970  SIR: 215.164  ISR:   1.309  SAR:  -0.940  \n",
      "bass            ==> SDR:   0.970  SIR: 215.164  ISR:   1.309  SAR:  -0.940  \n",
      "\n"
     ]
    },
    {
     "name": "stderr",
     "output_type": "stream",
     "text": [
      " 42%|██████████████████████████████████████████████████████████████████████████████                                                                                                            | 21/50 [03:26<04:44,  9.80s/it]"
     ]
    },
    {
     "name": "stdout",
     "output_type": "stream",
     "text": [
      "drums           ==> SDR:   1.903  SIR: 179.259  ISR:   3.117  SAR:   0.063  \n",
      "bass            ==> SDR:   1.903  SIR: 179.259  ISR:   3.117  SAR:   0.063  \n",
      "\n"
     ]
    },
    {
     "name": "stderr",
     "output_type": "stream",
     "text": [
      " 44%|█████████████████████████████████████████████████████████████████████████████████▊                                                                                                        | 22/50 [03:35<04:27,  9.57s/it]"
     ]
    },
    {
     "name": "stdout",
     "output_type": "stream",
     "text": [
      "drums           ==> SDR:  -2.253  SIR: 269.757  ISR:   0.368  SAR: -16.164  \n",
      "bass            ==> SDR:  -2.253  SIR: 269.757  ISR:   0.368  SAR: -16.164  \n",
      "\n"
     ]
    },
    {
     "name": "stderr",
     "output_type": "stream",
     "text": [
      " 46%|█████████████████████████████████████████████████████████████████████████████████████▌                                                                                                    | 23/50 [03:45<04:20,  9.64s/it]"
     ]
    },
    {
     "name": "stdout",
     "output_type": "stream",
     "text": [
      "drums           ==> SDR:   0.190  SIR: 146.354  ISR:   0.428  SAR:  -1.041  \n",
      "bass            ==> SDR:   0.190  SIR: 146.354  ISR:   0.428  SAR:  -1.041  \n",
      "\n"
     ]
    },
    {
     "name": "stderr",
     "output_type": "stream",
     "text": [
      " 48%|█████████████████████████████████████████████████████████████████████████████████████████▎                                                                                                | 24/50 [03:55<04:09,  9.60s/it]"
     ]
    },
    {
     "name": "stdout",
     "output_type": "stream",
     "text": [
      "drums           ==> SDR:   0.513  SIR: 113.588  ISR:   0.678  SAR:  -0.003  \n",
      "bass            ==> SDR:   0.513  SIR: 113.588  ISR:   0.678  SAR:  -0.003  \n",
      "\n"
     ]
    },
    {
     "name": "stderr",
     "output_type": "stream",
     "text": [
      " 50%|█████████████████████████████████████████████████████████████████████████████████████████████                                                                                             | 25/50 [04:04<04:01,  9.64s/it]"
     ]
    },
    {
     "name": "stdout",
     "output_type": "stream",
     "text": [
      "drums           ==> SDR:   0.390  SIR: 219.765  ISR:   0.954  SAR:  -4.191  \n",
      "bass            ==> SDR:   0.390  SIR: 219.765  ISR:   0.954  SAR:  -4.191  \n",
      "\n"
     ]
    },
    {
     "name": "stderr",
     "output_type": "stream",
     "text": [
      " 52%|████████████████████████████████████████████████████████████████████████████████████████████████▋                                                                                         | 26/50 [04:13<03:47,  9.46s/it]"
     ]
    },
    {
     "name": "stdout",
     "output_type": "stream",
     "text": [
      "drums           ==> SDR:   0.325  SIR: 152.209  ISR:   0.535  SAR:  -0.902  \n",
      "bass            ==> SDR:   0.325  SIR: 152.209  ISR:   0.535  SAR:  -0.902  \n",
      "\n"
     ]
    },
    {
     "name": "stderr",
     "output_type": "stream",
     "text": [
      " 54%|████████████████████████████████████████████████████████████████████████████████████████████████████▍                                                                                     | 27/50 [04:23<03:36,  9.41s/it]"
     ]
    },
    {
     "name": "stdout",
     "output_type": "stream",
     "text": [
      "drums           ==> SDR:   1.716  SIR: 179.007  ISR:   4.786  SAR:   0.263  \n",
      "bass            ==> SDR:   1.716  SIR: 179.007  ISR:   4.786  SAR:   0.263  \n",
      "\n"
     ]
    },
    {
     "name": "stderr",
     "output_type": "stream",
     "text": [
      " 56%|████████████████████████████████████████████████████████████████████████████████████████████████████████▏                                                                                 | 28/50 [04:32<03:26,  9.37s/it]"
     ]
    },
    {
     "name": "stdout",
     "output_type": "stream",
     "text": [
      "drums           ==> SDR:   0.876  SIR: 194.293  ISR:   1.853  SAR:  -0.310  \n",
      "bass            ==> SDR:   0.876  SIR: 194.293  ISR:   1.853  SAR:  -0.310  \n",
      "\n"
     ]
    },
    {
     "name": "stderr",
     "output_type": "stream",
     "text": [
      " 58%|███████████████████████████████████████████████████████████████████████████████████████████████████████████▉                                                                              | 29/50 [04:42<03:20,  9.54s/it]"
     ]
    },
    {
     "name": "stdout",
     "output_type": "stream",
     "text": [
      "drums           ==> SDR:   0.277  SIR: 184.664  ISR:   0.795  SAR:  -0.020  \n",
      "bass            ==> SDR:   0.277  SIR: 184.664  ISR:   0.795  SAR:  -0.020  \n",
      "\n"
     ]
    },
    {
     "name": "stderr",
     "output_type": "stream",
     "text": [
      " 60%|███████████████████████████████████████████████████████████████████████████████████████████████████████████████▌                                                                          | 30/50 [04:52<03:15,  9.75s/it]"
     ]
    },
    {
     "name": "stdout",
     "output_type": "stream",
     "text": [
      "drums           ==> SDR:   0.566  SIR: 203.778  ISR:   1.271  SAR:  -0.844  \n",
      "bass            ==> SDR:   0.566  SIR: 203.778  ISR:   1.271  SAR:  -0.844  \n",
      "\n"
     ]
    },
    {
     "name": "stderr",
     "output_type": "stream",
     "text": [
      " 62%|███████████████████████████████████████████████████████████████████████████████████████████████████████████████████▎                                                                      | 31/50 [05:02<03:04,  9.72s/it]"
     ]
    },
    {
     "name": "stdout",
     "output_type": "stream",
     "text": [
      "drums           ==> SDR:   0.454  SIR: 189.337  ISR:   3.324  SAR:  -2.780  \n",
      "bass            ==> SDR:   0.454  SIR: 189.337  ISR:   3.324  SAR:  -2.780  \n",
      "\n"
     ]
    },
    {
     "name": "stderr",
     "output_type": "stream",
     "text": [
      " 64%|███████████████████████████████████████████████████████████████████████████████████████████████████████████████████████                                                                   | 32/50 [05:11<02:50,  9.49s/it]"
     ]
    },
    {
     "name": "stdout",
     "output_type": "stream",
     "text": [
      "drums           ==> SDR:   0.095  SIR: 183.545  ISR:   0.225  SAR:  -1.420  \n",
      "bass            ==> SDR:   0.095  SIR: 183.545  ISR:   0.225  SAR:  -1.420  \n",
      "\n"
     ]
    },
    {
     "name": "stderr",
     "output_type": "stream",
     "text": [
      " 66%|██████████████████████████████████████████████████████████████████████████████████████████████████████████████████████████▊                                                               | 33/50 [05:20<02:41,  9.50s/it]"
     ]
    },
    {
     "name": "stdout",
     "output_type": "stream",
     "text": [
      "drums           ==> SDR:   0.699  SIR: 222.867  ISR:   2.173  SAR:  -1.329  \n",
      "bass            ==> SDR:   0.699  SIR: 222.867  ISR:   2.173  SAR:  -1.329  \n",
      "\n"
     ]
    },
    {
     "name": "stderr",
     "output_type": "stream",
     "text": [
      " 68%|██████████████████████████████████████████████████████████████████████████████████████████████████████████████████████████████▍                                                           | 34/50 [05:30<02:32,  9.50s/it]"
     ]
    },
    {
     "name": "stdout",
     "output_type": "stream",
     "text": [
      "drums           ==> SDR:   1.133  SIR: 249.889  ISR:   1.642  SAR:   1.100  \n",
      "bass            ==> SDR:   1.133  SIR: 249.889  ISR:   1.642  SAR:   1.100  \n",
      "\n"
     ]
    },
    {
     "name": "stderr",
     "output_type": "stream",
     "text": [
      " 70%|██████████████████████████████████████████████████████████████████████████████████████████████████████████████████████████████████▏                                                       | 35/50 [05:39<02:23,  9.54s/it]"
     ]
    },
    {
     "name": "stdout",
     "output_type": "stream",
     "text": [
      "drums           ==> SDR:   0.648  SIR: 206.916  ISR:   0.867  SAR:  -1.813  \n",
      "bass            ==> SDR:   0.648  SIR: 206.916  ISR:   0.867  SAR:  -1.813  \n",
      "\n"
     ]
    },
    {
     "name": "stderr",
     "output_type": "stream",
     "text": [
      " 72%|█████████████████████████████████████████████████████████████████████████████████████████████████████████████████████████████████████▉                                                    | 36/50 [05:49<02:14,  9.62s/it]"
     ]
    },
    {
     "name": "stdout",
     "output_type": "stream",
     "text": [
      "drums           ==> SDR:   0.116  SIR: 210.444  ISR:   0.580  SAR:  -7.037  \n",
      "bass            ==> SDR:   0.116  SIR: 210.444  ISR:   0.580  SAR:  -7.037  \n",
      "\n"
     ]
    },
    {
     "name": "stderr",
     "output_type": "stream",
     "text": [
      " 74%|█████████████████████████████████████████████████████████████████████████████████████████████████████████████████████████████████████████▋                                                | 37/50 [05:59<02:06,  9.73s/it]"
     ]
    },
    {
     "name": "stdout",
     "output_type": "stream",
     "text": [
      "drums           ==> SDR:   0.133  SIR: 202.227  ISR:   3.371  SAR:  -2.726  \n",
      "bass            ==> SDR:   0.133  SIR: 202.227  ISR:   3.371  SAR:  -2.726  \n",
      "\n"
     ]
    },
    {
     "name": "stderr",
     "output_type": "stream",
     "text": [
      " 76%|█████████████████████████████████████████████████████████████████████████████████████████████████████████████████████████████████████████████▎                                            | 38/50 [06:09<01:58,  9.89s/it]"
     ]
    },
    {
     "name": "stdout",
     "output_type": "stream",
     "text": [
      "drums           ==> SDR:   0.727  SIR: 215.833  ISR:   1.215  SAR:  -1.853  \n",
      "bass            ==> SDR:   0.727  SIR: 215.833  ISR:   1.215  SAR:  -1.853  \n",
      "\n"
     ]
    },
    {
     "name": "stderr",
     "output_type": "stream",
     "text": [
      " 78%|█████████████████████████████████████████████████████████████████████████████████████████████████████████████████████████████████████████████████                                         | 39/50 [06:19<01:48,  9.89s/it]"
     ]
    },
    {
     "name": "stdout",
     "output_type": "stream",
     "text": [
      "drums           ==> SDR:   0.620  SIR: 222.248  ISR:   0.960  SAR:   0.686  \n",
      "bass            ==> SDR:   0.620  SIR: 222.248  ISR:   0.960  SAR:   0.686  \n",
      "\n"
     ]
    },
    {
     "name": "stderr",
     "output_type": "stream",
     "text": [
      " 80%|████████████████████████████████████████████████████████████████████████████████████████████████████████████████████████████████████████████████████▊                                     | 40/50 [06:29<01:39,  9.93s/it]"
     ]
    },
    {
     "name": "stdout",
     "output_type": "stream",
     "text": [
      "drums           ==> SDR:   2.669  SIR: 171.351  ISR:   3.385  SAR:   0.849  \n",
      "bass            ==> SDR:   2.669  SIR: 171.351  ISR:   3.385  SAR:   0.849  \n",
      "\n"
     ]
    },
    {
     "name": "stderr",
     "output_type": "stream",
     "text": [
      " 82%|████████████████████████████████████████████████████████████████████████████████████████████████████████████████████████████████████████████████████████▌                                 | 41/50 [06:39<01:29,  9.97s/it]"
     ]
    },
    {
     "name": "stdout",
     "output_type": "stream",
     "text": [
      "drums           ==> SDR:   0.069  SIR: 182.847  ISR:   3.500  SAR:  -2.366  \n",
      "bass            ==> SDR:   0.069  SIR: 182.847  ISR:   3.500  SAR:  -2.366  \n",
      "\n"
     ]
    },
    {
     "name": "stderr",
     "output_type": "stream",
     "text": [
      " 84%|████████████████████████████████████████████████████████████████████████████████████████████████████████████████████████████████████████████████████████████▏                             | 42/50 [06:49<01:19,  9.94s/it]"
     ]
    },
    {
     "name": "stdout",
     "output_type": "stream",
     "text": [
      "drums           ==> SDR:   0.300  SIR:  99.017  ISR:   1.120  SAR:  -0.381  \n",
      "bass            ==> SDR:   0.300  SIR:  99.017  ISR:   1.120  SAR:  -0.381  \n",
      "\n"
     ]
    },
    {
     "name": "stderr",
     "output_type": "stream",
     "text": [
      " 86%|███████████████████████████████████████████████████████████████████████████████████████████████████████████████████████████████████████████████████████████████▉                          | 43/50 [06:59<01:09,  9.89s/it]"
     ]
    },
    {
     "name": "stdout",
     "output_type": "stream",
     "text": [
      "drums           ==> SDR:   0.318  SIR: 161.038  ISR:   1.053  SAR:   0.400  \n",
      "bass            ==> SDR:   0.318  SIR: 161.038  ISR:   1.053  SAR:   0.400  \n",
      "\n"
     ]
    },
    {
     "name": "stderr",
     "output_type": "stream",
     "text": [
      " 88%|███████████████████████████████████████████████████████████████████████████████████████████████████████████████████████████████████████████████████████████████████▋                      | 44/50 [07:08<00:57,  9.54s/it]"
     ]
    },
    {
     "name": "stdout",
     "output_type": "stream",
     "text": [
      "drums           ==> SDR:   0.164  SIR: 208.990  ISR:   0.367  SAR:   0.661  \n",
      "bass            ==> SDR:   0.164  SIR: 208.990  ISR:   0.367  SAR:   0.661  \n",
      "\n"
     ]
    },
    {
     "name": "stderr",
     "output_type": "stream",
     "text": [
      " 90%|███████████████████████████████████████████████████████████████████████████████████████████████████████████████████████████████████████████████████████████████████████▍                  | 45/50 [07:18<00:48,  9.71s/it]"
     ]
    },
    {
     "name": "stdout",
     "output_type": "stream",
     "text": [
      "drums           ==> SDR:   0.173  SIR: 202.242  ISR:   0.265  SAR:   0.578  \n",
      "bass            ==> SDR:   0.173  SIR: 202.242  ISR:   0.265  SAR:   0.578  \n",
      "\n"
     ]
    },
    {
     "name": "stderr",
     "output_type": "stream",
     "text": [
      " 92%|███████████████████████████████████████████████████████████████████████████████████████████████████████████████████████████████████████████████████████████████████████████               | 46/50 [07:28<00:39,  9.85s/it]"
     ]
    },
    {
     "name": "stdout",
     "output_type": "stream",
     "text": [
      "drums           ==> SDR:   1.181  SIR: 202.398  ISR:   2.127  SAR:  -2.834  \n",
      "bass            ==> SDR:   1.181  SIR: 202.398  ISR:   2.127  SAR:  -2.834  \n",
      "\n"
     ]
    },
    {
     "name": "stderr",
     "output_type": "stream",
     "text": [
      " 94%|██████████████████████████████████████████████████████████████████████████████████████████████████████████████████████████████████████████████████████████████████████████████▊           | 47/50 [07:37<00:29,  9.72s/it]"
     ]
    },
    {
     "name": "stdout",
     "output_type": "stream",
     "text": [
      "drums           ==> SDR:   1.204  SIR: 156.274  ISR:   4.240  SAR:  -0.331  \n",
      "bass            ==> SDR:   1.204  SIR: 156.274  ISR:   4.240  SAR:  -0.331  \n",
      "\n"
     ]
    },
    {
     "name": "stderr",
     "output_type": "stream",
     "text": [
      " 96%|██████████████████████████████████████████████████████████████████████████████████████████████████████████████████████████████████████████████████████████████████████████████████▌       | 48/50 [07:47<00:19,  9.68s/it]"
     ]
    },
    {
     "name": "stdout",
     "output_type": "stream",
     "text": [
      "drums           ==> SDR:   0.240  SIR: 198.233  ISR:   0.412  SAR:  -1.961  \n",
      "bass            ==> SDR:   0.240  SIR: 198.233  ISR:   0.412  SAR:  -1.961  \n",
      "\n"
     ]
    },
    {
     "name": "stderr",
     "output_type": "stream",
     "text": [
      " 98%|██████████████████████████████████████████████████████████████████████████████████████████████████████████████████████████████████████████████████████████████████████████████████████▎   | 49/50 [07:57<00:09,  9.79s/it]"
     ]
    },
    {
     "name": "stdout",
     "output_type": "stream",
     "text": [
      "drums           ==> SDR:   0.079  SIR: 212.571  ISR:   2.260  SAR:  -0.020  \n",
      "bass            ==> SDR:   0.079  SIR: 212.571  ISR:   2.260  SAR:  -0.020  \n",
      "\n"
     ]
    },
    {
     "name": "stderr",
     "output_type": "stream",
     "text": [
      "100%|██████████████████████████████████████████████████████████████████████████████████████████████████████████████████████████████████████████████████████████████████████████████████████████| 50/50 [08:07<00:00,  9.75s/it]"
     ]
    },
    {
     "name": "stdout",
     "output_type": "stream",
     "text": [
      "drums           ==> SDR:   1.120  SIR: 202.204  ISR:   2.649  SAR:  -0.435  \n",
      "bass            ==> SDR:   1.120  SIR: 202.204  ISR:   2.649  SAR:  -0.435  \n",
      "\n"
     ]
    },
    {
     "name": "stderr",
     "output_type": "stream",
     "text": [
      "\n",
      "  2%|███▋                                                                                                                                                                                       | 1/50 [00:09<07:44,  9.48s/it]"
     ]
    },
    {
     "name": "stdout",
     "output_type": "stream",
     "text": [
      "drums           ==> SDR:   0.632  SIR: 196.343  ISR:   1.103  SAR:   0.513  \n",
      "bass            ==> SDR:   0.632  SIR: 196.343  ISR:   1.103  SAR:   0.513  \n",
      "\n"
     ]
    },
    {
     "name": "stderr",
     "output_type": "stream",
     "text": [
      "  4%|███████▍                                                                                                                                                                                   | 2/50 [00:19<07:44,  9.67s/it]"
     ]
    },
    {
     "name": "stdout",
     "output_type": "stream",
     "text": [
      "drums           ==> SDR:   1.414  SIR: 170.810  ISR:   2.532  SAR:  -1.680  \n",
      "bass            ==> SDR:   1.414  SIR: 170.810  ISR:   2.532  SAR:  -1.680  \n",
      "\n"
     ]
    },
    {
     "name": "stderr",
     "output_type": "stream",
     "text": [
      "  6%|███████████▏                                                                                                                                                                               | 3/50 [00:28<07:25,  9.48s/it]"
     ]
    },
    {
     "name": "stdout",
     "output_type": "stream",
     "text": [
      "drums           ==> SDR:   1.609  SIR: 221.527  ISR:   2.833  SAR:  -0.322  \n",
      "bass            ==> SDR:   1.609  SIR: 221.527  ISR:   2.833  SAR:  -0.322  \n",
      "\n"
     ]
    },
    {
     "name": "stderr",
     "output_type": "stream",
     "text": [
      "  8%|██████████████▉                                                                                                                                                                            | 4/50 [00:38<07:17,  9.51s/it]"
     ]
    },
    {
     "name": "stdout",
     "output_type": "stream",
     "text": [
      "drums           ==> SDR:   1.344  SIR: 218.905  ISR:   2.790  SAR:  -0.792  \n",
      "bass            ==> SDR:   1.344  SIR: 218.905  ISR:   2.790  SAR:  -0.792  \n",
      "\n"
     ]
    },
    {
     "name": "stderr",
     "output_type": "stream",
     "text": [
      " 10%|██████████████████▋                                                                                                                                                                        | 5/50 [00:48<07:14,  9.66s/it]"
     ]
    },
    {
     "name": "stdout",
     "output_type": "stream",
     "text": [
      "drums           ==> SDR:   0.305  SIR: 185.124  ISR:   1.392  SAR:  -0.642  \n",
      "bass            ==> SDR:   0.305  SIR: 185.124  ISR:   1.392  SAR:  -0.642  \n",
      "\n"
     ]
    },
    {
     "name": "stderr",
     "output_type": "stream",
     "text": [
      " 12%|██████████████████████▍                                                                                                                                                                    | 6/50 [00:58<07:13,  9.85s/it]"
     ]
    },
    {
     "name": "stdout",
     "output_type": "stream",
     "text": [
      "drums           ==> SDR:   2.153  SIR: 233.778  ISR:   3.463  SAR:   0.786  \n",
      "bass            ==> SDR:   2.153  SIR: 233.778  ISR:   3.463  SAR:   0.786  \n",
      "\n"
     ]
    },
    {
     "name": "stderr",
     "output_type": "stream",
     "text": [
      " 14%|██████████████████████████▏                                                                                                                                                                | 7/50 [01:08<07:02,  9.83s/it]"
     ]
    },
    {
     "name": "stdout",
     "output_type": "stream",
     "text": [
      "drums           ==> SDR:   1.149  SIR: 217.859  ISR:   2.709  SAR:  -0.148  \n",
      "bass            ==> SDR:   1.149  SIR: 217.859  ISR:   2.709  SAR:  -0.148  \n",
      "\n"
     ]
    },
    {
     "name": "stderr",
     "output_type": "stream",
     "text": [
      " 16%|█████████████████████████████▉                                                                                                                                                             | 8/50 [01:17<06:51,  9.81s/it]"
     ]
    },
    {
     "name": "stdout",
     "output_type": "stream",
     "text": [
      "drums           ==> SDR:   1.485  SIR: 240.776  ISR:   3.586  SAR:  -0.874  \n",
      "bass            ==> SDR:   1.485  SIR: 240.776  ISR:   3.586  SAR:  -0.874  \n",
      "\n"
     ]
    },
    {
     "name": "stderr",
     "output_type": "stream",
     "text": [
      " 18%|█████████████████████████████████▋                                                                                                                                                         | 9/50 [01:27<06:38,  9.72s/it]"
     ]
    },
    {
     "name": "stdout",
     "output_type": "stream",
     "text": [
      "drums           ==> SDR:   4.787  SIR: 162.691  ISR:   6.889  SAR:   4.552  \n",
      "bass            ==> SDR:   4.787  SIR: 162.691  ISR:   6.889  SAR:   4.552  \n",
      "\n"
     ]
    },
    {
     "name": "stderr",
     "output_type": "stream",
     "text": [
      " 20%|█████████████████████████████████████▏                                                                                                                                                    | 10/50 [01:36<06:24,  9.61s/it]"
     ]
    },
    {
     "name": "stdout",
     "output_type": "stream",
     "text": [
      "drums           ==> SDR:  -2.159  SIR: 186.598  ISR:   1.373  SAR:  -8.571  \n",
      "bass            ==> SDR:  -2.159  SIR: 186.598  ISR:   1.373  SAR:  -8.571  \n",
      "\n"
     ]
    },
    {
     "name": "stderr",
     "output_type": "stream",
     "text": [
      " 22%|████████████████████████████████████████▉                                                                                                                                                 | 11/50 [01:46<06:18,  9.70s/it]"
     ]
    },
    {
     "name": "stdout",
     "output_type": "stream",
     "text": [
      "drums           ==> SDR:   0.144  SIR: 215.408  ISR:   0.914  SAR:  -0.441  \n",
      "bass            ==> SDR:   0.144  SIR: 215.408  ISR:   0.914  SAR:  -0.441  \n",
      "\n"
     ]
    },
    {
     "name": "stderr",
     "output_type": "stream",
     "text": [
      " 24%|████████████████████████████████████████████▋                                                                                                                                             | 12/50 [01:56<06:13,  9.83s/it]"
     ]
    },
    {
     "name": "stdout",
     "output_type": "stream",
     "text": [
      "drums           ==> SDR:   1.607  SIR: 224.424  ISR:   2.094  SAR:  -0.767  \n",
      "bass            ==> SDR:   1.607  SIR: 224.424  ISR:   2.094  SAR:  -0.767  \n",
      "\n"
     ]
    },
    {
     "name": "stderr",
     "output_type": "stream",
     "text": [
      " 26%|████████████████████████████████████████████████▎                                                                                                                                         | 13/50 [02:05<05:55,  9.60s/it]"
     ]
    },
    {
     "name": "stdout",
     "output_type": "stream",
     "text": [
      "drums           ==> SDR:   0.008  SIR:  81.417  ISR:   0.155  SAR:  -9.627  \n",
      "bass            ==> SDR:   0.008  SIR:  81.417  ISR:   0.155  SAR:  -9.627  \n",
      "\n"
     ]
    },
    {
     "name": "stderr",
     "output_type": "stream",
     "text": [
      " 28%|████████████████████████████████████████████████████                                                                                                                                      | 14/50 [02:15<05:41,  9.50s/it]"
     ]
    },
    {
     "name": "stdout",
     "output_type": "stream",
     "text": [
      "drums           ==> SDR:   0.810  SIR: 199.587  ISR:   1.792  SAR:  -1.983  \n",
      "bass            ==> SDR:   0.810  SIR: 199.587  ISR:   1.792  SAR:  -1.983  \n",
      "\n"
     ]
    },
    {
     "name": "stderr",
     "output_type": "stream",
     "text": [
      " 30%|███████████████████████████████████████████████████████▊                                                                                                                                  | 15/50 [02:24<05:31,  9.48s/it]"
     ]
    },
    {
     "name": "stdout",
     "output_type": "stream",
     "text": [
      "drums           ==> SDR:   2.000  SIR: 208.706  ISR:   2.720  SAR:  -0.060  \n",
      "bass            ==> SDR:   2.000  SIR: 208.706  ISR:   2.720  SAR:  -0.060  \n",
      "\n"
     ]
    },
    {
     "name": "stderr",
     "output_type": "stream",
     "text": [
      " 32%|███████████████████████████████████████████████████████████▌                                                                                                                              | 16/50 [02:34<05:22,  9.49s/it]"
     ]
    },
    {
     "name": "stdout",
     "output_type": "stream",
     "text": [
      "drums           ==> SDR:   0.057  SIR: 200.848  ISR:   0.120  SAR:  -5.323  \n",
      "bass            ==> SDR:   0.057  SIR: 200.848  ISR:   0.120  SAR:  -5.323  \n",
      "\n"
     ]
    },
    {
     "name": "stderr",
     "output_type": "stream",
     "text": [
      " 34%|███████████████████████████████████████████████████████████████▏                                                                                                                          | 17/50 [02:43<05:11,  9.45s/it]"
     ]
    },
    {
     "name": "stdout",
     "output_type": "stream",
     "text": [
      "drums           ==> SDR:   1.159  SIR: 221.520  ISR:   2.907  SAR:  -3.798  \n",
      "bass            ==> SDR:   1.159  SIR: 221.520  ISR:   2.907  SAR:  -3.798  \n",
      "\n"
     ]
    },
    {
     "name": "stderr",
     "output_type": "stream",
     "text": [
      " 36%|██████████████████████████████████████████████████████████████████▉                                                                                                                       | 18/50 [02:52<05:01,  9.43s/it]"
     ]
    },
    {
     "name": "stdout",
     "output_type": "stream",
     "text": [
      "drums           ==> SDR:   1.363  SIR: 193.446  ISR:   2.134  SAR:  -2.101  \n",
      "bass            ==> SDR:   1.363  SIR: 193.446  ISR:   2.134  SAR:  -2.101  \n",
      "\n"
     ]
    },
    {
     "name": "stderr",
     "output_type": "stream",
     "text": [
      " 38%|██████████████████████████████████████████████████████████████████████▋                                                                                                                   | 19/50 [03:02<04:52,  9.44s/it]"
     ]
    },
    {
     "name": "stdout",
     "output_type": "stream",
     "text": [
      "drums           ==> SDR:   0.086  SIR: 208.880  ISR:   0.621  SAR:  -0.720  \n",
      "bass            ==> SDR:   0.086  SIR: 208.880  ISR:   0.621  SAR:  -0.720  \n",
      "\n"
     ]
    },
    {
     "name": "stderr",
     "output_type": "stream",
     "text": [
      " 40%|██████████████████████████████████████████████████████████████████████████▍                                                                                                               | 20/50 [03:11<04:42,  9.41s/it]"
     ]
    },
    {
     "name": "stdout",
     "output_type": "stream",
     "text": [
      "drums           ==> SDR:   1.009  SIR: 217.086  ISR:   1.594  SAR:  -0.495  \n",
      "bass            ==> SDR:   1.009  SIR: 217.086  ISR:   1.594  SAR:  -0.495  \n",
      "\n"
     ]
    },
    {
     "name": "stderr",
     "output_type": "stream",
     "text": [
      " 42%|██████████████████████████████████████████████████████████████████████████████                                                                                                            | 21/50 [03:20<04:31,  9.36s/it]"
     ]
    },
    {
     "name": "stdout",
     "output_type": "stream",
     "text": [
      "drums           ==> SDR:   2.562  SIR: 177.731  ISR:   3.355  SAR:   1.173  \n",
      "bass            ==> SDR:   2.562  SIR: 177.731  ISR:   3.355  SAR:   1.173  \n",
      "\n"
     ]
    },
    {
     "name": "stderr",
     "output_type": "stream",
     "text": [
      " 44%|█████████████████████████████████████████████████████████████████████████████████▊                                                                                                        | 22/50 [03:29<04:20,  9.31s/it]"
     ]
    },
    {
     "name": "stdout",
     "output_type": "stream",
     "text": [
      "drums           ==> SDR:  -2.253  SIR: 269.757  ISR:   0.368  SAR: -16.164  \n",
      "bass            ==> SDR:  -2.253  SIR: 269.757  ISR:   0.368  SAR: -16.164  \n",
      "\n"
     ]
    },
    {
     "name": "stderr",
     "output_type": "stream",
     "text": [
      " 46%|█████████████████████████████████████████████████████████████████████████████████████▌                                                                                                    | 23/50 [03:39<04:12,  9.37s/it]"
     ]
    },
    {
     "name": "stdout",
     "output_type": "stream",
     "text": [
      "drums           ==> SDR:   0.531  SIR: 151.263  ISR:   1.460  SAR:  -2.480  \n",
      "bass            ==> SDR:   0.531  SIR: 151.263  ISR:   1.460  SAR:  -2.480  \n",
      "\n"
     ]
    },
    {
     "name": "stderr",
     "output_type": "stream",
     "text": [
      " 48%|█████████████████████████████████████████████████████████████████████████████████████████▎                                                                                                | 24/50 [03:48<04:03,  9.37s/it]"
     ]
    },
    {
     "name": "stdout",
     "output_type": "stream",
     "text": [
      "drums           ==> SDR:   0.818  SIR: 117.449  ISR:   2.058  SAR:   0.372  \n",
      "bass            ==> SDR:   0.818  SIR: 117.449  ISR:   2.058  SAR:   0.372  \n",
      "\n"
     ]
    },
    {
     "name": "stderr",
     "output_type": "stream",
     "text": [
      " 50%|█████████████████████████████████████████████████████████████████████████████████████████████                                                                                             | 25/50 [03:58<03:56,  9.45s/it]"
     ]
    },
    {
     "name": "stdout",
     "output_type": "stream",
     "text": [
      "drums           ==> SDR:   0.542  SIR: 216.825  ISR:   1.312  SAR:  -4.095  \n",
      "bass            ==> SDR:   0.542  SIR: 216.825  ISR:   1.312  SAR:  -4.095  \n",
      "\n"
     ]
    },
    {
     "name": "stderr",
     "output_type": "stream",
     "text": [
      " 52%|████████████████████████████████████████████████████████████████████████████████████████████████▋                                                                                         | 26/50 [04:07<03:47,  9.46s/it]"
     ]
    },
    {
     "name": "stdout",
     "output_type": "stream",
     "text": [
      "drums           ==> SDR:   0.344  SIR: 156.716  ISR:   1.262  SAR:   0.415  \n",
      "bass            ==> SDR:   0.344  SIR: 156.716  ISR:   1.262  SAR:   0.415  \n",
      "\n"
     ]
    },
    {
     "name": "stderr",
     "output_type": "stream",
     "text": [
      " 54%|████████████████████████████████████████████████████████████████████████████████████████████████████▍                                                                                     | 27/50 [04:17<03:37,  9.44s/it]"
     ]
    },
    {
     "name": "stdout",
     "output_type": "stream",
     "text": [
      "drums           ==> SDR:   4.745  SIR: 185.950  ISR:   9.256  SAR:   4.742  \n",
      "bass            ==> SDR:   4.745  SIR: 185.950  ISR:   9.256  SAR:   4.742  \n",
      "\n"
     ]
    },
    {
     "name": "stderr",
     "output_type": "stream",
     "text": [
      " 56%|████████████████████████████████████████████████████████████████████████████████████████████████████████▏                                                                                 | 28/50 [04:27<03:29,  9.52s/it]"
     ]
    },
    {
     "name": "stdout",
     "output_type": "stream",
     "text": [
      "drums           ==> SDR:   0.590  SIR: 187.902  ISR:   0.576  SAR:  -2.661  \n",
      "bass            ==> SDR:   0.590  SIR: 187.902  ISR:   0.576  SAR:  -2.661  \n",
      "\n"
     ]
    },
    {
     "name": "stderr",
     "output_type": "stream",
     "text": [
      " 58%|███████████████████████████████████████████████████████████████████████████████████████████████████████████▉                                                                              | 29/50 [04:36<03:22,  9.64s/it]"
     ]
    },
    {
     "name": "stdout",
     "output_type": "stream",
     "text": [
      "drums           ==> SDR:   0.220  SIR: 180.089  ISR:   0.305  SAR:  -0.984  \n",
      "bass            ==> SDR:   0.220  SIR: 180.089  ISR:   0.305  SAR:  -0.984  \n",
      "\n"
     ]
    },
    {
     "name": "stderr",
     "output_type": "stream",
     "text": [
      " 60%|███████████████████████████████████████████████████████████████████████████████████████████████████████████████▌                                                                          | 30/50 [04:46<03:14,  9.73s/it]"
     ]
    },
    {
     "name": "stdout",
     "output_type": "stream",
     "text": [
      "drums           ==> SDR:   0.280  SIR: 195.689  ISR:   0.557  SAR:  -1.011  \n",
      "bass            ==> SDR:   0.280  SIR: 195.689  ISR:   0.557  SAR:  -1.011  \n",
      "\n"
     ]
    },
    {
     "name": "stderr",
     "output_type": "stream",
     "text": [
      " 62%|███████████████████████████████████████████████████████████████████████████████████████████████████████████████████▎                                                                      | 31/50 [04:57<03:07,  9.89s/it]"
     ]
    },
    {
     "name": "stdout",
     "output_type": "stream",
     "text": [
      "drums           ==> SDR:   0.585  SIR: 191.053  ISR:   3.723  SAR:  -0.726  \n",
      "bass            ==> SDR:   0.585  SIR: 191.053  ISR:   3.723  SAR:  -0.726  \n",
      "\n"
     ]
    },
    {
     "name": "stderr",
     "output_type": "stream",
     "text": [
      " 64%|███████████████████████████████████████████████████████████████████████████████████████████████████████████████████████                                                                   | 32/50 [05:06<02:55,  9.75s/it]"
     ]
    },
    {
     "name": "stdout",
     "output_type": "stream",
     "text": [
      "drums           ==> SDR:   0.109  SIR: 183.458  ISR:   0.281  SAR:  -1.242  \n",
      "bass            ==> SDR:   0.109  SIR: 183.458  ISR:   0.281  SAR:  -1.242  \n",
      "\n"
     ]
    },
    {
     "name": "stderr",
     "output_type": "stream",
     "text": [
      " 66%|██████████████████████████████████████████████████████████████████████████████████████████████████████████████████████████▊                                                               | 33/50 [05:16<02:44,  9.68s/it]"
     ]
    },
    {
     "name": "stdout",
     "output_type": "stream",
     "text": [
      "drums           ==> SDR:   1.071  SIR: 221.640  ISR:   1.952  SAR:  -1.684  \n",
      "bass            ==> SDR:   1.071  SIR: 221.640  ISR:   1.952  SAR:  -1.684  \n",
      "\n"
     ]
    },
    {
     "name": "stderr",
     "output_type": "stream",
     "text": [
      " 68%|██████████████████████████████████████████████████████████████████████████████████████████████████████████████████████████████▍                                                           | 34/50 [05:25<02:33,  9.60s/it]"
     ]
    },
    {
     "name": "stdout",
     "output_type": "stream",
     "text": [
      "drums           ==> SDR:   1.506  SIR: 247.472  ISR:   2.088  SAR:  -0.100  \n",
      "bass            ==> SDR:   1.506  SIR: 247.472  ISR:   2.088  SAR:  -0.100  \n",
      "\n"
     ]
    },
    {
     "name": "stderr",
     "output_type": "stream",
     "text": [
      " 70%|██████████████████████████████████████████████████████████████████████████████████████████████████████████████████████████████████▏                                                       | 35/50 [05:35<02:23,  9.56s/it]"
     ]
    },
    {
     "name": "stdout",
     "output_type": "stream",
     "text": [
      "drums           ==> SDR:   0.648  SIR: 206.916  ISR:   0.867  SAR:  -1.813  \n",
      "bass            ==> SDR:   0.648  SIR: 206.916  ISR:   0.867  SAR:  -1.813  \n",
      "\n"
     ]
    },
    {
     "name": "stderr",
     "output_type": "stream",
     "text": [
      " 72%|█████████████████████████████████████████████████████████████████████████████████████████████████████████████████████████████████████▉                                                    | 36/50 [05:44<02:15,  9.69s/it]"
     ]
    },
    {
     "name": "stdout",
     "output_type": "stream",
     "text": [
      "drums           ==> SDR:   0.176  SIR: 216.370  ISR:   1.309  SAR:  -5.315  \n",
      "bass            ==> SDR:   0.176  SIR: 216.370  ISR:   1.309  SAR:  -5.315  \n",
      "\n"
     ]
    },
    {
     "name": "stderr",
     "output_type": "stream",
     "text": [
      " 74%|█████████████████████████████████████████████████████████████████████████████████████████████████████████████████████████████████████████▋                                                | 37/50 [05:54<02:06,  9.74s/it]"
     ]
    },
    {
     "name": "stdout",
     "output_type": "stream",
     "text": [
      "drums           ==> SDR:   0.177  SIR: 201.640  ISR:   3.820  SAR:  -3.117  \n",
      "bass            ==> SDR:   0.177  SIR: 201.640  ISR:   3.820  SAR:  -3.117  \n",
      "\n"
     ]
    },
    {
     "name": "stderr",
     "output_type": "stream",
     "text": [
      " 76%|█████████████████████████████████████████████████████████████████████████████████████████████████████████████████████████████████████████████▎                                            | 38/50 [06:04<01:55,  9.66s/it]"
     ]
    },
    {
     "name": "stdout",
     "output_type": "stream",
     "text": [
      "drums           ==> SDR:   0.786  SIR: 216.260  ISR:   1.382  SAR:  -1.780  \n",
      "bass            ==> SDR:   0.786  SIR: 216.260  ISR:   1.382  SAR:  -1.780  \n",
      "\n"
     ]
    },
    {
     "name": "stderr",
     "output_type": "stream",
     "text": [
      " 78%|█████████████████████████████████████████████████████████████████████████████████████████████████████████████████████████████████████████████████                                         | 39/50 [06:13<01:45,  9.62s/it]"
     ]
    },
    {
     "name": "stdout",
     "output_type": "stream",
     "text": [
      "drums           ==> SDR:   0.587  SIR: 223.412  ISR:   0.840  SAR:   0.421  \n",
      "bass            ==> SDR:   0.587  SIR: 223.412  ISR:   0.840  SAR:   0.421  \n",
      "\n"
     ]
    },
    {
     "name": "stderr",
     "output_type": "stream",
     "text": [
      " 80%|████████████████████████████████████████████████████████████████████████████████████████████████████████████████████████████████████████████████████▊                                     | 40/50 [06:23<01:35,  9.55s/it]"
     ]
    },
    {
     "name": "stdout",
     "output_type": "stream",
     "text": [
      "drums           ==> SDR:   0.303  SIR: 161.366  ISR:  -0.594  SAR:  -5.000  \n",
      "bass            ==> SDR:   0.303  SIR: 161.366  ISR:  -0.594  SAR:  -5.000  \n",
      "\n"
     ]
    },
    {
     "name": "stderr",
     "output_type": "stream",
     "text": [
      " 82%|████████████████████████████████████████████████████████████████████████████████████████████████████████████████████████████████████████████████████████▌                                 | 41/50 [06:32<01:25,  9.53s/it]"
     ]
    },
    {
     "name": "stdout",
     "output_type": "stream",
     "text": [
      "drums           ==> SDR:   0.041  SIR: 167.272  ISR:   0.945  SAR:  -5.034  \n",
      "bass            ==> SDR:   0.041  SIR: 167.272  ISR:   0.945  SAR:  -5.034  \n",
      "\n"
     ]
    },
    {
     "name": "stderr",
     "output_type": "stream",
     "text": [
      " 84%|████████████████████████████████████████████████████████████████████████████████████████████████████████████████████████████████████████████████████████████▏                             | 42/50 [06:42<01:16,  9.50s/it]"
     ]
    },
    {
     "name": "stdout",
     "output_type": "stream",
     "text": [
      "drums           ==> SDR:   0.300  SIR:  97.614  ISR:   0.754  SAR:  -0.804  \n",
      "bass            ==> SDR:   0.300  SIR:  97.614  ISR:   0.754  SAR:  -0.804  \n",
      "\n"
     ]
    },
    {
     "name": "stderr",
     "output_type": "stream",
     "text": [
      " 86%|███████████████████████████████████████████████████████████████████████████████████████████████████████████████████████████████████████████████████████████████▉                          | 43/50 [06:51<01:05,  9.42s/it]"
     ]
    },
    {
     "name": "stdout",
     "output_type": "stream",
     "text": [
      "drums           ==> SDR:   0.222  SIR: 159.489  ISR:   0.846  SAR:   0.652  \n",
      "bass            ==> SDR:   0.222  SIR: 159.489  ISR:   0.846  SAR:   0.652  \n",
      "\n"
     ]
    },
    {
     "name": "stderr",
     "output_type": "stream",
     "text": [
      " 88%|███████████████████████████████████████████████████████████████████████████████████████████████████████████████████████████████████████████████████████████████████▋                      | 44/50 [07:00<00:55,  9.23s/it]"
     ]
    },
    {
     "name": "stdout",
     "output_type": "stream",
     "text": [
      "drums           ==> SDR:   0.164  SIR: 208.890  ISR:   0.225  SAR:   0.725  \n",
      "bass            ==> SDR:   0.164  SIR: 208.890  ISR:   0.225  SAR:   0.725  \n",
      "\n"
     ]
    },
    {
     "name": "stderr",
     "output_type": "stream",
     "text": [
      " 90%|███████████████████████████████████████████████████████████████████████████████████████████████████████████████████████████████████████████████████████████████████████▍                  | 45/50 [07:09<00:46,  9.30s/it]"
     ]
    },
    {
     "name": "stdout",
     "output_type": "stream",
     "text": [
      "drums           ==> SDR:   0.112  SIR: 200.173  ISR:   0.158  SAR:   1.685  \n",
      "bass            ==> SDR:   0.112  SIR: 200.173  ISR:   0.158  SAR:   1.685  \n",
      "\n"
     ]
    },
    {
     "name": "stderr",
     "output_type": "stream",
     "text": [
      " 92%|███████████████████████████████████████████████████████████████████████████████████████████████████████████████████████████████████████████████████████████████████████████               | 46/50 [07:19<00:37,  9.38s/it]"
     ]
    },
    {
     "name": "stdout",
     "output_type": "stream",
     "text": [
      "drums           ==> SDR:   1.575  SIR: 204.182  ISR:   2.487  SAR:  -0.410  \n",
      "bass            ==> SDR:   1.575  SIR: 204.182  ISR:   2.487  SAR:  -0.410  \n",
      "\n"
     ]
    },
    {
     "name": "stderr",
     "output_type": "stream",
     "text": [
      " 94%|██████████████████████████████████████████████████████████████████████████████████████████████████████████████████████████████████████████████████████████████████████████████▊           | 47/50 [07:28<00:28,  9.48s/it]"
     ]
    },
    {
     "name": "stdout",
     "output_type": "stream",
     "text": [
      "drums           ==> SDR:   1.204  SIR: 156.274  ISR:   4.240  SAR:  -0.331  \n",
      "bass            ==> SDR:   1.204  SIR: 156.274  ISR:   4.240  SAR:  -0.331  \n",
      "\n"
     ]
    },
    {
     "name": "stderr",
     "output_type": "stream",
     "text": [
      " 96%|██████████████████████████████████████████████████████████████████████████████████████████████████████████████████████████████████████████████████████████████████████████████████▌       | 48/50 [07:38<00:18,  9.45s/it]"
     ]
    },
    {
     "name": "stdout",
     "output_type": "stream",
     "text": [
      "drums           ==> SDR:   0.252  SIR: 198.761  ISR:   0.511  SAR:  -1.739  \n",
      "bass            ==> SDR:   0.252  SIR: 198.761  ISR:   0.511  SAR:  -1.739  \n",
      "\n"
     ]
    },
    {
     "name": "stderr",
     "output_type": "stream",
     "text": [
      " 98%|██████████████████████████████████████████████████████████████████████████████████████████████████████████████████████████████████████████████████████████████████████████████████████▎   | 49/50 [07:48<00:09,  9.60s/it]"
     ]
    },
    {
     "name": "stdout",
     "output_type": "stream",
     "text": [
      "drums           ==> SDR:   6.067  SIR: 220.910  ISR:   7.650  SAR:   4.579  \n",
      "bass            ==> SDR:   6.067  SIR: 220.910  ISR:   7.650  SAR:   4.579  \n",
      "\n"
     ]
    },
    {
     "name": "stderr",
     "output_type": "stream",
     "text": [
      "100%|██████████████████████████████████████████████████████████████████████████████████████████████████████████████████████████████████████████████████████████████████████████████████████████| 50/50 [07:58<00:00,  9.57s/it]"
     ]
    },
    {
     "name": "stdout",
     "output_type": "stream",
     "text": [
      "drums           ==> SDR:   0.857  SIR: 209.455  ISR:   1.480  SAR:  -2.710  \n",
      "bass            ==> SDR:   0.857  SIR: 209.455  ISR:   1.480  SAR:  -2.710  \n",
      "\n"
     ]
    },
    {
     "name": "stderr",
     "output_type": "stream",
     "text": [
      "\n",
      "  2%|███▋                                                                                                                                                                                       | 1/50 [00:09<07:46,  9.51s/it]"
     ]
    },
    {
     "name": "stdout",
     "output_type": "stream",
     "text": [
      "drums           ==> SDR:  -0.004  SIR: 196.610  ISR:  -0.001  SAR: -32.914  \n",
      "bass            ==> SDR:  -0.004  SIR: 196.610  ISR:  -0.001  SAR: -32.914  \n",
      "\n"
     ]
    },
    {
     "name": "stderr",
     "output_type": "stream",
     "text": [
      "  4%|███████▍                                                                                                                                                                                   | 2/50 [00:19<07:42,  9.65s/it]"
     ]
    },
    {
     "name": "stdout",
     "output_type": "stream",
     "text": [
      "drums           ==> SDR:  -0.003  SIR: 151.841  ISR:   0.001  SAR: -30.963  \n",
      "bass            ==> SDR:  -0.003  SIR: 151.841  ISR:   0.001  SAR: -30.963  \n",
      "\n"
     ]
    },
    {
     "name": "stderr",
     "output_type": "stream",
     "text": [
      "  6%|███████████▏                                                                                                                                                                               | 3/50 [00:28<07:30,  9.58s/it]"
     ]
    },
    {
     "name": "stdout",
     "output_type": "stream",
     "text": [
      "drums           ==> SDR:  -0.002  SIR: 224.676  ISR:  -0.000  SAR: -25.395  \n",
      "bass            ==> SDR:  -0.002  SIR: 224.676  ISR:  -0.000  SAR: -25.395  \n",
      "\n"
     ]
    },
    {
     "name": "stderr",
     "output_type": "stream",
     "text": [
      "  8%|██████████████▉                                                                                                                                                                            | 4/50 [00:38<07:17,  9.51s/it]"
     ]
    },
    {
     "name": "stdout",
     "output_type": "stream",
     "text": [
      "drums           ==> SDR:  -0.002  SIR: 220.542  ISR:  -0.000  SAR: -25.689  \n",
      "bass            ==> SDR:  -0.002  SIR: 220.542  ISR:  -0.000  SAR: -25.689  \n",
      "\n"
     ]
    },
    {
     "name": "stderr",
     "output_type": "stream",
     "text": [
      " 10%|██████████████████▋                                                                                                                                                                        | 5/50 [00:48<07:13,  9.64s/it]"
     ]
    },
    {
     "name": "stdout",
     "output_type": "stream",
     "text": [
      "drums           ==> SDR:  -0.003  SIR: 178.232  ISR:  -0.001  SAR: -29.820  \n",
      "bass            ==> SDR:  -0.003  SIR: 178.232  ISR:  -0.001  SAR: -29.820  \n",
      "\n"
     ]
    },
    {
     "name": "stderr",
     "output_type": "stream",
     "text": [
      " 12%|██████████████████████▍                                                                                                                                                                    | 6/50 [00:57<06:58,  9.51s/it]"
     ]
    },
    {
     "name": "stdout",
     "output_type": "stream",
     "text": [
      "drums           ==> SDR:  -0.003  SIR: 220.681  ISR:  -0.001  SAR: -31.528  \n",
      "bass            ==> SDR:  -0.003  SIR: 220.681  ISR:  -0.001  SAR: -31.528  \n",
      "\n"
     ]
    },
    {
     "name": "stderr",
     "output_type": "stream",
     "text": [
      " 14%|██████████████████████████▏                                                                                                                                                                | 7/50 [01:07<06:52,  9.58s/it]"
     ]
    },
    {
     "name": "stdout",
     "output_type": "stream",
     "text": [
      "drums           ==> SDR:  -0.001  SIR: 209.534  ISR:   0.001  SAR: -29.308  \n",
      "bass            ==> SDR:  -0.001  SIR: 209.534  ISR:   0.001  SAR: -29.308  \n",
      "\n"
     ]
    },
    {
     "name": "stderr",
     "output_type": "stream",
     "text": [
      " 16%|█████████████████████████████▉                                                                                                                                                             | 8/50 [01:16<06:39,  9.51s/it]"
     ]
    },
    {
     "name": "stdout",
     "output_type": "stream",
     "text": [
      "drums           ==> SDR:  -0.002  SIR: 233.708  ISR:   0.000  SAR: -32.288  \n",
      "bass            ==> SDR:  -0.002  SIR: 233.708  ISR:   0.000  SAR: -32.288  \n",
      "\n"
     ]
    },
    {
     "name": "stderr",
     "output_type": "stream",
     "text": [
      " 18%|█████████████████████████████████▋                                                                                                                                                         | 9/50 [01:26<06:37,  9.69s/it]"
     ]
    },
    {
     "name": "stdout",
     "output_type": "stream",
     "text": [
      "drums           ==> SDR:  -0.002  SIR: 145.532  ISR:  -0.000  SAR: -24.948  \n",
      "bass            ==> SDR:  -0.002  SIR: 145.532  ISR:  -0.000  SAR: -24.948  \n",
      "\n"
     ]
    },
    {
     "name": "stderr",
     "output_type": "stream",
     "text": [
      " 20%|█████████████████████████████████████▏                                                                                                                                                    | 10/50 [01:36<06:31,  9.79s/it]"
     ]
    },
    {
     "name": "stdout",
     "output_type": "stream",
     "text": [
      "drums           ==> SDR: -12.770  SIR: 193.349  ISR:  -0.002  SAR: -54.852  \n",
      "bass            ==> SDR: -12.770  SIR: 193.349  ISR:  -0.002  SAR: -54.852  \n",
      "\n"
     ]
    },
    {
     "name": "stderr",
     "output_type": "stream",
     "text": [
      " 22%|████████████████████████████████████████▉                                                                                                                                                 | 11/50 [01:46<06:25,  9.88s/it]"
     ]
    },
    {
     "name": "stdout",
     "output_type": "stream",
     "text": [
      "drums           ==> SDR:  -0.000  SIR: 208.308  ISR:   0.002  SAR: -30.432  \n",
      "bass            ==> SDR:  -0.000  SIR: 208.308  ISR:   0.002  SAR: -30.432  \n",
      "\n"
     ]
    },
    {
     "name": "stderr",
     "output_type": "stream",
     "text": [
      " 24%|████████████████████████████████████████████▋                                                                                                                                             | 12/50 [01:56<06:17,  9.92s/it]"
     ]
    },
    {
     "name": "stdout",
     "output_type": "stream",
     "text": [
      "drums           ==> SDR:  -0.003  SIR: 218.028  ISR:  -0.003  SAR: -13.140  \n",
      "bass            ==> SDR:  -0.003  SIR: 218.028  ISR:  -0.003  SAR: -13.140  \n",
      "\n"
     ]
    },
    {
     "name": "stderr",
     "output_type": "stream",
     "text": [
      " 26%|████████████████████████████████████████████████▎                                                                                                                                         | 13/50 [02:05<05:58,  9.68s/it]"
     ]
    },
    {
     "name": "stdout",
     "output_type": "stream",
     "text": [
      "drums           ==> SDR:  -0.001  SIR:  55.854  ISR:  -0.000  SAR: -25.061  \n",
      "bass            ==> SDR:  -0.001  SIR:  55.854  ISR:  -0.000  SAR: -25.061  \n",
      "\n"
     ]
    },
    {
     "name": "stderr",
     "output_type": "stream",
     "text": [
      " 28%|████████████████████████████████████████████████████                                                                                                                                      | 14/50 [02:15<05:45,  9.61s/it]"
     ]
    },
    {
     "name": "stdout",
     "output_type": "stream",
     "text": [
      "drums           ==> SDR:  -0.000  SIR: 193.782  ISR:  -0.000  SAR: -31.906  \n",
      "bass            ==> SDR:  -0.000  SIR: 193.782  ISR:  -0.000  SAR: -31.906  \n",
      "\n"
     ]
    },
    {
     "name": "stderr",
     "output_type": "stream",
     "text": [
      " 30%|███████████████████████████████████████████████████████▊                                                                                                                                  | 15/50 [02:25<05:40,  9.73s/it]"
     ]
    },
    {
     "name": "stdout",
     "output_type": "stream",
     "text": [
      "drums           ==> SDR:  -0.002  SIR: 215.489  ISR:  -0.001  SAR: -29.568  \n",
      "bass            ==> SDR:  -0.002  SIR: 215.489  ISR:  -0.001  SAR: -29.568  \n",
      "\n"
     ]
    },
    {
     "name": "stderr",
     "output_type": "stream",
     "text": [
      " 32%|███████████████████████████████████████████████████████████▌                                                                                                                              | 16/50 [02:35<05:33,  9.80s/it]"
     ]
    },
    {
     "name": "stdout",
     "output_type": "stream",
     "text": [
      "drums           ==> SDR:  -0.005  SIR: 200.234  ISR:  -0.003  SAR: -26.958  \n",
      "bass            ==> SDR:  -0.005  SIR: 200.234  ISR:  -0.003  SAR: -26.958  \n",
      "\n"
     ]
    },
    {
     "name": "stderr",
     "output_type": "stream",
     "text": [
      " 34%|███████████████████████████████████████████████████████████████▏                                                                                                                          | 17/50 [02:44<05:22,  9.76s/it]"
     ]
    },
    {
     "name": "stdout",
     "output_type": "stream",
     "text": [
      "drums           ==> SDR:  -0.001  SIR: 209.782  ISR:  -0.001  SAR: -32.237  \n",
      "bass            ==> SDR:  -0.001  SIR: 209.782  ISR:  -0.001  SAR: -32.237  \n",
      "\n"
     ]
    },
    {
     "name": "stderr",
     "output_type": "stream",
     "text": [
      " 36%|██████████████████████████████████████████████████████████████████▉                                                                                                                       | 18/50 [02:54<05:08,  9.64s/it]"
     ]
    },
    {
     "name": "stdout",
     "output_type": "stream",
     "text": [
      "drums           ==> SDR:  -0.001  SIR: 185.713  ISR:   0.000  SAR: -27.046  \n",
      "bass            ==> SDR:  -0.001  SIR: 185.713  ISR:   0.000  SAR: -27.046  \n",
      "\n"
     ]
    },
    {
     "name": "stderr",
     "output_type": "stream",
     "text": [
      " 38%|██████████████████████████████████████████████████████████████████████▋                                                                                                                   | 19/50 [03:03<04:55,  9.53s/it]"
     ]
    },
    {
     "name": "stdout",
     "output_type": "stream",
     "text": [
      "drums           ==> SDR:   0.001  SIR: 191.543  ISR:   0.001  SAR: -26.999  \n",
      "bass            ==> SDR:   0.001  SIR: 191.543  ISR:   0.001  SAR: -26.999  \n",
      "\n"
     ]
    },
    {
     "name": "stderr",
     "output_type": "stream",
     "text": [
      " 40%|██████████████████████████████████████████████████████████████████████████▍                                                                                                               | 20/50 [03:12<04:45,  9.50s/it]"
     ]
    },
    {
     "name": "stdout",
     "output_type": "stream",
     "text": [
      "drums           ==> SDR:  -0.001  SIR: 209.069  ISR:  -0.001  SAR: -27.015  \n",
      "bass            ==> SDR:  -0.001  SIR: 209.069  ISR:  -0.001  SAR: -27.015  \n",
      "\n"
     ]
    },
    {
     "name": "stderr",
     "output_type": "stream",
     "text": [
      " 42%|██████████████████████████████████████████████████████████████████████████████                                                                                                            | 21/50 [03:22<04:34,  9.45s/it]"
     ]
    },
    {
     "name": "stdout",
     "output_type": "stream",
     "text": [
      "drums           ==> SDR:  -0.001  SIR: 151.321  ISR:  -0.001  SAR: -27.545  \n",
      "bass            ==> SDR:  -0.001  SIR: 151.321  ISR:  -0.001  SAR: -27.545  \n",
      "\n"
     ]
    },
    {
     "name": "stderr",
     "output_type": "stream",
     "text": [
      " 44%|█████████████████████████████████████████████████████████████████████████████████▊                                                                                                        | 22/50 [03:31<04:24,  9.46s/it]"
     ]
    },
    {
     "name": "stdout",
     "output_type": "stream",
     "text": [
      "drums           ==> SDR:  -5.372  SIR: 270.726  ISR:   0.014  SAR: -15.140  \n",
      "bass            ==> SDR:  -5.372  SIR: 270.726  ISR:   0.014  SAR: -15.140  \n",
      "\n"
     ]
    },
    {
     "name": "stderr",
     "output_type": "stream",
     "text": [
      " 46%|█████████████████████████████████████████████████████████████████████████████████████▌                                                                                                    | 23/50 [03:40<04:12,  9.34s/it]"
     ]
    },
    {
     "name": "stdout",
     "output_type": "stream",
     "text": [
      "drums           ==> SDR:  -0.000  SIR: 136.491  ISR:  -0.001  SAR: -23.871  \n",
      "bass            ==> SDR:  -0.000  SIR: 136.491  ISR:  -0.001  SAR: -23.871  \n",
      "\n"
     ]
    },
    {
     "name": "stderr",
     "output_type": "stream",
     "text": [
      " 48%|█████████████████████████████████████████████████████████████████████████████████████████▎                                                                                                | 24/50 [03:50<04:03,  9.35s/it]"
     ]
    },
    {
     "name": "stdout",
     "output_type": "stream",
     "text": [
      "drums           ==> SDR:  -0.000  SIR: 117.972  ISR:   0.001  SAR: -26.816  \n",
      "bass            ==> SDR:  -0.000  SIR: 117.972  ISR:   0.001  SAR: -26.816  \n",
      "\n"
     ]
    },
    {
     "name": "stderr",
     "output_type": "stream",
     "text": [
      " 50%|█████████████████████████████████████████████████████████████████████████████████████████████                                                                                             | 25/50 [04:00<04:00,  9.61s/it]"
     ]
    },
    {
     "name": "stdout",
     "output_type": "stream",
     "text": [
      "drums           ==> SDR:  -0.003  SIR: 220.056  ISR:   0.003  SAR: -27.469  \n",
      "bass            ==> SDR:  -0.003  SIR: 220.056  ISR:   0.003  SAR: -27.469  \n",
      "\n"
     ]
    },
    {
     "name": "stderr",
     "output_type": "stream",
     "text": [
      " 52%|████████████████████████████████████████████████████████████████████████████████████████████████▋                                                                                         | 26/50 [04:09<03:49,  9.55s/it]"
     ]
    },
    {
     "name": "stdout",
     "output_type": "stream",
     "text": [
      "drums           ==> SDR:  -0.001  SIR: 156.309  ISR:  -0.001  SAR: -29.556  \n",
      "bass            ==> SDR:  -0.001  SIR: 156.309  ISR:  -0.001  SAR: -29.556  \n",
      "\n"
     ]
    },
    {
     "name": "stderr",
     "output_type": "stream",
     "text": [
      " 54%|████████████████████████████████████████████████████████████████████████████████████████████████████▍                                                                                     | 27/50 [04:19<03:39,  9.53s/it]"
     ]
    },
    {
     "name": "stdout",
     "output_type": "stream",
     "text": [
      "drums           ==> SDR:  -0.004  SIR: 160.083  ISR:  -0.003  SAR: -22.574  \n",
      "bass            ==> SDR:  -0.004  SIR: 160.083  ISR:  -0.003  SAR: -22.574  \n",
      "\n"
     ]
    },
    {
     "name": "stderr",
     "output_type": "stream",
     "text": [
      " 56%|████████████████████████████████████████████████████████████████████████████████████████████████████████▏                                                                                 | 28/50 [04:30<03:42, 10.13s/it]"
     ]
    },
    {
     "name": "stdout",
     "output_type": "stream",
     "text": [
      "drums           ==> SDR:  -0.000  SIR: 171.135  ISR:  -0.000  SAR: -29.720  \n",
      "bass            ==> SDR:  -0.000  SIR: 171.135  ISR:  -0.000  SAR: -29.720  \n",
      "\n"
     ]
    },
    {
     "name": "stderr",
     "output_type": "stream",
     "text": [
      " 58%|███████████████████████████████████████████████████████████████████████████████████████████████████████████▉                                                                              | 29/50 [04:42<03:44, 10.70s/it]"
     ]
    },
    {
     "name": "stdout",
     "output_type": "stream",
     "text": [
      "drums           ==> SDR:  -0.001  SIR: 178.221  ISR:  -0.000  SAR: -28.197  \n",
      "bass            ==> SDR:  -0.001  SIR: 178.221  ISR:  -0.000  SAR: -28.197  \n",
      "\n"
     ]
    },
    {
     "name": "stderr",
     "output_type": "stream",
     "text": [
      " 60%|███████████████████████████████████████████████████████████████████████████████████████████████████████████████▌                                                                          | 30/50 [04:55<03:46, 11.33s/it]"
     ]
    },
    {
     "name": "stdout",
     "output_type": "stream",
     "text": [
      "drums           ==> SDR:  -0.002  SIR: 175.264  ISR:  -0.001  SAR: -20.523  \n",
      "bass            ==> SDR:  -0.002  SIR: 175.264  ISR:  -0.001  SAR: -20.523  \n",
      "\n"
     ]
    },
    {
     "name": "stderr",
     "output_type": "stream",
     "text": [
      " 62%|███████████████████████████████████████████████████████████████████████████████████████████████████████████████████▎                                                                      | 31/50 [05:07<03:36, 11.41s/it]"
     ]
    },
    {
     "name": "stdout",
     "output_type": "stream",
     "text": [
      "drums           ==> SDR:  -0.003  SIR: 181.945  ISR:   0.001  SAR: -29.780  \n",
      "bass            ==> SDR:  -0.003  SIR: 181.945  ISR:   0.001  SAR: -29.780  \n",
      "\n"
     ]
    },
    {
     "name": "stderr",
     "output_type": "stream",
     "text": [
      " 64%|███████████████████████████████████████████████████████████████████████████████████████████████████████████████████████                                                                   | 32/50 [05:17<03:19, 11.08s/it]"
     ]
    },
    {
     "name": "stdout",
     "output_type": "stream",
     "text": [
      "drums           ==> SDR:  -0.002  SIR: 188.052  ISR:  -0.002  SAR: -29.406  \n",
      "bass            ==> SDR:  -0.002  SIR: 188.052  ISR:  -0.002  SAR: -29.406  \n",
      "\n"
     ]
    },
    {
     "name": "stderr",
     "output_type": "stream",
     "text": [
      " 66%|██████████████████████████████████████████████████████████████████████████████████████████████████████████████████████████▊                                                               | 33/50 [05:28<03:05, 10.92s/it]"
     ]
    },
    {
     "name": "stdout",
     "output_type": "stream",
     "text": [
      "drums           ==> SDR:  -0.003  SIR: 211.090  ISR:   0.001  SAR: -29.911  \n",
      "bass            ==> SDR:  -0.003  SIR: 211.090  ISR:   0.001  SAR: -29.911  \n",
      "\n"
     ]
    },
    {
     "name": "stderr",
     "output_type": "stream",
     "text": [
      " 68%|██████████████████████████████████████████████████████████████████████████████████████████████████████████████████████████████▍                                                           | 34/50 [05:38<02:52, 10.78s/it]"
     ]
    },
    {
     "name": "stdout",
     "output_type": "stream",
     "text": [
      "drums           ==> SDR:  -0.001  SIR: 240.202  ISR:   0.001  SAR: -34.332  \n",
      "bass            ==> SDR:  -0.001  SIR: 240.202  ISR:   0.001  SAR: -34.332  \n",
      "\n"
     ]
    },
    {
     "name": "stderr",
     "output_type": "stream",
     "text": [
      " 70%|██████████████████████████████████████████████████████████████████████████████████████████████████████████████████████████████████▏                                                       | 35/50 [05:49<02:40, 10.73s/it]"
     ]
    },
    {
     "name": "stdout",
     "output_type": "stream",
     "text": [
      "drums           ==> SDR:  -0.003  SIR: 206.535  ISR:  -0.002  SAR: -24.296  \n",
      "bass            ==> SDR:  -0.003  SIR: 206.535  ISR:  -0.002  SAR: -24.296  \n",
      "\n"
     ]
    },
    {
     "name": "stderr",
     "output_type": "stream",
     "text": [
      " 72%|█████████████████████████████████████████████████████████████████████████████████████████████████████████████████████████████████████▉                                                    | 36/50 [05:59<02:28, 10.60s/it]"
     ]
    },
    {
     "name": "stdout",
     "output_type": "stream",
     "text": [
      "drums           ==> SDR:  -0.008  SIR: 184.456  ISR:   0.000  SAR: -27.362  \n",
      "bass            ==> SDR:  -0.008  SIR: 184.456  ISR:   0.000  SAR: -27.362  \n",
      "\n"
     ]
    },
    {
     "name": "stderr",
     "output_type": "stream",
     "text": [
      " 74%|█████████████████████████████████████████████████████████████████████████████████████████████████████████████████████████████████████████▋                                                | 37/50 [06:09<02:15, 10.43s/it]"
     ]
    },
    {
     "name": "stdout",
     "output_type": "stream",
     "text": [
      "drums           ==> SDR:  -0.006  SIR: 187.171  ISR:   0.000  SAR: -37.949  \n",
      "bass            ==> SDR:  -0.006  SIR: 187.171  ISR:   0.000  SAR: -37.949  \n",
      "\n"
     ]
    },
    {
     "name": "stderr",
     "output_type": "stream",
     "text": [
      " 76%|█████████████████████████████████████████████████████████████████████████████████████████████████████████████████████████████████████████████▎                                            | 38/50 [06:20<02:05, 10.50s/it]"
     ]
    },
    {
     "name": "stdout",
     "output_type": "stream",
     "text": [
      "drums           ==> SDR:  -0.003  SIR: 213.098  ISR:   0.001  SAR: -30.567  \n",
      "bass            ==> SDR:  -0.003  SIR: 213.098  ISR:   0.001  SAR: -30.567  \n",
      "\n"
     ]
    },
    {
     "name": "stderr",
     "output_type": "stream",
     "text": [
      " 78%|█████████████████████████████████████████████████████████████████████████████████████████████████████████████████████████████████████████████████                                         | 39/50 [06:30<01:56, 10.61s/it]"
     ]
    },
    {
     "name": "stdout",
     "output_type": "stream",
     "text": [
      "drums           ==> SDR:  -0.008  SIR: 216.808  ISR:  -0.004  SAR: -28.937  \n",
      "bass            ==> SDR:  -0.008  SIR: 216.808  ISR:  -0.004  SAR: -28.937  \n",
      "\n"
     ]
    },
    {
     "name": "stderr",
     "output_type": "stream",
     "text": [
      " 80%|████████████████████████████████████████████████████████████████████████████████████████████████████████████████████████████████████████████████████▊                                     | 40/50 [06:41<01:45, 10.54s/it]"
     ]
    },
    {
     "name": "stdout",
     "output_type": "stream",
     "text": [
      "drums           ==> SDR:  -0.170  SIR: 174.521  ISR:   0.006  SAR: -36.208  \n",
      "bass            ==> SDR:  -0.170  SIR: 174.521  ISR:   0.006  SAR: -36.208  \n",
      "\n"
     ]
    },
    {
     "name": "stderr",
     "output_type": "stream",
     "text": [
      " 82%|████████████████████████████████████████████████████████████████████████████████████████████████████████████████████████████████████████████████████████▌                                 | 41/50 [06:51<01:33, 10.34s/it]"
     ]
    },
    {
     "name": "stdout",
     "output_type": "stream",
     "text": [
      "drums           ==> SDR:  -0.007  SIR: 163.872  ISR:  -0.001  SAR: -30.987  \n",
      "bass            ==> SDR:  -0.007  SIR: 163.872  ISR:  -0.001  SAR: -30.987  \n",
      "\n"
     ]
    },
    {
     "name": "stderr",
     "output_type": "stream",
     "text": [
      " 84%|████████████████████████████████████████████████████████████████████████████████████████████████████████████████████████████████████████████████████████████▏                             | 42/50 [07:00<01:21, 10.18s/it]"
     ]
    },
    {
     "name": "stdout",
     "output_type": "stream",
     "text": [
      "drums           ==> SDR:  -0.002  SIR: 102.440  ISR:  -0.000  SAR: -26.237  \n",
      "bass            ==> SDR:  -0.002  SIR: 102.440  ISR:  -0.000  SAR: -26.237  \n",
      "\n"
     ]
    },
    {
     "name": "stderr",
     "output_type": "stream",
     "text": [
      " 86%|███████████████████████████████████████████████████████████████████████████████████████████████████████████████████████████████████████████████████████████████▉                          | 43/50 [07:10<01:10, 10.05s/it]"
     ]
    },
    {
     "name": "stdout",
     "output_type": "stream",
     "text": [
      "drums           ==> SDR:  -0.003  SIR: 153.943  ISR:  -0.001  SAR: -28.782  \n",
      "bass            ==> SDR:  -0.003  SIR: 153.943  ISR:  -0.001  SAR: -28.782  \n",
      "\n"
     ]
    },
    {
     "name": "stderr",
     "output_type": "stream",
     "text": [
      " 88%|███████████████████████████████████████████████████████████████████████████████████████████████████████████████████████████████████████████████████████████████████▋                      | 44/50 [07:21<01:01, 10.18s/it]"
     ]
    },
    {
     "name": "stdout",
     "output_type": "stream",
     "text": [
      "drums           ==> SDR:   0.000  SIR: 196.132  ISR:   0.000  SAR: -24.959  \n",
      "bass            ==> SDR:   0.000  SIR: 196.132  ISR:   0.000  SAR: -24.959  \n",
      "\n"
     ]
    },
    {
     "name": "stderr",
     "output_type": "stream",
     "text": [
      " 90%|███████████████████████████████████████████████████████████████████████████████████████████████████████████████████████████████████████████████████████████████████████▍                  | 45/50 [07:31<00:51, 10.32s/it]"
     ]
    },
    {
     "name": "stdout",
     "output_type": "stream",
     "text": [
      "drums           ==> SDR:  -0.000  SIR: 185.326  ISR:  -0.000  SAR: -31.051  \n",
      "bass            ==> SDR:  -0.000  SIR: 185.326  ISR:  -0.000  SAR: -31.051  \n",
      "\n"
     ]
    },
    {
     "name": "stderr",
     "output_type": "stream",
     "text": [
      " 92%|███████████████████████████████████████████████████████████████████████████████████████████████████████████████████████████████████████████████████████████████████████████               | 46/50 [07:41<00:40, 10.19s/it]"
     ]
    },
    {
     "name": "stdout",
     "output_type": "stream",
     "text": [
      "drums           ==> SDR:  -0.002  SIR: 193.592  ISR:  -0.000  SAR: -32.911  \n",
      "bass            ==> SDR:  -0.002  SIR: 193.592  ISR:  -0.000  SAR: -32.911  \n",
      "\n"
     ]
    },
    {
     "name": "stderr",
     "output_type": "stream",
     "text": [
      " 94%|██████████████████████████████████████████████████████████████████████████████████████████████████████████████████████████████████████████████████████████████████████████████▊           | 47/50 [07:51<00:29,  9.99s/it]"
     ]
    },
    {
     "name": "stdout",
     "output_type": "stream",
     "text": [
      "drums           ==> SDR:  -0.003  SIR: 153.493  ISR:  -0.021  SAR: -18.809  \n",
      "bass            ==> SDR:  -0.003  SIR: 153.493  ISR:  -0.021  SAR: -18.809  \n",
      "\n"
     ]
    },
    {
     "name": "stderr",
     "output_type": "stream",
     "text": [
      " 96%|██████████████████████████████████████████████████████████████████████████████████████████████████████████████████████████████████████████████████████████████████████████████████▌       | 48/50 [08:01<00:20, 10.16s/it]"
     ]
    },
    {
     "name": "stdout",
     "output_type": "stream",
     "text": [
      "drums           ==> SDR:  -0.002  SIR: 197.616  ISR:   0.000  SAR: -25.556  \n",
      "bass            ==> SDR:  -0.002  SIR: 197.616  ISR:   0.000  SAR: -25.556  \n",
      "\n"
     ]
    },
    {
     "name": "stderr",
     "output_type": "stream",
     "text": [
      " 98%|██████████████████████████████████████████████████████████████████████████████████████████████████████████████████████████████████████████████████████████████████████████████████████▎   | 49/50 [08:11<00:10, 10.16s/it]"
     ]
    },
    {
     "name": "stdout",
     "output_type": "stream",
     "text": [
      "drums           ==> SDR:  -0.000  SIR: 203.776  ISR:   0.001  SAR: -25.312  \n",
      "bass            ==> SDR:  -0.000  SIR: 203.776  ISR:   0.001  SAR: -25.312  \n",
      "\n"
     ]
    },
    {
     "name": "stderr",
     "output_type": "stream",
     "text": [
      "100%|██████████████████████████████████████████████████████████████████████████████████████████████████████████████████████████████████████████████████████████████████████████████████████████| 50/50 [08:21<00:00, 10.04s/it]"
     ]
    },
    {
     "name": "stdout",
     "output_type": "stream",
     "text": [
      "drums           ==> SDR:  -0.000  SIR: 192.228  ISR:   0.001  SAR: -30.933  \n",
      "bass            ==> SDR:  -0.000  SIR: 192.228  ISR:   0.001  SAR: -30.933  \n",
      "\n"
     ]
    },
    {
     "name": "stderr",
     "output_type": "stream",
     "text": [
      "\n",
      "  2%|███▋                                                                                                                                                                                       | 1/50 [00:09<07:54,  9.67s/it]"
     ]
    },
    {
     "name": "stdout",
     "output_type": "stream",
     "text": [
      "drums           ==> SDR:  -0.424  SIR: 176.398  ISR:  -0.001  SAR: -42.150  \n",
      "bass            ==> SDR:  -0.424  SIR: 176.398  ISR:  -0.001  SAR: -42.150  \n",
      "\n"
     ]
    },
    {
     "name": "stderr",
     "output_type": "stream",
     "text": [
      "  4%|███████▍                                                                                                                                                                                   | 2/50 [00:19<07:51,  9.83s/it]"
     ]
    },
    {
     "name": "stdout",
     "output_type": "stream",
     "text": [
      "drums           ==> SDR:  -1.502  SIR: 156.739  ISR:   0.016  SAR: -24.666  \n",
      "bass            ==> SDR:  -1.502  SIR: 156.739  ISR:   0.016  SAR: -24.666  \n",
      "\n"
     ]
    },
    {
     "name": "stderr",
     "output_type": "stream",
     "text": [
      "  6%|███████████▏                                                                                                                                                                               | 3/50 [00:29<07:43,  9.87s/it]"
     ]
    },
    {
     "name": "stdout",
     "output_type": "stream",
     "text": [
      "drums           ==> SDR:  -1.098  SIR: 221.891  ISR:  -0.057  SAR: -31.042  \n",
      "bass            ==> SDR:  -1.098  SIR: 221.891  ISR:  -0.057  SAR: -31.042  \n",
      "\n"
     ]
    },
    {
     "name": "stderr",
     "output_type": "stream",
     "text": [
      "  8%|██████████████▉                                                                                                                                                                            | 4/50 [00:39<07:40, 10.00s/it]"
     ]
    },
    {
     "name": "stdout",
     "output_type": "stream",
     "text": [
      "drums           ==> SDR:  -0.977  SIR: 218.375  ISR:   0.013  SAR: -35.637  \n",
      "bass            ==> SDR:  -0.977  SIR: 218.375  ISR:   0.013  SAR: -35.637  \n",
      "\n"
     ]
    },
    {
     "name": "stderr",
     "output_type": "stream",
     "text": [
      " 10%|██████████████████▋                                                                                                                                                                        | 5/50 [00:50<07:35, 10.12s/it]"
     ]
    },
    {
     "name": "stdout",
     "output_type": "stream",
     "text": [
      "drums           ==> SDR:  -0.572  SIR: 158.752  ISR:   0.013  SAR: -34.647  \n",
      "bass            ==> SDR:  -0.572  SIR: 158.752  ISR:   0.013  SAR: -34.647  \n",
      "\n"
     ]
    },
    {
     "name": "stderr",
     "output_type": "stream",
     "text": [
      " 12%|██████████████████████▍                                                                                                                                                                    | 6/50 [01:00<07:29, 10.21s/it]"
     ]
    },
    {
     "name": "stdout",
     "output_type": "stream",
     "text": [
      "drums           ==> SDR:  -1.382  SIR: 209.928  ISR:  -0.016  SAR: -40.391  \n",
      "bass            ==> SDR:  -1.382  SIR: 209.928  ISR:  -0.016  SAR: -40.391  \n",
      "\n"
     ]
    },
    {
     "name": "stderr",
     "output_type": "stream",
     "text": [
      " 14%|██████████████████████████▏                                                                                                                                                                | 7/50 [01:10<07:17, 10.17s/it]"
     ]
    },
    {
     "name": "stdout",
     "output_type": "stream",
     "text": [
      "drums           ==> SDR:  -1.077  SIR: 202.458  ISR:   0.025  SAR: -29.472  \n",
      "bass            ==> SDR:  -1.077  SIR: 202.458  ISR:   0.025  SAR: -29.472  \n",
      "\n"
     ]
    },
    {
     "name": "stderr",
     "output_type": "stream",
     "text": [
      " 16%|█████████████████████████████▉                                                                                                                                                             | 8/50 [01:20<07:04, 10.10s/it]"
     ]
    },
    {
     "name": "stdout",
     "output_type": "stream",
     "text": [
      "drums           ==> SDR:  -1.662  SIR: 227.764  ISR:   0.001  SAR: -43.061  \n",
      "bass            ==> SDR:  -1.662  SIR: 227.764  ISR:   0.001  SAR: -43.061  \n",
      "\n"
     ]
    },
    {
     "name": "stderr",
     "output_type": "stream",
     "text": [
      " 18%|█████████████████████████████████▋                                                                                                                                                         | 9/50 [01:31<06:59, 10.23s/it]"
     ]
    },
    {
     "name": "stdout",
     "output_type": "stream",
     "text": [
      "drums           ==> SDR:  -0.460  SIR: 118.497  ISR:  -0.006  SAR: -32.908  \n",
      "bass            ==> SDR:  -0.460  SIR: 118.497  ISR:  -0.006  SAR: -32.908  \n",
      "\n"
     ]
    },
    {
     "name": "stderr",
     "output_type": "stream",
     "text": [
      " 20%|█████████████████████████████████████▏                                                                                                                                                    | 10/50 [01:40<06:43, 10.10s/it]"
     ]
    },
    {
     "name": "stdout",
     "output_type": "stream",
     "text": [
      "drums           ==> SDR: -49.204  SIR: 193.840  ISR:  -0.555  SAR: -57.467  \n",
      "bass            ==> SDR: -49.204  SIR: 193.840  ISR:  -0.555  SAR: -57.467  \n",
      "\n"
     ]
    },
    {
     "name": "stderr",
     "output_type": "stream",
     "text": [
      " 22%|████████████████████████████████████████▉                                                                                                                                                 | 11/50 [01:50<06:26,  9.92s/it]"
     ]
    },
    {
     "name": "stdout",
     "output_type": "stream",
     "text": [
      "drums           ==> SDR:  -0.523  SIR: 207.492  ISR:   0.031  SAR: -29.393  \n",
      "bass            ==> SDR:  -0.523  SIR: 207.492  ISR:   0.031  SAR: -29.393  \n",
      "\n"
     ]
    },
    {
     "name": "stderr",
     "output_type": "stream",
     "text": [
      " 24%|████████████████████████████████████████████▋                                                                                                                                             | 12/50 [01:59<06:08,  9.71s/it]"
     ]
    },
    {
     "name": "stdout",
     "output_type": "stream",
     "text": [
      "drums           ==> SDR:  -0.216  SIR: 211.834  ISR:   0.074  SAR: -15.604  \n",
      "bass            ==> SDR:  -0.216  SIR: 211.834  ISR:   0.074  SAR: -15.604  \n",
      "\n"
     ]
    },
    {
     "name": "stderr",
     "output_type": "stream",
     "text": [
      " 26%|████████████████████████████████████████████████▎                                                                                                                                         | 13/50 [02:09<06:04,  9.84s/it]"
     ]
    },
    {
     "name": "stdout",
     "output_type": "stream",
     "text": [
      "drums           ==> SDR:  -0.653  SIR:  54.890  ISR:  -0.009  SAR: -32.053  \n",
      "bass            ==> SDR:  -0.653  SIR:  54.890  ISR:  -0.009  SAR: -32.053  \n",
      "\n"
     ]
    },
    {
     "name": "stderr",
     "output_type": "stream",
     "text": [
      " 28%|████████████████████████████████████████████████████                                                                                                                                      | 14/50 [02:19<05:51,  9.75s/it]"
     ]
    },
    {
     "name": "stdout",
     "output_type": "stream",
     "text": [
      "drums           ==> SDR:  -0.253  SIR: 171.917  ISR:   0.001  SAR: -37.820  \n",
      "bass            ==> SDR:  -0.253  SIR: 171.917  ISR:   0.001  SAR: -37.820  \n",
      "\n"
     ]
    },
    {
     "name": "stderr",
     "output_type": "stream",
     "text": [
      " 30%|███████████████████████████████████████████████████████▊                                                                                                                                  | 15/50 [02:29<05:43,  9.82s/it]"
     ]
    },
    {
     "name": "stdout",
     "output_type": "stream",
     "text": [
      "drums           ==> SDR:  -0.435  SIR: 201.282  ISR:   0.018  SAR: -29.156  \n",
      "bass            ==> SDR:  -0.435  SIR: 201.282  ISR:   0.018  SAR: -29.156  \n",
      "\n"
     ]
    },
    {
     "name": "stderr",
     "output_type": "stream",
     "text": [
      " 32%|███████████████████████████████████████████████████████████▌                                                                                                                              | 16/50 [02:41<05:53, 10.41s/it]"
     ]
    },
    {
     "name": "stdout",
     "output_type": "stream",
     "text": [
      "drums           ==> SDR:  -0.359  SIR: 182.402  ISR:   0.005  SAR: -39.553  \n",
      "bass            ==> SDR:  -0.359  SIR: 182.402  ISR:   0.005  SAR: -39.553  \n",
      "\n"
     ]
    },
    {
     "name": "stderr",
     "output_type": "stream",
     "text": [
      " 34%|███████████████████████████████████████████████████████████████▏                                                                                                                          | 17/50 [02:50<05:35, 10.17s/it]"
     ]
    },
    {
     "name": "stdout",
     "output_type": "stream",
     "text": [
      "drums           ==> SDR:  -1.054  SIR: 207.452  ISR:   0.007  SAR: -36.125  \n",
      "bass            ==> SDR:  -1.054  SIR: 207.452  ISR:   0.007  SAR: -36.125  \n",
      "\n"
     ]
    },
    {
     "name": "stderr",
     "output_type": "stream",
     "text": [
      " 36%|██████████████████████████████████████████████████████████████████▉                                                                                                                       | 18/50 [03:00<05:19,  9.98s/it]"
     ]
    },
    {
     "name": "stdout",
     "output_type": "stream",
     "text": [
      "drums           ==> SDR:  -1.000  SIR: 178.197  ISR:  -0.009  SAR: -38.087  \n",
      "bass            ==> SDR:  -1.000  SIR: 178.197  ISR:  -0.009  SAR: -38.087  \n",
      "\n"
     ]
    },
    {
     "name": "stderr",
     "output_type": "stream",
     "text": [
      " 38%|██████████████████████████████████████████████████████████████████████▋                                                                                                                   | 19/50 [03:09<05:05,  9.84s/it]"
     ]
    },
    {
     "name": "stdout",
     "output_type": "stream",
     "text": [
      "drums           ==> SDR:  -0.266  SIR: 184.768  ISR:   0.035  SAR: -24.244  \n",
      "bass            ==> SDR:  -0.266  SIR: 184.768  ISR:   0.035  SAR: -24.244  \n",
      "\n"
     ]
    },
    {
     "name": "stderr",
     "output_type": "stream",
     "text": [
      " 40%|██████████████████████████████████████████████████████████████████████████▍                                                                                                               | 20/50 [03:20<05:00, 10.03s/it]"
     ]
    },
    {
     "name": "stdout",
     "output_type": "stream",
     "text": [
      "drums           ==> SDR:  -0.463  SIR: 207.045  ISR:  -0.003  SAR: -23.349  \n",
      "bass            ==> SDR:  -0.463  SIR: 207.045  ISR:  -0.003  SAR: -23.349  \n",
      "\n"
     ]
    },
    {
     "name": "stderr",
     "output_type": "stream",
     "text": [
      " 42%|██████████████████████████████████████████████████████████████████████████████                                                                                                            | 21/50 [03:29<04:46,  9.86s/it]"
     ]
    },
    {
     "name": "stdout",
     "output_type": "stream",
     "text": [
      "drums           ==> SDR:  -1.068  SIR: 140.543  ISR:  -0.025  SAR: -33.158  \n",
      "bass            ==> SDR:  -1.068  SIR: 140.543  ISR:  -0.025  SAR: -33.158  \n",
      "\n"
     ]
    },
    {
     "name": "stderr",
     "output_type": "stream",
     "text": [
      " 44%|█████████████████████████████████████████████████████████████████████████████████▊                                                                                                        | 22/50 [03:38<04:30,  9.67s/it]"
     ]
    },
    {
     "name": "stdout",
     "output_type": "stream",
     "text": [
      "drums           ==> SDR: -41.710  SIR: 270.446  ISR: -28.383  SAR: -15.491  \n",
      "bass            ==> SDR: -41.710  SIR: 270.446  ISR: -28.383  SAR: -15.491  \n",
      "\n"
     ]
    },
    {
     "name": "stderr",
     "output_type": "stream",
     "text": [
      " 46%|█████████████████████████████████████████████████████████████████████████████████████▌                                                                                                    | 23/50 [03:47<04:14,  9.44s/it]"
     ]
    },
    {
     "name": "stdout",
     "output_type": "stream",
     "text": [
      "drums           ==> SDR:  -0.884  SIR: 133.357  ISR:   0.002  SAR: -22.679  \n",
      "bass            ==> SDR:  -0.884  SIR: 133.357  ISR:   0.002  SAR: -22.679  \n",
      "\n"
     ]
    },
    {
     "name": "stderr",
     "output_type": "stream",
     "text": [
      " 48%|█████████████████████████████████████████████████████████████████████████████████████████▎                                                                                                | 24/50 [03:56<04:03,  9.38s/it]"
     ]
    },
    {
     "name": "stdout",
     "output_type": "stream",
     "text": [
      "drums           ==> SDR:  -0.240  SIR: 100.084  ISR:   0.014  SAR: -29.179  \n",
      "bass            ==> SDR:  -0.240  SIR: 100.084  ISR:   0.014  SAR: -29.179  \n",
      "\n"
     ]
    },
    {
     "name": "stderr",
     "output_type": "stream",
     "text": [
      " 50%|█████████████████████████████████████████████████████████████████████████████████████████████                                                                                             | 25/50 [04:07<04:02,  9.70s/it]"
     ]
    },
    {
     "name": "stdout",
     "output_type": "stream",
     "text": [
      "drums           ==> SDR:  -2.366  SIR: 218.591  ISR:  -0.009  SAR: -39.112  \n",
      "bass            ==> SDR:  -2.366  SIR: 218.591  ISR:  -0.009  SAR: -39.112  \n",
      "\n"
     ]
    },
    {
     "name": "stderr",
     "output_type": "stream",
     "text": [
      " 52%|████████████████████████████████████████████████████████████████████████████████████████████████▋                                                                                         | 26/50 [04:16<03:49,  9.56s/it]"
     ]
    },
    {
     "name": "stdout",
     "output_type": "stream",
     "text": [
      "drums           ==> SDR:  -0.391  SIR: 142.712  ISR:  -0.007  SAR: -29.156  \n",
      "bass            ==> SDR:  -0.391  SIR: 142.712  ISR:  -0.007  SAR: -29.156  \n",
      "\n"
     ]
    },
    {
     "name": "stderr",
     "output_type": "stream",
     "text": [
      " 54%|████████████████████████████████████████████████████████████████████████████████████████████████████▍                                                                                     | 27/50 [04:26<03:42,  9.65s/it]"
     ]
    },
    {
     "name": "stdout",
     "output_type": "stream",
     "text": [
      "drums           ==> SDR:  -1.650  SIR: 145.904  ISR:  -0.033  SAR: -30.313  \n",
      "bass            ==> SDR:  -1.650  SIR: 145.904  ISR:  -0.033  SAR: -30.313  \n",
      "\n"
     ]
    },
    {
     "name": "stderr",
     "output_type": "stream",
     "text": [
      " 56%|████████████████████████████████████████████████████████████████████████████████████████████████████████▏                                                                                 | 28/50 [04:36<03:35,  9.80s/it]"
     ]
    },
    {
     "name": "stdout",
     "output_type": "stream",
     "text": [
      "drums           ==> SDR:  -0.110  SIR: 167.309  ISR:   0.001  SAR: -36.800  \n",
      "bass            ==> SDR:  -0.110  SIR: 167.309  ISR:   0.001  SAR: -36.800  \n",
      "\n"
     ]
    },
    {
     "name": "stderr",
     "output_type": "stream",
     "text": [
      " 58%|███████████████████████████████████████████████████████████████████████████████████████████████████████████▉                                                                              | 29/50 [04:46<03:22,  9.67s/it]"
     ]
    },
    {
     "name": "stdout",
     "output_type": "stream",
     "text": [
      "drums           ==> SDR:  -0.148  SIR: 162.213  ISR:   0.004  SAR: -34.323  \n",
      "bass            ==> SDR:  -0.148  SIR: 162.213  ISR:   0.004  SAR: -34.323  \n",
      "\n"
     ]
    },
    {
     "name": "stderr",
     "output_type": "stream",
     "text": [
      " 60%|███████████████████████████████████████████████████████████████████████████████████████████████████████████████▌                                                                          | 30/50 [04:55<03:11,  9.59s/it]"
     ]
    },
    {
     "name": "stdout",
     "output_type": "stream",
     "text": [
      "drums           ==> SDR:  -0.527  SIR: 173.816  ISR:  -0.009  SAR: -15.396  \n",
      "bass            ==> SDR:  -0.527  SIR: 173.816  ISR:  -0.009  SAR: -15.396  \n",
      "\n"
     ]
    },
    {
     "name": "stderr",
     "output_type": "stream",
     "text": [
      " 62%|███████████████████████████████████████████████████████████████████████████████████████████████████████████████████▎                                                                      | 31/50 [05:05<03:04,  9.69s/it]"
     ]
    },
    {
     "name": "stdout",
     "output_type": "stream",
     "text": [
      "drums           ==> SDR:  -1.402  SIR: 171.202  ISR:  -0.067  SAR: -32.588  \n",
      "bass            ==> SDR:  -1.402  SIR: 171.202  ISR:  -0.067  SAR: -32.588  \n",
      "\n"
     ]
    },
    {
     "name": "stderr",
     "output_type": "stream",
     "text": [
      " 64%|███████████████████████████████████████████████████████████████████████████████████████████████████████████████████████                                                                   | 32/50 [05:15<02:57,  9.87s/it]"
     ]
    },
    {
     "name": "stdout",
     "output_type": "stream",
     "text": [
      "drums           ==> SDR:  -1.263  SIR: 182.739  ISR:  -0.001  SAR: -40.852  \n",
      "bass            ==> SDR:  -1.263  SIR: 182.739  ISR:  -0.001  SAR: -40.852  \n",
      "\n"
     ]
    },
    {
     "name": "stderr",
     "output_type": "stream",
     "text": [
      " 66%|██████████████████████████████████████████████████████████████████████████████████████████████████████████████████████████▊                                                               | 33/50 [05:25<02:47,  9.86s/it]"
     ]
    },
    {
     "name": "stdout",
     "output_type": "stream",
     "text": [
      "drums           ==> SDR:  -2.142  SIR: 217.794  ISR:  -0.003  SAR: -43.847  \n",
      "bass            ==> SDR:  -2.142  SIR: 217.794  ISR:  -0.003  SAR: -43.847  \n",
      "\n"
     ]
    },
    {
     "name": "stderr",
     "output_type": "stream",
     "text": [
      " 68%|██████████████████████████████████████████████████████████████████████████████████████████████████████████████████████████████▍                                                           | 34/50 [05:35<02:38,  9.90s/it]"
     ]
    },
    {
     "name": "stdout",
     "output_type": "stream",
     "text": [
      "drums           ==> SDR:  -0.484  SIR: 233.170  ISR:  -0.003  SAR: -39.798  \n",
      "bass            ==> SDR:  -0.484  SIR: 233.170  ISR:  -0.003  SAR: -39.798  \n",
      "\n"
     ]
    },
    {
     "name": "stderr",
     "output_type": "stream",
     "text": [
      " 70%|██████████████████████████████████████████████████████████████████████████████████████████████████████████████████████████████████▏                                                       | 35/50 [05:45<02:28,  9.93s/it]"
     ]
    },
    {
     "name": "stdout",
     "output_type": "stream",
     "text": [
      "drums           ==> SDR:  -0.441  SIR: 199.616  ISR:  -0.031  SAR: -35.438  \n",
      "bass            ==> SDR:  -0.441  SIR: 199.616  ISR:  -0.031  SAR: -35.438  \n",
      "\n"
     ]
    },
    {
     "name": "stderr",
     "output_type": "stream",
     "text": [
      " 72%|█████████████████████████████████████████████████████████████████████████████████████████████████████████████████████████████████████▉                                                    | 36/50 [05:55<02:18,  9.90s/it]"
     ]
    },
    {
     "name": "stdout",
     "output_type": "stream",
     "text": [
      "drums           ==> SDR:  -1.576  SIR: 179.415  ISR:   0.009  SAR: -38.210  \n",
      "bass            ==> SDR:  -1.576  SIR: 179.415  ISR:   0.009  SAR: -38.210  \n",
      "\n"
     ]
    },
    {
     "name": "stderr",
     "output_type": "stream",
     "text": [
      " 74%|█████████████████████████████████████████████████████████████████████████████████████████████████████████████████████████████████████████▋                                                | 37/50 [06:05<02:11, 10.11s/it]"
     ]
    },
    {
     "name": "stdout",
     "output_type": "stream",
     "text": [
      "drums           ==> SDR:  -9.498  SIR: 193.753  ISR:  -0.010  SAR: -48.890  \n",
      "bass            ==> SDR:  -9.498  SIR: 193.753  ISR:  -0.010  SAR: -48.890  \n",
      "\n"
     ]
    },
    {
     "name": "stderr",
     "output_type": "stream",
     "text": [
      " 76%|█████████████████████████████████████████████████████████████████████████████████████████████████████████████████████████████████████████████▎                                            | 38/50 [06:15<01:59,  9.97s/it]"
     ]
    },
    {
     "name": "stdout",
     "output_type": "stream",
     "text": [
      "drums           ==> SDR:  -0.844  SIR: 215.006  ISR:   0.009  SAR: -29.920  \n",
      "bass            ==> SDR:  -0.844  SIR: 215.006  ISR:   0.009  SAR: -29.920  \n",
      "\n"
     ]
    },
    {
     "name": "stderr",
     "output_type": "stream",
     "text": [
      " 78%|█████████████████████████████████████████████████████████████████████████████████████████████████████████████████████████████████████████████████                                         | 39/50 [06:25<01:50, 10.06s/it]"
     ]
    },
    {
     "name": "stdout",
     "output_type": "stream",
     "text": [
      "drums           ==> SDR:  -1.601  SIR: 209.142  ISR:   0.012  SAR: -30.759  \n",
      "bass            ==> SDR:  -1.601  SIR: 209.142  ISR:   0.012  SAR: -30.759  \n",
      "\n"
     ]
    },
    {
     "name": "stderr",
     "output_type": "stream",
     "text": [
      " 80%|████████████████████████████████████████████████████████████████████████████████████████████████████████████████████████████████████████████████████▊                                     | 40/50 [06:35<01:39,  9.95s/it]"
     ]
    },
    {
     "name": "stdout",
     "output_type": "stream",
     "text": [
      "drums           ==> SDR: -15.878  SIR: 173.532  ISR:  -0.022  SAR: -51.591  \n",
      "bass            ==> SDR: -15.878  SIR: 173.532  ISR:  -0.022  SAR: -51.591  \n",
      "\n"
     ]
    },
    {
     "name": "stderr",
     "output_type": "stream",
     "text": [
      " 82%|████████████████████████████████████████████████████████████████████████████████████████████████████████████████████████████████████████████████████████▌                                 | 41/50 [06:45<01:30, 10.02s/it]"
     ]
    },
    {
     "name": "stdout",
     "output_type": "stream",
     "text": [
      "drums           ==> SDR:  -0.760  SIR: 149.424  ISR:   0.053  SAR: -33.064  \n",
      "bass            ==> SDR:  -0.760  SIR: 149.424  ISR:   0.053  SAR: -33.064  \n",
      "\n"
     ]
    },
    {
     "name": "stderr",
     "output_type": "stream",
     "text": [
      " 84%|████████████████████████████████████████████████████████████████████████████████████████████████████████████████████████████████████████████████████████████▏                             | 42/50 [06:55<01:20, 10.01s/it]"
     ]
    },
    {
     "name": "stdout",
     "output_type": "stream",
     "text": [
      "drums           ==> SDR:  -0.316  SIR:  92.376  ISR:  -0.015  SAR: -27.791  \n",
      "bass            ==> SDR:  -0.316  SIR:  92.376  ISR:  -0.015  SAR: -27.791  \n",
      "\n"
     ]
    },
    {
     "name": "stderr",
     "output_type": "stream",
     "text": [
      " 86%|███████████████████████████████████████████████████████████████████████████████████████████████████████████████████████████████████████████████████████████████▉                          | 43/50 [07:05<01:09,  9.94s/it]"
     ]
    },
    {
     "name": "stdout",
     "output_type": "stream",
     "text": [
      "drums           ==> SDR:  -1.584  SIR: 140.837  ISR:  -0.002  SAR: -38.466  \n",
      "bass            ==> SDR:  -1.584  SIR: 140.837  ISR:  -0.002  SAR: -38.466  \n",
      "\n"
     ]
    },
    {
     "name": "stderr",
     "output_type": "stream",
     "text": [
      " 88%|███████████████████████████████████████████████████████████████████████████████████████████████████████████████████████████████████████████████████████████████████▋                      | 44/50 [07:14<00:57,  9.66s/it]"
     ]
    },
    {
     "name": "stdout",
     "output_type": "stream",
     "text": [
      "drums           ==> SDR:  -1.661  SIR: 188.749  ISR:  -0.012  SAR: -21.810  \n",
      "bass            ==> SDR:  -1.661  SIR: 188.749  ISR:  -0.012  SAR: -21.810  \n",
      "\n"
     ]
    },
    {
     "name": "stderr",
     "output_type": "stream",
     "text": [
      " 90%|███████████████████████████████████████████████████████████████████████████████████████████████████████████████████████████████████████████████████████████████████████▍                  | 45/50 [07:24<00:49,  9.86s/it]"
     ]
    },
    {
     "name": "stdout",
     "output_type": "stream",
     "text": [
      "drums           ==> SDR:  -0.821  SIR: 178.444  ISR:  -0.001  SAR: -42.845  \n",
      "bass            ==> SDR:  -0.821  SIR: 178.444  ISR:  -0.001  SAR: -42.845  \n",
      "\n"
     ]
    },
    {
     "name": "stderr",
     "output_type": "stream",
     "text": [
      " 92%|███████████████████████████████████████████████████████████████████████████████████████████████████████████████████████████████████████████████████████████████████████████               | 46/50 [07:34<00:39,  9.93s/it]"
     ]
    },
    {
     "name": "stdout",
     "output_type": "stream",
     "text": [
      "drums           ==> SDR:  -1.225  SIR: 184.238  ISR:  -0.015  SAR: -35.814  \n",
      "bass            ==> SDR:  -1.225  SIR: 184.238  ISR:  -0.015  SAR: -35.814  \n",
      "\n"
     ]
    },
    {
     "name": "stderr",
     "output_type": "stream",
     "text": [
      " 94%|██████████████████████████████████████████████████████████████████████████████████████████████████████████████████████████████████████████████████████████████████████████████▊           | 47/50 [07:44<00:29,  9.76s/it]"
     ]
    },
    {
     "name": "stdout",
     "output_type": "stream",
     "text": [
      "drums           ==> SDR:  -6.662  SIR: 131.599  ISR:   0.039  SAR: -29.942  \n",
      "bass            ==> SDR:  -6.662  SIR: 131.599  ISR:   0.039  SAR: -29.942  \n",
      "\n"
     ]
    },
    {
     "name": "stderr",
     "output_type": "stream",
     "text": [
      " 96%|██████████████████████████████████████████████████████████████████████████████████████████████████████████████████████████████████████████████████████████████████████████████████▌       | 48/50 [07:54<00:19,  9.79s/it]"
     ]
    },
    {
     "name": "stdout",
     "output_type": "stream",
     "text": [
      "drums           ==> SDR:  -1.322  SIR: 186.637  ISR:  -0.017  SAR: -28.847  \n",
      "bass            ==> SDR:  -1.322  SIR: 186.637  ISR:  -0.017  SAR: -28.847  \n",
      "\n"
     ]
    },
    {
     "name": "stderr",
     "output_type": "stream",
     "text": [
      " 98%|██████████████████████████████████████████████████████████████████████████████████████████████████████████████████████████████████████████████████████████████████████████████████████▎   | 49/50 [08:04<00:09,  9.84s/it]"
     ]
    },
    {
     "name": "stdout",
     "output_type": "stream",
     "text": [
      "drums           ==> SDR:  -0.579  SIR: 193.547  ISR:   0.033  SAR: -34.639  \n",
      "bass            ==> SDR:  -0.579  SIR: 193.547  ISR:   0.033  SAR: -34.639  \n",
      "\n"
     ]
    },
    {
     "name": "stderr",
     "output_type": "stream",
     "text": [
      "100%|██████████████████████████████████████████████████████████████████████████████████████████████████████████████████████████████████████████████████████████████████████████████████████████| 50/50 [08:14<00:00,  9.89s/it]"
     ]
    },
    {
     "name": "stdout",
     "output_type": "stream",
     "text": [
      "drums           ==> SDR:  -0.643  SIR: 190.343  ISR:  -0.014  SAR: -38.828  \n",
      "bass            ==> SDR:  -0.643  SIR: 190.343  ISR:  -0.014  SAR: -38.828  \n",
      "\n"
     ]
    },
    {
     "name": "stderr",
     "output_type": "stream",
     "text": [
      "\n"
     ]
    }
   ],
   "source": [
    "# for fold in range(3):\n",
    "for method_no in [0, 1, 2, 3, 4, 5, 6]:\n",
    "    for name in ['epoch_280']:\n",
    "        #try:\n",
    "        output_path = f\"D:/Github/phd-drum-sep/rebuttal_experiments/demucs/results_{name}_{method_no}_method/\"\n",
    "        try:\n",
    "            os.mkdir(output_path)\n",
    "        except:\n",
    "            pass\n",
    "    \n",
    "        model = DrumDemucs.load_from_checkpoint(f'D:/Github/phd-drum-sep/analysis/demucs_small_model_analysis/checkpoint/{name}.ckpt')\n",
    "        # model.to('cpu')\n",
    "        model = model.eval()\n",
    "        \n",
    "        mus = musdb.DB(root=\"D:/Github/phd-drum-sep/Data/musdb18_stems/\", subsets=\"test\") \n",
    "        \n",
    "        results = museval.EvalStore(frames_agg='median', tracks_agg='median')\n",
    "        for track in tqdm(mus):\n",
    "            try:\n",
    "                path = \"D:/Github/phd-drum-sep/Data/musdb18hq/\"\n",
    "                audio_path = path + 'test/' + track.name + \"/\"\n",
    "            \n",
    "            \n",
    "                mixture_tensor = load_audio(audio_path, start_point,'mixture.wav').unsqueeze(0).to(model.device)[:,:,:duration]\n",
    "                drum_tensor = load_audio(audio_path, start_point,'drums.wav').unsqueeze(0).to(model.device)[:,:,:duration]\n",
    "                shape = mixture_tensor.shape[2]\n",
    "                roll_tensor = load_roll(audio_path, start_point, shape).unsqueeze(0).to(model.device)[:,:,:duration]\n",
    "            \n",
    "                seperated = separate_sources(model, mixture_tensor, roll_tensor, method=method_no,  device='cuda')\n",
    "                \n",
    "                audio = seperated.squeeze(0).cpu().numpy()\n",
    "                audio = np.swapaxes(audio,0,1)\n",
    "                estimates = {'drums': audio, 'bass': audio}\n",
    "            \n",
    "                d = drum_tensor.squeeze(0).cpu().numpy()\n",
    "                d = np.swapaxes(d,0,1)\n",
    "                \n",
    "                track.targets['drums'] = AudioData(d)\n",
    "                track.targets['bass'] = AudioData(d)\n",
    "                \n",
    "                scores = museval.eval_mus_track(\n",
    "                    track, estimates, output_dir=f\"{output_path}\"\n",
    "                )\n",
    "            \n",
    "                print(scores)\n",
    "                results.add_track(scores)\n",
    "                gc.collect()\n",
    "            except Exception as e:\n",
    "                print(e)\n",
    "                pass\n",
    "        \n",
    "        results.df.to_csv(f\"{output_path}results.csv\")\n",
    "    \n",
    "        del model\n",
    "        del mus\n",
    "        \n",
    "        # except Exception as e:\n",
    "        #     print('error with model, skipping', name, e)"
   ]
  },
  {
   "cell_type": "code",
   "execution_count": 16,
   "id": "ff3d97f7-2804-4b99-adcb-5adeb7dc9d7d",
   "metadata": {},
   "outputs": [
    {
     "data": {
      "text/plain": [
       "['__class__',\n",
       " '__delattr__',\n",
       " '__dict__',\n",
       " '__dir__',\n",
       " '__doc__',\n",
       " '__eq__',\n",
       " '__format__',\n",
       " '__ge__',\n",
       " '__getattribute__',\n",
       " '__getstate__',\n",
       " '__gt__',\n",
       " '__hash__',\n",
       " '__init__',\n",
       " '__init_subclass__',\n",
       " '__le__',\n",
       " '__lt__',\n",
       " '__module__',\n",
       " '__ne__',\n",
       " '__new__',\n",
       " '__reduce__',\n",
       " '__reduce_ex__',\n",
       " '__repr__',\n",
       " '__setattr__',\n",
       " '__sizeof__',\n",
       " '__str__',\n",
       " '__subclasshook__',\n",
       " '__weakref__',\n",
       " 'add_eval_dir',\n",
       " 'add_track',\n",
       " 'agg_frames_scores',\n",
       " 'agg_frames_tracks_scores',\n",
       " 'df',\n",
       " 'frames_agg',\n",
       " 'load',\n",
       " 'save',\n",
       " 'tracks_agg']"
      ]
     },
     "execution_count": 16,
     "metadata": {},
     "output_type": "execute_result"
    }
   ],
   "source": [
    "dir(results)"
   ]
  },
  {
   "cell_type": "code",
   "execution_count": 17,
   "id": "6cd0a0c5-a825-44cb-94e7-9fef9dcc91fb",
   "metadata": {},
   "outputs": [
    {
     "data": {
      "text/plain": [
       "(target  metric\n",
       " bass    ISR        -0.001563\n",
       "         SAR       -33.740220\n",
       "         SDR        -0.930220\n",
       "         SIR       183.488157\n",
       " drums   ISR        -0.001563\n",
       "         SAR       -33.740220\n",
       "         SDR        -0.930220\n",
       "         SIR       183.488157\n",
       " Name: score, dtype: float64,)"
      ]
     },
     "execution_count": 17,
     "metadata": {},
     "output_type": "execute_result"
    }
   ],
   "source": [
    "results.agg_frames_tracks_scores(), "
   ]
  },
  {
   "cell_type": "code",
   "execution_count": 18,
   "id": "246b6f4f-d272-4105-aef9-26757a4c3b4f",
   "metadata": {},
   "outputs": [],
   "source": [
    "r = results.agg_frames_scores().to_dict()"
   ]
  },
  {
   "cell_type": "code",
   "execution_count": 19,
   "id": "d600d210-0015-462f-8dc5-4c5888589fe3",
   "metadata": {},
   "outputs": [
    {
     "name": "stdout",
     "output_type": "stream",
     "text": [
      "-0.93022\n"
     ]
    }
   ],
   "source": [
    "sdrs = []\n",
    "for key in list(r.keys()):\n",
    "    if 'SDR' in key:\n",
    "        sdrs.append(r[key])\n",
    "\n",
    "print(np.median(sdrs))"
   ]
  },
  {
   "cell_type": "code",
   "execution_count": null,
   "id": "58db3f19-21c2-4daf-bdf1-eb25814ec5d7",
   "metadata": {},
   "outputs": [],
   "source": []
  }
 ],
 "metadata": {
  "kernelspec": {
   "display_name": "Python 3 (ipykernel)",
   "language": "python",
   "name": "python3"
  },
  "language_info": {
   "codemirror_mode": {
    "name": "ipython",
    "version": 3
   },
   "file_extension": ".py",
   "mimetype": "text/x-python",
   "name": "python",
   "nbconvert_exporter": "python",
   "pygments_lexer": "ipython3",
   "version": "3.11.4"
  }
 },
 "nbformat": 4,
 "nbformat_minor": 5
}
