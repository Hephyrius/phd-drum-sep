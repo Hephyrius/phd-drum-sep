{
 "cells": [
  {
   "cell_type": "markdown",
   "id": "20b2a3bb-3d01-4f42-bc37-dff46522af7f",
   "metadata": {},
   "source": [
    "# Imports"
   ]
  },
  {
   "cell_type": "code",
   "execution_count": 1,
   "id": "71d686e6-8847-4861-88f0-58141c363862",
   "metadata": {},
   "outputs": [
    {
     "name": "stdout",
     "output_type": "stream",
     "text": [
      "True\n"
     ]
    }
   ],
   "source": [
    "import os\n",
    "import pywt\n",
    "import torch\n",
    "import torch.nn as nn\n",
    "import torch.nn.functional as F\n",
    "import torchaudio\n",
    "import pytorch_lightning as pl\n",
    "from torch.utils.data import DataLoader, Dataset\n",
    "from torchaudio.pipelines import HDEMUCS_HIGH_MUSDB\n",
    "import torch.optim as optim\n",
    "from torch.utils.data import Dataset, DataLoader\n",
    "import torchaudio\n",
    "import numpy as np\n",
    "import random\n",
    "from pytorch_lightning.loggers import WandbLogger\n",
    "import wandb\n",
    "import auraloss\n",
    "import collections\n",
    "from tqdm import tqdm\n",
    "import pretty_midi\n",
    "import matplotlib.pyplot as plt\n",
    "from torchaudio.pipelines import HDEMUCS_HIGH_MUSDB\n",
    "print(torch.cuda.is_available())\n",
    "import plotly.graph_objects as go\n",
    "from torch.optim import lr_scheduler\n",
    "from IPython.display import Audio\n",
    "from torchaudio.transforms import Fade\n",
    "import musdb\n",
    "import museval\n",
    "import gc"
   ]
  },
  {
   "cell_type": "code",
   "execution_count": 2,
   "id": "275ddd3f-aa3d-4444-8ddd-c8874bac940c",
   "metadata": {},
   "outputs": [
    {
     "name": "stdout",
     "output_type": "stream",
     "text": [
      "True\n"
     ]
    }
   ],
   "source": [
    "\n",
    "import os\n",
    "import torch\n",
    "import torch.nn as nn\n",
    "import torch.nn.functional as F\n",
    "import torchaudio\n",
    "import pytorch_lightning as pl\n",
    "from torch.utils.data import DataLoader, Dataset\n",
    "from torchaudio.pipelines import HDEMUCS_HIGH_MUSDB\n",
    "import torch.optim as optim\n",
    "from torch.utils.data import Dataset, DataLoader\n",
    "import torchaudio\n",
    "import numpy as np\n",
    "import random\n",
    "from pytorch_lightning.loggers import WandbLogger\n",
    "import subprocess\n",
    "import wandb\n",
    "import auraloss\n",
    "import collections\n",
    "from tqdm import tqdm\n",
    "import librosa\n",
    "from torchaudio.pipelines import HDEMUCS_HIGH_MUSDB\n",
    "print(torch.cuda.is_available())\n",
    "from torch.optim import lr_scheduler\n",
    "import pretty_midi\n",
    "from typing import Optional, Tuple\n",
    "import numpy as np\n",
    "import random"
   ]
  },
  {
   "cell_type": "markdown",
   "id": "e1c82506-04c8-4200-9e63-26857aa176bd",
   "metadata": {},
   "source": [
    "# Set Seeds"
   ]
  },
  {
   "cell_type": "code",
   "execution_count": 3,
   "id": "db3acd3b-d177-44d3-a3f4-35140f45e48a",
   "metadata": {},
   "outputs": [],
   "source": [
    "seed_value = 3407\n",
    "torch.manual_seed(seed_value)\n",
    "random.seed(seed_value)\n",
    "np.random.seed(seed_value)\n",
    "torch.cuda.manual_seed(seed_value)\n",
    "torch.cuda.manual_seed_all(seed_value)\n",
    "torch.set_float32_matmul_precision('high')"
   ]
  },
  {
   "cell_type": "markdown",
   "id": "6182916a-aec1-4c05-8a08-4d2e44dfd979",
   "metadata": {},
   "source": [
    "# Construct Teh Datas"
   ]
  },
  {
   "cell_type": "code",
   "execution_count": 4,
   "id": "50cfcb61-4cbb-4036-9dd7-7f13e1276b48",
   "metadata": {},
   "outputs": [],
   "source": [
    "class Track:\n",
    "    def __init__(self, name, midi_path, drum_path, mix_path, adtof_path, length):\n",
    "        self.name = name\n",
    "        self.midi_path = midi_path\n",
    "        self.drum_path = drum_path\n",
    "        self.mix_path = mix_path\n",
    "        self.targets = {'drums': '', 'bass': ''}\n",
    "        self.rate = 44100\n",
    "        self.subset = 'test'\n",
    "        self.adtof_path = adtof_path\n",
    "        self.length = length\n",
    "\n",
    "class AudioData:\n",
    "    def __init__(self, audio):\n",
    "        self.audio = audio"
   ]
  },
  {
   "cell_type": "code",
   "execution_count": 5,
   "id": "6aed8960-f6c5-4a99-811c-a05737fd7620",
   "metadata": {},
   "outputs": [],
   "source": [
    "mix_folder = 'D:/Github/phd-drum-sep/data/MDBDrums-master/MDB Drums/audio/full_mix/'\n",
    "mixes = os.listdir(mix_folder)\n",
    "mixes = [mix_folder + m for m in mixes]\n",
    "\n",
    "drum_folder = 'D:/Github/phd-drum-sep/data/MDBDrums-master/MDB Drums/audio/drum_only/'\n",
    "drum = os.listdir(drum_folder)\n",
    "drum = [drum_folder + d for d in drum]\n",
    "\n",
    "beats_folder = 'D:/Github/phd-drum-sep/data/MDBDrums-master/MDB Drums/annotations/beats/'\n",
    "beats = os.listdir(beats_folder)\n",
    "beats = [beats_folder + b for b in beats]#\n",
    "\n",
    "class_folder = 'D:/Github/phd-drum-sep/data/MDBDrums-master/MDB Drums/annotations/subclass/'\n",
    "classes = os.listdir(class_folder)\n",
    "classes = [class_folder + c for c in classes]\n",
    "\n",
    "midi_folder = 'D:/Github/phd-drum-sep/data/MDBDrums-master/MDB Drums/midi/'\n",
    "midis = os.listdir(midi_folder)\n",
    "midis = [midi_folder + m for m in midis]"
   ]
  },
  {
   "cell_type": "code",
   "execution_count": 6,
   "id": "653d5830-0783-496a-ad6a-080a6ab09306",
   "metadata": {},
   "outputs": [
    {
     "name": "stderr",
     "output_type": "stream",
     "text": [
      "23it [00:00, 7650.80it/s]\n"
     ]
    }
   ],
   "source": [
    "all_tracks = []\n",
    "for idx, val in tqdm(enumerate(classes)):\n",
    "\n",
    "    name = val.replace('D:/Github/phd-drum-sep/data/MDBDrums-master/MDB Drums/annotations/subclass/', '')\n",
    "    name = name.replace('_subclass.txt', '')\n",
    "\n",
    "    adtof_path = f\"D:/Github/phd-drum-sep/data/MDBDrums-master/MDB Drums/audio/adtof/{name}_MIX.wav.mid\"\n",
    "\n",
    "    info = torchaudio.info(mixes[idx])\n",
    "\n",
    "    t = Track(name, midis[idx], drum[idx], mixes[idx], adtof_path, info.num_frames) \n",
    "    all_tracks.append(t)"
   ]
  },
  {
   "cell_type": "code",
   "execution_count": 7,
   "id": "d6d4eb9a-f08d-4452-a4ad-b9769a218278",
   "metadata": {},
   "outputs": [],
   "source": [
    "def turn_transcription_into_roll(transcription, frames, threshold=1.0):\n",
    "    \"\"\"\n",
    "    Convert transcription into a piano roll, selectively including notes based on a threshold.\n",
    "    \n",
    "    Args:\n",
    "        transcription (music21.stream.Score): The transcription data.\n",
    "        frames (int): The number of frames in the output roll.\n",
    "        threshold (float): The threshold for including a note (0.0 to 1.0).\n",
    "    \n",
    "    Returns:\n",
    "        np.ndarray: The piano roll representation of the transcription.\n",
    "    \"\"\"\n",
    "    # Determine your sampling frequency (frames per second)\n",
    "    fs = 44100\n",
    "    \n",
    "    piano_roll_length = int(frames)\n",
    "    \n",
    "    # Initialize the piano roll array\n",
    "    piano_roll = np.zeros((64, piano_roll_length))\n",
    "    \n",
    "    # Fill in the piano roll array\n",
    "    for note in transcription.instruments[0].notes:\n",
    "        if random.random() <= threshold:\n",
    "            # Convert start and end times to frame indices\n",
    "            start_frame = int(np.floor(note.start * fs))\n",
    "            end_frame = int(np.ceil(note.end * fs))\n",
    "            \n",
    "            # Set the corresponding frames to 1 (or note.velocity for a velocity-sensitive representation)\n",
    "            piano_roll[note.pitch, start_frame:end_frame] = 1  # Or use note.velocity\n",
    "        \n",
    "    roll = np.vstack([\n",
    "        piano_roll[35:36, :],  # Kick\n",
    "        piano_roll[38:39, :],  # Snare\n",
    "        piano_roll[42:43, :],  # Hi-hat closed\n",
    "        piano_roll[47:48, :],  # Hi-hat open\n",
    "        piano_roll[49:50, :]   # Crash\n",
    "    ])\n",
    "    \n",
    "    return roll\n"
   ]
  },
  {
   "cell_type": "markdown",
   "id": "20988d30-a95e-4dca-ac19-a6f7cea95717",
   "metadata": {},
   "source": [
    "# model"
   ]
  },
  {
   "cell_type": "code",
   "execution_count": 8,
   "id": "b72a57b5-7115-421d-b26e-3ca3d21fef5d",
   "metadata": {},
   "outputs": [],
   "source": [
    "\n",
    "class ConvBlock(torch.nn.Module):\n",
    "    \"\"\"1D Convolutional block.\n",
    "\n",
    "    Args:\n",
    "        io_channels (int): The number of input/output channels, <B, Sc>\n",
    "        hidden_channels (int): The number of channels in the internal layers, <H>.\n",
    "        kernel_size (int): The convolution kernel size of the middle layer, <P>.\n",
    "        padding (int): Padding value of the convolution in the middle layer.\n",
    "        dilation (int, optional): Dilation value of the convolution in the middle layer.\n",
    "        no_redisual (bool, optional): Disable residual block/output.\n",
    "\n",
    "    Note:\n",
    "        This implementation corresponds to the \"non-causal\" setting in the paper.\n",
    "    \"\"\"\n",
    "\n",
    "    def __init__(\n",
    "        self,\n",
    "        io_channels: int,\n",
    "        hidden_channels: int,\n",
    "        kernel_size: int,\n",
    "        padding: int,\n",
    "        dilation: int = 1,\n",
    "        no_residual: bool = False,\n",
    "    ):\n",
    "        super().__init__()\n",
    "\n",
    "        self.conv_layers = torch.nn.Sequential(\n",
    "            torch.nn.Conv1d(in_channels=io_channels, out_channels=hidden_channels, kernel_size=1),\n",
    "            torch.nn.PReLU(),\n",
    "            torch.nn.GroupNorm(num_groups=1, num_channels=hidden_channels, eps=1e-08),\n",
    "            torch.nn.Conv1d(\n",
    "                in_channels=hidden_channels,\n",
    "                out_channels=hidden_channels,\n",
    "                kernel_size=kernel_size,\n",
    "                padding=padding,\n",
    "                dilation=dilation,\n",
    "                groups=hidden_channels,\n",
    "            ),\n",
    "            torch.nn.PReLU(),\n",
    "            torch.nn.GroupNorm(num_groups=1, num_channels=hidden_channels, eps=1e-08),\n",
    "        )\n",
    "\n",
    "        self.res_out = (\n",
    "            None\n",
    "            if no_residual\n",
    "            else torch.nn.Conv1d(in_channels=hidden_channels, out_channels=io_channels, kernel_size=1)\n",
    "        )\n",
    "        self.skip_out = torch.nn.Conv1d(in_channels=hidden_channels, out_channels=io_channels, kernel_size=1)\n",
    "\n",
    "    def forward(self, input: torch.Tensor) -> Tuple[Optional[torch.Tensor], torch.Tensor]:\n",
    "        feature = self.conv_layers(input)\n",
    "        if self.res_out is None:\n",
    "            residual = None\n",
    "        else:\n",
    "            residual = self.res_out(feature)\n",
    "        skip_out = self.skip_out(feature)\n",
    "        return residual, skip_out\n",
    "\n",
    "\n",
    "\n",
    "\n",
    "# In[12]:\n",
    "\n",
    "\n",
    "class MaskGenerator(torch.nn.Module):\n",
    "    \"\"\"TCN (Temporal Convolution Network) Separation Module\n",
    "\n",
    "    Generates masks for separation.\n",
    "\n",
    "    Args:\n",
    "        input_dim (int): Input feature dimension, <N>.\n",
    "        num_sources (int): The number of sources to separate.\n",
    "        kernel_size (int): The convolution kernel size of conv blocks, <P>.\n",
    "        num_featrs (int): Input/output feature dimenstion of conv blocks, <B, Sc>.\n",
    "        num_hidden (int): Intermediate feature dimention of conv blocks, <H>\n",
    "        num_layers (int): The number of conv blocks in one stack, <X>.\n",
    "        num_stacks (int): The number of conv block stacks, <R>.\n",
    "        msk_activate (str): The activation function of the mask output.\n",
    "\n",
    "    Note:\n",
    "        This implementation corresponds to the \"non-causal\" setting in the paper.\n",
    "    \"\"\"\n",
    "\n",
    "    def __init__(\n",
    "        self,\n",
    "        input_dim: int,\n",
    "        num_sources: int,\n",
    "        kernel_size: int,\n",
    "        num_feats: int,\n",
    "        num_hidden: int,\n",
    "        num_layers: int,\n",
    "        num_stacks: int,\n",
    "        msk_activate: str,\n",
    "    ):\n",
    "        super().__init__()\n",
    "\n",
    "        self.input_dim = input_dim\n",
    "        self.num_sources = num_sources\n",
    "\n",
    "        self.input_norm = torch.nn.GroupNorm(num_groups=1, num_channels=input_dim, eps=1e-8)\n",
    "        self.input_conv = torch.nn.Conv1d(in_channels=input_dim, out_channels=num_feats, kernel_size=1)\n",
    "\n",
    "        self.receptive_field = 0\n",
    "        self.conv_layers = torch.nn.ModuleList([])\n",
    "        for s in range(num_stacks):\n",
    "            for l in range(num_layers):\n",
    "                multi = 2**l\n",
    "                self.conv_layers.append(\n",
    "                    ConvBlock(\n",
    "                        io_channels=num_feats,\n",
    "                        hidden_channels=num_hidden,\n",
    "                        kernel_size=kernel_size,\n",
    "                        dilation=multi,\n",
    "                        padding=multi,\n",
    "                        # The last ConvBlock does not need residual\n",
    "                        no_residual=(l == (num_layers - 1) and s == (num_stacks - 1)),\n",
    "                    )\n",
    "                )\n",
    "                self.receptive_field += kernel_size if s == 0 and l == 0 else (kernel_size - 1) * multi\n",
    "        self.output_prelu = torch.nn.PReLU()\n",
    "        self.output_conv = torch.nn.Conv1d(\n",
    "            in_channels=num_feats,\n",
    "            out_channels=input_dim * num_sources,\n",
    "            kernel_size=1,\n",
    "        )\n",
    "        if msk_activate == \"sigmoid\":\n",
    "            self.mask_activate = torch.nn.Sigmoid()\n",
    "        elif msk_activate == \"relu\":\n",
    "            self.mask_activate = torch.nn.ReLU()\n",
    "        elif msk_activate == \"prelu\":\n",
    "            self.mask_activate = torch.nn.PReLU()\n",
    "        else:\n",
    "            raise ValueError(f\"Unsupported activation {msk_activate}\")\n",
    "\n",
    "    def forward(self, input: torch.Tensor) -> torch.Tensor:\n",
    "        \"\"\"Generate separation mask.\n",
    "\n",
    "        Args:\n",
    "            input (torch.Tensor): 3D Tensor with shape [batch, features, frames]\n",
    "\n",
    "        Returns:\n",
    "            Tensor: shape [batch, num_sources, features, frames]\n",
    "        \"\"\"\n",
    "        batch_size = input.shape[0]\n",
    "        feats = self.input_norm(input)\n",
    "        feats = self.input_conv(feats)\n",
    "        output = 0.0\n",
    "        for layer in self.conv_layers:\n",
    "            residual, skip = layer(feats)\n",
    "            if residual is not None:  # the last conv layer does not produce residual\n",
    "                feats = feats + residual\n",
    "            output = output + skip\n",
    "        output = self.output_prelu(output)\n",
    "        output = self.output_conv(output)\n",
    "        output = self.mask_activate(output)\n",
    "        return output.view(batch_size, self.num_sources, self.input_dim, -1)\n",
    "\n",
    "\n",
    "# In[13]:\n",
    "\n",
    "\n",
    "class ConvTasNet(torch.nn.Module):\n",
    "    \"\"\"Conv-TasNet architecture introduced in\n",
    "    *Conv-TasNet: Surpassing Ideal Time–Frequency Magnitude Masking for Speech Separation*\n",
    "    :cite:`Luo_2019`.\n",
    "\n",
    "    Note:\n",
    "        This implementation corresponds to the \"non-causal\" setting in the paper.\n",
    "\n",
    "    See Also:\n",
    "        * :class:`torchaudio.pipelines.SourceSeparationBundle`: Source separation pipeline with pre-trained models.\n",
    "\n",
    "    Args:\n",
    "        num_sources (int, optional): The number of sources to split.\n",
    "        enc_kernel_size (int, optional): The convolution kernel size of the encoder/decoder, <L>.\n",
    "        enc_num_feats (int, optional): The feature dimensions passed to mask generator, <N>.\n",
    "        msk_kernel_size (int, optional): The convolution kernel size of the mask generator, <P>.\n",
    "        msk_num_feats (int, optional): The input/output feature dimension of conv block in the mask generator, <B, Sc>.\n",
    "        msk_num_hidden_feats (int, optional): The internal feature dimension of conv block of the mask generator, <H>.\n",
    "        msk_num_layers (int, optional): The number of layers in one conv block of the mask generator, <X>.\n",
    "        msk_num_stacks (int, optional): The numbr of conv blocks of the mask generator, <R>.\n",
    "        msk_activate (str, optional): The activation function of the mask output (Default: ``sigmoid``).\n",
    "    \"\"\"\n",
    "\n",
    "    def __init__(\n",
    "        self,\n",
    "        num_sources: int = 2,\n",
    "        # encoder/decoder parameters\n",
    "        enc_kernel_size: int = 16,\n",
    "        enc_num_feats: int = 512,\n",
    "        # mask generator parameters\n",
    "        msk_kernel_size: int = 3,\n",
    "        msk_num_feats: int = 128,\n",
    "        msk_num_hidden_feats: int = 512,\n",
    "        msk_num_layers: int = 8,\n",
    "        msk_num_stacks: int = 3,\n",
    "        msk_activate: str = \"sigmoid\",\n",
    "    ):\n",
    "        super().__init__()\n",
    "\n",
    "        self.num_sources = num_sources\n",
    "        self.enc_num_feats = enc_num_feats\n",
    "        self.enc_kernel_size = enc_kernel_size\n",
    "        self.enc_stride = enc_kernel_size // 2\n",
    "\n",
    "        self.encoder = torch.nn.Conv1d(\n",
    "            in_channels=7,\n",
    "            out_channels=enc_num_feats,\n",
    "            kernel_size=enc_kernel_size,\n",
    "            stride=self.enc_stride,\n",
    "            padding=self.enc_stride,\n",
    "            bias=False,\n",
    "        )\n",
    "        self.mask_generator = MaskGenerator(\n",
    "            input_dim=enc_num_feats,\n",
    "            num_sources=num_sources,\n",
    "            kernel_size=msk_kernel_size,\n",
    "            num_feats=msk_num_feats,\n",
    "            num_hidden=msk_num_hidden_feats,\n",
    "            num_layers=msk_num_layers,\n",
    "            num_stacks=msk_num_stacks,\n",
    "            msk_activate=msk_activate,\n",
    "        )\n",
    "        self.decoder = torch.nn.ConvTranspose1d(\n",
    "            in_channels=enc_num_feats,\n",
    "            out_channels=2,\n",
    "            kernel_size=enc_kernel_size,\n",
    "            stride=self.enc_stride,\n",
    "            padding=self.enc_stride,\n",
    "            bias=False,\n",
    "        )\n",
    "\n",
    "    def _align_num_frames_with_strides(self, input: torch.Tensor) -> Tuple[torch.Tensor, int]:\n",
    "        \"\"\"Pad input Tensor so that the end of the input tensor corresponds with\n",
    "\n",
    "        1. (if kernel size is odd) the center of the last convolution kernel\n",
    "        or 2. (if kernel size is even) the end of the first half of the last convolution kernel\n",
    "\n",
    "        Assumption:\n",
    "            The resulting Tensor will be padded with the size of stride (== kernel_width // 2)\n",
    "            on the both ends in Conv1D\n",
    "\n",
    "        |<--- k_1 --->|\n",
    "        |      |            |<-- k_n-1 -->|\n",
    "        |      |                  |  |<--- k_n --->|\n",
    "        |      |                  |         |      |\n",
    "        |      |                  |         |      |\n",
    "        |      v                  v         v      |\n",
    "        |<---->|<--- input signal --->|<--->|<---->|\n",
    "         stride                         PAD  stride\n",
    "\n",
    "        Args:\n",
    "            input (torch.Tensor): 3D Tensor with shape (batch_size, channels==1, frames)\n",
    "\n",
    "        Returns:\n",
    "            Tensor: Padded Tensor\n",
    "            int: Number of paddings performed\n",
    "        \"\"\"\n",
    "        batch_size, num_channels, num_frames = input.shape\n",
    "        is_odd = self.enc_kernel_size % 2\n",
    "        num_strides = (num_frames - is_odd) // self.enc_stride\n",
    "        num_remainings = num_frames - (is_odd + num_strides * self.enc_stride)\n",
    "        if num_remainings == 0:\n",
    "            return input, 0\n",
    "\n",
    "        num_paddings = self.enc_stride - num_remainings\n",
    "        pad = torch.zeros(\n",
    "            batch_size,\n",
    "            num_channels,\n",
    "            num_paddings,\n",
    "            dtype=input.dtype,\n",
    "            device=input.device,\n",
    "        )\n",
    "        return torch.cat([input, pad], 2), num_paddings\n",
    "    \n",
    "    def forward(self, input: torch.Tensor) -> torch.Tensor:\n",
    "        \"\"\"Perform source separation. Generate audio source waveforms.\n",
    "\n",
    "        Args:\n",
    "            input (torch.Tensor): 3D Tensor with shape [batch, channel==1, frames]\n",
    "\n",
    "        Returns:\n",
    "            Tensor: 3D Tensor with shape [batch, channel==num_sources, frames]\n",
    "        \"\"\"\n",
    "\n",
    "        # B: batch size\n",
    "        # L: input frame length\n",
    "        # L': padded input frame length\n",
    "        # F: feature dimension\n",
    "        # M: feature frame length\n",
    "        # S: number of sources\n",
    "\n",
    "        padded, num_pads = self._align_num_frames_with_strides(input)  # B, 1, L'\n",
    "        batch_size, num_padded_frames = padded.shape[0], padded.shape[2]\n",
    "        feats = self.encoder(padded)  # B, F, M\n",
    "        masked = self.mask_generator(feats) * feats.unsqueeze(1)  # B, S, F, M\n",
    "        masked = masked.view(batch_size * self.num_sources, self.enc_num_feats, -1)  # B*S, F, M\n",
    "        decoded = self.decoder(masked)  # B*S, 1, L'\n",
    "        out = decoded.reshape(batch_size, 4, -1)\n",
    "        # print(out.shape)\n",
    "        return out\n",
    "\n",
    "\n",
    "# In[14]:\n",
    "\n",
    "\n",
    "class DrumConvTasnet(pl.LightningModule):\n",
    "    def __init__(self):\n",
    "        super(DrumConvTasnet, self).__init__()\n",
    "\n",
    "        self.loss_fn = auraloss.freq.MultiResolutionSTFTLoss(\n",
    "                    fft_sizes=[1024, 2048, 4096],\n",
    "                    hop_sizes=[256, 512, 1024],\n",
    "                    win_lengths=[1024, 2048, 4096],\n",
    "                    scale=\"mel\", \n",
    "                    n_bins=150,\n",
    "                    sample_rate=44100,\n",
    "                    device=\"cuda\"\n",
    "                )\n",
    "\n",
    "        self.loss_fn_2 = auraloss.time.SISDRLoss()\n",
    "\n",
    "        self.loss_fn_3 = torch.nn.L1Loss()\n",
    "\n",
    "        self.loss_used = 0\n",
    "        \n",
    "        self.conv_tasnet =  ConvTasNet(\n",
    "            num_sources=2,\n",
    "            enc_kernel_size=16,\n",
    "            enc_num_feats=512,\n",
    "            msk_kernel_size=3,\n",
    "            msk_num_feats=128,\n",
    "            msk_num_hidden_feats=512,\n",
    "            msk_num_layers=8,\n",
    "            msk_num_stacks=3,\n",
    "            msk_activate=\"prelu\",\n",
    "        )\n",
    "\n",
    "        self.out = nn.Conv1d(4, 2, kernel_size=1)\n",
    "\n",
    "    def compute_loss(self, outputs, ref_signals):\n",
    "        loss = self.loss_fn(outputs, ref_signals) + self.loss_fn_2(outputs, ref_signals) +  self.loss_fn_3(outputs, ref_signals)\n",
    "        return loss\n",
    "\n",
    "    def forward(self, audio, drumroll):\n",
    "        to_mix = torch.cat([audio, drumroll], axis=1)\n",
    "        out = self.conv_tasnet(to_mix)\n",
    "        out = self.out(out)\n",
    "        return out\n",
    "    \n",
    "    def training_step(self, batch, batch_idx):\n",
    "        # training_step defines the train loop. It is independent of forward\n",
    "        audio, drum, drumroll = batch\n",
    "        \n",
    "        outputs = self.forward(audio, drumroll)\n",
    "        # print(outputs.size())\n",
    "\n",
    "        if batch_idx % 64 == 0:\n",
    "            input_signal = audio[0].cpu().detach().numpy().T\n",
    "            generated_signal = outputs[0].cpu().detach().numpy().T\n",
    "            drum_signal = drum[0].cpu().detach().numpy().T \n",
    "            wandb.log({'audio_input': [wandb.Audio(input_signal, caption=\"Input\", sample_rate=44100)]})\n",
    "            wandb.log({'audio_reference': [wandb.Audio(drum_signal, caption=\"Reference\", sample_rate=44100)]})\n",
    "            wandb.log({'audio_output': [wandb.Audio(generated_signal, caption=\"Output\", sample_rate=44100)]})\n",
    "             \n",
    "            for i in range(5):\n",
    "                wandb.log({f'drum_{i + 1}': [wandb.Audio(drumroll[0].cpu().detach().numpy()[i, :], caption=\"Output\", sample_rate=44100)]})\n",
    "\n",
    "\n",
    "        loss = self.compute_loss(outputs, drum)         \n",
    "\n",
    "        self.log('train_loss', loss, on_step=True, on_epoch=True, prog_bar=True, logger=True)\n",
    "        \n",
    "        return loss\n",
    "    \n",
    "\n",
    "    def configure_optimizers(self):\n",
    "        # Define your optimizer and optionally learning rate scheduler here\n",
    "        optimizer = optim.Adam(self.parameters(), lr=0.001)\n",
    "        scheduler = lr_scheduler.StepLR(optimizer, step_size=1, gamma=0.99)\n",
    "        return [optimizer], [scheduler]\n",
    "        \n",
    " \n"
   ]
  },
  {
   "cell_type": "code",
   "execution_count": 9,
   "id": "79d11190-4e68-41f8-ae19-36d8199c1643",
   "metadata": {},
   "outputs": [],
   "source": [
    "def load_audio(filename):\n",
    "    audio_tensors = []\n",
    "    waveform, _ = torchaudio.load(f\"{filename}\")\n",
    "    return waveform\n",
    "\n",
    "def load_roll(path, frames, threshold=1.0):\n",
    "    midi = path\n",
    "    transcription = pretty_midi.PrettyMIDI(midi)\n",
    "    roll = turn_transcription_into_roll(transcription, frames, threshold)\n",
    "\n",
    "    return torch.from_numpy(roll).float()\n"
   ]
  },
  {
   "cell_type": "markdown",
   "id": "28a00457-307d-4743-9784-9f4cdae73730",
   "metadata": {},
   "source": [
    "# SISNR"
   ]
  },
  {
   "cell_type": "code",
   "execution_count": 10,
   "id": "3873fcee-a3cb-4975-98f5-fc50e77883fa",
   "metadata": {},
   "outputs": [],
   "source": [
    "def separate_sources(\n",
    "    model,\n",
    "    mix,\n",
    "    drumroll,\n",
    "    segment=4.0,\n",
    "    overlap=0,\n",
    "    device=None,\n",
    "    sample_rate=44100\n",
    "):\n",
    "    \"\"\"\n",
    "    Apply model to a given mixture. Use fade, and add segments together in order to add model segment by segment.\n",
    "\n",
    "    Args:\n",
    "        segment (int): segment length in seconds\n",
    "        device (torch.device, str, or None): if provided, device on which to\n",
    "            execute the computation, otherwise `mix.device` is assumed.\n",
    "            When `device` is different from `mix.device`, only local computations will\n",
    "            be on `device`, while the entire tracks will be stored on `mix.device`.\n",
    "    \"\"\"\n",
    "    if device is None:\n",
    "        device = mix.device\n",
    "    else:\n",
    "        device = torch.device(device)\n",
    "\n",
    "    batch, channels, length = mix.shape\n",
    "\n",
    "    chunk_len = int(sample_rate * segment * (1 + overlap))\n",
    "    start = 0\n",
    "    end = chunk_len\n",
    "    overlap_frames = overlap * sample_rate\n",
    "    fade = Fade(fade_in_len=0, fade_out_len=int(overlap_frames), fade_shape=\"linear\")\n",
    "\n",
    "    final = torch.zeros(batch, channels, length, device=device)\n",
    "\n",
    "    while start < length - overlap_frames:\n",
    "        chunk = mix[:, :, start:end]\n",
    "        roll = drumroll[:, :, start:end]\n",
    "        \n",
    "        with torch.no_grad():\n",
    "            out = model.forward(chunk, roll)\n",
    "        # print(out.shape)\n",
    "        out = fade(out)\n",
    "        # print(out.shape)\n",
    "        try:\n",
    "            final[:, :, start:end] += out\n",
    "        except:\n",
    "            pass\n",
    "        if start == 0:\n",
    "            fade.fade_in_len = int(overlap_frames)\n",
    "            start += int(chunk_len - overlap_frames)\n",
    "        else:\n",
    "            start += chunk_len\n",
    "        end += chunk_len\n",
    "        if end >= length:\n",
    "            fade.fade_out_len = 0\n",
    "    return final"
   ]
  },
  {
   "cell_type": "code",
   "execution_count": 11,
   "id": "b97a63a5-d58e-47db-9768-e063efd5da5a",
   "metadata": {},
   "outputs": [],
   "source": [
    "class AudioData:\n",
    "    def __init__(self, audio):\n",
    "        self.audio = audio"
   ]
  },
  {
   "cell_type": "code",
   "execution_count": 12,
   "id": "bcf06e62-3267-4faf-838f-70f14be50e92",
   "metadata": {},
   "outputs": [
    {
     "name": "stderr",
     "output_type": "stream",
     "text": [
      "C:\\Python311\\Lib\\site-packages\\pytorch_lightning\\utilities\\migration\\utils.py:55: The loaded checkpoint was produced with Lightning v2.2.1, which is newer than your current Lightning version: v2.1.2\n",
      "  4%|████████▏                                                                                                                                                                                  | 1/23 [00:09<03:36,  9.83s/it]"
     ]
    },
    {
     "name": "stdout",
     "output_type": "stream",
     "text": [
      "drums           ==> SDR:  -1.586  SIR: 211.808  ISR:  -0.695  SAR:  -2.734  \n",
      "bass            ==> SDR:  -1.586  SIR: 211.808  ISR:  -0.695  SAR:  -2.734  \n",
      "\n"
     ]
    },
    {
     "name": "stderr",
     "output_type": "stream",
     "text": [
      "  9%|████████████████▎                                                                                                                                                                          | 2/23 [00:17<03:01,  8.65s/it]"
     ]
    },
    {
     "name": "stdout",
     "output_type": "stream",
     "text": [
      "drums           ==> SDR:  -4.851  SIR: 150.045  ISR:  -3.225  SAR:   4.085  \n",
      "bass            ==> SDR:  -4.851  SIR: 150.045  ISR:  -3.225  SAR:   4.085  \n",
      "\n"
     ]
    },
    {
     "name": "stderr",
     "output_type": "stream",
     "text": [
      " 13%|████████████████████████▍                                                                                                                                                                  | 3/23 [00:43<05:30, 16.55s/it]"
     ]
    },
    {
     "name": "stdout",
     "output_type": "stream",
     "text": [
      "drums           ==> SDR:  -1.389  SIR: 228.354  ISR:   0.896  SAR: -14.567  \n",
      "bass            ==> SDR:  -1.389  SIR: 228.354  ISR:   0.896  SAR: -14.567  \n",
      "\n"
     ]
    },
    {
     "name": "stderr",
     "output_type": "stream",
     "text": [
      " 17%|████████████████████████████████▌                                                                                                                                                          | 4/23 [00:51<04:09, 13.16s/it]"
     ]
    },
    {
     "name": "stdout",
     "output_type": "stream",
     "text": [
      "drums           ==> SDR:  -1.472  SIR: 229.359  ISR:  -0.773  SAR:   0.487  \n",
      "bass            ==> SDR:  -1.472  SIR: 229.359  ISR:  -0.773  SAR:   0.487  \n",
      "\n"
     ]
    },
    {
     "name": "stderr",
     "output_type": "stream",
     "text": [
      " 22%|████████████████████████████████████████▋                                                                                                                                                  | 5/23 [01:17<05:20, 17.81s/it]"
     ]
    },
    {
     "name": "stdout",
     "output_type": "stream",
     "text": [
      "drums           ==> SDR:  -4.250  SIR: 210.018  ISR:   0.252  SAR:  -9.860  \n",
      "bass            ==> SDR:  -4.250  SIR: 210.018  ISR:   0.252  SAR:  -9.860  \n",
      "\n"
     ]
    },
    {
     "name": "stderr",
     "output_type": "stream",
     "text": [
      " 26%|████████████████████████████████████████████████▊                                                                                                                                          | 6/23 [01:25<04:05, 14.44s/it]"
     ]
    },
    {
     "name": "stdout",
     "output_type": "stream",
     "text": [
      "drums           ==> SDR: -15.177  SIR: 232.348  ISR: -13.464  SAR:   3.394  \n",
      "bass            ==> SDR: -15.177  SIR: 232.348  ISR: -13.464  SAR:   3.394  \n",
      "\n"
     ]
    },
    {
     "name": "stderr",
     "output_type": "stream",
     "text": [
      " 30%|████████████████████████████████████████████████████████▉                                                                                                                                  | 7/23 [01:53<05:02, 18.88s/it]"
     ]
    },
    {
     "name": "stdout",
     "output_type": "stream",
     "text": [
      "drums           ==> SDR:  -7.884  SIR: 250.628  ISR:  -5.361  SAR:   1.419  \n",
      "bass            ==> SDR:  -7.884  SIR: 250.628  ISR:  -5.361  SAR:   1.419  \n",
      "\n"
     ]
    },
    {
     "name": "stderr",
     "output_type": "stream",
     "text": [
      " 35%|█████████████████████████████████████████████████████████████████                                                                                                                          | 8/23 [02:18<05:13, 20.92s/it]"
     ]
    },
    {
     "name": "stdout",
     "output_type": "stream",
     "text": [
      "drums           ==> SDR:  -6.457  SIR: 216.918  ISR:  -0.225  SAR: -15.182  \n",
      "bass            ==> SDR:  -6.457  SIR: 216.918  ISR:  -0.225  SAR: -15.182  \n",
      "\n"
     ]
    },
    {
     "name": "stderr",
     "output_type": "stream",
     "text": [
      " 39%|█████████████████████████████████████████████████████████████████████████▏                                                                                                                 | 9/23 [02:31<04:15, 18.28s/it]"
     ]
    },
    {
     "name": "stdout",
     "output_type": "stream",
     "text": [
      "drums           ==> SDR:   3.669  SIR: 239.878  ISR:   5.199  SAR:   2.733  \n",
      "bass            ==> SDR:   3.669  SIR: 239.878  ISR:   5.199  SAR:   2.733  \n",
      "\n"
     ]
    },
    {
     "name": "stderr",
     "output_type": "stream",
     "text": [
      " 43%|████████████████████████████████████████████████████████████████████████████████▊                                                                                                         | 10/23 [02:57<04:29, 20.74s/it]"
     ]
    },
    {
     "name": "stdout",
     "output_type": "stream",
     "text": [
      "drums           ==> SDR:   1.924  SIR: 231.858  ISR:   4.535  SAR:   3.002  \n",
      "bass            ==> SDR:   1.924  SIR: 231.858  ISR:   4.535  SAR:   3.002  \n",
      "\n"
     ]
    },
    {
     "name": "stderr",
     "output_type": "stream",
     "text": [
      " 48%|████████████████████████████████████████████████████████████████████████████████████████▉                                                                                                 | 11/23 [03:13<03:49, 19.12s/it]"
     ]
    },
    {
     "name": "stdout",
     "output_type": "stream",
     "text": [
      "drums           ==> SDR:  -5.143  SIR: 238.203  ISR:  -0.644  SAR:  -1.143  \n",
      "bass            ==> SDR:  -5.143  SIR: 238.203  ISR:  -0.644  SAR:  -1.143  \n",
      "\n"
     ]
    },
    {
     "name": "stderr",
     "output_type": "stream",
     "text": [
      " 52%|█████████████████████████████████████████████████████████████████████████████████████████████████                                                                                         | 12/23 [03:21<02:55, 15.91s/it]"
     ]
    },
    {
     "name": "stdout",
     "output_type": "stream",
     "text": [
      "drums           ==> SDR: -10.019  SIR: 227.291  ISR:  -7.973  SAR:   0.824  \n",
      "bass            ==> SDR: -10.019  SIR: 227.291  ISR:  -7.973  SAR:   0.824  \n",
      "\n"
     ]
    },
    {
     "name": "stderr",
     "output_type": "stream",
     "text": [
      " 57%|█████████████████████████████████████████████████████████████████████████████████████████████████████████▏                                                                                | 13/23 [03:26<02:04, 12.44s/it]"
     ]
    },
    {
     "name": "stdout",
     "output_type": "stream",
     "text": [
      "drums           ==> SDR:  -1.354  SIR: 100.538  ISR:  -0.800  SAR:   0.699  \n",
      "bass            ==> SDR:  -1.354  SIR: 100.538  ISR:  -0.800  SAR:   0.699  \n",
      "\n"
     ]
    },
    {
     "name": "stderr",
     "output_type": "stream",
     "text": [
      " 61%|█████████████████████████████████████████████████████████████████████████████████████████████████████████████████▏                                                                        | 14/23 [03:40<01:57, 13.08s/it]"
     ]
    },
    {
     "name": "stdout",
     "output_type": "stream",
     "text": [
      "drums           ==> SDR:   0.771  SIR: 227.828  ISR:   0.904  SAR:  -0.939  \n",
      "bass            ==> SDR:   0.771  SIR: 227.828  ISR:   0.904  SAR:  -0.939  \n",
      "\n"
     ]
    },
    {
     "name": "stderr",
     "output_type": "stream",
     "text": [
      " 65%|█████████████████████████████████████████████████████████████████████████████████████████████████████████████████████████▎                                                                | 15/23 [04:05<02:13, 16.70s/it]"
     ]
    },
    {
     "name": "stdout",
     "output_type": "stream",
     "text": [
      "drums           ==> SDR:   2.245  SIR: 206.108  ISR:   4.728  SAR:   0.180  \n",
      "bass            ==> SDR:   2.245  SIR: 206.108  ISR:   4.728  SAR:   0.180  \n",
      "\n"
     ]
    },
    {
     "name": "stderr",
     "output_type": "stream",
     "text": [
      " 70%|█████████████████████████████████████████████████████████████████████████████████████████████████████████████████████████████████▍                                                        | 16/23 [04:12<01:36, 13.74s/it]"
     ]
    },
    {
     "name": "stdout",
     "output_type": "stream",
     "text": [
      "drums           ==> SDR:  -6.363  SIR: 239.657  ISR:  -2.939  SAR:  -1.141  \n",
      "bass            ==> SDR:  -6.363  SIR: 239.657  ISR:  -2.939  SAR:  -1.141  \n",
      "\n"
     ]
    },
    {
     "name": "stderr",
     "output_type": "stream",
     "text": [
      " 74%|█████████████████████████████████████████████████████████████████████████████████████████████████████████████████████████████████████████▍                                                | 17/23 [04:16<01:05, 10.87s/it]"
     ]
    },
    {
     "name": "stdout",
     "output_type": "stream",
     "text": [
      "drums           ==> SDR:  -4.261  SIR: 156.842  ISR:  -3.555  SAR:   5.679  \n",
      "bass            ==> SDR:  -4.261  SIR: 156.842  ISR:  -3.555  SAR:   5.679  \n",
      "\n"
     ]
    },
    {
     "name": "stderr",
     "output_type": "stream",
     "text": [
      " 78%|█████████████████████████████████████████████████████████████████████████████████████████████████████████████████████████████████████████████████▌                                        | 18/23 [04:23<00:48,  9.60s/it]"
     ]
    },
    {
     "name": "stdout",
     "output_type": "stream",
     "text": [
      "drums           ==> SDR: -11.591  SIR: 178.434  ISR:  -7.705  SAR:  -0.326  \n",
      "bass            ==> SDR: -11.591  SIR: 178.434  ISR:  -7.705  SAR:  -0.326  \n",
      "\n"
     ]
    },
    {
     "name": "stderr",
     "output_type": "stream",
     "text": [
      " 83%|█████████████████████████████████████████████████████████████████████████████████████████████████████████████████████████████████████████████████████████▋                                | 19/23 [04:27<00:31,  7.81s/it]"
     ]
    },
    {
     "name": "stdout",
     "output_type": "stream",
     "text": [
      "drums           ==> SDR:  -5.716  SIR: 162.670  ISR:  -2.190  SAR:   0.639  \n",
      "bass            ==> SDR:  -5.716  SIR: 162.670  ISR:  -2.190  SAR:   0.639  \n",
      "\n"
     ]
    },
    {
     "name": "stderr",
     "output_type": "stream",
     "text": [
      " 87%|█████████████████████████████████████████████████████████████████████████████████████████████████████████████████████████████████████████████████████████████████▋                        | 20/23 [04:34<00:23,  7.68s/it]"
     ]
    },
    {
     "name": "stdout",
     "output_type": "stream",
     "text": [
      "drums           ==> SDR:   3.304  SIR: 170.791  ISR:   5.874  SAR:   4.129  \n",
      "bass            ==> SDR:   3.304  SIR: 170.791  ISR:   5.874  SAR:   4.129  \n",
      "\n"
     ]
    },
    {
     "name": "stderr",
     "output_type": "stream",
     "text": [
      " 91%|█████████████████████████████████████████████████████████████████████████████████████████████████████████████████████████████████████████████████████████████████████████▊                | 21/23 [04:42<00:15,  7.74s/it]"
     ]
    },
    {
     "name": "stdout",
     "output_type": "stream",
     "text": [
      "drums           ==> SDR:  -1.817  SIR: 227.585  ISR:   0.060  SAR:   2.327  \n",
      "bass            ==> SDR:  -1.817  SIR: 227.585  ISR:   0.060  SAR:   2.327  \n",
      "\n"
     ]
    },
    {
     "name": "stderr",
     "output_type": "stream",
     "text": [
      " 96%|█████████████████████████████████████████████████████████████████████████████████████████████████████████████████████████████████████████████████████████████████████████████████▉        | 22/23 [04:59<00:10, 10.71s/it]"
     ]
    },
    {
     "name": "stdout",
     "output_type": "stream",
     "text": [
      "drums           ==> SDR:   1.295  SIR: 238.297  ISR:   7.304  SAR:   0.162  \n",
      "bass            ==> SDR:   1.295  SIR: 238.297  ISR:   7.304  SAR:   0.162  \n",
      "\n"
     ]
    },
    {
     "name": "stderr",
     "output_type": "stream",
     "text": [
      "100%|██████████████████████████████████████████████████████████████████████████████████████████████████████████████████████████████████████████████████████████████████████████████████████████| 23/23 [05:04<00:00, 13.24s/it]"
     ]
    },
    {
     "name": "stdout",
     "output_type": "stream",
     "text": [
      "drums           ==> SDR:   2.592  SIR:  86.136  ISR:   2.595  SAR:   4.531  \n",
      "bass            ==> SDR:   2.592  SIR:  86.136  ISR:   2.595  SAR:   4.531  \n",
      "\n"
     ]
    },
    {
     "name": "stderr",
     "output_type": "stream",
     "text": [
      "\n",
      "C:\\Python311\\Lib\\site-packages\\pytorch_lightning\\utilities\\migration\\utils.py:55: The loaded checkpoint was produced with Lightning v2.2.1, which is newer than your current Lightning version: v2.1.2\n",
      "  4%|████████▏                                                                                                                                                                                  | 1/23 [00:07<02:55,  7.97s/it]"
     ]
    },
    {
     "name": "stdout",
     "output_type": "stream",
     "text": [
      "drums           ==> SDR:  -1.578  SIR: 215.161  ISR:  -0.691  SAR:  -2.745  \n",
      "bass            ==> SDR:  -1.578  SIR: 215.161  ISR:  -0.691  SAR:  -2.745  \n",
      "\n"
     ]
    },
    {
     "name": "stderr",
     "output_type": "stream",
     "text": [
      "  9%|████████████████▎                                                                                                                                                                          | 2/23 [00:15<02:45,  7.86s/it]"
     ]
    },
    {
     "name": "stdout",
     "output_type": "stream",
     "text": [
      "drums           ==> SDR:  -4.123  SIR: 151.271  ISR:  -2.290  SAR:   3.879  \n",
      "bass            ==> SDR:  -4.123  SIR: 151.271  ISR:  -2.290  SAR:   3.879  \n",
      "\n"
     ]
    },
    {
     "name": "stderr",
     "output_type": "stream",
     "text": [
      " 13%|████████████████████████▍                                                                                                                                                                  | 3/23 [00:40<05:12, 15.65s/it]"
     ]
    },
    {
     "name": "stdout",
     "output_type": "stream",
     "text": [
      "drums           ==> SDR:  -1.195  SIR: 222.841  ISR:   0.849  SAR: -14.675  \n",
      "bass            ==> SDR:  -1.195  SIR: 222.841  ISR:   0.849  SAR: -14.675  \n",
      "\n"
     ]
    },
    {
     "name": "stderr",
     "output_type": "stream",
     "text": [
      " 17%|████████████████████████████████▌                                                                                                                                                          | 4/23 [00:48<03:59, 12.61s/it]"
     ]
    },
    {
     "name": "stdout",
     "output_type": "stream",
     "text": [
      "drums           ==> SDR:  -1.465  SIR: 242.408  ISR:  -0.792  SAR:   0.486  \n",
      "bass            ==> SDR:  -1.465  SIR: 242.408  ISR:  -0.792  SAR:   0.486  \n",
      "\n"
     ]
    },
    {
     "name": "stderr",
     "output_type": "stream",
     "text": [
      " 22%|████████████████████████████████████████▋                                                                                                                                                  | 5/23 [01:13<05:06, 17.03s/it]"
     ]
    },
    {
     "name": "stdout",
     "output_type": "stream",
     "text": [
      "drums           ==> SDR:  -3.788  SIR: 213.681  ISR:   0.358  SAR: -10.392  \n",
      "bass            ==> SDR:  -3.788  SIR: 213.681  ISR:   0.358  SAR: -10.392  \n",
      "\n"
     ]
    },
    {
     "name": "stderr",
     "output_type": "stream",
     "text": [
      " 26%|████████████████████████████████████████████████▊                                                                                                                                          | 6/23 [01:21<03:56, 13.89s/it]"
     ]
    },
    {
     "name": "stdout",
     "output_type": "stream",
     "text": [
      "drums           ==> SDR: -15.154  SIR: 228.660  ISR: -13.315  SAR:   3.272  \n",
      "bass            ==> SDR: -15.154  SIR: 228.660  ISR: -13.315  SAR:   3.272  \n",
      "\n"
     ]
    },
    {
     "name": "stderr",
     "output_type": "stream",
     "text": [
      " 30%|████████████████████████████████████████████████████████▉                                                                                                                                  | 7/23 [01:49<04:55, 18.44s/it]"
     ]
    },
    {
     "name": "stdout",
     "output_type": "stream",
     "text": [
      "drums           ==> SDR:  -7.727  SIR: 249.692  ISR:  -5.215  SAR:   1.381  \n",
      "bass            ==> SDR:  -7.727  SIR: 249.692  ISR:  -5.215  SAR:   1.381  \n",
      "\n"
     ]
    },
    {
     "name": "stderr",
     "output_type": "stream",
     "text": [
      " 35%|█████████████████████████████████████████████████████████████████                                                                                                                          | 8/23 [02:14<05:08, 20.56s/it]"
     ]
    },
    {
     "name": "stdout",
     "output_type": "stream",
     "text": [
      "drums           ==> SDR:  -6.148  SIR: 216.763  ISR:  -0.180  SAR: -15.366  \n",
      "bass            ==> SDR:  -6.148  SIR: 216.763  ISR:  -0.180  SAR: -15.366  \n",
      "\n"
     ]
    },
    {
     "name": "stderr",
     "output_type": "stream",
     "text": [
      " 39%|█████████████████████████████████████████████████████████████████████████▏                                                                                                                 | 9/23 [02:26<04:12, 18.02s/it]"
     ]
    },
    {
     "name": "stdout",
     "output_type": "stream",
     "text": [
      "drums           ==> SDR:   3.428  SIR: 235.586  ISR:   4.867  SAR:   2.399  \n",
      "bass            ==> SDR:   3.428  SIR: 235.586  ISR:   4.867  SAR:   2.399  \n",
      "\n"
     ]
    },
    {
     "name": "stderr",
     "output_type": "stream",
     "text": [
      " 43%|████████████████████████████████████████████████████████████████████████████████▊                                                                                                         | 10/23 [02:52<04:26, 20.50s/it]"
     ]
    },
    {
     "name": "stdout",
     "output_type": "stream",
     "text": [
      "drums           ==> SDR:   1.868  SIR: 227.626  ISR:   4.460  SAR:   2.893  \n",
      "bass            ==> SDR:   1.868  SIR: 227.626  ISR:   4.460  SAR:   2.893  \n",
      "\n"
     ]
    },
    {
     "name": "stderr",
     "output_type": "stream",
     "text": [
      " 48%|████████████████████████████████████████████████████████████████████████████████████████▉                                                                                                 | 11/23 [03:07<03:46, 18.91s/it]"
     ]
    },
    {
     "name": "stdout",
     "output_type": "stream",
     "text": [
      "drums           ==> SDR:  -5.141  SIR: 239.282  ISR:  -0.668  SAR:  -1.210  \n",
      "bass            ==> SDR:  -5.141  SIR: 239.282  ISR:  -0.668  SAR:  -1.210  \n",
      "\n"
     ]
    },
    {
     "name": "stderr",
     "output_type": "stream",
     "text": [
      " 52%|█████████████████████████████████████████████████████████████████████████████████████████████████                                                                                         | 12/23 [03:16<02:53, 15.78s/it]"
     ]
    },
    {
     "name": "stdout",
     "output_type": "stream",
     "text": [
      "drums           ==> SDR:  -9.996  SIR: 220.582  ISR:  -7.874  SAR:   0.809  \n",
      "bass            ==> SDR:  -9.996  SIR: 220.582  ISR:  -7.874  SAR:   0.809  \n",
      "\n"
     ]
    },
    {
     "name": "stderr",
     "output_type": "stream",
     "text": [
      " 57%|█████████████████████████████████████████████████████████████████████████████████████████████████████████▏                                                                                | 13/23 [03:21<02:03, 12.35s/it]"
     ]
    },
    {
     "name": "stdout",
     "output_type": "stream",
     "text": [
      "drums           ==> SDR:  -1.133  SIR: 100.706  ISR:  -0.659  SAR:   0.833  \n",
      "bass            ==> SDR:  -1.133  SIR: 100.706  ISR:  -0.659  SAR:   0.833  \n",
      "\n"
     ]
    },
    {
     "name": "stderr",
     "output_type": "stream",
     "text": [
      " 61%|█████████████████████████████████████████████████████████████████████████████████████████████████████████████████▏                                                                        | 14/23 [03:35<01:57, 13.02s/it]"
     ]
    },
    {
     "name": "stdout",
     "output_type": "stream",
     "text": [
      "drums           ==> SDR:   0.749  SIR: 223.021  ISR:   0.869  SAR:  -0.959  \n",
      "bass            ==> SDR:   0.749  SIR: 223.021  ISR:   0.869  SAR:  -0.959  \n",
      "\n"
     ]
    },
    {
     "name": "stderr",
     "output_type": "stream",
     "text": [
      " 65%|█████████████████████████████████████████████████████████████████████████████████████████████████████████████████████████▎                                                                | 15/23 [04:00<02:13, 16.65s/it]"
     ]
    },
    {
     "name": "stdout",
     "output_type": "stream",
     "text": [
      "drums           ==> SDR:   2.008  SIR: 216.820  ISR:   4.509  SAR:   0.170  \n",
      "bass            ==> SDR:   2.008  SIR: 216.820  ISR:   4.509  SAR:   0.170  \n",
      "\n"
     ]
    },
    {
     "name": "stderr",
     "output_type": "stream",
     "text": [
      " 70%|█████████████████████████████████████████████████████████████████████████████████████████████████████████████████████████████████▍                                                        | 16/23 [04:07<01:36, 13.73s/it]"
     ]
    },
    {
     "name": "stdout",
     "output_type": "stream",
     "text": [
      "drums           ==> SDR:  -6.328  SIR: 234.790  ISR:  -2.936  SAR:  -1.270  \n",
      "bass            ==> SDR:  -6.328  SIR: 234.790  ISR:  -2.936  SAR:  -1.270  \n",
      "\n"
     ]
    },
    {
     "name": "stderr",
     "output_type": "stream",
     "text": [
      " 74%|█████████████████████████████████████████████████████████████████████████████████████████████████████████████████████████████████████████▍                                                | 17/23 [04:11<01:04, 10.80s/it]"
     ]
    },
    {
     "name": "stdout",
     "output_type": "stream",
     "text": [
      "drums           ==> SDR:  -4.455  SIR: 160.020  ISR:  -3.294  SAR:   5.793  \n",
      "bass            ==> SDR:  -4.455  SIR: 160.020  ISR:  -3.294  SAR:   5.793  \n",
      "\n"
     ]
    },
    {
     "name": "stderr",
     "output_type": "stream",
     "text": [
      " 78%|█████████████████████████████████████████████████████████████████████████████████████████████████████████████████████████████████████████████████▌                                        | 18/23 [04:18<00:47,  9.52s/it]"
     ]
    },
    {
     "name": "stdout",
     "output_type": "stream",
     "text": [
      "drums           ==> SDR: -11.439  SIR: 182.269  ISR:  -7.641  SAR:  -0.490  \n",
      "bass            ==> SDR: -11.439  SIR: 182.269  ISR:  -7.641  SAR:  -0.490  \n",
      "\n"
     ]
    },
    {
     "name": "stderr",
     "output_type": "stream",
     "text": [
      " 83%|█████████████████████████████████████████████████████████████████████████████████████████████████████████████████████████████████████████████████████████▋                                | 19/23 [04:22<00:31,  7.85s/it]"
     ]
    },
    {
     "name": "stdout",
     "output_type": "stream",
     "text": [
      "drums           ==> SDR:  -5.717  SIR: 163.274  ISR:  -2.263  SAR:   0.597  \n",
      "bass            ==> SDR:  -5.717  SIR: 163.274  ISR:  -2.263  SAR:   0.597  \n",
      "\n"
     ]
    },
    {
     "name": "stderr",
     "output_type": "stream",
     "text": [
      " 87%|█████████████████████████████████████████████████████████████████████████████████████████████████████████████████████████████████████████████████████████████████▋                        | 20/23 [04:29<00:23,  7.73s/it]"
     ]
    },
    {
     "name": "stdout",
     "output_type": "stream",
     "text": [
      "drums           ==> SDR:   3.207  SIR: 166.704  ISR:   5.792  SAR:   3.830  \n",
      "bass            ==> SDR:   3.207  SIR: 166.704  ISR:   5.792  SAR:   3.830  \n",
      "\n"
     ]
    },
    {
     "name": "stderr",
     "output_type": "stream",
     "text": [
      " 91%|█████████████████████████████████████████████████████████████████████████████████████████████████████████████████████████████████████████████████████████████████████████▊                | 21/23 [04:37<00:15,  7.74s/it]"
     ]
    },
    {
     "name": "stdout",
     "output_type": "stream",
     "text": [
      "drums           ==> SDR:  -1.921  SIR: 231.757  ISR:   0.002  SAR:   2.261  \n",
      "bass            ==> SDR:  -1.921  SIR: 231.757  ISR:   0.002  SAR:   2.261  \n",
      "\n"
     ]
    },
    {
     "name": "stderr",
     "output_type": "stream",
     "text": [
      " 96%|█████████████████████████████████████████████████████████████████████████████████████████████████████████████████████████████████████████████████████████████████████████████████▉        | 22/23 [04:54<00:10, 10.67s/it]"
     ]
    },
    {
     "name": "stdout",
     "output_type": "stream",
     "text": [
      "drums           ==> SDR:   1.392  SIR: 235.021  ISR:   6.961  SAR:  -0.104  \n",
      "bass            ==> SDR:   1.392  SIR: 235.021  ISR:   6.961  SAR:  -0.104  \n",
      "\n"
     ]
    },
    {
     "name": "stderr",
     "output_type": "stream",
     "text": [
      "100%|██████████████████████████████████████████████████████████████████████████████████████████████████████████████████████████████████████████████████████████████████████████████████████████| 23/23 [04:59<00:00, 13.01s/it]"
     ]
    },
    {
     "name": "stdout",
     "output_type": "stream",
     "text": [
      "drums           ==> SDR:   2.592  SIR:  93.286  ISR:   2.605  SAR:   4.627  \n",
      "bass            ==> SDR:   2.592  SIR:  93.286  ISR:   2.605  SAR:   4.627  \n",
      "\n"
     ]
    },
    {
     "name": "stderr",
     "output_type": "stream",
     "text": [
      "\n",
      "C:\\Python311\\Lib\\site-packages\\pytorch_lightning\\utilities\\migration\\utils.py:55: The loaded checkpoint was produced with Lightning v2.2.1, which is newer than your current Lightning version: v2.1.2\n",
      "  4%|████████▏                                                                                                                                                                                  | 1/23 [00:07<02:54,  7.95s/it]"
     ]
    },
    {
     "name": "stdout",
     "output_type": "stream",
     "text": [
      "drums           ==> SDR:  -1.585  SIR: 206.956  ISR:  -0.676  SAR:  -2.822  \n",
      "bass            ==> SDR:  -1.585  SIR: 206.956  ISR:  -0.676  SAR:  -2.822  \n",
      "\n"
     ]
    },
    {
     "name": "stderr",
     "output_type": "stream",
     "text": [
      "  9%|████████████████▎                                                                                                                                                                          | 2/23 [00:15<02:45,  7.90s/it]"
     ]
    },
    {
     "name": "stdout",
     "output_type": "stream",
     "text": [
      "drums           ==> SDR:  -3.915  SIR: 150.560  ISR:  -2.153  SAR:   3.690  \n",
      "bass            ==> SDR:  -3.915  SIR: 150.560  ISR:  -2.153  SAR:   3.690  \n",
      "\n"
     ]
    },
    {
     "name": "stderr",
     "output_type": "stream",
     "text": [
      " 13%|████████████████████████▍                                                                                                                                                                  | 3/23 [00:40<05:14, 15.75s/it]"
     ]
    },
    {
     "name": "stdout",
     "output_type": "stream",
     "text": [
      "drums           ==> SDR:  -1.206  SIR: 228.944  ISR:   0.827  SAR: -14.729  \n",
      "bass            ==> SDR:  -1.206  SIR: 228.944  ISR:   0.827  SAR: -14.729  \n",
      "\n"
     ]
    },
    {
     "name": "stderr",
     "output_type": "stream",
     "text": [
      " 17%|████████████████████████████████▌                                                                                                                                                          | 4/23 [00:48<04:00, 12.66s/it]"
     ]
    },
    {
     "name": "stdout",
     "output_type": "stream",
     "text": [
      "drums           ==> SDR:  -1.526  SIR: 232.179  ISR:  -0.816  SAR:   0.428  \n",
      "bass            ==> SDR:  -1.526  SIR: 232.179  ISR:  -0.816  SAR:   0.428  \n",
      "\n"
     ]
    },
    {
     "name": "stderr",
     "output_type": "stream",
     "text": [
      " 22%|████████████████████████████████████████▋                                                                                                                                                  | 5/23 [01:13<05:06, 17.05s/it]"
     ]
    },
    {
     "name": "stdout",
     "output_type": "stream",
     "text": [
      "drums           ==> SDR:  -3.588  SIR: 223.051  ISR:   0.371  SAR: -10.142  \n",
      "bass            ==> SDR:  -3.588  SIR: 223.051  ISR:   0.371  SAR: -10.142  \n",
      "\n"
     ]
    },
    {
     "name": "stderr",
     "output_type": "stream",
     "text": [
      " 26%|████████████████████████████████████████████████▊                                                                                                                                          | 6/23 [01:21<03:56, 13.89s/it]"
     ]
    },
    {
     "name": "stdout",
     "output_type": "stream",
     "text": [
      "drums           ==> SDR: -15.029  SIR: 224.079  ISR: -13.208  SAR:   3.298  \n",
      "bass            ==> SDR: -15.029  SIR: 224.079  ISR: -13.208  SAR:   3.298  \n",
      "\n"
     ]
    },
    {
     "name": "stderr",
     "output_type": "stream",
     "text": [
      " 30%|████████████████████████████████████████████████████████▉                                                                                                                                  | 7/23 [01:49<04:56, 18.50s/it]"
     ]
    },
    {
     "name": "stdout",
     "output_type": "stream",
     "text": [
      "drums           ==> SDR:  -7.664  SIR: 248.967  ISR:  -5.178  SAR:   1.450  \n",
      "bass            ==> SDR:  -7.664  SIR: 248.967  ISR:  -5.178  SAR:   1.450  \n",
      "\n"
     ]
    },
    {
     "name": "stderr",
     "output_type": "stream",
     "text": [
      " 35%|█████████████████████████████████████████████████████████████████                                                                                                                          | 8/23 [02:14<05:09, 20.64s/it]"
     ]
    },
    {
     "name": "stdout",
     "output_type": "stream",
     "text": [
      "drums           ==> SDR:  -5.522  SIR: 215.968  ISR:  -0.149  SAR: -15.646  \n",
      "bass            ==> SDR:  -5.522  SIR: 215.968  ISR:  -0.149  SAR: -15.646  \n",
      "\n"
     ]
    },
    {
     "name": "stderr",
     "output_type": "stream",
     "text": [
      " 39%|█████████████████████████████████████████████████████████████████████████▏                                                                                                                 | 9/23 [02:26<04:12, 18.05s/it]"
     ]
    },
    {
     "name": "stdout",
     "output_type": "stream",
     "text": [
      "drums           ==> SDR:   3.148  SIR: 234.134  ISR:   4.440  SAR:   1.867  \n",
      "bass            ==> SDR:   3.148  SIR: 234.134  ISR:   4.440  SAR:   1.867  \n",
      "\n"
     ]
    },
    {
     "name": "stderr",
     "output_type": "stream",
     "text": [
      " 43%|████████████████████████████████████████████████████████████████████████████████▊                                                                                                         | 10/23 [02:53<04:26, 20.52s/it]"
     ]
    },
    {
     "name": "stdout",
     "output_type": "stream",
     "text": [
      "drums           ==> SDR:   1.720  SIR: 233.205  ISR:   4.304  SAR:   2.737  \n",
      "bass            ==> SDR:   1.720  SIR: 233.205  ISR:   4.304  SAR:   2.737  \n",
      "\n"
     ]
    },
    {
     "name": "stderr",
     "output_type": "stream",
     "text": [
      " 48%|████████████████████████████████████████████████████████████████████████████████████████▉                                                                                                 | 11/23 [03:08<03:47, 18.99s/it]"
     ]
    },
    {
     "name": "stdout",
     "output_type": "stream",
     "text": [
      "drums           ==> SDR:  -5.232  SIR: 245.159  ISR:  -0.645  SAR:  -1.258  \n",
      "bass            ==> SDR:  -5.232  SIR: 245.159  ISR:  -0.645  SAR:  -1.258  \n",
      "\n"
     ]
    },
    {
     "name": "stderr",
     "output_type": "stream",
     "text": [
      " 52%|█████████████████████████████████████████████████████████████████████████████████████████████████                                                                                         | 12/23 [03:17<02:54, 15.82s/it]"
     ]
    },
    {
     "name": "stdout",
     "output_type": "stream",
     "text": [
      "drums           ==> SDR:  -9.954  SIR: 229.222  ISR:  -7.912  SAR:   0.890  \n",
      "bass            ==> SDR:  -9.954  SIR: 229.222  ISR:  -7.912  SAR:   0.890  \n",
      "\n"
     ]
    },
    {
     "name": "stderr",
     "output_type": "stream",
     "text": [
      " 57%|█████████████████████████████████████████████████████████████████████████████████████████████████████████▏                                                                                | 13/23 [03:21<02:04, 12.44s/it]"
     ]
    },
    {
     "name": "stdout",
     "output_type": "stream",
     "text": [
      "drums           ==> SDR:  -1.215  SIR: 100.603  ISR:  -0.723  SAR:   0.463  \n",
      "bass            ==> SDR:  -1.215  SIR: 100.603  ISR:  -0.723  SAR:   0.463  \n",
      "\n"
     ]
    },
    {
     "name": "stderr",
     "output_type": "stream",
     "text": [
      " 61%|█████████████████████████████████████████████████████████████████████████████████████████████████████████████████▏                                                                        | 14/23 [03:36<01:57, 13.08s/it]"
     ]
    },
    {
     "name": "stdout",
     "output_type": "stream",
     "text": [
      "drums           ==> SDR:   0.772  SIR: 231.199  ISR:   0.849  SAR:  -1.137  \n",
      "bass            ==> SDR:   0.772  SIR: 231.199  ISR:   0.849  SAR:  -1.137  \n",
      "\n"
     ]
    },
    {
     "name": "stderr",
     "output_type": "stream",
     "text": [
      " 65%|█████████████████████████████████████████████████████████████████████████████████████████████████████████████████████████▎                                                                | 15/23 [04:01<02:14, 16.75s/it]"
     ]
    },
    {
     "name": "stdout",
     "output_type": "stream",
     "text": [
      "drums           ==> SDR:   2.089  SIR: 207.800  ISR:   4.297  SAR:  -0.028  \n",
      "bass            ==> SDR:   2.089  SIR: 207.800  ISR:   4.297  SAR:  -0.028  \n",
      "\n"
     ]
    },
    {
     "name": "stderr",
     "output_type": "stream",
     "text": [
      " 70%|█████████████████████████████████████████████████████████████████████████████████████████████████████████████████████████████████▍                                                        | 16/23 [04:08<01:36, 13.77s/it]"
     ]
    },
    {
     "name": "stdout",
     "output_type": "stream",
     "text": [
      "drums           ==> SDR:  -6.417  SIR: 235.408  ISR:  -2.939  SAR:  -1.269  \n",
      "bass            ==> SDR:  -6.417  SIR: 235.408  ISR:  -2.939  SAR:  -1.269  \n",
      "\n"
     ]
    },
    {
     "name": "stderr",
     "output_type": "stream",
     "text": [
      " 74%|█████████████████████████████████████████████████████████████████████████████████████████████████████████████████████████████████████████▍                                                | 17/23 [04:12<01:05, 10.92s/it]"
     ]
    },
    {
     "name": "stdout",
     "output_type": "stream",
     "text": [
      "drums           ==> SDR:  -4.204  SIR: 155.817  ISR:  -3.116  SAR:   5.387  \n",
      "bass            ==> SDR:  -4.204  SIR: 155.817  ISR:  -3.116  SAR:   5.387  \n",
      "\n"
     ]
    },
    {
     "name": "stderr",
     "output_type": "stream",
     "text": [
      " 78%|█████████████████████████████████████████████████████████████████████████████████████████████████████████████████████████████████████████████████▌                                        | 18/23 [04:19<00:48,  9.61s/it]"
     ]
    },
    {
     "name": "stdout",
     "output_type": "stream",
     "text": [
      "drums           ==> SDR: -11.224  SIR: 179.405  ISR:  -7.379  SAR:  -0.363  \n",
      "bass            ==> SDR: -11.224  SIR: 179.405  ISR:  -7.379  SAR:  -0.363  \n",
      "\n"
     ]
    },
    {
     "name": "stderr",
     "output_type": "stream",
     "text": [
      " 83%|█████████████████████████████████████████████████████████████████████████████████████████████████████████████████████████████████████████████████████████▋                                | 19/23 [04:22<00:31,  7.83s/it]"
     ]
    },
    {
     "name": "stdout",
     "output_type": "stream",
     "text": [
      "drums           ==> SDR:  -4.499  SIR: 162.592  ISR:  -1.204  SAR:  -0.185  \n",
      "bass            ==> SDR:  -4.499  SIR: 162.592  ISR:  -1.204  SAR:  -0.185  \n",
      "\n"
     ]
    },
    {
     "name": "stderr",
     "output_type": "stream",
     "text": [
      " 87%|█████████████████████████████████████████████████████████████████████████████████████████████████████████████████████████████████████████████████████████████████▋                        | 20/23 [04:30<00:23,  7.69s/it]"
     ]
    },
    {
     "name": "stdout",
     "output_type": "stream",
     "text": [
      "drums           ==> SDR:   3.221  SIR: 163.573  ISR:   5.676  SAR:   3.892  \n",
      "bass            ==> SDR:   3.221  SIR: 163.573  ISR:   5.676  SAR:   3.892  \n",
      "\n"
     ]
    },
    {
     "name": "stderr",
     "output_type": "stream",
     "text": [
      " 91%|█████████████████████████████████████████████████████████████████████████████████████████████████████████████████████████████████████████████████████████████████████████▊                | 21/23 [04:38<00:15,  7.71s/it]"
     ]
    },
    {
     "name": "stdout",
     "output_type": "stream",
     "text": [
      "drums           ==> SDR:  -1.965  SIR: 234.420  ISR:   0.024  SAR:   2.298  \n",
      "bass            ==> SDR:  -1.965  SIR: 234.420  ISR:   0.024  SAR:   2.298  \n",
      "\n"
     ]
    },
    {
     "name": "stderr",
     "output_type": "stream",
     "text": [
      " 96%|█████████████████████████████████████████████████████████████████████████████████████████████████████████████████████████████████████████████████████████████████████████████████▉        | 22/23 [04:55<00:10, 10.57s/it]"
     ]
    },
    {
     "name": "stdout",
     "output_type": "stream",
     "text": [
      "drums           ==> SDR:   1.560  SIR: 234.449  ISR:   6.647  SAR:  -0.175  \n",
      "bass            ==> SDR:   1.560  SIR: 234.449  ISR:   6.647  SAR:  -0.175  \n",
      "\n"
     ]
    },
    {
     "name": "stderr",
     "output_type": "stream",
     "text": [
      "100%|██████████████████████████████████████████████████████████████████████████████████████████████████████████████████████████████████████████████████████████████████████████████████████████| 23/23 [04:59<00:00, 13.02s/it]"
     ]
    },
    {
     "name": "stdout",
     "output_type": "stream",
     "text": [
      "drums           ==> SDR:   2.569  SIR:  90.183  ISR:   2.588  SAR:   4.464  \n",
      "bass            ==> SDR:   2.569  SIR:  90.183  ISR:   2.588  SAR:   4.464  \n",
      "\n"
     ]
    },
    {
     "name": "stderr",
     "output_type": "stream",
     "text": [
      "\n",
      "C:\\Python311\\Lib\\site-packages\\pytorch_lightning\\utilities\\migration\\utils.py:55: The loaded checkpoint was produced with Lightning v2.2.1, which is newer than your current Lightning version: v2.1.2\n",
      "  4%|████████▏                                                                                                                                                                                  | 1/23 [00:07<02:55,  7.97s/it]"
     ]
    },
    {
     "name": "stdout",
     "output_type": "stream",
     "text": [
      "drums           ==> SDR:  -1.570  SIR: 210.885  ISR:  -0.677  SAR:  -2.807  \n",
      "bass            ==> SDR:  -1.570  SIR: 210.885  ISR:  -0.677  SAR:  -2.807  \n",
      "\n"
     ]
    },
    {
     "name": "stderr",
     "output_type": "stream",
     "text": [
      "  9%|████████████████▎                                                                                                                                                                          | 2/23 [00:15<02:44,  7.85s/it]"
     ]
    },
    {
     "name": "stdout",
     "output_type": "stream",
     "text": [
      "drums           ==> SDR:  -2.361  SIR: 150.207  ISR:  -0.172  SAR:   1.942  \n",
      "bass            ==> SDR:  -2.361  SIR: 150.207  ISR:  -0.172  SAR:   1.942  \n",
      "\n"
     ]
    },
    {
     "name": "stderr",
     "output_type": "stream",
     "text": [
      " 13%|████████████████████████▍                                                                                                                                                                  | 3/23 [00:40<05:13, 15.68s/it]"
     ]
    },
    {
     "name": "stdout",
     "output_type": "stream",
     "text": [
      "drums           ==> SDR:  -1.189  SIR: 229.015  ISR:   0.764  SAR: -14.914  \n",
      "bass            ==> SDR:  -1.189  SIR: 229.015  ISR:   0.764  SAR: -14.914  \n",
      "\n"
     ]
    },
    {
     "name": "stderr",
     "output_type": "stream",
     "text": [
      " 17%|████████████████████████████████▌                                                                                                                                                          | 4/23 [00:48<03:59, 12.62s/it]"
     ]
    },
    {
     "name": "stdout",
     "output_type": "stream",
     "text": [
      "drums           ==> SDR:  -1.519  SIR: 225.402  ISR:  -0.824  SAR:   0.320  \n",
      "bass            ==> SDR:  -1.519  SIR: 225.402  ISR:  -0.824  SAR:   0.320  \n",
      "\n"
     ]
    },
    {
     "name": "stderr",
     "output_type": "stream",
     "text": [
      " 22%|████████████████████████████████████████▋                                                                                                                                                  | 5/23 [01:13<05:05, 16.97s/it]"
     ]
    },
    {
     "name": "stdout",
     "output_type": "stream",
     "text": [
      "drums           ==> SDR:  -2.613  SIR: 212.537  ISR:   0.343  SAR:  -9.324  \n",
      "bass            ==> SDR:  -2.613  SIR: 212.537  ISR:   0.343  SAR:  -9.324  \n",
      "\n"
     ]
    },
    {
     "name": "stderr",
     "output_type": "stream",
     "text": [
      " 26%|████████████████████████████████████████████████▊                                                                                                                                          | 6/23 [01:20<03:54, 13.78s/it]"
     ]
    },
    {
     "name": "stdout",
     "output_type": "stream",
     "text": [
      "drums           ==> SDR: -14.884  SIR: 225.222  ISR: -12.709  SAR:   2.851  \n",
      "bass            ==> SDR: -14.884  SIR: 225.222  ISR: -12.709  SAR:   2.851  \n",
      "\n"
     ]
    },
    {
     "name": "stderr",
     "output_type": "stream",
     "text": [
      " 30%|████████████████████████████████████████████████████████▉                                                                                                                                  | 7/23 [01:48<04:52, 18.29s/it]"
     ]
    },
    {
     "name": "stdout",
     "output_type": "stream",
     "text": [
      "drums           ==> SDR:  -7.510  SIR: 243.653  ISR:  -5.006  SAR:   1.417  \n",
      "bass            ==> SDR:  -7.510  SIR: 243.653  ISR:  -5.006  SAR:   1.417  \n",
      "\n"
     ]
    },
    {
     "name": "stderr",
     "output_type": "stream",
     "text": [
      " 35%|█████████████████████████████████████████████████████████████████                                                                                                                          | 8/23 [02:13<05:07, 20.50s/it]"
     ]
    },
    {
     "name": "stdout",
     "output_type": "stream",
     "text": [
      "drums           ==> SDR:  -5.711  SIR: 220.984  ISR:  -0.105  SAR: -15.734  \n",
      "bass            ==> SDR:  -5.711  SIR: 220.984  ISR:  -0.105  SAR: -15.734  \n",
      "\n"
     ]
    },
    {
     "name": "stderr",
     "output_type": "stream",
     "text": [
      " 39%|█████████████████████████████████████████████████████████████████████████▏                                                                                                                 | 9/23 [02:26<04:12, 18.02s/it]"
     ]
    },
    {
     "name": "stdout",
     "output_type": "stream",
     "text": [
      "drums           ==> SDR:   2.787  SIR: 236.157  ISR:   3.965  SAR:   1.354  \n",
      "bass            ==> SDR:   2.787  SIR: 236.157  ISR:   3.965  SAR:   1.354  \n",
      "\n"
     ]
    },
    {
     "name": "stderr",
     "output_type": "stream",
     "text": [
      " 43%|████████████████████████████████████████████████████████████████████████████████▊                                                                                                         | 10/23 [02:52<04:26, 20.51s/it]"
     ]
    },
    {
     "name": "stdout",
     "output_type": "stream",
     "text": [
      "drums           ==> SDR:   1.704  SIR: 233.922  ISR:   4.076  SAR:   2.327  \n",
      "bass            ==> SDR:   1.704  SIR: 233.922  ISR:   4.076  SAR:   2.327  \n",
      "\n"
     ]
    },
    {
     "name": "stderr",
     "output_type": "stream",
     "text": [
      " 48%|████████████████████████████████████████████████████████████████████████████████████████▉                                                                                                 | 11/23 [03:07<03:47, 18.97s/it]"
     ]
    },
    {
     "name": "stdout",
     "output_type": "stream",
     "text": [
      "drums           ==> SDR:  -5.242  SIR: 239.501  ISR:  -0.664  SAR:  -1.380  \n",
      "bass            ==> SDR:  -5.242  SIR: 239.501  ISR:  -0.664  SAR:  -1.380  \n",
      "\n"
     ]
    },
    {
     "name": "stderr",
     "output_type": "stream",
     "text": [
      " 52%|█████████████████████████████████████████████████████████████████████████████████████████████████                                                                                         | 12/23 [03:16<02:53, 15.78s/it]"
     ]
    },
    {
     "name": "stdout",
     "output_type": "stream",
     "text": [
      "drums           ==> SDR:  -9.898  SIR: 223.688  ISR:  -7.732  SAR:   0.861  \n",
      "bass            ==> SDR:  -9.898  SIR: 223.688  ISR:  -7.732  SAR:   0.861  \n",
      "\n"
     ]
    },
    {
     "name": "stderr",
     "output_type": "stream",
     "text": [
      " 57%|█████████████████████████████████████████████████████████████████████████████████████████████████████████▏                                                                                | 13/23 [03:20<02:03, 12.34s/it]"
     ]
    },
    {
     "name": "stdout",
     "output_type": "stream",
     "text": [
      "drums           ==> SDR:  -1.058  SIR: 101.014  ISR:  -0.590  SAR:   0.766  \n",
      "bass            ==> SDR:  -1.058  SIR: 101.014  ISR:  -0.590  SAR:   0.766  \n",
      "\n"
     ]
    },
    {
     "name": "stderr",
     "output_type": "stream",
     "text": [
      " 61%|█████████████████████████████████████████████████████████████████████████████████████████████████████████████████▏                                                                        | 14/23 [03:35<01:56, 12.98s/it]"
     ]
    },
    {
     "name": "stdout",
     "output_type": "stream",
     "text": [
      "drums           ==> SDR:   0.672  SIR: 220.397  ISR:   0.792  SAR:  -0.962  \n",
      "bass            ==> SDR:   0.672  SIR: 220.397  ISR:   0.792  SAR:  -0.962  \n",
      "\n"
     ]
    },
    {
     "name": "stderr",
     "output_type": "stream",
     "text": [
      " 65%|█████████████████████████████████████████████████████████████████████████████████████████████████████████████████████████▎                                                                | 15/23 [04:00<02:13, 16.64s/it]"
     ]
    },
    {
     "name": "stdout",
     "output_type": "stream",
     "text": [
      "drums           ==> SDR:   1.977  SIR: 213.662  ISR:   4.106  SAR:   0.123  \n",
      "bass            ==> SDR:   1.977  SIR: 213.662  ISR:   4.106  SAR:   0.123  \n",
      "\n"
     ]
    },
    {
     "name": "stderr",
     "output_type": "stream",
     "text": [
      " 70%|█████████████████████████████████████████████████████████████████████████████████████████████████████████████████████████████████▍                                                        | 16/23 [04:07<01:36, 13.75s/it]"
     ]
    },
    {
     "name": "stdout",
     "output_type": "stream",
     "text": [
      "drums           ==> SDR:  -6.289  SIR: 238.892  ISR:  -2.912  SAR:  -1.223  \n",
      "bass            ==> SDR:  -6.289  SIR: 238.892  ISR:  -2.912  SAR:  -1.223  \n",
      "\n"
     ]
    },
    {
     "name": "stderr",
     "output_type": "stream",
     "text": [
      " 74%|█████████████████████████████████████████████████████████████████████████████████████████████████████████████████████████████████████████▍                                                | 17/23 [04:11<01:05, 10.94s/it]"
     ]
    },
    {
     "name": "stdout",
     "output_type": "stream",
     "text": [
      "drums           ==> SDR:  -3.960  SIR: 161.021  ISR:  -2.893  SAR:   5.396  \n",
      "bass            ==> SDR:  -3.960  SIR: 161.021  ISR:  -2.893  SAR:   5.396  \n",
      "\n"
     ]
    },
    {
     "name": "stderr",
     "output_type": "stream",
     "text": [
      " 78%|█████████████████████████████████████████████████████████████████████████████████████████████████████████████████████████████████████████████████▌                                        | 18/23 [04:18<00:48,  9.61s/it]"
     ]
    },
    {
     "name": "stdout",
     "output_type": "stream",
     "text": [
      "drums           ==> SDR: -10.965  SIR: 177.398  ISR:  -6.944  SAR:  -0.502  \n",
      "bass            ==> SDR: -10.965  SIR: 177.398  ISR:  -6.944  SAR:  -0.502  \n",
      "\n"
     ]
    },
    {
     "name": "stderr",
     "output_type": "stream",
     "text": [
      " 83%|█████████████████████████████████████████████████████████████████████████████████████████████████████████████████████████████████████████████████████████▋                                | 19/23 [04:21<00:31,  7.80s/it]"
     ]
    },
    {
     "name": "stdout",
     "output_type": "stream",
     "text": [
      "drums           ==> SDR:  -5.078  SIR: 163.886  ISR:  -1.640  SAR:   0.221  \n",
      "bass            ==> SDR:  -5.078  SIR: 163.886  ISR:  -1.640  SAR:   0.221  \n",
      "\n"
     ]
    },
    {
     "name": "stderr",
     "output_type": "stream",
     "text": [
      " 87%|█████████████████████████████████████████████████████████████████████████████████████████████████████████████████████████████████████████████████████████████████▋                        | 20/23 [04:29<00:22,  7.66s/it]"
     ]
    },
    {
     "name": "stdout",
     "output_type": "stream",
     "text": [
      "drums           ==> SDR:   3.236  SIR: 166.892  ISR:   5.591  SAR:   3.500  \n",
      "bass            ==> SDR:   3.236  SIR: 166.892  ISR:   5.591  SAR:   3.500  \n",
      "\n"
     ]
    },
    {
     "name": "stderr",
     "output_type": "stream",
     "text": [
      " 91%|█████████████████████████████████████████████████████████████████████████████████████████████████████████████████████████████████████████████████████████████████████████▊                | 21/23 [04:37<00:15,  7.70s/it]"
     ]
    },
    {
     "name": "stdout",
     "output_type": "stream",
     "text": [
      "drums           ==> SDR:  -2.045  SIR: 231.381  ISR:   0.009  SAR:   2.283  \n",
      "bass            ==> SDR:  -2.045  SIR: 231.381  ISR:   0.009  SAR:   2.283  \n",
      "\n"
     ]
    },
    {
     "name": "stderr",
     "output_type": "stream",
     "text": [
      " 96%|█████████████████████████████████████████████████████████████████████████████████████████████████████████████████████████████████████████████████████████████████████████████████▉        | 22/23 [04:54<00:10, 10.57s/it]"
     ]
    },
    {
     "name": "stdout",
     "output_type": "stream",
     "text": [
      "drums           ==> SDR:   1.174  SIR: 242.164  ISR:   6.616  SAR:  -0.167  \n",
      "bass            ==> SDR:   1.174  SIR: 242.164  ISR:   6.616  SAR:  -0.167  \n",
      "\n"
     ]
    },
    {
     "name": "stderr",
     "output_type": "stream",
     "text": [
      "100%|██████████████████████████████████████████████████████████████████████████████████████████████████████████████████████████████████████████████████████████████████████████████████████████| 23/23 [04:58<00:00, 12.98s/it]"
     ]
    },
    {
     "name": "stdout",
     "output_type": "stream",
     "text": [
      "drums           ==> SDR:   2.599  SIR:  90.755  ISR:   2.603  SAR:   4.665  \n",
      "bass            ==> SDR:   2.599  SIR:  90.755  ISR:   2.603  SAR:   4.665  \n",
      "\n"
     ]
    },
    {
     "name": "stderr",
     "output_type": "stream",
     "text": [
      "\n",
      "C:\\Python311\\Lib\\site-packages\\pytorch_lightning\\utilities\\migration\\utils.py:55: The loaded checkpoint was produced with Lightning v2.2.1, which is newer than your current Lightning version: v2.1.2\n",
      "  4%|████████▏                                                                                                                                                                                  | 1/23 [00:07<02:55,  7.99s/it]"
     ]
    },
    {
     "name": "stdout",
     "output_type": "stream",
     "text": [
      "drums           ==> SDR:  -1.617  SIR: 208.252  ISR:  -0.653  SAR:  -3.065  \n",
      "bass            ==> SDR:  -1.617  SIR: 208.252  ISR:  -0.653  SAR:  -3.065  \n",
      "\n"
     ]
    },
    {
     "name": "stderr",
     "output_type": "stream",
     "text": [
      "  9%|████████████████▎                                                                                                                                                                          | 2/23 [00:15<02:45,  7.88s/it]"
     ]
    },
    {
     "name": "stdout",
     "output_type": "stream",
     "text": [
      "drums           ==> SDR:  -2.181  SIR: 151.238  ISR:   0.103  SAR:   2.150  \n",
      "bass            ==> SDR:  -2.181  SIR: 151.238  ISR:   0.103  SAR:   2.150  \n",
      "\n"
     ]
    },
    {
     "name": "stderr",
     "output_type": "stream",
     "text": [
      " 13%|████████████████████████▍                                                                                                                                                                  | 3/23 [00:40<05:13, 15.65s/it]"
     ]
    },
    {
     "name": "stdout",
     "output_type": "stream",
     "text": [
      "drums           ==> SDR:  -0.876  SIR: 228.160  ISR:   0.711  SAR: -14.891  \n",
      "bass            ==> SDR:  -0.876  SIR: 228.160  ISR:   0.711  SAR: -14.891  \n",
      "\n"
     ]
    },
    {
     "name": "stderr",
     "output_type": "stream",
     "text": [
      " 17%|████████████████████████████████▌                                                                                                                                                          | 4/23 [00:48<03:58, 12.57s/it]"
     ]
    },
    {
     "name": "stdout",
     "output_type": "stream",
     "text": [
      "drums           ==> SDR:  -1.580  SIR: 231.551  ISR:  -0.838  SAR:   0.201  \n",
      "bass            ==> SDR:  -1.580  SIR: 231.551  ISR:  -0.838  SAR:   0.201  \n",
      "\n"
     ]
    },
    {
     "name": "stderr",
     "output_type": "stream",
     "text": [
      " 22%|████████████████████████████████████████▋                                                                                                                                                  | 5/23 [01:13<05:05, 16.99s/it]"
     ]
    },
    {
     "name": "stdout",
     "output_type": "stream",
     "text": [
      "drums           ==> SDR:  -2.519  SIR: 208.892  ISR:   0.384  SAR: -10.050  \n",
      "bass            ==> SDR:  -2.519  SIR: 208.892  ISR:   0.384  SAR: -10.050  \n",
      "\n"
     ]
    },
    {
     "name": "stderr",
     "output_type": "stream",
     "text": [
      " 26%|████████████████████████████████████████████████▊                                                                                                                                          | 6/23 [01:21<03:55, 13.85s/it]"
     ]
    },
    {
     "name": "stdout",
     "output_type": "stream",
     "text": [
      "drums           ==> SDR: -15.053  SIR: 224.452  ISR: -12.749  SAR:   2.797  \n",
      "bass            ==> SDR: -15.053  SIR: 224.452  ISR: -12.749  SAR:   2.797  \n",
      "\n"
     ]
    },
    {
     "name": "stderr",
     "output_type": "stream",
     "text": [
      " 30%|████████████████████████████████████████████████████████▉                                                                                                                                  | 7/23 [01:48<04:53, 18.37s/it]"
     ]
    },
    {
     "name": "stdout",
     "output_type": "stream",
     "text": [
      "drums           ==> SDR:  -7.211  SIR: 247.252  ISR:  -4.690  SAR:   1.417  \n",
      "bass            ==> SDR:  -7.211  SIR: 247.252  ISR:  -4.690  SAR:   1.417  \n",
      "\n"
     ]
    },
    {
     "name": "stderr",
     "output_type": "stream",
     "text": [
      " 35%|█████████████████████████████████████████████████████████████████                                                                                                                          | 8/23 [02:13<05:07, 20.51s/it]"
     ]
    },
    {
     "name": "stdout",
     "output_type": "stream",
     "text": [
      "drums           ==> SDR:  -5.266  SIR: 216.927  ISR:  -0.162  SAR: -15.525  \n",
      "bass            ==> SDR:  -5.266  SIR: 216.927  ISR:  -0.162  SAR: -15.525  \n",
      "\n"
     ]
    },
    {
     "name": "stderr",
     "output_type": "stream",
     "text": [
      " 39%|█████████████████████████████████████████████████████████████████████████▏                                                                                                                 | 9/23 [02:26<04:11, 18.00s/it]"
     ]
    },
    {
     "name": "stdout",
     "output_type": "stream",
     "text": [
      "drums           ==> SDR:   3.024  SIR: 233.984  ISR:   3.803  SAR:   0.839  \n",
      "bass            ==> SDR:   3.024  SIR: 233.984  ISR:   3.803  SAR:   0.839  \n",
      "\n"
     ]
    },
    {
     "name": "stderr",
     "output_type": "stream",
     "text": [
      " 43%|████████████████████████████████████████████████████████████████████████████████▊                                                                                                         | 10/23 [02:52<04:25, 20.46s/it]"
     ]
    },
    {
     "name": "stdout",
     "output_type": "stream",
     "text": [
      "drums           ==> SDR:   1.839  SIR: 230.526  ISR:   4.293  SAR:   2.581  \n",
      "bass            ==> SDR:   1.839  SIR: 230.526  ISR:   4.293  SAR:   2.581  \n",
      "\n"
     ]
    },
    {
     "name": "stderr",
     "output_type": "stream",
     "text": [
      " 48%|████████████████████████████████████████████████████████████████████████████████████████▉                                                                                                 | 11/23 [03:07<03:47, 18.93s/it]"
     ]
    },
    {
     "name": "stdout",
     "output_type": "stream",
     "text": [
      "drums           ==> SDR:  -5.304  SIR: 239.550  ISR:  -0.641  SAR:  -1.429  \n",
      "bass            ==> SDR:  -5.304  SIR: 239.550  ISR:  -0.641  SAR:  -1.429  \n",
      "\n"
     ]
    },
    {
     "name": "stderr",
     "output_type": "stream",
     "text": [
      " 52%|█████████████████████████████████████████████████████████████████████████████████████████████████                                                                                         | 12/23 [03:16<02:53, 15.74s/it]"
     ]
    },
    {
     "name": "stdout",
     "output_type": "stream",
     "text": [
      "drums           ==> SDR:  -9.895  SIR: 215.011  ISR:  -7.723  SAR:   0.868  \n",
      "bass            ==> SDR:  -9.895  SIR: 215.011  ISR:  -7.723  SAR:   0.868  \n",
      "\n"
     ]
    },
    {
     "name": "stderr",
     "output_type": "stream",
     "text": [
      " 57%|█████████████████████████████████████████████████████████████████████████████████████████████████████████▏                                                                                | 13/23 [03:20<02:02, 12.29s/it]"
     ]
    },
    {
     "name": "stdout",
     "output_type": "stream",
     "text": [
      "drums           ==> SDR:  -1.100  SIR: 101.326  ISR:  -0.553  SAR:   0.486  \n",
      "bass            ==> SDR:  -1.100  SIR: 101.326  ISR:  -0.553  SAR:   0.486  \n",
      "\n"
     ]
    },
    {
     "name": "stderr",
     "output_type": "stream",
     "text": [
      " 61%|█████████████████████████████████████████████████████████████████████████████████████████████████████████████████▏                                                                        | 14/23 [03:35<01:56, 12.98s/it]"
     ]
    },
    {
     "name": "stdout",
     "output_type": "stream",
     "text": [
      "drums           ==> SDR:   0.653  SIR: 237.372  ISR:   0.741  SAR:  -1.224  \n",
      "bass            ==> SDR:   0.653  SIR: 237.372  ISR:   0.741  SAR:  -1.224  \n",
      "\n"
     ]
    },
    {
     "name": "stderr",
     "output_type": "stream",
     "text": [
      " 65%|█████████████████████████████████████████████████████████████████████████████████████████████████████████████████████████▎                                                                | 15/23 [04:00<02:13, 16.63s/it]"
     ]
    },
    {
     "name": "stdout",
     "output_type": "stream",
     "text": [
      "drums           ==> SDR:   1.957  SIR: 211.243  ISR:   3.831  SAR:  -0.268  \n",
      "bass            ==> SDR:   1.957  SIR: 211.243  ISR:   3.831  SAR:  -0.268  \n",
      "\n"
     ]
    },
    {
     "name": "stderr",
     "output_type": "stream",
     "text": [
      " 70%|█████████████████████████████████████████████████████████████████████████████████████████████████████████████████████████████████▍                                                        | 16/23 [04:06<01:35, 13.66s/it]"
     ]
    },
    {
     "name": "stdout",
     "output_type": "stream",
     "text": [
      "drums           ==> SDR:  -6.420  SIR: 240.784  ISR:  -2.955  SAR:  -1.352  \n",
      "bass            ==> SDR:  -6.420  SIR: 240.784  ISR:  -2.955  SAR:  -1.352  \n",
      "\n"
     ]
    },
    {
     "name": "stderr",
     "output_type": "stream",
     "text": [
      " 74%|█████████████████████████████████████████████████████████████████████████████████████████████████████████████████████████████████████████▍                                                | 17/23 [04:11<01:05, 10.86s/it]"
     ]
    },
    {
     "name": "stdout",
     "output_type": "stream",
     "text": [
      "drums           ==> SDR:  -3.223  SIR: 160.387  ISR:  -1.952  SAR:   4.872  \n",
      "bass            ==> SDR:  -3.223  SIR: 160.387  ISR:  -1.952  SAR:   4.872  \n",
      "\n"
     ]
    },
    {
     "name": "stderr",
     "output_type": "stream",
     "text": [
      " 78%|█████████████████████████████████████████████████████████████████████████████████████████████████████████████████████████████████████████████████▌                                        | 18/23 [04:17<00:47,  9.57s/it]"
     ]
    },
    {
     "name": "stdout",
     "output_type": "stream",
     "text": [
      "drums           ==> SDR: -10.855  SIR: 178.965  ISR:  -6.907  SAR:  -0.653  \n",
      "bass            ==> SDR: -10.855  SIR: 178.965  ISR:  -6.907  SAR:  -0.653  \n",
      "\n"
     ]
    },
    {
     "name": "stderr",
     "output_type": "stream",
     "text": [
      " 83%|█████████████████████████████████████████████████████████████████████████████████████████████████████████████████████████████████████████████████████████▋                                | 19/23 [04:21<00:31,  7.80s/it]"
     ]
    },
    {
     "name": "stdout",
     "output_type": "stream",
     "text": [
      "drums           ==> SDR:  -3.888  SIR: 161.858  ISR:  -0.383  SAR:  -0.943  \n",
      "bass            ==> SDR:  -3.888  SIR: 161.858  ISR:  -0.383  SAR:  -0.943  \n",
      "\n"
     ]
    },
    {
     "name": "stderr",
     "output_type": "stream",
     "text": [
      " 87%|█████████████████████████████████████████████████████████████████████████████████████████████████████████████████████████████████████████████████████████████████▋                        | 20/23 [04:28<00:23,  7.68s/it]"
     ]
    },
    {
     "name": "stdout",
     "output_type": "stream",
     "text": [
      "drums           ==> SDR:   3.118  SIR: 167.914  ISR:   5.391  SAR:   2.605  \n",
      "bass            ==> SDR:   3.118  SIR: 167.914  ISR:   5.391  SAR:   2.605  \n",
      "\n"
     ]
    },
    {
     "name": "stderr",
     "output_type": "stream",
     "text": [
      " 91%|█████████████████████████████████████████████████████████████████████████████████████████████████████████████████████████████████████████████████████████████████████████▊                | 21/23 [04:36<00:15,  7.73s/it]"
     ]
    },
    {
     "name": "stdout",
     "output_type": "stream",
     "text": [
      "drums           ==> SDR:  -2.040  SIR: 231.991  ISR:   0.056  SAR:   2.109  \n",
      "bass            ==> SDR:  -2.040  SIR: 231.991  ISR:   0.056  SAR:   2.109  \n",
      "\n"
     ]
    },
    {
     "name": "stderr",
     "output_type": "stream",
     "text": [
      " 96%|█████████████████████████████████████████████████████████████████████████████████████████████████████████████████████████████████████████████████████████████████████████████████▉        | 22/23 [04:54<00:10, 10.66s/it]"
     ]
    },
    {
     "name": "stdout",
     "output_type": "stream",
     "text": [
      "drums           ==> SDR:   1.280  SIR: 239.351  ISR:   5.765  SAR:  -0.668  \n",
      "bass            ==> SDR:   1.280  SIR: 239.351  ISR:   5.765  SAR:  -0.668  \n",
      "\n"
     ]
    },
    {
     "name": "stderr",
     "output_type": "stream",
     "text": [
      "100%|██████████████████████████████████████████████████████████████████████████████████████████████████████████████████████████████████████████████████████████████████████████████████████████| 23/23 [04:58<00:00, 12.99s/it]"
     ]
    },
    {
     "name": "stdout",
     "output_type": "stream",
     "text": [
      "drums           ==> SDR:   2.610  SIR:  97.150  ISR:   2.608  SAR:   4.912  \n",
      "bass            ==> SDR:   2.610  SIR:  97.150  ISR:   2.608  SAR:   4.912  \n",
      "\n"
     ]
    },
    {
     "name": "stderr",
     "output_type": "stream",
     "text": [
      "\n",
      "C:\\Python311\\Lib\\site-packages\\pytorch_lightning\\utilities\\migration\\utils.py:55: The loaded checkpoint was produced with Lightning v2.2.1, which is newer than your current Lightning version: v2.1.2\n",
      "  4%|████████▏                                                                                                                                                                                  | 1/23 [00:08<03:04,  8.40s/it]"
     ]
    },
    {
     "name": "stdout",
     "output_type": "stream",
     "text": [
      "drums           ==> SDR:  -1.594  SIR: 211.070  ISR:  -0.642  SAR:  -3.215  \n",
      "bass            ==> SDR:  -1.594  SIR: 211.070  ISR:  -0.642  SAR:  -3.215  \n",
      "\n"
     ]
    },
    {
     "name": "stderr",
     "output_type": "stream",
     "text": [
      "  9%|████████████████▎                                                                                                                                                                          | 2/23 [00:16<02:50,  8.11s/it]"
     ]
    },
    {
     "name": "stdout",
     "output_type": "stream",
     "text": [
      "drums           ==> SDR:  -0.811  SIR: 149.444  ISR:   2.134  SAR:   0.031  \n",
      "bass            ==> SDR:  -0.811  SIR: 149.444  ISR:   2.134  SAR:   0.031  \n",
      "\n"
     ]
    },
    {
     "name": "stderr",
     "output_type": "stream",
     "text": [
      " 13%|████████████████████████▍                                                                                                                                                                  | 3/23 [00:41<05:16, 15.84s/it]"
     ]
    },
    {
     "name": "stdout",
     "output_type": "stream",
     "text": [
      "drums           ==> SDR:  -0.805  SIR: 227.433  ISR:   0.677  SAR: -14.800  \n",
      "bass            ==> SDR:  -0.805  SIR: 227.433  ISR:   0.677  SAR: -14.800  \n",
      "\n"
     ]
    },
    {
     "name": "stderr",
     "output_type": "stream",
     "text": [
      " 17%|████████████████████████████████▌                                                                                                                                                          | 4/23 [00:49<04:02, 12.77s/it]"
     ]
    },
    {
     "name": "stdout",
     "output_type": "stream",
     "text": [
      "drums           ==> SDR:  -1.498  SIR: 222.766  ISR:  -0.893  SAR:   0.003  \n",
      "bass            ==> SDR:  -1.498  SIR: 222.766  ISR:  -0.893  SAR:   0.003  \n",
      "\n"
     ]
    },
    {
     "name": "stderr",
     "output_type": "stream",
     "text": [
      " 22%|████████████████████████████████████████▋                                                                                                                                                  | 5/23 [01:14<05:07, 17.07s/it]"
     ]
    },
    {
     "name": "stdout",
     "output_type": "stream",
     "text": [
      "drums           ==> SDR:  -1.697  SIR: 212.427  ISR:   0.358  SAR:  -8.005  \n",
      "bass            ==> SDR:  -1.697  SIR: 212.427  ISR:   0.358  SAR:  -8.005  \n",
      "\n"
     ]
    },
    {
     "name": "stderr",
     "output_type": "stream",
     "text": [
      " 26%|████████████████████████████████████████████████▊                                                                                                                                          | 6/23 [01:21<03:55, 13.84s/it]"
     ]
    },
    {
     "name": "stdout",
     "output_type": "stream",
     "text": [
      "drums           ==> SDR: -13.909  SIR: 229.470  ISR: -11.556  SAR:   2.560  \n",
      "bass            ==> SDR: -13.909  SIR: 229.470  ISR: -11.556  SAR:   2.560  \n",
      "\n"
     ]
    },
    {
     "name": "stderr",
     "output_type": "stream",
     "text": [
      " 30%|████████████████████████████████████████████████████████▉                                                                                                                                  | 7/23 [01:49<04:53, 18.36s/it]"
     ]
    },
    {
     "name": "stdout",
     "output_type": "stream",
     "text": [
      "drums           ==> SDR:  -7.322  SIR: 246.827  ISR:  -4.764  SAR:   1.394  \n",
      "bass            ==> SDR:  -7.322  SIR: 246.827  ISR:  -4.764  SAR:   1.394  \n",
      "\n"
     ]
    },
    {
     "name": "stderr",
     "output_type": "stream",
     "text": [
      " 35%|█████████████████████████████████████████████████████████████████                                                                                                                          | 8/23 [02:14<05:07, 20.48s/it]"
     ]
    },
    {
     "name": "stdout",
     "output_type": "stream",
     "text": [
      "drums           ==> SDR:  -4.273  SIR: 210.842  ISR:   0.019  SAR: -16.549  \n",
      "bass            ==> SDR:  -4.273  SIR: 210.842  ISR:   0.019  SAR: -16.549  \n",
      "\n"
     ]
    },
    {
     "name": "stderr",
     "output_type": "stream",
     "text": [
      " 39%|█████████████████████████████████████████████████████████████████████████▏                                                                                                                 | 9/23 [02:26<04:11, 17.97s/it]"
     ]
    },
    {
     "name": "stdout",
     "output_type": "stream",
     "text": [
      "drums           ==> SDR:   2.547  SIR: 235.623  ISR:   3.275  SAR:   0.386  \n",
      "bass            ==> SDR:   2.547  SIR: 235.623  ISR:   3.275  SAR:   0.386  \n",
      "\n"
     ]
    },
    {
     "name": "stderr",
     "output_type": "stream",
     "text": [
      " 43%|████████████████████████████████████████████████████████████████████████████████▊                                                                                                         | 10/23 [02:53<04:26, 20.52s/it]"
     ]
    },
    {
     "name": "stdout",
     "output_type": "stream",
     "text": [
      "drums           ==> SDR:   1.632  SIR: 232.384  ISR:   4.051  SAR:   2.119  \n",
      "bass            ==> SDR:   1.632  SIR: 232.384  ISR:   4.051  SAR:   2.119  \n",
      "\n"
     ]
    },
    {
     "name": "stderr",
     "output_type": "stream",
     "text": [
      " 48%|████████████████████████████████████████████████████████████████████████████████████████▉                                                                                                 | 11/23 [03:09<03:50, 19.21s/it]"
     ]
    },
    {
     "name": "stdout",
     "output_type": "stream",
     "text": [
      "drums           ==> SDR:  -5.368  SIR: 238.911  ISR:  -0.652  SAR:  -1.347  \n",
      "bass            ==> SDR:  -5.368  SIR: 238.911  ISR:  -0.652  SAR:  -1.347  \n",
      "\n"
     ]
    },
    {
     "name": "stderr",
     "output_type": "stream",
     "text": [
      " 52%|█████████████████████████████████████████████████████████████████████████████████████████████████                                                                                         | 12/23 [03:17<02:55, 15.99s/it]"
     ]
    },
    {
     "name": "stdout",
     "output_type": "stream",
     "text": [
      "drums           ==> SDR:  -9.628  SIR: 222.437  ISR:  -7.413  SAR:   0.772  \n",
      "bass            ==> SDR:  -9.628  SIR: 222.437  ISR:  -7.413  SAR:   0.772  \n",
      "\n"
     ]
    },
    {
     "name": "stderr",
     "output_type": "stream",
     "text": [
      " 57%|█████████████████████████████████████████████████████████████████████████████████████████████████████████▏                                                                                | 13/23 [03:22<02:05, 12.51s/it]"
     ]
    },
    {
     "name": "stdout",
     "output_type": "stream",
     "text": [
      "drums           ==> SDR:  -0.833  SIR: 101.555  ISR:  -0.412  SAR:   0.218  \n",
      "bass            ==> SDR:  -0.833  SIR: 101.555  ISR:  -0.412  SAR:   0.218  \n",
      "\n"
     ]
    },
    {
     "name": "stderr",
     "output_type": "stream",
     "text": [
      " 61%|█████████████████████████████████████████████████████████████████████████████████████████████████████████████████▏                                                                        | 14/23 [03:36<01:58, 13.12s/it]"
     ]
    },
    {
     "name": "stdout",
     "output_type": "stream",
     "text": [
      "drums           ==> SDR:   0.615  SIR: 234.243  ISR:   0.707  SAR:  -1.320  \n",
      "bass            ==> SDR:   0.615  SIR: 234.243  ISR:   0.707  SAR:  -1.320  \n",
      "\n"
     ]
    },
    {
     "name": "stderr",
     "output_type": "stream",
     "text": [
      " 65%|█████████████████████████████████████████████████████████████████████████████████████████████████████████████████████████▎                                                                | 15/23 [04:02<02:13, 16.73s/it]"
     ]
    },
    {
     "name": "stdout",
     "output_type": "stream",
     "text": [
      "drums           ==> SDR:   1.711  SIR: 207.980  ISR:   3.641  SAR:  -0.301  \n",
      "bass            ==> SDR:   1.711  SIR: 207.980  ISR:   3.641  SAR:  -0.301  \n",
      "\n"
     ]
    },
    {
     "name": "stderr",
     "output_type": "stream",
     "text": [
      " 70%|█████████████████████████████████████████████████████████████████████████████████████████████████████████████████████████████████▍                                                        | 16/23 [04:08<01:36, 13.76s/it]"
     ]
    },
    {
     "name": "stdout",
     "output_type": "stream",
     "text": [
      "drums           ==> SDR:  -6.236  SIR: 240.401  ISR:  -2.809  SAR:  -1.656  \n",
      "bass            ==> SDR:  -6.236  SIR: 240.401  ISR:  -2.809  SAR:  -1.656  \n",
      "\n"
     ]
    },
    {
     "name": "stderr",
     "output_type": "stream",
     "text": [
      " 74%|█████████████████████████████████████████████████████████████████████████████████████████████████████████████████████████████████████████▍                                                | 17/23 [04:13<01:05, 10.93s/it]"
     ]
    },
    {
     "name": "stdout",
     "output_type": "stream",
     "text": [
      "drums           ==> SDR:  -3.416  SIR: 159.905  ISR:  -1.658  SAR:   4.054  \n",
      "bass            ==> SDR:  -3.416  SIR: 159.905  ISR:  -1.658  SAR:   4.054  \n",
      "\n"
     ]
    },
    {
     "name": "stderr",
     "output_type": "stream",
     "text": [
      " 78%|█████████████████████████████████████████████████████████████████████████████████████████████████████████████████████████████████████████████████▌                                        | 18/23 [04:19<00:47,  9.58s/it]"
     ]
    },
    {
     "name": "stdout",
     "output_type": "stream",
     "text": [
      "drums           ==> SDR: -10.284  SIR: 178.143  ISR:  -6.418  SAR:  -1.059  \n",
      "bass            ==> SDR: -10.284  SIR: 178.143  ISR:  -6.418  SAR:  -1.059  \n",
      "\n"
     ]
    },
    {
     "name": "stderr",
     "output_type": "stream",
     "text": [
      " 83%|█████████████████████████████████████████████████████████████████████████████████████████████████████████████████████████████████████████████████████████▋                                | 19/23 [04:23<00:31,  7.82s/it]"
     ]
    },
    {
     "name": "stdout",
     "output_type": "stream",
     "text": [
      "drums           ==> SDR:  -4.916  SIR: 161.276  ISR:  -1.035  SAR:  -0.752  \n",
      "bass            ==> SDR:  -4.916  SIR: 161.276  ISR:  -1.035  SAR:  -0.752  \n",
      "\n"
     ]
    },
    {
     "name": "stderr",
     "output_type": "stream",
     "text": [
      " 87%|█████████████████████████████████████████████████████████████████████████████████████████████████████████████████████████████████████████████████████████████████▋                        | 20/23 [04:30<00:23,  7.69s/it]"
     ]
    },
    {
     "name": "stdout",
     "output_type": "stream",
     "text": [
      "drums           ==> SDR:   3.119  SIR: 166.322  ISR:   5.087  SAR:   2.361  \n",
      "bass            ==> SDR:   3.119  SIR: 166.322  ISR:   5.087  SAR:   2.361  \n",
      "\n"
     ]
    },
    {
     "name": "stderr",
     "output_type": "stream",
     "text": [
      " 91%|█████████████████████████████████████████████████████████████████████████████████████████████████████████████████████████████████████████████████████████████████████████▊                | 21/23 [04:38<00:15,  7.71s/it]"
     ]
    },
    {
     "name": "stdout",
     "output_type": "stream",
     "text": [
      "drums           ==> SDR:  -1.744  SIR: 228.909  ISR:   0.140  SAR:   2.087  \n",
      "bass            ==> SDR:  -1.744  SIR: 228.909  ISR:   0.140  SAR:   2.087  \n",
      "\n"
     ]
    },
    {
     "name": "stderr",
     "output_type": "stream",
     "text": [
      " 96%|█████████████████████████████████████████████████████████████████████████████████████████████████████████████████████████████████████████████████████████████████████████████████▉        | 22/23 [04:55<00:10, 10.60s/it]"
     ]
    },
    {
     "name": "stdout",
     "output_type": "stream",
     "text": [
      "drums           ==> SDR:   1.215  SIR: 240.273  ISR:   5.818  SAR:  -0.732  \n",
      "bass            ==> SDR:   1.215  SIR: 240.273  ISR:   5.818  SAR:  -0.732  \n",
      "\n"
     ]
    },
    {
     "name": "stderr",
     "output_type": "stream",
     "text": [
      "100%|██████████████████████████████████████████████████████████████████████████████████████████████████████████████████████████████████████████████████████████████████████████████████████████| 23/23 [05:00<00:00, 13.05s/it]"
     ]
    },
    {
     "name": "stdout",
     "output_type": "stream",
     "text": [
      "drums           ==> SDR:   2.687  SIR:  88.767  ISR:   2.638  SAR:   4.893  \n",
      "bass            ==> SDR:   2.687  SIR:  88.767  ISR:   2.638  SAR:   4.893  \n",
      "\n"
     ]
    },
    {
     "name": "stderr",
     "output_type": "stream",
     "text": [
      "\n",
      "C:\\Python311\\Lib\\site-packages\\pytorch_lightning\\utilities\\migration\\utils.py:55: The loaded checkpoint was produced with Lightning v2.2.1, which is newer than your current Lightning version: v2.1.2\n",
      "  4%|████████▏                                                                                                                                                                                  | 1/23 [00:07<02:52,  7.83s/it]"
     ]
    },
    {
     "name": "stdout",
     "output_type": "stream",
     "text": [
      "drums           ==> SDR:  -1.590  SIR: 212.529  ISR:  -0.633  SAR:  -3.267  \n",
      "bass            ==> SDR:  -1.590  SIR: 212.529  ISR:  -0.633  SAR:  -3.267  \n",
      "\n"
     ]
    },
    {
     "name": "stderr",
     "output_type": "stream",
     "text": [
      "  9%|████████████████▎                                                                                                                                                                          | 2/23 [00:15<02:45,  7.87s/it]"
     ]
    },
    {
     "name": "stdout",
     "output_type": "stream",
     "text": [
      "drums           ==> SDR:  -1.275  SIR: 149.445  ISR:   1.044  SAR:   0.767  \n",
      "bass            ==> SDR:  -1.275  SIR: 149.445  ISR:   1.044  SAR:   0.767  \n",
      "\n"
     ]
    },
    {
     "name": "stderr",
     "output_type": "stream",
     "text": [
      " 13%|████████████████████████▍                                                                                                                                                                  | 3/23 [00:40<05:14, 15.71s/it]"
     ]
    },
    {
     "name": "stdout",
     "output_type": "stream",
     "text": [
      "drums           ==> SDR:  -0.809  SIR: 232.527  ISR:   0.627  SAR: -15.294  \n",
      "bass            ==> SDR:  -0.809  SIR: 232.527  ISR:   0.627  SAR: -15.294  \n",
      "\n"
     ]
    },
    {
     "name": "stderr",
     "output_type": "stream",
     "text": [
      " 17%|████████████████████████████████▌                                                                                                                                                          | 4/23 [00:48<03:59, 12.62s/it]"
     ]
    },
    {
     "name": "stdout",
     "output_type": "stream",
     "text": [
      "drums           ==> SDR:  -1.564  SIR: 227.126  ISR:  -0.904  SAR:  -0.055  \n",
      "bass            ==> SDR:  -1.564  SIR: 227.126  ISR:  -0.904  SAR:  -0.055  \n",
      "\n"
     ]
    },
    {
     "name": "stderr",
     "output_type": "stream",
     "text": [
      " 22%|████████████████████████████████████████▋                                                                                                                                                  | 5/23 [01:13<05:07, 17.06s/it]"
     ]
    },
    {
     "name": "stdout",
     "output_type": "stream",
     "text": [
      "drums           ==> SDR:  -1.618  SIR: 216.096  ISR:   0.286  SAR: -10.286  \n",
      "bass            ==> SDR:  -1.618  SIR: 216.096  ISR:   0.286  SAR: -10.286  \n",
      "\n"
     ]
    },
    {
     "name": "stderr",
     "output_type": "stream",
     "text": [
      " 26%|████████████████████████████████████████████████▊                                                                                                                                          | 6/23 [01:21<03:55, 13.87s/it]"
     ]
    },
    {
     "name": "stdout",
     "output_type": "stream",
     "text": [
      "drums           ==> SDR: -13.680  SIR: 227.168  ISR: -10.926  SAR:   1.587  \n",
      "bass            ==> SDR: -13.680  SIR: 227.168  ISR: -10.926  SAR:   1.587  \n",
      "\n"
     ]
    },
    {
     "name": "stderr",
     "output_type": "stream",
     "text": [
      " 30%|████████████████████████████████████████████████████████▉                                                                                                                                  | 7/23 [01:49<04:54, 18.43s/it]"
     ]
    },
    {
     "name": "stdout",
     "output_type": "stream",
     "text": [
      "drums           ==> SDR:  -6.888  SIR: 244.067  ISR:  -4.255  SAR:   1.183  \n",
      "bass            ==> SDR:  -6.888  SIR: 244.067  ISR:  -4.255  SAR:   1.183  \n",
      "\n"
     ]
    },
    {
     "name": "stderr",
     "output_type": "stream",
     "text": [
      " 35%|█████████████████████████████████████████████████████████████████                                                                                                                          | 8/23 [02:14<05:08, 20.58s/it]"
     ]
    },
    {
     "name": "stdout",
     "output_type": "stream",
     "text": [
      "drums           ==> SDR:  -3.869  SIR: 217.719  ISR:  -0.016  SAR: -16.449  \n",
      "bass            ==> SDR:  -3.869  SIR: 217.719  ISR:  -0.016  SAR: -16.449  \n",
      "\n"
     ]
    },
    {
     "name": "stderr",
     "output_type": "stream",
     "text": [
      " 39%|█████████████████████████████████████████████████████████████████████████▏                                                                                                                 | 9/23 [02:26<04:12, 18.07s/it]"
     ]
    },
    {
     "name": "stdout",
     "output_type": "stream",
     "text": [
      "drums           ==> SDR:   2.009  SIR: 237.503  ISR:   2.581  SAR:  -0.329  \n",
      "bass            ==> SDR:   2.009  SIR: 237.503  ISR:   2.581  SAR:  -0.329  \n",
      "\n"
     ]
    },
    {
     "name": "stderr",
     "output_type": "stream",
     "text": [
      " 43%|████████████████████████████████████████████████████████████████████████████████▊                                                                                                         | 10/23 [02:52<04:26, 20.51s/it]"
     ]
    },
    {
     "name": "stdout",
     "output_type": "stream",
     "text": [
      "drums           ==> SDR:   1.586  SIR: 239.950  ISR:   3.515  SAR:   1.382  \n",
      "bass            ==> SDR:   1.586  SIR: 239.950  ISR:   3.515  SAR:   1.382  \n",
      "\n"
     ]
    },
    {
     "name": "stderr",
     "output_type": "stream",
     "text": [
      " 48%|████████████████████████████████████████████████████████████████████████████████████████▉                                                                                                 | 11/23 [03:08<03:47, 18.93s/it]"
     ]
    },
    {
     "name": "stdout",
     "output_type": "stream",
     "text": [
      "drums           ==> SDR:  -5.321  SIR: 240.681  ISR:  -0.610  SAR:  -1.550  \n",
      "bass            ==> SDR:  -5.321  SIR: 240.681  ISR:  -0.610  SAR:  -1.550  \n",
      "\n"
     ]
    },
    {
     "name": "stderr",
     "output_type": "stream",
     "text": [
      " 52%|█████████████████████████████████████████████████████████████████████████████████████████████████                                                                                         | 12/23 [03:16<02:53, 15.79s/it]"
     ]
    },
    {
     "name": "stdout",
     "output_type": "stream",
     "text": [
      "drums           ==> SDR:  -8.993  SIR: 222.883  ISR:  -6.850  SAR:   0.630  \n",
      "bass            ==> SDR:  -8.993  SIR: 222.883  ISR:  -6.850  SAR:   0.630  \n",
      "\n"
     ]
    },
    {
     "name": "stderr",
     "output_type": "stream",
     "text": [
      " 57%|█████████████████████████████████████████████████████████████████████████████████████████████████████████▏                                                                                | 13/23 [03:21<02:03, 12.37s/it]"
     ]
    },
    {
     "name": "stdout",
     "output_type": "stream",
     "text": [
      "drums           ==> SDR:  -0.731  SIR: 102.558  ISR:  -0.369  SAR:  -0.027  \n",
      "bass            ==> SDR:  -0.731  SIR: 102.558  ISR:  -0.369  SAR:  -0.027  \n",
      "\n"
     ]
    },
    {
     "name": "stderr",
     "output_type": "stream",
     "text": [
      " 61%|█████████████████████████████████████████████████████████████████████████████████████████████████████████████████▏                                                                        | 14/23 [03:36<01:59, 13.26s/it]"
     ]
    },
    {
     "name": "stdout",
     "output_type": "stream",
     "text": [
      "drums           ==> SDR:   0.518  SIR: 232.068  ISR:   0.588  SAR:  -1.599  \n",
      "bass            ==> SDR:   0.518  SIR: 232.068  ISR:   0.588  SAR:  -1.599  \n",
      "\n"
     ]
    },
    {
     "name": "stderr",
     "output_type": "stream",
     "text": [
      " 65%|█████████████████████████████████████████████████████████████████████████████████████████████████████████████████████████▎                                                                | 15/23 [04:02<02:16, 17.04s/it]"
     ]
    },
    {
     "name": "stdout",
     "output_type": "stream",
     "text": [
      "drums           ==> SDR:   1.482  SIR: 214.793  ISR:   3.147  SAR:  -0.930  \n",
      "bass            ==> SDR:   1.482  SIR: 214.793  ISR:   3.147  SAR:  -0.930  \n",
      "\n"
     ]
    },
    {
     "name": "stderr",
     "output_type": "stream",
     "text": [
      " 70%|█████████████████████████████████████████████████████████████████████████████████████████████████████████████████████████████████▍                                                        | 16/23 [04:09<01:38, 14.10s/it]"
     ]
    },
    {
     "name": "stdout",
     "output_type": "stream",
     "text": [
      "drums           ==> SDR:  -6.197  SIR: 236.661  ISR:  -2.721  SAR:  -1.525  \n",
      "bass            ==> SDR:  -6.197  SIR: 236.661  ISR:  -2.721  SAR:  -1.525  \n",
      "\n"
     ]
    },
    {
     "name": "stderr",
     "output_type": "stream",
     "text": [
      " 74%|█████████████████████████████████████████████████████████████████████████████████████████████████████████████████████████████████████████▍                                                | 17/23 [04:14<01:07, 11.18s/it]"
     ]
    },
    {
     "name": "stdout",
     "output_type": "stream",
     "text": [
      "drums           ==> SDR:  -3.273  SIR: 160.815  ISR:  -1.786  SAR:   4.263  \n",
      "bass            ==> SDR:  -3.273  SIR: 160.815  ISR:  -1.786  SAR:   4.263  \n",
      "\n"
     ]
    },
    {
     "name": "stderr",
     "output_type": "stream",
     "text": [
      " 78%|█████████████████████████████████████████████████████████████████████████████████████████████████████████████████████████████████████████████████▌                                        | 18/23 [04:20<00:49,  9.83s/it]"
     ]
    },
    {
     "name": "stdout",
     "output_type": "stream",
     "text": [
      "drums           ==> SDR:  -9.807  SIR: 176.687  ISR:  -5.277  SAR:  -1.592  \n",
      "bass            ==> SDR:  -9.807  SIR: 176.687  ISR:  -5.277  SAR:  -1.592  \n",
      "\n"
     ]
    },
    {
     "name": "stderr",
     "output_type": "stream",
     "text": [
      " 83%|█████████████████████████████████████████████████████████████████████████████████████████████████████████████████████████████████████████████████████████▋                                | 19/23 [04:24<00:32,  8.02s/it]"
     ]
    },
    {
     "name": "stdout",
     "output_type": "stream",
     "text": [
      "drums           ==> SDR:  -3.245  SIR: 160.039  ISR:   0.568  SAR:  -2.570  \n",
      "bass            ==> SDR:  -3.245  SIR: 160.039  ISR:   0.568  SAR:  -2.570  \n",
      "\n"
     ]
    },
    {
     "name": "stderr",
     "output_type": "stream",
     "text": [
      " 87%|█████████████████████████████████████████████████████████████████████████████████████████████████████████████████████████████████████████████████████████████████▋                        | 20/23 [04:32<00:23,  7.94s/it]"
     ]
    },
    {
     "name": "stdout",
     "output_type": "stream",
     "text": [
      "drums           ==> SDR:   2.993  SIR: 173.611  ISR:   5.142  SAR:   2.658  \n",
      "bass            ==> SDR:   2.993  SIR: 173.611  ISR:   5.142  SAR:   2.658  \n",
      "\n"
     ]
    },
    {
     "name": "stderr",
     "output_type": "stream",
     "text": [
      " 91%|█████████████████████████████████████████████████████████████████████████████████████████████████████████████████████████████████████████████████████████████████████████▊                | 21/23 [04:40<00:16,  8.01s/it]"
     ]
    },
    {
     "name": "stdout",
     "output_type": "stream",
     "text": [
      "drums           ==> SDR:  -1.729  SIR: 233.882  ISR:   0.078  SAR:   2.106  \n",
      "bass            ==> SDR:  -1.729  SIR: 233.882  ISR:   0.078  SAR:   2.106  \n",
      "\n"
     ]
    },
    {
     "name": "stderr",
     "output_type": "stream",
     "text": [
      " 96%|█████████████████████████████████████████████████████████████████████████████████████████████████████████████████████████████████████████████████████████████████████████████████▉        | 22/23 [04:58<00:11, 11.06s/it]"
     ]
    },
    {
     "name": "stdout",
     "output_type": "stream",
     "text": [
      "drums           ==> SDR:   1.191  SIR: 237.375  ISR:   5.341  SAR:  -0.662  \n",
      "bass            ==> SDR:   1.191  SIR: 237.375  ISR:   5.341  SAR:  -0.662  \n",
      "\n"
     ]
    },
    {
     "name": "stderr",
     "output_type": "stream",
     "text": [
      "100%|██████████████████████████████████████████████████████████████████████████████████████████████████████████████████████████████████████████████████████████████████████████████████████████| 23/23 [05:03<00:00, 13.17s/it]"
     ]
    },
    {
     "name": "stdout",
     "output_type": "stream",
     "text": [
      "drums           ==> SDR:   2.662  SIR: 109.020  ISR:   2.677  SAR:   4.879  \n",
      "bass            ==> SDR:   2.662  SIR: 109.020  ISR:   2.677  SAR:   4.879  \n",
      "\n"
     ]
    },
    {
     "name": "stderr",
     "output_type": "stream",
     "text": [
      "\n",
      "C:\\Python311\\Lib\\site-packages\\pytorch_lightning\\utilities\\migration\\utils.py:55: The loaded checkpoint was produced with Lightning v2.2.1, which is newer than your current Lightning version: v2.1.2\n",
      "  4%|████████▏                                                                                                                                                                                  | 1/23 [00:08<03:12,  8.74s/it]"
     ]
    },
    {
     "name": "stdout",
     "output_type": "stream",
     "text": [
      "drums           ==> SDR:  -1.590  SIR: 210.350  ISR:  -0.630  SAR:  -3.558  \n",
      "bass            ==> SDR:  -1.590  SIR: 210.350  ISR:  -0.630  SAR:  -3.558  \n",
      "\n"
     ]
    },
    {
     "name": "stderr",
     "output_type": "stream",
     "text": [
      "  9%|████████████████▎                                                                                                                                                                          | 2/23 [00:16<02:53,  8.28s/it]"
     ]
    },
    {
     "name": "stdout",
     "output_type": "stream",
     "text": [
      "drums           ==> SDR:  -0.076  SIR: 149.159  ISR:   2.391  SAR:  -1.872  \n",
      "bass            ==> SDR:  -0.076  SIR: 149.159  ISR:   2.391  SAR:  -1.872  \n",
      "\n"
     ]
    },
    {
     "name": "stderr",
     "output_type": "stream",
     "text": [
      " 13%|████████████████████████▍                                                                                                                                                                  | 3/23 [00:43<05:35, 16.79s/it]"
     ]
    },
    {
     "name": "stdout",
     "output_type": "stream",
     "text": [
      "drums           ==> SDR:  -0.539  SIR: 230.872  ISR:   0.545  SAR: -14.977  \n",
      "bass            ==> SDR:  -0.539  SIR: 230.872  ISR:   0.545  SAR: -14.977  \n",
      "\n"
     ]
    },
    {
     "name": "stderr",
     "output_type": "stream",
     "text": [
      " 17%|████████████████████████████████▌                                                                                                                                                          | 4/23 [00:51<04:13, 13.36s/it]"
     ]
    },
    {
     "name": "stdout",
     "output_type": "stream",
     "text": [
      "drums           ==> SDR:  -1.635  SIR: 231.703  ISR:  -0.928  SAR:  -0.133  \n",
      "bass            ==> SDR:  -1.635  SIR: 231.703  ISR:  -0.928  SAR:  -0.133  \n",
      "\n"
     ]
    },
    {
     "name": "stderr",
     "output_type": "stream",
     "text": [
      " 22%|████████████████████████████████████████▋                                                                                                                                                  | 5/23 [01:18<05:24, 18.05s/it]"
     ]
    },
    {
     "name": "stdout",
     "output_type": "stream",
     "text": [
      "drums           ==> SDR:  -0.740  SIR: 215.579  ISR:   0.336  SAR: -10.843  \n",
      "bass            ==> SDR:  -0.740  SIR: 215.579  ISR:   0.336  SAR: -10.843  \n",
      "\n"
     ]
    },
    {
     "name": "stderr",
     "output_type": "stream",
     "text": [
      " 26%|████████████████████████████████████████████████▊                                                                                                                                          | 6/23 [01:26<04:09, 14.68s/it]"
     ]
    },
    {
     "name": "stdout",
     "output_type": "stream",
     "text": [
      "drums           ==> SDR: -14.026  SIR: 226.391  ISR: -11.398  SAR:   1.767  \n",
      "bass            ==> SDR: -14.026  SIR: 226.391  ISR: -11.398  SAR:   1.767  \n",
      "\n"
     ]
    },
    {
     "name": "stderr",
     "output_type": "stream",
     "text": [
      " 30%|████████████████████████████████████████████████████████▉                                                                                                                                  | 7/23 [01:55<05:09, 19.37s/it]"
     ]
    },
    {
     "name": "stdout",
     "output_type": "stream",
     "text": [
      "drums           ==> SDR:  -6.635  SIR: 244.736  ISR:  -4.094  SAR:   1.263  \n",
      "bass            ==> SDR:  -6.635  SIR: 244.736  ISR:  -4.094  SAR:   1.263  \n",
      "\n"
     ]
    },
    {
     "name": "stderr",
     "output_type": "stream",
     "text": [
      " 35%|█████████████████████████████████████████████████████████████████                                                                                                                          | 8/23 [02:21<05:25, 21.68s/it]"
     ]
    },
    {
     "name": "stdout",
     "output_type": "stream",
     "text": [
      "drums           ==> SDR:  -2.375  SIR: 216.178  ISR:   0.020  SAR: -15.975  \n",
      "bass            ==> SDR:  -2.375  SIR: 216.178  ISR:   0.020  SAR: -15.975  \n",
      "\n"
     ]
    },
    {
     "name": "stderr",
     "output_type": "stream",
     "text": [
      " 39%|█████████████████████████████████████████████████████████████████████████▏                                                                                                                 | 9/23 [02:35<04:29, 19.24s/it]"
     ]
    },
    {
     "name": "stdout",
     "output_type": "stream",
     "text": [
      "drums           ==> SDR:   1.820  SIR: 232.041  ISR:   2.300  SAR:  -1.034  \n",
      "bass            ==> SDR:   1.820  SIR: 232.041  ISR:   2.300  SAR:  -1.034  \n",
      "\n"
     ]
    },
    {
     "name": "stderr",
     "output_type": "stream",
     "text": [
      " 43%|████████████████████████████████████████████████████████████████████████████████▊                                                                                                         | 10/23 [03:03<04:45, 21.98s/it]"
     ]
    },
    {
     "name": "stdout",
     "output_type": "stream",
     "text": [
      "drums           ==> SDR:   1.485  SIR: 240.272  ISR:   3.234  SAR:   0.452  \n",
      "bass            ==> SDR:   1.485  SIR: 240.272  ISR:   3.234  SAR:   0.452  \n",
      "\n"
     ]
    },
    {
     "name": "stderr",
     "output_type": "stream",
     "text": [
      " 48%|████████████████████████████████████████████████████████████████████████████████████████▉                                                                                                 | 11/23 [03:21<04:07, 20.61s/it]"
     ]
    },
    {
     "name": "stdout",
     "output_type": "stream",
     "text": [
      "drums           ==> SDR:  -5.271  SIR: 242.047  ISR:  -0.564  SAR:  -1.625  \n",
      "bass            ==> SDR:  -5.271  SIR: 242.047  ISR:  -0.564  SAR:  -1.625  \n",
      "\n"
     ]
    },
    {
     "name": "stderr",
     "output_type": "stream",
     "text": [
      " 52%|█████████████████████████████████████████████████████████████████████████████████████████████████                                                                                         | 12/23 [03:30<03:07, 17.04s/it]"
     ]
    },
    {
     "name": "stdout",
     "output_type": "stream",
     "text": [
      "drums           ==> SDR:  -8.160  SIR: 229.211  ISR:  -6.009  SAR:   0.078  \n",
      "bass            ==> SDR:  -8.160  SIR: 229.211  ISR:  -6.009  SAR:   0.078  \n",
      "\n"
     ]
    },
    {
     "name": "stderr",
     "output_type": "stream",
     "text": [
      " 57%|█████████████████████████████████████████████████████████████████████████████████████████████████████████▏                                                                                | 13/23 [03:34<02:12, 13.28s/it]"
     ]
    },
    {
     "name": "stdout",
     "output_type": "stream",
     "text": [
      "drums           ==> SDR:  -0.655  SIR: 101.930  ISR:  -0.256  SAR:  -0.719  \n",
      "bass            ==> SDR:  -0.655  SIR: 101.930  ISR:  -0.256  SAR:  -0.719  \n",
      "\n"
     ]
    },
    {
     "name": "stderr",
     "output_type": "stream",
     "text": [
      " 61%|█████████████████████████████████████████████████████████████████████████████████████████████████████████████████▏                                                                        | 14/23 [03:50<02:05, 13.94s/it]"
     ]
    },
    {
     "name": "stdout",
     "output_type": "stream",
     "text": [
      "drums           ==> SDR:   0.438  SIR: 227.745  ISR:   0.518  SAR:  -1.879  \n",
      "bass            ==> SDR:   0.438  SIR: 227.745  ISR:   0.518  SAR:  -1.879  \n",
      "\n"
     ]
    },
    {
     "name": "stderr",
     "output_type": "stream",
     "text": [
      " 65%|█████████████████████████████████████████████████████████████████████████████████████████████████████████████████████████▎                                                                | 15/23 [04:16<02:21, 17.64s/it]"
     ]
    },
    {
     "name": "stdout",
     "output_type": "stream",
     "text": [
      "drums           ==> SDR:   1.298  SIR: 206.833  ISR:   2.857  SAR:  -1.060  \n",
      "bass            ==> SDR:   1.298  SIR: 206.833  ISR:   2.857  SAR:  -1.060  \n",
      "\n"
     ]
    },
    {
     "name": "stderr",
     "output_type": "stream",
     "text": [
      " 70%|█████████████████████████████████████████████████████████████████████████████████████████████████████████████████████████████████▍                                                        | 16/23 [04:23<01:41, 14.49s/it]"
     ]
    },
    {
     "name": "stdout",
     "output_type": "stream",
     "text": [
      "drums           ==> SDR:  -6.298  SIR: 240.358  ISR:  -2.797  SAR:  -1.719  \n",
      "bass            ==> SDR:  -6.298  SIR: 240.358  ISR:  -2.797  SAR:  -1.719  \n",
      "\n"
     ]
    },
    {
     "name": "stderr",
     "output_type": "stream",
     "text": [
      " 74%|█████████████████████████████████████████████████████████████████████████████████████████████████████████████████████████████████████████▍                                                | 17/23 [04:28<01:08, 11.42s/it]"
     ]
    },
    {
     "name": "stdout",
     "output_type": "stream",
     "text": [
      "drums           ==> SDR:  -2.579  SIR: 159.072  ISR:  -1.182  SAR:   3.411  \n",
      "bass            ==> SDR:  -2.579  SIR: 159.072  ISR:  -1.182  SAR:   3.411  \n",
      "\n"
     ]
    },
    {
     "name": "stderr",
     "output_type": "stream",
     "text": [
      " 78%|█████████████████████████████████████████████████████████████████████████████████████████████████████████████████████████████████████████████████▌                                        | 18/23 [04:34<00:50, 10.03s/it]"
     ]
    },
    {
     "name": "stdout",
     "output_type": "stream",
     "text": [
      "drums           ==> SDR:  -8.991  SIR: 174.935  ISR:  -5.212  SAR:  -0.531  \n",
      "bass            ==> SDR:  -8.991  SIR: 174.935  ISR:  -5.212  SAR:  -0.531  \n",
      "\n"
     ]
    },
    {
     "name": "stderr",
     "output_type": "stream",
     "text": [
      " 83%|█████████████████████████████████████████████████████████████████████████████████████████████████████████████████████████████████████████████████████████▋                                | 19/23 [04:38<00:32,  8.13s/it]"
     ]
    },
    {
     "name": "stdout",
     "output_type": "stream",
     "text": [
      "drums           ==> SDR:  -3.133  SIR: 161.316  ISR:   0.381  SAR:  -1.304  \n",
      "bass            ==> SDR:  -3.133  SIR: 161.316  ISR:   0.381  SAR:  -1.304  \n",
      "\n"
     ]
    },
    {
     "name": "stderr",
     "output_type": "stream",
     "text": [
      " 87%|█████████████████████████████████████████████████████████████████████████████████████████████████████████████████████████████████████████████████████████████████▋                        | 20/23 [04:46<00:24,  8.02s/it]"
     ]
    },
    {
     "name": "stdout",
     "output_type": "stream",
     "text": [
      "drums           ==> SDR:   2.944  SIR: 167.774  ISR:   4.734  SAR:   2.084  \n",
      "bass            ==> SDR:   2.944  SIR: 167.774  ISR:   4.734  SAR:   2.084  \n",
      "\n"
     ]
    },
    {
     "name": "stderr",
     "output_type": "stream",
     "text": [
      " 91%|█████████████████████████████████████████████████████████████████████████████████████████████████████████████████████████████████████████████████████████████████████████▊                | 21/23 [04:55<00:16,  8.30s/it]"
     ]
    },
    {
     "name": "stdout",
     "output_type": "stream",
     "text": [
      "drums           ==> SDR:  -1.859  SIR: 227.759  ISR:   0.070  SAR:   2.034  \n",
      "bass            ==> SDR:  -1.859  SIR: 227.759  ISR:   0.070  SAR:   2.034  \n",
      "\n"
     ]
    },
    {
     "name": "stderr",
     "output_type": "stream",
     "text": [
      " 96%|█████████████████████████████████████████████████████████████████████████████████████████████████████████████████████████████████████████████████████████████████████████████████▉        | 22/23 [05:13<00:11, 11.38s/it]"
     ]
    },
    {
     "name": "stdout",
     "output_type": "stream",
     "text": [
      "drums           ==> SDR:   1.238  SIR: 242.524  ISR:   4.887  SAR:  -0.760  \n",
      "bass            ==> SDR:   1.238  SIR: 242.524  ISR:   4.887  SAR:  -0.760  \n",
      "\n"
     ]
    },
    {
     "name": "stderr",
     "output_type": "stream",
     "text": [
      "100%|██████████████████████████████████████████████████████████████████████████████████████████████████████████████████████████████████████████████████████████████████████████████████████████| 23/23 [05:18<00:00, 13.84s/it]"
     ]
    },
    {
     "name": "stdout",
     "output_type": "stream",
     "text": [
      "drums           ==> SDR:   2.707  SIR:  92.628  ISR:   2.700  SAR:   4.841  \n",
      "bass            ==> SDR:   2.707  SIR:  92.628  ISR:   2.700  SAR:   4.841  \n",
      "\n"
     ]
    },
    {
     "name": "stderr",
     "output_type": "stream",
     "text": [
      "\n",
      "C:\\Python311\\Lib\\site-packages\\pytorch_lightning\\utilities\\migration\\utils.py:55: The loaded checkpoint was produced with Lightning v2.2.1, which is newer than your current Lightning version: v2.1.2\n",
      "  4%|████████▏                                                                                                                                                                                  | 1/23 [00:08<03:05,  8.43s/it]"
     ]
    },
    {
     "name": "stdout",
     "output_type": "stream",
     "text": [
      "drums           ==> SDR:  -1.573  SIR: 214.364  ISR:  -0.621  SAR:  -3.573  \n",
      "bass            ==> SDR:  -1.573  SIR: 214.364  ISR:  -0.621  SAR:  -3.573  \n",
      "\n"
     ]
    },
    {
     "name": "stderr",
     "output_type": "stream",
     "text": [
      "  9%|████████████████▎                                                                                                                                                                          | 2/23 [00:16<02:57,  8.46s/it]"
     ]
    },
    {
     "name": "stdout",
     "output_type": "stream",
     "text": [
      "drums           ==> SDR:   0.099  SIR: 148.300  ISR:   1.986  SAR:  -0.886  \n",
      "bass            ==> SDR:   0.099  SIR: 148.300  ISR:   1.986  SAR:  -0.886  \n",
      "\n"
     ]
    },
    {
     "name": "stderr",
     "output_type": "stream",
     "text": [
      " 13%|████████████████████████▍                                                                                                                                                                  | 3/23 [00:43<05:33, 16.68s/it]"
     ]
    },
    {
     "name": "stdout",
     "output_type": "stream",
     "text": [
      "drums           ==> SDR:  -0.274  SIR: 227.229  ISR:   0.376  SAR: -16.665  \n",
      "bass            ==> SDR:  -0.274  SIR: 227.229  ISR:   0.376  SAR: -16.665  \n",
      "\n"
     ]
    },
    {
     "name": "stderr",
     "output_type": "stream",
     "text": [
      " 17%|████████████████████████████████▌                                                                                                                                                          | 4/23 [00:53<04:26, 14.04s/it]"
     ]
    },
    {
     "name": "stdout",
     "output_type": "stream",
     "text": [
      "drums           ==> SDR:  -1.474  SIR: 227.257  ISR:  -0.905  SAR:  -0.531  \n",
      "bass            ==> SDR:  -1.474  SIR: 227.257  ISR:  -0.905  SAR:  -0.531  \n",
      "\n"
     ]
    },
    {
     "name": "stderr",
     "output_type": "stream",
     "text": [
      " 22%|████████████████████████████████████████▋                                                                                                                                                  | 5/23 [01:19<05:33, 18.56s/it]"
     ]
    },
    {
     "name": "stdout",
     "output_type": "stream",
     "text": [
      "drums           ==> SDR:  -0.529  SIR: 202.924  ISR:   0.198  SAR: -10.935  \n",
      "bass            ==> SDR:  -0.529  SIR: 202.924  ISR:   0.198  SAR: -10.935  \n",
      "\n"
     ]
    },
    {
     "name": "stderr",
     "output_type": "stream",
     "text": [
      " 26%|████████████████████████████████████████████████▊                                                                                                                                          | 6/23 [01:27<04:12, 14.86s/it]"
     ]
    },
    {
     "name": "stdout",
     "output_type": "stream",
     "text": [
      "drums           ==> SDR: -10.889  SIR: 224.648  ISR:  -8.182  SAR:   0.230  \n",
      "bass            ==> SDR: -10.889  SIR: 224.648  ISR:  -8.182  SAR:   0.230  \n",
      "\n"
     ]
    },
    {
     "name": "stderr",
     "output_type": "stream",
     "text": [
      " 30%|████████████████████████████████████████████████████████▉                                                                                                                                  | 7/23 [01:56<05:09, 19.37s/it]"
     ]
    },
    {
     "name": "stdout",
     "output_type": "stream",
     "text": [
      "drums           ==> SDR:  -6.080  SIR: 247.203  ISR:  -3.461  SAR:   0.985  \n",
      "bass            ==> SDR:  -6.080  SIR: 247.203  ISR:  -3.461  SAR:   0.985  \n",
      "\n"
     ]
    },
    {
     "name": "stderr",
     "output_type": "stream",
     "text": [
      " 35%|█████████████████████████████████████████████████████████████████                                                                                                                          | 8/23 [02:22<05:21, 21.46s/it]"
     ]
    },
    {
     "name": "stdout",
     "output_type": "stream",
     "text": [
      "drums           ==> SDR:  -1.315  SIR: 219.139  ISR:   0.033  SAR: -16.794  \n",
      "bass            ==> SDR:  -1.315  SIR: 219.139  ISR:   0.033  SAR: -16.794  \n",
      "\n"
     ]
    },
    {
     "name": "stderr",
     "output_type": "stream",
     "text": [
      " 39%|█████████████████████████████████████████████████████████████████████████▏                                                                                                                 | 9/23 [02:34<04:21, 18.65s/it]"
     ]
    },
    {
     "name": "stdout",
     "output_type": "stream",
     "text": [
      "drums           ==> SDR:   1.367  SIR: 233.757  ISR:   2.096  SAR:  -0.454  \n",
      "bass            ==> SDR:   1.367  SIR: 233.757  ISR:   2.096  SAR:  -0.454  \n",
      "\n"
     ]
    },
    {
     "name": "stderr",
     "output_type": "stream",
     "text": [
      " 43%|████████████████████████████████████████████████████████████████████████████████▊                                                                                                         | 10/23 [03:01<04:33, 21.05s/it]"
     ]
    },
    {
     "name": "stdout",
     "output_type": "stream",
     "text": [
      "drums           ==> SDR:   1.380  SIR: 235.162  ISR:   2.653  SAR:   0.177  \n",
      "bass            ==> SDR:   1.380  SIR: 235.162  ISR:   2.653  SAR:   0.177  \n",
      "\n"
     ]
    },
    {
     "name": "stderr",
     "output_type": "stream",
     "text": [
      " 48%|████████████████████████████████████████████████████████████████████████████████████████▉                                                                                                 | 11/23 [03:16<03:53, 19.44s/it]"
     ]
    },
    {
     "name": "stdout",
     "output_type": "stream",
     "text": [
      "drums           ==> SDR:  -5.342  SIR: 245.450  ISR:  -0.381  SAR:  -1.828  \n",
      "bass            ==> SDR:  -5.342  SIR: 245.450  ISR:  -0.381  SAR:  -1.828  \n",
      "\n"
     ]
    },
    {
     "name": "stderr",
     "output_type": "stream",
     "text": [
      " 52%|█████████████████████████████████████████████████████████████████████████████████████████████████                                                                                         | 12/23 [03:25<02:57, 16.11s/it]"
     ]
    },
    {
     "name": "stdout",
     "output_type": "stream",
     "text": [
      "drums           ==> SDR:  -7.780  SIR: 224.766  ISR:  -4.943  SAR:  -0.328  \n",
      "bass            ==> SDR:  -7.780  SIR: 224.766  ISR:  -4.943  SAR:  -0.328  \n",
      "\n"
     ]
    },
    {
     "name": "stderr",
     "output_type": "stream",
     "text": [
      " 57%|█████████████████████████████████████████████████████████████████████████████████████████████████████████▏                                                                                | 13/23 [03:29<02:05, 12.57s/it]"
     ]
    },
    {
     "name": "stdout",
     "output_type": "stream",
     "text": [
      "drums           ==> SDR:  -0.404  SIR: 102.217  ISR:  -0.175  SAR:  -1.485  \n",
      "bass            ==> SDR:  -0.404  SIR: 102.217  ISR:  -0.175  SAR:  -1.485  \n",
      "\n"
     ]
    },
    {
     "name": "stderr",
     "output_type": "stream",
     "text": [
      " 61%|█████████████████████████████████████████████████████████████████████████████████████████████████████████████████▏                                                                        | 14/23 [03:44<01:59, 13.24s/it]"
     ]
    },
    {
     "name": "stdout",
     "output_type": "stream",
     "text": [
      "drums           ==> SDR:   0.395  SIR: 222.339  ISR:   0.468  SAR:  -1.994  \n",
      "bass            ==> SDR:   0.395  SIR: 222.339  ISR:   0.468  SAR:  -1.994  \n",
      "\n"
     ]
    },
    {
     "name": "stderr",
     "output_type": "stream",
     "text": [
      " 65%|█████████████████████████████████████████████████████████████████████████████████████████████████████████████████████████▎                                                                | 15/23 [04:09<02:15, 16.88s/it]"
     ]
    },
    {
     "name": "stdout",
     "output_type": "stream",
     "text": [
      "drums           ==> SDR:   1.092  SIR: 212.216  ISR:   2.552  SAR:  -0.952  \n",
      "bass            ==> SDR:   1.092  SIR: 212.216  ISR:   2.552  SAR:  -0.952  \n",
      "\n"
     ]
    },
    {
     "name": "stderr",
     "output_type": "stream",
     "text": [
      " 70%|█████████████████████████████████████████████████████████████████████████████████████████████████████████████████████████████████▍                                                        | 16/23 [04:16<01:37, 13.92s/it]"
     ]
    },
    {
     "name": "stdout",
     "output_type": "stream",
     "text": [
      "drums           ==> SDR:  -6.117  SIR: 233.530  ISR:  -2.558  SAR:  -1.583  \n",
      "bass            ==> SDR:  -6.117  SIR: 233.530  ISR:  -2.558  SAR:  -1.583  \n",
      "\n"
     ]
    },
    {
     "name": "stderr",
     "output_type": "stream",
     "text": [
      " 74%|█████████████████████████████████████████████████████████████████████████████████████████████████████████████████████████████████████████▍                                                | 17/23 [04:21<01:06, 11.02s/it]"
     ]
    },
    {
     "name": "stdout",
     "output_type": "stream",
     "text": [
      "drums           ==> SDR:  -1.817  SIR: 156.757  ISR:   0.616  SAR:   1.742  \n",
      "bass            ==> SDR:  -1.817  SIR: 156.757  ISR:   0.616  SAR:   1.742  \n",
      "\n"
     ]
    },
    {
     "name": "stderr",
     "output_type": "stream",
     "text": [
      " 78%|█████████████████████████████████████████████████████████████████████████████████████████████████████████████████████████████████████████████████▌                                        | 18/23 [04:27<00:48,  9.64s/it]"
     ]
    },
    {
     "name": "stdout",
     "output_type": "stream",
     "text": [
      "drums           ==> SDR: -10.762  SIR: 178.029  ISR:  -6.583  SAR:  -0.776  \n",
      "bass            ==> SDR: -10.762  SIR: 178.029  ISR:  -6.583  SAR:  -0.776  \n",
      "\n"
     ]
    },
    {
     "name": "stderr",
     "output_type": "stream",
     "text": [
      " 83%|█████████████████████████████████████████████████████████████████████████████████████████████████████████████████████████████████████████████████████████▋                                | 19/23 [04:31<00:31,  7.84s/it]"
     ]
    },
    {
     "name": "stdout",
     "output_type": "stream",
     "text": [
      "drums           ==> SDR:  -2.011  SIR: 159.100  ISR:   0.718  SAR:  -4.088  \n",
      "bass            ==> SDR:  -2.011  SIR: 159.100  ISR:   0.718  SAR:  -4.088  \n",
      "\n"
     ]
    },
    {
     "name": "stderr",
     "output_type": "stream",
     "text": [
      " 87%|█████████████████████████████████████████████████████████████████████████████████████████████████████████████████████████████████████████████████████████████████▋                        | 20/23 [04:38<00:23,  7.69s/it]"
     ]
    },
    {
     "name": "stdout",
     "output_type": "stream",
     "text": [
      "drums           ==> SDR:   1.244  SIR: 171.841  ISR:   2.397  SAR:  -0.112  \n",
      "bass            ==> SDR:   1.244  SIR: 171.841  ISR:   2.397  SAR:  -0.112  \n",
      "\n"
     ]
    },
    {
     "name": "stderr",
     "output_type": "stream",
     "text": [
      " 91%|█████████████████████████████████████████████████████████████████████████████████████████████████████████████████████████████████████████████████████████████████████████▊                | 21/23 [04:46<00:15,  7.72s/it]"
     ]
    },
    {
     "name": "stdout",
     "output_type": "stream",
     "text": [
      "drums           ==> SDR:  -2.050  SIR: 226.755  ISR:   0.138  SAR:   1.681  \n",
      "bass            ==> SDR:  -2.050  SIR: 226.755  ISR:   0.138  SAR:   1.681  \n",
      "\n"
     ]
    },
    {
     "name": "stderr",
     "output_type": "stream",
     "text": [
      " 96%|█████████████████████████████████████████████████████████████████████████████████████████████████████████████████████████████████████████████████████████████████████████████████▉        | 22/23 [05:03<00:10, 10.67s/it]"
     ]
    },
    {
     "name": "stdout",
     "output_type": "stream",
     "text": [
      "drums           ==> SDR:   0.665  SIR: 234.478  ISR:   3.611  SAR:  -1.806  \n",
      "bass            ==> SDR:   0.665  SIR: 234.478  ISR:   3.611  SAR:  -1.806  \n",
      "\n"
     ]
    },
    {
     "name": "stderr",
     "output_type": "stream",
     "text": [
      "100%|██████████████████████████████████████████████████████████████████████████████████████████████████████████████████████████████████████████████████████████████████████████████████████████| 23/23 [05:08<00:00, 13.40s/it]"
     ]
    },
    {
     "name": "stdout",
     "output_type": "stream",
     "text": [
      "drums           ==> SDR:   2.578  SIR:  81.970  ISR:   2.597  SAR:   4.422  \n",
      "bass            ==> SDR:   2.578  SIR:  81.970  ISR:   2.597  SAR:   4.422  \n",
      "\n"
     ]
    },
    {
     "name": "stderr",
     "output_type": "stream",
     "text": [
      "\n",
      "C:\\Python311\\Lib\\site-packages\\pytorch_lightning\\utilities\\migration\\utils.py:55: The loaded checkpoint was produced with Lightning v2.2.1, which is newer than your current Lightning version: v2.1.2\n",
      "  4%|████████▏                                                                                                                                                                                  | 1/23 [00:08<02:57,  8.07s/it]"
     ]
    },
    {
     "name": "stdout",
     "output_type": "stream",
     "text": [
      "drums           ==> SDR:  -1.418  SIR: 212.300  ISR:  -0.594  SAR:  -3.749  \n",
      "bass            ==> SDR:  -1.418  SIR: 212.300  ISR:  -0.594  SAR:  -3.749  \n",
      "\n"
     ]
    },
    {
     "name": "stderr",
     "output_type": "stream",
     "text": [
      "  9%|████████████████▎                                                                                                                                                                          | 2/23 [00:16<02:48,  8.02s/it]"
     ]
    },
    {
     "name": "stdout",
     "output_type": "stream",
     "text": [
      "drums           ==> SDR:   0.184  SIR: 148.848  ISR:   1.008  SAR:  -3.018  \n",
      "bass            ==> SDR:   0.184  SIR: 148.848  ISR:   1.008  SAR:  -3.018  \n",
      "\n"
     ]
    },
    {
     "name": "stderr",
     "output_type": "stream",
     "text": [
      " 13%|████████████████████████▍                                                                                                                                                                  | 3/23 [00:43<05:40, 17.00s/it]"
     ]
    },
    {
     "name": "stdout",
     "output_type": "stream",
     "text": [
      "drums           ==> SDR:  -0.054  SIR: 226.292  ISR:   0.306  SAR: -12.893  \n",
      "bass            ==> SDR:  -0.054  SIR: 226.292  ISR:   0.306  SAR: -12.893  \n",
      "\n"
     ]
    },
    {
     "name": "stderr",
     "output_type": "stream",
     "text": [
      " 17%|████████████████████████████████▌                                                                                                                                                          | 4/23 [00:51<04:16, 13.49s/it]"
     ]
    },
    {
     "name": "stdout",
     "output_type": "stream",
     "text": [
      "drums           ==> SDR:  -1.263  SIR: 233.141  ISR:  -0.805  SAR:  -0.809  \n",
      "bass            ==> SDR:  -1.263  SIR: 233.141  ISR:  -0.805  SAR:  -0.809  \n",
      "\n"
     ]
    },
    {
     "name": "stderr",
     "output_type": "stream",
     "text": [
      " 22%|████████████████████████████████████████▋                                                                                                                                                  | 5/23 [01:18<05:27, 18.18s/it]"
     ]
    },
    {
     "name": "stdout",
     "output_type": "stream",
     "text": [
      "drums           ==> SDR:  -0.061  SIR: 207.395  ISR:   0.140  SAR:  -7.820  \n",
      "bass            ==> SDR:  -0.061  SIR: 207.395  ISR:   0.140  SAR:  -7.820  \n",
      "\n"
     ]
    },
    {
     "name": "stderr",
     "output_type": "stream",
     "text": [
      " 26%|████████████████████████████████████████████████▊                                                                                                                                          | 6/23 [01:26<04:10, 14.71s/it]"
     ]
    },
    {
     "name": "stdout",
     "output_type": "stream",
     "text": [
      "drums           ==> SDR:  -0.228  SIR: 233.476  ISR:   0.177  SAR:  -0.041  \n",
      "bass            ==> SDR:  -0.228  SIR: 233.476  ISR:   0.177  SAR:  -0.041  \n",
      "\n"
     ]
    },
    {
     "name": "stderr",
     "output_type": "stream",
     "text": [
      " 30%|████████████████████████████████████████████████████████▉                                                                                                                                  | 7/23 [01:55<05:09, 19.34s/it]"
     ]
    },
    {
     "name": "stdout",
     "output_type": "stream",
     "text": [
      "drums           ==> SDR:  -4.745  SIR: 248.790  ISR:  -1.978  SAR:   0.270  \n",
      "bass            ==> SDR:  -4.745  SIR: 248.790  ISR:  -1.978  SAR:   0.270  \n",
      "\n"
     ]
    },
    {
     "name": "stderr",
     "output_type": "stream",
     "text": [
      " 35%|█████████████████████████████████████████████████████████████████                                                                                                                          | 8/23 [02:21<05:24, 21.63s/it]"
     ]
    },
    {
     "name": "stdout",
     "output_type": "stream",
     "text": [
      "drums           ==> SDR:  -0.289  SIR: 221.666  ISR:   0.029  SAR: -16.472  \n",
      "bass            ==> SDR:  -0.289  SIR: 221.666  ISR:   0.029  SAR: -16.472  \n",
      "\n"
     ]
    },
    {
     "name": "stderr",
     "output_type": "stream",
     "text": [
      " 39%|█████████████████████████████████████████████████████████████████████████▏                                                                                                                 | 9/23 [02:34<04:25, 18.94s/it]"
     ]
    },
    {
     "name": "stdout",
     "output_type": "stream",
     "text": [
      "drums           ==> SDR:   0.355  SIR: 240.319  ISR:   0.974  SAR:  -1.054  \n",
      "bass            ==> SDR:   0.355  SIR: 240.319  ISR:   0.974  SAR:  -1.054  \n",
      "\n"
     ]
    },
    {
     "name": "stderr",
     "output_type": "stream",
     "text": [
      " 43%|████████████████████████████████████████████████████████████████████████████████▊                                                                                                         | 10/23 [03:01<04:39, 21.48s/it]"
     ]
    },
    {
     "name": "stdout",
     "output_type": "stream",
     "text": [
      "drums           ==> SDR:   0.638  SIR: 233.522  ISR:   1.556  SAR:  -1.812  \n",
      "bass            ==> SDR:   0.638  SIR: 233.522  ISR:   1.556  SAR:  -1.812  \n",
      "\n"
     ]
    },
    {
     "name": "stderr",
     "output_type": "stream",
     "text": [
      " 48%|████████████████████████████████████████████████████████████████████████████████████████▉                                                                                                 | 11/23 [03:18<03:58, 19.91s/it]"
     ]
    },
    {
     "name": "stdout",
     "output_type": "stream",
     "text": [
      "drums           ==> SDR:  -4.997  SIR: 241.783  ISR:   0.039  SAR:  -2.191  \n",
      "bass            ==> SDR:  -4.997  SIR: 241.783  ISR:   0.039  SAR:  -2.191  \n",
      "\n"
     ]
    },
    {
     "name": "stderr",
     "output_type": "stream",
     "text": [
      " 52%|█████████████████████████████████████████████████████████████████████████████████████████████████                                                                                         | 12/23 [03:27<03:02, 16.60s/it]"
     ]
    },
    {
     "name": "stdout",
     "output_type": "stream",
     "text": [
      "drums           ==> SDR:  -4.185  SIR: 227.376  ISR:  -2.164  SAR:  -2.266  \n",
      "bass            ==> SDR:  -4.185  SIR: 227.376  ISR:  -2.164  SAR:  -2.266  \n",
      "\n"
     ]
    },
    {
     "name": "stderr",
     "output_type": "stream",
     "text": [
      " 57%|█████████████████████████████████████████████████████████████████████████████████████████████████████████▏                                                                                | 13/23 [03:31<02:09, 12.97s/it]"
     ]
    },
    {
     "name": "stdout",
     "output_type": "stream",
     "text": [
      "drums           ==> SDR:  -0.044  SIR: 102.850  ISR:  -0.027  SAR:  -2.871  \n",
      "bass            ==> SDR:  -0.044  SIR: 102.850  ISR:  -0.027  SAR:  -2.871  \n",
      "\n"
     ]
    },
    {
     "name": "stderr",
     "output_type": "stream",
     "text": [
      " 61%|█████████████████████████████████████████████████████████████████████████████████████████████████████████████████▏                                                                        | 14/23 [03:46<02:02, 13.56s/it]"
     ]
    },
    {
     "name": "stdout",
     "output_type": "stream",
     "text": [
      "drums           ==> SDR:   0.351  SIR: 234.716  ISR:   0.387  SAR:  -3.223  \n",
      "bass            ==> SDR:   0.351  SIR: 234.716  ISR:   0.387  SAR:  -3.223  \n",
      "\n"
     ]
    },
    {
     "name": "stderr",
     "output_type": "stream",
     "text": [
      " 65%|█████████████████████████████████████████████████████████████████████████████████████████████████████████████████████████▎                                                                | 15/23 [04:12<02:18, 17.29s/it]"
     ]
    },
    {
     "name": "stdout",
     "output_type": "stream",
     "text": [
      "drums           ==> SDR:   0.708  SIR: 211.787  ISR:   1.897  SAR:  -2.382  \n",
      "bass            ==> SDR:   0.708  SIR: 211.787  ISR:   1.897  SAR:  -2.382  \n",
      "\n"
     ]
    },
    {
     "name": "stderr",
     "output_type": "stream",
     "text": [
      " 70%|█████████████████████████████████████████████████████████████████████████████████████████████████████████████████████████████████▍                                                        | 16/23 [04:19<01:39, 14.18s/it]"
     ]
    },
    {
     "name": "stdout",
     "output_type": "stream",
     "text": [
      "drums           ==> SDR:  -5.721  SIR: 239.445  ISR:  -2.109  SAR:  -2.103  \n",
      "bass            ==> SDR:  -5.721  SIR: 239.445  ISR:  -2.109  SAR:  -2.103  \n",
      "\n"
     ]
    },
    {
     "name": "stderr",
     "output_type": "stream",
     "text": [
      " 74%|█████████████████████████████████████████████████████████████████████████████████████████████████████████████████████████████████████████▍                                                | 17/23 [04:23<01:07, 11.19s/it]"
     ]
    },
    {
     "name": "stdout",
     "output_type": "stream",
     "text": [
      "drums           ==> SDR:  -0.744  SIR: 155.537  ISR:   1.694  SAR:   0.347  \n",
      "bass            ==> SDR:  -0.744  SIR: 155.537  ISR:   1.694  SAR:   0.347  \n",
      "\n"
     ]
    },
    {
     "name": "stderr",
     "output_type": "stream",
     "text": [
      " 78%|█████████████████████████████████████████████████████████████████████████████████████████████████████████████████████████████████████████████████▌                                        | 18/23 [04:30<00:49,  9.81s/it]"
     ]
    },
    {
     "name": "stdout",
     "output_type": "stream",
     "text": [
      "drums           ==> SDR:  -6.006  SIR: 173.161  ISR:  -1.673  SAR:  -3.211  \n",
      "bass            ==> SDR:  -6.006  SIR: 173.161  ISR:  -1.673  SAR:  -3.211  \n",
      "\n"
     ]
    },
    {
     "name": "stderr",
     "output_type": "stream",
     "text": [
      " 83%|█████████████████████████████████████████████████████████████████████████████████████████████████████████████████████████████████████████████████████████▋                                | 19/23 [04:34<00:32,  8.08s/it]"
     ]
    },
    {
     "name": "stdout",
     "output_type": "stream",
     "text": [
      "drums           ==> SDR:  -0.310  SIR: 159.754  ISR:   1.022  SAR:  -4.764  \n",
      "bass            ==> SDR:  -0.310  SIR: 159.754  ISR:   1.022  SAR:  -4.764  \n",
      "\n"
     ]
    },
    {
     "name": "stderr",
     "output_type": "stream",
     "text": [
      " 87%|█████████████████████████████████████████████████████████████████████████████████████████████████████████████████████████████████████████████████████████████████▋                        | 20/23 [04:42<00:23,  7.93s/it]"
     ]
    },
    {
     "name": "stdout",
     "output_type": "stream",
     "text": [
      "drums           ==> SDR:   1.342  SIR: 167.706  ISR:   2.505  SAR:  -0.399  \n",
      "bass            ==> SDR:   1.342  SIR: 167.706  ISR:   2.505  SAR:  -0.399  \n",
      "\n"
     ]
    },
    {
     "name": "stderr",
     "output_type": "stream",
     "text": [
      " 91%|█████████████████████████████████████████████████████████████████████████████████████████████████████████████████████████████████████████████████████████████████████████▊                | 21/23 [04:50<00:15,  7.96s/it]"
     ]
    },
    {
     "name": "stdout",
     "output_type": "stream",
     "text": [
      "drums           ==> SDR:  -1.724  SIR: 229.081  ISR:   0.606  SAR:   0.585  \n",
      "bass            ==> SDR:  -1.724  SIR: 229.081  ISR:   0.606  SAR:   0.585  \n",
      "\n"
     ]
    },
    {
     "name": "stderr",
     "output_type": "stream",
     "text": [
      " 96%|█████████████████████████████████████████████████████████████████████████████████████████████████████████████████████████████████████████████████████████████████████████████████▉        | 22/23 [05:08<00:10, 10.97s/it]"
     ]
    },
    {
     "name": "stdout",
     "output_type": "stream",
     "text": [
      "drums           ==> SDR:   0.419  SIR: 237.076  ISR:   2.619  SAR:  -2.270  \n",
      "bass            ==> SDR:   0.419  SIR: 237.076  ISR:   2.619  SAR:  -2.270  \n",
      "\n"
     ]
    },
    {
     "name": "stderr",
     "output_type": "stream",
     "text": [
      "100%|██████████████████████████████████████████████████████████████████████████████████████████████████████████████████████████████████████████████████████████████████████████████████████████| 23/23 [05:12<00:00, 13.60s/it]"
     ]
    },
    {
     "name": "stdout",
     "output_type": "stream",
     "text": [
      "drums           ==> SDR:   2.609  SIR:  81.906  ISR:   2.566  SAR:   4.286  \n",
      "bass            ==> SDR:   2.609  SIR:  81.906  ISR:   2.566  SAR:   4.286  \n",
      "\n"
     ]
    },
    {
     "name": "stderr",
     "output_type": "stream",
     "text": [
      "\n",
      "C:\\Python311\\Lib\\site-packages\\pytorch_lightning\\utilities\\migration\\utils.py:55: The loaded checkpoint was produced with Lightning v2.2.1, which is newer than your current Lightning version: v2.1.2\n",
      "  4%|████████▏                                                                                                                                                                                  | 1/23 [00:08<02:57,  8.05s/it]"
     ]
    },
    {
     "name": "stdout",
     "output_type": "stream",
     "text": [
      "drums           ==> SDR:  -1.025  SIR: 213.768  ISR:  -0.493  SAR:  -3.538  \n",
      "bass            ==> SDR:  -1.025  SIR: 213.768  ISR:  -0.493  SAR:  -3.538  \n",
      "\n"
     ]
    },
    {
     "name": "stderr",
     "output_type": "stream",
     "text": [
      "  9%|████████████████▎                                                                                                                                                                          | 2/23 [00:16<02:48,  8.01s/it]"
     ]
    },
    {
     "name": "stdout",
     "output_type": "stream",
     "text": [
      "drums           ==> SDR:   0.087  SIR: 147.262  ISR:   0.188  SAR:  -7.074  \n",
      "bass            ==> SDR:   0.087  SIR: 147.262  ISR:   0.188  SAR:  -7.074  \n",
      "\n"
     ]
    },
    {
     "name": "stderr",
     "output_type": "stream",
     "text": [
      " 13%|████████████████████████▍                                                                                                                                                                  | 3/23 [00:42<05:28, 16.41s/it]"
     ]
    },
    {
     "name": "stdout",
     "output_type": "stream",
     "text": [
      "drums           ==> SDR:  -0.001  SIR: 228.583  ISR:   0.011  SAR: -22.773  \n",
      "bass            ==> SDR:  -0.001  SIR: 228.583  ISR:   0.011  SAR: -22.773  \n",
      "\n"
     ]
    },
    {
     "name": "stderr",
     "output_type": "stream",
     "text": [
      " 17%|████████████████████████████████▌                                                                                                                                                          | 4/23 [00:50<04:11, 13.21s/it]"
     ]
    },
    {
     "name": "stdout",
     "output_type": "stream",
     "text": [
      "drums           ==> SDR:  -0.841  SIR: 221.349  ISR:  -0.564  SAR:  -2.028  \n",
      "bass            ==> SDR:  -0.841  SIR: 221.349  ISR:  -0.564  SAR:  -2.028  \n",
      "\n"
     ]
    },
    {
     "name": "stderr",
     "output_type": "stream",
     "text": [
      " 22%|████████████████████████████████████████▋                                                                                                                                                  | 5/23 [01:16<05:22, 17.90s/it]"
     ]
    },
    {
     "name": "stdout",
     "output_type": "stream",
     "text": [
      "drums           ==> SDR:  -0.004  SIR: 211.503  ISR:   0.007  SAR: -10.149  \n",
      "bass            ==> SDR:  -0.004  SIR: 211.503  ISR:   0.007  SAR: -10.149  \n",
      "\n"
     ]
    },
    {
     "name": "stderr",
     "output_type": "stream",
     "text": [
      " 26%|████████████████████████████████████████████████▊                                                                                                                                          | 6/23 [01:25<04:08, 14.61s/it]"
     ]
    },
    {
     "name": "stdout",
     "output_type": "stream",
     "text": [
      "drums           ==> SDR:  -0.108  SIR: 232.961  ISR:   0.767  SAR:  -0.604  \n",
      "bass            ==> SDR:  -0.108  SIR: 232.961  ISR:   0.767  SAR:  -0.604  \n",
      "\n"
     ]
    },
    {
     "name": "stderr",
     "output_type": "stream",
     "text": [
      " 30%|████████████████████████████████████████████████████████▉                                                                                                                                  | 7/23 [01:54<05:11, 19.45s/it]"
     ]
    },
    {
     "name": "stdout",
     "output_type": "stream",
     "text": [
      "drums           ==> SDR:  -1.037  SIR: 243.849  ISR:   0.751  SAR:  -1.365  \n",
      "bass            ==> SDR:  -1.037  SIR: 243.849  ISR:   0.751  SAR:  -1.365  \n",
      "\n"
     ]
    },
    {
     "name": "stderr",
     "output_type": "stream",
     "text": [
      " 35%|█████████████████████████████████████████████████████████████████                                                                                                                          | 8/23 [02:20<05:24, 21.62s/it]"
     ]
    },
    {
     "name": "stdout",
     "output_type": "stream",
     "text": [
      "drums           ==> SDR:  -0.026  SIR: 218.863  ISR:   0.002  SAR: -15.054  \n",
      "bass            ==> SDR:  -0.026  SIR: 218.863  ISR:   0.002  SAR: -15.054  \n",
      "\n"
     ]
    },
    {
     "name": "stderr",
     "output_type": "stream",
     "text": [
      " 39%|█████████████████████████████████████████████████████████████████████████▏                                                                                                                 | 9/23 [02:33<04:24, 18.90s/it]"
     ]
    },
    {
     "name": "stdout",
     "output_type": "stream",
     "text": [
      "drums           ==> SDR:   0.032  SIR: 236.699  ISR:   0.095  SAR:  -5.484  \n",
      "bass            ==> SDR:   0.032  SIR: 236.699  ISR:   0.095  SAR:  -5.484  \n",
      "\n"
     ]
    },
    {
     "name": "stderr",
     "output_type": "stream",
     "text": [
      " 43%|████████████████████████████████████████████████████████████████████████████████▊                                                                                                         | 10/23 [03:00<04:38, 21.40s/it]"
     ]
    },
    {
     "name": "stdout",
     "output_type": "stream",
     "text": [
      "drums           ==> SDR:   0.185  SIR: 236.192  ISR:   0.535  SAR:  -2.676  \n",
      "bass            ==> SDR:   0.185  SIR: 236.192  ISR:   0.535  SAR:  -2.676  \n",
      "\n"
     ]
    },
    {
     "name": "stderr",
     "output_type": "stream",
     "text": [
      " 48%|████████████████████████████████████████████████████████████████████████████████████████▉                                                                                                 | 11/23 [03:18<04:02, 20.18s/it]"
     ]
    },
    {
     "name": "stdout",
     "output_type": "stream",
     "text": [
      "drums           ==> SDR:  -3.800  SIR: 240.033  ISR:   1.196  SAR:  -3.219  \n",
      "bass            ==> SDR:  -3.800  SIR: 240.033  ISR:   1.196  SAR:  -3.219  \n",
      "\n"
     ]
    },
    {
     "name": "stderr",
     "output_type": "stream",
     "text": [
      " 52%|█████████████████████████████████████████████████████████████████████████████████████████████████                                                                                         | 12/23 [03:31<03:20, 18.21s/it]"
     ]
    },
    {
     "name": "stdout",
     "output_type": "stream",
     "text": [
      "drums           ==> SDR:  -0.230  SIR: 225.460  ISR:   0.008  SAR:  -4.465  \n",
      "bass            ==> SDR:  -0.230  SIR: 225.460  ISR:   0.008  SAR:  -4.465  \n",
      "\n"
     ]
    },
    {
     "name": "stderr",
     "output_type": "stream",
     "text": [
      " 57%|█████████████████████████████████████████████████████████████████████████████████████████████████████████▏                                                                                | 13/23 [03:36<02:22, 14.23s/it]"
     ]
    },
    {
     "name": "stdout",
     "output_type": "stream",
     "text": [
      "drums           ==> SDR:  -0.000  SIR:  96.510  ISR:  -0.003  SAR:  -5.947  \n",
      "bass            ==> SDR:  -0.000  SIR:  96.510  ISR:  -0.003  SAR:  -5.947  \n",
      "\n"
     ]
    },
    {
     "name": "stderr",
     "output_type": "stream",
     "text": [
      " 61%|█████████████████████████████████████████████████████████████████████████████████████████████████████████████████▏                                                                        | 14/23 [03:54<02:15, 15.10s/it]"
     ]
    },
    {
     "name": "stdout",
     "output_type": "stream",
     "text": [
      "drums           ==> SDR:   0.038  SIR: 230.708  ISR:   0.078  SAR:  -5.272  \n",
      "bass            ==> SDR:   0.038  SIR: 230.708  ISR:   0.078  SAR:  -5.272  \n",
      "\n"
     ]
    },
    {
     "name": "stderr",
     "output_type": "stream",
     "text": [
      " 65%|█████████████████████████████████████████████████████████████████████████████████████████████████████████████████████████▎                                                                | 15/23 [04:22<02:31, 18.98s/it]"
     ]
    },
    {
     "name": "stdout",
     "output_type": "stream",
     "text": [
      "drums           ==> SDR:   0.050  SIR: 211.256  ISR:   0.209  SAR:  -6.833  \n",
      "bass            ==> SDR:   0.050  SIR: 211.256  ISR:   0.209  SAR:  -6.833  \n",
      "\n"
     ]
    },
    {
     "name": "stderr",
     "output_type": "stream",
     "text": [
      " 70%|█████████████████████████████████████████████████████████████████████████████████████████████████████████████████████████████████▍                                                        | 16/23 [04:30<01:50, 15.73s/it]"
     ]
    },
    {
     "name": "stdout",
     "output_type": "stream",
     "text": [
      "drums           ==> SDR:  -4.561  SIR: 241.072  ISR:  -1.193  SAR:  -2.632  \n",
      "bass            ==> SDR:  -4.561  SIR: 241.072  ISR:  -1.193  SAR:  -2.632  \n",
      "\n"
     ]
    },
    {
     "name": "stderr",
     "output_type": "stream",
     "text": [
      " 74%|█████████████████████████████████████████████████████████████████████████████████████████████████████████████████████████████████████████▍                                                | 17/23 [04:34<01:14, 12.35s/it]"
     ]
    },
    {
     "name": "stdout",
     "output_type": "stream",
     "text": [
      "drums           ==> SDR:   0.030  SIR: 147.719  ISR:   0.949  SAR:  -1.005  \n",
      "bass            ==> SDR:   0.030  SIR: 147.719  ISR:   0.949  SAR:  -1.005  \n",
      "\n"
     ]
    },
    {
     "name": "stderr",
     "output_type": "stream",
     "text": [
      " 78%|█████████████████████████████████████████████████████████████████████████████████████████████████████████████████████████████████████████████████▌                                        | 18/23 [04:41<00:53, 10.71s/it]"
     ]
    },
    {
     "name": "stdout",
     "output_type": "stream",
     "text": [
      "drums           ==> SDR:  -4.653  SIR: 173.604  ISR:  -1.004  SAR:  -2.585  \n",
      "bass            ==> SDR:  -4.653  SIR: 173.604  ISR:  -1.004  SAR:  -2.585  \n",
      "\n"
     ]
    },
    {
     "name": "stderr",
     "output_type": "stream",
     "text": [
      " 83%|█████████████████████████████████████████████████████████████████████████████████████████████████████████████████████████████████████████████████████████▋                                | 19/23 [04:46<00:35,  8.84s/it]"
     ]
    },
    {
     "name": "stdout",
     "output_type": "stream",
     "text": [
      "drums           ==> SDR:  -0.008  SIR: 154.741  ISR:   0.027  SAR:  -8.687  \n",
      "bass            ==> SDR:  -0.008  SIR: 154.741  ISR:   0.027  SAR:  -8.687  \n",
      "\n"
     ]
    },
    {
     "name": "stderr",
     "output_type": "stream",
     "text": [
      " 87%|█████████████████████████████████████████████████████████████████████████████████████████████████████████████████████████████████████████████████████████████████▋                        | 20/23 [04:53<00:25,  8.49s/it]"
     ]
    },
    {
     "name": "stdout",
     "output_type": "stream",
     "text": [
      "drums           ==> SDR:   0.034  SIR: 164.337  ISR:   0.202  SAR:  -2.349  \n",
      "bass            ==> SDR:   0.034  SIR: 164.337  ISR:   0.202  SAR:  -2.349  \n",
      "\n"
     ]
    },
    {
     "name": "stderr",
     "output_type": "stream",
     "text": [
      " 91%|█████████████████████████████████████████████████████████████████████████████████████████████████████████████████████████████████████████████████████████████████████████▊                | 21/23 [05:01<00:16,  8.33s/it]"
     ]
    },
    {
     "name": "stdout",
     "output_type": "stream",
     "text": [
      "drums           ==> SDR:  -1.085  SIR: 233.656  ISR:   0.989  SAR:  -1.563  \n",
      "bass            ==> SDR:  -1.085  SIR: 233.656  ISR:   0.989  SAR:  -1.563  \n",
      "\n"
     ]
    },
    {
     "name": "stderr",
     "output_type": "stream",
     "text": [
      " 96%|█████████████████████████████████████████████████████████████████████████████████████████████████████████████████████████████████████████████████████████████████████████████████▉        | 22/23 [05:19<00:11, 11.19s/it]"
     ]
    },
    {
     "name": "stdout",
     "output_type": "stream",
     "text": [
      "drums           ==> SDR:   0.005  SIR: 241.108  ISR:   0.234  SAR:  -1.811  \n",
      "bass            ==> SDR:   0.005  SIR: 241.108  ISR:   0.234  SAR:  -1.811  \n",
      "\n"
     ]
    },
    {
     "name": "stderr",
     "output_type": "stream",
     "text": [
      "100%|██████████████████████████████████████████████████████████████████████████████████████████████████████████████████████████████████████████████████████████████████████████████████████████| 23/23 [05:24<00:00, 14.12s/it]"
     ]
    },
    {
     "name": "stdout",
     "output_type": "stream",
     "text": [
      "drums           ==> SDR:   1.873  SIR:  81.171  ISR:   1.888  SAR:   2.978  \n",
      "bass            ==> SDR:   1.873  SIR:  81.171  ISR:   1.888  SAR:   2.978  \n",
      "\n"
     ]
    },
    {
     "name": "stderr",
     "output_type": "stream",
     "text": [
      "\n"
     ]
    }
   ],
   "source": [
    "# for fold in range(3):\n",
    "class Track:\n",
    "    def __init__(self, name, midi_path, drum_path, mix_path, adtof_path, length):\n",
    "        self.name = name\n",
    "        self.midi_path = midi_path\n",
    "        self.drum_path = drum_path\n",
    "        self.mix_path = mix_path\n",
    "        self.targets = {'drums': '', 'bass': ''}\n",
    "        self.rate = 44100\n",
    "        self.subset = 'test'\n",
    "        self.adtof_path = adtof_path\n",
    "        self.length = length\n",
    "        \n",
    "for accuracy in [1.0, 0.9, 0.8, 0.7, 0.6, 0.5, 0.4, 0.3, 0.2, 0.1, 0]:\n",
    "    for name in ['epoch_200']:\n",
    "\n",
    "        model = DrumConvTasnet.load_from_checkpoint(f'D:/Github/phd-drum-sep/analysis/conv_tasnet_model_analysis/checkpoint/{name}.ckpt')\n",
    "        model = model.eval()\n",
    "        \n",
    "        results = museval.EvalStore(frames_agg='median', tracks_agg='median')\n",
    "        for track in tqdm(all_tracks):\n",
    "            try:\n",
    "\n",
    "                mixture_tensor = load_audio(track.mix_path).unsqueeze(0).to(model.device)\n",
    "                drum_tensor = load_audio(track.drum_path).unsqueeze(0).to(model.device)\n",
    "                drum_tensor = torch.cat([drum_tensor,drum_tensor], dim=1)\n",
    "                shape = mixture_tensor.shape[2]\n",
    "                roll_tensor = load_roll(track.midi_path, shape, accuracy).unsqueeze(0).to(model.device)\n",
    "            \n",
    "                seperated = separate_sources(model, mixture_tensor, roll_tensor, device='cuda')\n",
    "            \n",
    "                output_path = f\"D:/Github/phd-drum-sep/rebuttal_experiments/conv_tasnet_model_results_{name}_accuracy_{accuracy}_drop/\"\n",
    "                \n",
    "                audio = seperated.squeeze(0).cpu().numpy()\n",
    "                audio = np.swapaxes(audio,0,1)\n",
    "                estimates = {'drums': audio, 'bass': audio}\n",
    "            \n",
    "                d = drum_tensor.squeeze(0).cpu().numpy()\n",
    "                d = np.swapaxes(d,0,1)\n",
    "                \n",
    "                track.targets['drums'] = AudioData(d)\n",
    "                track.targets['bass'] = AudioData(d)\n",
    "                \n",
    "                scores = museval.eval_mus_track(\n",
    "                    track, estimates, output_dir=f\"{output_path}\"\n",
    "                )\n",
    "            \n",
    "                print(scores)\n",
    "                results.add_track(scores)\n",
    "                gc.collect()\n",
    "            except Exception as e:\n",
    "                print(e)\n",
    "                pass\n",
    "        \n",
    "        results.df.to_csv(f\"{output_path}results.csv\")\n",
    "    \n",
    "        del model\n",
    "        # del mus\n",
    "        \n",
    "        # except Exception as e:\n",
    "        #     print('error with model, skipping', name, e)"
   ]
  },
  {
   "cell_type": "code",
   "execution_count": 13,
   "id": "6cd0a0c5-a825-44cb-94e7-9fef9dcc91fb",
   "metadata": {},
   "outputs": [
    {
     "data": {
      "text/plain": [
       "(target  metric\n",
       " bass    ISR         0.095440\n",
       "         SAR        -3.218580\n",
       "         SDR        -0.004090\n",
       "         SIR       221.348965\n",
       " drums   ISR         0.095440\n",
       "         SAR        -3.218580\n",
       "         SDR        -0.004090\n",
       "         SIR       221.348965\n",
       " Name: score, dtype: float64,)"
      ]
     },
     "execution_count": 13,
     "metadata": {},
     "output_type": "execute_result"
    }
   ],
   "source": [
    "results.agg_frames_tracks_scores(), "
   ]
  },
  {
   "cell_type": "code",
   "execution_count": 14,
   "id": "246b6f4f-d272-4105-aef9-26757a4c3b4f",
   "metadata": {},
   "outputs": [],
   "source": [
    "r = results.agg_frames_scores().to_dict()"
   ]
  },
  {
   "cell_type": "code",
   "execution_count": 15,
   "id": "d600d210-0015-462f-8dc5-4c5888589fe3",
   "metadata": {},
   "outputs": [
    {
     "name": "stdout",
     "output_type": "stream",
     "text": [
      "-0.00409\n"
     ]
    }
   ],
   "source": [
    "sdrs = []\n",
    "for key in list(r.keys()):\n",
    "    if 'SDR' in key:\n",
    "        sdrs.append(r[key])\n",
    "\n",
    "print(np.median(sdrs))"
   ]
  },
  {
   "cell_type": "code",
   "execution_count": null,
   "id": "58db3f19-21c2-4daf-bdf1-eb25814ec5d7",
   "metadata": {},
   "outputs": [],
   "source": []
  },
  {
   "cell_type": "code",
   "execution_count": null,
   "id": "aa6e4720-38ca-4831-aea9-a603d632d691",
   "metadata": {},
   "outputs": [],
   "source": []
  }
 ],
 "metadata": {
  "kernelspec": {
   "display_name": "Python 3 (ipykernel)",
   "language": "python",
   "name": "python3"
  },
  "language_info": {
   "codemirror_mode": {
    "name": "ipython",
    "version": 3
   },
   "file_extension": ".py",
   "mimetype": "text/x-python",
   "name": "python",
   "nbconvert_exporter": "python",
   "pygments_lexer": "ipython3",
   "version": "3.11.4"
  }
 },
 "nbformat": 4,
 "nbformat_minor": 5
}
