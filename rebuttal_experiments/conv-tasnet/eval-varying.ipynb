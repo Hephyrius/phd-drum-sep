{
 "cells": [
  {
   "cell_type": "markdown",
   "id": "20b2a3bb-3d01-4f42-bc37-dff46522af7f",
   "metadata": {},
   "source": [
    "# Imports"
   ]
  },
  {
   "cell_type": "code",
   "execution_count": 1,
   "id": "71d686e6-8847-4861-88f0-58141c363862",
   "metadata": {},
   "outputs": [
    {
     "name": "stdout",
     "output_type": "stream",
     "text": [
      "True\n"
     ]
    }
   ],
   "source": [
    "import os\n",
    "import pywt\n",
    "import torch\n",
    "import torch.nn as nn\n",
    "import torch.nn.functional as F\n",
    "import torchaudio\n",
    "import pytorch_lightning as pl\n",
    "from torch.utils.data import DataLoader, Dataset\n",
    "from torchaudio.pipelines import HDEMUCS_HIGH_MUSDB\n",
    "import torch.optim as optim\n",
    "from torch.utils.data import Dataset, DataLoader\n",
    "import torchaudio\n",
    "import numpy as np\n",
    "import random\n",
    "from pytorch_lightning.loggers import WandbLogger\n",
    "import wandb\n",
    "import auraloss\n",
    "import collections\n",
    "from tqdm import tqdm\n",
    "import pretty_midi\n",
    "import matplotlib.pyplot as plt\n",
    "from torchaudio.pipelines import HDEMUCS_HIGH_MUSDB\n",
    "print(torch.cuda.is_available())\n",
    "import plotly.graph_objects as go\n",
    "from torch.optim import lr_scheduler\n",
    "from IPython.display import Audio\n",
    "from torchaudio.transforms import Fade\n",
    "import musdb\n",
    "import museval\n",
    "import gc"
   ]
  },
  {
   "cell_type": "code",
   "execution_count": 2,
   "id": "275ddd3f-aa3d-4444-8ddd-c8874bac940c",
   "metadata": {},
   "outputs": [
    {
     "name": "stdout",
     "output_type": "stream",
     "text": [
      "True\n"
     ]
    }
   ],
   "source": [
    "\n",
    "import os\n",
    "import torch\n",
    "import torch.nn as nn\n",
    "import torch.nn.functional as F\n",
    "import torchaudio\n",
    "import pytorch_lightning as pl\n",
    "from torch.utils.data import DataLoader, Dataset\n",
    "from torchaudio.pipelines import HDEMUCS_HIGH_MUSDB\n",
    "import torch.optim as optim\n",
    "from torch.utils.data import Dataset, DataLoader\n",
    "import torchaudio\n",
    "import numpy as np\n",
    "import random\n",
    "from pytorch_lightning.loggers import WandbLogger\n",
    "import subprocess\n",
    "import wandb\n",
    "import auraloss\n",
    "import collections\n",
    "from tqdm import tqdm\n",
    "import librosa\n",
    "from torchaudio.pipelines import HDEMUCS_HIGH_MUSDB\n",
    "print(torch.cuda.is_available())\n",
    "from torch.optim import lr_scheduler\n",
    "import pretty_midi\n",
    "from typing import Optional, Tuple\n",
    "import numpy as np\n",
    "import random"
   ]
  },
  {
   "cell_type": "markdown",
   "id": "e1c82506-04c8-4200-9e63-26857aa176bd",
   "metadata": {},
   "source": [
    "# Set Seeds"
   ]
  },
  {
   "cell_type": "code",
   "execution_count": 3,
   "id": "db3acd3b-d177-44d3-a3f4-35140f45e48a",
   "metadata": {},
   "outputs": [],
   "source": [
    "seed_value = 3407\n",
    "torch.manual_seed(seed_value)\n",
    "random.seed(seed_value)\n",
    "np.random.seed(seed_value)\n",
    "torch.cuda.manual_seed(seed_value)\n",
    "torch.cuda.manual_seed_all(seed_value)\n",
    "torch.set_float32_matmul_precision('high')"
   ]
  },
  {
   "cell_type": "markdown",
   "id": "6182916a-aec1-4c05-8a08-4d2e44dfd979",
   "metadata": {},
   "source": [
    "# Construct Teh Datas"
   ]
  },
  {
   "cell_type": "code",
   "execution_count": 4,
   "id": "dbe5ef07-9ab9-4e3e-9334-048f67ae25e4",
   "metadata": {},
   "outputs": [],
   "source": [
    "path = \"D:/Github/phd-drum-sep/Data/musdb18hq/\""
   ]
  },
  {
   "cell_type": "code",
   "execution_count": 5,
   "id": "e101d3bb-e001-42ff-90cc-42384739d506",
   "metadata": {},
   "outputs": [
    {
     "data": {
      "text/plain": [
       "['test', 'train']"
      ]
     },
     "execution_count": 5,
     "metadata": {},
     "output_type": "execute_result"
    }
   ],
   "source": [
    "os.listdir(path)"
   ]
  },
  {
   "cell_type": "code",
   "execution_count": 6,
   "id": "c52ab99f-41d2-4b7f-a179-90681a8a0a81",
   "metadata": {},
   "outputs": [],
   "source": [
    "train = list(os.listdir(path+'train'))\n",
    "test = list(os.listdir(path+'test'))"
   ]
  },
  {
   "cell_type": "code",
   "execution_count": 7,
   "id": "21aa39ee-b25f-4bdc-950a-9389eb93765a",
   "metadata": {},
   "outputs": [],
   "source": [
    "sources = ['drum', 'bass', 'other', 'vocals']"
   ]
  },
  {
   "cell_type": "code",
   "execution_count": 8,
   "id": "f07f7f9c-2d6b-42b9-b5ac-0f4bd9aeb6a7",
   "metadata": {},
   "outputs": [
    {
     "name": "stderr",
     "output_type": "stream",
     "text": [
      "50it [00:00, 4259.30it/s]\n"
     ]
    }
   ],
   "source": [
    "all_scenes = {}\n",
    "counter = 0\n",
    "sample_rate = 44100\n",
    "segment_length = sample_rate * 1\n",
    "\n",
    "for idx, val in tqdm(enumerate(test)):\n",
    "    p = path + 'test/' + val + \"/\"\n",
    "    info = torchaudio.info(f\"{p}mixture.wav\")\n",
    "    seconds = info.num_frames // 44100\n",
    "    for i in range(0, seconds - 1, 1):\n",
    "        start_point = i * 44100\n",
    "        if start_point + 44100 < info.num_frames:\n",
    "            all_scenes[counter] = {'music_path': p, 'start_point': start_point, 'length': 44100, 'frames' : info.num_frames}\n",
    "            counter += 1"
   ]
  },
  {
   "cell_type": "code",
   "execution_count": 9,
   "id": "d6d4eb9a-f08d-4452-a4ad-b9769a218278",
   "metadata": {},
   "outputs": [],
   "source": [
    "def turn_transcription_into_roll(transcription, frames, threshold=1.0):\n",
    "    \"\"\"\n",
    "    Convert transcription into a piano roll, selectively including notes based on a threshold.\n",
    "    \n",
    "    Args:\n",
    "        transcription (music21.stream.Score): The transcription data.\n",
    "        frames (int): The number of frames in the output roll.\n",
    "        threshold (float): The threshold for including a note (0.0 to 1.0).\n",
    "    \n",
    "    Returns:\n",
    "        np.ndarray: The piano roll representation of the transcription.\n",
    "    \"\"\"\n",
    "    # Determine your sampling frequency (frames per second)\n",
    "    fs = 44100\n",
    "    \n",
    "    piano_roll_length = int(frames)\n",
    "    \n",
    "    # Initialize the piano roll array\n",
    "    piano_roll = np.zeros((64, piano_roll_length))\n",
    "    \n",
    "    # Fill in the piano roll array\n",
    "    for note in transcription.instruments[0].notes:\n",
    "        if random.random() <= threshold:\n",
    "            # Convert start and end times to frame indices\n",
    "            start_frame = int(np.floor(note.start * fs))\n",
    "            end_frame = int(np.ceil(note.end * fs))\n",
    "            \n",
    "            # Set the corresponding frames to 1 (or note.velocity for a velocity-sensitive representation)\n",
    "            piano_roll[note.pitch, start_frame:end_frame] = 1  # Or use note.velocity\n",
    "        \n",
    "    roll = np.vstack([\n",
    "        piano_roll[35:36, :],  # Kick\n",
    "        piano_roll[38:39, :],  # Snare\n",
    "        piano_roll[42:43, :],  # Hi-hat closed\n",
    "        piano_roll[47:48, :],  # Hi-hat open\n",
    "        piano_roll[49:50, :]   # Crash\n",
    "    ])\n",
    "    \n",
    "    return roll\n"
   ]
  },
  {
   "cell_type": "markdown",
   "id": "20988d30-a95e-4dca-ac19-a6f7cea95717",
   "metadata": {},
   "source": [
    "# model"
   ]
  },
  {
   "cell_type": "code",
   "execution_count": 10,
   "id": "b72a57b5-7115-421d-b26e-3ca3d21fef5d",
   "metadata": {},
   "outputs": [],
   "source": [
    "\n",
    "class ConvBlock(torch.nn.Module):\n",
    "    \"\"\"1D Convolutional block.\n",
    "\n",
    "    Args:\n",
    "        io_channels (int): The number of input/output channels, <B, Sc>\n",
    "        hidden_channels (int): The number of channels in the internal layers, <H>.\n",
    "        kernel_size (int): The convolution kernel size of the middle layer, <P>.\n",
    "        padding (int): Padding value of the convolution in the middle layer.\n",
    "        dilation (int, optional): Dilation value of the convolution in the middle layer.\n",
    "        no_redisual (bool, optional): Disable residual block/output.\n",
    "\n",
    "    Note:\n",
    "        This implementation corresponds to the \"non-causal\" setting in the paper.\n",
    "    \"\"\"\n",
    "\n",
    "    def __init__(\n",
    "        self,\n",
    "        io_channels: int,\n",
    "        hidden_channels: int,\n",
    "        kernel_size: int,\n",
    "        padding: int,\n",
    "        dilation: int = 1,\n",
    "        no_residual: bool = False,\n",
    "    ):\n",
    "        super().__init__()\n",
    "\n",
    "        self.conv_layers = torch.nn.Sequential(\n",
    "            torch.nn.Conv1d(in_channels=io_channels, out_channels=hidden_channels, kernel_size=1),\n",
    "            torch.nn.PReLU(),\n",
    "            torch.nn.GroupNorm(num_groups=1, num_channels=hidden_channels, eps=1e-08),\n",
    "            torch.nn.Conv1d(\n",
    "                in_channels=hidden_channels,\n",
    "                out_channels=hidden_channels,\n",
    "                kernel_size=kernel_size,\n",
    "                padding=padding,\n",
    "                dilation=dilation,\n",
    "                groups=hidden_channels,\n",
    "            ),\n",
    "            torch.nn.PReLU(),\n",
    "            torch.nn.GroupNorm(num_groups=1, num_channels=hidden_channels, eps=1e-08),\n",
    "        )\n",
    "\n",
    "        self.res_out = (\n",
    "            None\n",
    "            if no_residual\n",
    "            else torch.nn.Conv1d(in_channels=hidden_channels, out_channels=io_channels, kernel_size=1)\n",
    "        )\n",
    "        self.skip_out = torch.nn.Conv1d(in_channels=hidden_channels, out_channels=io_channels, kernel_size=1)\n",
    "\n",
    "    def forward(self, input: torch.Tensor) -> Tuple[Optional[torch.Tensor], torch.Tensor]:\n",
    "        feature = self.conv_layers(input)\n",
    "        if self.res_out is None:\n",
    "            residual = None\n",
    "        else:\n",
    "            residual = self.res_out(feature)\n",
    "        skip_out = self.skip_out(feature)\n",
    "        return residual, skip_out\n",
    "\n",
    "\n",
    "\n",
    "\n",
    "# In[12]:\n",
    "\n",
    "\n",
    "class MaskGenerator(torch.nn.Module):\n",
    "    \"\"\"TCN (Temporal Convolution Network) Separation Module\n",
    "\n",
    "    Generates masks for separation.\n",
    "\n",
    "    Args:\n",
    "        input_dim (int): Input feature dimension, <N>.\n",
    "        num_sources (int): The number of sources to separate.\n",
    "        kernel_size (int): The convolution kernel size of conv blocks, <P>.\n",
    "        num_featrs (int): Input/output feature dimenstion of conv blocks, <B, Sc>.\n",
    "        num_hidden (int): Intermediate feature dimention of conv blocks, <H>\n",
    "        num_layers (int): The number of conv blocks in one stack, <X>.\n",
    "        num_stacks (int): The number of conv block stacks, <R>.\n",
    "        msk_activate (str): The activation function of the mask output.\n",
    "\n",
    "    Note:\n",
    "        This implementation corresponds to the \"non-causal\" setting in the paper.\n",
    "    \"\"\"\n",
    "\n",
    "    def __init__(\n",
    "        self,\n",
    "        input_dim: int,\n",
    "        num_sources: int,\n",
    "        kernel_size: int,\n",
    "        num_feats: int,\n",
    "        num_hidden: int,\n",
    "        num_layers: int,\n",
    "        num_stacks: int,\n",
    "        msk_activate: str,\n",
    "    ):\n",
    "        super().__init__()\n",
    "\n",
    "        self.input_dim = input_dim\n",
    "        self.num_sources = num_sources\n",
    "\n",
    "        self.input_norm = torch.nn.GroupNorm(num_groups=1, num_channels=input_dim, eps=1e-8)\n",
    "        self.input_conv = torch.nn.Conv1d(in_channels=input_dim, out_channels=num_feats, kernel_size=1)\n",
    "\n",
    "        self.receptive_field = 0\n",
    "        self.conv_layers = torch.nn.ModuleList([])\n",
    "        for s in range(num_stacks):\n",
    "            for l in range(num_layers):\n",
    "                multi = 2**l\n",
    "                self.conv_layers.append(\n",
    "                    ConvBlock(\n",
    "                        io_channels=num_feats,\n",
    "                        hidden_channels=num_hidden,\n",
    "                        kernel_size=kernel_size,\n",
    "                        dilation=multi,\n",
    "                        padding=multi,\n",
    "                        # The last ConvBlock does not need residual\n",
    "                        no_residual=(l == (num_layers - 1) and s == (num_stacks - 1)),\n",
    "                    )\n",
    "                )\n",
    "                self.receptive_field += kernel_size if s == 0 and l == 0 else (kernel_size - 1) * multi\n",
    "        self.output_prelu = torch.nn.PReLU()\n",
    "        self.output_conv = torch.nn.Conv1d(\n",
    "            in_channels=num_feats,\n",
    "            out_channels=input_dim * num_sources,\n",
    "            kernel_size=1,\n",
    "        )\n",
    "        if msk_activate == \"sigmoid\":\n",
    "            self.mask_activate = torch.nn.Sigmoid()\n",
    "        elif msk_activate == \"relu\":\n",
    "            self.mask_activate = torch.nn.ReLU()\n",
    "        elif msk_activate == \"prelu\":\n",
    "            self.mask_activate = torch.nn.PReLU()\n",
    "        else:\n",
    "            raise ValueError(f\"Unsupported activation {msk_activate}\")\n",
    "\n",
    "    def forward(self, input: torch.Tensor) -> torch.Tensor:\n",
    "        \"\"\"Generate separation mask.\n",
    "\n",
    "        Args:\n",
    "            input (torch.Tensor): 3D Tensor with shape [batch, features, frames]\n",
    "\n",
    "        Returns:\n",
    "            Tensor: shape [batch, num_sources, features, frames]\n",
    "        \"\"\"\n",
    "        batch_size = input.shape[0]\n",
    "        feats = self.input_norm(input)\n",
    "        feats = self.input_conv(feats)\n",
    "        output = 0.0\n",
    "        for layer in self.conv_layers:\n",
    "            residual, skip = layer(feats)\n",
    "            if residual is not None:  # the last conv layer does not produce residual\n",
    "                feats = feats + residual\n",
    "            output = output + skip\n",
    "        output = self.output_prelu(output)\n",
    "        output = self.output_conv(output)\n",
    "        output = self.mask_activate(output)\n",
    "        return output.view(batch_size, self.num_sources, self.input_dim, -1)\n",
    "\n",
    "\n",
    "# In[13]:\n",
    "\n",
    "\n",
    "class ConvTasNet(torch.nn.Module):\n",
    "    \"\"\"Conv-TasNet architecture introduced in\n",
    "    *Conv-TasNet: Surpassing Ideal Time–Frequency Magnitude Masking for Speech Separation*\n",
    "    :cite:`Luo_2019`.\n",
    "\n",
    "    Note:\n",
    "        This implementation corresponds to the \"non-causal\" setting in the paper.\n",
    "\n",
    "    See Also:\n",
    "        * :class:`torchaudio.pipelines.SourceSeparationBundle`: Source separation pipeline with pre-trained models.\n",
    "\n",
    "    Args:\n",
    "        num_sources (int, optional): The number of sources to split.\n",
    "        enc_kernel_size (int, optional): The convolution kernel size of the encoder/decoder, <L>.\n",
    "        enc_num_feats (int, optional): The feature dimensions passed to mask generator, <N>.\n",
    "        msk_kernel_size (int, optional): The convolution kernel size of the mask generator, <P>.\n",
    "        msk_num_feats (int, optional): The input/output feature dimension of conv block in the mask generator, <B, Sc>.\n",
    "        msk_num_hidden_feats (int, optional): The internal feature dimension of conv block of the mask generator, <H>.\n",
    "        msk_num_layers (int, optional): The number of layers in one conv block of the mask generator, <X>.\n",
    "        msk_num_stacks (int, optional): The numbr of conv blocks of the mask generator, <R>.\n",
    "        msk_activate (str, optional): The activation function of the mask output (Default: ``sigmoid``).\n",
    "    \"\"\"\n",
    "\n",
    "    def __init__(\n",
    "        self,\n",
    "        num_sources: int = 2,\n",
    "        # encoder/decoder parameters\n",
    "        enc_kernel_size: int = 16,\n",
    "        enc_num_feats: int = 512,\n",
    "        # mask generator parameters\n",
    "        msk_kernel_size: int = 3,\n",
    "        msk_num_feats: int = 128,\n",
    "        msk_num_hidden_feats: int = 512,\n",
    "        msk_num_layers: int = 8,\n",
    "        msk_num_stacks: int = 3,\n",
    "        msk_activate: str = \"sigmoid\",\n",
    "    ):\n",
    "        super().__init__()\n",
    "\n",
    "        self.num_sources = num_sources\n",
    "        self.enc_num_feats = enc_num_feats\n",
    "        self.enc_kernel_size = enc_kernel_size\n",
    "        self.enc_stride = enc_kernel_size // 2\n",
    "\n",
    "        self.encoder = torch.nn.Conv1d(\n",
    "            in_channels=7,\n",
    "            out_channels=enc_num_feats,\n",
    "            kernel_size=enc_kernel_size,\n",
    "            stride=self.enc_stride,\n",
    "            padding=self.enc_stride,\n",
    "            bias=False,\n",
    "        )\n",
    "        self.mask_generator = MaskGenerator(\n",
    "            input_dim=enc_num_feats,\n",
    "            num_sources=num_sources,\n",
    "            kernel_size=msk_kernel_size,\n",
    "            num_feats=msk_num_feats,\n",
    "            num_hidden=msk_num_hidden_feats,\n",
    "            num_layers=msk_num_layers,\n",
    "            num_stacks=msk_num_stacks,\n",
    "            msk_activate=msk_activate,\n",
    "        )\n",
    "        self.decoder = torch.nn.ConvTranspose1d(\n",
    "            in_channels=enc_num_feats,\n",
    "            out_channels=2,\n",
    "            kernel_size=enc_kernel_size,\n",
    "            stride=self.enc_stride,\n",
    "            padding=self.enc_stride,\n",
    "            bias=False,\n",
    "        )\n",
    "\n",
    "    def _align_num_frames_with_strides(self, input: torch.Tensor) -> Tuple[torch.Tensor, int]:\n",
    "        \"\"\"Pad input Tensor so that the end of the input tensor corresponds with\n",
    "\n",
    "        1. (if kernel size is odd) the center of the last convolution kernel\n",
    "        or 2. (if kernel size is even) the end of the first half of the last convolution kernel\n",
    "\n",
    "        Assumption:\n",
    "            The resulting Tensor will be padded with the size of stride (== kernel_width // 2)\n",
    "            on the both ends in Conv1D\n",
    "\n",
    "        |<--- k_1 --->|\n",
    "        |      |            |<-- k_n-1 -->|\n",
    "        |      |                  |  |<--- k_n --->|\n",
    "        |      |                  |         |      |\n",
    "        |      |                  |         |      |\n",
    "        |      v                  v         v      |\n",
    "        |<---->|<--- input signal --->|<--->|<---->|\n",
    "         stride                         PAD  stride\n",
    "\n",
    "        Args:\n",
    "            input (torch.Tensor): 3D Tensor with shape (batch_size, channels==1, frames)\n",
    "\n",
    "        Returns:\n",
    "            Tensor: Padded Tensor\n",
    "            int: Number of paddings performed\n",
    "        \"\"\"\n",
    "        batch_size, num_channels, num_frames = input.shape\n",
    "        is_odd = self.enc_kernel_size % 2\n",
    "        num_strides = (num_frames - is_odd) // self.enc_stride\n",
    "        num_remainings = num_frames - (is_odd + num_strides * self.enc_stride)\n",
    "        if num_remainings == 0:\n",
    "            return input, 0\n",
    "\n",
    "        num_paddings = self.enc_stride - num_remainings\n",
    "        pad = torch.zeros(\n",
    "            batch_size,\n",
    "            num_channels,\n",
    "            num_paddings,\n",
    "            dtype=input.dtype,\n",
    "            device=input.device,\n",
    "        )\n",
    "        return torch.cat([input, pad], 2), num_paddings\n",
    "    \n",
    "    def forward(self, input: torch.Tensor) -> torch.Tensor:\n",
    "        \"\"\"Perform source separation. Generate audio source waveforms.\n",
    "\n",
    "        Args:\n",
    "            input (torch.Tensor): 3D Tensor with shape [batch, channel==1, frames]\n",
    "\n",
    "        Returns:\n",
    "            Tensor: 3D Tensor with shape [batch, channel==num_sources, frames]\n",
    "        \"\"\"\n",
    "\n",
    "        # B: batch size\n",
    "        # L: input frame length\n",
    "        # L': padded input frame length\n",
    "        # F: feature dimension\n",
    "        # M: feature frame length\n",
    "        # S: number of sources\n",
    "\n",
    "        padded, num_pads = self._align_num_frames_with_strides(input)  # B, 1, L'\n",
    "        batch_size, num_padded_frames = padded.shape[0], padded.shape[2]\n",
    "        feats = self.encoder(padded)  # B, F, M\n",
    "        masked = self.mask_generator(feats) * feats.unsqueeze(1)  # B, S, F, M\n",
    "        masked = masked.view(batch_size * self.num_sources, self.enc_num_feats, -1)  # B*S, F, M\n",
    "        decoded = self.decoder(masked)  # B*S, 1, L'\n",
    "        out = decoded.reshape(batch_size, 4, -1)\n",
    "        # print(out.shape)\n",
    "        return out\n",
    "\n",
    "\n",
    "# In[14]:\n",
    "\n",
    "\n",
    "class DrumConvTasnet(pl.LightningModule):\n",
    "    def __init__(self):\n",
    "        super(DrumConvTasnet, self).__init__()\n",
    "\n",
    "        self.loss_fn = auraloss.freq.MultiResolutionSTFTLoss(\n",
    "                    fft_sizes=[1024, 2048, 4096],\n",
    "                    hop_sizes=[256, 512, 1024],\n",
    "                    win_lengths=[1024, 2048, 4096],\n",
    "                    scale=\"mel\", \n",
    "                    n_bins=150,\n",
    "                    sample_rate=44100,\n",
    "                    device=\"cuda\"\n",
    "                )\n",
    "\n",
    "        self.loss_fn_2 = auraloss.time.SISDRLoss()\n",
    "\n",
    "        self.loss_fn_3 = torch.nn.L1Loss()\n",
    "\n",
    "        self.loss_used = 0\n",
    "        \n",
    "        self.conv_tasnet =  ConvTasNet(\n",
    "            num_sources=2,\n",
    "            enc_kernel_size=16,\n",
    "            enc_num_feats=512,\n",
    "            msk_kernel_size=3,\n",
    "            msk_num_feats=128,\n",
    "            msk_num_hidden_feats=512,\n",
    "            msk_num_layers=8,\n",
    "            msk_num_stacks=3,\n",
    "            msk_activate=\"prelu\",\n",
    "        )\n",
    "\n",
    "        self.out = nn.Conv1d(4, 2, kernel_size=1)\n",
    "\n",
    "    def compute_loss(self, outputs, ref_signals):\n",
    "        loss = self.loss_fn(outputs, ref_signals) + self.loss_fn_2(outputs, ref_signals) +  self.loss_fn_3(outputs, ref_signals)\n",
    "        return loss\n",
    "\n",
    "    def forward(self, audio, drumroll):\n",
    "        to_mix = torch.cat([audio, drumroll], axis=1)\n",
    "        out = self.conv_tasnet(to_mix)\n",
    "        out = self.out(out)\n",
    "        return out\n",
    "    \n",
    "    def training_step(self, batch, batch_idx):\n",
    "        # training_step defines the train loop. It is independent of forward\n",
    "        audio, drum, drumroll = batch\n",
    "        \n",
    "        outputs = self.forward(audio, drumroll)\n",
    "        # print(outputs.size())\n",
    "\n",
    "        if batch_idx % 64 == 0:\n",
    "            input_signal = audio[0].cpu().detach().numpy().T\n",
    "            generated_signal = outputs[0].cpu().detach().numpy().T\n",
    "            drum_signal = drum[0].cpu().detach().numpy().T \n",
    "            wandb.log({'audio_input': [wandb.Audio(input_signal, caption=\"Input\", sample_rate=44100)]})\n",
    "            wandb.log({'audio_reference': [wandb.Audio(drum_signal, caption=\"Reference\", sample_rate=44100)]})\n",
    "            wandb.log({'audio_output': [wandb.Audio(generated_signal, caption=\"Output\", sample_rate=44100)]})\n",
    "             \n",
    "            for i in range(5):\n",
    "                wandb.log({f'drum_{i + 1}': [wandb.Audio(drumroll[0].cpu().detach().numpy()[i, :], caption=\"Output\", sample_rate=44100)]})\n",
    "\n",
    "\n",
    "        loss = self.compute_loss(outputs, drum)         \n",
    "\n",
    "        self.log('train_loss', loss, on_step=True, on_epoch=True, prog_bar=True, logger=True)\n",
    "        \n",
    "        return loss\n",
    "    \n",
    "\n",
    "    def configure_optimizers(self):\n",
    "        # Define your optimizer and optionally learning rate scheduler here\n",
    "        optimizer = optim.Adam(self.parameters(), lr=0.001)\n",
    "        scheduler = lr_scheduler.StepLR(optimizer, step_size=1, gamma=0.99)\n",
    "        return [optimizer], [scheduler]\n",
    "        \n",
    " \n"
   ]
  },
  {
   "cell_type": "code",
   "execution_count": 11,
   "id": "79d11190-4e68-41f8-ae19-36d8199c1643",
   "metadata": {},
   "outputs": [],
   "source": [
    "def load_audio(path, start_point, filename):\n",
    "    audio_tensors = []\n",
    "    waveform, _ = torchaudio.load(f\"{path}/{filename}\")\n",
    "    return waveform\n",
    "\n",
    "def load_roll(path, start_point, frames, threshold=1.0):\n",
    "    midi = path + '/mixture.wav.mid'\n",
    "    transcription = pretty_midi.PrettyMIDI(midi)\n",
    "    roll = turn_transcription_into_roll(transcription, frames, threshold)\n",
    "\n",
    "    return torch.from_numpy(roll).float()\n"
   ]
  },
  {
   "cell_type": "markdown",
   "id": "28a00457-307d-4743-9784-9f4cdae73730",
   "metadata": {},
   "source": [
    "# SISNR"
   ]
  },
  {
   "cell_type": "code",
   "execution_count": 12,
   "id": "3873fcee-a3cb-4975-98f5-fc50e77883fa",
   "metadata": {},
   "outputs": [],
   "source": [
    "def separate_sources(\n",
    "    model,\n",
    "    mix,\n",
    "    drumroll,\n",
    "    segment=4.0,\n",
    "    overlap=0,\n",
    "    device=None,\n",
    "):\n",
    "    \"\"\"\n",
    "    Apply model to a given mixture. Use fade, and add segments together in order to add model segment by segment.\n",
    "\n",
    "    Args:\n",
    "        segment (int): segment length in seconds\n",
    "        device (torch.device, str, or None): if provided, device on which to\n",
    "            execute the computation, otherwise `mix.device` is assumed.\n",
    "            When `device` is different from `mix.device`, only local computations will\n",
    "            be on `device`, while the entire tracks will be stored on `mix.device`.\n",
    "    \"\"\"\n",
    "    if device is None:\n",
    "        device = mix.device\n",
    "    else:\n",
    "        device = torch.device(device)\n",
    "\n",
    "    batch, channels, length = mix.shape\n",
    "\n",
    "    chunk_len = int(sample_rate * segment * (1 + overlap))\n",
    "    start = 0\n",
    "    end = chunk_len\n",
    "    overlap_frames = overlap * sample_rate\n",
    "    fade = Fade(fade_in_len=0, fade_out_len=int(overlap_frames), fade_shape=\"linear\")\n",
    "\n",
    "    final = torch.zeros(batch, channels, length, device=device)\n",
    "\n",
    "    while start < length - overlap_frames:\n",
    "        chunk = mix[:, :, start:end]\n",
    "        roll = drumroll[:, :, start:end]\n",
    "        \n",
    "        with torch.no_grad():\n",
    "            out = model.forward(chunk, roll)\n",
    "        # print(out.shape)\n",
    "        out = fade(out)\n",
    "        # print(out.shape)\n",
    "        try:\n",
    "            final[:, :, start:end] += out\n",
    "        except:\n",
    "            pass\n",
    "        if start == 0:\n",
    "            fade.fade_in_len = int(overlap_frames)\n",
    "            start += int(chunk_len - overlap_frames)\n",
    "        else:\n",
    "            start += chunk_len\n",
    "        end += chunk_len\n",
    "        if end >= length:\n",
    "            fade.fade_out_len = 0\n",
    "    return final"
   ]
  },
  {
   "cell_type": "code",
   "execution_count": 13,
   "id": "b97a63a5-d58e-47db-9768-e063efd5da5a",
   "metadata": {},
   "outputs": [],
   "source": [
    "class AudioData:\n",
    "    def __init__(self, audio):\n",
    "        self.audio = audio"
   ]
  },
  {
   "cell_type": "code",
   "execution_count": 14,
   "id": "0bc5296c-89cf-4321-98dd-5ed9ca7d325a",
   "metadata": {},
   "outputs": [],
   "source": [
    "duration = 64 * 44100"
   ]
  },
  {
   "cell_type": "code",
   "execution_count": 15,
   "id": "bcf06e62-3267-4faf-838f-70f14be50e92",
   "metadata": {},
   "outputs": [
    {
     "name": "stderr",
     "output_type": "stream",
     "text": [
      "C:\\Python311\\Lib\\site-packages\\pytorch_lightning\\utilities\\migration\\utils.py:55: The loaded checkpoint was produced with Lightning v2.2.1, which is newer than your current Lightning version: v2.1.2\n",
      "  2%|███▋                                                                                                                                                                                       | 1/50 [00:17<14:07, 17.29s/it]"
     ]
    },
    {
     "name": "stdout",
     "output_type": "stream",
     "text": [
      "drums           ==> SDR:   4.906  SIR: 209.657  ISR:   7.194  SAR:   3.430  \n",
      "bass            ==> SDR:   4.906  SIR: 209.657  ISR:   7.194  SAR:   3.430  \n",
      "\n"
     ]
    },
    {
     "name": "stderr",
     "output_type": "stream",
     "text": [
      "  4%|███████▍                                                                                                                                                                                   | 2/50 [00:32<12:42, 15.89s/it]"
     ]
    },
    {
     "name": "stdout",
     "output_type": "stream",
     "text": [
      "drums           ==> SDR:   2.475  SIR: 176.463  ISR:   5.701  SAR:  -0.456  \n",
      "bass            ==> SDR:   2.475  SIR: 176.463  ISR:   5.701  SAR:  -0.456  \n",
      "\n"
     ]
    },
    {
     "name": "stderr",
     "output_type": "stream",
     "text": [
      "  6%|███████████▏                                                                                                                                                                               | 3/50 [00:47<12:20, 15.77s/it]"
     ]
    },
    {
     "name": "stdout",
     "output_type": "stream",
     "text": [
      "drums           ==> SDR:   3.608  SIR: 226.301  ISR:   6.561  SAR:   2.315  \n",
      "bass            ==> SDR:   3.608  SIR: 226.301  ISR:   6.561  SAR:   2.315  \n",
      "\n"
     ]
    },
    {
     "name": "stderr",
     "output_type": "stream",
     "text": [
      "  8%|██████████████▉                                                                                                                                                                            | 4/50 [01:02<11:51, 15.47s/it]"
     ]
    },
    {
     "name": "stdout",
     "output_type": "stream",
     "text": [
      "drums           ==> SDR:   0.048  SIR: 228.662  ISR:   6.129  SAR:  -3.521  \n",
      "bass            ==> SDR:   0.048  SIR: 228.662  ISR:   6.129  SAR:  -3.521  \n",
      "\n"
     ]
    },
    {
     "name": "stderr",
     "output_type": "stream",
     "text": [
      " 10%|██████████████████▋                                                                                                                                                                        | 5/50 [01:18<11:38, 15.53s/it]"
     ]
    },
    {
     "name": "stdout",
     "output_type": "stream",
     "text": [
      "drums           ==> SDR:   7.610  SIR: 196.492  ISR:  10.717  SAR:   8.071  \n",
      "bass            ==> SDR:   7.610  SIR: 196.492  ISR:  10.717  SAR:   8.071  \n",
      "\n"
     ]
    },
    {
     "name": "stderr",
     "output_type": "stream",
     "text": [
      " 12%|██████████████████████▍                                                                                                                                                                    | 6/50 [01:33<11:15, 15.36s/it]"
     ]
    },
    {
     "name": "stdout",
     "output_type": "stream",
     "text": [
      "drums           ==> SDR:   3.785  SIR: 234.538  ISR:   6.839  SAR:   2.740  \n",
      "bass            ==> SDR:   3.785  SIR: 234.538  ISR:   6.839  SAR:   2.740  \n",
      "\n"
     ]
    },
    {
     "name": "stderr",
     "output_type": "stream",
     "text": [
      " 14%|██████████████████████████▏                                                                                                                                                                | 7/50 [01:48<10:56, 15.28s/it]"
     ]
    },
    {
     "name": "stdout",
     "output_type": "stream",
     "text": [
      "drums           ==> SDR:   4.173  SIR: 218.357  ISR:   8.586  SAR:   2.571  \n",
      "bass            ==> SDR:   4.173  SIR: 218.357  ISR:   8.586  SAR:   2.571  \n",
      "\n"
     ]
    },
    {
     "name": "stderr",
     "output_type": "stream",
     "text": [
      " 16%|█████████████████████████████▉                                                                                                                                                             | 8/50 [02:03<10:39, 15.23s/it]"
     ]
    },
    {
     "name": "stdout",
     "output_type": "stream",
     "text": [
      "drums           ==> SDR:   2.642  SIR: 241.095  ISR:   5.624  SAR:   0.278  \n",
      "bass            ==> SDR:   2.642  SIR: 241.095  ISR:   5.624  SAR:   0.278  \n",
      "\n"
     ]
    },
    {
     "name": "stderr",
     "output_type": "stream",
     "text": [
      " 18%|█████████████████████████████████▋                                                                                                                                                         | 9/50 [02:19<10:26, 15.28s/it]"
     ]
    },
    {
     "name": "stdout",
     "output_type": "stream",
     "text": [
      "drums           ==> SDR:   4.634  SIR: 160.729  ISR:   6.275  SAR:   5.311  \n",
      "bass            ==> SDR:   4.634  SIR: 160.729  ISR:   6.275  SAR:   5.311  \n",
      "\n"
     ]
    },
    {
     "name": "stderr",
     "output_type": "stream",
     "text": [
      " 20%|█████████████████████████████████████▏                                                                                                                                                    | 10/50 [02:34<10:10, 15.26s/it]"
     ]
    },
    {
     "name": "stdout",
     "output_type": "stream",
     "text": [
      "drums           ==> SDR: -10.082  SIR: 173.888  ISR:   4.227  SAR: -14.995  \n",
      "bass            ==> SDR: -10.082  SIR: 173.888  ISR:   4.227  SAR: -14.995  \n",
      "\n"
     ]
    },
    {
     "name": "stderr",
     "output_type": "stream",
     "text": [
      " 22%|████████████████████████████████████████▉                                                                                                                                                 | 11/50 [02:49<09:55, 15.28s/it]"
     ]
    },
    {
     "name": "stdout",
     "output_type": "stream",
     "text": [
      "drums           ==> SDR:   6.659  SIR: 217.606  ISR:   9.345  SAR:   7.560  \n",
      "bass            ==> SDR:   6.659  SIR: 217.606  ISR:   9.345  SAR:   7.560  \n",
      "\n"
     ]
    },
    {
     "name": "stderr",
     "output_type": "stream",
     "text": [
      " 24%|████████████████████████████████████████████▋                                                                                                                                             | 12/50 [03:04<09:36, 15.18s/it]"
     ]
    },
    {
     "name": "stdout",
     "output_type": "stream",
     "text": [
      "drums           ==> SDR:   4.376  SIR: 223.393  ISR:   5.827  SAR:   4.681  \n",
      "bass            ==> SDR:   4.376  SIR: 223.393  ISR:   5.827  SAR:   4.681  \n",
      "\n"
     ]
    },
    {
     "name": "stderr",
     "output_type": "stream",
     "text": [
      " 26%|████████████████████████████████████████████████▎                                                                                                                                         | 13/50 [03:19<09:13, 14.96s/it]"
     ]
    },
    {
     "name": "stdout",
     "output_type": "stream",
     "text": [
      "drums           ==> SDR:   2.222  SIR:  90.175  ISR:   3.226  SAR:   1.501  \n",
      "bass            ==> SDR:   2.222  SIR:  90.175  ISR:   3.226  SAR:   1.501  \n",
      "\n"
     ]
    },
    {
     "name": "stderr",
     "output_type": "stream",
     "text": [
      " 28%|████████████████████████████████████████████████████                                                                                                                                      | 14/50 [03:34<09:00, 15.00s/it]"
     ]
    },
    {
     "name": "stdout",
     "output_type": "stream",
     "text": [
      "drums           ==> SDR:   7.171  SIR: 205.092  ISR:  12.736  SAR:   7.085  \n",
      "bass            ==> SDR:   7.171  SIR: 205.092  ISR:  12.736  SAR:   7.085  \n",
      "\n"
     ]
    },
    {
     "name": "stderr",
     "output_type": "stream",
     "text": [
      " 30%|███████████████████████████████████████████████████████▊                                                                                                                                  | 15/50 [03:49<08:47, 15.09s/it]"
     ]
    },
    {
     "name": "stdout",
     "output_type": "stream",
     "text": [
      "drums           ==> SDR:   4.210  SIR: 213.693  ISR:   6.982  SAR:   2.793  \n",
      "bass            ==> SDR:   4.210  SIR: 213.693  ISR:   6.982  SAR:   2.793  \n",
      "\n"
     ]
    },
    {
     "name": "stderr",
     "output_type": "stream",
     "text": [
      " 32%|███████████████████████████████████████████████████████████▌                                                                                                                              | 16/50 [04:04<08:30, 15.03s/it]"
     ]
    },
    {
     "name": "stdout",
     "output_type": "stream",
     "text": [
      "drums           ==> SDR:   3.313  SIR: 212.915  ISR:   6.764  SAR:   1.200  \n",
      "bass            ==> SDR:   3.313  SIR: 212.915  ISR:   6.764  SAR:   1.200  \n",
      "\n"
     ]
    },
    {
     "name": "stderr",
     "output_type": "stream",
     "text": [
      " 34%|███████████████████████████████████████████████████████████████▏                                                                                                                          | 17/50 [04:19<08:19, 15.15s/it]"
     ]
    },
    {
     "name": "stdout",
     "output_type": "stream",
     "text": [
      "drums           ==> SDR:   1.258  SIR: 219.789  ISR:   4.494  SAR:  -3.155  \n",
      "bass            ==> SDR:   1.258  SIR: 219.789  ISR:   4.494  SAR:  -3.155  \n",
      "\n"
     ]
    },
    {
     "name": "stderr",
     "output_type": "stream",
     "text": [
      " 36%|██████████████████████████████████████████████████████████████████▉                                                                                                                       | 18/50 [04:35<08:15, 15.47s/it]"
     ]
    },
    {
     "name": "stdout",
     "output_type": "stream",
     "text": [
      "drums           ==> SDR:   6.670  SIR: 189.457  ISR:   9.508  SAR:   7.209  \n",
      "bass            ==> SDR:   6.670  SIR: 189.457  ISR:   9.508  SAR:   7.209  \n",
      "\n"
     ]
    },
    {
     "name": "stderr",
     "output_type": "stream",
     "text": [
      " 38%|██████████████████████████████████████████████████████████████████████▋                                                                                                                   | 19/50 [04:52<08:07, 15.72s/it]"
     ]
    },
    {
     "name": "stdout",
     "output_type": "stream",
     "text": [
      "drums           ==> SDR:   8.740  SIR: 226.370  ISR:  11.918  SAR:   9.591  \n",
      "bass            ==> SDR:   8.740  SIR: 226.370  ISR:  11.918  SAR:   9.591  \n",
      "\n"
     ]
    },
    {
     "name": "stderr",
     "output_type": "stream",
     "text": [
      " 40%|██████████████████████████████████████████████████████████████████████████▍                                                                                                               | 20/50 [05:08<07:54, 15.81s/it]"
     ]
    },
    {
     "name": "stdout",
     "output_type": "stream",
     "text": [
      "drums           ==> SDR:   2.602  SIR: 210.622  ISR:   3.214  SAR:   5.675  \n",
      "bass            ==> SDR:   2.602  SIR: 210.622  ISR:   3.214  SAR:   5.675  \n",
      "\n"
     ]
    },
    {
     "name": "stderr",
     "output_type": "stream",
     "text": [
      " 42%|██████████████████████████████████████████████████████████████████████████████                                                                                                            | 21/50 [05:23<07:35, 15.70s/it]"
     ]
    },
    {
     "name": "stdout",
     "output_type": "stream",
     "text": [
      "drums           ==> SDR:   6.315  SIR: 177.426  ISR:   8.621  SAR:   8.422  \n",
      "bass            ==> SDR:   6.315  SIR: 177.426  ISR:   8.621  SAR:   8.422  \n",
      "\n"
     ]
    },
    {
     "name": "stderr",
     "output_type": "stream",
     "text": [
      " 44%|█████████████████████████████████████████████████████████████████████████████████▊                                                                                                        | 22/50 [05:39<07:16, 15.60s/it]"
     ]
    },
    {
     "name": "stdout",
     "output_type": "stream",
     "text": [
      "drums           ==> SDR:  -5.120  SIR: 270.839  ISR:  -1.143  SAR: -14.496  \n",
      "bass            ==> SDR:  -5.120  SIR: 270.839  ISR:  -1.143  SAR: -14.496  \n",
      "\n"
     ]
    },
    {
     "name": "stderr",
     "output_type": "stream",
     "text": [
      " 46%|█████████████████████████████████████████████████████████████████████████████████████▌                                                                                                    | 23/50 [05:55<07:04, 15.71s/it]"
     ]
    },
    {
     "name": "stdout",
     "output_type": "stream",
     "text": [
      "drums           ==> SDR:   2.870  SIR: 162.569  ISR:   5.873  SAR:   1.414  \n",
      "bass            ==> SDR:   2.870  SIR: 162.569  ISR:   5.873  SAR:   1.414  \n",
      "\n"
     ]
    },
    {
     "name": "stderr",
     "output_type": "stream",
     "text": [
      " 48%|█████████████████████████████████████████████████████████████████████████████████████████▎                                                                                                | 24/50 [06:10<06:46, 15.62s/it]"
     ]
    },
    {
     "name": "stdout",
     "output_type": "stream",
     "text": [
      "drums           ==> SDR:   4.339  SIR: 133.377  ISR:   7.512  SAR:   4.426  \n",
      "bass            ==> SDR:   4.339  SIR: 133.377  ISR:   7.512  SAR:   4.426  \n",
      "\n"
     ]
    },
    {
     "name": "stderr",
     "output_type": "stream",
     "text": [
      " 50%|█████████████████████████████████████████████████████████████████████████████████████████████                                                                                             | 25/50 [06:25<06:28, 15.53s/it]"
     ]
    },
    {
     "name": "stdout",
     "output_type": "stream",
     "text": [
      "drums           ==> SDR:   1.378  SIR: 220.567  ISR:   2.578  SAR:  -0.198  \n",
      "bass            ==> SDR:   1.378  SIR: 220.567  ISR:   2.578  SAR:  -0.198  \n",
      "\n"
     ]
    },
    {
     "name": "stderr",
     "output_type": "stream",
     "text": [
      " 52%|████████████████████████████████████████████████████████████████████████████████████████████████▋                                                                                         | 26/50 [06:41<06:11, 15.46s/it]"
     ]
    },
    {
     "name": "stdout",
     "output_type": "stream",
     "text": [
      "drums           ==> SDR:   9.127  SIR: 175.816  ISR:  12.825  SAR:   9.590  \n",
      "bass            ==> SDR:   9.127  SIR: 175.816  ISR:  12.825  SAR:   9.590  \n",
      "\n"
     ]
    },
    {
     "name": "stderr",
     "output_type": "stream",
     "text": [
      " 54%|████████████████████████████████████████████████████████████████████████████████████████████████████▍                                                                                     | 27/50 [06:57<06:01, 15.73s/it]"
     ]
    },
    {
     "name": "stdout",
     "output_type": "stream",
     "text": [
      "drums           ==> SDR:   7.094  SIR: 187.126  ISR:  12.519  SAR:   6.423  \n",
      "bass            ==> SDR:   7.094  SIR: 187.126  ISR:  12.519  SAR:   6.423  \n",
      "\n"
     ]
    },
    {
     "name": "stderr",
     "output_type": "stream",
     "text": [
      " 56%|████████████████████████████████████████████████████████████████████████████████████████████████████████▏                                                                                 | 28/50 [07:13<05:50, 15.91s/it]"
     ]
    },
    {
     "name": "stdout",
     "output_type": "stream",
     "text": [
      "drums           ==> SDR:   7.585  SIR: 192.250  ISR:   8.876  SAR:  10.136  \n",
      "bass            ==> SDR:   7.585  SIR: 192.250  ISR:   8.876  SAR:  10.136  \n",
      "\n"
     ]
    },
    {
     "name": "stderr",
     "output_type": "stream",
     "text": [
      " 58%|███████████████████████████████████████████████████████████████████████████████████████████████████████████▉                                                                              | 29/50 [07:30<05:36, 16.04s/it]"
     ]
    },
    {
     "name": "stdout",
     "output_type": "stream",
     "text": [
      "drums           ==> SDR:   4.323  SIR: 186.051  ISR:   5.710  SAR:   5.406  \n",
      "bass            ==> SDR:   4.323  SIR: 186.051  ISR:   5.710  SAR:   5.406  \n",
      "\n"
     ]
    },
    {
     "name": "stderr",
     "output_type": "stream",
     "text": [
      " 60%|███████████████████████████████████████████████████████████████████████████████████████████████████████████████▌                                                                          | 30/50 [07:46<05:21, 16.09s/it]"
     ]
    },
    {
     "name": "stdout",
     "output_type": "stream",
     "text": [
      "drums           ==> SDR:   4.875  SIR: 214.711  ISR:   6.788  SAR:   4.234  \n",
      "bass            ==> SDR:   4.875  SIR: 214.711  ISR:   6.788  SAR:   4.234  \n",
      "\n"
     ]
    },
    {
     "name": "stderr",
     "output_type": "stream",
     "text": [
      " 62%|███████████████████████████████████████████████████████████████████████████████████████████████████████████████████▎                                                                      | 31/50 [08:02<05:07, 16.17s/it]"
     ]
    },
    {
     "name": "stdout",
     "output_type": "stream",
     "text": [
      "drums           ==> SDR:   2.125  SIR: 195.110  ISR:   7.876  SAR:   0.407  \n",
      "bass            ==> SDR:   2.125  SIR: 195.110  ISR:   7.876  SAR:   0.407  \n",
      "\n"
     ]
    },
    {
     "name": "stderr",
     "output_type": "stream",
     "text": [
      " 64%|███████████████████████████████████████████████████████████████████████████████████████████████████████████████████████                                                                   | 32/50 [08:19<04:52, 16.24s/it]"
     ]
    },
    {
     "name": "stdout",
     "output_type": "stream",
     "text": [
      "drums           ==> SDR:   1.610  SIR: 189.936  ISR:   3.086  SAR:  -1.028  \n",
      "bass            ==> SDR:   1.610  SIR: 189.936  ISR:   3.086  SAR:  -1.028  \n",
      "\n"
     ]
    },
    {
     "name": "stderr",
     "output_type": "stream",
     "text": [
      " 66%|██████████████████████████████████████████████████████████████████████████████████████████████████████████████████████████▊                                                               | 33/50 [08:34<04:33, 16.10s/it]"
     ]
    },
    {
     "name": "stdout",
     "output_type": "stream",
     "text": [
      "drums           ==> SDR:   1.035  SIR: 228.125  ISR:   4.338  SAR:  -1.060  \n",
      "bass            ==> SDR:   1.035  SIR: 228.125  ISR:   4.338  SAR:  -1.060  \n",
      "\n"
     ]
    },
    {
     "name": "stderr",
     "output_type": "stream",
     "text": [
      " 68%|██████████████████████████████████████████████████████████████████████████████████████████████████████████████████████████████▍                                                           | 34/50 [08:51<04:19, 16.24s/it]"
     ]
    },
    {
     "name": "stdout",
     "output_type": "stream",
     "text": [
      "drums           ==> SDR:   3.416  SIR: 244.739  ISR:   6.555  SAR:   2.141  \n",
      "bass            ==> SDR:   3.416  SIR: 244.739  ISR:   6.555  SAR:   2.141  \n",
      "\n"
     ]
    },
    {
     "name": "stderr",
     "output_type": "stream",
     "text": [
      " 70%|██████████████████████████████████████████████████████████████████████████████████████████████████████████████████████████████████▏                                                       | 35/50 [09:07<04:00, 16.05s/it]"
     ]
    },
    {
     "name": "stdout",
     "output_type": "stream",
     "text": [
      "drums           ==> SDR:   7.389  SIR: 217.769  ISR:  10.444  SAR:   8.541  \n",
      "bass            ==> SDR:   7.389  SIR: 217.769  ISR:  10.444  SAR:   8.541  \n",
      "\n"
     ]
    },
    {
     "name": "stderr",
     "output_type": "stream",
     "text": [
      " 72%|█████████████████████████████████████████████████████████████████████████████████████████████████████████████████████████████████████▉                                                    | 36/50 [09:22<03:40, 15.76s/it]"
     ]
    },
    {
     "name": "stdout",
     "output_type": "stream",
     "text": [
      "drums           ==> SDR:   0.905  SIR: 199.585  ISR:   3.468  SAR:  -3.654  \n",
      "bass            ==> SDR:   0.905  SIR: 199.585  ISR:   3.468  SAR:  -3.654  \n",
      "\n"
     ]
    },
    {
     "name": "stderr",
     "output_type": "stream",
     "text": [
      " 74%|█████████████████████████████████████████████████████████████████████████████████████████████████████████████████████████████████████████▋                                                | 37/50 [09:38<03:27, 15.96s/it]"
     ]
    },
    {
     "name": "stdout",
     "output_type": "stream",
     "text": [
      "drums           ==> SDR:   3.360  SIR: 201.462  ISR:  10.950  SAR:   1.579  \n",
      "bass            ==> SDR:   3.360  SIR: 201.462  ISR:  10.950  SAR:   1.579  \n",
      "\n"
     ]
    },
    {
     "name": "stderr",
     "output_type": "stream",
     "text": [
      " 76%|█████████████████████████████████████████████████████████████████████████████████████████████████████████████████████████████████████████████▎                                            | 38/50 [09:55<03:14, 16.19s/it]"
     ]
    },
    {
     "name": "stdout",
     "output_type": "stream",
     "text": [
      "drums           ==> SDR:   5.707  SIR: 224.201  ISR:   6.999  SAR:   3.454  \n",
      "bass            ==> SDR:   5.707  SIR: 224.201  ISR:   6.999  SAR:   3.454  \n",
      "\n"
     ]
    },
    {
     "name": "stderr",
     "output_type": "stream",
     "text": [
      " 78%|█████████████████████████████████████████████████████████████████████████████████████████████████████████████████████████████████████████████████                                         | 39/50 [10:12<03:01, 16.54s/it]"
     ]
    },
    {
     "name": "stdout",
     "output_type": "stream",
     "text": [
      "drums           ==> SDR:   3.039  SIR: 224.498  ISR:   4.352  SAR:   2.659  \n",
      "bass            ==> SDR:   3.039  SIR: 224.498  ISR:   4.352  SAR:   2.659  \n",
      "\n"
     ]
    },
    {
     "name": "stderr",
     "output_type": "stream",
     "text": [
      " 80%|████████████████████████████████████████████████████████████████████████████████████████████████████████████████████████████████████████████████████▊                                     | 40/50 [10:31<02:50, 17.09s/it]"
     ]
    },
    {
     "name": "stdout",
     "output_type": "stream",
     "text": [
      "drums           ==> SDR:   2.443  SIR: 171.705  ISR:   4.097  SAR:   0.092  \n",
      "bass            ==> SDR:   2.443  SIR: 171.705  ISR:   4.097  SAR:   0.092  \n",
      "\n"
     ]
    },
    {
     "name": "stderr",
     "output_type": "stream",
     "text": [
      " 82%|████████████████████████████████████████████████████████████████████████████████████████████████████████████████████████████████████████████████████████▌                                 | 41/50 [10:48<02:35, 17.24s/it]"
     ]
    },
    {
     "name": "stdout",
     "output_type": "stream",
     "text": [
      "drums           ==> SDR:   4.017  SIR: 178.086  ISR:   7.389  SAR:   3.821  \n",
      "bass            ==> SDR:   4.017  SIR: 178.086  ISR:   7.389  SAR:   3.821  \n",
      "\n"
     ]
    },
    {
     "name": "stderr",
     "output_type": "stream",
     "text": [
      " 84%|████████████████████████████████████████████████████████████████████████████████████████████████████████████████████████████████████████████████████████████▏                             | 42/50 [11:06<02:20, 17.54s/it]"
     ]
    },
    {
     "name": "stdout",
     "output_type": "stream",
     "text": [
      "drums           ==> SDR:   5.024  SIR: 112.282  ISR:   7.052  SAR:   4.288  \n",
      "bass            ==> SDR:   5.024  SIR: 112.282  ISR:   7.052  SAR:   4.288  \n",
      "\n"
     ]
    },
    {
     "name": "stderr",
     "output_type": "stream",
     "text": [
      " 86%|███████████████████████████████████████████████████████████████████████████████████████████████████████████████████████████████████████████████████████████████▉                          | 43/50 [11:24<02:03, 17.71s/it]"
     ]
    },
    {
     "name": "stdout",
     "output_type": "stream",
     "text": [
      "drums           ==> SDR:   2.928  SIR: 177.987  ISR:   5.186  SAR:   0.626  \n",
      "bass            ==> SDR:   2.928  SIR: 177.987  ISR:   5.186  SAR:   0.626  \n",
      "\n"
     ]
    },
    {
     "name": "stderr",
     "output_type": "stream",
     "text": [
      " 88%|███████████████████████████████████████████████████████████████████████████████████████████████████████████████████████████████████████████████████████████████████▋                      | 44/50 [11:40<01:42, 17.04s/it]"
     ]
    },
    {
     "name": "stdout",
     "output_type": "stream",
     "text": [
      "drums           ==> SDR:   3.351  SIR: 218.031  ISR:   4.704  SAR:   2.062  \n",
      "bass            ==> SDR:   3.351  SIR: 218.031  ISR:   4.704  SAR:   2.062  \n",
      "\n"
     ]
    },
    {
     "name": "stderr",
     "output_type": "stream",
     "text": [
      " 90%|███████████████████████████████████████████████████████████████████████████████████████████████████████████████████████████████████████████████████████████████████████▍                  | 45/50 [11:56<01:23, 16.73s/it]"
     ]
    },
    {
     "name": "stdout",
     "output_type": "stream",
     "text": [
      "drums           ==> SDR:   0.796  SIR: 213.135  ISR:   1.645  SAR:  -3.182  \n",
      "bass            ==> SDR:   0.796  SIR: 213.135  ISR:   1.645  SAR:  -3.182  \n",
      "\n"
     ]
    },
    {
     "name": "stderr",
     "output_type": "stream",
     "text": [
      " 92%|███████████████████████████████████████████████████████████████████████████████████████████████████████████████████████████████████████████████████████████████████████████               | 46/50 [12:13<01:06, 16.68s/it]"
     ]
    },
    {
     "name": "stdout",
     "output_type": "stream",
     "text": [
      "drums           ==> SDR:   2.173  SIR: 202.597  ISR:   4.105  SAR:  -0.217  \n",
      "bass            ==> SDR:   2.173  SIR: 202.597  ISR:   4.105  SAR:  -0.217  \n",
      "\n"
     ]
    },
    {
     "name": "stderr",
     "output_type": "stream",
     "text": [
      " 94%|██████████████████████████████████████████████████████████████████████████████████████████████████████████████████████████████████████████████████████████████████████████████▊           | 47/50 [12:29<00:49, 16.56s/it]"
     ]
    },
    {
     "name": "stdout",
     "output_type": "stream",
     "text": [
      "drums           ==> SDR:   5.539  SIR: 175.835  ISR:   6.408  SAR:   4.101  \n",
      "bass            ==> SDR:   5.539  SIR: 175.835  ISR:   6.408  SAR:   4.101  \n",
      "\n"
     ]
    },
    {
     "name": "stderr",
     "output_type": "stream",
     "text": [
      " 96%|██████████████████████████████████████████████████████████████████████████████████████████████████████████████████████████████████████████████████████████████████████████████████▌       | 48/50 [12:45<00:32, 16.35s/it]"
     ]
    },
    {
     "name": "stdout",
     "output_type": "stream",
     "text": [
      "drums           ==> SDR:   2.593  SIR: 219.628  ISR:   7.827  SAR:   0.105  \n",
      "bass            ==> SDR:   2.593  SIR: 219.628  ISR:   7.827  SAR:   0.105  \n",
      "\n"
     ]
    },
    {
     "name": "stderr",
     "output_type": "stream",
     "text": [
      " 98%|██████████████████████████████████████████████████████████████████████████████████████████████████████████████████████████████████████████████████████████████████████████████████████▎   | 49/50 [13:01<00:16, 16.27s/it]"
     ]
    },
    {
     "name": "stdout",
     "output_type": "stream",
     "text": [
      "drums           ==> SDR:   7.495  SIR: 213.911  ISR:  13.720  SAR:   7.331  \n",
      "bass            ==> SDR:   7.495  SIR: 213.911  ISR:  13.720  SAR:   7.331  \n",
      "\n"
     ]
    },
    {
     "name": "stderr",
     "output_type": "stream",
     "text": [
      "100%|██████████████████████████████████████████████████████████████████████████████████████████████████████████████████████████████████████████████████████████████████████████████████████████| 50/50 [13:18<00:00, 15.97s/it]"
     ]
    },
    {
     "name": "stdout",
     "output_type": "stream",
     "text": [
      "drums           ==> SDR:   4.472  SIR: 212.088  ISR:   7.007  SAR:   3.521  \n",
      "bass            ==> SDR:   4.472  SIR: 212.088  ISR:   7.007  SAR:   3.521  \n",
      "\n"
     ]
    },
    {
     "name": "stderr",
     "output_type": "stream",
     "text": [
      "\n",
      "C:\\Python311\\Lib\\site-packages\\pytorch_lightning\\utilities\\migration\\utils.py:55: The loaded checkpoint was produced with Lightning v2.2.1, which is newer than your current Lightning version: v2.1.2\n",
      "  2%|███▋                                                                                                                                                                                       | 1/50 [00:15<12:36, 15.43s/it]"
     ]
    },
    {
     "name": "stdout",
     "output_type": "stream",
     "text": [
      "drums           ==> SDR:   4.516  SIR: 201.964  ISR:   7.018  SAR:   3.343  \n",
      "bass            ==> SDR:   4.516  SIR: 201.964  ISR:   7.018  SAR:   3.343  \n",
      "\n"
     ]
    },
    {
     "name": "stderr",
     "output_type": "stream",
     "text": [
      "  4%|███████▍                                                                                                                                                                                   | 2/50 [00:30<12:22, 15.48s/it]"
     ]
    },
    {
     "name": "stdout",
     "output_type": "stream",
     "text": [
      "drums           ==> SDR:   2.414  SIR: 180.030  ISR:   5.637  SAR:  -0.563  \n",
      "bass            ==> SDR:   2.414  SIR: 180.030  ISR:   5.637  SAR:  -0.563  \n",
      "\n"
     ]
    },
    {
     "name": "stderr",
     "output_type": "stream",
     "text": [
      "  6%|███████████▏                                                                                                                                                                               | 3/50 [00:46<12:01, 15.36s/it]"
     ]
    },
    {
     "name": "stdout",
     "output_type": "stream",
     "text": [
      "drums           ==> SDR:   3.580  SIR: 224.606  ISR:   6.579  SAR:   2.181  \n",
      "bass            ==> SDR:   3.580  SIR: 224.606  ISR:   6.579  SAR:   2.181  \n",
      "\n"
     ]
    },
    {
     "name": "stderr",
     "output_type": "stream",
     "text": [
      "  8%|██████████████▉                                                                                                                                                                            | 4/50 [01:01<11:45, 15.35s/it]"
     ]
    },
    {
     "name": "stdout",
     "output_type": "stream",
     "text": [
      "drums           ==> SDR:   0.222  SIR: 220.120  ISR:   5.984  SAR:  -3.501  \n",
      "bass            ==> SDR:   0.222  SIR: 220.120  ISR:   5.984  SAR:  -3.501  \n",
      "\n"
     ]
    },
    {
     "name": "stderr",
     "output_type": "stream",
     "text": [
      " 10%|██████████████████▋                                                                                                                                                                        | 5/50 [01:17<11:35, 15.45s/it]"
     ]
    },
    {
     "name": "stdout",
     "output_type": "stream",
     "text": [
      "drums           ==> SDR:   7.485  SIR: 205.841  ISR:  10.332  SAR:   7.966  \n",
      "bass            ==> SDR:   7.485  SIR: 205.841  ISR:  10.332  SAR:   7.966  \n",
      "\n"
     ]
    },
    {
     "name": "stderr",
     "output_type": "stream",
     "text": [
      " 12%|██████████████████████▍                                                                                                                                                                    | 6/50 [01:32<11:22, 15.51s/it]"
     ]
    },
    {
     "name": "stdout",
     "output_type": "stream",
     "text": [
      "drums           ==> SDR:   3.920  SIR: 229.042  ISR:   6.908  SAR:   2.726  \n",
      "bass            ==> SDR:   3.920  SIR: 229.042  ISR:   6.908  SAR:   2.726  \n",
      "\n"
     ]
    },
    {
     "name": "stderr",
     "output_type": "stream",
     "text": [
      " 14%|██████████████████████████▏                                                                                                                                                                | 7/50 [01:48<11:04, 15.44s/it]"
     ]
    },
    {
     "name": "stdout",
     "output_type": "stream",
     "text": [
      "drums           ==> SDR:   4.049  SIR: 222.282  ISR:   8.503  SAR:   2.688  \n",
      "bass            ==> SDR:   4.049  SIR: 222.282  ISR:   8.503  SAR:   2.688  \n",
      "\n"
     ]
    },
    {
     "name": "stderr",
     "output_type": "stream",
     "text": [
      " 16%|█████████████████████████████▉                                                                                                                                                             | 8/50 [02:04<10:57, 15.65s/it]"
     ]
    },
    {
     "name": "stdout",
     "output_type": "stream",
     "text": [
      "drums           ==> SDR:   2.733  SIR: 240.534  ISR:   5.651  SAR:   0.604  \n",
      "bass            ==> SDR:   2.733  SIR: 240.534  ISR:   5.651  SAR:   0.604  \n",
      "\n"
     ]
    },
    {
     "name": "stderr",
     "output_type": "stream",
     "text": [
      " 18%|█████████████████████████████████▋                                                                                                                                                         | 9/50 [02:19<10:38, 15.58s/it]"
     ]
    },
    {
     "name": "stdout",
     "output_type": "stream",
     "text": [
      "drums           ==> SDR:   4.572  SIR: 160.346  ISR:   6.241  SAR:   5.152  \n",
      "bass            ==> SDR:   4.572  SIR: 160.346  ISR:   6.241  SAR:   5.152  \n",
      "\n"
     ]
    },
    {
     "name": "stderr",
     "output_type": "stream",
     "text": [
      " 20%|█████████████████████████████████████▏                                                                                                                                                    | 10/50 [02:35<10:29, 15.73s/it]"
     ]
    },
    {
     "name": "stdout",
     "output_type": "stream",
     "text": [
      "drums           ==> SDR: -10.082  SIR: 181.241  ISR:   4.198  SAR: -15.037  \n",
      "bass            ==> SDR: -10.082  SIR: 181.241  ISR:   4.198  SAR: -15.037  \n",
      "\n"
     ]
    },
    {
     "name": "stderr",
     "output_type": "stream",
     "text": [
      " 22%|████████████████████████████████████████▉                                                                                                                                                 | 11/50 [02:51<10:14, 15.75s/it]"
     ]
    },
    {
     "name": "stdout",
     "output_type": "stream",
     "text": [
      "drums           ==> SDR:   6.602  SIR: 213.074  ISR:   9.234  SAR:   7.502  \n",
      "bass            ==> SDR:   6.602  SIR: 213.074  ISR:   9.234  SAR:   7.502  \n",
      "\n"
     ]
    },
    {
     "name": "stderr",
     "output_type": "stream",
     "text": [
      " 24%|████████████████████████████████████████████▋                                                                                                                                             | 12/50 [03:07<09:58, 15.74s/it]"
     ]
    },
    {
     "name": "stdout",
     "output_type": "stream",
     "text": [
      "drums           ==> SDR:   4.456  SIR: 221.905  ISR:   6.051  SAR:   4.794  \n",
      "bass            ==> SDR:   4.456  SIR: 221.905  ISR:   6.051  SAR:   4.794  \n",
      "\n"
     ]
    },
    {
     "name": "stderr",
     "output_type": "stream",
     "text": [
      " 26%|████████████████████████████████████████████████▎                                                                                                                                         | 13/50 [03:22<09:37, 15.61s/it]"
     ]
    },
    {
     "name": "stdout",
     "output_type": "stream",
     "text": [
      "drums           ==> SDR:   2.191  SIR:  90.072  ISR:   3.151  SAR:   1.584  \n",
      "bass            ==> SDR:   2.191  SIR:  90.072  ISR:   3.151  SAR:   1.584  \n",
      "\n"
     ]
    },
    {
     "name": "stderr",
     "output_type": "stream",
     "text": [
      " 28%|████████████████████████████████████████████████████                                                                                                                                      | 14/50 [03:38<09:22, 15.63s/it]"
     ]
    },
    {
     "name": "stdout",
     "output_type": "stream",
     "text": [
      "drums           ==> SDR:   7.102  SIR: 215.038  ISR:  12.596  SAR:   7.044  \n",
      "bass            ==> SDR:   7.102  SIR: 215.038  ISR:  12.596  SAR:   7.044  \n",
      "\n"
     ]
    },
    {
     "name": "stderr",
     "output_type": "stream",
     "text": [
      " 30%|███████████████████████████████████████████████████████▊                                                                                                                                  | 15/50 [03:54<09:15, 15.86s/it]"
     ]
    },
    {
     "name": "stdout",
     "output_type": "stream",
     "text": [
      "drums           ==> SDR:   4.123  SIR: 204.407  ISR:   6.750  SAR:   2.749  \n",
      "bass            ==> SDR:   4.123  SIR: 204.407  ISR:   6.750  SAR:   2.749  \n",
      "\n"
     ]
    },
    {
     "name": "stderr",
     "output_type": "stream",
     "text": [
      " 32%|███████████████████████████████████████████████████████████▌                                                                                                                              | 16/50 [04:10<09:04, 16.00s/it]"
     ]
    },
    {
     "name": "stdout",
     "output_type": "stream",
     "text": [
      "drums           ==> SDR:   3.380  SIR: 210.308  ISR:   6.842  SAR:   1.156  \n",
      "bass            ==> SDR:   3.380  SIR: 210.308  ISR:   6.842  SAR:   1.156  \n",
      "\n"
     ]
    },
    {
     "name": "stderr",
     "output_type": "stream",
     "text": [
      " 34%|███████████████████████████████████████████████████████████████▏                                                                                                                          | 17/50 [04:26<08:47, 15.99s/it]"
     ]
    },
    {
     "name": "stdout",
     "output_type": "stream",
     "text": [
      "drums           ==> SDR:   1.310  SIR: 221.470  ISR:   4.427  SAR:  -3.206  \n",
      "bass            ==> SDR:   1.310  SIR: 221.470  ISR:   4.427  SAR:  -3.206  \n",
      "\n"
     ]
    },
    {
     "name": "stderr",
     "output_type": "stream",
     "text": [
      " 36%|██████████████████████████████████████████████████████████████████▉                                                                                                                       | 18/50 [04:42<08:27, 15.86s/it]"
     ]
    },
    {
     "name": "stdout",
     "output_type": "stream",
     "text": [
      "drums           ==> SDR:   6.685  SIR: 191.078  ISR:   9.445  SAR:   7.338  \n",
      "bass            ==> SDR:   6.685  SIR: 191.078  ISR:   9.445  SAR:   7.338  \n",
      "\n"
     ]
    },
    {
     "name": "stderr",
     "output_type": "stream",
     "text": [
      " 38%|██████████████████████████████████████████████████████████████████████▋                                                                                                                   | 19/50 [04:58<08:15, 15.99s/it]"
     ]
    },
    {
     "name": "stdout",
     "output_type": "stream",
     "text": [
      "drums           ==> SDR:   8.622  SIR: 215.439  ISR:  11.610  SAR:   9.300  \n",
      "bass            ==> SDR:   8.622  SIR: 215.439  ISR:  11.610  SAR:   9.300  \n",
      "\n"
     ]
    },
    {
     "name": "stderr",
     "output_type": "stream",
     "text": [
      " 40%|██████████████████████████████████████████████████████████████████████████▍                                                                                                               | 20/50 [05:13<07:53, 15.77s/it]"
     ]
    },
    {
     "name": "stdout",
     "output_type": "stream",
     "text": [
      "drums           ==> SDR:   2.739  SIR: 211.392  ISR:   3.331  SAR:   5.708  \n",
      "bass            ==> SDR:   2.739  SIR: 211.392  ISR:   3.331  SAR:   5.708  \n",
      "\n"
     ]
    },
    {
     "name": "stderr",
     "output_type": "stream",
     "text": [
      " 42%|██████████████████████████████████████████████████████████████████████████████                                                                                                            | 21/50 [05:29<07:35, 15.70s/it]"
     ]
    },
    {
     "name": "stdout",
     "output_type": "stream",
     "text": [
      "drums           ==> SDR:   6.260  SIR: 183.105  ISR:   8.473  SAR:   8.357  \n",
      "bass            ==> SDR:   6.260  SIR: 183.105  ISR:   8.473  SAR:   8.357  \n",
      "\n"
     ]
    },
    {
     "name": "stderr",
     "output_type": "stream",
     "text": [
      " 44%|█████████████████████████████████████████████████████████████████████████████████▊                                                                                                        | 22/50 [05:45<07:19, 15.68s/it]"
     ]
    },
    {
     "name": "stdout",
     "output_type": "stream",
     "text": [
      "drums           ==> SDR:  -5.120  SIR: 270.839  ISR:  -1.143  SAR: -14.496  \n",
      "bass            ==> SDR:  -5.120  SIR: 270.839  ISR:  -1.143  SAR: -14.496  \n",
      "\n"
     ]
    },
    {
     "name": "stderr",
     "output_type": "stream",
     "text": [
      " 46%|█████████████████████████████████████████████████████████████████████████████████████▌                                                                                                    | 23/50 [06:00<06:59, 15.53s/it]"
     ]
    },
    {
     "name": "stdout",
     "output_type": "stream",
     "text": [
      "drums           ==> SDR:   2.914  SIR: 162.117  ISR:   5.889  SAR:   1.431  \n",
      "bass            ==> SDR:   2.914  SIR: 162.117  ISR:   5.889  SAR:   1.431  \n",
      "\n"
     ]
    },
    {
     "name": "stderr",
     "output_type": "stream",
     "text": [
      " 48%|█████████████████████████████████████████████████████████████████████████████████████████▎                                                                                                | 24/50 [06:15<06:39, 15.37s/it]"
     ]
    },
    {
     "name": "stdout",
     "output_type": "stream",
     "text": [
      "drums           ==> SDR:   4.303  SIR: 134.139  ISR:   7.410  SAR:   4.160  \n",
      "bass            ==> SDR:   4.303  SIR: 134.139  ISR:   7.410  SAR:   4.160  \n",
      "\n"
     ]
    },
    {
     "name": "stderr",
     "output_type": "stream",
     "text": [
      " 50%|█████████████████████████████████████████████████████████████████████████████████████████████                                                                                             | 25/50 [06:30<06:26, 15.45s/it]"
     ]
    },
    {
     "name": "stdout",
     "output_type": "stream",
     "text": [
      "drums           ==> SDR:   1.395  SIR: 222.658  ISR:   2.489  SAR:  -0.202  \n",
      "bass            ==> SDR:   1.395  SIR: 222.658  ISR:   2.489  SAR:  -0.202  \n",
      "\n"
     ]
    },
    {
     "name": "stderr",
     "output_type": "stream",
     "text": [
      " 52%|████████████████████████████████████████████████████████████████████████████████████████████████▋                                                                                         | 26/50 [06:46<06:12, 15.50s/it]"
     ]
    },
    {
     "name": "stdout",
     "output_type": "stream",
     "text": [
      "drums           ==> SDR:   8.803  SIR: 184.238  ISR:  12.591  SAR:   9.303  \n",
      "bass            ==> SDR:   8.803  SIR: 184.238  ISR:  12.591  SAR:   9.303  \n",
      "\n"
     ]
    },
    {
     "name": "stderr",
     "output_type": "stream",
     "text": [
      " 54%|████████████████████████████████████████████████████████████████████████████████████████████████████▍                                                                                     | 27/50 [07:01<05:54, 15.40s/it]"
     ]
    },
    {
     "name": "stdout",
     "output_type": "stream",
     "text": [
      "drums           ==> SDR:   7.032  SIR: 188.417  ISR:  12.292  SAR:   6.307  \n",
      "bass            ==> SDR:   7.032  SIR: 188.417  ISR:  12.292  SAR:   6.307  \n",
      "\n"
     ]
    },
    {
     "name": "stderr",
     "output_type": "stream",
     "text": [
      " 56%|████████████████████████████████████████████████████████████████████████████████████████████████████████▏                                                                                 | 28/50 [07:17<05:39, 15.41s/it]"
     ]
    },
    {
     "name": "stdout",
     "output_type": "stream",
     "text": [
      "drums           ==> SDR:   7.609  SIR: 204.756  ISR:   8.855  SAR:  10.114  \n",
      "bass            ==> SDR:   7.609  SIR: 204.756  ISR:   8.855  SAR:  10.114  \n",
      "\n"
     ]
    },
    {
     "name": "stderr",
     "output_type": "stream",
     "text": [
      " 58%|███████████████████████████████████████████████████████████████████████████████████████████████████████████▉                                                                              | 29/50 [07:33<05:28, 15.65s/it]"
     ]
    },
    {
     "name": "stdout",
     "output_type": "stream",
     "text": [
      "drums           ==> SDR:   4.260  SIR: 197.750  ISR:   5.646  SAR:   5.441  \n",
      "bass            ==> SDR:   4.260  SIR: 197.750  ISR:   5.646  SAR:   5.441  \n",
      "\n"
     ]
    },
    {
     "name": "stderr",
     "output_type": "stream",
     "text": [
      " 60%|███████████████████████████████████████████████████████████████████████████████████████████████████████████████▌                                                                          | 30/50 [07:49<05:13, 15.69s/it]"
     ]
    },
    {
     "name": "stdout",
     "output_type": "stream",
     "text": [
      "drums           ==> SDR:   4.634  SIR: 216.550  ISR:   6.699  SAR:   4.245  \n",
      "bass            ==> SDR:   4.634  SIR: 216.550  ISR:   6.699  SAR:   4.245  \n",
      "\n"
     ]
    },
    {
     "name": "stderr",
     "output_type": "stream",
     "text": [
      " 62%|███████████████████████████████████████████████████████████████████████████████████████████████████████████████████▎                                                                      | 31/50 [08:05<04:59, 15.76s/it]"
     ]
    },
    {
     "name": "stdout",
     "output_type": "stream",
     "text": [
      "drums           ==> SDR:   2.125  SIR: 198.115  ISR:   7.884  SAR:   0.698  \n",
      "bass            ==> SDR:   2.125  SIR: 198.115  ISR:   7.884  SAR:   0.698  \n",
      "\n"
     ]
    },
    {
     "name": "stderr",
     "output_type": "stream",
     "text": [
      " 64%|███████████████████████████████████████████████████████████████████████████████████████████████████████████████████████                                                                   | 32/50 [08:20<04:42, 15.69s/it]"
     ]
    },
    {
     "name": "stdout",
     "output_type": "stream",
     "text": [
      "drums           ==> SDR:   1.600  SIR: 188.613  ISR:   2.928  SAR:  -1.536  \n",
      "bass            ==> SDR:   1.600  SIR: 188.613  ISR:   2.928  SAR:  -1.536  \n",
      "\n"
     ]
    },
    {
     "name": "stderr",
     "output_type": "stream",
     "text": [
      " 66%|██████████████████████████████████████████████████████████████████████████████████████████████████████████████████████████▊                                                               | 33/50 [08:36<04:25, 15.63s/it]"
     ]
    },
    {
     "name": "stdout",
     "output_type": "stream",
     "text": [
      "drums           ==> SDR:   0.882  SIR: 228.729  ISR:   4.189  SAR:  -1.258  \n",
      "bass            ==> SDR:   0.882  SIR: 228.729  ISR:   4.189  SAR:  -1.258  \n",
      "\n"
     ]
    },
    {
     "name": "stderr",
     "output_type": "stream",
     "text": [
      " 68%|██████████████████████████████████████████████████████████████████████████████████████████████████████████████████████████████▍                                                           | 34/50 [08:51<04:11, 15.70s/it]"
     ]
    },
    {
     "name": "stdout",
     "output_type": "stream",
     "text": [
      "drums           ==> SDR:   3.281  SIR: 249.795  ISR:   6.326  SAR:   1.877  \n",
      "bass            ==> SDR:   3.281  SIR: 249.795  ISR:   6.326  SAR:   1.877  \n",
      "\n"
     ]
    },
    {
     "name": "stderr",
     "output_type": "stream",
     "text": [
      " 70%|██████████████████████████████████████████████████████████████████████████████████████████████████████████████████████████████████▏                                                       | 35/50 [09:07<03:56, 15.76s/it]"
     ]
    },
    {
     "name": "stdout",
     "output_type": "stream",
     "text": [
      "drums           ==> SDR:   7.368  SIR: 220.280  ISR:  10.374  SAR:   8.444  \n",
      "bass            ==> SDR:   7.368  SIR: 220.280  ISR:  10.374  SAR:   8.444  \n",
      "\n"
     ]
    },
    {
     "name": "stderr",
     "output_type": "stream",
     "text": [
      " 72%|█████████████████████████████████████████████████████████████████████████████████████████████████████████████████████████████████████▉                                                    | 36/50 [09:23<03:39, 15.65s/it]"
     ]
    },
    {
     "name": "stdout",
     "output_type": "stream",
     "text": [
      "drums           ==> SDR:   0.977  SIR: 199.333  ISR:   3.458  SAR:  -3.635  \n",
      "bass            ==> SDR:   0.977  SIR: 199.333  ISR:   3.458  SAR:  -3.635  \n",
      "\n"
     ]
    },
    {
     "name": "stderr",
     "output_type": "stream",
     "text": [
      " 74%|█████████████████████████████████████████████████████████████████████████████████████████████████████████████████████████████████████████▋                                                | 37/50 [09:38<03:22, 15.59s/it]"
     ]
    },
    {
     "name": "stdout",
     "output_type": "stream",
     "text": [
      "drums           ==> SDR:   3.369  SIR: 210.505  ISR:  10.208  SAR:   1.312  \n",
      "bass            ==> SDR:   3.369  SIR: 210.505  ISR:  10.208  SAR:   1.312  \n",
      "\n"
     ]
    },
    {
     "name": "stderr",
     "output_type": "stream",
     "text": [
      " 76%|█████████████████████████████████████████████████████████████████████████████████████████████████████████████████████████████████████████████▎                                            | 38/50 [09:54<03:06, 15.56s/it]"
     ]
    },
    {
     "name": "stdout",
     "output_type": "stream",
     "text": [
      "drums           ==> SDR:   5.776  SIR: 224.018  ISR:   6.792  SAR:   3.596  \n",
      "bass            ==> SDR:   5.776  SIR: 224.018  ISR:   6.792  SAR:   3.596  \n",
      "\n"
     ]
    },
    {
     "name": "stderr",
     "output_type": "stream",
     "text": [
      " 78%|█████████████████████████████████████████████████████████████████████████████████████████████████████████████████████████████████████████████████                                         | 39/50 [10:09<02:50, 15.50s/it]"
     ]
    },
    {
     "name": "stdout",
     "output_type": "stream",
     "text": [
      "drums           ==> SDR:   2.958  SIR: 226.903  ISR:   4.179  SAR:   2.801  \n",
      "bass            ==> SDR:   2.958  SIR: 226.903  ISR:   4.179  SAR:   2.801  \n",
      "\n"
     ]
    },
    {
     "name": "stderr",
     "output_type": "stream",
     "text": [
      " 80%|████████████████████████████████████████████████████████████████████████████████████████████████████████████████████████████████████████████████████▊                                     | 40/50 [10:24<02:34, 15.43s/it]"
     ]
    },
    {
     "name": "stdout",
     "output_type": "stream",
     "text": [
      "drums           ==> SDR:   2.454  SIR: 169.856  ISR:   4.024  SAR:   0.033  \n",
      "bass            ==> SDR:   2.454  SIR: 169.856  ISR:   4.024  SAR:   0.033  \n",
      "\n"
     ]
    },
    {
     "name": "stderr",
     "output_type": "stream",
     "text": [
      " 82%|████████████████████████████████████████████████████████████████████████████████████████████████████████████████████████████████████████████████████████▌                                 | 41/50 [10:40<02:18, 15.40s/it]"
     ]
    },
    {
     "name": "stdout",
     "output_type": "stream",
     "text": [
      "drums           ==> SDR:   3.668  SIR: 183.490  ISR:   7.008  SAR:   3.498  \n",
      "bass            ==> SDR:   3.668  SIR: 183.490  ISR:   7.008  SAR:   3.498  \n",
      "\n"
     ]
    },
    {
     "name": "stderr",
     "output_type": "stream",
     "text": [
      " 84%|████████████████████████████████████████████████████████████████████████████████████████████████████████████████████████████████████████████████████████████▏                             | 42/50 [10:55<02:03, 15.48s/it]"
     ]
    },
    {
     "name": "stdout",
     "output_type": "stream",
     "text": [
      "drums           ==> SDR:   4.853  SIR: 112.745  ISR:   7.042  SAR:   4.208  \n",
      "bass            ==> SDR:   4.853  SIR: 112.745  ISR:   7.042  SAR:   4.208  \n",
      "\n"
     ]
    },
    {
     "name": "stderr",
     "output_type": "stream",
     "text": [
      " 86%|███████████████████████████████████████████████████████████████████████████████████████████████████████████████████████████████████████████████████████████████▉                          | 43/50 [11:10<01:47, 15.39s/it]"
     ]
    },
    {
     "name": "stdout",
     "output_type": "stream",
     "text": [
      "drums           ==> SDR:   2.892  SIR: 177.284  ISR:   4.948  SAR:   0.302  \n",
      "bass            ==> SDR:   2.892  SIR: 177.284  ISR:   4.948  SAR:   0.302  \n",
      "\n"
     ]
    },
    {
     "name": "stderr",
     "output_type": "stream",
     "text": [
      " 88%|███████████████████████████████████████████████████████████████████████████████████████████████████████████████████████████████████████████████████████████████████▋                      | 44/50 [11:25<01:30, 15.14s/it]"
     ]
    },
    {
     "name": "stdout",
     "output_type": "stream",
     "text": [
      "drums           ==> SDR:   2.773  SIR: 216.522  ISR:   4.278  SAR:   1.330  \n",
      "bass            ==> SDR:   2.773  SIR: 216.522  ISR:   4.278  SAR:   1.330  \n",
      "\n"
     ]
    },
    {
     "name": "stderr",
     "output_type": "stream",
     "text": [
      " 90%|███████████████████████████████████████████████████████████████████████████████████████████████████████████████████████████████████████████████████████████████████████▍                  | 45/50 [11:41<01:16, 15.29s/it]"
     ]
    },
    {
     "name": "stdout",
     "output_type": "stream",
     "text": [
      "drums           ==> SDR:   0.787  SIR: 211.017  ISR:   1.535  SAR:  -2.982  \n",
      "bass            ==> SDR:   0.787  SIR: 211.017  ISR:   1.535  SAR:  -2.982  \n",
      "\n"
     ]
    },
    {
     "name": "stderr",
     "output_type": "stream",
     "text": [
      " 92%|███████████████████████████████████████████████████████████████████████████████████████████████████████████████████████████████████████████████████████████████████████████               | 46/50 [11:57<01:02, 15.65s/it]"
     ]
    },
    {
     "name": "stdout",
     "output_type": "stream",
     "text": [
      "drums           ==> SDR:   2.169  SIR: 202.756  ISR:   4.072  SAR:  -0.171  \n",
      "bass            ==> SDR:   2.169  SIR: 202.756  ISR:   4.072  SAR:  -0.171  \n",
      "\n"
     ]
    },
    {
     "name": "stderr",
     "output_type": "stream",
     "text": [
      " 94%|██████████████████████████████████████████████████████████████████████████████████████████████████████████████████████████████████████████████████████████████████████████████▊           | 47/50 [12:12<00:46, 15.34s/it]"
     ]
    },
    {
     "name": "stdout",
     "output_type": "stream",
     "text": [
      "drums           ==> SDR:   5.523  SIR: 171.820  ISR:   6.184  SAR:   3.894  \n",
      "bass            ==> SDR:   5.523  SIR: 171.820  ISR:   6.184  SAR:   3.894  \n",
      "\n"
     ]
    },
    {
     "name": "stderr",
     "output_type": "stream",
     "text": [
      " 96%|██████████████████████████████████████████████████████████████████████████████████████████████████████████████████████████████████████████████████████████████████████████████████▌       | 48/50 [12:27<00:30, 15.37s/it]"
     ]
    },
    {
     "name": "stdout",
     "output_type": "stream",
     "text": [
      "drums           ==> SDR:   2.635  SIR: 227.515  ISR:   7.652  SAR:   0.166  \n",
      "bass            ==> SDR:   2.635  SIR: 227.515  ISR:   7.652  SAR:   0.166  \n",
      "\n"
     ]
    },
    {
     "name": "stderr",
     "output_type": "stream",
     "text": [
      " 98%|██████████████████████████████████████████████████████████████████████████████████████████████████████████████████████████████████████████████████████████████████████████████████████▎   | 49/50 [12:43<00:15, 15.46s/it]"
     ]
    },
    {
     "name": "stdout",
     "output_type": "stream",
     "text": [
      "drums           ==> SDR:   7.495  SIR: 208.030  ISR:  13.871  SAR:   7.334  \n",
      "bass            ==> SDR:   7.495  SIR: 208.030  ISR:  13.871  SAR:   7.334  \n",
      "\n"
     ]
    },
    {
     "name": "stderr",
     "output_type": "stream",
     "text": [
      "100%|██████████████████████████████████████████████████████████████████████████████████████████████████████████████████████████████████████████████████████████████████████████████████████████| 50/50 [12:59<00:00, 15.59s/it]"
     ]
    },
    {
     "name": "stdout",
     "output_type": "stream",
     "text": [
      "drums           ==> SDR:   4.480  SIR: 202.529  ISR:   7.058  SAR:   3.658  \n",
      "bass            ==> SDR:   4.480  SIR: 202.529  ISR:   7.058  SAR:   3.658  \n",
      "\n"
     ]
    },
    {
     "name": "stderr",
     "output_type": "stream",
     "text": [
      "\n",
      "C:\\Python311\\Lib\\site-packages\\pytorch_lightning\\utilities\\migration\\utils.py:55: The loaded checkpoint was produced with Lightning v2.2.1, which is newer than your current Lightning version: v2.1.2\n",
      "  2%|███▋                                                                                                                                                                                       | 1/50 [00:16<13:07, 16.07s/it]"
     ]
    },
    {
     "name": "stdout",
     "output_type": "stream",
     "text": [
      "drums           ==> SDR:   4.415  SIR: 210.425  ISR:   6.881  SAR:   3.077  \n",
      "bass            ==> SDR:   4.415  SIR: 210.425  ISR:   6.881  SAR:   3.077  \n",
      "\n"
     ]
    },
    {
     "name": "stderr",
     "output_type": "stream",
     "text": [
      "  4%|███████▍                                                                                                                                                                                   | 2/50 [00:32<12:57, 16.20s/it]"
     ]
    },
    {
     "name": "stdout",
     "output_type": "stream",
     "text": [
      "drums           ==> SDR:   2.523  SIR: 177.017  ISR:   5.540  SAR:  -0.484  \n",
      "bass            ==> SDR:   2.523  SIR: 177.017  ISR:   5.540  SAR:  -0.484  \n",
      "\n"
     ]
    },
    {
     "name": "stderr",
     "output_type": "stream",
     "text": [
      "  6%|███████████▏                                                                                                                                                                               | 3/50 [00:48<12:29, 15.95s/it]"
     ]
    },
    {
     "name": "stdout",
     "output_type": "stream",
     "text": [
      "drums           ==> SDR:   3.582  SIR: 225.435  ISR:   6.508  SAR:   2.246  \n",
      "bass            ==> SDR:   3.582  SIR: 225.435  ISR:   6.508  SAR:   2.246  \n",
      "\n"
     ]
    },
    {
     "name": "stderr",
     "output_type": "stream",
     "text": [
      "  8%|██████████████▉                                                                                                                                                                            | 4/50 [01:03<12:09, 15.86s/it]"
     ]
    },
    {
     "name": "stdout",
     "output_type": "stream",
     "text": [
      "drums           ==> SDR:   0.205  SIR: 231.440  ISR:   5.769  SAR:  -3.514  \n",
      "bass            ==> SDR:   0.205  SIR: 231.440  ISR:   5.769  SAR:  -3.514  \n",
      "\n"
     ]
    },
    {
     "name": "stderr",
     "output_type": "stream",
     "text": [
      " 10%|██████████████████▋                                                                                                                                                                        | 5/50 [01:21<12:21, 16.49s/it]"
     ]
    },
    {
     "name": "stdout",
     "output_type": "stream",
     "text": [
      "drums           ==> SDR:   7.692  SIR: 199.405  ISR:  10.419  SAR:   8.085  \n",
      "bass            ==> SDR:   7.692  SIR: 199.405  ISR:  10.419  SAR:   8.085  \n",
      "\n"
     ]
    },
    {
     "name": "stderr",
     "output_type": "stream",
     "text": [
      " 12%|██████████████████████▍                                                                                                                                                                    | 6/50 [01:37<11:57, 16.30s/it]"
     ]
    },
    {
     "name": "stdout",
     "output_type": "stream",
     "text": [
      "drums           ==> SDR:   3.803  SIR: 231.638  ISR:   6.712  SAR:   2.473  \n",
      "bass            ==> SDR:   3.803  SIR: 231.638  ISR:   6.712  SAR:   2.473  \n",
      "\n"
     ]
    },
    {
     "name": "stderr",
     "output_type": "stream",
     "text": [
      " 14%|██████████████████████████▏                                                                                                                                                                | 7/50 [01:53<11:39, 16.27s/it]"
     ]
    },
    {
     "name": "stdout",
     "output_type": "stream",
     "text": [
      "drums           ==> SDR:   4.049  SIR: 218.113  ISR:   8.303  SAR:   2.675  \n",
      "bass            ==> SDR:   4.049  SIR: 218.113  ISR:   8.303  SAR:   2.675  \n",
      "\n"
     ]
    },
    {
     "name": "stderr",
     "output_type": "stream",
     "text": [
      " 16%|█████████████████████████████▉                                                                                                                                                             | 8/50 [02:09<11:20, 16.19s/it]"
     ]
    },
    {
     "name": "stdout",
     "output_type": "stream",
     "text": [
      "drums           ==> SDR:   2.868  SIR: 239.813  ISR:   5.623  SAR:   0.901  \n",
      "bass            ==> SDR:   2.868  SIR: 239.813  ISR:   5.623  SAR:   0.901  \n",
      "\n"
     ]
    },
    {
     "name": "stderr",
     "output_type": "stream",
     "text": [
      " 18%|█████████████████████████████████▋                                                                                                                                                         | 9/50 [02:25<11:03, 16.18s/it]"
     ]
    },
    {
     "name": "stdout",
     "output_type": "stream",
     "text": [
      "drums           ==> SDR:   4.537  SIR: 162.482  ISR:   6.268  SAR:   5.207  \n",
      "bass            ==> SDR:   4.537  SIR: 162.482  ISR:   6.268  SAR:   5.207  \n",
      "\n"
     ]
    },
    {
     "name": "stderr",
     "output_type": "stream",
     "text": [
      " 20%|█████████████████████████████████████▏                                                                                                                                                    | 10/50 [02:42<10:57, 16.44s/it]"
     ]
    },
    {
     "name": "stdout",
     "output_type": "stream",
     "text": [
      "drums           ==> SDR: -10.082  SIR: 176.264  ISR:   4.163  SAR: -15.001  \n",
      "bass            ==> SDR: -10.082  SIR: 176.264  ISR:   4.163  SAR: -15.001  \n",
      "\n"
     ]
    },
    {
     "name": "stderr",
     "output_type": "stream",
     "text": [
      " 22%|████████████████████████████████████████▉                                                                                                                                                 | 11/50 [02:59<10:47, 16.62s/it]"
     ]
    },
    {
     "name": "stdout",
     "output_type": "stream",
     "text": [
      "drums           ==> SDR:   6.617  SIR: 217.160  ISR:   9.194  SAR:   7.477  \n",
      "bass            ==> SDR:   6.617  SIR: 217.160  ISR:   9.194  SAR:   7.477  \n",
      "\n"
     ]
    },
    {
     "name": "stderr",
     "output_type": "stream",
     "text": [
      " 24%|████████████████████████████████████████████▋                                                                                                                                             | 12/50 [03:16<10:29, 16.56s/it]"
     ]
    },
    {
     "name": "stdout",
     "output_type": "stream",
     "text": [
      "drums           ==> SDR:   4.460  SIR: 220.881  ISR:   6.228  SAR:   4.861  \n",
      "bass            ==> SDR:   4.460  SIR: 220.881  ISR:   6.228  SAR:   4.861  \n",
      "\n"
     ]
    },
    {
     "name": "stderr",
     "output_type": "stream",
     "text": [
      " 26%|████████████████████████████████████████████████▎                                                                                                                                         | 13/50 [03:31<09:57, 16.14s/it]"
     ]
    },
    {
     "name": "stdout",
     "output_type": "stream",
     "text": [
      "drums           ==> SDR:   2.120  SIR:  89.936  ISR:   2.868  SAR:   0.888  \n",
      "bass            ==> SDR:   2.120  SIR:  89.936  ISR:   2.868  SAR:   0.888  \n",
      "\n"
     ]
    },
    {
     "name": "stderr",
     "output_type": "stream",
     "text": [
      " 28%|████████████████████████████████████████████████████                                                                                                                                      | 14/50 [03:47<09:38, 16.07s/it]"
     ]
    },
    {
     "name": "stdout",
     "output_type": "stream",
     "text": [
      "drums           ==> SDR:   7.094  SIR: 208.535  ISR:  12.488  SAR:   7.028  \n",
      "bass            ==> SDR:   7.094  SIR: 208.535  ISR:  12.488  SAR:   7.028  \n",
      "\n"
     ]
    },
    {
     "name": "stderr",
     "output_type": "stream",
     "text": [
      " 30%|███████████████████████████████████████████████████████▊                                                                                                                                  | 15/50 [04:03<09:21, 16.04s/it]"
     ]
    },
    {
     "name": "stdout",
     "output_type": "stream",
     "text": [
      "drums           ==> SDR:   4.114  SIR: 211.998  ISR:   6.774  SAR:   2.625  \n",
      "bass            ==> SDR:   4.114  SIR: 211.998  ISR:   6.774  SAR:   2.625  \n",
      "\n"
     ]
    },
    {
     "name": "stderr",
     "output_type": "stream",
     "text": [
      " 32%|███████████████████████████████████████████████████████████▌                                                                                                                              | 16/50 [04:20<09:14, 16.31s/it]"
     ]
    },
    {
     "name": "stdout",
     "output_type": "stream",
     "text": [
      "drums           ==> SDR:   3.138  SIR: 215.751  ISR:   6.676  SAR:   1.128  \n",
      "bass            ==> SDR:   3.138  SIR: 215.751  ISR:   6.676  SAR:   1.128  \n",
      "\n"
     ]
    },
    {
     "name": "stderr",
     "output_type": "stream",
     "text": [
      " 34%|███████████████████████████████████████████████████████████████▏                                                                                                                          | 17/50 [04:35<08:53, 16.16s/it]"
     ]
    },
    {
     "name": "stdout",
     "output_type": "stream",
     "text": [
      "drums           ==> SDR:   1.150  SIR: 218.518  ISR:   4.129  SAR:  -2.812  \n",
      "bass            ==> SDR:   1.150  SIR: 218.518  ISR:   4.129  SAR:  -2.812  \n",
      "\n"
     ]
    },
    {
     "name": "stderr",
     "output_type": "stream",
     "text": [
      " 36%|██████████████████████████████████████████████████████████████████▉                                                                                                                       | 18/50 [04:52<08:37, 16.18s/it]"
     ]
    },
    {
     "name": "stdout",
     "output_type": "stream",
     "text": [
      "drums           ==> SDR:   6.672  SIR: 200.039  ISR:   9.518  SAR:   7.227  \n",
      "bass            ==> SDR:   6.672  SIR: 200.039  ISR:   9.518  SAR:   7.227  \n",
      "\n"
     ]
    },
    {
     "name": "stderr",
     "output_type": "stream",
     "text": [
      " 38%|██████████████████████████████████████████████████████████████████████▋                                                                                                                   | 19/50 [05:08<08:25, 16.31s/it]"
     ]
    },
    {
     "name": "stdout",
     "output_type": "stream",
     "text": [
      "drums           ==> SDR:   8.245  SIR: 219.381  ISR:  11.028  SAR:   8.922  \n",
      "bass            ==> SDR:   8.245  SIR: 219.381  ISR:  11.028  SAR:   8.922  \n",
      "\n"
     ]
    },
    {
     "name": "stderr",
     "output_type": "stream",
     "text": [
      " 40%|██████████████████████████████████████████████████████████████████████████▍                                                                                                               | 20/50 [05:25<08:08, 16.29s/it]"
     ]
    },
    {
     "name": "stdout",
     "output_type": "stream",
     "text": [
      "drums           ==> SDR:   2.835  SIR: 209.761  ISR:   3.423  SAR:   5.642  \n",
      "bass            ==> SDR:   2.835  SIR: 209.761  ISR:   3.423  SAR:   5.642  \n",
      "\n"
     ]
    },
    {
     "name": "stderr",
     "output_type": "stream",
     "text": [
      " 42%|██████████████████████████████████████████████████████████████████████████████                                                                                                            | 21/50 [05:40<07:42, 15.95s/it]"
     ]
    },
    {
     "name": "stdout",
     "output_type": "stream",
     "text": [
      "drums           ==> SDR:   6.246  SIR: 183.929  ISR:   8.451  SAR:   8.316  \n",
      "bass            ==> SDR:   6.246  SIR: 183.929  ISR:   8.451  SAR:   8.316  \n",
      "\n"
     ]
    },
    {
     "name": "stderr",
     "output_type": "stream",
     "text": [
      " 44%|█████████████████████████████████████████████████████████████████████████████████▊                                                                                                        | 22/50 [05:56<07:31, 16.13s/it]"
     ]
    },
    {
     "name": "stdout",
     "output_type": "stream",
     "text": [
      "drums           ==> SDR:  -5.120  SIR: 270.839  ISR:  -1.143  SAR: -14.496  \n",
      "bass            ==> SDR:  -5.120  SIR: 270.839  ISR:  -1.143  SAR: -14.496  \n",
      "\n"
     ]
    },
    {
     "name": "stderr",
     "output_type": "stream",
     "text": [
      " 46%|█████████████████████████████████████████████████████████████████████████████████████▌                                                                                                    | 23/50 [06:13<07:23, 16.43s/it]"
     ]
    },
    {
     "name": "stdout",
     "output_type": "stream",
     "text": [
      "drums           ==> SDR:   2.998  SIR: 163.278  ISR:   5.902  SAR:   1.452  \n",
      "bass            ==> SDR:   2.998  SIR: 163.278  ISR:   5.902  SAR:   1.452  \n",
      "\n"
     ]
    },
    {
     "name": "stderr",
     "output_type": "stream",
     "text": [
      " 48%|█████████████████████████████████████████████████████████████████████████████████████████▎                                                                                                | 24/50 [06:29<07:00, 16.18s/it]"
     ]
    },
    {
     "name": "stdout",
     "output_type": "stream",
     "text": [
      "drums           ==> SDR:   4.362  SIR: 133.250  ISR:   7.259  SAR:   4.230  \n",
      "bass            ==> SDR:   4.362  SIR: 133.250  ISR:   7.259  SAR:   4.230  \n",
      "\n"
     ]
    },
    {
     "name": "stderr",
     "output_type": "stream",
     "text": [
      " 50%|█████████████████████████████████████████████████████████████████████████████████████████████                                                                                             | 25/50 [06:46<06:50, 16.44s/it]"
     ]
    },
    {
     "name": "stdout",
     "output_type": "stream",
     "text": [
      "drums           ==> SDR:   1.431  SIR: 222.547  ISR:   2.498  SAR:  -0.315  \n",
      "bass            ==> SDR:   1.431  SIR: 222.547  ISR:   2.498  SAR:  -0.315  \n",
      "\n"
     ]
    },
    {
     "name": "stderr",
     "output_type": "stream",
     "text": [
      " 52%|████████████████████████████████████████████████████████████████████████████████████████████████▋                                                                                         | 26/50 [07:01<06:23, 15.99s/it]"
     ]
    },
    {
     "name": "stdout",
     "output_type": "stream",
     "text": [
      "drums           ==> SDR:   8.747  SIR: 175.359  ISR:  12.582  SAR:   9.340  \n",
      "bass            ==> SDR:   8.747  SIR: 175.359  ISR:  12.582  SAR:   9.340  \n",
      "\n"
     ]
    },
    {
     "name": "stderr",
     "output_type": "stream",
     "text": [
      " 54%|████████████████████████████████████████████████████████████████████████████████████████████████████▍                                                                                     | 27/50 [07:17<06:07, 15.96s/it]"
     ]
    },
    {
     "name": "stdout",
     "output_type": "stream",
     "text": [
      "drums           ==> SDR:   7.078  SIR: 183.225  ISR:  12.242  SAR:   6.498  \n",
      "bass            ==> SDR:   7.078  SIR: 183.225  ISR:  12.242  SAR:   6.498  \n",
      "\n"
     ]
    },
    {
     "name": "stderr",
     "output_type": "stream",
     "text": [
      " 56%|████████████████████████████████████████████████████████████████████████████████████████████████████████▏                                                                                 | 28/50 [07:33<05:52, 16.04s/it]"
     ]
    },
    {
     "name": "stdout",
     "output_type": "stream",
     "text": [
      "drums           ==> SDR:   7.507  SIR: 195.325  ISR:   8.786  SAR:  10.151  \n",
      "bass            ==> SDR:   7.507  SIR: 195.325  ISR:   8.786  SAR:  10.151  \n",
      "\n"
     ]
    },
    {
     "name": "stderr",
     "output_type": "stream",
     "text": [
      " 58%|███████████████████████████████████████████████████████████████████████████████████████████████████████████▉                                                                              | 29/50 [07:49<05:37, 16.05s/it]"
     ]
    },
    {
     "name": "stdout",
     "output_type": "stream",
     "text": [
      "drums           ==> SDR:   4.346  SIR: 190.321  ISR:   5.624  SAR:   5.484  \n",
      "bass            ==> SDR:   4.346  SIR: 190.321  ISR:   5.624  SAR:   5.484  \n",
      "\n"
     ]
    },
    {
     "name": "stderr",
     "output_type": "stream",
     "text": [
      " 60%|███████████████████████████████████████████████████████████████████████████████████████████████████████████████▌                                                                          | 30/50 [08:04<05:16, 15.82s/it]"
     ]
    },
    {
     "name": "stdout",
     "output_type": "stream",
     "text": [
      "drums           ==> SDR:   4.640  SIR: 214.731  ISR:   6.445  SAR:   4.259  \n",
      "bass            ==> SDR:   4.640  SIR: 214.731  ISR:   6.445  SAR:   4.259  \n",
      "\n"
     ]
    },
    {
     "name": "stderr",
     "output_type": "stream",
     "text": [
      " 62%|███████████████████████████████████████████████████████████████████████████████████████████████████████████████████▎                                                                      | 31/50 [08:20<04:56, 15.61s/it]"
     ]
    },
    {
     "name": "stdout",
     "output_type": "stream",
     "text": [
      "drums           ==> SDR:   2.260  SIR: 195.897  ISR:   7.827  SAR:   0.813  \n",
      "bass            ==> SDR:   2.260  SIR: 195.897  ISR:   7.827  SAR:   0.813  \n",
      "\n"
     ]
    },
    {
     "name": "stderr",
     "output_type": "stream",
     "text": [
      " 64%|███████████████████████████████████████████████████████████████████████████████████████████████████████████████████████                                                                   | 32/50 [08:34<04:35, 15.31s/it]"
     ]
    },
    {
     "name": "stdout",
     "output_type": "stream",
     "text": [
      "drums           ==> SDR:   1.273  SIR: 188.241  ISR:   2.848  SAR:  -0.949  \n",
      "bass            ==> SDR:   1.273  SIR: 188.241  ISR:   2.848  SAR:  -0.949  \n",
      "\n"
     ]
    },
    {
     "name": "stderr",
     "output_type": "stream",
     "text": [
      " 66%|██████████████████████████████████████████████████████████████████████████████████████████████████████████████████████████▊                                                               | 33/50 [08:50<04:20, 15.35s/it]"
     ]
    },
    {
     "name": "stdout",
     "output_type": "stream",
     "text": [
      "drums           ==> SDR:   1.233  SIR: 223.456  ISR:   4.208  SAR:  -1.074  \n",
      "bass            ==> SDR:   1.233  SIR: 223.456  ISR:   4.208  SAR:  -1.074  \n",
      "\n"
     ]
    },
    {
     "name": "stderr",
     "output_type": "stream",
     "text": [
      " 68%|██████████████████████████████████████████████████████████████████████████████████████████████████████████████████████████████▍                                                           | 34/50 [09:06<04:11, 15.74s/it]"
     ]
    },
    {
     "name": "stdout",
     "output_type": "stream",
     "text": [
      "drums           ==> SDR:   3.260  SIR: 249.515  ISR:   6.259  SAR:   1.721  \n",
      "bass            ==> SDR:   3.260  SIR: 249.515  ISR:   6.259  SAR:   1.721  \n",
      "\n"
     ]
    },
    {
     "name": "stderr",
     "output_type": "stream",
     "text": [
      " 70%|██████████████████████████████████████████████████████████████████████████████████████████████████████████████████████████████████▏                                                       | 35/50 [09:22<03:57, 15.82s/it]"
     ]
    },
    {
     "name": "stdout",
     "output_type": "stream",
     "text": [
      "drums           ==> SDR:   7.223  SIR: 215.226  ISR:  10.235  SAR:   8.283  \n",
      "bass            ==> SDR:   7.223  SIR: 215.226  ISR:  10.235  SAR:   8.283  \n",
      "\n"
     ]
    },
    {
     "name": "stderr",
     "output_type": "stream",
     "text": [
      " 72%|█████████████████████████████████████████████████████████████████████████████████████████████████████████████████████████████████████▉                                                    | 36/50 [09:38<03:39, 15.68s/it]"
     ]
    },
    {
     "name": "stdout",
     "output_type": "stream",
     "text": [
      "drums           ==> SDR:   0.912  SIR: 197.032  ISR:   3.422  SAR:  -3.627  \n",
      "bass            ==> SDR:   0.912  SIR: 197.032  ISR:   3.422  SAR:  -3.627  \n",
      "\n"
     ]
    },
    {
     "name": "stderr",
     "output_type": "stream",
     "text": [
      " 74%|█████████████████████████████████████████████████████████████████████████████████████████████████████████████████████████████████████████▋                                                | 37/50 [09:56<03:33, 16.46s/it]"
     ]
    },
    {
     "name": "stdout",
     "output_type": "stream",
     "text": [
      "drums           ==> SDR:   2.305  SIR: 208.998  ISR:   9.389  SAR:   0.670  \n",
      "bass            ==> SDR:   2.305  SIR: 208.998  ISR:   9.389  SAR:   0.670  \n",
      "\n"
     ]
    },
    {
     "name": "stderr",
     "output_type": "stream",
     "text": [
      " 76%|█████████████████████████████████████████████████████████████████████████████████████████████████████████████████████████████████████████████▎                                            | 38/50 [10:13<03:18, 16.57s/it]"
     ]
    },
    {
     "name": "stdout",
     "output_type": "stream",
     "text": [
      "drums           ==> SDR:   5.480  SIR: 224.790  ISR:   6.481  SAR:   3.558  \n",
      "bass            ==> SDR:   5.480  SIR: 224.790  ISR:   6.481  SAR:   3.558  \n",
      "\n"
     ]
    },
    {
     "name": "stderr",
     "output_type": "stream",
     "text": [
      " 78%|█████████████████████████████████████████████████████████████████████████████████████████████████████████████████████████████████████████████████                                         | 39/50 [10:30<03:04, 16.81s/it]"
     ]
    },
    {
     "name": "stdout",
     "output_type": "stream",
     "text": [
      "drums           ==> SDR:   2.811  SIR: 226.987  ISR:   3.998  SAR:   2.388  \n",
      "bass            ==> SDR:   2.811  SIR: 226.987  ISR:   3.998  SAR:   2.388  \n",
      "\n"
     ]
    },
    {
     "name": "stderr",
     "output_type": "stream",
     "text": [
      " 80%|████████████████████████████████████████████████████████████████████████████████████████████████████████████████████████████████████████████████████▊                                     | 40/50 [10:47<02:47, 16.74s/it]"
     ]
    },
    {
     "name": "stdout",
     "output_type": "stream",
     "text": [
      "drums           ==> SDR:   1.943  SIR: 167.611  ISR:   4.053  SAR:  -0.231  \n",
      "bass            ==> SDR:   1.943  SIR: 167.611  ISR:   4.053  SAR:  -0.231  \n",
      "\n"
     ]
    },
    {
     "name": "stderr",
     "output_type": "stream",
     "text": [
      " 82%|████████████████████████████████████████████████████████████████████████████████████████████████████████████████████████████████████████████████████████▌                                 | 41/50 [11:04<02:32, 16.92s/it]"
     ]
    },
    {
     "name": "stdout",
     "output_type": "stream",
     "text": [
      "drums           ==> SDR:   3.747  SIR: 179.900  ISR:   6.947  SAR:   3.650  \n",
      "bass            ==> SDR:   3.747  SIR: 179.900  ISR:   6.947  SAR:   3.650  \n",
      "\n"
     ]
    },
    {
     "name": "stderr",
     "output_type": "stream",
     "text": [
      " 84%|████████████████████████████████████████████████████████████████████████████████████████████████████████████████████████████████████████████████████████████▏                             | 42/50 [11:20<02:13, 16.73s/it]"
     ]
    },
    {
     "name": "stdout",
     "output_type": "stream",
     "text": [
      "drums           ==> SDR:   4.974  SIR: 112.743  ISR:   7.031  SAR:   4.240  \n",
      "bass            ==> SDR:   4.974  SIR: 112.743  ISR:   7.031  SAR:   4.240  \n",
      "\n"
     ]
    },
    {
     "name": "stderr",
     "output_type": "stream",
     "text": [
      " 86%|███████████████████████████████████████████████████████████████████████████████████████████████████████████████████████████████████████████████████████████████▉                          | 43/50 [11:36<01:55, 16.44s/it]"
     ]
    },
    {
     "name": "stdout",
     "output_type": "stream",
     "text": [
      "drums           ==> SDR:   2.792  SIR: 177.214  ISR:   4.729  SAR:   0.039  \n",
      "bass            ==> SDR:   2.792  SIR: 177.214  ISR:   4.729  SAR:   0.039  \n",
      "\n"
     ]
    },
    {
     "name": "stderr",
     "output_type": "stream",
     "text": [
      " 88%|███████████████████████████████████████████████████████████████████████████████████████████████████████████████████████████████████████████████████████████████████▋                      | 44/50 [11:53<01:39, 16.61s/it]"
     ]
    },
    {
     "name": "stdout",
     "output_type": "stream",
     "text": [
      "drums           ==> SDR:   2.662  SIR: 216.182  ISR:   4.088  SAR:   0.963  \n",
      "bass            ==> SDR:   2.662  SIR: 216.182  ISR:   4.088  SAR:   0.963  \n",
      "\n"
     ]
    },
    {
     "name": "stderr",
     "output_type": "stream",
     "text": [
      " 90%|███████████████████████████████████████████████████████████████████████████████████████████████████████████████████████████████████████████████████████████████████████▍                  | 45/50 [12:11<01:25, 17.00s/it]"
     ]
    },
    {
     "name": "stdout",
     "output_type": "stream",
     "text": [
      "drums           ==> SDR:   0.607  SIR: 212.351  ISR:   1.268  SAR:  -4.373  \n",
      "bass            ==> SDR:   0.607  SIR: 212.351  ISR:   1.268  SAR:  -4.373  \n",
      "\n"
     ]
    },
    {
     "name": "stderr",
     "output_type": "stream",
     "text": [
      " 92%|███████████████████████████████████████████████████████████████████████████████████████████████████████████████████████████████████████████████████████████████████████████               | 46/50 [12:28<01:08, 17.15s/it]"
     ]
    },
    {
     "name": "stdout",
     "output_type": "stream",
     "text": [
      "drums           ==> SDR:   2.175  SIR: 204.812  ISR:   4.009  SAR:  -0.034  \n",
      "bass            ==> SDR:   2.175  SIR: 204.812  ISR:   4.009  SAR:  -0.034  \n",
      "\n"
     ]
    },
    {
     "name": "stderr",
     "output_type": "stream",
     "text": [
      " 94%|██████████████████████████████████████████████████████████████████████████████████████████████████████████████████████████████████████████████████████████████████████████████▊           | 47/50 [12:45<00:50, 16.85s/it]"
     ]
    },
    {
     "name": "stdout",
     "output_type": "stream",
     "text": [
      "drums           ==> SDR:   4.685  SIR: 173.866  ISR:   5.883  SAR:   4.073  \n",
      "bass            ==> SDR:   4.685  SIR: 173.866  ISR:   5.883  SAR:   4.073  \n",
      "\n"
     ]
    },
    {
     "name": "stderr",
     "output_type": "stream",
     "text": [
      " 96%|██████████████████████████████████████████████████████████████████████████████████████████████████████████████████████████████████████████████████████████████████████████████████▌       | 48/50 [13:01<00:33, 16.67s/it]"
     ]
    },
    {
     "name": "stdout",
     "output_type": "stream",
     "text": [
      "drums           ==> SDR:   2.686  SIR: 223.396  ISR:   7.367  SAR:   0.109  \n",
      "bass            ==> SDR:   2.686  SIR: 223.396  ISR:   7.367  SAR:   0.109  \n",
      "\n"
     ]
    },
    {
     "name": "stderr",
     "output_type": "stream",
     "text": [
      " 98%|██████████████████████████████████████████████████████████████████████████████████████████████████████████████████████████████████████████████████████████████████████████████████████▎   | 49/50 [13:18<00:16, 16.77s/it]"
     ]
    },
    {
     "name": "stdout",
     "output_type": "stream",
     "text": [
      "drums           ==> SDR:   7.446  SIR: 220.846  ISR:  13.834  SAR:   7.251  \n",
      "bass            ==> SDR:   7.446  SIR: 220.846  ISR:  13.834  SAR:   7.251  \n",
      "\n"
     ]
    },
    {
     "name": "stderr",
     "output_type": "stream",
     "text": [
      "100%|██████████████████████████████████████████████████████████████████████████████████████████████████████████████████████████████████████████████████████████████████████████████████████████| 50/50 [13:35<00:00, 16.30s/it]"
     ]
    },
    {
     "name": "stdout",
     "output_type": "stream",
     "text": [
      "drums           ==> SDR:   4.483  SIR: 207.622  ISR:   7.099  SAR:   3.478  \n",
      "bass            ==> SDR:   4.483  SIR: 207.622  ISR:   7.099  SAR:   3.478  \n",
      "\n"
     ]
    },
    {
     "name": "stderr",
     "output_type": "stream",
     "text": [
      "\n",
      "C:\\Python311\\Lib\\site-packages\\pytorch_lightning\\utilities\\migration\\utils.py:55: The loaded checkpoint was produced with Lightning v2.2.1, which is newer than your current Lightning version: v2.1.2\n",
      "  2%|███▋                                                                                                                                                                                       | 1/50 [00:16<13:37, 16.68s/it]"
     ]
    },
    {
     "name": "stdout",
     "output_type": "stream",
     "text": [
      "drums           ==> SDR:   4.372  SIR: 211.012  ISR:   6.854  SAR:   3.104  \n",
      "bass            ==> SDR:   4.372  SIR: 211.012  ISR:   6.854  SAR:   3.104  \n",
      "\n"
     ]
    },
    {
     "name": "stderr",
     "output_type": "stream",
     "text": [
      "  4%|███████▍                                                                                                                                                                                   | 2/50 [00:33<13:18, 16.64s/it]"
     ]
    },
    {
     "name": "stdout",
     "output_type": "stream",
     "text": [
      "drums           ==> SDR:   2.319  SIR: 184.578  ISR:   5.386  SAR:  -0.748  \n",
      "bass            ==> SDR:   2.319  SIR: 184.578  ISR:   5.386  SAR:  -0.748  \n",
      "\n"
     ]
    },
    {
     "name": "stderr",
     "output_type": "stream",
     "text": [
      "  6%|███████████▏                                                                                                                                                                               | 3/50 [00:49<12:57, 16.54s/it]"
     ]
    },
    {
     "name": "stdout",
     "output_type": "stream",
     "text": [
      "drums           ==> SDR:   3.630  SIR: 230.075  ISR:   6.485  SAR:   2.223  \n",
      "bass            ==> SDR:   3.630  SIR: 230.075  ISR:   6.485  SAR:   2.223  \n",
      "\n"
     ]
    },
    {
     "name": "stderr",
     "output_type": "stream",
     "text": [
      "  8%|██████████████▉                                                                                                                                                                            | 4/50 [01:06<12:39, 16.51s/it]"
     ]
    },
    {
     "name": "stdout",
     "output_type": "stream",
     "text": [
      "drums           ==> SDR:   0.375  SIR: 222.155  ISR:   5.996  SAR:  -3.169  \n",
      "bass            ==> SDR:   0.375  SIR: 222.155  ISR:   5.996  SAR:  -3.169  \n",
      "\n"
     ]
    },
    {
     "name": "stderr",
     "output_type": "stream",
     "text": [
      " 10%|██████████████████▋                                                                                                                                                                        | 5/50 [01:22<12:20, 16.45s/it]"
     ]
    },
    {
     "name": "stdout",
     "output_type": "stream",
     "text": [
      "drums           ==> SDR:   7.215  SIR: 201.510  ISR:   9.875  SAR:   7.628  \n",
      "bass            ==> SDR:   7.215  SIR: 201.510  ISR:   9.875  SAR:   7.628  \n",
      "\n"
     ]
    },
    {
     "name": "stderr",
     "output_type": "stream",
     "text": [
      " 12%|██████████████████████▍                                                                                                                                                                    | 6/50 [01:39<12:15, 16.71s/it]"
     ]
    },
    {
     "name": "stdout",
     "output_type": "stream",
     "text": [
      "drums           ==> SDR:   3.491  SIR: 228.681  ISR:   6.633  SAR:   2.429  \n",
      "bass            ==> SDR:   3.491  SIR: 228.681  ISR:   6.633  SAR:   2.429  \n",
      "\n"
     ]
    },
    {
     "name": "stderr",
     "output_type": "stream",
     "text": [
      " 14%|██████████████████████████▏                                                                                                                                                                | 7/50 [01:56<12:04, 16.85s/it]"
     ]
    },
    {
     "name": "stdout",
     "output_type": "stream",
     "text": [
      "drums           ==> SDR:   3.805  SIR: 220.221  ISR:   7.833  SAR:   2.475  \n",
      "bass            ==> SDR:   3.805  SIR: 220.221  ISR:   7.833  SAR:   2.475  \n",
      "\n"
     ]
    },
    {
     "name": "stderr",
     "output_type": "stream",
     "text": [
      " 16%|█████████████████████████████▉                                                                                                                                                             | 8/50 [02:13<11:42, 16.74s/it]"
     ]
    },
    {
     "name": "stdout",
     "output_type": "stream",
     "text": [
      "drums           ==> SDR:   3.073  SIR: 238.417  ISR:   5.680  SAR:   0.831  \n",
      "bass            ==> SDR:   3.073  SIR: 238.417  ISR:   5.680  SAR:   0.831  \n",
      "\n"
     ]
    },
    {
     "name": "stderr",
     "output_type": "stream",
     "text": [
      " 18%|█████████████████████████████████▋                                                                                                                                                         | 9/50 [02:30<11:26, 16.75s/it]"
     ]
    },
    {
     "name": "stdout",
     "output_type": "stream",
     "text": [
      "drums           ==> SDR:   4.688  SIR: 161.797  ISR:   6.271  SAR:   5.162  \n",
      "bass            ==> SDR:   4.688  SIR: 161.797  ISR:   6.271  SAR:   5.162  \n",
      "\n"
     ]
    },
    {
     "name": "stderr",
     "output_type": "stream",
     "text": [
      " 20%|█████████████████████████████████████▏                                                                                                                                                    | 10/50 [02:47<11:12, 16.81s/it]"
     ]
    },
    {
     "name": "stdout",
     "output_type": "stream",
     "text": [
      "drums           ==> SDR: -10.082  SIR: 173.692  ISR:   4.127  SAR: -15.289  \n",
      "bass            ==> SDR: -10.082  SIR: 173.692  ISR:   4.127  SAR: -15.289  \n",
      "\n"
     ]
    },
    {
     "name": "stderr",
     "output_type": "stream",
     "text": [
      " 22%|████████████████████████████████████████▉                                                                                                                                                 | 11/50 [03:03<10:50, 16.67s/it]"
     ]
    },
    {
     "name": "stdout",
     "output_type": "stream",
     "text": [
      "drums           ==> SDR:   6.501  SIR: 216.898  ISR:   8.895  SAR:   7.090  \n",
      "bass            ==> SDR:   6.501  SIR: 216.898  ISR:   8.895  SAR:   7.090  \n",
      "\n"
     ]
    },
    {
     "name": "stderr",
     "output_type": "stream",
     "text": [
      " 24%|████████████████████████████████████████████▋                                                                                                                                             | 12/50 [03:20<10:34, 16.69s/it]"
     ]
    },
    {
     "name": "stdout",
     "output_type": "stream",
     "text": [
      "drums           ==> SDR:   4.716  SIR: 228.321  ISR:   6.412  SAR:   4.960  \n",
      "bass            ==> SDR:   4.716  SIR: 228.321  ISR:   6.412  SAR:   4.960  \n",
      "\n"
     ]
    },
    {
     "name": "stderr",
     "output_type": "stream",
     "text": [
      " 26%|████████████████████████████████████████████████▎                                                                                                                                         | 13/50 [03:36<10:08, 16.43s/it]"
     ]
    },
    {
     "name": "stdout",
     "output_type": "stream",
     "text": [
      "drums           ==> SDR:   1.821  SIR:  88.955  ISR:   2.681  SAR:   0.450  \n",
      "bass            ==> SDR:   1.821  SIR:  88.955  ISR:   2.681  SAR:   0.450  \n",
      "\n"
     ]
    },
    {
     "name": "stderr",
     "output_type": "stream",
     "text": [
      " 28%|████████████████████████████████████████████████████                                                                                                                                      | 14/50 [03:52<09:52, 16.47s/it]"
     ]
    },
    {
     "name": "stdout",
     "output_type": "stream",
     "text": [
      "drums           ==> SDR:   7.133  SIR: 215.442  ISR:  12.460  SAR:   6.956  \n",
      "bass            ==> SDR:   7.133  SIR: 215.442  ISR:  12.460  SAR:   6.956  \n",
      "\n"
     ]
    },
    {
     "name": "stderr",
     "output_type": "stream",
     "text": [
      " 30%|███████████████████████████████████████████████████████▊                                                                                                                                  | 15/50 [04:09<09:40, 16.59s/it]"
     ]
    },
    {
     "name": "stdout",
     "output_type": "stream",
     "text": [
      "drums           ==> SDR:   3.984  SIR: 208.183  ISR:   6.527  SAR:   2.458  \n",
      "bass            ==> SDR:   3.984  SIR: 208.183  ISR:   6.527  SAR:   2.458  \n",
      "\n"
     ]
    },
    {
     "name": "stderr",
     "output_type": "stream",
     "text": [
      " 32%|███████████████████████████████████████████████████████████▌                                                                                                                              | 16/50 [04:26<09:23, 16.59s/it]"
     ]
    },
    {
     "name": "stdout",
     "output_type": "stream",
     "text": [
      "drums           ==> SDR:   3.199  SIR: 213.848  ISR:   6.642  SAR:   1.240  \n",
      "bass            ==> SDR:   3.199  SIR: 213.848  ISR:   6.642  SAR:   1.240  \n",
      "\n"
     ]
    },
    {
     "name": "stderr",
     "output_type": "stream",
     "text": [
      " 34%|███████████████████████████████████████████████████████████████▏                                                                                                                          | 17/50 [04:41<08:53, 16.16s/it]"
     ]
    },
    {
     "name": "stdout",
     "output_type": "stream",
     "text": [
      "drums           ==> SDR:   1.157  SIR: 222.126  ISR:   4.012  SAR:  -3.179  \n",
      "bass            ==> SDR:   1.157  SIR: 222.126  ISR:   4.012  SAR:  -3.179  \n",
      "\n"
     ]
    },
    {
     "name": "stderr",
     "output_type": "stream",
     "text": [
      " 36%|██████████████████████████████████████████████████████████████████▉                                                                                                                       | 18/50 [04:55<08:23, 15.73s/it]"
     ]
    },
    {
     "name": "stdout",
     "output_type": "stream",
     "text": [
      "drums           ==> SDR:   6.677  SIR: 204.403  ISR:   9.505  SAR:   7.376  \n",
      "bass            ==> SDR:   6.677  SIR: 204.403  ISR:   9.505  SAR:   7.376  \n",
      "\n"
     ]
    },
    {
     "name": "stderr",
     "output_type": "stream",
     "text": [
      " 38%|██████████████████████████████████████████████████████████████████████▋                                                                                                                   | 19/50 [05:10<07:58, 15.43s/it]"
     ]
    },
    {
     "name": "stdout",
     "output_type": "stream",
     "text": [
      "drums           ==> SDR:   8.223  SIR: 221.103  ISR:  11.043  SAR:   8.826  \n",
      "bass            ==> SDR:   8.223  SIR: 221.103  ISR:  11.043  SAR:   8.826  \n",
      "\n"
     ]
    },
    {
     "name": "stderr",
     "output_type": "stream",
     "text": [
      " 40%|██████████████████████████████████████████████████████████████████████████▍                                                                                                               | 20/50 [05:25<07:34, 15.15s/it]"
     ]
    },
    {
     "name": "stdout",
     "output_type": "stream",
     "text": [
      "drums           ==> SDR:   2.940  SIR: 211.395  ISR:   3.649  SAR:   5.450  \n",
      "bass            ==> SDR:   2.940  SIR: 211.395  ISR:   3.649  SAR:   5.450  \n",
      "\n"
     ]
    },
    {
     "name": "stderr",
     "output_type": "stream",
     "text": [
      " 42%|██████████████████████████████████████████████████████████████████████████████                                                                                                            | 21/50 [05:39<07:14, 14.99s/it]"
     ]
    },
    {
     "name": "stdout",
     "output_type": "stream",
     "text": [
      "drums           ==> SDR:   6.447  SIR: 189.749  ISR:   8.591  SAR:   8.291  \n",
      "bass            ==> SDR:   6.447  SIR: 189.749  ISR:   8.591  SAR:   8.291  \n",
      "\n"
     ]
    },
    {
     "name": "stderr",
     "output_type": "stream",
     "text": [
      " 44%|█████████████████████████████████████████████████████████████████████████████████▊                                                                                                        | 22/50 [05:55<07:08, 15.30s/it]"
     ]
    },
    {
     "name": "stdout",
     "output_type": "stream",
     "text": [
      "drums           ==> SDR:  -5.120  SIR: 270.839  ISR:  -1.143  SAR: -14.496  \n",
      "bass            ==> SDR:  -5.120  SIR: 270.839  ISR:  -1.143  SAR: -14.496  \n",
      "\n"
     ]
    },
    {
     "name": "stderr",
     "output_type": "stream",
     "text": [
      " 46%|█████████████████████████████████████████████████████████████████████████████████████▌                                                                                                    | 23/50 [06:12<07:01, 15.60s/it]"
     ]
    },
    {
     "name": "stdout",
     "output_type": "stream",
     "text": [
      "drums           ==> SDR:   2.954  SIR: 165.336  ISR:   5.808  SAR:   1.155  \n",
      "bass            ==> SDR:   2.954  SIR: 165.336  ISR:   5.808  SAR:   1.155  \n",
      "\n"
     ]
    },
    {
     "name": "stderr",
     "output_type": "stream",
     "text": [
      " 48%|█████████████████████████████████████████████████████████████████████████████████████████▎                                                                                                | 24/50 [06:28<06:53, 15.89s/it]"
     ]
    },
    {
     "name": "stdout",
     "output_type": "stream",
     "text": [
      "drums           ==> SDR:   4.172  SIR: 132.774  ISR:   6.953  SAR:   4.011  \n",
      "bass            ==> SDR:   4.172  SIR: 132.774  ISR:   6.953  SAR:   4.011  \n",
      "\n"
     ]
    },
    {
     "name": "stderr",
     "output_type": "stream",
     "text": [
      " 50%|█████████████████████████████████████████████████████████████████████████████████████████████                                                                                             | 25/50 [06:45<06:45, 16.22s/it]"
     ]
    },
    {
     "name": "stdout",
     "output_type": "stream",
     "text": [
      "drums           ==> SDR:   1.353  SIR: 226.170  ISR:   2.340  SAR:   0.033  \n",
      "bass            ==> SDR:   1.353  SIR: 226.170  ISR:   2.340  SAR:   0.033  \n",
      "\n"
     ]
    },
    {
     "name": "stderr",
     "output_type": "stream",
     "text": [
      " 52%|████████████████████████████████████████████████████████████████████████████████████████████████▋                                                                                         | 26/50 [07:01<06:28, 16.18s/it]"
     ]
    },
    {
     "name": "stdout",
     "output_type": "stream",
     "text": [
      "drums           ==> SDR:   8.700  SIR: 186.555  ISR:  12.247  SAR:   9.206  \n",
      "bass            ==> SDR:   8.700  SIR: 186.555  ISR:  12.247  SAR:   9.206  \n",
      "\n"
     ]
    },
    {
     "name": "stderr",
     "output_type": "stream",
     "text": [
      " 54%|████████████████████████████████████████████████████████████████████████████████████████████████████▍                                                                                     | 27/50 [07:19<06:22, 16.62s/it]"
     ]
    },
    {
     "name": "stdout",
     "output_type": "stream",
     "text": [
      "drums           ==> SDR:   6.671  SIR: 182.997  ISR:  11.961  SAR:   6.296  \n",
      "bass            ==> SDR:   6.671  SIR: 182.997  ISR:  11.961  SAR:   6.296  \n",
      "\n"
     ]
    },
    {
     "name": "stderr",
     "output_type": "stream",
     "text": [
      " 56%|████████████████████████████████████████████████████████████████████████████████████████████████████████▏                                                                                 | 28/50 [07:36<06:07, 16.68s/it]"
     ]
    },
    {
     "name": "stdout",
     "output_type": "stream",
     "text": [
      "drums           ==> SDR:   7.536  SIR: 197.537  ISR:   8.787  SAR:  10.015  \n",
      "bass            ==> SDR:   7.536  SIR: 197.537  ISR:   8.787  SAR:  10.015  \n",
      "\n"
     ]
    },
    {
     "name": "stderr",
     "output_type": "stream",
     "text": [
      " 58%|███████████████████████████████████████████████████████████████████████████████████████████████████████████▉                                                                              | 29/50 [07:53<05:53, 16.82s/it]"
     ]
    },
    {
     "name": "stdout",
     "output_type": "stream",
     "text": [
      "drums           ==> SDR:   4.259  SIR: 193.832  ISR:   5.508  SAR:   5.261  \n",
      "bass            ==> SDR:   4.259  SIR: 193.832  ISR:   5.508  SAR:   5.261  \n",
      "\n"
     ]
    },
    {
     "name": "stderr",
     "output_type": "stream",
     "text": [
      " 60%|███████████████████████████████████████████████████████████████████████████████████████████████████████████████▌                                                                          | 30/50 [08:11<05:42, 17.12s/it]"
     ]
    },
    {
     "name": "stdout",
     "output_type": "stream",
     "text": [
      "drums           ==> SDR:   4.516  SIR: 211.577  ISR:   6.315  SAR:   3.810  \n",
      "bass            ==> SDR:   4.516  SIR: 211.577  ISR:   6.315  SAR:   3.810  \n",
      "\n"
     ]
    },
    {
     "name": "stderr",
     "output_type": "stream",
     "text": [
      " 62%|███████████████████████████████████████████████████████████████████████████████████████████████████████████████████▎                                                                      | 31/50 [08:29<05:31, 17.45s/it]"
     ]
    },
    {
     "name": "stdout",
     "output_type": "stream",
     "text": [
      "drums           ==> SDR:   2.191  SIR: 200.159  ISR:   7.980  SAR:   0.706  \n",
      "bass            ==> SDR:   2.191  SIR: 200.159  ISR:   7.980  SAR:   0.706  \n",
      "\n"
     ]
    },
    {
     "name": "stderr",
     "output_type": "stream",
     "text": [
      " 64%|███████████████████████████████████████████████████████████████████████████████████████████████████████████████████████                                                                   | 32/50 [08:44<05:01, 16.78s/it]"
     ]
    },
    {
     "name": "stdout",
     "output_type": "stream",
     "text": [
      "drums           ==> SDR:   0.806  SIR: 184.722  ISR:   2.547  SAR:  -1.189  \n",
      "bass            ==> SDR:   0.806  SIR: 184.722  ISR:   2.547  SAR:  -1.189  \n",
      "\n"
     ]
    },
    {
     "name": "stderr",
     "output_type": "stream",
     "text": [
      " 66%|██████████████████████████████████████████████████████████████████████████████████████████████████████████████████████████▊                                                               | 33/50 [09:00<04:42, 16.63s/it]"
     ]
    },
    {
     "name": "stdout",
     "output_type": "stream",
     "text": [
      "drums           ==> SDR:   0.938  SIR: 221.845  ISR:   3.816  SAR:  -1.462  \n",
      "bass            ==> SDR:   0.938  SIR: 221.845  ISR:   3.816  SAR:  -1.462  \n",
      "\n"
     ]
    },
    {
     "name": "stderr",
     "output_type": "stream",
     "text": [
      " 68%|██████████████████████████████████████████████████████████████████████████████████████████████████████████████████████████████▍                                                           | 34/50 [09:19<04:34, 17.17s/it]"
     ]
    },
    {
     "name": "stdout",
     "output_type": "stream",
     "text": [
      "drums           ==> SDR:   3.260  SIR: 250.651  ISR:   5.975  SAR:   1.469  \n",
      "bass            ==> SDR:   3.260  SIR: 250.651  ISR:   5.975  SAR:   1.469  \n",
      "\n"
     ]
    },
    {
     "name": "stderr",
     "output_type": "stream",
     "text": [
      " 70%|██████████████████████████████████████████████████████████████████████████████████████████████████████████████████████████████████▏                                                       | 35/50 [09:37<04:23, 17.60s/it]"
     ]
    },
    {
     "name": "stdout",
     "output_type": "stream",
     "text": [
      "drums           ==> SDR:   7.113  SIR: 224.847  ISR:   9.888  SAR:   8.081  \n",
      "bass            ==> SDR:   7.113  SIR: 224.847  ISR:   9.888  SAR:   8.081  \n",
      "\n"
     ]
    },
    {
     "name": "stderr",
     "output_type": "stream",
     "text": [
      " 72%|█████████████████████████████████████████████████████████████████████████████████████████████████████████████████████████████████████▉                                                    | 36/50 [09:56<04:10, 17.90s/it]"
     ]
    },
    {
     "name": "stdout",
     "output_type": "stream",
     "text": [
      "drums           ==> SDR:   1.057  SIR: 209.280  ISR:   3.576  SAR:  -3.374  \n",
      "bass            ==> SDR:   1.057  SIR: 209.280  ISR:   3.576  SAR:  -3.374  \n",
      "\n"
     ]
    },
    {
     "name": "stderr",
     "output_type": "stream",
     "text": [
      " 74%|█████████████████████████████████████████████████████████████████████████████████████████████████████████████████████████████████████████▋                                                | 37/50 [10:14<03:52, 17.87s/it]"
     ]
    },
    {
     "name": "stdout",
     "output_type": "stream",
     "text": [
      "drums           ==> SDR:   2.708  SIR: 201.430  ISR:   8.307  SAR:   0.549  \n",
      "bass            ==> SDR:   2.708  SIR: 201.430  ISR:   8.307  SAR:   0.549  \n",
      "\n"
     ]
    },
    {
     "name": "stderr",
     "output_type": "stream",
     "text": [
      " 76%|█████████████████████████████████████████████████████████████████████████████████████████████████████████████████████████████████████████████▎                                            | 38/50 [10:30<03:27, 17.33s/it]"
     ]
    },
    {
     "name": "stdout",
     "output_type": "stream",
     "text": [
      "drums           ==> SDR:   5.461  SIR: 220.074  ISR:   6.121  SAR:   3.271  \n",
      "bass            ==> SDR:   5.461  SIR: 220.074  ISR:   6.121  SAR:   3.271  \n",
      "\n"
     ]
    },
    {
     "name": "stderr",
     "output_type": "stream",
     "text": [
      " 78%|█████████████████████████████████████████████████████████████████████████████████████████████████████████████████████████████████████████████████                                         | 39/50 [10:46<03:06, 16.97s/it]"
     ]
    },
    {
     "name": "stdout",
     "output_type": "stream",
     "text": [
      "drums           ==> SDR:   2.610  SIR: 231.799  ISR:   3.752  SAR:   1.993  \n",
      "bass            ==> SDR:   2.610  SIR: 231.799  ISR:   3.752  SAR:   1.993  \n",
      "\n"
     ]
    },
    {
     "name": "stderr",
     "output_type": "stream",
     "text": [
      " 80%|████████████████████████████████████████████████████████████████████████████████████████████████████████████████████████████████████████████████████▊                                     | 40/50 [11:03<02:49, 16.96s/it]"
     ]
    },
    {
     "name": "stdout",
     "output_type": "stream",
     "text": [
      "drums           ==> SDR:   2.452  SIR: 170.961  ISR:   3.857  SAR:  -0.033  \n",
      "bass            ==> SDR:   2.452  SIR: 170.961  ISR:   3.857  SAR:  -0.033  \n",
      "\n"
     ]
    },
    {
     "name": "stderr",
     "output_type": "stream",
     "text": [
      " 82%|████████████████████████████████████████████████████████████████████████████████████████████████████████████████████████████████████████████████████████▌                                 | 41/50 [11:19<02:31, 16.81s/it]"
     ]
    },
    {
     "name": "stdout",
     "output_type": "stream",
     "text": [
      "drums           ==> SDR:   3.229  SIR: 178.046  ISR:   6.575  SAR:   3.378  \n",
      "bass            ==> SDR:   3.229  SIR: 178.046  ISR:   6.575  SAR:   3.378  \n",
      "\n"
     ]
    },
    {
     "name": "stderr",
     "output_type": "stream",
     "text": [
      " 84%|████████████████████████████████████████████████████████████████████████████████████████████████████████████████████████████████████████████████████████████▏                             | 42/50 [11:36<02:14, 16.75s/it]"
     ]
    },
    {
     "name": "stdout",
     "output_type": "stream",
     "text": [
      "drums           ==> SDR:   4.880  SIR: 113.380  ISR:   7.117  SAR:   4.127  \n",
      "bass            ==> SDR:   4.880  SIR: 113.380  ISR:   7.117  SAR:   4.127  \n",
      "\n"
     ]
    },
    {
     "name": "stderr",
     "output_type": "stream",
     "text": [
      " 86%|███████████████████████████████████████████████████████████████████████████████████████████████████████████████████████████████████████████████████████████████▉                          | 43/50 [11:51<01:53, 16.26s/it]"
     ]
    },
    {
     "name": "stdout",
     "output_type": "stream",
     "text": [
      "drums           ==> SDR:   2.715  SIR: 175.189  ISR:   4.411  SAR:  -0.025  \n",
      "bass            ==> SDR:   2.715  SIR: 175.189  ISR:   4.411  SAR:  -0.025  \n",
      "\n"
     ]
    },
    {
     "name": "stderr",
     "output_type": "stream",
     "text": [
      " 88%|███████████████████████████████████████████████████████████████████████████████████████████████████████████████████████████████████████████████████████████████████▋                      | 44/50 [12:06<01:35, 15.91s/it]"
     ]
    },
    {
     "name": "stdout",
     "output_type": "stream",
     "text": [
      "drums           ==> SDR:   3.248  SIR: 216.068  ISR:   4.398  SAR:   1.679  \n",
      "bass            ==> SDR:   3.248  SIR: 216.068  ISR:   4.398  SAR:   1.679  \n",
      "\n"
     ]
    },
    {
     "name": "stderr",
     "output_type": "stream",
     "text": [
      " 90%|███████████████████████████████████████████████████████████████████████████████████████████████████████████████████████████████████████████████████████████████████████▍                  | 45/50 [12:22<01:20, 16.02s/it]"
     ]
    },
    {
     "name": "stdout",
     "output_type": "stream",
     "text": [
      "drums           ==> SDR:   0.525  SIR: 211.989  ISR:   1.105  SAR:  -3.704  \n",
      "bass            ==> SDR:   0.525  SIR: 211.989  ISR:   1.105  SAR:  -3.704  \n",
      "\n"
     ]
    },
    {
     "name": "stderr",
     "output_type": "stream",
     "text": [
      " 92%|███████████████████████████████████████████████████████████████████████████████████████████████████████████████████████████████████████████████████████████████████████████               | 46/50 [12:42<01:07, 16.98s/it]"
     ]
    },
    {
     "name": "stdout",
     "output_type": "stream",
     "text": [
      "drums           ==> SDR:   2.217  SIR: 203.055  ISR:   3.993  SAR:  -0.023  \n",
      "bass            ==> SDR:   2.217  SIR: 203.055  ISR:   3.993  SAR:  -0.023  \n",
      "\n"
     ]
    },
    {
     "name": "stderr",
     "output_type": "stream",
     "text": [
      " 94%|██████████████████████████████████████████████████████████████████████████████████████████████████████████████████████████████████████████████████████████████████████████████▊           | 47/50 [12:56<00:48, 16.20s/it]"
     ]
    },
    {
     "name": "stdout",
     "output_type": "stream",
     "text": [
      "drums           ==> SDR:   3.617  SIR: 171.480  ISR:   5.355  SAR:   3.536  \n",
      "bass            ==> SDR:   3.617  SIR: 171.480  ISR:   5.355  SAR:   3.536  \n",
      "\n"
     ]
    },
    {
     "name": "stderr",
     "output_type": "stream",
     "text": [
      " 96%|██████████████████████████████████████████████████████████████████████████████████████████████████████████████████████████████████████████████████████████████████████████████████▌       | 48/50 [13:12<00:32, 16.02s/it]"
     ]
    },
    {
     "name": "stdout",
     "output_type": "stream",
     "text": [
      "drums           ==> SDR:   2.594  SIR: 224.124  ISR:   7.058  SAR:  -0.220  \n",
      "bass            ==> SDR:   2.594  SIR: 224.124  ISR:   7.058  SAR:  -0.220  \n",
      "\n"
     ]
    },
    {
     "name": "stderr",
     "output_type": "stream",
     "text": [
      " 98%|██████████████████████████████████████████████████████████████████████████████████████████████████████████████████████████████████████████████████████████████████████████████████████▎   | 49/50 [13:28<00:16, 16.04s/it]"
     ]
    },
    {
     "name": "stdout",
     "output_type": "stream",
     "text": [
      "drums           ==> SDR:   7.371  SIR: 216.727  ISR:  13.843  SAR:   7.247  \n",
      "bass            ==> SDR:   7.371  SIR: 216.727  ISR:  13.843  SAR:   7.247  \n",
      "\n"
     ]
    },
    {
     "name": "stderr",
     "output_type": "stream",
     "text": [
      "100%|██████████████████████████████████████████████████████████████████████████████████████████████████████████████████████████████████████████████████████████████████████████████████████████| 50/50 [13:48<00:00, 16.57s/it]"
     ]
    },
    {
     "name": "stdout",
     "output_type": "stream",
     "text": [
      "drums           ==> SDR:   4.517  SIR: 208.100  ISR:   7.311  SAR:   3.801  \n",
      "bass            ==> SDR:   4.517  SIR: 208.100  ISR:   7.311  SAR:   3.801  \n",
      "\n"
     ]
    },
    {
     "name": "stderr",
     "output_type": "stream",
     "text": [
      "\n",
      "C:\\Python311\\Lib\\site-packages\\pytorch_lightning\\utilities\\migration\\utils.py:55: The loaded checkpoint was produced with Lightning v2.2.1, which is newer than your current Lightning version: v2.1.2\n",
      "  2%|███▋                                                                                                                                                                                       | 1/50 [00:15<12:33, 15.38s/it]"
     ]
    },
    {
     "name": "stdout",
     "output_type": "stream",
     "text": [
      "drums           ==> SDR:   4.268  SIR: 204.179  ISR:   6.912  SAR:   2.995  \n",
      "bass            ==> SDR:   4.268  SIR: 204.179  ISR:   6.912  SAR:   2.995  \n",
      "\n"
     ]
    },
    {
     "name": "stderr",
     "output_type": "stream",
     "text": [
      "  4%|███████▍                                                                                                                                                                                   | 2/50 [00:31<12:26, 15.56s/it]"
     ]
    },
    {
     "name": "stdout",
     "output_type": "stream",
     "text": [
      "drums           ==> SDR:   2.505  SIR: 192.123  ISR:   5.165  SAR:  -0.659  \n",
      "bass            ==> SDR:   2.505  SIR: 192.123  ISR:   5.165  SAR:  -0.659  \n",
      "\n"
     ]
    },
    {
     "name": "stderr",
     "output_type": "stream",
     "text": [
      "  6%|███████████▏                                                                                                                                                                               | 3/50 [00:46<12:12, 15.58s/it]"
     ]
    },
    {
     "name": "stdout",
     "output_type": "stream",
     "text": [
      "drums           ==> SDR:   3.629  SIR: 224.826  ISR:   6.549  SAR:   2.274  \n",
      "bass            ==> SDR:   3.629  SIR: 224.826  ISR:   6.549  SAR:   2.274  \n",
      "\n"
     ]
    },
    {
     "name": "stderr",
     "output_type": "stream",
     "text": [
      "  8%|██████████████▉                                                                                                                                                                            | 4/50 [01:02<12:03, 15.72s/it]"
     ]
    },
    {
     "name": "stdout",
     "output_type": "stream",
     "text": [
      "drums           ==> SDR:   1.164  SIR: 226.842  ISR:   4.787  SAR:  -2.284  \n",
      "bass            ==> SDR:   1.164  SIR: 226.842  ISR:   4.787  SAR:  -2.284  \n",
      "\n"
     ]
    },
    {
     "name": "stderr",
     "output_type": "stream",
     "text": [
      " 10%|██████████████████▋                                                                                                                                                                        | 5/50 [01:18<11:50, 15.80s/it]"
     ]
    },
    {
     "name": "stdout",
     "output_type": "stream",
     "text": [
      "drums           ==> SDR:   6.960  SIR: 191.149  ISR:   9.449  SAR:   7.715  \n",
      "bass            ==> SDR:   6.960  SIR: 191.149  ISR:   9.449  SAR:   7.715  \n",
      "\n"
     ]
    },
    {
     "name": "stderr",
     "output_type": "stream",
     "text": [
      " 12%|██████████████████████▍                                                                                                                                                                    | 6/50 [01:34<11:42, 15.96s/it]"
     ]
    },
    {
     "name": "stdout",
     "output_type": "stream",
     "text": [
      "drums           ==> SDR:   3.417  SIR: 233.180  ISR:   6.191  SAR:   2.304  \n",
      "bass            ==> SDR:   3.417  SIR: 233.180  ISR:   6.191  SAR:   2.304  \n",
      "\n"
     ]
    },
    {
     "name": "stderr",
     "output_type": "stream",
     "text": [
      " 14%|██████████████████████████▏                                                                                                                                                                | 7/50 [01:50<11:23, 15.90s/it]"
     ]
    },
    {
     "name": "stdout",
     "output_type": "stream",
     "text": [
      "drums           ==> SDR:   3.816  SIR: 217.115  ISR:   7.697  SAR:   2.277  \n",
      "bass            ==> SDR:   3.816  SIR: 217.115  ISR:   7.697  SAR:   2.277  \n",
      "\n"
     ]
    },
    {
     "name": "stderr",
     "output_type": "stream",
     "text": [
      " 16%|█████████████████████████████▉                                                                                                                                                             | 8/50 [02:05<10:51, 15.51s/it]"
     ]
    },
    {
     "name": "stdout",
     "output_type": "stream",
     "text": [
      "drums           ==> SDR:   3.050  SIR: 239.060  ISR:   5.755  SAR:   1.380  \n",
      "bass            ==> SDR:   3.050  SIR: 239.060  ISR:   5.755  SAR:   1.380  \n",
      "\n"
     ]
    },
    {
     "name": "stderr",
     "output_type": "stream",
     "text": [
      " 18%|█████████████████████████████████▋                                                                                                                                                         | 9/50 [02:19<10:21, 15.17s/it]"
     ]
    },
    {
     "name": "stdout",
     "output_type": "stream",
     "text": [
      "drums           ==> SDR:   3.948  SIR: 163.289  ISR:   5.856  SAR:   4.608  \n",
      "bass            ==> SDR:   3.948  SIR: 163.289  ISR:   5.856  SAR:   4.608  \n",
      "\n"
     ]
    },
    {
     "name": "stderr",
     "output_type": "stream",
     "text": [
      " 20%|█████████████████████████████████████▏                                                                                                                                                    | 10/50 [02:33<09:55, 14.90s/it]"
     ]
    },
    {
     "name": "stdout",
     "output_type": "stream",
     "text": [
      "drums           ==> SDR: -10.082  SIR: 174.602  ISR:   4.327  SAR: -15.354  \n",
      "bass            ==> SDR: -10.082  SIR: 174.602  ISR:   4.327  SAR: -15.354  \n",
      "\n"
     ]
    },
    {
     "name": "stderr",
     "output_type": "stream",
     "text": [
      " 22%|████████████████████████████████████████▉                                                                                                                                                 | 11/50 [02:48<09:35, 14.75s/it]"
     ]
    },
    {
     "name": "stdout",
     "output_type": "stream",
     "text": [
      "drums           ==> SDR:   6.386  SIR: 218.947  ISR:   8.747  SAR:   6.999  \n",
      "bass            ==> SDR:   6.386  SIR: 218.947  ISR:   8.747  SAR:   6.999  \n",
      "\n"
     ]
    },
    {
     "name": "stderr",
     "output_type": "stream",
     "text": [
      " 24%|████████████████████████████████████████████▋                                                                                                                                             | 12/50 [03:02<09:17, 14.67s/it]"
     ]
    },
    {
     "name": "stdout",
     "output_type": "stream",
     "text": [
      "drums           ==> SDR:   4.741  SIR: 226.861  ISR:   6.642  SAR:   4.915  \n",
      "bass            ==> SDR:   4.741  SIR: 226.861  ISR:   6.642  SAR:   4.915  \n",
      "\n"
     ]
    },
    {
     "name": "stderr",
     "output_type": "stream",
     "text": [
      " 26%|████████████████████████████████████████████████▎                                                                                                                                         | 13/50 [03:16<08:50, 14.35s/it]"
     ]
    },
    {
     "name": "stdout",
     "output_type": "stream",
     "text": [
      "drums           ==> SDR:   1.932  SIR:  90.058  ISR:   2.508  SAR:   0.429  \n",
      "bass            ==> SDR:   1.932  SIR:  90.058  ISR:   2.508  SAR:   0.429  \n",
      "\n"
     ]
    },
    {
     "name": "stderr",
     "output_type": "stream",
     "text": [
      " 28%|████████████████████████████████████████████████████                                                                                                                                      | 14/50 [03:33<09:06, 15.19s/it]"
     ]
    },
    {
     "name": "stdout",
     "output_type": "stream",
     "text": [
      "drums           ==> SDR:   6.942  SIR: 208.902  ISR:  12.000  SAR:   6.780  \n",
      "bass            ==> SDR:   6.942  SIR: 208.902  ISR:  12.000  SAR:   6.780  \n",
      "\n"
     ]
    },
    {
     "name": "stderr",
     "output_type": "stream",
     "text": [
      " 30%|███████████████████████████████████████████████████████▊                                                                                                                                  | 15/50 [03:48<08:44, 14.99s/it]"
     ]
    },
    {
     "name": "stdout",
     "output_type": "stream",
     "text": [
      "drums           ==> SDR:   3.975  SIR: 210.562  ISR:   6.487  SAR:   2.615  \n",
      "bass            ==> SDR:   3.975  SIR: 210.562  ISR:   6.487  SAR:   2.615  \n",
      "\n"
     ]
    },
    {
     "name": "stderr",
     "output_type": "stream",
     "text": [
      " 32%|███████████████████████████████████████████████████████████▌                                                                                                                              | 16/50 [04:02<08:24, 14.84s/it]"
     ]
    },
    {
     "name": "stdout",
     "output_type": "stream",
     "text": [
      "drums           ==> SDR:   3.344  SIR: 212.008  ISR:   6.678  SAR:   1.004  \n",
      "bass            ==> SDR:   3.344  SIR: 212.008  ISR:   6.678  SAR:   1.004  \n",
      "\n"
     ]
    },
    {
     "name": "stderr",
     "output_type": "stream",
     "text": [
      " 34%|███████████████████████████████████████████████████████████████▏                                                                                                                          | 17/50 [04:16<08:04, 14.68s/it]"
     ]
    },
    {
     "name": "stdout",
     "output_type": "stream",
     "text": [
      "drums           ==> SDR:   1.263  SIR: 216.928  ISR:   3.574  SAR:  -3.043  \n",
      "bass            ==> SDR:   1.263  SIR: 216.928  ISR:   3.574  SAR:  -3.043  \n",
      "\n"
     ]
    },
    {
     "name": "stderr",
     "output_type": "stream",
     "text": [
      " 36%|██████████████████████████████████████████████████████████████████▉                                                                                                                       | 18/50 [04:31<07:47, 14.62s/it]"
     ]
    },
    {
     "name": "stdout",
     "output_type": "stream",
     "text": [
      "drums           ==> SDR:   6.437  SIR: 200.769  ISR:   9.309  SAR:   7.183  \n",
      "bass            ==> SDR:   6.437  SIR: 200.769  ISR:   9.309  SAR:   7.183  \n",
      "\n"
     ]
    },
    {
     "name": "stderr",
     "output_type": "stream",
     "text": [
      " 38%|██████████████████████████████████████████████████████████████████████▋                                                                                                                   | 19/50 [04:46<07:33, 14.64s/it]"
     ]
    },
    {
     "name": "stdout",
     "output_type": "stream",
     "text": [
      "drums           ==> SDR:   8.015  SIR: 217.975  ISR:  10.800  SAR:   8.543  \n",
      "bass            ==> SDR:   8.015  SIR: 217.975  ISR:  10.800  SAR:   8.543  \n",
      "\n"
     ]
    },
    {
     "name": "stderr",
     "output_type": "stream",
     "text": [
      " 40%|██████████████████████████████████████████████████████████████████████████▍                                                                                                               | 20/50 [05:00<07:16, 14.54s/it]"
     ]
    },
    {
     "name": "stdout",
     "output_type": "stream",
     "text": [
      "drums           ==> SDR:   3.049  SIR: 210.712  ISR:   3.777  SAR:   5.443  \n",
      "bass            ==> SDR:   3.049  SIR: 210.712  ISR:   3.777  SAR:   5.443  \n",
      "\n"
     ]
    },
    {
     "name": "stderr",
     "output_type": "stream",
     "text": [
      " 42%|██████████████████████████████████████████████████████████████████████████████                                                                                                            | 21/50 [05:14<06:58, 14.43s/it]"
     ]
    },
    {
     "name": "stdout",
     "output_type": "stream",
     "text": [
      "drums           ==> SDR:   6.165  SIR: 186.745  ISR:   8.444  SAR:   8.112  \n",
      "bass            ==> SDR:   6.165  SIR: 186.745  ISR:   8.444  SAR:   8.112  \n",
      "\n"
     ]
    },
    {
     "name": "stderr",
     "output_type": "stream",
     "text": [
      " 44%|█████████████████████████████████████████████████████████████████████████████████▊                                                                                                        | 22/50 [05:28<06:41, 14.35s/it]"
     ]
    },
    {
     "name": "stdout",
     "output_type": "stream",
     "text": [
      "drums           ==> SDR:  -5.120  SIR: 270.839  ISR:  -1.143  SAR: -14.496  \n",
      "bass            ==> SDR:  -5.120  SIR: 270.839  ISR:  -1.143  SAR: -14.496  \n",
      "\n"
     ]
    },
    {
     "name": "stderr",
     "output_type": "stream",
     "text": [
      " 46%|█████████████████████████████████████████████████████████████████████████████████████▌                                                                                                    | 23/50 [05:42<06:23, 14.20s/it]"
     ]
    },
    {
     "name": "stdout",
     "output_type": "stream",
     "text": [
      "drums           ==> SDR:   3.042  SIR: 163.583  ISR:   5.883  SAR:   1.195  \n",
      "bass            ==> SDR:   3.042  SIR: 163.583  ISR:   5.883  SAR:   1.195  \n",
      "\n"
     ]
    },
    {
     "name": "stderr",
     "output_type": "stream",
     "text": [
      " 48%|█████████████████████████████████████████████████████████████████████████████████████████▎                                                                                                | 24/50 [05:57<06:10, 14.26s/it]"
     ]
    },
    {
     "name": "stdout",
     "output_type": "stream",
     "text": [
      "drums           ==> SDR:   4.012  SIR: 133.391  ISR:   6.885  SAR:   3.666  \n",
      "bass            ==> SDR:   4.012  SIR: 133.391  ISR:   6.885  SAR:   3.666  \n",
      "\n"
     ]
    },
    {
     "name": "stderr",
     "output_type": "stream",
     "text": [
      " 50%|█████████████████████████████████████████████████████████████████████████████████████████████                                                                                             | 25/50 [06:11<05:58, 14.34s/it]"
     ]
    },
    {
     "name": "stdout",
     "output_type": "stream",
     "text": [
      "drums           ==> SDR:   1.434  SIR: 218.425  ISR:   2.332  SAR:   0.583  \n",
      "bass            ==> SDR:   1.434  SIR: 218.425  ISR:   2.332  SAR:   0.583  \n",
      "\n"
     ]
    },
    {
     "name": "stderr",
     "output_type": "stream",
     "text": [
      " 52%|████████████████████████████████████████████████████████████████████████████████████████████████▋                                                                                         | 26/50 [06:25<05:44, 14.34s/it]"
     ]
    },
    {
     "name": "stdout",
     "output_type": "stream",
     "text": [
      "drums           ==> SDR:   8.355  SIR: 180.637  ISR:  11.797  SAR:   9.123  \n",
      "bass            ==> SDR:   8.355  SIR: 180.637  ISR:  11.797  SAR:   9.123  \n",
      "\n"
     ]
    },
    {
     "name": "stderr",
     "output_type": "stream",
     "text": [
      " 54%|████████████████████████████████████████████████████████████████████████████████████████████████████▍                                                                                     | 27/50 [06:40<05:29, 14.31s/it]"
     ]
    },
    {
     "name": "stdout",
     "output_type": "stream",
     "text": [
      "drums           ==> SDR:   7.125  SIR: 180.775  ISR:  11.779  SAR:   6.556  \n",
      "bass            ==> SDR:   7.125  SIR: 180.775  ISR:  11.779  SAR:   6.556  \n",
      "\n"
     ]
    },
    {
     "name": "stderr",
     "output_type": "stream",
     "text": [
      " 56%|████████████████████████████████████████████████████████████████████████████████████████████████████████▏                                                                                 | 28/50 [06:55<05:20, 14.58s/it]"
     ]
    },
    {
     "name": "stdout",
     "output_type": "stream",
     "text": [
      "drums           ==> SDR:   7.593  SIR: 195.277  ISR:   8.778  SAR:   9.868  \n",
      "bass            ==> SDR:   7.593  SIR: 195.277  ISR:   8.778  SAR:   9.868  \n",
      "\n"
     ]
    },
    {
     "name": "stderr",
     "output_type": "stream",
     "text": [
      " 58%|███████████████████████████████████████████████████████████████████████████████████████████████████████████▉                                                                              | 29/50 [07:10<05:07, 14.63s/it]"
     ]
    },
    {
     "name": "stdout",
     "output_type": "stream",
     "text": [
      "drums           ==> SDR:   4.200  SIR: 196.886  ISR:   5.370  SAR:   5.597  \n",
      "bass            ==> SDR:   4.200  SIR: 196.886  ISR:   5.370  SAR:   5.597  \n",
      "\n"
     ]
    },
    {
     "name": "stderr",
     "output_type": "stream",
     "text": [
      " 60%|███████████████████████████████████████████████████████████████████████████████████████████████████████████████▌                                                                          | 30/50 [07:24<04:51, 14.56s/it]"
     ]
    },
    {
     "name": "stdout",
     "output_type": "stream",
     "text": [
      "drums           ==> SDR:   4.526  SIR: 213.136  ISR:   6.099  SAR:   4.167  \n",
      "bass            ==> SDR:   4.526  SIR: 213.136  ISR:   6.099  SAR:   4.167  \n",
      "\n"
     ]
    },
    {
     "name": "stderr",
     "output_type": "stream",
     "text": [
      " 62%|███████████████████████████████████████████████████████████████████████████████████████████████████████████████████▎                                                                      | 31/50 [07:38<04:35, 14.52s/it]"
     ]
    },
    {
     "name": "stdout",
     "output_type": "stream",
     "text": [
      "drums           ==> SDR:   2.216  SIR: 192.458  ISR:   8.080  SAR:   0.839  \n",
      "bass            ==> SDR:   2.216  SIR: 192.458  ISR:   8.080  SAR:   0.839  \n",
      "\n"
     ]
    },
    {
     "name": "stderr",
     "output_type": "stream",
     "text": [
      " 64%|███████████████████████████████████████████████████████████████████████████████████████████████████████████████████████                                                                   | 32/50 [07:52<04:16, 14.27s/it]"
     ]
    },
    {
     "name": "stdout",
     "output_type": "stream",
     "text": [
      "drums           ==> SDR:   0.874  SIR: 191.591  ISR:   2.340  SAR:  -1.915  \n",
      "bass            ==> SDR:   0.874  SIR: 191.591  ISR:   2.340  SAR:  -1.915  \n",
      "\n"
     ]
    },
    {
     "name": "stderr",
     "output_type": "stream",
     "text": [
      " 66%|██████████████████████████████████████████████████████████████████████████████████████████████████████████████████████████▊                                                               | 33/50 [08:06<04:02, 14.27s/it]"
     ]
    },
    {
     "name": "stdout",
     "output_type": "stream",
     "text": [
      "drums           ==> SDR:   1.284  SIR: 229.336  ISR:   3.661  SAR:  -1.255  \n",
      "bass            ==> SDR:   1.284  SIR: 229.336  ISR:   3.661  SAR:  -1.255  \n",
      "\n"
     ]
    },
    {
     "name": "stderr",
     "output_type": "stream",
     "text": [
      " 68%|██████████████████████████████████████████████████████████████████████████████████████████████████████████████████████████████▍                                                           | 34/50 [08:23<04:00, 15.05s/it]"
     ]
    },
    {
     "name": "stdout",
     "output_type": "stream",
     "text": [
      "drums           ==> SDR:   3.101  SIR: 248.192  ISR:   5.835  SAR:   1.344  \n",
      "bass            ==> SDR:   3.101  SIR: 248.192  ISR:   5.835  SAR:   1.344  \n",
      "\n"
     ]
    },
    {
     "name": "stderr",
     "output_type": "stream",
     "text": [
      " 70%|██████████████████████████████████████████████████████████████████████████████████████████████████████████████████████████████████▏                                                       | 35/50 [08:39<03:47, 15.18s/it]"
     ]
    },
    {
     "name": "stdout",
     "output_type": "stream",
     "text": [
      "drums           ==> SDR:   6.971  SIR: 220.515  ISR:   9.893  SAR:   8.261  \n",
      "bass            ==> SDR:   6.971  SIR: 220.515  ISR:   9.893  SAR:   8.261  \n",
      "\n"
     ]
    },
    {
     "name": "stderr",
     "output_type": "stream",
     "text": [
      " 72%|█████████████████████████████████████████████████████████████████████████████████████████████████████████████████████████████████████▉                                                    | 36/50 [08:55<03:35, 15.42s/it]"
     ]
    },
    {
     "name": "stdout",
     "output_type": "stream",
     "text": [
      "drums           ==> SDR:   0.982  SIR: 201.795  ISR:   3.475  SAR:  -3.265  \n",
      "bass            ==> SDR:   0.982  SIR: 201.795  ISR:   3.475  SAR:  -3.265  \n",
      "\n"
     ]
    },
    {
     "name": "stderr",
     "output_type": "stream",
     "text": [
      " 74%|█████████████████████████████████████████████████████████████████████████████████████████████████████████████████████████████████████████▋                                                | 37/50 [09:11<03:24, 15.71s/it]"
     ]
    },
    {
     "name": "stdout",
     "output_type": "stream",
     "text": [
      "drums           ==> SDR:   2.222  SIR: 201.240  ISR:   7.506  SAR:   0.558  \n",
      "bass            ==> SDR:   2.222  SIR: 201.240  ISR:   7.506  SAR:   0.558  \n",
      "\n"
     ]
    },
    {
     "name": "stderr",
     "output_type": "stream",
     "text": [
      " 76%|█████████████████████████████████████████████████████████████████████████████████████████████████████████████████████████████████████████████▎                                            | 38/50 [09:26<03:04, 15.38s/it]"
     ]
    },
    {
     "name": "stdout",
     "output_type": "stream",
     "text": [
      "drums           ==> SDR:   5.454  SIR: 221.489  ISR:   6.059  SAR:   3.381  \n",
      "bass            ==> SDR:   5.454  SIR: 221.489  ISR:   6.059  SAR:   3.381  \n",
      "\n"
     ]
    },
    {
     "name": "stderr",
     "output_type": "stream",
     "text": [
      " 78%|█████████████████████████████████████████████████████████████████████████████████████████████████████████████████████████████████████████████████                                         | 39/50 [09:42<02:51, 15.58s/it]"
     ]
    },
    {
     "name": "stdout",
     "output_type": "stream",
     "text": [
      "drums           ==> SDR:   2.420  SIR: 222.682  ISR:   3.528  SAR:   2.094  \n",
      "bass            ==> SDR:   2.420  SIR: 222.682  ISR:   3.528  SAR:   2.094  \n",
      "\n"
     ]
    },
    {
     "name": "stderr",
     "output_type": "stream",
     "text": [
      " 80%|████████████████████████████████████████████████████████████████████████████████████████████████████████████████████████████████████████████████████▊                                     | 40/50 [09:58<02:37, 15.73s/it]"
     ]
    },
    {
     "name": "stdout",
     "output_type": "stream",
     "text": [
      "drums           ==> SDR:   1.974  SIR: 170.676  ISR:   3.882  SAR:  -0.247  \n",
      "bass            ==> SDR:   1.974  SIR: 170.676  ISR:   3.882  SAR:  -0.247  \n",
      "\n"
     ]
    },
    {
     "name": "stderr",
     "output_type": "stream",
     "text": [
      " 82%|████████████████████████████████████████████████████████████████████████████████████████████████████████████████████████████████████████████████████████▌                                 | 41/50 [10:13<02:19, 15.47s/it]"
     ]
    },
    {
     "name": "stdout",
     "output_type": "stream",
     "text": [
      "drums           ==> SDR:   2.827  SIR: 181.021  ISR:   6.397  SAR:   2.891  \n",
      "bass            ==> SDR:   2.827  SIR: 181.021  ISR:   6.397  SAR:   2.891  \n",
      "\n"
     ]
    },
    {
     "name": "stderr",
     "output_type": "stream",
     "text": [
      " 84%|████████████████████████████████████████████████████████████████████████████████████████████████████████████████████████████████████████████████████████████▏                             | 42/50 [10:28<02:02, 15.31s/it]"
     ]
    },
    {
     "name": "stdout",
     "output_type": "stream",
     "text": [
      "drums           ==> SDR:   4.884  SIR: 113.615  ISR:   7.056  SAR:   4.089  \n",
      "bass            ==> SDR:   4.884  SIR: 113.615  ISR:   7.056  SAR:   4.089  \n",
      "\n"
     ]
    },
    {
     "name": "stderr",
     "output_type": "stream",
     "text": [
      " 86%|███████████████████████████████████████████████████████████████████████████████████████████████████████████████████████████████████████████████████████████████▉                          | 43/50 [10:43<01:47, 15.33s/it]"
     ]
    },
    {
     "name": "stdout",
     "output_type": "stream",
     "text": [
      "drums           ==> SDR:   2.597  SIR: 174.516  ISR:   4.041  SAR:  -0.281  \n",
      "bass            ==> SDR:   2.597  SIR: 174.516  ISR:   4.041  SAR:  -0.281  \n",
      "\n"
     ]
    },
    {
     "name": "stderr",
     "output_type": "stream",
     "text": [
      " 88%|███████████████████████████████████████████████████████████████████████████████████████████████████████████████████████████████████████████████████████████████████▋                      | 44/50 [10:58<01:30, 15.16s/it]"
     ]
    },
    {
     "name": "stdout",
     "output_type": "stream",
     "text": [
      "drums           ==> SDR:   2.930  SIR: 216.104  ISR:   4.112  SAR:   0.703  \n",
      "bass            ==> SDR:   2.930  SIR: 216.104  ISR:   4.112  SAR:   0.703  \n",
      "\n"
     ]
    },
    {
     "name": "stderr",
     "output_type": "stream",
     "text": [
      " 90%|███████████████████████████████████████████████████████████████████████████████████████████████████████████████████████████████████████████████████████████████████████▍                  | 45/50 [11:15<01:18, 15.68s/it]"
     ]
    },
    {
     "name": "stdout",
     "output_type": "stream",
     "text": [
      "drums           ==> SDR:   0.498  SIR: 212.318  ISR:   1.103  SAR:  -3.579  \n",
      "bass            ==> SDR:   0.498  SIR: 212.318  ISR:   1.103  SAR:  -3.579  \n",
      "\n"
     ]
    },
    {
     "name": "stderr",
     "output_type": "stream",
     "text": [
      " 92%|███████████████████████████████████████████████████████████████████████████████████████████████████████████████████████████████████████████████████████████████████████████               | 46/50 [11:31<01:03, 15.82s/it]"
     ]
    },
    {
     "name": "stdout",
     "output_type": "stream",
     "text": [
      "drums           ==> SDR:   2.104  SIR: 204.456  ISR:   3.910  SAR:  -0.411  \n",
      "bass            ==> SDR:   2.104  SIR: 204.456  ISR:   3.910  SAR:  -0.411  \n",
      "\n"
     ]
    },
    {
     "name": "stderr",
     "output_type": "stream",
     "text": [
      " 94%|██████████████████████████████████████████████████████████████████████████████████████████████████████████████████████████████████████████████████████████████████████████████▊           | 47/50 [11:48<00:48, 16.18s/it]"
     ]
    },
    {
     "name": "stdout",
     "output_type": "stream",
     "text": [
      "drums           ==> SDR:   2.886  SIR: 167.786  ISR:   4.827  SAR:   3.251  \n",
      "bass            ==> SDR:   2.886  SIR: 167.786  ISR:   4.827  SAR:   3.251  \n",
      "\n"
     ]
    },
    {
     "name": "stderr",
     "output_type": "stream",
     "text": [
      " 96%|██████████████████████████████████████████████████████████████████████████████████████████████████████████████████████████████████████████████████████████████████████████████████▌       | 48/50 [12:06<00:33, 16.87s/it]"
     ]
    },
    {
     "name": "stdout",
     "output_type": "stream",
     "text": [
      "drums           ==> SDR:   2.436  SIR: 223.337  ISR:   6.901  SAR:  -0.185  \n",
      "bass            ==> SDR:   2.436  SIR: 223.337  ISR:   6.901  SAR:  -0.185  \n",
      "\n"
     ]
    },
    {
     "name": "stderr",
     "output_type": "stream",
     "text": [
      " 98%|██████████████████████████████████████████████████████████████████████████████████████████████████████████████████████████████████████████████████████████████████████████████████████▎   | 49/50 [12:24<00:17, 17.03s/it]"
     ]
    },
    {
     "name": "stdout",
     "output_type": "stream",
     "text": [
      "drums           ==> SDR:   7.377  SIR: 217.610  ISR:  14.029  SAR:   7.210  \n",
      "bass            ==> SDR:   7.377  SIR: 217.610  ISR:  14.029  SAR:   7.210  \n",
      "\n"
     ]
    },
    {
     "name": "stderr",
     "output_type": "stream",
     "text": [
      "100%|██████████████████████████████████████████████████████████████████████████████████████████████████████████████████████████████████████████████████████████████████████████████████████████| 50/50 [12:40<00:00, 15.22s/it]"
     ]
    },
    {
     "name": "stdout",
     "output_type": "stream",
     "text": [
      "drums           ==> SDR:   4.544  SIR: 215.464  ISR:   7.424  SAR:   3.867  \n",
      "bass            ==> SDR:   4.544  SIR: 215.464  ISR:   7.424  SAR:   3.867  \n",
      "\n"
     ]
    },
    {
     "name": "stderr",
     "output_type": "stream",
     "text": [
      "\n",
      "C:\\Python311\\Lib\\site-packages\\pytorch_lightning\\utilities\\migration\\utils.py:55: The loaded checkpoint was produced with Lightning v2.2.1, which is newer than your current Lightning version: v2.1.2\n",
      "  2%|███▋                                                                                                                                                                                       | 1/50 [00:17<13:58, 17.11s/it]"
     ]
    },
    {
     "name": "stdout",
     "output_type": "stream",
     "text": [
      "drums           ==> SDR:   4.163  SIR: 202.859  ISR:   6.281  SAR:   2.387  \n",
      "bass            ==> SDR:   4.163  SIR: 202.859  ISR:   6.281  SAR:   2.387  \n",
      "\n"
     ]
    },
    {
     "name": "stderr",
     "output_type": "stream",
     "text": [
      "  4%|███████▍                                                                                                                                                                                   | 2/50 [00:33<13:27, 16.83s/it]"
     ]
    },
    {
     "name": "stdout",
     "output_type": "stream",
     "text": [
      "drums           ==> SDR:   2.455  SIR: 185.900  ISR:   5.071  SAR:  -0.854  \n",
      "bass            ==> SDR:   2.455  SIR: 185.900  ISR:   5.071  SAR:  -0.854  \n",
      "\n"
     ]
    },
    {
     "name": "stderr",
     "output_type": "stream",
     "text": [
      "  6%|███████████▏                                                                                                                                                                               | 3/50 [00:49<12:56, 16.52s/it]"
     ]
    },
    {
     "name": "stdout",
     "output_type": "stream",
     "text": [
      "drums           ==> SDR:   3.593  SIR: 226.875  ISR:   6.305  SAR:   2.009  \n",
      "bass            ==> SDR:   3.593  SIR: 226.875  ISR:   6.305  SAR:   2.009  \n",
      "\n"
     ]
    },
    {
     "name": "stderr",
     "output_type": "stream",
     "text": [
      "  8%|██████████████▉                                                                                                                                                                            | 4/50 [01:09<13:27, 17.56s/it]"
     ]
    },
    {
     "name": "stdout",
     "output_type": "stream",
     "text": [
      "drums           ==> SDR:   1.123  SIR: 219.146  ISR:   5.194  SAR:  -2.023  \n",
      "bass            ==> SDR:   1.123  SIR: 219.146  ISR:   5.194  SAR:  -2.023  \n",
      "\n"
     ]
    },
    {
     "name": "stderr",
     "output_type": "stream",
     "text": [
      " 10%|██████████████████▋                                                                                                                                                                        | 5/50 [01:25<12:54, 17.22s/it]"
     ]
    },
    {
     "name": "stdout",
     "output_type": "stream",
     "text": [
      "drums           ==> SDR:   6.981  SIR: 191.889  ISR:   9.194  SAR:   7.666  \n",
      "bass            ==> SDR:   6.981  SIR: 191.889  ISR:   9.194  SAR:   7.666  \n",
      "\n"
     ]
    },
    {
     "name": "stderr",
     "output_type": "stream",
     "text": [
      " 12%|██████████████████████▍                                                                                                                                                                    | 6/50 [01:40<12:02, 16.43s/it]"
     ]
    },
    {
     "name": "stdout",
     "output_type": "stream",
     "text": [
      "drums           ==> SDR:   3.632  SIR: 231.884  ISR:   6.131  SAR:   2.549  \n",
      "bass            ==> SDR:   3.632  SIR: 231.884  ISR:   6.131  SAR:   2.549  \n",
      "\n"
     ]
    },
    {
     "name": "stderr",
     "output_type": "stream",
     "text": [
      " 14%|██████████████████████████▏                                                                                                                                                                | 7/50 [01:56<11:37, 16.21s/it]"
     ]
    },
    {
     "name": "stdout",
     "output_type": "stream",
     "text": [
      "drums           ==> SDR:   3.867  SIR: 217.699  ISR:   7.341  SAR:   2.094  \n",
      "bass            ==> SDR:   3.867  SIR: 217.699  ISR:   7.341  SAR:   2.094  \n",
      "\n"
     ]
    },
    {
     "name": "stderr",
     "output_type": "stream",
     "text": [
      " 16%|█████████████████████████████▉                                                                                                                                                             | 8/50 [02:11<11:09, 15.95s/it]"
     ]
    },
    {
     "name": "stdout",
     "output_type": "stream",
     "text": [
      "drums           ==> SDR:   3.119  SIR: 240.725  ISR:   5.773  SAR:   1.481  \n",
      "bass            ==> SDR:   3.119  SIR: 240.725  ISR:   5.773  SAR:   1.481  \n",
      "\n"
     ]
    },
    {
     "name": "stderr",
     "output_type": "stream",
     "text": [
      " 18%|█████████████████████████████████▋                                                                                                                                                         | 9/50 [02:27<10:51, 15.89s/it]"
     ]
    },
    {
     "name": "stdout",
     "output_type": "stream",
     "text": [
      "drums           ==> SDR:   4.007  SIR: 162.867  ISR:   5.765  SAR:   4.376  \n",
      "bass            ==> SDR:   4.007  SIR: 162.867  ISR:   5.765  SAR:   4.376  \n",
      "\n"
     ]
    },
    {
     "name": "stderr",
     "output_type": "stream",
     "text": [
      " 20%|█████████████████████████████████████▏                                                                                                                                                    | 10/50 [02:42<10:25, 15.63s/it]"
     ]
    },
    {
     "name": "stdout",
     "output_type": "stream",
     "text": [
      "drums           ==> SDR: -10.082  SIR: 172.424  ISR:   4.440  SAR: -15.308  \n",
      "bass            ==> SDR: -10.082  SIR: 172.424  ISR:   4.440  SAR: -15.308  \n",
      "\n"
     ]
    },
    {
     "name": "stderr",
     "output_type": "stream",
     "text": [
      " 22%|████████████████████████████████████████▉                                                                                                                                                 | 11/50 [02:57<10:00, 15.40s/it]"
     ]
    },
    {
     "name": "stdout",
     "output_type": "stream",
     "text": [
      "drums           ==> SDR:   5.911  SIR: 219.155  ISR:   8.119  SAR:   6.426  \n",
      "bass            ==> SDR:   5.911  SIR: 219.155  ISR:   8.119  SAR:   6.426  \n",
      "\n"
     ]
    },
    {
     "name": "stderr",
     "output_type": "stream",
     "text": [
      " 24%|████████████████████████████████████████████▋                                                                                                                                             | 12/50 [03:12<09:39, 15.24s/it]"
     ]
    },
    {
     "name": "stdout",
     "output_type": "stream",
     "text": [
      "drums           ==> SDR:   4.858  SIR: 224.055  ISR:   6.865  SAR:   4.950  \n",
      "bass            ==> SDR:   4.858  SIR: 224.055  ISR:   6.865  SAR:   4.950  \n",
      "\n"
     ]
    },
    {
     "name": "stderr",
     "output_type": "stream",
     "text": [
      " 26%|████████████████████████████████████████████████▎                                                                                                                                         | 13/50 [03:28<09:30, 15.43s/it]"
     ]
    },
    {
     "name": "stdout",
     "output_type": "stream",
     "text": [
      "drums           ==> SDR:   1.060  SIR:  90.966  ISR:   1.833  SAR:  -1.007  \n",
      "bass            ==> SDR:   1.060  SIR:  90.966  ISR:   1.833  SAR:  -1.007  \n",
      "\n"
     ]
    },
    {
     "name": "stderr",
     "output_type": "stream",
     "text": [
      " 28%|████████████████████████████████████████████████████                                                                                                                                      | 14/50 [03:43<09:19, 15.55s/it]"
     ]
    },
    {
     "name": "stdout",
     "output_type": "stream",
     "text": [
      "drums           ==> SDR:   6.911  SIR: 211.170  ISR:  12.004  SAR:   6.673  \n",
      "bass            ==> SDR:   6.911  SIR: 211.170  ISR:  12.004  SAR:   6.673  \n",
      "\n"
     ]
    },
    {
     "name": "stderr",
     "output_type": "stream",
     "text": [
      " 30%|███████████████████████████████████████████████████████▊                                                                                                                                  | 15/50 [04:02<09:31, 16.33s/it]"
     ]
    },
    {
     "name": "stdout",
     "output_type": "stream",
     "text": [
      "drums           ==> SDR:   3.826  SIR: 210.317  ISR:   6.361  SAR:   2.417  \n",
      "bass            ==> SDR:   3.826  SIR: 210.317  ISR:   6.361  SAR:   2.417  \n",
      "\n"
     ]
    },
    {
     "name": "stderr",
     "output_type": "stream",
     "text": [
      " 32%|███████████████████████████████████████████████████████████▌                                                                                                                              | 16/50 [04:18<09:18, 16.42s/it]"
     ]
    },
    {
     "name": "stdout",
     "output_type": "stream",
     "text": [
      "drums           ==> SDR:   3.368  SIR: 216.397  ISR:   6.591  SAR:   1.083  \n",
      "bass            ==> SDR:   3.368  SIR: 216.397  ISR:   6.591  SAR:   1.083  \n",
      "\n"
     ]
    },
    {
     "name": "stderr",
     "output_type": "stream",
     "text": [
      " 34%|███████████████████████████████████████████████████████████████▏                                                                                                                          | 17/50 [04:36<09:10, 16.69s/it]"
     ]
    },
    {
     "name": "stdout",
     "output_type": "stream",
     "text": [
      "drums           ==> SDR:   1.154  SIR: 217.515  ISR:   3.487  SAR:  -2.926  \n",
      "bass            ==> SDR:   1.154  SIR: 217.515  ISR:   3.487  SAR:  -2.926  \n",
      "\n"
     ]
    },
    {
     "name": "stderr",
     "output_type": "stream",
     "text": [
      " 36%|██████████████████████████████████████████████████████████████████▉                                                                                                                       | 18/50 [04:54<09:13, 17.31s/it]"
     ]
    },
    {
     "name": "stdout",
     "output_type": "stream",
     "text": [
      "drums           ==> SDR:   6.498  SIR: 193.712  ISR:   9.419  SAR:   7.249  \n",
      "bass            ==> SDR:   6.498  SIR: 193.712  ISR:   9.419  SAR:   7.249  \n",
      "\n"
     ]
    },
    {
     "name": "stderr",
     "output_type": "stream",
     "text": [
      " 38%|██████████████████████████████████████████████████████████████████████▋                                                                                                                   | 19/50 [05:13<09:10, 17.74s/it]"
     ]
    },
    {
     "name": "stdout",
     "output_type": "stream",
     "text": [
      "drums           ==> SDR:   7.546  SIR: 223.398  ISR:  10.178  SAR:   8.307  \n",
      "bass            ==> SDR:   7.546  SIR: 223.398  ISR:  10.178  SAR:   8.307  \n",
      "\n"
     ]
    },
    {
     "name": "stderr",
     "output_type": "stream",
     "text": [
      " 40%|██████████████████████████████████████████████████████████████████████████▍                                                                                                               | 20/50 [05:31<08:51, 17.71s/it]"
     ]
    },
    {
     "name": "stdout",
     "output_type": "stream",
     "text": [
      "drums           ==> SDR:   3.227  SIR: 213.133  ISR:   3.906  SAR:   5.440  \n",
      "bass            ==> SDR:   3.227  SIR: 213.133  ISR:   3.906  SAR:   5.440  \n",
      "\n"
     ]
    },
    {
     "name": "stderr",
     "output_type": "stream",
     "text": [
      " 42%|██████████████████████████████████████████████████████████████████████████████                                                                                                            | 21/50 [05:51<08:51, 18.34s/it]"
     ]
    },
    {
     "name": "stdout",
     "output_type": "stream",
     "text": [
      "drums           ==> SDR:   6.119  SIR: 187.825  ISR:   8.477  SAR:   8.077  \n",
      "bass            ==> SDR:   6.119  SIR: 187.825  ISR:   8.477  SAR:   8.077  \n",
      "\n"
     ]
    },
    {
     "name": "stderr",
     "output_type": "stream",
     "text": [
      " 44%|█████████████████████████████████████████████████████████████████████████████████▊                                                                                                        | 22/50 [06:10<08:44, 18.74s/it]"
     ]
    },
    {
     "name": "stdout",
     "output_type": "stream",
     "text": [
      "drums           ==> SDR:  -5.120  SIR: 270.839  ISR:  -1.143  SAR: -14.496  \n",
      "bass            ==> SDR:  -5.120  SIR: 270.839  ISR:  -1.143  SAR: -14.496  \n",
      "\n"
     ]
    },
    {
     "name": "stderr",
     "output_type": "stream",
     "text": [
      " 46%|█████████████████████████████████████████████████████████████████████████████████████▌                                                                                                    | 23/50 [06:27<08:11, 18.20s/it]"
     ]
    },
    {
     "name": "stdout",
     "output_type": "stream",
     "text": [
      "drums           ==> SDR:   2.969  SIR: 163.805  ISR:   6.151  SAR:   1.179  \n",
      "bass            ==> SDR:   2.969  SIR: 163.805  ISR:   6.151  SAR:   1.179  \n",
      "\n"
     ]
    },
    {
     "name": "stderr",
     "output_type": "stream",
     "text": [
      " 48%|█████████████████████████████████████████████████████████████████████████████████████████▎                                                                                                | 24/50 [06:44<07:40, 17.73s/it]"
     ]
    },
    {
     "name": "stdout",
     "output_type": "stream",
     "text": [
      "drums           ==> SDR:   3.939  SIR: 131.712  ISR:   6.814  SAR:   3.730  \n",
      "bass            ==> SDR:   3.939  SIR: 131.712  ISR:   6.814  SAR:   3.730  \n",
      "\n"
     ]
    },
    {
     "name": "stderr",
     "output_type": "stream",
     "text": [
      " 50%|█████████████████████████████████████████████████████████████████████████████████████████████                                                                                             | 25/50 [06:58<06:58, 16.76s/it]"
     ]
    },
    {
     "name": "stdout",
     "output_type": "stream",
     "text": [
      "drums           ==> SDR:   1.441  SIR: 218.012  ISR:   2.321  SAR:   0.056  \n",
      "bass            ==> SDR:   1.441  SIR: 218.012  ISR:   2.321  SAR:   0.056  \n",
      "\n"
     ]
    },
    {
     "name": "stderr",
     "output_type": "stream",
     "text": [
      " 52%|████████████████████████████████████████████████████████████████████████████████████████████████▋                                                                                         | 26/50 [07:13<06:24, 16.02s/it]"
     ]
    },
    {
     "name": "stdout",
     "output_type": "stream",
     "text": [
      "drums           ==> SDR:   8.113  SIR: 176.651  ISR:  11.528  SAR:   8.743  \n",
      "bass            ==> SDR:   8.113  SIR: 176.651  ISR:  11.528  SAR:   8.743  \n",
      "\n"
     ]
    },
    {
     "name": "stderr",
     "output_type": "stream",
     "text": [
      " 54%|████████████████████████████████████████████████████████████████████████████████████████████████████▍                                                                                     | 27/50 [07:28<06:02, 15.74s/it]"
     ]
    },
    {
     "name": "stdout",
     "output_type": "stream",
     "text": [
      "drums           ==> SDR:   7.020  SIR: 179.722  ISR:  11.354  SAR:   6.745  \n",
      "bass            ==> SDR:   7.020  SIR: 179.722  ISR:  11.354  SAR:   6.745  \n",
      "\n"
     ]
    },
    {
     "name": "stderr",
     "output_type": "stream",
     "text": [
      " 56%|████████████████████████████████████████████████████████████████████████████████████████████████████████▏                                                                                 | 28/50 [07:42<05:37, 15.34s/it]"
     ]
    },
    {
     "name": "stdout",
     "output_type": "stream",
     "text": [
      "drums           ==> SDR:   7.439  SIR: 192.824  ISR:   8.675  SAR:   9.776  \n",
      "bass            ==> SDR:   7.439  SIR: 192.824  ISR:   8.675  SAR:   9.776  \n",
      "\n"
     ]
    },
    {
     "name": "stderr",
     "output_type": "stream",
     "text": [
      " 58%|███████████████████████████████████████████████████████████████████████████████████████████████████████████▉                                                                              | 29/50 [07:56<05:15, 15.01s/it]"
     ]
    },
    {
     "name": "stdout",
     "output_type": "stream",
     "text": [
      "drums           ==> SDR:   4.121  SIR: 190.567  ISR:   5.328  SAR:   5.581  \n",
      "bass            ==> SDR:   4.121  SIR: 190.567  ISR:   5.328  SAR:   5.581  \n",
      "\n"
     ]
    },
    {
     "name": "stderr",
     "output_type": "stream",
     "text": [
      " 60%|███████████████████████████████████████████████████████████████████████████████████████████████████████████████▌                                                                          | 30/50 [08:11<04:57, 14.86s/it]"
     ]
    },
    {
     "name": "stdout",
     "output_type": "stream",
     "text": [
      "drums           ==> SDR:   4.095  SIR: 216.261  ISR:   5.857  SAR:   4.010  \n",
      "bass            ==> SDR:   4.095  SIR: 216.261  ISR:   5.857  SAR:   4.010  \n",
      "\n"
     ]
    },
    {
     "name": "stderr",
     "output_type": "stream",
     "text": [
      " 62%|███████████████████████████████████████████████████████████████████████████████████████████████████████████████████▎                                                                      | 31/50 [08:25<04:39, 14.72s/it]"
     ]
    },
    {
     "name": "stdout",
     "output_type": "stream",
     "text": [
      "drums           ==> SDR:   2.394  SIR: 186.860  ISR:   8.046  SAR:   0.631  \n",
      "bass            ==> SDR:   2.394  SIR: 186.860  ISR:   8.046  SAR:   0.631  \n",
      "\n"
     ]
    },
    {
     "name": "stderr",
     "output_type": "stream",
     "text": [
      " 64%|███████████████████████████████████████████████████████████████████████████████████████████████████████████████████████                                                                   | 32/50 [08:40<04:25, 14.74s/it]"
     ]
    },
    {
     "name": "stdout",
     "output_type": "stream",
     "text": [
      "drums           ==> SDR:   1.209  SIR: 187.001  ISR:   1.919  SAR:  -3.817  \n",
      "bass            ==> SDR:   1.209  SIR: 187.001  ISR:   1.919  SAR:  -3.817  \n",
      "\n"
     ]
    },
    {
     "name": "stderr",
     "output_type": "stream",
     "text": [
      " 66%|██████████████████████████████████████████████████████████████████████████████████████████████████████████████████████████▊                                                               | 33/50 [08:55<04:09, 14.69s/it]"
     ]
    },
    {
     "name": "stdout",
     "output_type": "stream",
     "text": [
      "drums           ==> SDR:   1.169  SIR: 216.457  ISR:   3.413  SAR:  -1.653  \n",
      "bass            ==> SDR:   1.169  SIR: 216.457  ISR:   3.413  SAR:  -1.653  \n",
      "\n"
     ]
    },
    {
     "name": "stderr",
     "output_type": "stream",
     "text": [
      " 68%|██████████████████████████████████████████████████████████████████████████████████████████████████████████████████████████████▍                                                           | 34/50 [09:10<03:58, 14.89s/it]"
     ]
    },
    {
     "name": "stdout",
     "output_type": "stream",
     "text": [
      "drums           ==> SDR:   3.074  SIR: 248.741  ISR:   5.497  SAR:   1.310  \n",
      "bass            ==> SDR:   3.074  SIR: 248.741  ISR:   5.497  SAR:   1.310  \n",
      "\n"
     ]
    },
    {
     "name": "stderr",
     "output_type": "stream",
     "text": [
      " 70%|██████████████████████████████████████████████████████████████████████████████████████████████████████████████████████████████████▏                                                       | 35/50 [09:27<03:51, 15.46s/it]"
     ]
    },
    {
     "name": "stdout",
     "output_type": "stream",
     "text": [
      "drums           ==> SDR:   6.857  SIR: 220.142  ISR:   9.603  SAR:   7.984  \n",
      "bass            ==> SDR:   6.857  SIR: 220.142  ISR:   9.603  SAR:   7.984  \n",
      "\n"
     ]
    },
    {
     "name": "stderr",
     "output_type": "stream",
     "text": [
      " 72%|█████████████████████████████████████████████████████████████████████████████████████████████████████████████████████████████████████▉                                                    | 36/50 [09:43<03:42, 15.86s/it]"
     ]
    },
    {
     "name": "stdout",
     "output_type": "stream",
     "text": [
      "drums           ==> SDR:   1.118  SIR: 204.667  ISR:   3.616  SAR:  -2.905  \n",
      "bass            ==> SDR:   1.118  SIR: 204.667  ISR:   3.616  SAR:  -2.905  \n",
      "\n"
     ]
    },
    {
     "name": "stderr",
     "output_type": "stream",
     "text": [
      " 74%|█████████████████████████████████████████████████████████████████████████████████████████████████████████████████████████████████████████▋                                                | 37/50 [10:00<03:28, 16.01s/it]"
     ]
    },
    {
     "name": "stdout",
     "output_type": "stream",
     "text": [
      "drums           ==> SDR:   2.436  SIR: 202.930  ISR:   7.007  SAR:   0.352  \n",
      "bass            ==> SDR:   2.436  SIR: 202.930  ISR:   7.007  SAR:   0.352  \n",
      "\n"
     ]
    },
    {
     "name": "stderr",
     "output_type": "stream",
     "text": [
      " 76%|█████████████████████████████████████████████████████████████████████████████████████████████████████████████████████████████████████████████▎                                            | 38/50 [10:17<03:15, 16.26s/it]"
     ]
    },
    {
     "name": "stdout",
     "output_type": "stream",
     "text": [
      "drums           ==> SDR:   4.553  SIR: 220.261  ISR:   5.820  SAR:   3.311  \n",
      "bass            ==> SDR:   4.553  SIR: 220.261  ISR:   5.820  SAR:   3.311  \n",
      "\n"
     ]
    },
    {
     "name": "stderr",
     "output_type": "stream",
     "text": [
      " 78%|█████████████████████████████████████████████████████████████████████████████████████████████████████████████████████████████████████████████████                                         | 39/50 [10:33<02:57, 16.17s/it]"
     ]
    },
    {
     "name": "stdout",
     "output_type": "stream",
     "text": [
      "drums           ==> SDR:   2.370  SIR: 227.328  ISR:   3.311  SAR:   1.534  \n",
      "bass            ==> SDR:   2.370  SIR: 227.328  ISR:   3.311  SAR:   1.534  \n",
      "\n"
     ]
    },
    {
     "name": "stderr",
     "output_type": "stream",
     "text": [
      " 80%|████████████████████████████████████████████████████████████████████████████████████████████████████████████████████████████████████████████████████▊                                     | 40/50 [10:50<02:44, 16.49s/it]"
     ]
    },
    {
     "name": "stdout",
     "output_type": "stream",
     "text": [
      "drums           ==> SDR:   2.031  SIR: 166.074  ISR:   3.566  SAR:  -0.410  \n",
      "bass            ==> SDR:   2.031  SIR: 166.074  ISR:   3.566  SAR:  -0.410  \n",
      "\n"
     ]
    },
    {
     "name": "stderr",
     "output_type": "stream",
     "text": [
      " 82%|████████████████████████████████████████████████████████████████████████████████████████████████████████████████████████████████████████████████████████▌                                 | 41/50 [11:07<02:29, 16.63s/it]"
     ]
    },
    {
     "name": "stdout",
     "output_type": "stream",
     "text": [
      "drums           ==> SDR:   3.171  SIR: 177.416  ISR:   6.035  SAR:   3.195  \n",
      "bass            ==> SDR:   3.171  SIR: 177.416  ISR:   6.035  SAR:   3.195  \n",
      "\n"
     ]
    },
    {
     "name": "stderr",
     "output_type": "stream",
     "text": [
      " 84%|████████████████████████████████████████████████████████████████████████████████████████████████████████████████████████████████████████████████████████████▏                             | 42/50 [11:24<02:14, 16.84s/it]"
     ]
    },
    {
     "name": "stdout",
     "output_type": "stream",
     "text": [
      "drums           ==> SDR:   4.994  SIR: 115.240  ISR:   7.293  SAR:   4.271  \n",
      "bass            ==> SDR:   4.994  SIR: 115.240  ISR:   7.293  SAR:   4.271  \n",
      "\n"
     ]
    },
    {
     "name": "stderr",
     "output_type": "stream",
     "text": [
      " 86%|███████████████████████████████████████████████████████████████████████████████████████████████████████████████████████████████████████████████████████████████▉                          | 43/50 [11:41<01:57, 16.78s/it]"
     ]
    },
    {
     "name": "stdout",
     "output_type": "stream",
     "text": [
      "drums           ==> SDR:   2.447  SIR: 174.710  ISR:   3.810  SAR:  -0.704  \n",
      "bass            ==> SDR:   2.447  SIR: 174.710  ISR:   3.810  SAR:  -0.704  \n",
      "\n"
     ]
    },
    {
     "name": "stderr",
     "output_type": "stream",
     "text": [
      " 88%|███████████████████████████████████████████████████████████████████████████████████████████████████████████████████████████████████████████████████████████████████▋                      | 44/50 [11:56<01:38, 16.37s/it]"
     ]
    },
    {
     "name": "stdout",
     "output_type": "stream",
     "text": [
      "drums           ==> SDR:   2.451  SIR: 221.871  ISR:   3.529  SAR:   0.338  \n",
      "bass            ==> SDR:   2.451  SIR: 221.871  ISR:   3.529  SAR:   0.338  \n",
      "\n"
     ]
    },
    {
     "name": "stderr",
     "output_type": "stream",
     "text": [
      " 90%|███████████████████████████████████████████████████████████████████████████████████████████████████████████████████████████████████████████████████████████████████████▍                  | 45/50 [12:14<01:23, 16.66s/it]"
     ]
    },
    {
     "name": "stdout",
     "output_type": "stream",
     "text": [
      "drums           ==> SDR:   0.240  SIR: 211.481  ISR:   0.707  SAR:  -4.591  \n",
      "bass            ==> SDR:   0.240  SIR: 211.481  ISR:   0.707  SAR:  -4.591  \n",
      "\n"
     ]
    },
    {
     "name": "stderr",
     "output_type": "stream",
     "text": [
      " 92%|███████████████████████████████████████████████████████████████████████████████████████████████████████████████████████████████████████████████████████████████████████████               | 46/50 [12:31<01:07, 16.83s/it]"
     ]
    },
    {
     "name": "stdout",
     "output_type": "stream",
     "text": [
      "drums           ==> SDR:   2.162  SIR: 207.588  ISR:   3.902  SAR:  -0.074  \n",
      "bass            ==> SDR:   2.162  SIR: 207.588  ISR:   3.902  SAR:  -0.074  \n",
      "\n"
     ]
    },
    {
     "name": "stderr",
     "output_type": "stream",
     "text": [
      " 94%|██████████████████████████████████████████████████████████████████████████████████████████████████████████████████████████████████████████████████████████████████████████████▊           | 47/50 [12:47<00:49, 16.55s/it]"
     ]
    },
    {
     "name": "stdout",
     "output_type": "stream",
     "text": [
      "drums           ==> SDR:   3.035  SIR: 169.864  ISR:   4.842  SAR:   3.262  \n",
      "bass            ==> SDR:   3.035  SIR: 169.864  ISR:   4.842  SAR:   3.262  \n",
      "\n"
     ]
    },
    {
     "name": "stderr",
     "output_type": "stream",
     "text": [
      " 96%|██████████████████████████████████████████████████████████████████████████████████████████████████████████████████████████████████████████████████████████████████████████████████▌       | 48/50 [13:03<00:32, 16.50s/it]"
     ]
    },
    {
     "name": "stdout",
     "output_type": "stream",
     "text": [
      "drums           ==> SDR:   2.584  SIR: 217.426  ISR:   6.559  SAR:  -0.473  \n",
      "bass            ==> SDR:   2.584  SIR: 217.426  ISR:   6.559  SAR:  -0.473  \n",
      "\n"
     ]
    },
    {
     "name": "stderr",
     "output_type": "stream",
     "text": [
      " 98%|██████████████████████████████████████████████████████████████████████████████████████████████████████████████████████████████████████████████████████████████████████████████████████▎   | 49/50 [13:20<00:16, 16.52s/it]"
     ]
    },
    {
     "name": "stdout",
     "output_type": "stream",
     "text": [
      "drums           ==> SDR:   7.234  SIR: 217.759  ISR:  13.848  SAR:   7.120  \n",
      "bass            ==> SDR:   7.234  SIR: 217.759  ISR:  13.848  SAR:   7.120  \n",
      "\n"
     ]
    },
    {
     "name": "stderr",
     "output_type": "stream",
     "text": [
      "100%|██████████████████████████████████████████████████████████████████████████████████████████████████████████████████████████████████████████████████████████████████████████████████████████| 50/50 [13:37<00:00, 16.34s/it]"
     ]
    },
    {
     "name": "stdout",
     "output_type": "stream",
     "text": [
      "drums           ==> SDR:   4.719  SIR: 206.034  ISR:   7.488  SAR:   3.994  \n",
      "bass            ==> SDR:   4.719  SIR: 206.034  ISR:   7.488  SAR:   3.994  \n",
      "\n"
     ]
    },
    {
     "name": "stderr",
     "output_type": "stream",
     "text": [
      "\n",
      "C:\\Python311\\Lib\\site-packages\\pytorch_lightning\\utilities\\migration\\utils.py:55: The loaded checkpoint was produced with Lightning v2.2.1, which is newer than your current Lightning version: v2.1.2\n",
      "  2%|███▋                                                                                                                                                                                       | 1/50 [00:17<13:58, 17.11s/it]"
     ]
    },
    {
     "name": "stdout",
     "output_type": "stream",
     "text": [
      "drums           ==> SDR:   4.131  SIR: 198.883  ISR:   6.481  SAR:   2.726  \n",
      "bass            ==> SDR:   4.131  SIR: 198.883  ISR:   6.481  SAR:   2.726  \n",
      "\n"
     ]
    },
    {
     "name": "stderr",
     "output_type": "stream",
     "text": [
      "  4%|███████▍                                                                                                                                                                                   | 2/50 [00:34<13:41, 17.11s/it]"
     ]
    },
    {
     "name": "stdout",
     "output_type": "stream",
     "text": [
      "drums           ==> SDR:   2.599  SIR: 180.834  ISR:   5.437  SAR:  -0.420  \n",
      "bass            ==> SDR:   2.599  SIR: 180.834  ISR:   5.437  SAR:  -0.420  \n",
      "\n"
     ]
    },
    {
     "name": "stderr",
     "output_type": "stream",
     "text": [
      "  6%|███████████▏                                                                                                                                                                               | 3/50 [00:52<13:42, 17.50s/it]"
     ]
    },
    {
     "name": "stdout",
     "output_type": "stream",
     "text": [
      "drums           ==> SDR:   3.347  SIR: 228.965  ISR:   5.941  SAR:   1.589  \n",
      "bass            ==> SDR:   3.347  SIR: 228.965  ISR:   5.941  SAR:   1.589  \n",
      "\n"
     ]
    },
    {
     "name": "stderr",
     "output_type": "stream",
     "text": [
      "  8%|██████████████▉                                                                                                                                                                            | 4/50 [01:08<13:12, 17.23s/it]"
     ]
    },
    {
     "name": "stdout",
     "output_type": "stream",
     "text": [
      "drums           ==> SDR:   1.303  SIR: 221.101  ISR:   4.633  SAR:  -1.903  \n",
      "bass            ==> SDR:   1.303  SIR: 221.101  ISR:   4.633  SAR:  -1.903  \n",
      "\n"
     ]
    },
    {
     "name": "stderr",
     "output_type": "stream",
     "text": [
      " 10%|██████████████████▋                                                                                                                                                                        | 5/50 [01:26<12:53, 17.18s/it]"
     ]
    },
    {
     "name": "stdout",
     "output_type": "stream",
     "text": [
      "drums           ==> SDR:   6.800  SIR: 198.327  ISR:   8.943  SAR:   7.542  \n",
      "bass            ==> SDR:   6.800  SIR: 198.327  ISR:   8.943  SAR:   7.542  \n",
      "\n"
     ]
    },
    {
     "name": "stderr",
     "output_type": "stream",
     "text": [
      " 12%|██████████████████████▍                                                                                                                                                                    | 6/50 [01:44<12:52, 17.55s/it]"
     ]
    },
    {
     "name": "stdout",
     "output_type": "stream",
     "text": [
      "drums           ==> SDR:   3.370  SIR: 229.427  ISR:   6.156  SAR:   2.550  \n",
      "bass            ==> SDR:   3.370  SIR: 229.427  ISR:   6.156  SAR:   2.550  \n",
      "\n"
     ]
    },
    {
     "name": "stderr",
     "output_type": "stream",
     "text": [
      " 14%|██████████████████████████▏                                                                                                                                                                | 7/50 [02:03<13:02, 18.20s/it]"
     ]
    },
    {
     "name": "stdout",
     "output_type": "stream",
     "text": [
      "drums           ==> SDR:   3.435  SIR: 224.123  ISR:   7.301  SAR:   2.222  \n",
      "bass            ==> SDR:   3.435  SIR: 224.123  ISR:   7.301  SAR:   2.222  \n",
      "\n"
     ]
    },
    {
     "name": "stderr",
     "output_type": "stream",
     "text": [
      " 16%|█████████████████████████████▉                                                                                                                                                             | 8/50 [02:22<12:55, 18.45s/it]"
     ]
    },
    {
     "name": "stdout",
     "output_type": "stream",
     "text": [
      "drums           ==> SDR:   3.229  SIR: 244.549  ISR:   5.342  SAR:   1.710  \n",
      "bass            ==> SDR:   3.229  SIR: 244.549  ISR:   5.342  SAR:   1.710  \n",
      "\n"
     ]
    },
    {
     "name": "stderr",
     "output_type": "stream",
     "text": [
      " 18%|█████████████████████████████████▋                                                                                                                                                         | 9/50 [02:43<13:05, 19.15s/it]"
     ]
    },
    {
     "name": "stdout",
     "output_type": "stream",
     "text": [
      "drums           ==> SDR:   3.772  SIR: 162.099  ISR:   5.380  SAR:   3.627  \n",
      "bass            ==> SDR:   3.772  SIR: 162.099  ISR:   5.380  SAR:   3.627  \n",
      "\n"
     ]
    },
    {
     "name": "stderr",
     "output_type": "stream",
     "text": [
      " 20%|█████████████████████████████████████▏                                                                                                                                                    | 10/50 [03:02<12:44, 19.12s/it]"
     ]
    },
    {
     "name": "stdout",
     "output_type": "stream",
     "text": [
      "drums           ==> SDR: -10.082  SIR: 180.546  ISR:   3.921  SAR: -15.677  \n",
      "bass            ==> SDR: -10.082  SIR: 180.546  ISR:   3.921  SAR: -15.677  \n",
      "\n"
     ]
    },
    {
     "name": "stderr",
     "output_type": "stream",
     "text": [
      " 22%|████████████████████████████████████████▉                                                                                                                                                 | 11/50 [03:20<12:16, 18.88s/it]"
     ]
    },
    {
     "name": "stdout",
     "output_type": "stream",
     "text": [
      "drums           ==> SDR:   5.946  SIR: 216.139  ISR:   7.921  SAR:   6.110  \n",
      "bass            ==> SDR:   5.946  SIR: 216.139  ISR:   7.921  SAR:   6.110  \n",
      "\n"
     ]
    },
    {
     "name": "stderr",
     "output_type": "stream",
     "text": [
      " 24%|████████████████████████████████████████████▋                                                                                                                                             | 12/50 [03:39<11:54, 18.80s/it]"
     ]
    },
    {
     "name": "stdout",
     "output_type": "stream",
     "text": [
      "drums           ==> SDR:   5.051  SIR: 225.481  ISR:   7.135  SAR:   5.224  \n",
      "bass            ==> SDR:   5.051  SIR: 225.481  ISR:   7.135  SAR:   5.224  \n",
      "\n"
     ]
    },
    {
     "name": "stderr",
     "output_type": "stream",
     "text": [
      " 26%|████████████████████████████████████████████████▎                                                                                                                                         | 13/50 [03:57<11:27, 18.58s/it]"
     ]
    },
    {
     "name": "stdout",
     "output_type": "stream",
     "text": [
      "drums           ==> SDR:   1.413  SIR:  93.062  ISR:   1.826  SAR:  -1.139  \n",
      "bass            ==> SDR:   1.413  SIR:  93.062  ISR:   1.826  SAR:  -1.139  \n",
      "\n"
     ]
    },
    {
     "name": "stderr",
     "output_type": "stream",
     "text": [
      " 28%|████████████████████████████████████████████████████                                                                                                                                      | 14/50 [04:14<10:48, 18.00s/it]"
     ]
    },
    {
     "name": "stdout",
     "output_type": "stream",
     "text": [
      "drums           ==> SDR:   6.813  SIR: 210.072  ISR:  11.860  SAR:   6.964  \n",
      "bass            ==> SDR:   6.813  SIR: 210.072  ISR:  11.860  SAR:   6.964  \n",
      "\n"
     ]
    },
    {
     "name": "stderr",
     "output_type": "stream",
     "text": [
      " 30%|███████████████████████████████████████████████████████▊                                                                                                                                  | 15/50 [04:32<10:30, 18.02s/it]"
     ]
    },
    {
     "name": "stdout",
     "output_type": "stream",
     "text": [
      "drums           ==> SDR:   3.834  SIR: 207.112  ISR:   6.360  SAR:   2.708  \n",
      "bass            ==> SDR:   3.834  SIR: 207.112  ISR:   6.360  SAR:   2.708  \n",
      "\n"
     ]
    },
    {
     "name": "stderr",
     "output_type": "stream",
     "text": [
      " 32%|███████████████████████████████████████████████████████████▌                                                                                                                              | 16/50 [04:56<11:11, 19.76s/it]"
     ]
    },
    {
     "name": "stdout",
     "output_type": "stream",
     "text": [
      "drums           ==> SDR:   3.222  SIR: 208.011  ISR:   6.733  SAR:   1.051  \n",
      "bass            ==> SDR:   3.222  SIR: 208.011  ISR:   6.733  SAR:   1.051  \n",
      "\n"
     ]
    },
    {
     "name": "stderr",
     "output_type": "stream",
     "text": [
      " 34%|███████████████████████████████████████████████████████████████▏                                                                                                                          | 17/50 [05:14<10:38, 19.34s/it]"
     ]
    },
    {
     "name": "stdout",
     "output_type": "stream",
     "text": [
      "drums           ==> SDR:   1.230  SIR: 224.008  ISR:   3.179  SAR:  -2.713  \n",
      "bass            ==> SDR:   1.230  SIR: 224.008  ISR:   3.179  SAR:  -2.713  \n",
      "\n"
     ]
    },
    {
     "name": "stderr",
     "output_type": "stream",
     "text": [
      " 36%|██████████████████████████████████████████████████████████████████▉                                                                                                                       | 18/50 [05:32<10:06, 18.97s/it]"
     ]
    },
    {
     "name": "stdout",
     "output_type": "stream",
     "text": [
      "drums           ==> SDR:   6.645  SIR: 197.207  ISR:   9.493  SAR:   7.258  \n",
      "bass            ==> SDR:   6.645  SIR: 197.207  ISR:   9.493  SAR:   7.258  \n",
      "\n"
     ]
    },
    {
     "name": "stderr",
     "output_type": "stream",
     "text": [
      " 38%|██████████████████████████████████████████████████████████████████████▋                                                                                                                   | 19/50 [05:54<10:19, 19.98s/it]"
     ]
    },
    {
     "name": "stdout",
     "output_type": "stream",
     "text": [
      "drums           ==> SDR:   6.748  SIR: 217.619  ISR:   9.293  SAR:   7.609  \n",
      "bass            ==> SDR:   6.748  SIR: 217.619  ISR:   9.293  SAR:   7.609  \n",
      "\n"
     ]
    },
    {
     "name": "stderr",
     "output_type": "stream",
     "text": [
      " 40%|██████████████████████████████████████████████████████████████████████████▍                                                                                                               | 20/50 [06:13<09:46, 19.55s/it]"
     ]
    },
    {
     "name": "stdout",
     "output_type": "stream",
     "text": [
      "drums           ==> SDR:   3.135  SIR: 209.250  ISR:   3.919  SAR:   4.787  \n",
      "bass            ==> SDR:   3.135  SIR: 209.250  ISR:   3.919  SAR:   4.787  \n",
      "\n"
     ]
    },
    {
     "name": "stderr",
     "output_type": "stream",
     "text": [
      " 42%|██████████████████████████████████████████████████████████████████████████████                                                                                                            | 21/50 [06:30<09:03, 18.75s/it]"
     ]
    },
    {
     "name": "stdout",
     "output_type": "stream",
     "text": [
      "drums           ==> SDR:   6.354  SIR: 190.889  ISR:   8.198  SAR:   7.666  \n",
      "bass            ==> SDR:   6.354  SIR: 190.889  ISR:   8.198  SAR:   7.666  \n",
      "\n"
     ]
    },
    {
     "name": "stderr",
     "output_type": "stream",
     "text": [
      " 44%|█████████████████████████████████████████████████████████████████████████████████▊                                                                                                        | 22/50 [06:49<08:43, 18.71s/it]"
     ]
    },
    {
     "name": "stdout",
     "output_type": "stream",
     "text": [
      "drums           ==> SDR:  -5.120  SIR: 270.839  ISR:  -1.143  SAR: -14.496  \n",
      "bass            ==> SDR:  -5.120  SIR: 270.839  ISR:  -1.143  SAR: -14.496  \n",
      "\n"
     ]
    },
    {
     "name": "stderr",
     "output_type": "stream",
     "text": [
      " 46%|█████████████████████████████████████████████████████████████████████████████████████▌                                                                                                    | 23/50 [07:07<08:26, 18.76s/it]"
     ]
    },
    {
     "name": "stdout",
     "output_type": "stream",
     "text": [
      "drums           ==> SDR:   3.101  SIR: 165.709  ISR:   6.023  SAR:   1.234  \n",
      "bass            ==> SDR:   3.101  SIR: 165.709  ISR:   6.023  SAR:   1.234  \n",
      "\n"
     ]
    },
    {
     "name": "stderr",
     "output_type": "stream",
     "text": [
      " 48%|█████████████████████████████████████████████████████████████████████████████████████████▎                                                                                                | 24/50 [07:25<08:01, 18.51s/it]"
     ]
    },
    {
     "name": "stdout",
     "output_type": "stream",
     "text": [
      "drums           ==> SDR:   3.829  SIR: 132.538  ISR:   6.686  SAR:   3.447  \n",
      "bass            ==> SDR:   3.829  SIR: 132.538  ISR:   6.686  SAR:   3.447  \n",
      "\n"
     ]
    },
    {
     "name": "stderr",
     "output_type": "stream",
     "text": [
      " 50%|█████████████████████████████████████████████████████████████████████████████████████████████                                                                                             | 25/50 [07:48<08:14, 19.77s/it]"
     ]
    },
    {
     "name": "stdout",
     "output_type": "stream",
     "text": [
      "drums           ==> SDR:   1.347  SIR: 219.278  ISR:   2.192  SAR:  -0.032  \n",
      "bass            ==> SDR:   1.347  SIR: 219.278  ISR:   2.192  SAR:  -0.032  \n",
      "\n"
     ]
    },
    {
     "name": "stderr",
     "output_type": "stream",
     "text": [
      " 52%|████████████████████████████████████████████████████████████████████████████████████████████████▋                                                                                         | 26/50 [08:05<07:35, 18.99s/it]"
     ]
    },
    {
     "name": "stdout",
     "output_type": "stream",
     "text": [
      "drums           ==> SDR:   8.183  SIR: 186.496  ISR:  11.533  SAR:   8.763  \n",
      "bass            ==> SDR:   8.183  SIR: 186.496  ISR:  11.533  SAR:   8.763  \n",
      "\n"
     ]
    },
    {
     "name": "stderr",
     "output_type": "stream",
     "text": [
      " 54%|████████████████████████████████████████████████████████████████████████████████████████████████████▍                                                                                     | 27/50 [08:25<07:24, 19.33s/it]"
     ]
    },
    {
     "name": "stdout",
     "output_type": "stream",
     "text": [
      "drums           ==> SDR:   6.722  SIR: 179.428  ISR:  10.867  SAR:   5.981  \n",
      "bass            ==> SDR:   6.722  SIR: 179.428  ISR:  10.867  SAR:   5.981  \n",
      "\n"
     ]
    },
    {
     "name": "stderr",
     "output_type": "stream",
     "text": [
      " 56%|████████████████████████████████████████████████████████████████████████████████████████████████████████▏                                                                                 | 28/50 [08:46<07:16, 19.85s/it]"
     ]
    },
    {
     "name": "stdout",
     "output_type": "stream",
     "text": [
      "drums           ==> SDR:   7.177  SIR: 195.931  ISR:   8.342  SAR:   9.390  \n",
      "bass            ==> SDR:   7.177  SIR: 195.931  ISR:   8.342  SAR:   9.390  \n",
      "\n"
     ]
    },
    {
     "name": "stderr",
     "output_type": "stream",
     "text": [
      " 58%|███████████████████████████████████████████████████████████████████████████████████████████████████████████▉                                                                              | 29/50 [09:06<06:56, 19.85s/it]"
     ]
    },
    {
     "name": "stdout",
     "output_type": "stream",
     "text": [
      "drums           ==> SDR:   4.209  SIR: 190.890  ISR:   5.236  SAR:   5.601  \n",
      "bass            ==> SDR:   4.209  SIR: 190.890  ISR:   5.236  SAR:   5.601  \n",
      "\n"
     ]
    },
    {
     "name": "stderr",
     "output_type": "stream",
     "text": [
      " 60%|███████████████████████████████████████████████████████████████████████████████████████████████████████████████▌                                                                          | 30/50 [09:25<06:32, 19.61s/it]"
     ]
    },
    {
     "name": "stdout",
     "output_type": "stream",
     "text": [
      "drums           ==> SDR:   3.677  SIR: 213.562  ISR:   5.102  SAR:   3.052  \n",
      "bass            ==> SDR:   3.677  SIR: 213.562  ISR:   5.102  SAR:   3.052  \n",
      "\n"
     ]
    },
    {
     "name": "stderr",
     "output_type": "stream",
     "text": [
      " 62%|███████████████████████████████████████████████████████████████████████████████████████████████████████████████████▎                                                                      | 31/50 [09:44<06:07, 19.35s/it]"
     ]
    },
    {
     "name": "stdout",
     "output_type": "stream",
     "text": [
      "drums           ==> SDR:   2.659  SIR: 216.011  ISR:   7.851  SAR:   1.513  \n",
      "bass            ==> SDR:   2.659  SIR: 216.011  ISR:   7.851  SAR:   1.513  \n",
      "\n"
     ]
    },
    {
     "name": "stderr",
     "output_type": "stream",
     "text": [
      " 64%|███████████████████████████████████████████████████████████████████████████████████████████████████████████████████████                                                                   | 32/50 [10:03<05:47, 19.31s/it]"
     ]
    },
    {
     "name": "stdout",
     "output_type": "stream",
     "text": [
      "drums           ==> SDR:   0.606  SIR: 185.567  ISR:   1.736  SAR:  -2.300  \n",
      "bass            ==> SDR:   0.606  SIR: 185.567  ISR:   1.736  SAR:  -2.300  \n",
      "\n"
     ]
    },
    {
     "name": "stderr",
     "output_type": "stream",
     "text": [
      " 66%|██████████████████████████████████████████████████████████████████████████████████████████████████████████████████████████▊                                                               | 33/50 [10:24<05:37, 19.86s/it]"
     ]
    },
    {
     "name": "stdout",
     "output_type": "stream",
     "text": [
      "drums           ==> SDR:   0.913  SIR: 224.407  ISR:   2.891  SAR:  -1.745  \n",
      "bass            ==> SDR:   0.913  SIR: 224.407  ISR:   2.891  SAR:  -1.745  \n",
      "\n"
     ]
    },
    {
     "name": "stderr",
     "output_type": "stream",
     "text": [
      " 68%|██████████████████████████████████████████████████████████████████████████████████████████████████████████████████████████████▍                                                           | 34/50 [10:43<05:13, 19.60s/it]"
     ]
    },
    {
     "name": "stdout",
     "output_type": "stream",
     "text": [
      "drums           ==> SDR:   2.868  SIR: 247.630  ISR:   5.360  SAR:   1.052  \n",
      "bass            ==> SDR:   2.868  SIR: 247.630  ISR:   5.360  SAR:   1.052  \n",
      "\n"
     ]
    },
    {
     "name": "stderr",
     "output_type": "stream",
     "text": [
      " 70%|██████████████████████████████████████████████████████████████████████████████████████████████████████████████████████████████████▏                                                       | 35/50 [11:03<04:53, 19.60s/it]"
     ]
    },
    {
     "name": "stdout",
     "output_type": "stream",
     "text": [
      "drums           ==> SDR:   6.642  SIR: 218.728  ISR:   9.618  SAR:   7.891  \n",
      "bass            ==> SDR:   6.642  SIR: 218.728  ISR:   9.618  SAR:   7.891  \n",
      "\n"
     ]
    },
    {
     "name": "stderr",
     "output_type": "stream",
     "text": [
      " 72%|█████████████████████████████████████████████████████████████████████████████████████████████████████████████████████████████████████▉                                                    | 36/50 [11:23<04:34, 19.60s/it]"
     ]
    },
    {
     "name": "stdout",
     "output_type": "stream",
     "text": [
      "drums           ==> SDR:   0.922  SIR: 217.590  ISR:   3.772  SAR:  -2.728  \n",
      "bass            ==> SDR:   0.922  SIR: 217.590  ISR:   3.772  SAR:  -2.728  \n",
      "\n"
     ]
    },
    {
     "name": "stderr",
     "output_type": "stream",
     "text": [
      " 74%|█████████████████████████████████████████████████████████████████████████████████████████████████████████████████████████████████████████▋                                                | 37/50 [11:44<04:23, 20.25s/it]"
     ]
    },
    {
     "name": "stdout",
     "output_type": "stream",
     "text": [
      "drums           ==> SDR:   1.989  SIR: 199.083  ISR:   6.554  SAR:   0.157  \n",
      "bass            ==> SDR:   1.989  SIR: 199.083  ISR:   6.554  SAR:   0.157  \n",
      "\n"
     ]
    },
    {
     "name": "stderr",
     "output_type": "stream",
     "text": [
      " 76%|█████████████████████████████████████████████████████████████████████████████████████████████████████████████████████████████████████████████▎                                            | 38/50 [12:03<03:58, 19.91s/it]"
     ]
    },
    {
     "name": "stdout",
     "output_type": "stream",
     "text": [
      "drums           ==> SDR:   4.335  SIR: 220.605  ISR:   5.386  SAR:   2.984  \n",
      "bass            ==> SDR:   4.335  SIR: 220.605  ISR:   5.386  SAR:   2.984  \n",
      "\n"
     ]
    },
    {
     "name": "stderr",
     "output_type": "stream",
     "text": [
      " 78%|█████████████████████████████████████████████████████████████████████████████████████████████████████████████████████████████████████████████████                                         | 39/50 [12:21<03:30, 19.15s/it]"
     ]
    },
    {
     "name": "stdout",
     "output_type": "stream",
     "text": [
      "drums           ==> SDR:   2.091  SIR: 220.917  ISR:   2.966  SAR:   1.257  \n",
      "bass            ==> SDR:   2.091  SIR: 220.917  ISR:   2.966  SAR:   1.257  \n",
      "\n"
     ]
    },
    {
     "name": "stderr",
     "output_type": "stream",
     "text": [
      " 80%|████████████████████████████████████████████████████████████████████████████████████████████████████████████████████████████████████████████████████▊                                     | 40/50 [12:41<03:15, 19.54s/it]"
     ]
    },
    {
     "name": "stdout",
     "output_type": "stream",
     "text": [
      "drums           ==> SDR:   1.669  SIR: 173.247  ISR:   3.353  SAR:  -0.830  \n",
      "bass            ==> SDR:   1.669  SIR: 173.247  ISR:   3.353  SAR:  -0.830  \n",
      "\n"
     ]
    },
    {
     "name": "stderr",
     "output_type": "stream",
     "text": [
      " 82%|████████████████████████████████████████████████████████████████████████████████████████████████████████████████████████████████████████████████████████▌                                 | 41/50 [13:01<02:56, 19.56s/it]"
     ]
    },
    {
     "name": "stdout",
     "output_type": "stream",
     "text": [
      "drums           ==> SDR:   2.667  SIR: 175.765  ISR:   5.779  SAR:   2.569  \n",
      "bass            ==> SDR:   2.667  SIR: 175.765  ISR:   5.779  SAR:   2.569  \n",
      "\n"
     ]
    },
    {
     "name": "stderr",
     "output_type": "stream",
     "text": [
      " 84%|████████████████████████████████████████████████████████████████████████████████████████████████████████████████████████████████████████████████████████████▏                             | 42/50 [13:19<02:33, 19.21s/it]"
     ]
    },
    {
     "name": "stdout",
     "output_type": "stream",
     "text": [
      "drums           ==> SDR:   5.029  SIR: 115.630  ISR:   7.246  SAR:   4.276  \n",
      "bass            ==> SDR:   5.029  SIR: 115.630  ISR:   7.246  SAR:   4.276  \n",
      "\n"
     ]
    },
    {
     "name": "stderr",
     "output_type": "stream",
     "text": [
      " 86%|███████████████████████████████████████████████████████████████████████████████████████████████████████████████████████████████████████████████████████████████▉                          | 43/50 [13:41<02:19, 19.88s/it]"
     ]
    },
    {
     "name": "stdout",
     "output_type": "stream",
     "text": [
      "drums           ==> SDR:   2.414  SIR: 175.219  ISR:   3.901  SAR:  -0.997  \n",
      "bass            ==> SDR:   2.414  SIR: 175.219  ISR:   3.901  SAR:  -0.997  \n",
      "\n"
     ]
    },
    {
     "name": "stderr",
     "output_type": "stream",
     "text": [
      " 88%|███████████████████████████████████████████████████████████████████████████████████████████████████████████████████████████████████████████████████████████████████▋                      | 44/50 [13:57<01:53, 18.87s/it]"
     ]
    },
    {
     "name": "stdout",
     "output_type": "stream",
     "text": [
      "drums           ==> SDR:   2.325  SIR: 219.520  ISR:   3.470  SAR:   0.817  \n",
      "bass            ==> SDR:   2.325  SIR: 219.520  ISR:   3.470  SAR:   0.817  \n",
      "\n"
     ]
    },
    {
     "name": "stderr",
     "output_type": "stream",
     "text": [
      " 90%|███████████████████████████████████████████████████████████████████████████████████████████████████████████████████████████████████████████████████████████████████████▍                  | 45/50 [14:15<01:32, 18.54s/it]"
     ]
    },
    {
     "name": "stdout",
     "output_type": "stream",
     "text": [
      "drums           ==> SDR:   0.280  SIR: 211.288  ISR:   0.750  SAR:  -4.282  \n",
      "bass            ==> SDR:   0.280  SIR: 211.288  ISR:   0.750  SAR:  -4.282  \n",
      "\n"
     ]
    },
    {
     "name": "stderr",
     "output_type": "stream",
     "text": [
      " 92%|███████████████████████████████████████████████████████████████████████████████████████████████████████████████████████████████████████████████████████████████████████████               | 46/50 [14:36<01:17, 19.25s/it]"
     ]
    },
    {
     "name": "stdout",
     "output_type": "stream",
     "text": [
      "drums           ==> SDR:   2.179  SIR: 208.851  ISR:   3.838  SAR:  -0.227  \n",
      "bass            ==> SDR:   2.179  SIR: 208.851  ISR:   3.838  SAR:  -0.227  \n",
      "\n"
     ]
    },
    {
     "name": "stderr",
     "output_type": "stream",
     "text": [
      " 94%|██████████████████████████████████████████████████████████████████████████████████████████████████████████████████████████████████████████████████████████████████████████████▊           | 47/50 [14:56<00:58, 19.64s/it]"
     ]
    },
    {
     "name": "stdout",
     "output_type": "stream",
     "text": [
      "drums           ==> SDR:   2.740  SIR: 170.671  ISR:   4.048  SAR:   2.854  \n",
      "bass            ==> SDR:   2.740  SIR: 170.671  ISR:   4.048  SAR:   2.854  \n",
      "\n"
     ]
    },
    {
     "name": "stderr",
     "output_type": "stream",
     "text": [
      " 96%|██████████████████████████████████████████████████████████████████████████████████████████████████████████████████████████████████████████████████████████████████████████████████▌       | 48/50 [15:16<00:39, 19.70s/it]"
     ]
    },
    {
     "name": "stdout",
     "output_type": "stream",
     "text": [
      "drums           ==> SDR:   2.626  SIR: 221.822  ISR:   6.327  SAR:  -0.015  \n",
      "bass            ==> SDR:   2.626  SIR: 221.822  ISR:   6.327  SAR:  -0.015  \n",
      "\n"
     ]
    },
    {
     "name": "stderr",
     "output_type": "stream",
     "text": [
      " 98%|██████████████████████████████████████████████████████████████████████████████████████████████████████████████████████████████████████████████████████████████████████████████████████▎   | 49/50 [15:35<00:19, 19.51s/it]"
     ]
    },
    {
     "name": "stdout",
     "output_type": "stream",
     "text": [
      "drums           ==> SDR:   7.185  SIR: 219.746  ISR:  13.878  SAR:   6.907  \n",
      "bass            ==> SDR:   7.185  SIR: 219.746  ISR:  13.878  SAR:   6.907  \n",
      "\n"
     ]
    },
    {
     "name": "stderr",
     "output_type": "stream",
     "text": [
      "100%|██████████████████████████████████████████████████████████████████████████████████████████████████████████████████████████████████████████████████████████████████████████████████████████| 50/50 [15:53<00:00, 19.07s/it]"
     ]
    },
    {
     "name": "stdout",
     "output_type": "stream",
     "text": [
      "drums           ==> SDR:   4.861  SIR: 206.564  ISR:   7.798  SAR:   4.241  \n",
      "bass            ==> SDR:   4.861  SIR: 206.564  ISR:   7.798  SAR:   4.241  \n",
      "\n"
     ]
    },
    {
     "name": "stderr",
     "output_type": "stream",
     "text": [
      "\n",
      "C:\\Python311\\Lib\\site-packages\\pytorch_lightning\\utilities\\migration\\utils.py:55: The loaded checkpoint was produced with Lightning v2.2.1, which is newer than your current Lightning version: v2.1.2\n",
      "  2%|███▋                                                                                                                                                                                       | 1/50 [00:20<16:30, 20.21s/it]"
     ]
    },
    {
     "name": "stdout",
     "output_type": "stream",
     "text": [
      "drums           ==> SDR:   3.997  SIR: 206.293  ISR:   6.420  SAR:   2.901  \n",
      "bass            ==> SDR:   3.997  SIR: 206.293  ISR:   6.420  SAR:   2.901  \n",
      "\n"
     ]
    },
    {
     "name": "stderr",
     "output_type": "stream",
     "text": [
      "  4%|███████▍                                                                                                                                                                                   | 2/50 [00:39<15:44, 19.67s/it]"
     ]
    },
    {
     "name": "stdout",
     "output_type": "stream",
     "text": [
      "drums           ==> SDR:   2.509  SIR: 182.022  ISR:   5.192  SAR:  -0.367  \n",
      "bass            ==> SDR:   2.509  SIR: 182.022  ISR:   5.192  SAR:  -0.367  \n",
      "\n"
     ]
    },
    {
     "name": "stderr",
     "output_type": "stream",
     "text": [
      "  6%|███████████▏                                                                                                                                                                               | 3/50 [00:56<14:29, 18.50s/it]"
     ]
    },
    {
     "name": "stdout",
     "output_type": "stream",
     "text": [
      "drums           ==> SDR:   3.011  SIR: 232.714  ISR:   5.611  SAR:   1.329  \n",
      "bass            ==> SDR:   3.011  SIR: 232.714  ISR:   5.611  SAR:   1.329  \n",
      "\n"
     ]
    },
    {
     "name": "stderr",
     "output_type": "stream",
     "text": [
      "  8%|██████████████▉                                                                                                                                                                            | 4/50 [01:18<15:14, 19.87s/it]"
     ]
    },
    {
     "name": "stdout",
     "output_type": "stream",
     "text": [
      "drums           ==> SDR:   1.783  SIR: 223.388  ISR:   4.309  SAR:  -0.381  \n",
      "bass            ==> SDR:   1.783  SIR: 223.388  ISR:   4.309  SAR:  -0.381  \n",
      "\n"
     ]
    },
    {
     "name": "stderr",
     "output_type": "stream",
     "text": [
      " 10%|██████████████████▋                                                                                                                                                                        | 5/50 [01:39<15:14, 20.32s/it]"
     ]
    },
    {
     "name": "stdout",
     "output_type": "stream",
     "text": [
      "drums           ==> SDR:   6.064  SIR: 198.834  ISR:   7.733  SAR:   6.330  \n",
      "bass            ==> SDR:   6.064  SIR: 198.834  ISR:   7.733  SAR:   6.330  \n",
      "\n"
     ]
    },
    {
     "name": "stderr",
     "output_type": "stream",
     "text": [
      " 12%|██████████████████████▍                                                                                                                                                                    | 6/50 [01:58<14:26, 19.69s/it]"
     ]
    },
    {
     "name": "stdout",
     "output_type": "stream",
     "text": [
      "drums           ==> SDR:   3.452  SIR: 234.531  ISR:   5.713  SAR:   1.999  \n",
      "bass            ==> SDR:   3.452  SIR: 234.531  ISR:   5.713  SAR:   1.999  \n",
      "\n"
     ]
    },
    {
     "name": "stderr",
     "output_type": "stream",
     "text": [
      " 14%|██████████████████████████▏                                                                                                                                                                | 7/50 [02:15<13:34, 18.94s/it]"
     ]
    },
    {
     "name": "stdout",
     "output_type": "stream",
     "text": [
      "drums           ==> SDR:   3.653  SIR: 221.958  ISR:   7.009  SAR:   2.050  \n",
      "bass            ==> SDR:   3.653  SIR: 221.958  ISR:   7.009  SAR:   2.050  \n",
      "\n"
     ]
    },
    {
     "name": "stderr",
     "output_type": "stream",
     "text": [
      " 16%|█████████████████████████████▉                                                                                                                                                             | 8/50 [02:36<13:38, 19.50s/it]"
     ]
    },
    {
     "name": "stdout",
     "output_type": "stream",
     "text": [
      "drums           ==> SDR:   3.121  SIR: 239.049  ISR:   5.236  SAR:   1.213  \n",
      "bass            ==> SDR:   3.121  SIR: 239.049  ISR:   5.236  SAR:   1.213  \n",
      "\n"
     ]
    },
    {
     "name": "stderr",
     "output_type": "stream",
     "text": [
      " 18%|█████████████████████████████████▋                                                                                                                                                         | 9/50 [02:56<13:23, 19.61s/it]"
     ]
    },
    {
     "name": "stdout",
     "output_type": "stream",
     "text": [
      "drums           ==> SDR:   3.403  SIR: 163.486  ISR:   4.623  SAR:   2.506  \n",
      "bass            ==> SDR:   3.403  SIR: 163.486  ISR:   4.623  SAR:   2.506  \n",
      "\n"
     ]
    },
    {
     "name": "stderr",
     "output_type": "stream",
     "text": [
      " 20%|█████████████████████████████████████▏                                                                                                                                                    | 10/50 [03:16<13:13, 19.84s/it]"
     ]
    },
    {
     "name": "stdout",
     "output_type": "stream",
     "text": [
      "drums           ==> SDR: -10.082  SIR: 179.130  ISR:   4.150  SAR: -16.098  \n",
      "bass            ==> SDR: -10.082  SIR: 179.130  ISR:   4.150  SAR: -16.098  \n",
      "\n"
     ]
    },
    {
     "name": "stderr",
     "output_type": "stream",
     "text": [
      " 22%|████████████████████████████████████████▉                                                                                                                                                 | 11/50 [03:37<13:02, 20.07s/it]"
     ]
    },
    {
     "name": "stdout",
     "output_type": "stream",
     "text": [
      "drums           ==> SDR:   5.825  SIR: 222.642  ISR:   8.019  SAR:   6.069  \n",
      "bass            ==> SDR:   5.825  SIR: 222.642  ISR:   8.019  SAR:   6.069  \n",
      "\n"
     ]
    },
    {
     "name": "stderr",
     "output_type": "stream",
     "text": [
      " 24%|████████████████████████████████████████████▋                                                                                                                                             | 12/50 [03:59<13:05, 20.67s/it]"
     ]
    },
    {
     "name": "stdout",
     "output_type": "stream",
     "text": [
      "drums           ==> SDR:   5.074  SIR: 223.323  ISR:   7.450  SAR:   5.274  \n",
      "bass            ==> SDR:   5.074  SIR: 223.323  ISR:   7.450  SAR:   5.274  \n",
      "\n"
     ]
    },
    {
     "name": "stderr",
     "output_type": "stream",
     "text": [
      " 26%|████████████████████████████████████████████████▎                                                                                                                                         | 13/50 [04:25<13:47, 22.37s/it]"
     ]
    },
    {
     "name": "stdout",
     "output_type": "stream",
     "text": [
      "drums           ==> SDR:   0.567  SIR:  91.039  ISR:   0.936  SAR:  -3.560  \n",
      "bass            ==> SDR:   0.567  SIR:  91.039  ISR:   0.936  SAR:  -3.560  \n",
      "\n"
     ]
    },
    {
     "name": "stderr",
     "output_type": "stream",
     "text": [
      " 28%|████████████████████████████████████████████████████                                                                                                                                      | 14/50 [04:44<12:48, 21.34s/it]"
     ]
    },
    {
     "name": "stdout",
     "output_type": "stream",
     "text": [
      "drums           ==> SDR:   6.678  SIR: 209.510  ISR:  11.521  SAR:   6.698  \n",
      "bass            ==> SDR:   6.678  SIR: 209.510  ISR:  11.521  SAR:   6.698  \n",
      "\n"
     ]
    },
    {
     "name": "stderr",
     "output_type": "stream",
     "text": [
      " 30%|███████████████████████████████████████████████████████▊                                                                                                                                  | 15/50 [05:02<11:53, 20.38s/it]"
     ]
    },
    {
     "name": "stdout",
     "output_type": "stream",
     "text": [
      "drums           ==> SDR:   3.666  SIR: 211.365  ISR:   6.461  SAR:   2.580  \n",
      "bass            ==> SDR:   3.666  SIR: 211.365  ISR:   6.461  SAR:   2.580  \n",
      "\n"
     ]
    },
    {
     "name": "stderr",
     "output_type": "stream",
     "text": [
      " 32%|███████████████████████████████████████████████████████████▌                                                                                                                              | 16/50 [05:21<11:17, 19.93s/it]"
     ]
    },
    {
     "name": "stdout",
     "output_type": "stream",
     "text": [
      "drums           ==> SDR:   2.995  SIR: 215.558  ISR:   5.969  SAR:   0.549  \n",
      "bass            ==> SDR:   2.995  SIR: 215.558  ISR:   5.969  SAR:   0.549  \n",
      "\n"
     ]
    },
    {
     "name": "stderr",
     "output_type": "stream",
     "text": [
      " 34%|███████████████████████████████████████████████████████████████▏                                                                                                                          | 17/50 [05:40<10:51, 19.75s/it]"
     ]
    },
    {
     "name": "stdout",
     "output_type": "stream",
     "text": [
      "drums           ==> SDR:   1.184  SIR: 223.048  ISR:   2.883  SAR:  -3.508  \n",
      "bass            ==> SDR:   1.184  SIR: 223.048  ISR:   2.883  SAR:  -3.508  \n",
      "\n"
     ]
    },
    {
     "name": "stderr",
     "output_type": "stream",
     "text": [
      " 36%|██████████████████████████████████████████████████████████████████▉                                                                                                                       | 18/50 [06:00<10:33, 19.79s/it]"
     ]
    },
    {
     "name": "stdout",
     "output_type": "stream",
     "text": [
      "drums           ==> SDR:   6.431  SIR: 197.507  ISR:   9.471  SAR:   6.764  \n",
      "bass            ==> SDR:   6.431  SIR: 197.507  ISR:   9.471  SAR:   6.764  \n",
      "\n"
     ]
    },
    {
     "name": "stderr",
     "output_type": "stream",
     "text": [
      " 38%|██████████████████████████████████████████████████████████████████████▋                                                                                                                   | 19/50 [06:22<10:31, 20.36s/it]"
     ]
    },
    {
     "name": "stdout",
     "output_type": "stream",
     "text": [
      "drums           ==> SDR:   6.471  SIR: 216.581  ISR:   8.571  SAR:   6.950  \n",
      "bass            ==> SDR:   6.471  SIR: 216.581  ISR:   8.571  SAR:   6.950  \n",
      "\n"
     ]
    },
    {
     "name": "stderr",
     "output_type": "stream",
     "text": [
      " 40%|██████████████████████████████████████████████████████████████████████████▍                                                                                                               | 20/50 [06:43<10:17, 20.58s/it]"
     ]
    },
    {
     "name": "stdout",
     "output_type": "stream",
     "text": [
      "drums           ==> SDR:   3.361  SIR: 208.324  ISR:   4.186  SAR:   5.330  \n",
      "bass            ==> SDR:   3.361  SIR: 208.324  ISR:   4.186  SAR:   5.330  \n",
      "\n"
     ]
    },
    {
     "name": "stderr",
     "output_type": "stream",
     "text": [
      " 42%|██████████████████████████████████████████████████████████████████████████████                                                                                                            | 21/50 [07:03<09:53, 20.48s/it]"
     ]
    },
    {
     "name": "stdout",
     "output_type": "stream",
     "text": [
      "drums           ==> SDR:   6.181  SIR: 184.714  ISR:   8.448  SAR:   7.546  \n",
      "bass            ==> SDR:   6.181  SIR: 184.714  ISR:   8.448  SAR:   7.546  \n",
      "\n"
     ]
    },
    {
     "name": "stderr",
     "output_type": "stream",
     "text": [
      " 44%|█████████████████████████████████████████████████████████████████████████████████▊                                                                                                        | 22/50 [07:23<09:29, 20.33s/it]"
     ]
    },
    {
     "name": "stdout",
     "output_type": "stream",
     "text": [
      "drums           ==> SDR:  -5.120  SIR: 270.839  ISR:  -1.143  SAR: -14.496  \n",
      "bass            ==> SDR:  -5.120  SIR: 270.839  ISR:  -1.143  SAR: -14.496  \n",
      "\n"
     ]
    },
    {
     "name": "stderr",
     "output_type": "stream",
     "text": [
      " 46%|█████████████████████████████████████████████████████████████████████████████████████▌                                                                                                    | 23/50 [07:43<09:02, 20.09s/it]"
     ]
    },
    {
     "name": "stdout",
     "output_type": "stream",
     "text": [
      "drums           ==> SDR:   2.948  SIR: 165.456  ISR:   5.761  SAR:   0.872  \n",
      "bass            ==> SDR:   2.948  SIR: 165.456  ISR:   5.761  SAR:   0.872  \n",
      "\n"
     ]
    },
    {
     "name": "stderr",
     "output_type": "stream",
     "text": [
      " 48%|█████████████████████████████████████████████████████████████████████████████████████████▎                                                                                                | 24/50 [08:02<08:36, 19.87s/it]"
     ]
    },
    {
     "name": "stdout",
     "output_type": "stream",
     "text": [
      "drums           ==> SDR:   3.822  SIR: 132.159  ISR:   6.079  SAR:   2.974  \n",
      "bass            ==> SDR:   3.822  SIR: 132.159  ISR:   6.079  SAR:   2.974  \n",
      "\n"
     ]
    },
    {
     "name": "stderr",
     "output_type": "stream",
     "text": [
      " 50%|█████████████████████████████████████████████████████████████████████████████████████████████                                                                                             | 25/50 [08:22<08:18, 19.95s/it]"
     ]
    },
    {
     "name": "stdout",
     "output_type": "stream",
     "text": [
      "drums           ==> SDR:   1.237  SIR: 223.773  ISR:   2.032  SAR:  -0.674  \n",
      "bass            ==> SDR:   1.237  SIR: 223.773  ISR:   2.032  SAR:  -0.674  \n",
      "\n"
     ]
    },
    {
     "name": "stderr",
     "output_type": "stream",
     "text": [
      " 52%|████████████████████████████████████████████████████████████████████████████████████████████████▋                                                                                         | 26/50 [08:41<07:51, 19.65s/it]"
     ]
    },
    {
     "name": "stdout",
     "output_type": "stream",
     "text": [
      "drums           ==> SDR:   7.930  SIR: 179.458  ISR:  11.160  SAR:   8.627  \n",
      "bass            ==> SDR:   7.930  SIR: 179.458  ISR:  11.160  SAR:   8.627  \n",
      "\n"
     ]
    },
    {
     "name": "stderr",
     "output_type": "stream",
     "text": [
      " 54%|████████████████████████████████████████████████████████████████████████████████████████████████████▍                                                                                     | 27/50 [09:01<07:33, 19.72s/it]"
     ]
    },
    {
     "name": "stdout",
     "output_type": "stream",
     "text": [
      "drums           ==> SDR:   6.488  SIR: 179.588  ISR:  10.731  SAR:   6.221  \n",
      "bass            ==> SDR:   6.488  SIR: 179.588  ISR:  10.731  SAR:   6.221  \n",
      "\n"
     ]
    },
    {
     "name": "stderr",
     "output_type": "stream",
     "text": [
      " 56%|████████████████████████████████████████████████████████████████████████████████████████████████████████▏                                                                                 | 28/50 [09:20<07:08, 19.47s/it]"
     ]
    },
    {
     "name": "stdout",
     "output_type": "stream",
     "text": [
      "drums           ==> SDR:   7.177  SIR: 190.859  ISR:   8.334  SAR:   9.557  \n",
      "bass            ==> SDR:   7.177  SIR: 190.859  ISR:   8.334  SAR:   9.557  \n",
      "\n"
     ]
    },
    {
     "name": "stderr",
     "output_type": "stream",
     "text": [
      " 58%|███████████████████████████████████████████████████████████████████████████████████████████████████████████▉                                                                              | 29/50 [09:41<06:56, 19.84s/it]"
     ]
    },
    {
     "name": "stdout",
     "output_type": "stream",
     "text": [
      "drums           ==> SDR:   3.910  SIR: 191.322  ISR:   5.024  SAR:   5.544  \n",
      "bass            ==> SDR:   3.910  SIR: 191.322  ISR:   5.024  SAR:   5.544  \n",
      "\n"
     ]
    },
    {
     "name": "stderr",
     "output_type": "stream",
     "text": [
      " 60%|███████████████████████████████████████████████████████████████████████████████████████████████████████████████▌                                                                          | 30/50 [10:00<06:33, 19.69s/it]"
     ]
    },
    {
     "name": "stdout",
     "output_type": "stream",
     "text": [
      "drums           ==> SDR:   3.021  SIR: 211.379  ISR:   4.274  SAR:   1.922  \n",
      "bass            ==> SDR:   3.021  SIR: 211.379  ISR:   4.274  SAR:   1.922  \n",
      "\n"
     ]
    },
    {
     "name": "stderr",
     "output_type": "stream",
     "text": [
      " 62%|███████████████████████████████████████████████████████████████████████████████████████████████████████████████████▎                                                                      | 31/50 [10:19<06:11, 19.57s/it]"
     ]
    },
    {
     "name": "stdout",
     "output_type": "stream",
     "text": [
      "drums           ==> SDR:   1.940  SIR: 193.056  ISR:   7.823  SAR:   1.018  \n",
      "bass            ==> SDR:   1.940  SIR: 193.056  ISR:   7.823  SAR:   1.018  \n",
      "\n"
     ]
    },
    {
     "name": "stderr",
     "output_type": "stream",
     "text": [
      " 64%|███████████████████████████████████████████████████████████████████████████████████████████████████████████████████████                                                                   | 32/50 [10:39<05:52, 19.58s/it]"
     ]
    },
    {
     "name": "stdout",
     "output_type": "stream",
     "text": [
      "drums           ==> SDR:   0.444  SIR: 194.677  ISR:   1.397  SAR:  -2.914  \n",
      "bass            ==> SDR:   0.444  SIR: 194.677  ISR:   1.397  SAR:  -2.914  \n",
      "\n"
     ]
    },
    {
     "name": "stderr",
     "output_type": "stream",
     "text": [
      " 66%|██████████████████████████████████████████████████████████████████████████████████████████████████████████████████████████▊                                                               | 33/50 [11:00<05:39, 19.97s/it]"
     ]
    },
    {
     "name": "stdout",
     "output_type": "stream",
     "text": [
      "drums           ==> SDR:   1.030  SIR: 229.603  ISR:   2.516  SAR:  -1.610  \n",
      "bass            ==> SDR:   1.030  SIR: 229.603  ISR:   2.516  SAR:  -1.610  \n",
      "\n"
     ]
    },
    {
     "name": "stderr",
     "output_type": "stream",
     "text": [
      " 68%|██████████████████████████████████████████████████████████████████████████████████████████████████████████████████████████████▍                                                           | 34/50 [11:20<05:23, 20.23s/it]"
     ]
    },
    {
     "name": "stdout",
     "output_type": "stream",
     "text": [
      "drums           ==> SDR:   2.781  SIR: 249.225  ISR:   4.894  SAR:   0.723  \n",
      "bass            ==> SDR:   2.781  SIR: 249.225  ISR:   4.894  SAR:   0.723  \n",
      "\n"
     ]
    },
    {
     "name": "stderr",
     "output_type": "stream",
     "text": [
      " 70%|██████████████████████████████████████████████████████████████████████████████████████████████████████████████████████████████████▏                                                       | 35/50 [11:41<05:04, 20.27s/it]"
     ]
    },
    {
     "name": "stdout",
     "output_type": "stream",
     "text": [
      "drums           ==> SDR:   6.474  SIR: 227.296  ISR:   8.759  SAR:   7.273  \n",
      "bass            ==> SDR:   6.474  SIR: 227.296  ISR:   8.759  SAR:   7.273  \n",
      "\n"
     ]
    },
    {
     "name": "stderr",
     "output_type": "stream",
     "text": [
      " 72%|█████████████████████████████████████████████████████████████████████████████████████████████████████████████████████████████████████▉                                                    | 36/50 [12:01<04:41, 20.13s/it]"
     ]
    },
    {
     "name": "stdout",
     "output_type": "stream",
     "text": [
      "drums           ==> SDR:   0.757  SIR: 201.756  ISR:   3.804  SAR:  -2.601  \n",
      "bass            ==> SDR:   0.757  SIR: 201.756  ISR:   3.804  SAR:  -2.601  \n",
      "\n"
     ]
    },
    {
     "name": "stderr",
     "output_type": "stream",
     "text": [
      " 74%|█████████████████████████████████████████████████████████████████████████████████████████████████████████████████████████████████████████▋                                                | 37/50 [12:20<04:18, 19.91s/it]"
     ]
    },
    {
     "name": "stdout",
     "output_type": "stream",
     "text": [
      "drums           ==> SDR:   2.017  SIR: 204.108  ISR:   5.904  SAR:  -0.197  \n",
      "bass            ==> SDR:   2.017  SIR: 204.108  ISR:   5.904  SAR:  -0.197  \n",
      "\n"
     ]
    },
    {
     "name": "stderr",
     "output_type": "stream",
     "text": [
      " 76%|█████████████████████████████████████████████████████████████████████████████████████████████████████████████████████████████████████████████▎                                            | 38/50 [12:38<03:51, 19.32s/it]"
     ]
    },
    {
     "name": "stdout",
     "output_type": "stream",
     "text": [
      "drums           ==> SDR:   4.564  SIR: 219.571  ISR:   5.372  SAR:   2.889  \n",
      "bass            ==> SDR:   4.564  SIR: 219.571  ISR:   5.372  SAR:   2.889  \n",
      "\n"
     ]
    },
    {
     "name": "stderr",
     "output_type": "stream",
     "text": [
      " 78%|█████████████████████████████████████████████████████████████████████████████████████████████████████████████████████████████████████████████████                                         | 39/50 [12:56<03:29, 19.03s/it]"
     ]
    },
    {
     "name": "stdout",
     "output_type": "stream",
     "text": [
      "drums           ==> SDR:   1.901  SIR: 225.890  ISR:   2.787  SAR:   1.067  \n",
      "bass            ==> SDR:   1.901  SIR: 225.890  ISR:   2.787  SAR:   1.067  \n",
      "\n"
     ]
    },
    {
     "name": "stderr",
     "output_type": "stream",
     "text": [
      " 80%|████████████████████████████████████████████████████████████████████████████████████████████████████████████████████████████████████████████████████▊                                     | 40/50 [13:13<03:03, 18.30s/it]"
     ]
    },
    {
     "name": "stdout",
     "output_type": "stream",
     "text": [
      "drums           ==> SDR:   1.534  SIR: 167.283  ISR:   2.793  SAR:  -1.416  \n",
      "bass            ==> SDR:   1.534  SIR: 167.283  ISR:   2.793  SAR:  -1.416  \n",
      "\n"
     ]
    },
    {
     "name": "stderr",
     "output_type": "stream",
     "text": [
      " 82%|████████████████████████████████████████████████████████████████████████████████████████████████████████████████████████████████████████████████████████▌                                 | 41/50 [13:31<02:44, 18.27s/it]"
     ]
    },
    {
     "name": "stdout",
     "output_type": "stream",
     "text": [
      "drums           ==> SDR:   1.331  SIR: 175.879  ISR:   3.911  SAR:   0.513  \n",
      "bass            ==> SDR:   1.331  SIR: 175.879  ISR:   3.911  SAR:   0.513  \n",
      "\n"
     ]
    },
    {
     "name": "stderr",
     "output_type": "stream",
     "text": [
      " 84%|████████████████████████████████████████████████████████████████████████████████████████████████████████████████████████████████████████████████████████████▏                             | 42/50 [13:49<02:25, 18.19s/it]"
     ]
    },
    {
     "name": "stdout",
     "output_type": "stream",
     "text": [
      "drums           ==> SDR:   5.075  SIR: 118.002  ISR:   7.360  SAR:   4.630  \n",
      "bass            ==> SDR:   5.075  SIR: 118.002  ISR:   7.360  SAR:   4.630  \n",
      "\n"
     ]
    },
    {
     "name": "stderr",
     "output_type": "stream",
     "text": [
      " 86%|███████████████████████████████████████████████████████████████████████████████████████████████████████████████████████████████████████████████████████████████▉                          | 43/50 [14:07<02:06, 18.07s/it]"
     ]
    },
    {
     "name": "stdout",
     "output_type": "stream",
     "text": [
      "drums           ==> SDR:   1.672  SIR: 171.958  ISR:   2.954  SAR:  -1.625  \n",
      "bass            ==> SDR:   1.672  SIR: 171.958  ISR:   2.954  SAR:  -1.625  \n",
      "\n"
     ]
    },
    {
     "name": "stderr",
     "output_type": "stream",
     "text": [
      " 88%|███████████████████████████████████████████████████████████████████████████████████████████████████████████████████████████████████████████████████████████████████▋                      | 44/50 [14:23<01:45, 17.50s/it]"
     ]
    },
    {
     "name": "stdout",
     "output_type": "stream",
     "text": [
      "drums           ==> SDR:   1.983  SIR: 217.569  ISR:   3.460  SAR:   0.832  \n",
      "bass            ==> SDR:   1.983  SIR: 217.569  ISR:   3.460  SAR:   0.832  \n",
      "\n"
     ]
    },
    {
     "name": "stderr",
     "output_type": "stream",
     "text": [
      " 90%|███████████████████████████████████████████████████████████████████████████████████████████████████████████████████████████████████████████████████████████████████████▍                  | 45/50 [14:41<01:27, 17.51s/it]"
     ]
    },
    {
     "name": "stdout",
     "output_type": "stream",
     "text": [
      "drums           ==> SDR:   0.183  SIR: 203.795  ISR:   0.324  SAR:  -6.978  \n",
      "bass            ==> SDR:   0.183  SIR: 203.795  ISR:   0.324  SAR:  -6.978  \n",
      "\n"
     ]
    },
    {
     "name": "stderr",
     "output_type": "stream",
     "text": [
      " 92%|███████████████████████████████████████████████████████████████████████████████████████████████████████████████████████████████████████████████████████████████████████████               | 46/50 [15:00<01:12, 18.12s/it]"
     ]
    },
    {
     "name": "stdout",
     "output_type": "stream",
     "text": [
      "drums           ==> SDR:   2.036  SIR: 207.874  ISR:   3.655  SAR:  -0.283  \n",
      "bass            ==> SDR:   2.036  SIR: 207.874  ISR:   3.655  SAR:  -0.283  \n",
      "\n"
     ]
    },
    {
     "name": "stderr",
     "output_type": "stream",
     "text": [
      " 94%|██████████████████████████████████████████████████████████████████████████████████████████████████████████████████████████████████████████████████████████████████████████████▊           | 47/50 [15:20<00:55, 18.52s/it]"
     ]
    },
    {
     "name": "stdout",
     "output_type": "stream",
     "text": [
      "drums           ==> SDR:   2.057  SIR: 167.499  ISR:   3.620  SAR:   1.288  \n",
      "bass            ==> SDR:   2.057  SIR: 167.499  ISR:   3.620  SAR:   1.288  \n",
      "\n"
     ]
    },
    {
     "name": "stderr",
     "output_type": "stream",
     "text": [
      " 96%|██████████████████████████████████████████████████████████████████████████████████████████████████████████████████████████████████████████████████████████████████████████████████▌       | 48/50 [15:37<00:36, 18.15s/it]"
     ]
    },
    {
     "name": "stdout",
     "output_type": "stream",
     "text": [
      "drums           ==> SDR:   2.385  SIR: 221.953  ISR:   6.084  SAR:  -0.331  \n",
      "bass            ==> SDR:   2.385  SIR: 221.953  ISR:   6.084  SAR:  -0.331  \n",
      "\n"
     ]
    },
    {
     "name": "stderr",
     "output_type": "stream",
     "text": [
      " 98%|██████████████████████████████████████████████████████████████████████████████████████████████████████████████████████████████████████████████████████████████████████████████████████▎   | 49/50 [15:55<00:18, 18.19s/it]"
     ]
    },
    {
     "name": "stdout",
     "output_type": "stream",
     "text": [
      "drums           ==> SDR:   7.250  SIR: 211.914  ISR:  13.717  SAR:   6.948  \n",
      "bass            ==> SDR:   7.250  SIR: 211.914  ISR:  13.717  SAR:   6.948  \n",
      "\n"
     ]
    },
    {
     "name": "stderr",
     "output_type": "stream",
     "text": [
      "100%|██████████████████████████████████████████████████████████████████████████████████████████████████████████████████████████████████████████████████████████████████████████████████████████| 50/50 [16:15<00:00, 19.52s/it]"
     ]
    },
    {
     "name": "stdout",
     "output_type": "stream",
     "text": [
      "drums           ==> SDR:   4.725  SIR: 205.020  ISR:   7.719  SAR:   4.121  \n",
      "bass            ==> SDR:   4.725  SIR: 205.020  ISR:   7.719  SAR:   4.121  \n",
      "\n"
     ]
    },
    {
     "name": "stderr",
     "output_type": "stream",
     "text": [
      "\n",
      "C:\\Python311\\Lib\\site-packages\\pytorch_lightning\\utilities\\migration\\utils.py:55: The loaded checkpoint was produced with Lightning v2.2.1, which is newer than your current Lightning version: v2.1.2\n",
      "  2%|███▋                                                                                                                                                                                       | 1/50 [00:17<14:22, 17.60s/it]"
     ]
    },
    {
     "name": "stdout",
     "output_type": "stream",
     "text": [
      "drums           ==> SDR:   3.628  SIR: 220.066  ISR:   5.633  SAR:   2.559  \n",
      "bass            ==> SDR:   3.628  SIR: 220.066  ISR:   5.633  SAR:   2.559  \n",
      "\n"
     ]
    },
    {
     "name": "stderr",
     "output_type": "stream",
     "text": [
      "  4%|███████▍                                                                                                                                                                                   | 2/50 [00:37<15:05, 18.87s/it]"
     ]
    },
    {
     "name": "stdout",
     "output_type": "stream",
     "text": [
      "drums           ==> SDR:   2.386  SIR: 184.204  ISR:   4.846  SAR:  -0.663  \n",
      "bass            ==> SDR:   2.386  SIR: 184.204  ISR:   4.846  SAR:  -0.663  \n",
      "\n"
     ]
    },
    {
     "name": "stderr",
     "output_type": "stream",
     "text": [
      "  6%|███████████▏                                                                                                                                                                               | 3/50 [00:54<14:16, 18.22s/it]"
     ]
    },
    {
     "name": "stdout",
     "output_type": "stream",
     "text": [
      "drums           ==> SDR:   3.074  SIR: 233.815  ISR:   5.650  SAR:   1.332  \n",
      "bass            ==> SDR:   3.074  SIR: 233.815  ISR:   5.650  SAR:   1.332  \n",
      "\n"
     ]
    },
    {
     "name": "stderr",
     "output_type": "stream",
     "text": [
      "  8%|██████████████▉                                                                                                                                                                            | 4/50 [01:12<13:39, 17.82s/it]"
     ]
    },
    {
     "name": "stdout",
     "output_type": "stream",
     "text": [
      "drums           ==> SDR:   1.078  SIR: 219.383  ISR:   2.400  SAR:  -1.268  \n",
      "bass            ==> SDR:   1.078  SIR: 219.383  ISR:   2.400  SAR:  -1.268  \n",
      "\n"
     ]
    },
    {
     "name": "stderr",
     "output_type": "stream",
     "text": [
      " 10%|██████████████████▋                                                                                                                                                                        | 5/50 [01:29<13:10, 17.57s/it]"
     ]
    },
    {
     "name": "stdout",
     "output_type": "stream",
     "text": [
      "drums           ==> SDR:   5.757  SIR: 195.195  ISR:   7.602  SAR:   6.549  \n",
      "bass            ==> SDR:   5.757  SIR: 195.195  ISR:   7.602  SAR:   6.549  \n",
      "\n"
     ]
    },
    {
     "name": "stderr",
     "output_type": "stream",
     "text": [
      " 12%|██████████████████████▍                                                                                                                                                                    | 6/50 [01:46<12:44, 17.38s/it]"
     ]
    },
    {
     "name": "stdout",
     "output_type": "stream",
     "text": [
      "drums           ==> SDR:   3.059  SIR: 238.836  ISR:   5.213  SAR:   1.645  \n",
      "bass            ==> SDR:   3.059  SIR: 238.836  ISR:   5.213  SAR:   1.645  \n",
      "\n"
     ]
    },
    {
     "name": "stderr",
     "output_type": "stream",
     "text": [
      " 14%|██████████████████████████▏                                                                                                                                                                | 7/50 [02:03<12:24, 17.32s/it]"
     ]
    },
    {
     "name": "stdout",
     "output_type": "stream",
     "text": [
      "drums           ==> SDR:   3.547  SIR: 218.292  ISR:   6.350  SAR:   2.030  \n",
      "bass            ==> SDR:   3.547  SIR: 218.292  ISR:   6.350  SAR:   2.030  \n",
      "\n"
     ]
    },
    {
     "name": "stderr",
     "output_type": "stream",
     "text": [
      " 16%|█████████████████████████████▉                                                                                                                                                             | 8/50 [02:20<12:01, 17.18s/it]"
     ]
    },
    {
     "name": "stdout",
     "output_type": "stream",
     "text": [
      "drums           ==> SDR:   2.617  SIR: 239.022  ISR:   4.330  SAR:   0.196  \n",
      "bass            ==> SDR:   2.617  SIR: 239.022  ISR:   4.330  SAR:   0.196  \n",
      "\n"
     ]
    },
    {
     "name": "stderr",
     "output_type": "stream",
     "text": [
      " 18%|█████████████████████████████████▋                                                                                                                                                         | 9/50 [02:37<11:41, 17.10s/it]"
     ]
    },
    {
     "name": "stdout",
     "output_type": "stream",
     "text": [
      "drums           ==> SDR:   2.851  SIR: 165.594  ISR:   4.052  SAR:   1.952  \n",
      "bass            ==> SDR:   2.851  SIR: 165.594  ISR:   4.052  SAR:   1.952  \n",
      "\n"
     ]
    },
    {
     "name": "stderr",
     "output_type": "stream",
     "text": [
      " 20%|█████████████████████████████████████▏                                                                                                                                                    | 10/50 [02:55<11:38, 17.47s/it]"
     ]
    },
    {
     "name": "stdout",
     "output_type": "stream",
     "text": [
      "drums           ==> SDR: -10.082  SIR: 175.098  ISR:   2.883  SAR: -18.094  \n",
      "bass            ==> SDR: -10.082  SIR: 175.098  ISR:   2.883  SAR: -18.094  \n",
      "\n"
     ]
    },
    {
     "name": "stderr",
     "output_type": "stream",
     "text": [
      " 22%|████████████████████████████████████████▉                                                                                                                                                 | 11/50 [03:12<11:17, 17.38s/it]"
     ]
    },
    {
     "name": "stdout",
     "output_type": "stream",
     "text": [
      "drums           ==> SDR:   4.417  SIR: 217.663  ISR:   5.653  SAR:   3.812  \n",
      "bass            ==> SDR:   4.417  SIR: 217.663  ISR:   5.653  SAR:   3.812  \n",
      "\n"
     ]
    },
    {
     "name": "stderr",
     "output_type": "stream",
     "text": [
      " 24%|████████████████████████████████████████████▋                                                                                                                                             | 12/50 [03:29<10:51, 17.16s/it]"
     ]
    },
    {
     "name": "stdout",
     "output_type": "stream",
     "text": [
      "drums           ==> SDR:   5.165  SIR: 223.386  ISR:   7.542  SAR:   5.133  \n",
      "bass            ==> SDR:   5.165  SIR: 223.386  ISR:   7.542  SAR:   5.133  \n",
      "\n"
     ]
    },
    {
     "name": "stderr",
     "output_type": "stream",
     "text": [
      " 26%|████████████████████████████████████████████████▎                                                                                                                                         | 13/50 [03:48<10:52, 17.65s/it]"
     ]
    },
    {
     "name": "stdout",
     "output_type": "stream",
     "text": [
      "drums           ==> SDR:   0.178  SIR:  85.288  ISR:   0.499  SAR:  -5.740  \n",
      "bass            ==> SDR:   0.178  SIR:  85.288  ISR:   0.499  SAR:  -5.740  \n",
      "\n"
     ]
    },
    {
     "name": "stderr",
     "output_type": "stream",
     "text": [
      " 28%|████████████████████████████████████████████████████                                                                                                                                      | 14/50 [04:05<10:33, 17.58s/it]"
     ]
    },
    {
     "name": "stdout",
     "output_type": "stream",
     "text": [
      "drums           ==> SDR:   6.426  SIR: 210.219  ISR:  11.469  SAR:   6.651  \n",
      "bass            ==> SDR:   6.426  SIR: 210.219  ISR:  11.469  SAR:   6.651  \n",
      "\n"
     ]
    },
    {
     "name": "stderr",
     "output_type": "stream",
     "text": [
      " 30%|███████████████████████████████████████████████████████▊                                                                                                                                  | 15/50 [04:22<10:09, 17.41s/it]"
     ]
    },
    {
     "name": "stdout",
     "output_type": "stream",
     "text": [
      "drums           ==> SDR:   3.716  SIR: 212.241  ISR:   6.280  SAR:   2.831  \n",
      "bass            ==> SDR:   3.716  SIR: 212.241  ISR:   6.280  SAR:   2.831  \n",
      "\n"
     ]
    },
    {
     "name": "stderr",
     "output_type": "stream",
     "text": [
      " 32%|███████████████████████████████████████████████████████████▌                                                                                                                              | 16/50 [04:41<10:03, 17.75s/it]"
     ]
    },
    {
     "name": "stdout",
     "output_type": "stream",
     "text": [
      "drums           ==> SDR:   3.008  SIR: 214.210  ISR:   5.789  SAR:   0.357  \n",
      "bass            ==> SDR:   3.008  SIR: 214.210  ISR:   5.789  SAR:   0.357  \n",
      "\n"
     ]
    },
    {
     "name": "stderr",
     "output_type": "stream",
     "text": [
      " 34%|███████████████████████████████████████████████████████████████▏                                                                                                                          | 17/50 [05:00<10:06, 18.37s/it]"
     ]
    },
    {
     "name": "stdout",
     "output_type": "stream",
     "text": [
      "drums           ==> SDR:   0.834  SIR: 222.697  ISR:   2.276  SAR:  -3.901  \n",
      "bass            ==> SDR:   0.834  SIR: 222.697  ISR:   2.276  SAR:  -3.901  \n",
      "\n"
     ]
    },
    {
     "name": "stderr",
     "output_type": "stream",
     "text": [
      " 36%|██████████████████████████████████████████████████████████████████▉                                                                                                                       | 18/50 [05:18<09:43, 18.24s/it]"
     ]
    },
    {
     "name": "stdout",
     "output_type": "stream",
     "text": [
      "drums           ==> SDR:   6.319  SIR: 206.769  ISR:   9.555  SAR:   6.687  \n",
      "bass            ==> SDR:   6.319  SIR: 206.769  ISR:   9.555  SAR:   6.687  \n",
      "\n"
     ]
    },
    {
     "name": "stderr",
     "output_type": "stream",
     "text": [
      " 38%|██████████████████████████████████████████████████████████████████████▋                                                                                                                   | 19/50 [05:36<09:21, 18.11s/it]"
     ]
    },
    {
     "name": "stdout",
     "output_type": "stream",
     "text": [
      "drums           ==> SDR:   5.377  SIR: 215.491  ISR:   6.743  SAR:   5.923  \n",
      "bass            ==> SDR:   5.377  SIR: 215.491  ISR:   6.743  SAR:   5.923  \n",
      "\n"
     ]
    },
    {
     "name": "stderr",
     "output_type": "stream",
     "text": [
      " 40%|██████████████████████████████████████████████████████████████████████████▍                                                                                                               | 20/50 [05:53<08:53, 17.79s/it]"
     ]
    },
    {
     "name": "stdout",
     "output_type": "stream",
     "text": [
      "drums           ==> SDR:   3.220  SIR: 211.144  ISR:   3.987  SAR:   4.712  \n",
      "bass            ==> SDR:   3.220  SIR: 211.144  ISR:   3.987  SAR:   4.712  \n",
      "\n"
     ]
    },
    {
     "name": "stderr",
     "output_type": "stream",
     "text": [
      " 42%|██████████████████████████████████████████████████████████████████████████████                                                                                                            | 21/50 [06:12<08:42, 18.00s/it]"
     ]
    },
    {
     "name": "stdout",
     "output_type": "stream",
     "text": [
      "drums           ==> SDR:   5.785  SIR: 184.669  ISR:   7.819  SAR:   7.136  \n",
      "bass            ==> SDR:   5.785  SIR: 184.669  ISR:   7.819  SAR:   7.136  \n",
      "\n"
     ]
    },
    {
     "name": "stderr",
     "output_type": "stream",
     "text": [
      " 44%|█████████████████████████████████████████████████████████████████████████████████▊                                                                                                        | 22/50 [06:28<08:12, 17.57s/it]"
     ]
    },
    {
     "name": "stdout",
     "output_type": "stream",
     "text": [
      "drums           ==> SDR:  -5.120  SIR: 270.839  ISR:  -1.143  SAR: -14.496  \n",
      "bass            ==> SDR:  -5.120  SIR: 270.839  ISR:  -1.143  SAR: -14.496  \n",
      "\n"
     ]
    },
    {
     "name": "stderr",
     "output_type": "stream",
     "text": [
      " 46%|█████████████████████████████████████████████████████████████████████████████████████▌                                                                                                    | 23/50 [06:46<07:52, 17.52s/it]"
     ]
    },
    {
     "name": "stdout",
     "output_type": "stream",
     "text": [
      "drums           ==> SDR:   2.768  SIR: 167.171  ISR:   5.453  SAR:   0.779  \n",
      "bass            ==> SDR:   2.768  SIR: 167.171  ISR:   5.453  SAR:   0.779  \n",
      "\n"
     ]
    },
    {
     "name": "stderr",
     "output_type": "stream",
     "text": [
      " 48%|█████████████████████████████████████████████████████████████████████████████████████████▎                                                                                                | 24/50 [07:03<07:31, 17.36s/it]"
     ]
    },
    {
     "name": "stdout",
     "output_type": "stream",
     "text": [
      "drums           ==> SDR:   3.464  SIR: 130.124  ISR:   5.098  SAR:   1.669  \n",
      "bass            ==> SDR:   3.464  SIR: 130.124  ISR:   5.098  SAR:   1.669  \n",
      "\n"
     ]
    },
    {
     "name": "stderr",
     "output_type": "stream",
     "text": [
      " 50%|█████████████████████████████████████████████████████████████████████████████████████████████                                                                                             | 25/50 [07:22<07:28, 17.94s/it]"
     ]
    },
    {
     "name": "stdout",
     "output_type": "stream",
     "text": [
      "drums           ==> SDR:   0.894  SIR: 220.227  ISR:   1.501  SAR:  -2.571  \n",
      "bass            ==> SDR:   0.894  SIR: 220.227  ISR:   1.501  SAR:  -2.571  \n",
      "\n"
     ]
    },
    {
     "name": "stderr",
     "output_type": "stream",
     "text": [
      " 52%|████████████████████████████████████████████████████████████████████████████████████████████████▋                                                                                         | 26/50 [07:39<07:03, 17.65s/it]"
     ]
    },
    {
     "name": "stdout",
     "output_type": "stream",
     "text": [
      "drums           ==> SDR:   7.664  SIR: 174.665  ISR:  10.765  SAR:   8.329  \n",
      "bass            ==> SDR:   7.664  SIR: 174.665  ISR:  10.765  SAR:   8.329  \n",
      "\n"
     ]
    },
    {
     "name": "stderr",
     "output_type": "stream",
     "text": [
      " 54%|████████████████████████████████████████████████████████████████████████████████████████████████████▍                                                                                     | 27/50 [07:57<06:50, 17.85s/it]"
     ]
    },
    {
     "name": "stdout",
     "output_type": "stream",
     "text": [
      "drums           ==> SDR:   6.493  SIR: 180.247  ISR:  10.014  SAR:   6.347  \n",
      "bass            ==> SDR:   6.493  SIR: 180.247  ISR:  10.014  SAR:   6.347  \n",
      "\n"
     ]
    },
    {
     "name": "stderr",
     "output_type": "stream",
     "text": [
      " 56%|████████████████████████████████████████████████████████████████████████████████████████████████████████▏                                                                                 | 28/50 [08:16<06:36, 18.01s/it]"
     ]
    },
    {
     "name": "stdout",
     "output_type": "stream",
     "text": [
      "drums           ==> SDR:   6.441  SIR: 188.968  ISR:   7.245  SAR:   7.847  \n",
      "bass            ==> SDR:   6.441  SIR: 188.968  ISR:   7.245  SAR:   7.847  \n",
      "\n"
     ]
    },
    {
     "name": "stderr",
     "output_type": "stream",
     "text": [
      " 58%|███████████████████████████████████████████████████████████████████████████████████████████████████████████▉                                                                              | 29/50 [08:33<06:12, 17.75s/it]"
     ]
    },
    {
     "name": "stdout",
     "output_type": "stream",
     "text": [
      "drums           ==> SDR:   3.989  SIR: 187.718  ISR:   4.692  SAR:   5.059  \n",
      "bass            ==> SDR:   3.989  SIR: 187.718  ISR:   4.692  SAR:   5.059  \n",
      "\n"
     ]
    },
    {
     "name": "stderr",
     "output_type": "stream",
     "text": [
      " 60%|███████████████████████████████████████████████████████████████████████████████████████████████████████████████▌                                                                          | 30/50 [08:50<05:49, 17.48s/it]"
     ]
    },
    {
     "name": "stdout",
     "output_type": "stream",
     "text": [
      "drums           ==> SDR:   3.124  SIR: 210.718  ISR:   4.010  SAR:   2.427  \n",
      "bass            ==> SDR:   3.124  SIR: 210.718  ISR:   4.010  SAR:   2.427  \n",
      "\n"
     ]
    },
    {
     "name": "stderr",
     "output_type": "stream",
     "text": [
      " 62%|███████████████████████████████████████████████████████████████████████████████████████████████████████████████████▎                                                                      | 31/50 [09:07<05:31, 17.44s/it]"
     ]
    },
    {
     "name": "stdout",
     "output_type": "stream",
     "text": [
      "drums           ==> SDR:   2.259  SIR: 200.929  ISR:   6.758  SAR:   0.377  \n",
      "bass            ==> SDR:   2.259  SIR: 200.929  ISR:   6.758  SAR:   0.377  \n",
      "\n"
     ]
    },
    {
     "name": "stderr",
     "output_type": "stream",
     "text": [
      " 64%|███████████████████████████████████████████████████████████████████████████████████████████████████████████████████████                                                                   | 32/50 [09:24<05:09, 17.21s/it]"
     ]
    },
    {
     "name": "stdout",
     "output_type": "stream",
     "text": [
      "drums           ==> SDR:   0.298  SIR: 189.100  ISR:   1.225  SAR:  -2.379  \n",
      "bass            ==> SDR:   0.298  SIR: 189.100  ISR:   1.225  SAR:  -2.379  \n",
      "\n"
     ]
    },
    {
     "name": "stderr",
     "output_type": "stream",
     "text": [
      " 66%|██████████████████████████████████████████████████████████████████████████████████████████████████████████████████████████▊                                                               | 33/50 [09:42<04:59, 17.61s/it]"
     ]
    },
    {
     "name": "stdout",
     "output_type": "stream",
     "text": [
      "drums           ==> SDR:   0.794  SIR: 218.808  ISR:   1.836  SAR:  -3.112  \n",
      "bass            ==> SDR:   0.794  SIR: 218.808  ISR:   1.836  SAR:  -3.112  \n",
      "\n"
     ]
    },
    {
     "name": "stderr",
     "output_type": "stream",
     "text": [
      " 68%|██████████████████████████████████████████████████████████████████████████████████████████████████████████████████████████████▍                                                           | 34/50 [09:59<04:38, 17.41s/it]"
     ]
    },
    {
     "name": "stdout",
     "output_type": "stream",
     "text": [
      "drums           ==> SDR:   2.056  SIR: 246.253  ISR:   3.551  SAR:  -0.409  \n",
      "bass            ==> SDR:   2.056  SIR: 246.253  ISR:   3.551  SAR:  -0.409  \n",
      "\n"
     ]
    },
    {
     "name": "stderr",
     "output_type": "stream",
     "text": [
      " 70%|██████████████████████████████████████████████████████████████████████████████████████████████████████████████████████████████████▏                                                       | 35/50 [10:16<04:18, 17.21s/it]"
     ]
    },
    {
     "name": "stdout",
     "output_type": "stream",
     "text": [
      "drums           ==> SDR:   6.093  SIR: 217.315  ISR:   8.296  SAR:   7.222  \n",
      "bass            ==> SDR:   6.093  SIR: 217.315  ISR:   8.296  SAR:   7.222  \n",
      "\n"
     ]
    },
    {
     "name": "stderr",
     "output_type": "stream",
     "text": [
      " 72%|█████████████████████████████████████████████████████████████████████████████████████████████████████████████████████████████████████▉                                                    | 36/50 [10:33<03:59, 17.10s/it]"
     ]
    },
    {
     "name": "stdout",
     "output_type": "stream",
     "text": [
      "drums           ==> SDR:   1.113  SIR: 196.888  ISR:   3.549  SAR:  -2.657  \n",
      "bass            ==> SDR:   1.113  SIR: 196.888  ISR:   3.549  SAR:  -2.657  \n",
      "\n"
     ]
    },
    {
     "name": "stderr",
     "output_type": "stream",
     "text": [
      " 74%|█████████████████████████████████████████████████████████████████████████████████████████████████████████████████████████████████████████▋                                                | 37/50 [10:49<03:40, 16.98s/it]"
     ]
    },
    {
     "name": "stdout",
     "output_type": "stream",
     "text": [
      "drums           ==> SDR:   1.813  SIR: 208.255  ISR:   5.229  SAR:  -0.418  \n",
      "bass            ==> SDR:   1.813  SIR: 208.255  ISR:   5.229  SAR:  -0.418  \n",
      "\n"
     ]
    },
    {
     "name": "stderr",
     "output_type": "stream",
     "text": [
      " 76%|█████████████████████████████████████████████████████████████████████████████████████████████████████████████████████████████████████████████▎                                            | 38/50 [11:07<03:26, 17.18s/it]"
     ]
    },
    {
     "name": "stdout",
     "output_type": "stream",
     "text": [
      "drums           ==> SDR:   3.966  SIR: 223.146  ISR:   4.634  SAR:   2.252  \n",
      "bass            ==> SDR:   3.966  SIR: 223.146  ISR:   4.634  SAR:   2.252  \n",
      "\n"
     ]
    },
    {
     "name": "stderr",
     "output_type": "stream",
     "text": [
      " 78%|█████████████████████████████████████████████████████████████████████████████████████████████████████████████████████████████████████████████████                                         | 39/50 [11:24<03:09, 17.22s/it]"
     ]
    },
    {
     "name": "stdout",
     "output_type": "stream",
     "text": [
      "drums           ==> SDR:   1.808  SIR: 223.182  ISR:   2.636  SAR:   0.754  \n",
      "bass            ==> SDR:   1.808  SIR: 223.182  ISR:   2.636  SAR:   0.754  \n",
      "\n"
     ]
    },
    {
     "name": "stderr",
     "output_type": "stream",
     "text": [
      " 80%|████████████████████████████████████████████████████████████████████████████████████████████████████████████████████████████████████████████████████▊                                     | 40/50 [11:42<02:53, 17.31s/it]"
     ]
    },
    {
     "name": "stdout",
     "output_type": "stream",
     "text": [
      "drums           ==> SDR:   1.228  SIR: 171.549  ISR:   2.231  SAR:  -2.120  \n",
      "bass            ==> SDR:   1.228  SIR: 171.549  ISR:   2.231  SAR:  -2.120  \n",
      "\n"
     ]
    },
    {
     "name": "stderr",
     "output_type": "stream",
     "text": [
      " 82%|████████████████████████████████████████████████████████████████████████████████████████████████████████████████████████████████████████████████████████▌                                 | 41/50 [11:59<02:36, 17.41s/it]"
     ]
    },
    {
     "name": "stdout",
     "output_type": "stream",
     "text": [
      "drums           ==> SDR:   1.378  SIR: 176.712  ISR:   3.169  SAR:  -0.018  \n",
      "bass            ==> SDR:   1.378  SIR: 176.712  ISR:   3.169  SAR:  -0.018  \n",
      "\n"
     ]
    },
    {
     "name": "stderr",
     "output_type": "stream",
     "text": [
      " 84%|████████████████████████████████████████████████████████████████████████████████████████████████████████████████████████████████████████████████████████████▏                             | 42/50 [12:17<02:19, 17.44s/it]"
     ]
    },
    {
     "name": "stdout",
     "output_type": "stream",
     "text": [
      "drums           ==> SDR:   5.075  SIR: 121.462  ISR:   7.286  SAR:   4.672  \n",
      "bass            ==> SDR:   5.075  SIR: 121.462  ISR:   7.286  SAR:   4.672  \n",
      "\n"
     ]
    },
    {
     "name": "stderr",
     "output_type": "stream",
     "text": [
      " 86%|███████████████████████████████████████████████████████████████████████████████████████████████████████████████████████████████████████████████████████████████▉                          | 43/50 [12:34<02:01, 17.38s/it]"
     ]
    },
    {
     "name": "stdout",
     "output_type": "stream",
     "text": [
      "drums           ==> SDR:   0.966  SIR: 171.613  ISR:   2.184  SAR:  -1.874  \n",
      "bass            ==> SDR:   0.966  SIR: 171.613  ISR:   2.184  SAR:  -1.874  \n",
      "\n"
     ]
    },
    {
     "name": "stderr",
     "output_type": "stream",
     "text": [
      " 88%|███████████████████████████████████████████████████████████████████████████████████████████████████████████████████████████████████████████████████████████████████▋                      | 44/50 [12:52<01:45, 17.64s/it]"
     ]
    },
    {
     "name": "stdout",
     "output_type": "stream",
     "text": [
      "drums           ==> SDR:   1.713  SIR: 223.203  ISR:   2.747  SAR:  -0.018  \n",
      "bass            ==> SDR:   1.713  SIR: 223.203  ISR:   2.747  SAR:  -0.018  \n",
      "\n"
     ]
    },
    {
     "name": "stderr",
     "output_type": "stream",
     "text": [
      " 90%|███████████████████████████████████████████████████████████████████████████████████████████████████████████████████████████████████████████████████████████████████████▍                  | 45/50 [13:13<01:33, 18.64s/it]"
     ]
    },
    {
     "name": "stdout",
     "output_type": "stream",
     "text": [
      "drums           ==> SDR:   0.048  SIR: 213.682  ISR:   0.339  SAR:  -3.012  \n",
      "bass            ==> SDR:   0.048  SIR: 213.682  ISR:   0.339  SAR:  -3.012  \n",
      "\n"
     ]
    },
    {
     "name": "stderr",
     "output_type": "stream",
     "text": [
      " 92%|███████████████████████████████████████████████████████████████████████████████████████████████████████████████████████████████████████████████████████████████████████████               | 46/50 [13:32<01:14, 18.60s/it]"
     ]
    },
    {
     "name": "stdout",
     "output_type": "stream",
     "text": [
      "drums           ==> SDR:   1.909  SIR: 203.314  ISR:   3.254  SAR:  -0.453  \n",
      "bass            ==> SDR:   1.909  SIR: 203.314  ISR:   3.254  SAR:  -0.453  \n",
      "\n"
     ]
    },
    {
     "name": "stderr",
     "output_type": "stream",
     "text": [
      " 94%|██████████████████████████████████████████████████████████████████████████████████████████████████████████████████████████████████████████████████████████████████████████████▊           | 47/50 [13:53<00:58, 19.38s/it]"
     ]
    },
    {
     "name": "stdout",
     "output_type": "stream",
     "text": [
      "drums           ==> SDR:   1.982  SIR: 162.541  ISR:   3.748  SAR:   1.968  \n",
      "bass            ==> SDR:   1.982  SIR: 162.541  ISR:   3.748  SAR:   1.968  \n",
      "\n"
     ]
    },
    {
     "name": "stderr",
     "output_type": "stream",
     "text": [
      " 96%|██████████████████████████████████████████████████████████████████████████████████████████████████████████████████████████████████████████████████████████████████████████████████▌       | 48/50 [14:12<00:38, 19.31s/it]"
     ]
    },
    {
     "name": "stdout",
     "output_type": "stream",
     "text": [
      "drums           ==> SDR:   2.491  SIR: 221.320  ISR:   5.941  SAR:  -0.150  \n",
      "bass            ==> SDR:   2.491  SIR: 221.320  ISR:   5.941  SAR:  -0.150  \n",
      "\n"
     ]
    },
    {
     "name": "stderr",
     "output_type": "stream",
     "text": [
      " 98%|██████████████████████████████████████████████████████████████████████████████████████████████████████████████████████████████████████████████████████████████████████████████████████▎   | 49/50 [14:32<00:19, 19.45s/it]"
     ]
    },
    {
     "name": "stdout",
     "output_type": "stream",
     "text": [
      "drums           ==> SDR:   7.219  SIR: 218.458  ISR:  13.347  SAR:   7.024  \n",
      "bass            ==> SDR:   7.219  SIR: 218.458  ISR:  13.347  SAR:   7.024  \n",
      "\n"
     ]
    },
    {
     "name": "stderr",
     "output_type": "stream",
     "text": [
      "100%|██████████████████████████████████████████████████████████████████████████████████████████████████████████████████████████████████████████████████████████████████████████████████████████| 50/50 [14:51<00:00, 17.83s/it]"
     ]
    },
    {
     "name": "stdout",
     "output_type": "stream",
     "text": [
      "drums           ==> SDR:   4.647  SIR: 206.965  ISR:   7.626  SAR:   4.010  \n",
      "bass            ==> SDR:   4.647  SIR: 206.965  ISR:   7.626  SAR:   4.010  \n",
      "\n"
     ]
    },
    {
     "name": "stderr",
     "output_type": "stream",
     "text": [
      "\n",
      "C:\\Python311\\Lib\\site-packages\\pytorch_lightning\\utilities\\migration\\utils.py:55: The loaded checkpoint was produced with Lightning v2.2.1, which is newer than your current Lightning version: v2.1.2\n",
      "  2%|███▋                                                                                                                                                                                       | 1/50 [00:18<15:11, 18.60s/it]"
     ]
    },
    {
     "name": "stdout",
     "output_type": "stream",
     "text": [
      "drums           ==> SDR:   3.129  SIR: 220.947  ISR:   4.828  SAR:   1.010  \n",
      "bass            ==> SDR:   3.129  SIR: 220.947  ISR:   4.828  SAR:   1.010  \n",
      "\n"
     ]
    },
    {
     "name": "stderr",
     "output_type": "stream",
     "text": [
      "  4%|███████▍                                                                                                                                                                                   | 2/50 [00:37<14:58, 18.72s/it]"
     ]
    },
    {
     "name": "stdout",
     "output_type": "stream",
     "text": [
      "drums           ==> SDR:   2.050  SIR: 182.859  ISR:   4.116  SAR:  -1.323  \n",
      "bass            ==> SDR:   2.050  SIR: 182.859  ISR:   4.116  SAR:  -1.323  \n",
      "\n"
     ]
    },
    {
     "name": "stderr",
     "output_type": "stream",
     "text": [
      "  6%|███████████▏                                                                                                                                                                               | 3/50 [00:59<16:01, 20.46s/it]"
     ]
    },
    {
     "name": "stdout",
     "output_type": "stream",
     "text": [
      "drums           ==> SDR:   2.153  SIR: 228.028  ISR:   3.628  SAR:  -0.338  \n",
      "bass            ==> SDR:   2.153  SIR: 228.028  ISR:   3.628  SAR:  -0.338  \n",
      "\n"
     ]
    },
    {
     "name": "stderr",
     "output_type": "stream",
     "text": [
      "  8%|██████████████▉                                                                                                                                                                            | 4/50 [01:18<15:03, 19.64s/it]"
     ]
    },
    {
     "name": "stdout",
     "output_type": "stream",
     "text": [
      "drums           ==> SDR:   0.953  SIR: 221.396  ISR:   2.092  SAR:  -1.033  \n",
      "bass            ==> SDR:   0.953  SIR: 221.396  ISR:   2.092  SAR:  -1.033  \n",
      "\n"
     ]
    },
    {
     "name": "stderr",
     "output_type": "stream",
     "text": [
      " 10%|██████████████████▋                                                                                                                                                                        | 5/50 [01:38<14:54, 19.88s/it]"
     ]
    },
    {
     "name": "stdout",
     "output_type": "stream",
     "text": [
      "drums           ==> SDR:   4.165  SIR: 193.795  ISR:   5.137  SAR:   2.619  \n",
      "bass            ==> SDR:   4.165  SIR: 193.795  ISR:   5.137  SAR:   2.619  \n",
      "\n"
     ]
    },
    {
     "name": "stderr",
     "output_type": "stream",
     "text": [
      " 12%|██████████████████████▍                                                                                                                                                                    | 6/50 [01:57<14:12, 19.38s/it]"
     ]
    },
    {
     "name": "stdout",
     "output_type": "stream",
     "text": [
      "drums           ==> SDR:   2.885  SIR: 233.813  ISR:   4.525  SAR:   0.910  \n",
      "bass            ==> SDR:   2.885  SIR: 233.813  ISR:   4.525  SAR:   0.910  \n",
      "\n"
     ]
    },
    {
     "name": "stderr",
     "output_type": "stream",
     "text": [
      " 14%|██████████████████████████▏                                                                                                                                                                | 7/50 [02:17<14:13, 19.85s/it]"
     ]
    },
    {
     "name": "stdout",
     "output_type": "stream",
     "text": [
      "drums           ==> SDR:   2.687  SIR: 223.634  ISR:   4.561  SAR:   0.083  \n",
      "bass            ==> SDR:   2.687  SIR: 223.634  ISR:   4.561  SAR:   0.083  \n",
      "\n"
     ]
    },
    {
     "name": "stderr",
     "output_type": "stream",
     "text": [
      " 16%|█████████████████████████████▉                                                                                                                                                             | 8/50 [02:35<13:27, 19.23s/it]"
     ]
    },
    {
     "name": "stdout",
     "output_type": "stream",
     "text": [
      "drums           ==> SDR:   2.821  SIR: 240.890  ISR:   4.566  SAR:   1.060  \n",
      "bass            ==> SDR:   2.821  SIR: 240.890  ISR:   4.566  SAR:   1.060  \n",
      "\n"
     ]
    },
    {
     "name": "stderr",
     "output_type": "stream",
     "text": [
      " 18%|█████████████████████████████████▋                                                                                                                                                         | 9/50 [02:57<13:40, 20.01s/it]"
     ]
    },
    {
     "name": "stdout",
     "output_type": "stream",
     "text": [
      "drums           ==> SDR:   1.690  SIR: 164.284  ISR:   2.637  SAR:   0.017  \n",
      "bass            ==> SDR:   1.690  SIR: 164.284  ISR:   2.637  SAR:   0.017  \n",
      "\n"
     ]
    },
    {
     "name": "stderr",
     "output_type": "stream",
     "text": [
      " 20%|█████████████████████████████████████▏                                                                                                                                                    | 10/50 [03:15<12:59, 19.48s/it]"
     ]
    },
    {
     "name": "stdout",
     "output_type": "stream",
     "text": [
      "drums           ==> SDR: -10.082  SIR: 178.956  ISR:   2.332  SAR: -20.224  \n",
      "bass            ==> SDR: -10.082  SIR: 178.956  ISR:   2.332  SAR: -20.224  \n",
      "\n"
     ]
    },
    {
     "name": "stderr",
     "output_type": "stream",
     "text": [
      " 22%|████████████████████████████████████████▉                                                                                                                                                 | 11/50 [03:33<12:16, 18.89s/it]"
     ]
    },
    {
     "name": "stdout",
     "output_type": "stream",
     "text": [
      "drums           ==> SDR:   2.813  SIR: 218.811  ISR:   3.442  SAR:   0.778  \n",
      "bass            ==> SDR:   2.813  SIR: 218.811  ISR:   3.442  SAR:   0.778  \n",
      "\n"
     ]
    },
    {
     "name": "stderr",
     "output_type": "stream",
     "text": [
      " 24%|████████████████████████████████████████████▋                                                                                                                                             | 12/50 [03:52<12:02, 19.01s/it]"
     ]
    },
    {
     "name": "stdout",
     "output_type": "stream",
     "text": [
      "drums           ==> SDR:   5.178  SIR: 222.049  ISR:   7.929  SAR:   4.986  \n",
      "bass            ==> SDR:   5.178  SIR: 222.049  ISR:   7.929  SAR:   4.986  \n",
      "\n"
     ]
    },
    {
     "name": "stderr",
     "output_type": "stream",
     "text": [
      " 26%|████████████████████████████████████████████████▎                                                                                                                                         | 13/50 [04:10<11:34, 18.77s/it]"
     ]
    },
    {
     "name": "stdout",
     "output_type": "stream",
     "text": [
      "drums           ==> SDR:   0.023  SIR:  97.956  ISR:   0.418  SAR:  -1.273  \n",
      "bass            ==> SDR:   0.023  SIR:  97.956  ISR:   0.418  SAR:  -1.273  \n",
      "\n"
     ]
    },
    {
     "name": "stderr",
     "output_type": "stream",
     "text": [
      " 28%|████████████████████████████████████████████████████                                                                                                                                      | 14/50 [04:30<11:22, 18.97s/it]"
     ]
    },
    {
     "name": "stdout",
     "output_type": "stream",
     "text": [
      "drums           ==> SDR:   6.401  SIR: 209.038  ISR:  10.908  SAR:   6.534  \n",
      "bass            ==> SDR:   6.401  SIR: 209.038  ISR:  10.908  SAR:   6.534  \n",
      "\n"
     ]
    },
    {
     "name": "stderr",
     "output_type": "stream",
     "text": [
      " 30%|███████████████████████████████████████████████████████▊                                                                                                                                  | 15/50 [04:50<11:16, 19.33s/it]"
     ]
    },
    {
     "name": "stdout",
     "output_type": "stream",
     "text": [
      "drums           ==> SDR:   3.545  SIR: 212.858  ISR:   5.754  SAR:   2.278  \n",
      "bass            ==> SDR:   3.545  SIR: 212.858  ISR:   5.754  SAR:   2.278  \n",
      "\n"
     ]
    },
    {
     "name": "stderr",
     "output_type": "stream",
     "text": [
      " 32%|███████████████████████████████████████████████████████████▌                                                                                                                              | 16/50 [05:10<11:06, 19.59s/it]"
     ]
    },
    {
     "name": "stdout",
     "output_type": "stream",
     "text": [
      "drums           ==> SDR:   2.719  SIR: 209.749  ISR:   4.952  SAR:   0.082  \n",
      "bass            ==> SDR:   2.719  SIR: 209.749  ISR:   4.952  SAR:   0.082  \n",
      "\n"
     ]
    },
    {
     "name": "stderr",
     "output_type": "stream",
     "text": [
      " 34%|███████████████████████████████████████████████████████████████▏                                                                                                                          | 17/50 [05:30<10:50, 19.72s/it]"
     ]
    },
    {
     "name": "stdout",
     "output_type": "stream",
     "text": [
      "drums           ==> SDR:   0.512  SIR: 220.671  ISR:   1.200  SAR:  -4.110  \n",
      "bass            ==> SDR:   0.512  SIR: 220.671  ISR:   1.200  SAR:  -4.110  \n",
      "\n"
     ]
    },
    {
     "name": "stderr",
     "output_type": "stream",
     "text": [
      " 36%|██████████████████████████████████████████████████████████████████▉                                                                                                                       | 18/50 [05:49<10:18, 19.34s/it]"
     ]
    },
    {
     "name": "stdout",
     "output_type": "stream",
     "text": [
      "drums           ==> SDR:   6.222  SIR: 191.134  ISR:   8.778  SAR:   5.826  \n",
      "bass            ==> SDR:   6.222  SIR: 191.134  ISR:   8.778  SAR:   5.826  \n",
      "\n"
     ]
    },
    {
     "name": "stderr",
     "output_type": "stream",
     "text": [
      " 38%|██████████████████████████████████████████████████████████████████████▋                                                                                                                   | 19/50 [06:05<09:34, 18.52s/it]"
     ]
    },
    {
     "name": "stdout",
     "output_type": "stream",
     "text": [
      "drums           ==> SDR:   3.544  SIR: 217.182  ISR:   4.049  SAR:   2.147  \n",
      "bass            ==> SDR:   3.544  SIR: 217.182  ISR:   4.049  SAR:   2.147  \n",
      "\n"
     ]
    },
    {
     "name": "stderr",
     "output_type": "stream",
     "text": [
      " 40%|██████████████████████████████████████████████████████████████████████████▍                                                                                                               | 20/50 [06:23<09:05, 18.18s/it]"
     ]
    },
    {
     "name": "stdout",
     "output_type": "stream",
     "text": [
      "drums           ==> SDR:   2.800  SIR: 214.581  ISR:   3.215  SAR:   3.295  \n",
      "bass            ==> SDR:   2.800  SIR: 214.581  ISR:   3.215  SAR:   3.295  \n",
      "\n"
     ]
    },
    {
     "name": "stderr",
     "output_type": "stream",
     "text": [
      " 42%|██████████████████████████████████████████████████████████████████████████████                                                                                                            | 21/50 [06:40<08:38, 17.89s/it]"
     ]
    },
    {
     "name": "stdout",
     "output_type": "stream",
     "text": [
      "drums           ==> SDR:   5.166  SIR: 187.347  ISR:   7.235  SAR:   6.360  \n",
      "bass            ==> SDR:   5.166  SIR: 187.347  ISR:   7.235  SAR:   6.360  \n",
      "\n"
     ]
    },
    {
     "name": "stderr",
     "output_type": "stream",
     "text": [
      " 44%|█████████████████████████████████████████████████████████████████████████████████▊                                                                                                        | 22/50 [07:01<08:52, 19.02s/it]"
     ]
    },
    {
     "name": "stdout",
     "output_type": "stream",
     "text": [
      "drums           ==> SDR:  -5.120  SIR: 270.839  ISR:  -1.143  SAR: -14.496  \n",
      "bass            ==> SDR:  -5.120  SIR: 270.839  ISR:  -1.143  SAR: -14.496  \n",
      "\n"
     ]
    },
    {
     "name": "stderr",
     "output_type": "stream",
     "text": [
      " 46%|█████████████████████████████████████████████████████████████████████████████████████▌                                                                                                    | 23/50 [07:20<08:30, 18.92s/it]"
     ]
    },
    {
     "name": "stdout",
     "output_type": "stream",
     "text": [
      "drums           ==> SDR:   2.814  SIR: 168.064  ISR:   5.288  SAR:   0.675  \n",
      "bass            ==> SDR:   2.814  SIR: 168.064  ISR:   5.288  SAR:   0.675  \n",
      "\n"
     ]
    },
    {
     "name": "stderr",
     "output_type": "stream",
     "text": [
      " 48%|█████████████████████████████████████████████████████████████████████████████████████████▎                                                                                                | 24/50 [07:44<08:51, 20.44s/it]"
     ]
    },
    {
     "name": "stdout",
     "output_type": "stream",
     "text": [
      "drums           ==> SDR:   2.613  SIR: 129.333  ISR:   3.999  SAR:   0.916  \n",
      "bass            ==> SDR:   2.613  SIR: 129.333  ISR:   3.999  SAR:   0.916  \n",
      "\n"
     ]
    },
    {
     "name": "stderr",
     "output_type": "stream",
     "text": [
      " 50%|█████████████████████████████████████████████████████████████████████████████████████████████                                                                                             | 25/50 [08:07<08:52, 21.30s/it]"
     ]
    },
    {
     "name": "stdout",
     "output_type": "stream",
     "text": [
      "drums           ==> SDR:   0.481  SIR: 224.550  ISR:   1.004  SAR:  -2.924  \n",
      "bass            ==> SDR:   0.481  SIR: 224.550  ISR:   1.004  SAR:  -2.924  \n",
      "\n"
     ]
    },
    {
     "name": "stderr",
     "output_type": "stream",
     "text": [
      " 52%|████████████████████████████████████████████████████████████████████████████████████████████████▋                                                                                         | 26/50 [08:27<08:18, 20.76s/it]"
     ]
    },
    {
     "name": "stdout",
     "output_type": "stream",
     "text": [
      "drums           ==> SDR:   5.672  SIR: 174.660  ISR:   7.333  SAR:   5.855  \n",
      "bass            ==> SDR:   5.672  SIR: 174.660  ISR:   7.333  SAR:   5.855  \n",
      "\n"
     ]
    },
    {
     "name": "stderr",
     "output_type": "stream",
     "text": [
      " 54%|████████████████████████████████████████████████████████████████████████████████████████████████████▍                                                                                     | 27/50 [08:46<07:48, 20.38s/it]"
     ]
    },
    {
     "name": "stdout",
     "output_type": "stream",
     "text": [
      "drums           ==> SDR:   6.526  SIR: 181.971  ISR:   9.977  SAR:   5.841  \n",
      "bass            ==> SDR:   6.526  SIR: 181.971  ISR:   9.977  SAR:   5.841  \n",
      "\n"
     ]
    },
    {
     "name": "stderr",
     "output_type": "stream",
     "text": [
      " 56%|████████████████████████████████████████████████████████████████████████████████████████████████████████▏                                                                                 | 28/50 [09:08<07:37, 20.79s/it]"
     ]
    },
    {
     "name": "stdout",
     "output_type": "stream",
     "text": [
      "drums           ==> SDR:   5.443  SIR: 189.460  ISR:   6.016  SAR:   6.176  \n",
      "bass            ==> SDR:   5.443  SIR: 189.460  ISR:   6.016  SAR:   6.176  \n",
      "\n"
     ]
    },
    {
     "name": "stderr",
     "output_type": "stream",
     "text": [
      " 58%|███████████████████████████████████████████████████████████████████████████████████████████████████████████▉                                                                              | 29/50 [09:30<07:21, 21.04s/it]"
     ]
    },
    {
     "name": "stdout",
     "output_type": "stream",
     "text": [
      "drums           ==> SDR:   3.101  SIR: 184.323  ISR:   3.942  SAR:   3.369  \n",
      "bass            ==> SDR:   3.101  SIR: 184.323  ISR:   3.942  SAR:   3.369  \n",
      "\n"
     ]
    },
    {
     "name": "stderr",
     "output_type": "stream",
     "text": [
      " 60%|███████████████████████████████████████████████████████████████████████████████████████████████████████████████▌                                                                          | 30/50 [09:49<06:52, 20.64s/it]"
     ]
    },
    {
     "name": "stdout",
     "output_type": "stream",
     "text": [
      "drums           ==> SDR:   1.023  SIR: 206.119  ISR:   1.776  SAR:  -0.297  \n",
      "bass            ==> SDR:   1.023  SIR: 206.119  ISR:   1.776  SAR:  -0.297  \n",
      "\n"
     ]
    },
    {
     "name": "stderr",
     "output_type": "stream",
     "text": [
      " 62%|███████████████████████████████████████████████████████████████████████████████████████████████████████████████████▎                                                                      | 31/50 [10:10<06:32, 20.66s/it]"
     ]
    },
    {
     "name": "stdout",
     "output_type": "stream",
     "text": [
      "drums           ==> SDR:   1.709  SIR: 198.617  ISR:   5.740  SAR:  -0.055  \n",
      "bass            ==> SDR:   1.709  SIR: 198.617  ISR:   5.740  SAR:  -0.055  \n",
      "\n"
     ]
    },
    {
     "name": "stderr",
     "output_type": "stream",
     "text": [
      " 64%|███████████████████████████████████████████████████████████████████████████████████████████████████████████████████████                                                                   | 32/50 [10:30<06:09, 20.54s/it]"
     ]
    },
    {
     "name": "stdout",
     "output_type": "stream",
     "text": [
      "drums           ==> SDR:   0.036  SIR: 193.186  ISR:   0.346  SAR:  -0.657  \n",
      "bass            ==> SDR:   0.036  SIR: 193.186  ISR:   0.346  SAR:  -0.657  \n",
      "\n"
     ]
    },
    {
     "name": "stderr",
     "output_type": "stream",
     "text": [
      " 66%|██████████████████████████████████████████████████████████████████████████████████████████████████████████████████████████▊                                                               | 33/50 [10:52<05:54, 20.86s/it]"
     ]
    },
    {
     "name": "stdout",
     "output_type": "stream",
     "text": [
      "drums           ==> SDR:   0.148  SIR: 220.273  ISR:   1.008  SAR:  -1.862  \n",
      "bass            ==> SDR:   0.148  SIR: 220.273  ISR:   1.008  SAR:  -1.862  \n",
      "\n"
     ]
    },
    {
     "name": "stderr",
     "output_type": "stream",
     "text": [
      " 68%|██████████████████████████████████████████████████████████████████████████████████████████████████████████████████████████████▍                                                           | 34/50 [11:12<05:29, 20.60s/it]"
     ]
    },
    {
     "name": "stdout",
     "output_type": "stream",
     "text": [
      "drums           ==> SDR:   1.643  SIR: 253.624  ISR:   2.693  SAR:  -1.690  \n",
      "bass            ==> SDR:   1.643  SIR: 253.624  ISR:   2.693  SAR:  -1.690  \n",
      "\n"
     ]
    },
    {
     "name": "stderr",
     "output_type": "stream",
     "text": [
      " 70%|██████████████████████████████████████████████████████████████████████████████████████████████████████████████████████████████████▏                                                       | 35/50 [11:33<05:09, 20.61s/it]"
     ]
    },
    {
     "name": "stdout",
     "output_type": "stream",
     "text": [
      "drums           ==> SDR:   3.888  SIR: 218.827  ISR:   4.897  SAR:   3.742  \n",
      "bass            ==> SDR:   3.888  SIR: 218.827  ISR:   4.897  SAR:   3.742  \n",
      "\n"
     ]
    },
    {
     "name": "stderr",
     "output_type": "stream",
     "text": [
      " 72%|█████████████████████████████████████████████████████████████████████████████████████████████████████████████████████████████████████▉                                                    | 36/50 [11:55<04:55, 21.08s/it]"
     ]
    },
    {
     "name": "stdout",
     "output_type": "stream",
     "text": [
      "drums           ==> SDR:   0.950  SIR: 210.700  ISR:   3.115  SAR:  -2.346  \n",
      "bass            ==> SDR:   0.950  SIR: 210.700  ISR:   3.115  SAR:  -2.346  \n",
      "\n"
     ]
    },
    {
     "name": "stderr",
     "output_type": "stream",
     "text": [
      " 74%|█████████████████████████████████████████████████████████████████████████████████████████████████████████████████████████████████████████▋                                                | 37/50 [12:17<04:39, 21.47s/it]"
     ]
    },
    {
     "name": "stdout",
     "output_type": "stream",
     "text": [
      "drums           ==> SDR:   1.772  SIR: 201.640  ISR:   4.399  SAR:  -0.623  \n",
      "bass            ==> SDR:   1.772  SIR: 201.640  ISR:   4.399  SAR:  -0.623  \n",
      "\n"
     ]
    },
    {
     "name": "stderr",
     "output_type": "stream",
     "text": [
      " 76%|█████████████████████████████████████████████████████████████████████████████████████████████████████████████████████████████████████████████▎                                            | 38/50 [12:39<04:19, 21.61s/it]"
     ]
    },
    {
     "name": "stdout",
     "output_type": "stream",
     "text": [
      "drums           ==> SDR:   2.940  SIR: 223.514  ISR:   3.964  SAR:   0.923  \n",
      "bass            ==> SDR:   2.940  SIR: 223.514  ISR:   3.964  SAR:   0.923  \n",
      "\n"
     ]
    },
    {
     "name": "stderr",
     "output_type": "stream",
     "text": [
      " 78%|█████████████████████████████████████████████████████████████████████████████████████████████████████████████████████████████████████████████████                                         | 39/50 [12:57<03:46, 20.60s/it]"
     ]
    },
    {
     "name": "stdout",
     "output_type": "stream",
     "text": [
      "drums           ==> SDR:   1.487  SIR: 225.838  ISR:   2.156  SAR:  -0.184  \n",
      "bass            ==> SDR:   1.487  SIR: 225.838  ISR:   2.156  SAR:  -0.184  \n",
      "\n"
     ]
    },
    {
     "name": "stderr",
     "output_type": "stream",
     "text": [
      " 80%|████████████████████████████████████████████████████████████████████████████████████████████████████████████████████████████████████████████████████▊                                     | 40/50 [13:17<03:22, 20.27s/it]"
     ]
    },
    {
     "name": "stdout",
     "output_type": "stream",
     "text": [
      "drums           ==> SDR:   0.414  SIR: 171.460  ISR:   1.080  SAR:  -4.617  \n",
      "bass            ==> SDR:   0.414  SIR: 171.460  ISR:   1.080  SAR:  -4.617  \n",
      "\n"
     ]
    },
    {
     "name": "stderr",
     "output_type": "stream",
     "text": [
      " 82%|████████████████████████████████████████████████████████████████████████████████████████████████████████████████████████████████████████████████████████▌                                 | 41/50 [13:34<02:53, 19.32s/it]"
     ]
    },
    {
     "name": "stdout",
     "output_type": "stream",
     "text": [
      "drums           ==> SDR:   0.155  SIR: 181.164  ISR:   1.856  SAR:  -3.883  \n",
      "bass            ==> SDR:   0.155  SIR: 181.164  ISR:   1.856  SAR:  -3.883  \n",
      "\n"
     ]
    },
    {
     "name": "stderr",
     "output_type": "stream",
     "text": [
      " 84%|████████████████████████████████████████████████████████████████████████████████████████████████████████████████████████████████████████████████████████████▏                             | 42/50 [13:51<02:28, 18.57s/it]"
     ]
    },
    {
     "name": "stdout",
     "output_type": "stream",
     "text": [
      "drums           ==> SDR:   4.778  SIR: 125.166  ISR:   6.682  SAR:   4.242  \n",
      "bass            ==> SDR:   4.778  SIR: 125.166  ISR:   6.682  SAR:   4.242  \n",
      "\n"
     ]
    },
    {
     "name": "stderr",
     "output_type": "stream",
     "text": [
      " 86%|███████████████████████████████████████████████████████████████████████████████████████████████████████████████████████████████████████████████████████████████▉                          | 43/50 [14:07<02:05, 17.92s/it]"
     ]
    },
    {
     "name": "stdout",
     "output_type": "stream",
     "text": [
      "drums           ==> SDR:   0.916  SIR: 169.984  ISR:   1.629  SAR:  -3.514  \n",
      "bass            ==> SDR:   0.916  SIR: 169.984  ISR:   1.629  SAR:  -3.514  \n",
      "\n"
     ]
    },
    {
     "name": "stderr",
     "output_type": "stream",
     "text": [
      " 88%|███████████████████████████████████████████████████████████████████████████████████████████████████████████████████████████████████████████████████████████████████▋                      | 44/50 [14:23<01:43, 17.32s/it]"
     ]
    },
    {
     "name": "stdout",
     "output_type": "stream",
     "text": [
      "drums           ==> SDR:   1.426  SIR: 219.588  ISR:   2.417  SAR:  -0.510  \n",
      "bass            ==> SDR:   1.426  SIR: 219.588  ISR:   2.417  SAR:  -0.510  \n",
      "\n"
     ]
    },
    {
     "name": "stderr",
     "output_type": "stream",
     "text": [
      " 90%|███████████████████████████████████████████████████████████████████████████████████████████████████████████████████████████████████████████████████████████████████████▍                  | 45/50 [14:41<01:26, 17.32s/it]"
     ]
    },
    {
     "name": "stdout",
     "output_type": "stream",
     "text": [
      "drums           ==> SDR:   0.042  SIR: 206.761  ISR:   0.196  SAR:  -3.593  \n",
      "bass            ==> SDR:   0.042  SIR: 206.761  ISR:   0.196  SAR:  -3.593  \n",
      "\n"
     ]
    },
    {
     "name": "stderr",
     "output_type": "stream",
     "text": [
      " 92%|███████████████████████████████████████████████████████████████████████████████████████████████████████████████████████████████████████████████████████████████████████████               | 46/50 [14:57<01:08, 17.01s/it]"
     ]
    },
    {
     "name": "stdout",
     "output_type": "stream",
     "text": [
      "drums           ==> SDR:   1.455  SIR: 202.850  ISR:   2.479  SAR:  -1.835  \n",
      "bass            ==> SDR:   1.455  SIR: 202.850  ISR:   2.479  SAR:  -1.835  \n",
      "\n"
     ]
    },
    {
     "name": "stderr",
     "output_type": "stream",
     "text": [
      " 94%|██████████████████████████████████████████████████████████████████████████████████████████████████████████████████████████████████████████████████████████████████████████████▊           | 47/50 [15:13<00:50, 16.69s/it]"
     ]
    },
    {
     "name": "stdout",
     "output_type": "stream",
     "text": [
      "drums           ==> SDR:   0.953  SIR: 159.747  ISR:   3.411  SAR:   1.681  \n",
      "bass            ==> SDR:   0.953  SIR: 159.747  ISR:   3.411  SAR:   1.681  \n",
      "\n"
     ]
    },
    {
     "name": "stderr",
     "output_type": "stream",
     "text": [
      " 96%|██████████████████████████████████████████████████████████████████████████████████████████████████████████████████████████████████████████████████████████████████████████████████▌       | 48/50 [15:35<00:36, 18.35s/it]"
     ]
    },
    {
     "name": "stdout",
     "output_type": "stream",
     "text": [
      "drums           ==> SDR:   2.383  SIR: 220.416  ISR:   5.440  SAR:  -0.621  \n",
      "bass            ==> SDR:   2.383  SIR: 220.416  ISR:   5.440  SAR:  -0.621  \n",
      "\n"
     ]
    },
    {
     "name": "stderr",
     "output_type": "stream",
     "text": [
      " 98%|██████████████████████████████████████████████████████████████████████████████████████████████████████████████████████████████████████████████████████████████████████████████████████▎   | 49/50 [15:54<00:18, 18.45s/it]"
     ]
    },
    {
     "name": "stdout",
     "output_type": "stream",
     "text": [
      "drums           ==> SDR:   6.651  SIR: 211.128  ISR:  10.998  SAR:   6.322  \n",
      "bass            ==> SDR:   6.651  SIR: 211.128  ISR:  10.998  SAR:   6.322  \n",
      "\n"
     ]
    },
    {
     "name": "stderr",
     "output_type": "stream",
     "text": [
      "100%|██████████████████████████████████████████████████████████████████████████████████████████████████████████████████████████████████████████████████████████████████████████████████████████| 50/50 [16:15<00:00, 19.50s/it]"
     ]
    },
    {
     "name": "stdout",
     "output_type": "stream",
     "text": [
      "drums           ==> SDR:   4.566  SIR: 215.002  ISR:   7.263  SAR:   3.591  \n",
      "bass            ==> SDR:   4.566  SIR: 215.002  ISR:   7.263  SAR:   3.591  \n",
      "\n"
     ]
    },
    {
     "name": "stderr",
     "output_type": "stream",
     "text": [
      "\n",
      "C:\\Python311\\Lib\\site-packages\\pytorch_lightning\\utilities\\migration\\utils.py:55: The loaded checkpoint was produced with Lightning v2.2.1, which is newer than your current Lightning version: v2.1.2\n",
      "  2%|███▋                                                                                                                                                                                       | 1/50 [00:19<16:01, 19.63s/it]"
     ]
    },
    {
     "name": "stdout",
     "output_type": "stream",
     "text": [
      "drums           ==> SDR:   1.504  SIR: 201.604  ISR:   2.600  SAR:   0.476  \n",
      "bass            ==> SDR:   1.504  SIR: 201.604  ISR:   2.600  SAR:   0.476  \n",
      "\n"
     ]
    },
    {
     "name": "stderr",
     "output_type": "stream",
     "text": [
      "  4%|███████▍                                                                                                                                                                                   | 2/50 [00:41<16:43, 20.92s/it]"
     ]
    },
    {
     "name": "stdout",
     "output_type": "stream",
     "text": [
      "drums           ==> SDR:   1.044  SIR: 184.450  ISR:   2.340  SAR:  -2.252  \n",
      "bass            ==> SDR:   1.044  SIR: 184.450  ISR:   2.340  SAR:  -2.252  \n",
      "\n"
     ]
    },
    {
     "name": "stderr",
     "output_type": "stream",
     "text": [
      "  6%|███████████▏                                                                                                                                                                               | 3/50 [01:05<17:21, 22.17s/it]"
     ]
    },
    {
     "name": "stdout",
     "output_type": "stream",
     "text": [
      "drums           ==> SDR:   0.462  SIR: 227.417  ISR:   0.986  SAR:  -3.200  \n",
      "bass            ==> SDR:   0.462  SIR: 227.417  ISR:   0.986  SAR:  -3.200  \n",
      "\n"
     ]
    },
    {
     "name": "stderr",
     "output_type": "stream",
     "text": [
      "  8%|██████████████▉                                                                                                                                                                            | 4/50 [01:27<16:57, 22.12s/it]"
     ]
    },
    {
     "name": "stdout",
     "output_type": "stream",
     "text": [
      "drums           ==> SDR:   0.051  SIR: 228.988  ISR:   0.134  SAR:  -5.636  \n",
      "bass            ==> SDR:   0.051  SIR: 228.988  ISR:   0.134  SAR:  -5.636  \n",
      "\n"
     ]
    },
    {
     "name": "stderr",
     "output_type": "stream",
     "text": [
      " 10%|██████████████████▋                                                                                                                                                                        | 5/50 [01:47<15:58, 21.30s/it]"
     ]
    },
    {
     "name": "stdout",
     "output_type": "stream",
     "text": [
      "drums           ==> SDR:   0.824  SIR: 192.088  ISR:   1.176  SAR:  -1.431  \n",
      "bass            ==> SDR:   0.824  SIR: 192.088  ISR:   1.176  SAR:  -1.431  \n",
      "\n"
     ]
    },
    {
     "name": "stderr",
     "output_type": "stream",
     "text": [
      " 12%|██████████████████████▍                                                                                                                                                                    | 6/50 [02:07<15:19, 20.90s/it]"
     ]
    },
    {
     "name": "stdout",
     "output_type": "stream",
     "text": [
      "drums           ==> SDR:   1.461  SIR: 231.639  ISR:   2.113  SAR:  -1.840  \n",
      "bass            ==> SDR:   1.461  SIR: 231.639  ISR:   2.113  SAR:  -1.840  \n",
      "\n"
     ]
    },
    {
     "name": "stderr",
     "output_type": "stream",
     "text": [
      " 14%|██████████████████████████▏                                                                                                                                                                | 7/50 [02:26<14:41, 20.49s/it]"
     ]
    },
    {
     "name": "stdout",
     "output_type": "stream",
     "text": [
      "drums           ==> SDR:   0.555  SIR: 220.769  ISR:   1.311  SAR:  -2.234  \n",
      "bass            ==> SDR:   0.555  SIR: 220.769  ISR:   1.311  SAR:  -2.234  \n",
      "\n"
     ]
    },
    {
     "name": "stderr",
     "output_type": "stream",
     "text": [
      " 16%|█████████████████████████████▉                                                                                                                                                             | 8/50 [02:44<13:46, 19.68s/it]"
     ]
    },
    {
     "name": "stdout",
     "output_type": "stream",
     "text": [
      "drums           ==> SDR:   1.316  SIR: 237.640  ISR:   2.071  SAR:  -0.000  \n",
      "bass            ==> SDR:   1.316  SIR: 237.640  ISR:   2.071  SAR:  -0.000  \n",
      "\n"
     ]
    },
    {
     "name": "stderr",
     "output_type": "stream",
     "text": [
      " 18%|█████████████████████████████████▋                                                                                                                                                         | 9/50 [03:01<12:48, 18.74s/it]"
     ]
    },
    {
     "name": "stdout",
     "output_type": "stream",
     "text": [
      "drums           ==> SDR:   0.077  SIR: 163.658  ISR:   0.244  SAR:  -3.246  \n",
      "bass            ==> SDR:   0.077  SIR: 163.658  ISR:   0.244  SAR:  -3.246  \n",
      "\n"
     ]
    },
    {
     "name": "stderr",
     "output_type": "stream",
     "text": [
      " 20%|█████████████████████████████████████▏                                                                                                                                                    | 10/50 [03:19<12:20, 18.51s/it]"
     ]
    },
    {
     "name": "stdout",
     "output_type": "stream",
     "text": [
      "drums           ==> SDR: -10.082  SIR: 180.861  ISR:   0.989  SAR: -26.090  \n",
      "bass            ==> SDR: -10.082  SIR: 180.861  ISR:   0.989  SAR: -26.090  \n",
      "\n"
     ]
    },
    {
     "name": "stderr",
     "output_type": "stream",
     "text": [
      " 22%|████████████████████████████████████████▉                                                                                                                                                 | 11/50 [03:38<12:10, 18.74s/it]"
     ]
    },
    {
     "name": "stdout",
     "output_type": "stream",
     "text": [
      "drums           ==> SDR:   0.286  SIR: 216.492  ISR:   0.542  SAR:  -2.337  \n",
      "bass            ==> SDR:   0.286  SIR: 216.492  ISR:   0.542  SAR:  -2.337  \n",
      "\n"
     ]
    },
    {
     "name": "stderr",
     "output_type": "stream",
     "text": [
      " 24%|████████████████████████████████████████████▋                                                                                                                                             | 12/50 [03:57<11:48, 18.65s/it]"
     ]
    },
    {
     "name": "stdout",
     "output_type": "stream",
     "text": [
      "drums           ==> SDR:   4.559  SIR: 221.557  ISR:   7.270  SAR:   3.970  \n",
      "bass            ==> SDR:   4.559  SIR: 221.557  ISR:   7.270  SAR:   3.970  \n",
      "\n"
     ]
    },
    {
     "name": "stderr",
     "output_type": "stream",
     "text": [
      " 26%|████████████████████████████████████████████████▎                                                                                                                                         | 13/50 [04:14<11:14, 18.24s/it]"
     ]
    },
    {
     "name": "stdout",
     "output_type": "stream",
     "text": [
      "drums           ==> SDR:   0.002  SIR:  79.155  ISR:   0.040  SAR:  -1.774  \n",
      "bass            ==> SDR:   0.002  SIR:  79.155  ISR:   0.040  SAR:  -1.774  \n",
      "\n"
     ]
    },
    {
     "name": "stderr",
     "output_type": "stream",
     "text": [
      " 28%|████████████████████████████████████████████████████                                                                                                                                      | 14/50 [04:33<11:05, 18.49s/it]"
     ]
    },
    {
     "name": "stdout",
     "output_type": "stream",
     "text": [
      "drums           ==> SDR:   3.835  SIR: 206.453  ISR:   5.175  SAR:   2.902  \n",
      "bass            ==> SDR:   3.835  SIR: 206.453  ISR:   5.175  SAR:   2.902  \n",
      "\n"
     ]
    },
    {
     "name": "stderr",
     "output_type": "stream",
     "text": [
      " 30%|███████████████████████████████████████████████████████▊                                                                                                                                  | 15/50 [04:52<10:53, 18.68s/it]"
     ]
    },
    {
     "name": "stdout",
     "output_type": "stream",
     "text": [
      "drums           ==> SDR:   2.598  SIR: 209.444  ISR:   3.673  SAR:   0.778  \n",
      "bass            ==> SDR:   2.598  SIR: 209.444  ISR:   3.673  SAR:   0.778  \n",
      "\n"
     ]
    },
    {
     "name": "stderr",
     "output_type": "stream",
     "text": [
      " 32%|███████████████████████████████████████████████████████████▌                                                                                                                              | 16/50 [05:09<10:15, 18.09s/it]"
     ]
    },
    {
     "name": "stdout",
     "output_type": "stream",
     "text": [
      "drums           ==> SDR:   1.016  SIR: 214.232  ISR:   1.461  SAR:  -3.301  \n",
      "bass            ==> SDR:   1.016  SIR: 214.232  ISR:   1.461  SAR:  -3.301  \n",
      "\n"
     ]
    },
    {
     "name": "stderr",
     "output_type": "stream",
     "text": [
      " 34%|███████████████████████████████████████████████████████████████▏                                                                                                                          | 17/50 [05:27<09:58, 18.13s/it]"
     ]
    },
    {
     "name": "stdout",
     "output_type": "stream",
     "text": [
      "drums           ==> SDR:   0.049  SIR: 209.452  ISR:   0.092  SAR:  -9.142  \n",
      "bass            ==> SDR:   0.049  SIR: 209.452  ISR:   0.092  SAR:  -9.142  \n",
      "\n"
     ]
    },
    {
     "name": "stderr",
     "output_type": "stream",
     "text": [
      " 36%|██████████████████████████████████████████████████████████████████▉                                                                                                                       | 18/50 [05:44<09:30, 17.84s/it]"
     ]
    },
    {
     "name": "stdout",
     "output_type": "stream",
     "text": [
      "drums           ==> SDR:   2.385  SIR: 198.037  ISR:   3.203  SAR:   1.965  \n",
      "bass            ==> SDR:   2.385  SIR: 198.037  ISR:   3.203  SAR:   1.965  \n",
      "\n"
     ]
    },
    {
     "name": "stderr",
     "output_type": "stream",
     "text": [
      " 38%|██████████████████████████████████████████████████████████████████████▋                                                                                                                   | 19/50 [06:01<09:04, 17.55s/it]"
     ]
    },
    {
     "name": "stdout",
     "output_type": "stream",
     "text": [
      "drums           ==> SDR:   0.189  SIR: 208.634  ISR:   0.413  SAR:  -3.127  \n",
      "bass            ==> SDR:   0.189  SIR: 208.634  ISR:   0.413  SAR:  -3.127  \n",
      "\n"
     ]
    },
    {
     "name": "stderr",
     "output_type": "stream",
     "text": [
      " 40%|██████████████████████████████████████████████████████████████████████████▍                                                                                                               | 20/50 [06:19<08:51, 17.72s/it]"
     ]
    },
    {
     "name": "stdout",
     "output_type": "stream",
     "text": [
      "drums           ==> SDR:   0.962  SIR: 227.137  ISR:   1.157  SAR:   0.175  \n",
      "bass            ==> SDR:   0.962  SIR: 227.137  ISR:   1.157  SAR:   0.175  \n",
      "\n"
     ]
    },
    {
     "name": "stderr",
     "output_type": "stream",
     "text": [
      " 42%|██████████████████████████████████████████████████████████████████████████████                                                                                                            | 21/50 [06:34<08:08, 16.83s/it]"
     ]
    },
    {
     "name": "stdout",
     "output_type": "stream",
     "text": [
      "drums           ==> SDR:   4.789  SIR: 186.183  ISR:   6.108  SAR:   5.281  \n",
      "bass            ==> SDR:   4.789  SIR: 186.183  ISR:   6.108  SAR:   5.281  \n",
      "\n"
     ]
    },
    {
     "name": "stderr",
     "output_type": "stream",
     "text": [
      " 44%|█████████████████████████████████████████████████████████████████████████████████▊                                                                                                        | 22/50 [06:49<07:35, 16.26s/it]"
     ]
    },
    {
     "name": "stdout",
     "output_type": "stream",
     "text": [
      "drums           ==> SDR:  -5.120  SIR: 270.839  ISR:  -1.143  SAR: -14.496  \n",
      "bass            ==> SDR:  -5.120  SIR: 270.839  ISR:  -1.143  SAR: -14.496  \n",
      "\n"
     ]
    },
    {
     "name": "stderr",
     "output_type": "stream",
     "text": [
      " 46%|█████████████████████████████████████████████████████████████████████████████████████▌                                                                                                    | 23/50 [07:07<07:30, 16.70s/it]"
     ]
    },
    {
     "name": "stdout",
     "output_type": "stream",
     "text": [
      "drums           ==> SDR:   1.676  SIR: 168.769  ISR:   2.966  SAR:  -0.630  \n",
      "bass            ==> SDR:   1.676  SIR: 168.769  ISR:   2.966  SAR:  -0.630  \n",
      "\n"
     ]
    },
    {
     "name": "stderr",
     "output_type": "stream",
     "text": [
      " 48%|█████████████████████████████████████████████████████████████████████████████████████████▎                                                                                                | 24/50 [07:22<07:06, 16.41s/it]"
     ]
    },
    {
     "name": "stdout",
     "output_type": "stream",
     "text": [
      "drums           ==> SDR:   0.641  SIR: 121.595  ISR:   0.942  SAR:  -2.862  \n",
      "bass            ==> SDR:   0.641  SIR: 121.595  ISR:   0.942  SAR:  -2.862  \n",
      "\n"
     ]
    },
    {
     "name": "stderr",
     "output_type": "stream",
     "text": [
      " 50%|█████████████████████████████████████████████████████████████████████████████████████████████                                                                                             | 25/50 [07:40<07:00, 16.81s/it]"
     ]
    },
    {
     "name": "stdout",
     "output_type": "stream",
     "text": [
      "drums           ==> SDR:   0.012  SIR: 228.209  ISR:   0.091  SAR:  -3.549  \n",
      "bass            ==> SDR:   0.012  SIR: 228.209  ISR:   0.091  SAR:  -3.549  \n",
      "\n"
     ]
    },
    {
     "name": "stderr",
     "output_type": "stream",
     "text": [
      " 52%|████████████████████████████████████████████████████████████████████████████████████████████████▋                                                                                         | 26/50 [07:57<06:44, 16.83s/it]"
     ]
    },
    {
     "name": "stdout",
     "output_type": "stream",
     "text": [
      "drums           ==> SDR:   3.082  SIR: 177.370  ISR:   3.781  SAR:   3.655  \n",
      "bass            ==> SDR:   3.082  SIR: 177.370  ISR:   3.781  SAR:   3.655  \n",
      "\n"
     ]
    },
    {
     "name": "stderr",
     "output_type": "stream",
     "text": [
      " 54%|████████████████████████████████████████████████████████████████████████████████████████████████████▍                                                                                     | 27/50 [08:14<06:27, 16.87s/it]"
     ]
    },
    {
     "name": "stdout",
     "output_type": "stream",
     "text": [
      "drums           ==> SDR:   5.688  SIR: 179.711  ISR:   8.042  SAR:   5.252  \n",
      "bass            ==> SDR:   5.688  SIR: 179.711  ISR:   8.042  SAR:   5.252  \n",
      "\n"
     ]
    },
    {
     "name": "stderr",
     "output_type": "stream",
     "text": [
      " 56%|████████████████████████████████████████████████████████████████████████████████████████████████████████▏                                                                                 | 28/50 [08:34<06:31, 17.81s/it]"
     ]
    },
    {
     "name": "stdout",
     "output_type": "stream",
     "text": [
      "drums           ==> SDR:   3.307  SIR: 188.084  ISR:   3.651  SAR:   2.734  \n",
      "bass            ==> SDR:   3.307  SIR: 188.084  ISR:   3.651  SAR:   2.734  \n",
      "\n"
     ]
    },
    {
     "name": "stderr",
     "output_type": "stream",
     "text": [
      " 58%|███████████████████████████████████████████████████████████████████████████████████████████████████████████▉                                                                              | 29/50 [08:55<06:34, 18.78s/it]"
     ]
    },
    {
     "name": "stdout",
     "output_type": "stream",
     "text": [
      "drums           ==> SDR:   2.014  SIR: 194.638  ISR:   2.266  SAR:   1.337  \n",
      "bass            ==> SDR:   2.014  SIR: 194.638  ISR:   2.266  SAR:   1.337  \n",
      "\n"
     ]
    },
    {
     "name": "stderr",
     "output_type": "stream",
     "text": [
      " 60%|███████████████████████████████████████████████████████████████████████████████████████████████████████████████▌                                                                          | 30/50 [09:13<06:09, 18.48s/it]"
     ]
    },
    {
     "name": "stdout",
     "output_type": "stream",
     "text": [
      "drums           ==> SDR:   0.358  SIR: 200.202  ISR:   0.447  SAR:  -2.435  \n",
      "bass            ==> SDR:   0.358  SIR: 200.202  ISR:   0.447  SAR:  -2.435  \n",
      "\n"
     ]
    },
    {
     "name": "stderr",
     "output_type": "stream",
     "text": [
      " 62%|███████████████████████████████████████████████████████████████████████████████████████████████████████████████████▎                                                                      | 31/50 [09:30<05:41, 17.99s/it]"
     ]
    },
    {
     "name": "stdout",
     "output_type": "stream",
     "text": [
      "drums           ==> SDR:   1.256  SIR: 193.314  ISR:   3.035  SAR:  -1.559  \n",
      "bass            ==> SDR:   1.256  SIR: 193.314  ISR:   3.035  SAR:  -1.559  \n",
      "\n"
     ]
    },
    {
     "name": "stderr",
     "output_type": "stream",
     "text": [
      " 64%|███████████████████████████████████████████████████████████████████████████████████████████████████████████████████████                                                                   | 32/50 [09:48<05:24, 18.01s/it]"
     ]
    },
    {
     "name": "stdout",
     "output_type": "stream",
     "text": [
      "drums           ==> SDR:   0.000  SIR: 182.379  ISR:   0.009  SAR: -10.077  \n",
      "bass            ==> SDR:   0.000  SIR: 182.379  ISR:   0.009  SAR: -10.077  \n",
      "\n"
     ]
    },
    {
     "name": "stderr",
     "output_type": "stream",
     "text": [
      " 66%|██████████████████████████████████████████████████████████████████████████████████████████████████████████████████████████▊                                                               | 33/50 [10:06<05:10, 18.27s/it]"
     ]
    },
    {
     "name": "stdout",
     "output_type": "stream",
     "text": [
      "drums           ==> SDR:   0.009  SIR: 217.575  ISR:   0.290  SAR:  -0.671  \n",
      "bass            ==> SDR:   0.009  SIR: 217.575  ISR:   0.290  SAR:  -0.671  \n",
      "\n"
     ]
    },
    {
     "name": "stderr",
     "output_type": "stream",
     "text": [
      " 68%|██████████████████████████████████████████████████████████████████████████████████████████████████████████████████████████████▍                                                           | 34/50 [10:24<04:48, 18.05s/it]"
     ]
    },
    {
     "name": "stdout",
     "output_type": "stream",
     "text": [
      "drums           ==> SDR:   0.463  SIR: 248.827  ISR:   0.897  SAR:  -1.712  \n",
      "bass            ==> SDR:   0.463  SIR: 248.827  ISR:   0.897  SAR:  -1.712  \n",
      "\n"
     ]
    },
    {
     "name": "stderr",
     "output_type": "stream",
     "text": [
      " 70%|██████████████████████████████████████████████████████████████████████████████████████████████████████████████████████████████████▏                                                       | 35/50 [10:42<04:29, 17.94s/it]"
     ]
    },
    {
     "name": "stdout",
     "output_type": "stream",
     "text": [
      "drums           ==> SDR:   1.208  SIR: 215.198  ISR:   1.378  SAR:   0.069  \n",
      "bass            ==> SDR:   1.208  SIR: 215.198  ISR:   1.378  SAR:   0.069  \n",
      "\n"
     ]
    },
    {
     "name": "stderr",
     "output_type": "stream",
     "text": [
      " 72%|█████████████████████████████████████████████████████████████████████████████████████████████████████████████████████████████████████▉                                                    | 36/50 [11:02<04:20, 18.62s/it]"
     ]
    },
    {
     "name": "stdout",
     "output_type": "stream",
     "text": [
      "drums           ==> SDR:   0.516  SIR: 198.325  ISR:   2.235  SAR:  -3.535  \n",
      "bass            ==> SDR:   0.516  SIR: 198.325  ISR:   2.235  SAR:  -3.535  \n",
      "\n"
     ]
    },
    {
     "name": "stderr",
     "output_type": "stream",
     "text": [
      " 74%|█████████████████████████████████████████████████████████████████████████████████████████████████████████████████████████████████████████▋                                                | 37/50 [11:19<03:56, 18.19s/it]"
     ]
    },
    {
     "name": "stdout",
     "output_type": "stream",
     "text": [
      "drums           ==> SDR:   1.057  SIR: 202.268  ISR:   2.781  SAR:  -3.665  \n",
      "bass            ==> SDR:   1.057  SIR: 202.268  ISR:   2.781  SAR:  -3.665  \n",
      "\n"
     ]
    },
    {
     "name": "stderr",
     "output_type": "stream",
     "text": [
      " 76%|█████████████████████████████████████████████████████████████████████████████████████████████████████████████████████████████████████████████▎                                            | 38/50 [11:37<03:37, 18.17s/it]"
     ]
    },
    {
     "name": "stdout",
     "output_type": "stream",
     "text": [
      "drums           ==> SDR:   1.109  SIR: 223.550  ISR:   1.352  SAR:  -1.283  \n",
      "bass            ==> SDR:   1.109  SIR: 223.550  ISR:   1.352  SAR:  -1.283  \n",
      "\n"
     ]
    },
    {
     "name": "stderr",
     "output_type": "stream",
     "text": [
      " 78%|█████████████████████████████████████████████████████████████████████████████████████████████████████████████████████████████████████████████████                                         | 39/50 [11:55<03:17, 17.93s/it]"
     ]
    },
    {
     "name": "stdout",
     "output_type": "stream",
     "text": [
      "drums           ==> SDR:   0.211  SIR: 219.003  ISR:   0.662  SAR:  -1.695  \n",
      "bass            ==> SDR:   0.211  SIR: 219.003  ISR:   0.662  SAR:  -1.695  \n",
      "\n"
     ]
    },
    {
     "name": "stderr",
     "output_type": "stream",
     "text": [
      " 80%|████████████████████████████████████████████████████████████████████████████████████████████████████████████████████████████████████████████████████▊                                     | 40/50 [12:12<02:58, 17.86s/it]"
     ]
    },
    {
     "name": "stdout",
     "output_type": "stream",
     "text": [
      "drums           ==> SDR:   0.024  SIR: 173.807  ISR:   0.053  SAR: -15.990  \n",
      "bass            ==> SDR:   0.024  SIR: 173.807  ISR:   0.053  SAR: -15.990  \n",
      "\n"
     ]
    },
    {
     "name": "stderr",
     "output_type": "stream",
     "text": [
      " 82%|████████████████████████████████████████████████████████████████████████████████████████████████████████████████████████████████████████████████████████▌                                 | 41/50 [12:34<02:51, 19.05s/it]"
     ]
    },
    {
     "name": "stdout",
     "output_type": "stream",
     "text": [
      "drums           ==> SDR:   0.051  SIR: 175.718  ISR:   0.271  SAR:  -8.859  \n",
      "bass            ==> SDR:   0.051  SIR: 175.718  ISR:   0.271  SAR:  -8.859  \n",
      "\n"
     ]
    },
    {
     "name": "stderr",
     "output_type": "stream",
     "text": [
      " 84%|████████████████████████████████████████████████████████████████████████████████████████████████████████████████████████████████████████████████████████████▏                             | 42/50 [12:52<02:29, 18.73s/it]"
     ]
    },
    {
     "name": "stdout",
     "output_type": "stream",
     "text": [
      "drums           ==> SDR:   3.887  SIR: 123.498  ISR:   5.301  SAR:   3.735  \n",
      "bass            ==> SDR:   3.887  SIR: 123.498  ISR:   5.301  SAR:   3.735  \n",
      "\n"
     ]
    },
    {
     "name": "stderr",
     "output_type": "stream",
     "text": [
      " 86%|███████████████████████████████████████████████████████████████████████████████████████████████████████████████████████████████████████████████████████████████▉                          | 43/50 [13:09<02:06, 18.09s/it]"
     ]
    },
    {
     "name": "stdout",
     "output_type": "stream",
     "text": [
      "drums           ==> SDR:   0.039  SIR: 155.646  ISR:   0.118  SAR:  -3.947  \n",
      "bass            ==> SDR:   0.039  SIR: 155.646  ISR:   0.118  SAR:  -3.947  \n",
      "\n"
     ]
    },
    {
     "name": "stderr",
     "output_type": "stream",
     "text": [
      " 88%|███████████████████████████████████████████████████████████████████████████████████████████████████████████████████████████████████████████████████████████████████▋                      | 44/50 [13:24<01:42, 17.14s/it]"
     ]
    },
    {
     "name": "stdout",
     "output_type": "stream",
     "text": [
      "drums           ==> SDR:   0.492  SIR: 220.929  ISR:   1.107  SAR:  -0.804  \n",
      "bass            ==> SDR:   0.492  SIR: 220.929  ISR:   1.107  SAR:  -0.804  \n",
      "\n"
     ]
    },
    {
     "name": "stderr",
     "output_type": "stream",
     "text": [
      " 90%|███████████████████████████████████████████████████████████████████████████████████████████████████████████████████████████████████████████████████████████████████████▍                  | 45/50 [13:42<01:27, 17.47s/it]"
     ]
    },
    {
     "name": "stdout",
     "output_type": "stream",
     "text": [
      "drums           ==> SDR:   0.008  SIR: 196.487  ISR:   0.035  SAR:  -7.962  \n",
      "bass            ==> SDR:   0.008  SIR: 196.487  ISR:   0.035  SAR:  -7.962  \n",
      "\n"
     ]
    },
    {
     "name": "stderr",
     "output_type": "stream",
     "text": [
      " 92%|███████████████████████████████████████████████████████████████████████████████████████████████████████████████████████████████████████████████████████████████████████████               | 46/50 [13:59<01:09, 17.46s/it]"
     ]
    },
    {
     "name": "stdout",
     "output_type": "stream",
     "text": [
      "drums           ==> SDR:   0.793  SIR: 203.785  ISR:   1.196  SAR:  -3.051  \n",
      "bass            ==> SDR:   0.793  SIR: 203.785  ISR:   1.196  SAR:  -3.051  \n",
      "\n"
     ]
    },
    {
     "name": "stderr",
     "output_type": "stream",
     "text": [
      " 94%|██████████████████████████████████████████████████████████████████████████████████████████████████████████████████████████████████████████████████████████████████████████████▊           | 47/50 [14:16<00:51, 17.26s/it]"
     ]
    },
    {
     "name": "stdout",
     "output_type": "stream",
     "text": [
      "drums           ==> SDR:   0.500  SIR: 174.258  ISR:   2.361  SAR:   0.247  \n",
      "bass            ==> SDR:   0.500  SIR: 174.258  ISR:   2.361  SAR:   0.247  \n",
      "\n"
     ]
    },
    {
     "name": "stderr",
     "output_type": "stream",
     "text": [
      " 96%|██████████████████████████████████████████████████████████████████████████████████████████████████████████████████████████████████████████████████████████████████████████████████▌       | 48/50 [14:34<00:35, 17.52s/it]"
     ]
    },
    {
     "name": "stdout",
     "output_type": "stream",
     "text": [
      "drums           ==> SDR:   1.857  SIR: 222.722  ISR:   3.211  SAR:  -1.314  \n",
      "bass            ==> SDR:   1.857  SIR: 222.722  ISR:   3.211  SAR:  -1.314  \n",
      "\n"
     ]
    },
    {
     "name": "stderr",
     "output_type": "stream",
     "text": [
      " 98%|██████████████████████████████████████████████████████████████████████████████████████████████████████████████████████████████████████████████████████████████████████████████████████▎   | 49/50 [14:52<00:17, 17.51s/it]"
     ]
    },
    {
     "name": "stdout",
     "output_type": "stream",
     "text": [
      "drums           ==> SDR:   4.780  SIR: 211.169  ISR:   5.554  SAR:   4.650  \n",
      "bass            ==> SDR:   4.780  SIR: 211.169  ISR:   5.554  SAR:   4.650  \n",
      "\n"
     ]
    },
    {
     "name": "stderr",
     "output_type": "stream",
     "text": [
      "100%|██████████████████████████████████████████████████████████████████████████████████████████████████████████████████████████████████████████████████████████████████████████████████████████| 50/50 [15:12<00:00, 18.25s/it]"
     ]
    },
    {
     "name": "stdout",
     "output_type": "stream",
     "text": [
      "drums           ==> SDR:   2.098  SIR: 210.515  ISR:   3.035  SAR:  -0.275  \n",
      "bass            ==> SDR:   2.098  SIR: 210.515  ISR:   3.035  SAR:  -0.275  \n",
      "\n"
     ]
    },
    {
     "name": "stderr",
     "output_type": "stream",
     "text": [
      "\n"
     ]
    }
   ],
   "source": [
    "# for fold in range(3):\n",
    "for accuracy in [1.0, 0.9, 0.8, 0.7, 0.6, 0.5, 0.4, 0.3, 0.2, 0.1, 0]:\n",
    "    for name in ['epoch_200']:\n",
    "        #try:\n",
    "        try:\n",
    "            os.mkdir(f\"D:/Github/phd-drum-sep/analysis/conv_tasnet_model_analysis/results_{name}_{accuracy}_drop/\")\n",
    "        except:\n",
    "            pass\n",
    "    \n",
    "        model = DrumConvTasnet.load_from_checkpoint(f'D:/Github/phd-drum-sep/analysis/conv_tasnet_model_analysis/checkpoint/{name}.ckpt')\n",
    "        # model.to('cpu')\n",
    "        model = model.eval()\n",
    "        \n",
    "        mus = musdb.DB(root=\"D:/Github/phd-drum-sep/Data/musdb18_stems/\", subsets=\"test\") \n",
    "        \n",
    "        results = museval.EvalStore(frames_agg='median', tracks_agg='median')\n",
    "        for track in tqdm(mus):\n",
    "            try:\n",
    "                path = \"D:/Github/phd-drum-sep/Data/musdb18hq/\"\n",
    "                audio_path = path + 'test/' + track.name + \"/\"\n",
    "            \n",
    "            \n",
    "                mixture_tensor = load_audio(audio_path, start_point,'mixture.wav').unsqueeze(0).to(model.device)[:,:,:duration]\n",
    "                drum_tensor = load_audio(audio_path, start_point,'drums.wav').unsqueeze(0).to(model.device)[:,:,:duration]\n",
    "                shape = mixture_tensor.shape[2]\n",
    "                roll_tensor = load_roll(audio_path, start_point, shape, accuracy).unsqueeze(0).to(model.device)[:,:,:duration]\n",
    "            \n",
    "                seperated = separate_sources(model, mixture_tensor, roll_tensor, device='cuda')\n",
    "            \n",
    "                output_path = f\"D:/Github/phd-drum-sep/analysis/conv_tasnet_model_analysis/results_{name}_{accuracy}_drop/\"\n",
    "                \n",
    "                audio = seperated.squeeze(0).cpu().numpy()\n",
    "                audio = np.swapaxes(audio,0,1)\n",
    "                estimates = {'drums': audio, 'bass': audio}\n",
    "            \n",
    "                d = drum_tensor.squeeze(0).cpu().numpy()\n",
    "                d = np.swapaxes(d,0,1)\n",
    "                \n",
    "                track.targets['drums'] = AudioData(d)\n",
    "                track.targets['bass'] = AudioData(d)\n",
    "                \n",
    "                scores = museval.eval_mus_track(\n",
    "                    track, estimates, output_dir=f\"{output_path}\"\n",
    "                )\n",
    "            \n",
    "                print(scores)\n",
    "                results.add_track(scores)\n",
    "                gc.collect()\n",
    "            except Exception as e:\n",
    "                print(e)\n",
    "                pass\n",
    "        \n",
    "        results.df.to_csv(f\"{output_path}results.csv\")\n",
    "    \n",
    "        del model\n",
    "        del mus\n",
    "        \n",
    "        # except Exception as e:\n",
    "        #     print('error with model, skipping', name, e)"
   ]
  },
  {
   "cell_type": "code",
   "execution_count": 16,
   "id": "ff3d97f7-2804-4b99-adcb-5adeb7dc9d7d",
   "metadata": {},
   "outputs": [
    {
     "data": {
      "text/plain": [
       "['__class__',\n",
       " '__delattr__',\n",
       " '__dict__',\n",
       " '__dir__',\n",
       " '__doc__',\n",
       " '__eq__',\n",
       " '__format__',\n",
       " '__ge__',\n",
       " '__getattribute__',\n",
       " '__getstate__',\n",
       " '__gt__',\n",
       " '__hash__',\n",
       " '__init__',\n",
       " '__init_subclass__',\n",
       " '__le__',\n",
       " '__lt__',\n",
       " '__module__',\n",
       " '__ne__',\n",
       " '__new__',\n",
       " '__reduce__',\n",
       " '__reduce_ex__',\n",
       " '__repr__',\n",
       " '__setattr__',\n",
       " '__sizeof__',\n",
       " '__str__',\n",
       " '__subclasshook__',\n",
       " '__weakref__',\n",
       " 'add_eval_dir',\n",
       " 'add_track',\n",
       " 'agg_frames_scores',\n",
       " 'agg_frames_tracks_scores',\n",
       " 'df',\n",
       " 'frames_agg',\n",
       " 'load',\n",
       " 'save',\n",
       " 'tracks_agg']"
      ]
     },
     "execution_count": 16,
     "metadata": {},
     "output_type": "execute_result"
    }
   ],
   "source": [
    "dir(results)"
   ]
  },
  {
   "cell_type": "code",
   "execution_count": 17,
   "id": "6cd0a0c5-a825-44cb-94e7-9fef9dcc91fb",
   "metadata": {},
   "outputs": [
    {
     "data": {
      "text/plain": [
       "(target  metric\n",
       " bass    ISR         1.331668\n",
       "         SAR        -1.703723\n",
       "         SDR         0.808518\n",
       "         SIR       203.026140\n",
       " drums   ISR         1.331668\n",
       "         SAR        -1.703723\n",
       "         SDR         0.808518\n",
       "         SIR       203.026140\n",
       " Name: score, dtype: float64,)"
      ]
     },
     "execution_count": 17,
     "metadata": {},
     "output_type": "execute_result"
    }
   ],
   "source": [
    "results.agg_frames_tracks_scores(), "
   ]
  },
  {
   "cell_type": "code",
   "execution_count": 18,
   "id": "246b6f4f-d272-4105-aef9-26757a4c3b4f",
   "metadata": {},
   "outputs": [],
   "source": [
    "r = results.agg_frames_scores().to_dict()"
   ]
  },
  {
   "cell_type": "code",
   "execution_count": 19,
   "id": "d600d210-0015-462f-8dc5-4c5888589fe3",
   "metadata": {},
   "outputs": [
    {
     "name": "stdout",
     "output_type": "stream",
     "text": [
      "0.8085175\n"
     ]
    }
   ],
   "source": [
    "sdrs = []\n",
    "for key in list(r.keys()):\n",
    "    if 'SDR' in key:\n",
    "        sdrs.append(r[key])\n",
    "\n",
    "print(np.median(sdrs))"
   ]
  },
  {
   "cell_type": "code",
   "execution_count": null,
   "id": "58db3f19-21c2-4daf-bdf1-eb25814ec5d7",
   "metadata": {},
   "outputs": [],
   "source": []
  }
 ],
 "metadata": {
  "kernelspec": {
   "display_name": "Python 3 (ipykernel)",
   "language": "python",
   "name": "python3"
  },
  "language_info": {
   "codemirror_mode": {
    "name": "ipython",
    "version": 3
   },
   "file_extension": ".py",
   "mimetype": "text/x-python",
   "name": "python",
   "nbconvert_exporter": "python",
   "pygments_lexer": "ipython3",
   "version": "3.11.4"
  }
 },
 "nbformat": 4,
 "nbformat_minor": 5
}
