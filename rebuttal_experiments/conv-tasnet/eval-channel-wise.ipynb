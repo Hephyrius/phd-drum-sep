{
 "cells": [
  {
   "cell_type": "markdown",
   "id": "20b2a3bb-3d01-4f42-bc37-dff46522af7f",
   "metadata": {},
   "source": [
    "# Imports"
   ]
  },
  {
   "cell_type": "code",
   "execution_count": 1,
   "id": "71d686e6-8847-4861-88f0-58141c363862",
   "metadata": {},
   "outputs": [
    {
     "name": "stdout",
     "output_type": "stream",
     "text": [
      "True\n"
     ]
    }
   ],
   "source": [
    "import os\n",
    "import pywt\n",
    "import torch\n",
    "import torch.nn as nn\n",
    "import torch.nn.functional as F\n",
    "import torchaudio\n",
    "import pytorch_lightning as pl\n",
    "from torch.utils.data import DataLoader, Dataset\n",
    "from torchaudio.pipelines import HDEMUCS_HIGH_MUSDB\n",
    "import torch.optim as optim\n",
    "from torch.utils.data import Dataset, DataLoader\n",
    "import torchaudio\n",
    "import numpy as np\n",
    "import random\n",
    "from pytorch_lightning.loggers import WandbLogger\n",
    "import wandb\n",
    "import auraloss\n",
    "import collections\n",
    "from tqdm import tqdm\n",
    "import pretty_midi\n",
    "import matplotlib.pyplot as plt\n",
    "from torchaudio.pipelines import HDEMUCS_HIGH_MUSDB\n",
    "print(torch.cuda.is_available())\n",
    "import plotly.graph_objects as go\n",
    "from torch.optim import lr_scheduler\n",
    "from IPython.display import Audio\n",
    "from torchaudio.transforms import Fade\n",
    "import musdb\n",
    "import museval\n",
    "import gc"
   ]
  },
  {
   "cell_type": "code",
   "execution_count": 2,
   "id": "275ddd3f-aa3d-4444-8ddd-c8874bac940c",
   "metadata": {},
   "outputs": [
    {
     "name": "stdout",
     "output_type": "stream",
     "text": [
      "True\n"
     ]
    }
   ],
   "source": [
    "\n",
    "import os\n",
    "import torch\n",
    "import torch.nn as nn\n",
    "import torch.nn.functional as F\n",
    "import torchaudio\n",
    "import pytorch_lightning as pl\n",
    "from torch.utils.data import DataLoader, Dataset\n",
    "from torchaudio.pipelines import HDEMUCS_HIGH_MUSDB\n",
    "import torch.optim as optim\n",
    "from torch.utils.data import Dataset, DataLoader\n",
    "import torchaudio\n",
    "import numpy as np\n",
    "import random\n",
    "from pytorch_lightning.loggers import WandbLogger\n",
    "import subprocess\n",
    "import wandb\n",
    "import auraloss\n",
    "import collections\n",
    "from tqdm import tqdm\n",
    "import librosa\n",
    "from torchaudio.pipelines import HDEMUCS_HIGH_MUSDB\n",
    "print(torch.cuda.is_available())\n",
    "from torch.optim import lr_scheduler\n",
    "import pretty_midi\n",
    "from typing import Optional, Tuple\n",
    "import numpy as np\n",
    "import random"
   ]
  },
  {
   "cell_type": "markdown",
   "id": "e1c82506-04c8-4200-9e63-26857aa176bd",
   "metadata": {},
   "source": [
    "# Set Seeds"
   ]
  },
  {
   "cell_type": "code",
   "execution_count": 3,
   "id": "db3acd3b-d177-44d3-a3f4-35140f45e48a",
   "metadata": {},
   "outputs": [],
   "source": [
    "seed_value = 3407\n",
    "torch.manual_seed(seed_value)\n",
    "random.seed(seed_value)\n",
    "np.random.seed(seed_value)\n",
    "torch.cuda.manual_seed(seed_value)\n",
    "torch.cuda.manual_seed_all(seed_value)\n",
    "torch.set_float32_matmul_precision('high')"
   ]
  },
  {
   "cell_type": "markdown",
   "id": "6182916a-aec1-4c05-8a08-4d2e44dfd979",
   "metadata": {},
   "source": [
    "# Construct Teh Datas"
   ]
  },
  {
   "cell_type": "code",
   "execution_count": 4,
   "id": "dbe5ef07-9ab9-4e3e-9334-048f67ae25e4",
   "metadata": {},
   "outputs": [],
   "source": [
    "path = \"D:/Github/phd-drum-sep/Data/musdb18hq/\""
   ]
  },
  {
   "cell_type": "code",
   "execution_count": 5,
   "id": "e101d3bb-e001-42ff-90cc-42384739d506",
   "metadata": {},
   "outputs": [
    {
     "data": {
      "text/plain": [
       "['test', 'train']"
      ]
     },
     "execution_count": 5,
     "metadata": {},
     "output_type": "execute_result"
    }
   ],
   "source": [
    "os.listdir(path)"
   ]
  },
  {
   "cell_type": "code",
   "execution_count": 6,
   "id": "c52ab99f-41d2-4b7f-a179-90681a8a0a81",
   "metadata": {},
   "outputs": [],
   "source": [
    "train = list(os.listdir(path+'train'))\n",
    "test = list(os.listdir(path+'test'))"
   ]
  },
  {
   "cell_type": "code",
   "execution_count": 7,
   "id": "21aa39ee-b25f-4bdc-950a-9389eb93765a",
   "metadata": {},
   "outputs": [],
   "source": [
    "sources = ['drum', 'bass', 'other', 'vocals']"
   ]
  },
  {
   "cell_type": "code",
   "execution_count": 8,
   "id": "f07f7f9c-2d6b-42b9-b5ac-0f4bd9aeb6a7",
   "metadata": {},
   "outputs": [
    {
     "name": "stderr",
     "output_type": "stream",
     "text": [
      "50it [00:00, 4546.47it/s]\n"
     ]
    }
   ],
   "source": [
    "all_scenes = {}\n",
    "counter = 0\n",
    "sample_rate = 44100\n",
    "segment_length = sample_rate * 1\n",
    "\n",
    "for idx, val in tqdm(enumerate(test)):\n",
    "    p = path + 'test/' + val + \"/\"\n",
    "    info = torchaudio.info(f\"{p}mixture.wav\")\n",
    "    seconds = info.num_frames // 44100\n",
    "    for i in range(0, seconds - 1, 1):\n",
    "        start_point = i * 44100\n",
    "        if start_point + 44100 < info.num_frames:\n",
    "            all_scenes[counter] = {'music_path': p, 'start_point': start_point, 'length': 44100, 'frames' : info.num_frames}\n",
    "            counter += 1"
   ]
  },
  {
   "cell_type": "code",
   "execution_count": 9,
   "id": "d6d4eb9a-f08d-4452-a4ad-b9769a218278",
   "metadata": {},
   "outputs": [],
   "source": [
    "def turn_transcription_into_roll(transcription, frames, threshold=1.0):\n",
    "    \"\"\"\n",
    "    Convert transcription into a piano roll, selectively including notes based on a threshold.\n",
    "    \n",
    "    Args:\n",
    "        transcription (music21.stream.Score): The transcription data.\n",
    "        frames (int): The number of frames in the output roll.\n",
    "        threshold (float): The threshold for including a note (0.0 to 1.0).\n",
    "    \n",
    "    Returns:\n",
    "        np.ndarray: The piano roll representation of the transcription.\n",
    "    \"\"\"\n",
    "    # Determine your sampling frequency (frames per second)\n",
    "    fs = 44100\n",
    "    \n",
    "    piano_roll_length = int(frames)\n",
    "    \n",
    "    # Initialize the piano roll array\n",
    "    piano_roll = np.zeros((64, piano_roll_length))\n",
    "    \n",
    "    # Fill in the piano roll array\n",
    "    for note in transcription.instruments[0].notes:\n",
    "        # Convert start and end times to frame indices\n",
    "        start_frame = int(np.floor(note.start * fs))\n",
    "        end_frame = int(np.ceil(note.end * fs))\n",
    "        \n",
    "        # Set the corresponding frames to 1 (or note.velocity for a velocity-sensitive representation)\n",
    "        piano_roll[note.pitch, start_frame:end_frame] = 1  # Or use note.velocity\n",
    "        \n",
    "    roll = np.vstack([\n",
    "        piano_roll[35:36, :],  # Kick\n",
    "        piano_roll[38:39, :],  # Snare\n",
    "        piano_roll[42:43, :],  # Hi-hat closed\n",
    "        piano_roll[47:48, :],  # Hi-hat open\n",
    "        piano_roll[49:50, :]   # Crash\n",
    "    ])\n",
    "    \n",
    "    return roll\n"
   ]
  },
  {
   "cell_type": "markdown",
   "id": "20988d30-a95e-4dca-ac19-a6f7cea95717",
   "metadata": {},
   "source": [
    "# model"
   ]
  },
  {
   "cell_type": "code",
   "execution_count": 10,
   "id": "b72a57b5-7115-421d-b26e-3ca3d21fef5d",
   "metadata": {},
   "outputs": [],
   "source": [
    "\n",
    "class ConvBlock(torch.nn.Module):\n",
    "    \"\"\"1D Convolutional block.\n",
    "\n",
    "    Args:\n",
    "        io_channels (int): The number of input/output channels, <B, Sc>\n",
    "        hidden_channels (int): The number of channels in the internal layers, <H>.\n",
    "        kernel_size (int): The convolution kernel size of the middle layer, <P>.\n",
    "        padding (int): Padding value of the convolution in the middle layer.\n",
    "        dilation (int, optional): Dilation value of the convolution in the middle layer.\n",
    "        no_redisual (bool, optional): Disable residual block/output.\n",
    "\n",
    "    Note:\n",
    "        This implementation corresponds to the \"non-causal\" setting in the paper.\n",
    "    \"\"\"\n",
    "\n",
    "    def __init__(\n",
    "        self,\n",
    "        io_channels: int,\n",
    "        hidden_channels: int,\n",
    "        kernel_size: int,\n",
    "        padding: int,\n",
    "        dilation: int = 1,\n",
    "        no_residual: bool = False,\n",
    "    ):\n",
    "        super().__init__()\n",
    "\n",
    "        self.conv_layers = torch.nn.Sequential(\n",
    "            torch.nn.Conv1d(in_channels=io_channels, out_channels=hidden_channels, kernel_size=1),\n",
    "            torch.nn.PReLU(),\n",
    "            torch.nn.GroupNorm(num_groups=1, num_channels=hidden_channels, eps=1e-08),\n",
    "            torch.nn.Conv1d(\n",
    "                in_channels=hidden_channels,\n",
    "                out_channels=hidden_channels,\n",
    "                kernel_size=kernel_size,\n",
    "                padding=padding,\n",
    "                dilation=dilation,\n",
    "                groups=hidden_channels,\n",
    "            ),\n",
    "            torch.nn.PReLU(),\n",
    "            torch.nn.GroupNorm(num_groups=1, num_channels=hidden_channels, eps=1e-08),\n",
    "        )\n",
    "\n",
    "        self.res_out = (\n",
    "            None\n",
    "            if no_residual\n",
    "            else torch.nn.Conv1d(in_channels=hidden_channels, out_channels=io_channels, kernel_size=1)\n",
    "        )\n",
    "        self.skip_out = torch.nn.Conv1d(in_channels=hidden_channels, out_channels=io_channels, kernel_size=1)\n",
    "\n",
    "    def forward(self, input: torch.Tensor) -> Tuple[Optional[torch.Tensor], torch.Tensor]:\n",
    "        feature = self.conv_layers(input)\n",
    "        if self.res_out is None:\n",
    "            residual = None\n",
    "        else:\n",
    "            residual = self.res_out(feature)\n",
    "        skip_out = self.skip_out(feature)\n",
    "        return residual, skip_out\n",
    "\n",
    "\n",
    "\n",
    "\n",
    "# In[12]:\n",
    "\n",
    "\n",
    "class MaskGenerator(torch.nn.Module):\n",
    "    \"\"\"TCN (Temporal Convolution Network) Separation Module\n",
    "\n",
    "    Generates masks for separation.\n",
    "\n",
    "    Args:\n",
    "        input_dim (int): Input feature dimension, <N>.\n",
    "        num_sources (int): The number of sources to separate.\n",
    "        kernel_size (int): The convolution kernel size of conv blocks, <P>.\n",
    "        num_featrs (int): Input/output feature dimenstion of conv blocks, <B, Sc>.\n",
    "        num_hidden (int): Intermediate feature dimention of conv blocks, <H>\n",
    "        num_layers (int): The number of conv blocks in one stack, <X>.\n",
    "        num_stacks (int): The number of conv block stacks, <R>.\n",
    "        msk_activate (str): The activation function of the mask output.\n",
    "\n",
    "    Note:\n",
    "        This implementation corresponds to the \"non-causal\" setting in the paper.\n",
    "    \"\"\"\n",
    "\n",
    "    def __init__(\n",
    "        self,\n",
    "        input_dim: int,\n",
    "        num_sources: int,\n",
    "        kernel_size: int,\n",
    "        num_feats: int,\n",
    "        num_hidden: int,\n",
    "        num_layers: int,\n",
    "        num_stacks: int,\n",
    "        msk_activate: str,\n",
    "    ):\n",
    "        super().__init__()\n",
    "\n",
    "        self.input_dim = input_dim\n",
    "        self.num_sources = num_sources\n",
    "\n",
    "        self.input_norm = torch.nn.GroupNorm(num_groups=1, num_channels=input_dim, eps=1e-8)\n",
    "        self.input_conv = torch.nn.Conv1d(in_channels=input_dim, out_channels=num_feats, kernel_size=1)\n",
    "\n",
    "        self.receptive_field = 0\n",
    "        self.conv_layers = torch.nn.ModuleList([])\n",
    "        for s in range(num_stacks):\n",
    "            for l in range(num_layers):\n",
    "                multi = 2**l\n",
    "                self.conv_layers.append(\n",
    "                    ConvBlock(\n",
    "                        io_channels=num_feats,\n",
    "                        hidden_channels=num_hidden,\n",
    "                        kernel_size=kernel_size,\n",
    "                        dilation=multi,\n",
    "                        padding=multi,\n",
    "                        # The last ConvBlock does not need residual\n",
    "                        no_residual=(l == (num_layers - 1) and s == (num_stacks - 1)),\n",
    "                    )\n",
    "                )\n",
    "                self.receptive_field += kernel_size if s == 0 and l == 0 else (kernel_size - 1) * multi\n",
    "        self.output_prelu = torch.nn.PReLU()\n",
    "        self.output_conv = torch.nn.Conv1d(\n",
    "            in_channels=num_feats,\n",
    "            out_channels=input_dim * num_sources,\n",
    "            kernel_size=1,\n",
    "        )\n",
    "        if msk_activate == \"sigmoid\":\n",
    "            self.mask_activate = torch.nn.Sigmoid()\n",
    "        elif msk_activate == \"relu\":\n",
    "            self.mask_activate = torch.nn.ReLU()\n",
    "        elif msk_activate == \"prelu\":\n",
    "            self.mask_activate = torch.nn.PReLU()\n",
    "        else:\n",
    "            raise ValueError(f\"Unsupported activation {msk_activate}\")\n",
    "\n",
    "    def forward(self, input: torch.Tensor) -> torch.Tensor:\n",
    "        \"\"\"Generate separation mask.\n",
    "\n",
    "        Args:\n",
    "            input (torch.Tensor): 3D Tensor with shape [batch, features, frames]\n",
    "\n",
    "        Returns:\n",
    "            Tensor: shape [batch, num_sources, features, frames]\n",
    "        \"\"\"\n",
    "        batch_size = input.shape[0]\n",
    "        feats = self.input_norm(input)\n",
    "        feats = self.input_conv(feats)\n",
    "        output = 0.0\n",
    "        for layer in self.conv_layers:\n",
    "            residual, skip = layer(feats)\n",
    "            if residual is not None:  # the last conv layer does not produce residual\n",
    "                feats = feats + residual\n",
    "            output = output + skip\n",
    "        output = self.output_prelu(output)\n",
    "        output = self.output_conv(output)\n",
    "        output = self.mask_activate(output)\n",
    "        return output.view(batch_size, self.num_sources, self.input_dim, -1)\n",
    "\n",
    "\n",
    "# In[13]:\n",
    "\n",
    "\n",
    "class ConvTasNet(torch.nn.Module):\n",
    "    \"\"\"Conv-TasNet architecture introduced in\n",
    "    *Conv-TasNet: Surpassing Ideal Time–Frequency Magnitude Masking for Speech Separation*\n",
    "    :cite:`Luo_2019`.\n",
    "\n",
    "    Note:\n",
    "        This implementation corresponds to the \"non-causal\" setting in the paper.\n",
    "\n",
    "    See Also:\n",
    "        * :class:`torchaudio.pipelines.SourceSeparationBundle`: Source separation pipeline with pre-trained models.\n",
    "\n",
    "    Args:\n",
    "        num_sources (int, optional): The number of sources to split.\n",
    "        enc_kernel_size (int, optional): The convolution kernel size of the encoder/decoder, <L>.\n",
    "        enc_num_feats (int, optional): The feature dimensions passed to mask generator, <N>.\n",
    "        msk_kernel_size (int, optional): The convolution kernel size of the mask generator, <P>.\n",
    "        msk_num_feats (int, optional): The input/output feature dimension of conv block in the mask generator, <B, Sc>.\n",
    "        msk_num_hidden_feats (int, optional): The internal feature dimension of conv block of the mask generator, <H>.\n",
    "        msk_num_layers (int, optional): The number of layers in one conv block of the mask generator, <X>.\n",
    "        msk_num_stacks (int, optional): The numbr of conv blocks of the mask generator, <R>.\n",
    "        msk_activate (str, optional): The activation function of the mask output (Default: ``sigmoid``).\n",
    "    \"\"\"\n",
    "\n",
    "    def __init__(\n",
    "        self,\n",
    "        num_sources: int = 2,\n",
    "        # encoder/decoder parameters\n",
    "        enc_kernel_size: int = 16,\n",
    "        enc_num_feats: int = 512,\n",
    "        # mask generator parameters\n",
    "        msk_kernel_size: int = 3,\n",
    "        msk_num_feats: int = 128,\n",
    "        msk_num_hidden_feats: int = 512,\n",
    "        msk_num_layers: int = 8,\n",
    "        msk_num_stacks: int = 3,\n",
    "        msk_activate: str = \"sigmoid\",\n",
    "    ):\n",
    "        super().__init__()\n",
    "\n",
    "        self.num_sources = num_sources\n",
    "        self.enc_num_feats = enc_num_feats\n",
    "        self.enc_kernel_size = enc_kernel_size\n",
    "        self.enc_stride = enc_kernel_size // 2\n",
    "\n",
    "        self.encoder = torch.nn.Conv1d(\n",
    "            in_channels=7,\n",
    "            out_channels=enc_num_feats,\n",
    "            kernel_size=enc_kernel_size,\n",
    "            stride=self.enc_stride,\n",
    "            padding=self.enc_stride,\n",
    "            bias=False,\n",
    "        )\n",
    "        self.mask_generator = MaskGenerator(\n",
    "            input_dim=enc_num_feats,\n",
    "            num_sources=num_sources,\n",
    "            kernel_size=msk_kernel_size,\n",
    "            num_feats=msk_num_feats,\n",
    "            num_hidden=msk_num_hidden_feats,\n",
    "            num_layers=msk_num_layers,\n",
    "            num_stacks=msk_num_stacks,\n",
    "            msk_activate=msk_activate,\n",
    "        )\n",
    "        self.decoder = torch.nn.ConvTranspose1d(\n",
    "            in_channels=enc_num_feats,\n",
    "            out_channels=2,\n",
    "            kernel_size=enc_kernel_size,\n",
    "            stride=self.enc_stride,\n",
    "            padding=self.enc_stride,\n",
    "            bias=False,\n",
    "        )\n",
    "\n",
    "    def _align_num_frames_with_strides(self, input: torch.Tensor) -> Tuple[torch.Tensor, int]:\n",
    "        \"\"\"Pad input Tensor so that the end of the input tensor corresponds with\n",
    "\n",
    "        1. (if kernel size is odd) the center of the last convolution kernel\n",
    "        or 2. (if kernel size is even) the end of the first half of the last convolution kernel\n",
    "\n",
    "        Assumption:\n",
    "            The resulting Tensor will be padded with the size of stride (== kernel_width // 2)\n",
    "            on the both ends in Conv1D\n",
    "\n",
    "        |<--- k_1 --->|\n",
    "        |      |            |<-- k_n-1 -->|\n",
    "        |      |                  |  |<--- k_n --->|\n",
    "        |      |                  |         |      |\n",
    "        |      |                  |         |      |\n",
    "        |      v                  v         v      |\n",
    "        |<---->|<--- input signal --->|<--->|<---->|\n",
    "         stride                         PAD  stride\n",
    "\n",
    "        Args:\n",
    "            input (torch.Tensor): 3D Tensor with shape (batch_size, channels==1, frames)\n",
    "\n",
    "        Returns:\n",
    "            Tensor: Padded Tensor\n",
    "            int: Number of paddings performed\n",
    "        \"\"\"\n",
    "        batch_size, num_channels, num_frames = input.shape\n",
    "        is_odd = self.enc_kernel_size % 2\n",
    "        num_strides = (num_frames - is_odd) // self.enc_stride\n",
    "        num_remainings = num_frames - (is_odd + num_strides * self.enc_stride)\n",
    "        if num_remainings == 0:\n",
    "            return input, 0\n",
    "\n",
    "        num_paddings = self.enc_stride - num_remainings\n",
    "        pad = torch.zeros(\n",
    "            batch_size,\n",
    "            num_channels,\n",
    "            num_paddings,\n",
    "            dtype=input.dtype,\n",
    "            device=input.device,\n",
    "        )\n",
    "        return torch.cat([input, pad], 2), num_paddings\n",
    "    \n",
    "    def forward(self, input: torch.Tensor) -> torch.Tensor:\n",
    "        \"\"\"Perform source separation. Generate audio source waveforms.\n",
    "\n",
    "        Args:\n",
    "            input (torch.Tensor): 3D Tensor with shape [batch, channel==1, frames]\n",
    "\n",
    "        Returns:\n",
    "            Tensor: 3D Tensor with shape [batch, channel==num_sources, frames]\n",
    "        \"\"\"\n",
    "\n",
    "        # B: batch size\n",
    "        # L: input frame length\n",
    "        # L': padded input frame length\n",
    "        # F: feature dimension\n",
    "        # M: feature frame length\n",
    "        # S: number of sources\n",
    "\n",
    "        padded, num_pads = self._align_num_frames_with_strides(input)  # B, 1, L'\n",
    "        batch_size, num_padded_frames = padded.shape[0], padded.shape[2]\n",
    "        feats = self.encoder(padded)  # B, F, M\n",
    "        masked = self.mask_generator(feats) * feats.unsqueeze(1)  # B, S, F, M\n",
    "        masked = masked.view(batch_size * self.num_sources, self.enc_num_feats, -1)  # B*S, F, M\n",
    "        decoded = self.decoder(masked)  # B*S, 1, L'\n",
    "        out = decoded.reshape(batch_size, 4, -1)\n",
    "        # print(out.shape)\n",
    "        return out\n",
    "\n",
    "\n",
    "# In[14]:\n",
    "\n",
    "\n",
    "class DrumConvTasnet(pl.LightningModule):\n",
    "    def __init__(self):\n",
    "        super(DrumConvTasnet, self).__init__()\n",
    "\n",
    "        self.loss_fn = auraloss.freq.MultiResolutionSTFTLoss(\n",
    "                    fft_sizes=[1024, 2048, 4096],\n",
    "                    hop_sizes=[256, 512, 1024],\n",
    "                    win_lengths=[1024, 2048, 4096],\n",
    "                    scale=\"mel\", \n",
    "                    n_bins=150,\n",
    "                    sample_rate=44100,\n",
    "                    device=\"cuda\"\n",
    "                )\n",
    "\n",
    "        self.loss_fn_2 = auraloss.time.SISDRLoss()\n",
    "\n",
    "        self.loss_fn_3 = torch.nn.L1Loss()\n",
    "\n",
    "        self.loss_used = 0\n",
    "        \n",
    "        self.conv_tasnet =  ConvTasNet(\n",
    "            num_sources=2,\n",
    "            enc_kernel_size=16,\n",
    "            enc_num_feats=512,\n",
    "            msk_kernel_size=3,\n",
    "            msk_num_feats=128,\n",
    "            msk_num_hidden_feats=512,\n",
    "            msk_num_layers=8,\n",
    "            msk_num_stacks=3,\n",
    "            msk_activate=\"prelu\",\n",
    "        )\n",
    "\n",
    "        self.out = nn.Conv1d(4, 2, kernel_size=1)\n",
    "\n",
    "    def compute_loss(self, outputs, ref_signals):\n",
    "        loss = self.loss_fn(outputs, ref_signals) + self.loss_fn_2(outputs, ref_signals) +  self.loss_fn_3(outputs, ref_signals)\n",
    "        return loss\n",
    "\n",
    "    def forward(self, audio, drumroll):\n",
    "        to_mix = torch.cat([audio, drumroll], axis=1)\n",
    "        out = self.conv_tasnet(to_mix)\n",
    "        out = self.out(out)\n",
    "        return out\n",
    "    \n",
    "    def training_step(self, batch, batch_idx):\n",
    "        # training_step defines the train loop. It is independent of forward\n",
    "        audio, drum, drumroll = batch\n",
    "        \n",
    "        outputs = self.forward(audio, drumroll)\n",
    "        # print(outputs.size())\n",
    "\n",
    "        if batch_idx % 64 == 0:\n",
    "            input_signal = audio[0].cpu().detach().numpy().T\n",
    "            generated_signal = outputs[0].cpu().detach().numpy().T\n",
    "            drum_signal = drum[0].cpu().detach().numpy().T \n",
    "            wandb.log({'audio_input': [wandb.Audio(input_signal, caption=\"Input\", sample_rate=44100)]})\n",
    "            wandb.log({'audio_reference': [wandb.Audio(drum_signal, caption=\"Reference\", sample_rate=44100)]})\n",
    "            wandb.log({'audio_output': [wandb.Audio(generated_signal, caption=\"Output\", sample_rate=44100)]})\n",
    "             \n",
    "            for i in range(5):\n",
    "                wandb.log({f'drum_{i + 1}': [wandb.Audio(drumroll[0].cpu().detach().numpy()[i, :], caption=\"Output\", sample_rate=44100)]})\n",
    "\n",
    "\n",
    "        loss = self.compute_loss(outputs, drum)         \n",
    "\n",
    "        self.log('train_loss', loss, on_step=True, on_epoch=True, prog_bar=True, logger=True)\n",
    "        \n",
    "        return loss\n",
    "    \n",
    "\n",
    "    def configure_optimizers(self):\n",
    "        # Define your optimizer and optionally learning rate scheduler here\n",
    "        optimizer = optim.Adam(self.parameters(), lr=0.001)\n",
    "        scheduler = lr_scheduler.StepLR(optimizer, step_size=1, gamma=0.99)\n",
    "        return [optimizer], [scheduler]\n",
    "        \n",
    " \n"
   ]
  },
  {
   "cell_type": "code",
   "execution_count": 11,
   "id": "79d11190-4e68-41f8-ae19-36d8199c1643",
   "metadata": {},
   "outputs": [],
   "source": [
    "def load_audio(path, start_point, filename):\n",
    "    audio_tensors = []\n",
    "    waveform, _ = torchaudio.load(f\"{path}/{filename}\")\n",
    "    return waveform\n",
    "\n",
    "def load_roll(path, start_point, frames, threshold=1.0):\n",
    "    midi = path + '/mixture.wav.mid'\n",
    "    transcription = pretty_midi.PrettyMIDI(midi)\n",
    "    roll = turn_transcription_into_roll(transcription, frames, threshold)\n",
    "\n",
    "    return torch.from_numpy(roll).float()\n"
   ]
  },
  {
   "cell_type": "markdown",
   "id": "28a00457-307d-4743-9784-9f4cdae73730",
   "metadata": {},
   "source": [
    "# SISNR"
   ]
  },
  {
   "cell_type": "code",
   "execution_count": 12,
   "id": "3873fcee-a3cb-4975-98f5-fc50e77883fa",
   "metadata": {},
   "outputs": [],
   "source": [
    "def separate_sources(\n",
    "    model,\n",
    "    mix,\n",
    "    drumroll,\n",
    "    method=0,\n",
    "    segment=4.0,\n",
    "    overlap=0,\n",
    "    device=None,\n",
    "):\n",
    "    \"\"\"\n",
    "    Apply model to a given mixture. Use fade, and add segments together in order to add model segment by segment.\n",
    "\n",
    "    Args:\n",
    "        segment (int): segment length in seconds\n",
    "        device (torch.device, str, or None): if provided, device on which to\n",
    "            execute the computation, otherwise `mix.device` is assumed.\n",
    "            When `device` is different from `mix.device`, only local computations will\n",
    "            be on `device`, while the entire tracks will be stored on `mix.device`.\n",
    "    \"\"\"\n",
    "    if device is None:\n",
    "        device = mix.device\n",
    "    else:\n",
    "        device = torch.device(device)\n",
    "\n",
    "    batch, channels, length = mix.shape\n",
    "\n",
    "    chunk_len = int(sample_rate * segment * (1 + overlap))\n",
    "    start = 0\n",
    "    end = chunk_len\n",
    "    overlap_frames = overlap * sample_rate\n",
    "    fade = Fade(fade_in_len=0, fade_out_len=int(overlap_frames), fade_shape=\"linear\")\n",
    "\n",
    "    final = torch.zeros(batch, channels, length, device=device)\n",
    "\n",
    "    while start < length - overlap_frames:\n",
    "        chunk = mix[:, :, start:end]\n",
    "        roll = drumroll[:, :, start:end]\n",
    "\n",
    "        if method < 5:\n",
    "            for m in range(5):\n",
    "                if m != method:\n",
    "                    roll[:, m, :] = 0\n",
    "        else:\n",
    "            if method == 5:\n",
    "                chunk[:,:,:] = 0\n",
    "            elif method == 6:\n",
    "                chunk[:,:,:] = 1\n",
    "            \n",
    "        with torch.no_grad():\n",
    "            out = model.forward(chunk, roll)\n",
    "        # print(out.shape)\n",
    "        out = fade(out)\n",
    "        # print(out.shape)\n",
    "        try:\n",
    "            final[:, :, start:end] += out\n",
    "        except:\n",
    "            pass\n",
    "        if start == 0:\n",
    "            fade.fade_in_len = int(overlap_frames)\n",
    "            start += int(chunk_len - overlap_frames)\n",
    "        else:\n",
    "            start += chunk_len\n",
    "        end += chunk_len\n",
    "        if end >= length:\n",
    "            fade.fade_out_len = 0\n",
    "    return final"
   ]
  },
  {
   "cell_type": "code",
   "execution_count": 13,
   "id": "b97a63a5-d58e-47db-9768-e063efd5da5a",
   "metadata": {},
   "outputs": [],
   "source": [
    "class AudioData:\n",
    "    def __init__(self, audio):\n",
    "        self.audio = audio"
   ]
  },
  {
   "cell_type": "code",
   "execution_count": 14,
   "id": "0bc5296c-89cf-4321-98dd-5ed9ca7d325a",
   "metadata": {},
   "outputs": [],
   "source": [
    "duration = 64 * 44100"
   ]
  },
  {
   "cell_type": "code",
   "execution_count": 15,
   "id": "bcf06e62-3267-4faf-838f-70f14be50e92",
   "metadata": {},
   "outputs": [
    {
     "name": "stderr",
     "output_type": "stream",
     "text": [
      "C:\\Python311\\Lib\\site-packages\\pytorch_lightning\\utilities\\migration\\utils.py:55: The loaded checkpoint was produced with Lightning v2.2.1, which is newer than your current Lightning version: v2.1.2\n",
      "  2%|███▋                                                                                                                                                                                       | 1/50 [00:19<15:45, 19.29s/it]"
     ]
    },
    {
     "name": "stdout",
     "output_type": "stream",
     "text": [
      "drums           ==> SDR:   4.759  SIR: 199.126  ISR:   7.674  SAR:   3.756  \n",
      "bass            ==> SDR:   4.759  SIR: 199.126  ISR:   7.674  SAR:   3.756  \n",
      "\n"
     ]
    },
    {
     "name": "stderr",
     "output_type": "stream",
     "text": [
      "  4%|███████▍                                                                                                                                                                                   | 2/50 [00:34<13:28, 16.84s/it]"
     ]
    },
    {
     "name": "stdout",
     "output_type": "stream",
     "text": [
      "drums           ==> SDR:   2.300  SIR: 183.127  ISR:   4.511  SAR:  -0.732  \n",
      "bass            ==> SDR:   2.300  SIR: 183.127  ISR:   4.511  SAR:  -0.732  \n",
      "\n"
     ]
    },
    {
     "name": "stderr",
     "output_type": "stream",
     "text": [
      "  6%|███████████▏                                                                                                                                                                               | 3/50 [00:49<12:31, 16.00s/it]"
     ]
    },
    {
     "name": "stdout",
     "output_type": "stream",
     "text": [
      "drums           ==> SDR:   3.820  SIR: 226.966  ISR:   7.426  SAR:   2.775  \n",
      "bass            ==> SDR:   3.820  SIR: 226.966  ISR:   7.426  SAR:   2.775  \n",
      "\n"
     ]
    },
    {
     "name": "stderr",
     "output_type": "stream",
     "text": [
      "  8%|██████████████▉                                                                                                                                                                            | 4/50 [01:04<11:58, 15.62s/it]"
     ]
    },
    {
     "name": "stdout",
     "output_type": "stream",
     "text": [
      "drums           ==> SDR:   2.430  SIR: 225.972  ISR:   5.851  SAR:   0.328  \n",
      "bass            ==> SDR:   2.430  SIR: 225.972  ISR:   5.851  SAR:   0.328  \n",
      "\n"
     ]
    },
    {
     "name": "stderr",
     "output_type": "stream",
     "text": [
      " 10%|██████████████████▋                                                                                                                                                                        | 5/50 [01:19<11:30, 15.35s/it]"
     ]
    },
    {
     "name": "stdout",
     "output_type": "stream",
     "text": [
      "drums           ==> SDR:   6.678  SIR: 192.184  ISR:   9.315  SAR:   7.650  \n",
      "bass            ==> SDR:   6.678  SIR: 192.184  ISR:   9.315  SAR:   7.650  \n",
      "\n"
     ]
    },
    {
     "name": "stderr",
     "output_type": "stream",
     "text": [
      " 12%|██████████████████████▍                                                                                                                                                                    | 6/50 [01:34<11:12, 15.29s/it]"
     ]
    },
    {
     "name": "stdout",
     "output_type": "stream",
     "text": [
      "drums           ==> SDR:   3.677  SIR: 239.833  ISR:   6.222  SAR:   2.993  \n",
      "bass            ==> SDR:   3.677  SIR: 239.833  ISR:   6.222  SAR:   2.993  \n",
      "\n"
     ]
    },
    {
     "name": "stderr",
     "output_type": "stream",
     "text": [
      " 14%|██████████████████████████▏                                                                                                                                                                | 7/50 [01:49<10:49, 15.11s/it]"
     ]
    },
    {
     "name": "stdout",
     "output_type": "stream",
     "text": [
      "drums           ==> SDR:   3.461  SIR: 218.447  ISR:   6.646  SAR:   1.893  \n",
      "bass            ==> SDR:   3.461  SIR: 218.447  ISR:   6.646  SAR:   1.893  \n",
      "\n"
     ]
    },
    {
     "name": "stderr",
     "output_type": "stream",
     "text": [
      " 16%|█████████████████████████████▉                                                                                                                                                             | 8/50 [02:04<10:39, 15.22s/it]"
     ]
    },
    {
     "name": "stdout",
     "output_type": "stream",
     "text": [
      "drums           ==> SDR:   3.121  SIR: 238.553  ISR:   5.957  SAR:   0.327  \n",
      "bass            ==> SDR:   3.121  SIR: 238.553  ISR:   5.957  SAR:   0.327  \n",
      "\n"
     ]
    },
    {
     "name": "stderr",
     "output_type": "stream",
     "text": [
      " 18%|█████████████████████████████████▋                                                                                                                                                         | 9/50 [02:19<10:18, 15.09s/it]"
     ]
    },
    {
     "name": "stdout",
     "output_type": "stream",
     "text": [
      "drums           ==> SDR:   3.762  SIR: 164.443  ISR:   5.208  SAR:   4.289  \n",
      "bass            ==> SDR:   3.762  SIR: 164.443  ISR:   5.208  SAR:   4.289  \n",
      "\n"
     ]
    },
    {
     "name": "stderr",
     "output_type": "stream",
     "text": [
      " 20%|█████████████████████████████████████▏                                                                                                                                                    | 10/50 [02:34<10:05, 15.15s/it]"
     ]
    },
    {
     "name": "stdout",
     "output_type": "stream",
     "text": [
      "drums           ==> SDR: -10.082  SIR: 183.857  ISR:   4.062  SAR: -16.521  \n",
      "bass            ==> SDR: -10.082  SIR: 183.857  ISR:   4.062  SAR: -16.521  \n",
      "\n"
     ]
    },
    {
     "name": "stderr",
     "output_type": "stream",
     "text": [
      " 22%|████████████████████████████████████████▉                                                                                                                                                 | 11/50 [02:50<09:59, 15.36s/it]"
     ]
    },
    {
     "name": "stdout",
     "output_type": "stream",
     "text": [
      "drums           ==> SDR:   6.838  SIR: 213.435  ISR:  10.173  SAR:   7.903  \n",
      "bass            ==> SDR:   6.838  SIR: 213.435  ISR:  10.173  SAR:   7.903  \n",
      "\n"
     ]
    },
    {
     "name": "stderr",
     "output_type": "stream",
     "text": [
      " 24%|████████████████████████████████████████████▋                                                                                                                                             | 12/50 [03:05<09:38, 15.23s/it]"
     ]
    },
    {
     "name": "stdout",
     "output_type": "stream",
     "text": [
      "drums           ==> SDR:   4.888  SIR: 220.678  ISR:   6.984  SAR:   5.282  \n",
      "bass            ==> SDR:   4.888  SIR: 220.678  ISR:   6.984  SAR:   5.282  \n",
      "\n"
     ]
    },
    {
     "name": "stderr",
     "output_type": "stream",
     "text": [
      " 26%|████████████████████████████████████████████████▎                                                                                                                                         | 13/50 [03:19<09:11, 14.90s/it]"
     ]
    },
    {
     "name": "stdout",
     "output_type": "stream",
     "text": [
      "drums           ==> SDR:   1.943  SIR:  93.670  ISR:   2.663  SAR:   1.601  \n",
      "bass            ==> SDR:   1.943  SIR:  93.670  ISR:   2.663  SAR:   1.601  \n",
      "\n"
     ]
    },
    {
     "name": "stderr",
     "output_type": "stream",
     "text": [
      " 28%|████████████████████████████████████████████████████                                                                                                                                      | 14/50 [03:34<08:58, 14.95s/it]"
     ]
    },
    {
     "name": "stdout",
     "output_type": "stream",
     "text": [
      "drums           ==> SDR:   6.258  SIR: 207.106  ISR:  10.088  SAR:   6.108  \n",
      "bass            ==> SDR:   6.258  SIR: 207.106  ISR:  10.088  SAR:   6.108  \n",
      "\n"
     ]
    },
    {
     "name": "stderr",
     "output_type": "stream",
     "text": [
      " 30%|███████████████████████████████████████████████████████▊                                                                                                                                  | 15/50 [03:49<08:40, 14.87s/it]"
     ]
    },
    {
     "name": "stdout",
     "output_type": "stream",
     "text": [
      "drums           ==> SDR:   3.858  SIR: 203.761  ISR:   6.682  SAR:   2.915  \n",
      "bass            ==> SDR:   3.858  SIR: 203.761  ISR:   6.682  SAR:   2.915  \n",
      "\n"
     ]
    },
    {
     "name": "stderr",
     "output_type": "stream",
     "text": [
      " 32%|███████████████████████████████████████████████████████████▌                                                                                                                              | 16/50 [04:03<08:22, 14.77s/it]"
     ]
    },
    {
     "name": "stdout",
     "output_type": "stream",
     "text": [
      "drums           ==> SDR:   3.404  SIR: 210.743  ISR:   8.815  SAR:   1.908  \n",
      "bass            ==> SDR:   3.404  SIR: 210.743  ISR:   8.815  SAR:   1.908  \n",
      "\n"
     ]
    },
    {
     "name": "stderr",
     "output_type": "stream",
     "text": [
      " 34%|███████████████████████████████████████████████████████████████▏                                                                                                                          | 17/50 [04:18<08:04, 14.69s/it]"
     ]
    },
    {
     "name": "stdout",
     "output_type": "stream",
     "text": [
      "drums           ==> SDR:   0.763  SIR: 229.031  ISR:   2.739  SAR:  -4.404  \n",
      "bass            ==> SDR:   0.763  SIR: 229.031  ISR:   2.739  SAR:  -4.404  \n",
      "\n"
     ]
    },
    {
     "name": "stderr",
     "output_type": "stream",
     "text": [
      " 36%|██████████████████████████████████████████████████████████████████▉                                                                                                                       | 18/50 [04:32<07:47, 14.62s/it]"
     ]
    },
    {
     "name": "stdout",
     "output_type": "stream",
     "text": [
      "drums           ==> SDR:   6.750  SIR: 210.005  ISR:   9.494  SAR:   7.797  \n",
      "bass            ==> SDR:   6.750  SIR: 210.005  ISR:   9.494  SAR:   7.797  \n",
      "\n"
     ]
    },
    {
     "name": "stderr",
     "output_type": "stream",
     "text": [
      " 38%|██████████████████████████████████████████████████████████████████████▋                                                                                                                   | 19/50 [04:47<07:32, 14.61s/it]"
     ]
    },
    {
     "name": "stdout",
     "output_type": "stream",
     "text": [
      "drums           ==> SDR:   8.890  SIR: 218.326  ISR:  13.207  SAR:   9.659  \n",
      "bass            ==> SDR:   8.890  SIR: 218.326  ISR:  13.207  SAR:   9.659  \n",
      "\n"
     ]
    },
    {
     "name": "stderr",
     "output_type": "stream",
     "text": [
      " 40%|██████████████████████████████████████████████████████████████████████████▍                                                                                                               | 20/50 [05:02<07:19, 14.65s/it]"
     ]
    },
    {
     "name": "stdout",
     "output_type": "stream",
     "text": [
      "drums           ==> SDR:   3.077  SIR: 211.914  ISR:   3.614  SAR:   5.372  \n",
      "bass            ==> SDR:   3.077  SIR: 211.914  ISR:   3.614  SAR:   5.372  \n",
      "\n"
     ]
    },
    {
     "name": "stderr",
     "output_type": "stream",
     "text": [
      " 42%|██████████████████████████████████████████████████████████████████████████████                                                                                                            | 21/50 [05:17<07:07, 14.74s/it]"
     ]
    },
    {
     "name": "stdout",
     "output_type": "stream",
     "text": [
      "drums           ==> SDR:   6.440  SIR: 187.934  ISR:   9.199  SAR:   8.206  \n",
      "bass            ==> SDR:   6.440  SIR: 187.934  ISR:   9.199  SAR:   8.206  \n",
      "\n"
     ]
    },
    {
     "name": "stderr",
     "output_type": "stream",
     "text": [
      " 44%|█████████████████████████████████████████████████████████████████████████████████▊                                                                                                        | 22/50 [05:31<06:48, 14.60s/it]"
     ]
    },
    {
     "name": "stdout",
     "output_type": "stream",
     "text": [
      "drums           ==> SDR:  -5.120  SIR: 270.839  ISR:  -1.143  SAR: -14.496  \n",
      "bass            ==> SDR:  -5.120  SIR: 270.839  ISR:  -1.143  SAR: -14.496  \n",
      "\n"
     ]
    },
    {
     "name": "stderr",
     "output_type": "stream",
     "text": [
      " 46%|█████████████████████████████████████████████████████████████████████████████████████▌                                                                                                    | 23/50 [05:45<06:30, 14.48s/it]"
     ]
    },
    {
     "name": "stdout",
     "output_type": "stream",
     "text": [
      "drums           ==> SDR:   3.095  SIR: 167.403  ISR:   6.014  SAR:   1.281  \n",
      "bass            ==> SDR:   3.095  SIR: 167.403  ISR:   6.014  SAR:   1.281  \n",
      "\n"
     ]
    },
    {
     "name": "stderr",
     "output_type": "stream",
     "text": [
      " 48%|█████████████████████████████████████████████████████████████████████████████████████████▎                                                                                                | 24/50 [06:00<06:15, 14.44s/it]"
     ]
    },
    {
     "name": "stdout",
     "output_type": "stream",
     "text": [
      "drums           ==> SDR:   4.159  SIR: 133.567  ISR:   8.088  SAR:   4.562  \n",
      "bass            ==> SDR:   4.159  SIR: 133.567  ISR:   8.088  SAR:   4.562  \n",
      "\n"
     ]
    },
    {
     "name": "stderr",
     "output_type": "stream",
     "text": [
      " 50%|█████████████████████████████████████████████████████████████████████████████████████████████                                                                                             | 25/50 [06:14<06:00, 14.43s/it]"
     ]
    },
    {
     "name": "stdout",
     "output_type": "stream",
     "text": [
      "drums           ==> SDR:   1.415  SIR: 222.394  ISR:   2.112  SAR:   1.497  \n",
      "bass            ==> SDR:   1.415  SIR: 222.394  ISR:   2.112  SAR:   1.497  \n",
      "\n"
     ]
    },
    {
     "name": "stderr",
     "output_type": "stream",
     "text": [
      " 52%|████████████████████████████████████████████████████████████████████████████████████████████████▋                                                                                         | 26/50 [06:28<05:43, 14.33s/it]"
     ]
    },
    {
     "name": "stdout",
     "output_type": "stream",
     "text": [
      "drums           ==> SDR:   8.966  SIR: 178.392  ISR:  13.015  SAR:   9.576  \n",
      "bass            ==> SDR:   8.966  SIR: 178.392  ISR:  13.015  SAR:   9.576  \n",
      "\n"
     ]
    },
    {
     "name": "stderr",
     "output_type": "stream",
     "text": [
      " 54%|████████████████████████████████████████████████████████████████████████████████████████████████████▍                                                                                     | 27/50 [06:42<05:29, 14.34s/it]"
     ]
    },
    {
     "name": "stdout",
     "output_type": "stream",
     "text": [
      "drums           ==> SDR:   6.595  SIR: 178.079  ISR:  11.427  SAR:   6.594  \n",
      "bass            ==> SDR:   6.595  SIR: 178.079  ISR:  11.427  SAR:   6.594  \n",
      "\n"
     ]
    },
    {
     "name": "stderr",
     "output_type": "stream",
     "text": [
      " 56%|████████████████████████████████████████████████████████████████████████████████████████████████████████▏                                                                                 | 28/50 [06:57<05:16, 14.40s/it]"
     ]
    },
    {
     "name": "stdout",
     "output_type": "stream",
     "text": [
      "drums           ==> SDR:   7.514  SIR: 193.428  ISR:   8.697  SAR:   9.639  \n",
      "bass            ==> SDR:   7.514  SIR: 193.428  ISR:   8.697  SAR:   9.639  \n",
      "\n"
     ]
    },
    {
     "name": "stderr",
     "output_type": "stream",
     "text": [
      " 58%|███████████████████████████████████████████████████████████████████████████████████████████████████████████▉                                                                              | 29/50 [07:11<05:02, 14.41s/it]"
     ]
    },
    {
     "name": "stdout",
     "output_type": "stream",
     "text": [
      "drums           ==> SDR:   4.527  SIR: 196.362  ISR:   6.288  SAR:   5.386  \n",
      "bass            ==> SDR:   4.527  SIR: 196.362  ISR:   6.288  SAR:   5.386  \n",
      "\n"
     ]
    },
    {
     "name": "stderr",
     "output_type": "stream",
     "text": [
      " 60%|███████████████████████████████████████████████████████████████████████████████████████████████████████████████▌                                                                          | 30/50 [07:26<04:50, 14.53s/it]"
     ]
    },
    {
     "name": "stdout",
     "output_type": "stream",
     "text": [
      "drums           ==> SDR:   5.284  SIR: 212.357  ISR:   8.244  SAR:   4.699  \n",
      "bass            ==> SDR:   5.284  SIR: 212.357  ISR:   8.244  SAR:   4.699  \n",
      "\n"
     ]
    },
    {
     "name": "stderr",
     "output_type": "stream",
     "text": [
      " 62%|███████████████████████████████████████████████████████████████████████████████████████████████████████████████████▎                                                                      | 31/50 [07:41<04:36, 14.56s/it]"
     ]
    },
    {
     "name": "stdout",
     "output_type": "stream",
     "text": [
      "drums           ==> SDR:   2.719  SIR: 192.389  ISR:   8.159  SAR:   1.201  \n",
      "bass            ==> SDR:   2.719  SIR: 192.389  ISR:   8.159  SAR:   1.201  \n",
      "\n"
     ]
    },
    {
     "name": "stderr",
     "output_type": "stream",
     "text": [
      " 64%|███████████████████████████████████████████████████████████████████████████████████████████████████████████████████████                                                                   | 32/50 [07:55<04:21, 14.52s/it]"
     ]
    },
    {
     "name": "stdout",
     "output_type": "stream",
     "text": [
      "drums           ==> SDR:   0.790  SIR: 182.798  ISR:   1.943  SAR:  -2.962  \n",
      "bass            ==> SDR:   0.790  SIR: 182.798  ISR:   1.943  SAR:  -2.962  \n",
      "\n"
     ]
    },
    {
     "name": "stderr",
     "output_type": "stream",
     "text": [
      " 66%|██████████████████████████████████████████████████████████████████████████████████████████████████████████████████████████▊                                                               | 33/50 [08:10<04:09, 14.68s/it]"
     ]
    },
    {
     "name": "stdout",
     "output_type": "stream",
     "text": [
      "drums           ==> SDR:   1.747  SIR: 221.869  ISR:   2.891  SAR:  -0.118  \n",
      "bass            ==> SDR:   1.747  SIR: 221.869  ISR:   2.891  SAR:  -0.118  \n",
      "\n"
     ]
    },
    {
     "name": "stderr",
     "output_type": "stream",
     "text": [
      " 68%|██████████████████████████████████████████████████████████████████████████████████████████████████████████████████████████████▍                                                           | 34/50 [08:25<03:55, 14.72s/it]"
     ]
    },
    {
     "name": "stdout",
     "output_type": "stream",
     "text": [
      "drums           ==> SDR:   3.017  SIR: 243.491  ISR:   5.679  SAR:   1.175  \n",
      "bass            ==> SDR:   3.017  SIR: 243.491  ISR:   5.679  SAR:   1.175  \n",
      "\n"
     ]
    },
    {
     "name": "stderr",
     "output_type": "stream",
     "text": [
      " 70%|██████████████████████████████████████████████████████████████████████████████████████████████████████████████████████████████████▏                                                       | 35/50 [08:40<03:40, 14.73s/it]"
     ]
    },
    {
     "name": "stdout",
     "output_type": "stream",
     "text": [
      "drums           ==> SDR:   7.228  SIR: 214.778  ISR:   9.951  SAR:   9.136  \n",
      "bass            ==> SDR:   7.228  SIR: 214.778  ISR:   9.951  SAR:   9.136  \n",
      "\n"
     ]
    },
    {
     "name": "stderr",
     "output_type": "stream",
     "text": [
      " 72%|█████████████████████████████████████████████████████████████████████████████████████████████████████████████████████████████████████▉                                                    | 36/50 [08:55<03:28, 14.87s/it]"
     ]
    },
    {
     "name": "stdout",
     "output_type": "stream",
     "text": [
      "drums           ==> SDR:   1.011  SIR: 202.194  ISR:   4.318  SAR:  -2.115  \n",
      "bass            ==> SDR:   1.011  SIR: 202.194  ISR:   4.318  SAR:  -2.115  \n",
      "\n"
     ]
    },
    {
     "name": "stderr",
     "output_type": "stream",
     "text": [
      " 74%|█████████████████████████████████████████████████████████████████████████████████████████████████████████████████████████████████████████▋                                                | 37/50 [09:10<03:12, 14.84s/it]"
     ]
    },
    {
     "name": "stdout",
     "output_type": "stream",
     "text": [
      "drums           ==> SDR:   1.940  SIR: 202.705  ISR:   4.279  SAR:  -0.216  \n",
      "bass            ==> SDR:   1.940  SIR: 202.705  ISR:   4.279  SAR:  -0.216  \n",
      "\n"
     ]
    },
    {
     "name": "stderr",
     "output_type": "stream",
     "text": [
      " 76%|█████████████████████████████████████████████████████████████████████████████████████████████████████████████████████████████████████████████▎                                            | 38/50 [09:25<02:59, 15.00s/it]"
     ]
    },
    {
     "name": "stdout",
     "output_type": "stream",
     "text": [
      "drums           ==> SDR:   5.848  SIR: 220.463  ISR:   6.535  SAR:   4.441  \n",
      "bass            ==> SDR:   5.848  SIR: 220.463  ISR:   6.535  SAR:   4.441  \n",
      "\n"
     ]
    },
    {
     "name": "stderr",
     "output_type": "stream",
     "text": [
      " 78%|█████████████████████████████████████████████████████████████████████████████████████████████████████████████████████████████████████████████████                                         | 39/50 [09:40<02:43, 14.87s/it]"
     ]
    },
    {
     "name": "stdout",
     "output_type": "stream",
     "text": [
      "drums           ==> SDR:   1.933  SIR: 225.693  ISR:   2.412  SAR:   3.506  \n",
      "bass            ==> SDR:   1.933  SIR: 225.693  ISR:   2.412  SAR:   3.506  \n",
      "\n"
     ]
    },
    {
     "name": "stderr",
     "output_type": "stream",
     "text": [
      " 80%|████████████████████████████████████████████████████████████████████████████████████████████████████████████████████████████████████████████████████▊                                     | 40/50 [09:54<02:27, 14.79s/it]"
     ]
    },
    {
     "name": "stdout",
     "output_type": "stream",
     "text": [
      "drums           ==> SDR:   1.968  SIR: 167.644  ISR:   4.532  SAR:   0.421  \n",
      "bass            ==> SDR:   1.968  SIR: 167.644  ISR:   4.532  SAR:   0.421  \n",
      "\n"
     ]
    },
    {
     "name": "stderr",
     "output_type": "stream",
     "text": [
      " 82%|████████████████████████████████████████████████████████████████████████████████████████████████████████████████████████████████████████████████████████▌                                 | 41/50 [10:09<02:13, 14.82s/it]"
     ]
    },
    {
     "name": "stdout",
     "output_type": "stream",
     "text": [
      "drums           ==> SDR:   4.495  SIR: 175.843  ISR:   7.272  SAR:   4.694  \n",
      "bass            ==> SDR:   4.495  SIR: 175.843  ISR:   7.272  SAR:   4.694  \n",
      "\n"
     ]
    },
    {
     "name": "stderr",
     "output_type": "stream",
     "text": [
      " 84%|████████████████████████████████████████████████████████████████████████████████████████████████████████████████████████████████████████████████████████████▏                             | 42/50 [10:24<01:59, 14.93s/it]"
     ]
    },
    {
     "name": "stdout",
     "output_type": "stream",
     "text": [
      "drums           ==> SDR:   5.403  SIR: 121.692  ISR:   7.952  SAR:   4.992  \n",
      "bass            ==> SDR:   5.403  SIR: 121.692  ISR:   7.952  SAR:   4.992  \n",
      "\n"
     ]
    },
    {
     "name": "stderr",
     "output_type": "stream",
     "text": [
      " 86%|███████████████████████████████████████████████████████████████████████████████████████████████████████████████████████████████████████████████████████████████▉                          | 43/50 [10:39<01:43, 14.73s/it]"
     ]
    },
    {
     "name": "stdout",
     "output_type": "stream",
     "text": [
      "drums           ==> SDR:   2.857  SIR: 182.672  ISR:   4.507  SAR:   0.066  \n",
      "bass            ==> SDR:   2.857  SIR: 182.672  ISR:   4.507  SAR:   0.066  \n",
      "\n"
     ]
    },
    {
     "name": "stderr",
     "output_type": "stream",
     "text": [
      " 88%|███████████████████████████████████████████████████████████████████████████████████████████████████████████████████████████████████████████████████████████████████▋                      | 44/50 [10:54<01:28, 14.82s/it]"
     ]
    },
    {
     "name": "stdout",
     "output_type": "stream",
     "text": [
      "drums           ==> SDR:   2.940  SIR: 218.600  ISR:   4.022  SAR:   1.837  \n",
      "bass            ==> SDR:   2.940  SIR: 218.600  ISR:   4.022  SAR:   1.837  \n",
      "\n"
     ]
    },
    {
     "name": "stderr",
     "output_type": "stream",
     "text": [
      " 90%|███████████████████████████████████████████████████████████████████████████████████████████████████████████████████████████████████████████████████████████████████████▍                  | 45/50 [11:09<01:14, 14.89s/it]"
     ]
    },
    {
     "name": "stdout",
     "output_type": "stream",
     "text": [
      "drums           ==> SDR:   0.559  SIR: 216.951  ISR:   1.057  SAR:  -4.043  \n",
      "bass            ==> SDR:   0.559  SIR: 216.951  ISR:   1.057  SAR:  -4.043  \n",
      "\n"
     ]
    },
    {
     "name": "stderr",
     "output_type": "stream",
     "text": [
      " 92%|███████████████████████████████████████████████████████████████████████████████████████████████████████████████████████████████████████████████████████████████████████████               | 46/50 [11:24<00:59, 14.99s/it]"
     ]
    },
    {
     "name": "stdout",
     "output_type": "stream",
     "text": [
      "drums           ==> SDR:   2.139  SIR: 203.315  ISR:   3.796  SAR:  -0.335  \n",
      "bass            ==> SDR:   2.139  SIR: 203.315  ISR:   3.796  SAR:  -0.335  \n",
      "\n"
     ]
    },
    {
     "name": "stderr",
     "output_type": "stream",
     "text": [
      " 94%|██████████████████████████████████████████████████████████████████████████████████████████████████████████████████████████████████████████████████████████████████████████████▊           | 47/50 [11:38<00:44, 14.67s/it]"
     ]
    },
    {
     "name": "stdout",
     "output_type": "stream",
     "text": [
      "drums           ==> SDR:   0.749  SIR: 159.115  ISR:   3.636  SAR:   1.071  \n",
      "bass            ==> SDR:   0.749  SIR: 159.115  ISR:   3.636  SAR:   1.071  \n",
      "\n"
     ]
    },
    {
     "name": "stderr",
     "output_type": "stream",
     "text": [
      " 96%|██████████████████████████████████████████████████████████████████████████████████████████████████████████████████████████████████████████████████████████████████████████████████▌       | 48/50 [11:52<00:29, 14.62s/it]"
     ]
    },
    {
     "name": "stdout",
     "output_type": "stream",
     "text": [
      "drums           ==> SDR:   1.968  SIR: 227.744  ISR:   6.995  SAR:  -0.665  \n",
      "bass            ==> SDR:   1.968  SIR: 227.744  ISR:   6.995  SAR:  -0.665  \n",
      "\n"
     ]
    },
    {
     "name": "stderr",
     "output_type": "stream",
     "text": [
      " 98%|██████████████████████████████████████████████████████████████████████████████████████████████████████████████████████████████████████████████████████████████████████████████████████▎   | 49/50 [12:08<00:14, 14.77s/it]"
     ]
    },
    {
     "name": "stdout",
     "output_type": "stream",
     "text": [
      "drums           ==> SDR:   7.462  SIR: 216.023  ISR:  13.548  SAR:   7.196  \n",
      "bass            ==> SDR:   7.462  SIR: 216.023  ISR:  13.548  SAR:   7.196  \n",
      "\n"
     ]
    },
    {
     "name": "stderr",
     "output_type": "stream",
     "text": [
      "100%|██████████████████████████████████████████████████████████████████████████████████████████████████████████████████████████████████████████████████████████████████████████████████████████| 50/50 [12:22<00:00, 14.85s/it]"
     ]
    },
    {
     "name": "stdout",
     "output_type": "stream",
     "text": [
      "drums           ==> SDR:   5.347  SIR: 207.058  ISR:   8.673  SAR:   5.431  \n",
      "bass            ==> SDR:   5.347  SIR: 207.058  ISR:   8.673  SAR:   5.431  \n",
      "\n"
     ]
    },
    {
     "name": "stderr",
     "output_type": "stream",
     "text": [
      "\n",
      "C:\\Python311\\Lib\\site-packages\\pytorch_lightning\\utilities\\migration\\utils.py:55: The loaded checkpoint was produced with Lightning v2.2.1, which is newer than your current Lightning version: v2.1.2\n",
      "  2%|███▋                                                                                                                                                                                       | 1/50 [00:14<11:57, 14.64s/it]"
     ]
    },
    {
     "name": "stdout",
     "output_type": "stream",
     "text": [
      "drums           ==> SDR:   3.059  SIR: 220.170  ISR:   4.405  SAR:   0.790  \n",
      "bass            ==> SDR:   3.059  SIR: 220.170  ISR:   4.405  SAR:   0.790  \n",
      "\n"
     ]
    },
    {
     "name": "stderr",
     "output_type": "stream",
     "text": [
      "  4%|███████▍                                                                                                                                                                                   | 2/50 [00:29<11:36, 14.51s/it]"
     ]
    },
    {
     "name": "stdout",
     "output_type": "stream",
     "text": [
      "drums           ==> SDR:   2.773  SIR: 189.597  ISR:   5.650  SAR:  -0.145  \n",
      "bass            ==> SDR:   2.773  SIR: 189.597  ISR:   5.650  SAR:  -0.145  \n",
      "\n"
     ]
    },
    {
     "name": "stderr",
     "output_type": "stream",
     "text": [
      "  6%|███████████▏                                                                                                                                                                               | 3/50 [00:44<11:37, 14.84s/it]"
     ]
    },
    {
     "name": "stdout",
     "output_type": "stream",
     "text": [
      "drums           ==> SDR:   2.988  SIR: 228.233  ISR:   4.920  SAR:   0.773  \n",
      "bass            ==> SDR:   2.988  SIR: 228.233  ISR:   4.920  SAR:   0.773  \n",
      "\n"
     ]
    },
    {
     "name": "stderr",
     "output_type": "stream",
     "text": [
      "  8%|██████████████▉                                                                                                                                                                            | 4/50 [00:59<11:24, 14.88s/it]"
     ]
    },
    {
     "name": "stdout",
     "output_type": "stream",
     "text": [
      "drums           ==> SDR:   1.159  SIR: 219.623  ISR:   2.990  SAR:  -2.372  \n",
      "bass            ==> SDR:   1.159  SIR: 219.623  ISR:   2.990  SAR:  -2.372  \n",
      "\n"
     ]
    },
    {
     "name": "stderr",
     "output_type": "stream",
     "text": [
      " 10%|██████████████████▋                                                                                                                                                                        | 5/50 [01:14<11:13, 14.97s/it]"
     ]
    },
    {
     "name": "stdout",
     "output_type": "stream",
     "text": [
      "drums           ==> SDR:   6.452  SIR: 198.629  ISR:   7.793  SAR:   6.219  \n",
      "bass            ==> SDR:   6.452  SIR: 198.629  ISR:   7.793  SAR:   6.219  \n",
      "\n"
     ]
    },
    {
     "name": "stderr",
     "output_type": "stream",
     "text": [
      " 12%|██████████████████████▍                                                                                                                                                                    | 6/50 [01:28<10:49, 14.77s/it]"
     ]
    },
    {
     "name": "stdout",
     "output_type": "stream",
     "text": [
      "drums           ==> SDR:   3.333  SIR: 236.382  ISR:   5.282  SAR:   1.686  \n",
      "bass            ==> SDR:   3.333  SIR: 236.382  ISR:   5.282  SAR:   1.686  \n",
      "\n"
     ]
    },
    {
     "name": "stderr",
     "output_type": "stream",
     "text": [
      " 14%|██████████████████████████▏                                                                                                                                                                | 7/50 [01:43<10:30, 14.66s/it]"
     ]
    },
    {
     "name": "stdout",
     "output_type": "stream",
     "text": [
      "drums           ==> SDR:   3.808  SIR: 221.636  ISR:   7.054  SAR:   2.415  \n",
      "bass            ==> SDR:   3.808  SIR: 221.636  ISR:   7.054  SAR:   2.415  \n",
      "\n"
     ]
    },
    {
     "name": "stderr",
     "output_type": "stream",
     "text": [
      " 16%|█████████████████████████████▉                                                                                                                                                             | 8/50 [01:57<10:12, 14.58s/it]"
     ]
    },
    {
     "name": "stdout",
     "output_type": "stream",
     "text": [
      "drums           ==> SDR:   3.456  SIR: 239.248  ISR:   5.599  SAR:   2.152  \n",
      "bass            ==> SDR:   3.456  SIR: 239.248  ISR:   5.599  SAR:   2.152  \n",
      "\n"
     ]
    },
    {
     "name": "stderr",
     "output_type": "stream",
     "text": [
      " 18%|█████████████████████████████████▋                                                                                                                                                         | 9/50 [02:12<09:58, 14.59s/it]"
     ]
    },
    {
     "name": "stdout",
     "output_type": "stream",
     "text": [
      "drums           ==> SDR:   3.062  SIR: 161.356  ISR:   4.148  SAR:   2.263  \n",
      "bass            ==> SDR:   3.062  SIR: 161.356  ISR:   4.148  SAR:   2.263  \n",
      "\n"
     ]
    },
    {
     "name": "stderr",
     "output_type": "stream",
     "text": [
      " 20%|█████████████████████████████████████▏                                                                                                                                                    | 10/50 [02:26<09:43, 14.58s/it]"
     ]
    },
    {
     "name": "stdout",
     "output_type": "stream",
     "text": [
      "drums           ==> SDR: -10.082  SIR: 175.588  ISR:   3.565  SAR: -16.774  \n",
      "bass            ==> SDR: -10.082  SIR: 175.588  ISR:   3.565  SAR: -16.774  \n",
      "\n"
     ]
    },
    {
     "name": "stderr",
     "output_type": "stream",
     "text": [
      " 22%|████████████████████████████████████████▉                                                                                                                                                 | 11/50 [02:41<09:29, 14.61s/it]"
     ]
    },
    {
     "name": "stdout",
     "output_type": "stream",
     "text": [
      "drums           ==> SDR:   4.382  SIR: 217.907  ISR:   5.688  SAR:   4.483  \n",
      "bass            ==> SDR:   4.382  SIR: 217.907  ISR:   5.688  SAR:   4.483  \n",
      "\n"
     ]
    },
    {
     "name": "stderr",
     "output_type": "stream",
     "text": [
      " 24%|████████████████████████████████████████████▋                                                                                                                                             | 12/50 [02:56<09:15, 14.61s/it]"
     ]
    },
    {
     "name": "stdout",
     "output_type": "stream",
     "text": [
      "drums           ==> SDR:   5.266  SIR: 224.214  ISR:   7.345  SAR:   5.139  \n",
      "bass            ==> SDR:   5.266  SIR: 224.214  ISR:   7.345  SAR:   5.139  \n",
      "\n"
     ]
    },
    {
     "name": "stderr",
     "output_type": "stream",
     "text": [
      " 26%|████████████████████████████████████████████████▎                                                                                                                                         | 13/50 [03:09<08:52, 14.39s/it]"
     ]
    },
    {
     "name": "stdout",
     "output_type": "stream",
     "text": [
      "drums           ==> SDR:   0.264  SIR:  86.981  ISR:   0.610  SAR:  -6.797  \n",
      "bass            ==> SDR:   0.264  SIR:  86.981  ISR:   0.610  SAR:  -6.797  \n",
      "\n"
     ]
    },
    {
     "name": "stderr",
     "output_type": "stream",
     "text": [
      " 28%|████████████████████████████████████████████████████                                                                                                                                      | 14/50 [03:24<08:43, 14.54s/it]"
     ]
    },
    {
     "name": "stdout",
     "output_type": "stream",
     "text": [
      "drums           ==> SDR:   6.718  SIR: 212.668  ISR:  10.782  SAR:   6.593  \n",
      "bass            ==> SDR:   6.718  SIR: 212.668  ISR:  10.782  SAR:   6.593  \n",
      "\n"
     ]
    },
    {
     "name": "stderr",
     "output_type": "stream",
     "text": [
      " 30%|███████████████████████████████████████████████████████▊                                                                                                                                  | 15/50 [03:39<08:32, 14.63s/it]"
     ]
    },
    {
     "name": "stdout",
     "output_type": "stream",
     "text": [
      "drums           ==> SDR:   3.636  SIR: 211.491  ISR:   6.320  SAR:   2.543  \n",
      "bass            ==> SDR:   3.636  SIR: 211.491  ISR:   6.320  SAR:   2.543  \n",
      "\n"
     ]
    },
    {
     "name": "stderr",
     "output_type": "stream",
     "text": [
      " 32%|███████████████████████████████████████████████████████████▌                                                                                                                              | 16/50 [03:54<08:21, 14.76s/it]"
     ]
    },
    {
     "name": "stdout",
     "output_type": "stream",
     "text": [
      "drums           ==> SDR:   2.802  SIR: 215.904  ISR:   5.483  SAR:   0.387  \n",
      "bass            ==> SDR:   2.802  SIR: 215.904  ISR:   5.483  SAR:   0.387  \n",
      "\n"
     ]
    },
    {
     "name": "stderr",
     "output_type": "stream",
     "text": [
      " 34%|███████████████████████████████████████████████████████████████▏                                                                                                                          | 17/50 [04:09<08:05, 14.70s/it]"
     ]
    },
    {
     "name": "stdout",
     "output_type": "stream",
     "text": [
      "drums           ==> SDR:   1.062  SIR: 222.126  ISR:   3.324  SAR:  -3.367  \n",
      "bass            ==> SDR:   1.062  SIR: 222.126  ISR:   3.324  SAR:  -3.367  \n",
      "\n"
     ]
    },
    {
     "name": "stderr",
     "output_type": "stream",
     "text": [
      " 36%|██████████████████████████████████████████████████████████████████▉                                                                                                                       | 18/50 [04:23<07:49, 14.66s/it]"
     ]
    },
    {
     "name": "stdout",
     "output_type": "stream",
     "text": [
      "drums           ==> SDR:   5.860  SIR: 207.513  ISR:   8.652  SAR:   5.816  \n",
      "bass            ==> SDR:   5.860  SIR: 207.513  ISR:   8.652  SAR:   5.816  \n",
      "\n"
     ]
    },
    {
     "name": "stderr",
     "output_type": "stream",
     "text": [
      " 38%|██████████████████████████████████████████████████████████████████████▋                                                                                                                   | 19/50 [04:38<07:32, 14.61s/it]"
     ]
    },
    {
     "name": "stdout",
     "output_type": "stream",
     "text": [
      "drums           ==> SDR:   4.311  SIR: 218.059  ISR:   5.132  SAR:   2.814  \n",
      "bass            ==> SDR:   4.311  SIR: 218.059  ISR:   5.132  SAR:   2.814  \n",
      "\n"
     ]
    },
    {
     "name": "stderr",
     "output_type": "stream",
     "text": [
      " 40%|██████████████████████████████████████████████████████████████████████████▍                                                                                                               | 20/50 [04:53<07:22, 14.73s/it]"
     ]
    },
    {
     "name": "stdout",
     "output_type": "stream",
     "text": [
      "drums           ==> SDR:   3.008  SIR: 210.312  ISR:   3.691  SAR:   4.417  \n",
      "bass            ==> SDR:   3.008  SIR: 210.312  ISR:   3.691  SAR:   4.417  \n",
      "\n"
     ]
    },
    {
     "name": "stderr",
     "output_type": "stream",
     "text": [
      " 42%|██████████████████████████████████████████████████████████████████████████████                                                                                                            | 21/50 [05:07<07:05, 14.66s/it]"
     ]
    },
    {
     "name": "stdout",
     "output_type": "stream",
     "text": [
      "drums           ==> SDR:   6.486  SIR: 183.951  ISR:   9.090  SAR:   7.662  \n",
      "bass            ==> SDR:   6.486  SIR: 183.951  ISR:   9.090  SAR:   7.662  \n",
      "\n"
     ]
    },
    {
     "name": "stderr",
     "output_type": "stream",
     "text": [
      " 44%|█████████████████████████████████████████████████████████████████████████████████▊                                                                                                        | 22/50 [05:22<06:48, 14.60s/it]"
     ]
    },
    {
     "name": "stdout",
     "output_type": "stream",
     "text": [
      "drums           ==> SDR:  -5.120  SIR: 270.839  ISR:  -1.143  SAR: -14.496  \n",
      "bass            ==> SDR:  -5.120  SIR: 270.839  ISR:  -1.143  SAR: -14.496  \n",
      "\n"
     ]
    },
    {
     "name": "stderr",
     "output_type": "stream",
     "text": [
      " 46%|█████████████████████████████████████████████████████████████████████████████████████▌                                                                                                    | 23/50 [05:36<06:29, 14.41s/it]"
     ]
    },
    {
     "name": "stdout",
     "output_type": "stream",
     "text": [
      "drums           ==> SDR:   2.561  SIR: 167.112  ISR:   4.791  SAR:   0.134  \n",
      "bass            ==> SDR:   2.561  SIR: 167.112  ISR:   4.791  SAR:   0.134  \n",
      "\n"
     ]
    },
    {
     "name": "stderr",
     "output_type": "stream",
     "text": [
      " 48%|█████████████████████████████████████████████████████████████████████████████████████████▎                                                                                                | 24/50 [05:50<06:14, 14.41s/it]"
     ]
    },
    {
     "name": "stdout",
     "output_type": "stream",
     "text": [
      "drums           ==> SDR:   3.126  SIR: 133.266  ISR:   4.824  SAR:   1.791  \n",
      "bass            ==> SDR:   3.126  SIR: 133.266  ISR:   4.824  SAR:   1.791  \n",
      "\n"
     ]
    },
    {
     "name": "stderr",
     "output_type": "stream",
     "text": [
      " 50%|█████████████████████████████████████████████████████████████████████████████████████████████                                                                                             | 25/50 [06:05<06:01, 14.44s/it]"
     ]
    },
    {
     "name": "stdout",
     "output_type": "stream",
     "text": [
      "drums           ==> SDR:   1.280  SIR: 220.828  ISR:   2.065  SAR:  -1.699  \n",
      "bass            ==> SDR:   1.280  SIR: 220.828  ISR:   2.065  SAR:  -1.699  \n",
      "\n"
     ]
    },
    {
     "name": "stderr",
     "output_type": "stream",
     "text": [
      " 52%|████████████████████████████████████████████████████████████████████████████████████████████████▋                                                                                         | 26/50 [06:19<05:46, 14.45s/it]"
     ]
    },
    {
     "name": "stdout",
     "output_type": "stream",
     "text": [
      "drums           ==> SDR:   7.219  SIR: 173.394  ISR:   9.982  SAR:   7.668  \n",
      "bass            ==> SDR:   7.219  SIR: 173.394  ISR:   9.982  SAR:   7.668  \n",
      "\n"
     ]
    },
    {
     "name": "stderr",
     "output_type": "stream",
     "text": [
      " 54%|████████████████████████████████████████████████████████████████████████████████████████████████████▍                                                                                     | 27/50 [06:34<05:31, 14.42s/it]"
     ]
    },
    {
     "name": "stdout",
     "output_type": "stream",
     "text": [
      "drums           ==> SDR:   7.031  SIR: 183.345  ISR:  10.860  SAR:   6.763  \n",
      "bass            ==> SDR:   7.031  SIR: 183.345  ISR:  10.860  SAR:   6.763  \n",
      "\n"
     ]
    },
    {
     "name": "stderr",
     "output_type": "stream",
     "text": [
      " 56%|████████████████████████████████████████████████████████████████████████████████████████████████████████▏                                                                                 | 28/50 [06:48<05:18, 14.46s/it]"
     ]
    },
    {
     "name": "stdout",
     "output_type": "stream",
     "text": [
      "drums           ==> SDR:   6.782  SIR: 199.489  ISR:   7.321  SAR:   8.513  \n",
      "bass            ==> SDR:   6.782  SIR: 199.489  ISR:   7.321  SAR:   8.513  \n",
      "\n"
     ]
    },
    {
     "name": "stderr",
     "output_type": "stream",
     "text": [
      " 58%|███████████████████████████████████████████████████████████████████████████████████████████████████████████▉                                                                              | 29/50 [07:03<05:03, 14.47s/it]"
     ]
    },
    {
     "name": "stdout",
     "output_type": "stream",
     "text": [
      "drums           ==> SDR:   3.918  SIR: 188.972  ISR:   4.954  SAR:   5.282  \n",
      "bass            ==> SDR:   3.918  SIR: 188.972  ISR:   4.954  SAR:   5.282  \n",
      "\n"
     ]
    },
    {
     "name": "stderr",
     "output_type": "stream",
     "text": [
      " 60%|███████████████████████████████████████████████████████████████████████████████████████████████████████████████▌                                                                          | 30/50 [07:17<04:50, 14.51s/it]"
     ]
    },
    {
     "name": "stdout",
     "output_type": "stream",
     "text": [
      "drums           ==> SDR:   2.361  SIR: 207.294  ISR:   3.210  SAR:   1.962  \n",
      "bass            ==> SDR:   2.361  SIR: 207.294  ISR:   3.210  SAR:   1.962  \n",
      "\n"
     ]
    },
    {
     "name": "stderr",
     "output_type": "stream",
     "text": [
      " 62%|███████████████████████████████████████████████████████████████████████████████████████████████████████████████████▎                                                                      | 31/50 [07:32<04:36, 14.55s/it]"
     ]
    },
    {
     "name": "stdout",
     "output_type": "stream",
     "text": [
      "drums           ==> SDR:   2.389  SIR: 192.838  ISR:   7.478  SAR:   0.541  \n",
      "bass            ==> SDR:   2.389  SIR: 192.838  ISR:   7.478  SAR:   0.541  \n",
      "\n"
     ]
    },
    {
     "name": "stderr",
     "output_type": "stream",
     "text": [
      " 64%|███████████████████████████████████████████████████████████████████████████████████████████████████████████████████████                                                                   | 32/50 [07:46<04:19, 14.40s/it]"
     ]
    },
    {
     "name": "stdout",
     "output_type": "stream",
     "text": [
      "drums           ==> SDR:   0.196  SIR: 188.830  ISR:   0.516  SAR:  -3.659  \n",
      "bass            ==> SDR:   0.196  SIR: 188.830  ISR:   0.516  SAR:  -3.659  \n",
      "\n"
     ]
    },
    {
     "name": "stderr",
     "output_type": "stream",
     "text": [
      " 66%|██████████████████████████████████████████████████████████████████████████████████████████████████████████████████████████▊                                                               | 33/50 [08:00<04:05, 14.45s/it]"
     ]
    },
    {
     "name": "stdout",
     "output_type": "stream",
     "text": [
      "drums           ==> SDR:   0.764  SIR: 214.685  ISR:   2.501  SAR:  -3.919  \n",
      "bass            ==> SDR:   0.764  SIR: 214.685  ISR:   2.501  SAR:  -3.919  \n",
      "\n"
     ]
    },
    {
     "name": "stderr",
     "output_type": "stream",
     "text": [
      " 68%|██████████████████████████████████████████████████████████████████████████████████████████████████████████████████████████████▍                                                           | 34/50 [08:15<03:52, 14.51s/it]"
     ]
    },
    {
     "name": "stdout",
     "output_type": "stream",
     "text": [
      "drums           ==> SDR:   2.310  SIR: 246.500  ISR:   4.107  SAR:   0.111  \n",
      "bass            ==> SDR:   2.310  SIR: 246.500  ISR:   4.107  SAR:   0.111  \n",
      "\n"
     ]
    },
    {
     "name": "stderr",
     "output_type": "stream",
     "text": [
      " 70%|██████████████████████████████████████████████████████████████████████████████████████████████████████████████████████████████████▏                                                       | 35/50 [08:30<03:37, 14.53s/it]"
     ]
    },
    {
     "name": "stdout",
     "output_type": "stream",
     "text": [
      "drums           ==> SDR:   6.316  SIR: 221.446  ISR:   8.584  SAR:   6.849  \n",
      "bass            ==> SDR:   6.316  SIR: 221.446  ISR:   8.584  SAR:   6.849  \n",
      "\n"
     ]
    },
    {
     "name": "stderr",
     "output_type": "stream",
     "text": [
      " 72%|█████████████████████████████████████████████████████████████████████████████████████████████████████████████████████████████████████▉                                                    | 36/50 [08:44<03:24, 14.57s/it]"
     ]
    },
    {
     "name": "stdout",
     "output_type": "stream",
     "text": [
      "drums           ==> SDR:   1.144  SIR: 196.300  ISR:   4.266  SAR:  -2.062  \n",
      "bass            ==> SDR:   1.144  SIR: 196.300  ISR:   4.266  SAR:  -2.062  \n",
      "\n"
     ]
    },
    {
     "name": "stderr",
     "output_type": "stream",
     "text": [
      " 74%|█████████████████████████████████████████████████████████████████████████████████████████████████████████████████████████████████████████▋                                                | 37/50 [08:59<03:09, 14.61s/it]"
     ]
    },
    {
     "name": "stdout",
     "output_type": "stream",
     "text": [
      "drums           ==> SDR:   1.847  SIR: 206.097  ISR:   5.639  SAR:   0.312  \n",
      "bass            ==> SDR:   1.847  SIR: 206.097  ISR:   5.639  SAR:   0.312  \n",
      "\n"
     ]
    },
    {
     "name": "stderr",
     "output_type": "stream",
     "text": [
      " 76%|█████████████████████████████████████████████████████████████████████████████████████████████████████████████████████████████████████████████▎                                            | 38/50 [09:14<02:55, 14.62s/it]"
     ]
    },
    {
     "name": "stdout",
     "output_type": "stream",
     "text": [
      "drums           ==> SDR:   3.644  SIR: 219.672  ISR:   3.945  SAR:   1.325  \n",
      "bass            ==> SDR:   3.644  SIR: 219.672  ISR:   3.945  SAR:   1.325  \n",
      "\n"
     ]
    },
    {
     "name": "stderr",
     "output_type": "stream",
     "text": [
      " 78%|█████████████████████████████████████████████████████████████████████████████████████████████████████████████████████████████████████████████████                                         | 39/50 [09:28<02:40, 14.60s/it]"
     ]
    },
    {
     "name": "stdout",
     "output_type": "stream",
     "text": [
      "drums           ==> SDR:   2.111  SIR: 227.251  ISR:   3.211  SAR:   0.513  \n",
      "bass            ==> SDR:   2.111  SIR: 227.251  ISR:   3.211  SAR:   0.513  \n",
      "\n"
     ]
    },
    {
     "name": "stderr",
     "output_type": "stream",
     "text": [
      " 80%|████████████████████████████████████████████████████████████████████████████████████████████████████████████████████████████████████████████████████▊                                     | 40/50 [09:43<02:26, 14.62s/it]"
     ]
    },
    {
     "name": "stdout",
     "output_type": "stream",
     "text": [
      "drums           ==> SDR:   0.774  SIR: 165.978  ISR:   0.482  SAR:  -3.643  \n",
      "bass            ==> SDR:   0.774  SIR: 165.978  ISR:   0.482  SAR:  -3.643  \n",
      "\n"
     ]
    },
    {
     "name": "stderr",
     "output_type": "stream",
     "text": [
      " 82%|████████████████████████████████████████████████████████████████████████████████████████████████████████████████████████████████████████████████████████▌                                 | 41/50 [09:58<02:12, 14.70s/it]"
     ]
    },
    {
     "name": "stdout",
     "output_type": "stream",
     "text": [
      "drums           ==> SDR:   0.799  SIR: 174.570  ISR:   2.559  SAR:  -0.773  \n",
      "bass            ==> SDR:   0.799  SIR: 174.570  ISR:   2.559  SAR:  -0.773  \n",
      "\n"
     ]
    },
    {
     "name": "stderr",
     "output_type": "stream",
     "text": [
      " 84%|████████████████████████████████████████████████████████████████████████████████████████████████████████████████████████████████████████████████████████████▏                             | 42/50 [10:13<01:59, 14.88s/it]"
     ]
    },
    {
     "name": "stdout",
     "output_type": "stream",
     "text": [
      "drums           ==> SDR:   4.901  SIR: 119.812  ISR:   7.206  SAR:   4.319  \n",
      "bass            ==> SDR:   4.901  SIR: 119.812  ISR:   7.206  SAR:   4.319  \n",
      "\n"
     ]
    },
    {
     "name": "stderr",
     "output_type": "stream",
     "text": [
      " 86%|███████████████████████████████████████████████████████████████████████████████████████████████████████████████████████████████████████████████████████████████▉                          | 43/50 [10:27<01:42, 14.70s/it]"
     ]
    },
    {
     "name": "stdout",
     "output_type": "stream",
     "text": [
      "drums           ==> SDR:   2.325  SIR: 175.218  ISR:   3.468  SAR:  -0.896  \n",
      "bass            ==> SDR:   2.325  SIR: 175.218  ISR:   3.468  SAR:  -0.896  \n",
      "\n"
     ]
    },
    {
     "name": "stderr",
     "output_type": "stream",
     "text": [
      " 88%|███████████████████████████████████████████████████████████████████████████████████████████████████████████████████████████████████████████████████████████████████▋                      | 44/50 [10:41<01:27, 14.51s/it]"
     ]
    },
    {
     "name": "stdout",
     "output_type": "stream",
     "text": [
      "drums           ==> SDR:   2.606  SIR: 216.737  ISR:   3.284  SAR:   0.095  \n",
      "bass            ==> SDR:   2.606  SIR: 216.737  ISR:   3.284  SAR:   0.095  \n",
      "\n"
     ]
    },
    {
     "name": "stderr",
     "output_type": "stream",
     "text": [
      " 90%|███████████████████████████████████████████████████████████████████████████████████████████████████████████████████████████████████████████████████████████████████████▍                  | 45/50 [10:56<01:12, 14.56s/it]"
     ]
    },
    {
     "name": "stdout",
     "output_type": "stream",
     "text": [
      "drums           ==> SDR:   0.014  SIR: 200.251  ISR:   0.083  SAR:  -4.319  \n",
      "bass            ==> SDR:   0.014  SIR: 200.251  ISR:   0.083  SAR:  -4.319  \n",
      "\n"
     ]
    },
    {
     "name": "stderr",
     "output_type": "stream",
     "text": [
      " 92%|███████████████████████████████████████████████████████████████████████████████████████████████████████████████████████████████████████████████████████████████████████████               | 46/50 [11:11<00:58, 14.57s/it]"
     ]
    },
    {
     "name": "stdout",
     "output_type": "stream",
     "text": [
      "drums           ==> SDR:   1.908  SIR: 200.188  ISR:   3.291  SAR:  -1.175  \n",
      "bass            ==> SDR:   1.908  SIR: 200.188  ISR:   3.291  SAR:  -1.175  \n",
      "\n"
     ]
    },
    {
     "name": "stderr",
     "output_type": "stream",
     "text": [
      " 94%|██████████████████████████████████████████████████████████████████████████████████████████████████████████████████████████████████████████████████████████████████████████████▊           | 47/50 [11:25<00:43, 14.42s/it]"
     ]
    },
    {
     "name": "stdout",
     "output_type": "stream",
     "text": [
      "drums           ==> SDR:   0.693  SIR: 160.995  ISR:   3.243  SAR:   0.984  \n",
      "bass            ==> SDR:   0.693  SIR: 160.995  ISR:   3.243  SAR:   0.984  \n",
      "\n"
     ]
    },
    {
     "name": "stderr",
     "output_type": "stream",
     "text": [
      " 96%|██████████████████████████████████████████████████████████████████████████████████████████████████████████████████████████████████████████████████████████████████████████████████▌       | 48/50 [11:39<00:28, 14.46s/it]"
     ]
    },
    {
     "name": "stdout",
     "output_type": "stream",
     "text": [
      "drums           ==> SDR:   2.753  SIR: 224.013  ISR:   5.948  SAR:   0.404  \n",
      "bass            ==> SDR:   2.753  SIR: 224.013  ISR:   5.948  SAR:   0.404  \n",
      "\n"
     ]
    },
    {
     "name": "stderr",
     "output_type": "stream",
     "text": [
      " 98%|██████████████████████████████████████████████████████████████████████████████████████████████████████████████████████████████████████████████████████████████████████████████████████▎   | 49/50 [11:54<00:14, 14.53s/it]"
     ]
    },
    {
     "name": "stdout",
     "output_type": "stream",
     "text": [
      "drums           ==> SDR:   7.345  SIR: 206.832  ISR:  11.935  SAR:   7.377  \n",
      "bass            ==> SDR:   7.345  SIR: 206.832  ISR:  11.935  SAR:   7.377  \n",
      "\n"
     ]
    },
    {
     "name": "stderr",
     "output_type": "stream",
     "text": [
      "100%|██████████████████████████████████████████████████████████████████████████████████████████████████████████████████████████████████████████████████████████████████████████████████████████| 50/50 [12:09<00:00, 14.58s/it]"
     ]
    },
    {
     "name": "stdout",
     "output_type": "stream",
     "text": [
      "drums           ==> SDR:   4.993  SIR: 205.965  ISR:   8.038  SAR:   4.587  \n",
      "bass            ==> SDR:   4.993  SIR: 205.965  ISR:   8.038  SAR:   4.587  \n",
      "\n"
     ]
    },
    {
     "name": "stderr",
     "output_type": "stream",
     "text": [
      "\n",
      "C:\\Python311\\Lib\\site-packages\\pytorch_lightning\\utilities\\migration\\utils.py:55: The loaded checkpoint was produced with Lightning v2.2.1, which is newer than your current Lightning version: v2.1.2\n",
      "  2%|███▋                                                                                                                                                                                       | 1/50 [00:15<12:30, 15.32s/it]"
     ]
    },
    {
     "name": "stdout",
     "output_type": "stream",
     "text": [
      "drums           ==> SDR:   3.144  SIR: 203.859  ISR:   5.078  SAR:   1.790  \n",
      "bass            ==> SDR:   3.144  SIR: 203.859  ISR:   5.078  SAR:   1.790  \n",
      "\n"
     ]
    },
    {
     "name": "stderr",
     "output_type": "stream",
     "text": [
      "  4%|███████▍                                                                                                                                                                                   | 2/50 [00:29<11:51, 14.82s/it]"
     ]
    },
    {
     "name": "stdout",
     "output_type": "stream",
     "text": [
      "drums           ==> SDR:   1.653  SIR: 174.565  ISR:   2.886  SAR:  -2.508  \n",
      "bass            ==> SDR:   1.653  SIR: 174.565  ISR:   2.886  SAR:  -2.508  \n",
      "\n"
     ]
    },
    {
     "name": "stderr",
     "output_type": "stream",
     "text": [
      "  6%|███████████▏                                                                                                                                                                               | 3/50 [00:44<11:29, 14.68s/it]"
     ]
    },
    {
     "name": "stdout",
     "output_type": "stream",
     "text": [
      "drums           ==> SDR:   2.173  SIR: 227.568  ISR:   3.374  SAR:   0.125  \n",
      "bass            ==> SDR:   2.173  SIR: 227.568  ISR:   3.374  SAR:   0.125  \n",
      "\n"
     ]
    },
    {
     "name": "stderr",
     "output_type": "stream",
     "text": [
      "  8%|██████████████▉                                                                                                                                                                            | 4/50 [00:58<11:09, 14.56s/it]"
     ]
    },
    {
     "name": "stdout",
     "output_type": "stream",
     "text": [
      "drums           ==> SDR:   1.480  SIR: 218.779  ISR:   2.863  SAR:  -1.620  \n",
      "bass            ==> SDR:   1.480  SIR: 218.779  ISR:   2.863  SAR:  -1.620  \n",
      "\n"
     ]
    },
    {
     "name": "stderr",
     "output_type": "stream",
     "text": [
      " 10%|██████████████████▋                                                                                                                                                                        | 5/50 [01:14<11:09, 14.88s/it]"
     ]
    },
    {
     "name": "stdout",
     "output_type": "stream",
     "text": [
      "drums           ==> SDR:   4.725  SIR: 199.596  ISR:   4.701  SAR:   3.884  \n",
      "bass            ==> SDR:   4.725  SIR: 199.596  ISR:   4.701  SAR:   3.884  \n",
      "\n"
     ]
    },
    {
     "name": "stderr",
     "output_type": "stream",
     "text": [
      " 12%|██████████████████████▍                                                                                                                                                                    | 6/50 [01:28<10:47, 14.73s/it]"
     ]
    },
    {
     "name": "stdout",
     "output_type": "stream",
     "text": [
      "drums           ==> SDR:   3.166  SIR: 227.772  ISR:   4.424  SAR:   0.961  \n",
      "bass            ==> SDR:   3.166  SIR: 227.772  ISR:   4.424  SAR:   0.961  \n",
      "\n"
     ]
    },
    {
     "name": "stderr",
     "output_type": "stream",
     "text": [
      " 14%|██████████████████████████▏                                                                                                                                                                | 7/50 [01:42<10:27, 14.60s/it]"
     ]
    },
    {
     "name": "stdout",
     "output_type": "stream",
     "text": [
      "drums           ==> SDR:   2.109  SIR: 224.264  ISR:   3.387  SAR:  -0.349  \n",
      "bass            ==> SDR:   2.109  SIR: 224.264  ISR:   3.387  SAR:  -0.349  \n",
      "\n"
     ]
    },
    {
     "name": "stderr",
     "output_type": "stream",
     "text": [
      " 16%|█████████████████████████████▉                                                                                                                                                             | 8/50 [01:57<10:17, 14.70s/it]"
     ]
    },
    {
     "name": "stdout",
     "output_type": "stream",
     "text": [
      "drums           ==> SDR:   1.879  SIR: 241.889  ISR:   2.870  SAR:   0.165  \n",
      "bass            ==> SDR:   1.879  SIR: 241.889  ISR:   2.870  SAR:   0.165  \n",
      "\n"
     ]
    },
    {
     "name": "stderr",
     "output_type": "stream",
     "text": [
      " 18%|█████████████████████████████████▋                                                                                                                                                         | 9/50 [02:12<10:01, 14.68s/it]"
     ]
    },
    {
     "name": "stdout",
     "output_type": "stream",
     "text": [
      "drums           ==> SDR:   0.077  SIR: 163.658  ISR:   0.244  SAR:  -3.246  \n",
      "bass            ==> SDR:   0.077  SIR: 163.658  ISR:   0.244  SAR:  -3.246  \n",
      "\n"
     ]
    },
    {
     "name": "stderr",
     "output_type": "stream",
     "text": [
      " 20%|█████████████████████████████████████▏                                                                                                                                                    | 10/50 [02:26<09:44, 14.61s/it]"
     ]
    },
    {
     "name": "stdout",
     "output_type": "stream",
     "text": [
      "drums           ==> SDR: -10.082  SIR: 183.669  ISR:   1.102  SAR: -17.260  \n",
      "bass            ==> SDR: -10.082  SIR: 183.669  ISR:   1.102  SAR: -17.260  \n",
      "\n"
     ]
    },
    {
     "name": "stderr",
     "output_type": "stream",
     "text": [
      " 22%|████████████████████████████████████████▉                                                                                                                                                 | 11/50 [02:41<09:30, 14.64s/it]"
     ]
    },
    {
     "name": "stdout",
     "output_type": "stream",
     "text": [
      "drums           ==> SDR:   3.866  SIR: 210.778  ISR:   4.529  SAR:   3.931  \n",
      "bass            ==> SDR:   3.866  SIR: 210.778  ISR:   4.529  SAR:   3.931  \n",
      "\n"
     ]
    },
    {
     "name": "stderr",
     "output_type": "stream",
     "text": [
      " 24%|████████████████████████████████████████████▋                                                                                                                                             | 12/50 [02:56<09:14, 14.60s/it]"
     ]
    },
    {
     "name": "stdout",
     "output_type": "stream",
     "text": [
      "drums           ==> SDR:   4.085  SIR: 218.865  ISR:   5.605  SAR:   3.784  \n",
      "bass            ==> SDR:   4.085  SIR: 218.865  ISR:   5.605  SAR:   3.784  \n",
      "\n"
     ]
    },
    {
     "name": "stderr",
     "output_type": "stream",
     "text": [
      " 26%|████████████████████████████████████████████████▎                                                                                                                                         | 13/50 [03:09<08:49, 14.31s/it]"
     ]
    },
    {
     "name": "stdout",
     "output_type": "stream",
     "text": [
      "drums           ==> SDR:   0.003  SIR:  78.851  ISR:   0.091  SAR:  -9.645  \n",
      "bass            ==> SDR:   0.003  SIR:  78.851  ISR:   0.091  SAR:  -9.645  \n",
      "\n"
     ]
    },
    {
     "name": "stderr",
     "output_type": "stream",
     "text": [
      " 28%|████████████████████████████████████████████████████                                                                                                                                      | 14/50 [03:24<08:37, 14.38s/it]"
     ]
    },
    {
     "name": "stdout",
     "output_type": "stream",
     "text": [
      "drums           ==> SDR:   3.846  SIR: 204.964  ISR:   5.893  SAR:   3.324  \n",
      "bass            ==> SDR:   3.846  SIR: 204.964  ISR:   5.893  SAR:   3.324  \n",
      "\n"
     ]
    },
    {
     "name": "stderr",
     "output_type": "stream",
     "text": [
      " 30%|███████████████████████████████████████████████████████▊                                                                                                                                  | 15/50 [03:38<08:26, 14.48s/it]"
     ]
    },
    {
     "name": "stdout",
     "output_type": "stream",
     "text": [
      "drums           ==> SDR:   3.643  SIR: 203.402  ISR:   5.430  SAR:   2.842  \n",
      "bass            ==> SDR:   3.643  SIR: 203.402  ISR:   5.430  SAR:   2.842  \n",
      "\n"
     ]
    },
    {
     "name": "stderr",
     "output_type": "stream",
     "text": [
      " 32%|███████████████████████████████████████████████████████████▌                                                                                                                              | 16/50 [03:54<08:18, 14.66s/it]"
     ]
    },
    {
     "name": "stdout",
     "output_type": "stream",
     "text": [
      "drums           ==> SDR:   2.408  SIR: 212.911  ISR:   4.054  SAR:  -0.302  \n",
      "bass            ==> SDR:   2.408  SIR: 212.911  ISR:   4.054  SAR:  -0.302  \n",
      "\n"
     ]
    },
    {
     "name": "stderr",
     "output_type": "stream",
     "text": [
      " 34%|███████████████████████████████████████████████████████████████▏                                                                                                                          | 17/50 [04:08<08:01, 14.60s/it]"
     ]
    },
    {
     "name": "stdout",
     "output_type": "stream",
     "text": [
      "drums           ==> SDR:   0.082  SIR: 213.403  ISR:   0.176  SAR:  -6.603  \n",
      "bass            ==> SDR:   0.082  SIR: 213.403  ISR:   0.176  SAR:  -6.603  \n",
      "\n"
     ]
    },
    {
     "name": "stderr",
     "output_type": "stream",
     "text": [
      " 36%|██████████████████████████████████████████████████████████████████▉                                                                                                                       | 18/50 [04:23<07:51, 14.72s/it]"
     ]
    },
    {
     "name": "stdout",
     "output_type": "stream",
     "text": [
      "drums           ==> SDR:   2.403  SIR: 193.331  ISR:   3.379  SAR:   2.271  \n",
      "bass            ==> SDR:   2.403  SIR: 193.331  ISR:   3.379  SAR:   2.271  \n",
      "\n"
     ]
    },
    {
     "name": "stderr",
     "output_type": "stream",
     "text": [
      " 38%|██████████████████████████████████████████████████████████████████████▋                                                                                                                   | 19/50 [04:38<07:34, 14.65s/it]"
     ]
    },
    {
     "name": "stdout",
     "output_type": "stream",
     "text": [
      "drums           ==> SDR:   5.909  SIR: 220.301  ISR:   6.652  SAR:   8.231  \n",
      "bass            ==> SDR:   5.909  SIR: 220.301  ISR:   6.652  SAR:   8.231  \n",
      "\n"
     ]
    },
    {
     "name": "stderr",
     "output_type": "stream",
     "text": [
      " 40%|██████████████████████████████████████████████████████████████████████████▍                                                                                                               | 20/50 [04:52<07:18, 14.62s/it]"
     ]
    },
    {
     "name": "stdout",
     "output_type": "stream",
     "text": [
      "drums           ==> SDR:   3.292  SIR: 211.624  ISR:   3.798  SAR:   6.367  \n",
      "bass            ==> SDR:   3.292  SIR: 211.624  ISR:   3.798  SAR:   6.367  \n",
      "\n"
     ]
    },
    {
     "name": "stderr",
     "output_type": "stream",
     "text": [
      " 42%|██████████████████████████████████████████████████████████████████████████████                                                                                                            | 21/50 [05:06<07:01, 14.54s/it]"
     ]
    },
    {
     "name": "stdout",
     "output_type": "stream",
     "text": [
      "drums           ==> SDR:   5.379  SIR: 178.299  ISR:   6.485  SAR:   7.521  \n",
      "bass            ==> SDR:   5.379  SIR: 178.299  ISR:   6.485  SAR:   7.521  \n",
      "\n"
     ]
    },
    {
     "name": "stderr",
     "output_type": "stream",
     "text": [
      " 44%|█████████████████████████████████████████████████████████████████████████████████▊                                                                                                        | 22/50 [05:21<06:45, 14.50s/it]"
     ]
    },
    {
     "name": "stdout",
     "output_type": "stream",
     "text": [
      "drums           ==> SDR:  -5.120  SIR: 270.839  ISR:  -1.143  SAR: -14.496  \n",
      "bass            ==> SDR:  -5.120  SIR: 270.839  ISR:  -1.143  SAR: -14.496  \n",
      "\n"
     ]
    },
    {
     "name": "stderr",
     "output_type": "stream",
     "text": [
      " 46%|█████████████████████████████████████████████████████████████████████████████████████▌                                                                                                    | 23/50 [05:35<06:28, 14.39s/it]"
     ]
    },
    {
     "name": "stdout",
     "output_type": "stream",
     "text": [
      "drums           ==> SDR:   2.931  SIR: 163.401  ISR:   4.657  SAR:   0.146  \n",
      "bass            ==> SDR:   2.931  SIR: 163.401  ISR:   4.657  SAR:   0.146  \n",
      "\n"
     ]
    },
    {
     "name": "stderr",
     "output_type": "stream",
     "text": [
      " 48%|█████████████████████████████████████████████████████████████████████████████████████████▎                                                                                                | 24/50 [05:49<06:15, 14.43s/it]"
     ]
    },
    {
     "name": "stdout",
     "output_type": "stream",
     "text": [
      "drums           ==> SDR:   2.438  SIR: 129.037  ISR:   3.452  SAR:   2.041  \n",
      "bass            ==> SDR:   2.438  SIR: 129.037  ISR:   3.452  SAR:   2.041  \n",
      "\n"
     ]
    },
    {
     "name": "stderr",
     "output_type": "stream",
     "text": [
      " 50%|█████████████████████████████████████████████████████████████████████████████████████████████                                                                                             | 25/50 [06:04<06:01, 14.48s/it]"
     ]
    },
    {
     "name": "stdout",
     "output_type": "stream",
     "text": [
      "drums           ==> SDR:   0.419  SIR: 214.199  ISR:   0.760  SAR:  -4.009  \n",
      "bass            ==> SDR:   0.419  SIR: 214.199  ISR:   0.760  SAR:  -4.009  \n",
      "\n"
     ]
    },
    {
     "name": "stderr",
     "output_type": "stream",
     "text": [
      " 52%|████████████████████████████████████████████████████████████████████████████████████████████████▋                                                                                         | 26/50 [06:18<05:44, 14.36s/it]"
     ]
    },
    {
     "name": "stdout",
     "output_type": "stream",
     "text": [
      "drums           ==> SDR:   6.552  SIR: 178.183  ISR:   8.838  SAR:   7.643  \n",
      "bass            ==> SDR:   6.552  SIR: 178.183  ISR:   8.838  SAR:   7.643  \n",
      "\n"
     ]
    },
    {
     "name": "stderr",
     "output_type": "stream",
     "text": [
      " 54%|████████████████████████████████████████████████████████████████████████████████████████████████████▍                                                                                     | 27/50 [06:33<05:34, 14.54s/it]"
     ]
    },
    {
     "name": "stdout",
     "output_type": "stream",
     "text": [
      "drums           ==> SDR:   5.688  SIR: 178.412  ISR:   8.156  SAR:   5.314  \n",
      "bass            ==> SDR:   5.688  SIR: 178.412  ISR:   8.156  SAR:   5.314  \n",
      "\n"
     ]
    },
    {
     "name": "stderr",
     "output_type": "stream",
     "text": [
      " 56%|████████████████████████████████████████████████████████████████████████████████████████████████████████▏                                                                                 | 28/50 [06:48<05:20, 14.55s/it]"
     ]
    },
    {
     "name": "stdout",
     "output_type": "stream",
     "text": [
      "drums           ==> SDR:   4.443  SIR: 193.238  ISR:   4.635  SAR:   4.516  \n",
      "bass            ==> SDR:   4.443  SIR: 193.238  ISR:   4.635  SAR:   4.516  \n",
      "\n"
     ]
    },
    {
     "name": "stderr",
     "output_type": "stream",
     "text": [
      " 58%|███████████████████████████████████████████████████████████████████████████████████████████████████████████▉                                                                              | 29/50 [07:03<05:07, 14.64s/it]"
     ]
    },
    {
     "name": "stdout",
     "output_type": "stream",
     "text": [
      "drums           ==> SDR:   3.331  SIR: 186.563  ISR:   3.672  SAR:   4.194  \n",
      "bass            ==> SDR:   3.331  SIR: 186.563  ISR:   3.672  SAR:   4.194  \n",
      "\n"
     ]
    },
    {
     "name": "stderr",
     "output_type": "stream",
     "text": [
      " 60%|███████████████████████████████████████████████████████████████████████████████████████████████████████████████▌                                                                          | 30/50 [07:17<04:52, 14.64s/it]"
     ]
    },
    {
     "name": "stdout",
     "output_type": "stream",
     "text": [
      "drums           ==> SDR:   1.399  SIR: 208.627  ISR:   1.687  SAR:  -0.358  \n",
      "bass            ==> SDR:   1.399  SIR: 208.627  ISR:   1.687  SAR:  -0.358  \n",
      "\n"
     ]
    },
    {
     "name": "stderr",
     "output_type": "stream",
     "text": [
      " 62%|███████████████████████████████████████████████████████████████████████████████████████████████████████████████████▎                                                                      | 31/50 [07:32<04:37, 14.62s/it]"
     ]
    },
    {
     "name": "stdout",
     "output_type": "stream",
     "text": [
      "drums           ==> SDR:   1.650  SIR: 201.187  ISR:   3.829  SAR:  -1.495  \n",
      "bass            ==> SDR:   1.650  SIR: 201.187  ISR:   3.829  SAR:  -1.495  \n",
      "\n"
     ]
    },
    {
     "name": "stderr",
     "output_type": "stream",
     "text": [
      " 64%|███████████████████████████████████████████████████████████████████████████████████████████████████████████████████████                                                                   | 32/50 [07:46<04:20, 14.46s/it]"
     ]
    },
    {
     "name": "stdout",
     "output_type": "stream",
     "text": [
      "drums           ==> SDR:   0.539  SIR: 194.362  ISR:   1.498  SAR:  -2.045  \n",
      "bass            ==> SDR:   0.539  SIR: 194.362  ISR:   1.498  SAR:  -2.045  \n",
      "\n"
     ]
    },
    {
     "name": "stderr",
     "output_type": "stream",
     "text": [
      " 66%|██████████████████████████████████████████████████████████████████████████████████████████████████████████████████████████▊                                                               | 33/50 [08:00<04:06, 14.51s/it]"
     ]
    },
    {
     "name": "stdout",
     "output_type": "stream",
     "text": [
      "drums           ==> SDR:   0.321  SIR: 214.379  ISR:   0.878  SAR:  -3.024  \n",
      "bass            ==> SDR:   0.321  SIR: 214.379  ISR:   0.878  SAR:  -3.024  \n",
      "\n"
     ]
    },
    {
     "name": "stderr",
     "output_type": "stream",
     "text": [
      " 68%|██████████████████████████████████████████████████████████████████████████████████████████████████████████████████████████████▍                                                           | 34/50 [08:16<03:55, 14.71s/it]"
     ]
    },
    {
     "name": "stdout",
     "output_type": "stream",
     "text": [
      "drums           ==> SDR:   1.779  SIR: 250.057  ISR:   2.160  SAR:  -0.344  \n",
      "bass            ==> SDR:   1.779  SIR: 250.057  ISR:   2.160  SAR:  -0.344  \n",
      "\n"
     ]
    },
    {
     "name": "stderr",
     "output_type": "stream",
     "text": [
      " 70%|██████████████████████████████████████████████████████████████████████████████████████████████████████████████████████████████████▏                                                       | 35/50 [08:30<03:39, 14.63s/it]"
     ]
    },
    {
     "name": "stdout",
     "output_type": "stream",
     "text": [
      "drums           ==> SDR:   5.409  SIR: 213.889  ISR:   6.881  SAR:   7.293  \n",
      "bass            ==> SDR:   5.409  SIR: 213.889  ISR:   6.881  SAR:   7.293  \n",
      "\n"
     ]
    },
    {
     "name": "stderr",
     "output_type": "stream",
     "text": [
      " 72%|█████████████████████████████████████████████████████████████████████████████████████████████████████████████████████████████████████▉                                                    | 36/50 [08:45<03:24, 14.59s/it]"
     ]
    },
    {
     "name": "stdout",
     "output_type": "stream",
     "text": [
      "drums           ==> SDR:   1.111  SIR: 201.543  ISR:   2.658  SAR:  -3.495  \n",
      "bass            ==> SDR:   1.111  SIR: 201.543  ISR:   2.658  SAR:  -3.495  \n",
      "\n"
     ]
    },
    {
     "name": "stderr",
     "output_type": "stream",
     "text": [
      " 74%|█████████████████████████████████████████████████████████████████████████████████████████████████████████████████████████████████████████▋                                                | 37/50 [08:59<03:10, 14.64s/it]"
     ]
    },
    {
     "name": "stdout",
     "output_type": "stream",
     "text": [
      "drums           ==> SDR:   2.565  SIR: 205.215  ISR:  10.058  SAR:   1.262  \n",
      "bass            ==> SDR:   2.565  SIR: 205.215  ISR:  10.058  SAR:   1.262  \n",
      "\n"
     ]
    },
    {
     "name": "stderr",
     "output_type": "stream",
     "text": [
      " 76%|█████████████████████████████████████████████████████████████████████████████████████████████████████████████████████████████████████████████▎                                            | 38/50 [09:15<02:58, 14.85s/it]"
     ]
    },
    {
     "name": "stdout",
     "output_type": "stream",
     "text": [
      "drums           ==> SDR:   3.795  SIR: 224.121  ISR:   4.617  SAR:   3.472  \n",
      "bass            ==> SDR:   3.795  SIR: 224.121  ISR:   4.617  SAR:   3.472  \n",
      "\n"
     ]
    },
    {
     "name": "stderr",
     "output_type": "stream",
     "text": [
      " 78%|█████████████████████████████████████████████████████████████████████████████████████████████████████████████████████████████████████████████████                                         | 39/50 [09:29<02:42, 14.80s/it]"
     ]
    },
    {
     "name": "stdout",
     "output_type": "stream",
     "text": [
      "drums           ==> SDR:   1.347  SIR: 223.650  ISR:   1.874  SAR:   0.929  \n",
      "bass            ==> SDR:   1.347  SIR: 223.650  ISR:   1.874  SAR:   0.929  \n",
      "\n"
     ]
    },
    {
     "name": "stderr",
     "output_type": "stream",
     "text": [
      " 80%|████████████████████████████████████████████████████████████████████████████████████████████████████████████████████████████████████████████████████▊                                     | 40/50 [09:45<02:29, 14.94s/it]"
     ]
    },
    {
     "name": "stdout",
     "output_type": "stream",
     "text": [
      "drums           ==> SDR:   0.024  SIR: 173.807  ISR:   0.053  SAR: -15.990  \n",
      "bass            ==> SDR:   0.024  SIR: 173.807  ISR:   0.053  SAR: -15.990  \n",
      "\n"
     ]
    },
    {
     "name": "stderr",
     "output_type": "stream",
     "text": [
      " 82%|████████████████████████████████████████████████████████████████████████████████████████████████████████████████████████████████████████████████████████▌                                 | 41/50 [09:59<02:13, 14.79s/it]"
     ]
    },
    {
     "name": "stdout",
     "output_type": "stream",
     "text": [
      "drums           ==> SDR:   0.088  SIR: 166.988  ISR:   1.197  SAR:  -2.950  \n",
      "bass            ==> SDR:   0.088  SIR: 166.988  ISR:   1.197  SAR:  -2.950  \n",
      "\n"
     ]
    },
    {
     "name": "stderr",
     "output_type": "stream",
     "text": [
      " 84%|████████████████████████████████████████████████████████████████████████████████████████████████████████████████████████████████████████████████████████████▏                             | 42/50 [10:14<01:58, 14.87s/it]"
     ]
    },
    {
     "name": "stdout",
     "output_type": "stream",
     "text": [
      "drums           ==> SDR:   4.955  SIR: 115.449  ISR:   6.786  SAR:   4.605  \n",
      "bass            ==> SDR:   4.955  SIR: 115.449  ISR:   6.786  SAR:   4.605  \n",
      "\n"
     ]
    },
    {
     "name": "stderr",
     "output_type": "stream",
     "text": [
      " 86%|███████████████████████████████████████████████████████████████████████████████████████████████████████████████████████████████████████████████████████████████▉                          | 43/50 [10:29<01:43, 14.73s/it]"
     ]
    },
    {
     "name": "stdout",
     "output_type": "stream",
     "text": [
      "drums           ==> SDR:   0.618  SIR: 163.649  ISR:   1.058  SAR:  -1.578  \n",
      "bass            ==> SDR:   0.618  SIR: 163.649  ISR:   1.058  SAR:  -1.578  \n",
      "\n"
     ]
    },
    {
     "name": "stderr",
     "output_type": "stream",
     "text": [
      " 88%|███████████████████████████████████████████████████████████████████████████████████████████████████████████████████████████████████████████████████████████████████▋                      | 44/50 [10:42<01:26, 14.43s/it]"
     ]
    },
    {
     "name": "stdout",
     "output_type": "stream",
     "text": [
      "drums           ==> SDR:   0.805  SIR: 217.280  ISR:   1.549  SAR:  -0.568  \n",
      "bass            ==> SDR:   0.805  SIR: 217.280  ISR:   1.549  SAR:  -0.568  \n",
      "\n"
     ]
    },
    {
     "name": "stderr",
     "output_type": "stream",
     "text": [
      " 90%|███████████████████████████████████████████████████████████████████████████████████████████████████████████████████████████████████████████████████████████████████████▍                  | 45/50 [10:57<01:12, 14.50s/it]"
     ]
    },
    {
     "name": "stdout",
     "output_type": "stream",
     "text": [
      "drums           ==> SDR:   0.008  SIR: 197.393  ISR:   0.042  SAR:  -4.818  \n",
      "bass            ==> SDR:   0.008  SIR: 197.393  ISR:   0.042  SAR:  -4.818  \n",
      "\n"
     ]
    },
    {
     "name": "stderr",
     "output_type": "stream",
     "text": [
      " 92%|███████████████████████████████████████████████████████████████████████████████████████████████████████████████████████████████████████████████████████████████████████████               | 46/50 [11:12<00:58, 14.55s/it]"
     ]
    },
    {
     "name": "stdout",
     "output_type": "stream",
     "text": [
      "drums           ==> SDR:   0.930  SIR: 199.893  ISR:   1.422  SAR:  -2.153  \n",
      "bass            ==> SDR:   0.930  SIR: 199.893  ISR:   1.422  SAR:  -2.153  \n",
      "\n"
     ]
    },
    {
     "name": "stderr",
     "output_type": "stream",
     "text": [
      " 94%|██████████████████████████████████████████████████████████████████████████████████████████████████████████████████████████████████████████████████████████████████████████████▊           | 47/50 [11:26<00:43, 14.39s/it]"
     ]
    },
    {
     "name": "stdout",
     "output_type": "stream",
     "text": [
      "drums           ==> SDR:   3.011  SIR: 165.691  ISR:   5.930  SAR:   3.664  \n",
      "bass            ==> SDR:   3.011  SIR: 165.691  ISR:   5.930  SAR:   3.664  \n",
      "\n"
     ]
    },
    {
     "name": "stderr",
     "output_type": "stream",
     "text": [
      " 96%|██████████████████████████████████████████████████████████████████████████████████████████████████████████████████████████████████████████████████████████████████████████████████▌       | 48/50 [11:40<00:28, 14.46s/it]"
     ]
    },
    {
     "name": "stdout",
     "output_type": "stream",
     "text": [
      "drums           ==> SDR:   2.000  SIR: 215.865  ISR:   3.926  SAR:  -0.849  \n",
      "bass            ==> SDR:   2.000  SIR: 215.865  ISR:   3.926  SAR:  -0.849  \n",
      "\n"
     ]
    },
    {
     "name": "stderr",
     "output_type": "stream",
     "text": [
      " 98%|██████████████████████████████████████████████████████████████████████████████████████████████████████████████████████████████████████████████████████████████████████████████████████▎   | 49/50 [11:55<00:14, 14.52s/it]"
     ]
    },
    {
     "name": "stdout",
     "output_type": "stream",
     "text": [
      "drums           ==> SDR:   5.701  SIR: 213.018  ISR:   6.694  SAR:   5.580  \n",
      "bass            ==> SDR:   5.701  SIR: 213.018  ISR:   6.694  SAR:   5.580  \n",
      "\n"
     ]
    },
    {
     "name": "stderr",
     "output_type": "stream",
     "text": [
      "100%|██████████████████████████████████████████████████████████████████████████████████████████████████████████████████████████████████████████████████████████████████████████████████████████| 50/50 [12:10<00:00, 14.60s/it]"
     ]
    },
    {
     "name": "stdout",
     "output_type": "stream",
     "text": [
      "drums           ==> SDR:   3.879  SIR: 203.908  ISR:   5.506  SAR:   2.922  \n",
      "bass            ==> SDR:   3.879  SIR: 203.908  ISR:   5.506  SAR:   2.922  \n",
      "\n"
     ]
    },
    {
     "name": "stderr",
     "output_type": "stream",
     "text": [
      "\n",
      "C:\\Python311\\Lib\\site-packages\\pytorch_lightning\\utilities\\migration\\utils.py:55: The loaded checkpoint was produced with Lightning v2.2.1, which is newer than your current Lightning version: v2.1.2\n",
      "  2%|███▋                                                                                                                                                                                       | 1/50 [00:15<12:26, 15.24s/it]"
     ]
    },
    {
     "name": "stdout",
     "output_type": "stream",
     "text": [
      "drums           ==> SDR:   1.697  SIR: 206.781  ISR:   2.716  SAR:   0.543  \n",
      "bass            ==> SDR:   1.697  SIR: 206.781  ISR:   2.716  SAR:   0.543  \n",
      "\n"
     ]
    },
    {
     "name": "stderr",
     "output_type": "stream",
     "text": [
      "  4%|███████▍                                                                                                                                                                                   | 2/50 [00:29<11:50, 14.80s/it]"
     ]
    },
    {
     "name": "stdout",
     "output_type": "stream",
     "text": [
      "drums           ==> SDR:   1.400  SIR: 188.250  ISR:   3.403  SAR:  -0.810  \n",
      "bass            ==> SDR:   1.400  SIR: 188.250  ISR:   3.403  SAR:  -0.810  \n",
      "\n"
     ]
    },
    {
     "name": "stderr",
     "output_type": "stream",
     "text": [
      "  6%|███████████▏                                                                                                                                                                               | 3/50 [00:44<11:28, 14.65s/it]"
     ]
    },
    {
     "name": "stdout",
     "output_type": "stream",
     "text": [
      "drums           ==> SDR:   0.886  SIR: 228.941  ISR:   1.656  SAR:  -1.643  \n",
      "bass            ==> SDR:   0.886  SIR: 228.941  ISR:   1.656  SAR:  -1.643  \n",
      "\n"
     ]
    },
    {
     "name": "stderr",
     "output_type": "stream",
     "text": [
      "  8%|██████████████▉                                                                                                                                                                            | 4/50 [00:58<11:07, 14.52s/it]"
     ]
    },
    {
     "name": "stdout",
     "output_type": "stream",
     "text": [
      "drums           ==> SDR:   0.051  SIR: 228.988  ISR:   0.134  SAR:  -5.636  \n",
      "bass            ==> SDR:   0.051  SIR: 228.988  ISR:   0.134  SAR:  -5.636  \n",
      "\n"
     ]
    },
    {
     "name": "stderr",
     "output_type": "stream",
     "text": [
      " 10%|██████████████████▋                                                                                                                                                                        | 5/50 [01:13<11:06, 14.81s/it]"
     ]
    },
    {
     "name": "stdout",
     "output_type": "stream",
     "text": [
      "drums           ==> SDR:   0.959  SIR: 198.508  ISR:   2.407  SAR:   0.627  \n",
      "bass            ==> SDR:   0.959  SIR: 198.508  ISR:   2.407  SAR:   0.627  \n",
      "\n"
     ]
    },
    {
     "name": "stderr",
     "output_type": "stream",
     "text": [
      " 12%|██████████████████████▍                                                                                                                                                                    | 6/50 [01:28<10:47, 14.72s/it]"
     ]
    },
    {
     "name": "stdout",
     "output_type": "stream",
     "text": [
      "drums           ==> SDR:   1.732  SIR: 239.904  ISR:   3.452  SAR:   0.178  \n",
      "bass            ==> SDR:   1.732  SIR: 239.904  ISR:   3.452  SAR:   0.178  \n",
      "\n"
     ]
    },
    {
     "name": "stderr",
     "output_type": "stream",
     "text": [
      " 14%|██████████████████████████▏                                                                                                                                                                | 7/50 [01:42<10:29, 14.63s/it]"
     ]
    },
    {
     "name": "stdout",
     "output_type": "stream",
     "text": [
      "drums           ==> SDR:   0.881  SIR: 220.334  ISR:   3.233  SAR:  -0.229  \n",
      "bass            ==> SDR:   0.881  SIR: 220.334  ISR:   3.233  SAR:  -0.229  \n",
      "\n"
     ]
    },
    {
     "name": "stderr",
     "output_type": "stream",
     "text": [
      " 16%|█████████████████████████████▉                                                                                                                                                             | 8/50 [01:57<10:15, 14.64s/it]"
     ]
    },
    {
     "name": "stdout",
     "output_type": "stream",
     "text": [
      "drums           ==> SDR:   1.376  SIR: 238.674  ISR:   2.279  SAR:   0.297  \n",
      "bass            ==> SDR:   1.376  SIR: 238.674  ISR:   2.279  SAR:   0.297  \n",
      "\n"
     ]
    },
    {
     "name": "stderr",
     "output_type": "stream",
     "text": [
      " 18%|█████████████████████████████████▋                                                                                                                                                         | 9/50 [02:12<10:03, 14.71s/it]"
     ]
    },
    {
     "name": "stdout",
     "output_type": "stream",
     "text": [
      "drums           ==> SDR:   0.080  SIR: 166.535  ISR:   0.302  SAR:  -2.593  \n",
      "bass            ==> SDR:   0.080  SIR: 166.535  ISR:   0.302  SAR:  -2.593  \n",
      "\n"
     ]
    },
    {
     "name": "stderr",
     "output_type": "stream",
     "text": [
      " 20%|█████████████████████████████████████▏                                                                                                                                                    | 10/50 [02:26<09:46, 14.67s/it]"
     ]
    },
    {
     "name": "stdout",
     "output_type": "stream",
     "text": [
      "drums           ==> SDR: -10.082  SIR: 175.218  ISR:   4.611  SAR: -16.289  \n",
      "bass            ==> SDR: -10.082  SIR: 175.218  ISR:   4.611  SAR: -16.289  \n",
      "\n"
     ]
    },
    {
     "name": "stderr",
     "output_type": "stream",
     "text": [
      " 22%|████████████████████████████████████████▉                                                                                                                                                 | 11/50 [02:41<09:30, 14.63s/it]"
     ]
    },
    {
     "name": "stdout",
     "output_type": "stream",
     "text": [
      "drums           ==> SDR:   0.435  SIR: 220.712  ISR:   0.859  SAR:  -0.182  \n",
      "bass            ==> SDR:   0.435  SIR: 220.712  ISR:   0.859  SAR:  -0.182  \n",
      "\n"
     ]
    },
    {
     "name": "stderr",
     "output_type": "stream",
     "text": [
      " 24%|████████████████████████████████████████████▋                                                                                                                                             | 12/50 [02:56<09:15, 14.61s/it]"
     ]
    },
    {
     "name": "stdout",
     "output_type": "stream",
     "text": [
      "drums           ==> SDR:   4.559  SIR: 221.557  ISR:   7.270  SAR:   3.970  \n",
      "bass            ==> SDR:   4.559  SIR: 221.557  ISR:   7.270  SAR:   3.970  \n",
      "\n"
     ]
    },
    {
     "name": "stderr",
     "output_type": "stream",
     "text": [
      " 26%|████████████████████████████████████████████████▎                                                                                                                                         | 13/50 [03:09<08:51, 14.36s/it]"
     ]
    },
    {
     "name": "stdout",
     "output_type": "stream",
     "text": [
      "drums           ==> SDR:   0.174  SIR:  97.241  ISR:   0.411  SAR:  -2.562  \n",
      "bass            ==> SDR:   0.174  SIR:  97.241  ISR:   0.411  SAR:  -2.562  \n",
      "\n"
     ]
    },
    {
     "name": "stderr",
     "output_type": "stream",
     "text": [
      " 28%|████████████████████████████████████████████████████                                                                                                                                      | 14/50 [03:24<08:39, 14.42s/it]"
     ]
    },
    {
     "name": "stdout",
     "output_type": "stream",
     "text": [
      "drums           ==> SDR:   6.105  SIR: 209.076  ISR:  10.171  SAR:   5.759  \n",
      "bass            ==> SDR:   6.105  SIR: 209.076  ISR:  10.171  SAR:   5.759  \n",
      "\n"
     ]
    },
    {
     "name": "stderr",
     "output_type": "stream",
     "text": [
      " 30%|███████████████████████████████████████████████████████▊                                                                                                                                  | 15/50 [03:39<08:28, 14.53s/it]"
     ]
    },
    {
     "name": "stdout",
     "output_type": "stream",
     "text": [
      "drums           ==> SDR:   2.598  SIR: 209.444  ISR:   3.673  SAR:   0.778  \n",
      "bass            ==> SDR:   2.598  SIR: 209.444  ISR:   3.673  SAR:   0.778  \n",
      "\n"
     ]
    },
    {
     "name": "stderr",
     "output_type": "stream",
     "text": [
      " 32%|███████████████████████████████████████████████████████████▌                                                                                                                              | 16/50 [03:54<08:18, 14.67s/it]"
     ]
    },
    {
     "name": "stdout",
     "output_type": "stream",
     "text": [
      "drums           ==> SDR:   1.016  SIR: 214.232  ISR:   1.461  SAR:  -3.301  \n",
      "bass            ==> SDR:   1.016  SIR: 214.232  ISR:   1.461  SAR:  -3.301  \n",
      "\n"
     ]
    },
    {
     "name": "stderr",
     "output_type": "stream",
     "text": [
      " 34%|███████████████████████████████████████████████████████████████▏                                                                                                                          | 17/50 [04:08<08:02, 14.61s/it]"
     ]
    },
    {
     "name": "stdout",
     "output_type": "stream",
     "text": [
      "drums           ==> SDR:   0.053  SIR: 211.742  ISR:   0.133  SAR:  -7.011  \n",
      "bass            ==> SDR:   0.053  SIR: 211.742  ISR:   0.133  SAR:  -7.011  \n",
      "\n"
     ]
    },
    {
     "name": "stderr",
     "output_type": "stream",
     "text": [
      " 36%|██████████████████████████████████████████████████████████████████▉                                                                                                                       | 18/50 [04:23<07:48, 14.66s/it]"
     ]
    },
    {
     "name": "stdout",
     "output_type": "stream",
     "text": [
      "drums           ==> SDR:   6.359  SIR: 202.461  ISR:   8.371  SAR:   6.913  \n",
      "bass            ==> SDR:   6.359  SIR: 202.461  ISR:   8.371  SAR:   6.913  \n",
      "\n"
     ]
    },
    {
     "name": "stderr",
     "output_type": "stream",
     "text": [
      " 38%|██████████████████████████████████████████████████████████████████████▋                                                                                                                   | 19/50 [04:38<07:34, 14.66s/it]"
     ]
    },
    {
     "name": "stdout",
     "output_type": "stream",
     "text": [
      "drums           ==> SDR:   0.189  SIR: 209.092  ISR:   0.485  SAR:  -2.390  \n",
      "bass            ==> SDR:   0.189  SIR: 209.092  ISR:   0.485  SAR:  -2.390  \n",
      "\n"
     ]
    },
    {
     "name": "stderr",
     "output_type": "stream",
     "text": [
      " 40%|██████████████████████████████████████████████████████████████████████████▍                                                                                                               | 20/50 [04:52<07:17, 14.60s/it]"
     ]
    },
    {
     "name": "stdout",
     "output_type": "stream",
     "text": [
      "drums           ==> SDR:   0.962  SIR: 227.137  ISR:   1.157  SAR:   0.175  \n",
      "bass            ==> SDR:   0.962  SIR: 227.137  ISR:   1.157  SAR:   0.175  \n",
      "\n"
     ]
    },
    {
     "name": "stderr",
     "output_type": "stream",
     "text": [
      " 42%|██████████████████████████████████████████████████████████████████████████████                                                                                                            | 21/50 [05:06<07:01, 14.53s/it]"
     ]
    },
    {
     "name": "stdout",
     "output_type": "stream",
     "text": [
      "drums           ==> SDR:   4.898  SIR: 184.528  ISR:   6.562  SAR:   5.562  \n",
      "bass            ==> SDR:   4.898  SIR: 184.528  ISR:   6.562  SAR:   5.562  \n",
      "\n"
     ]
    },
    {
     "name": "stderr",
     "output_type": "stream",
     "text": [
      " 44%|█████████████████████████████████████████████████████████████████████████████████▊                                                                                                        | 22/50 [05:21<06:43, 14.41s/it]"
     ]
    },
    {
     "name": "stdout",
     "output_type": "stream",
     "text": [
      "drums           ==> SDR:  -5.120  SIR: 270.839  ISR:  -1.143  SAR: -14.496  \n",
      "bass            ==> SDR:  -5.120  SIR: 270.839  ISR:  -1.143  SAR: -14.496  \n",
      "\n"
     ]
    },
    {
     "name": "stderr",
     "output_type": "stream",
     "text": [
      " 46%|█████████████████████████████████████████████████████████████████████████████████████▌                                                                                                    | 23/50 [05:35<06:31, 14.49s/it]"
     ]
    },
    {
     "name": "stdout",
     "output_type": "stream",
     "text": [
      "drums           ==> SDR:   1.676  SIR: 168.769  ISR:   2.966  SAR:  -0.630  \n",
      "bass            ==> SDR:   1.676  SIR: 168.769  ISR:   2.966  SAR:  -0.630  \n",
      "\n"
     ]
    },
    {
     "name": "stderr",
     "output_type": "stream",
     "text": [
      " 48%|█████████████████████████████████████████████████████████████████████████████████████████▎                                                                                                | 24/50 [05:49<06:14, 14.39s/it]"
     ]
    },
    {
     "name": "stdout",
     "output_type": "stream",
     "text": [
      "drums           ==> SDR:   0.641  SIR: 121.595  ISR:   0.942  SAR:  -2.862  \n",
      "bass            ==> SDR:   0.641  SIR: 121.595  ISR:   0.942  SAR:  -2.862  \n",
      "\n"
     ]
    },
    {
     "name": "stderr",
     "output_type": "stream",
     "text": [
      " 50%|█████████████████████████████████████████████████████████████████████████████████████████████                                                                                             | 25/50 [06:04<06:02, 14.49s/it]"
     ]
    },
    {
     "name": "stdout",
     "output_type": "stream",
     "text": [
      "drums           ==> SDR:   0.012  SIR: 228.209  ISR:   0.091  SAR:  -3.549  \n",
      "bass            ==> SDR:   0.012  SIR: 228.209  ISR:   0.091  SAR:  -3.549  \n",
      "\n"
     ]
    },
    {
     "name": "stderr",
     "output_type": "stream",
     "text": [
      " 52%|████████████████████████████████████████████████████████████████████████████████████████████████▋                                                                                         | 26/50 [06:18<05:45, 14.39s/it]"
     ]
    },
    {
     "name": "stdout",
     "output_type": "stream",
     "text": [
      "drums           ==> SDR:   3.082  SIR: 177.370  ISR:   3.781  SAR:   3.655  \n",
      "bass            ==> SDR:   3.082  SIR: 177.370  ISR:   3.781  SAR:   3.655  \n",
      "\n"
     ]
    },
    {
     "name": "stderr",
     "output_type": "stream",
     "text": [
      " 54%|████████████████████████████████████████████████████████████████████████████████████████████████████▍                                                                                     | 27/50 [06:33<05:33, 14.50s/it]"
     ]
    },
    {
     "name": "stdout",
     "output_type": "stream",
     "text": [
      "drums           ==> SDR:   5.719  SIR: 179.748  ISR:   8.312  SAR:   5.532  \n",
      "bass            ==> SDR:   5.719  SIR: 179.748  ISR:   8.312  SAR:   5.532  \n",
      "\n"
     ]
    },
    {
     "name": "stderr",
     "output_type": "stream",
     "text": [
      " 56%|████████████████████████████████████████████████████████████████████████████████████████████████████████▏                                                                                 | 28/50 [06:48<05:19, 14.51s/it]"
     ]
    },
    {
     "name": "stdout",
     "output_type": "stream",
     "text": [
      "drums           ==> SDR:   5.143  SIR: 187.682  ISR:   5.634  SAR:   5.065  \n",
      "bass            ==> SDR:   5.143  SIR: 187.682  ISR:   5.634  SAR:   5.065  \n",
      "\n"
     ]
    },
    {
     "name": "stderr",
     "output_type": "stream",
     "text": [
      " 58%|███████████████████████████████████████████████████████████████████████████████████████████████████████████▉                                                                              | 29/50 [07:03<05:08, 14.67s/it]"
     ]
    },
    {
     "name": "stdout",
     "output_type": "stream",
     "text": [
      "drums           ==> SDR:   2.099  SIR: 187.961  ISR:   2.584  SAR:   2.224  \n",
      "bass            ==> SDR:   2.099  SIR: 187.961  ISR:   2.584  SAR:   2.224  \n",
      "\n"
     ]
    },
    {
     "name": "stderr",
     "output_type": "stream",
     "text": [
      " 60%|███████████████████████████████████████████████████████████████████████████████████████████████████████████████▌                                                                          | 30/50 [07:17<04:52, 14.61s/it]"
     ]
    },
    {
     "name": "stdout",
     "output_type": "stream",
     "text": [
      "drums           ==> SDR:   0.550  SIR: 202.409  ISR:   1.254  SAR:  -0.524  \n",
      "bass            ==> SDR:   0.550  SIR: 202.409  ISR:   1.254  SAR:  -0.524  \n",
      "\n"
     ]
    },
    {
     "name": "stderr",
     "output_type": "stream",
     "text": [
      " 62%|███████████████████████████████████████████████████████████████████████████████████████████████████████████████████▎                                                                      | 31/50 [07:32<04:37, 14.62s/it]"
     ]
    },
    {
     "name": "stdout",
     "output_type": "stream",
     "text": [
      "drums           ==> SDR:   1.880  SIR: 190.495  ISR:   5.022  SAR:   0.182  \n",
      "bass            ==> SDR:   1.880  SIR: 190.495  ISR:   5.022  SAR:   0.182  \n",
      "\n"
     ]
    },
    {
     "name": "stderr",
     "output_type": "stream",
     "text": [
      " 64%|███████████████████████████████████████████████████████████████████████████████████████████████████████████████████████                                                                   | 32/50 [07:46<04:19, 14.43s/it]"
     ]
    },
    {
     "name": "stdout",
     "output_type": "stream",
     "text": [
      "drums           ==> SDR:   0.001  SIR: 199.936  ISR:   0.023  SAR:  -6.735  \n",
      "bass            ==> SDR:   0.001  SIR: 199.936  ISR:   0.023  SAR:  -6.735  \n",
      "\n"
     ]
    },
    {
     "name": "stderr",
     "output_type": "stream",
     "text": [
      " 66%|██████████████████████████████████████████████████████████████████████████████████████████████████████████████████████████▊                                                               | 33/50 [08:00<04:06, 14.47s/it]"
     ]
    },
    {
     "name": "stdout",
     "output_type": "stream",
     "text": [
      "drums           ==> SDR:   0.050  SIR: 218.968  ISR:   1.290  SAR:  -0.482  \n",
      "bass            ==> SDR:   0.050  SIR: 218.968  ISR:   1.290  SAR:  -0.482  \n",
      "\n"
     ]
    },
    {
     "name": "stderr",
     "output_type": "stream",
     "text": [
      " 68%|██████████████████████████████████████████████████████████████████████████████████████████████████████████████████████████████▍                                                           | 34/50 [08:15<03:52, 14.52s/it]"
     ]
    },
    {
     "name": "stdout",
     "output_type": "stream",
     "text": [
      "drums           ==> SDR:   0.715  SIR: 246.592  ISR:   1.394  SAR:  -1.364  \n",
      "bass            ==> SDR:   0.715  SIR: 246.592  ISR:   1.394  SAR:  -1.364  \n",
      "\n"
     ]
    },
    {
     "name": "stderr",
     "output_type": "stream",
     "text": [
      " 70%|██████████████████████████████████████████████████████████████████████████████████████████████████████████████████████████████████▏                                                       | 35/50 [08:29<03:37, 14.52s/it]"
     ]
    },
    {
     "name": "stdout",
     "output_type": "stream",
     "text": [
      "drums           ==> SDR:   1.208  SIR: 215.198  ISR:   1.378  SAR:   0.069  \n",
      "bass            ==> SDR:   1.208  SIR: 215.198  ISR:   1.378  SAR:   0.069  \n",
      "\n"
     ]
    },
    {
     "name": "stderr",
     "output_type": "stream",
     "text": [
      " 72%|█████████████████████████████████████████████████████████████████████████████████████████████████████████████████████████████████████▉                                                    | 36/50 [08:45<03:25, 14.70s/it]"
     ]
    },
    {
     "name": "stdout",
     "output_type": "stream",
     "text": [
      "drums           ==> SDR:   0.516  SIR: 198.325  ISR:   2.235  SAR:  -3.535  \n",
      "bass            ==> SDR:   0.516  SIR: 198.325  ISR:   2.235  SAR:  -3.535  \n",
      "\n"
     ]
    },
    {
     "name": "stderr",
     "output_type": "stream",
     "text": [
      " 74%|█████████████████████████████████████████████████████████████████████████████████████████████████████████████████████████████████████████▋                                                | 37/50 [08:59<03:11, 14.73s/it]"
     ]
    },
    {
     "name": "stdout",
     "output_type": "stream",
     "text": [
      "drums           ==> SDR:   1.057  SIR: 202.268  ISR:   2.781  SAR:  -3.665  \n",
      "bass            ==> SDR:   1.057  SIR: 202.268  ISR:   2.781  SAR:  -3.665  \n",
      "\n"
     ]
    },
    {
     "name": "stderr",
     "output_type": "stream",
     "text": [
      " 76%|█████████████████████████████████████████████████████████████████████████████████████████████████████████████████████████████████████████████▎                                            | 38/50 [09:15<02:58, 14.88s/it]"
     ]
    },
    {
     "name": "stdout",
     "output_type": "stream",
     "text": [
      "drums           ==> SDR:   1.109  SIR: 223.550  ISR:   1.352  SAR:  -1.283  \n",
      "bass            ==> SDR:   1.109  SIR: 223.550  ISR:   1.352  SAR:  -1.283  \n",
      "\n"
     ]
    },
    {
     "name": "stderr",
     "output_type": "stream",
     "text": [
      " 78%|█████████████████████████████████████████████████████████████████████████████████████████████████████████████████████████████████████████████████                                         | 39/50 [09:29<02:42, 14.79s/it]"
     ]
    },
    {
     "name": "stdout",
     "output_type": "stream",
     "text": [
      "drums           ==> SDR:   0.222  SIR: 229.254  ISR:   0.717  SAR:  -1.424  \n",
      "bass            ==> SDR:   0.222  SIR: 229.254  ISR:   0.717  SAR:  -1.424  \n",
      "\n"
     ]
    },
    {
     "name": "stderr",
     "output_type": "stream",
     "text": [
      " 80%|████████████████████████████████████████████████████████████████████████████████████████████████████████████████████████████████████████████████████▊                                     | 40/50 [09:44<02:27, 14.78s/it]"
     ]
    },
    {
     "name": "stdout",
     "output_type": "stream",
     "text": [
      "drums           ==> SDR:   1.872  SIR: 171.153  ISR:   3.500  SAR:  -0.915  \n",
      "bass            ==> SDR:   1.872  SIR: 171.153  ISR:   3.500  SAR:  -0.915  \n",
      "\n"
     ]
    },
    {
     "name": "stderr",
     "output_type": "stream",
     "text": [
      " 82%|████████████████████████████████████████████████████████████████████████████████████████████████████████████████████████████████████████████████████████▌                                 | 41/50 [09:59<02:12, 14.74s/it]"
     ]
    },
    {
     "name": "stdout",
     "output_type": "stream",
     "text": [
      "drums           ==> SDR:   0.077  SIR: 178.680  ISR:   2.307  SAR:  -3.654  \n",
      "bass            ==> SDR:   0.077  SIR: 178.680  ISR:   2.307  SAR:  -3.654  \n",
      "\n"
     ]
    },
    {
     "name": "stderr",
     "output_type": "stream",
     "text": [
      " 84%|████████████████████████████████████████████████████████████████████████████████████████████████████████████████████████████████████████████████████████████▏                             | 42/50 [10:14<01:59, 14.89s/it]"
     ]
    },
    {
     "name": "stdout",
     "output_type": "stream",
     "text": [
      "drums           ==> SDR:   3.887  SIR: 124.191  ISR:   5.427  SAR:   3.768  \n",
      "bass            ==> SDR:   3.887  SIR: 124.191  ISR:   5.427  SAR:   3.768  \n",
      "\n"
     ]
    },
    {
     "name": "stderr",
     "output_type": "stream",
     "text": [
      " 86%|███████████████████████████████████████████████████████████████████████████████████████████████████████████████████████████████████████████████████████████████▉                          | 43/50 [10:28<01:43, 14.73s/it]"
     ]
    },
    {
     "name": "stdout",
     "output_type": "stream",
     "text": [
      "drums           ==> SDR:   0.050  SIR: 166.480  ISR:   0.496  SAR:  -0.769  \n",
      "bass            ==> SDR:   0.050  SIR: 166.480  ISR:   0.496  SAR:  -0.769  \n",
      "\n"
     ]
    },
    {
     "name": "stderr",
     "output_type": "stream",
     "text": [
      " 88%|███████████████████████████████████████████████████████████████████████████████████████████████████████████████████████████████████████████████████████████████████▋                      | 44/50 [10:42<01:27, 14.54s/it]"
     ]
    },
    {
     "name": "stdout",
     "output_type": "stream",
     "text": [
      "drums           ==> SDR:   0.492  SIR: 217.855  ISR:   1.139  SAR:  -0.673  \n",
      "bass            ==> SDR:   0.492  SIR: 217.855  ISR:   1.139  SAR:  -0.673  \n",
      "\n"
     ]
    },
    {
     "name": "stderr",
     "output_type": "stream",
     "text": [
      " 90%|███████████████████████████████████████████████████████████████████████████████████████████████████████████████████████████████████████████████████████████████████████▍                  | 45/50 [10:57<01:12, 14.59s/it]"
     ]
    },
    {
     "name": "stdout",
     "output_type": "stream",
     "text": [
      "drums           ==> SDR:   0.169  SIR: 212.499  ISR:   0.420  SAR:  -5.745  \n",
      "bass            ==> SDR:   0.169  SIR: 212.499  ISR:   0.420  SAR:  -5.745  \n",
      "\n"
     ]
    },
    {
     "name": "stderr",
     "output_type": "stream",
     "text": [
      " 92%|███████████████████████████████████████████████████████████████████████████████████████████████████████████████████████████████████████████████████████████████████████████               | 46/50 [11:12<00:58, 14.63s/it]"
     ]
    },
    {
     "name": "stdout",
     "output_type": "stream",
     "text": [
      "drums           ==> SDR:   1.029  SIR: 201.721  ISR:   1.512  SAR:  -2.683  \n",
      "bass            ==> SDR:   1.029  SIR: 201.721  ISR:   1.512  SAR:  -2.683  \n",
      "\n"
     ]
    },
    {
     "name": "stderr",
     "output_type": "stream",
     "text": [
      " 94%|██████████████████████████████████████████████████████████████████████████████████████████████████████████████████████████████████████████████████████████████████████████████▊           | 47/50 [11:26<00:43, 14.41s/it]"
     ]
    },
    {
     "name": "stdout",
     "output_type": "stream",
     "text": [
      "drums           ==> SDR:   0.500  SIR: 174.258  ISR:   2.361  SAR:   0.247  \n",
      "bass            ==> SDR:   0.500  SIR: 174.258  ISR:   2.361  SAR:   0.247  \n",
      "\n"
     ]
    },
    {
     "name": "stderr",
     "output_type": "stream",
     "text": [
      " 96%|██████████████████████████████████████████████████████████████████████████████████████████████████████████████████████████████████████████████████████████████████████████████████▌       | 48/50 [11:40<00:28, 14.49s/it]"
     ]
    },
    {
     "name": "stdout",
     "output_type": "stream",
     "text": [
      "drums           ==> SDR:   1.857  SIR: 222.722  ISR:   3.211  SAR:  -1.314  \n",
      "bass            ==> SDR:   1.857  SIR: 222.722  ISR:   3.211  SAR:  -1.314  \n",
      "\n"
     ]
    },
    {
     "name": "stderr",
     "output_type": "stream",
     "text": [
      " 98%|██████████████████████████████████████████████████████████████████████████████████████████████████████████████████████████████████████████████████████████████████████████████████████▎   | 49/50 [11:55<00:14, 14.52s/it]"
     ]
    },
    {
     "name": "stdout",
     "output_type": "stream",
     "text": [
      "drums           ==> SDR:   5.324  SIR: 210.842  ISR:   7.284  SAR:   5.463  \n",
      "bass            ==> SDR:   5.324  SIR: 210.842  ISR:   7.284  SAR:   5.463  \n",
      "\n"
     ]
    },
    {
     "name": "stderr",
     "output_type": "stream",
     "text": [
      "100%|██████████████████████████████████████████████████████████████████████████████████████████████████████████████████████████████████████████████████████████████████████████████████████████| 50/50 [12:09<00:00, 14.60s/it]"
     ]
    },
    {
     "name": "stdout",
     "output_type": "stream",
     "text": [
      "drums           ==> SDR:   2.679  SIR: 214.210  ISR:   4.320  SAR:   0.871  \n",
      "bass            ==> SDR:   2.679  SIR: 214.210  ISR:   4.320  SAR:   0.871  \n",
      "\n"
     ]
    },
    {
     "name": "stderr",
     "output_type": "stream",
     "text": [
      "\n",
      "C:\\Python311\\Lib\\site-packages\\pytorch_lightning\\utilities\\migration\\utils.py:55: The loaded checkpoint was produced with Lightning v2.2.1, which is newer than your current Lightning version: v2.1.2\n",
      "  2%|███▋                                                                                                                                                                                       | 1/50 [00:15<12:30, 15.32s/it]"
     ]
    },
    {
     "name": "stdout",
     "output_type": "stream",
     "text": [
      "drums           ==> SDR:   1.697  SIR: 212.083  ISR:   2.686  SAR:   0.550  \n",
      "bass            ==> SDR:   1.697  SIR: 212.083  ISR:   2.686  SAR:   0.550  \n",
      "\n"
     ]
    },
    {
     "name": "stderr",
     "output_type": "stream",
     "text": [
      "  4%|███████▍                                                                                                                                                                                   | 2/50 [00:29<11:48, 14.76s/it]"
     ]
    },
    {
     "name": "stdout",
     "output_type": "stream",
     "text": [
      "drums           ==> SDR:   1.494  SIR: 181.879  ISR:   3.270  SAR:  -1.914  \n",
      "bass            ==> SDR:   1.494  SIR: 181.879  ISR:   3.270  SAR:  -1.914  \n",
      "\n"
     ]
    },
    {
     "name": "stderr",
     "output_type": "stream",
     "text": [
      "  6%|███████████▏                                                                                                                                                                               | 3/50 [00:44<11:32, 14.73s/it]"
     ]
    },
    {
     "name": "stdout",
     "output_type": "stream",
     "text": [
      "drums           ==> SDR:   0.719  SIR: 231.488  ISR:   1.375  SAR:  -2.471  \n",
      "bass            ==> SDR:   0.719  SIR: 231.488  ISR:   1.375  SAR:  -2.471  \n",
      "\n"
     ]
    },
    {
     "name": "stderr",
     "output_type": "stream",
     "text": [
      "  8%|██████████████▉                                                                                                                                                                            | 4/50 [00:58<11:13, 14.65s/it]"
     ]
    },
    {
     "name": "stdout",
     "output_type": "stream",
     "text": [
      "drums           ==> SDR:   0.058  SIR: 230.186  ISR:   0.203  SAR:  -3.783  \n",
      "bass            ==> SDR:   0.058  SIR: 230.186  ISR:   0.203  SAR:  -3.783  \n",
      "\n"
     ]
    },
    {
     "name": "stderr",
     "output_type": "stream",
     "text": [
      " 10%|██████████████████▋                                                                                                                                                                        | 5/50 [01:13<11:05, 14.79s/it]"
     ]
    },
    {
     "name": "stdout",
     "output_type": "stream",
     "text": [
      "drums           ==> SDR:   0.853  SIR: 195.342  ISR:   1.663  SAR:  -0.116  \n",
      "bass            ==> SDR:   0.853  SIR: 195.342  ISR:   1.663  SAR:  -0.116  \n",
      "\n"
     ]
    },
    {
     "name": "stderr",
     "output_type": "stream",
     "text": [
      " 12%|██████████████████████▍                                                                                                                                                                    | 6/50 [01:28<10:46, 14.69s/it]"
     ]
    },
    {
     "name": "stdout",
     "output_type": "stream",
     "text": [
      "drums           ==> SDR:   1.929  SIR: 235.506  ISR:   3.438  SAR:   0.275  \n",
      "bass            ==> SDR:   1.929  SIR: 235.506  ISR:   3.438  SAR:   0.275  \n",
      "\n"
     ]
    },
    {
     "name": "stderr",
     "output_type": "stream",
     "text": [
      " 14%|██████████████████████████▏                                                                                                                                                                | 7/50 [01:42<10:28, 14.63s/it]"
     ]
    },
    {
     "name": "stdout",
     "output_type": "stream",
     "text": [
      "drums           ==> SDR:   0.839  SIR: 218.040  ISR:   3.169  SAR:  -0.034  \n",
      "bass            ==> SDR:   0.839  SIR: 218.040  ISR:   3.169  SAR:  -0.034  \n",
      "\n"
     ]
    },
    {
     "name": "stderr",
     "output_type": "stream",
     "text": [
      " 16%|█████████████████████████████▉                                                                                                                                                             | 8/50 [01:57<10:13, 14.62s/it]"
     ]
    },
    {
     "name": "stdout",
     "output_type": "stream",
     "text": [
      "drums           ==> SDR:   1.696  SIR: 241.043  ISR:   2.950  SAR:   0.068  \n",
      "bass            ==> SDR:   1.696  SIR: 241.043  ISR:   2.950  SAR:   0.068  \n",
      "\n"
     ]
    },
    {
     "name": "stderr",
     "output_type": "stream",
     "text": [
      " 18%|█████████████████████████████████▋                                                                                                                                                         | 9/50 [02:12<10:02, 14.68s/it]"
     ]
    },
    {
     "name": "stdout",
     "output_type": "stream",
     "text": [
      "drums           ==> SDR:   4.024  SIR: 163.676  ISR:   5.648  SAR:   4.269  \n",
      "bass            ==> SDR:   4.024  SIR: 163.676  ISR:   5.648  SAR:   4.269  \n",
      "\n"
     ]
    },
    {
     "name": "stderr",
     "output_type": "stream",
     "text": [
      " 20%|█████████████████████████████████████▏                                                                                                                                                    | 10/50 [02:27<09:46, 14.67s/it]"
     ]
    },
    {
     "name": "stdout",
     "output_type": "stream",
     "text": [
      "drums           ==> SDR: -10.082  SIR: 174.936  ISR:   1.124  SAR: -24.827  \n",
      "bass            ==> SDR: -10.082  SIR: 174.936  ISR:   1.124  SAR: -24.827  \n",
      "\n"
     ]
    },
    {
     "name": "stderr",
     "output_type": "stream",
     "text": [
      " 22%|████████████████████████████████████████▉                                                                                                                                                 | 11/50 [02:41<09:31, 14.67s/it]"
     ]
    },
    {
     "name": "stdout",
     "output_type": "stream",
     "text": [
      "drums           ==> SDR:   0.599  SIR: 211.652  ISR:   0.961  SAR:  -1.797  \n",
      "bass            ==> SDR:   0.599  SIR: 211.652  ISR:   0.961  SAR:  -1.797  \n",
      "\n"
     ]
    },
    {
     "name": "stderr",
     "output_type": "stream",
     "text": [
      " 24%|████████████████████████████████████████████▋                                                                                                                                             | 12/50 [02:56<09:16, 14.65s/it]"
     ]
    },
    {
     "name": "stdout",
     "output_type": "stream",
     "text": [
      "drums           ==> SDR:   4.559  SIR: 221.557  ISR:   7.270  SAR:   3.970  \n",
      "bass            ==> SDR:   4.559  SIR: 221.557  ISR:   7.270  SAR:   3.970  \n",
      "\n"
     ]
    },
    {
     "name": "stderr",
     "output_type": "stream",
     "text": [
      " 26%|████████████████████████████████████████████████▎                                                                                                                                         | 13/50 [03:10<08:52, 14.38s/it]"
     ]
    },
    {
     "name": "stdout",
     "output_type": "stream",
     "text": [
      "drums           ==> SDR:   0.003  SIR:  88.980  ISR:   0.164  SAR:  -4.164  \n",
      "bass            ==> SDR:   0.003  SIR:  88.980  ISR:   0.164  SAR:  -4.164  \n",
      "\n"
     ]
    },
    {
     "name": "stderr",
     "output_type": "stream",
     "text": [
      " 28%|████████████████████████████████████████████████████                                                                                                                                      | 14/50 [03:24<08:39, 14.42s/it]"
     ]
    },
    {
     "name": "stdout",
     "output_type": "stream",
     "text": [
      "drums           ==> SDR:   3.846  SIR: 208.649  ISR:   5.937  SAR:   3.000  \n",
      "bass            ==> SDR:   3.846  SIR: 208.649  ISR:   5.937  SAR:   3.000  \n",
      "\n"
     ]
    },
    {
     "name": "stderr",
     "output_type": "stream",
     "text": [
      " 30%|███████████████████████████████████████████████████████▊                                                                                                                                  | 15/50 [03:39<08:26, 14.48s/it]"
     ]
    },
    {
     "name": "stdout",
     "output_type": "stream",
     "text": [
      "drums           ==> SDR:   2.615  SIR: 204.715  ISR:   3.857  SAR:   0.711  \n",
      "bass            ==> SDR:   2.615  SIR: 204.715  ISR:   3.857  SAR:   0.711  \n",
      "\n"
     ]
    },
    {
     "name": "stderr",
     "output_type": "stream",
     "text": [
      " 32%|███████████████████████████████████████████████████████████▌                                                                                                                              | 16/50 [03:54<08:17, 14.62s/it]"
     ]
    },
    {
     "name": "stdout",
     "output_type": "stream",
     "text": [
      "drums           ==> SDR:   1.016  SIR: 214.232  ISR:   1.461  SAR:  -3.301  \n",
      "bass            ==> SDR:   1.016  SIR: 214.232  ISR:   1.461  SAR:  -3.301  \n",
      "\n"
     ]
    },
    {
     "name": "stderr",
     "output_type": "stream",
     "text": [
      " 34%|███████████████████████████████████████████████████████████████▏                                                                                                                          | 17/50 [04:08<08:01, 14.58s/it]"
     ]
    },
    {
     "name": "stdout",
     "output_type": "stream",
     "text": [
      "drums           ==> SDR:   0.557  SIR: 219.524  ISR:   1.081  SAR:  -5.880  \n",
      "bass            ==> SDR:   0.557  SIR: 219.524  ISR:   1.081  SAR:  -5.880  \n",
      "\n"
     ]
    },
    {
     "name": "stderr",
     "output_type": "stream",
     "text": [
      " 36%|██████████████████████████████████████████████████████████████████▉                                                                                                                       | 18/50 [04:23<07:53, 14.79s/it]"
     ]
    },
    {
     "name": "stdout",
     "output_type": "stream",
     "text": [
      "drums           ==> SDR:   2.385  SIR: 198.037  ISR:   3.203  SAR:   1.965  \n",
      "bass            ==> SDR:   2.385  SIR: 198.037  ISR:   3.203  SAR:   1.965  \n",
      "\n"
     ]
    },
    {
     "name": "stderr",
     "output_type": "stream",
     "text": [
      " 38%|██████████████████████████████████████████████████████████████████████▋                                                                                                                   | 19/50 [04:38<07:36, 14.72s/it]"
     ]
    },
    {
     "name": "stdout",
     "output_type": "stream",
     "text": [
      "drums           ==> SDR:   0.189  SIR: 207.615  ISR:   0.446  SAR:  -2.596  \n",
      "bass            ==> SDR:   0.189  SIR: 207.615  ISR:   0.446  SAR:  -2.596  \n",
      "\n"
     ]
    },
    {
     "name": "stderr",
     "output_type": "stream",
     "text": [
      " 40%|██████████████████████████████████████████████████████████████████████████▍                                                                                                               | 20/50 [04:53<07:24, 14.82s/it]"
     ]
    },
    {
     "name": "stdout",
     "output_type": "stream",
     "text": [
      "drums           ==> SDR:   1.031  SIR: 214.724  ISR:   1.351  SAR:   0.575  \n",
      "bass            ==> SDR:   1.031  SIR: 214.724  ISR:   1.351  SAR:   0.575  \n",
      "\n"
     ]
    },
    {
     "name": "stderr",
     "output_type": "stream",
     "text": [
      " 42%|██████████████████████████████████████████████████████████████████████████████                                                                                                            | 21/50 [05:07<07:06, 14.70s/it]"
     ]
    },
    {
     "name": "stdout",
     "output_type": "stream",
     "text": [
      "drums           ==> SDR:   5.043  SIR: 186.691  ISR:   6.385  SAR:   5.520  \n",
      "bass            ==> SDR:   5.043  SIR: 186.691  ISR:   6.385  SAR:   5.520  \n",
      "\n"
     ]
    },
    {
     "name": "stderr",
     "output_type": "stream",
     "text": [
      " 44%|█████████████████████████████████████████████████████████████████████████████████▊                                                                                                        | 22/50 [05:22<06:53, 14.77s/it]"
     ]
    },
    {
     "name": "stdout",
     "output_type": "stream",
     "text": [
      "drums           ==> SDR:  -5.120  SIR: 270.839  ISR:  -1.143  SAR: -14.496  \n",
      "bass            ==> SDR:  -5.120  SIR: 270.839  ISR:  -1.143  SAR: -14.496  \n",
      "\n"
     ]
    },
    {
     "name": "stderr",
     "output_type": "stream",
     "text": [
      " 46%|█████████████████████████████████████████████████████████████████████████████████████▌                                                                                                    | 23/50 [05:36<06:33, 14.58s/it]"
     ]
    },
    {
     "name": "stdout",
     "output_type": "stream",
     "text": [
      "drums           ==> SDR:   2.362  SIR: 167.365  ISR:   3.977  SAR:  -0.074  \n",
      "bass            ==> SDR:   2.362  SIR: 167.365  ISR:   3.977  SAR:  -0.074  \n",
      "\n"
     ]
    },
    {
     "name": "stderr",
     "output_type": "stream",
     "text": [
      " 48%|█████████████████████████████████████████████████████████████████████████████████████████▎                                                                                                | 24/50 [05:51<06:17, 14.53s/it]"
     ]
    },
    {
     "name": "stdout",
     "output_type": "stream",
     "text": [
      "drums           ==> SDR:   0.776  SIR: 124.600  ISR:   1.673  SAR:  -0.383  \n",
      "bass            ==> SDR:   0.776  SIR: 124.600  ISR:   1.673  SAR:  -0.383  \n",
      "\n"
     ]
    },
    {
     "name": "stderr",
     "output_type": "stream",
     "text": [
      " 50%|█████████████████████████████████████████████████████████████████████████████████████████████                                                                                             | 25/50 [06:05<06:03, 14.54s/it]"
     ]
    },
    {
     "name": "stdout",
     "output_type": "stream",
     "text": [
      "drums           ==> SDR:   0.013  SIR: 219.648  ISR:   0.181  SAR:  -1.912  \n",
      "bass            ==> SDR:   0.013  SIR: 219.648  ISR:   0.181  SAR:  -1.912  \n",
      "\n"
     ]
    },
    {
     "name": "stderr",
     "output_type": "stream",
     "text": [
      " 52%|████████████████████████████████████████████████████████████████████████████████████████████████▋                                                                                         | 26/50 [06:20<05:46, 14.43s/it]"
     ]
    },
    {
     "name": "stdout",
     "output_type": "stream",
     "text": [
      "drums           ==> SDR:   3.601  SIR: 180.583  ISR:   4.059  SAR:   4.051  \n",
      "bass            ==> SDR:   3.601  SIR: 180.583  ISR:   4.059  SAR:   4.051  \n",
      "\n"
     ]
    },
    {
     "name": "stderr",
     "output_type": "stream",
     "text": [
      " 54%|████████████████████████████████████████████████████████████████████████████████████████████████████▍                                                                                     | 27/50 [06:34<05:30, 14.39s/it]"
     ]
    },
    {
     "name": "stdout",
     "output_type": "stream",
     "text": [
      "drums           ==> SDR:   6.208  SIR: 182.228  ISR:   9.294  SAR:   5.731  \n",
      "bass            ==> SDR:   6.208  SIR: 182.228  ISR:   9.294  SAR:   5.731  \n",
      "\n"
     ]
    },
    {
     "name": "stderr",
     "output_type": "stream",
     "text": [
      " 56%|████████████████████████████████████████████████████████████████████████████████████████████████████████▏                                                                                 | 28/50 [06:48<05:17, 14.43s/it]"
     ]
    },
    {
     "name": "stdout",
     "output_type": "stream",
     "text": [
      "drums           ==> SDR:   3.367  SIR: 197.860  ISR:   3.916  SAR:   3.286  \n",
      "bass            ==> SDR:   3.367  SIR: 197.860  ISR:   3.916  SAR:   3.286  \n",
      "\n"
     ]
    },
    {
     "name": "stderr",
     "output_type": "stream",
     "text": [
      " 58%|███████████████████████████████████████████████████████████████████████████████████████████████████████████▉                                                                              | 29/50 [07:03<05:06, 14.58s/it]"
     ]
    },
    {
     "name": "stdout",
     "output_type": "stream",
     "text": [
      "drums           ==> SDR:   2.014  SIR: 194.638  ISR:   2.266  SAR:   1.337  \n",
      "bass            ==> SDR:   2.014  SIR: 194.638  ISR:   2.266  SAR:   1.337  \n",
      "\n"
     ]
    },
    {
     "name": "stderr",
     "output_type": "stream",
     "text": [
      " 60%|███████████████████████████████████████████████████████████████████████████████████████████████████████████████▌                                                                          | 30/50 [07:18<04:50, 14.55s/it]"
     ]
    },
    {
     "name": "stdout",
     "output_type": "stream",
     "text": [
      "drums           ==> SDR:   0.358  SIR: 200.202  ISR:   0.447  SAR:  -2.435  \n",
      "bass            ==> SDR:   0.358  SIR: 200.202  ISR:   0.447  SAR:  -2.435  \n",
      "\n"
     ]
    },
    {
     "name": "stderr",
     "output_type": "stream",
     "text": [
      " 62%|███████████████████████████████████████████████████████████████████████████████████████████████████████████████████▎                                                                      | 31/50 [07:33<04:37, 14.62s/it]"
     ]
    },
    {
     "name": "stdout",
     "output_type": "stream",
     "text": [
      "drums           ==> SDR:   1.461  SIR: 193.719  ISR:   5.018  SAR:   0.098  \n",
      "bass            ==> SDR:   1.461  SIR: 193.719  ISR:   5.018  SAR:   0.098  \n",
      "\n"
     ]
    },
    {
     "name": "stderr",
     "output_type": "stream",
     "text": [
      " 64%|███████████████████████████████████████████████████████████████████████████████████████████████████████████████████████                                                                   | 32/50 [07:47<04:20, 14.47s/it]"
     ]
    },
    {
     "name": "stdout",
     "output_type": "stream",
     "text": [
      "drums           ==> SDR:   0.001  SIR: 182.382  ISR:   0.073  SAR:  -3.227  \n",
      "bass            ==> SDR:   0.001  SIR: 182.382  ISR:   0.073  SAR:  -3.227  \n",
      "\n"
     ]
    },
    {
     "name": "stderr",
     "output_type": "stream",
     "text": [
      " 66%|██████████████████████████████████████████████████████████████████████████████████████████████████████████████████████████▊                                                               | 33/50 [08:01<04:06, 14.51s/it]"
     ]
    },
    {
     "name": "stdout",
     "output_type": "stream",
     "text": [
      "drums           ==> SDR:   0.238  SIR: 218.737  ISR:   1.196  SAR:  -1.487  \n",
      "bass            ==> SDR:   0.238  SIR: 218.737  ISR:   1.196  SAR:  -1.487  \n",
      "\n"
     ]
    },
    {
     "name": "stderr",
     "output_type": "stream",
     "text": [
      " 68%|██████████████████████████████████████████████████████████████████████████████████████████████████████████████████████████████▍                                                           | 34/50 [08:16<03:52, 14.54s/it]"
     ]
    },
    {
     "name": "stdout",
     "output_type": "stream",
     "text": [
      "drums           ==> SDR:   0.980  SIR: 252.856  ISR:   1.494  SAR:  -1.282  \n",
      "bass            ==> SDR:   0.980  SIR: 252.856  ISR:   1.494  SAR:  -1.282  \n",
      "\n"
     ]
    },
    {
     "name": "stderr",
     "output_type": "stream",
     "text": [
      " 70%|██████████████████████████████████████████████████████████████████████████████████████████████████████████████████████████████████▏                                                       | 35/50 [08:31<03:38, 14.56s/it]"
     ]
    },
    {
     "name": "stdout",
     "output_type": "stream",
     "text": [
      "drums           ==> SDR:   1.208  SIR: 215.198  ISR:   1.378  SAR:   0.069  \n",
      "bass            ==> SDR:   1.208  SIR: 215.198  ISR:   1.378  SAR:   0.069  \n",
      "\n"
     ]
    },
    {
     "name": "stderr",
     "output_type": "stream",
     "text": [
      " 72%|█████████████████████████████████████████████████████████████████████████████████████████████████████████████████████████████████████▉                                                    | 36/50 [08:45<03:23, 14.56s/it]"
     ]
    },
    {
     "name": "stdout",
     "output_type": "stream",
     "text": [
      "drums           ==> SDR:   0.602  SIR: 205.726  ISR:   2.574  SAR:  -2.769  \n",
      "bass            ==> SDR:   0.602  SIR: 205.726  ISR:   2.574  SAR:  -2.769  \n",
      "\n"
     ]
    },
    {
     "name": "stderr",
     "output_type": "stream",
     "text": [
      " 74%|█████████████████████████████████████████████████████████████████████████████████████████████████████████████████████████████████████████▋                                                | 37/50 [09:00<03:10, 14.63s/it]"
     ]
    },
    {
     "name": "stdout",
     "output_type": "stream",
     "text": [
      "drums           ==> SDR:   1.092  SIR: 204.289  ISR:   2.952  SAR:  -3.117  \n",
      "bass            ==> SDR:   1.092  SIR: 204.289  ISR:   2.952  SAR:  -3.117  \n",
      "\n"
     ]
    },
    {
     "name": "stderr",
     "output_type": "stream",
     "text": [
      " 76%|█████████████████████████████████████████████████████████████████████████████████████████████████████████████████████████████████████████████▎                                            | 38/50 [09:15<02:55, 14.66s/it]"
     ]
    },
    {
     "name": "stdout",
     "output_type": "stream",
     "text": [
      "drums           ==> SDR:   1.134  SIR: 220.220  ISR:   1.373  SAR:  -1.195  \n",
      "bass            ==> SDR:   1.134  SIR: 220.220  ISR:   1.373  SAR:  -1.195  \n",
      "\n"
     ]
    },
    {
     "name": "stderr",
     "output_type": "stream",
     "text": [
      " 78%|█████████████████████████████████████████████████████████████████████████████████████████████████████████████████████████████████████████████████                                         | 39/50 [09:29<02:41, 14.64s/it]"
     ]
    },
    {
     "name": "stdout",
     "output_type": "stream",
     "text": [
      "drums           ==> SDR:   0.211  SIR: 219.003  ISR:   0.662  SAR:  -1.695  \n",
      "bass            ==> SDR:   0.211  SIR: 219.003  ISR:   0.662  SAR:  -1.695  \n",
      "\n"
     ]
    },
    {
     "name": "stderr",
     "output_type": "stream",
     "text": [
      " 80%|████████████████████████████████████████████████████████████████████████████████████████████████████████████████████████████████████████████████████▊                                     | 40/50 [09:44<02:27, 14.74s/it]"
     ]
    },
    {
     "name": "stdout",
     "output_type": "stream",
     "text": [
      "drums           ==> SDR:   0.024  SIR: 176.006  ISR:   0.060  SAR: -14.259  \n",
      "bass            ==> SDR:   0.024  SIR: 176.006  ISR:   0.060  SAR: -14.259  \n",
      "\n"
     ]
    },
    {
     "name": "stderr",
     "output_type": "stream",
     "text": [
      " 82%|████████████████████████████████████████████████████████████████████████████████████████████████████████████████████████████████████████████████████████▌                                 | 41/50 [09:59<02:12, 14.72s/it]"
     ]
    },
    {
     "name": "stdout",
     "output_type": "stream",
     "text": [
      "drums           ==> SDR:   0.051  SIR: 176.195  ISR:   0.582  SAR:  -6.972  \n",
      "bass            ==> SDR:   0.051  SIR: 176.195  ISR:   0.582  SAR:  -6.972  \n",
      "\n"
     ]
    },
    {
     "name": "stderr",
     "output_type": "stream",
     "text": [
      " 84%|████████████████████████████████████████████████████████████████████████████████████████████████████████████████████████████████████████████████████████████▏                             | 42/50 [10:14<01:58, 14.82s/it]"
     ]
    },
    {
     "name": "stdout",
     "output_type": "stream",
     "text": [
      "drums           ==> SDR:   3.887  SIR: 123.498  ISR:   5.301  SAR:   3.735  \n",
      "bass            ==> SDR:   3.887  SIR: 123.498  ISR:   5.301  SAR:   3.735  \n",
      "\n"
     ]
    },
    {
     "name": "stderr",
     "output_type": "stream",
     "text": [
      " 86%|███████████████████████████████████████████████████████████████████████████████████████████████████████████████████████████████████████████████████████████████▉                          | 43/50 [10:28<01:42, 14.69s/it]"
     ]
    },
    {
     "name": "stdout",
     "output_type": "stream",
     "text": [
      "drums           ==> SDR:   0.047  SIR: 164.787  ISR:   0.391  SAR:  -1.246  \n",
      "bass            ==> SDR:   0.047  SIR: 164.787  ISR:   0.391  SAR:  -1.246  \n",
      "\n"
     ]
    },
    {
     "name": "stderr",
     "output_type": "stream",
     "text": [
      " 88%|███████████████████████████████████████████████████████████████████████████████████████████████████████████████████████████████████████████████████████████████████▋                      | 44/50 [10:42<01:26, 14.44s/it]"
     ]
    },
    {
     "name": "stdout",
     "output_type": "stream",
     "text": [
      "drums           ==> SDR:   0.492  SIR: 220.929  ISR:   1.107  SAR:  -0.804  \n",
      "bass            ==> SDR:   0.492  SIR: 220.929  ISR:   1.107  SAR:  -0.804  \n",
      "\n"
     ]
    },
    {
     "name": "stderr",
     "output_type": "stream",
     "text": [
      " 90%|███████████████████████████████████████████████████████████████████████████████████████████████████████████████████████████████████████████████████████████████████████▍                  | 45/50 [10:57<01:12, 14.47s/it]"
     ]
    },
    {
     "name": "stdout",
     "output_type": "stream",
     "text": [
      "drums           ==> SDR:   0.021  SIR: 198.625  ISR:   0.083  SAR:  -5.603  \n",
      "bass            ==> SDR:   0.021  SIR: 198.625  ISR:   0.083  SAR:  -5.603  \n",
      "\n"
     ]
    },
    {
     "name": "stderr",
     "output_type": "stream",
     "text": [
      " 92%|███████████████████████████████████████████████████████████████████████████████████████████████████████████████████████████████████████████████████████████████████████████               | 46/50 [11:11<00:58, 14.51s/it]"
     ]
    },
    {
     "name": "stdout",
     "output_type": "stream",
     "text": [
      "drums           ==> SDR:   1.952  SIR: 204.801  ISR:   3.370  SAR:  -0.416  \n",
      "bass            ==> SDR:   1.952  SIR: 204.801  ISR:   3.370  SAR:  -0.416  \n",
      "\n"
     ]
    },
    {
     "name": "stderr",
     "output_type": "stream",
     "text": [
      " 94%|██████████████████████████████████████████████████████████████████████████████████████████████████████████████████████████████████████████████████████████████████████████████▊           | 47/50 [11:26<00:43, 14.45s/it]"
     ]
    },
    {
     "name": "stdout",
     "output_type": "stream",
     "text": [
      "drums           ==> SDR:   0.500  SIR: 174.258  ISR:   2.361  SAR:   0.247  \n",
      "bass            ==> SDR:   0.500  SIR: 174.258  ISR:   2.361  SAR:   0.247  \n",
      "\n"
     ]
    },
    {
     "name": "stderr",
     "output_type": "stream",
     "text": [
      " 96%|██████████████████████████████████████████████████████████████████████████████████████████████████████████████████████████████████████████████████████████████████████████████████▌       | 48/50 [11:40<00:28, 14.47s/it]"
     ]
    },
    {
     "name": "stdout",
     "output_type": "stream",
     "text": [
      "drums           ==> SDR:   1.857  SIR: 227.255  ISR:   3.247  SAR:  -1.333  \n",
      "bass            ==> SDR:   1.857  SIR: 227.255  ISR:   3.247  SAR:  -1.333  \n",
      "\n"
     ]
    },
    {
     "name": "stderr",
     "output_type": "stream",
     "text": [
      " 98%|██████████████████████████████████████████████████████████████████████████████████████████████████████████████████████████████████████████████████████████████████████████████████████▎   | 49/50 [11:55<00:14, 14.54s/it]"
     ]
    },
    {
     "name": "stdout",
     "output_type": "stream",
     "text": [
      "drums           ==> SDR:   6.476  SIR: 211.983  ISR:   9.925  SAR:   6.751  \n",
      "bass            ==> SDR:   6.476  SIR: 211.983  ISR:   9.925  SAR:   6.751  \n",
      "\n"
     ]
    },
    {
     "name": "stderr",
     "output_type": "stream",
     "text": [
      "100%|██████████████████████████████████████████████████████████████████████████████████████████████████████████████████████████████████████████████████████████████████████████████████████████| 50/50 [12:09<00:00, 14.60s/it]"
     ]
    },
    {
     "name": "stdout",
     "output_type": "stream",
     "text": [
      "drums           ==> SDR:   2.254  SIR: 213.654  ISR:   3.233  SAR:   0.048  \n",
      "bass            ==> SDR:   2.254  SIR: 213.654  ISR:   3.233  SAR:   0.048  \n",
      "\n"
     ]
    },
    {
     "name": "stderr",
     "output_type": "stream",
     "text": [
      "\n",
      "C:\\Python311\\Lib\\site-packages\\pytorch_lightning\\utilities\\migration\\utils.py:55: The loaded checkpoint was produced with Lightning v2.2.1, which is newer than your current Lightning version: v2.1.2\n",
      "  2%|███▋                                                                                                                                                                                       | 1/50 [00:15<12:32, 15.37s/it]"
     ]
    },
    {
     "name": "stdout",
     "output_type": "stream",
     "text": [
      "drums           ==> SDR:  -0.004  SIR: 190.342  ISR:   0.000  SAR: -33.106  \n",
      "bass            ==> SDR:  -0.004  SIR: 190.342  ISR:   0.000  SAR: -33.106  \n",
      "\n"
     ]
    },
    {
     "name": "stderr",
     "output_type": "stream",
     "text": [
      "  4%|███████▍                                                                                                                                                                                   | 2/50 [00:29<11:49, 14.79s/it]"
     ]
    },
    {
     "name": "stdout",
     "output_type": "stream",
     "text": [
      "drums           ==> SDR:  -0.013  SIR: 164.746  ISR:   0.004  SAR: -22.769  \n",
      "bass            ==> SDR:  -0.013  SIR: 164.746  ISR:   0.004  SAR: -22.769  \n",
      "\n"
     ]
    },
    {
     "name": "stderr",
     "output_type": "stream",
     "text": [
      "  6%|███████████▏                                                                                                                                                                               | 3/50 [00:44<11:29, 14.66s/it]"
     ]
    },
    {
     "name": "stdout",
     "output_type": "stream",
     "text": [
      "drums           ==> SDR:  -0.012  SIR: 227.067  ISR:   0.002  SAR: -23.800  \n",
      "bass            ==> SDR:  -0.012  SIR: 227.067  ISR:   0.002  SAR: -23.800  \n",
      "\n"
     ]
    },
    {
     "name": "stderr",
     "output_type": "stream",
     "text": [
      "  8%|██████████████▉                                                                                                                                                                            | 4/50 [00:58<11:11, 14.60s/it]"
     ]
    },
    {
     "name": "stdout",
     "output_type": "stream",
     "text": [
      "drums           ==> SDR:  -0.009  SIR: 225.207  ISR:   0.001  SAR: -28.584  \n",
      "bass            ==> SDR:  -0.009  SIR: 225.207  ISR:   0.001  SAR: -28.584  \n",
      "\n"
     ]
    },
    {
     "name": "stderr",
     "output_type": "stream",
     "text": [
      " 10%|██████████████████▋                                                                                                                                                                        | 5/50 [01:13<11:07, 14.82s/it]"
     ]
    },
    {
     "name": "stdout",
     "output_type": "stream",
     "text": [
      "drums           ==> SDR:  -0.009  SIR: 168.569  ISR:  -0.000  SAR: -33.486  \n",
      "bass            ==> SDR:  -0.009  SIR: 168.569  ISR:  -0.000  SAR: -33.486  \n",
      "\n"
     ]
    },
    {
     "name": "stderr",
     "output_type": "stream",
     "text": [
      " 12%|██████████████████████▍                                                                                                                                                                    | 6/50 [01:28<10:46, 14.69s/it]"
     ]
    },
    {
     "name": "stdout",
     "output_type": "stream",
     "text": [
      "drums           ==> SDR:  -0.011  SIR: 227.564  ISR:   0.002  SAR: -35.852  \n",
      "bass            ==> SDR:  -0.011  SIR: 227.564  ISR:   0.002  SAR: -35.852  \n",
      "\n"
     ]
    },
    {
     "name": "stderr",
     "output_type": "stream",
     "text": [
      " 14%|██████████████████████████▏                                                                                                                                                                | 7/50 [01:43<10:33, 14.73s/it]"
     ]
    },
    {
     "name": "stdout",
     "output_type": "stream",
     "text": [
      "drums           ==> SDR:  -0.015  SIR: 212.620  ISR:  -0.004  SAR: -29.319  \n",
      "bass            ==> SDR:  -0.015  SIR: 212.620  ISR:  -0.004  SAR: -29.319  \n",
      "\n"
     ]
    },
    {
     "name": "stderr",
     "output_type": "stream",
     "text": [
      " 16%|█████████████████████████████▉                                                                                                                                                             | 8/50 [01:57<10:14, 14.64s/it]"
     ]
    },
    {
     "name": "stdout",
     "output_type": "stream",
     "text": [
      "drums           ==> SDR:  -0.024  SIR: 228.220  ISR:   0.001  SAR: -39.381  \n",
      "bass            ==> SDR:  -0.024  SIR: 228.220  ISR:   0.001  SAR: -39.381  \n",
      "\n"
     ]
    },
    {
     "name": "stderr",
     "output_type": "stream",
     "text": [
      " 18%|█████████████████████████████████▋                                                                                                                                                         | 9/50 [02:12<10:04, 14.73s/it]"
     ]
    },
    {
     "name": "stdout",
     "output_type": "stream",
     "text": [
      "drums           ==> SDR:  -0.006  SIR: 135.617  ISR:  -0.001  SAR: -26.716  \n",
      "bass            ==> SDR:  -0.006  SIR: 135.617  ISR:  -0.001  SAR: -26.716  \n",
      "\n"
     ]
    },
    {
     "name": "stderr",
     "output_type": "stream",
     "text": [
      " 20%|█████████████████████████████████████▏                                                                                                                                                    | 10/50 [02:27<09:47, 14.68s/it]"
     ]
    },
    {
     "name": "stdout",
     "output_type": "stream",
     "text": [
      "drums           ==> SDR: -10.046  SIR: 195.478  ISR:   0.001  SAR: -46.352  \n",
      "bass            ==> SDR: -10.046  SIR: 195.478  ISR:   0.001  SAR: -46.352  \n",
      "\n"
     ]
    },
    {
     "name": "stderr",
     "output_type": "stream",
     "text": [
      " 22%|████████████████████████████████████████▉                                                                                                                                                 | 11/50 [02:42<09:39, 14.86s/it]"
     ]
    },
    {
     "name": "stdout",
     "output_type": "stream",
     "text": [
      "drums           ==> SDR:  -0.010  SIR: 213.797  ISR:  -0.005  SAR: -26.969  \n",
      "bass            ==> SDR:  -0.010  SIR: 213.797  ISR:  -0.005  SAR: -26.969  \n",
      "\n"
     ]
    },
    {
     "name": "stderr",
     "output_type": "stream",
     "text": [
      " 24%|████████████████████████████████████████████▋                                                                                                                                             | 12/50 [02:57<09:21, 14.77s/it]"
     ]
    },
    {
     "name": "stdout",
     "output_type": "stream",
     "text": [
      "drums           ==> SDR:   0.038  SIR: 215.399  ISR:   0.039  SAR:  -2.782  \n",
      "bass            ==> SDR:   0.038  SIR: 215.399  ISR:   0.039  SAR:  -2.782  \n",
      "\n"
     ]
    },
    {
     "name": "stderr",
     "output_type": "stream",
     "text": [
      " 26%|████████████████████████████████████████████████▎                                                                                                                                         | 13/50 [03:11<08:57, 14.53s/it]"
     ]
    },
    {
     "name": "stdout",
     "output_type": "stream",
     "text": [
      "drums           ==> SDR:  -0.008  SIR:  68.646  ISR:  -0.004  SAR: -21.421  \n",
      "bass            ==> SDR:  -0.008  SIR:  68.646  ISR:  -0.004  SAR: -21.421  \n",
      "\n"
     ]
    },
    {
     "name": "stderr",
     "output_type": "stream",
     "text": [
      " 28%|████████████████████████████████████████████████████                                                                                                                                      | 14/50 [03:25<08:44, 14.57s/it]"
     ]
    },
    {
     "name": "stdout",
     "output_type": "stream",
     "text": [
      "drums           ==> SDR:  -0.001  SIR: 198.889  ISR:   0.003  SAR: -28.680  \n",
      "bass            ==> SDR:  -0.001  SIR: 198.889  ISR:   0.003  SAR: -28.680  \n",
      "\n"
     ]
    },
    {
     "name": "stderr",
     "output_type": "stream",
     "text": [
      " 30%|███████████████████████████████████████████████████████▊                                                                                                                                  | 15/50 [03:40<08:29, 14.55s/it]"
     ]
    },
    {
     "name": "stdout",
     "output_type": "stream",
     "text": [
      "drums           ==> SDR:   0.002  SIR: 216.330  ISR:   0.005  SAR: -21.457  \n",
      "bass            ==> SDR:   0.002  SIR: 216.330  ISR:   0.005  SAR: -21.457  \n",
      "\n"
     ]
    },
    {
     "name": "stderr",
     "output_type": "stream",
     "text": [
      " 32%|███████████████████████████████████████████████████████████▌                                                                                                                              | 16/50 [03:54<08:14, 14.54s/it]"
     ]
    },
    {
     "name": "stdout",
     "output_type": "stream",
     "text": [
      "drums           ==> SDR:  -0.002  SIR: 190.317  ISR:   0.003  SAR: -28.360  \n",
      "bass            ==> SDR:  -0.002  SIR: 190.317  ISR:   0.003  SAR: -28.360  \n",
      "\n"
     ]
    },
    {
     "name": "stderr",
     "output_type": "stream",
     "text": [
      " 34%|███████████████████████████████████████████████████████████████▏                                                                                                                          | 17/50 [04:09<08:00, 14.55s/it]"
     ]
    },
    {
     "name": "stdout",
     "output_type": "stream",
     "text": [
      "drums           ==> SDR:  -0.008  SIR: 206.256  ISR:   0.002  SAR: -39.830  \n",
      "bass            ==> SDR:  -0.008  SIR: 206.256  ISR:   0.002  SAR: -39.830  \n",
      "\n"
     ]
    },
    {
     "name": "stderr",
     "output_type": "stream",
     "text": [
      " 36%|██████████████████████████████████████████████████████████████████▉                                                                                                                       | 18/50 [04:24<07:51, 14.73s/it]"
     ]
    },
    {
     "name": "stdout",
     "output_type": "stream",
     "text": [
      "drums           ==> SDR:  -0.000  SIR: 177.597  ISR:   0.008  SAR: -25.773  \n",
      "bass            ==> SDR:  -0.000  SIR: 177.597  ISR:   0.008  SAR: -25.773  \n",
      "\n"
     ]
    },
    {
     "name": "stderr",
     "output_type": "stream",
     "text": [
      " 38%|██████████████████████████████████████████████████████████████████████▋                                                                                                                   | 19/50 [04:38<07:34, 14.67s/it]"
     ]
    },
    {
     "name": "stdout",
     "output_type": "stream",
     "text": [
      "drums           ==> SDR:  -0.006  SIR: 185.849  ISR:  -0.000  SAR: -30.211  \n",
      "bass            ==> SDR:  -0.006  SIR: 185.849  ISR:  -0.000  SAR: -30.211  \n",
      "\n"
     ]
    },
    {
     "name": "stderr",
     "output_type": "stream",
     "text": [
      " 40%|██████████████████████████████████████████████████████████████████████████▍                                                                                                               | 20/50 [04:53<07:18, 14.62s/it]"
     ]
    },
    {
     "name": "stdout",
     "output_type": "stream",
     "text": [
      "drums           ==> SDR:  -0.007  SIR: 203.260  ISR:  -0.002  SAR: -23.452  \n",
      "bass            ==> SDR:  -0.007  SIR: 203.260  ISR:  -0.002  SAR: -23.452  \n",
      "\n"
     ]
    },
    {
     "name": "stderr",
     "output_type": "stream",
     "text": [
      " 42%|██████████████████████████████████████████████████████████████████████████████                                                                                                            | 21/50 [05:07<07:01, 14.54s/it]"
     ]
    },
    {
     "name": "stdout",
     "output_type": "stream",
     "text": [
      "drums           ==> SDR:  -0.004  SIR: 166.447  ISR:   0.003  SAR: -23.956  \n",
      "bass            ==> SDR:  -0.004  SIR: 166.447  ISR:   0.003  SAR: -23.956  \n",
      "\n"
     ]
    },
    {
     "name": "stderr",
     "output_type": "stream",
     "text": [
      " 44%|█████████████████████████████████████████████████████████████████████████████████▊                                                                                                        | 22/50 [05:22<06:49, 14.64s/it]"
     ]
    },
    {
     "name": "stdout",
     "output_type": "stream",
     "text": [
      "drums           ==> SDR:  -3.714  SIR: 270.290  ISR:  -1.109  SAR: -15.140  \n",
      "bass            ==> SDR:  -3.714  SIR: 270.290  ISR:  -1.109  SAR: -15.140  \n",
      "\n"
     ]
    },
    {
     "name": "stderr",
     "output_type": "stream",
     "text": [
      " 46%|█████████████████████████████████████████████████████████████████████████████████████▌                                                                                                    | 23/50 [05:36<06:32, 14.52s/it]"
     ]
    },
    {
     "name": "stdout",
     "output_type": "stream",
     "text": [
      "drums           ==> SDR:  -0.005  SIR: 136.589  ISR:   0.005  SAR: -22.740  \n",
      "bass            ==> SDR:  -0.005  SIR: 136.589  ISR:   0.005  SAR: -22.740  \n",
      "\n"
     ]
    },
    {
     "name": "stderr",
     "output_type": "stream",
     "text": [
      " 48%|█████████████████████████████████████████████████████████████████████████████████████████▎                                                                                                | 24/50 [05:51<06:16, 14.48s/it]"
     ]
    },
    {
     "name": "stdout",
     "output_type": "stream",
     "text": [
      "drums           ==> SDR:  -0.004  SIR: 106.869  ISR:  -0.001  SAR: -29.455  \n",
      "bass            ==> SDR:  -0.004  SIR: 106.869  ISR:  -0.001  SAR: -29.455  \n",
      "\n"
     ]
    },
    {
     "name": "stderr",
     "output_type": "stream",
     "text": [
      " 50%|█████████████████████████████████████████████████████████████████████████████████████████████                                                                                             | 25/50 [06:06<06:04, 14.59s/it]"
     ]
    },
    {
     "name": "stdout",
     "output_type": "stream",
     "text": [
      "drums           ==> SDR:  -0.050  SIR: 217.650  ISR:  -0.005  SAR: -25.121  \n",
      "bass            ==> SDR:  -0.050  SIR: 217.650  ISR:  -0.005  SAR: -25.121  \n",
      "\n"
     ]
    },
    {
     "name": "stderr",
     "output_type": "stream",
     "text": [
      " 52%|████████████████████████████████████████████████████████████████████████████████████████████████▋                                                                                         | 26/50 [06:20<05:47, 14.47s/it]"
     ]
    },
    {
     "name": "stdout",
     "output_type": "stream",
     "text": [
      "drums           ==> SDR:  -0.004  SIR: 161.145  ISR:  -0.001  SAR: -13.100  \n",
      "bass            ==> SDR:  -0.004  SIR: 161.145  ISR:  -0.001  SAR: -13.100  \n",
      "\n"
     ]
    },
    {
     "name": "stderr",
     "output_type": "stream",
     "text": [
      " 54%|████████████████████████████████████████████████████████████████████████████████████████████████████▍                                                                                     | 27/50 [06:34<05:31, 14.43s/it]"
     ]
    },
    {
     "name": "stdout",
     "output_type": "stream",
     "text": [
      "drums           ==> SDR:   0.009  SIR: 164.481  ISR:   0.019  SAR: -13.463  \n",
      "bass            ==> SDR:   0.009  SIR: 164.481  ISR:   0.019  SAR: -13.463  \n",
      "\n"
     ]
    },
    {
     "name": "stderr",
     "output_type": "stream",
     "text": [
      " 56%|████████████████████████████████████████████████████████████████████████████████████████████████████████▏                                                                                 | 28/50 [06:49<05:17, 14.44s/it]"
     ]
    },
    {
     "name": "stdout",
     "output_type": "stream",
     "text": [
      "drums           ==> SDR:  -0.001  SIR: 172.599  ISR:  -0.000  SAR: -19.031  \n",
      "bass            ==> SDR:  -0.001  SIR: 172.599  ISR:  -0.000  SAR: -19.031  \n",
      "\n"
     ]
    },
    {
     "name": "stderr",
     "output_type": "stream",
     "text": [
      " 58%|███████████████████████████████████████████████████████████████████████████████████████████████████████████▉                                                                              | 29/50 [07:03<05:05, 14.55s/it]"
     ]
    },
    {
     "name": "stdout",
     "output_type": "stream",
     "text": [
      "drums           ==> SDR:  -0.001  SIR: 181.260  ISR:   0.000  SAR: -30.623  \n",
      "bass            ==> SDR:  -0.001  SIR: 181.260  ISR:   0.000  SAR: -30.623  \n",
      "\n"
     ]
    },
    {
     "name": "stderr",
     "output_type": "stream",
     "text": [
      " 60%|███████████████████████████████████████████████████████████████████████████████████████████████████████████████▌                                                                          | 30/50 [07:18<04:50, 14.54s/it]"
     ]
    },
    {
     "name": "stdout",
     "output_type": "stream",
     "text": [
      "drums           ==> SDR:  -0.012  SIR: 180.536  ISR:  -0.007  SAR: -15.977  \n",
      "bass            ==> SDR:  -0.012  SIR: 180.536  ISR:  -0.007  SAR: -15.977  \n",
      "\n"
     ]
    },
    {
     "name": "stderr",
     "output_type": "stream",
     "text": [
      " 62%|███████████████████████████████████████████████████████████████████████████████████████████████████████████████████▎                                                                      | 31/50 [07:33<04:37, 14.61s/it]"
     ]
    },
    {
     "name": "stdout",
     "output_type": "stream",
     "text": [
      "drums           ==> SDR:  -0.009  SIR: 194.163  ISR:   0.003  SAR: -33.489  \n",
      "bass            ==> SDR:  -0.009  SIR: 194.163  ISR:   0.003  SAR: -33.489  \n",
      "\n"
     ]
    },
    {
     "name": "stderr",
     "output_type": "stream",
     "text": [
      " 64%|███████████████████████████████████████████████████████████████████████████████████████████████████████████████████████                                                                   | 32/50 [07:47<04:20, 14.45s/it]"
     ]
    },
    {
     "name": "stdout",
     "output_type": "stream",
     "text": [
      "drums           ==> SDR:  -0.004  SIR: 192.020  ISR:   0.000  SAR: -32.112  \n",
      "bass            ==> SDR:  -0.004  SIR: 192.020  ISR:   0.000  SAR: -32.112  \n",
      "\n"
     ]
    },
    {
     "name": "stderr",
     "output_type": "stream",
     "text": [
      " 66%|██████████████████████████████████████████████████████████████████████████████████████████████████████████████████████████▊                                                               | 33/50 [08:01<04:06, 14.51s/it]"
     ]
    },
    {
     "name": "stdout",
     "output_type": "stream",
     "text": [
      "drums           ==> SDR:  -0.017  SIR: 212.406  ISR:   0.001  SAR: -36.754  \n",
      "bass            ==> SDR:  -0.017  SIR: 212.406  ISR:   0.001  SAR: -36.754  \n",
      "\n"
     ]
    },
    {
     "name": "stderr",
     "output_type": "stream",
     "text": [
      " 68%|██████████████████████████████████████████████████████████████████████████████████████████████████████████████████████████████▍                                                           | 34/50 [08:16<03:53, 14.56s/it]"
     ]
    },
    {
     "name": "stdout",
     "output_type": "stream",
     "text": [
      "drums           ==> SDR:  -0.010  SIR: 239.223  ISR:  -0.002  SAR: -40.062  \n",
      "bass            ==> SDR:  -0.010  SIR: 239.223  ISR:  -0.002  SAR: -40.062  \n",
      "\n"
     ]
    },
    {
     "name": "stderr",
     "output_type": "stream",
     "text": [
      " 70%|██████████████████████████████████████████████████████████████████████████████████████████████████████████████████████████████████▏                                                       | 35/50 [08:31<03:38, 14.60s/it]"
     ]
    },
    {
     "name": "stdout",
     "output_type": "stream",
     "text": [
      "drums           ==> SDR:  -0.005  SIR: 210.844  ISR:   0.001  SAR: -29.273  \n",
      "bass            ==> SDR:  -0.005  SIR: 210.844  ISR:   0.001  SAR: -29.273  \n",
      "\n"
     ]
    },
    {
     "name": "stderr",
     "output_type": "stream",
     "text": [
      " 72%|█████████████████████████████████████████████████████████████████████████████████████████████████████████████████████████████████████▉                                                    | 36/50 [08:46<03:27, 14.81s/it]"
     ]
    },
    {
     "name": "stdout",
     "output_type": "stream",
     "text": [
      "drums           ==> SDR:  -0.025  SIR: 182.466  ISR:  -0.000  SAR: -25.983  \n",
      "bass            ==> SDR:  -0.025  SIR: 182.466  ISR:  -0.000  SAR: -25.983  \n",
      "\n"
     ]
    },
    {
     "name": "stderr",
     "output_type": "stream",
     "text": [
      " 74%|█████████████████████████████████████████████████████████████████████████████████████████████████████████████████████████████████████████▋                                                | 37/50 [09:01<03:11, 14.75s/it]"
     ]
    },
    {
     "name": "stdout",
     "output_type": "stream",
     "text": [
      "drums           ==> SDR:  -0.021  SIR: 192.666  ISR:  -0.000  SAR: -39.774  \n",
      "bass            ==> SDR:  -0.021  SIR: 192.666  ISR:  -0.000  SAR: -39.774  \n",
      "\n"
     ]
    },
    {
     "name": "stderr",
     "output_type": "stream",
     "text": [
      " 76%|█████████████████████████████████████████████████████████████████████████████████████████████████████████████████████████████████████████████▎                                            | 38/50 [09:16<02:59, 14.96s/it]"
     ]
    },
    {
     "name": "stdout",
     "output_type": "stream",
     "text": [
      "drums           ==> SDR:  -0.026  SIR: 205.278  ISR:  -0.005  SAR: -34.817  \n",
      "bass            ==> SDR:  -0.026  SIR: 205.278  ISR:  -0.005  SAR: -34.817  \n",
      "\n"
     ]
    },
    {
     "name": "stderr",
     "output_type": "stream",
     "text": [
      " 78%|█████████████████████████████████████████████████████████████████████████████████████████████████████████████████████████████████████████████████                                         | 39/50 [09:31<02:43, 14.84s/it]"
     ]
    },
    {
     "name": "stdout",
     "output_type": "stream",
     "text": [
      "drums           ==> SDR:  -0.029  SIR: 209.541  ISR:   0.004  SAR: -27.530  \n",
      "bass            ==> SDR:  -0.029  SIR: 209.541  ISR:   0.004  SAR: -27.530  \n",
      "\n"
     ]
    },
    {
     "name": "stderr",
     "output_type": "stream",
     "text": [
      " 80%|████████████████████████████████████████████████████████████████████████████████████████████████████████████████████████████████████████████████████▊                                     | 40/50 [09:46<02:28, 14.89s/it]"
     ]
    },
    {
     "name": "stdout",
     "output_type": "stream",
     "text": [
      "drums           ==> SDR:  -0.484  SIR: 160.108  ISR:  -0.002  SAR: -36.567  \n",
      "bass            ==> SDR:  -0.484  SIR: 160.108  ISR:  -0.002  SAR: -36.567  \n",
      "\n"
     ]
    },
    {
     "name": "stderr",
     "output_type": "stream",
     "text": [
      " 82%|████████████████████████████████████████████████████████████████████████████████████████████████████████████████████████████████████████████████████████▌                                 | 41/50 [10:00<02:13, 14.82s/it]"
     ]
    },
    {
     "name": "stdout",
     "output_type": "stream",
     "text": [
      "drums           ==> SDR:  -0.007  SIR: 163.743  ISR:   0.001  SAR: -35.190  \n",
      "bass            ==> SDR:  -0.007  SIR: 163.743  ISR:   0.001  SAR: -35.190  \n",
      "\n"
     ]
    },
    {
     "name": "stderr",
     "output_type": "stream",
     "text": [
      " 84%|████████████████████████████████████████████████████████████████████████████████████████████████████████████████████████████████████████████████████████████▏                             | 42/50 [10:15<01:57, 14.75s/it]"
     ]
    },
    {
     "name": "stdout",
     "output_type": "stream",
     "text": [
      "drums           ==> SDR:  -0.004  SIR: 118.850  ISR:   0.000  SAR: -36.157  \n",
      "bass            ==> SDR:  -0.004  SIR: 118.850  ISR:   0.000  SAR: -36.157  \n",
      "\n"
     ]
    },
    {
     "name": "stderr",
     "output_type": "stream",
     "text": [
      " 86%|███████████████████████████████████████████████████████████████████████████████████████████████████████████████████████████████████████████████████████████████▉                          | 43/50 [10:29<01:42, 14.63s/it]"
     ]
    },
    {
     "name": "stdout",
     "output_type": "stream",
     "text": [
      "drums           ==> SDR:  -0.008  SIR: 173.261  ISR:   0.003  SAR: -28.137  \n",
      "bass            ==> SDR:  -0.008  SIR: 173.261  ISR:   0.003  SAR: -28.137  \n",
      "\n"
     ]
    },
    {
     "name": "stderr",
     "output_type": "stream",
     "text": [
      " 88%|███████████████████████████████████████████████████████████████████████████████████████████████████████████████████████████████████████████████████████████████████▋                      | 44/50 [10:44<01:27, 14.66s/it]"
     ]
    },
    {
     "name": "stdout",
     "output_type": "stream",
     "text": [
      "drums           ==> SDR:  -0.001  SIR: 187.967  ISR:   0.001  SAR: -25.913  \n",
      "bass            ==> SDR:  -0.001  SIR: 187.967  ISR:   0.001  SAR: -25.913  \n",
      "\n"
     ]
    },
    {
     "name": "stderr",
     "output_type": "stream",
     "text": [
      " 90%|███████████████████████████████████████████████████████████████████████████████████████████████████████████████████████████████████████████████████████████████████████▍                  | 45/50 [10:59<01:13, 14.66s/it]"
     ]
    },
    {
     "name": "stdout",
     "output_type": "stream",
     "text": [
      "drums           ==> SDR:  -0.000  SIR: 187.489  ISR:  -0.000  SAR: -30.051  \n",
      "bass            ==> SDR:  -0.000  SIR: 187.489  ISR:  -0.000  SAR: -30.051  \n",
      "\n"
     ]
    },
    {
     "name": "stderr",
     "output_type": "stream",
     "text": [
      " 92%|███████████████████████████████████████████████████████████████████████████████████████████████████████████████████████████████████████████████████████████████████████████               | 46/50 [11:14<00:59, 14.86s/it]"
     ]
    },
    {
     "name": "stdout",
     "output_type": "stream",
     "text": [
      "drums           ==> SDR:  -0.025  SIR: 204.756  ISR:  -0.006  SAR: -21.064  \n",
      "bass            ==> SDR:  -0.025  SIR: 204.756  ISR:  -0.006  SAR: -21.064  \n",
      "\n"
     ]
    },
    {
     "name": "stderr",
     "output_type": "stream",
     "text": [
      " 94%|██████████████████████████████████████████████████████████████████████████████████████████████████████████████████████████████████████████████████████████████████████████████▊           | 47/50 [11:28<00:43, 14.59s/it]"
     ]
    },
    {
     "name": "stdout",
     "output_type": "stream",
     "text": [
      "drums           ==> SDR:  -0.007  SIR: 147.902  ISR:  -0.009  SAR: -19.592  \n",
      "bass            ==> SDR:  -0.007  SIR: 147.902  ISR:  -0.009  SAR: -19.592  \n",
      "\n"
     ]
    },
    {
     "name": "stderr",
     "output_type": "stream",
     "text": [
      " 96%|██████████████████████████████████████████████████████████████████████████████████████████████████████████████████████████████████████████████████████████████████████████████████▌       | 48/50 [11:43<00:29, 14.83s/it]"
     ]
    },
    {
     "name": "stdout",
     "output_type": "stream",
     "text": [
      "drums           ==> SDR:  -0.016  SIR: 201.182  ISR:   0.011  SAR: -21.425  \n",
      "bass            ==> SDR:  -0.016  SIR: 201.182  ISR:   0.011  SAR: -21.425  \n",
      "\n"
     ]
    },
    {
     "name": "stderr",
     "output_type": "stream",
     "text": [
      " 98%|██████████████████████████████████████████████████████████████████████████████████████████████████████████████████████████████████████████████████████████████████████████████████████▎   | 49/50 [11:58<00:14, 14.72s/it]"
     ]
    },
    {
     "name": "stdout",
     "output_type": "stream",
     "text": [
      "drums           ==> SDR:  -0.002  SIR: 213.997  ISR:   0.009  SAR: -22.583  \n",
      "bass            ==> SDR:  -0.002  SIR: 213.997  ISR:   0.009  SAR: -22.583  \n",
      "\n"
     ]
    },
    {
     "name": "stderr",
     "output_type": "stream",
     "text": [
      "100%|██████████████████████████████████████████████████████████████████████████████████████████████████████████████████████████████████████████████████████████████████████████████████████████| 50/50 [12:13<00:00, 14.66s/it]"
     ]
    },
    {
     "name": "stdout",
     "output_type": "stream",
     "text": [
      "drums           ==> SDR:  -0.003  SIR: 203.884  ISR:   0.002  SAR: -19.167  \n",
      "bass            ==> SDR:  -0.003  SIR: 203.884  ISR:   0.002  SAR: -19.167  \n",
      "\n"
     ]
    },
    {
     "name": "stderr",
     "output_type": "stream",
     "text": [
      "\n",
      "C:\\Python311\\Lib\\site-packages\\pytorch_lightning\\utilities\\migration\\utils.py:55: The loaded checkpoint was produced with Lightning v2.2.1, which is newer than your current Lightning version: v2.1.2\n",
      "  2%|███▋                                                                                                                                                                                       | 1/50 [00:14<11:57, 14.65s/it]"
     ]
    },
    {
     "name": "stdout",
     "output_type": "stream",
     "text": [
      "drums           ==> SDR:  -0.033  SIR: 205.840  ISR:   0.007  SAR: -37.007  \n",
      "bass            ==> SDR:  -0.033  SIR: 205.840  ISR:   0.007  SAR: -37.007  \n",
      "\n"
     ]
    },
    {
     "name": "stderr",
     "output_type": "stream",
     "text": [
      "  4%|███████▍                                                                                                                                                                                   | 2/50 [00:29<11:47, 14.75s/it]"
     ]
    },
    {
     "name": "stdout",
     "output_type": "stream",
     "text": [
      "drums           ==> SDR:  -0.056  SIR: 172.964  ISR:   0.007  SAR: -29.192  \n",
      "bass            ==> SDR:  -0.056  SIR: 172.964  ISR:   0.007  SAR: -29.192  \n",
      "\n"
     ]
    },
    {
     "name": "stderr",
     "output_type": "stream",
     "text": [
      "  6%|███████████▏                                                                                                                                                                               | 3/50 [00:43<11:26, 14.61s/it]"
     ]
    },
    {
     "name": "stdout",
     "output_type": "stream",
     "text": [
      "drums           ==> SDR:  -0.052  SIR: 228.128  ISR:   0.006  SAR: -23.435  \n",
      "bass            ==> SDR:  -0.052  SIR: 228.128  ISR:   0.006  SAR: -23.435  \n",
      "\n"
     ]
    },
    {
     "name": "stderr",
     "output_type": "stream",
     "text": [
      "  8%|██████████████▉                                                                                                                                                                            | 4/50 [00:59<11:23, 14.86s/it]"
     ]
    },
    {
     "name": "stdout",
     "output_type": "stream",
     "text": [
      "drums           ==> SDR:  -0.017  SIR: 218.577  ISR:   0.006  SAR: -32.791  \n",
      "bass            ==> SDR:  -0.017  SIR: 218.577  ISR:   0.006  SAR: -32.791  \n",
      "\n"
     ]
    },
    {
     "name": "stderr",
     "output_type": "stream",
     "text": [
      " 10%|██████████████████▋                                                                                                                                                                        | 5/50 [01:13<11:04, 14.77s/it]"
     ]
    },
    {
     "name": "stdout",
     "output_type": "stream",
     "text": [
      "drums           ==> SDR:  -0.050  SIR: 188.039  ISR:  -0.008  SAR: -37.202  \n",
      "bass            ==> SDR:  -0.050  SIR: 188.039  ISR:  -0.008  SAR: -37.202  \n",
      "\n"
     ]
    },
    {
     "name": "stderr",
     "output_type": "stream",
     "text": [
      " 12%|██████████████████████▍                                                                                                                                                                    | 6/50 [01:28<10:45, 14.68s/it]"
     ]
    },
    {
     "name": "stdout",
     "output_type": "stream",
     "text": [
      "drums           ==> SDR:  -0.036  SIR: 231.877  ISR:  -0.000  SAR: -37.278  \n",
      "bass            ==> SDR:  -0.036  SIR: 231.877  ISR:  -0.000  SAR: -37.278  \n",
      "\n"
     ]
    },
    {
     "name": "stderr",
     "output_type": "stream",
     "text": [
      " 14%|██████████████████████████▏                                                                                                                                                                | 7/50 [01:42<10:26, 14.58s/it]"
     ]
    },
    {
     "name": "stdout",
     "output_type": "stream",
     "text": [
      "drums           ==> SDR:  -0.040  SIR: 219.691  ISR:   0.001  SAR: -37.285  \n",
      "bass            ==> SDR:  -0.040  SIR: 219.691  ISR:   0.001  SAR: -37.285  \n",
      "\n"
     ]
    },
    {
     "name": "stderr",
     "output_type": "stream",
     "text": [
      " 16%|█████████████████████████████▉                                                                                                                                                             | 8/50 [01:57<10:12, 14.59s/it]"
     ]
    },
    {
     "name": "stdout",
     "output_type": "stream",
     "text": [
      "drums           ==> SDR:  -0.105  SIR: 234.792  ISR:  -0.005  SAR: -36.626  \n",
      "bass            ==> SDR:  -0.105  SIR: 234.792  ISR:  -0.005  SAR: -36.626  \n",
      "\n"
     ]
    },
    {
     "name": "stderr",
     "output_type": "stream",
     "text": [
      " 18%|█████████████████████████████████▋                                                                                                                                                         | 9/50 [02:12<10:06, 14.80s/it]"
     ]
    },
    {
     "name": "stdout",
     "output_type": "stream",
     "text": [
      "drums           ==> SDR:  -0.012  SIR: 149.238  ISR:   0.001  SAR: -26.470  \n",
      "bass            ==> SDR:  -0.012  SIR: 149.238  ISR:   0.001  SAR: -26.470  \n",
      "\n"
     ]
    },
    {
     "name": "stderr",
     "output_type": "stream",
     "text": [
      " 20%|█████████████████████████████████████▏                                                                                                                                                    | 10/50 [02:26<09:48, 14.70s/it]"
     ]
    },
    {
     "name": "stdout",
     "output_type": "stream",
     "text": [
      "drums           ==> SDR: -33.259  SIR: 190.285  ISR:   0.002  SAR: -84.762  \n",
      "bass            ==> SDR: -33.259  SIR: 190.285  ISR:   0.002  SAR: -84.762  \n",
      "\n"
     ]
    },
    {
     "name": "stderr",
     "output_type": "stream",
     "text": [
      " 22%|████████████████████████████████████████▉                                                                                                                                                 | 11/50 [02:41<09:32, 14.67s/it]"
     ]
    },
    {
     "name": "stdout",
     "output_type": "stream",
     "text": [
      "drums           ==> SDR:  -0.038  SIR: 212.315  ISR:  -0.006  SAR: -32.617  \n",
      "bass            ==> SDR:  -0.038  SIR: 212.315  ISR:  -0.006  SAR: -32.617  \n",
      "\n"
     ]
    },
    {
     "name": "stderr",
     "output_type": "stream",
     "text": [
      " 24%|████████████████████████████████████████████▋                                                                                                                                             | 12/50 [02:55<09:14, 14.58s/it]"
     ]
    },
    {
     "name": "stdout",
     "output_type": "stream",
     "text": [
      "drums           ==> SDR:   0.015  SIR: 218.947  ISR:   0.041  SAR:  -9.585  \n",
      "bass            ==> SDR:   0.015  SIR: 218.947  ISR:   0.041  SAR:  -9.585  \n",
      "\n"
     ]
    },
    {
     "name": "stderr",
     "output_type": "stream",
     "text": [
      " 26%|████████████████████████████████████████████████▎                                                                                                                                         | 13/50 [03:10<08:58, 14.54s/it]"
     ]
    },
    {
     "name": "stdout",
     "output_type": "stream",
     "text": [
      "drums           ==> SDR:  -0.009  SIR:  38.818  ISR:   0.003  SAR: -32.877  \n",
      "bass            ==> SDR:  -0.009  SIR:  38.818  ISR:   0.003  SAR: -32.877  \n",
      "\n"
     ]
    },
    {
     "name": "stderr",
     "output_type": "stream",
     "text": [
      " 28%|████████████████████████████████████████████████████                                                                                                                                      | 14/50 [03:24<08:42, 14.53s/it]"
     ]
    },
    {
     "name": "stdout",
     "output_type": "stream",
     "text": [
      "drums           ==> SDR:  -0.023  SIR: 203.547  ISR:   0.001  SAR: -33.959  \n",
      "bass            ==> SDR:  -0.023  SIR: 203.547  ISR:   0.001  SAR: -33.959  \n",
      "\n"
     ]
    },
    {
     "name": "stderr",
     "output_type": "stream",
     "text": [
      " 30%|███████████████████████████████████████████████████████▊                                                                                                                                  | 15/50 [03:40<08:35, 14.72s/it]"
     ]
    },
    {
     "name": "stdout",
     "output_type": "stream",
     "text": [
      "drums           ==> SDR:  -0.030  SIR: 212.881  ISR:   0.014  SAR: -25.078  \n",
      "bass            ==> SDR:  -0.030  SIR: 212.881  ISR:   0.014  SAR: -25.078  \n",
      "\n"
     ]
    },
    {
     "name": "stderr",
     "output_type": "stream",
     "text": [
      " 32%|███████████████████████████████████████████████████████████▌                                                                                                                              | 16/50 [03:54<08:17, 14.62s/it]"
     ]
    },
    {
     "name": "stdout",
     "output_type": "stream",
     "text": [
      "drums           ==> SDR:  -0.048  SIR: 204.075  ISR:   0.011  SAR: -30.874  \n",
      "bass            ==> SDR:  -0.048  SIR: 204.075  ISR:   0.011  SAR: -30.874  \n",
      "\n"
     ]
    },
    {
     "name": "stderr",
     "output_type": "stream",
     "text": [
      " 34%|███████████████████████████████████████████████████████████████▏                                                                                                                          | 17/50 [04:09<08:08, 14.81s/it]"
     ]
    },
    {
     "name": "stdout",
     "output_type": "stream",
     "text": [
      "drums           ==> SDR:  -0.044  SIR: 216.261  ISR:  -0.001  SAR: -38.519  \n",
      "bass            ==> SDR:  -0.044  SIR: 216.261  ISR:  -0.001  SAR: -38.519  \n",
      "\n"
     ]
    },
    {
     "name": "stderr",
     "output_type": "stream",
     "text": [
      " 36%|██████████████████████████████████████████████████████████████████▉                                                                                                                       | 18/50 [04:24<07:50, 14.70s/it]"
     ]
    },
    {
     "name": "stdout",
     "output_type": "stream",
     "text": [
      "drums           ==> SDR:  -0.028  SIR: 204.385  ISR:   0.014  SAR: -26.681  \n",
      "bass            ==> SDR:  -0.028  SIR: 204.385  ISR:   0.014  SAR: -26.681  \n",
      "\n"
     ]
    },
    {
     "name": "stderr",
     "output_type": "stream",
     "text": [
      " 38%|██████████████████████████████████████████████████████████████████████▋                                                                                                                   | 19/50 [04:38<07:35, 14.71s/it]"
     ]
    },
    {
     "name": "stdout",
     "output_type": "stream",
     "text": [
      "drums           ==> SDR:  -0.042  SIR: 211.396  ISR:  -0.002  SAR: -26.478  \n",
      "bass            ==> SDR:  -0.042  SIR: 211.396  ISR:  -0.002  SAR: -26.478  \n",
      "\n"
     ]
    },
    {
     "name": "stderr",
     "output_type": "stream",
     "text": [
      " 40%|██████████████████████████████████████████████████████████████████████████▍                                                                                                               | 20/50 [04:53<07:19, 14.64s/it]"
     ]
    },
    {
     "name": "stdout",
     "output_type": "stream",
     "text": [
      "drums           ==> SDR:  -0.022  SIR: 207.503  ISR:  -0.000  SAR: -19.287  \n",
      "bass            ==> SDR:  -0.022  SIR: 207.503  ISR:  -0.000  SAR: -19.287  \n",
      "\n"
     ]
    },
    {
     "name": "stderr",
     "output_type": "stream",
     "text": [
      " 42%|██████████████████████████████████████████████████████████████████████████████                                                                                                            | 21/50 [05:07<07:02, 14.58s/it]"
     ]
    },
    {
     "name": "stdout",
     "output_type": "stream",
     "text": [
      "drums           ==> SDR:  -0.042  SIR: 172.513  ISR:  -0.016  SAR: -22.132  \n",
      "bass            ==> SDR:  -0.042  SIR: 172.513  ISR:  -0.016  SAR: -22.132  \n",
      "\n"
     ]
    },
    {
     "name": "stderr",
     "output_type": "stream",
     "text": [
      " 44%|█████████████████████████████████████████████████████████████████████████████████▊                                                                                                        | 22/50 [05:22<06:50, 14.67s/it]"
     ]
    },
    {
     "name": "stdout",
     "output_type": "stream",
     "text": [
      "drums           ==> SDR: -25.090  SIR: 268.462  ISR: -11.210  SAR: -15.598  \n",
      "bass            ==> SDR: -25.090  SIR: 268.462  ISR: -11.210  SAR: -15.598  \n",
      "\n"
     ]
    },
    {
     "name": "stderr",
     "output_type": "stream",
     "text": [
      " 46%|█████████████████████████████████████████████████████████████████████████████████████▌                                                                                                    | 23/50 [05:36<06:30, 14.45s/it]"
     ]
    },
    {
     "name": "stdout",
     "output_type": "stream",
     "text": [
      "drums           ==> SDR:  -0.035  SIR: 163.330  ISR:   0.005  SAR: -29.744  \n",
      "bass            ==> SDR:  -0.035  SIR: 163.330  ISR:   0.005  SAR: -29.744  \n",
      "\n"
     ]
    },
    {
     "name": "stderr",
     "output_type": "stream",
     "text": [
      " 48%|█████████████████████████████████████████████████████████████████████████████████████████▎                                                                                                | 24/50 [05:51<06:17, 14.53s/it]"
     ]
    },
    {
     "name": "stdout",
     "output_type": "stream",
     "text": [
      "drums           ==> SDR:  -0.022  SIR: 135.056  ISR:  -0.005  SAR: -25.823  \n",
      "bass            ==> SDR:  -0.022  SIR: 135.056  ISR:  -0.005  SAR: -25.823  \n",
      "\n"
     ]
    },
    {
     "name": "stderr",
     "output_type": "stream",
     "text": [
      " 50%|█████████████████████████████████████████████████████████████████████████████████████████████                                                                                             | 25/50 [06:06<06:04, 14.58s/it]"
     ]
    },
    {
     "name": "stdout",
     "output_type": "stream",
     "text": [
      "drums           ==> SDR:  -0.164  SIR: 220.462  ISR:   0.016  SAR: -31.129  \n",
      "bass            ==> SDR:  -0.164  SIR: 220.462  ISR:   0.016  SAR: -31.129  \n",
      "\n"
     ]
    },
    {
     "name": "stderr",
     "output_type": "stream",
     "text": [
      " 52%|████████████████████████████████████████████████████████████████████████████████████████████████▋                                                                                         | 26/50 [06:20<05:47, 14.46s/it]"
     ]
    },
    {
     "name": "stdout",
     "output_type": "stream",
     "text": [
      "drums           ==> SDR:  -0.021  SIR: 161.573  ISR:   0.002  SAR: -23.637  \n",
      "bass            ==> SDR:  -0.021  SIR: 161.573  ISR:   0.002  SAR: -23.637  \n",
      "\n"
     ]
    },
    {
     "name": "stderr",
     "output_type": "stream",
     "text": [
      " 54%|████████████████████████████████████████████████████████████████████████████████████████████████████▍                                                                                     | 27/50 [06:34<05:31, 14.43s/it]"
     ]
    },
    {
     "name": "stdout",
     "output_type": "stream",
     "text": [
      "drums           ==> SDR:  -0.035  SIR: 172.246  ISR:  -0.001  SAR: -25.081  \n",
      "bass            ==> SDR:  -0.035  SIR: 172.246  ISR:  -0.001  SAR: -25.081  \n",
      "\n"
     ]
    },
    {
     "name": "stderr",
     "output_type": "stream",
     "text": [
      " 56%|████████████████████████████████████████████████████████████████████████████████████████████████████████▏                                                                                 | 28/50 [06:49<05:18, 14.50s/it]"
     ]
    },
    {
     "name": "stdout",
     "output_type": "stream",
     "text": [
      "drums           ==> SDR:  -0.003  SIR: 187.277  ISR:   0.002  SAR: -28.429  \n",
      "bass            ==> SDR:  -0.003  SIR: 187.277  ISR:   0.002  SAR: -28.429  \n",
      "\n"
     ]
    },
    {
     "name": "stderr",
     "output_type": "stream",
     "text": [
      " 58%|███████████████████████████████████████████████████████████████████████████████████████████████████████████▉                                                                              | 29/50 [07:03<05:04, 14.48s/it]"
     ]
    },
    {
     "name": "stdout",
     "output_type": "stream",
     "text": [
      "drums           ==> SDR:  -0.016  SIR: 173.591  ISR:  -0.000  SAR: -34.756  \n",
      "bass            ==> SDR:  -0.016  SIR: 173.591  ISR:  -0.000  SAR: -34.756  \n",
      "\n"
     ]
    },
    {
     "name": "stderr",
     "output_type": "stream",
     "text": [
      " 60%|███████████████████████████████████████████████████████████████████████████████████████████████████████████████▌                                                                          | 30/50 [07:18<04:51, 14.55s/it]"
     ]
    },
    {
     "name": "stdout",
     "output_type": "stream",
     "text": [
      "drums           ==> SDR:  -0.030  SIR: 208.126  ISR:  -0.049  SAR: -10.428  \n",
      "bass            ==> SDR:  -0.030  SIR: 208.126  ISR:  -0.049  SAR: -10.428  \n",
      "\n"
     ]
    },
    {
     "name": "stderr",
     "output_type": "stream",
     "text": [
      " 62%|███████████████████████████████████████████████████████████████████████████████████████████████████████████████████▎                                                                      | 31/50 [07:33<04:37, 14.60s/it]"
     ]
    },
    {
     "name": "stdout",
     "output_type": "stream",
     "text": [
      "drums           ==> SDR:  -0.050  SIR: 193.187  ISR:  -0.006  SAR: -31.413  \n",
      "bass            ==> SDR:  -0.050  SIR: 193.187  ISR:  -0.006  SAR: -31.413  \n",
      "\n"
     ]
    },
    {
     "name": "stderr",
     "output_type": "stream",
     "text": [
      " 64%|███████████████████████████████████████████████████████████████████████████████████████████████████████████████████████                                                                   | 32/50 [07:47<04:19, 14.42s/it]"
     ]
    },
    {
     "name": "stdout",
     "output_type": "stream",
     "text": [
      "drums           ==> SDR:  -0.035  SIR: 183.110  ISR:   0.004  SAR: -33.284  \n",
      "bass            ==> SDR:  -0.035  SIR: 183.110  ISR:   0.004  SAR: -33.284  \n",
      "\n"
     ]
    },
    {
     "name": "stderr",
     "output_type": "stream",
     "text": [
      " 66%|██████████████████████████████████████████████████████████████████████████████████████████████████████████████████████████▊                                                               | 33/50 [08:01<04:06, 14.51s/it]"
     ]
    },
    {
     "name": "stdout",
     "output_type": "stream",
     "text": [
      "drums           ==> SDR:  -0.064  SIR: 218.454  ISR:   0.001  SAR: -38.897  \n",
      "bass            ==> SDR:  -0.064  SIR: 218.454  ISR:   0.001  SAR: -38.897  \n",
      "\n"
     ]
    },
    {
     "name": "stderr",
     "output_type": "stream",
     "text": [
      " 68%|██████████████████████████████████████████████████████████████████████████████████████████████████████████████████████████████▍                                                           | 34/50 [08:16<03:52, 14.51s/it]"
     ]
    },
    {
     "name": "stdout",
     "output_type": "stream",
     "text": [
      "drums           ==> SDR:  -0.046  SIR: 245.505  ISR:   0.002  SAR: -39.454  \n",
      "bass            ==> SDR:  -0.046  SIR: 245.505  ISR:   0.002  SAR: -39.454  \n",
      "\n"
     ]
    },
    {
     "name": "stderr",
     "output_type": "stream",
     "text": [
      " 70%|██████████████████████████████████████████████████████████████████████████████████████████████████████████████████████████████████▏                                                       | 35/50 [08:31<03:39, 14.66s/it]"
     ]
    },
    {
     "name": "stdout",
     "output_type": "stream",
     "text": [
      "drums           ==> SDR:  -0.029  SIR: 211.262  ISR:  -0.006  SAR: -26.584  \n",
      "bass            ==> SDR:  -0.029  SIR: 211.262  ISR:  -0.006  SAR: -26.584  \n",
      "\n"
     ]
    },
    {
     "name": "stderr",
     "output_type": "stream",
     "text": [
      " 72%|█████████████████████████████████████████████████████████████████████████████████████████████████████████████████████████████████████▉                                                    | 36/50 [08:45<03:24, 14.59s/it]"
     ]
    },
    {
     "name": "stdout",
     "output_type": "stream",
     "text": [
      "drums           ==> SDR:  -0.091  SIR: 180.946  ISR:  -0.006  SAR: -27.846  \n",
      "bass            ==> SDR:  -0.091  SIR: 180.946  ISR:  -0.006  SAR: -27.846  \n",
      "\n"
     ]
    },
    {
     "name": "stderr",
     "output_type": "stream",
     "text": [
      " 74%|█████████████████████████████████████████████████████████████████████████████████████████████████████████████████████████████████████████▋                                                | 37/50 [09:01<03:12, 14.81s/it]"
     ]
    },
    {
     "name": "stdout",
     "output_type": "stream",
     "text": [
      "drums           ==> SDR:  -0.299  SIR: 191.992  ISR:  -0.001  SAR: -53.767  \n",
      "bass            ==> SDR:  -0.299  SIR: 191.992  ISR:  -0.001  SAR: -53.767  \n",
      "\n"
     ]
    },
    {
     "name": "stderr",
     "output_type": "stream",
     "text": [
      " 76%|█████████████████████████████████████████████████████████████████████████████████████████████████████████████████████████████████████████████▎                                            | 38/50 [09:15<02:57, 14.77s/it]"
     ]
    },
    {
     "name": "stdout",
     "output_type": "stream",
     "text": [
      "drums           ==> SDR:  -0.214  SIR: 215.421  ISR:   0.004  SAR: -37.652  \n",
      "bass            ==> SDR:  -0.214  SIR: 215.421  ISR:   0.004  SAR: -37.652  \n",
      "\n"
     ]
    },
    {
     "name": "stderr",
     "output_type": "stream",
     "text": [
      " 78%|█████████████████████████████████████████████████████████████████████████████████████████████████████████████████████████████████████████████████                                         | 39/50 [09:30<02:42, 14.74s/it]"
     ]
    },
    {
     "name": "stdout",
     "output_type": "stream",
     "text": [
      "drums           ==> SDR:  -0.219  SIR: 222.845  ISR:   0.031  SAR: -33.058  \n",
      "bass            ==> SDR:  -0.219  SIR: 222.845  ISR:   0.031  SAR: -33.058  \n",
      "\n"
     ]
    },
    {
     "name": "stderr",
     "output_type": "stream",
     "text": [
      " 80%|████████████████████████████████████████████████████████████████████████████████████████████████████████████████████████████████████████████████████▊                                     | 40/50 [09:45<02:27, 14.73s/it]"
     ]
    },
    {
     "name": "stdout",
     "output_type": "stream",
     "text": [
      "drums           ==> SDR:  -6.842  SIR: 169.171  ISR:  -0.014  SAR: -50.870  \n",
      "bass            ==> SDR:  -6.842  SIR: 169.171  ISR:  -0.014  SAR: -50.870  \n",
      "\n"
     ]
    },
    {
     "name": "stderr",
     "output_type": "stream",
     "text": [
      " 82%|████████████████████████████████████████████████████████████████████████████████████████████████████████████████████████████████████████████████████████▌                                 | 41/50 [10:00<02:14, 14.90s/it]"
     ]
    },
    {
     "name": "stdout",
     "output_type": "stream",
     "text": [
      "drums           ==> SDR:  -0.037  SIR: 177.304  ISR:  -0.010  SAR: -30.470  \n",
      "bass            ==> SDR:  -0.037  SIR: 177.304  ISR:  -0.010  SAR: -30.470  \n",
      "\n"
     ]
    },
    {
     "name": "stderr",
     "output_type": "stream",
     "text": [
      " 84%|████████████████████████████████████████████████████████████████████████████████████████████████████████████████████████████████████████████████████████████▏                             | 42/50 [10:15<01:58, 14.82s/it]"
     ]
    },
    {
     "name": "stdout",
     "output_type": "stream",
     "text": [
      "drums           ==> SDR:  -0.008  SIR: 107.486  ISR:   0.011  SAR: -30.814  \n",
      "bass            ==> SDR:  -0.008  SIR: 107.486  ISR:   0.011  SAR: -30.814  \n",
      "\n"
     ]
    },
    {
     "name": "stderr",
     "output_type": "stream",
     "text": [
      " 86%|███████████████████████████████████████████████████████████████████████████████████████████████████████████████████████████████████████████████████████████████▉                          | 43/50 [10:29<01:42, 14.69s/it]"
     ]
    },
    {
     "name": "stdout",
     "output_type": "stream",
     "text": [
      "drums           ==> SDR:  -0.046  SIR: 170.283  ISR:   0.006  SAR: -33.014  \n",
      "bass            ==> SDR:  -0.046  SIR: 170.283  ISR:   0.006  SAR: -33.014  \n",
      "\n"
     ]
    },
    {
     "name": "stderr",
     "output_type": "stream",
     "text": [
      " 88%|███████████████████████████████████████████████████████████████████████████████████████████████████████████████████████████████████████████████████████████████████▋                      | 44/50 [10:43<01:26, 14.38s/it]"
     ]
    },
    {
     "name": "stdout",
     "output_type": "stream",
     "text": [
      "drums           ==> SDR:  -0.043  SIR: 175.275  ISR:  -0.009  SAR: -26.382  \n",
      "bass            ==> SDR:  -0.043  SIR: 175.275  ISR:  -0.009  SAR: -26.382  \n",
      "\n"
     ]
    },
    {
     "name": "stderr",
     "output_type": "stream",
     "text": [
      " 90%|███████████████████████████████████████████████████████████████████████████████████████████████████████████████████████████████████████████████████████████████████████▍                  | 45/50 [10:58<01:12, 14.59s/it]"
     ]
    },
    {
     "name": "stdout",
     "output_type": "stream",
     "text": [
      "drums           ==> SDR:  -0.012  SIR: 201.366  ISR:  -0.002  SAR: -38.199  \n",
      "bass            ==> SDR:  -0.012  SIR: 201.366  ISR:  -0.002  SAR: -38.199  \n",
      "\n"
     ]
    },
    {
     "name": "stderr",
     "output_type": "stream",
     "text": [
      " 92%|███████████████████████████████████████████████████████████████████████████████████████████████████████████████████████████████████████████████████████████████████████████               | 46/50 [11:12<00:58, 14.60s/it]"
     ]
    },
    {
     "name": "stdout",
     "output_type": "stream",
     "text": [
      "drums           ==> SDR:  -0.056  SIR: 205.875  ISR:  -0.009  SAR: -26.508  \n",
      "bass            ==> SDR:  -0.056  SIR: 205.875  ISR:  -0.009  SAR: -26.508  \n",
      "\n"
     ]
    },
    {
     "name": "stderr",
     "output_type": "stream",
     "text": [
      " 94%|██████████████████████████████████████████████████████████████████████████████████████████████████████████████████████████████████████████████████████████████████████████████▊           | 47/50 [11:26<00:43, 14.35s/it]"
     ]
    },
    {
     "name": "stdout",
     "output_type": "stream",
     "text": [
      "drums           ==> SDR:  -0.322  SIR: 178.013  ISR:   0.043  SAR: -19.953  \n",
      "bass            ==> SDR:  -0.322  SIR: 178.013  ISR:   0.043  SAR: -19.953  \n",
      "\n"
     ]
    },
    {
     "name": "stderr",
     "output_type": "stream",
     "text": [
      " 96%|██████████████████████████████████████████████████████████████████████████████████████████████████████████████████████████████████████████████████████████████████████████████████▌       | 48/50 [11:41<00:29, 14.52s/it]"
     ]
    },
    {
     "name": "stdout",
     "output_type": "stream",
     "text": [
      "drums           ==> SDR:  -0.100  SIR: 207.769  ISR:   0.019  SAR: -24.230  \n",
      "bass            ==> SDR:  -0.100  SIR: 207.769  ISR:   0.019  SAR: -24.230  \n",
      "\n"
     ]
    },
    {
     "name": "stderr",
     "output_type": "stream",
     "text": [
      " 98%|██████████████████████████████████████████████████████████████████████████████████████████████████████████████████████████████████████████████████████████████████████████████████████▎   | 49/50 [11:56<00:14, 14.58s/it]"
     ]
    },
    {
     "name": "stdout",
     "output_type": "stream",
     "text": [
      "drums           ==> SDR:  -0.050  SIR: 205.980  ISR:  -0.010  SAR: -23.720  \n",
      "bass            ==> SDR:  -0.050  SIR: 205.980  ISR:  -0.010  SAR: -23.720  \n",
      "\n"
     ]
    },
    {
     "name": "stderr",
     "output_type": "stream",
     "text": [
      "100%|██████████████████████████████████████████████████████████████████████████████████████████████████████████████████████████████████████████████████████████████████████████████████████████| 50/50 [12:11<00:00, 14.63s/it]"
     ]
    },
    {
     "name": "stdout",
     "output_type": "stream",
     "text": [
      "drums           ==> SDR:  -0.027  SIR: 207.355  ISR:   0.003  SAR: -33.475  \n",
      "bass            ==> SDR:  -0.027  SIR: 207.355  ISR:   0.003  SAR: -33.475  \n",
      "\n"
     ]
    },
    {
     "name": "stderr",
     "output_type": "stream",
     "text": [
      "\n"
     ]
    }
   ],
   "source": [
    "# for fold in range(3):\n",
    "for method_no in [0, 1, 2, 3, 4, 5, 6]:\n",
    "    for name in ['epoch_200']:\n",
    "        #try:\n",
    "        output_path = f\"D:/Github/phd-drum-sep/rebuttal_experiments/conv-tasnet/results_{name}_{method_no}_method/\"\n",
    "        try:\n",
    "            os.mkdir(output_path)\n",
    "        except:\n",
    "            pass\n",
    "    \n",
    "        model = DrumConvTasnet.load_from_checkpoint(f'D:/Github/phd-drum-sep/analysis/conv_tasnet_model_analysis/checkpoint/{name}.ckpt')\n",
    "        # model.to('cpu')\n",
    "        model = model.eval()\n",
    "        \n",
    "        mus = musdb.DB(root=\"D:/Github/phd-drum-sep/Data/musdb18_stems/\", subsets=\"test\") \n",
    "        \n",
    "        results = museval.EvalStore(frames_agg='median', tracks_agg='median')\n",
    "        for track in tqdm(mus):\n",
    "            try:\n",
    "                path = \"D:/Github/phd-drum-sep/Data/musdb18hq/\"\n",
    "                audio_path = path + 'test/' + track.name + \"/\"\n",
    "            \n",
    "            \n",
    "                mixture_tensor = load_audio(audio_path, start_point,'mixture.wav').unsqueeze(0).to(model.device)[:,:,:duration]\n",
    "                drum_tensor = load_audio(audio_path, start_point,'drums.wav').unsqueeze(0).to(model.device)[:,:,:duration]\n",
    "                shape = mixture_tensor.shape[2]\n",
    "                roll_tensor = load_roll(audio_path, start_point, shape).unsqueeze(0).to(model.device)[:,:,:duration]\n",
    "            \n",
    "                seperated = separate_sources(model, mixture_tensor, roll_tensor, method=method_no,  device='cuda')\n",
    "                \n",
    "                audio = seperated.squeeze(0).cpu().numpy()\n",
    "                audio = np.swapaxes(audio,0,1)\n",
    "                estimates = {'drums': audio, 'bass': audio}\n",
    "            \n",
    "                d = drum_tensor.squeeze(0).cpu().numpy()\n",
    "                d = np.swapaxes(d,0,1)\n",
    "                \n",
    "                track.targets['drums'] = AudioData(d)\n",
    "                track.targets['bass'] = AudioData(d)\n",
    "                \n",
    "                scores = museval.eval_mus_track(\n",
    "                    track, estimates, output_dir=f\"{output_path}\"\n",
    "                )\n",
    "            \n",
    "                print(scores)\n",
    "                results.add_track(scores)\n",
    "                gc.collect()\n",
    "            except Exception as e:\n",
    "                print(e)\n",
    "                pass\n",
    "        \n",
    "        results.df.to_csv(f\"{output_path}results.csv\")\n",
    "    \n",
    "        del model\n",
    "        del mus\n",
    "        \n",
    "        # except Exception as e:\n",
    "        #     print('error with model, skipping', name, e)"
   ]
  },
  {
   "cell_type": "code",
   "execution_count": 16,
   "id": "ff3d97f7-2804-4b99-adcb-5adeb7dc9d7d",
   "metadata": {},
   "outputs": [
    {
     "data": {
      "text/plain": [
       "['__class__',\n",
       " '__delattr__',\n",
       " '__dict__',\n",
       " '__dir__',\n",
       " '__doc__',\n",
       " '__eq__',\n",
       " '__format__',\n",
       " '__ge__',\n",
       " '__getattribute__',\n",
       " '__getstate__',\n",
       " '__gt__',\n",
       " '__hash__',\n",
       " '__init__',\n",
       " '__init_subclass__',\n",
       " '__le__',\n",
       " '__lt__',\n",
       " '__module__',\n",
       " '__ne__',\n",
       " '__new__',\n",
       " '__reduce__',\n",
       " '__reduce_ex__',\n",
       " '__repr__',\n",
       " '__setattr__',\n",
       " '__sizeof__',\n",
       " '__str__',\n",
       " '__subclasshook__',\n",
       " '__weakref__',\n",
       " 'add_eval_dir',\n",
       " 'add_track',\n",
       " 'agg_frames_scores',\n",
       " 'agg_frames_tracks_scores',\n",
       " 'df',\n",
       " 'frames_agg',\n",
       " 'load',\n",
       " 'save',\n",
       " 'tracks_agg']"
      ]
     },
     "execution_count": 16,
     "metadata": {},
     "output_type": "execute_result"
    }
   ],
   "source": [
    "dir(results)"
   ]
  },
  {
   "cell_type": "code",
   "execution_count": 17,
   "id": "6cd0a0c5-a825-44cb-94e7-9fef9dcc91fb",
   "metadata": {},
   "outputs": [
    {
     "data": {
      "text/plain": [
       "(target  metric\n",
       " bass    ISR         0.001295\n",
       "         SAR       -30.844483\n",
       "         SDR        -0.041105\n",
       "         SIR       204.230167\n",
       " drums   ISR         0.001295\n",
       "         SAR       -30.844483\n",
       "         SDR        -0.041105\n",
       "         SIR       204.230167\n",
       " Name: score, dtype: float64,)"
      ]
     },
     "execution_count": 17,
     "metadata": {},
     "output_type": "execute_result"
    }
   ],
   "source": [
    "results.agg_frames_tracks_scores(), "
   ]
  },
  {
   "cell_type": "code",
   "execution_count": 18,
   "id": "246b6f4f-d272-4105-aef9-26757a4c3b4f",
   "metadata": {},
   "outputs": [],
   "source": [
    "r = results.agg_frames_scores().to_dict()"
   ]
  },
  {
   "cell_type": "code",
   "execution_count": 19,
   "id": "d600d210-0015-462f-8dc5-4c5888589fe3",
   "metadata": {},
   "outputs": [
    {
     "name": "stdout",
     "output_type": "stream",
     "text": [
      "-0.041105\n"
     ]
    }
   ],
   "source": [
    "sdrs = []\n",
    "for key in list(r.keys()):\n",
    "    if 'SDR' in key:\n",
    "        sdrs.append(r[key])\n",
    "\n",
    "print(np.median(sdrs))"
   ]
  },
  {
   "cell_type": "code",
   "execution_count": null,
   "id": "58db3f19-21c2-4daf-bdf1-eb25814ec5d7",
   "metadata": {},
   "outputs": [],
   "source": []
  }
 ],
 "metadata": {
  "kernelspec": {
   "display_name": "Python 3 (ipykernel)",
   "language": "python",
   "name": "python3"
  },
  "language_info": {
   "codemirror_mode": {
    "name": "ipython",
    "version": 3
   },
   "file_extension": ".py",
   "mimetype": "text/x-python",
   "name": "python",
   "nbconvert_exporter": "python",
   "pygments_lexer": "ipython3",
   "version": "3.11.4"
  }
 },
 "nbformat": 4,
 "nbformat_minor": 5
}
