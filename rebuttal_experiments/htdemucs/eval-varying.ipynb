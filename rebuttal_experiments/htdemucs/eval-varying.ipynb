{
 "cells": [
  {
   "cell_type": "markdown",
   "id": "20b2a3bb-3d01-4f42-bc37-dff46522af7f",
   "metadata": {},
   "source": [
    "# Imports"
   ]
  },
  {
   "cell_type": "code",
   "execution_count": 1,
   "id": "71d686e6-8847-4861-88f0-58141c363862",
   "metadata": {},
   "outputs": [
    {
     "name": "stdout",
     "output_type": "stream",
     "text": [
      "True\n"
     ]
    }
   ],
   "source": [
    "import os\n",
    "import pywt\n",
    "import torch\n",
    "import torch.nn as nn\n",
    "import torch.nn.functional as F\n",
    "import torchaudio\n",
    "import pytorch_lightning as pl\n",
    "from torch.utils.data import DataLoader, Dataset\n",
    "from torchaudio.pipelines import HDEMUCS_HIGH_MUSDB\n",
    "import torch.optim as optim\n",
    "from torch.utils.data import Dataset, DataLoader\n",
    "import torchaudio\n",
    "import numpy as np\n",
    "import random\n",
    "from pytorch_lightning.loggers import WandbLogger\n",
    "import wandb\n",
    "import auraloss\n",
    "import collections\n",
    "from tqdm import tqdm\n",
    "import pretty_midi\n",
    "import matplotlib.pyplot as plt\n",
    "from torchaudio.pipelines import HDEMUCS_HIGH_MUSDB\n",
    "print(torch.cuda.is_available())\n",
    "import plotly.graph_objects as go\n",
    "from torch.optim import lr_scheduler\n",
    "from IPython.display import Audio\n",
    "from torchaudio.transforms import Fade\n",
    "import musdb\n",
    "import museval\n",
    "import gc\n",
    "from demucs import pretrained, htdemucs"
   ]
  },
  {
   "cell_type": "code",
   "execution_count": 2,
   "id": "275ddd3f-aa3d-4444-8ddd-c8874bac940c",
   "metadata": {},
   "outputs": [
    {
     "name": "stdout",
     "output_type": "stream",
     "text": [
      "True\n"
     ]
    }
   ],
   "source": [
    "\n",
    "import os\n",
    "import torch\n",
    "import torch.nn as nn\n",
    "import torch.nn.functional as F\n",
    "import torchaudio\n",
    "import pytorch_lightning as pl\n",
    "from torch.utils.data import DataLoader, Dataset\n",
    "from torchaudio.pipelines import HDEMUCS_HIGH_MUSDB\n",
    "import torch.optim as optim\n",
    "from torch.utils.data import Dataset, DataLoader\n",
    "import torchaudio\n",
    "import numpy as np\n",
    "import random\n",
    "from pytorch_lightning.loggers import WandbLogger\n",
    "import subprocess\n",
    "import wandb\n",
    "import auraloss\n",
    "import collections\n",
    "from tqdm import tqdm\n",
    "import librosa\n",
    "from torchaudio.pipelines import HDEMUCS_HIGH_MUSDB\n",
    "print(torch.cuda.is_available())\n",
    "from torch.optim import lr_scheduler\n",
    "import pretty_midi\n",
    "from typing import Optional, Tuple\n",
    "import numpy as np\n",
    "import random"
   ]
  },
  {
   "cell_type": "markdown",
   "id": "e1c82506-04c8-4200-9e63-26857aa176bd",
   "metadata": {},
   "source": [
    "# Set Seeds"
   ]
  },
  {
   "cell_type": "code",
   "execution_count": 3,
   "id": "db3acd3b-d177-44d3-a3f4-35140f45e48a",
   "metadata": {},
   "outputs": [],
   "source": [
    "seed_value = 3407\n",
    "torch.manual_seed(seed_value)\n",
    "random.seed(seed_value)\n",
    "np.random.seed(seed_value)\n",
    "torch.cuda.manual_seed(seed_value)\n",
    "torch.cuda.manual_seed_all(seed_value)\n",
    "torch.set_float32_matmul_precision('high')"
   ]
  },
  {
   "cell_type": "markdown",
   "id": "6182916a-aec1-4c05-8a08-4d2e44dfd979",
   "metadata": {},
   "source": [
    "# Construct Teh Datas"
   ]
  },
  {
   "cell_type": "code",
   "execution_count": 4,
   "id": "dbe5ef07-9ab9-4e3e-9334-048f67ae25e4",
   "metadata": {},
   "outputs": [],
   "source": [
    "path = \"D:/Github/phd-drum-sep/Data/musdb18hq/\""
   ]
  },
  {
   "cell_type": "code",
   "execution_count": 5,
   "id": "e101d3bb-e001-42ff-90cc-42384739d506",
   "metadata": {},
   "outputs": [
    {
     "data": {
      "text/plain": [
       "['test', 'train']"
      ]
     },
     "execution_count": 5,
     "metadata": {},
     "output_type": "execute_result"
    }
   ],
   "source": [
    "os.listdir(path)"
   ]
  },
  {
   "cell_type": "code",
   "execution_count": 6,
   "id": "c52ab99f-41d2-4b7f-a179-90681a8a0a81",
   "metadata": {},
   "outputs": [],
   "source": [
    "train = list(os.listdir(path+'train'))\n",
    "test = list(os.listdir(path+'test'))"
   ]
  },
  {
   "cell_type": "code",
   "execution_count": 7,
   "id": "21aa39ee-b25f-4bdc-950a-9389eb93765a",
   "metadata": {},
   "outputs": [],
   "source": [
    "sources = ['drum', 'bass', 'other', 'vocals']"
   ]
  },
  {
   "cell_type": "code",
   "execution_count": 8,
   "id": "f07f7f9c-2d6b-42b9-b5ac-0f4bd9aeb6a7",
   "metadata": {},
   "outputs": [
    {
     "name": "stderr",
     "output_type": "stream",
     "text": [
      "50it [00:00, 3334.53it/s]\n"
     ]
    }
   ],
   "source": [
    "all_scenes = {}\n",
    "counter = 0\n",
    "sample_rate = 44100\n",
    "segment_length = sample_rate * 1\n",
    "\n",
    "for idx, val in tqdm(enumerate(test)):\n",
    "    p = path + 'test/' + val + \"/\"\n",
    "    info = torchaudio.info(f\"{p}mixture.wav\")\n",
    "    seconds = info.num_frames // 44100\n",
    "    for i in range(0, seconds - 1, 1):\n",
    "        start_point = i * 44100\n",
    "        if start_point + 44100 < info.num_frames:\n",
    "            all_scenes[counter] = {'music_path': p, 'start_point': start_point, 'length': 44100, 'frames' : info.num_frames}\n",
    "            counter += 1"
   ]
  },
  {
   "cell_type": "code",
   "execution_count": 9,
   "id": "d6d4eb9a-f08d-4452-a4ad-b9769a218278",
   "metadata": {},
   "outputs": [],
   "source": [
    "def turn_transcription_into_roll(transcription, frames, threshold=1.0):\n",
    "    \"\"\"\n",
    "    Convert transcription into a piano roll, selectively including notes based on a threshold.\n",
    "    \n",
    "    Args:\n",
    "        transcription (music21.stream.Score): The transcription data.\n",
    "        frames (int): The number of frames in the output roll.\n",
    "        threshold (float): The threshold for including a note (0.0 to 1.0).\n",
    "    \n",
    "    Returns:\n",
    "        np.ndarray: The piano roll representation of the transcription.\n",
    "    \"\"\"\n",
    "    # Determine your sampling frequency (frames per second)\n",
    "    fs = 44100\n",
    "    \n",
    "    piano_roll_length = int(frames)\n",
    "    \n",
    "    # Initialize the piano roll array\n",
    "    piano_roll = np.zeros((64, piano_roll_length))\n",
    "    \n",
    "    # Fill in the piano roll array\n",
    "    for note in transcription.instruments[0].notes:\n",
    "        if random.random() <= threshold:\n",
    "            # Convert start and end times to frame indices\n",
    "            start_frame = int(np.floor(note.start * fs))\n",
    "            end_frame = int(np.ceil(note.end * fs))\n",
    "            \n",
    "            # Set the corresponding frames to 1 (or note.velocity for a velocity-sensitive representation)\n",
    "            piano_roll[note.pitch, start_frame:end_frame] = 1  # Or use note.velocity\n",
    "        \n",
    "    roll = np.vstack([\n",
    "        piano_roll[35:36, :],  # Kick\n",
    "        piano_roll[38:39, :],  # Snare\n",
    "        piano_roll[42:43, :],  # Hi-hat closed\n",
    "        piano_roll[47:48, :],  # Hi-hat open\n",
    "        piano_roll[49:50, :]   # Crash\n",
    "    ])\n",
    "    \n",
    "    return roll\n"
   ]
  },
  {
   "cell_type": "markdown",
   "id": "20988d30-a95e-4dca-ac19-a6f7cea95717",
   "metadata": {},
   "source": [
    "# model"
   ]
  },
  {
   "cell_type": "code",
   "execution_count": 10,
   "id": "b72a57b5-7115-421d-b26e-3ca3d21fef5d",
   "metadata": {},
   "outputs": [],
   "source": [
    "\n",
    "\n",
    "# # making the model\n",
    "class NewSDRLoss(nn.Module):\n",
    "    \"\"\"\n",
    "    New Signal-to-Distortion Ratio (SDR) loss module based on the MDX challenge definition.\n",
    "\n",
    "    Args:\n",
    "        reduction (str, optional): Specifies the reduction to apply to the output:\n",
    "            'none': no reduction will be applied,\n",
    "            'mean': the mean of the output will be calculated,\n",
    "            'sum': the sum of the output will be calculated. Default: 'mean'.\n",
    "    \"\"\"\n",
    "    def __init__(self, reduction='mean'):\n",
    "        super(NewSDRLoss, self).__init__()\n",
    "        self.reduction = reduction\n",
    "\n",
    "    def forward(self, estimates, references):\n",
    "        \"\"\"\n",
    "        Computes the SDR loss between the estimated and reference signals.\n",
    "\n",
    "        Args:\n",
    "            estimates (Tensor): Estimated signals, shape (batch, channels, height, width).\n",
    "            references (Tensor): Reference signals, shape (batch, channels, height, width).\n",
    "\n",
    "        Returns:\n",
    "            Tensor: The calculated SDR loss.\n",
    "        \"\"\"\n",
    "        assert references.dim() == 4 and estimates.dim() == 4, \"Inputs must be 4D tensors.\"\n",
    "\n",
    "        delta = 1e-7  # Avoid numerical errors\n",
    "        num = torch.sum(torch.square(references), dim=(2, 3))\n",
    "        den = torch.sum(torch.square(references - estimates), dim=(2, 3))\n",
    "        num += delta\n",
    "        den += delta\n",
    "        scores = 10 * torch.log10(num / den)\n",
    "\n",
    "        if self.reduction == 'mean':\n",
    "            return -scores.mean()\n",
    "        elif self.reduction == 'sum':\n",
    "            return -scores.sum()\n",
    "        else:  # 'none'\n",
    "            return -scores\n",
    "        \n",
    "class DrumHybridDemucs(pl.LightningModule):\n",
    "    def __init__(self):\n",
    "        super(DrumHybridDemucs, self).__init__()\n",
    "\n",
    "        self.loss_fn = auraloss.freq.MultiResolutionSTFTLoss(\n",
    "                    fft_sizes=[1024, 2048, 4096],\n",
    "                    hop_sizes=[256, 512, 1024],\n",
    "                    win_lengths=[1024, 2048, 4096],\n",
    "                    scale=\"mel\", \n",
    "                    n_bins=150,\n",
    "                    sample_rate=44100,\n",
    "                    device=\"cuda\"\n",
    "                )\n",
    "\n",
    "        self.loss_fn_2 = auraloss.time.SISDRLoss()\n",
    "\n",
    "        self.loss_fn_3 = torch.nn.L1Loss()\n",
    "\n",
    "        self.loss_fn_4 = NewSDRLoss()\n",
    "\n",
    "        self.loss_used = 0\n",
    "\n",
    "        sources = ['drum',\n",
    "                   'noise',\n",
    "                   ]\n",
    "        \n",
    "        self.demucs_mixer = htdemucs.HTDemucs(sources=sources, audio_channels=7)\n",
    "\n",
    "        self.out_conv = nn.Conv1d(in_channels=7, out_channels=2, kernel_size=1)\n",
    "        self.out = nn.Conv1d(in_channels=2, out_channels=2, kernel_size=1)      \n",
    "\n",
    "\n",
    "    def compute_loss(self, outputs, ref_signals):\n",
    "        # loss = self.loss_fn(outputs, ref_signals) + self.loss_fn_2(outputs, ref_signals) +  self.loss_fn_3(outputs, ref_signals)\n",
    "        loss = self.loss_fn_4(outputs.unsqueeze(2), ref_signals.unsqueeze(2))\n",
    "        return loss\n",
    "    \n",
    "    def forward(self, audio, drumroll):\n",
    "        to_mix = torch.cat([audio, drumroll], axis=1)\n",
    "        out = self.demucs_mixer(to_mix)\n",
    "        out_2 = self.out_conv(out[:, 0, :, :])\n",
    "        out_2 = self.out(out_2)\n",
    "        # out_2 = torch.tanh(out_2)\n",
    "\n",
    "        return out_2\n",
    "    \n",
    "    def training_step(self, batch, batch_idx):\n",
    "        # training_step defines the train loop. It is independent of forward\n",
    "        audio, drum, drumroll = batch\n",
    "        \n",
    "        outputs = self.forward(audio, drumroll)\n",
    "        # print(outputs.size())\n",
    "\n",
    "        if batch_idx % 256 == 0:\n",
    "            input_signal = audio[0].cpu().detach().numpy().T\n",
    "            generated_signal = outputs[0].cpu().detach().numpy().T\n",
    "            drum_signal = drum[0].cpu().detach().numpy().T \n",
    "            wandb.log({'audio_input': [wandb.Audio(input_signal, caption=\"Input\", sample_rate=44100)]})\n",
    "            wandb.log({'audio_reference': [wandb.Audio(drum_signal, caption=\"Reference\", sample_rate=44100)]})\n",
    "            wandb.log({'audio_output': [wandb.Audio(generated_signal, caption=\"Output\", sample_rate=44100)]})\n",
    "             \n",
    "            for i in range(5):\n",
    "                wandb.log({f'drum_{i + 1}': [wandb.Audio(drumroll[0].cpu().detach().numpy()[i, :], caption=\"Output\", sample_rate=44100)]})\n",
    "\n",
    "\n",
    "        loss = self.compute_loss(outputs, drum)         \n",
    "\n",
    "        self.log('train_loss', loss, on_step=True, on_epoch=True, prog_bar=True, logger=True)\n",
    "        \n",
    "        return loss\n",
    "    \n",
    "\n",
    "    def configure_optimizers(self):\n",
    "        # Define your optimizer and optionally learning rate scheduler here\n",
    "        optimizer = optim.Adam(self.parameters(), lr=0.001)\n",
    "        scheduler = lr_scheduler.StepLR(optimizer, step_size=1, gamma=0.99)\n",
    "        return [optimizer], [scheduler]\n",
    "        \n"
   ]
  },
  {
   "cell_type": "code",
   "execution_count": 11,
   "id": "79d11190-4e68-41f8-ae19-36d8199c1643",
   "metadata": {},
   "outputs": [],
   "source": [
    "def load_audio(path, start_point, filename):\n",
    "    audio_tensors = []\n",
    "    waveform, _ = torchaudio.load(f\"{path}/{filename}\")\n",
    "    return waveform\n",
    "\n",
    "def load_roll(path, start_point, frames, threshold=1.0):\n",
    "    midi = path + '/mixture.wav.mid'\n",
    "    transcription = pretty_midi.PrettyMIDI(midi)\n",
    "    roll = turn_transcription_into_roll(transcription, frames, threshold)\n",
    "\n",
    "    return torch.from_numpy(roll).float()\n"
   ]
  },
  {
   "cell_type": "markdown",
   "id": "28a00457-307d-4743-9784-9f4cdae73730",
   "metadata": {},
   "source": [
    "# SISNR"
   ]
  },
  {
   "cell_type": "code",
   "execution_count": 12,
   "id": "3873fcee-a3cb-4975-98f5-fc50e77883fa",
   "metadata": {},
   "outputs": [],
   "source": [
    "def separate_sources(\n",
    "    model,\n",
    "    mix,\n",
    "    drumroll,\n",
    "    segment=4.0,\n",
    "    overlap=0,\n",
    "    device=None,\n",
    "):\n",
    "    \"\"\"\n",
    "    Apply model to a given mixture. Use fade, and add segments together in order to add model segment by segment.\n",
    "\n",
    "    Args:\n",
    "        segment (int): segment length in seconds\n",
    "        device (torch.device, str, or None): if provided, device on which to\n",
    "            execute the computation, otherwise `mix.device` is assumed.\n",
    "            When `device` is different from `mix.device`, only local computations will\n",
    "            be on `device`, while the entire tracks will be stored on `mix.device`.\n",
    "    \"\"\"\n",
    "    if device is None:\n",
    "        device = mix.device\n",
    "    else:\n",
    "        device = torch.device(device)\n",
    "\n",
    "    batch, channels, length = mix.shape\n",
    "\n",
    "    chunk_len = int(sample_rate * segment * (1 + overlap))\n",
    "    start = 0\n",
    "    end = chunk_len\n",
    "    overlap_frames = overlap * sample_rate\n",
    "    fade = Fade(fade_in_len=0, fade_out_len=int(overlap_frames), fade_shape=\"linear\")\n",
    "\n",
    "    final = torch.zeros(batch, channels, length, device=device)\n",
    "\n",
    "    while start < length - overlap_frames:\n",
    "        chunk = mix[:, :, start:end]\n",
    "        roll = drumroll[:, :, start:end]\n",
    "        \n",
    "        with torch.no_grad():\n",
    "            out = model.forward(chunk, roll)\n",
    "        # print(out.shape)\n",
    "        out = fade(out)\n",
    "        # print(out.shape)\n",
    "        try:\n",
    "            final[:, :, start:end] += out\n",
    "        except:\n",
    "            pass\n",
    "        if start == 0:\n",
    "            fade.fade_in_len = int(overlap_frames)\n",
    "            start += int(chunk_len - overlap_frames)\n",
    "        else:\n",
    "            start += chunk_len\n",
    "        end += chunk_len\n",
    "        if end >= length:\n",
    "            fade.fade_out_len = 0\n",
    "    return final"
   ]
  },
  {
   "cell_type": "code",
   "execution_count": 13,
   "id": "b97a63a5-d58e-47db-9768-e063efd5da5a",
   "metadata": {},
   "outputs": [],
   "source": [
    "class AudioData:\n",
    "    def __init__(self, audio):\n",
    "        self.audio = audio"
   ]
  },
  {
   "cell_type": "code",
   "execution_count": 14,
   "id": "0bc5296c-89cf-4321-98dd-5ed9ca7d325a",
   "metadata": {},
   "outputs": [],
   "source": [
    "duration = 64 * 44100"
   ]
  },
  {
   "cell_type": "code",
   "execution_count": 15,
   "id": "bcf06e62-3267-4faf-838f-70f14be50e92",
   "metadata": {},
   "outputs": [
    {
     "name": "stderr",
     "output_type": "stream",
     "text": [
      "C:\\Python311\\Lib\\site-packages\\pytorch_lightning\\utilities\\migration\\utils.py:55: The loaded checkpoint was produced with Lightning v2.2.1, which is newer than your current Lightning version: v2.1.2\n",
      "  2%|███▋                                                                                                                                                                                       | 1/50 [00:14<12:00, 14.70s/it]"
     ]
    },
    {
     "name": "stdout",
     "output_type": "stream",
     "text": [
      "drums           ==> SDR:   7.654  SIR: 205.546  ISR:  11.652  SAR:   6.761  \n",
      "bass            ==> SDR:   7.654  SIR: 205.546  ISR:  11.652  SAR:   6.761  \n",
      "\n"
     ]
    },
    {
     "name": "stderr",
     "output_type": "stream",
     "text": [
      "  4%|███████▍                                                                                                                                                                                   | 2/50 [00:25<10:03, 12.58s/it]"
     ]
    },
    {
     "name": "stdout",
     "output_type": "stream",
     "text": [
      "drums           ==> SDR:   3.181  SIR: 185.632  ISR:   8.234  SAR:   0.679  \n",
      "bass            ==> SDR:   3.181  SIR: 185.632  ISR:   8.234  SAR:   0.679  \n",
      "\n"
     ]
    },
    {
     "name": "stderr",
     "output_type": "stream",
     "text": [
      "  6%|███████████▏                                                                                                                                                                               | 3/50 [00:36<09:18, 11.88s/it]"
     ]
    },
    {
     "name": "stdout",
     "output_type": "stream",
     "text": [
      "drums           ==> SDR:   4.484  SIR: 229.141  ISR:   9.965  SAR:   3.364  \n",
      "bass            ==> SDR:   4.484  SIR: 229.141  ISR:   9.965  SAR:   3.364  \n",
      "\n"
     ]
    },
    {
     "name": "stderr",
     "output_type": "stream",
     "text": [
      "  8%|██████████████▉                                                                                                                                                                            | 4/50 [00:48<08:55, 11.65s/it]"
     ]
    },
    {
     "name": "stdout",
     "output_type": "stream",
     "text": [
      "drums           ==> SDR:   1.519  SIR: 225.070  ISR:  13.102  SAR:  -0.131  \n",
      "bass            ==> SDR:   1.519  SIR: 225.070  ISR:  13.102  SAR:  -0.131  \n",
      "\n"
     ]
    },
    {
     "name": "stderr",
     "output_type": "stream",
     "text": [
      " 10%|██████████████████▋                                                                                                                                                                        | 5/50 [00:59<08:46, 11.70s/it]"
     ]
    },
    {
     "name": "stdout",
     "output_type": "stream",
     "text": [
      "drums           ==> SDR:   9.338  SIR: 194.876  ISR:  14.871  SAR:   9.304  \n",
      "bass            ==> SDR:   9.338  SIR: 194.876  ISR:  14.871  SAR:   9.304  \n",
      "\n"
     ]
    },
    {
     "name": "stderr",
     "output_type": "stream",
     "text": [
      " 12%|██████████████████████▍                                                                                                                                                                    | 6/50 [01:13<09:05, 12.39s/it]"
     ]
    },
    {
     "name": "stdout",
     "output_type": "stream",
     "text": [
      "drums           ==> SDR:   5.282  SIR: 234.399  ISR:   9.484  SAR:   4.419  \n",
      "bass            ==> SDR:   5.282  SIR: 234.399  ISR:   9.484  SAR:   4.419  \n",
      "\n"
     ]
    },
    {
     "name": "stderr",
     "output_type": "stream",
     "text": [
      " 14%|██████████████████████████▏                                                                                                                                                                | 7/50 [01:24<08:37, 12.04s/it]"
     ]
    },
    {
     "name": "stdout",
     "output_type": "stream",
     "text": [
      "drums           ==> SDR:   5.560  SIR: 225.356  ISR:  11.383  SAR:   4.684  \n",
      "bass            ==> SDR:   5.560  SIR: 225.356  ISR:  11.383  SAR:   4.684  \n",
      "\n"
     ]
    },
    {
     "name": "stderr",
     "output_type": "stream",
     "text": [
      " 16%|█████████████████████████████▉                                                                                                                                                             | 8/50 [01:35<08:08, 11.63s/it]"
     ]
    },
    {
     "name": "stdout",
     "output_type": "stream",
     "text": [
      "drums           ==> SDR:   4.273  SIR: 242.388  ISR:  10.308  SAR:   3.270  \n",
      "bass            ==> SDR:   4.273  SIR: 242.388  ISR:  10.308  SAR:   3.270  \n",
      "\n"
     ]
    },
    {
     "name": "stderr",
     "output_type": "stream",
     "text": [
      " 18%|█████████████████████████████████▋                                                                                                                                                         | 9/50 [01:47<07:55, 11.61s/it]"
     ]
    },
    {
     "name": "stdout",
     "output_type": "stream",
     "text": [
      "drums           ==> SDR:   6.324  SIR: 167.936  ISR:   9.190  SAR:   6.077  \n",
      "bass            ==> SDR:   6.324  SIR: 167.936  ISR:   9.190  SAR:   6.077  \n",
      "\n"
     ]
    },
    {
     "name": "stderr",
     "output_type": "stream",
     "text": [
      " 20%|█████████████████████████████████████▏                                                                                                                                                    | 10/50 [01:58<07:36, 11.41s/it]"
     ]
    },
    {
     "name": "stdout",
     "output_type": "stream",
     "text": [
      "drums           ==> SDR:  -7.490  SIR: 174.805  ISR:   7.574  SAR: -10.523  \n",
      "bass            ==> SDR:  -7.490  SIR: 174.805  ISR:   7.574  SAR: -10.523  \n",
      "\n"
     ]
    },
    {
     "name": "stderr",
     "output_type": "stream",
     "text": [
      " 22%|████████████████████████████████████████▉                                                                                                                                                 | 11/50 [02:09<07:26, 11.45s/it]"
     ]
    },
    {
     "name": "stdout",
     "output_type": "stream",
     "text": [
      "drums           ==> SDR:   9.835  SIR: 220.064  ISR:  14.489  SAR:  10.148  \n",
      "bass            ==> SDR:   9.835  SIR: 220.064  ISR:  14.489  SAR:  10.148  \n",
      "\n"
     ]
    },
    {
     "name": "stderr",
     "output_type": "stream",
     "text": [
      " 24%|████████████████████████████████████████████▋                                                                                                                                             | 12/50 [02:21<07:17, 11.51s/it]"
     ]
    },
    {
     "name": "stdout",
     "output_type": "stream",
     "text": [
      "drums           ==> SDR:   6.326  SIR: 226.223  ISR:   7.886  SAR:   6.921  \n",
      "bass            ==> SDR:   6.326  SIR: 226.223  ISR:   7.886  SAR:   6.921  \n",
      "\n"
     ]
    },
    {
     "name": "stderr",
     "output_type": "stream",
     "text": [
      " 26%|████████████████████████████████████████████████▎                                                                                                                                         | 13/50 [02:31<06:51, 11.12s/it]"
     ]
    },
    {
     "name": "stdout",
     "output_type": "stream",
     "text": [
      "drums           ==> SDR:   1.586  SIR:  93.643  ISR:   2.284  SAR:   0.286  \n",
      "bass            ==> SDR:   1.586  SIR:  93.643  ISR:   2.284  SAR:   0.286  \n",
      "\n"
     ]
    },
    {
     "name": "stderr",
     "output_type": "stream",
     "text": [
      " 28%|████████████████████████████████████████████████████                                                                                                                                      | 14/50 [02:44<06:55, 11.55s/it]"
     ]
    },
    {
     "name": "stdout",
     "output_type": "stream",
     "text": [
      "drums           ==> SDR:   8.197  SIR: 215.773  ISR:  12.656  SAR:   8.318  \n",
      "bass            ==> SDR:   8.197  SIR: 215.773  ISR:  12.656  SAR:   8.318  \n",
      "\n"
     ]
    },
    {
     "name": "stderr",
     "output_type": "stream",
     "text": [
      " 30%|███████████████████████████████████████████████████████▊                                                                                                                                  | 15/50 [02:56<06:56, 11.90s/it]"
     ]
    },
    {
     "name": "stdout",
     "output_type": "stream",
     "text": [
      "drums           ==> SDR:   6.663  SIR: 205.035  ISR:  12.130  SAR:   5.981  \n",
      "bass            ==> SDR:   6.663  SIR: 205.035  ISR:  12.130  SAR:   5.981  \n",
      "\n"
     ]
    },
    {
     "name": "stderr",
     "output_type": "stream",
     "text": [
      " 32%|███████████████████████████████████████████████████████████▌                                                                                                                              | 16/50 [03:09<06:53, 12.16s/it]"
     ]
    },
    {
     "name": "stdout",
     "output_type": "stream",
     "text": [
      "drums           ==> SDR:   4.455  SIR: 218.515  ISR:   8.630  SAR:   2.612  \n",
      "bass            ==> SDR:   4.455  SIR: 218.515  ISR:   8.630  SAR:   2.612  \n",
      "\n"
     ]
    },
    {
     "name": "stderr",
     "output_type": "stream",
     "text": [
      " 34%|███████████████████████████████████████████████████████████████▏                                                                                                                          | 17/50 [03:22<06:48, 12.37s/it]"
     ]
    },
    {
     "name": "stdout",
     "output_type": "stream",
     "text": [
      "drums           ==> SDR:   2.623  SIR: 221.924  ISR:   5.973  SAR:  -0.317  \n",
      "bass            ==> SDR:   2.623  SIR: 221.924  ISR:   5.973  SAR:  -0.317  \n",
      "\n"
     ]
    },
    {
     "name": "stderr",
     "output_type": "stream",
     "text": [
      " 36%|██████████████████████████████████████████████████████████████████▉                                                                                                                       | 18/50 [03:34<06:35, 12.36s/it]"
     ]
    },
    {
     "name": "stdout",
     "output_type": "stream",
     "text": [
      "drums           ==> SDR:  10.183  SIR: 201.568  ISR:  14.404  SAR:  10.648  \n",
      "bass            ==> SDR:  10.183  SIR: 201.568  ISR:  14.404  SAR:  10.648  \n",
      "\n"
     ]
    },
    {
     "name": "stderr",
     "output_type": "stream",
     "text": [
      " 38%|██████████████████████████████████████████████████████████████████████▋                                                                                                                   | 19/50 [03:47<06:25, 12.42s/it]"
     ]
    },
    {
     "name": "stdout",
     "output_type": "stream",
     "text": [
      "drums           ==> SDR:   9.594  SIR: 221.321  ISR:  18.796  SAR:   9.278  \n",
      "bass            ==> SDR:   9.594  SIR: 221.321  ISR:  18.796  SAR:   9.278  \n",
      "\n"
     ]
    },
    {
     "name": "stderr",
     "output_type": "stream",
     "text": [
      " 40%|██████████████████████████████████████████████████████████████████████████▍                                                                                                               | 20/50 [03:59<06:07, 12.24s/it]"
     ]
    },
    {
     "name": "stdout",
     "output_type": "stream",
     "text": [
      "drums           ==> SDR:   1.259  SIR: 213.469  ISR:   1.674  SAR:   5.737  \n",
      "bass            ==> SDR:   1.259  SIR: 213.469  ISR:   1.674  SAR:   5.737  \n",
      "\n"
     ]
    },
    {
     "name": "stderr",
     "output_type": "stream",
     "text": [
      " 42%|██████████████████████████████████████████████████████████████████████████████                                                                                                            | 21/50 [04:12<05:59, 12.39s/it]"
     ]
    },
    {
     "name": "stdout",
     "output_type": "stream",
     "text": [
      "drums           ==> SDR:   7.835  SIR: 192.650  ISR:  12.475  SAR:   7.705  \n",
      "bass            ==> SDR:   7.835  SIR: 192.650  ISR:  12.475  SAR:   7.705  \n",
      "\n"
     ]
    },
    {
     "name": "stderr",
     "output_type": "stream",
     "text": [
      " 44%|█████████████████████████████████████████████████████████████████████████████████▊                                                                                                        | 22/50 [04:24<05:48, 12.43s/it]"
     ]
    },
    {
     "name": "stdout",
     "output_type": "stream",
     "text": [
      "drums           ==> SDR:  -7.737  SIR: 270.551  ISR:   0.878  SAR: -20.347  \n",
      "bass            ==> SDR:  -7.737  SIR: 270.551  ISR:   0.878  SAR: -20.347  \n",
      "\n"
     ]
    },
    {
     "name": "stderr",
     "output_type": "stream",
     "text": [
      " 46%|█████████████████████████████████████████████████████████████████████████████████████▌                                                                                                    | 23/50 [04:35<05:27, 12.12s/it]"
     ]
    },
    {
     "name": "stdout",
     "output_type": "stream",
     "text": [
      "drums           ==> SDR:   4.322  SIR: 168.954  ISR:   8.296  SAR:   2.910  \n",
      "bass            ==> SDR:   4.322  SIR: 168.954  ISR:   8.296  SAR:   2.910  \n",
      "\n"
     ]
    },
    {
     "name": "stderr",
     "output_type": "stream",
     "text": [
      " 48%|█████████████████████████████████████████████████████████████████████████████████████████▎                                                                                                | 24/50 [04:47<05:11, 12.00s/it]"
     ]
    },
    {
     "name": "stdout",
     "output_type": "stream",
     "text": [
      "drums           ==> SDR:   7.314  SIR: 133.232  ISR:  12.085  SAR:   7.159  \n",
      "bass            ==> SDR:   7.314  SIR: 133.232  ISR:  12.085  SAR:   7.159  \n",
      "\n"
     ]
    },
    {
     "name": "stderr",
     "output_type": "stream",
     "text": [
      " 50%|█████████████████████████████████████████████████████████████████████████████████████████████                                                                                             | 25/50 [04:59<05:00, 12.04s/it]"
     ]
    },
    {
     "name": "stdout",
     "output_type": "stream",
     "text": [
      "drums           ==> SDR:   3.677  SIR: 225.428  ISR:   8.493  SAR:   2.356  \n",
      "bass            ==> SDR:   3.677  SIR: 225.428  ISR:   8.493  SAR:   2.356  \n",
      "\n"
     ]
    },
    {
     "name": "stderr",
     "output_type": "stream",
     "text": [
      " 52%|████████████████████████████████████████████████████████████████████████████████████████████████▋                                                                                         | 26/50 [05:11<04:48, 12.01s/it]"
     ]
    },
    {
     "name": "stdout",
     "output_type": "stream",
     "text": [
      "drums           ==> SDR:  11.777  SIR: 179.856  ISR:  17.998  SAR:  11.829  \n",
      "bass            ==> SDR:  11.777  SIR: 179.856  ISR:  17.998  SAR:  11.829  \n",
      "\n"
     ]
    },
    {
     "name": "stderr",
     "output_type": "stream",
     "text": [
      " 54%|████████████████████████████████████████████████████████████████████████████████████████████████████▍                                                                                     | 27/50 [05:24<04:41, 12.24s/it]"
     ]
    },
    {
     "name": "stdout",
     "output_type": "stream",
     "text": [
      "drums           ==> SDR:   7.304  SIR: 185.364  ISR:  16.340  SAR:   7.053  \n",
      "bass            ==> SDR:   7.304  SIR: 185.364  ISR:  16.340  SAR:   7.053  \n",
      "\n"
     ]
    },
    {
     "name": "stderr",
     "output_type": "stream",
     "text": [
      " 56%|████████████████████████████████████████████████████████████████████████████████████████████████████████▏                                                                                 | 28/50 [05:36<04:27, 12.15s/it]"
     ]
    },
    {
     "name": "stdout",
     "output_type": "stream",
     "text": [
      "drums           ==> SDR:  10.157  SIR: 189.899  ISR:  12.718  SAR:  11.184  \n",
      "bass            ==> SDR:  10.157  SIR: 189.899  ISR:  12.718  SAR:  11.184  \n",
      "\n"
     ]
    },
    {
     "name": "stderr",
     "output_type": "stream",
     "text": [
      " 58%|███████████████████████████████████████████████████████████████████████████████████████████████████████████▉                                                                              | 29/50 [05:47<04:10, 11.93s/it]"
     ]
    },
    {
     "name": "stdout",
     "output_type": "stream",
     "text": [
      "drums           ==> SDR:   5.464  SIR: 196.790  ISR:   7.083  SAR:   7.367  \n",
      "bass            ==> SDR:   5.464  SIR: 196.790  ISR:   7.083  SAR:   7.367  \n",
      "\n"
     ]
    },
    {
     "name": "stderr",
     "output_type": "stream",
     "text": [
      " 60%|███████████████████████████████████████████████████████████████████████████████████████████████████████████████▌                                                                          | 30/50 [05:59<03:58, 11.92s/it]"
     ]
    },
    {
     "name": "stdout",
     "output_type": "stream",
     "text": [
      "drums           ==> SDR:   6.763  SIR: 217.241  ISR:  11.693  SAR:   6.444  \n",
      "bass            ==> SDR:   6.763  SIR: 217.241  ISR:  11.693  SAR:   6.444  \n",
      "\n"
     ]
    },
    {
     "name": "stderr",
     "output_type": "stream",
     "text": [
      " 62%|███████████████████████████████████████████████████████████████████████████████████████████████████████████████████▎                                                                      | 31/50 [06:11<03:47, 11.97s/it]"
     ]
    },
    {
     "name": "stdout",
     "output_type": "stream",
     "text": [
      "drums           ==> SDR:   2.804  SIR: 189.495  ISR:  10.214  SAR:   1.126  \n",
      "bass            ==> SDR:   2.804  SIR: 189.495  ISR:  10.214  SAR:   1.126  \n",
      "\n"
     ]
    },
    {
     "name": "stderr",
     "output_type": "stream",
     "text": [
      " 64%|███████████████████████████████████████████████████████████████████████████████████████████████████████████████████████                                                                   | 32/50 [06:23<03:32, 11.81s/it]"
     ]
    },
    {
     "name": "stdout",
     "output_type": "stream",
     "text": [
      "drums           ==> SDR:   1.611  SIR: 188.190  ISR:   5.198  SAR:   1.531  \n",
      "bass            ==> SDR:   1.611  SIR: 188.190  ISR:   5.198  SAR:   1.531  \n",
      "\n"
     ]
    },
    {
     "name": "stderr",
     "output_type": "stream",
     "text": [
      " 66%|██████████████████████████████████████████████████████████████████████████████████████████████████████████████████████████▊                                                               | 33/50 [06:35<03:22, 11.90s/it]"
     ]
    },
    {
     "name": "stdout",
     "output_type": "stream",
     "text": [
      "drums           ==> SDR:   2.652  SIR: 218.220  ISR:   5.875  SAR:  -0.247  \n",
      "bass            ==> SDR:   2.652  SIR: 218.220  ISR:   5.875  SAR:  -0.247  \n",
      "\n"
     ]
    },
    {
     "name": "stderr",
     "output_type": "stream",
     "text": [
      " 68%|██████████████████████████████████████████████████████████████████████████████████████████████████████████████████████████████▍                                                           | 34/50 [06:46<03:07, 11.74s/it]"
     ]
    },
    {
     "name": "stdout",
     "output_type": "stream",
     "text": [
      "drums           ==> SDR:   4.933  SIR: 249.186  ISR:   8.462  SAR:   3.797  \n",
      "bass            ==> SDR:   4.933  SIR: 249.186  ISR:   8.462  SAR:   3.797  \n",
      "\n"
     ]
    },
    {
     "name": "stderr",
     "output_type": "stream",
     "text": [
      " 70%|██████████████████████████████████████████████████████████████████████████████████████████████████████████████████████████████████▏                                                       | 35/50 [06:58<02:54, 11.65s/it]"
     ]
    },
    {
     "name": "stdout",
     "output_type": "stream",
     "text": [
      "drums           ==> SDR:   9.313  SIR: 225.060  ISR:  13.595  SAR:   9.625  \n",
      "bass            ==> SDR:   9.313  SIR: 225.060  ISR:  13.595  SAR:   9.625  \n",
      "\n"
     ]
    },
    {
     "name": "stderr",
     "output_type": "stream",
     "text": [
      " 72%|█████████████████████████████████████████████████████████████████████████████████████████████████████████████████████████████████████▉                                                    | 36/50 [07:09<02:39, 11.40s/it]"
     ]
    },
    {
     "name": "stdout",
     "output_type": "stream",
     "text": [
      "drums           ==> SDR:   2.243  SIR: 200.264  ISR:   7.370  SAR:   0.110  \n",
      "bass            ==> SDR:   2.243  SIR: 200.264  ISR:   7.370  SAR:   0.110  \n",
      "\n"
     ]
    },
    {
     "name": "stderr",
     "output_type": "stream",
     "text": [
      " 74%|█████████████████████████████████████████████████████████████████████████████████████████████████████████████████████████████████████████▋                                                | 37/50 [07:20<02:27, 11.38s/it]"
     ]
    },
    {
     "name": "stdout",
     "output_type": "stream",
     "text": [
      "drums           ==> SDR:   4.215  SIR: 201.285  ISR:  10.595  SAR:   2.420  \n",
      "bass            ==> SDR:   4.215  SIR: 201.285  ISR:  10.595  SAR:   2.420  \n",
      "\n"
     ]
    },
    {
     "name": "stderr",
     "output_type": "stream",
     "text": [
      " 76%|█████████████████████████████████████████████████████████████████████████████████████████████████████████████████████████████████████████████▎                                            | 38/50 [07:31<02:15, 11.30s/it]"
     ]
    },
    {
     "name": "stdout",
     "output_type": "stream",
     "text": [
      "drums           ==> SDR:   7.972  SIR: 221.489  ISR:   9.925  SAR:   5.243  \n",
      "bass            ==> SDR:   7.972  SIR: 221.489  ISR:   9.925  SAR:   5.243  \n",
      "\n"
     ]
    },
    {
     "name": "stderr",
     "output_type": "stream",
     "text": [
      " 78%|█████████████████████████████████████████████████████████████████████████████████████████████████████████████████████████████████████████████████                                         | 39/50 [07:42<02:03, 11.21s/it]"
     ]
    },
    {
     "name": "stdout",
     "output_type": "stream",
     "text": [
      "drums           ==> SDR:   4.914  SIR: 228.744  ISR:   7.066  SAR:   5.901  \n",
      "bass            ==> SDR:   4.914  SIR: 228.744  ISR:   7.066  SAR:   5.901  \n",
      "\n"
     ]
    },
    {
     "name": "stderr",
     "output_type": "stream",
     "text": [
      " 80%|████████████████████████████████████████████████████████████████████████████████████████████████████████████████████████████████████████████████████▊                                     | 40/50 [07:54<01:53, 11.36s/it]"
     ]
    },
    {
     "name": "stdout",
     "output_type": "stream",
     "text": [
      "drums           ==> SDR:   3.739  SIR: 169.984  ISR:   7.446  SAR:   3.200  \n",
      "bass            ==> SDR:   3.739  SIR: 169.984  ISR:   7.446  SAR:   3.200  \n",
      "\n"
     ]
    },
    {
     "name": "stderr",
     "output_type": "stream",
     "text": [
      " 82%|████████████████████████████████████████████████████████████████████████████████████████████████████████████████████████████████████████████████████████▌                                 | 41/50 [08:05<01:43, 11.45s/it]"
     ]
    },
    {
     "name": "stdout",
     "output_type": "stream",
     "text": [
      "drums           ==> SDR:   5.451  SIR: 187.442  ISR:  11.440  SAR:   4.803  \n",
      "bass            ==> SDR:   5.451  SIR: 187.442  ISR:  11.440  SAR:   4.803  \n",
      "\n"
     ]
    },
    {
     "name": "stderr",
     "output_type": "stream",
     "text": [
      " 84%|████████████████████████████████████████████████████████████████████████████████████████████████████████████████████████████████████████████████████████████▏                             | 42/50 [08:18<01:35, 11.91s/it]"
     ]
    },
    {
     "name": "stdout",
     "output_type": "stream",
     "text": [
      "drums           ==> SDR:   7.301  SIR: 126.824  ISR:  11.385  SAR:   6.715  \n",
      "bass            ==> SDR:   7.301  SIR: 126.824  ISR:  11.385  SAR:   6.715  \n",
      "\n"
     ]
    },
    {
     "name": "stderr",
     "output_type": "stream",
     "text": [
      " 86%|███████████████████████████████████████████████████████████████████████████████████████████████████████████████████████████████████████████████████████████████▉                          | 43/50 [08:30<01:22, 11.81s/it]"
     ]
    },
    {
     "name": "stdout",
     "output_type": "stream",
     "text": [
      "drums           ==> SDR:   5.105  SIR: 185.482  ISR:   9.320  SAR:   3.746  \n",
      "bass            ==> SDR:   5.105  SIR: 185.482  ISR:   9.320  SAR:   3.746  \n",
      "\n"
     ]
    },
    {
     "name": "stderr",
     "output_type": "stream",
     "text": [
      " 88%|███████████████████████████████████████████████████████████████████████████████████████████████████████████████████████████████████████████████████████████████████▋                      | 44/50 [08:42<01:11, 11.91s/it]"
     ]
    },
    {
     "name": "stdout",
     "output_type": "stream",
     "text": [
      "drums           ==> SDR:   7.919  SIR: 217.577  ISR:  11.669  SAR:   7.797  \n",
      "bass            ==> SDR:   7.919  SIR: 217.577  ISR:  11.669  SAR:   7.797  \n",
      "\n"
     ]
    },
    {
     "name": "stderr",
     "output_type": "stream",
     "text": [
      " 90%|███████████████████████████████████████████████████████████████████████████████████████████████████████████████████████████████████████████████████████████████████████▍                  | 45/50 [08:54<00:59, 11.98s/it]"
     ]
    },
    {
     "name": "stdout",
     "output_type": "stream",
     "text": [
      "drums           ==> SDR:   0.759  SIR: 211.955  ISR:   1.521  SAR:  -2.095  \n",
      "bass            ==> SDR:   0.759  SIR: 211.955  ISR:   1.521  SAR:  -2.095  \n",
      "\n"
     ]
    },
    {
     "name": "stderr",
     "output_type": "stream",
     "text": [
      " 92%|███████████████████████████████████████████████████████████████████████████████████████████████████████████████████████████████████████████████████████████████████████████               | 46/50 [09:06<00:48, 12.02s/it]"
     ]
    },
    {
     "name": "stdout",
     "output_type": "stream",
     "text": [
      "drums           ==> SDR:   2.560  SIR: 207.463  ISR:   4.755  SAR:  -0.109  \n",
      "bass            ==> SDR:   2.560  SIR: 207.463  ISR:   4.755  SAR:  -0.109  \n",
      "\n"
     ]
    },
    {
     "name": "stderr",
     "output_type": "stream",
     "text": [
      " 94%|██████████████████████████████████████████████████████████████████████████████████████████████████████████████████████████████████████████████████████████████████████████████▊           | 47/50 [09:17<00:35, 11.71s/it]"
     ]
    },
    {
     "name": "stdout",
     "output_type": "stream",
     "text": [
      "drums           ==> SDR:   3.066  SIR: 161.044  ISR:   5.439  SAR:   2.148  \n",
      "bass            ==> SDR:   3.066  SIR: 161.044  ISR:   5.439  SAR:   2.148  \n",
      "\n"
     ]
    },
    {
     "name": "stderr",
     "output_type": "stream",
     "text": [
      " 96%|██████████████████████████████████████████████████████████████████████████████████████████████████████████████████████████████████████████████████████████████████████████████████▌       | 48/50 [09:31<00:24, 12.20s/it]"
     ]
    },
    {
     "name": "stdout",
     "output_type": "stream",
     "text": [
      "drums           ==> SDR:   3.341  SIR: 216.472  ISR:   8.326  SAR:   1.906  \n",
      "bass            ==> SDR:   3.341  SIR: 216.472  ISR:   8.326  SAR:   1.906  \n",
      "\n"
     ]
    },
    {
     "name": "stderr",
     "output_type": "stream",
     "text": [
      " 98%|██████████████████████████████████████████████████████████████████████████████████████████████████████████████████████████████████████████████████████████████████████████████████████▎   | 49/50 [09:42<00:12, 12.09s/it]"
     ]
    },
    {
     "name": "stdout",
     "output_type": "stream",
     "text": [
      "drums           ==> SDR:   8.907  SIR: 210.413  ISR:  16.607  SAR:   8.657  \n",
      "bass            ==> SDR:   8.907  SIR: 210.413  ISR:  16.607  SAR:   8.657  \n",
      "\n"
     ]
    },
    {
     "name": "stderr",
     "output_type": "stream",
     "text": [
      "100%|██████████████████████████████████████████████████████████████████████████████████████████████████████████████████████████████████████████████████████████████████████████████████████████| 50/50 [09:55<00:00, 11.90s/it]"
     ]
    },
    {
     "name": "stdout",
     "output_type": "stream",
     "text": [
      "drums           ==> SDR:   6.949  SIR: 217.536  ISR:  11.399  SAR:   6.382  \n",
      "bass            ==> SDR:   6.949  SIR: 217.536  ISR:  11.399  SAR:   6.382  \n",
      "\n"
     ]
    },
    {
     "name": "stderr",
     "output_type": "stream",
     "text": [
      "\n",
      "C:\\Python311\\Lib\\site-packages\\pytorch_lightning\\utilities\\migration\\utils.py:55: The loaded checkpoint was produced with Lightning v2.2.1, which is newer than your current Lightning version: v2.1.2\n",
      "  2%|███▋                                                                                                                                                                                       | 1/50 [00:11<09:33, 11.70s/it]"
     ]
    },
    {
     "name": "stdout",
     "output_type": "stream",
     "text": [
      "drums           ==> SDR:   7.667  SIR: 210.363  ISR:  11.358  SAR:   6.719  \n",
      "bass            ==> SDR:   7.667  SIR: 210.363  ISR:  11.358  SAR:   6.719  \n",
      "\n"
     ]
    },
    {
     "name": "stderr",
     "output_type": "stream",
     "text": [
      "  4%|███████▍                                                                                                                                                                                   | 2/50 [00:23<09:26, 11.80s/it]"
     ]
    },
    {
     "name": "stdout",
     "output_type": "stream",
     "text": [
      "drums           ==> SDR:   3.113  SIR: 189.608  ISR:   7.786  SAR:   0.473  \n",
      "bass            ==> SDR:   3.113  SIR: 189.608  ISR:   7.786  SAR:   0.473  \n",
      "\n"
     ]
    },
    {
     "name": "stderr",
     "output_type": "stream",
     "text": [
      "  6%|███████████▏                                                                                                                                                                               | 3/50 [00:35<09:21, 11.94s/it]"
     ]
    },
    {
     "name": "stdout",
     "output_type": "stream",
     "text": [
      "drums           ==> SDR:   4.413  SIR: 229.359  ISR:   9.424  SAR:   3.395  \n",
      "bass            ==> SDR:   4.413  SIR: 229.359  ISR:   9.424  SAR:   3.395  \n",
      "\n"
     ]
    },
    {
     "name": "stderr",
     "output_type": "stream",
     "text": [
      "  8%|██████████████▉                                                                                                                                                                            | 4/50 [00:53<10:51, 14.16s/it]"
     ]
    },
    {
     "name": "stdout",
     "output_type": "stream",
     "text": [
      "drums           ==> SDR:   1.401  SIR: 226.557  ISR:  12.965  SAR:  -0.110  \n",
      "bass            ==> SDR:   1.401  SIR: 226.557  ISR:  12.965  SAR:  -0.110  \n",
      "\n"
     ]
    },
    {
     "name": "stderr",
     "output_type": "stream",
     "text": [
      " 10%|██████████████████▋                                                                                                                                                                        | 5/50 [01:08<10:56, 14.58s/it]"
     ]
    },
    {
     "name": "stdout",
     "output_type": "stream",
     "text": [
      "drums           ==> SDR:   9.046  SIR: 203.540  ISR:  14.162  SAR:   9.045  \n",
      "bass            ==> SDR:   9.046  SIR: 203.540  ISR:  14.162  SAR:   9.045  \n",
      "\n"
     ]
    },
    {
     "name": "stderr",
     "output_type": "stream",
     "text": [
      " 12%|██████████████████████▍                                                                                                                                                                    | 6/50 [01:20<10:07, 13.81s/it]"
     ]
    },
    {
     "name": "stdout",
     "output_type": "stream",
     "text": [
      "drums           ==> SDR:   5.277  SIR: 234.627  ISR:   9.057  SAR:   4.364  \n",
      "bass            ==> SDR:   5.277  SIR: 234.627  ISR:   9.057  SAR:   4.364  \n",
      "\n"
     ]
    },
    {
     "name": "stderr",
     "output_type": "stream",
     "text": [
      " 14%|██████████████████████████▏                                                                                                                                                                | 7/50 [01:32<09:26, 13.16s/it]"
     ]
    },
    {
     "name": "stdout",
     "output_type": "stream",
     "text": [
      "drums           ==> SDR:   5.683  SIR: 228.464  ISR:  11.127  SAR:   4.883  \n",
      "bass            ==> SDR:   5.683  SIR: 228.464  ISR:  11.127  SAR:   4.883  \n",
      "\n"
     ]
    },
    {
     "name": "stderr",
     "output_type": "stream",
     "text": [
      " 16%|█████████████████████████████▉                                                                                                                                                             | 8/50 [01:45<09:10, 13.11s/it]"
     ]
    },
    {
     "name": "stdout",
     "output_type": "stream",
     "text": [
      "drums           ==> SDR:   4.310  SIR: 242.456  ISR:   9.920  SAR:   3.392  \n",
      "bass            ==> SDR:   4.310  SIR: 242.456  ISR:   9.920  SAR:   3.392  \n",
      "\n"
     ]
    },
    {
     "name": "stderr",
     "output_type": "stream",
     "text": [
      " 18%|█████████████████████████████████▋                                                                                                                                                         | 9/50 [01:57<08:40, 12.70s/it]"
     ]
    },
    {
     "name": "stdout",
     "output_type": "stream",
     "text": [
      "drums           ==> SDR:   6.020  SIR: 166.589  ISR:   8.649  SAR:   5.323  \n",
      "bass            ==> SDR:   6.020  SIR: 166.589  ISR:   8.649  SAR:   5.323  \n",
      "\n"
     ]
    },
    {
     "name": "stderr",
     "output_type": "stream",
     "text": [
      " 20%|█████████████████████████████████████▏                                                                                                                                                    | 10/50 [02:08<08:11, 12.29s/it]"
     ]
    },
    {
     "name": "stdout",
     "output_type": "stream",
     "text": [
      "drums           ==> SDR:  -7.490  SIR: 175.504  ISR:   7.442  SAR: -10.673  \n",
      "bass            ==> SDR:  -7.490  SIR: 175.504  ISR:   7.442  SAR: -10.673  \n",
      "\n"
     ]
    },
    {
     "name": "stderr",
     "output_type": "stream",
     "text": [
      " 22%|████████████████████████████████████████▉                                                                                                                                                 | 11/50 [02:20<07:49, 12.05s/it]"
     ]
    },
    {
     "name": "stdout",
     "output_type": "stream",
     "text": [
      "drums           ==> SDR:   9.501  SIR: 223.666  ISR:  13.754  SAR:   9.732  \n",
      "bass            ==> SDR:   9.501  SIR: 223.666  ISR:  13.754  SAR:   9.732  \n",
      "\n"
     ]
    },
    {
     "name": "stderr",
     "output_type": "stream",
     "text": [
      " 24%|████████████████████████████████████████████▋                                                                                                                                             | 12/50 [02:32<07:36, 12.02s/it]"
     ]
    },
    {
     "name": "stdout",
     "output_type": "stream",
     "text": [
      "drums           ==> SDR:   6.189  SIR: 215.642  ISR:   7.683  SAR:   6.696  \n",
      "bass            ==> SDR:   6.189  SIR: 215.642  ISR:   7.683  SAR:   6.696  \n",
      "\n"
     ]
    },
    {
     "name": "stderr",
     "output_type": "stream",
     "text": [
      " 26%|████████████████████████████████████████████████▎                                                                                                                                         | 13/50 [02:44<07:28, 12.12s/it]"
     ]
    },
    {
     "name": "stdout",
     "output_type": "stream",
     "text": [
      "drums           ==> SDR:   1.118  SIR:  93.348  ISR:   1.886  SAR:  -0.871  \n",
      "bass            ==> SDR:   1.118  SIR:  93.348  ISR:   1.886  SAR:  -0.871  \n",
      "\n"
     ]
    },
    {
     "name": "stderr",
     "output_type": "stream",
     "text": [
      " 28%|████████████████████████████████████████████████████                                                                                                                                      | 14/50 [02:58<07:32, 12.58s/it]"
     ]
    },
    {
     "name": "stdout",
     "output_type": "stream",
     "text": [
      "drums           ==> SDR:   7.844  SIR: 217.043  ISR:  12.112  SAR:   8.153  \n",
      "bass            ==> SDR:   7.844  SIR: 217.043  ISR:  12.112  SAR:   8.153  \n",
      "\n"
     ]
    },
    {
     "name": "stderr",
     "output_type": "stream",
     "text": [
      " 30%|███████████████████████████████████████████████████████▊                                                                                                                                  | 15/50 [03:12<07:32, 12.93s/it]"
     ]
    },
    {
     "name": "stdout",
     "output_type": "stream",
     "text": [
      "drums           ==> SDR:   6.518  SIR: 217.790  ISR:  11.792  SAR:   5.842  \n",
      "bass            ==> SDR:   6.518  SIR: 217.790  ISR:  11.792  SAR:   5.842  \n",
      "\n"
     ]
    },
    {
     "name": "stderr",
     "output_type": "stream",
     "text": [
      " 32%|███████████████████████████████████████████████████████████▌                                                                                                                              | 16/50 [03:26<07:36, 13.42s/it]"
     ]
    },
    {
     "name": "stdout",
     "output_type": "stream",
     "text": [
      "drums           ==> SDR:   4.201  SIR: 217.882  ISR:   8.100  SAR:   2.589  \n",
      "bass            ==> SDR:   4.201  SIR: 217.882  ISR:   8.100  SAR:   2.589  \n",
      "\n"
     ]
    },
    {
     "name": "stderr",
     "output_type": "stream",
     "text": [
      " 34%|███████████████████████████████████████████████████████████████▏                                                                                                                          | 17/50 [03:40<07:31, 13.69s/it]"
     ]
    },
    {
     "name": "stdout",
     "output_type": "stream",
     "text": [
      "drums           ==> SDR:   2.567  SIR: 227.322  ISR:   5.875  SAR:  -0.484  \n",
      "bass            ==> SDR:   2.567  SIR: 227.322  ISR:   5.875  SAR:  -0.484  \n",
      "\n"
     ]
    },
    {
     "name": "stderr",
     "output_type": "stream",
     "text": [
      " 36%|██████████████████████████████████████████████████████████████████▉                                                                                                                       | 18/50 [03:55<07:25, 13.92s/it]"
     ]
    },
    {
     "name": "stdout",
     "output_type": "stream",
     "text": [
      "drums           ==> SDR:  10.231  SIR: 202.724  ISR:  14.464  SAR:  10.646  \n",
      "bass            ==> SDR:  10.231  SIR: 202.724  ISR:  14.464  SAR:  10.646  \n",
      "\n"
     ]
    },
    {
     "name": "stderr",
     "output_type": "stream",
     "text": [
      " 38%|██████████████████████████████████████████████████████████████████████▋                                                                                                                   | 19/50 [04:08<07:06, 13.76s/it]"
     ]
    },
    {
     "name": "stdout",
     "output_type": "stream",
     "text": [
      "drums           ==> SDR:   9.625  SIR: 217.394  ISR:  18.456  SAR:   9.533  \n",
      "bass            ==> SDR:   9.625  SIR: 217.394  ISR:  18.456  SAR:   9.533  \n",
      "\n"
     ]
    },
    {
     "name": "stderr",
     "output_type": "stream",
     "text": [
      " 40%|██████████████████████████████████████████████████████████████████████████▍                                                                                                               | 20/50 [04:20<06:34, 13.16s/it]"
     ]
    },
    {
     "name": "stdout",
     "output_type": "stream",
     "text": [
      "drums           ==> SDR:   1.260  SIR: 211.307  ISR:   1.641  SAR:   5.473  \n",
      "bass            ==> SDR:   1.260  SIR: 211.307  ISR:   1.641  SAR:   5.473  \n",
      "\n"
     ]
    },
    {
     "name": "stderr",
     "output_type": "stream",
     "text": [
      " 42%|██████████████████████████████████████████████████████████████████████████████                                                                                                            | 21/50 [04:31<06:03, 12.55s/it]"
     ]
    },
    {
     "name": "stdout",
     "output_type": "stream",
     "text": [
      "drums           ==> SDR:   7.742  SIR: 186.329  ISR:  12.261  SAR:   7.823  \n",
      "bass            ==> SDR:   7.742  SIR: 186.329  ISR:  12.261  SAR:   7.823  \n",
      "\n"
     ]
    },
    {
     "name": "stderr",
     "output_type": "stream",
     "text": [
      " 44%|█████████████████████████████████████████████████████████████████████████████████▊                                                                                                        | 22/50 [04:42<05:39, 12.14s/it]"
     ]
    },
    {
     "name": "stdout",
     "output_type": "stream",
     "text": [
      "drums           ==> SDR:  -7.737  SIR: 270.551  ISR:   0.878  SAR: -20.347  \n",
      "bass            ==> SDR:  -7.737  SIR: 270.551  ISR:   0.878  SAR: -20.347  \n",
      "\n"
     ]
    },
    {
     "name": "stderr",
     "output_type": "stream",
     "text": [
      " 46%|█████████████████████████████████████████████████████████████████████████████████████▌                                                                                                    | 23/50 [04:54<05:22, 11.95s/it]"
     ]
    },
    {
     "name": "stdout",
     "output_type": "stream",
     "text": [
      "drums           ==> SDR:   4.206  SIR: 166.850  ISR:   7.863  SAR:   2.796  \n",
      "bass            ==> SDR:   4.206  SIR: 166.850  ISR:   7.863  SAR:   2.796  \n",
      "\n"
     ]
    },
    {
     "name": "stderr",
     "output_type": "stream",
     "text": [
      " 48%|█████████████████████████████████████████████████████████████████████████████████████████▎                                                                                                | 24/50 [05:06<05:09, 11.89s/it]"
     ]
    },
    {
     "name": "stdout",
     "output_type": "stream",
     "text": [
      "drums           ==> SDR:   7.135  SIR: 133.665  ISR:  11.672  SAR:   7.016  \n",
      "bass            ==> SDR:   7.135  SIR: 133.665  ISR:  11.672  SAR:   7.016  \n",
      "\n"
     ]
    },
    {
     "name": "stderr",
     "output_type": "stream",
     "text": [
      " 50%|█████████████████████████████████████████████████████████████████████████████████████████████                                                                                             | 25/50 [05:17<04:54, 11.78s/it]"
     ]
    },
    {
     "name": "stdout",
     "output_type": "stream",
     "text": [
      "drums           ==> SDR:   3.605  SIR: 224.222  ISR:   8.030  SAR:   2.188  \n",
      "bass            ==> SDR:   3.605  SIR: 224.222  ISR:   8.030  SAR:   2.188  \n",
      "\n"
     ]
    },
    {
     "name": "stderr",
     "output_type": "stream",
     "text": [
      " 52%|████████████████████████████████████████████████████████████████████████████████████████████████▋                                                                                         | 26/50 [05:28<04:38, 11.62s/it]"
     ]
    },
    {
     "name": "stdout",
     "output_type": "stream",
     "text": [
      "drums           ==> SDR:  11.626  SIR: 184.495  ISR:  17.339  SAR:  11.611  \n",
      "bass            ==> SDR:  11.626  SIR: 184.495  ISR:  17.339  SAR:  11.611  \n",
      "\n"
     ]
    },
    {
     "name": "stderr",
     "output_type": "stream",
     "text": [
      " 54%|████████████████████████████████████████████████████████████████████████████████████████████████████▍                                                                                     | 27/50 [05:40<04:25, 11.54s/it]"
     ]
    },
    {
     "name": "stdout",
     "output_type": "stream",
     "text": [
      "drums           ==> SDR:   7.133  SIR: 190.155  ISR:  16.068  SAR:   7.099  \n",
      "bass            ==> SDR:   7.133  SIR: 190.155  ISR:  16.068  SAR:   7.099  \n",
      "\n"
     ]
    },
    {
     "name": "stderr",
     "output_type": "stream",
     "text": [
      " 56%|████████████████████████████████████████████████████████████████████████████████████████████████████████▏                                                                                 | 28/50 [05:51<04:12, 11.48s/it]"
     ]
    },
    {
     "name": "stdout",
     "output_type": "stream",
     "text": [
      "drums           ==> SDR:   9.270  SIR: 188.447  ISR:  12.374  SAR:  10.577  \n",
      "bass            ==> SDR:   9.270  SIR: 188.447  ISR:  12.374  SAR:  10.577  \n",
      "\n"
     ]
    },
    {
     "name": "stderr",
     "output_type": "stream",
     "text": [
      " 58%|███████████████████████████████████████████████████████████████████████████████████████████████████████████▉                                                                              | 29/50 [06:02<04:00, 11.43s/it]"
     ]
    },
    {
     "name": "stdout",
     "output_type": "stream",
     "text": [
      "drums           ==> SDR:   5.374  SIR: 190.592  ISR:   6.987  SAR:   7.423  \n",
      "bass            ==> SDR:   5.374  SIR: 190.592  ISR:   6.987  SAR:   7.423  \n",
      "\n"
     ]
    },
    {
     "name": "stderr",
     "output_type": "stream",
     "text": [
      " 60%|███████████████████████████████████████████████████████████████████████████████████████████████████████████████▌                                                                          | 30/50 [06:17<04:05, 12.27s/it]"
     ]
    },
    {
     "name": "stdout",
     "output_type": "stream",
     "text": [
      "drums           ==> SDR:   6.698  SIR: 219.948  ISR:  11.436  SAR:   6.657  \n",
      "bass            ==> SDR:   6.698  SIR: 219.948  ISR:  11.436  SAR:   6.657  \n",
      "\n"
     ]
    },
    {
     "name": "stderr",
     "output_type": "stream",
     "text": [
      " 62%|███████████████████████████████████████████████████████████████████████████████████████████████████████████████████▎                                                                      | 31/50 [06:28<03:48, 12.04s/it]"
     ]
    },
    {
     "name": "stdout",
     "output_type": "stream",
     "text": [
      "drums           ==> SDR:   2.752  SIR: 195.714  ISR:   9.742  SAR:   0.883  \n",
      "bass            ==> SDR:   2.752  SIR: 195.714  ISR:   9.742  SAR:   0.883  \n",
      "\n"
     ]
    },
    {
     "name": "stderr",
     "output_type": "stream",
     "text": [
      " 64%|███████████████████████████████████████████████████████████████████████████████████████████████████████████████████████                                                                   | 32/50 [06:39<03:30, 11.72s/it]"
     ]
    },
    {
     "name": "stdout",
     "output_type": "stream",
     "text": [
      "drums           ==> SDR:   1.620  SIR: 185.361  ISR:   4.915  SAR:   1.368  \n",
      "bass            ==> SDR:   1.620  SIR: 185.361  ISR:   4.915  SAR:   1.368  \n",
      "\n"
     ]
    },
    {
     "name": "stderr",
     "output_type": "stream",
     "text": [
      " 66%|██████████████████████████████████████████████████████████████████████████████████████████████████████████████████████████▊                                                               | 33/50 [06:51<03:19, 11.73s/it]"
     ]
    },
    {
     "name": "stdout",
     "output_type": "stream",
     "text": [
      "drums           ==> SDR:   2.391  SIR: 226.915  ISR:   5.566  SAR:  -0.286  \n",
      "bass            ==> SDR:   2.391  SIR: 226.915  ISR:   5.566  SAR:  -0.286  \n",
      "\n"
     ]
    },
    {
     "name": "stderr",
     "output_type": "stream",
     "text": [
      " 68%|██████████████████████████████████████████████████████████████████████████████████████████████████████████████████████████████▍                                                           | 34/50 [07:03<03:09, 11.82s/it]"
     ]
    },
    {
     "name": "stdout",
     "output_type": "stream",
     "text": [
      "drums           ==> SDR:   4.712  SIR: 254.661  ISR:   8.002  SAR:   3.535  \n",
      "bass            ==> SDR:   4.712  SIR: 254.661  ISR:   8.002  SAR:   3.535  \n",
      "\n"
     ]
    },
    {
     "name": "stderr",
     "output_type": "stream",
     "text": [
      " 70%|██████████████████████████████████████████████████████████████████████████████████████████████████████████████████████████████████▏                                                       | 35/50 [07:15<02:56, 11.78s/it]"
     ]
    },
    {
     "name": "stdout",
     "output_type": "stream",
     "text": [
      "drums           ==> SDR:   9.361  SIR: 217.306  ISR:  13.502  SAR:   9.605  \n",
      "bass            ==> SDR:   9.361  SIR: 217.306  ISR:  13.502  SAR:   9.605  \n",
      "\n"
     ]
    },
    {
     "name": "stderr",
     "output_type": "stream",
     "text": [
      " 72%|█████████████████████████████████████████████████████████████████████████████████████████████████████████████████████████████████████▉                                                    | 36/50 [07:26<02:43, 11.67s/it]"
     ]
    },
    {
     "name": "stdout",
     "output_type": "stream",
     "text": [
      "drums           ==> SDR:   2.148  SIR: 208.559  ISR:   7.242  SAR:   0.164  \n",
      "bass            ==> SDR:   2.148  SIR: 208.559  ISR:   7.242  SAR:   0.164  \n",
      "\n"
     ]
    },
    {
     "name": "stderr",
     "output_type": "stream",
     "text": [
      " 74%|█████████████████████████████████████████████████████████████████████████████████████████████████████████████████████████████████████████▋                                                | 37/50 [07:42<02:50, 13.12s/it]"
     ]
    },
    {
     "name": "stdout",
     "output_type": "stream",
     "text": [
      "drums           ==> SDR:   4.154  SIR: 206.330  ISR:  10.151  SAR:   2.311  \n",
      "bass            ==> SDR:   4.154  SIR: 206.330  ISR:  10.151  SAR:   2.311  \n",
      "\n"
     ]
    },
    {
     "name": "stderr",
     "output_type": "stream",
     "text": [
      " 76%|█████████████████████████████████████████████████████████████████████████████████████████████████████████████████████████████████████████████▎                                            | 38/50 [07:58<02:45, 13.78s/it]"
     ]
    },
    {
     "name": "stdout",
     "output_type": "stream",
     "text": [
      "drums           ==> SDR:   8.009  SIR: 221.046  ISR:   9.682  SAR:   5.456  \n",
      "bass            ==> SDR:   8.009  SIR: 221.046  ISR:   9.682  SAR:   5.456  \n",
      "\n"
     ]
    },
    {
     "name": "stderr",
     "output_type": "stream",
     "text": [
      " 78%|█████████████████████████████████████████████████████████████████████████████████████████████████████████████████████████████████████████████████                                         | 39/50 [08:12<02:31, 13.76s/it]"
     ]
    },
    {
     "name": "stdout",
     "output_type": "stream",
     "text": [
      "drums           ==> SDR:   4.634  SIR: 224.755  ISR:   6.600  SAR:   5.212  \n",
      "bass            ==> SDR:   4.634  SIR: 224.755  ISR:   6.600  SAR:   5.212  \n",
      "\n"
     ]
    },
    {
     "name": "stderr",
     "output_type": "stream",
     "text": [
      " 80%|████████████████████████████████████████████████████████████████████████████████████████████████████████████████████████████████████████████████████▊                                     | 40/50 [08:24<02:13, 13.31s/it]"
     ]
    },
    {
     "name": "stdout",
     "output_type": "stream",
     "text": [
      "drums           ==> SDR:   3.276  SIR: 169.726  ISR:   6.995  SAR:   3.014  \n",
      "bass            ==> SDR:   3.276  SIR: 169.726  ISR:   6.995  SAR:   3.014  \n",
      "\n"
     ]
    },
    {
     "name": "stderr",
     "output_type": "stream",
     "text": [
      " 82%|████████████████████████████████████████████████████████████████████████████████████████████████████████████████████████████████████████████████████████▌                                 | 41/50 [08:36<01:56, 12.93s/it]"
     ]
    },
    {
     "name": "stdout",
     "output_type": "stream",
     "text": [
      "drums           ==> SDR:   4.382  SIR: 183.998  ISR:  10.626  SAR:   3.759  \n",
      "bass            ==> SDR:   4.382  SIR: 183.998  ISR:  10.626  SAR:   3.759  \n",
      "\n"
     ]
    },
    {
     "name": "stderr",
     "output_type": "stream",
     "text": [
      " 84%|████████████████████████████████████████████████████████████████████████████████████████████████████████████████████████████████████████████████████████████▏                             | 42/50 [08:49<01:44, 13.08s/it]"
     ]
    },
    {
     "name": "stdout",
     "output_type": "stream",
     "text": [
      "drums           ==> SDR:   7.005  SIR: 126.331  ISR:  11.078  SAR:   6.537  \n",
      "bass            ==> SDR:   7.005  SIR: 126.331  ISR:  11.078  SAR:   6.537  \n",
      "\n"
     ]
    },
    {
     "name": "stderr",
     "output_type": "stream",
     "text": [
      " 86%|███████████████████████████████████████████████████████████████████████████████████████████████████████████████████████████████████████████████████████████████▉                          | 43/50 [09:01<01:28, 12.63s/it]"
     ]
    },
    {
     "name": "stdout",
     "output_type": "stream",
     "text": [
      "drums           ==> SDR:   5.104  SIR: 188.879  ISR:   8.774  SAR:   3.249  \n",
      "bass            ==> SDR:   5.104  SIR: 188.879  ISR:   8.774  SAR:   3.249  \n",
      "\n"
     ]
    },
    {
     "name": "stderr",
     "output_type": "stream",
     "text": [
      " 88%|███████████████████████████████████████████████████████████████████████████████████████████████████████████████████████████████████████████████████████████████████▋                      | 44/50 [09:13<01:14, 12.35s/it]"
     ]
    },
    {
     "name": "stdout",
     "output_type": "stream",
     "text": [
      "drums           ==> SDR:   5.283  SIR: 216.496  ISR:   9.513  SAR:   5.162  \n",
      "bass            ==> SDR:   5.283  SIR: 216.496  ISR:   9.513  SAR:   5.162  \n",
      "\n"
     ]
    },
    {
     "name": "stderr",
     "output_type": "stream",
     "text": [
      " 90%|███████████████████████████████████████████████████████████████████████████████████████████████████████████████████████████████████████████████████████████████████████▍                  | 45/50 [09:26<01:03, 12.69s/it]"
     ]
    },
    {
     "name": "stdout",
     "output_type": "stream",
     "text": [
      "drums           ==> SDR:   0.647  SIR: 212.964  ISR:   1.303  SAR:  -2.279  \n",
      "bass            ==> SDR:   0.647  SIR: 212.964  ISR:   1.303  SAR:  -2.279  \n",
      "\n"
     ]
    },
    {
     "name": "stderr",
     "output_type": "stream",
     "text": [
      " 92%|███████████████████████████████████████████████████████████████████████████████████████████████████████████████████████████████████████████████████████████████████████████               | 46/50 [09:39<00:51, 12.90s/it]"
     ]
    },
    {
     "name": "stdout",
     "output_type": "stream",
     "text": [
      "drums           ==> SDR:   2.533  SIR: 206.793  ISR:   4.601  SAR:  -0.247  \n",
      "bass            ==> SDR:   2.533  SIR: 206.793  ISR:   4.601  SAR:  -0.247  \n",
      "\n"
     ]
    },
    {
     "name": "stderr",
     "output_type": "stream",
     "text": [
      " 94%|██████████████████████████████████████████████████████████████████████████████████████████████████████████████████████████████████████████████████████████████████████████████▊           | 47/50 [09:52<00:38, 12.80s/it]"
     ]
    },
    {
     "name": "stdout",
     "output_type": "stream",
     "text": [
      "drums           ==> SDR:   2.789  SIR: 176.659  ISR:   5.288  SAR:   2.117  \n",
      "bass            ==> SDR:   2.789  SIR: 176.659  ISR:   5.288  SAR:   2.117  \n",
      "\n"
     ]
    },
    {
     "name": "stderr",
     "output_type": "stream",
     "text": [
      " 96%|██████████████████████████████████████████████████████████████████████████████████████████████████████████████████████████████████████████████████████████████████████████████████▌       | 48/50 [10:06<00:26, 13.29s/it]"
     ]
    },
    {
     "name": "stdout",
     "output_type": "stream",
     "text": [
      "drums           ==> SDR:   3.238  SIR: 216.414  ISR:   7.877  SAR:   1.607  \n",
      "bass            ==> SDR:   3.238  SIR: 216.414  ISR:   7.877  SAR:   1.607  \n",
      "\n"
     ]
    },
    {
     "name": "stderr",
     "output_type": "stream",
     "text": [
      " 98%|██████████████████████████████████████████████████████████████████████████████████████████████████████████████████████████████████████████████████████████████████████████████████████▎   | 49/50 [10:18<00:12, 12.76s/it]"
     ]
    },
    {
     "name": "stdout",
     "output_type": "stream",
     "text": [
      "drums           ==> SDR:   8.923  SIR: 207.818  ISR:  16.235  SAR:   8.673  \n",
      "bass            ==> SDR:   8.923  SIR: 207.818  ISR:  16.235  SAR:   8.673  \n",
      "\n"
     ]
    },
    {
     "name": "stderr",
     "output_type": "stream",
     "text": [
      "100%|██████████████████████████████████████████████████████████████████████████████████████████████████████████████████████████████████████████████████████████████████████████████████████████| 50/50 [10:29<00:00, 12.60s/it]"
     ]
    },
    {
     "name": "stdout",
     "output_type": "stream",
     "text": [
      "drums           ==> SDR:   6.916  SIR: 207.317  ISR:  11.243  SAR:   6.257  \n",
      "bass            ==> SDR:   6.916  SIR: 207.317  ISR:  11.243  SAR:   6.257  \n",
      "\n"
     ]
    },
    {
     "name": "stderr",
     "output_type": "stream",
     "text": [
      "\n",
      "C:\\Python311\\Lib\\site-packages\\pytorch_lightning\\utilities\\migration\\utils.py:55: The loaded checkpoint was produced with Lightning v2.2.1, which is newer than your current Lightning version: v2.1.2\n",
      "  2%|███▋                                                                                                                                                                                       | 1/50 [00:11<09:38, 11.81s/it]"
     ]
    },
    {
     "name": "stdout",
     "output_type": "stream",
     "text": [
      "drums           ==> SDR:   7.503  SIR: 206.430  ISR:  11.143  SAR:   6.548  \n",
      "bass            ==> SDR:   7.503  SIR: 206.430  ISR:  11.143  SAR:   6.548  \n",
      "\n"
     ]
    },
    {
     "name": "stderr",
     "output_type": "stream",
     "text": [
      "  4%|███████▍                                                                                                                                                                                   | 2/50 [00:23<09:23, 11.74s/it]"
     ]
    },
    {
     "name": "stdout",
     "output_type": "stream",
     "text": [
      "drums           ==> SDR:   3.099  SIR: 183.514  ISR:   7.128  SAR:   0.385  \n",
      "bass            ==> SDR:   3.099  SIR: 183.514  ISR:   7.128  SAR:   0.385  \n",
      "\n"
     ]
    },
    {
     "name": "stderr",
     "output_type": "stream",
     "text": [
      "  6%|███████████▏                                                                                                                                                                               | 3/50 [00:35<09:09, 11.70s/it]"
     ]
    },
    {
     "name": "stdout",
     "output_type": "stream",
     "text": [
      "drums           ==> SDR:   4.379  SIR: 230.444  ISR:   9.052  SAR:   3.228  \n",
      "bass            ==> SDR:   4.379  SIR: 230.444  ISR:   9.052  SAR:   3.228  \n",
      "\n"
     ]
    },
    {
     "name": "stderr",
     "output_type": "stream",
     "text": [
      "  8%|██████████████▉                                                                                                                                                                            | 4/50 [00:47<09:02, 11.79s/it]"
     ]
    },
    {
     "name": "stdout",
     "output_type": "stream",
     "text": [
      "drums           ==> SDR:   1.559  SIR: 225.705  ISR:  12.709  SAR:  -0.139  \n",
      "bass            ==> SDR:   1.559  SIR: 225.705  ISR:  12.709  SAR:  -0.139  \n",
      "\n"
     ]
    },
    {
     "name": "stderr",
     "output_type": "stream",
     "text": [
      " 10%|██████████████████▋                                                                                                                                                                        | 5/50 [00:58<08:42, 11.62s/it]"
     ]
    },
    {
     "name": "stdout",
     "output_type": "stream",
     "text": [
      "drums           ==> SDR:   9.012  SIR: 207.295  ISR:  13.579  SAR:   9.031  \n",
      "bass            ==> SDR:   9.012  SIR: 207.295  ISR:  13.579  SAR:   9.031  \n",
      "\n"
     ]
    },
    {
     "name": "stderr",
     "output_type": "stream",
     "text": [
      " 12%|██████████████████████▍                                                                                                                                                                    | 6/50 [01:10<08:31, 11.62s/it]"
     ]
    },
    {
     "name": "stdout",
     "output_type": "stream",
     "text": [
      "drums           ==> SDR:   4.979  SIR: 240.594  ISR:   8.557  SAR:   3.825  \n",
      "bass            ==> SDR:   4.979  SIR: 240.594  ISR:   8.557  SAR:   3.825  \n",
      "\n"
     ]
    },
    {
     "name": "stderr",
     "output_type": "stream",
     "text": [
      " 14%|██████████████████████████▏                                                                                                                                                                | 7/50 [01:21<08:15, 11.51s/it]"
     ]
    },
    {
     "name": "stdout",
     "output_type": "stream",
     "text": [
      "drums           ==> SDR:   5.233  SIR: 222.975  ISR:  10.360  SAR:   4.269  \n",
      "bass            ==> SDR:   5.233  SIR: 222.975  ISR:  10.360  SAR:   4.269  \n",
      "\n"
     ]
    },
    {
     "name": "stderr",
     "output_type": "stream",
     "text": [
      " 16%|█████████████████████████████▉                                                                                                                                                             | 8/50 [01:33<08:06, 11.58s/it]"
     ]
    },
    {
     "name": "stdout",
     "output_type": "stream",
     "text": [
      "drums           ==> SDR:   4.337  SIR: 243.345  ISR:   9.691  SAR:   3.413  \n",
      "bass            ==> SDR:   4.337  SIR: 243.345  ISR:   9.691  SAR:   3.413  \n",
      "\n"
     ]
    },
    {
     "name": "stderr",
     "output_type": "stream",
     "text": [
      " 18%|█████████████████████████████████▋                                                                                                                                                         | 9/50 [01:44<07:50, 11.47s/it]"
     ]
    },
    {
     "name": "stdout",
     "output_type": "stream",
     "text": [
      "drums           ==> SDR:   5.729  SIR: 167.038  ISR:   8.705  SAR:   5.541  \n",
      "bass            ==> SDR:   5.729  SIR: 167.038  ISR:   8.705  SAR:   5.541  \n",
      "\n"
     ]
    },
    {
     "name": "stderr",
     "output_type": "stream",
     "text": [
      " 20%|█████████████████████████████████████▏                                                                                                                                                    | 10/50 [01:55<07:39, 11.49s/it]"
     ]
    },
    {
     "name": "stdout",
     "output_type": "stream",
     "text": [
      "drums           ==> SDR:  -7.490  SIR: 175.113  ISR:   7.257  SAR: -10.840  \n",
      "bass            ==> SDR:  -7.490  SIR: 175.113  ISR:   7.257  SAR: -10.840  \n",
      "\n"
     ]
    },
    {
     "name": "stderr",
     "output_type": "stream",
     "text": [
      " 22%|████████████████████████████████████████▉                                                                                                                                                 | 11/50 [02:07<07:29, 11.53s/it]"
     ]
    },
    {
     "name": "stdout",
     "output_type": "stream",
     "text": [
      "drums           ==> SDR:   9.194  SIR: 221.848  ISR:  13.151  SAR:   9.351  \n",
      "bass            ==> SDR:   9.194  SIR: 221.848  ISR:  13.151  SAR:   9.351  \n",
      "\n"
     ]
    },
    {
     "name": "stderr",
     "output_type": "stream",
     "text": [
      " 24%|████████████████████████████████████████████▋                                                                                                                                             | 12/50 [02:19<07:19, 11.57s/it]"
     ]
    },
    {
     "name": "stdout",
     "output_type": "stream",
     "text": [
      "drums           ==> SDR:   5.979  SIR: 220.915  ISR:   7.453  SAR:   6.553  \n",
      "bass            ==> SDR:   5.979  SIR: 220.915  ISR:   7.453  SAR:   6.553  \n",
      "\n"
     ]
    },
    {
     "name": "stderr",
     "output_type": "stream",
     "text": [
      " 26%|████████████████████████████████████████████████▎                                                                                                                                         | 13/50 [02:30<07:02, 11.42s/it]"
     ]
    },
    {
     "name": "stdout",
     "output_type": "stream",
     "text": [
      "drums           ==> SDR:   1.184  SIR:  93.091  ISR:   1.924  SAR:  -1.413  \n",
      "bass            ==> SDR:   1.184  SIR:  93.091  ISR:   1.924  SAR:  -1.413  \n",
      "\n"
     ]
    },
    {
     "name": "stderr",
     "output_type": "stream",
     "text": [
      " 28%|████████████████████████████████████████████████████                                                                                                                                      | 14/50 [02:41<06:54, 11.52s/it]"
     ]
    },
    {
     "name": "stdout",
     "output_type": "stream",
     "text": [
      "drums           ==> SDR:   7.647  SIR: 210.616  ISR:  11.964  SAR:   7.837  \n",
      "bass            ==> SDR:   7.647  SIR: 210.616  ISR:  11.964  SAR:   7.837  \n",
      "\n"
     ]
    },
    {
     "name": "stderr",
     "output_type": "stream",
     "text": [
      " 30%|███████████████████████████████████████████████████████▊                                                                                                                                  | 15/50 [02:53<06:43, 11.51s/it]"
     ]
    },
    {
     "name": "stdout",
     "output_type": "stream",
     "text": [
      "drums           ==> SDR:   6.507  SIR: 210.227  ISR:  11.365  SAR:   5.805  \n",
      "bass            ==> SDR:   6.507  SIR: 210.227  ISR:  11.365  SAR:   5.805  \n",
      "\n"
     ]
    },
    {
     "name": "stderr",
     "output_type": "stream",
     "text": [
      " 32%|███████████████████████████████████████████████████████████▌                                                                                                                              | 16/50 [03:04<06:28, 11.44s/it]"
     ]
    },
    {
     "name": "stdout",
     "output_type": "stream",
     "text": [
      "drums           ==> SDR:   4.289  SIR: 213.520  ISR:   7.898  SAR:   2.501  \n",
      "bass            ==> SDR:   4.289  SIR: 213.520  ISR:   7.898  SAR:   2.501  \n",
      "\n"
     ]
    },
    {
     "name": "stderr",
     "output_type": "stream",
     "text": [
      " 34%|███████████████████████████████████████████████████████████████▏                                                                                                                          | 17/50 [03:16<06:20, 11.53s/it]"
     ]
    },
    {
     "name": "stdout",
     "output_type": "stream",
     "text": [
      "drums           ==> SDR:   2.557  SIR: 216.130  ISR:   5.888  SAR:  -0.429  \n",
      "bass            ==> SDR:   2.557  SIR: 216.130  ISR:   5.888  SAR:  -0.429  \n",
      "\n"
     ]
    },
    {
     "name": "stderr",
     "output_type": "stream",
     "text": [
      " 36%|██████████████████████████████████████████████████████████████████▉                                                                                                                       | 18/50 [03:28<06:09, 11.56s/it]"
     ]
    },
    {
     "name": "stdout",
     "output_type": "stream",
     "text": [
      "drums           ==> SDR:   9.942  SIR: 194.525  ISR:  14.119  SAR:  10.329  \n",
      "bass            ==> SDR:   9.942  SIR: 194.525  ISR:  14.119  SAR:  10.329  \n",
      "\n"
     ]
    },
    {
     "name": "stderr",
     "output_type": "stream",
     "text": [
      " 38%|██████████████████████████████████████████████████████████████████████▋                                                                                                                   | 19/50 [03:39<05:55, 11.47s/it]"
     ]
    },
    {
     "name": "stdout",
     "output_type": "stream",
     "text": [
      "drums           ==> SDR:   9.851  SIR: 220.721  ISR:  17.892  SAR:   9.594  \n",
      "bass            ==> SDR:   9.851  SIR: 220.721  ISR:  17.892  SAR:   9.594  \n",
      "\n"
     ]
    },
    {
     "name": "stderr",
     "output_type": "stream",
     "text": [
      " 40%|██████████████████████████████████████████████████████████████████████████▍                                                                                                               | 20/50 [03:50<05:41, 11.39s/it]"
     ]
    },
    {
     "name": "stdout",
     "output_type": "stream",
     "text": [
      "drums           ==> SDR:   1.164  SIR: 214.508  ISR:   1.620  SAR:   5.297  \n",
      "bass            ==> SDR:   1.164  SIR: 214.508  ISR:   1.620  SAR:   5.297  \n",
      "\n"
     ]
    },
    {
     "name": "stderr",
     "output_type": "stream",
     "text": [
      " 42%|██████████████████████████████████████████████████████████████████████████████                                                                                                            | 21/50 [04:01<05:28, 11.33s/it]"
     ]
    },
    {
     "name": "stdout",
     "output_type": "stream",
     "text": [
      "drums           ==> SDR:   7.233  SIR: 190.250  ISR:  11.446  SAR:   7.406  \n",
      "bass            ==> SDR:   7.233  SIR: 190.250  ISR:  11.446  SAR:   7.406  \n",
      "\n"
     ]
    },
    {
     "name": "stderr",
     "output_type": "stream",
     "text": [
      " 44%|█████████████████████████████████████████████████████████████████████████████████▊                                                                                                        | 22/50 [04:12<05:15, 11.25s/it]"
     ]
    },
    {
     "name": "stdout",
     "output_type": "stream",
     "text": [
      "drums           ==> SDR:  -7.737  SIR: 270.551  ISR:   0.878  SAR: -20.347  \n",
      "bass            ==> SDR:  -7.737  SIR: 270.551  ISR:   0.878  SAR: -20.347  \n",
      "\n"
     ]
    },
    {
     "name": "stderr",
     "output_type": "stream",
     "text": [
      " 46%|█████████████████████████████████████████████████████████████████████████████████████▌                                                                                                    | 23/50 [04:23<05:01, 11.16s/it]"
     ]
    },
    {
     "name": "stdout",
     "output_type": "stream",
     "text": [
      "drums           ==> SDR:   4.132  SIR: 165.970  ISR:   7.146  SAR:   2.369  \n",
      "bass            ==> SDR:   4.132  SIR: 165.970  ISR:   7.146  SAR:   2.369  \n",
      "\n"
     ]
    },
    {
     "name": "stderr",
     "output_type": "stream",
     "text": [
      " 48%|█████████████████████████████████████████████████████████████████████████████████████████▎                                                                                                | 24/50 [04:34<04:49, 11.12s/it]"
     ]
    },
    {
     "name": "stdout",
     "output_type": "stream",
     "text": [
      "drums           ==> SDR:   6.705  SIR: 132.863  ISR:  11.114  SAR:   6.699  \n",
      "bass            ==> SDR:   6.705  SIR: 132.863  ISR:  11.114  SAR:   6.699  \n",
      "\n"
     ]
    },
    {
     "name": "stderr",
     "output_type": "stream",
     "text": [
      " 50%|█████████████████████████████████████████████████████████████████████████████████████████████                                                                                             | 25/50 [04:46<04:40, 11.21s/it]"
     ]
    },
    {
     "name": "stdout",
     "output_type": "stream",
     "text": [
      "drums           ==> SDR:   3.657  SIR: 214.829  ISR:   7.649  SAR:   2.041  \n",
      "bass            ==> SDR:   3.657  SIR: 214.829  ISR:   7.649  SAR:   2.041  \n",
      "\n"
     ]
    },
    {
     "name": "stderr",
     "output_type": "stream",
     "text": [
      " 52%|████████████████████████████████████████████████████████████████████████████████████████████████▋                                                                                         | 26/50 [04:57<04:27, 11.13s/it]"
     ]
    },
    {
     "name": "stdout",
     "output_type": "stream",
     "text": [
      "drums           ==> SDR:  11.575  SIR: 181.310  ISR:  16.536  SAR:  11.507  \n",
      "bass            ==> SDR:  11.575  SIR: 181.310  ISR:  16.536  SAR:  11.507  \n",
      "\n"
     ]
    },
    {
     "name": "stderr",
     "output_type": "stream",
     "text": [
      " 54%|████████████████████████████████████████████████████████████████████████████████████████████████████▍                                                                                     | 27/50 [05:08<04:20, 11.33s/it]"
     ]
    },
    {
     "name": "stdout",
     "output_type": "stream",
     "text": [
      "drums           ==> SDR:   6.994  SIR: 190.767  ISR:  15.258  SAR:   6.592  \n",
      "bass            ==> SDR:   6.994  SIR: 190.767  ISR:  15.258  SAR:   6.592  \n",
      "\n"
     ]
    },
    {
     "name": "stderr",
     "output_type": "stream",
     "text": [
      " 56%|████████████████████████████████████████████████████████████████████████████████████████████████████████▏                                                                                 | 28/50 [05:20<04:08, 11.31s/it]"
     ]
    },
    {
     "name": "stdout",
     "output_type": "stream",
     "text": [
      "drums           ==> SDR:   8.947  SIR: 190.495  ISR:  11.891  SAR:  10.178  \n",
      "bass            ==> SDR:   8.947  SIR: 190.495  ISR:  11.891  SAR:  10.178  \n",
      "\n"
     ]
    },
    {
     "name": "stderr",
     "output_type": "stream",
     "text": [
      " 58%|███████████████████████████████████████████████████████████████████████████████████████████████████████████▉                                                                              | 29/50 [05:31<03:58, 11.34s/it]"
     ]
    },
    {
     "name": "stdout",
     "output_type": "stream",
     "text": [
      "drums           ==> SDR:   5.140  SIR: 183.495  ISR:   6.858  SAR:   7.099  \n",
      "bass            ==> SDR:   5.140  SIR: 183.495  ISR:   6.858  SAR:   7.099  \n",
      "\n"
     ]
    },
    {
     "name": "stderr",
     "output_type": "stream",
     "text": [
      " 60%|███████████████████████████████████████████████████████████████████████████████████████████████████████████████▌                                                                          | 30/50 [05:43<03:48, 11.40s/it]"
     ]
    },
    {
     "name": "stdout",
     "output_type": "stream",
     "text": [
      "drums           ==> SDR:   6.303  SIR: 220.522  ISR:  10.806  SAR:   6.504  \n",
      "bass            ==> SDR:   6.303  SIR: 220.522  ISR:  10.806  SAR:   6.504  \n",
      "\n"
     ]
    },
    {
     "name": "stderr",
     "output_type": "stream",
     "text": [
      " 62%|███████████████████████████████████████████████████████████████████████████████████████████████████████████████████▎                                                                      | 31/50 [05:54<03:37, 11.45s/it]"
     ]
    },
    {
     "name": "stdout",
     "output_type": "stream",
     "text": [
      "drums           ==> SDR:   2.540  SIR: 191.625  ISR:   9.291  SAR:   0.821  \n",
      "bass            ==> SDR:   2.540  SIR: 191.625  ISR:   9.291  SAR:   0.821  \n",
      "\n"
     ]
    },
    {
     "name": "stderr",
     "output_type": "stream",
     "text": [
      " 64%|███████████████████████████████████████████████████████████████████████████████████████████████████████████████████████                                                                   | 32/50 [06:05<03:22, 11.27s/it]"
     ]
    },
    {
     "name": "stdout",
     "output_type": "stream",
     "text": [
      "drums           ==> SDR:   1.675  SIR: 189.517  ISR:   4.904  SAR:   1.209  \n",
      "bass            ==> SDR:   1.675  SIR: 189.517  ISR:   4.904  SAR:   1.209  \n",
      "\n"
     ]
    },
    {
     "name": "stderr",
     "output_type": "stream",
     "text": [
      " 66%|██████████████████████████████████████████████████████████████████████████████████████████████████████████████████████████▊                                                               | 33/50 [06:17<03:12, 11.34s/it]"
     ]
    },
    {
     "name": "stdout",
     "output_type": "stream",
     "text": [
      "drums           ==> SDR:   2.048  SIR: 233.339  ISR:   5.201  SAR:  -0.489  \n",
      "bass            ==> SDR:   2.048  SIR: 233.339  ISR:   5.201  SAR:  -0.489  \n",
      "\n"
     ]
    },
    {
     "name": "stderr",
     "output_type": "stream",
     "text": [
      " 68%|██████████████████████████████████████████████████████████████████████████████████████████████████████████████████████████████▍                                                           | 34/50 [06:30<03:10, 11.91s/it]"
     ]
    },
    {
     "name": "stdout",
     "output_type": "stream",
     "text": [
      "drums           ==> SDR:   4.310  SIR: 249.411  ISR:   7.378  SAR:   2.999  \n",
      "bass            ==> SDR:   4.310  SIR: 249.411  ISR:   7.378  SAR:   2.999  \n",
      "\n"
     ]
    },
    {
     "name": "stderr",
     "output_type": "stream",
     "text": [
      " 70%|██████████████████████████████████████████████████████████████████████████████████████████████████████████████████████████████████▏                                                       | 35/50 [06:42<03:00, 12.03s/it]"
     ]
    },
    {
     "name": "stdout",
     "output_type": "stream",
     "text": [
      "drums           ==> SDR:   9.020  SIR: 213.549  ISR:  13.102  SAR:   9.466  \n",
      "bass            ==> SDR:   9.020  SIR: 213.549  ISR:  13.102  SAR:   9.466  \n",
      "\n"
     ]
    },
    {
     "name": "stderr",
     "output_type": "stream",
     "text": [
      " 72%|█████████████████████████████████████████████████████████████████████████████████████████████████████████████████████████████████████▉                                                    | 36/50 [06:56<02:57, 12.70s/it]"
     ]
    },
    {
     "name": "stdout",
     "output_type": "stream",
     "text": [
      "drums           ==> SDR:   2.014  SIR: 213.743  ISR:   6.696  SAR:  -0.165  \n",
      "bass            ==> SDR:   2.014  SIR: 213.743  ISR:   6.696  SAR:  -0.165  \n",
      "\n"
     ]
    },
    {
     "name": "stderr",
     "output_type": "stream",
     "text": [
      " 74%|█████████████████████████████████████████████████████████████████████████████████████████████████████████████████████████████████████████▋                                                | 37/50 [07:09<02:45, 12.71s/it]"
     ]
    },
    {
     "name": "stdout",
     "output_type": "stream",
     "text": [
      "drums           ==> SDR:   4.193  SIR: 211.027  ISR:  10.154  SAR:   2.487  \n",
      "bass            ==> SDR:   4.193  SIR: 211.027  ISR:  10.154  SAR:   2.487  \n",
      "\n"
     ]
    },
    {
     "name": "stderr",
     "output_type": "stream",
     "text": [
      " 76%|█████████████████████████████████████████████████████████████████████████████████████████████████████████████████████████████████████████████▎                                            | 38/50 [07:22<02:33, 12.81s/it]"
     ]
    },
    {
     "name": "stdout",
     "output_type": "stream",
     "text": [
      "drums           ==> SDR:   8.017  SIR: 221.342  ISR:   9.445  SAR:   5.416  \n",
      "bass            ==> SDR:   8.017  SIR: 221.342  ISR:   9.445  SAR:   5.416  \n",
      "\n"
     ]
    },
    {
     "name": "stderr",
     "output_type": "stream",
     "text": [
      " 78%|█████████████████████████████████████████████████████████████████████████████████████████████████████████████████████████████████████████████████                                         | 39/50 [07:37<02:29, 13.57s/it]"
     ]
    },
    {
     "name": "stdout",
     "output_type": "stream",
     "text": [
      "drums           ==> SDR:   4.401  SIR: 226.480  ISR:   6.295  SAR:   4.773  \n",
      "bass            ==> SDR:   4.401  SIR: 226.480  ISR:   6.295  SAR:   4.773  \n",
      "\n"
     ]
    },
    {
     "name": "stderr",
     "output_type": "stream",
     "text": [
      " 80%|████████████████████████████████████████████████████████████████████████████████████████████████████████████████████████████████████████████████████▊                                     | 40/50 [07:50<02:11, 13.18s/it]"
     ]
    },
    {
     "name": "stdout",
     "output_type": "stream",
     "text": [
      "drums           ==> SDR:   3.538  SIR: 174.476  ISR:   6.895  SAR:   2.272  \n",
      "bass            ==> SDR:   3.538  SIR: 174.476  ISR:   6.895  SAR:   2.272  \n",
      "\n"
     ]
    },
    {
     "name": "stderr",
     "output_type": "stream",
     "text": [
      " 82%|████████████████████████████████████████████████████████████████████████████████████████████████████████████████████████████████████████████████████████▌                                 | 41/50 [08:02<01:55, 12.89s/it]"
     ]
    },
    {
     "name": "stdout",
     "output_type": "stream",
     "text": [
      "drums           ==> SDR:   4.505  SIR: 186.950  ISR:   9.780  SAR:   3.997  \n",
      "bass            ==> SDR:   4.505  SIR: 186.950  ISR:   9.780  SAR:   3.997  \n",
      "\n"
     ]
    },
    {
     "name": "stderr",
     "output_type": "stream",
     "text": [
      " 84%|████████████████████████████████████████████████████████████████████████████████████████████████████████████████████████████████████████████████████████████▏                             | 42/50 [08:16<01:46, 13.26s/it]"
     ]
    },
    {
     "name": "stdout",
     "output_type": "stream",
     "text": [
      "drums           ==> SDR:   7.070  SIR: 126.079  ISR:  10.763  SAR:   6.619  \n",
      "bass            ==> SDR:   7.070  SIR: 126.079  ISR:  10.763  SAR:   6.619  \n",
      "\n"
     ]
    },
    {
     "name": "stderr",
     "output_type": "stream",
     "text": [
      " 86%|███████████████████████████████████████████████████████████████████████████████████████████████████████████████████████████████████████████████████████████████▉                          | 43/50 [08:28<01:30, 12.89s/it]"
     ]
    },
    {
     "name": "stdout",
     "output_type": "stream",
     "text": [
      "drums           ==> SDR:   4.995  SIR: 183.987  ISR:   8.314  SAR:   3.308  \n",
      "bass            ==> SDR:   4.995  SIR: 183.987  ISR:   8.314  SAR:   3.308  \n",
      "\n"
     ]
    },
    {
     "name": "stderr",
     "output_type": "stream",
     "text": [
      " 88%|███████████████████████████████████████████████████████████████████████████████████████████████████████████████████████████████████████████████████████████████████▋                      | 44/50 [08:39<01:13, 12.26s/it]"
     ]
    },
    {
     "name": "stdout",
     "output_type": "stream",
     "text": [
      "drums           ==> SDR:   4.769  SIR: 219.941  ISR:   8.667  SAR:   4.560  \n",
      "bass            ==> SDR:   4.769  SIR: 219.941  ISR:   8.667  SAR:   4.560  \n",
      "\n"
     ]
    },
    {
     "name": "stderr",
     "output_type": "stream",
     "text": [
      " 90%|███████████████████████████████████████████████████████████████████████████████████████████████████████████████████████████████████████████████████████████████████████▍                  | 45/50 [08:51<01:00, 12.13s/it]"
     ]
    },
    {
     "name": "stdout",
     "output_type": "stream",
     "text": [
      "drums           ==> SDR:   0.628  SIR: 212.355  ISR:   1.172  SAR:  -2.755  \n",
      "bass            ==> SDR:   0.628  SIR: 212.355  ISR:   1.172  SAR:  -2.755  \n",
      "\n"
     ]
    },
    {
     "name": "stderr",
     "output_type": "stream",
     "text": [
      " 92%|███████████████████████████████████████████████████████████████████████████████████████████████████████████████████████████████████████████████████████████████████████████               | 46/50 [09:04<00:50, 12.51s/it]"
     ]
    },
    {
     "name": "stdout",
     "output_type": "stream",
     "text": [
      "drums           ==> SDR:   2.461  SIR: 201.497  ISR:   4.363  SAR:  -0.308  \n",
      "bass            ==> SDR:   2.461  SIR: 201.497  ISR:   4.363  SAR:  -0.308  \n",
      "\n"
     ]
    },
    {
     "name": "stderr",
     "output_type": "stream",
     "text": [
      " 94%|██████████████████████████████████████████████████████████████████████████████████████████████████████████████████████████████████████████████████████████████████████████████▊           | 47/50 [09:21<00:41, 13.90s/it]"
     ]
    },
    {
     "name": "stdout",
     "output_type": "stream",
     "text": [
      "drums           ==> SDR:   2.993  SIR: 175.058  ISR:   5.175  SAR:   2.015  \n",
      "bass            ==> SDR:   2.993  SIR: 175.058  ISR:   5.175  SAR:   2.015  \n",
      "\n"
     ]
    },
    {
     "name": "stderr",
     "output_type": "stream",
     "text": [
      " 96%|██████████████████████████████████████████████████████████████████████████████████████████████████████████████████████████████████████████████████████████████████████████████████▌       | 48/50 [09:34<00:26, 13.45s/it]"
     ]
    },
    {
     "name": "stdout",
     "output_type": "stream",
     "text": [
      "drums           ==> SDR:   3.170  SIR: 221.521  ISR:   7.186  SAR:   1.161  \n",
      "bass            ==> SDR:   3.170  SIR: 221.521  ISR:   7.186  SAR:   1.161  \n",
      "\n"
     ]
    },
    {
     "name": "stderr",
     "output_type": "stream",
     "text": [
      " 98%|██████████████████████████████████████████████████████████████████████████████████████████████████████████████████████████████████████████████████████████████████████████████████████▎   | 49/50 [09:48<00:13, 13.74s/it]"
     ]
    },
    {
     "name": "stdout",
     "output_type": "stream",
     "text": [
      "drums           ==> SDR:   8.945  SIR: 210.313  ISR:  16.102  SAR:   8.711  \n",
      "bass            ==> SDR:   8.945  SIR: 210.313  ISR:  16.102  SAR:   8.711  \n",
      "\n"
     ]
    },
    {
     "name": "stderr",
     "output_type": "stream",
     "text": [
      "100%|██████████████████████████████████████████████████████████████████████████████████████████████████████████████████████████████████████████████████████████████████████████████████████████| 50/50 [10:01<00:00, 12.04s/it]"
     ]
    },
    {
     "name": "stdout",
     "output_type": "stream",
     "text": [
      "drums           ==> SDR:   6.820  SIR: 209.108  ISR:  11.015  SAR:   6.107  \n",
      "bass            ==> SDR:   6.820  SIR: 209.108  ISR:  11.015  SAR:   6.107  \n",
      "\n"
     ]
    },
    {
     "name": "stderr",
     "output_type": "stream",
     "text": [
      "\n",
      "C:\\Python311\\Lib\\site-packages\\pytorch_lightning\\utilities\\migration\\utils.py:55: The loaded checkpoint was produced with Lightning v2.2.1, which is newer than your current Lightning version: v2.1.2\n",
      "  2%|███▋                                                                                                                                                                                       | 1/50 [00:12<10:02, 12.31s/it]"
     ]
    },
    {
     "name": "stdout",
     "output_type": "stream",
     "text": [
      "drums           ==> SDR:   7.516  SIR: 218.740  ISR:  10.779  SAR:   6.364  \n",
      "bass            ==> SDR:   7.516  SIR: 218.740  ISR:  10.779  SAR:   6.364  \n",
      "\n"
     ]
    },
    {
     "name": "stderr",
     "output_type": "stream",
     "text": [
      "  4%|███████▍                                                                                                                                                                                   | 2/50 [00:25<10:19, 12.91s/it]"
     ]
    },
    {
     "name": "stdout",
     "output_type": "stream",
     "text": [
      "drums           ==> SDR:   3.013  SIR: 187.390  ISR:   6.899  SAR:   0.345  \n",
      "bass            ==> SDR:   3.013  SIR: 187.390  ISR:   6.899  SAR:   0.345  \n",
      "\n"
     ]
    },
    {
     "name": "stderr",
     "output_type": "stream",
     "text": [
      "  6%|███████████▏                                                                                                                                                                               | 3/50 [00:41<11:14, 14.35s/it]"
     ]
    },
    {
     "name": "stdout",
     "output_type": "stream",
     "text": [
      "drums           ==> SDR:   4.447  SIR: 230.494  ISR:   8.600  SAR:   3.213  \n",
      "bass            ==> SDR:   4.447  SIR: 230.494  ISR:   8.600  SAR:   3.213  \n",
      "\n"
     ]
    },
    {
     "name": "stderr",
     "output_type": "stream",
     "text": [
      "  8%|██████████████▉                                                                                                                                                                            | 4/50 [00:53<10:13, 13.33s/it]"
     ]
    },
    {
     "name": "stdout",
     "output_type": "stream",
     "text": [
      "drums           ==> SDR:   1.552  SIR: 227.807  ISR:  12.513  SAR:  -0.268  \n",
      "bass            ==> SDR:   1.552  SIR: 227.807  ISR:  12.513  SAR:  -0.268  \n",
      "\n"
     ]
    },
    {
     "name": "stderr",
     "output_type": "stream",
     "text": [
      " 10%|██████████████████▋                                                                                                                                                                        | 5/50 [01:08<10:19, 13.77s/it]"
     ]
    },
    {
     "name": "stdout",
     "output_type": "stream",
     "text": [
      "drums           ==> SDR:   8.503  SIR: 197.115  ISR:  12.683  SAR:   8.469  \n",
      "bass            ==> SDR:   8.503  SIR: 197.115  ISR:  12.683  SAR:   8.469  \n",
      "\n"
     ]
    },
    {
     "name": "stderr",
     "output_type": "stream",
     "text": [
      " 12%|██████████████████████▍                                                                                                                                                                    | 6/50 [01:20<09:44, 13.29s/it]"
     ]
    },
    {
     "name": "stdout",
     "output_type": "stream",
     "text": [
      "drums           ==> SDR:   4.732  SIR: 231.135  ISR:   8.257  SAR:   3.384  \n",
      "bass            ==> SDR:   4.732  SIR: 231.135  ISR:   8.257  SAR:   3.384  \n",
      "\n"
     ]
    },
    {
     "name": "stderr",
     "output_type": "stream",
     "text": [
      " 14%|██████████████████████████▏                                                                                                                                                                | 7/50 [01:33<09:30, 13.26s/it]"
     ]
    },
    {
     "name": "stdout",
     "output_type": "stream",
     "text": [
      "drums           ==> SDR:   5.368  SIR: 224.271  ISR:   9.664  SAR:   4.074  \n",
      "bass            ==> SDR:   5.368  SIR: 224.271  ISR:   9.664  SAR:   4.074  \n",
      "\n"
     ]
    },
    {
     "name": "stderr",
     "output_type": "stream",
     "text": [
      " 16%|█████████████████████████████▉                                                                                                                                                             | 8/50 [01:44<08:52, 12.67s/it]"
     ]
    },
    {
     "name": "stdout",
     "output_type": "stream",
     "text": [
      "drums           ==> SDR:   4.441  SIR: 240.156  ISR:   9.478  SAR:   3.565  \n",
      "bass            ==> SDR:   4.441  SIR: 240.156  ISR:   9.478  SAR:   3.565  \n",
      "\n"
     ]
    },
    {
     "name": "stderr",
     "output_type": "stream",
     "text": [
      " 18%|█████████████████████████████████▋                                                                                                                                                         | 9/50 [01:56<08:26, 12.34s/it]"
     ]
    },
    {
     "name": "stdout",
     "output_type": "stream",
     "text": [
      "drums           ==> SDR:   5.204  SIR: 163.290  ISR:   7.772  SAR:   4.571  \n",
      "bass            ==> SDR:   5.204  SIR: 163.290  ISR:   7.772  SAR:   4.571  \n",
      "\n"
     ]
    },
    {
     "name": "stderr",
     "output_type": "stream",
     "text": [
      " 20%|█████████████████████████████████████▏                                                                                                                                                    | 10/50 [02:08<08:04, 12.11s/it]"
     ]
    },
    {
     "name": "stdout",
     "output_type": "stream",
     "text": [
      "drums           ==> SDR:  -7.490  SIR: 173.810  ISR:   6.620  SAR: -11.412  \n",
      "bass            ==> SDR:  -7.490  SIR: 173.810  ISR:   6.620  SAR: -11.412  \n",
      "\n"
     ]
    },
    {
     "name": "stderr",
     "output_type": "stream",
     "text": [
      " 22%|████████████████████████████████████████▉                                                                                                                                                 | 11/50 [02:20<07:56, 12.23s/it]"
     ]
    },
    {
     "name": "stdout",
     "output_type": "stream",
     "text": [
      "drums           ==> SDR:   8.865  SIR: 218.706  ISR:  12.344  SAR:   8.795  \n",
      "bass            ==> SDR:   8.865  SIR: 218.706  ISR:  12.344  SAR:   8.795  \n",
      "\n"
     ]
    },
    {
     "name": "stderr",
     "output_type": "stream",
     "text": [
      " 24%|████████████████████████████████████████████▋                                                                                                                                             | 12/50 [02:33<07:49, 12.37s/it]"
     ]
    },
    {
     "name": "stdout",
     "output_type": "stream",
     "text": [
      "drums           ==> SDR:   5.962  SIR: 225.060  ISR:   7.276  SAR:   6.397  \n",
      "bass            ==> SDR:   5.962  SIR: 225.060  ISR:   7.276  SAR:   6.397  \n",
      "\n"
     ]
    },
    {
     "name": "stderr",
     "output_type": "stream",
     "text": [
      " 26%|████████████████████████████████████████████████▎                                                                                                                                         | 13/50 [02:45<07:34, 12.29s/it]"
     ]
    },
    {
     "name": "stdout",
     "output_type": "stream",
     "text": [
      "drums           ==> SDR:   0.973  SIR:  90.658  ISR:   1.692  SAR:  -1.930  \n",
      "bass            ==> SDR:   0.973  SIR:  90.658  ISR:   1.692  SAR:  -1.930  \n",
      "\n"
     ]
    },
    {
     "name": "stderr",
     "output_type": "stream",
     "text": [
      " 28%|████████████████████████████████████████████████████                                                                                                                                      | 14/50 [02:58<07:28, 12.45s/it]"
     ]
    },
    {
     "name": "stdout",
     "output_type": "stream",
     "text": [
      "drums           ==> SDR:   7.458  SIR: 213.501  ISR:  11.321  SAR:   7.550  \n",
      "bass            ==> SDR:   7.458  SIR: 213.501  ISR:  11.321  SAR:   7.550  \n",
      "\n"
     ]
    },
    {
     "name": "stderr",
     "output_type": "stream",
     "text": [
      " 30%|███████████████████████████████████████████████████████▊                                                                                                                                  | 15/50 [03:10<07:08, 12.24s/it]"
     ]
    },
    {
     "name": "stdout",
     "output_type": "stream",
     "text": [
      "drums           ==> SDR:   6.223  SIR: 204.926  ISR:  10.776  SAR:   5.681  \n",
      "bass            ==> SDR:   6.223  SIR: 204.926  ISR:  10.776  SAR:   5.681  \n",
      "\n"
     ]
    },
    {
     "name": "stderr",
     "output_type": "stream",
     "text": [
      " 32%|███████████████████████████████████████████████████████████▌                                                                                                                              | 16/50 [03:21<06:47, 11.99s/it]"
     ]
    },
    {
     "name": "stdout",
     "output_type": "stream",
     "text": [
      "drums           ==> SDR:   3.939  SIR: 214.864  ISR:   7.216  SAR:   2.471  \n",
      "bass            ==> SDR:   3.939  SIR: 214.864  ISR:   7.216  SAR:   2.471  \n",
      "\n"
     ]
    },
    {
     "name": "stderr",
     "output_type": "stream",
     "text": [
      " 34%|███████████████████████████████████████████████████████████████▏                                                                                                                          | 17/50 [03:33<06:37, 12.05s/it]"
     ]
    },
    {
     "name": "stdout",
     "output_type": "stream",
     "text": [
      "drums           ==> SDR:   2.466  SIR: 220.076  ISR:   5.849  SAR:  -0.499  \n",
      "bass            ==> SDR:   2.466  SIR: 220.076  ISR:   5.849  SAR:  -0.499  \n",
      "\n"
     ]
    },
    {
     "name": "stderr",
     "output_type": "stream",
     "text": [
      " 36%|██████████████████████████████████████████████████████████████████▉                                                                                                                       | 18/50 [03:46<06:34, 12.33s/it]"
     ]
    },
    {
     "name": "stdout",
     "output_type": "stream",
     "text": [
      "drums           ==> SDR:  10.030  SIR: 195.296  ISR:  14.278  SAR:  10.399  \n",
      "bass            ==> SDR:  10.030  SIR: 195.296  ISR:  14.278  SAR:  10.399  \n",
      "\n"
     ]
    },
    {
     "name": "stderr",
     "output_type": "stream",
     "text": [
      " 38%|██████████████████████████████████████████████████████████████████████▋                                                                                                                   | 19/50 [03:58<06:21, 12.31s/it]"
     ]
    },
    {
     "name": "stdout",
     "output_type": "stream",
     "text": [
      "drums           ==> SDR:   9.742  SIR: 227.524  ISR:  17.498  SAR:   9.582  \n",
      "bass            ==> SDR:   9.742  SIR: 227.524  ISR:  17.498  SAR:   9.582  \n",
      "\n"
     ]
    },
    {
     "name": "stderr",
     "output_type": "stream",
     "text": [
      " 40%|██████████████████████████████████████████████████████████████████████████▍                                                                                                               | 20/50 [04:12<06:17, 12.57s/it]"
     ]
    },
    {
     "name": "stdout",
     "output_type": "stream",
     "text": [
      "drums           ==> SDR:   1.166  SIR: 213.162  ISR:   1.594  SAR:   4.721  \n",
      "bass            ==> SDR:   1.166  SIR: 213.162  ISR:   1.594  SAR:   4.721  \n",
      "\n"
     ]
    },
    {
     "name": "stderr",
     "output_type": "stream",
     "text": [
      " 42%|██████████████████████████████████████████████████████████████████████████████                                                                                                            | 21/50 [04:24<06:02, 12.49s/it]"
     ]
    },
    {
     "name": "stdout",
     "output_type": "stream",
     "text": [
      "drums           ==> SDR:   7.320  SIR: 186.920  ISR:  10.905  SAR:   7.387  \n",
      "bass            ==> SDR:   7.320  SIR: 186.920  ISR:  10.905  SAR:   7.387  \n",
      "\n"
     ]
    },
    {
     "name": "stderr",
     "output_type": "stream",
     "text": [
      " 44%|█████████████████████████████████████████████████████████████████████████████████▊                                                                                                        | 22/50 [04:37<05:58, 12.81s/it]"
     ]
    },
    {
     "name": "stdout",
     "output_type": "stream",
     "text": [
      "drums           ==> SDR:  -7.737  SIR: 270.551  ISR:   0.878  SAR: -20.347  \n",
      "bass            ==> SDR:  -7.737  SIR: 270.551  ISR:   0.878  SAR: -20.347  \n",
      "\n"
     ]
    },
    {
     "name": "stderr",
     "output_type": "stream",
     "text": [
      " 46%|█████████████████████████████████████████████████████████████████████████████████████▌                                                                                                    | 23/50 [04:50<05:46, 12.83s/it]"
     ]
    },
    {
     "name": "stdout",
     "output_type": "stream",
     "text": [
      "drums           ==> SDR:   3.672  SIR: 165.563  ISR:   6.873  SAR:   2.158  \n",
      "bass            ==> SDR:   3.672  SIR: 165.563  ISR:   6.873  SAR:   2.158  \n",
      "\n"
     ]
    },
    {
     "name": "stderr",
     "output_type": "stream",
     "text": [
      " 48%|█████████████████████████████████████████████████████████████████████████████████████████▎                                                                                                | 24/50 [05:03<05:29, 12.68s/it]"
     ]
    },
    {
     "name": "stdout",
     "output_type": "stream",
     "text": [
      "drums           ==> SDR:   6.319  SIR: 133.569  ISR:  10.473  SAR:   6.054  \n",
      "bass            ==> SDR:   6.319  SIR: 133.569  ISR:  10.473  SAR:   6.054  \n",
      "\n"
     ]
    },
    {
     "name": "stderr",
     "output_type": "stream",
     "text": [
      " 50%|█████████████████████████████████████████████████████████████████████████████████████████████                                                                                             | 25/50 [05:15<05:12, 12.52s/it]"
     ]
    },
    {
     "name": "stdout",
     "output_type": "stream",
     "text": [
      "drums           ==> SDR:   3.460  SIR: 217.019  ISR:   7.122  SAR:   2.099  \n",
      "bass            ==> SDR:   3.460  SIR: 217.019  ISR:   7.122  SAR:   2.099  \n",
      "\n"
     ]
    },
    {
     "name": "stderr",
     "output_type": "stream",
     "text": [
      " 52%|████████████████████████████████████████████████████████████████████████████████████████████████▋                                                                                         | 26/50 [05:27<04:57, 12.40s/it]"
     ]
    },
    {
     "name": "stdout",
     "output_type": "stream",
     "text": [
      "drums           ==> SDR:  11.198  SIR: 179.883  ISR:  16.715  SAR:  11.519  \n",
      "bass            ==> SDR:  11.198  SIR: 179.883  ISR:  16.715  SAR:  11.519  \n",
      "\n"
     ]
    },
    {
     "name": "stderr",
     "output_type": "stream",
     "text": [
      " 54%|████████████████████████████████████████████████████████████████████████████████████████████████████▍                                                                                     | 27/50 [05:42<05:00, 13.06s/it]"
     ]
    },
    {
     "name": "stdout",
     "output_type": "stream",
     "text": [
      "drums           ==> SDR:   6.838  SIR: 181.684  ISR:  13.505  SAR:   5.530  \n",
      "bass            ==> SDR:   6.838  SIR: 181.684  ISR:  13.505  SAR:   5.530  \n",
      "\n"
     ]
    },
    {
     "name": "stderr",
     "output_type": "stream",
     "text": [
      " 56%|████████████████████████████████████████████████████████████████████████████████████████████████████████▏                                                                                 | 28/50 [05:59<05:17, 14.41s/it]"
     ]
    },
    {
     "name": "stdout",
     "output_type": "stream",
     "text": [
      "drums           ==> SDR:   8.593  SIR: 191.054  ISR:  11.638  SAR:   9.779  \n",
      "bass            ==> SDR:   8.593  SIR: 191.054  ISR:  11.638  SAR:   9.779  \n",
      "\n"
     ]
    },
    {
     "name": "stderr",
     "output_type": "stream",
     "text": [
      " 58%|███████████████████████████████████████████████████████████████████████████████████████████████████████████▉                                                                              | 29/50 [06:13<04:58, 14.21s/it]"
     ]
    },
    {
     "name": "stdout",
     "output_type": "stream",
     "text": [
      "drums           ==> SDR:   5.015  SIR: 186.598  ISR:   6.637  SAR:   6.916  \n",
      "bass            ==> SDR:   5.015  SIR: 186.598  ISR:   6.637  SAR:   6.916  \n",
      "\n"
     ]
    },
    {
     "name": "stderr",
     "output_type": "stream",
     "text": [
      " 60%|███████████████████████████████████████████████████████████████████████████████████████████████████████████████▌                                                                          | 30/50 [06:26<04:35, 13.78s/it]"
     ]
    },
    {
     "name": "stdout",
     "output_type": "stream",
     "text": [
      "drums           ==> SDR:   6.259  SIR: 219.210  ISR:  10.727  SAR:   7.049  \n",
      "bass            ==> SDR:   6.259  SIR: 219.210  ISR:  10.727  SAR:   7.049  \n",
      "\n"
     ]
    },
    {
     "name": "stderr",
     "output_type": "stream",
     "text": [
      " 62%|███████████████████████████████████████████████████████████████████████████████████████████████████████████████████▎                                                                      | 31/50 [06:37<04:09, 13.12s/it]"
     ]
    },
    {
     "name": "stdout",
     "output_type": "stream",
     "text": [
      "drums           ==> SDR:   2.446  SIR: 193.668  ISR:   9.364  SAR:   0.699  \n",
      "bass            ==> SDR:   2.446  SIR: 193.668  ISR:   9.364  SAR:   0.699  \n",
      "\n"
     ]
    },
    {
     "name": "stderr",
     "output_type": "stream",
     "text": [
      " 64%|███████████████████████████████████████████████████████████████████████████████████████████████████████████████████████                                                                   | 32/50 [06:47<03:40, 12.23s/it]"
     ]
    },
    {
     "name": "stdout",
     "output_type": "stream",
     "text": [
      "drums           ==> SDR:   1.086  SIR: 190.083  ISR:   4.353  SAR:   0.424  \n",
      "bass            ==> SDR:   1.086  SIR: 190.083  ISR:   4.353  SAR:   0.424  \n",
      "\n"
     ]
    },
    {
     "name": "stderr",
     "output_type": "stream",
     "text": [
      " 66%|██████████████████████████████████████████████████████████████████████████████████████████████████████████████████████████▊                                                               | 33/50 [06:58<03:20, 11.82s/it]"
     ]
    },
    {
     "name": "stdout",
     "output_type": "stream",
     "text": [
      "drums           ==> SDR:   2.078  SIR: 222.338  ISR:   4.871  SAR:  -0.828  \n",
      "bass            ==> SDR:   2.078  SIR: 222.338  ISR:   4.871  SAR:  -0.828  \n",
      "\n"
     ]
    },
    {
     "name": "stderr",
     "output_type": "stream",
     "text": [
      " 68%|██████████████████████████████████████████████████████████████████████████████████████████████████████████████████████████████▍                                                           | 34/50 [07:10<03:09, 11.85s/it]"
     ]
    },
    {
     "name": "stdout",
     "output_type": "stream",
     "text": [
      "drums           ==> SDR:   4.407  SIR: 248.386  ISR:   7.085  SAR:   2.934  \n",
      "bass            ==> SDR:   4.407  SIR: 248.386  ISR:   7.085  SAR:   2.934  \n",
      "\n"
     ]
    },
    {
     "name": "stderr",
     "output_type": "stream",
     "text": [
      " 70%|██████████████████████████████████████████████████████████████████████████████████████████████████████████████████████████████████▏                                                       | 35/50 [07:27<03:20, 13.35s/it]"
     ]
    },
    {
     "name": "stdout",
     "output_type": "stream",
     "text": [
      "drums           ==> SDR:   8.928  SIR: 213.890  ISR:  12.693  SAR:   9.526  \n",
      "bass            ==> SDR:   8.928  SIR: 213.890  ISR:  12.693  SAR:   9.526  \n",
      "\n"
     ]
    },
    {
     "name": "stderr",
     "output_type": "stream",
     "text": [
      " 72%|█████████████████████████████████████████████████████████████████████████████████████████████████████████████████████████████████████▉                                                    | 36/50 [07:39<03:00, 12.88s/it]"
     ]
    },
    {
     "name": "stdout",
     "output_type": "stream",
     "text": [
      "drums           ==> SDR:   1.845  SIR: 217.503  ISR:   6.527  SAR:   0.223  \n",
      "bass            ==> SDR:   1.845  SIR: 217.503  ISR:   6.527  SAR:   0.223  \n",
      "\n"
     ]
    },
    {
     "name": "stderr",
     "output_type": "stream",
     "text": [
      " 74%|█████████████████████████████████████████████████████████████████████████████████████████████████████████████████████████████████████████▋                                                | 37/50 [07:51<02:43, 12.60s/it]"
     ]
    },
    {
     "name": "stdout",
     "output_type": "stream",
     "text": [
      "drums           ==> SDR:   3.746  SIR: 200.531  ISR:   9.327  SAR:   1.934  \n",
      "bass            ==> SDR:   3.746  SIR: 200.531  ISR:   9.327  SAR:   1.934  \n",
      "\n"
     ]
    },
    {
     "name": "stderr",
     "output_type": "stream",
     "text": [
      " 76%|█████████████████████████████████████████████████████████████████████████████████████████████████████████████████████████████████████████████▎                                            | 38/50 [08:02<02:27, 12.26s/it]"
     ]
    },
    {
     "name": "stdout",
     "output_type": "stream",
     "text": [
      "drums           ==> SDR:   7.794  SIR: 221.375  ISR:   9.021  SAR:   5.587  \n",
      "bass            ==> SDR:   7.794  SIR: 221.375  ISR:   9.021  SAR:   5.587  \n",
      "\n"
     ]
    },
    {
     "name": "stderr",
     "output_type": "stream",
     "text": [
      " 78%|█████████████████████████████████████████████████████████████████████████████████████████████████████████████████████████████████████████████████                                         | 39/50 [08:15<02:17, 12.49s/it]"
     ]
    },
    {
     "name": "stdout",
     "output_type": "stream",
     "text": [
      "drums           ==> SDR:   3.999  SIR: 228.974  ISR:   5.819  SAR:   4.287  \n",
      "bass            ==> SDR:   3.999  SIR: 228.974  ISR:   5.819  SAR:   4.287  \n",
      "\n"
     ]
    },
    {
     "name": "stderr",
     "output_type": "stream",
     "text": [
      " 80%|████████████████████████████████████████████████████████████████████████████████████████████████████████████████████████████████████████████████████▊                                     | 40/50 [08:27<02:03, 12.31s/it]"
     ]
    },
    {
     "name": "stdout",
     "output_type": "stream",
     "text": [
      "drums           ==> SDR:   2.931  SIR: 170.983  ISR:   6.768  SAR:   2.434  \n",
      "bass            ==> SDR:   2.931  SIR: 170.983  ISR:   6.768  SAR:   2.434  \n",
      "\n"
     ]
    },
    {
     "name": "stderr",
     "output_type": "stream",
     "text": [
      " 82%|████████████████████████████████████████████████████████████████████████████████████████████████████████████████████████████████████████████████████████▌                                 | 41/50 [08:39<01:49, 12.20s/it]"
     ]
    },
    {
     "name": "stdout",
     "output_type": "stream",
     "text": [
      "drums           ==> SDR:   3.673  SIR: 184.140  ISR:   9.063  SAR:   3.565  \n",
      "bass            ==> SDR:   3.673  SIR: 184.140  ISR:   9.063  SAR:   3.565  \n",
      "\n"
     ]
    },
    {
     "name": "stderr",
     "output_type": "stream",
     "text": [
      " 84%|████████████████████████████████████████████████████████████████████████████████████████████████████████████████████████████████████████████████████████████▏                             | 42/50 [08:51<01:35, 11.98s/it]"
     ]
    },
    {
     "name": "stdout",
     "output_type": "stream",
     "text": [
      "drums           ==> SDR:   6.810  SIR: 128.234  ISR:  10.473  SAR:   6.395  \n",
      "bass            ==> SDR:   6.810  SIR: 128.234  ISR:  10.473  SAR:   6.395  \n",
      "\n"
     ]
    },
    {
     "name": "stderr",
     "output_type": "stream",
     "text": [
      " 86%|███████████████████████████████████████████████████████████████████████████████████████████████████████████████████████████████████████████████████████████████▉                          | 43/50 [09:02<01:22, 11.83s/it]"
     ]
    },
    {
     "name": "stdout",
     "output_type": "stream",
     "text": [
      "drums           ==> SDR:   4.749  SIR: 195.598  ISR:   8.228  SAR:   3.004  \n",
      "bass            ==> SDR:   4.749  SIR: 195.598  ISR:   8.228  SAR:   3.004  \n",
      "\n"
     ]
    },
    {
     "name": "stderr",
     "output_type": "stream",
     "text": [
      " 88%|███████████████████████████████████████████████████████████████████████████████████████████████████████████████████████████████████████████████████████████████████▋                      | 44/50 [09:13<01:09, 11.53s/it]"
     ]
    },
    {
     "name": "stdout",
     "output_type": "stream",
     "text": [
      "drums           ==> SDR:   5.092  SIR: 219.332  ISR:   9.519  SAR:   5.544  \n",
      "bass            ==> SDR:   5.092  SIR: 219.332  ISR:   9.519  SAR:   5.544  \n",
      "\n"
     ]
    },
    {
     "name": "stderr",
     "output_type": "stream",
     "text": [
      " 90%|███████████████████████████████████████████████████████████████████████████████████████████████████████████████████████████████████████████████████████████████████████▍                  | 45/50 [09:24<00:57, 11.50s/it]"
     ]
    },
    {
     "name": "stdout",
     "output_type": "stream",
     "text": [
      "drums           ==> SDR:   0.534  SIR: 211.830  ISR:   1.240  SAR:  -2.922  \n",
      "bass            ==> SDR:   0.534  SIR: 211.830  ISR:   1.240  SAR:  -2.922  \n",
      "\n"
     ]
    },
    {
     "name": "stderr",
     "output_type": "stream",
     "text": [
      " 92%|███████████████████████████████████████████████████████████████████████████████████████████████████████████████████████████████████████████████████████████████████████████               | 46/50 [09:36<00:46, 11.60s/it]"
     ]
    },
    {
     "name": "stdout",
     "output_type": "stream",
     "text": [
      "drums           ==> SDR:   2.351  SIR: 208.214  ISR:   3.965  SAR:  -0.499  \n",
      "bass            ==> SDR:   2.351  SIR: 208.214  ISR:   3.965  SAR:  -0.499  \n",
      "\n"
     ]
    },
    {
     "name": "stderr",
     "output_type": "stream",
     "text": [
      " 94%|██████████████████████████████████████████████████████████████████████████████████████████████████████████████████████████████████████████████████████████████████████████████▊           | 47/50 [09:48<00:34, 11.55s/it]"
     ]
    },
    {
     "name": "stdout",
     "output_type": "stream",
     "text": [
      "drums           ==> SDR:   2.994  SIR: 167.514  ISR:   4.728  SAR:   2.256  \n",
      "bass            ==> SDR:   2.994  SIR: 167.514  ISR:   4.728  SAR:   2.256  \n",
      "\n"
     ]
    },
    {
     "name": "stderr",
     "output_type": "stream",
     "text": [
      " 96%|██████████████████████████████████████████████████████████████████████████████████████████████████████████████████████████████████████████████████████████████████████████████████▌       | 48/50 [09:59<00:23, 11.60s/it]"
     ]
    },
    {
     "name": "stdout",
     "output_type": "stream",
     "text": [
      "drums           ==> SDR:   3.327  SIR: 219.091  ISR:   7.181  SAR:   1.255  \n",
      "bass            ==> SDR:   3.327  SIR: 219.091  ISR:   7.181  SAR:   1.255  \n",
      "\n"
     ]
    },
    {
     "name": "stderr",
     "output_type": "stream",
     "text": [
      " 98%|██████████████████████████████████████████████████████████████████████████████████████████████████████████████████████████████████████████████████████████████████████████████████████▎   | 49/50 [10:10<00:11, 11.49s/it]"
     ]
    },
    {
     "name": "stdout",
     "output_type": "stream",
     "text": [
      "drums           ==> SDR:   8.818  SIR: 209.379  ISR:  15.853  SAR:   8.563  \n",
      "bass            ==> SDR:   8.818  SIR: 209.379  ISR:  15.853  SAR:   8.563  \n",
      "\n"
     ]
    },
    {
     "name": "stderr",
     "output_type": "stream",
     "text": [
      "100%|██████████████████████████████████████████████████████████████████████████████████████████████████████████████████████████████████████████████████████████████████████████████████████████| 50/50 [10:22<00:00, 12.45s/it]"
     ]
    },
    {
     "name": "stdout",
     "output_type": "stream",
     "text": [
      "drums           ==> SDR:   6.373  SIR: 209.139  ISR:  10.049  SAR:   5.815  \n",
      "bass            ==> SDR:   6.373  SIR: 209.139  ISR:  10.049  SAR:   5.815  \n",
      "\n"
     ]
    },
    {
     "name": "stderr",
     "output_type": "stream",
     "text": [
      "\n",
      "C:\\Python311\\Lib\\site-packages\\pytorch_lightning\\utilities\\migration\\utils.py:55: The loaded checkpoint was produced with Lightning v2.2.1, which is newer than your current Lightning version: v2.1.2\n",
      "  2%|███▋                                                                                                                                                                                       | 1/50 [00:12<10:33, 12.93s/it]"
     ]
    },
    {
     "name": "stdout",
     "output_type": "stream",
     "text": [
      "drums           ==> SDR:   7.218  SIR: 224.166  ISR:  10.056  SAR:   6.056  \n",
      "bass            ==> SDR:   7.218  SIR: 224.166  ISR:  10.056  SAR:   6.056  \n",
      "\n"
     ]
    },
    {
     "name": "stderr",
     "output_type": "stream",
     "text": [
      "  4%|███████▍                                                                                                                                                                                   | 2/50 [00:24<09:51, 12.33s/it]"
     ]
    },
    {
     "name": "stdout",
     "output_type": "stream",
     "text": [
      "drums           ==> SDR:   2.981  SIR: 183.437  ISR:   6.217  SAR:  -0.081  \n",
      "bass            ==> SDR:   2.981  SIR: 183.437  ISR:   6.217  SAR:  -0.081  \n",
      "\n"
     ]
    },
    {
     "name": "stderr",
     "output_type": "stream",
     "text": [
      "  6%|███████████▏                                                                                                                                                                               | 3/50 [00:37<09:46, 12.47s/it]"
     ]
    },
    {
     "name": "stdout",
     "output_type": "stream",
     "text": [
      "drums           ==> SDR:   4.225  SIR: 235.731  ISR:   8.162  SAR:   3.373  \n",
      "bass            ==> SDR:   4.225  SIR: 235.731  ISR:   8.162  SAR:   3.373  \n",
      "\n"
     ]
    },
    {
     "name": "stderr",
     "output_type": "stream",
     "text": [
      "  8%|██████████████▉                                                                                                                                                                            | 4/50 [00:50<09:34, 12.49s/it]"
     ]
    },
    {
     "name": "stdout",
     "output_type": "stream",
     "text": [
      "drums           ==> SDR:   1.825  SIR: 229.580  ISR:  11.730  SAR:  -0.044  \n",
      "bass            ==> SDR:   1.825  SIR: 229.580  ISR:  11.730  SAR:  -0.044  \n",
      "\n"
     ]
    },
    {
     "name": "stderr",
     "output_type": "stream",
     "text": [
      " 10%|██████████████████▋                                                                                                                                                                        | 5/50 [01:01<09:08, 12.19s/it]"
     ]
    },
    {
     "name": "stdout",
     "output_type": "stream",
     "text": [
      "drums           ==> SDR:   8.378  SIR: 202.671  ISR:  12.554  SAR:   8.507  \n",
      "bass            ==> SDR:   8.378  SIR: 202.671  ISR:  12.554  SAR:   8.507  \n",
      "\n"
     ]
    },
    {
     "name": "stderr",
     "output_type": "stream",
     "text": [
      " 12%|██████████████████████▍                                                                                                                                                                    | 6/50 [01:13<08:44, 11.91s/it]"
     ]
    },
    {
     "name": "stdout",
     "output_type": "stream",
     "text": [
      "drums           ==> SDR:   4.506  SIR: 237.117  ISR:   7.644  SAR:   3.736  \n",
      "bass            ==> SDR:   4.506  SIR: 237.117  ISR:   7.644  SAR:   3.736  \n",
      "\n"
     ]
    },
    {
     "name": "stderr",
     "output_type": "stream",
     "text": [
      " 14%|██████████████████████████▏                                                                                                                                                                | 7/50 [01:24<08:25, 11.76s/it]"
     ]
    },
    {
     "name": "stdout",
     "output_type": "stream",
     "text": [
      "drums           ==> SDR:   5.021  SIR: 225.094  ISR:   8.381  SAR:   3.720  \n",
      "bass            ==> SDR:   5.021  SIR: 225.094  ISR:   8.381  SAR:   3.720  \n",
      "\n"
     ]
    },
    {
     "name": "stderr",
     "output_type": "stream",
     "text": [
      " 16%|█████████████████████████████▉                                                                                                                                                             | 8/50 [01:35<08:09, 11.64s/it]"
     ]
    },
    {
     "name": "stdout",
     "output_type": "stream",
     "text": [
      "drums           ==> SDR:   4.350  SIR: 241.802  ISR:   8.872  SAR:   2.888  \n",
      "bass            ==> SDR:   4.350  SIR: 241.802  ISR:   8.872  SAR:   2.888  \n",
      "\n"
     ]
    },
    {
     "name": "stderr",
     "output_type": "stream",
     "text": [
      " 18%|█████████████████████████████████▋                                                                                                                                                         | 9/50 [01:47<08:03, 11.78s/it]"
     ]
    },
    {
     "name": "stdout",
     "output_type": "stream",
     "text": [
      "drums           ==> SDR:   4.590  SIR: 158.565  ISR:   6.460  SAR:   3.111  \n",
      "bass            ==> SDR:   4.590  SIR: 158.565  ISR:   6.460  SAR:   3.111  \n",
      "\n"
     ]
    },
    {
     "name": "stderr",
     "output_type": "stream",
     "text": [
      " 20%|█████████████████████████████████████▏                                                                                                                                                    | 10/50 [01:58<07:38, 11.47s/it]"
     ]
    },
    {
     "name": "stdout",
     "output_type": "stream",
     "text": [
      "drums           ==> SDR:  -7.490  SIR: 175.053  ISR:   6.380  SAR: -11.592  \n",
      "bass            ==> SDR:  -7.490  SIR: 175.053  ISR:   6.380  SAR: -11.592  \n",
      "\n"
     ]
    },
    {
     "name": "stderr",
     "output_type": "stream",
     "text": [
      " 22%|████████████████████████████████████████▉                                                                                                                                                 | 11/50 [02:09<07:20, 11.30s/it]"
     ]
    },
    {
     "name": "stdout",
     "output_type": "stream",
     "text": [
      "drums           ==> SDR:   8.919  SIR: 216.979  ISR:  12.474  SAR:   9.165  \n",
      "bass            ==> SDR:   8.919  SIR: 216.979  ISR:  12.474  SAR:   9.165  \n",
      "\n"
     ]
    },
    {
     "name": "stderr",
     "output_type": "stream",
     "text": [
      " 24%|████████████████████████████████████████████▋                                                                                                                                             | 12/50 [02:20<07:05, 11.21s/it]"
     ]
    },
    {
     "name": "stdout",
     "output_type": "stream",
     "text": [
      "drums           ==> SDR:   5.530  SIR: 222.008  ISR:   7.016  SAR:   6.257  \n",
      "bass            ==> SDR:   5.530  SIR: 222.008  ISR:   7.016  SAR:   6.257  \n",
      "\n"
     ]
    },
    {
     "name": "stderr",
     "output_type": "stream",
     "text": [
      " 26%|████████████████████████████████████████████████▎                                                                                                                                         | 13/50 [02:30<06:41, 10.84s/it]"
     ]
    },
    {
     "name": "stdout",
     "output_type": "stream",
     "text": [
      "drums           ==> SDR:   1.000  SIR:  90.816  ISR:   1.539  SAR:  -2.329  \n",
      "bass            ==> SDR:   1.000  SIR:  90.816  ISR:   1.539  SAR:  -2.329  \n",
      "\n"
     ]
    },
    {
     "name": "stderr",
     "output_type": "stream",
     "text": [
      " 28%|████████████████████████████████████████████████████                                                                                                                                      | 14/50 [02:41<06:29, 10.82s/it]"
     ]
    },
    {
     "name": "stdout",
     "output_type": "stream",
     "text": [
      "drums           ==> SDR:   7.096  SIR: 216.193  ISR:  10.542  SAR:   7.448  \n",
      "bass            ==> SDR:   7.096  SIR: 216.193  ISR:  10.542  SAR:   7.448  \n",
      "\n"
     ]
    },
    {
     "name": "stderr",
     "output_type": "stream",
     "text": [
      " 30%|███████████████████████████████████████████████████████▊                                                                                                                                  | 15/50 [02:52<06:22, 10.93s/it]"
     ]
    },
    {
     "name": "stdout",
     "output_type": "stream",
     "text": [
      "drums           ==> SDR:   6.307  SIR: 211.643  ISR:  10.518  SAR:   5.657  \n",
      "bass            ==> SDR:   6.307  SIR: 211.643  ISR:  10.518  SAR:   5.657  \n",
      "\n"
     ]
    },
    {
     "name": "stderr",
     "output_type": "stream",
     "text": [
      " 32%|███████████████████████████████████████████████████████████▌                                                                                                                              | 16/50 [03:05<06:35, 11.62s/it]"
     ]
    },
    {
     "name": "stdout",
     "output_type": "stream",
     "text": [
      "drums           ==> SDR:   4.110  SIR: 215.525  ISR:   7.098  SAR:   2.406  \n",
      "bass            ==> SDR:   4.110  SIR: 215.525  ISR:   7.098  SAR:   2.406  \n",
      "\n"
     ]
    },
    {
     "name": "stderr",
     "output_type": "stream",
     "text": [
      " 34%|███████████████████████████████████████████████████████████████▏                                                                                                                          | 17/50 [03:16<06:14, 11.36s/it]"
     ]
    },
    {
     "name": "stdout",
     "output_type": "stream",
     "text": [
      "drums           ==> SDR:   2.392  SIR: 216.855  ISR:   5.228  SAR:  -1.015  \n",
      "bass            ==> SDR:   2.392  SIR: 216.855  ISR:   5.228  SAR:  -1.015  \n",
      "\n"
     ]
    },
    {
     "name": "stderr",
     "output_type": "stream",
     "text": [
      " 36%|██████████████████████████████████████████████████████████████████▉                                                                                                                       | 18/50 [03:27<05:58, 11.21s/it]"
     ]
    },
    {
     "name": "stdout",
     "output_type": "stream",
     "text": [
      "drums           ==> SDR:   9.997  SIR: 194.997  ISR:  14.135  SAR:  10.226  \n",
      "bass            ==> SDR:   9.997  SIR: 194.997  ISR:  14.135  SAR:  10.226  \n",
      "\n"
     ]
    },
    {
     "name": "stderr",
     "output_type": "stream",
     "text": [
      " 38%|██████████████████████████████████████████████████████████████████████▋                                                                                                                   | 19/50 [03:41<06:12, 12.01s/it]"
     ]
    },
    {
     "name": "stdout",
     "output_type": "stream",
     "text": [
      "drums           ==> SDR:  10.289  SIR: 217.833  ISR:  17.049  SAR:  10.193  \n",
      "bass            ==> SDR:  10.289  SIR: 217.833  ISR:  17.049  SAR:  10.193  \n",
      "\n"
     ]
    },
    {
     "name": "stderr",
     "output_type": "stream",
     "text": [
      " 40%|██████████████████████████████████████████████████████████████████████████▍                                                                                                               | 20/50 [03:55<06:16, 12.55s/it]"
     ]
    },
    {
     "name": "stdout",
     "output_type": "stream",
     "text": [
      "drums           ==> SDR:   1.174  SIR: 216.552  ISR:   1.574  SAR:   4.737  \n",
      "bass            ==> SDR:   1.174  SIR: 216.552  ISR:   1.574  SAR:   4.737  \n",
      "\n"
     ]
    },
    {
     "name": "stderr",
     "output_type": "stream",
     "text": [
      " 42%|██████████████████████████████████████████████████████████████████████████████                                                                                                            | 21/50 [04:05<05:43, 11.85s/it]"
     ]
    },
    {
     "name": "stdout",
     "output_type": "stream",
     "text": [
      "drums           ==> SDR:   7.294  SIR: 184.538  ISR:  10.468  SAR:   7.586  \n",
      "bass            ==> SDR:   7.294  SIR: 184.538  ISR:  10.468  SAR:   7.586  \n",
      "\n"
     ]
    },
    {
     "name": "stderr",
     "output_type": "stream",
     "text": [
      " 44%|█████████████████████████████████████████████████████████████████████████████████▊                                                                                                        | 22/50 [04:17<05:36, 12.03s/it]"
     ]
    },
    {
     "name": "stdout",
     "output_type": "stream",
     "text": [
      "drums           ==> SDR:  -7.737  SIR: 270.551  ISR:   0.878  SAR: -20.347  \n",
      "bass            ==> SDR:  -7.737  SIR: 270.551  ISR:   0.878  SAR: -20.347  \n",
      "\n"
     ]
    },
    {
     "name": "stderr",
     "output_type": "stream",
     "text": [
      " 46%|█████████████████████████████████████████████████████████████████████████████████████▌                                                                                                    | 23/50 [04:28<05:11, 11.55s/it]"
     ]
    },
    {
     "name": "stdout",
     "output_type": "stream",
     "text": [
      "drums           ==> SDR:   4.102  SIR: 168.064  ISR:   6.799  SAR:   2.126  \n",
      "bass            ==> SDR:   4.102  SIR: 168.064  ISR:   6.799  SAR:   2.126  \n",
      "\n"
     ]
    },
    {
     "name": "stderr",
     "output_type": "stream",
     "text": [
      " 48%|█████████████████████████████████████████████████████████████████████████████████████████▎                                                                                                | 24/50 [04:40<05:06, 11.77s/it]"
     ]
    },
    {
     "name": "stdout",
     "output_type": "stream",
     "text": [
      "drums           ==> SDR:   5.994  SIR: 132.663  ISR:  10.123  SAR:   5.918  \n",
      "bass            ==> SDR:   5.994  SIR: 132.663  ISR:  10.123  SAR:   5.918  \n",
      "\n"
     ]
    },
    {
     "name": "stderr",
     "output_type": "stream",
     "text": [
      " 50%|█████████████████████████████████████████████████████████████████████████████████████████████                                                                                             | 25/50 [04:53<05:06, 12.24s/it]"
     ]
    },
    {
     "name": "stdout",
     "output_type": "stream",
     "text": [
      "drums           ==> SDR:   3.389  SIR: 224.110  ISR:   6.582  SAR:   1.805  \n",
      "bass            ==> SDR:   3.389  SIR: 224.110  ISR:   6.582  SAR:   1.805  \n",
      "\n"
     ]
    },
    {
     "name": "stderr",
     "output_type": "stream",
     "text": [
      " 52%|████████████████████████████████████████████████████████████████████████████████████████████████▋                                                                                         | 26/50 [05:04<04:41, 11.73s/it]"
     ]
    },
    {
     "name": "stdout",
     "output_type": "stream",
     "text": [
      "drums           ==> SDR:  11.037  SIR: 180.593  ISR:  16.304  SAR:  11.377  \n",
      "bass            ==> SDR:  11.037  SIR: 180.593  ISR:  16.304  SAR:  11.377  \n",
      "\n"
     ]
    },
    {
     "name": "stderr",
     "output_type": "stream",
     "text": [
      " 54%|████████████████████████████████████████████████████████████████████████████████████████████████████▍                                                                                     | 27/50 [05:15<04:23, 11.45s/it]"
     ]
    },
    {
     "name": "stdout",
     "output_type": "stream",
     "text": [
      "drums           ==> SDR:   6.697  SIR: 187.595  ISR:  13.878  SAR:   5.748  \n",
      "bass            ==> SDR:   6.697  SIR: 187.595  ISR:  13.878  SAR:   5.748  \n",
      "\n"
     ]
    },
    {
     "name": "stderr",
     "output_type": "stream",
     "text": [
      " 56%|████████████████████████████████████████████████████████████████████████████████████████████████████████▏                                                                                 | 28/50 [05:26<04:10, 11.38s/it]"
     ]
    },
    {
     "name": "stdout",
     "output_type": "stream",
     "text": [
      "drums           ==> SDR:   7.882  SIR: 190.318  ISR:  10.598  SAR:   8.775  \n",
      "bass            ==> SDR:   7.882  SIR: 190.318  ISR:  10.598  SAR:   8.775  \n",
      "\n"
     ]
    },
    {
     "name": "stderr",
     "output_type": "stream",
     "text": [
      " 58%|███████████████████████████████████████████████████████████████████████████████████████████████████████████▉                                                                              | 29/50 [05:36<03:52, 11.07s/it]"
     ]
    },
    {
     "name": "stdout",
     "output_type": "stream",
     "text": [
      "drums           ==> SDR:   5.004  SIR: 195.359  ISR:   6.602  SAR:   6.758  \n",
      "bass            ==> SDR:   5.004  SIR: 195.359  ISR:   6.602  SAR:   6.758  \n",
      "\n"
     ]
    },
    {
     "name": "stderr",
     "output_type": "stream",
     "text": [
      " 60%|███████████████████████████████████████████████████████████████████████████████████████████████████████████████▌                                                                          | 30/50 [05:48<03:44, 11.24s/it]"
     ]
    },
    {
     "name": "stdout",
     "output_type": "stream",
     "text": [
      "drums           ==> SDR:   6.234  SIR: 220.563  ISR:  10.141  SAR:   6.453  \n",
      "bass            ==> SDR:   6.234  SIR: 220.563  ISR:  10.141  SAR:   6.453  \n",
      "\n"
     ]
    },
    {
     "name": "stderr",
     "output_type": "stream",
     "text": [
      " 62%|███████████████████████████████████████████████████████████████████████████████████████████████████████████████████▎                                                                      | 31/50 [06:00<03:38, 11.51s/it]"
     ]
    },
    {
     "name": "stdout",
     "output_type": "stream",
     "text": [
      "drums           ==> SDR:   2.325  SIR: 193.200  ISR:   9.107  SAR:   0.712  \n",
      "bass            ==> SDR:   2.325  SIR: 193.200  ISR:   9.107  SAR:   0.712  \n",
      "\n"
     ]
    },
    {
     "name": "stderr",
     "output_type": "stream",
     "text": [
      " 64%|███████████████████████████████████████████████████████████████████████████████████████████████████████████████████████                                                                   | 32/50 [06:10<03:21, 11.18s/it]"
     ]
    },
    {
     "name": "stdout",
     "output_type": "stream",
     "text": [
      "drums           ==> SDR:   1.342  SIR: 186.345  ISR:   4.653  SAR:   0.789  \n",
      "bass            ==> SDR:   1.342  SIR: 186.345  ISR:   4.653  SAR:   0.789  \n",
      "\n"
     ]
    },
    {
     "name": "stderr",
     "output_type": "stream",
     "text": [
      " 66%|██████████████████████████████████████████████████████████████████████████████████████████████████████████████████████████▊                                                               | 33/50 [06:22<03:10, 11.21s/it]"
     ]
    },
    {
     "name": "stdout",
     "output_type": "stream",
     "text": [
      "drums           ==> SDR:   1.621  SIR: 227.845  ISR:   4.307  SAR:  -0.832  \n",
      "bass            ==> SDR:   1.621  SIR: 227.845  ISR:   4.307  SAR:  -0.832  \n",
      "\n"
     ]
    },
    {
     "name": "stderr",
     "output_type": "stream",
     "text": [
      " 68%|██████████████████████████████████████████████████████████████████████████████████████████████████████████████████████████████▍                                                           | 34/50 [06:36<03:13, 12.08s/it]"
     ]
    },
    {
     "name": "stdout",
     "output_type": "stream",
     "text": [
      "drums           ==> SDR:   3.931  SIR: 250.611  ISR:   6.160  SAR:   2.124  \n",
      "bass            ==> SDR:   3.931  SIR: 250.611  ISR:   6.160  SAR:   2.124  \n",
      "\n"
     ]
    },
    {
     "name": "stderr",
     "output_type": "stream",
     "text": [
      " 70%|██████████████████████████████████████████████████████████████████████████████████████████████████████████████████████████████████▏                                                       | 35/50 [06:48<02:59, 11.97s/it]"
     ]
    },
    {
     "name": "stdout",
     "output_type": "stream",
     "text": [
      "drums           ==> SDR:   8.998  SIR: 220.218  ISR:  12.655  SAR:   9.418  \n",
      "bass            ==> SDR:   8.998  SIR: 220.218  ISR:  12.655  SAR:   9.418  \n",
      "\n"
     ]
    },
    {
     "name": "stderr",
     "output_type": "stream",
     "text": [
      " 72%|█████████████████████████████████████████████████████████████████████████████████████████████████████████████████████████████████████▉                                                    | 36/50 [06:58<02:40, 11.47s/it]"
     ]
    },
    {
     "name": "stdout",
     "output_type": "stream",
     "text": [
      "drums           ==> SDR:   2.074  SIR: 200.243  ISR:   6.238  SAR:  -0.006  \n",
      "bass            ==> SDR:   2.074  SIR: 200.243  ISR:   6.238  SAR:  -0.006  \n",
      "\n"
     ]
    },
    {
     "name": "stderr",
     "output_type": "stream",
     "text": [
      " 74%|█████████████████████████████████████████████████████████████████████████████████████████████████████████████████████████████████████████▋                                                | 37/50 [07:08<02:23, 11.05s/it]"
     ]
    },
    {
     "name": "stdout",
     "output_type": "stream",
     "text": [
      "drums           ==> SDR:   3.334  SIR: 201.548  ISR:   8.614  SAR:   1.555  \n",
      "bass            ==> SDR:   3.334  SIR: 201.548  ISR:   8.614  SAR:   1.555  \n",
      "\n"
     ]
    },
    {
     "name": "stderr",
     "output_type": "stream",
     "text": [
      " 76%|█████████████████████████████████████████████████████████████████████████████████████████████████████████████████████████████████████████████▎                                            | 38/50 [07:19<02:12, 11.06s/it]"
     ]
    },
    {
     "name": "stdout",
     "output_type": "stream",
     "text": [
      "drums           ==> SDR:   7.510  SIR: 222.630  ISR:   8.592  SAR:   5.239  \n",
      "bass            ==> SDR:   7.510  SIR: 222.630  ISR:   8.592  SAR:   5.239  \n",
      "\n"
     ]
    },
    {
     "name": "stderr",
     "output_type": "stream",
     "text": [
      " 78%|█████████████████████████████████████████████████████████████████████████████████████████████████████████████████████████████████████████████████                                         | 39/50 [07:31<02:03, 11.23s/it]"
     ]
    },
    {
     "name": "stdout",
     "output_type": "stream",
     "text": [
      "drums           ==> SDR:   3.882  SIR: 223.426  ISR:   5.522  SAR:   4.059  \n",
      "bass            ==> SDR:   3.882  SIR: 223.426  ISR:   5.522  SAR:   4.059  \n",
      "\n"
     ]
    },
    {
     "name": "stderr",
     "output_type": "stream",
     "text": [
      " 80%|████████████████████████████████████████████████████████████████████████████████████████████████████████████████████████████████████████████████████▊                                     | 40/50 [07:43<01:55, 11.58s/it]"
     ]
    },
    {
     "name": "stdout",
     "output_type": "stream",
     "text": [
      "drums           ==> SDR:   2.626  SIR: 173.712  ISR:   6.118  SAR:   1.602  \n",
      "bass            ==> SDR:   2.626  SIR: 173.712  ISR:   6.118  SAR:   1.602  \n",
      "\n"
     ]
    },
    {
     "name": "stderr",
     "output_type": "stream",
     "text": [
      " 82%|████████████████████████████████████████████████████████████████████████████████████████████████████████████████████████████████████████████████████████▌                                 | 41/50 [07:53<01:40, 11.12s/it]"
     ]
    },
    {
     "name": "stdout",
     "output_type": "stream",
     "text": [
      "drums           ==> SDR:   2.966  SIR: 182.458  ISR:   8.418  SAR:   3.066  \n",
      "bass            ==> SDR:   2.966  SIR: 182.458  ISR:   8.418  SAR:   3.066  \n",
      "\n"
     ]
    },
    {
     "name": "stderr",
     "output_type": "stream",
     "text": [
      " 84%|████████████████████████████████████████████████████████████████████████████████████████████████████████████████████████████████████████████████████████████▏                             | 42/50 [08:06<01:32, 11.53s/it]"
     ]
    },
    {
     "name": "stdout",
     "output_type": "stream",
     "text": [
      "drums           ==> SDR:   6.794  SIR: 126.324  ISR:  10.121  SAR:   6.536  \n",
      "bass            ==> SDR:   6.794  SIR: 126.324  ISR:  10.121  SAR:   6.536  \n",
      "\n"
     ]
    },
    {
     "name": "stderr",
     "output_type": "stream",
     "text": [
      " 86%|███████████████████████████████████████████████████████████████████████████████████████████████████████████████████████████████████████████████████████████████▉                          | 43/50 [08:15<01:17, 11.04s/it]"
     ]
    },
    {
     "name": "stdout",
     "output_type": "stream",
     "text": [
      "drums           ==> SDR:   4.279  SIR: 195.200  ISR:   7.537  SAR:   3.084  \n",
      "bass            ==> SDR:   4.279  SIR: 195.200  ISR:   7.537  SAR:   3.084  \n",
      "\n"
     ]
    },
    {
     "name": "stderr",
     "output_type": "stream",
     "text": [
      " 88%|███████████████████████████████████████████████████████████████████████████████████████████████████████████████████████████████████████████████████████████████████▋                      | 44/50 [08:26<01:04, 10.76s/it]"
     ]
    },
    {
     "name": "stdout",
     "output_type": "stream",
     "text": [
      "drums           ==> SDR:   5.794  SIR: 215.730  ISR:   9.423  SAR:   6.018  \n",
      "bass            ==> SDR:   5.794  SIR: 215.730  ISR:   9.423  SAR:   6.018  \n",
      "\n"
     ]
    },
    {
     "name": "stderr",
     "output_type": "stream",
     "text": [
      " 90%|███████████████████████████████████████████████████████████████████████████████████████████████████████████████████████████████████████████████████████████████████████▍                  | 45/50 [08:36<00:53, 10.62s/it]"
     ]
    },
    {
     "name": "stdout",
     "output_type": "stream",
     "text": [
      "drums           ==> SDR:   0.468  SIR: 209.825  ISR:   1.000  SAR:  -3.509  \n",
      "bass            ==> SDR:   0.468  SIR: 209.825  ISR:   1.000  SAR:  -3.509  \n",
      "\n"
     ]
    },
    {
     "name": "stderr",
     "output_type": "stream",
     "text": [
      " 92%|███████████████████████████████████████████████████████████████████████████████████████████████████████████████████████████████████████████████████████████████████████████               | 46/50 [08:47<00:42, 10.69s/it]"
     ]
    },
    {
     "name": "stdout",
     "output_type": "stream",
     "text": [
      "drums           ==> SDR:   2.353  SIR: 202.679  ISR:   3.839  SAR:  -0.414  \n",
      "bass            ==> SDR:   2.353  SIR: 202.679  ISR:   3.839  SAR:  -0.414  \n",
      "\n"
     ]
    },
    {
     "name": "stderr",
     "output_type": "stream",
     "text": [
      " 94%|██████████████████████████████████████████████████████████████████████████████████████████████████████████████████████████████████████████████████████████████████████████████▊           | 47/50 [08:57<00:31, 10.44s/it]"
     ]
    },
    {
     "name": "stdout",
     "output_type": "stream",
     "text": [
      "drums           ==> SDR:   2.450  SIR: 168.827  ISR:   4.541  SAR:   2.142  \n",
      "bass            ==> SDR:   2.450  SIR: 168.827  ISR:   4.541  SAR:   2.142  \n",
      "\n"
     ]
    },
    {
     "name": "stderr",
     "output_type": "stream",
     "text": [
      " 96%|██████████████████████████████████████████████████████████████████████████████████████████████████████████████████████████████████████████████████████████████████████████████████▌       | 48/50 [09:09<00:21, 10.97s/it]"
     ]
    },
    {
     "name": "stdout",
     "output_type": "stream",
     "text": [
      "drums           ==> SDR:   2.585  SIR: 229.368  ISR:   6.443  SAR:   0.895  \n",
      "bass            ==> SDR:   2.585  SIR: 229.368  ISR:   6.443  SAR:   0.895  \n",
      "\n"
     ]
    },
    {
     "name": "stderr",
     "output_type": "stream",
     "text": [
      " 98%|██████████████████████████████████████████████████████████████████████████████████████████████████████████████████████████████████████████████████████████████████████████████████████▎   | 49/50 [09:20<00:11, 11.10s/it]"
     ]
    },
    {
     "name": "stdout",
     "output_type": "stream",
     "text": [
      "drums           ==> SDR:   8.878  SIR: 210.177  ISR:  15.284  SAR:   8.760  \n",
      "bass            ==> SDR:   8.878  SIR: 210.177  ISR:  15.284  SAR:   8.760  \n",
      "\n"
     ]
    },
    {
     "name": "stderr",
     "output_type": "stream",
     "text": [
      "100%|██████████████████████████████████████████████████████████████████████████████████████████████████████████████████████████████████████████████████████████████████████████████████████████| 50/50 [09:30<00:00, 11.41s/it]"
     ]
    },
    {
     "name": "stdout",
     "output_type": "stream",
     "text": [
      "drums           ==> SDR:   6.112  SIR: 216.379  ISR:   9.411  SAR:   5.538  \n",
      "bass            ==> SDR:   6.112  SIR: 216.379  ISR:   9.411  SAR:   5.538  \n",
      "\n"
     ]
    },
    {
     "name": "stderr",
     "output_type": "stream",
     "text": [
      "\n",
      "C:\\Python311\\Lib\\site-packages\\pytorch_lightning\\utilities\\migration\\utils.py:55: The loaded checkpoint was produced with Lightning v2.2.1, which is newer than your current Lightning version: v2.1.2\n",
      "  2%|███▋                                                                                                                                                                                       | 1/50 [00:12<10:08, 12.42s/it]"
     ]
    },
    {
     "name": "stdout",
     "output_type": "stream",
     "text": [
      "drums           ==> SDR:   7.740  SIR: 206.311  ISR:  10.256  SAR:   6.104  \n",
      "bass            ==> SDR:   7.740  SIR: 206.311  ISR:  10.256  SAR:   6.104  \n",
      "\n"
     ]
    },
    {
     "name": "stderr",
     "output_type": "stream",
     "text": [
      "  4%|███████▍                                                                                                                                                                                   | 2/50 [00:22<08:56, 11.18s/it]"
     ]
    },
    {
     "name": "stdout",
     "output_type": "stream",
     "text": [
      "drums           ==> SDR:   2.661  SIR: 181.932  ISR:   5.465  SAR:  -0.704  \n",
      "bass            ==> SDR:   2.661  SIR: 181.932  ISR:   5.465  SAR:  -0.704  \n",
      "\n"
     ]
    },
    {
     "name": "stderr",
     "output_type": "stream",
     "text": [
      "  6%|███████████▏                                                                                                                                                                               | 3/50 [00:35<09:11, 11.73s/it]"
     ]
    },
    {
     "name": "stdout",
     "output_type": "stream",
     "text": [
      "drums           ==> SDR:   4.021  SIR: 238.123  ISR:   7.235  SAR:   2.673  \n",
      "bass            ==> SDR:   4.021  SIR: 238.123  ISR:   7.235  SAR:   2.673  \n",
      "\n"
     ]
    },
    {
     "name": "stderr",
     "output_type": "stream",
     "text": [
      "  8%|██████████████▉                                                                                                                                                                            | 4/50 [00:45<08:34, 11.18s/it]"
     ]
    },
    {
     "name": "stdout",
     "output_type": "stream",
     "text": [
      "drums           ==> SDR:   2.256  SIR: 224.587  ISR:  11.631  SAR:   0.326  \n",
      "bass            ==> SDR:   2.256  SIR: 224.587  ISR:  11.631  SAR:   0.326  \n",
      "\n"
     ]
    },
    {
     "name": "stderr",
     "output_type": "stream",
     "text": [
      " 10%|██████████████████▋                                                                                                                                                                        | 5/50 [00:55<08:09, 10.88s/it]"
     ]
    },
    {
     "name": "stdout",
     "output_type": "stream",
     "text": [
      "drums           ==> SDR:   8.142  SIR: 196.243  ISR:  11.818  SAR:   8.278  \n",
      "bass            ==> SDR:   8.142  SIR: 196.243  ISR:  11.818  SAR:   8.278  \n",
      "\n"
     ]
    },
    {
     "name": "stderr",
     "output_type": "stream",
     "text": [
      " 12%|██████████████████████▍                                                                                                                                                                    | 6/50 [01:06<08:02, 10.97s/it]"
     ]
    },
    {
     "name": "stdout",
     "output_type": "stream",
     "text": [
      "drums           ==> SDR:   4.272  SIR: 229.907  ISR:   7.465  SAR:   3.098  \n",
      "bass            ==> SDR:   4.272  SIR: 229.907  ISR:   7.465  SAR:   3.098  \n",
      "\n"
     ]
    },
    {
     "name": "stderr",
     "output_type": "stream",
     "text": [
      " 14%|██████████████████████████▏                                                                                                                                                                | 7/50 [01:18<08:02, 11.21s/it]"
     ]
    },
    {
     "name": "stdout",
     "output_type": "stream",
     "text": [
      "drums           ==> SDR:   5.016  SIR: 228.161  ISR:   8.931  SAR:   3.903  \n",
      "bass            ==> SDR:   5.016  SIR: 228.161  ISR:   8.931  SAR:   3.903  \n",
      "\n"
     ]
    },
    {
     "name": "stderr",
     "output_type": "stream",
     "text": [
      " 16%|█████████████████████████████▉                                                                                                                                                             | 8/50 [01:33<08:37, 12.31s/it]"
     ]
    },
    {
     "name": "stdout",
     "output_type": "stream",
     "text": [
      "drums           ==> SDR:   4.290  SIR: 239.290  ISR:   8.477  SAR:   3.036  \n",
      "bass            ==> SDR:   4.290  SIR: 239.290  ISR:   8.477  SAR:   3.036  \n",
      "\n"
     ]
    },
    {
     "name": "stderr",
     "output_type": "stream",
     "text": [
      " 18%|█████████████████████████████████▋                                                                                                                                                         | 9/50 [01:44<08:14, 12.07s/it]"
     ]
    },
    {
     "name": "stdout",
     "output_type": "stream",
     "text": [
      "drums           ==> SDR:   3.851  SIR: 159.721  ISR:   6.666  SAR:   3.654  \n",
      "bass            ==> SDR:   3.851  SIR: 159.721  ISR:   6.666  SAR:   3.654  \n",
      "\n"
     ]
    },
    {
     "name": "stderr",
     "output_type": "stream",
     "text": [
      " 20%|█████████████████████████████████████▏                                                                                                                                                    | 10/50 [01:55<07:47, 11.68s/it]"
     ]
    },
    {
     "name": "stdout",
     "output_type": "stream",
     "text": [
      "drums           ==> SDR:  -7.490  SIR: 181.965  ISR:   5.962  SAR: -12.202  \n",
      "bass            ==> SDR:  -7.490  SIR: 181.965  ISR:   5.962  SAR: -12.202  \n",
      "\n"
     ]
    },
    {
     "name": "stderr",
     "output_type": "stream",
     "text": [
      " 22%|████████████████████████████████████████▉                                                                                                                                                 | 11/50 [02:10<08:15, 12.72s/it]"
     ]
    },
    {
     "name": "stdout",
     "output_type": "stream",
     "text": [
      "drums           ==> SDR:   8.712  SIR: 218.799  ISR:  11.771  SAR:   8.707  \n",
      "bass            ==> SDR:   8.712  SIR: 218.799  ISR:  11.771  SAR:   8.707  \n",
      "\n"
     ]
    },
    {
     "name": "stderr",
     "output_type": "stream",
     "text": [
      " 24%|████████████████████████████████████████████▋                                                                                                                                             | 12/50 [02:21<07:45, 12.24s/it]"
     ]
    },
    {
     "name": "stdout",
     "output_type": "stream",
     "text": [
      "drums           ==> SDR:   5.225  SIR: 225.381  ISR:   6.708  SAR:   6.081  \n",
      "bass            ==> SDR:   5.225  SIR: 225.381  ISR:   6.708  SAR:   6.081  \n",
      "\n"
     ]
    },
    {
     "name": "stderr",
     "output_type": "stream",
     "text": [
      " 26%|████████████████████████████████████████████████▎                                                                                                                                         | 13/50 [02:32<07:09, 11.60s/it]"
     ]
    },
    {
     "name": "stdout",
     "output_type": "stream",
     "text": [
      "drums           ==> SDR:   0.191  SIR:  89.993  ISR:   1.092  SAR:  -3.234  \n",
      "bass            ==> SDR:   0.191  SIR:  89.993  ISR:   1.092  SAR:  -3.234  \n",
      "\n"
     ]
    },
    {
     "name": "stderr",
     "output_type": "stream",
     "text": [
      " 28%|████████████████████████████████████████████████████                                                                                                                                      | 14/50 [02:43<06:52, 11.45s/it]"
     ]
    },
    {
     "name": "stdout",
     "output_type": "stream",
     "text": [
      "drums           ==> SDR:   7.072  SIR: 216.158  ISR:  10.184  SAR:   7.302  \n",
      "bass            ==> SDR:   7.072  SIR: 216.158  ISR:  10.184  SAR:   7.302  \n",
      "\n"
     ]
    },
    {
     "name": "stderr",
     "output_type": "stream",
     "text": [
      " 30%|███████████████████████████████████████████████████████▊                                                                                                                                  | 15/50 [02:54<06:41, 11.49s/it]"
     ]
    },
    {
     "name": "stdout",
     "output_type": "stream",
     "text": [
      "drums           ==> SDR:   6.091  SIR: 205.959  ISR:  10.049  SAR:   5.466  \n",
      "bass            ==> SDR:   6.091  SIR: 205.959  ISR:  10.049  SAR:   5.466  \n",
      "\n"
     ]
    },
    {
     "name": "stderr",
     "output_type": "stream",
     "text": [
      " 32%|███████████████████████████████████████████████████████████▌                                                                                                                              | 16/50 [03:06<06:34, 11.60s/it]"
     ]
    },
    {
     "name": "stdout",
     "output_type": "stream",
     "text": [
      "drums           ==> SDR:   4.147  SIR: 212.025  ISR:   7.296  SAR:   2.740  \n",
      "bass            ==> SDR:   4.147  SIR: 212.025  ISR:   7.296  SAR:   2.740  \n",
      "\n"
     ]
    },
    {
     "name": "stderr",
     "output_type": "stream",
     "text": [
      " 34%|███████████████████████████████████████████████████████████████▏                                                                                                                          | 17/50 [03:17<06:11, 11.26s/it]"
     ]
    },
    {
     "name": "stdout",
     "output_type": "stream",
     "text": [
      "drums           ==> SDR:   2.240  SIR: 217.448  ISR:   5.202  SAR:  -0.997  \n",
      "bass            ==> SDR:   2.240  SIR: 217.448  ISR:   5.202  SAR:  -0.997  \n",
      "\n"
     ]
    },
    {
     "name": "stderr",
     "output_type": "stream",
     "text": [
      " 36%|██████████████████████████████████████████████████████████████████▉                                                                                                                       | 18/50 [03:28<06:04, 11.40s/it]"
     ]
    },
    {
     "name": "stdout",
     "output_type": "stream",
     "text": [
      "drums           ==> SDR:   9.706  SIR: 203.446  ISR:  13.558  SAR:   9.947  \n",
      "bass            ==> SDR:   9.706  SIR: 203.446  ISR:  13.558  SAR:   9.947  \n",
      "\n"
     ]
    },
    {
     "name": "stderr",
     "output_type": "stream",
     "text": [
      " 38%|██████████████████████████████████████████████████████████████████████▋                                                                                                                   | 19/50 [03:42<06:11, 11.99s/it]"
     ]
    },
    {
     "name": "stdout",
     "output_type": "stream",
     "text": [
      "drums           ==> SDR:  10.250  SIR: 220.857  ISR:  16.764  SAR:   9.941  \n",
      "bass            ==> SDR:  10.250  SIR: 220.857  ISR:  16.764  SAR:   9.941  \n",
      "\n"
     ]
    },
    {
     "name": "stderr",
     "output_type": "stream",
     "text": [
      " 40%|██████████████████████████████████████████████████████████████████████████▍                                                                                                               | 20/50 [03:52<05:49, 11.66s/it]"
     ]
    },
    {
     "name": "stdout",
     "output_type": "stream",
     "text": [
      "drums           ==> SDR:   1.125  SIR: 214.511  ISR:   1.499  SAR:   3.900  \n",
      "bass            ==> SDR:   1.125  SIR: 214.511  ISR:   1.499  SAR:   3.900  \n",
      "\n"
     ]
    },
    {
     "name": "stderr",
     "output_type": "stream",
     "text": [
      " 42%|██████████████████████████████████████████████████████████████████████████████                                                                                                            | 21/50 [04:08<06:14, 12.92s/it]"
     ]
    },
    {
     "name": "stdout",
     "output_type": "stream",
     "text": [
      "drums           ==> SDR:   6.800  SIR: 185.495  ISR:   9.788  SAR:   7.316  \n",
      "bass            ==> SDR:   6.800  SIR: 185.495  ISR:   9.788  SAR:   7.316  \n",
      "\n"
     ]
    },
    {
     "name": "stderr",
     "output_type": "stream",
     "text": [
      " 44%|█████████████████████████████████████████████████████████████████████████████████▊                                                                                                        | 22/50 [04:22<06:06, 13.07s/it]"
     ]
    },
    {
     "name": "stdout",
     "output_type": "stream",
     "text": [
      "drums           ==> SDR:  -7.737  SIR: 270.551  ISR:   0.878  SAR: -20.347  \n",
      "bass            ==> SDR:  -7.737  SIR: 270.551  ISR:   0.878  SAR: -20.347  \n",
      "\n"
     ]
    },
    {
     "name": "stderr",
     "output_type": "stream",
     "text": [
      " 46%|█████████████████████████████████████████████████████████████████████████████████████▌                                                                                                    | 23/50 [04:32<05:32, 12.32s/it]"
     ]
    },
    {
     "name": "stdout",
     "output_type": "stream",
     "text": [
      "drums           ==> SDR:   3.738  SIR: 164.600  ISR:   6.492  SAR:   2.120  \n",
      "bass            ==> SDR:   3.738  SIR: 164.600  ISR:   6.492  SAR:   2.120  \n",
      "\n"
     ]
    },
    {
     "name": "stderr",
     "output_type": "stream",
     "text": [
      " 48%|█████████████████████████████████████████████████████████████████████████████████████████▎                                                                                                | 24/50 [04:45<05:26, 12.54s/it]"
     ]
    },
    {
     "name": "stdout",
     "output_type": "stream",
     "text": [
      "drums           ==> SDR:   5.659  SIR: 132.256  ISR:   9.386  SAR:   5.684  \n",
      "bass            ==> SDR:   5.659  SIR: 132.256  ISR:   9.386  SAR:   5.684  \n",
      "\n"
     ]
    },
    {
     "name": "stderr",
     "output_type": "stream",
     "text": [
      " 50%|█████████████████████████████████████████████████████████████████████████████████████████████                                                                                             | 25/50 [04:57<05:05, 12.21s/it]"
     ]
    },
    {
     "name": "stdout",
     "output_type": "stream",
     "text": [
      "drums           ==> SDR:   3.128  SIR: 221.701  ISR:   5.700  SAR:   1.561  \n",
      "bass            ==> SDR:   3.128  SIR: 221.701  ISR:   5.700  SAR:   1.561  \n",
      "\n"
     ]
    },
    {
     "name": "stderr",
     "output_type": "stream",
     "text": [
      " 52%|████████████████████████████████████████████████████████████████████████████████████████████████▋                                                                                         | 26/50 [05:08<04:47, 11.98s/it]"
     ]
    },
    {
     "name": "stdout",
     "output_type": "stream",
     "text": [
      "drums           ==> SDR:  10.453  SIR: 175.925  ISR:  15.026  SAR:  10.905  \n",
      "bass            ==> SDR:  10.453  SIR: 175.925  ISR:  15.026  SAR:  10.905  \n",
      "\n"
     ]
    },
    {
     "name": "stderr",
     "output_type": "stream",
     "text": [
      " 54%|████████████████████████████████████████████████████████████████████████████████████████████████████▍                                                                                     | 27/50 [05:19<04:29, 11.70s/it]"
     ]
    },
    {
     "name": "stdout",
     "output_type": "stream",
     "text": [
      "drums           ==> SDR:   6.762  SIR: 185.709  ISR:  12.895  SAR:   5.439  \n",
      "bass            ==> SDR:   6.762  SIR: 185.709  ISR:  12.895  SAR:   5.439  \n",
      "\n"
     ]
    },
    {
     "name": "stderr",
     "output_type": "stream",
     "text": [
      " 56%|████████████████████████████████████████████████████████████████████████████████████████████████████████▏                                                                                 | 28/50 [05:30<04:08, 11.31s/it]"
     ]
    },
    {
     "name": "stdout",
     "output_type": "stream",
     "text": [
      "drums           ==> SDR:   7.128  SIR: 190.394  ISR:   9.695  SAR:   7.823  \n",
      "bass            ==> SDR:   7.128  SIR: 190.394  ISR:   9.695  SAR:   7.823  \n",
      "\n"
     ]
    },
    {
     "name": "stderr",
     "output_type": "stream",
     "text": [
      " 58%|███████████████████████████████████████████████████████████████████████████████████████████████████████████▉                                                                              | 29/50 [05:40<03:52, 11.07s/it]"
     ]
    },
    {
     "name": "stdout",
     "output_type": "stream",
     "text": [
      "drums           ==> SDR:   4.646  SIR: 199.555  ISR:   6.337  SAR:   6.197  \n",
      "bass            ==> SDR:   4.646  SIR: 199.555  ISR:   6.337  SAR:   6.197  \n",
      "\n"
     ]
    },
    {
     "name": "stderr",
     "output_type": "stream",
     "text": [
      " 60%|███████████████████████████████████████████████████████████████████████████████████████████████████████████████▌                                                                          | 30/50 [05:50<03:34, 10.72s/it]"
     ]
    },
    {
     "name": "stdout",
     "output_type": "stream",
     "text": [
      "drums           ==> SDR:   6.230  SIR: 216.134  ISR:   9.285  SAR:   6.696  \n",
      "bass            ==> SDR:   6.230  SIR: 216.134  ISR:   9.285  SAR:   6.696  \n",
      "\n"
     ]
    },
    {
     "name": "stderr",
     "output_type": "stream",
     "text": [
      " 62%|███████████████████████████████████████████████████████████████████████████████████████████████████████████████████▎                                                                      | 31/50 [06:01<03:23, 10.73s/it]"
     ]
    },
    {
     "name": "stdout",
     "output_type": "stream",
     "text": [
      "drums           ==> SDR:   2.453  SIR: 193.289  ISR:   8.502  SAR:   0.604  \n",
      "bass            ==> SDR:   2.453  SIR: 193.289  ISR:   8.502  SAR:   0.604  \n",
      "\n"
     ]
    },
    {
     "name": "stderr",
     "output_type": "stream",
     "text": [
      " 64%|███████████████████████████████████████████████████████████████████████████████████████████████████████████████████████                                                                   | 32/50 [06:10<03:05, 10.28s/it]"
     ]
    },
    {
     "name": "stdout",
     "output_type": "stream",
     "text": [
      "drums           ==> SDR:   1.384  SIR: 184.126  ISR:   4.617  SAR:   0.061  \n",
      "bass            ==> SDR:   1.384  SIR: 184.126  ISR:   4.617  SAR:   0.061  \n",
      "\n"
     ]
    },
    {
     "name": "stderr",
     "output_type": "stream",
     "text": [
      " 66%|██████████████████████████████████████████████████████████████████████████████████████████████████████████████████████████▊                                                               | 33/50 [06:21<02:58, 10.50s/it]"
     ]
    },
    {
     "name": "stdout",
     "output_type": "stream",
     "text": [
      "drums           ==> SDR:   1.468  SIR: 234.221  ISR:   3.948  SAR:  -1.901  \n",
      "bass            ==> SDR:   1.468  SIR: 234.221  ISR:   3.948  SAR:  -1.901  \n",
      "\n"
     ]
    },
    {
     "name": "stderr",
     "output_type": "stream",
     "text": [
      " 68%|██████████████████████████████████████████████████████████████████████████████████████████████████████████████████████████████▍                                                           | 34/50 [06:32<02:48, 10.51s/it]"
     ]
    },
    {
     "name": "stdout",
     "output_type": "stream",
     "text": [
      "drums           ==> SDR:   3.601  SIR: 249.501  ISR:   5.486  SAR:   1.485  \n",
      "bass            ==> SDR:   3.601  SIR: 249.501  ISR:   5.486  SAR:   1.485  \n",
      "\n"
     ]
    },
    {
     "name": "stderr",
     "output_type": "stream",
     "text": [
      " 70%|██████████████████████████████████████████████████████████████████████████████████████████████████████████████████████████████████▏                                                       | 35/50 [06:42<02:37, 10.51s/it]"
     ]
    },
    {
     "name": "stdout",
     "output_type": "stream",
     "text": [
      "drums           ==> SDR:   8.836  SIR: 215.635  ISR:  12.095  SAR:   9.527  \n",
      "bass            ==> SDR:   8.836  SIR: 215.635  ISR:  12.095  SAR:   9.527  \n",
      "\n"
     ]
    },
    {
     "name": "stderr",
     "output_type": "stream",
     "text": [
      " 72%|█████████████████████████████████████████████████████████████████████████████████████████████████████████████████████████████████████▉                                                    | 36/50 [06:52<02:24, 10.29s/it]"
     ]
    },
    {
     "name": "stdout",
     "output_type": "stream",
     "text": [
      "drums           ==> SDR:   1.924  SIR: 208.967  ISR:   5.715  SAR:  -0.291  \n",
      "bass            ==> SDR:   1.924  SIR: 208.967  ISR:   5.715  SAR:  -0.291  \n",
      "\n"
     ]
    },
    {
     "name": "stderr",
     "output_type": "stream",
     "text": [
      " 74%|█████████████████████████████████████████████████████████████████████████████████████████████████████████████████████████████████████████▋                                                | 37/50 [07:03<02:15, 10.42s/it]"
     ]
    },
    {
     "name": "stdout",
     "output_type": "stream",
     "text": [
      "drums           ==> SDR:   3.379  SIR: 199.167  ISR:   8.465  SAR:   1.622  \n",
      "bass            ==> SDR:   3.379  SIR: 199.167  ISR:   8.465  SAR:   1.622  \n",
      "\n"
     ]
    },
    {
     "name": "stderr",
     "output_type": "stream",
     "text": [
      " 76%|█████████████████████████████████████████████████████████████████████████████████████████████████████████████████████████████████████████████▎                                            | 38/50 [07:13<02:05, 10.44s/it]"
     ]
    },
    {
     "name": "stdout",
     "output_type": "stream",
     "text": [
      "drums           ==> SDR:   7.183  SIR: 224.194  ISR:   7.991  SAR:   4.853  \n",
      "bass            ==> SDR:   7.183  SIR: 224.194  ISR:   7.991  SAR:   4.853  \n",
      "\n"
     ]
    },
    {
     "name": "stderr",
     "output_type": "stream",
     "text": [
      " 78%|█████████████████████████████████████████████████████████████████████████████████████████████████████████████████████████████████████████████████                                         | 39/50 [07:23<01:53, 10.27s/it]"
     ]
    },
    {
     "name": "stdout",
     "output_type": "stream",
     "text": [
      "drums           ==> SDR:   3.231  SIR: 226.168  ISR:   4.780  SAR:   2.738  \n",
      "bass            ==> SDR:   3.231  SIR: 226.168  ISR:   4.780  SAR:   2.738  \n",
      "\n"
     ]
    },
    {
     "name": "stderr",
     "output_type": "stream",
     "text": [
      " 80%|████████████████████████████████████████████████████████████████████████████████████████████████████████████████████████████████████████████████████▊                                     | 40/50 [07:33<01:41, 10.17s/it]"
     ]
    },
    {
     "name": "stdout",
     "output_type": "stream",
     "text": [
      "drums           ==> SDR:   2.284  SIR: 178.001  ISR:   5.914  SAR:   1.989  \n",
      "bass            ==> SDR:   2.284  SIR: 178.001  ISR:   5.914  SAR:   1.989  \n",
      "\n"
     ]
    },
    {
     "name": "stderr",
     "output_type": "stream",
     "text": [
      " 82%|████████████████████████████████████████████████████████████████████████████████████████████████████████████████████████████████████████████████████████▌                                 | 41/50 [07:43<01:31, 10.16s/it]"
     ]
    },
    {
     "name": "stdout",
     "output_type": "stream",
     "text": [
      "drums           ==> SDR:   2.995  SIR: 182.355  ISR:   6.802  SAR:   2.659  \n",
      "bass            ==> SDR:   2.995  SIR: 182.355  ISR:   6.802  SAR:   2.659  \n",
      "\n"
     ]
    },
    {
     "name": "stderr",
     "output_type": "stream",
     "text": [
      " 84%|████████████████████████████████████████████████████████████████████████████████████████████████████████████████████████████████████████████████████████████▏                             | 42/50 [07:53<01:20, 10.01s/it]"
     ]
    },
    {
     "name": "stdout",
     "output_type": "stream",
     "text": [
      "drums           ==> SDR:   6.659  SIR: 126.198  ISR:   9.796  SAR:   6.210  \n",
      "bass            ==> SDR:   6.659  SIR: 126.198  ISR:   9.796  SAR:   6.210  \n",
      "\n"
     ]
    },
    {
     "name": "stderr",
     "output_type": "stream",
     "text": [
      " 86%|███████████████████████████████████████████████████████████████████████████████████████████████████████████████████████████████████████████████████████████████▉                          | 43/50 [08:03<01:10, 10.10s/it]"
     ]
    },
    {
     "name": "stdout",
     "output_type": "stream",
     "text": [
      "drums           ==> SDR:   4.450  SIR: 190.909  ISR:   7.695  SAR:   3.429  \n",
      "bass            ==> SDR:   4.450  SIR: 190.909  ISR:   7.695  SAR:   3.429  \n",
      "\n"
     ]
    },
    {
     "name": "stderr",
     "output_type": "stream",
     "text": [
      " 88%|███████████████████████████████████████████████████████████████████████████████████████████████████████████████████████████████████████████████████████████████████▋                      | 44/50 [08:12<00:58,  9.76s/it]"
     ]
    },
    {
     "name": "stdout",
     "output_type": "stream",
     "text": [
      "drums           ==> SDR:   2.799  SIR: 217.201  ISR:   5.629  SAR:   1.002  \n",
      "bass            ==> SDR:   2.799  SIR: 217.201  ISR:   5.629  SAR:   1.002  \n",
      "\n"
     ]
    },
    {
     "name": "stderr",
     "output_type": "stream",
     "text": [
      " 90%|███████████████████████████████████████████████████████████████████████████████████████████████████████████████████████████████████████████████████████████████████████▍                  | 45/50 [08:23<00:50, 10.10s/it]"
     ]
    },
    {
     "name": "stdout",
     "output_type": "stream",
     "text": [
      "drums           ==> SDR:   0.459  SIR: 208.928  ISR:   0.877  SAR:  -3.934  \n",
      "bass            ==> SDR:   0.459  SIR: 208.928  ISR:   0.877  SAR:  -3.934  \n",
      "\n"
     ]
    },
    {
     "name": "stderr",
     "output_type": "stream",
     "text": [
      " 92%|███████████████████████████████████████████████████████████████████████████████████████████████████████████████████████████████████████████████████████████████████████████               | 46/50 [08:33<00:39, 10.00s/it]"
     ]
    },
    {
     "name": "stdout",
     "output_type": "stream",
     "text": [
      "drums           ==> SDR:   2.282  SIR: 205.161  ISR:   3.704  SAR:  -0.400  \n",
      "bass            ==> SDR:   2.282  SIR: 205.161  ISR:   3.704  SAR:  -0.400  \n",
      "\n"
     ]
    },
    {
     "name": "stderr",
     "output_type": "stream",
     "text": [
      " 94%|██████████████████████████████████████████████████████████████████████████████████████████████████████████████████████████████████████████████████████████████████████████████▊           | 47/50 [08:43<00:29,  9.95s/it]"
     ]
    },
    {
     "name": "stdout",
     "output_type": "stream",
     "text": [
      "drums           ==> SDR:   2.532  SIR: 170.236  ISR:   4.242  SAR:   1.381  \n",
      "bass            ==> SDR:   2.532  SIR: 170.236  ISR:   4.242  SAR:   1.381  \n",
      "\n"
     ]
    },
    {
     "name": "stderr",
     "output_type": "stream",
     "text": [
      " 96%|██████████████████████████████████████████████████████████████████████████████████████████████████████████████████████████████████████████████████████████████████████████████████▌       | 48/50 [08:52<00:19,  9.84s/it]"
     ]
    },
    {
     "name": "stdout",
     "output_type": "stream",
     "text": [
      "drums           ==> SDR:   2.917  SIR: 221.767  ISR:   5.793  SAR:   0.696  \n",
      "bass            ==> SDR:   2.917  SIR: 221.767  ISR:   5.793  SAR:   0.696  \n",
      "\n"
     ]
    },
    {
     "name": "stderr",
     "output_type": "stream",
     "text": [
      " 98%|██████████████████████████████████████████████████████████████████████████████████████████████████████████████████████████████████████████████████████████████████████████████████████▎   | 49/50 [09:02<00:09,  9.89s/it]"
     ]
    },
    {
     "name": "stdout",
     "output_type": "stream",
     "text": [
      "drums           ==> SDR:   8.808  SIR: 210.936  ISR:  15.098  SAR:   8.672  \n",
      "bass            ==> SDR:   8.808  SIR: 210.936  ISR:  15.098  SAR:   8.672  \n",
      "\n"
     ]
    },
    {
     "name": "stderr",
     "output_type": "stream",
     "text": [
      "100%|██████████████████████████████████████████████████████████████████████████████████████████████████████████████████████████████████████████████████████████████████████████████████████████| 50/50 [09:12<00:00, 11.05s/it]"
     ]
    },
    {
     "name": "stdout",
     "output_type": "stream",
     "text": [
      "drums           ==> SDR:   6.205  SIR: 208.973  ISR:   9.282  SAR:   5.349  \n",
      "bass            ==> SDR:   6.205  SIR: 208.973  ISR:   9.282  SAR:   5.349  \n",
      "\n"
     ]
    },
    {
     "name": "stderr",
     "output_type": "stream",
     "text": [
      "\n",
      "C:\\Python311\\Lib\\site-packages\\pytorch_lightning\\utilities\\migration\\utils.py:55: The loaded checkpoint was produced with Lightning v2.2.1, which is newer than your current Lightning version: v2.1.2\n",
      "  2%|███▋                                                                                                                                                                                       | 1/50 [00:10<08:29, 10.39s/it]"
     ]
    },
    {
     "name": "stdout",
     "output_type": "stream",
     "text": [
      "drums           ==> SDR:   7.111  SIR: 214.382  ISR:   9.598  SAR:   5.926  \n",
      "bass            ==> SDR:   7.111  SIR: 214.382  ISR:   9.598  SAR:   5.926  \n",
      "\n"
     ]
    },
    {
     "name": "stderr",
     "output_type": "stream",
     "text": [
      "  4%|███████▍                                                                                                                                                                                   | 2/50 [00:20<08:00, 10.02s/it]"
     ]
    },
    {
     "name": "stdout",
     "output_type": "stream",
     "text": [
      "drums           ==> SDR:   2.514  SIR: 183.992  ISR:   5.439  SAR:  -0.273  \n",
      "bass            ==> SDR:   2.514  SIR: 183.992  ISR:   5.439  SAR:  -0.273  \n",
      "\n"
     ]
    },
    {
     "name": "stderr",
     "output_type": "stream",
     "text": [
      "  6%|███████████▏                                                                                                                                                                               | 3/50 [00:30<08:07, 10.38s/it]"
     ]
    },
    {
     "name": "stdout",
     "output_type": "stream",
     "text": [
      "drums           ==> SDR:   3.803  SIR: 233.860  ISR:   6.514  SAR:   2.477  \n",
      "bass            ==> SDR:   3.803  SIR: 233.860  ISR:   6.514  SAR:   2.477  \n",
      "\n"
     ]
    },
    {
     "name": "stderr",
     "output_type": "stream",
     "text": [
      "  8%|██████████████▉                                                                                                                                                                            | 4/50 [00:41<07:53, 10.30s/it]"
     ]
    },
    {
     "name": "stdout",
     "output_type": "stream",
     "text": [
      "drums           ==> SDR:   2.091  SIR: 225.366  ISR:  10.927  SAR:  -0.225  \n",
      "bass            ==> SDR:   2.091  SIR: 225.366  ISR:  10.927  SAR:  -0.225  \n",
      "\n"
     ]
    },
    {
     "name": "stderr",
     "output_type": "stream",
     "text": [
      " 10%|██████████████████▋                                                                                                                                                                        | 5/50 [00:51<07:39, 10.22s/it]"
     ]
    },
    {
     "name": "stdout",
     "output_type": "stream",
     "text": [
      "drums           ==> SDR:   7.669  SIR: 194.606  ISR:  10.447  SAR:   7.725  \n",
      "bass            ==> SDR:   7.669  SIR: 194.606  ISR:  10.447  SAR:   7.725  \n",
      "\n"
     ]
    },
    {
     "name": "stderr",
     "output_type": "stream",
     "text": [
      " 12%|██████████████████████▍                                                                                                                                                                    | 6/50 [01:01<07:25, 10.12s/it]"
     ]
    },
    {
     "name": "stdout",
     "output_type": "stream",
     "text": [
      "drums           ==> SDR:   3.905  SIR: 235.279  ISR:   6.588  SAR:   2.685  \n",
      "bass            ==> SDR:   3.905  SIR: 235.279  ISR:   6.588  SAR:   2.685  \n",
      "\n"
     ]
    },
    {
     "name": "stderr",
     "output_type": "stream",
     "text": [
      " 14%|██████████████████████████▏                                                                                                                                                                | 7/50 [01:11<07:15, 10.13s/it]"
     ]
    },
    {
     "name": "stdout",
     "output_type": "stream",
     "text": [
      "drums           ==> SDR:   4.837  SIR: 224.911  ISR:   7.948  SAR:   3.611  \n",
      "bass            ==> SDR:   4.837  SIR: 224.911  ISR:   7.948  SAR:   3.611  \n",
      "\n"
     ]
    },
    {
     "name": "stderr",
     "output_type": "stream",
     "text": [
      " 16%|█████████████████████████████▉                                                                                                                                                             | 8/50 [01:21<07:02, 10.05s/it]"
     ]
    },
    {
     "name": "stdout",
     "output_type": "stream",
     "text": [
      "drums           ==> SDR:   4.120  SIR: 241.963  ISR:   8.317  SAR:   3.056  \n",
      "bass            ==> SDR:   4.120  SIR: 241.963  ISR:   8.317  SAR:   3.056  \n",
      "\n"
     ]
    },
    {
     "name": "stderr",
     "output_type": "stream",
     "text": [
      " 18%|█████████████████████████████████▋                                                                                                                                                         | 9/50 [01:32<07:08, 10.45s/it]"
     ]
    },
    {
     "name": "stdout",
     "output_type": "stream",
     "text": [
      "drums           ==> SDR:   3.258  SIR: 162.374  ISR:   5.764  SAR:   2.299  \n",
      "bass            ==> SDR:   3.258  SIR: 162.374  ISR:   5.764  SAR:   2.299  \n",
      "\n"
     ]
    },
    {
     "name": "stderr",
     "output_type": "stream",
     "text": [
      " 20%|█████████████████████████████████████▏                                                                                                                                                    | 10/50 [01:43<06:58, 10.47s/it]"
     ]
    },
    {
     "name": "stdout",
     "output_type": "stream",
     "text": [
      "drums           ==> SDR:  -7.490  SIR: 178.730  ISR:   5.786  SAR: -12.332  \n",
      "bass            ==> SDR:  -7.490  SIR: 178.730  ISR:   5.786  SAR: -12.332  \n",
      "\n"
     ]
    },
    {
     "name": "stderr",
     "output_type": "stream",
     "text": [
      " 22%|████████████████████████████████████████▉                                                                                                                                                 | 11/50 [01:53<06:45, 10.40s/it]"
     ]
    },
    {
     "name": "stdout",
     "output_type": "stream",
     "text": [
      "drums           ==> SDR:   8.074  SIR: 217.811  ISR:  10.204  SAR:   7.438  \n",
      "bass            ==> SDR:   8.074  SIR: 217.811  ISR:  10.204  SAR:   7.438  \n",
      "\n"
     ]
    },
    {
     "name": "stderr",
     "output_type": "stream",
     "text": [
      " 24%|████████████████████████████████████████████▋                                                                                                                                             | 12/50 [02:03<06:33, 10.36s/it]"
     ]
    },
    {
     "name": "stdout",
     "output_type": "stream",
     "text": [
      "drums           ==> SDR:   4.658  SIR: 219.054  ISR:   6.244  SAR:   5.544  \n",
      "bass            ==> SDR:   4.658  SIR: 219.054  ISR:   6.244  SAR:   5.544  \n",
      "\n"
     ]
    },
    {
     "name": "stderr",
     "output_type": "stream",
     "text": [
      " 26%|████████████████████████████████████████████████▎                                                                                                                                         | 13/50 [02:13<06:19, 10.25s/it]"
     ]
    },
    {
     "name": "stdout",
     "output_type": "stream",
     "text": [
      "drums           ==> SDR:   0.139  SIR:  86.569  ISR:   0.925  SAR:  -4.936  \n",
      "bass            ==> SDR:   0.139  SIR:  86.569  ISR:   0.925  SAR:  -4.936  \n",
      "\n"
     ]
    },
    {
     "name": "stderr",
     "output_type": "stream",
     "text": [
      " 28%|████████████████████████████████████████████████████                                                                                                                                      | 14/50 [02:24<06:11, 10.32s/it]"
     ]
    },
    {
     "name": "stdout",
     "output_type": "stream",
     "text": [
      "drums           ==> SDR:   6.766  SIR: 211.045  ISR:   9.410  SAR:   7.206  \n",
      "bass            ==> SDR:   6.766  SIR: 211.045  ISR:   9.410  SAR:   7.206  \n",
      "\n"
     ]
    },
    {
     "name": "stderr",
     "output_type": "stream",
     "text": [
      " 30%|███████████████████████████████████████████████████████▊                                                                                                                                  | 15/50 [02:34<06:03, 10.39s/it]"
     ]
    },
    {
     "name": "stdout",
     "output_type": "stream",
     "text": [
      "drums           ==> SDR:   5.660  SIR: 209.475  ISR:   9.430  SAR:   5.319  \n",
      "bass            ==> SDR:   5.660  SIR: 209.475  ISR:   9.430  SAR:   5.319  \n",
      "\n"
     ]
    },
    {
     "name": "stderr",
     "output_type": "stream",
     "text": [
      " 32%|███████████████████████████████████████████████████████████▌                                                                                                                              | 16/50 [02:45<05:54, 10.44s/it]"
     ]
    },
    {
     "name": "stdout",
     "output_type": "stream",
     "text": [
      "drums           ==> SDR:   4.096  SIR: 215.557  ISR:   6.752  SAR:   2.434  \n",
      "bass            ==> SDR:   4.096  SIR: 215.557  ISR:   6.752  SAR:   2.434  \n",
      "\n"
     ]
    },
    {
     "name": "stderr",
     "output_type": "stream",
     "text": [
      " 34%|███████████████████████████████████████████████████████████████▏                                                                                                                          | 17/50 [02:55<05:40, 10.33s/it]"
     ]
    },
    {
     "name": "stdout",
     "output_type": "stream",
     "text": [
      "drums           ==> SDR:   2.036  SIR: 221.176  ISR:   4.923  SAR:  -1.195  \n",
      "bass            ==> SDR:   2.036  SIR: 221.176  ISR:   4.923  SAR:  -1.195  \n",
      "\n"
     ]
    },
    {
     "name": "stderr",
     "output_type": "stream",
     "text": [
      " 36%|██████████████████████████████████████████████████████████████████▉                                                                                                                       | 18/50 [03:05<05:29, 10.29s/it]"
     ]
    },
    {
     "name": "stdout",
     "output_type": "stream",
     "text": [
      "drums           ==> SDR:   9.604  SIR: 209.960  ISR:  13.424  SAR:   9.752  \n",
      "bass            ==> SDR:   9.604  SIR: 209.960  ISR:  13.424  SAR:   9.752  \n",
      "\n"
     ]
    },
    {
     "name": "stderr",
     "output_type": "stream",
     "text": [
      " 38%|██████████████████████████████████████████████████████████████████████▋                                                                                                                   | 19/50 [03:15<05:16, 10.21s/it]"
     ]
    },
    {
     "name": "stdout",
     "output_type": "stream",
     "text": [
      "drums           ==> SDR:  10.291  SIR: 227.589  ISR:  16.264  SAR:  10.621  \n",
      "bass            ==> SDR:  10.291  SIR: 227.589  ISR:  16.264  SAR:  10.621  \n",
      "\n"
     ]
    },
    {
     "name": "stderr",
     "output_type": "stream",
     "text": [
      " 40%|██████████████████████████████████████████████████████████████████████████▍                                                                                                               | 20/50 [03:25<05:06, 10.20s/it]"
     ]
    },
    {
     "name": "stdout",
     "output_type": "stream",
     "text": [
      "drums           ==> SDR:   1.115  SIR: 217.587  ISR:   1.490  SAR:   4.077  \n",
      "bass            ==> SDR:   1.115  SIR: 217.587  ISR:   1.490  SAR:   4.077  \n",
      "\n"
     ]
    },
    {
     "name": "stderr",
     "output_type": "stream",
     "text": [
      " 42%|██████████████████████████████████████████████████████████████████████████████                                                                                                            | 21/50 [03:35<04:51, 10.05s/it]"
     ]
    },
    {
     "name": "stdout",
     "output_type": "stream",
     "text": [
      "drums           ==> SDR:   6.890  SIR: 181.520  ISR:   9.216  SAR:   7.163  \n",
      "bass            ==> SDR:   6.890  SIR: 181.520  ISR:   9.216  SAR:   7.163  \n",
      "\n"
     ]
    },
    {
     "name": "stderr",
     "output_type": "stream",
     "text": [
      " 44%|█████████████████████████████████████████████████████████████████████████████████▊                                                                                                        | 22/50 [03:45<04:44, 10.17s/it]"
     ]
    },
    {
     "name": "stdout",
     "output_type": "stream",
     "text": [
      "drums           ==> SDR:  -7.737  SIR: 270.551  ISR:   0.878  SAR: -20.347  \n",
      "bass            ==> SDR:  -7.737  SIR: 270.551  ISR:   0.878  SAR: -20.347  \n",
      "\n"
     ]
    },
    {
     "name": "stderr",
     "output_type": "stream",
     "text": [
      " 46%|█████████████████████████████████████████████████████████████████████████████████████▌                                                                                                    | 23/50 [03:55<04:28,  9.93s/it]"
     ]
    },
    {
     "name": "stdout",
     "output_type": "stream",
     "text": [
      "drums           ==> SDR:   3.688  SIR: 165.501  ISR:   6.018  SAR:   2.101  \n",
      "bass            ==> SDR:   3.688  SIR: 165.501  ISR:   6.018  SAR:   2.101  \n",
      "\n"
     ]
    },
    {
     "name": "stderr",
     "output_type": "stream",
     "text": [
      " 48%|█████████████████████████████████████████████████████████████████████████████████████████▎                                                                                                | 24/50 [04:06<04:27, 10.29s/it]"
     ]
    },
    {
     "name": "stdout",
     "output_type": "stream",
     "text": [
      "drums           ==> SDR:   5.496  SIR: 132.164  ISR:   8.611  SAR:   5.372  \n",
      "bass            ==> SDR:   5.496  SIR: 132.164  ISR:   8.611  SAR:   5.372  \n",
      "\n"
     ]
    },
    {
     "name": "stderr",
     "output_type": "stream",
     "text": [
      " 50%|█████████████████████████████████████████████████████████████████████████████████████████████                                                                                             | 25/50 [04:16<04:14, 10.19s/it]"
     ]
    },
    {
     "name": "stdout",
     "output_type": "stream",
     "text": [
      "drums           ==> SDR:   2.598  SIR: 223.367  ISR:   4.814  SAR:   1.215  \n",
      "bass            ==> SDR:   2.598  SIR: 223.367  ISR:   4.814  SAR:   1.215  \n",
      "\n"
     ]
    },
    {
     "name": "stderr",
     "output_type": "stream",
     "text": [
      " 52%|████████████████████████████████████████████████████████████████████████████████████████████████▋                                                                                         | 26/50 [04:26<04:03, 10.14s/it]"
     ]
    },
    {
     "name": "stdout",
     "output_type": "stream",
     "text": [
      "drums           ==> SDR:  10.457  SIR: 177.914  ISR:  14.085  SAR:  10.511  \n",
      "bass            ==> SDR:  10.457  SIR: 177.914  ISR:  14.085  SAR:  10.511  \n",
      "\n"
     ]
    },
    {
     "name": "stderr",
     "output_type": "stream",
     "text": [
      " 54%|████████████████████████████████████████████████████████████████████████████████████████████████████▍                                                                                     | 27/50 [04:35<03:49,  9.99s/it]"
     ]
    },
    {
     "name": "stdout",
     "output_type": "stream",
     "text": [
      "drums           ==> SDR:   6.510  SIR: 186.149  ISR:  11.690  SAR:   5.451  \n",
      "bass            ==> SDR:   6.510  SIR: 186.149  ISR:  11.690  SAR:   5.451  \n",
      "\n"
     ]
    },
    {
     "name": "stderr",
     "output_type": "stream",
     "text": [
      " 56%|████████████████████████████████████████████████████████████████████████████████████████████████████████▏                                                                                 | 28/50 [04:45<03:39,  9.99s/it]"
     ]
    },
    {
     "name": "stdout",
     "output_type": "stream",
     "text": [
      "drums           ==> SDR:   6.614  SIR: 191.217  ISR:   8.734  SAR:   7.345  \n",
      "bass            ==> SDR:   6.614  SIR: 191.217  ISR:   8.734  SAR:   7.345  \n",
      "\n"
     ]
    },
    {
     "name": "stderr",
     "output_type": "stream",
     "text": [
      " 58%|███████████████████████████████████████████████████████████████████████████████████████████████████████████▉                                                                              | 29/50 [04:56<03:31, 10.09s/it]"
     ]
    },
    {
     "name": "stdout",
     "output_type": "stream",
     "text": [
      "drums           ==> SDR:   4.318  SIR: 197.446  ISR:   6.010  SAR:   5.904  \n",
      "bass            ==> SDR:   4.318  SIR: 197.446  ISR:   6.010  SAR:   5.904  \n",
      "\n"
     ]
    },
    {
     "name": "stderr",
     "output_type": "stream",
     "text": [
      " 60%|███████████████████████████████████████████████████████████████████████████████████████████████████████████████▌                                                                          | 30/50 [05:06<03:26, 10.31s/it]"
     ]
    },
    {
     "name": "stdout",
     "output_type": "stream",
     "text": [
      "drums           ==> SDR:   6.061  SIR: 213.397  ISR:   9.412  SAR:   6.560  \n",
      "bass            ==> SDR:   6.061  SIR: 213.397  ISR:   9.412  SAR:   6.560  \n",
      "\n"
     ]
    },
    {
     "name": "stderr",
     "output_type": "stream",
     "text": [
      " 62%|███████████████████████████████████████████████████████████████████████████████████████████████████████████████████▎                                                                      | 31/50 [05:17<03:15, 10.27s/it]"
     ]
    },
    {
     "name": "stdout",
     "output_type": "stream",
     "text": [
      "drums           ==> SDR:   2.242  SIR: 193.319  ISR:   6.519  SAR:   0.516  \n",
      "bass            ==> SDR:   2.242  SIR: 193.319  ISR:   6.519  SAR:   0.516  \n",
      "\n"
     ]
    },
    {
     "name": "stderr",
     "output_type": "stream",
     "text": [
      " 64%|███████████████████████████████████████████████████████████████████████████████████████████████████████████████████████                                                                   | 32/50 [05:26<03:00, 10.05s/it]"
     ]
    },
    {
     "name": "stdout",
     "output_type": "stream",
     "text": [
      "drums           ==> SDR:   0.961  SIR: 190.430  ISR:   3.829  SAR:  -0.031  \n",
      "bass            ==> SDR:   0.961  SIR: 190.430  ISR:   3.829  SAR:  -0.031  \n",
      "\n"
     ]
    },
    {
     "name": "stderr",
     "output_type": "stream",
     "text": [
      " 66%|██████████████████████████████████████████████████████████████████████████████████████████████████████████████████████████▊                                                               | 33/50 [05:36<02:51, 10.11s/it]"
     ]
    },
    {
     "name": "stdout",
     "output_type": "stream",
     "text": [
      "drums           ==> SDR:   1.345  SIR: 220.352  ISR:   3.253  SAR:  -1.470  \n",
      "bass            ==> SDR:   1.345  SIR: 220.352  ISR:   3.253  SAR:  -1.470  \n",
      "\n"
     ]
    },
    {
     "name": "stderr",
     "output_type": "stream",
     "text": [
      " 68%|██████████████████████████████████████████████████████████████████████████████████████████████████████████████████████████████▍                                                           | 34/50 [05:47<02:45, 10.31s/it]"
     ]
    },
    {
     "name": "stdout",
     "output_type": "stream",
     "text": [
      "drums           ==> SDR:   3.095  SIR: 242.875  ISR:   4.617  SAR:   0.840  \n",
      "bass            ==> SDR:   3.095  SIR: 242.875  ISR:   4.617  SAR:   0.840  \n",
      "\n"
     ]
    },
    {
     "name": "stderr",
     "output_type": "stream",
     "text": [
      " 70%|██████████████████████████████████████████████████████████████████████████████████████████████████████████████████████████████████▏                                                       | 35/50 [05:57<02:34, 10.28s/it]"
     ]
    },
    {
     "name": "stdout",
     "output_type": "stream",
     "text": [
      "drums           ==> SDR:   8.602  SIR: 216.318  ISR:  11.603  SAR:   9.005  \n",
      "bass            ==> SDR:   8.602  SIR: 216.318  ISR:  11.603  SAR:   9.005  \n",
      "\n"
     ]
    },
    {
     "name": "stderr",
     "output_type": "stream",
     "text": [
      " 72%|█████████████████████████████████████████████████████████████████████████████████████████████████████████████████████████████████████▉                                                    | 36/50 [06:08<02:24, 10.32s/it]"
     ]
    },
    {
     "name": "stdout",
     "output_type": "stream",
     "text": [
      "drums           ==> SDR:   1.821  SIR: 204.808  ISR:   5.859  SAR:  -0.502  \n",
      "bass            ==> SDR:   1.821  SIR: 204.808  ISR:   5.859  SAR:  -0.502  \n",
      "\n"
     ]
    },
    {
     "name": "stderr",
     "output_type": "stream",
     "text": [
      " 74%|█████████████████████████████████████████████████████████████████████████████████████████████████████████████████████████████████████████▋                                                | 37/50 [06:18<02:13, 10.24s/it]"
     ]
    },
    {
     "name": "stdout",
     "output_type": "stream",
     "text": [
      "drums           ==> SDR:   2.297  SIR: 201.818  ISR:   6.962  SAR:   0.601  \n",
      "bass            ==> SDR:   2.297  SIR: 201.818  ISR:   6.962  SAR:   0.601  \n",
      "\n"
     ]
    },
    {
     "name": "stderr",
     "output_type": "stream",
     "text": [
      " 76%|█████████████████████████████████████████████████████████████████████████████████████████████████████████████████████████████████████████████▎                                            | 38/50 [06:29<02:04, 10.36s/it]"
     ]
    },
    {
     "name": "stdout",
     "output_type": "stream",
     "text": [
      "drums           ==> SDR:   7.051  SIR: 222.258  ISR:   7.841  SAR:   5.325  \n",
      "bass            ==> SDR:   7.051  SIR: 222.258  ISR:   7.841  SAR:   5.325  \n",
      "\n"
     ]
    },
    {
     "name": "stderr",
     "output_type": "stream",
     "text": [
      " 78%|█████████████████████████████████████████████████████████████████████████████████████████████████████████████████████████████████████████████████                                         | 39/50 [06:38<01:52, 10.22s/it]"
     ]
    },
    {
     "name": "stdout",
     "output_type": "stream",
     "text": [
      "drums           ==> SDR:   2.934  SIR: 231.504  ISR:   4.227  SAR:   2.650  \n",
      "bass            ==> SDR:   2.934  SIR: 231.504  ISR:   4.227  SAR:   2.650  \n",
      "\n"
     ]
    },
    {
     "name": "stderr",
     "output_type": "stream",
     "text": [
      " 80%|████████████████████████████████████████████████████████████████████████████████████████████████████████████████████████████████████████████████████▊                                     | 40/50 [06:49<01:42, 10.29s/it]"
     ]
    },
    {
     "name": "stdout",
     "output_type": "stream",
     "text": [
      "drums           ==> SDR:   2.284  SIR: 179.083  ISR:   5.541  SAR:   1.459  \n",
      "bass            ==> SDR:   2.284  SIR: 179.083  ISR:   5.541  SAR:   1.459  \n",
      "\n"
     ]
    },
    {
     "name": "stderr",
     "output_type": "stream",
     "text": [
      " 82%|████████████████████████████████████████████████████████████████████████████████████████████████████████████████████████████████████████████████████████▌                                 | 41/50 [06:59<01:31, 10.20s/it]"
     ]
    },
    {
     "name": "stdout",
     "output_type": "stream",
     "text": [
      "drums           ==> SDR:   2.106  SIR: 182.753  ISR:   5.875  SAR:   1.692  \n",
      "bass            ==> SDR:   2.106  SIR: 182.753  ISR:   5.875  SAR:   1.692  \n",
      "\n"
     ]
    },
    {
     "name": "stderr",
     "output_type": "stream",
     "text": [
      " 84%|████████████████████████████████████████████████████████████████████████████████████████████████████████████████████████████████████████████████████████████▏                             | 42/50 [07:09<01:22, 10.30s/it]"
     ]
    },
    {
     "name": "stdout",
     "output_type": "stream",
     "text": [
      "drums           ==> SDR:   6.108  SIR: 125.145  ISR:   8.646  SAR:   5.984  \n",
      "bass            ==> SDR:   6.108  SIR: 125.145  ISR:   8.646  SAR:   5.984  \n",
      "\n"
     ]
    },
    {
     "name": "stderr",
     "output_type": "stream",
     "text": [
      " 86%|███████████████████████████████████████████████████████████████████████████████████████████████████████████████████████████████████████████████████████████████▉                          | 43/50 [07:19<01:10, 10.05s/it]"
     ]
    },
    {
     "name": "stdout",
     "output_type": "stream",
     "text": [
      "drums           ==> SDR:   4.392  SIR: 194.431  ISR:   7.137  SAR:   1.843  \n",
      "bass            ==> SDR:   4.392  SIR: 194.431  ISR:   7.137  SAR:   1.843  \n",
      "\n"
     ]
    },
    {
     "name": "stderr",
     "output_type": "stream",
     "text": [
      " 88%|███████████████████████████████████████████████████████████████████████████████████████████████████████████████████████████████████████████████████████████████████▋                      | 44/50 [07:29<00:59,  9.98s/it]"
     ]
    },
    {
     "name": "stdout",
     "output_type": "stream",
     "text": [
      "drums           ==> SDR:   2.727  SIR: 216.278  ISR:   4.978  SAR:   0.748  \n",
      "bass            ==> SDR:   2.727  SIR: 216.278  ISR:   4.978  SAR:   0.748  \n",
      "\n"
     ]
    },
    {
     "name": "stderr",
     "output_type": "stream",
     "text": [
      " 90%|███████████████████████████████████████████████████████████████████████████████████████████████████████████████████████████████████████████████████████████████████████▍                  | 45/50 [07:39<00:49,  9.97s/it]"
     ]
    },
    {
     "name": "stdout",
     "output_type": "stream",
     "text": [
      "drums           ==> SDR:   0.318  SIR: 210.919  ISR:   0.729  SAR:  -4.277  \n",
      "bass            ==> SDR:   0.318  SIR: 210.919  ISR:   0.729  SAR:  -4.277  \n",
      "\n"
     ]
    },
    {
     "name": "stderr",
     "output_type": "stream",
     "text": [
      " 92%|███████████████████████████████████████████████████████████████████████████████████████████████████████████████████████████████████████████████████████████████████████████               | 46/50 [07:50<00:41, 10.30s/it]"
     ]
    },
    {
     "name": "stdout",
     "output_type": "stream",
     "text": [
      "drums           ==> SDR:   1.823  SIR: 209.318  ISR:   3.262  SAR:  -1.042  \n",
      "bass            ==> SDR:   1.823  SIR: 209.318  ISR:   3.262  SAR:  -1.042  \n",
      "\n"
     ]
    },
    {
     "name": "stderr",
     "output_type": "stream",
     "text": [
      " 94%|██████████████████████████████████████████████████████████████████████████████████████████████████████████████████████████████████████████████████████████████████████████████▊           | 47/50 [08:00<00:30, 10.19s/it]"
     ]
    },
    {
     "name": "stdout",
     "output_type": "stream",
     "text": [
      "drums           ==> SDR:   2.730  SIR: 173.113  ISR:   4.442  SAR:   2.333  \n",
      "bass            ==> SDR:   2.730  SIR: 173.113  ISR:   4.442  SAR:   2.333  \n",
      "\n"
     ]
    },
    {
     "name": "stderr",
     "output_type": "stream",
     "text": [
      " 96%|██████████████████████████████████████████████████████████████████████████████████████████████████████████████████████████████████████████████████████████████████████████████████▌       | 48/50 [08:10<00:20, 10.24s/it]"
     ]
    },
    {
     "name": "stdout",
     "output_type": "stream",
     "text": [
      "drums           ==> SDR:   2.666  SIR: 222.408  ISR:   5.254  SAR:   0.180  \n",
      "bass            ==> SDR:   2.666  SIR: 222.408  ISR:   5.254  SAR:   0.180  \n",
      "\n"
     ]
    },
    {
     "name": "stderr",
     "output_type": "stream",
     "text": [
      " 98%|██████████████████████████████████████████████████████████████████████████████████████████████████████████████████████████████████████████████████████████████████████████████████████▎   | 49/50 [08:20<00:10, 10.12s/it]"
     ]
    },
    {
     "name": "stdout",
     "output_type": "stream",
     "text": [
      "drums           ==> SDR:   8.927  SIR: 205.675  ISR:  14.456  SAR:   8.651  \n",
      "bass            ==> SDR:   8.927  SIR: 205.675  ISR:  14.456  SAR:   8.651  \n",
      "\n"
     ]
    },
    {
     "name": "stderr",
     "output_type": "stream",
     "text": [
      "100%|██████████████████████████████████████████████████████████████████████████████████████████████████████████████████████████████████████████████████████████████████████████████████████████| 50/50 [08:30<00:00, 10.21s/it]"
     ]
    },
    {
     "name": "stdout",
     "output_type": "stream",
     "text": [
      "drums           ==> SDR:   5.627  SIR: 201.197  ISR:   7.910  SAR:   4.503  \n",
      "bass            ==> SDR:   5.627  SIR: 201.197  ISR:   7.910  SAR:   4.503  \n",
      "\n"
     ]
    },
    {
     "name": "stderr",
     "output_type": "stream",
     "text": [
      "\n",
      "C:\\Python311\\Lib\\site-packages\\pytorch_lightning\\utilities\\migration\\utils.py:55: The loaded checkpoint was produced with Lightning v2.2.1, which is newer than your current Lightning version: v2.1.2\n",
      "  2%|███▋                                                                                                                                                                                       | 1/50 [00:10<08:10, 10.00s/it]"
     ]
    },
    {
     "name": "stdout",
     "output_type": "stream",
     "text": [
      "drums           ==> SDR:   6.156  SIR: 206.518  ISR:   8.925  SAR:   5.723  \n",
      "bass            ==> SDR:   6.156  SIR: 206.518  ISR:   8.925  SAR:   5.723  \n",
      "\n"
     ]
    },
    {
     "name": "stderr",
     "output_type": "stream",
     "text": [
      "  4%|███████▍                                                                                                                                                                                   | 2/50 [00:20<08:09, 10.20s/it]"
     ]
    },
    {
     "name": "stdout",
     "output_type": "stream",
     "text": [
      "drums           ==> SDR:   2.018  SIR: 193.402  ISR:   4.234  SAR:  -1.706  \n",
      "bass            ==> SDR:   2.018  SIR: 193.402  ISR:   4.234  SAR:  -1.706  \n",
      "\n"
     ]
    },
    {
     "name": "stderr",
     "output_type": "stream",
     "text": [
      "  6%|███████████▏                                                                                                                                                                               | 3/50 [00:30<07:56, 10.15s/it]"
     ]
    },
    {
     "name": "stdout",
     "output_type": "stream",
     "text": [
      "drums           ==> SDR:   3.460  SIR: 232.782  ISR:   5.883  SAR:   2.059  \n",
      "bass            ==> SDR:   3.460  SIR: 232.782  ISR:   5.883  SAR:   2.059  \n",
      "\n"
     ]
    },
    {
     "name": "stderr",
     "output_type": "stream",
     "text": [
      "  8%|██████████████▉                                                                                                                                                                            | 4/50 [00:41<07:56, 10.35s/it]"
     ]
    },
    {
     "name": "stdout",
     "output_type": "stream",
     "text": [
      "drums           ==> SDR:   2.342  SIR: 220.075  ISR:   9.348  SAR:  -0.517  \n",
      "bass            ==> SDR:   2.342  SIR: 220.075  ISR:   9.348  SAR:  -0.517  \n",
      "\n"
     ]
    },
    {
     "name": "stderr",
     "output_type": "stream",
     "text": [
      " 10%|██████████████████▋                                                                                                                                                                        | 5/50 [00:51<07:39, 10.22s/it]"
     ]
    },
    {
     "name": "stdout",
     "output_type": "stream",
     "text": [
      "drums           ==> SDR:   7.254  SIR: 199.409  ISR:  10.466  SAR:   7.668  \n",
      "bass            ==> SDR:   7.254  SIR: 199.409  ISR:  10.466  SAR:   7.668  \n",
      "\n"
     ]
    },
    {
     "name": "stderr",
     "output_type": "stream",
     "text": [
      " 12%|██████████████████████▍                                                                                                                                                                    | 6/50 [01:01<07:35, 10.36s/it]"
     ]
    },
    {
     "name": "stdout",
     "output_type": "stream",
     "text": [
      "drums           ==> SDR:   3.604  SIR: 234.706  ISR:   6.482  SAR:   2.653  \n",
      "bass            ==> SDR:   3.604  SIR: 234.706  ISR:   6.482  SAR:   2.653  \n",
      "\n"
     ]
    },
    {
     "name": "stderr",
     "output_type": "stream",
     "text": [
      " 14%|██████████████████████████▏                                                                                                                                                                | 7/50 [01:11<07:14, 10.10s/it]"
     ]
    },
    {
     "name": "stdout",
     "output_type": "stream",
     "text": [
      "drums           ==> SDR:   3.756  SIR: 223.262  ISR:   5.704  SAR:   2.239  \n",
      "bass            ==> SDR:   3.756  SIR: 223.262  ISR:   5.704  SAR:   2.239  \n",
      "\n"
     ]
    },
    {
     "name": "stderr",
     "output_type": "stream",
     "text": [
      " 16%|█████████████████████████████▉                                                                                                                                                             | 8/50 [01:21<07:04, 10.12s/it]"
     ]
    },
    {
     "name": "stdout",
     "output_type": "stream",
     "text": [
      "drums           ==> SDR:   3.884  SIR: 238.106  ISR:   7.436  SAR:   2.684  \n",
      "bass            ==> SDR:   3.884  SIR: 238.106  ISR:   7.436  SAR:   2.684  \n",
      "\n"
     ]
    },
    {
     "name": "stderr",
     "output_type": "stream",
     "text": [
      " 18%|█████████████████████████████████▋                                                                                                                                                         | 9/50 [01:31<06:52, 10.07s/it]"
     ]
    },
    {
     "name": "stdout",
     "output_type": "stream",
     "text": [
      "drums           ==> SDR:   2.249  SIR: 157.671  ISR:   4.540  SAR:   1.304  \n",
      "bass            ==> SDR:   2.249  SIR: 157.671  ISR:   4.540  SAR:   1.304  \n",
      "\n"
     ]
    },
    {
     "name": "stderr",
     "output_type": "stream",
     "text": [
      " 20%|█████████████████████████████████████▏                                                                                                                                                    | 10/50 [01:41<06:41, 10.05s/it]"
     ]
    },
    {
     "name": "stdout",
     "output_type": "stream",
     "text": [
      "drums           ==> SDR:  -7.490  SIR: 183.540  ISR:   3.537  SAR: -15.357  \n",
      "bass            ==> SDR:  -7.490  SIR: 183.540  ISR:   3.537  SAR: -15.357  \n",
      "\n"
     ]
    },
    {
     "name": "stderr",
     "output_type": "stream",
     "text": [
      " 22%|████████████████████████████████████████▉                                                                                                                                                 | 11/50 [01:51<06:27,  9.94s/it]"
     ]
    },
    {
     "name": "stdout",
     "output_type": "stream",
     "text": [
      "drums           ==> SDR:   7.922  SIR: 214.670  ISR:  10.386  SAR:   7.742  \n",
      "bass            ==> SDR:   7.922  SIR: 214.670  ISR:  10.386  SAR:   7.742  \n",
      "\n"
     ]
    },
    {
     "name": "stderr",
     "output_type": "stream",
     "text": [
      " 24%|████████████████████████████████████████████▋                                                                                                                                             | 12/50 [02:01<06:22, 10.08s/it]"
     ]
    },
    {
     "name": "stdout",
     "output_type": "stream",
     "text": [
      "drums           ==> SDR:   4.070  SIR: 222.315  ISR:   5.382  SAR:   4.869  \n",
      "bass            ==> SDR:   4.070  SIR: 222.315  ISR:   5.382  SAR:   4.869  \n",
      "\n"
     ]
    },
    {
     "name": "stderr",
     "output_type": "stream",
     "text": [
      " 26%|████████████████████████████████████████████████▎                                                                                                                                         | 13/50 [02:10<05:59,  9.71s/it]"
     ]
    },
    {
     "name": "stdout",
     "output_type": "stream",
     "text": [
      "drums           ==> SDR:   0.061  SIR:  86.610  ISR:   0.650  SAR:  -4.000  \n",
      "bass            ==> SDR:   0.061  SIR:  86.610  ISR:   0.650  SAR:  -4.000  \n",
      "\n"
     ]
    },
    {
     "name": "stderr",
     "output_type": "stream",
     "text": [
      " 28%|████████████████████████████████████████████████████                                                                                                                                      | 14/50 [02:20<05:52,  9.78s/it]"
     ]
    },
    {
     "name": "stdout",
     "output_type": "stream",
     "text": [
      "drums           ==> SDR:   6.462  SIR: 211.344  ISR:   8.766  SAR:   6.810  \n",
      "bass            ==> SDR:   6.462  SIR: 211.344  ISR:   8.766  SAR:   6.810  \n",
      "\n"
     ]
    },
    {
     "name": "stderr",
     "output_type": "stream",
     "text": [
      " 30%|███████████████████████████████████████████████████████▊                                                                                                                                  | 15/50 [02:30<05:43,  9.83s/it]"
     ]
    },
    {
     "name": "stdout",
     "output_type": "stream",
     "text": [
      "drums           ==> SDR:   5.165  SIR: 218.532  ISR:   8.282  SAR:   4.856  \n",
      "bass            ==> SDR:   5.165  SIR: 218.532  ISR:   8.282  SAR:   4.856  \n",
      "\n"
     ]
    },
    {
     "name": "stderr",
     "output_type": "stream",
     "text": [
      " 32%|███████████████████████████████████████████████████████████▌                                                                                                                              | 16/50 [02:40<05:38,  9.95s/it]"
     ]
    },
    {
     "name": "stdout",
     "output_type": "stream",
     "text": [
      "drums           ==> SDR:   4.070  SIR: 213.812  ISR:   6.539  SAR:   2.355  \n",
      "bass            ==> SDR:   4.070  SIR: 213.812  ISR:   6.539  SAR:   2.355  \n",
      "\n"
     ]
    },
    {
     "name": "stderr",
     "output_type": "stream",
     "text": [
      " 34%|███████████████████████████████████████████████████████████████▏                                                                                                                          | 17/50 [02:50<05:25,  9.86s/it]"
     ]
    },
    {
     "name": "stdout",
     "output_type": "stream",
     "text": [
      "drums           ==> SDR:   2.134  SIR: 222.518  ISR:   4.693  SAR:  -1.632  \n",
      "bass            ==> SDR:   2.134  SIR: 222.518  ISR:   4.693  SAR:  -1.632  \n",
      "\n"
     ]
    },
    {
     "name": "stderr",
     "output_type": "stream",
     "text": [
      " 36%|██████████████████████████████████████████████████████████████████▉                                                                                                                       | 18/50 [03:00<05:18,  9.96s/it]"
     ]
    },
    {
     "name": "stdout",
     "output_type": "stream",
     "text": [
      "drums           ==> SDR:   9.072  SIR: 196.402  ISR:  12.471  SAR:   9.492  \n",
      "bass            ==> SDR:   9.072  SIR: 196.402  ISR:  12.471  SAR:   9.492  \n",
      "\n"
     ]
    },
    {
     "name": "stderr",
     "output_type": "stream",
     "text": [
      " 38%|██████████████████████████████████████████████████████████████████████▋                                                                                                                   | 19/50 [03:10<05:09,  9.98s/it]"
     ]
    },
    {
     "name": "stdout",
     "output_type": "stream",
     "text": [
      "drums           ==> SDR:  10.153  SIR: 216.855  ISR:  15.334  SAR:  10.100  \n",
      "bass            ==> SDR:  10.153  SIR: 216.855  ISR:  15.334  SAR:  10.100  \n",
      "\n"
     ]
    },
    {
     "name": "stderr",
     "output_type": "stream",
     "text": [
      " 40%|██████████████████████████████████████████████████████████████████████████▍                                                                                                               | 20/50 [03:20<04:59,  9.97s/it]"
     ]
    },
    {
     "name": "stdout",
     "output_type": "stream",
     "text": [
      "drums           ==> SDR:   1.038  SIR: 219.944  ISR:   1.371  SAR:   3.186  \n",
      "bass            ==> SDR:   1.038  SIR: 219.944  ISR:   1.371  SAR:   3.186  \n",
      "\n"
     ]
    },
    {
     "name": "stderr",
     "output_type": "stream",
     "text": [
      " 42%|██████████████████████████████████████████████████████████████████████████████                                                                                                            | 21/50 [03:30<04:47,  9.93s/it]"
     ]
    },
    {
     "name": "stdout",
     "output_type": "stream",
     "text": [
      "drums           ==> SDR:   6.806  SIR: 184.981  ISR:   9.359  SAR:   7.199  \n",
      "bass            ==> SDR:   6.806  SIR: 184.981  ISR:   9.359  SAR:   7.199  \n",
      "\n"
     ]
    },
    {
     "name": "stderr",
     "output_type": "stream",
     "text": [
      " 44%|█████████████████████████████████████████████████████████████████████████████████▊                                                                                                        | 22/50 [03:40<04:40, 10.01s/it]"
     ]
    },
    {
     "name": "stdout",
     "output_type": "stream",
     "text": [
      "drums           ==> SDR:  -7.737  SIR: 270.551  ISR:   0.878  SAR: -20.347  \n",
      "bass            ==> SDR:  -7.737  SIR: 270.551  ISR:   0.878  SAR: -20.347  \n",
      "\n"
     ]
    },
    {
     "name": "stderr",
     "output_type": "stream",
     "text": [
      " 46%|█████████████████████████████████████████████████████████████████████████████████████▌                                                                                                    | 23/50 [03:49<04:25,  9.85s/it]"
     ]
    },
    {
     "name": "stdout",
     "output_type": "stream",
     "text": [
      "drums           ==> SDR:   3.301  SIR: 165.040  ISR:   5.041  SAR:   0.902  \n",
      "bass            ==> SDR:   3.301  SIR: 165.040  ISR:   5.041  SAR:   0.902  \n",
      "\n"
     ]
    },
    {
     "name": "stderr",
     "output_type": "stream",
     "text": [
      " 48%|█████████████████████████████████████████████████████████████████████████████████████████▎                                                                                                | 24/50 [03:59<04:15,  9.83s/it]"
     ]
    },
    {
     "name": "stdout",
     "output_type": "stream",
     "text": [
      "drums           ==> SDR:   4.939  SIR: 130.699  ISR:   7.401  SAR:   4.114  \n",
      "bass            ==> SDR:   4.939  SIR: 130.699  ISR:   7.401  SAR:   4.114  \n",
      "\n"
     ]
    },
    {
     "name": "stderr",
     "output_type": "stream",
     "text": [
      " 50%|█████████████████████████████████████████████████████████████████████████████████████████████                                                                                             | 25/50 [04:09<04:07,  9.91s/it]"
     ]
    },
    {
     "name": "stdout",
     "output_type": "stream",
     "text": [
      "drums           ==> SDR:   2.701  SIR: 223.514  ISR:   4.734  SAR:   1.526  \n",
      "bass            ==> SDR:   2.701  SIR: 223.514  ISR:   4.734  SAR:   1.526  \n",
      "\n"
     ]
    },
    {
     "name": "stderr",
     "output_type": "stream",
     "text": [
      " 52%|████████████████████████████████████████████████████████████████████████████████████████████████▋                                                                                         | 26/50 [04:19<03:56,  9.85s/it]"
     ]
    },
    {
     "name": "stdout",
     "output_type": "stream",
     "text": [
      "drums           ==> SDR:   9.565  SIR: 177.047  ISR:  12.453  SAR:   9.966  \n",
      "bass            ==> SDR:   9.565  SIR: 177.047  ISR:  12.453  SAR:   9.966  \n",
      "\n"
     ]
    },
    {
     "name": "stderr",
     "output_type": "stream",
     "text": [
      " 54%|████████████████████████████████████████████████████████████████████████████████████████████████████▍                                                                                     | 27/50 [04:29<03:50, 10.01s/it]"
     ]
    },
    {
     "name": "stdout",
     "output_type": "stream",
     "text": [
      "drums           ==> SDR:   5.632  SIR: 185.017  ISR:  10.986  SAR:   3.784  \n",
      "bass            ==> SDR:   5.632  SIR: 185.017  ISR:  10.986  SAR:   3.784  \n",
      "\n"
     ]
    },
    {
     "name": "stderr",
     "output_type": "stream",
     "text": [
      " 56%|████████████████████████████████████████████████████████████████████████████████████████████████████████▏                                                                                 | 28/50 [04:39<03:41, 10.07s/it]"
     ]
    },
    {
     "name": "stdout",
     "output_type": "stream",
     "text": [
      "drums           ==> SDR:   5.884  SIR: 185.755  ISR:   7.522  SAR:   6.400  \n",
      "bass            ==> SDR:   5.884  SIR: 185.755  ISR:   7.522  SAR:   6.400  \n",
      "\n"
     ]
    },
    {
     "name": "stderr",
     "output_type": "stream",
     "text": [
      " 58%|███████████████████████████████████████████████████████████████████████████████████████████████████████████▉                                                                              | 29/50 [04:50<03:33, 10.15s/it]"
     ]
    },
    {
     "name": "stdout",
     "output_type": "stream",
     "text": [
      "drums           ==> SDR:   4.378  SIR: 195.678  ISR:   5.896  SAR:   6.111  \n",
      "bass            ==> SDR:   4.378  SIR: 195.678  ISR:   5.896  SAR:   6.111  \n",
      "\n"
     ]
    },
    {
     "name": "stderr",
     "output_type": "stream",
     "text": [
      " 60%|███████████████████████████████████████████████████████████████████████████████████████████████████████████████▌                                                                          | 30/50 [05:00<03:21, 10.06s/it]"
     ]
    },
    {
     "name": "stdout",
     "output_type": "stream",
     "text": [
      "drums           ==> SDR:   5.123  SIR: 218.630  ISR:   7.189  SAR:   5.320  \n",
      "bass            ==> SDR:   5.123  SIR: 218.630  ISR:   7.189  SAR:   5.320  \n",
      "\n"
     ]
    },
    {
     "name": "stderr",
     "output_type": "stream",
     "text": [
      " 62%|███████████████████████████████████████████████████████████████████████████████████████████████████████████████████▎                                                                      | 31/50 [05:10<03:10, 10.02s/it]"
     ]
    },
    {
     "name": "stdout",
     "output_type": "stream",
     "text": [
      "drums           ==> SDR:   1.126  SIR: 204.388  ISR:   5.308  SAR:  -0.669  \n",
      "bass            ==> SDR:   1.126  SIR: 204.388  ISR:   5.308  SAR:  -0.669  \n",
      "\n"
     ]
    },
    {
     "name": "stderr",
     "output_type": "stream",
     "text": [
      " 64%|███████████████████████████████████████████████████████████████████████████████████████████████████████████████████████                                                                   | 32/50 [05:22<03:10, 10.61s/it]"
     ]
    },
    {
     "name": "stdout",
     "output_type": "stream",
     "text": [
      "drums           ==> SDR:   0.569  SIR: 185.134  ISR:   3.181  SAR:  -0.351  \n",
      "bass            ==> SDR:   0.569  SIR: 185.134  ISR:   3.181  SAR:  -0.351  \n",
      "\n"
     ]
    },
    {
     "name": "stderr",
     "output_type": "stream",
     "text": [
      " 66%|██████████████████████████████████████████████████████████████████████████████████████████████████████████████████████████▊                                                               | 33/50 [05:31<02:56, 10.41s/it]"
     ]
    },
    {
     "name": "stdout",
     "output_type": "stream",
     "text": [
      "drums           ==> SDR:   0.883  SIR: 223.778  ISR:   2.521  SAR:  -2.665  \n",
      "bass            ==> SDR:   0.883  SIR: 223.778  ISR:   2.521  SAR:  -2.665  \n",
      "\n"
     ]
    },
    {
     "name": "stderr",
     "output_type": "stream",
     "text": [
      " 68%|██████████████████████████████████████████████████████████████████████████████████████████████████████████████████████████████▍                                                           | 34/50 [05:42<02:46, 10.38s/it]"
     ]
    },
    {
     "name": "stdout",
     "output_type": "stream",
     "text": [
      "drums           ==> SDR:   2.548  SIR: 250.066  ISR:   3.876  SAR:   0.190  \n",
      "bass            ==> SDR:   2.548  SIR: 250.066  ISR:   3.876  SAR:   0.190  \n",
      "\n"
     ]
    },
    {
     "name": "stderr",
     "output_type": "stream",
     "text": [
      " 70%|██████████████████████████████████████████████████████████████████████████████████████████████████████████████████████████████████▏                                                       | 35/50 [05:52<02:33, 10.21s/it]"
     ]
    },
    {
     "name": "stdout",
     "output_type": "stream",
     "text": [
      "drums           ==> SDR:   8.321  SIR: 213.406  ISR:  11.106  SAR:   9.148  \n",
      "bass            ==> SDR:   8.321  SIR: 213.406  ISR:  11.106  SAR:   9.148  \n",
      "\n"
     ]
    },
    {
     "name": "stderr",
     "output_type": "stream",
     "text": [
      " 72%|█████████████████████████████████████████████████████████████████████████████████████████████████████████████████████████████████████▉                                                    | 36/50 [06:03<02:27, 10.54s/it]"
     ]
    },
    {
     "name": "stdout",
     "output_type": "stream",
     "text": [
      "drums           ==> SDR:   1.964  SIR: 204.060  ISR:   5.269  SAR:  -0.425  \n",
      "bass            ==> SDR:   1.964  SIR: 204.060  ISR:   5.269  SAR:  -0.425  \n",
      "\n"
     ]
    },
    {
     "name": "stderr",
     "output_type": "stream",
     "text": [
      " 74%|█████████████████████████████████████████████████████████████████████████████████████████████████████████████████████████████████████████▋                                                | 37/50 [06:14<02:18, 10.67s/it]"
     ]
    },
    {
     "name": "stdout",
     "output_type": "stream",
     "text": [
      "drums           ==> SDR:   2.270  SIR: 204.079  ISR:   6.475  SAR:   0.287  \n",
      "bass            ==> SDR:   2.270  SIR: 204.079  ISR:   6.475  SAR:   0.287  \n",
      "\n"
     ]
    },
    {
     "name": "stderr",
     "output_type": "stream",
     "text": [
      " 76%|█████████████████████████████████████████████████████████████████████████████████████████████████████████████████████████████████████████████▎                                            | 38/50 [06:25<02:10, 10.83s/it]"
     ]
    },
    {
     "name": "stdout",
     "output_type": "stream",
     "text": [
      "drums           ==> SDR:   7.370  SIR: 224.868  ISR:   7.820  SAR:   5.708  \n",
      "bass            ==> SDR:   7.370  SIR: 224.868  ISR:   7.820  SAR:   5.708  \n",
      "\n"
     ]
    },
    {
     "name": "stderr",
     "output_type": "stream",
     "text": [
      " 78%|█████████████████████████████████████████████████████████████████████████████████████████████████████████████████████████████████████████████████                                         | 39/50 [06:35<01:55, 10.53s/it]"
     ]
    },
    {
     "name": "stdout",
     "output_type": "stream",
     "text": [
      "drums           ==> SDR:   2.805  SIR: 232.488  ISR:   4.088  SAR:   2.306  \n",
      "bass            ==> SDR:   2.805  SIR: 232.488  ISR:   4.088  SAR:   2.306  \n",
      "\n"
     ]
    },
    {
     "name": "stderr",
     "output_type": "stream",
     "text": [
      " 80%|████████████████████████████████████████████████████████████████████████████████████████████████████████████████████████████████████████████████████▊                                     | 40/50 [06:46<01:46, 10.65s/it]"
     ]
    },
    {
     "name": "stdout",
     "output_type": "stream",
     "text": [
      "drums           ==> SDR:   2.159  SIR: 172.044  ISR:   5.111  SAR:   1.314  \n",
      "bass            ==> SDR:   2.159  SIR: 172.044  ISR:   5.111  SAR:   1.314  \n",
      "\n"
     ]
    },
    {
     "name": "stderr",
     "output_type": "stream",
     "text": [
      " 82%|████████████████████████████████████████████████████████████████████████████████████████████████████████████████████████████████████████████████████████▌                                 | 41/50 [06:56<01:33, 10.44s/it]"
     ]
    },
    {
     "name": "stdout",
     "output_type": "stream",
     "text": [
      "drums           ==> SDR:   1.737  SIR: 181.486  ISR:   5.933  SAR:   1.979  \n",
      "bass            ==> SDR:   1.737  SIR: 181.486  ISR:   5.933  SAR:   1.979  \n",
      "\n"
     ]
    },
    {
     "name": "stderr",
     "output_type": "stream",
     "text": [
      " 84%|████████████████████████████████████████████████████████████████████████████████████████████████████████████████████████████████████████████████████████████▏                             | 42/50 [07:06<01:22, 10.33s/it]"
     ]
    },
    {
     "name": "stdout",
     "output_type": "stream",
     "text": [
      "drums           ==> SDR:   5.880  SIR: 123.442  ISR:   8.475  SAR:   5.859  \n",
      "bass            ==> SDR:   5.880  SIR: 123.442  ISR:   8.475  SAR:   5.859  \n",
      "\n"
     ]
    },
    {
     "name": "stderr",
     "output_type": "stream",
     "text": [
      " 86%|███████████████████████████████████████████████████████████████████████████████████████████████████████████████████████████████████████████████████████████████▉                          | 43/50 [07:16<01:11, 10.22s/it]"
     ]
    },
    {
     "name": "stdout",
     "output_type": "stream",
     "text": [
      "drums           ==> SDR:   3.997  SIR: 188.266  ISR:   5.743  SAR:   1.313  \n",
      "bass            ==> SDR:   3.997  SIR: 188.266  ISR:   5.743  SAR:   1.313  \n",
      "\n"
     ]
    },
    {
     "name": "stderr",
     "output_type": "stream",
     "text": [
      " 88%|███████████████████████████████████████████████████████████████████████████████████████████████████████████████████████████████████████████████████████████████████▋                      | 44/50 [07:25<00:59,  9.96s/it]"
     ]
    },
    {
     "name": "stdout",
     "output_type": "stream",
     "text": [
      "drums           ==> SDR:   0.503  SIR: 211.272  ISR:   2.005  SAR:  -0.812  \n",
      "bass            ==> SDR:   0.503  SIR: 211.272  ISR:   2.005  SAR:  -0.812  \n",
      "\n"
     ]
    },
    {
     "name": "stderr",
     "output_type": "stream",
     "text": [
      " 90%|███████████████████████████████████████████████████████████████████████████████████████████████████████████████████████████████████████████████████████████████████████▍                  | 45/50 [07:35<00:49,  9.93s/it]"
     ]
    },
    {
     "name": "stdout",
     "output_type": "stream",
     "text": [
      "drums           ==> SDR:   0.235  SIR: 209.037  ISR:   0.619  SAR:  -3.877  \n",
      "bass            ==> SDR:   0.235  SIR: 209.037  ISR:   0.619  SAR:  -3.877  \n",
      "\n"
     ]
    },
    {
     "name": "stderr",
     "output_type": "stream",
     "text": [
      " 92%|███████████████████████████████████████████████████████████████████████████████████████████████████████████████████████████████████████████████████████████████████████████               | 46/50 [07:45<00:39,  9.96s/it]"
     ]
    },
    {
     "name": "stdout",
     "output_type": "stream",
     "text": [
      "drums           ==> SDR:   1.888  SIR: 202.153  ISR:   3.016  SAR:  -1.055  \n",
      "bass            ==> SDR:   1.888  SIR: 202.153  ISR:   3.016  SAR:  -1.055  \n",
      "\n"
     ]
    },
    {
     "name": "stderr",
     "output_type": "stream",
     "text": [
      " 94%|██████████████████████████████████████████████████████████████████████████████████████████████████████████████████████████████████████████████████████████████████████████████▊           | 47/50 [07:54<00:29,  9.76s/it]"
     ]
    },
    {
     "name": "stdout",
     "output_type": "stream",
     "text": [
      "drums           ==> SDR:   2.274  SIR: 166.717  ISR:   4.005  SAR:   1.989  \n",
      "bass            ==> SDR:   2.274  SIR: 166.717  ISR:   4.005  SAR:   1.989  \n",
      "\n"
     ]
    },
    {
     "name": "stderr",
     "output_type": "stream",
     "text": [
      " 96%|██████████████████████████████████████████████████████████████████████████████████████████████████████████████████████████████████████████████████████████████████████████████████▌       | 48/50 [08:04<00:19,  9.79s/it]"
     ]
    },
    {
     "name": "stdout",
     "output_type": "stream",
     "text": [
      "drums           ==> SDR:   2.203  SIR: 220.087  ISR:   4.420  SAR:  -0.135  \n",
      "bass            ==> SDR:   2.203  SIR: 220.087  ISR:   4.420  SAR:  -0.135  \n",
      "\n"
     ]
    },
    {
     "name": "stderr",
     "output_type": "stream",
     "text": [
      " 98%|██████████████████████████████████████████████████████████████████████████████████████████████████████████████████████████████████████████████████████████████████████████████████████▎   | 49/50 [08:14<00:09,  9.75s/it]"
     ]
    },
    {
     "name": "stdout",
     "output_type": "stream",
     "text": [
      "drums           ==> SDR:   8.623  SIR: 213.427  ISR:  13.592  SAR:   8.545  \n",
      "bass            ==> SDR:   8.623  SIR: 213.427  ISR:  13.592  SAR:   8.545  \n",
      "\n"
     ]
    },
    {
     "name": "stderr",
     "output_type": "stream",
     "text": [
      "100%|██████████████████████████████████████████████████████████████████████████████████████████████████████████████████████████████████████████████████████████████████████████████████████████| 50/50 [08:24<00:00, 10.10s/it]"
     ]
    },
    {
     "name": "stdout",
     "output_type": "stream",
     "text": [
      "drums           ==> SDR:   5.148  SIR: 212.237  ISR:   6.946  SAR:   4.060  \n",
      "bass            ==> SDR:   5.148  SIR: 212.237  ISR:   6.946  SAR:   4.060  \n",
      "\n"
     ]
    },
    {
     "name": "stderr",
     "output_type": "stream",
     "text": [
      "\n",
      "C:\\Python311\\Lib\\site-packages\\pytorch_lightning\\utilities\\migration\\utils.py:55: The loaded checkpoint was produced with Lightning v2.2.1, which is newer than your current Lightning version: v2.1.2\n",
      "  2%|███▋                                                                                                                                                                                       | 1/50 [00:09<08:01,  9.82s/it]"
     ]
    },
    {
     "name": "stdout",
     "output_type": "stream",
     "text": [
      "drums           ==> SDR:   6.489  SIR: 201.524  ISR:   8.010  SAR:   5.459  \n",
      "bass            ==> SDR:   6.489  SIR: 201.524  ISR:   8.010  SAR:   5.459  \n",
      "\n"
     ]
    },
    {
     "name": "stderr",
     "output_type": "stream",
     "text": [
      "  4%|███████▍                                                                                                                                                                                   | 2/50 [00:19<07:52,  9.85s/it]"
     ]
    },
    {
     "name": "stdout",
     "output_type": "stream",
     "text": [
      "drums           ==> SDR:   1.552  SIR: 186.139  ISR:   2.951  SAR:  -2.771  \n",
      "bass            ==> SDR:   1.552  SIR: 186.139  ISR:   2.951  SAR:  -2.771  \n",
      "\n"
     ]
    },
    {
     "name": "stderr",
     "output_type": "stream",
     "text": [
      "  6%|███████████▏                                                                                                                                                                               | 3/50 [00:29<07:40,  9.80s/it]"
     ]
    },
    {
     "name": "stdout",
     "output_type": "stream",
     "text": [
      "drums           ==> SDR:   3.263  SIR: 223.895  ISR:   4.986  SAR:   1.229  \n",
      "bass            ==> SDR:   3.263  SIR: 223.895  ISR:   4.986  SAR:   1.229  \n",
      "\n"
     ]
    },
    {
     "name": "stderr",
     "output_type": "stream",
     "text": [
      "  8%|██████████████▉                                                                                                                                                                            | 4/50 [00:39<07:35,  9.90s/it]"
     ]
    },
    {
     "name": "stdout",
     "output_type": "stream",
     "text": [
      "drums           ==> SDR:   2.425  SIR: 227.849  ISR:   7.800  SAR:   0.247  \n",
      "bass            ==> SDR:   2.425  SIR: 227.849  ISR:   7.800  SAR:   0.247  \n",
      "\n"
     ]
    },
    {
     "name": "stderr",
     "output_type": "stream",
     "text": [
      " 10%|██████████████████▋                                                                                                                                                                        | 5/50 [00:49<07:28,  9.97s/it]"
     ]
    },
    {
     "name": "stdout",
     "output_type": "stream",
     "text": [
      "drums           ==> SDR:   6.503  SIR: 195.095  ISR:   8.472  SAR:   6.454  \n",
      "bass            ==> SDR:   6.503  SIR: 195.095  ISR:   8.472  SAR:   6.454  \n",
      "\n"
     ]
    },
    {
     "name": "stderr",
     "output_type": "stream",
     "text": [
      " 12%|██████████████████████▍                                                                                                                                                                    | 6/50 [00:59<07:22, 10.07s/it]"
     ]
    },
    {
     "name": "stdout",
     "output_type": "stream",
     "text": [
      "drums           ==> SDR:   2.746  SIR: 230.381  ISR:   4.885  SAR:   1.261  \n",
      "bass            ==> SDR:   2.746  SIR: 230.381  ISR:   4.885  SAR:   1.261  \n",
      "\n"
     ]
    },
    {
     "name": "stderr",
     "output_type": "stream",
     "text": [
      " 14%|██████████████████████████▏                                                                                                                                                                | 7/50 [01:09<07:03,  9.85s/it]"
     ]
    },
    {
     "name": "stdout",
     "output_type": "stream",
     "text": [
      "drums           ==> SDR:   3.233  SIR: 226.643  ISR:   5.127  SAR:   2.515  \n",
      "bass            ==> SDR:   3.233  SIR: 226.643  ISR:   5.127  SAR:   2.515  \n",
      "\n"
     ]
    },
    {
     "name": "stderr",
     "output_type": "stream",
     "text": [
      " 16%|█████████████████████████████▉                                                                                                                                                             | 8/50 [01:19<06:54,  9.86s/it]"
     ]
    },
    {
     "name": "stdout",
     "output_type": "stream",
     "text": [
      "drums           ==> SDR:   3.863  SIR: 242.726  ISR:   7.428  SAR:   2.346  \n",
      "bass            ==> SDR:   3.863  SIR: 242.726  ISR:   7.428  SAR:   2.346  \n",
      "\n"
     ]
    },
    {
     "name": "stderr",
     "output_type": "stream",
     "text": [
      " 18%|█████████████████████████████████▋                                                                                                                                                         | 9/50 [01:28<06:43,  9.84s/it]"
     ]
    },
    {
     "name": "stdout",
     "output_type": "stream",
     "text": [
      "drums           ==> SDR:   1.186  SIR: 155.450  ISR:   2.934  SAR:   0.192  \n",
      "bass            ==> SDR:   1.186  SIR: 155.450  ISR:   2.934  SAR:   0.192  \n",
      "\n"
     ]
    },
    {
     "name": "stderr",
     "output_type": "stream",
     "text": [
      " 20%|█████████████████████████████████████▏                                                                                                                                                    | 10/50 [01:39<06:38,  9.95s/it]"
     ]
    },
    {
     "name": "stdout",
     "output_type": "stream",
     "text": [
      "drums           ==> SDR:  -7.490  SIR: 177.009  ISR:   3.728  SAR: -14.939  \n",
      "bass            ==> SDR:  -7.490  SIR: 177.009  ISR:   3.728  SAR: -14.939  \n",
      "\n"
     ]
    },
    {
     "name": "stderr",
     "output_type": "stream",
     "text": [
      " 22%|████████████████████████████████████████▉                                                                                                                                                 | 11/50 [01:49<06:29,  9.98s/it]"
     ]
    },
    {
     "name": "stdout",
     "output_type": "stream",
     "text": [
      "drums           ==> SDR:   6.423  SIR: 220.383  ISR:   8.308  SAR:   6.279  \n",
      "bass            ==> SDR:   6.423  SIR: 220.383  ISR:   8.308  SAR:   6.279  \n",
      "\n"
     ]
    },
    {
     "name": "stderr",
     "output_type": "stream",
     "text": [
      " 24%|████████████████████████████████████████████▋                                                                                                                                             | 12/50 [01:59<06:21, 10.04s/it]"
     ]
    },
    {
     "name": "stdout",
     "output_type": "stream",
     "text": [
      "drums           ==> SDR:   3.890  SIR: 220.845  ISR:   4.736  SAR:   4.259  \n",
      "bass            ==> SDR:   3.890  SIR: 220.845  ISR:   4.736  SAR:   4.259  \n",
      "\n"
     ]
    },
    {
     "name": "stderr",
     "output_type": "stream",
     "text": [
      " 26%|████████████████████████████████████████████████▎                                                                                                                                         | 13/50 [02:08<06:02,  9.80s/it]"
     ]
    },
    {
     "name": "stdout",
     "output_type": "stream",
     "text": [
      "drums           ==> SDR:   0.006  SIR:  84.731  ISR:   0.610  SAR:  -3.306  \n",
      "bass            ==> SDR:   0.006  SIR:  84.731  ISR:   0.610  SAR:  -3.306  \n",
      "\n"
     ]
    },
    {
     "name": "stderr",
     "output_type": "stream",
     "text": [
      " 28%|████████████████████████████████████████████████████                                                                                                                                      | 14/50 [02:18<05:56,  9.91s/it]"
     ]
    },
    {
     "name": "stdout",
     "output_type": "stream",
     "text": [
      "drums           ==> SDR:   5.905  SIR: 212.885  ISR:   8.098  SAR:   6.610  \n",
      "bass            ==> SDR:   5.905  SIR: 212.885  ISR:   8.098  SAR:   6.610  \n",
      "\n"
     ]
    },
    {
     "name": "stderr",
     "output_type": "stream",
     "text": [
      " 30%|███████████████████████████████████████████████████████▊                                                                                                                                  | 15/50 [02:28<05:47,  9.92s/it]"
     ]
    },
    {
     "name": "stdout",
     "output_type": "stream",
     "text": [
      "drums           ==> SDR:   4.592  SIR: 213.406  ISR:   7.268  SAR:   4.615  \n",
      "bass            ==> SDR:   4.592  SIR: 213.406  ISR:   7.268  SAR:   4.615  \n",
      "\n"
     ]
    },
    {
     "name": "stderr",
     "output_type": "stream",
     "text": [
      " 32%|███████████████████████████████████████████████████████████▌                                                                                                                              | 16/50 [02:38<05:41, 10.03s/it]"
     ]
    },
    {
     "name": "stdout",
     "output_type": "stream",
     "text": [
      "drums           ==> SDR:   3.820  SIR: 218.897  ISR:   5.791  SAR:   1.813  \n",
      "bass            ==> SDR:   3.820  SIR: 218.897  ISR:   5.791  SAR:   1.813  \n",
      "\n"
     ]
    },
    {
     "name": "stderr",
     "output_type": "stream",
     "text": [
      " 34%|███████████████████████████████████████████████████████████████▏                                                                                                                          | 17/50 [02:49<05:32, 10.09s/it]"
     ]
    },
    {
     "name": "stdout",
     "output_type": "stream",
     "text": [
      "drums           ==> SDR:   1.548  SIR: 219.387  ISR:   3.088  SAR:  -3.202  \n",
      "bass            ==> SDR:   1.548  SIR: 219.387  ISR:   3.088  SAR:  -3.202  \n",
      "\n"
     ]
    },
    {
     "name": "stderr",
     "output_type": "stream",
     "text": [
      " 36%|██████████████████████████████████████████████████████████████████▉                                                                                                                       | 18/50 [02:59<05:22, 10.08s/it]"
     ]
    },
    {
     "name": "stdout",
     "output_type": "stream",
     "text": [
      "drums           ==> SDR:   8.314  SIR: 193.869  ISR:  11.365  SAR:   8.745  \n",
      "bass            ==> SDR:   8.314  SIR: 193.869  ISR:  11.365  SAR:   8.745  \n",
      "\n"
     ]
    },
    {
     "name": "stderr",
     "output_type": "stream",
     "text": [
      " 38%|██████████████████████████████████████████████████████████████████████▋                                                                                                                   | 19/50 [03:09<05:11, 10.04s/it]"
     ]
    },
    {
     "name": "stdout",
     "output_type": "stream",
     "text": [
      "drums           ==> SDR:   9.726  SIR: 217.313  ISR:  13.454  SAR:  10.395  \n",
      "bass            ==> SDR:   9.726  SIR: 217.313  ISR:  13.454  SAR:  10.395  \n",
      "\n"
     ]
    },
    {
     "name": "stderr",
     "output_type": "stream",
     "text": [
      " 40%|██████████████████████████████████████████████████████████████████████████▍                                                                                                               | 20/50 [03:19<05:02, 10.09s/it]"
     ]
    },
    {
     "name": "stdout",
     "output_type": "stream",
     "text": [
      "drums           ==> SDR:   1.007  SIR: 215.358  ISR:   1.319  SAR:   3.457  \n",
      "bass            ==> SDR:   1.007  SIR: 215.358  ISR:   1.319  SAR:   3.457  \n",
      "\n"
     ]
    },
    {
     "name": "stderr",
     "output_type": "stream",
     "text": [
      " 42%|██████████████████████████████████████████████████████████████████████████████                                                                                                            | 21/50 [03:29<04:51, 10.04s/it]"
     ]
    },
    {
     "name": "stdout",
     "output_type": "stream",
     "text": [
      "drums           ==> SDR:   4.975  SIR: 181.167  ISR:   6.865  SAR:   5.819  \n",
      "bass            ==> SDR:   4.975  SIR: 181.167  ISR:   6.865  SAR:   5.819  \n",
      "\n"
     ]
    },
    {
     "name": "stderr",
     "output_type": "stream",
     "text": [
      " 44%|█████████████████████████████████████████████████████████████████████████████████▊                                                                                                        | 22/50 [03:39<04:42, 10.10s/it]"
     ]
    },
    {
     "name": "stdout",
     "output_type": "stream",
     "text": [
      "drums           ==> SDR:  -7.737  SIR: 270.551  ISR:   0.878  SAR: -20.347  \n",
      "bass            ==> SDR:  -7.737  SIR: 270.551  ISR:   0.878  SAR: -20.347  \n",
      "\n"
     ]
    },
    {
     "name": "stderr",
     "output_type": "stream",
     "text": [
      " 46%|█████████████████████████████████████████████████████████████████████████████████████▌                                                                                                    | 23/50 [03:49<04:29,  9.99s/it]"
     ]
    },
    {
     "name": "stdout",
     "output_type": "stream",
     "text": [
      "drums           ==> SDR:   2.872  SIR: 165.435  ISR:   4.234  SAR:   0.893  \n",
      "bass            ==> SDR:   2.872  SIR: 165.435  ISR:   4.234  SAR:   0.893  \n",
      "\n"
     ]
    },
    {
     "name": "stderr",
     "output_type": "stream",
     "text": [
      " 48%|█████████████████████████████████████████████████████████████████████████████████████████▎                                                                                                | 24/50 [03:59<04:23, 10.12s/it]"
     ]
    },
    {
     "name": "stdout",
     "output_type": "stream",
     "text": [
      "drums           ==> SDR:   3.964  SIR: 130.363  ISR:   5.851  SAR:   2.834  \n",
      "bass            ==> SDR:   3.964  SIR: 130.363  ISR:   5.851  SAR:   2.834  \n",
      "\n"
     ]
    },
    {
     "name": "stderr",
     "output_type": "stream",
     "text": [
      " 50%|█████████████████████████████████████████████████████████████████████████████████████████████                                                                                             | 25/50 [04:10<04:15, 10.24s/it]"
     ]
    },
    {
     "name": "stdout",
     "output_type": "stream",
     "text": [
      "drums           ==> SDR:   2.596  SIR: 225.876  ISR:   4.412  SAR:   1.432  \n",
      "bass            ==> SDR:   2.596  SIR: 225.876  ISR:   4.412  SAR:   1.432  \n",
      "\n"
     ]
    },
    {
     "name": "stderr",
     "output_type": "stream",
     "text": [
      " 52%|████████████████████████████████████████████████████████████████████████████████████████████████▋                                                                                         | 26/50 [04:20<04:07, 10.33s/it]"
     ]
    },
    {
     "name": "stdout",
     "output_type": "stream",
     "text": [
      "drums           ==> SDR:   7.719  SIR: 178.466  ISR:   9.998  SAR:   7.969  \n",
      "bass            ==> SDR:   7.719  SIR: 178.466  ISR:   9.998  SAR:   7.969  \n",
      "\n"
     ]
    },
    {
     "name": "stderr",
     "output_type": "stream",
     "text": [
      " 54%|████████████████████████████████████████████████████████████████████████████████████████████████████▍                                                                                     | 27/50 [04:30<03:55, 10.24s/it]"
     ]
    },
    {
     "name": "stdout",
     "output_type": "stream",
     "text": [
      "drums           ==> SDR:   3.961  SIR: 180.680  ISR:   7.557  SAR:   1.995  \n",
      "bass            ==> SDR:   3.961  SIR: 180.680  ISR:   7.557  SAR:   1.995  \n",
      "\n"
     ]
    },
    {
     "name": "stderr",
     "output_type": "stream",
     "text": [
      " 56%|████████████████████████████████████████████████████████████████████████████████████████████████████████▏                                                                                 | 28/50 [04:41<03:47, 10.32s/it]"
     ]
    },
    {
     "name": "stdout",
     "output_type": "stream",
     "text": [
      "drums           ==> SDR:   4.721  SIR: 187.815  ISR:   6.197  SAR:   5.011  \n",
      "bass            ==> SDR:   4.721  SIR: 187.815  ISR:   6.197  SAR:   5.011  \n",
      "\n"
     ]
    },
    {
     "name": "stderr",
     "output_type": "stream",
     "text": [
      " 58%|███████████████████████████████████████████████████████████████████████████████████████████████████████████▉                                                                              | 29/50 [04:52<03:39, 10.45s/it]"
     ]
    },
    {
     "name": "stdout",
     "output_type": "stream",
     "text": [
      "drums           ==> SDR:   3.816  SIR: 191.008  ISR:   5.053  SAR:   5.099  \n",
      "bass            ==> SDR:   3.816  SIR: 191.008  ISR:   5.053  SAR:   5.099  \n",
      "\n"
     ]
    },
    {
     "name": "stderr",
     "output_type": "stream",
     "text": [
      " 60%|███████████████████████████████████████████████████████████████████████████████████████████████████████████████▌                                                                          | 30/50 [05:02<03:29, 10.45s/it]"
     ]
    },
    {
     "name": "stdout",
     "output_type": "stream",
     "text": [
      "drums           ==> SDR:   5.114  SIR: 215.191  ISR:   6.463  SAR:   4.643  \n",
      "bass            ==> SDR:   5.114  SIR: 215.191  ISR:   6.463  SAR:   4.643  \n",
      "\n"
     ]
    },
    {
     "name": "stderr",
     "output_type": "stream",
     "text": [
      " 62%|███████████████████████████████████████████████████████████████████████████████████████████████████████████████████▎                                                                      | 31/50 [05:12<03:15, 10.31s/it]"
     ]
    },
    {
     "name": "stdout",
     "output_type": "stream",
     "text": [
      "drums           ==> SDR:   0.735  SIR: 200.892  ISR:   3.524  SAR:  -1.617  \n",
      "bass            ==> SDR:   0.735  SIR: 200.892  ISR:   3.524  SAR:  -1.617  \n",
      "\n"
     ]
    },
    {
     "name": "stderr",
     "output_type": "stream",
     "text": [
      " 64%|███████████████████████████████████████████████████████████████████████████████████████████████████████████████████████                                                                   | 32/50 [05:22<03:02, 10.15s/it]"
     ]
    },
    {
     "name": "stdout",
     "output_type": "stream",
     "text": [
      "drums           ==> SDR:   0.569  SIR: 185.699  ISR:   2.566  SAR:  -0.679  \n",
      "bass            ==> SDR:   0.569  SIR: 185.699  ISR:   2.566  SAR:  -0.679  \n",
      "\n"
     ]
    },
    {
     "name": "stderr",
     "output_type": "stream",
     "text": [
      " 66%|██████████████████████████████████████████████████████████████████████████████████████████████████████████████████████████▊                                                               | 33/50 [05:32<02:51, 10.09s/it]"
     ]
    },
    {
     "name": "stdout",
     "output_type": "stream",
     "text": [
      "drums           ==> SDR:   0.687  SIR: 228.027  ISR:   2.311  SAR:  -2.757  \n",
      "bass            ==> SDR:   0.687  SIR: 228.027  ISR:   2.311  SAR:  -2.757  \n",
      "\n"
     ]
    },
    {
     "name": "stderr",
     "output_type": "stream",
     "text": [
      " 68%|██████████████████████████████████████████████████████████████████████████████████████████████████████████████████████████████▍                                                           | 34/50 [05:42<02:43, 10.23s/it]"
     ]
    },
    {
     "name": "stdout",
     "output_type": "stream",
     "text": [
      "drums           ==> SDR:   1.765  SIR: 250.623  ISR:   2.646  SAR:  -2.031  \n",
      "bass            ==> SDR:   1.765  SIR: 250.623  ISR:   2.646  SAR:  -2.031  \n",
      "\n"
     ]
    },
    {
     "name": "stderr",
     "output_type": "stream",
     "text": [
      " 70%|██████████████████████████████████████████████████████████████████████████████████████████████████████████████████████████████████▏                                                       | 35/50 [05:53<02:34, 10.27s/it]"
     ]
    },
    {
     "name": "stdout",
     "output_type": "stream",
     "text": [
      "drums           ==> SDR:   7.771  SIR: 226.839  ISR:  10.253  SAR:   8.674  \n",
      "bass            ==> SDR:   7.771  SIR: 226.839  ISR:  10.253  SAR:   8.674  \n",
      "\n"
     ]
    },
    {
     "name": "stderr",
     "output_type": "stream",
     "text": [
      " 72%|█████████████████████████████████████████████████████████████████████████████████████████████████████████████████████████████████████▉                                                    | 36/50 [06:03<02:24, 10.32s/it]"
     ]
    },
    {
     "name": "stdout",
     "output_type": "stream",
     "text": [
      "drums           ==> SDR:   1.679  SIR: 206.789  ISR:   4.305  SAR:  -1.728  \n",
      "bass            ==> SDR:   1.679  SIR: 206.789  ISR:   4.305  SAR:  -1.728  \n",
      "\n"
     ]
    },
    {
     "name": "stderr",
     "output_type": "stream",
     "text": [
      " 74%|█████████████████████████████████████████████████████████████████████████████████████████████████████████████████████████████████████████▋                                                | 37/50 [06:14<02:15, 10.40s/it]"
     ]
    },
    {
     "name": "stdout",
     "output_type": "stream",
     "text": [
      "drums           ==> SDR:   1.370  SIR: 199.358  ISR:   5.547  SAR:   0.182  \n",
      "bass            ==> SDR:   1.370  SIR: 199.358  ISR:   5.547  SAR:   0.182  \n",
      "\n"
     ]
    },
    {
     "name": "stderr",
     "output_type": "stream",
     "text": [
      " 76%|█████████████████████████████████████████████████████████████████████████████████████████████████████████████████████████████████████████████▎                                            | 38/50 [06:26<02:10, 10.89s/it]"
     ]
    },
    {
     "name": "stdout",
     "output_type": "stream",
     "text": [
      "drums           ==> SDR:   6.590  SIR: 221.043  ISR:   7.118  SAR:   5.318  \n",
      "bass            ==> SDR:   6.590  SIR: 221.043  ISR:   7.118  SAR:   5.318  \n",
      "\n"
     ]
    },
    {
     "name": "stderr",
     "output_type": "stream",
     "text": [
      " 78%|█████████████████████████████████████████████████████████████████████████████████████████████████████████████████████████████████████████████████                                         | 39/50 [06:37<02:00, 10.93s/it]"
     ]
    },
    {
     "name": "stdout",
     "output_type": "stream",
     "text": [
      "drums           ==> SDR:   2.213  SIR: 224.668  ISR:   3.265  SAR:   1.460  \n",
      "bass            ==> SDR:   2.213  SIR: 224.668  ISR:   3.265  SAR:   1.460  \n",
      "\n"
     ]
    },
    {
     "name": "stderr",
     "output_type": "stream",
     "text": [
      " 80%|████████████████████████████████████████████████████████████████████████████████████████████████████████████████████████████████████████████████████▊                                     | 40/50 [06:49<01:53, 11.32s/it]"
     ]
    },
    {
     "name": "stdout",
     "output_type": "stream",
     "text": [
      "drums           ==> SDR:   2.159  SIR: 170.703  ISR:   4.656  SAR:   0.920  \n",
      "bass            ==> SDR:   2.159  SIR: 170.703  ISR:   4.656  SAR:   0.920  \n",
      "\n"
     ]
    },
    {
     "name": "stderr",
     "output_type": "stream",
     "text": [
      " 82%|████████████████████████████████████████████████████████████████████████████████████████████████████████████████████████████████████████████████████████▌                                 | 41/50 [07:01<01:44, 11.56s/it]"
     ]
    },
    {
     "name": "stdout",
     "output_type": "stream",
     "text": [
      "drums           ==> SDR:   1.913  SIR: 176.958  ISR:   4.004  SAR:   1.035  \n",
      "bass            ==> SDR:   1.913  SIR: 176.958  ISR:   4.004  SAR:   1.035  \n",
      "\n"
     ]
    },
    {
     "name": "stderr",
     "output_type": "stream",
     "text": [
      " 84%|████████████████████████████████████████████████████████████████████████████████████████████████████████████████████████████████████████████████████████████▏                             | 42/50 [07:13<01:33, 11.69s/it]"
     ]
    },
    {
     "name": "stdout",
     "output_type": "stream",
     "text": [
      "drums           ==> SDR:   5.456  SIR: 120.585  ISR:   7.804  SAR:   5.689  \n",
      "bass            ==> SDR:   5.456  SIR: 120.585  ISR:   7.804  SAR:   5.689  \n",
      "\n"
     ]
    },
    {
     "name": "stderr",
     "output_type": "stream",
     "text": [
      " 86%|███████████████████████████████████████████████████████████████████████████████████████████████████████████████████████████████████████████████████████████████▉                          | 43/50 [07:26<01:24, 12.09s/it]"
     ]
    },
    {
     "name": "stdout",
     "output_type": "stream",
     "text": [
      "drums           ==> SDR:   2.581  SIR: 189.819  ISR:   4.825  SAR:   0.143  \n",
      "bass            ==> SDR:   2.581  SIR: 189.819  ISR:   4.825  SAR:   0.143  \n",
      "\n"
     ]
    },
    {
     "name": "stderr",
     "output_type": "stream",
     "text": [
      " 88%|███████████████████████████████████████████████████████████████████████████████████████████████████████████████████████████████████████████████████████████████████▋                      | 44/50 [07:36<01:08, 11.36s/it]"
     ]
    },
    {
     "name": "stdout",
     "output_type": "stream",
     "text": [
      "drums           ==> SDR:   1.270  SIR: 213.854  ISR:   3.529  SAR:   0.270  \n",
      "bass            ==> SDR:   1.270  SIR: 213.854  ISR:   3.529  SAR:   0.270  \n",
      "\n"
     ]
    },
    {
     "name": "stderr",
     "output_type": "stream",
     "text": [
      " 90%|███████████████████████████████████████████████████████████████████████████████████████████████████████████████████████████████████████████████████████████████████████▍                  | 45/50 [07:47<00:56, 11.22s/it]"
     ]
    },
    {
     "name": "stdout",
     "output_type": "stream",
     "text": [
      "drums           ==> SDR:   0.147  SIR: 208.101  ISR:   0.461  SAR:  -2.923  \n",
      "bass            ==> SDR:   0.147  SIR: 208.101  ISR:   0.461  SAR:  -2.923  \n",
      "\n"
     ]
    },
    {
     "name": "stderr",
     "output_type": "stream",
     "text": [
      " 92%|███████████████████████████████████████████████████████████████████████████████████████████████████████████████████████████████████████████████████████████████████████████               | 46/50 [07:57<00:43, 10.97s/it]"
     ]
    },
    {
     "name": "stdout",
     "output_type": "stream",
     "text": [
      "drums           ==> SDR:   1.650  SIR: 202.421  ISR:   2.720  SAR:  -2.325  \n",
      "bass            ==> SDR:   1.650  SIR: 202.421  ISR:   2.720  SAR:  -2.325  \n",
      "\n"
     ]
    },
    {
     "name": "stderr",
     "output_type": "stream",
     "text": [
      " 94%|██████████████████████████████████████████████████████████████████████████████████████████████████████████████████████████████████████████████████████████████████████████████▊           | 47/50 [08:09<00:33, 11.31s/it]"
     ]
    },
    {
     "name": "stdout",
     "output_type": "stream",
     "text": [
      "drums           ==> SDR:   2.244  SIR: 168.223  ISR:   3.091  SAR:   0.871  \n",
      "bass            ==> SDR:   2.244  SIR: 168.223  ISR:   3.091  SAR:   0.871  \n",
      "\n"
     ]
    },
    {
     "name": "stderr",
     "output_type": "stream",
     "text": [
      " 96%|██████████████████████████████████████████████████████████████████████████████████████████████████████████████████████████████████████████████████████████████████████████████████▌       | 48/50 [08:20<00:22, 11.32s/it]"
     ]
    },
    {
     "name": "stdout",
     "output_type": "stream",
     "text": [
      "drums           ==> SDR:   2.055  SIR: 216.369  ISR:   3.439  SAR:  -1.130  \n",
      "bass            ==> SDR:   2.055  SIR: 216.369  ISR:   3.439  SAR:  -1.130  \n",
      "\n"
     ]
    },
    {
     "name": "stderr",
     "output_type": "stream",
     "text": [
      " 98%|██████████████████████████████████████████████████████████████████████████████████████████████████████████████████████████████████████████████████████████████████████████████████████▎   | 49/50 [08:32<00:11, 11.47s/it]"
     ]
    },
    {
     "name": "stdout",
     "output_type": "stream",
     "text": [
      "drums           ==> SDR:   8.583  SIR: 217.919  ISR:  13.150  SAR:   8.437  \n",
      "bass            ==> SDR:   8.583  SIR: 217.919  ISR:  13.150  SAR:   8.437  \n",
      "\n"
     ]
    },
    {
     "name": "stderr",
     "output_type": "stream",
     "text": [
      "100%|██████████████████████████████████████████████████████████████████████████████████████████████████████████████████████████████████████████████████████████████████████████████████████████| 50/50 [08:43<00:00, 10.47s/it]"
     ]
    },
    {
     "name": "stdout",
     "output_type": "stream",
     "text": [
      "drums           ==> SDR:   4.612  SIR: 206.895  ISR:   6.208  SAR:   3.137  \n",
      "bass            ==> SDR:   4.612  SIR: 206.895  ISR:   6.208  SAR:   3.137  \n",
      "\n"
     ]
    },
    {
     "name": "stderr",
     "output_type": "stream",
     "text": [
      "\n",
      "C:\\Python311\\Lib\\site-packages\\pytorch_lightning\\utilities\\migration\\utils.py:55: The loaded checkpoint was produced with Lightning v2.2.1, which is newer than your current Lightning version: v2.1.2\n",
      "  2%|███▋                                                                                                                                                                                       | 1/50 [00:11<09:09, 11.22s/it]"
     ]
    },
    {
     "name": "stdout",
     "output_type": "stream",
     "text": [
      "drums           ==> SDR:   4.783  SIR: 202.559  ISR:   6.900  SAR:   4.448  \n",
      "bass            ==> SDR:   4.783  SIR: 202.559  ISR:   6.900  SAR:   4.448  \n",
      "\n"
     ]
    },
    {
     "name": "stderr",
     "output_type": "stream",
     "text": [
      "  4%|███████▍                                                                                                                                                                                   | 2/50 [00:22<09:04, 11.35s/it]"
     ]
    },
    {
     "name": "stdout",
     "output_type": "stream",
     "text": [
      "drums           ==> SDR:   1.202  SIR: 182.569  ISR:   2.408  SAR:  -3.165  \n",
      "bass            ==> SDR:   1.202  SIR: 182.569  ISR:   2.408  SAR:  -3.165  \n",
      "\n"
     ]
    },
    {
     "name": "stderr",
     "output_type": "stream",
     "text": [
      "  6%|███████████▏                                                                                                                                                                               | 3/50 [00:32<08:24, 10.74s/it]"
     ]
    },
    {
     "name": "stdout",
     "output_type": "stream",
     "text": [
      "drums           ==> SDR:   2.183  SIR: 228.254  ISR:   3.910  SAR:  -0.063  \n",
      "bass            ==> SDR:   2.183  SIR: 228.254  ISR:   3.910  SAR:  -0.063  \n",
      "\n"
     ]
    },
    {
     "name": "stderr",
     "output_type": "stream",
     "text": [
      "  8%|██████████████▉                                                                                                                                                                            | 4/50 [00:43<08:19, 10.86s/it]"
     ]
    },
    {
     "name": "stdout",
     "output_type": "stream",
     "text": [
      "drums           ==> SDR:   2.036  SIR: 221.468  ISR:   6.127  SAR:   0.015  \n",
      "bass            ==> SDR:   2.036  SIR: 221.468  ISR:   6.127  SAR:   0.015  \n",
      "\n"
     ]
    },
    {
     "name": "stderr",
     "output_type": "stream",
     "text": [
      " 10%|██████████████████▋                                                                                                                                                                        | 5/50 [00:53<07:57, 10.61s/it]"
     ]
    },
    {
     "name": "stdout",
     "output_type": "stream",
     "text": [
      "drums           ==> SDR:   4.549  SIR: 193.366  ISR:   6.357  SAR:   3.673  \n",
      "bass            ==> SDR:   4.549  SIR: 193.366  ISR:   6.357  SAR:   3.673  \n",
      "\n"
     ]
    },
    {
     "name": "stderr",
     "output_type": "stream",
     "text": [
      " 12%|██████████████████████▍                                                                                                                                                                    | 6/50 [01:04<07:50, 10.69s/it]"
     ]
    },
    {
     "name": "stdout",
     "output_type": "stream",
     "text": [
      "drums           ==> SDR:   0.904  SIR: 236.434  ISR:   2.156  SAR:  -1.509  \n",
      "bass            ==> SDR:   0.904  SIR: 236.434  ISR:   2.156  SAR:  -1.509  \n",
      "\n"
     ]
    },
    {
     "name": "stderr",
     "output_type": "stream",
     "text": [
      " 14%|██████████████████████████▏                                                                                                                                                                | 7/50 [01:14<07:26, 10.39s/it]"
     ]
    },
    {
     "name": "stdout",
     "output_type": "stream",
     "text": [
      "drums           ==> SDR:   2.693  SIR: 217.370  ISR:   3.706  SAR:   1.037  \n",
      "bass            ==> SDR:   2.693  SIR: 217.370  ISR:   3.706  SAR:   1.037  \n",
      "\n"
     ]
    },
    {
     "name": "stderr",
     "output_type": "stream",
     "text": [
      " 16%|█████████████████████████████▉                                                                                                                                                             | 8/50 [01:25<07:28, 10.67s/it]"
     ]
    },
    {
     "name": "stdout",
     "output_type": "stream",
     "text": [
      "drums           ==> SDR:   3.643  SIR: 242.964  ISR:   6.601  SAR:   2.219  \n",
      "bass            ==> SDR:   3.643  SIR: 242.964  ISR:   6.601  SAR:   2.219  \n",
      "\n"
     ]
    },
    {
     "name": "stderr",
     "output_type": "stream",
     "text": [
      " 18%|█████████████████████████████████▋                                                                                                                                                         | 9/50 [01:37<07:26, 10.89s/it]"
     ]
    },
    {
     "name": "stdout",
     "output_type": "stream",
     "text": [
      "drums           ==> SDR:   0.445  SIR: 151.011  ISR:   1.189  SAR:  -0.866  \n",
      "bass            ==> SDR:   0.445  SIR: 151.011  ISR:   1.189  SAR:  -0.866  \n",
      "\n"
     ]
    },
    {
     "name": "stderr",
     "output_type": "stream",
     "text": [
      " 20%|█████████████████████████████████████▏                                                                                                                                                    | 10/50 [01:48<07:15, 10.90s/it]"
     ]
    },
    {
     "name": "stdout",
     "output_type": "stream",
     "text": [
      "drums           ==> SDR:  -7.490  SIR: 178.335  ISR:   2.074  SAR: -18.099  \n",
      "bass            ==> SDR:  -7.490  SIR: 178.335  ISR:   2.074  SAR: -18.099  \n",
      "\n"
     ]
    },
    {
     "name": "stderr",
     "output_type": "stream",
     "text": [
      " 22%|████████████████████████████████████████▉                                                                                                                                                 | 11/50 [01:59<07:11, 11.07s/it]"
     ]
    },
    {
     "name": "stdout",
     "output_type": "stream",
     "text": [
      "drums           ==> SDR:   4.758  SIR: 217.278  ISR:   6.363  SAR:   3.968  \n",
      "bass            ==> SDR:   4.758  SIR: 217.278  ISR:   6.363  SAR:   3.968  \n",
      "\n"
     ]
    },
    {
     "name": "stderr",
     "output_type": "stream",
     "text": [
      " 24%|████████████████████████████████████████████▋                                                                                                                                             | 12/50 [02:11<07:06, 11.23s/it]"
     ]
    },
    {
     "name": "stdout",
     "output_type": "stream",
     "text": [
      "drums           ==> SDR:   3.223  SIR: 224.114  ISR:   3.821  SAR:   2.440  \n",
      "bass            ==> SDR:   3.223  SIR: 224.114  ISR:   3.821  SAR:   2.440  \n",
      "\n"
     ]
    },
    {
     "name": "stderr",
     "output_type": "stream",
     "text": [
      " 26%|████████████████████████████████████████████████▎                                                                                                                                         | 13/50 [02:20<06:33, 10.63s/it]"
     ]
    },
    {
     "name": "stdout",
     "output_type": "stream",
     "text": [
      "drums           ==> SDR:   0.003  SIR:  80.278  ISR:   0.360  SAR:  -4.142  \n",
      "bass            ==> SDR:   0.003  SIR:  80.278  ISR:   0.360  SAR:  -4.142  \n",
      "\n"
     ]
    },
    {
     "name": "stderr",
     "output_type": "stream",
     "text": [
      " 28%|████████████████████████████████████████████████████                                                                                                                                      | 14/50 [02:30<06:17, 10.50s/it]"
     ]
    },
    {
     "name": "stdout",
     "output_type": "stream",
     "text": [
      "drums           ==> SDR:   5.170  SIR: 210.251  ISR:   6.627  SAR:   5.713  \n",
      "bass            ==> SDR:   5.170  SIR: 210.251  ISR:   6.627  SAR:   5.713  \n",
      "\n"
     ]
    },
    {
     "name": "stderr",
     "output_type": "stream",
     "text": [
      " 30%|███████████████████████████████████████████████████████▊                                                                                                                                  | 15/50 [02:45<06:52, 11.77s/it]"
     ]
    },
    {
     "name": "stdout",
     "output_type": "stream",
     "text": [
      "drums           ==> SDR:   3.708  SIR: 199.333  ISR:   5.295  SAR:   2.770  \n",
      "bass            ==> SDR:   3.708  SIR: 199.333  ISR:   5.295  SAR:   2.770  \n",
      "\n"
     ]
    },
    {
     "name": "stderr",
     "output_type": "stream",
     "text": [
      " 32%|███████████████████████████████████████████████████████████▌                                                                                                                              | 16/50 [02:58<06:52, 12.14s/it]"
     ]
    },
    {
     "name": "stdout",
     "output_type": "stream",
     "text": [
      "drums           ==> SDR:   3.152  SIR: 214.518  ISR:   4.863  SAR:   1.041  \n",
      "bass            ==> SDR:   3.152  SIR: 214.518  ISR:   4.863  SAR:   1.041  \n",
      "\n"
     ]
    },
    {
     "name": "stderr",
     "output_type": "stream",
     "text": [
      " 34%|███████████████████████████████████████████████████████████████▏                                                                                                                          | 17/50 [03:09<06:34, 11.94s/it]"
     ]
    },
    {
     "name": "stdout",
     "output_type": "stream",
     "text": [
      "drums           ==> SDR:   0.805  SIR: 223.056  ISR:   1.712  SAR:  -5.112  \n",
      "bass            ==> SDR:   0.805  SIR: 223.056  ISR:   1.712  SAR:  -5.112  \n",
      "\n"
     ]
    },
    {
     "name": "stderr",
     "output_type": "stream",
     "text": [
      " 36%|██████████████████████████████████████████████████████████████████▉                                                                                                                       | 18/50 [03:23<06:35, 12.35s/it]"
     ]
    },
    {
     "name": "stdout",
     "output_type": "stream",
     "text": [
      "drums           ==> SDR:   7.777  SIR: 205.218  ISR:   9.229  SAR:   7.151  \n",
      "bass            ==> SDR:   7.777  SIR: 205.218  ISR:   9.229  SAR:   7.151  \n",
      "\n"
     ]
    },
    {
     "name": "stderr",
     "output_type": "stream",
     "text": [
      " 38%|██████████████████████████████████████████████████████████████████████▋                                                                                                                   | 19/50 [03:33<06:03, 11.73s/it]"
     ]
    },
    {
     "name": "stdout",
     "output_type": "stream",
     "text": [
      "drums           ==> SDR:   6.249  SIR: 218.719  ISR:   8.058  SAR:   5.773  \n",
      "bass            ==> SDR:   6.249  SIR: 218.719  ISR:   8.058  SAR:   5.773  \n",
      "\n"
     ]
    },
    {
     "name": "stderr",
     "output_type": "stream",
     "text": [
      " 40%|██████████████████████████████████████████████████████████████████████████▍                                                                                                               | 20/50 [03:43<05:38, 11.30s/it]"
     ]
    },
    {
     "name": "stdout",
     "output_type": "stream",
     "text": [
      "drums           ==> SDR:   0.823  SIR: 221.564  ISR:   1.124  SAR:   2.382  \n",
      "bass            ==> SDR:   0.823  SIR: 221.564  ISR:   1.124  SAR:   2.382  \n",
      "\n"
     ]
    },
    {
     "name": "stderr",
     "output_type": "stream",
     "text": [
      " 42%|██████████████████████████████████████████████████████████████████████████████                                                                                                            | 21/50 [03:54<05:25, 11.22s/it]"
     ]
    },
    {
     "name": "stdout",
     "output_type": "stream",
     "text": [
      "drums           ==> SDR:   3.672  SIR: 183.772  ISR:   4.903  SAR:   2.813  \n",
      "bass            ==> SDR:   3.672  SIR: 183.772  ISR:   4.903  SAR:   2.813  \n",
      "\n"
     ]
    },
    {
     "name": "stderr",
     "output_type": "stream",
     "text": [
      " 44%|█████████████████████████████████████████████████████████████████████████████████▊                                                                                                        | 22/50 [04:06<05:20, 11.44s/it]"
     ]
    },
    {
     "name": "stdout",
     "output_type": "stream",
     "text": [
      "drums           ==> SDR:  -7.737  SIR: 270.551  ISR:   0.878  SAR: -20.347  \n",
      "bass            ==> SDR:  -7.737  SIR: 270.551  ISR:   0.878  SAR: -20.347  \n",
      "\n"
     ]
    },
    {
     "name": "stderr",
     "output_type": "stream",
     "text": [
      " 46%|█████████████████████████████████████████████████████████████████████████████████████▌                                                                                                    | 23/50 [04:19<05:19, 11.85s/it]"
     ]
    },
    {
     "name": "stdout",
     "output_type": "stream",
     "text": [
      "drums           ==> SDR:   1.965  SIR: 164.794  ISR:   2.813  SAR:  -0.555  \n",
      "bass            ==> SDR:   1.965  SIR: 164.794  ISR:   2.813  SAR:  -0.555  \n",
      "\n"
     ]
    },
    {
     "name": "stderr",
     "output_type": "stream",
     "text": [
      " 48%|█████████████████████████████████████████████████████████████████████████████████████████▎                                                                                                | 24/50 [04:31<05:11, 11.98s/it]"
     ]
    },
    {
     "name": "stdout",
     "output_type": "stream",
     "text": [
      "drums           ==> SDR:   2.189  SIR: 128.735  ISR:   3.205  SAR:   0.217  \n",
      "bass            ==> SDR:   2.189  SIR: 128.735  ISR:   3.205  SAR:   0.217  \n",
      "\n"
     ]
    },
    {
     "name": "stderr",
     "output_type": "stream",
     "text": [
      " 50%|█████████████████████████████████████████████████████████████████████████████████████████████                                                                                             | 25/50 [04:43<04:54, 11.77s/it]"
     ]
    },
    {
     "name": "stdout",
     "output_type": "stream",
     "text": [
      "drums           ==> SDR:   1.619  SIR: 220.575  ISR:   3.090  SAR:   0.149  \n",
      "bass            ==> SDR:   1.619  SIR: 220.575  ISR:   3.090  SAR:   0.149  \n",
      "\n"
     ]
    },
    {
     "name": "stderr",
     "output_type": "stream",
     "text": [
      " 52%|████████████████████████████████████████████████████████████████████████████████████████████████▋                                                                                         | 26/50 [04:53<04:31, 11.33s/it]"
     ]
    },
    {
     "name": "stdout",
     "output_type": "stream",
     "text": [
      "drums           ==> SDR:   4.975  SIR: 186.042  ISR:   6.044  SAR:   3.549  \n",
      "bass            ==> SDR:   4.975  SIR: 186.042  ISR:   6.044  SAR:   3.549  \n",
      "\n"
     ]
    },
    {
     "name": "stderr",
     "output_type": "stream",
     "text": [
      " 54%|████████████████████████████████████████████████████████████████████████████████████████████████████▍                                                                                     | 27/50 [05:03<04:12, 10.99s/it]"
     ]
    },
    {
     "name": "stdout",
     "output_type": "stream",
     "text": [
      "drums           ==> SDR:   2.207  SIR: 183.184  ISR:   6.112  SAR:   1.001  \n",
      "bass            ==> SDR:   2.207  SIR: 183.184  ISR:   6.112  SAR:   1.001  \n",
      "\n"
     ]
    },
    {
     "name": "stderr",
     "output_type": "stream",
     "text": [
      " 56%|████████████████████████████████████████████████████████████████████████████████████████████████████████▏                                                                                 | 28/50 [05:13<03:55, 10.71s/it]"
     ]
    },
    {
     "name": "stdout",
     "output_type": "stream",
     "text": [
      "drums           ==> SDR:   3.040  SIR: 190.794  ISR:   3.974  SAR:   2.475  \n",
      "bass            ==> SDR:   3.040  SIR: 190.794  ISR:   3.974  SAR:   2.475  \n",
      "\n"
     ]
    },
    {
     "name": "stderr",
     "output_type": "stream",
     "text": [
      " 58%|███████████████████████████████████████████████████████████████████████████████████████████████████████████▉                                                                              | 29/50 [05:24<03:44, 10.70s/it]"
     ]
    },
    {
     "name": "stdout",
     "output_type": "stream",
     "text": [
      "drums           ==> SDR:   3.434  SIR: 192.461  ISR:   4.634  SAR:   4.560  \n",
      "bass            ==> SDR:   3.434  SIR: 192.461  ISR:   4.634  SAR:   4.560  \n",
      "\n"
     ]
    },
    {
     "name": "stderr",
     "output_type": "stream",
     "text": [
      " 60%|███████████████████████████████████████████████████████████████████████████████████████████████████████████████▌                                                                          | 30/50 [05:36<03:42, 11.11s/it]"
     ]
    },
    {
     "name": "stdout",
     "output_type": "stream",
     "text": [
      "drums           ==> SDR:   3.626  SIR: 215.389  ISR:   4.078  SAR:   2.179  \n",
      "bass            ==> SDR:   3.626  SIR: 215.389  ISR:   4.078  SAR:   2.179  \n",
      "\n"
     ]
    },
    {
     "name": "stderr",
     "output_type": "stream",
     "text": [
      " 62%|███████████████████████████████████████████████████████████████████████████████████████████████████████████████████▎                                                                      | 31/50 [05:46<03:26, 10.86s/it]"
     ]
    },
    {
     "name": "stdout",
     "output_type": "stream",
     "text": [
      "drums           ==> SDR:   0.084  SIR: 194.284  ISR:   2.743  SAR:  -2.470  \n",
      "bass            ==> SDR:   0.084  SIR: 194.284  ISR:   2.743  SAR:  -2.470  \n",
      "\n"
     ]
    },
    {
     "name": "stderr",
     "output_type": "stream",
     "text": [
      " 64%|███████████████████████████████████████████████████████████████████████████████████████████████████████████████████████                                                                   | 32/50 [05:55<03:07, 10.40s/it]"
     ]
    },
    {
     "name": "stdout",
     "output_type": "stream",
     "text": [
      "drums           ==> SDR:   0.373  SIR: 194.203  ISR:   1.588  SAR:  -0.771  \n",
      "bass            ==> SDR:   0.373  SIR: 194.203  ISR:   1.588  SAR:  -0.771  \n",
      "\n"
     ]
    },
    {
     "name": "stderr",
     "output_type": "stream",
     "text": [
      " 66%|██████████████████████████████████████████████████████████████████████████████████████████████████████████████████████████▊                                                               | 33/50 [06:07<03:01, 10.70s/it]"
     ]
    },
    {
     "name": "stdout",
     "output_type": "stream",
     "text": [
      "drums           ==> SDR:   0.509  SIR: 231.629  ISR:   1.347  SAR:  -3.848  \n",
      "bass            ==> SDR:   0.509  SIR: 231.629  ISR:   1.347  SAR:  -3.848  \n",
      "\n"
     ]
    },
    {
     "name": "stderr",
     "output_type": "stream",
     "text": [
      " 68%|██████████████████████████████████████████████████████████████████████████████████████████████████████████████████████████████▍                                                           | 34/50 [06:19<02:58, 11.18s/it]"
     ]
    },
    {
     "name": "stdout",
     "output_type": "stream",
     "text": [
      "drums           ==> SDR:   1.008  SIR: 250.337  ISR:   1.527  SAR:  -3.051  \n",
      "bass            ==> SDR:   1.008  SIR: 250.337  ISR:   1.527  SAR:  -3.051  \n",
      "\n"
     ]
    },
    {
     "name": "stderr",
     "output_type": "stream",
     "text": [
      " 70%|██████████████████████████████████████████████████████████████████████████████████████████████████████████████████████████████████▏                                                       | 35/50 [06:33<02:58, 11.88s/it]"
     ]
    },
    {
     "name": "stdout",
     "output_type": "stream",
     "text": [
      "drums           ==> SDR:   7.029  SIR: 214.453  ISR:   8.547  SAR:   7.679  \n",
      "bass            ==> SDR:   7.029  SIR: 214.453  ISR:   8.547  SAR:   7.679  \n",
      "\n"
     ]
    },
    {
     "name": "stderr",
     "output_type": "stream",
     "text": [
      " 72%|█████████████████████████████████████████████████████████████████████████████████████████████████████████████████████████████████████▉                                                    | 36/50 [06:44<02:44, 11.78s/it]"
     ]
    },
    {
     "name": "stdout",
     "output_type": "stream",
     "text": [
      "drums           ==> SDR:   0.877  SIR: 200.893  ISR:   3.150  SAR:  -2.924  \n",
      "bass            ==> SDR:   0.877  SIR: 200.893  ISR:   3.150  SAR:  -2.924  \n",
      "\n"
     ]
    },
    {
     "name": "stderr",
     "output_type": "stream",
     "text": [
      " 74%|█████████████████████████████████████████████████████████████████████████████████████████████████████████████████████████████████████████▋                                                | 37/50 [06:55<02:29, 11.47s/it]"
     ]
    },
    {
     "name": "stdout",
     "output_type": "stream",
     "text": [
      "drums           ==> SDR:   0.584  SIR: 196.775  ISR:   3.231  SAR:  -0.255  \n",
      "bass            ==> SDR:   0.584  SIR: 196.775  ISR:   3.231  SAR:  -0.255  \n",
      "\n"
     ]
    },
    {
     "name": "stderr",
     "output_type": "stream",
     "text": [
      " 76%|█████████████████████████████████████████████████████████████████████████████████████████████████████████████████████████████████████████████▎                                            | 38/50 [07:06<02:15, 11.28s/it]"
     ]
    },
    {
     "name": "stdout",
     "output_type": "stream",
     "text": [
      "drums           ==> SDR:   5.293  SIR: 222.248  ISR:   5.174  SAR:   2.590  \n",
      "bass            ==> SDR:   5.293  SIR: 222.248  ISR:   5.174  SAR:   2.590  \n",
      "\n"
     ]
    },
    {
     "name": "stderr",
     "output_type": "stream",
     "text": [
      " 78%|█████████████████████████████████████████████████████████████████████████████████████████████████████████████████████████████████████████████████                                         | 39/50 [07:16<02:00, 10.97s/it]"
     ]
    },
    {
     "name": "stdout",
     "output_type": "stream",
     "text": [
      "drums           ==> SDR:   1.664  SIR: 224.726  ISR:   2.392  SAR:   0.740  \n",
      "bass            ==> SDR:   1.664  SIR: 224.726  ISR:   2.392  SAR:   0.740  \n",
      "\n"
     ]
    },
    {
     "name": "stderr",
     "output_type": "stream",
     "text": [
      " 80%|████████████████████████████████████████████████████████████████████████████████████████████████████████████████████████████████████████████████████▊                                     | 40/50 [07:27<01:51, 11.12s/it]"
     ]
    },
    {
     "name": "stdout",
     "output_type": "stream",
     "text": [
      "drums           ==> SDR:   1.384  SIR: 180.418  ISR:   2.931  SAR:  -0.808  \n",
      "bass            ==> SDR:   1.384  SIR: 180.418  ISR:   2.931  SAR:  -0.808  \n",
      "\n"
     ]
    },
    {
     "name": "stderr",
     "output_type": "stream",
     "text": [
      " 82%|████████████████████████████████████████████████████████████████████████████████████████████████████████████████████████████████████████████████████████▌                                 | 41/50 [07:38<01:39, 11.04s/it]"
     ]
    },
    {
     "name": "stdout",
     "output_type": "stream",
     "text": [
      "drums           ==> SDR:   1.195  SIR: 177.027  ISR:   2.682  SAR:  -1.644  \n",
      "bass            ==> SDR:   1.195  SIR: 177.027  ISR:   2.682  SAR:  -1.644  \n",
      "\n"
     ]
    },
    {
     "name": "stderr",
     "output_type": "stream",
     "text": [
      " 84%|████████████████████████████████████████████████████████████████████████████████████████████████████████████████████████████████████████████████████████████▏                             | 42/50 [07:49<01:27, 10.97s/it]"
     ]
    },
    {
     "name": "stdout",
     "output_type": "stream",
     "text": [
      "drums           ==> SDR:   4.192  SIR: 116.971  ISR:   5.358  SAR:   3.416  \n",
      "bass            ==> SDR:   4.192  SIR: 116.971  ISR:   5.358  SAR:   3.416  \n",
      "\n"
     ]
    },
    {
     "name": "stderr",
     "output_type": "stream",
     "text": [
      " 86%|███████████████████████████████████████████████████████████████████████████████████████████████████████████████████████████████████████████████████████████████▉                          | 43/50 [08:00<01:16, 10.99s/it]"
     ]
    },
    {
     "name": "stdout",
     "output_type": "stream",
     "text": [
      "drums           ==> SDR:   2.754  SIR: 186.604  ISR:   3.944  SAR:   0.057  \n",
      "bass            ==> SDR:   2.754  SIR: 186.604  ISR:   3.944  SAR:   0.057  \n",
      "\n"
     ]
    },
    {
     "name": "stderr",
     "output_type": "stream",
     "text": [
      " 88%|███████████████████████████████████████████████████████████████████████████████████████████████████████████████████████████████████████████████████████████████████▋                      | 44/50 [08:10<01:04, 10.73s/it]"
     ]
    },
    {
     "name": "stdout",
     "output_type": "stream",
     "text": [
      "drums           ==> SDR:   0.141  SIR: 207.507  ISR:   0.346  SAR:  -3.975  \n",
      "bass            ==> SDR:   0.141  SIR: 207.507  ISR:   0.346  SAR:  -3.975  \n",
      "\n"
     ]
    },
    {
     "name": "stderr",
     "output_type": "stream",
     "text": [
      " 90%|███████████████████████████████████████████████████████████████████████████████████████████████████████████████████████████████████████████████████████████████████████▍                  | 45/50 [08:21<00:53, 10.70s/it]"
     ]
    },
    {
     "name": "stdout",
     "output_type": "stream",
     "text": [
      "drums           ==> SDR:   0.114  SIR: 206.417  ISR:   0.420  SAR:  -2.837  \n",
      "bass            ==> SDR:   0.114  SIR: 206.417  ISR:   0.420  SAR:  -2.837  \n",
      "\n"
     ]
    },
    {
     "name": "stderr",
     "output_type": "stream",
     "text": [
      " 92%|███████████████████████████████████████████████████████████████████████████████████████████████████████████████████████████████████████████████████████████████████████████               | 46/50 [08:32<00:43, 10.85s/it]"
     ]
    },
    {
     "name": "stdout",
     "output_type": "stream",
     "text": [
      "drums           ==> SDR:   1.234  SIR: 201.256  ISR:   2.192  SAR:  -3.132  \n",
      "bass            ==> SDR:   1.234  SIR: 201.256  ISR:   2.192  SAR:  -3.132  \n",
      "\n"
     ]
    },
    {
     "name": "stderr",
     "output_type": "stream",
     "text": [
      " 94%|██████████████████████████████████████████████████████████████████████████████████████████████████████████████████████████████████████████████████████████████████████████████▊           | 47/50 [08:43<00:32, 10.79s/it]"
     ]
    },
    {
     "name": "stdout",
     "output_type": "stream",
     "text": [
      "drums           ==> SDR:   1.076  SIR: 170.635  ISR:   2.402  SAR:   0.735  \n",
      "bass            ==> SDR:   1.076  SIR: 170.635  ISR:   2.402  SAR:   0.735  \n",
      "\n"
     ]
    },
    {
     "name": "stderr",
     "output_type": "stream",
     "text": [
      " 96%|██████████████████████████████████████████████████████████████████████████████████████████████████████████████████████████████████████████████████████████████████████████████████▌       | 48/50 [08:56<00:22, 11.37s/it]"
     ]
    },
    {
     "name": "stdout",
     "output_type": "stream",
     "text": [
      "drums           ==> SDR:   1.639  SIR: 225.172  ISR:   2.898  SAR:  -1.951  \n",
      "bass            ==> SDR:   1.639  SIR: 225.172  ISR:   2.898  SAR:  -1.951  \n",
      "\n"
     ]
    },
    {
     "name": "stderr",
     "output_type": "stream",
     "text": [
      " 98%|██████████████████████████████████████████████████████████████████████████████████████████████████████████████████████████████████████████████████████████████████████████████████████▎   | 49/50 [09:07<00:11, 11.30s/it]"
     ]
    },
    {
     "name": "stdout",
     "output_type": "stream",
     "text": [
      "drums           ==> SDR:   7.941  SIR: 217.352  ISR:  10.457  SAR:   7.351  \n",
      "bass            ==> SDR:   7.941  SIR: 217.352  ISR:  10.457  SAR:   7.351  \n",
      "\n"
     ]
    },
    {
     "name": "stderr",
     "output_type": "stream",
     "text": [
      "100%|██████████████████████████████████████████████████████████████████████████████████████████████████████████████████████████████████████████████████████████████████████████████████████████| 50/50 [09:17<00:00, 11.15s/it]"
     ]
    },
    {
     "name": "stdout",
     "output_type": "stream",
     "text": [
      "drums           ==> SDR:   3.062  SIR: 211.833  ISR:   4.365  SAR:   1.336  \n",
      "bass            ==> SDR:   3.062  SIR: 211.833  ISR:   4.365  SAR:   1.336  \n",
      "\n"
     ]
    },
    {
     "name": "stderr",
     "output_type": "stream",
     "text": [
      "\n",
      "C:\\Python311\\Lib\\site-packages\\pytorch_lightning\\utilities\\migration\\utils.py:55: The loaded checkpoint was produced with Lightning v2.2.1, which is newer than your current Lightning version: v2.1.2\n",
      "  2%|███▋                                                                                                                                                                                       | 1/50 [00:11<08:59, 11.01s/it]"
     ]
    },
    {
     "name": "stdout",
     "output_type": "stream",
     "text": [
      "drums           ==> SDR:   0.610  SIR: 196.683  ISR:   1.350  SAR:  -2.329  \n",
      "bass            ==> SDR:   0.610  SIR: 196.683  ISR:   1.350  SAR:  -2.329  \n",
      "\n"
     ]
    },
    {
     "name": "stderr",
     "output_type": "stream",
     "text": [
      "  4%|███████▍                                                                                                                                                                                   | 2/50 [00:21<08:43, 10.90s/it]"
     ]
    },
    {
     "name": "stdout",
     "output_type": "stream",
     "text": [
      "drums           ==> SDR:   0.146  SIR: 181.391  ISR:   0.556  SAR:  -8.286  \n",
      "bass            ==> SDR:   0.146  SIR: 181.391  ISR:   0.556  SAR:  -8.286  \n",
      "\n"
     ]
    },
    {
     "name": "stderr",
     "output_type": "stream",
     "text": [
      "  6%|███████████▏                                                                                                                                                                               | 3/50 [00:34<09:02, 11.55s/it]"
     ]
    },
    {
     "name": "stdout",
     "output_type": "stream",
     "text": [
      "drums           ==> SDR:   0.150  SIR: 226.828  ISR:   0.471  SAR:  -5.266  \n",
      "bass            ==> SDR:   0.150  SIR: 226.828  ISR:   0.471  SAR:  -5.266  \n",
      "\n"
     ]
    },
    {
     "name": "stderr",
     "output_type": "stream",
     "text": [
      "  8%|██████████████▉                                                                                                                                                                            | 4/50 [00:44<08:37, 11.26s/it]"
     ]
    },
    {
     "name": "stdout",
     "output_type": "stream",
     "text": [
      "drums           ==> SDR:   1.155  SIR: 224.197  ISR:   2.915  SAR:  -1.666  \n",
      "bass            ==> SDR:   1.155  SIR: 224.197  ISR:   2.915  SAR:  -1.666  \n",
      "\n"
     ]
    },
    {
     "name": "stderr",
     "output_type": "stream",
     "text": [
      " 10%|██████████████████▋                                                                                                                                                                        | 5/50 [00:54<08:06, 10.81s/it]"
     ]
    },
    {
     "name": "stdout",
     "output_type": "stream",
     "text": [
      "drums           ==> SDR:   1.085  SIR: 189.882  ISR:   1.865  SAR:  -1.254  \n",
      "bass            ==> SDR:   1.085  SIR: 189.882  ISR:   1.865  SAR:  -1.254  \n",
      "\n"
     ]
    },
    {
     "name": "stderr",
     "output_type": "stream",
     "text": [
      " 12%|██████████████████████▍                                                                                                                                                                    | 6/50 [01:05<07:50, 10.70s/it]"
     ]
    },
    {
     "name": "stdout",
     "output_type": "stream",
     "text": [
      "drums           ==> SDR:   0.254  SIR: 225.571  ISR:   0.475  SAR:  -4.776  \n",
      "bass            ==> SDR:   0.254  SIR: 225.571  ISR:   0.475  SAR:  -4.776  \n",
      "\n"
     ]
    },
    {
     "name": "stderr",
     "output_type": "stream",
     "text": [
      " 14%|██████████████████████████▏                                                                                                                                                                | 7/50 [01:16<07:43, 10.77s/it]"
     ]
    },
    {
     "name": "stdout",
     "output_type": "stream",
     "text": [
      "drums           ==> SDR:   0.413  SIR: 217.353  ISR:   0.757  SAR:  -2.959  \n",
      "bass            ==> SDR:   0.413  SIR: 217.353  ISR:   0.757  SAR:  -2.959  \n",
      "\n"
     ]
    },
    {
     "name": "stderr",
     "output_type": "stream",
     "text": [
      " 16%|█████████████████████████████▉                                                                                                                                                             | 8/50 [01:27<07:33, 10.80s/it]"
     ]
    },
    {
     "name": "stdout",
     "output_type": "stream",
     "text": [
      "drums           ==> SDR:   1.667  SIR: 238.021  ISR:   2.817  SAR:  -0.446  \n",
      "bass            ==> SDR:   1.667  SIR: 238.021  ISR:   2.817  SAR:  -0.446  \n",
      "\n"
     ]
    },
    {
     "name": "stderr",
     "output_type": "stream",
     "text": [
      " 18%|█████████████████████████████████▋                                                                                                                                                         | 9/50 [01:37<07:22, 10.78s/it]"
     ]
    },
    {
     "name": "stdout",
     "output_type": "stream",
     "text": [
      "drums           ==> SDR:   0.137  SIR: 142.353  ISR:   0.196  SAR:  -4.170  \n",
      "bass            ==> SDR:   0.137  SIR: 142.353  ISR:   0.196  SAR:  -4.170  \n",
      "\n"
     ]
    },
    {
     "name": "stderr",
     "output_type": "stream",
     "text": [
      " 20%|█████████████████████████████████████▏                                                                                                                                                    | 10/50 [01:48<07:06, 10.67s/it]"
     ]
    },
    {
     "name": "stdout",
     "output_type": "stream",
     "text": [
      "drums           ==> SDR:  -7.490  SIR: 180.670  ISR:   0.591  SAR: -27.549  \n",
      "bass            ==> SDR:  -7.490  SIR: 180.670  ISR:   0.591  SAR: -27.549  \n",
      "\n"
     ]
    },
    {
     "name": "stderr",
     "output_type": "stream",
     "text": [
      " 22%|████████████████████████████████████████▉                                                                                                                                                 | 11/50 [01:59<06:58, 10.73s/it]"
     ]
    },
    {
     "name": "stdout",
     "output_type": "stream",
     "text": [
      "drums           ==> SDR:   0.154  SIR: 207.725  ISR:   0.360  SAR:  -2.733  \n",
      "bass            ==> SDR:   0.154  SIR: 207.725  ISR:   0.360  SAR:  -2.733  \n",
      "\n"
     ]
    },
    {
     "name": "stderr",
     "output_type": "stream",
     "text": [
      " 24%|████████████████████████████████████████████▋                                                                                                                                             | 12/50 [02:11<07:05, 11.18s/it]"
     ]
    },
    {
     "name": "stdout",
     "output_type": "stream",
     "text": [
      "drums           ==> SDR:   1.149  SIR: 220.960  ISR:   1.583  SAR:  -1.838  \n",
      "bass            ==> SDR:   1.149  SIR: 220.960  ISR:   1.583  SAR:  -1.838  \n",
      "\n"
     ]
    },
    {
     "name": "stderr",
     "output_type": "stream",
     "text": [
      " 26%|████████████████████████████████████████████████▎                                                                                                                                         | 13/50 [02:21<06:41, 10.86s/it]"
     ]
    },
    {
     "name": "stdout",
     "output_type": "stream",
     "text": [
      "drums           ==> SDR:   0.002  SIR:  66.401  ISR:   0.018  SAR: -16.880  \n",
      "bass            ==> SDR:   0.002  SIR:  66.401  ISR:   0.018  SAR: -16.880  \n",
      "\n"
     ]
    },
    {
     "name": "stderr",
     "output_type": "stream",
     "text": [
      " 28%|████████████████████████████████████████████████████                                                                                                                                      | 14/50 [02:33<06:41, 11.14s/it]"
     ]
    },
    {
     "name": "stdout",
     "output_type": "stream",
     "text": [
      "drums           ==> SDR:   2.045  SIR: 208.867  ISR:   3.003  SAR:   0.876  \n",
      "bass            ==> SDR:   2.045  SIR: 208.867  ISR:   3.003  SAR:   0.876  \n",
      "\n"
     ]
    },
    {
     "name": "stderr",
     "output_type": "stream",
     "text": [
      " 30%|███████████████████████████████████████████████████████▊                                                                                                                                  | 15/50 [02:44<06:30, 11.15s/it]"
     ]
    },
    {
     "name": "stdout",
     "output_type": "stream",
     "text": [
      "drums           ==> SDR:   0.267  SIR: 213.642  ISR:   0.517  SAR:  -4.068  \n",
      "bass            ==> SDR:   0.267  SIR: 213.642  ISR:   0.517  SAR:  -4.068  \n",
      "\n"
     ]
    },
    {
     "name": "stderr",
     "output_type": "stream",
     "text": [
      " 32%|███████████████████████████████████████████████████████████▌                                                                                                                              | 16/50 [02:57<06:37, 11.68s/it]"
     ]
    },
    {
     "name": "stdout",
     "output_type": "stream",
     "text": [
      "drums           ==> SDR:   0.269  SIR: 209.526  ISR:   0.495  SAR:  -6.326  \n",
      "bass            ==> SDR:   0.269  SIR: 209.526  ISR:   0.495  SAR:  -6.326  \n",
      "\n"
     ]
    },
    {
     "name": "stderr",
     "output_type": "stream",
     "text": [
      " 34%|███████████████████████████████████████████████████████████████▏                                                                                                                          | 17/50 [03:08<06:19, 11.49s/it]"
     ]
    },
    {
     "name": "stdout",
     "output_type": "stream",
     "text": [
      "drums           ==> SDR:   0.255  SIR: 216.643  ISR:   0.561  SAR:  -9.125  \n",
      "bass            ==> SDR:   0.255  SIR: 216.643  ISR:   0.561  SAR:  -9.125  \n",
      "\n"
     ]
    },
    {
     "name": "stderr",
     "output_type": "stream",
     "text": [
      " 36%|██████████████████████████████████████████████████████████████████▉                                                                                                                       | 18/50 [03:19<06:06, 11.46s/it]"
     ]
    },
    {
     "name": "stdout",
     "output_type": "stream",
     "text": [
      "drums           ==> SDR:   1.354  SIR: 204.512  ISR:   2.186  SAR:   0.123  \n",
      "bass            ==> SDR:   1.354  SIR: 204.512  ISR:   2.186  SAR:   0.123  \n",
      "\n"
     ]
    },
    {
     "name": "stderr",
     "output_type": "stream",
     "text": [
      " 38%|██████████████████████████████████████████████████████████████████████▋                                                                                                                   | 19/50 [03:31<05:53, 11.39s/it]"
     ]
    },
    {
     "name": "stdout",
     "output_type": "stream",
     "text": [
      "drums           ==> SDR:   1.336  SIR: 213.074  ISR:   1.709  SAR:  -0.408  \n",
      "bass            ==> SDR:   1.336  SIR: 213.074  ISR:   1.709  SAR:  -0.408  \n",
      "\n"
     ]
    },
    {
     "name": "stderr",
     "output_type": "stream",
     "text": [
      " 40%|██████████████████████████████████████████████████████████████████████████▍                                                                                                               | 20/50 [03:42<05:38, 11.27s/it]"
     ]
    },
    {
     "name": "stdout",
     "output_type": "stream",
     "text": [
      "drums           ==> SDR:   0.324  SIR: 217.354  ISR:   0.480  SAR:  -2.272  \n",
      "bass            ==> SDR:   0.324  SIR: 217.354  ISR:   0.480  SAR:  -2.272  \n",
      "\n"
     ]
    },
    {
     "name": "stderr",
     "output_type": "stream",
     "text": [
      " 42%|██████████████████████████████████████████████████████████████████████████████                                                                                                            | 21/50 [03:52<05:22, 11.14s/it]"
     ]
    },
    {
     "name": "stdout",
     "output_type": "stream",
     "text": [
      "drums           ==> SDR:   0.915  SIR: 188.269  ISR:   1.868  SAR:   0.004  \n",
      "bass            ==> SDR:   0.915  SIR: 188.269  ISR:   1.868  SAR:   0.004  \n",
      "\n"
     ]
    },
    {
     "name": "stderr",
     "output_type": "stream",
     "text": [
      " 44%|█████████████████████████████████████████████████████████████████████████████████▊                                                                                                        | 22/50 [04:04<05:11, 11.14s/it]"
     ]
    },
    {
     "name": "stdout",
     "output_type": "stream",
     "text": [
      "drums           ==> SDR:  -7.737  SIR: 270.551  ISR:   0.878  SAR: -20.347  \n",
      "bass            ==> SDR:  -7.737  SIR: 270.551  ISR:   0.878  SAR: -20.347  \n",
      "\n"
     ]
    },
    {
     "name": "stderr",
     "output_type": "stream",
     "text": [
      " 46%|█████████████████████████████████████████████████████████████████████████████████████▌                                                                                                    | 23/50 [04:14<04:52, 10.82s/it]"
     ]
    },
    {
     "name": "stdout",
     "output_type": "stream",
     "text": [
      "drums           ==> SDR:   0.544  SIR: 166.092  ISR:   1.096  SAR:  -3.882  \n",
      "bass            ==> SDR:   0.544  SIR: 166.092  ISR:   1.096  SAR:  -3.882  \n",
      "\n"
     ]
    },
    {
     "name": "stderr",
     "output_type": "stream",
     "text": [
      " 48%|█████████████████████████████████████████████████████████████████████████████████████████▎                                                                                                | 24/50 [04:25<04:43, 10.90s/it]"
     ]
    },
    {
     "name": "stdout",
     "output_type": "stream",
     "text": [
      "drums           ==> SDR:   0.349  SIR: 123.232  ISR:   0.681  SAR:  -4.015  \n",
      "bass            ==> SDR:   0.349  SIR: 123.232  ISR:   0.681  SAR:  -4.015  \n",
      "\n"
     ]
    },
    {
     "name": "stderr",
     "output_type": "stream",
     "text": [
      " 50%|█████████████████████████████████████████████████████████████████████████████████████████████                                                                                             | 25/50 [04:35<04:26, 10.65s/it]"
     ]
    },
    {
     "name": "stdout",
     "output_type": "stream",
     "text": [
      "drums           ==> SDR:   0.587  SIR: 225.154  ISR:   1.418  SAR:  -4.156  \n",
      "bass            ==> SDR:   0.587  SIR: 225.154  ISR:   1.418  SAR:  -4.156  \n",
      "\n"
     ]
    },
    {
     "name": "stderr",
     "output_type": "stream",
     "text": [
      " 52%|████████████████████████████████████████████████████████████████████████████████████████████████▋                                                                                         | 26/50 [04:45<04:09, 10.38s/it]"
     ]
    },
    {
     "name": "stdout",
     "output_type": "stream",
     "text": [
      "drums           ==> SDR:   1.013  SIR: 174.416  ISR:   1.554  SAR:   0.383  \n",
      "bass            ==> SDR:   1.013  SIR: 174.416  ISR:   1.554  SAR:   0.383  \n",
      "\n"
     ]
    },
    {
     "name": "stderr",
     "output_type": "stream",
     "text": [
      " 54%|████████████████████████████████████████████████████████████████████████████████████████████████████▍                                                                                     | 27/50 [04:55<03:55, 10.25s/it]"
     ]
    },
    {
     "name": "stdout",
     "output_type": "stream",
     "text": [
      "drums           ==> SDR:   0.421  SIR: 169.316  ISR:   1.572  SAR:  -0.992  \n",
      "bass            ==> SDR:   0.421  SIR: 169.316  ISR:   1.572  SAR:  -0.992  \n",
      "\n"
     ]
    },
    {
     "name": "stderr",
     "output_type": "stream",
     "text": [
      " 56%|████████████████████████████████████████████████████████████████████████████████████████████████████████▏                                                                                 | 28/50 [05:05<03:50, 10.45s/it]"
     ]
    },
    {
     "name": "stdout",
     "output_type": "stream",
     "text": [
      "drums           ==> SDR:   1.519  SIR: 189.869  ISR:   1.964  SAR:   0.131  \n",
      "bass            ==> SDR:   1.519  SIR: 189.869  ISR:   1.964  SAR:   0.131  \n",
      "\n"
     ]
    },
    {
     "name": "stderr",
     "output_type": "stream",
     "text": [
      " 58%|███████████████████████████████████████████████████████████████████████████████████████████████████████████▉                                                                              | 29/50 [05:15<03:36, 10.31s/it]"
     ]
    },
    {
     "name": "stdout",
     "output_type": "stream",
     "text": [
      "drums           ==> SDR:   0.949  SIR: 192.109  ISR:   1.219  SAR:  -1.937  \n",
      "bass            ==> SDR:   0.949  SIR: 192.109  ISR:   1.219  SAR:  -1.937  \n",
      "\n"
     ]
    },
    {
     "name": "stderr",
     "output_type": "stream",
     "text": [
      " 60%|███████████████████████████████████████████████████████████████████████████████████████████████████████████████▌                                                                          | 30/50 [05:26<03:25, 10.26s/it]"
     ]
    },
    {
     "name": "stdout",
     "output_type": "stream",
     "text": [
      "drums           ==> SDR:   0.770  SIR: 208.648  ISR:   1.053  SAR:  -2.762  \n",
      "bass            ==> SDR:   0.770  SIR: 208.648  ISR:   1.053  SAR:  -2.762  \n",
      "\n"
     ]
    },
    {
     "name": "stderr",
     "output_type": "stream",
     "text": [
      " 62%|███████████████████████████████████████████████████████████████████████████████████████████████████████████████████▎                                                                      | 31/50 [05:36<03:14, 10.22s/it]"
     ]
    },
    {
     "name": "stdout",
     "output_type": "stream",
     "text": [
      "drums           ==> SDR:   0.004  SIR: 192.736  ISR:   1.144  SAR:  -9.775  \n",
      "bass            ==> SDR:   0.004  SIR: 192.736  ISR:   1.144  SAR:  -9.775  \n",
      "\n"
     ]
    },
    {
     "name": "stderr",
     "output_type": "stream",
     "text": [
      " 64%|███████████████████████████████████████████████████████████████████████████████████████████████████████████████████████                                                                   | 32/50 [05:46<03:02, 10.11s/it]"
     ]
    },
    {
     "name": "stdout",
     "output_type": "stream",
     "text": [
      "drums           ==> SDR:   0.111  SIR: 182.455  ISR:   0.230  SAR:  -3.840  \n",
      "bass            ==> SDR:   0.111  SIR: 182.455  ISR:   0.230  SAR:  -3.840  \n",
      "\n"
     ]
    },
    {
     "name": "stderr",
     "output_type": "stream",
     "text": [
      " 66%|██████████████████████████████████████████████████████████████████████████████████████████████████████████████████████████▊                                                               | 33/50 [05:56<02:51, 10.08s/it]"
     ]
    },
    {
     "name": "stdout",
     "output_type": "stream",
     "text": [
      "drums           ==> SDR:   0.093  SIR: 220.994  ISR:   0.322  SAR:  -5.232  \n",
      "bass            ==> SDR:   0.093  SIR: 220.994  ISR:   0.322  SAR:  -5.232  \n",
      "\n"
     ]
    },
    {
     "name": "stderr",
     "output_type": "stream",
     "text": [
      " 68%|██████████████████████████████████████████████████████████████████████████████████████████████████████████████████████████████▍                                                           | 34/50 [06:06<02:42, 10.15s/it]"
     ]
    },
    {
     "name": "stdout",
     "output_type": "stream",
     "text": [
      "drums           ==> SDR:   0.132  SIR: 240.901  ISR:   0.222  SAR:  -5.339  \n",
      "bass            ==> SDR:   0.132  SIR: 240.901  ISR:   0.222  SAR:  -5.339  \n",
      "\n"
     ]
    },
    {
     "name": "stderr",
     "output_type": "stream",
     "text": [
      " 70%|██████████████████████████████████████████████████████████████████████████████████████████████████████████████████████████████████▏                                                       | 35/50 [06:16<02:30, 10.05s/it]"
     ]
    },
    {
     "name": "stdout",
     "output_type": "stream",
     "text": [
      "drums           ==> SDR:   2.560  SIR: 209.595  ISR:   3.319  SAR:   1.621  \n",
      "bass            ==> SDR:   2.560  SIR: 209.595  ISR:   3.319  SAR:   1.621  \n",
      "\n"
     ]
    },
    {
     "name": "stderr",
     "output_type": "stream",
     "text": [
      " 72%|█████████████████████████████████████████████████████████████████████████████████████████████████████████████████████████████████████▉                                                    | 36/50 [06:26<02:19, 10.00s/it]"
     ]
    },
    {
     "name": "stdout",
     "output_type": "stream",
     "text": [
      "drums           ==> SDR:   0.225  SIR: 195.504  ISR:   0.751  SAR:  -8.868  \n",
      "bass            ==> SDR:   0.225  SIR: 195.504  ISR:   0.751  SAR:  -8.868  \n",
      "\n"
     ]
    },
    {
     "name": "stderr",
     "output_type": "stream",
     "text": [
      " 74%|█████████████████████████████████████████████████████████████████████████████████████████████████████████████████████████████████████████▋                                                | 37/50 [06:36<02:10, 10.02s/it]"
     ]
    },
    {
     "name": "stdout",
     "output_type": "stream",
     "text": [
      "drums           ==> SDR:   0.100  SIR: 203.764  ISR:   1.075  SAR:  -1.934  \n",
      "bass            ==> SDR:   0.100  SIR: 203.764  ISR:   1.075  SAR:  -1.934  \n",
      "\n"
     ]
    },
    {
     "name": "stderr",
     "output_type": "stream",
     "text": [
      " 76%|█████████████████████████████████████████████████████████████████████████████████████████████████████████████████████████████████████████████▎                                            | 38/50 [06:46<02:00, 10.01s/it]"
     ]
    },
    {
     "name": "stdout",
     "output_type": "stream",
     "text": [
      "drums           ==> SDR:   0.633  SIR: 219.631  ISR:   1.087  SAR:  -2.346  \n",
      "bass            ==> SDR:   0.633  SIR: 219.631  ISR:   1.087  SAR:  -2.346  \n",
      "\n"
     ]
    },
    {
     "name": "stderr",
     "output_type": "stream",
     "text": [
      " 78%|█████████████████████████████████████████████████████████████████████████████████████████████████████████████████████████████████████████████████                                         | 39/50 [06:56<01:50, 10.02s/it]"
     ]
    },
    {
     "name": "stdout",
     "output_type": "stream",
     "text": [
      "drums           ==> SDR:   0.212  SIR: 221.367  ISR:   0.413  SAR:  -3.231  \n",
      "bass            ==> SDR:   0.212  SIR: 221.367  ISR:   0.413  SAR:  -3.231  \n",
      "\n"
     ]
    },
    {
     "name": "stderr",
     "output_type": "stream",
     "text": [
      " 80%|████████████████████████████████████████████████████████████████████████████████████████████████████████████████████████████████████████████████████▊                                     | 40/50 [07:06<01:41, 10.18s/it]"
     ]
    },
    {
     "name": "stdout",
     "output_type": "stream",
     "text": [
      "drums           ==> SDR:   0.574  SIR: 170.605  ISR:   0.608  SAR:  -7.556  \n",
      "bass            ==> SDR:   0.574  SIR: 170.605  ISR:   0.608  SAR:  -7.556  \n",
      "\n"
     ]
    },
    {
     "name": "stderr",
     "output_type": "stream",
     "text": [
      " 82%|████████████████████████████████████████████████████████████████████████████████████████████████████████████████████████████████████████████████████████▌                                 | 41/50 [07:16<01:31, 10.11s/it]"
     ]
    },
    {
     "name": "stdout",
     "output_type": "stream",
     "text": [
      "drums           ==> SDR:   0.137  SIR: 173.935  ISR:   0.902  SAR:  -7.434  \n",
      "bass            ==> SDR:   0.137  SIR: 173.935  ISR:   0.902  SAR:  -7.434  \n",
      "\n"
     ]
    },
    {
     "name": "stderr",
     "output_type": "stream",
     "text": [
      " 84%|████████████████████████████████████████████████████████████████████████████████████████████████████████████████████████████████████████████████████████████▏                             | 42/50 [07:27<01:21, 10.19s/it]"
     ]
    },
    {
     "name": "stdout",
     "output_type": "stream",
     "text": [
      "drums           ==> SDR:   0.665  SIR: 114.800  ISR:   1.187  SAR:  -2.469  \n",
      "bass            ==> SDR:   0.665  SIR: 114.800  ISR:   1.187  SAR:  -2.469  \n",
      "\n"
     ]
    },
    {
     "name": "stderr",
     "output_type": "stream",
     "text": [
      " 86%|███████████████████████████████████████████████████████████████████████████████████████████████████████████████████████████████████████████████████████████████▉                          | 43/50 [07:36<01:10, 10.04s/it]"
     ]
    },
    {
     "name": "stdout",
     "output_type": "stream",
     "text": [
      "drums           ==> SDR:   0.145  SIR: 163.472  ISR:   0.359  SAR:  -5.840  \n",
      "bass            ==> SDR:   0.145  SIR: 163.472  ISR:   0.359  SAR:  -5.840  \n",
      "\n"
     ]
    },
    {
     "name": "stderr",
     "output_type": "stream",
     "text": [
      " 88%|███████████████████████████████████████████████████████████████████████████████████████████████████████████████████████████████████████████████████████████████████▋                      | 44/50 [07:46<00:59,  9.88s/it]"
     ]
    },
    {
     "name": "stdout",
     "output_type": "stream",
     "text": [
      "drums           ==> SDR:   0.081  SIR: 204.182  ISR:   0.133  SAR:  -6.287  \n",
      "bass            ==> SDR:   0.081  SIR: 204.182  ISR:   0.133  SAR:  -6.287  \n",
      "\n"
     ]
    },
    {
     "name": "stderr",
     "output_type": "stream",
     "text": [
      " 90%|███████████████████████████████████████████████████████████████████████████████████████████████████████████████████████████████████████████████████████████████████████▍                  | 45/50 [07:56<00:49,  9.93s/it]"
     ]
    },
    {
     "name": "stdout",
     "output_type": "stream",
     "text": [
      "drums           ==> SDR:   0.057  SIR: 200.655  ISR:   0.092  SAR:  -5.682  \n",
      "bass            ==> SDR:   0.057  SIR: 200.655  ISR:   0.092  SAR:  -5.682  \n",
      "\n"
     ]
    },
    {
     "name": "stderr",
     "output_type": "stream",
     "text": [
      " 92%|███████████████████████████████████████████████████████████████████████████████████████████████████████████████████████████████████████████████████████████████████████████               | 46/50 [08:06<00:39,  9.98s/it]"
     ]
    },
    {
     "name": "stdout",
     "output_type": "stream",
     "text": [
      "drums           ==> SDR:   0.423  SIR: 208.113  ISR:   1.034  SAR:  -7.579  \n",
      "bass            ==> SDR:   0.423  SIR: 208.113  ISR:   1.034  SAR:  -7.579  \n",
      "\n"
     ]
    },
    {
     "name": "stderr",
     "output_type": "stream",
     "text": [
      " 94%|██████████████████████████████████████████████████████████████████████████████████████████████████████████████████████████████████████████████████████████████████████████████▊           | 47/50 [08:15<00:29,  9.79s/it]"
     ]
    },
    {
     "name": "stdout",
     "output_type": "stream",
     "text": [
      "drums           ==> SDR:   0.473  SIR: 158.496  ISR:   0.947  SAR:  -2.968  \n",
      "bass            ==> SDR:   0.473  SIR: 158.496  ISR:   0.947  SAR:  -2.968  \n",
      "\n"
     ]
    },
    {
     "name": "stderr",
     "output_type": "stream",
     "text": [
      " 96%|██████████████████████████████████████████████████████████████████████████████████████████████████████████████████████████████████████████████████████████████████████████████████▌       | 48/50 [08:25<00:19,  9.89s/it]"
     ]
    },
    {
     "name": "stdout",
     "output_type": "stream",
     "text": [
      "drums           ==> SDR:   0.251  SIR: 219.220  ISR:   0.484  SAR:  -7.691  \n",
      "bass            ==> SDR:   0.251  SIR: 219.220  ISR:   0.484  SAR:  -7.691  \n",
      "\n"
     ]
    },
    {
     "name": "stderr",
     "output_type": "stream",
     "text": [
      " 98%|██████████████████████████████████████████████████████████████████████████████████████████████████████████████████████████████████████████████████████████████████████████████████████▎   | 49/50 [08:35<00:09,  9.87s/it]"
     ]
    },
    {
     "name": "stdout",
     "output_type": "stream",
     "text": [
      "drums           ==> SDR:   2.285  SIR: 210.253  ISR:   3.187  SAR:  -0.490  \n",
      "bass            ==> SDR:   2.285  SIR: 210.253  ISR:   3.187  SAR:  -0.490  \n",
      "\n"
     ]
    },
    {
     "name": "stderr",
     "output_type": "stream",
     "text": [
      "100%|██████████████████████████████████████████████████████████████████████████████████████████████████████████████████████████████████████████████████████████████████████████████████████████| 50/50 [08:45<00:00, 10.52s/it]"
     ]
    },
    {
     "name": "stdout",
     "output_type": "stream",
     "text": [
      "drums           ==> SDR:   0.411  SIR: 204.887  ISR:   0.703  SAR:  -3.897  \n",
      "bass            ==> SDR:   0.411  SIR: 204.887  ISR:   0.703  SAR:  -3.897  \n",
      "\n"
     ]
    },
    {
     "name": "stderr",
     "output_type": "stream",
     "text": [
      "\n"
     ]
    }
   ],
   "source": [
    "# for fold in range(3):\n",
    "for accuracy in [1.0, 0.9, 0.8, 0.7, 0.6, 0.5, 0.4, 0.3, 0.2, 0.1, 0]:\n",
    "    for name in ['epoch_280']:\n",
    "        #try:\n",
    "        output_path = f\"D:/Github/phd-drum-sep/rebuttal_experiments/htdemucs/results_{name}_{accuracy}_drop/\"\n",
    "        \n",
    "        try:\n",
    "            os.mkdir(output_path)\n",
    "        except:\n",
    "            pass\n",
    "    \n",
    "        model = DrumHybridDemucs.load_from_checkpoint(f'D:/Github/phd-drum-sep/analysis/ht_demucs_small_analysis/checkpoint/{name}.ckpt')\n",
    "        # model.to('cpu')\n",
    "        model = model.eval()\n",
    "        \n",
    "        mus = musdb.DB(root=\"D:/Github/phd-drum-sep/Data/musdb18_stems/\", subsets=\"test\") \n",
    "        \n",
    "        results = museval.EvalStore(frames_agg='median', tracks_agg='median')\n",
    "        for track in tqdm(mus):\n",
    "            try:\n",
    "                path = \"D:/Github/phd-drum-sep/Data/musdb18hq/\"\n",
    "                audio_path = path + 'test/' + track.name + \"/\"\n",
    "            \n",
    "            \n",
    "                mixture_tensor = load_audio(audio_path, start_point,'mixture.wav').unsqueeze(0).to(model.device)[:,:,:duration]\n",
    "                drum_tensor = load_audio(audio_path, start_point,'drums.wav').unsqueeze(0).to(model.device)[:,:,:duration]\n",
    "                shape = mixture_tensor.shape[2]\n",
    "                roll_tensor = load_roll(audio_path, start_point, shape, accuracy).unsqueeze(0).to(model.device)[:,:,:duration]\n",
    "            \n",
    "                seperated = separate_sources(model, mixture_tensor, roll_tensor, device='cuda')\n",
    "            \n",
    "                \n",
    "                audio = seperated.squeeze(0).cpu().numpy()\n",
    "                audio = np.swapaxes(audio,0,1)\n",
    "                estimates = {'drums': audio, 'bass': audio}\n",
    "            \n",
    "                d = drum_tensor.squeeze(0).cpu().numpy()\n",
    "                d = np.swapaxes(d,0,1)\n",
    "                \n",
    "                track.targets['drums'] = AudioData(d)\n",
    "                track.targets['bass'] = AudioData(d)\n",
    "                \n",
    "                scores = museval.eval_mus_track(\n",
    "                    track, estimates, output_dir=f\"{output_path}\"\n",
    "                )\n",
    "            \n",
    "                print(scores)\n",
    "                results.add_track(scores)\n",
    "                gc.collect()\n",
    "            except Exception as e:\n",
    "                print(e)\n",
    "                pass\n",
    "        \n",
    "        results.df.to_csv(f\"{output_path}results.csv\")\n",
    "    \n",
    "        del model\n",
    "        del mus\n",
    "        \n",
    "        # except Exception as e:\n",
    "        #     print('error with model, skipping', name, e)"
   ]
  },
  {
   "cell_type": "code",
   "execution_count": 16,
   "id": "ff3d97f7-2804-4b99-adcb-5adeb7dc9d7d",
   "metadata": {},
   "outputs": [
    {
     "data": {
      "text/plain": [
       "['__class__',\n",
       " '__delattr__',\n",
       " '__dict__',\n",
       " '__dir__',\n",
       " '__doc__',\n",
       " '__eq__',\n",
       " '__format__',\n",
       " '__ge__',\n",
       " '__getattribute__',\n",
       " '__getstate__',\n",
       " '__gt__',\n",
       " '__hash__',\n",
       " '__init__',\n",
       " '__init_subclass__',\n",
       " '__le__',\n",
       " '__lt__',\n",
       " '__module__',\n",
       " '__ne__',\n",
       " '__new__',\n",
       " '__reduce__',\n",
       " '__reduce_ex__',\n",
       " '__repr__',\n",
       " '__setattr__',\n",
       " '__sizeof__',\n",
       " '__str__',\n",
       " '__subclasshook__',\n",
       " '__weakref__',\n",
       " 'add_eval_dir',\n",
       " 'add_track',\n",
       " 'agg_frames_scores',\n",
       " 'agg_frames_tracks_scores',\n",
       " 'df',\n",
       " 'frames_agg',\n",
       " 'load',\n",
       " 'save',\n",
       " 'tracks_agg']"
      ]
     },
     "execution_count": 16,
     "metadata": {},
     "output_type": "execute_result"
    }
   ],
   "source": [
    "dir(results)"
   ]
  },
  {
   "cell_type": "code",
   "execution_count": 17,
   "id": "6cd0a0c5-a825-44cb-94e7-9fef9dcc91fb",
   "metadata": {},
   "outputs": [
    {
     "data": {
      "text/plain": [
       "(target  metric\n",
       " bass    ISR         0.890170\n",
       "         SAR        -3.861265\n",
       "         SDR         0.379808\n",
       "         SIR       204.699285\n",
       " drums   ISR         0.890170\n",
       "         SAR        -3.861265\n",
       "         SDR         0.379808\n",
       "         SIR       204.699285\n",
       " Name: score, dtype: float64,)"
      ]
     },
     "execution_count": 17,
     "metadata": {},
     "output_type": "execute_result"
    }
   ],
   "source": [
    "results.agg_frames_tracks_scores(), "
   ]
  },
  {
   "cell_type": "code",
   "execution_count": 18,
   "id": "246b6f4f-d272-4105-aef9-26757a4c3b4f",
   "metadata": {},
   "outputs": [],
   "source": [
    "r = results.agg_frames_scores().to_dict()"
   ]
  },
  {
   "cell_type": "code",
   "execution_count": 19,
   "id": "d600d210-0015-462f-8dc5-4c5888589fe3",
   "metadata": {},
   "outputs": [
    {
     "name": "stdout",
     "output_type": "stream",
     "text": [
      "0.3798075\n"
     ]
    }
   ],
   "source": [
    "sdrs = []\n",
    "for key in list(r.keys()):\n",
    "    if 'SDR' in key:\n",
    "        sdrs.append(r[key])\n",
    "\n",
    "print(np.median(sdrs))"
   ]
  },
  {
   "cell_type": "code",
   "execution_count": null,
   "id": "58db3f19-21c2-4daf-bdf1-eb25814ec5d7",
   "metadata": {},
   "outputs": [],
   "source": []
  }
 ],
 "metadata": {
  "kernelspec": {
   "display_name": "Python 3 (ipykernel)",
   "language": "python",
   "name": "python3"
  },
  "language_info": {
   "codemirror_mode": {
    "name": "ipython",
    "version": 3
   },
   "file_extension": ".py",
   "mimetype": "text/x-python",
   "name": "python",
   "nbconvert_exporter": "python",
   "pygments_lexer": "ipython3",
   "version": "3.11.4"
  }
 },
 "nbformat": 4,
 "nbformat_minor": 5
}
