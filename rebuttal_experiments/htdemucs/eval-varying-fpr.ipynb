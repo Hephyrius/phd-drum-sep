{
 "cells": [
  {
   "cell_type": "markdown",
   "id": "20b2a3bb-3d01-4f42-bc37-dff46522af7f",
   "metadata": {},
   "source": [
    "# Imports"
   ]
  },
  {
   "cell_type": "code",
   "execution_count": 1,
   "id": "71d686e6-8847-4861-88f0-58141c363862",
   "metadata": {},
   "outputs": [
    {
     "name": "stdout",
     "output_type": "stream",
     "text": [
      "True\n"
     ]
    }
   ],
   "source": [
    "import os\n",
    "import pywt\n",
    "import torch\n",
    "import torch.nn as nn\n",
    "import torch.nn.functional as F\n",
    "import torchaudio\n",
    "import pytorch_lightning as pl\n",
    "from torch.utils.data import DataLoader, Dataset\n",
    "from torchaudio.pipelines import HDEMUCS_HIGH_MUSDB\n",
    "import torch.optim as optim\n",
    "from torch.utils.data import Dataset, DataLoader\n",
    "import torchaudio\n",
    "import numpy as np\n",
    "import random\n",
    "from pytorch_lightning.loggers import WandbLogger\n",
    "import wandb\n",
    "import auraloss\n",
    "import collections\n",
    "from tqdm import tqdm\n",
    "import pretty_midi\n",
    "import matplotlib.pyplot as plt\n",
    "from torchaudio.pipelines import HDEMUCS_HIGH_MUSDB\n",
    "print(torch.cuda.is_available())\n",
    "import plotly.graph_objects as go\n",
    "from torch.optim import lr_scheduler\n",
    "from IPython.display import Audio\n",
    "from torchaudio.transforms import Fade\n",
    "import musdb\n",
    "import museval\n",
    "import gc\n",
    "from demucs import pretrained, htdemucs"
   ]
  },
  {
   "cell_type": "code",
   "execution_count": 2,
   "id": "275ddd3f-aa3d-4444-8ddd-c8874bac940c",
   "metadata": {},
   "outputs": [
    {
     "name": "stdout",
     "output_type": "stream",
     "text": [
      "True\n"
     ]
    }
   ],
   "source": [
    "\n",
    "import os\n",
    "import torch\n",
    "import torch.nn as nn\n",
    "import torch.nn.functional as F\n",
    "import torchaudio\n",
    "import pytorch_lightning as pl\n",
    "from torch.utils.data import DataLoader, Dataset\n",
    "from torchaudio.pipelines import HDEMUCS_HIGH_MUSDB\n",
    "import torch.optim as optim\n",
    "from torch.utils.data import Dataset, DataLoader\n",
    "import torchaudio\n",
    "import numpy as np\n",
    "import random\n",
    "from pytorch_lightning.loggers import WandbLogger\n",
    "import subprocess\n",
    "import wandb\n",
    "import auraloss\n",
    "import collections\n",
    "from tqdm import tqdm\n",
    "import librosa\n",
    "from torchaudio.pipelines import HDEMUCS_HIGH_MUSDB\n",
    "print(torch.cuda.is_available())\n",
    "from torch.optim import lr_scheduler\n",
    "import pretty_midi\n",
    "from typing import Optional, Tuple\n",
    "import numpy as np\n",
    "import random"
   ]
  },
  {
   "cell_type": "markdown",
   "id": "e1c82506-04c8-4200-9e63-26857aa176bd",
   "metadata": {},
   "source": [
    "# Set Seeds"
   ]
  },
  {
   "cell_type": "code",
   "execution_count": 3,
   "id": "db3acd3b-d177-44d3-a3f4-35140f45e48a",
   "metadata": {},
   "outputs": [],
   "source": [
    "seed_value = 3407\n",
    "torch.manual_seed(seed_value)\n",
    "random.seed(seed_value)\n",
    "np.random.seed(seed_value)\n",
    "torch.cuda.manual_seed(seed_value)\n",
    "torch.cuda.manual_seed_all(seed_value)\n",
    "torch.set_float32_matmul_precision('high')"
   ]
  },
  {
   "cell_type": "markdown",
   "id": "6182916a-aec1-4c05-8a08-4d2e44dfd979",
   "metadata": {},
   "source": [
    "# Construct Teh Datas"
   ]
  },
  {
   "cell_type": "code",
   "execution_count": 4,
   "id": "dbe5ef07-9ab9-4e3e-9334-048f67ae25e4",
   "metadata": {},
   "outputs": [],
   "source": [
    "path = \"D:/Github/phd-drum-sep/Data/musdb18hq/\""
   ]
  },
  {
   "cell_type": "code",
   "execution_count": 5,
   "id": "e101d3bb-e001-42ff-90cc-42384739d506",
   "metadata": {},
   "outputs": [
    {
     "data": {
      "text/plain": [
       "['test', 'train']"
      ]
     },
     "execution_count": 5,
     "metadata": {},
     "output_type": "execute_result"
    }
   ],
   "source": [
    "os.listdir(path)"
   ]
  },
  {
   "cell_type": "code",
   "execution_count": 6,
   "id": "c52ab99f-41d2-4b7f-a179-90681a8a0a81",
   "metadata": {},
   "outputs": [],
   "source": [
    "train = list(os.listdir(path+'train'))\n",
    "test = list(os.listdir(path+'test'))"
   ]
  },
  {
   "cell_type": "code",
   "execution_count": 7,
   "id": "21aa39ee-b25f-4bdc-950a-9389eb93765a",
   "metadata": {},
   "outputs": [],
   "source": [
    "sources = ['drum', 'bass', 'other', 'vocals']"
   ]
  },
  {
   "cell_type": "code",
   "execution_count": 8,
   "id": "f07f7f9c-2d6b-42b9-b5ac-0f4bd9aeb6a7",
   "metadata": {},
   "outputs": [
    {
     "name": "stderr",
     "output_type": "stream",
     "text": [
      "50it [00:00, 4540.57it/s]\n"
     ]
    }
   ],
   "source": [
    "all_scenes = {}\n",
    "counter = 0\n",
    "sample_rate = 44100\n",
    "segment_length = sample_rate * 1\n",
    "\n",
    "for idx, val in tqdm(enumerate(test)):\n",
    "    p = path + 'test/' + val + \"/\"\n",
    "    info = torchaudio.info(f\"{p}mixture.wav\")\n",
    "    seconds = info.num_frames // 44100\n",
    "    for i in range(0, seconds - 1, 1):\n",
    "        start_point = i * 44100\n",
    "        if start_point + 44100 < info.num_frames:\n",
    "            all_scenes[counter] = {'music_path': p, 'start_point': start_point, 'length': 44100, 'frames' : info.num_frames}\n",
    "            counter += 1"
   ]
  },
  {
   "cell_type": "code",
   "execution_count": 9,
   "id": "d6d4eb9a-f08d-4452-a4ad-b9769a218278",
   "metadata": {},
   "outputs": [],
   "source": [
    "import numpy as np\n",
    "import random\n",
    "def turn_transcription_into_roll(transcription, frames, false_positive_rate=0.0):\n",
    "    \"\"\"\n",
    "    Convert transcription into a piano roll, selectively including notes based on a threshold,\n",
    "    and introduce false positives based on the false positive rate.\n",
    "    \n",
    "    Args:\n",
    "        transcription (music21.stream.Score): The transcription data.\n",
    "        frames (int): The number of frames in the output roll.\n",
    "        threshold (float): The threshold for including a note (0.0 to 1.0).\n",
    "        false_positive_rate (float): The rate at which false positives are introduced (0.0 to 1.0).\n",
    "    \n",
    "    Returns:\n",
    "        np.ndarray: The piano roll representation of the transcription.\n",
    "    \"\"\"\n",
    "    # Determine your sampling frequency (frames per second)\n",
    "    fs = 44100\n",
    "    \n",
    "    piano_roll_length = int(frames)\n",
    "    \n",
    "    # Initialize the piano roll array\n",
    "    piano_roll = np.zeros((64, piano_roll_length))\n",
    "    \n",
    "    # Fill in the piano roll array with true notes\n",
    "    for note in transcription.instruments[0].notes:\n",
    "        # Convert start and end times to frame indices\n",
    "        start_frame = int(np.floor(note.start * fs))\n",
    "        end_frame = int(np.ceil(note.end * fs))\n",
    "        \n",
    "        # Set the corresponding frames to 1 (or note.velocity for a velocity-sensitive representation)\n",
    "        piano_roll[note.pitch, start_frame:end_frame] = 1  # Or use note.velocity\n",
    "    \n",
    "    # Introduce false positives\n",
    "    num_false_positives = int(false_positive_rate * len(transcription.instruments[0].notes))\n",
    "    for _ in range(num_false_positives):\n",
    "        random_pitch = random.choice([35, 38, 42, 47, 49])\n",
    "        random_start_frame = random.randint(0, piano_roll_length - int(fs * 0.15))\n",
    "        random_duration = random.randint(int(fs * 0.05), int(fs * 0.15))  # Random duration up to 0.1 seconds\n",
    "        random_end_frame = min(random_start_frame + random_duration, piano_roll_length)\n",
    "        \n",
    "        # Set the false positive frames to 1\n",
    "        piano_roll[random_pitch, random_start_frame:random_end_frame] = 1\n",
    "    \n",
    "    roll = np.vstack([\n",
    "        piano_roll[35:36, :],  # Kick\n",
    "        piano_roll[38:39, :],  # Snare\n",
    "        piano_roll[42:43, :],  # Hi-hat closed\n",
    "        piano_roll[47:48, :],  # Hi-hat open\n",
    "        piano_roll[49:50, :]   # Crash\n",
    "    ])\n",
    "    \n",
    "    return roll"
   ]
  },
  {
   "cell_type": "markdown",
   "id": "20988d30-a95e-4dca-ac19-a6f7cea95717",
   "metadata": {},
   "source": [
    "# model"
   ]
  },
  {
   "cell_type": "code",
   "execution_count": 10,
   "id": "b72a57b5-7115-421d-b26e-3ca3d21fef5d",
   "metadata": {},
   "outputs": [],
   "source": [
    "\n",
    "\n",
    "# # making the model\n",
    "class NewSDRLoss(nn.Module):\n",
    "    \"\"\"\n",
    "    New Signal-to-Distortion Ratio (SDR) loss module based on the MDX challenge definition.\n",
    "\n",
    "    Args:\n",
    "        reduction (str, optional): Specifies the reduction to apply to the output:\n",
    "            'none': no reduction will be applied,\n",
    "            'mean': the mean of the output will be calculated,\n",
    "            'sum': the sum of the output will be calculated. Default: 'mean'.\n",
    "    \"\"\"\n",
    "    def __init__(self, reduction='mean'):\n",
    "        super(NewSDRLoss, self).__init__()\n",
    "        self.reduction = reduction\n",
    "\n",
    "    def forward(self, estimates, references):\n",
    "        \"\"\"\n",
    "        Computes the SDR loss between the estimated and reference signals.\n",
    "\n",
    "        Args:\n",
    "            estimates (Tensor): Estimated signals, shape (batch, channels, height, width).\n",
    "            references (Tensor): Reference signals, shape (batch, channels, height, width).\n",
    "\n",
    "        Returns:\n",
    "            Tensor: The calculated SDR loss.\n",
    "        \"\"\"\n",
    "        assert references.dim() == 4 and estimates.dim() == 4, \"Inputs must be 4D tensors.\"\n",
    "\n",
    "        delta = 1e-7  # Avoid numerical errors\n",
    "        num = torch.sum(torch.square(references), dim=(2, 3))\n",
    "        den = torch.sum(torch.square(references - estimates), dim=(2, 3))\n",
    "        num += delta\n",
    "        den += delta\n",
    "        scores = 10 * torch.log10(num / den)\n",
    "\n",
    "        if self.reduction == 'mean':\n",
    "            return -scores.mean()\n",
    "        elif self.reduction == 'sum':\n",
    "            return -scores.sum()\n",
    "        else:  # 'none'\n",
    "            return -scores\n",
    "        \n",
    "class DrumHybridDemucs(pl.LightningModule):\n",
    "    def __init__(self):\n",
    "        super(DrumHybridDemucs, self).__init__()\n",
    "\n",
    "        self.loss_fn = auraloss.freq.MultiResolutionSTFTLoss(\n",
    "                    fft_sizes=[1024, 2048, 4096],\n",
    "                    hop_sizes=[256, 512, 1024],\n",
    "                    win_lengths=[1024, 2048, 4096],\n",
    "                    scale=\"mel\", \n",
    "                    n_bins=150,\n",
    "                    sample_rate=44100,\n",
    "                    device=\"cuda\"\n",
    "                )\n",
    "\n",
    "        self.loss_fn_2 = auraloss.time.SISDRLoss()\n",
    "\n",
    "        self.loss_fn_3 = torch.nn.L1Loss()\n",
    "\n",
    "        self.loss_fn_4 = NewSDRLoss()\n",
    "\n",
    "        self.loss_used = 0\n",
    "\n",
    "        sources = ['drum',\n",
    "                   'noise',\n",
    "                   ]\n",
    "        \n",
    "        self.demucs_mixer = htdemucs.HTDemucs(sources=sources, audio_channels=7)\n",
    "\n",
    "        self.out_conv = nn.Conv1d(in_channels=7, out_channels=2, kernel_size=1)\n",
    "        self.out = nn.Conv1d(in_channels=2, out_channels=2, kernel_size=1)      \n",
    "\n",
    "\n",
    "    def compute_loss(self, outputs, ref_signals):\n",
    "        # loss = self.loss_fn(outputs, ref_signals) + self.loss_fn_2(outputs, ref_signals) +  self.loss_fn_3(outputs, ref_signals)\n",
    "        loss = self.loss_fn_4(outputs.unsqueeze(2), ref_signals.unsqueeze(2))\n",
    "        return loss\n",
    "    \n",
    "    def forward(self, audio, drumroll):\n",
    "        to_mix = torch.cat([audio, drumroll], axis=1)\n",
    "        out = self.demucs_mixer(to_mix)\n",
    "        out_2 = self.out_conv(out[:, 0, :, :])\n",
    "        out_2 = self.out(out_2)\n",
    "        # out_2 = torch.tanh(out_2)\n",
    "\n",
    "        return out_2\n",
    "    \n",
    "    def training_step(self, batch, batch_idx):\n",
    "        # training_step defines the train loop. It is independent of forward\n",
    "        audio, drum, drumroll = batch\n",
    "        \n",
    "        outputs = self.forward(audio, drumroll)\n",
    "        # print(outputs.size())\n",
    "\n",
    "        if batch_idx % 256 == 0:\n",
    "            input_signal = audio[0].cpu().detach().numpy().T\n",
    "            generated_signal = outputs[0].cpu().detach().numpy().T\n",
    "            drum_signal = drum[0].cpu().detach().numpy().T \n",
    "            wandb.log({'audio_input': [wandb.Audio(input_signal, caption=\"Input\", sample_rate=44100)]})\n",
    "            wandb.log({'audio_reference': [wandb.Audio(drum_signal, caption=\"Reference\", sample_rate=44100)]})\n",
    "            wandb.log({'audio_output': [wandb.Audio(generated_signal, caption=\"Output\", sample_rate=44100)]})\n",
    "             \n",
    "            for i in range(5):\n",
    "                wandb.log({f'drum_{i + 1}': [wandb.Audio(drumroll[0].cpu().detach().numpy()[i, :], caption=\"Output\", sample_rate=44100)]})\n",
    "\n",
    "\n",
    "        loss = self.compute_loss(outputs, drum)         \n",
    "\n",
    "        self.log('train_loss', loss, on_step=True, on_epoch=True, prog_bar=True, logger=True)\n",
    "        \n",
    "        return loss\n",
    "    \n",
    "\n",
    "    def configure_optimizers(self):\n",
    "        # Define your optimizer and optionally learning rate scheduler here\n",
    "        optimizer = optim.Adam(self.parameters(), lr=0.001)\n",
    "        scheduler = lr_scheduler.StepLR(optimizer, step_size=1, gamma=0.99)\n",
    "        return [optimizer], [scheduler]\n",
    "        \n"
   ]
  },
  {
   "cell_type": "code",
   "execution_count": 11,
   "id": "79d11190-4e68-41f8-ae19-36d8199c1643",
   "metadata": {},
   "outputs": [],
   "source": [
    "def load_audio(path, start_point, filename):\n",
    "    audio_tensors = []\n",
    "    waveform, _ = torchaudio.load(f\"{path}/{filename}\")\n",
    "    return waveform\n",
    "\n",
    "def load_roll(path, start_point, frames, threshold=1.0):\n",
    "    midi = path + '/mixture.wav.mid'\n",
    "    transcription = pretty_midi.PrettyMIDI(midi)\n",
    "    roll = turn_transcription_into_roll(transcription, frames, threshold)\n",
    "\n",
    "    return torch.from_numpy(roll).float()\n"
   ]
  },
  {
   "cell_type": "markdown",
   "id": "28a00457-307d-4743-9784-9f4cdae73730",
   "metadata": {},
   "source": [
    "# SISNR"
   ]
  },
  {
   "cell_type": "code",
   "execution_count": 12,
   "id": "3873fcee-a3cb-4975-98f5-fc50e77883fa",
   "metadata": {},
   "outputs": [],
   "source": [
    "def separate_sources(\n",
    "    model,\n",
    "    mix,\n",
    "    drumroll,\n",
    "    segment=4.0,\n",
    "    overlap=0,\n",
    "    device=None,\n",
    "):\n",
    "    \"\"\"\n",
    "    Apply model to a given mixture. Use fade, and add segments together in order to add model segment by segment.\n",
    "\n",
    "    Args:\n",
    "        segment (int): segment length in seconds\n",
    "        device (torch.device, str, or None): if provided, device on which to\n",
    "            execute the computation, otherwise `mix.device` is assumed.\n",
    "            When `device` is different from `mix.device`, only local computations will\n",
    "            be on `device`, while the entire tracks will be stored on `mix.device`.\n",
    "    \"\"\"\n",
    "    if device is None:\n",
    "        device = mix.device\n",
    "    else:\n",
    "        device = torch.device(device)\n",
    "\n",
    "    batch, channels, length = mix.shape\n",
    "\n",
    "    chunk_len = int(sample_rate * segment * (1 + overlap))\n",
    "    start = 0\n",
    "    end = chunk_len\n",
    "    overlap_frames = overlap * sample_rate\n",
    "    fade = Fade(fade_in_len=0, fade_out_len=int(overlap_frames), fade_shape=\"linear\")\n",
    "\n",
    "    final = torch.zeros(batch, channels, length, device=device)\n",
    "\n",
    "    while start < length - overlap_frames:\n",
    "        chunk = mix[:, :, start:end]\n",
    "        roll = drumroll[:, :, start:end]\n",
    "        \n",
    "        with torch.no_grad():\n",
    "            out = model.forward(chunk, roll)\n",
    "        # print(out.shape)\n",
    "        out = fade(out)\n",
    "        # print(out.shape)\n",
    "        try:\n",
    "            final[:, :, start:end] += out\n",
    "        except:\n",
    "            pass\n",
    "        if start == 0:\n",
    "            fade.fade_in_len = int(overlap_frames)\n",
    "            start += int(chunk_len - overlap_frames)\n",
    "        else:\n",
    "            start += chunk_len\n",
    "        end += chunk_len\n",
    "        if end >= length:\n",
    "            fade.fade_out_len = 0\n",
    "    return final"
   ]
  },
  {
   "cell_type": "code",
   "execution_count": 13,
   "id": "b97a63a5-d58e-47db-9768-e063efd5da5a",
   "metadata": {},
   "outputs": [],
   "source": [
    "class AudioData:\n",
    "    def __init__(self, audio):\n",
    "        self.audio = audio"
   ]
  },
  {
   "cell_type": "code",
   "execution_count": 14,
   "id": "0bc5296c-89cf-4321-98dd-5ed9ca7d325a",
   "metadata": {},
   "outputs": [],
   "source": [
    "duration = 64 * 44100"
   ]
  },
  {
   "cell_type": "code",
   "execution_count": 15,
   "id": "bcf06e62-3267-4faf-838f-70f14be50e92",
   "metadata": {},
   "outputs": [
    {
     "name": "stderr",
     "output_type": "stream",
     "text": [
      "C:\\Python311\\Lib\\site-packages\\pytorch_lightning\\utilities\\migration\\utils.py:55: The loaded checkpoint was produced with Lightning v2.2.1, which is newer than your current Lightning version: v2.1.2\n",
      "  2%|███▋                                                                                                                                                                                       | 1/50 [00:13<10:44, 13.16s/it]"
     ]
    },
    {
     "name": "stdout",
     "output_type": "stream",
     "text": [
      "drums           ==> SDR:   7.846  SIR: 208.312  ISR:  11.792  SAR:   6.746  \n",
      "bass            ==> SDR:   7.846  SIR: 208.312  ISR:  11.792  SAR:   6.746  \n",
      "\n"
     ]
    },
    {
     "name": "stderr",
     "output_type": "stream",
     "text": [
      "  4%|███████▍                                                                                                                                                                                   | 2/50 [00:23<09:07, 11.40s/it]"
     ]
    },
    {
     "name": "stdout",
     "output_type": "stream",
     "text": [
      "drums           ==> SDR:   3.260  SIR: 188.591  ISR:   8.278  SAR:   0.684  \n",
      "bass            ==> SDR:   3.260  SIR: 188.591  ISR:   8.278  SAR:   0.684  \n",
      "\n"
     ]
    },
    {
     "name": "stderr",
     "output_type": "stream",
     "text": [
      "  6%|███████████▏                                                                                                                                                                               | 3/50 [00:33<08:30, 10.87s/it]"
     ]
    },
    {
     "name": "stdout",
     "output_type": "stream",
     "text": [
      "drums           ==> SDR:   4.486  SIR: 230.891  ISR:   9.962  SAR:   3.299  \n",
      "bass            ==> SDR:   4.486  SIR: 230.891  ISR:   9.962  SAR:   3.299  \n",
      "\n"
     ]
    },
    {
     "name": "stderr",
     "output_type": "stream",
     "text": [
      "  8%|██████████████▉                                                                                                                                                                            | 4/50 [00:43<08:07, 10.60s/it]"
     ]
    },
    {
     "name": "stdout",
     "output_type": "stream",
     "text": [
      "drums           ==> SDR:   1.520  SIR: 225.056  ISR:  13.079  SAR:  -0.239  \n",
      "bass            ==> SDR:   1.520  SIR: 225.056  ISR:  13.079  SAR:  -0.239  \n",
      "\n"
     ]
    },
    {
     "name": "stderr",
     "output_type": "stream",
     "text": [
      " 10%|██████████████████▋                                                                                                                                                                        | 5/50 [00:54<07:52, 10.50s/it]"
     ]
    },
    {
     "name": "stdout",
     "output_type": "stream",
     "text": [
      "drums           ==> SDR:   9.277  SIR: 195.948  ISR:  14.877  SAR:   9.242  \n",
      "bass            ==> SDR:   9.277  SIR: 195.948  ISR:  14.877  SAR:   9.242  \n",
      "\n"
     ]
    },
    {
     "name": "stderr",
     "output_type": "stream",
     "text": [
      " 12%|██████████████████████▍                                                                                                                                                                    | 6/50 [01:04<07:37, 10.41s/it]"
     ]
    },
    {
     "name": "stdout",
     "output_type": "stream",
     "text": [
      "drums           ==> SDR:   5.252  SIR: 232.166  ISR:   9.508  SAR:   4.463  \n",
      "bass            ==> SDR:   5.252  SIR: 232.166  ISR:   9.508  SAR:   4.463  \n",
      "\n"
     ]
    },
    {
     "name": "stderr",
     "output_type": "stream",
     "text": [
      " 14%|██████████████████████████▏                                                                                                                                                                | 7/50 [01:14<07:23, 10.31s/it]"
     ]
    },
    {
     "name": "stdout",
     "output_type": "stream",
     "text": [
      "drums           ==> SDR:   5.500  SIR: 222.108  ISR:  11.378  SAR:   4.647  \n",
      "bass            ==> SDR:   5.500  SIR: 222.108  ISR:  11.378  SAR:   4.647  \n",
      "\n"
     ]
    },
    {
     "name": "stderr",
     "output_type": "stream",
     "text": [
      " 16%|█████████████████████████████▉                                                                                                                                                             | 8/50 [01:24<07:11, 10.26s/it]"
     ]
    },
    {
     "name": "stdout",
     "output_type": "stream",
     "text": [
      "drums           ==> SDR:   4.285  SIR: 242.646  ISR:  10.333  SAR:   2.987  \n",
      "bass            ==> SDR:   4.285  SIR: 242.646  ISR:  10.333  SAR:   2.987  \n",
      "\n"
     ]
    },
    {
     "name": "stderr",
     "output_type": "stream",
     "text": [
      " 18%|█████████████████████████████████▋                                                                                                                                                         | 9/50 [01:35<07:03, 10.33s/it]"
     ]
    },
    {
     "name": "stdout",
     "output_type": "stream",
     "text": [
      "drums           ==> SDR:   6.272  SIR: 168.253  ISR:   9.190  SAR:   5.848  \n",
      "bass            ==> SDR:   6.272  SIR: 168.253  ISR:   9.190  SAR:   5.848  \n",
      "\n"
     ]
    },
    {
     "name": "stderr",
     "output_type": "stream",
     "text": [
      " 20%|█████████████████████████████████████▏                                                                                                                                                    | 10/50 [01:45<06:53, 10.33s/it]"
     ]
    },
    {
     "name": "stdout",
     "output_type": "stream",
     "text": [
      "drums           ==> SDR: -18.450  SIR: 180.244  ISR:   7.644  SAR: -21.520  \n",
      "bass            ==> SDR: -18.450  SIR: 180.244  ISR:   7.644  SAR: -21.520  \n",
      "\n"
     ]
    },
    {
     "name": "stderr",
     "output_type": "stream",
     "text": [
      " 22%|████████████████████████████████████████▉                                                                                                                                                 | 11/50 [01:56<06:52, 10.57s/it]"
     ]
    },
    {
     "name": "stdout",
     "output_type": "stream",
     "text": [
      "drums           ==> SDR:   9.779  SIR: 222.451  ISR:  14.510  SAR:   9.975  \n",
      "bass            ==> SDR:   9.779  SIR: 222.451  ISR:  14.510  SAR:   9.975  \n",
      "\n"
     ]
    },
    {
     "name": "stderr",
     "output_type": "stream",
     "text": [
      " 24%|████████████████████████████████████████████▋                                                                                                                                             | 12/50 [02:06<06:37, 10.46s/it]"
     ]
    },
    {
     "name": "stdout",
     "output_type": "stream",
     "text": [
      "drums           ==> SDR:   6.375  SIR: 227.078  ISR:   7.898  SAR:   6.923  \n",
      "bass            ==> SDR:   6.375  SIR: 227.078  ISR:   7.898  SAR:   6.923  \n",
      "\n"
     ]
    },
    {
     "name": "stderr",
     "output_type": "stream",
     "text": [
      " 26%|████████████████████████████████████████████████▎                                                                                                                                         | 13/50 [02:16<06:16, 10.17s/it]"
     ]
    },
    {
     "name": "stdout",
     "output_type": "stream",
     "text": [
      "drums           ==> SDR:   1.599  SIR:  86.865  ISR:   2.248  SAR:   0.235  \n",
      "bass            ==> SDR:   1.599  SIR:  86.865  ISR:   2.248  SAR:   0.235  \n",
      "\n"
     ]
    },
    {
     "name": "stderr",
     "output_type": "stream",
     "text": [
      " 28%|████████████████████████████████████████████████████                                                                                                                                      | 14/50 [02:27<06:13, 10.38s/it]"
     ]
    },
    {
     "name": "stdout",
     "output_type": "stream",
     "text": [
      "drums           ==> SDR:   8.061  SIR: 211.434  ISR:  12.580  SAR:   8.259  \n",
      "bass            ==> SDR:   8.061  SIR: 211.434  ISR:  12.580  SAR:   8.259  \n",
      "\n"
     ]
    },
    {
     "name": "stderr",
     "output_type": "stream",
     "text": [
      " 30%|███████████████████████████████████████████████████████▊                                                                                                                                  | 15/50 [02:37<06:05, 10.44s/it]"
     ]
    },
    {
     "name": "stdout",
     "output_type": "stream",
     "text": [
      "drums           ==> SDR:   6.686  SIR: 207.970  ISR:  12.300  SAR:   5.980  \n",
      "bass            ==> SDR:   6.686  SIR: 207.970  ISR:  12.300  SAR:   5.980  \n",
      "\n"
     ]
    },
    {
     "name": "stderr",
     "output_type": "stream",
     "text": [
      " 32%|███████████████████████████████████████████████████████████▌                                                                                                                              | 16/50 [02:47<05:49, 10.29s/it]"
     ]
    },
    {
     "name": "stdout",
     "output_type": "stream",
     "text": [
      "drums           ==> SDR:   4.354  SIR: 208.998  ISR:   8.485  SAR:   2.411  \n",
      "bass            ==> SDR:   4.354  SIR: 208.998  ISR:   8.485  SAR:   2.411  \n",
      "\n"
     ]
    },
    {
     "name": "stderr",
     "output_type": "stream",
     "text": [
      " 34%|███████████████████████████████████████████████████████████████▏                                                                                                                          | 17/50 [02:57<05:38, 10.25s/it]"
     ]
    },
    {
     "name": "stdout",
     "output_type": "stream",
     "text": [
      "drums           ==> SDR:   2.498  SIR: 220.053  ISR:   5.998  SAR:  -0.341  \n",
      "bass            ==> SDR:   2.498  SIR: 220.053  ISR:   5.998  SAR:  -0.341  \n",
      "\n"
     ]
    },
    {
     "name": "stderr",
     "output_type": "stream",
     "text": [
      " 36%|██████████████████████████████████████████████████████████████████▉                                                                                                                       | 18/50 [03:07<05:26, 10.20s/it]"
     ]
    },
    {
     "name": "stdout",
     "output_type": "stream",
     "text": [
      "drums           ==> SDR:  10.178  SIR: 201.229  ISR:  14.453  SAR:  10.611  \n",
      "bass            ==> SDR:  10.178  SIR: 201.229  ISR:  14.453  SAR:  10.611  \n",
      "\n"
     ]
    },
    {
     "name": "stderr",
     "output_type": "stream",
     "text": [
      " 38%|██████████████████████████████████████████████████████████████████████▋                                                                                                                   | 19/50 [03:18<05:16, 10.20s/it]"
     ]
    },
    {
     "name": "stdout",
     "output_type": "stream",
     "text": [
      "drums           ==> SDR:   9.473  SIR: 223.751  ISR:  18.877  SAR:   9.148  \n",
      "bass            ==> SDR:   9.473  SIR: 223.751  ISR:  18.877  SAR:   9.148  \n",
      "\n"
     ]
    },
    {
     "name": "stderr",
     "output_type": "stream",
     "text": [
      " 40%|██████████████████████████████████████████████████████████████████████████▍                                                                                                               | 20/50 [03:28<05:04, 10.15s/it]"
     ]
    },
    {
     "name": "stdout",
     "output_type": "stream",
     "text": [
      "drums           ==> SDR:   1.257  SIR: 215.009  ISR:   1.684  SAR:   5.795  \n",
      "bass            ==> SDR:   1.257  SIR: 215.009  ISR:   1.684  SAR:   5.795  \n",
      "\n"
     ]
    },
    {
     "name": "stderr",
     "output_type": "stream",
     "text": [
      " 42%|██████████████████████████████████████████████████████████████████████████████                                                                                                            | 21/50 [03:38<04:53, 10.11s/it]"
     ]
    },
    {
     "name": "stdout",
     "output_type": "stream",
     "text": [
      "drums           ==> SDR:   7.834  SIR: 191.701  ISR:  12.577  SAR:   7.712  \n",
      "bass            ==> SDR:   7.834  SIR: 191.701  ISR:  12.577  SAR:   7.712  \n",
      "\n"
     ]
    },
    {
     "name": "stderr",
     "output_type": "stream",
     "text": [
      " 44%|█████████████████████████████████████████████████████████████████████████████████▊                                                                                                        | 22/50 [03:48<04:41, 10.07s/it]"
     ]
    },
    {
     "name": "stdout",
     "output_type": "stream",
     "text": [
      "drums           ==> SDR:  -9.473  SIR: 271.010  ISR:   1.152  SAR: -21.576  \n",
      "bass            ==> SDR:  -9.473  SIR: 271.010  ISR:   1.152  SAR: -21.576  \n",
      "\n"
     ]
    },
    {
     "name": "stderr",
     "output_type": "stream",
     "text": [
      " 46%|█████████████████████████████████████████████████████████████████████████████████████▌                                                                                                    | 23/50 [03:57<04:28,  9.95s/it]"
     ]
    },
    {
     "name": "stdout",
     "output_type": "stream",
     "text": [
      "drums           ==> SDR:   4.322  SIR: 169.612  ISR:   8.445  SAR:   2.997  \n",
      "bass            ==> SDR:   4.322  SIR: 169.612  ISR:   8.445  SAR:   2.997  \n",
      "\n"
     ]
    },
    {
     "name": "stderr",
     "output_type": "stream",
     "text": [
      " 48%|█████████████████████████████████████████████████████████████████████████████████████████▎                                                                                                | 24/50 [04:07<04:18,  9.96s/it]"
     ]
    },
    {
     "name": "stdout",
     "output_type": "stream",
     "text": [
      "drums           ==> SDR:   7.270  SIR: 134.172  ISR:  12.142  SAR:   7.068  \n",
      "bass            ==> SDR:   7.270  SIR: 134.172  ISR:  12.142  SAR:   7.068  \n",
      "\n"
     ]
    },
    {
     "name": "stderr",
     "output_type": "stream",
     "text": [
      " 50%|█████████████████████████████████████████████████████████████████████████████████████████████                                                                                             | 25/50 [04:17<04:11, 10.04s/it]"
     ]
    },
    {
     "name": "stdout",
     "output_type": "stream",
     "text": [
      "drums           ==> SDR:   3.630  SIR: 226.214  ISR:   8.518  SAR:   2.169  \n",
      "bass            ==> SDR:   3.630  SIR: 226.214  ISR:   8.518  SAR:   2.169  \n",
      "\n"
     ]
    },
    {
     "name": "stderr",
     "output_type": "stream",
     "text": [
      " 52%|████████████████████████████████████████████████████████████████████████████████████████████████▋                                                                                         | 26/50 [04:27<03:59,  9.99s/it]"
     ]
    },
    {
     "name": "stdout",
     "output_type": "stream",
     "text": [
      "drums           ==> SDR:  11.828  SIR: 187.158  ISR:  18.163  SAR:  11.839  \n",
      "bass            ==> SDR:  11.828  SIR: 187.158  ISR:  18.163  SAR:  11.839  \n",
      "\n"
     ]
    },
    {
     "name": "stderr",
     "output_type": "stream",
     "text": [
      " 54%|████████████████████████████████████████████████████████████████████████████████████████████████████▍                                                                                     | 27/50 [04:37<03:50, 10.02s/it]"
     ]
    },
    {
     "name": "stdout",
     "output_type": "stream",
     "text": [
      "drums           ==> SDR:   7.254  SIR: 192.489  ISR:  16.464  SAR:   6.875  \n",
      "bass            ==> SDR:   7.254  SIR: 192.489  ISR:  16.464  SAR:   6.875  \n",
      "\n"
     ]
    },
    {
     "name": "stderr",
     "output_type": "stream",
     "text": [
      " 56%|████████████████████████████████████████████████████████████████████████████████████████████████████████▏                                                                                 | 28/50 [04:48<03:45, 10.25s/it]"
     ]
    },
    {
     "name": "stdout",
     "output_type": "stream",
     "text": [
      "drums           ==> SDR:  10.214  SIR: 187.600  ISR:  12.775  SAR:  11.114  \n",
      "bass            ==> SDR:  10.214  SIR: 187.600  ISR:  12.775  SAR:  11.114  \n",
      "\n"
     ]
    },
    {
     "name": "stderr",
     "output_type": "stream",
     "text": [
      " 58%|███████████████████████████████████████████████████████████████████████████████████████████████████████████▉                                                                              | 29/50 [04:59<03:39, 10.45s/it]"
     ]
    },
    {
     "name": "stdout",
     "output_type": "stream",
     "text": [
      "drums           ==> SDR:   5.404  SIR: 189.119  ISR:   7.088  SAR:   7.193  \n",
      "bass            ==> SDR:   5.404  SIR: 189.119  ISR:   7.088  SAR:   7.193  \n",
      "\n"
     ]
    },
    {
     "name": "stderr",
     "output_type": "stream",
     "text": [
      " 60%|███████████████████████████████████████████████████████████████████████████████████████████████████████████████▌                                                                          | 30/50 [05:10<03:34, 10.71s/it]"
     ]
    },
    {
     "name": "stdout",
     "output_type": "stream",
     "text": [
      "drums           ==> SDR:   6.747  SIR: 215.336  ISR:  11.757  SAR:   6.495  \n",
      "bass            ==> SDR:   6.747  SIR: 215.336  ISR:  11.757  SAR:   6.495  \n",
      "\n"
     ]
    },
    {
     "name": "stderr",
     "output_type": "stream",
     "text": [
      " 62%|███████████████████████████████████████████████████████████████████████████████████████████████████████████████████▎                                                                      | 31/50 [05:21<03:23, 10.73s/it]"
     ]
    },
    {
     "name": "stdout",
     "output_type": "stream",
     "text": [
      "drums           ==> SDR:   2.817  SIR: 201.068  ISR:  10.242  SAR:   1.108  \n",
      "bass            ==> SDR:   2.817  SIR: 201.068  ISR:  10.242  SAR:   1.108  \n",
      "\n"
     ]
    },
    {
     "name": "stderr",
     "output_type": "stream",
     "text": [
      " 64%|███████████████████████████████████████████████████████████████████████████████████████████████████████████████████████                                                                   | 32/50 [05:32<03:10, 10.61s/it]"
     ]
    },
    {
     "name": "stdout",
     "output_type": "stream",
     "text": [
      "drums           ==> SDR:   1.603  SIR: 192.219  ISR:   5.334  SAR:   1.712  \n",
      "bass            ==> SDR:   1.603  SIR: 192.219  ISR:   5.334  SAR:   1.712  \n",
      "\n"
     ]
    },
    {
     "name": "stderr",
     "output_type": "stream",
     "text": [
      " 66%|██████████████████████████████████████████████████████████████████████████████████████████████████████████████████████████▊                                                               | 33/50 [05:43<03:04, 10.82s/it]"
     ]
    },
    {
     "name": "stdout",
     "output_type": "stream",
     "text": [
      "drums           ==> SDR:   2.427  SIR: 224.210  ISR:   5.974  SAR:  -0.212  \n",
      "bass            ==> SDR:   2.427  SIR: 224.210  ISR:   5.974  SAR:  -0.212  \n",
      "\n"
     ]
    },
    {
     "name": "stderr",
     "output_type": "stream",
     "text": [
      " 68%|██████████████████████████████████████████████████████████████████████████████████████████████████████████████████████████████▍                                                           | 34/50 [05:54<02:53, 10.86s/it]"
     ]
    },
    {
     "name": "stdout",
     "output_type": "stream",
     "text": [
      "drums           ==> SDR:   4.871  SIR: 248.254  ISR:   8.497  SAR:   3.728  \n",
      "bass            ==> SDR:   4.871  SIR: 248.254  ISR:   8.497  SAR:   3.728  \n",
      "\n"
     ]
    },
    {
     "name": "stderr",
     "output_type": "stream",
     "text": [
      " 70%|██████████████████████████████████████████████████████████████████████████████████████████████████████████████████████████████████▏                                                       | 35/50 [06:04<02:41, 10.77s/it]"
     ]
    },
    {
     "name": "stdout",
     "output_type": "stream",
     "text": [
      "drums           ==> SDR:   9.250  SIR: 215.197  ISR:  13.626  SAR:   9.465  \n",
      "bass            ==> SDR:   9.250  SIR: 215.197  ISR:  13.626  SAR:   9.465  \n",
      "\n"
     ]
    },
    {
     "name": "stderr",
     "output_type": "stream",
     "text": [
      " 72%|█████████████████████████████████████████████████████████████████████████████████████████████████████████████████████████████████████▉                                                    | 36/50 [06:15<02:29, 10.70s/it]"
     ]
    },
    {
     "name": "stdout",
     "output_type": "stream",
     "text": [
      "drums           ==> SDR:   2.208  SIR: 203.746  ISR:   7.464  SAR:  -0.389  \n",
      "bass            ==> SDR:   2.208  SIR: 203.746  ISR:   7.464  SAR:  -0.389  \n",
      "\n"
     ]
    },
    {
     "name": "stderr",
     "output_type": "stream",
     "text": [
      " 74%|█████████████████████████████████████████████████████████████████████████████████████████████████████████████████████████████████████████▋                                                | 37/50 [06:27<02:23, 11.04s/it]"
     ]
    },
    {
     "name": "stdout",
     "output_type": "stream",
     "text": [
      "drums           ==> SDR:   4.480  SIR: 200.254  ISR:  11.083  SAR:   2.851  \n",
      "bass            ==> SDR:   4.480  SIR: 200.254  ISR:  11.083  SAR:   2.851  \n",
      "\n"
     ]
    },
    {
     "name": "stderr",
     "output_type": "stream",
     "text": [
      " 76%|█████████████████████████████████████████████████████████████████████████████████████████████████████████████████████████████████████████████▎                                            | 38/50 [06:38<02:14, 11.23s/it]"
     ]
    },
    {
     "name": "stdout",
     "output_type": "stream",
     "text": [
      "drums           ==> SDR:   7.947  SIR: 220.897  ISR:  10.000  SAR:   5.222  \n",
      "bass            ==> SDR:   7.947  SIR: 220.897  ISR:  10.000  SAR:   5.222  \n",
      "\n"
     ]
    },
    {
     "name": "stderr",
     "output_type": "stream",
     "text": [
      " 78%|█████████████████████████████████████████████████████████████████████████████████████████████████████████████████████████████████████████████████                                         | 39/50 [06:49<02:02, 11.11s/it]"
     ]
    },
    {
     "name": "stdout",
     "output_type": "stream",
     "text": [
      "drums           ==> SDR:   4.916  SIR: 226.329  ISR:   7.089  SAR:   5.685  \n",
      "bass            ==> SDR:   4.916  SIR: 226.329  ISR:   7.089  SAR:   5.685  \n",
      "\n"
     ]
    },
    {
     "name": "stderr",
     "output_type": "stream",
     "text": [
      " 80%|████████████████████████████████████████████████████████████████████████████████████████████████████████████████████████████████████████████████████▊                                     | 40/50 [07:00<01:49, 10.99s/it]"
     ]
    },
    {
     "name": "stdout",
     "output_type": "stream",
     "text": [
      "drums           ==> SDR:   4.698  SIR: 172.158  ISR:   8.363  SAR:   3.179  \n",
      "bass            ==> SDR:   4.698  SIR: 172.158  ISR:   8.363  SAR:   3.179  \n",
      "\n"
     ]
    },
    {
     "name": "stderr",
     "output_type": "stream",
     "text": [
      " 82%|████████████████████████████████████████████████████████████████████████████████████████████████████████████████████████████████████████████████████████▌                                 | 41/50 [07:11<01:37, 10.89s/it]"
     ]
    },
    {
     "name": "stdout",
     "output_type": "stream",
     "text": [
      "drums           ==> SDR:   5.419  SIR: 180.158  ISR:  11.775  SAR:   4.930  \n",
      "bass            ==> SDR:   5.419  SIR: 180.158  ISR:  11.775  SAR:   4.930  \n",
      "\n"
     ]
    },
    {
     "name": "stderr",
     "output_type": "stream",
     "text": [
      " 84%|████████████████████████████████████████████████████████████████████████████████████████████████████████████████████████████████████████████████████████████▏                             | 42/50 [07:21<01:26, 10.87s/it]"
     ]
    },
    {
     "name": "stdout",
     "output_type": "stream",
     "text": [
      "drums           ==> SDR:   7.268  SIR: 127.155  ISR:  11.401  SAR:   6.664  \n",
      "bass            ==> SDR:   7.268  SIR: 127.155  ISR:  11.401  SAR:   6.664  \n",
      "\n"
     ]
    },
    {
     "name": "stderr",
     "output_type": "stream",
     "text": [
      " 86%|███████████████████████████████████████████████████████████████████████████████████████████████████████████████████████████████████████████████████████████████▉                          | 43/50 [07:32<01:15, 10.80s/it]"
     ]
    },
    {
     "name": "stdout",
     "output_type": "stream",
     "text": [
      "drums           ==> SDR:   5.216  SIR: 189.202  ISR:   9.283  SAR:   3.699  \n",
      "bass            ==> SDR:   5.216  SIR: 189.202  ISR:   9.283  SAR:   3.699  \n",
      "\n"
     ]
    },
    {
     "name": "stderr",
     "output_type": "stream",
     "text": [
      " 88%|███████████████████████████████████████████████████████████████████████████████████████████████████████████████████████████████████████████████████████████████████▋                      | 44/50 [07:41<01:02, 10.38s/it]"
     ]
    },
    {
     "name": "stdout",
     "output_type": "stream",
     "text": [
      "drums           ==> SDR:   8.492  SIR: 218.485  ISR:  11.788  SAR:   7.600  \n",
      "bass            ==> SDR:   8.492  SIR: 218.485  ISR:  11.788  SAR:   7.600  \n",
      "\n"
     ]
    },
    {
     "name": "stderr",
     "output_type": "stream",
     "text": [
      " 90%|███████████████████████████████████████████████████████████████████████████████████████████████████████████████████████████████████████████████████████████████████████▍                  | 45/50 [07:52<00:52, 10.55s/it]"
     ]
    },
    {
     "name": "stdout",
     "output_type": "stream",
     "text": [
      "drums           ==> SDR:   0.820  SIR: 214.016  ISR:   1.532  SAR:  -2.517  \n",
      "bass            ==> SDR:   0.820  SIR: 214.016  ISR:   1.532  SAR:  -2.517  \n",
      "\n"
     ]
    },
    {
     "name": "stderr",
     "output_type": "stream",
     "text": [
      " 92%|███████████████████████████████████████████████████████████████████████████████████████████████████████████████████████████████████████████████████████████████████████████               | 46/50 [08:03<00:42, 10.52s/it]"
     ]
    },
    {
     "name": "stdout",
     "output_type": "stream",
     "text": [
      "drums           ==> SDR:   2.475  SIR: 202.658  ISR:   4.761  SAR:  -0.176  \n",
      "bass            ==> SDR:   2.475  SIR: 202.658  ISR:   4.761  SAR:  -0.176  \n",
      "\n"
     ]
    },
    {
     "name": "stderr",
     "output_type": "stream",
     "text": [
      " 94%|██████████████████████████████████████████████████████████████████████████████████████████████████████████████████████████████████████████████████████████████████████████████▊           | 47/50 [08:12<00:30, 10.18s/it]"
     ]
    },
    {
     "name": "stdout",
     "output_type": "stream",
     "text": [
      "drums           ==> SDR:   3.066  SIR: 165.569  ISR:   5.792  SAR:   2.639  \n",
      "bass            ==> SDR:   3.066  SIR: 165.569  ISR:   5.792  SAR:   2.639  \n",
      "\n"
     ]
    },
    {
     "name": "stderr",
     "output_type": "stream",
     "text": [
      " 96%|██████████████████████████████████████████████████████████████████████████████████████████████████████████████████████████████████████████████████████████████████████████████████▌       | 48/50 [08:23<00:20, 10.21s/it]"
     ]
    },
    {
     "name": "stdout",
     "output_type": "stream",
     "text": [
      "drums           ==> SDR:   3.321  SIR: 222.424  ISR:   8.404  SAR:   1.916  \n",
      "bass            ==> SDR:   3.321  SIR: 222.424  ISR:   8.404  SAR:   1.916  \n",
      "\n"
     ]
    },
    {
     "name": "stderr",
     "output_type": "stream",
     "text": [
      " 98%|██████████████████████████████████████████████████████████████████████████████████████████████████████████████████████████████████████████████████████████████████████████████████████▎   | 49/50 [08:33<00:10, 10.18s/it]"
     ]
    },
    {
     "name": "stdout",
     "output_type": "stream",
     "text": [
      "drums           ==> SDR:   8.909  SIR: 210.565  ISR:  16.615  SAR:   8.682  \n",
      "bass            ==> SDR:   8.909  SIR: 210.565  ISR:  16.615  SAR:   8.682  \n",
      "\n"
     ]
    },
    {
     "name": "stderr",
     "output_type": "stream",
     "text": [
      "100%|██████████████████████████████████████████████████████████████████████████████████████████████████████████████████████████████████████████████████████████████████████████████████████████| 50/50 [08:43<00:00, 10.47s/it]"
     ]
    },
    {
     "name": "stdout",
     "output_type": "stream",
     "text": [
      "drums           ==> SDR:   7.009  SIR: 209.843  ISR:  11.494  SAR:   6.394  \n",
      "bass            ==> SDR:   7.009  SIR: 209.843  ISR:  11.494  SAR:   6.394  \n",
      "\n"
     ]
    },
    {
     "name": "stderr",
     "output_type": "stream",
     "text": [
      "\n",
      "C:\\Python311\\Lib\\site-packages\\pytorch_lightning\\utilities\\migration\\utils.py:55: The loaded checkpoint was produced with Lightning v2.2.1, which is newer than your current Lightning version: v2.1.2\n",
      "  2%|███▋                                                                                                                                                                                       | 1/50 [00:10<08:30, 10.41s/it]"
     ]
    },
    {
     "name": "stdout",
     "output_type": "stream",
     "text": [
      "drums           ==> SDR:   7.371  SIR: 205.751  ISR:  11.905  SAR:   6.672  \n",
      "bass            ==> SDR:   7.371  SIR: 205.751  ISR:  11.905  SAR:   6.672  \n",
      "\n"
     ]
    },
    {
     "name": "stderr",
     "output_type": "stream",
     "text": [
      "  4%|███████▍                                                                                                                                                                                   | 2/50 [00:21<08:26, 10.56s/it]"
     ]
    },
    {
     "name": "stdout",
     "output_type": "stream",
     "text": [
      "drums           ==> SDR:   3.130  SIR: 190.128  ISR:   8.257  SAR:   0.722  \n",
      "bass            ==> SDR:   3.130  SIR: 190.128  ISR:   8.257  SAR:   0.722  \n",
      "\n"
     ]
    },
    {
     "name": "stderr",
     "output_type": "stream",
     "text": [
      "  6%|███████████▏                                                                                                                                                                               | 3/50 [00:31<08:04, 10.31s/it]"
     ]
    },
    {
     "name": "stdout",
     "output_type": "stream",
     "text": [
      "drums           ==> SDR:   4.400  SIR: 226.790  ISR:  10.044  SAR:   3.163  \n",
      "bass            ==> SDR:   4.400  SIR: 226.790  ISR:  10.044  SAR:   3.163  \n",
      "\n"
     ]
    },
    {
     "name": "stderr",
     "output_type": "stream",
     "text": [
      "  8%|██████████████▉                                                                                                                                                                            | 4/50 [00:41<07:50, 10.23s/it]"
     ]
    },
    {
     "name": "stdout",
     "output_type": "stream",
     "text": [
      "drums           ==> SDR:   1.196  SIR: 224.056  ISR:  13.091  SAR:  -0.509  \n",
      "bass            ==> SDR:   1.196  SIR: 224.056  ISR:  13.091  SAR:  -0.509  \n",
      "\n"
     ]
    },
    {
     "name": "stderr",
     "output_type": "stream",
     "text": [
      " 10%|██████████████████▋                                                                                                                                                                        | 5/50 [00:51<07:40, 10.22s/it]"
     ]
    },
    {
     "name": "stdout",
     "output_type": "stream",
     "text": [
      "drums           ==> SDR:   9.041  SIR: 194.550  ISR:  14.816  SAR:   8.863  \n",
      "bass            ==> SDR:   9.041  SIR: 194.550  ISR:  14.816  SAR:   8.863  \n",
      "\n"
     ]
    },
    {
     "name": "stderr",
     "output_type": "stream",
     "text": [
      " 12%|██████████████████████▍                                                                                                                                                                    | 6/50 [01:01<07:34, 10.34s/it]"
     ]
    },
    {
     "name": "stdout",
     "output_type": "stream",
     "text": [
      "drums           ==> SDR:   5.110  SIR: 229.398  ISR:   9.366  SAR:   4.182  \n",
      "bass            ==> SDR:   5.110  SIR: 229.398  ISR:   9.366  SAR:   4.182  \n",
      "\n"
     ]
    },
    {
     "name": "stderr",
     "output_type": "stream",
     "text": [
      " 14%|██████████████████████████▏                                                                                                                                                                | 7/50 [01:11<07:19, 10.23s/it]"
     ]
    },
    {
     "name": "stdout",
     "output_type": "stream",
     "text": [
      "drums           ==> SDR:   5.583  SIR: 218.973  ISR:  11.436  SAR:   4.646  \n",
      "bass            ==> SDR:   5.583  SIR: 218.973  ISR:  11.436  SAR:   4.646  \n",
      "\n"
     ]
    },
    {
     "name": "stderr",
     "output_type": "stream",
     "text": [
      " 16%|█████████████████████████████▉                                                                                                                                                             | 8/50 [01:21<07:05, 10.13s/it]"
     ]
    },
    {
     "name": "stdout",
     "output_type": "stream",
     "text": [
      "drums           ==> SDR:   4.164  SIR: 240.577  ISR:  10.381  SAR:   3.025  \n",
      "bass            ==> SDR:   4.164  SIR: 240.577  ISR:  10.381  SAR:   3.025  \n",
      "\n"
     ]
    },
    {
     "name": "stderr",
     "output_type": "stream",
     "text": [
      " 18%|█████████████████████████████████▋                                                                                                                                                         | 9/50 [01:32<06:56, 10.17s/it]"
     ]
    },
    {
     "name": "stdout",
     "output_type": "stream",
     "text": [
      "drums           ==> SDR:   6.206  SIR: 165.020  ISR:   9.061  SAR:   5.778  \n",
      "bass            ==> SDR:   6.206  SIR: 165.020  ISR:   9.061  SAR:   5.778  \n",
      "\n"
     ]
    },
    {
     "name": "stderr",
     "output_type": "stream",
     "text": [
      " 20%|█████████████████████████████████████▏                                                                                                                                                    | 10/50 [01:42<06:45, 10.13s/it]"
     ]
    },
    {
     "name": "stdout",
     "output_type": "stream",
     "text": [
      "drums           ==> SDR: -22.386  SIR: 188.858  ISR:   7.871  SAR: -25.415  \n",
      "bass            ==> SDR: -22.386  SIR: 188.858  ISR:   7.871  SAR: -25.415  \n",
      "\n"
     ]
    },
    {
     "name": "stderr",
     "output_type": "stream",
     "text": [
      " 22%|████████████████████████████████████████▉                                                                                                                                                 | 11/50 [01:52<06:39, 10.23s/it]"
     ]
    },
    {
     "name": "stdout",
     "output_type": "stream",
     "text": [
      "drums           ==> SDR:   9.966  SIR: 217.751  ISR:  14.590  SAR:  10.355  \n",
      "bass            ==> SDR:   9.966  SIR: 217.751  ISR:  14.590  SAR:  10.355  \n",
      "\n"
     ]
    },
    {
     "name": "stderr",
     "output_type": "stream",
     "text": [
      " 24%|████████████████████████████████████████████▋                                                                                                                                             | 12/50 [02:02<06:26, 10.17s/it]"
     ]
    },
    {
     "name": "stdout",
     "output_type": "stream",
     "text": [
      "drums           ==> SDR:   6.337  SIR: 226.887  ISR:   7.891  SAR:   6.760  \n",
      "bass            ==> SDR:   6.337  SIR: 226.887  ISR:   7.891  SAR:   6.760  \n",
      "\n"
     ]
    },
    {
     "name": "stderr",
     "output_type": "stream",
     "text": [
      " 26%|████████████████████████████████████████████████▎                                                                                                                                         | 13/50 [02:12<06:08,  9.95s/it]"
     ]
    },
    {
     "name": "stdout",
     "output_type": "stream",
     "text": [
      "drums           ==> SDR:   1.561  SIR:  90.771  ISR:   2.187  SAR:  -0.028  \n",
      "bass            ==> SDR:   1.561  SIR:  90.771  ISR:   2.187  SAR:  -0.028  \n",
      "\n"
     ]
    },
    {
     "name": "stderr",
     "output_type": "stream",
     "text": [
      " 28%|████████████████████████████████████████████████████                                                                                                                                      | 14/50 [02:22<05:59,  9.99s/it]"
     ]
    },
    {
     "name": "stdout",
     "output_type": "stream",
     "text": [
      "drums           ==> SDR:   7.977  SIR: 214.751  ISR:  12.485  SAR:   8.194  \n",
      "bass            ==> SDR:   7.977  SIR: 214.751  ISR:  12.485  SAR:   8.194  \n",
      "\n"
     ]
    },
    {
     "name": "stderr",
     "output_type": "stream",
     "text": [
      " 30%|███████████████████████████████████████████████████████▊                                                                                                                                  | 15/50 [02:32<05:54, 10.12s/it]"
     ]
    },
    {
     "name": "stdout",
     "output_type": "stream",
     "text": [
      "drums           ==> SDR:   6.518  SIR: 211.144  ISR:  12.457  SAR:   5.906  \n",
      "bass            ==> SDR:   6.518  SIR: 211.144  ISR:  12.457  SAR:   5.906  \n",
      "\n"
     ]
    },
    {
     "name": "stderr",
     "output_type": "stream",
     "text": [
      " 32%|███████████████████████████████████████████████████████████▌                                                                                                                              | 16/50 [02:42<05:43, 10.09s/it]"
     ]
    },
    {
     "name": "stdout",
     "output_type": "stream",
     "text": [
      "drums           ==> SDR:   4.326  SIR: 213.784  ISR:   8.527  SAR:   2.530  \n",
      "bass            ==> SDR:   4.326  SIR: 213.784  ISR:   8.527  SAR:   2.530  \n",
      "\n"
     ]
    },
    {
     "name": "stderr",
     "output_type": "stream",
     "text": [
      " 34%|███████████████████████████████████████████████████████████████▏                                                                                                                          | 17/50 [02:53<05:35, 10.17s/it]"
     ]
    },
    {
     "name": "stdout",
     "output_type": "stream",
     "text": [
      "drums           ==> SDR:   2.543  SIR: 228.988  ISR:   6.066  SAR:  -0.445  \n",
      "bass            ==> SDR:   2.543  SIR: 228.988  ISR:   6.066  SAR:  -0.445  \n",
      "\n"
     ]
    },
    {
     "name": "stderr",
     "output_type": "stream",
     "text": [
      " 36%|██████████████████████████████████████████████████████████████████▉                                                                                                                       | 18/50 [03:03<05:24, 10.14s/it]"
     ]
    },
    {
     "name": "stdout",
     "output_type": "stream",
     "text": [
      "drums           ==> SDR:  10.291  SIR: 201.501  ISR:  14.540  SAR:  10.727  \n",
      "bass            ==> SDR:  10.291  SIR: 201.501  ISR:  14.540  SAR:  10.727  \n",
      "\n"
     ]
    },
    {
     "name": "stderr",
     "output_type": "stream",
     "text": [
      " 38%|██████████████████████████████████████████████████████████████████████▋                                                                                                                   | 19/50 [03:13<05:15, 10.18s/it]"
     ]
    },
    {
     "name": "stdout",
     "output_type": "stream",
     "text": [
      "drums           ==> SDR:   9.534  SIR: 216.196  ISR:  18.874  SAR:   9.308  \n",
      "bass            ==> SDR:   9.534  SIR: 216.196  ISR:  18.874  SAR:   9.308  \n",
      "\n"
     ]
    },
    {
     "name": "stderr",
     "output_type": "stream",
     "text": [
      " 40%|██████████████████████████████████████████████████████████████████████████▍                                                                                                               | 20/50 [03:24<05:11, 10.37s/it]"
     ]
    },
    {
     "name": "stdout",
     "output_type": "stream",
     "text": [
      "drums           ==> SDR:   1.244  SIR: 214.347  ISR:   1.677  SAR:   5.453  \n",
      "bass            ==> SDR:   1.244  SIR: 214.347  ISR:   1.677  SAR:   5.453  \n",
      "\n"
     ]
    },
    {
     "name": "stderr",
     "output_type": "stream",
     "text": [
      " 42%|██████████████████████████████████████████████████████████████████████████████                                                                                                            | 21/50 [03:34<05:02, 10.42s/it]"
     ]
    },
    {
     "name": "stdout",
     "output_type": "stream",
     "text": [
      "drums           ==> SDR:   7.704  SIR: 190.206  ISR:  12.685  SAR:   7.591  \n",
      "bass            ==> SDR:   7.704  SIR: 190.206  ISR:  12.685  SAR:   7.591  \n",
      "\n"
     ]
    },
    {
     "name": "stderr",
     "output_type": "stream",
     "text": [
      " 44%|█████████████████████████████████████████████████████████████████████████████████▊                                                                                                        | 22/50 [03:44<04:49, 10.35s/it]"
     ]
    },
    {
     "name": "stdout",
     "output_type": "stream",
     "text": [
      "drums           ==> SDR: -13.259  SIR: 272.763  ISR:   1.285  SAR: -21.168  \n",
      "bass            ==> SDR: -13.259  SIR: 272.763  ISR:   1.285  SAR: -21.168  \n",
      "\n"
     ]
    },
    {
     "name": "stderr",
     "output_type": "stream",
     "text": [
      " 46%|█████████████████████████████████████████████████████████████████████████████████████▌                                                                                                    | 23/50 [03:55<04:45, 10.58s/it]"
     ]
    },
    {
     "name": "stdout",
     "output_type": "stream",
     "text": [
      "drums           ==> SDR:   4.232  SIR: 170.431  ISR:   8.299  SAR:   2.859  \n",
      "bass            ==> SDR:   4.232  SIR: 170.431  ISR:   8.299  SAR:   2.859  \n",
      "\n"
     ]
    },
    {
     "name": "stderr",
     "output_type": "stream",
     "text": [
      " 48%|█████████████████████████████████████████████████████████████████████████████████████████▎                                                                                                | 24/50 [04:07<04:42, 10.88s/it]"
     ]
    },
    {
     "name": "stdout",
     "output_type": "stream",
     "text": [
      "drums           ==> SDR:   7.449  SIR: 133.159  ISR:  12.303  SAR:   7.090  \n",
      "bass            ==> SDR:   7.449  SIR: 133.159  ISR:  12.303  SAR:   7.090  \n",
      "\n"
     ]
    },
    {
     "name": "stderr",
     "output_type": "stream",
     "text": [
      " 50%|█████████████████████████████████████████████████████████████████████████████████████████████                                                                                             | 25/50 [04:23<05:10, 12.41s/it]"
     ]
    },
    {
     "name": "stdout",
     "output_type": "stream",
     "text": [
      "drums           ==> SDR:   3.461  SIR: 220.256  ISR:   8.588  SAR:   1.852  \n",
      "bass            ==> SDR:   3.461  SIR: 220.256  ISR:   8.588  SAR:   1.852  \n",
      "\n"
     ]
    },
    {
     "name": "stderr",
     "output_type": "stream",
     "text": [
      " 52%|████████████████████████████████████████████████████████████████████████████████████████████████▋                                                                                         | 26/50 [04:36<05:00, 12.52s/it]"
     ]
    },
    {
     "name": "stdout",
     "output_type": "stream",
     "text": [
      "drums           ==> SDR:  11.861  SIR: 178.080  ISR:  18.209  SAR:  12.062  \n",
      "bass            ==> SDR:  11.861  SIR: 178.080  ISR:  18.209  SAR:  12.062  \n",
      "\n"
     ]
    },
    {
     "name": "stderr",
     "output_type": "stream",
     "text": [
      " 54%|████████████████████████████████████████████████████████████████████████████████████████████████████▍                                                                                     | 27/50 [04:48<04:46, 12.47s/it]"
     ]
    },
    {
     "name": "stdout",
     "output_type": "stream",
     "text": [
      "drums           ==> SDR:   7.244  SIR: 190.733  ISR:  16.380  SAR:   6.865  \n",
      "bass            ==> SDR:   7.244  SIR: 190.733  ISR:  16.380  SAR:   6.865  \n",
      "\n"
     ]
    },
    {
     "name": "stderr",
     "output_type": "stream",
     "text": [
      " 56%|████████████████████████████████████████████████████████████████████████████████████████████████████████▏                                                                                 | 28/50 [05:01<04:38, 12.65s/it]"
     ]
    },
    {
     "name": "stdout",
     "output_type": "stream",
     "text": [
      "drums           ==> SDR:  10.182  SIR: 191.738  ISR:  12.804  SAR:  11.036  \n",
      "bass            ==> SDR:  10.182  SIR: 191.738  ISR:  12.804  SAR:  11.036  \n",
      "\n"
     ]
    },
    {
     "name": "stderr",
     "output_type": "stream",
     "text": [
      " 58%|███████████████████████████████████████████████████████████████████████████████████████████████████████████▉                                                                              | 29/50 [05:13<04:16, 12.23s/it]"
     ]
    },
    {
     "name": "stdout",
     "output_type": "stream",
     "text": [
      "drums           ==> SDR:   5.391  SIR: 192.582  ISR:   7.103  SAR:   7.496  \n",
      "bass            ==> SDR:   5.391  SIR: 192.582  ISR:   7.103  SAR:   7.496  \n",
      "\n"
     ]
    },
    {
     "name": "stderr",
     "output_type": "stream",
     "text": [
      " 60%|███████████████████████████████████████████████████████████████████████████████████████████████████████████████▌                                                                          | 30/50 [05:23<03:53, 11.66s/it]"
     ]
    },
    {
     "name": "stdout",
     "output_type": "stream",
     "text": [
      "drums           ==> SDR:   6.598  SIR: 216.156  ISR:  11.768  SAR:   6.334  \n",
      "bass            ==> SDR:   6.598  SIR: 216.156  ISR:  11.768  SAR:   6.334  \n",
      "\n"
     ]
    },
    {
     "name": "stderr",
     "output_type": "stream",
     "text": [
      " 62%|███████████████████████████████████████████████████████████████████████████████████████████████████████████████████▎                                                                      | 31/50 [05:33<03:35, 11.32s/it]"
     ]
    },
    {
     "name": "stdout",
     "output_type": "stream",
     "text": [
      "drums           ==> SDR:   2.623  SIR: 199.254  ISR:  10.246  SAR:   1.099  \n",
      "bass            ==> SDR:   2.623  SIR: 199.254  ISR:  10.246  SAR:   1.099  \n",
      "\n"
     ]
    },
    {
     "name": "stderr",
     "output_type": "stream",
     "text": [
      " 64%|███████████████████████████████████████████████████████████████████████████████████████████████████████████████████████                                                                   | 32/50 [05:44<03:19, 11.11s/it]"
     ]
    },
    {
     "name": "stdout",
     "output_type": "stream",
     "text": [
      "drums           ==> SDR:   2.558  SIR: 187.416  ISR:   5.499  SAR:   1.687  \n",
      "bass            ==> SDR:   2.558  SIR: 187.416  ISR:   5.499  SAR:   1.687  \n",
      "\n"
     ]
    },
    {
     "name": "stderr",
     "output_type": "stream",
     "text": [
      " 66%|██████████████████████████████████████████████████████████████████████████████████████████████████████████████████████████▊                                                               | 33/50 [05:55<03:08, 11.11s/it]"
     ]
    },
    {
     "name": "stdout",
     "output_type": "stream",
     "text": [
      "drums           ==> SDR:   2.756  SIR: 217.528  ISR:   5.900  SAR:  -0.399  \n",
      "bass            ==> SDR:   2.756  SIR: 217.528  ISR:   5.900  SAR:  -0.399  \n",
      "\n"
     ]
    },
    {
     "name": "stderr",
     "output_type": "stream",
     "text": [
      " 68%|██████████████████████████████████████████████████████████████████████████████████████████████████████████████████████████████▍                                                           | 34/50 [06:06<02:55, 10.98s/it]"
     ]
    },
    {
     "name": "stdout",
     "output_type": "stream",
     "text": [
      "drums           ==> SDR:   4.951  SIR: 247.019  ISR:   8.690  SAR:   3.716  \n",
      "bass            ==> SDR:   4.951  SIR: 247.019  ISR:   8.690  SAR:   3.716  \n",
      "\n"
     ]
    },
    {
     "name": "stderr",
     "output_type": "stream",
     "text": [
      " 70%|██████████████████████████████████████████████████████████████████████████████████████████████████████████████████████████████████▏                                                       | 35/50 [06:18<02:52, 11.48s/it]"
     ]
    },
    {
     "name": "stdout",
     "output_type": "stream",
     "text": [
      "drums           ==> SDR:   9.309  SIR: 217.569  ISR:  13.702  SAR:   9.550  \n",
      "bass            ==> SDR:   9.309  SIR: 217.569  ISR:  13.702  SAR:   9.550  \n",
      "\n"
     ]
    },
    {
     "name": "stderr",
     "output_type": "stream",
     "text": [
      " 72%|█████████████████████████████████████████████████████████████████████████████████████████████████████████████████████████████████████▉                                                    | 36/50 [06:29<02:36, 11.16s/it]"
     ]
    },
    {
     "name": "stdout",
     "output_type": "stream",
     "text": [
      "drums           ==> SDR:   2.239  SIR: 207.282  ISR:   7.534  SAR:   0.066  \n",
      "bass            ==> SDR:   2.239  SIR: 207.282  ISR:   7.534  SAR:   0.066  \n",
      "\n"
     ]
    },
    {
     "name": "stderr",
     "output_type": "stream",
     "text": [
      " 74%|█████████████████████████████████████████████████████████████████████████████████████████████████████████████████████████████████████████▋                                                | 37/50 [06:40<02:24, 11.14s/it]"
     ]
    },
    {
     "name": "stdout",
     "output_type": "stream",
     "text": [
      "drums           ==> SDR:   3.440  SIR: 203.155  ISR:  11.291  SAR:   2.282  \n",
      "bass            ==> SDR:   3.440  SIR: 203.155  ISR:  11.291  SAR:   2.282  \n",
      "\n"
     ]
    },
    {
     "name": "stderr",
     "output_type": "stream",
     "text": [
      " 76%|█████████████████████████████████████████████████████████████████████████████████████████████████████████████████████████████████████████████▎                                            | 38/50 [06:51<02:12, 11.04s/it]"
     ]
    },
    {
     "name": "stdout",
     "output_type": "stream",
     "text": [
      "drums           ==> SDR:   7.771  SIR: 224.093  ISR:  10.031  SAR:   5.309  \n",
      "bass            ==> SDR:   7.771  SIR: 224.093  ISR:  10.031  SAR:   5.309  \n",
      "\n"
     ]
    },
    {
     "name": "stderr",
     "output_type": "stream",
     "text": [
      " 78%|█████████████████████████████████████████████████████████████████████████████████████████████████████████████████████████████████████████████████                                         | 39/50 [07:02<02:01, 11.05s/it]"
     ]
    },
    {
     "name": "stdout",
     "output_type": "stream",
     "text": [
      "drums           ==> SDR:   5.145  SIR: 233.563  ISR:   7.081  SAR:   5.681  \n",
      "bass            ==> SDR:   5.145  SIR: 233.563  ISR:   7.081  SAR:   5.681  \n",
      "\n"
     ]
    },
    {
     "name": "stderr",
     "output_type": "stream",
     "text": [
      " 80%|████████████████████████████████████████████████████████████████████████████████████████████████████████████████████████████████████████████████████▊                                     | 40/50 [07:13<01:49, 10.99s/it]"
     ]
    },
    {
     "name": "stdout",
     "output_type": "stream",
     "text": [
      "drums           ==> SDR:   3.476  SIR: 176.696  ISR:   8.345  SAR:   2.009  \n",
      "bass            ==> SDR:   3.476  SIR: 176.696  ISR:   8.345  SAR:   2.009  \n",
      "\n"
     ]
    },
    {
     "name": "stderr",
     "output_type": "stream",
     "text": [
      " 82%|████████████████████████████████████████████████████████████████████████████████████████████████████████████████████████████████████████████████████████▌                                 | 41/50 [07:23<01:38, 10.92s/it]"
     ]
    },
    {
     "name": "stdout",
     "output_type": "stream",
     "text": [
      "drums           ==> SDR:   5.436  SIR: 181.159  ISR:  12.042  SAR:   4.978  \n",
      "bass            ==> SDR:   5.436  SIR: 181.159  ISR:  12.042  SAR:   4.978  \n",
      "\n"
     ]
    },
    {
     "name": "stderr",
     "output_type": "stream",
     "text": [
      " 84%|████████████████████████████████████████████████████████████████████████████████████████████████████████████████████████████████████████████████████████████▏                             | 42/50 [07:36<01:30, 11.37s/it]"
     ]
    },
    {
     "name": "stdout",
     "output_type": "stream",
     "text": [
      "drums           ==> SDR:   7.186  SIR: 127.771  ISR:  11.542  SAR:   6.717  \n",
      "bass            ==> SDR:   7.186  SIR: 127.771  ISR:  11.542  SAR:   6.717  \n",
      "\n"
     ]
    },
    {
     "name": "stderr",
     "output_type": "stream",
     "text": [
      " 86%|███████████████████████████████████████████████████████████████████████████████████████████████████████████████████████████████████████████████████████████████▉                          | 43/50 [07:47<01:18, 11.21s/it]"
     ]
    },
    {
     "name": "stdout",
     "output_type": "stream",
     "text": [
      "drums           ==> SDR:   5.071  SIR: 183.987  ISR:   9.194  SAR:   3.672  \n",
      "bass            ==> SDR:   5.071  SIR: 183.987  ISR:   9.194  SAR:   3.672  \n",
      "\n"
     ]
    },
    {
     "name": "stderr",
     "output_type": "stream",
     "text": [
      " 88%|███████████████████████████████████████████████████████████████████████████████████████████████████████████████████████████████████████████████████████████████████▋                      | 44/50 [07:57<01:05, 10.93s/it]"
     ]
    },
    {
     "name": "stdout",
     "output_type": "stream",
     "text": [
      "drums           ==> SDR:   8.010  SIR: 222.385  ISR:  12.131  SAR:   7.241  \n",
      "bass            ==> SDR:   8.010  SIR: 222.385  ISR:  12.131  SAR:   7.241  \n",
      "\n"
     ]
    },
    {
     "name": "stderr",
     "output_type": "stream",
     "text": [
      " 90%|███████████████████████████████████████████████████████████████████████████████████████████████████████████████████████████████████████████████████████████████████████▍                  | 45/50 [08:09<00:55, 11.16s/it]"
     ]
    },
    {
     "name": "stdout",
     "output_type": "stream",
     "text": [
      "drums           ==> SDR:   0.763  SIR: 215.369  ISR:   1.638  SAR:  -2.679  \n",
      "bass            ==> SDR:   0.763  SIR: 215.369  ISR:   1.638  SAR:  -2.679  \n",
      "\n"
     ]
    },
    {
     "name": "stderr",
     "output_type": "stream",
     "text": [
      " 92%|███████████████████████████████████████████████████████████████████████████████████████████████████████████████████████████████████████████████████████████████████████████               | 46/50 [08:21<00:45, 11.38s/it]"
     ]
    },
    {
     "name": "stdout",
     "output_type": "stream",
     "text": [
      "drums           ==> SDR:   2.509  SIR: 203.870  ISR:   4.950  SAR:  -0.088  \n",
      "bass            ==> SDR:   2.509  SIR: 203.870  ISR:   4.950  SAR:  -0.088  \n",
      "\n"
     ]
    },
    {
     "name": "stderr",
     "output_type": "stream",
     "text": [
      " 94%|██████████████████████████████████████████████████████████████████████████████████████████████████████████████████████████████████████████████████████████████████████████████▊           | 47/50 [08:30<00:32, 10.86s/it]"
     ]
    },
    {
     "name": "stdout",
     "output_type": "stream",
     "text": [
      "drums           ==> SDR:   3.540  SIR: 161.621  ISR:   6.481  SAR:   3.346  \n",
      "bass            ==> SDR:   3.540  SIR: 161.621  ISR:   6.481  SAR:   3.346  \n",
      "\n"
     ]
    },
    {
     "name": "stderr",
     "output_type": "stream",
     "text": [
      " 96%|██████████████████████████████████████████████████████████████████████████████████████████████████████████████████████████████████████████████████████████████████████████████████▌       | 48/50 [08:42<00:22, 11.02s/it]"
     ]
    },
    {
     "name": "stdout",
     "output_type": "stream",
     "text": [
      "drums           ==> SDR:   3.387  SIR: 218.345  ISR:   8.520  SAR:   1.787  \n",
      "bass            ==> SDR:   3.387  SIR: 218.345  ISR:   8.520  SAR:   1.787  \n",
      "\n"
     ]
    },
    {
     "name": "stderr",
     "output_type": "stream",
     "text": [
      " 98%|██████████████████████████████████████████████████████████████████████████████████████████████████████████████████████████████████████████████████████████████████████████████████████▎   | 49/50 [08:55<00:11, 11.67s/it]"
     ]
    },
    {
     "name": "stdout",
     "output_type": "stream",
     "text": [
      "drums           ==> SDR:   8.711  SIR: 214.815  ISR:  16.567  SAR:   8.415  \n",
      "bass            ==> SDR:   8.711  SIR: 214.815  ISR:  16.567  SAR:   8.415  \n",
      "\n"
     ]
    },
    {
     "name": "stderr",
     "output_type": "stream",
     "text": [
      "100%|██████████████████████████████████████████████████████████████████████████████████████████████████████████████████████████████████████████████████████████████████████████████████████████| 50/50 [09:07<00:00, 10.94s/it]"
     ]
    },
    {
     "name": "stdout",
     "output_type": "stream",
     "text": [
      "drums           ==> SDR:   6.939  SIR: 217.234  ISR:  11.486  SAR:   6.455  \n",
      "bass            ==> SDR:   6.939  SIR: 217.234  ISR:  11.486  SAR:   6.455  \n",
      "\n"
     ]
    },
    {
     "name": "stderr",
     "output_type": "stream",
     "text": [
      "\n",
      "C:\\Python311\\Lib\\site-packages\\pytorch_lightning\\utilities\\migration\\utils.py:55: The loaded checkpoint was produced with Lightning v2.2.1, which is newer than your current Lightning version: v2.1.2\n",
      "  2%|███▋                                                                                                                                                                                       | 1/50 [00:11<09:30, 11.64s/it]"
     ]
    },
    {
     "name": "stdout",
     "output_type": "stream",
     "text": [
      "drums           ==> SDR:   7.769  SIR: 222.935  ISR:  11.952  SAR:   6.707  \n",
      "bass            ==> SDR:   7.769  SIR: 222.935  ISR:  11.952  SAR:   6.707  \n",
      "\n"
     ]
    },
    {
     "name": "stderr",
     "output_type": "stream",
     "text": [
      "  4%|███████▍                                                                                                                                                                                   | 2/50 [00:21<08:42, 10.88s/it]"
     ]
    },
    {
     "name": "stdout",
     "output_type": "stream",
     "text": [
      "drums           ==> SDR:   3.245  SIR: 188.282  ISR:   8.383  SAR:   0.630  \n",
      "bass            ==> SDR:   3.245  SIR: 188.282  ISR:   8.383  SAR:   0.630  \n",
      "\n"
     ]
    },
    {
     "name": "stderr",
     "output_type": "stream",
     "text": [
      "  6%|███████████▏                                                                                                                                                                               | 3/50 [00:35<09:29, 12.13s/it]"
     ]
    },
    {
     "name": "stdout",
     "output_type": "stream",
     "text": [
      "drums           ==> SDR:   4.260  SIR: 228.840  ISR:  10.053  SAR:   2.956  \n",
      "bass            ==> SDR:   4.260  SIR: 228.840  ISR:  10.053  SAR:   2.956  \n",
      "\n"
     ]
    },
    {
     "name": "stderr",
     "output_type": "stream",
     "text": [
      "  8%|██████████████▉                                                                                                                                                                            | 4/50 [00:46<08:52, 11.59s/it]"
     ]
    },
    {
     "name": "stdout",
     "output_type": "stream",
     "text": [
      "drums           ==> SDR:   1.301  SIR: 231.844  ISR:  13.261  SAR:  -0.336  \n",
      "bass            ==> SDR:   1.301  SIR: 231.844  ISR:  13.261  SAR:  -0.336  \n",
      "\n"
     ]
    },
    {
     "name": "stderr",
     "output_type": "stream",
     "text": [
      " 10%|██████████████████▋                                                                                                                                                                        | 5/50 [00:57<08:33, 11.42s/it]"
     ]
    },
    {
     "name": "stdout",
     "output_type": "stream",
     "text": [
      "drums           ==> SDR:   9.075  SIR: 205.978  ISR:  15.062  SAR:   8.884  \n",
      "bass            ==> SDR:   9.075  SIR: 205.978  ISR:  15.062  SAR:   8.884  \n",
      "\n"
     ]
    },
    {
     "name": "stderr",
     "output_type": "stream",
     "text": [
      " 12%|██████████████████████▍                                                                                                                                                                    | 6/50 [01:08<08:13, 11.22s/it]"
     ]
    },
    {
     "name": "stdout",
     "output_type": "stream",
     "text": [
      "drums           ==> SDR:   4.907  SIR: 236.225  ISR:   8.880  SAR:   3.786  \n",
      "bass            ==> SDR:   4.907  SIR: 236.225  ISR:   8.880  SAR:   3.786  \n",
      "\n"
     ]
    },
    {
     "name": "stderr",
     "output_type": "stream",
     "text": [
      " 14%|██████████████████████████▏                                                                                                                                                                | 7/50 [01:19<08:02, 11.22s/it]"
     ]
    },
    {
     "name": "stdout",
     "output_type": "stream",
     "text": [
      "drums           ==> SDR:   5.590  SIR: 220.983  ISR:  11.421  SAR:   4.667  \n",
      "bass            ==> SDR:   5.590  SIR: 220.983  ISR:  11.421  SAR:   4.667  \n",
      "\n"
     ]
    },
    {
     "name": "stderr",
     "output_type": "stream",
     "text": [
      " 16%|█████████████████████████████▉                                                                                                                                                             | 8/50 [01:30<07:50, 11.21s/it]"
     ]
    },
    {
     "name": "stdout",
     "output_type": "stream",
     "text": [
      "drums           ==> SDR:   3.979  SIR: 239.118  ISR:  10.364  SAR:   2.610  \n",
      "bass            ==> SDR:   3.979  SIR: 239.118  ISR:  10.364  SAR:   2.610  \n",
      "\n"
     ]
    },
    {
     "name": "stderr",
     "output_type": "stream",
     "text": [
      " 18%|█████████████████████████████████▋                                                                                                                                                         | 9/50 [01:41<07:28, 10.93s/it]"
     ]
    },
    {
     "name": "stdout",
     "output_type": "stream",
     "text": [
      "drums           ==> SDR:   5.939  SIR: 165.224  ISR:   9.079  SAR:   5.978  \n",
      "bass            ==> SDR:   5.939  SIR: 165.224  ISR:   9.079  SAR:   5.978  \n",
      "\n"
     ]
    },
    {
     "name": "stderr",
     "output_type": "stream",
     "text": [
      " 20%|█████████████████████████████████████▏                                                                                                                                                    | 10/50 [01:50<07:04, 10.61s/it]"
     ]
    },
    {
     "name": "stdout",
     "output_type": "stream",
     "text": [
      "drums           ==> SDR: -26.592  SIR: 192.360  ISR:   7.906  SAR: -29.656  \n",
      "bass            ==> SDR: -26.592  SIR: 192.360  ISR:   7.906  SAR: -29.656  \n",
      "\n"
     ]
    },
    {
     "name": "stderr",
     "output_type": "stream",
     "text": [
      " 22%|████████████████████████████████████████▉                                                                                                                                                 | 11/50 [02:01<06:49, 10.51s/it]"
     ]
    },
    {
     "name": "stdout",
     "output_type": "stream",
     "text": [
      "drums           ==> SDR:   9.895  SIR: 215.222  ISR:  14.455  SAR:   9.876  \n",
      "bass            ==> SDR:   9.895  SIR: 215.222  ISR:  14.455  SAR:   9.876  \n",
      "\n"
     ]
    },
    {
     "name": "stderr",
     "output_type": "stream",
     "text": [
      " 24%|████████████████████████████████████████████▋                                                                                                                                             | 12/50 [02:11<06:33, 10.35s/it]"
     ]
    },
    {
     "name": "stdout",
     "output_type": "stream",
     "text": [
      "drums           ==> SDR:   6.515  SIR: 220.558  ISR:   8.031  SAR:   6.891  \n",
      "bass            ==> SDR:   6.515  SIR: 220.558  ISR:   8.031  SAR:   6.891  \n",
      "\n"
     ]
    },
    {
     "name": "stderr",
     "output_type": "stream",
     "text": [
      " 26%|████████████████████████████████████████████████▎                                                                                                                                         | 13/50 [02:20<06:10, 10.01s/it]"
     ]
    },
    {
     "name": "stdout",
     "output_type": "stream",
     "text": [
      "drums           ==> SDR:   1.315  SIR:  84.368  ISR:   2.064  SAR:  -0.538  \n",
      "bass            ==> SDR:   1.315  SIR:  84.368  ISR:   2.064  SAR:  -0.538  \n",
      "\n"
     ]
    },
    {
     "name": "stderr",
     "output_type": "stream",
     "text": [
      " 28%|████████████████████████████████████████████████████                                                                                                                                      | 14/50 [02:30<06:04, 10.14s/it]"
     ]
    },
    {
     "name": "stdout",
     "output_type": "stream",
     "text": [
      "drums           ==> SDR:   7.812  SIR: 216.857  ISR:  12.297  SAR:   8.124  \n",
      "bass            ==> SDR:   7.812  SIR: 216.857  ISR:  12.297  SAR:   8.124  \n",
      "\n"
     ]
    },
    {
     "name": "stderr",
     "output_type": "stream",
     "text": [
      " 30%|███████████████████████████████████████████████████████▊                                                                                                                                  | 15/50 [02:40<05:52, 10.08s/it]"
     ]
    },
    {
     "name": "stdout",
     "output_type": "stream",
     "text": [
      "drums           ==> SDR:   6.521  SIR: 205.590  ISR:  12.609  SAR:   5.630  \n",
      "bass            ==> SDR:   6.521  SIR: 205.590  ISR:  12.609  SAR:   5.630  \n",
      "\n"
     ]
    },
    {
     "name": "stderr",
     "output_type": "stream",
     "text": [
      " 32%|███████████████████████████████████████████████████████████▌                                                                                                                              | 16/50 [02:50<05:41, 10.05s/it]"
     ]
    },
    {
     "name": "stdout",
     "output_type": "stream",
     "text": [
      "drums           ==> SDR:   4.383  SIR: 221.255  ISR:   9.347  SAR:   2.828  \n",
      "bass            ==> SDR:   4.383  SIR: 221.255  ISR:   9.347  SAR:   2.828  \n",
      "\n"
     ]
    },
    {
     "name": "stderr",
     "output_type": "stream",
     "text": [
      " 34%|███████████████████████████████████████████████████████████████▏                                                                                                                          | 17/50 [03:01<05:33, 10.12s/it]"
     ]
    },
    {
     "name": "stdout",
     "output_type": "stream",
     "text": [
      "drums           ==> SDR:   2.516  SIR: 222.129  ISR:   5.979  SAR:  -0.461  \n",
      "bass            ==> SDR:   2.516  SIR: 222.129  ISR:   5.979  SAR:  -0.461  \n",
      "\n"
     ]
    },
    {
     "name": "stderr",
     "output_type": "stream",
     "text": [
      " 36%|██████████████████████████████████████████████████████████████████▉                                                                                                                       | 18/50 [03:10<05:21, 10.05s/it]"
     ]
    },
    {
     "name": "stdout",
     "output_type": "stream",
     "text": [
      "drums           ==> SDR:  10.303  SIR: 202.939  ISR:  14.637  SAR:  10.450  \n",
      "bass            ==> SDR:  10.303  SIR: 202.939  ISR:  14.637  SAR:  10.450  \n",
      "\n"
     ]
    },
    {
     "name": "stderr",
     "output_type": "stream",
     "text": [
      " 38%|██████████████████████████████████████████████████████████████████████▋                                                                                                                   | 19/50 [03:20<05:10, 10.03s/it]"
     ]
    },
    {
     "name": "stdout",
     "output_type": "stream",
     "text": [
      "drums           ==> SDR:   9.198  SIR: 220.865  ISR:  19.103  SAR:   8.774  \n",
      "bass            ==> SDR:   9.198  SIR: 220.865  ISR:  19.103  SAR:   8.774  \n",
      "\n"
     ]
    },
    {
     "name": "stderr",
     "output_type": "stream",
     "text": [
      " 40%|██████████████████████████████████████████████████████████████████████████▍                                                                                                               | 20/50 [03:30<04:59, 10.00s/it]"
     ]
    },
    {
     "name": "stdout",
     "output_type": "stream",
     "text": [
      "drums           ==> SDR:   1.258  SIR: 211.733  ISR:   1.690  SAR:   5.347  \n",
      "bass            ==> SDR:   1.258  SIR: 211.733  ISR:   1.690  SAR:   5.347  \n",
      "\n"
     ]
    },
    {
     "name": "stderr",
     "output_type": "stream",
     "text": [
      " 42%|██████████████████████████████████████████████████████████████████████████████                                                                                                            | 21/50 [03:40<04:49,  9.97s/it]"
     ]
    },
    {
     "name": "stdout",
     "output_type": "stream",
     "text": [
      "drums           ==> SDR:   7.761  SIR: 187.645  ISR:  12.792  SAR:   7.561  \n",
      "bass            ==> SDR:   7.761  SIR: 187.645  ISR:  12.792  SAR:   7.561  \n",
      "\n"
     ]
    },
    {
     "name": "stderr",
     "output_type": "stream",
     "text": [
      " 44%|█████████████████████████████████████████████████████████████████████████████████▊                                                                                                        | 22/50 [03:50<04:39,  9.97s/it]"
     ]
    },
    {
     "name": "stdout",
     "output_type": "stream",
     "text": [
      "drums           ==> SDR: -15.852  SIR: 271.146  ISR:   1.508  SAR: -24.760  \n",
      "bass            ==> SDR: -15.852  SIR: 271.146  ISR:   1.508  SAR: -24.760  \n",
      "\n"
     ]
    },
    {
     "name": "stderr",
     "output_type": "stream",
     "text": [
      " 46%|█████████████████████████████████████████████████████████████████████████████████████▌                                                                                                    | 23/50 [04:00<04:27,  9.92s/it]"
     ]
    },
    {
     "name": "stdout",
     "output_type": "stream",
     "text": [
      "drums           ==> SDR:   4.397  SIR: 171.158  ISR:   8.788  SAR:   2.695  \n",
      "bass            ==> SDR:   4.397  SIR: 171.158  ISR:   8.788  SAR:   2.695  \n",
      "\n"
     ]
    },
    {
     "name": "stderr",
     "output_type": "stream",
     "text": [
      " 48%|█████████████████████████████████████████████████████████████████████████████████████████▎                                                                                                | 24/50 [04:10<04:21, 10.06s/it]"
     ]
    },
    {
     "name": "stdout",
     "output_type": "stream",
     "text": [
      "drums           ==> SDR:   7.441  SIR: 134.158  ISR:  12.401  SAR:   7.379  \n",
      "bass            ==> SDR:   7.441  SIR: 134.158  ISR:  12.401  SAR:   7.379  \n",
      "\n"
     ]
    },
    {
     "name": "stderr",
     "output_type": "stream",
     "text": [
      " 50%|█████████████████████████████████████████████████████████████████████████████████████████████                                                                                             | 25/50 [04:20<04:11, 10.06s/it]"
     ]
    },
    {
     "name": "stdout",
     "output_type": "stream",
     "text": [
      "drums           ==> SDR:   3.444  SIR: 222.179  ISR:   8.516  SAR:   1.671  \n",
      "bass            ==> SDR:   3.444  SIR: 222.179  ISR:   8.516  SAR:   1.671  \n",
      "\n"
     ]
    },
    {
     "name": "stderr",
     "output_type": "stream",
     "text": [
      " 52%|████████████████████████████████████████████████████████████████████████████████████████████████▋                                                                                         | 26/50 [04:30<03:59,  9.97s/it]"
     ]
    },
    {
     "name": "stdout",
     "output_type": "stream",
     "text": [
      "drums           ==> SDR:  11.832  SIR: 183.922  ISR:  18.268  SAR:  11.927  \n",
      "bass            ==> SDR:  11.832  SIR: 183.922  ISR:  18.268  SAR:  11.927  \n",
      "\n"
     ]
    },
    {
     "name": "stderr",
     "output_type": "stream",
     "text": [
      " 54%|████████████████████████████████████████████████████████████████████████████████████████████████████▍                                                                                     | 27/50 [04:40<03:51, 10.05s/it]"
     ]
    },
    {
     "name": "stdout",
     "output_type": "stream",
     "text": [
      "drums           ==> SDR:   7.585  SIR: 184.754  ISR:  16.218  SAR:   7.156  \n",
      "bass            ==> SDR:   7.585  SIR: 184.754  ISR:  16.218  SAR:   7.156  \n",
      "\n"
     ]
    },
    {
     "name": "stderr",
     "output_type": "stream",
     "text": [
      " 56%|████████████████████████████████████████████████████████████████████████████████████████████████████████▏                                                                                 | 28/50 [04:51<03:45, 10.23s/it]"
     ]
    },
    {
     "name": "stdout",
     "output_type": "stream",
     "text": [
      "drums           ==> SDR:  10.106  SIR: 188.563  ISR:  12.936  SAR:  11.086  \n",
      "bass            ==> SDR:  10.106  SIR: 188.563  ISR:  12.936  SAR:  11.086  \n",
      "\n"
     ]
    },
    {
     "name": "stderr",
     "output_type": "stream",
     "text": [
      " 58%|███████████████████████████████████████████████████████████████████████████████████████████████████████████▉                                                                              | 29/50 [05:01<03:34, 10.20s/it]"
     ]
    },
    {
     "name": "stdout",
     "output_type": "stream",
     "text": [
      "drums           ==> SDR:   5.510  SIR: 189.809  ISR:   7.173  SAR:   7.309  \n",
      "bass            ==> SDR:   5.510  SIR: 189.809  ISR:   7.173  SAR:   7.309  \n",
      "\n"
     ]
    },
    {
     "name": "stderr",
     "output_type": "stream",
     "text": [
      " 60%|███████████████████████████████████████████████████████████████████████████████████████████████████████████████▌                                                                          | 30/50 [05:11<03:21, 10.10s/it]"
     ]
    },
    {
     "name": "stdout",
     "output_type": "stream",
     "text": [
      "drums           ==> SDR:   6.597  SIR: 213.526  ISR:  11.872  SAR:   6.537  \n",
      "bass            ==> SDR:   6.597  SIR: 213.526  ISR:  11.872  SAR:   6.537  \n",
      "\n"
     ]
    },
    {
     "name": "stderr",
     "output_type": "stream",
     "text": [
      " 62%|███████████████████████████████████████████████████████████████████████████████████████████████████████████████████▎                                                                      | 31/50 [05:21<03:11, 10.09s/it]"
     ]
    },
    {
     "name": "stdout",
     "output_type": "stream",
     "text": [
      "drums           ==> SDR:   2.735  SIR: 198.243  ISR:  10.439  SAR:   1.227  \n",
      "bass            ==> SDR:   2.735  SIR: 198.243  ISR:  10.439  SAR:   1.227  \n",
      "\n"
     ]
    },
    {
     "name": "stderr",
     "output_type": "stream",
     "text": [
      " 64%|███████████████████████████████████████████████████████████████████████████████████████████████████████████████████████                                                                   | 32/50 [05:31<02:58,  9.90s/it]"
     ]
    },
    {
     "name": "stdout",
     "output_type": "stream",
     "text": [
      "drums           ==> SDR:   2.481  SIR: 193.523  ISR:   5.443  SAR:   1.381  \n",
      "bass            ==> SDR:   2.481  SIR: 193.523  ISR:   5.443  SAR:   1.381  \n",
      "\n"
     ]
    },
    {
     "name": "stderr",
     "output_type": "stream",
     "text": [
      " 66%|██████████████████████████████████████████████████████████████████████████████████████████████████████████████████████████▊                                                               | 33/50 [05:41<02:50, 10.04s/it]"
     ]
    },
    {
     "name": "stdout",
     "output_type": "stream",
     "text": [
      "drums           ==> SDR:   2.659  SIR: 219.431  ISR:   6.014  SAR:  -0.165  \n",
      "bass            ==> SDR:   2.659  SIR: 219.431  ISR:   6.014  SAR:  -0.165  \n",
      "\n"
     ]
    },
    {
     "name": "stderr",
     "output_type": "stream",
     "text": [
      " 68%|██████████████████████████████████████████████████████████████████████████████████████████████████████████████████████████████▍                                                           | 34/50 [05:51<02:41, 10.07s/it]"
     ]
    },
    {
     "name": "stdout",
     "output_type": "stream",
     "text": [
      "drums           ==> SDR:   4.927  SIR: 247.319  ISR:   8.843  SAR:   3.852  \n",
      "bass            ==> SDR:   4.927  SIR: 247.319  ISR:   8.843  SAR:   3.852  \n",
      "\n"
     ]
    },
    {
     "name": "stderr",
     "output_type": "stream",
     "text": [
      " 70%|██████████████████████████████████████████████████████████████████████████████████████████████████████████████████████████████████▏                                                       | 35/50 [06:01<02:31, 10.08s/it]"
     ]
    },
    {
     "name": "stdout",
     "output_type": "stream",
     "text": [
      "drums           ==> SDR:   9.107  SIR: 219.506  ISR:  13.678  SAR:   9.314  \n",
      "bass            ==> SDR:   9.107  SIR: 219.506  ISR:  13.678  SAR:   9.314  \n",
      "\n"
     ]
    },
    {
     "name": "stderr",
     "output_type": "stream",
     "text": [
      " 72%|█████████████████████████████████████████████████████████████████████████████████████████████████████████████████████████████████████▉                                                    | 36/50 [06:11<02:21, 10.08s/it]"
     ]
    },
    {
     "name": "stdout",
     "output_type": "stream",
     "text": [
      "drums           ==> SDR:   1.725  SIR: 199.054  ISR:   7.536  SAR:  -0.361  \n",
      "bass            ==> SDR:   1.725  SIR: 199.054  ISR:   7.536  SAR:  -0.361  \n",
      "\n"
     ]
    },
    {
     "name": "stderr",
     "output_type": "stream",
     "text": [
      " 74%|█████████████████████████████████████████████████████████████████████████████████████████████████████████████████████████████████████████▋                                                | 37/50 [06:21<02:11, 10.09s/it]"
     ]
    },
    {
     "name": "stdout",
     "output_type": "stream",
     "text": [
      "drums           ==> SDR:   2.741  SIR: 199.846  ISR:  11.162  SAR:   1.263  \n",
      "bass            ==> SDR:   2.741  SIR: 199.846  ISR:  11.162  SAR:   1.263  \n",
      "\n"
     ]
    },
    {
     "name": "stderr",
     "output_type": "stream",
     "text": [
      " 76%|█████████████████████████████████████████████████████████████████████████████████████████████████████████████████████████████████████████████▎                                            | 38/50 [06:31<02:00, 10.03s/it]"
     ]
    },
    {
     "name": "stdout",
     "output_type": "stream",
     "text": [
      "drums           ==> SDR:   7.647  SIR: 225.609  ISR:  10.115  SAR:   5.128  \n",
      "bass            ==> SDR:   7.647  SIR: 225.609  ISR:  10.115  SAR:   5.128  \n",
      "\n"
     ]
    },
    {
     "name": "stderr",
     "output_type": "stream",
     "text": [
      " 78%|█████████████████████████████████████████████████████████████████████████████████████████████████████████████████████████████████████████████████                                         | 39/50 [06:41<01:50, 10.04s/it]"
     ]
    },
    {
     "name": "stdout",
     "output_type": "stream",
     "text": [
      "drums           ==> SDR:   5.016  SIR: 224.775  ISR:   7.172  SAR:   5.737  \n",
      "bass            ==> SDR:   5.016  SIR: 224.775  ISR:   7.172  SAR:   5.737  \n",
      "\n"
     ]
    },
    {
     "name": "stderr",
     "output_type": "stream",
     "text": [
      " 80%|████████████████████████████████████████████████████████████████████████████████████████████████████████████████████████████████████████████████████▊                                     | 40/50 [06:51<01:40, 10.06s/it]"
     ]
    },
    {
     "name": "stdout",
     "output_type": "stream",
     "text": [
      "drums           ==> SDR:   3.632  SIR: 185.070  ISR:   7.813  SAR:   2.377  \n",
      "bass            ==> SDR:   3.632  SIR: 185.070  ISR:   7.813  SAR:   2.377  \n",
      "\n"
     ]
    },
    {
     "name": "stderr",
     "output_type": "stream",
     "text": [
      " 82%|████████████████████████████████████████████████████████████████████████████████████████████████████████████████████████████████████████████████████████▌                                 | 41/50 [07:01<01:30, 10.02s/it]"
     ]
    },
    {
     "name": "stdout",
     "output_type": "stream",
     "text": [
      "drums           ==> SDR:   5.368  SIR: 182.041  ISR:  12.467  SAR:   4.837  \n",
      "bass            ==> SDR:   5.368  SIR: 182.041  ISR:  12.467  SAR:   4.837  \n",
      "\n"
     ]
    },
    {
     "name": "stderr",
     "output_type": "stream",
     "text": [
      " 84%|████████████████████████████████████████████████████████████████████████████████████████████████████████████████████████████████████████████████████████████▏                             | 42/50 [07:11<01:19,  9.98s/it]"
     ]
    },
    {
     "name": "stdout",
     "output_type": "stream",
     "text": [
      "drums           ==> SDR:   7.391  SIR: 127.425  ISR:  11.745  SAR:   6.717  \n",
      "bass            ==> SDR:   7.391  SIR: 127.425  ISR:  11.745  SAR:   6.717  \n",
      "\n"
     ]
    },
    {
     "name": "stderr",
     "output_type": "stream",
     "text": [
      " 86%|███████████████████████████████████████████████████████████████████████████████████████████████████████████████████████████████████████████████████████████████▉                          | 43/50 [07:21<01:09,  9.99s/it]"
     ]
    },
    {
     "name": "stdout",
     "output_type": "stream",
     "text": [
      "drums           ==> SDR:   5.145  SIR: 188.680  ISR:   9.101  SAR:   3.726  \n",
      "bass            ==> SDR:   5.145  SIR: 188.680  ISR:   9.101  SAR:   3.726  \n",
      "\n"
     ]
    },
    {
     "name": "stderr",
     "output_type": "stream",
     "text": [
      " 88%|███████████████████████████████████████████████████████████████████████████████████████████████████████████████████████████████████████████████████████████████████▋                      | 44/50 [07:31<00:58,  9.75s/it]"
     ]
    },
    {
     "name": "stdout",
     "output_type": "stream",
     "text": [
      "drums           ==> SDR:   8.924  SIR: 218.934  ISR:  12.936  SAR:   7.442  \n",
      "bass            ==> SDR:   8.924  SIR: 218.934  ISR:  12.936  SAR:   7.442  \n",
      "\n"
     ]
    },
    {
     "name": "stderr",
     "output_type": "stream",
     "text": [
      " 90%|███████████████████████████████████████████████████████████████████████████████████████████████████████████████████████████████████████████████████████████████████████▍                  | 45/50 [07:41<00:49,  9.85s/it]"
     ]
    },
    {
     "name": "stdout",
     "output_type": "stream",
     "text": [
      "drums           ==> SDR:   0.867  SIR: 214.529  ISR:   1.746  SAR:  -2.300  \n",
      "bass            ==> SDR:   0.867  SIR: 214.529  ISR:   1.746  SAR:  -2.300  \n",
      "\n"
     ]
    },
    {
     "name": "stderr",
     "output_type": "stream",
     "text": [
      " 92%|███████████████████████████████████████████████████████████████████████████████████████████████████████████████████████████████████████████████████████████████████████████               | 46/50 [07:50<00:39,  9.86s/it]"
     ]
    },
    {
     "name": "stdout",
     "output_type": "stream",
     "text": [
      "drums           ==> SDR:   2.440  SIR: 200.876  ISR:   4.796  SAR:  -0.146  \n",
      "bass            ==> SDR:   2.440  SIR: 200.876  ISR:   4.796  SAR:  -0.146  \n",
      "\n"
     ]
    },
    {
     "name": "stderr",
     "output_type": "stream",
     "text": [
      " 94%|██████████████████████████████████████████████████████████████████████████████████████████████████████████████████████████████████████████████████████████████████████████████▊           | 47/50 [08:00<00:29,  9.68s/it]"
     ]
    },
    {
     "name": "stdout",
     "output_type": "stream",
     "text": [
      "drums           ==> SDR:   3.079  SIR: 165.323  ISR:   6.670  SAR:   3.114  \n",
      "bass            ==> SDR:   3.079  SIR: 165.323  ISR:   6.670  SAR:   3.114  \n",
      "\n"
     ]
    },
    {
     "name": "stderr",
     "output_type": "stream",
     "text": [
      " 96%|██████████████████████████████████████████████████████████████████████████████████████████████████████████████████████████████████████████████████████████████████████████████████▌       | 48/50 [08:10<00:19,  9.84s/it]"
     ]
    },
    {
     "name": "stdout",
     "output_type": "stream",
     "text": [
      "drums           ==> SDR:   3.399  SIR: 219.984  ISR:   8.621  SAR:   1.661  \n",
      "bass            ==> SDR:   3.399  SIR: 219.984  ISR:   8.621  SAR:   1.661  \n",
      "\n"
     ]
    },
    {
     "name": "stderr",
     "output_type": "stream",
     "text": [
      " 98%|██████████████████████████████████████████████████████████████████████████████████████████████████████████████████████████████████████████████████████████████████████████████████████▎   | 49/50 [08:20<00:09,  9.89s/it]"
     ]
    },
    {
     "name": "stdout",
     "output_type": "stream",
     "text": [
      "drums           ==> SDR:   8.762  SIR: 213.350  ISR:  16.624  SAR:   8.296  \n",
      "bass            ==> SDR:   8.762  SIR: 213.350  ISR:  16.624  SAR:   8.296  \n",
      "\n"
     ]
    },
    {
     "name": "stderr",
     "output_type": "stream",
     "text": [
      "100%|██████████████████████████████████████████████████████████████████████████████████████████████████████████████████████████████████████████████████████████████████████████████████████████| 50/50 [08:30<00:00, 10.21s/it]"
     ]
    },
    {
     "name": "stdout",
     "output_type": "stream",
     "text": [
      "drums           ==> SDR:   7.208  SIR: 206.180  ISR:  11.801  SAR:   6.482  \n",
      "bass            ==> SDR:   7.208  SIR: 206.180  ISR:  11.801  SAR:   6.482  \n",
      "\n"
     ]
    },
    {
     "name": "stderr",
     "output_type": "stream",
     "text": [
      "\n",
      "C:\\Python311\\Lib\\site-packages\\pytorch_lightning\\utilities\\migration\\utils.py:55: The loaded checkpoint was produced with Lightning v2.2.1, which is newer than your current Lightning version: v2.1.2\n",
      "  2%|███▋                                                                                                                                                                                       | 1/50 [00:09<08:06,  9.93s/it]"
     ]
    },
    {
     "name": "stdout",
     "output_type": "stream",
     "text": [
      "drums           ==> SDR:   7.351  SIR: 204.315  ISR:  12.273  SAR:   6.510  \n",
      "bass            ==> SDR:   7.351  SIR: 204.315  ISR:  12.273  SAR:   6.510  \n",
      "\n"
     ]
    },
    {
     "name": "stderr",
     "output_type": "stream",
     "text": [
      "  4%|███████▍                                                                                                                                                                                   | 2/50 [00:19<07:59, 10.00s/it]"
     ]
    },
    {
     "name": "stdout",
     "output_type": "stream",
     "text": [
      "drums           ==> SDR:   3.091  SIR: 194.061  ISR:   8.529  SAR:   0.356  \n",
      "bass            ==> SDR:   3.091  SIR: 194.061  ISR:   8.529  SAR:   0.356  \n",
      "\n"
     ]
    },
    {
     "name": "stderr",
     "output_type": "stream",
     "text": [
      "  6%|███████████▏                                                                                                                                                                               | 3/50 [00:30<07:50, 10.02s/it]"
     ]
    },
    {
     "name": "stdout",
     "output_type": "stream",
     "text": [
      "drums           ==> SDR:   4.107  SIR: 234.574  ISR:  10.320  SAR:   2.835  \n",
      "bass            ==> SDR:   4.107  SIR: 234.574  ISR:  10.320  SAR:   2.835  \n",
      "\n"
     ]
    },
    {
     "name": "stderr",
     "output_type": "stream",
     "text": [
      "  8%|██████████████▉                                                                                                                                                                            | 4/50 [00:40<07:43, 10.07s/it]"
     ]
    },
    {
     "name": "stdout",
     "output_type": "stream",
     "text": [
      "drums           ==> SDR:   0.657  SIR: 225.089  ISR:  13.228  SAR:  -0.944  \n",
      "bass            ==> SDR:   0.657  SIR: 225.089  ISR:  13.228  SAR:  -0.944  \n",
      "\n"
     ]
    },
    {
     "name": "stderr",
     "output_type": "stream",
     "text": [
      " 10%|██████████████████▋                                                                                                                                                                        | 5/50 [00:50<07:40, 10.24s/it]"
     ]
    },
    {
     "name": "stdout",
     "output_type": "stream",
     "text": [
      "drums           ==> SDR:   8.868  SIR: 199.883  ISR:  15.329  SAR:   8.505  \n",
      "bass            ==> SDR:   8.868  SIR: 199.883  ISR:  15.329  SAR:   8.505  \n",
      "\n"
     ]
    },
    {
     "name": "stderr",
     "output_type": "stream",
     "text": [
      " 12%|██████████████████████▍                                                                                                                                                                    | 6/50 [01:00<07:27, 10.18s/it]"
     ]
    },
    {
     "name": "stdout",
     "output_type": "stream",
     "text": [
      "drums           ==> SDR:   5.083  SIR: 239.048  ISR:   8.983  SAR:   3.880  \n",
      "bass            ==> SDR:   5.083  SIR: 239.048  ISR:   8.983  SAR:   3.880  \n",
      "\n"
     ]
    },
    {
     "name": "stderr",
     "output_type": "stream",
     "text": [
      " 14%|██████████████████████████▏                                                                                                                                                                | 7/50 [01:10<07:13, 10.08s/it]"
     ]
    },
    {
     "name": "stdout",
     "output_type": "stream",
     "text": [
      "drums           ==> SDR:   5.488  SIR: 221.854  ISR:  11.437  SAR:   4.364  \n",
      "bass            ==> SDR:   5.488  SIR: 221.854  ISR:  11.437  SAR:   4.364  \n",
      "\n"
     ]
    },
    {
     "name": "stderr",
     "output_type": "stream",
     "text": [
      " 16%|█████████████████████████████▉                                                                                                                                                             | 8/50 [01:20<07:04, 10.12s/it]"
     ]
    },
    {
     "name": "stdout",
     "output_type": "stream",
     "text": [
      "drums           ==> SDR:   3.962  SIR: 242.751  ISR:  10.335  SAR:   2.707  \n",
      "bass            ==> SDR:   3.962  SIR: 242.751  ISR:  10.335  SAR:   2.707  \n",
      "\n"
     ]
    },
    {
     "name": "stderr",
     "output_type": "stream",
     "text": [
      " 18%|█████████████████████████████████▋                                                                                                                                                         | 9/50 [01:30<06:54, 10.12s/it]"
     ]
    },
    {
     "name": "stdout",
     "output_type": "stream",
     "text": [
      "drums           ==> SDR:   6.084  SIR: 168.277  ISR:   9.057  SAR:   5.660  \n",
      "bass            ==> SDR:   6.084  SIR: 168.277  ISR:   9.057  SAR:   5.660  \n",
      "\n"
     ]
    },
    {
     "name": "stderr",
     "output_type": "stream",
     "text": [
      " 20%|█████████████████████████████████████▏                                                                                                                                                    | 10/50 [01:40<06:43, 10.08s/it]"
     ]
    },
    {
     "name": "stdout",
     "output_type": "stream",
     "text": [
      "drums           ==> SDR: -31.199  SIR: 182.062  ISR:   8.317  SAR: -34.253  \n",
      "bass            ==> SDR: -31.199  SIR: 182.062  ISR:   8.317  SAR: -34.253  \n",
      "\n"
     ]
    },
    {
     "name": "stderr",
     "output_type": "stream",
     "text": [
      " 22%|████████████████████████████████████████▉                                                                                                                                                 | 11/50 [01:50<06:31, 10.04s/it]"
     ]
    },
    {
     "name": "stdout",
     "output_type": "stream",
     "text": [
      "drums           ==> SDR:   9.968  SIR: 213.413  ISR:  14.639  SAR:  10.056  \n",
      "bass            ==> SDR:   9.968  SIR: 213.413  ISR:  14.639  SAR:  10.056  \n",
      "\n"
     ]
    },
    {
     "name": "stderr",
     "output_type": "stream",
     "text": [
      " 24%|████████████████████████████████████████████▋                                                                                                                                             | 12/50 [02:00<06:20, 10.01s/it]"
     ]
    },
    {
     "name": "stdout",
     "output_type": "stream",
     "text": [
      "drums           ==> SDR:   6.662  SIR: 224.566  ISR:   8.199  SAR:   6.897  \n",
      "bass            ==> SDR:   6.662  SIR: 224.566  ISR:   8.199  SAR:   6.897  \n",
      "\n"
     ]
    },
    {
     "name": "stderr",
     "output_type": "stream",
     "text": [
      " 26%|████████████████████████████████████████████████▎                                                                                                                                         | 13/50 [02:10<06:01,  9.78s/it]"
     ]
    },
    {
     "name": "stdout",
     "output_type": "stream",
     "text": [
      "drums           ==> SDR:   1.190  SIR:  87.224  ISR:   1.943  SAR:  -1.218  \n",
      "bass            ==> SDR:   1.190  SIR:  87.224  ISR:   1.943  SAR:  -1.218  \n",
      "\n"
     ]
    },
    {
     "name": "stderr",
     "output_type": "stream",
     "text": [
      " 28%|████████████████████████████████████████████████████                                                                                                                                      | 14/50 [02:19<05:53,  9.81s/it]"
     ]
    },
    {
     "name": "stdout",
     "output_type": "stream",
     "text": [
      "drums           ==> SDR:   7.673  SIR: 209.971  ISR:  12.035  SAR:   7.694  \n",
      "bass            ==> SDR:   7.673  SIR: 209.971  ISR:  12.035  SAR:   7.694  \n",
      "\n"
     ]
    },
    {
     "name": "stderr",
     "output_type": "stream",
     "text": [
      " 30%|███████████████████████████████████████████████████████▊                                                                                                                                  | 15/50 [02:30<05:46,  9.89s/it]"
     ]
    },
    {
     "name": "stdout",
     "output_type": "stream",
     "text": [
      "drums           ==> SDR:   6.143  SIR: 208.348  ISR:  12.871  SAR:   5.426  \n",
      "bass            ==> SDR:   6.143  SIR: 208.348  ISR:  12.871  SAR:   5.426  \n",
      "\n"
     ]
    },
    {
     "name": "stderr",
     "output_type": "stream",
     "text": [
      " 32%|███████████████████████████████████████████████████████████▌                                                                                                                              | 16/50 [02:40<05:38,  9.96s/it]"
     ]
    },
    {
     "name": "stdout",
     "output_type": "stream",
     "text": [
      "drums           ==> SDR:   4.150  SIR: 217.543  ISR:   8.904  SAR:   2.356  \n",
      "bass            ==> SDR:   4.150  SIR: 217.543  ISR:   8.904  SAR:   2.356  \n",
      "\n"
     ]
    },
    {
     "name": "stderr",
     "output_type": "stream",
     "text": [
      " 34%|███████████████████████████████████████████████████████████████▏                                                                                                                          | 17/50 [02:50<05:31, 10.06s/it]"
     ]
    },
    {
     "name": "stdout",
     "output_type": "stream",
     "text": [
      "drums           ==> SDR:   2.399  SIR: 224.133  ISR:   6.087  SAR:  -0.648  \n",
      "bass            ==> SDR:   2.399  SIR: 224.133  ISR:   6.087  SAR:  -0.648  \n",
      "\n"
     ]
    },
    {
     "name": "stderr",
     "output_type": "stream",
     "text": [
      " 36%|██████████████████████████████████████████████████████████████████▉                                                                                                                       | 18/50 [03:00<05:20, 10.03s/it]"
     ]
    },
    {
     "name": "stdout",
     "output_type": "stream",
     "text": [
      "drums           ==> SDR:  10.190  SIR: 200.100  ISR:  14.921  SAR:  10.426  \n",
      "bass            ==> SDR:  10.190  SIR: 200.100  ISR:  14.921  SAR:  10.426  \n",
      "\n"
     ]
    },
    {
     "name": "stderr",
     "output_type": "stream",
     "text": [
      " 38%|██████████████████████████████████████████████████████████████████████▋                                                                                                                   | 19/50 [03:10<05:10, 10.01s/it]"
     ]
    },
    {
     "name": "stdout",
     "output_type": "stream",
     "text": [
      "drums           ==> SDR:   9.145  SIR: 215.869  ISR:  19.277  SAR:   8.732  \n",
      "bass            ==> SDR:   9.145  SIR: 215.869  ISR:  19.277  SAR:   8.732  \n",
      "\n"
     ]
    },
    {
     "name": "stderr",
     "output_type": "stream",
     "text": [
      " 40%|██████████████████████████████████████████████████████████████████████████▍                                                                                                               | 20/50 [03:20<04:59,  9.98s/it]"
     ]
    },
    {
     "name": "stdout",
     "output_type": "stream",
     "text": [
      "drums           ==> SDR:   1.251  SIR: 218.665  ISR:   1.702  SAR:   5.093  \n",
      "bass            ==> SDR:   1.251  SIR: 218.665  ISR:   1.702  SAR:   5.093  \n",
      "\n"
     ]
    },
    {
     "name": "stderr",
     "output_type": "stream",
     "text": [
      " 42%|██████████████████████████████████████████████████████████████████████████████                                                                                                            | 21/50 [03:31<04:56, 10.21s/it]"
     ]
    },
    {
     "name": "stdout",
     "output_type": "stream",
     "text": [
      "drums           ==> SDR:   7.505  SIR: 185.041  ISR:  13.330  SAR:   7.234  \n",
      "bass            ==> SDR:   7.505  SIR: 185.041  ISR:  13.330  SAR:   7.234  \n",
      "\n"
     ]
    },
    {
     "name": "stderr",
     "output_type": "stream",
     "text": [
      " 44%|█████████████████████████████████████████████████████████████████████████████████▊                                                                                                        | 22/50 [03:40<04:42, 10.09s/it]"
     ]
    },
    {
     "name": "stdout",
     "output_type": "stream",
     "text": [
      "drums           ==> SDR: -21.448  SIR: 271.383  ISR:   1.873  SAR: -30.344  \n",
      "bass            ==> SDR: -21.448  SIR: 271.383  ISR:   1.873  SAR: -30.344  \n",
      "\n"
     ]
    },
    {
     "name": "stderr",
     "output_type": "stream",
     "text": [
      " 46%|█████████████████████████████████████████████████████████████████████████████████████▌                                                                                                    | 23/50 [03:50<04:28,  9.93s/it]"
     ]
    },
    {
     "name": "stdout",
     "output_type": "stream",
     "text": [
      "drums           ==> SDR:   4.209  SIR: 171.060  ISR:   8.484  SAR:   2.366  \n",
      "bass            ==> SDR:   4.209  SIR: 171.060  ISR:   8.484  SAR:   2.366  \n",
      "\n"
     ]
    },
    {
     "name": "stderr",
     "output_type": "stream",
     "text": [
      " 48%|█████████████████████████████████████████████████████████████████████████████████████████▎                                                                                                | 24/50 [04:00<04:18,  9.95s/it]"
     ]
    },
    {
     "name": "stdout",
     "output_type": "stream",
     "text": [
      "drums           ==> SDR:   7.285  SIR: 133.816  ISR:  12.275  SAR:   7.544  \n",
      "bass            ==> SDR:   7.285  SIR: 133.816  ISR:  12.275  SAR:   7.544  \n",
      "\n"
     ]
    },
    {
     "name": "stderr",
     "output_type": "stream",
     "text": [
      " 50%|█████████████████████████████████████████████████████████████████████████████████████████████                                                                                             | 25/50 [04:10<04:10, 10.02s/it]"
     ]
    },
    {
     "name": "stdout",
     "output_type": "stream",
     "text": [
      "drums           ==> SDR:   3.151  SIR: 216.721  ISR:   8.493  SAR:   1.421  \n",
      "bass            ==> SDR:   3.151  SIR: 216.721  ISR:   8.493  SAR:   1.421  \n",
      "\n"
     ]
    },
    {
     "name": "stderr",
     "output_type": "stream",
     "text": [
      " 52%|████████████████████████████████████████████████████████████████████████████████████████████████▋                                                                                         | 26/50 [04:20<03:59,  9.97s/it]"
     ]
    },
    {
     "name": "stdout",
     "output_type": "stream",
     "text": [
      "drums           ==> SDR:  11.848  SIR: 184.067  ISR:  18.325  SAR:  11.906  \n",
      "bass            ==> SDR:  11.848  SIR: 184.067  ISR:  18.325  SAR:  11.906  \n",
      "\n"
     ]
    },
    {
     "name": "stderr",
     "output_type": "stream",
     "text": [
      " 54%|████████████████████████████████████████████████████████████████████████████████████████████████████▍                                                                                     | 27/50 [04:30<03:48,  9.94s/it]"
     ]
    },
    {
     "name": "stdout",
     "output_type": "stream",
     "text": [
      "drums           ==> SDR:   7.648  SIR: 183.763  ISR:  16.208  SAR:   7.380  \n",
      "bass            ==> SDR:   7.648  SIR: 183.763  ISR:  16.208  SAR:   7.380  \n",
      "\n"
     ]
    },
    {
     "name": "stderr",
     "output_type": "stream",
     "text": [
      " 56%|████████████████████████████████████████████████████████████████████████████████████████████████████████▏                                                                                 | 28/50 [04:42<03:51, 10.54s/it]"
     ]
    },
    {
     "name": "stdout",
     "output_type": "stream",
     "text": [
      "drums           ==> SDR:  10.106  SIR: 192.195  ISR:  13.063  SAR:  11.222  \n",
      "bass            ==> SDR:  10.106  SIR: 192.195  ISR:  13.063  SAR:  11.222  \n",
      "\n"
     ]
    },
    {
     "name": "stderr",
     "output_type": "stream",
     "text": [
      " 58%|███████████████████████████████████████████████████████████████████████████████████████████████████████████▉                                                                              | 29/50 [04:52<03:37, 10.35s/it]"
     ]
    },
    {
     "name": "stdout",
     "output_type": "stream",
     "text": [
      "drums           ==> SDR:   5.631  SIR: 188.737  ISR:   7.201  SAR:   7.305  \n",
      "bass            ==> SDR:   5.631  SIR: 188.737  ISR:   7.201  SAR:   7.305  \n",
      "\n"
     ]
    },
    {
     "name": "stderr",
     "output_type": "stream",
     "text": [
      " 60%|███████████████████████████████████████████████████████████████████████████████████████████████████████████████▌                                                                          | 30/50 [05:02<03:25, 10.26s/it]"
     ]
    },
    {
     "name": "stdout",
     "output_type": "stream",
     "text": [
      "drums           ==> SDR:   6.282  SIR: 217.947  ISR:  12.107  SAR:   6.270  \n",
      "bass            ==> SDR:   6.282  SIR: 217.947  ISR:  12.107  SAR:   6.270  \n",
      "\n"
     ]
    },
    {
     "name": "stderr",
     "output_type": "stream",
     "text": [
      " 62%|███████████████████████████████████████████████████████████████████████████████████████████████████████████████████▎                                                                      | 31/50 [05:12<03:14, 10.25s/it]"
     ]
    },
    {
     "name": "stdout",
     "output_type": "stream",
     "text": [
      "drums           ==> SDR:   2.618  SIR: 196.192  ISR:  10.620  SAR:   0.906  \n",
      "bass            ==> SDR:   2.618  SIR: 196.192  ISR:  10.620  SAR:   0.906  \n",
      "\n"
     ]
    },
    {
     "name": "stderr",
     "output_type": "stream",
     "text": [
      " 64%|███████████████████████████████████████████████████████████████████████████████████████████████████████████████████████                                                                   | 32/50 [05:21<03:00, 10.04s/it]"
     ]
    },
    {
     "name": "stdout",
     "output_type": "stream",
     "text": [
      "drums           ==> SDR:   2.624  SIR: 192.217  ISR:   5.784  SAR:   1.575  \n",
      "bass            ==> SDR:   2.624  SIR: 192.217  ISR:   5.784  SAR:   1.575  \n",
      "\n"
     ]
    },
    {
     "name": "stderr",
     "output_type": "stream",
     "text": [
      " 66%|██████████████████████████████████████████████████████████████████████████████████████████████████████████████████████████▊                                                               | 33/50 [05:32<02:51, 10.10s/it]"
     ]
    },
    {
     "name": "stdout",
     "output_type": "stream",
     "text": [
      "drums           ==> SDR:   2.584  SIR: 223.010  ISR:   5.994  SAR:  -0.494  \n",
      "bass            ==> SDR:   2.584  SIR: 223.010  ISR:   5.994  SAR:  -0.494  \n",
      "\n"
     ]
    },
    {
     "name": "stderr",
     "output_type": "stream",
     "text": [
      " 68%|██████████████████████████████████████████████████████████████████████████████████████████████████████████████████████████████▍                                                           | 34/50 [05:42<02:41, 10.12s/it]"
     ]
    },
    {
     "name": "stdout",
     "output_type": "stream",
     "text": [
      "drums           ==> SDR:   4.766  SIR: 252.815  ISR:   8.954  SAR:   3.615  \n",
      "bass            ==> SDR:   4.766  SIR: 252.815  ISR:   8.954  SAR:   3.615  \n",
      "\n"
     ]
    },
    {
     "name": "stderr",
     "output_type": "stream",
     "text": [
      " 70%|██████████████████████████████████████████████████████████████████████████████████████████████████████████████████████████████████▏                                                       | 35/50 [05:57<02:52, 11.49s/it]"
     ]
    },
    {
     "name": "stdout",
     "output_type": "stream",
     "text": [
      "drums           ==> SDR:   9.346  SIR: 215.473  ISR:  14.008  SAR:   9.369  \n",
      "bass            ==> SDR:   9.346  SIR: 215.473  ISR:  14.008  SAR:   9.369  \n",
      "\n"
     ]
    },
    {
     "name": "stderr",
     "output_type": "stream",
     "text": [
      " 72%|█████████████████████████████████████████████████████████████████████████████████████████████████████████████████████████████████████▉                                                    | 36/50 [06:08<02:42, 11.58s/it]"
     ]
    },
    {
     "name": "stdout",
     "output_type": "stream",
     "text": [
      "drums           ==> SDR:   1.923  SIR: 200.751  ISR:   7.633  SAR:  -0.437  \n",
      "bass            ==> SDR:   1.923  SIR: 200.751  ISR:   7.633  SAR:  -0.437  \n",
      "\n"
     ]
    },
    {
     "name": "stderr",
     "output_type": "stream",
     "text": [
      " 74%|█████████████████████████████████████████████████████████████████████████████████████████████████████████████████████████████████████████▋                                                | 37/50 [06:20<02:29, 11.48s/it]"
     ]
    },
    {
     "name": "stdout",
     "output_type": "stream",
     "text": [
      "drums           ==> SDR:   0.417  SIR: 199.206  ISR:  11.179  SAR:  -1.751  \n",
      "bass            ==> SDR:   0.417  SIR: 199.206  ISR:  11.179  SAR:  -1.751  \n",
      "\n"
     ]
    },
    {
     "name": "stderr",
     "output_type": "stream",
     "text": [
      " 76%|█████████████████████████████████████████████████████████████████████████████████████████████████████████████████████████████████████████████▎                                            | 38/50 [06:31<02:16, 11.41s/it]"
     ]
    },
    {
     "name": "stdout",
     "output_type": "stream",
     "text": [
      "drums           ==> SDR:   6.982  SIR: 225.312  ISR:  10.448  SAR:   4.774  \n",
      "bass            ==> SDR:   6.982  SIR: 225.312  ISR:  10.448  SAR:   4.774  \n",
      "\n"
     ]
    },
    {
     "name": "stderr",
     "output_type": "stream",
     "text": [
      " 78%|█████████████████████████████████████████████████████████████████████████████████████████████████████████████████████████████████████████████████                                         | 39/50 [06:43<02:06, 11.48s/it]"
     ]
    },
    {
     "name": "stdout",
     "output_type": "stream",
     "text": [
      "drums           ==> SDR:   5.296  SIR: 226.777  ISR:   7.350  SAR:   5.803  \n",
      "bass            ==> SDR:   5.296  SIR: 226.777  ISR:   7.350  SAR:   5.803  \n",
      "\n"
     ]
    },
    {
     "name": "stderr",
     "output_type": "stream",
     "text": [
      " 80%|████████████████████████████████████████████████████████████████████████████████████████████████████████████████████████████████████████████████████▊                                     | 40/50 [06:55<01:57, 11.79s/it]"
     ]
    },
    {
     "name": "stdout",
     "output_type": "stream",
     "text": [
      "drums           ==> SDR:  -0.464  SIR: 176.323  ISR:   7.600  SAR:  -2.399  \n",
      "bass            ==> SDR:  -0.464  SIR: 176.323  ISR:   7.600  SAR:  -2.399  \n",
      "\n"
     ]
    },
    {
     "name": "stderr",
     "output_type": "stream",
     "text": [
      " 82%|████████████████████████████████████████████████████████████████████████████████████████████████████████████████████████████████████████████████████████▌                                 | 41/50 [07:07<01:47, 11.94s/it]"
     ]
    },
    {
     "name": "stdout",
     "output_type": "stream",
     "text": [
      "drums           ==> SDR:   6.143  SIR: 184.587  ISR:  12.994  SAR:   4.874  \n",
      "bass            ==> SDR:   6.143  SIR: 184.587  ISR:  12.994  SAR:   4.874  \n",
      "\n"
     ]
    },
    {
     "name": "stderr",
     "output_type": "stream",
     "text": [
      " 84%|████████████████████████████████████████████████████████████████████████████████████████████████████████████████████████████████████████████████████████████▏                             | 42/50 [07:20<01:38, 12.28s/it]"
     ]
    },
    {
     "name": "stdout",
     "output_type": "stream",
     "text": [
      "drums           ==> SDR:   7.330  SIR: 127.548  ISR:  11.966  SAR:   6.817  \n",
      "bass            ==> SDR:   7.330  SIR: 127.548  ISR:  11.966  SAR:   6.817  \n",
      "\n"
     ]
    },
    {
     "name": "stderr",
     "output_type": "stream",
     "text": [
      " 86%|███████████████████████████████████████████████████████████████████████████████████████████████████████████████████████████████████████████████████████████████▉                          | 43/50 [07:33<01:25, 12.23s/it]"
     ]
    },
    {
     "name": "stdout",
     "output_type": "stream",
     "text": [
      "drums           ==> SDR:   4.908  SIR: 189.578  ISR:   8.847  SAR:   3.310  \n",
      "bass            ==> SDR:   4.908  SIR: 189.578  ISR:   8.847  SAR:   3.310  \n",
      "\n"
     ]
    },
    {
     "name": "stderr",
     "output_type": "stream",
     "text": [
      " 88%|███████████████████████████████████████████████████████████████████████████████████████████████████████████████████████████████████████████████████████████████████▋                      | 44/50 [07:45<01:13, 12.19s/it]"
     ]
    },
    {
     "name": "stdout",
     "output_type": "stream",
     "text": [
      "drums           ==> SDR:   7.780  SIR: 217.572  ISR:  12.796  SAR:   7.539  \n",
      "bass            ==> SDR:   7.780  SIR: 217.572  ISR:  12.796  SAR:   7.539  \n",
      "\n"
     ]
    },
    {
     "name": "stderr",
     "output_type": "stream",
     "text": [
      " 90%|███████████████████████████████████████████████████████████████████████████████████████████████████████████████████████████████████████████████████████████████████████▍                  | 45/50 [07:58<01:02, 12.44s/it]"
     ]
    },
    {
     "name": "stdout",
     "output_type": "stream",
     "text": [
      "drums           ==> SDR:   1.079  SIR: 217.341  ISR:   1.729  SAR:  -2.009  \n",
      "bass            ==> SDR:   1.079  SIR: 217.341  ISR:   1.729  SAR:  -2.009  \n",
      "\n"
     ]
    },
    {
     "name": "stderr",
     "output_type": "stream",
     "text": [
      " 92%|███████████████████████████████████████████████████████████████████████████████████████████████████████████████████████████████████████████████████████████████████████████               | 46/50 [08:10<00:49, 12.41s/it]"
     ]
    },
    {
     "name": "stdout",
     "output_type": "stream",
     "text": [
      "drums           ==> SDR:   2.278  SIR: 204.767  ISR:   4.959  SAR:  -0.125  \n",
      "bass            ==> SDR:   2.278  SIR: 204.767  ISR:   4.959  SAR:  -0.125  \n",
      "\n"
     ]
    },
    {
     "name": "stderr",
     "output_type": "stream",
     "text": [
      " 94%|██████████████████████████████████████████████████████████████████████████████████████████████████████████████████████████████████████████████████████████████████████████████▊           | 47/50 [08:22<00:36, 12.15s/it]"
     ]
    },
    {
     "name": "stdout",
     "output_type": "stream",
     "text": [
      "drums           ==> SDR:   2.720  SIR: 160.958  ISR:   7.039  SAR:   1.331  \n",
      "bass            ==> SDR:   2.720  SIR: 160.958  ISR:   7.039  SAR:   1.331  \n",
      "\n"
     ]
    },
    {
     "name": "stderr",
     "output_type": "stream",
     "text": [
      " 96%|██████████████████████████████████████████████████████████████████████████████████████████████████████████████████████████████████████████████████████████████████████████████████▌       | 48/50 [08:40<00:28, 14.19s/it]"
     ]
    },
    {
     "name": "stdout",
     "output_type": "stream",
     "text": [
      "drums           ==> SDR:   3.429  SIR: 221.547  ISR:   8.686  SAR:   1.479  \n",
      "bass            ==> SDR:   3.429  SIR: 221.547  ISR:   8.686  SAR:   1.479  \n",
      "\n"
     ]
    },
    {
     "name": "stderr",
     "output_type": "stream",
     "text": [
      " 98%|██████████████████████████████████████████████████████████████████████████████████████████████████████████████████████████████████████████████████████████████████████████████████████▎   | 49/50 [08:51<00:13, 13.03s/it]"
     ]
    },
    {
     "name": "stdout",
     "output_type": "stream",
     "text": [
      "drums           ==> SDR:   8.389  SIR: 209.470  ISR:  16.696  SAR:   8.061  \n",
      "bass            ==> SDR:   8.389  SIR: 209.470  ISR:  16.696  SAR:   8.061  \n",
      "\n"
     ]
    },
    {
     "name": "stderr",
     "output_type": "stream",
     "text": [
      "100%|██████████████████████████████████████████████████████████████████████████████████████████████████████████████████████████████████████████████████████████████████████████████████████████| 50/50 [09:01<00:00, 10.83s/it]"
     ]
    },
    {
     "name": "stdout",
     "output_type": "stream",
     "text": [
      "drums           ==> SDR:   7.035  SIR: 205.180  ISR:  11.870  SAR:   6.447  \n",
      "bass            ==> SDR:   7.035  SIR: 205.180  ISR:  11.870  SAR:   6.447  \n",
      "\n"
     ]
    },
    {
     "name": "stderr",
     "output_type": "stream",
     "text": [
      "\n",
      "C:\\Python311\\Lib\\site-packages\\pytorch_lightning\\utilities\\migration\\utils.py:55: The loaded checkpoint was produced with Lightning v2.2.1, which is newer than your current Lightning version: v2.1.2\n",
      "  2%|███▋                                                                                                                                                                                       | 1/50 [00:09<08:06,  9.94s/it]"
     ]
    },
    {
     "name": "stdout",
     "output_type": "stream",
     "text": [
      "drums           ==> SDR:   7.662  SIR: 206.140  ISR:  12.416  SAR:   6.801  \n",
      "bass            ==> SDR:   7.662  SIR: 206.140  ISR:  12.416  SAR:   6.801  \n",
      "\n"
     ]
    },
    {
     "name": "stderr",
     "output_type": "stream",
     "text": [
      "  4%|███████▍                                                                                                                                                                                   | 2/50 [00:19<07:54,  9.89s/it]"
     ]
    },
    {
     "name": "stdout",
     "output_type": "stream",
     "text": [
      "drums           ==> SDR:   3.018  SIR: 190.662  ISR:   8.895  SAR:   0.398  \n",
      "bass            ==> SDR:   3.018  SIR: 190.662  ISR:   8.895  SAR:   0.398  \n",
      "\n"
     ]
    },
    {
     "name": "stderr",
     "output_type": "stream",
     "text": [
      "  6%|███████████▏                                                                                                                                                                               | 3/50 [00:30<07:52, 10.06s/it]"
     ]
    },
    {
     "name": "stdout",
     "output_type": "stream",
     "text": [
      "drums           ==> SDR:   4.074  SIR: 231.302  ISR:  10.334  SAR:   2.615  \n",
      "bass            ==> SDR:   4.074  SIR: 231.302  ISR:  10.334  SAR:   2.615  \n",
      "\n"
     ]
    },
    {
     "name": "stderr",
     "output_type": "stream",
     "text": [
      "  8%|██████████████▉                                                                                                                                                                            | 4/50 [00:39<07:40, 10.01s/it]"
     ]
    },
    {
     "name": "stdout",
     "output_type": "stream",
     "text": [
      "drums           ==> SDR:   0.941  SIR: 221.817  ISR:  13.310  SAR:  -0.918  \n",
      "bass            ==> SDR:   0.941  SIR: 221.817  ISR:  13.310  SAR:  -0.918  \n",
      "\n"
     ]
    },
    {
     "name": "stderr",
     "output_type": "stream",
     "text": [
      " 10%|██████████████████▋                                                                                                                                                                        | 5/50 [00:49<07:30, 10.01s/it]"
     ]
    },
    {
     "name": "stdout",
     "output_type": "stream",
     "text": [
      "drums           ==> SDR:   8.636  SIR: 208.712  ISR:  15.322  SAR:   8.065  \n",
      "bass            ==> SDR:   8.636  SIR: 208.712  ISR:  15.322  SAR:   8.065  \n",
      "\n"
     ]
    },
    {
     "name": "stderr",
     "output_type": "stream",
     "text": [
      " 12%|██████████████████████▍                                                                                                                                                                    | 6/50 [00:59<07:16,  9.93s/it]"
     ]
    },
    {
     "name": "stdout",
     "output_type": "stream",
     "text": [
      "drums           ==> SDR:   4.793  SIR: 232.178  ISR:   8.885  SAR:   4.056  \n",
      "bass            ==> SDR:   4.793  SIR: 232.178  ISR:   8.885  SAR:   4.056  \n",
      "\n"
     ]
    },
    {
     "name": "stderr",
     "output_type": "stream",
     "text": [
      " 14%|██████████████████████████▏                                                                                                                                                                | 7/50 [01:09<07:03,  9.84s/it]"
     ]
    },
    {
     "name": "stdout",
     "output_type": "stream",
     "text": [
      "drums           ==> SDR:   5.507  SIR: 216.396  ISR:  11.626  SAR:   4.518  \n",
      "bass            ==> SDR:   5.507  SIR: 216.396  ISR:  11.626  SAR:   4.518  \n",
      "\n"
     ]
    },
    {
     "name": "stderr",
     "output_type": "stream",
     "text": [
      " 16%|█████████████████████████████▉                                                                                                                                                             | 8/50 [01:19<06:54,  9.86s/it]"
     ]
    },
    {
     "name": "stdout",
     "output_type": "stream",
     "text": [
      "drums           ==> SDR:   3.700  SIR: 243.961  ISR:  10.428  SAR:   2.274  \n",
      "bass            ==> SDR:   3.700  SIR: 243.961  ISR:  10.428  SAR:   2.274  \n",
      "\n"
     ]
    },
    {
     "name": "stderr",
     "output_type": "stream",
     "text": [
      " 18%|█████████████████████████████████▋                                                                                                                                                         | 9/50 [01:29<06:42,  9.83s/it]"
     ]
    },
    {
     "name": "stdout",
     "output_type": "stream",
     "text": [
      "drums           ==> SDR:   5.719  SIR: 166.413  ISR:   8.482  SAR:   5.248  \n",
      "bass            ==> SDR:   5.719  SIR: 166.413  ISR:   8.482  SAR:   5.248  \n",
      "\n"
     ]
    },
    {
     "name": "stderr",
     "output_type": "stream",
     "text": [
      " 20%|█████████████████████████████████████▏                                                                                                                                                    | 10/50 [01:39<06:34,  9.87s/it]"
     ]
    },
    {
     "name": "stdout",
     "output_type": "stream",
     "text": [
      "drums           ==> SDR: -33.626  SIR: 182.582  ISR:   8.369  SAR: -36.566  \n",
      "bass            ==> SDR: -33.626  SIR: 182.582  ISR:   8.369  SAR: -36.566  \n",
      "\n"
     ]
    },
    {
     "name": "stderr",
     "output_type": "stream",
     "text": [
      " 22%|████████████████████████████████████████▉                                                                                                                                                 | 11/50 [01:49<06:26,  9.91s/it]"
     ]
    },
    {
     "name": "stdout",
     "output_type": "stream",
     "text": [
      "drums           ==> SDR:   9.733  SIR: 217.952  ISR:  14.620  SAR:   9.953  \n",
      "bass            ==> SDR:   9.733  SIR: 217.952  ISR:  14.620  SAR:   9.953  \n",
      "\n"
     ]
    },
    {
     "name": "stderr",
     "output_type": "stream",
     "text": [
      " 24%|████████████████████████████████████████████▋                                                                                                                                             | 12/50 [01:59<06:18,  9.96s/it]"
     ]
    },
    {
     "name": "stdout",
     "output_type": "stream",
     "text": [
      "drums           ==> SDR:   6.474  SIR: 227.017  ISR:   8.298  SAR:   6.904  \n",
      "bass            ==> SDR:   6.474  SIR: 227.017  ISR:   8.298  SAR:   6.904  \n",
      "\n"
     ]
    },
    {
     "name": "stderr",
     "output_type": "stream",
     "text": [
      " 26%|████████████████████████████████████████████████▎                                                                                                                                         | 13/50 [02:08<05:59,  9.73s/it]"
     ]
    },
    {
     "name": "stdout",
     "output_type": "stream",
     "text": [
      "drums           ==> SDR:   1.174  SIR:  83.769  ISR:   2.106  SAR:  -0.814  \n",
      "bass            ==> SDR:   1.174  SIR:  83.769  ISR:   2.106  SAR:  -0.814  \n",
      "\n"
     ]
    },
    {
     "name": "stderr",
     "output_type": "stream",
     "text": [
      " 28%|████████████████████████████████████████████████████                                                                                                                                      | 14/50 [02:18<05:52,  9.80s/it]"
     ]
    },
    {
     "name": "stdout",
     "output_type": "stream",
     "text": [
      "drums           ==> SDR:   7.580  SIR: 211.856  ISR:  11.802  SAR:   7.524  \n",
      "bass            ==> SDR:   7.580  SIR: 211.856  ISR:  11.802  SAR:   7.524  \n",
      "\n"
     ]
    },
    {
     "name": "stderr",
     "output_type": "stream",
     "text": [
      " 30%|███████████████████████████████████████████████████████▊                                                                                                                                  | 15/50 [02:28<05:45,  9.88s/it]"
     ]
    },
    {
     "name": "stdout",
     "output_type": "stream",
     "text": [
      "drums           ==> SDR:   6.033  SIR: 205.484  ISR:  12.851  SAR:   5.027  \n",
      "bass            ==> SDR:   6.033  SIR: 205.484  ISR:  12.851  SAR:   5.027  \n",
      "\n"
     ]
    },
    {
     "name": "stderr",
     "output_type": "stream",
     "text": [
      " 32%|███████████████████████████████████████████████████████████▌                                                                                                                              | 16/50 [02:38<05:34,  9.85s/it]"
     ]
    },
    {
     "name": "stdout",
     "output_type": "stream",
     "text": [
      "drums           ==> SDR:   4.532  SIR: 215.571  ISR:   9.922  SAR:   2.623  \n",
      "bass            ==> SDR:   4.532  SIR: 215.571  ISR:   9.922  SAR:   2.623  \n",
      "\n"
     ]
    },
    {
     "name": "stderr",
     "output_type": "stream",
     "text": [
      " 34%|███████████████████████████████████████████████████████████████▏                                                                                                                          | 17/50 [02:47<05:24,  9.85s/it]"
     ]
    },
    {
     "name": "stdout",
     "output_type": "stream",
     "text": [
      "drums           ==> SDR:   2.342  SIR: 220.955  ISR:   6.167  SAR:  -0.679  \n",
      "bass            ==> SDR:   2.342  SIR: 220.955  ISR:   6.167  SAR:  -0.679  \n",
      "\n"
     ]
    },
    {
     "name": "stderr",
     "output_type": "stream",
     "text": [
      " 36%|██████████████████████████████████████████████████████████████████▉                                                                                                                       | 18/50 [02:57<05:14,  9.82s/it]"
     ]
    },
    {
     "name": "stdout",
     "output_type": "stream",
     "text": [
      "drums           ==> SDR:  10.253  SIR: 201.149  ISR:  14.969  SAR:  10.333  \n",
      "bass            ==> SDR:  10.253  SIR: 201.149  ISR:  14.969  SAR:  10.333  \n",
      "\n"
     ]
    },
    {
     "name": "stderr",
     "output_type": "stream",
     "text": [
      " 38%|██████████████████████████████████████████████████████████████████████▋                                                                                                                   | 19/50 [03:07<05:04,  9.82s/it]"
     ]
    },
    {
     "name": "stdout",
     "output_type": "stream",
     "text": [
      "drums           ==> SDR:   9.107  SIR: 224.103  ISR:  19.364  SAR:   8.803  \n",
      "bass            ==> SDR:   9.107  SIR: 224.103  ISR:  19.364  SAR:   8.803  \n",
      "\n"
     ]
    },
    {
     "name": "stderr",
     "output_type": "stream",
     "text": [
      " 40%|██████████████████████████████████████████████████████████████████████████▍                                                                                                               | 20/50 [03:17<04:58,  9.94s/it]"
     ]
    },
    {
     "name": "stdout",
     "output_type": "stream",
     "text": [
      "drums           ==> SDR:   1.271  SIR: 214.323  ISR:   1.722  SAR:   5.206  \n",
      "bass            ==> SDR:   1.271  SIR: 214.323  ISR:   1.722  SAR:   5.206  \n",
      "\n"
     ]
    },
    {
     "name": "stderr",
     "output_type": "stream",
     "text": [
      " 42%|██████████████████████████████████████████████████████████████████████████████                                                                                                            | 21/50 [03:27<04:47,  9.90s/it]"
     ]
    },
    {
     "name": "stdout",
     "output_type": "stream",
     "text": [
      "drums           ==> SDR:   7.189  SIR: 187.171  ISR:  13.695  SAR:   6.717  \n",
      "bass            ==> SDR:   7.189  SIR: 187.171  ISR:  13.695  SAR:   6.717  \n",
      "\n"
     ]
    },
    {
     "name": "stderr",
     "output_type": "stream",
     "text": [
      " 44%|█████████████████████████████████████████████████████████████████████████████████▊                                                                                                        | 22/50 [03:37<04:34,  9.80s/it]"
     ]
    },
    {
     "name": "stdout",
     "output_type": "stream",
     "text": [
      "drums           ==> SDR: -21.978  SIR: 272.644  ISR:   2.080  SAR: -28.160  \n",
      "bass            ==> SDR: -21.978  SIR: 272.644  ISR:   2.080  SAR: -28.160  \n",
      "\n"
     ]
    },
    {
     "name": "stderr",
     "output_type": "stream",
     "text": [
      " 46%|█████████████████████████████████████████████████████████████████████████████████████▌                                                                                                    | 23/50 [03:46<04:22,  9.71s/it]"
     ]
    },
    {
     "name": "stdout",
     "output_type": "stream",
     "text": [
      "drums           ==> SDR:   3.957  SIR: 173.436  ISR:   8.815  SAR:   2.218  \n",
      "bass            ==> SDR:   3.957  SIR: 173.436  ISR:   8.815  SAR:   2.218  \n",
      "\n"
     ]
    },
    {
     "name": "stderr",
     "output_type": "stream",
     "text": [
      " 48%|█████████████████████████████████████████████████████████████████████████████████████████▎                                                                                                | 24/50 [03:56<04:17,  9.89s/it]"
     ]
    },
    {
     "name": "stdout",
     "output_type": "stream",
     "text": [
      "drums           ==> SDR:   7.224  SIR: 134.784  ISR:  12.443  SAR:   7.008  \n",
      "bass            ==> SDR:   7.224  SIR: 134.784  ISR:  12.443  SAR:   7.008  \n",
      "\n"
     ]
    },
    {
     "name": "stderr",
     "output_type": "stream",
     "text": [
      " 50%|█████████████████████████████████████████████████████████████████████████████████████████████                                                                                             | 25/50 [04:07<04:11, 10.04s/it]"
     ]
    },
    {
     "name": "stdout",
     "output_type": "stream",
     "text": [
      "drums           ==> SDR:   2.861  SIR: 218.737  ISR:   8.320  SAR:   0.850  \n",
      "bass            ==> SDR:   2.861  SIR: 218.737  ISR:   8.320  SAR:   0.850  \n",
      "\n"
     ]
    },
    {
     "name": "stderr",
     "output_type": "stream",
     "text": [
      " 52%|████████████████████████████████████████████████████████████████████████████████████████████████▋                                                                                         | 26/50 [04:18<04:09, 10.39s/it]"
     ]
    },
    {
     "name": "stdout",
     "output_type": "stream",
     "text": [
      "drums           ==> SDR:  11.740  SIR: 186.252  ISR:  18.452  SAR:  11.789  \n",
      "bass            ==> SDR:  11.740  SIR: 186.252  ISR:  18.452  SAR:  11.789  \n",
      "\n"
     ]
    },
    {
     "name": "stderr",
     "output_type": "stream",
     "text": [
      " 54%|████████████████████████████████████████████████████████████████████████████████████████████████████▍                                                                                     | 27/50 [04:28<03:56, 10.27s/it]"
     ]
    },
    {
     "name": "stdout",
     "output_type": "stream",
     "text": [
      "drums           ==> SDR:   6.667  SIR: 197.160  ISR:  16.319  SAR:   6.447  \n",
      "bass            ==> SDR:   6.667  SIR: 197.160  ISR:  16.319  SAR:   6.447  \n",
      "\n"
     ]
    },
    {
     "name": "stderr",
     "output_type": "stream",
     "text": [
      " 56%|████████████████████████████████████████████████████████████████████████████████████████████████████████▏                                                                                 | 28/50 [04:38<03:43, 10.18s/it]"
     ]
    },
    {
     "name": "stdout",
     "output_type": "stream",
     "text": [
      "drums           ==> SDR:  10.140  SIR: 195.863  ISR:  13.193  SAR:  11.124  \n",
      "bass            ==> SDR:  10.140  SIR: 195.863  ISR:  13.193  SAR:  11.124  \n",
      "\n"
     ]
    },
    {
     "name": "stderr",
     "output_type": "stream",
     "text": [
      " 58%|███████████████████████████████████████████████████████████████████████████████████████████████████████████▉                                                                              | 29/50 [04:48<03:32, 10.13s/it]"
     ]
    },
    {
     "name": "stdout",
     "output_type": "stream",
     "text": [
      "drums           ==> SDR:   5.649  SIR: 195.030  ISR:   7.261  SAR:   7.310  \n",
      "bass            ==> SDR:   5.649  SIR: 195.030  ISR:   7.261  SAR:   7.310  \n",
      "\n"
     ]
    },
    {
     "name": "stderr",
     "output_type": "stream",
     "text": [
      " 60%|███████████████████████████████████████████████████████████████████████████████████████████████████████████████▌                                                                          | 30/50 [04:58<03:22, 10.13s/it]"
     ]
    },
    {
     "name": "stdout",
     "output_type": "stream",
     "text": [
      "drums           ==> SDR:   6.201  SIR: 214.188  ISR:  12.109  SAR:   6.112  \n",
      "bass            ==> SDR:   6.201  SIR: 214.188  ISR:  12.109  SAR:   6.112  \n",
      "\n"
     ]
    },
    {
     "name": "stderr",
     "output_type": "stream",
     "text": [
      " 62%|███████████████████████████████████████████████████████████████████████████████████████████████████████████████████▎                                                                      | 31/50 [05:08<03:11, 10.10s/it]"
     ]
    },
    {
     "name": "stdout",
     "output_type": "stream",
     "text": [
      "drums           ==> SDR:   3.087  SIR: 202.129  ISR:  10.473  SAR:   1.200  \n",
      "bass            ==> SDR:   3.087  SIR: 202.129  ISR:  10.473  SAR:   1.200  \n",
      "\n"
     ]
    },
    {
     "name": "stderr",
     "output_type": "stream",
     "text": [
      " 64%|███████████████████████████████████████████████████████████████████████████████████████████████████████████████████████                                                                   | 32/50 [05:18<02:59,  9.97s/it]"
     ]
    },
    {
     "name": "stdout",
     "output_type": "stream",
     "text": [
      "drums           ==> SDR:   2.541  SIR: 202.332  ISR:   5.815  SAR:   1.808  \n",
      "bass            ==> SDR:   2.541  SIR: 202.332  ISR:   5.815  SAR:   1.808  \n",
      "\n"
     ]
    },
    {
     "name": "stderr",
     "output_type": "stream",
     "text": [
      " 66%|██████████████████████████████████████████████████████████████████████████████████████████████████████████████████████████▊                                                               | 33/50 [05:28<02:50, 10.05s/it]"
     ]
    },
    {
     "name": "stdout",
     "output_type": "stream",
     "text": [
      "drums           ==> SDR:   2.465  SIR: 230.864  ISR:   6.013  SAR:  -0.702  \n",
      "bass            ==> SDR:   2.465  SIR: 230.864  ISR:   6.013  SAR:  -0.702  \n",
      "\n"
     ]
    },
    {
     "name": "stderr",
     "output_type": "stream",
     "text": [
      " 68%|██████████████████████████████████████████████████████████████████████████████████████████████████████████████████████████████▍                                                           | 34/50 [05:38<02:41, 10.07s/it]"
     ]
    },
    {
     "name": "stdout",
     "output_type": "stream",
     "text": [
      "drums           ==> SDR:   4.888  SIR: 246.983  ISR:   9.175  SAR:   3.732  \n",
      "bass            ==> SDR:   4.888  SIR: 246.983  ISR:   9.175  SAR:   3.732  \n",
      "\n"
     ]
    },
    {
     "name": "stderr",
     "output_type": "stream",
     "text": [
      " 70%|██████████████████████████████████████████████████████████████████████████████████████████████████████████████████████████████████▏                                                       | 35/50 [05:48<02:31, 10.12s/it]"
     ]
    },
    {
     "name": "stdout",
     "output_type": "stream",
     "text": [
      "drums           ==> SDR:   9.128  SIR: 223.995  ISR:  14.051  SAR:   8.879  \n",
      "bass            ==> SDR:   9.128  SIR: 223.995  ISR:  14.051  SAR:   8.879  \n",
      "\n"
     ]
    },
    {
     "name": "stderr",
     "output_type": "stream",
     "text": [
      " 72%|█████████████████████████████████████████████████████████████████████████████████████████████████████████████████████████████████████▉                                                    | 36/50 [05:59<02:21, 10.11s/it]"
     ]
    },
    {
     "name": "stdout",
     "output_type": "stream",
     "text": [
      "drums           ==> SDR:   1.861  SIR: 200.812  ISR:   7.636  SAR:  -0.273  \n",
      "bass            ==> SDR:   1.861  SIR: 200.812  ISR:   7.636  SAR:  -0.273  \n",
      "\n"
     ]
    },
    {
     "name": "stderr",
     "output_type": "stream",
     "text": [
      " 74%|█████████████████████████████████████████████████████████████████████████████████████████████████████████████████████████████████████████▋                                                | 37/50 [06:09<02:11, 10.15s/it]"
     ]
    },
    {
     "name": "stdout",
     "output_type": "stream",
     "text": [
      "drums           ==> SDR:  -0.549  SIR: 202.946  ISR:  11.400  SAR:  -2.632  \n",
      "bass            ==> SDR:  -0.549  SIR: 202.946  ISR:  11.400  SAR:  -2.632  \n",
      "\n"
     ]
    },
    {
     "name": "stderr",
     "output_type": "stream",
     "text": [
      " 76%|█████████████████████████████████████████████████████████████████████████████████████████████████████████████████████████████████████████████▎                                            | 38/50 [06:19<02:02, 10.18s/it]"
     ]
    },
    {
     "name": "stdout",
     "output_type": "stream",
     "text": [
      "drums           ==> SDR:   7.049  SIR: 223.004  ISR:  10.291  SAR:   4.436  \n",
      "bass            ==> SDR:   7.049  SIR: 223.004  ISR:  10.291  SAR:   4.436  \n",
      "\n"
     ]
    },
    {
     "name": "stderr",
     "output_type": "stream",
     "text": [
      " 78%|█████████████████████████████████████████████████████████████████████████████████████████████████████████████████████████████████████████████████                                         | 39/50 [06:29<01:51, 10.17s/it]"
     ]
    },
    {
     "name": "stdout",
     "output_type": "stream",
     "text": [
      "drums           ==> SDR:   5.291  SIR: 230.066  ISR:   7.375  SAR:   6.106  \n",
      "bass            ==> SDR:   5.291  SIR: 230.066  ISR:   7.375  SAR:   6.106  \n",
      "\n"
     ]
    },
    {
     "name": "stderr",
     "output_type": "stream",
     "text": [
      " 80%|████████████████████████████████████████████████████████████████████████████████████████████████████████████████████████████████████████████████████▊                                     | 40/50 [06:39<01:41, 10.19s/it]"
     ]
    },
    {
     "name": "stdout",
     "output_type": "stream",
     "text": [
      "drums           ==> SDR:  -1.423  SIR: 175.585  ISR:   7.119  SAR:  -3.674  \n",
      "bass            ==> SDR:  -1.423  SIR: 175.585  ISR:   7.119  SAR:  -3.674  \n",
      "\n"
     ]
    },
    {
     "name": "stderr",
     "output_type": "stream",
     "text": [
      " 82%|████████████████████████████████████████████████████████████████████████████████████████████████████████████████████████████████████████████████████████▌                                 | 41/50 [06:50<01:32, 10.31s/it]"
     ]
    },
    {
     "name": "stdout",
     "output_type": "stream",
     "text": [
      "drums           ==> SDR:   6.312  SIR: 185.896  ISR:  13.129  SAR:   5.453  \n",
      "bass            ==> SDR:   6.312  SIR: 185.896  ISR:  13.129  SAR:   5.453  \n",
      "\n"
     ]
    },
    {
     "name": "stderr",
     "output_type": "stream",
     "text": [
      " 84%|████████████████████████████████████████████████████████████████████████████████████████████████████████████████████████████████████████████████████████████▏                             | 42/50 [07:02<01:25, 10.69s/it]"
     ]
    },
    {
     "name": "stdout",
     "output_type": "stream",
     "text": [
      "drums           ==> SDR:   7.208  SIR: 127.665  ISR:  12.088  SAR:   6.513  \n",
      "bass            ==> SDR:   7.208  SIR: 127.665  ISR:  12.088  SAR:   6.513  \n",
      "\n"
     ]
    },
    {
     "name": "stderr",
     "output_type": "stream",
     "text": [
      " 86%|███████████████████████████████████████████████████████████████████████████████████████████████████████████████████████████████████████████████████████████████▉                          | 43/50 [07:11<01:12, 10.42s/it]"
     ]
    },
    {
     "name": "stdout",
     "output_type": "stream",
     "text": [
      "drums           ==> SDR:   4.811  SIR: 183.160  ISR:   8.930  SAR:   3.054  \n",
      "bass            ==> SDR:   4.811  SIR: 183.160  ISR:   8.930  SAR:   3.054  \n",
      "\n"
     ]
    },
    {
     "name": "stderr",
     "output_type": "stream",
     "text": [
      " 88%|███████████████████████████████████████████████████████████████████████████████████████████████████████████████████████████████████████████████████████████████████▋                      | 44/50 [07:21<01:00, 10.04s/it]"
     ]
    },
    {
     "name": "stdout",
     "output_type": "stream",
     "text": [
      "drums           ==> SDR:   8.024  SIR: 218.347  ISR:  13.342  SAR:   7.339  \n",
      "bass            ==> SDR:   8.024  SIR: 218.347  ISR:  13.342  SAR:   7.339  \n",
      "\n"
     ]
    },
    {
     "name": "stderr",
     "output_type": "stream",
     "text": [
      " 90%|███████████████████████████████████████████████████████████████████████████████████████████████████████████████████████████████████████████████████████████████████████▍                  | 45/50 [07:31<00:50, 10.03s/it]"
     ]
    },
    {
     "name": "stdout",
     "output_type": "stream",
     "text": [
      "drums           ==> SDR:   1.176  SIR: 213.036  ISR:   1.799  SAR:  -1.173  \n",
      "bass            ==> SDR:   1.176  SIR: 213.036  ISR:   1.799  SAR:  -1.173  \n",
      "\n"
     ]
    },
    {
     "name": "stderr",
     "output_type": "stream",
     "text": [
      " 92%|███████████████████████████████████████████████████████████████████████████████████████████████████████████████████████████████████████████████████████████████████████████               | 46/50 [07:41<00:40, 10.01s/it]"
     ]
    },
    {
     "name": "stdout",
     "output_type": "stream",
     "text": [
      "drums           ==> SDR:   2.099  SIR: 208.285  ISR:   4.974  SAR:  -0.512  \n",
      "bass            ==> SDR:   2.099  SIR: 208.285  ISR:   4.974  SAR:  -0.512  \n",
      "\n"
     ]
    },
    {
     "name": "stderr",
     "output_type": "stream",
     "text": [
      " 94%|██████████████████████████████████████████████████████████████████████████████████████████████████████████████████████████████████████████████████████████████████████████████▊           | 47/50 [07:50<00:29,  9.83s/it]"
     ]
    },
    {
     "name": "stdout",
     "output_type": "stream",
     "text": [
      "drums           ==> SDR:   3.081  SIR: 169.683  ISR:   7.850  SAR:   2.266  \n",
      "bass            ==> SDR:   3.081  SIR: 169.683  ISR:   7.850  SAR:   2.266  \n",
      "\n"
     ]
    },
    {
     "name": "stderr",
     "output_type": "stream",
     "text": [
      " 96%|██████████████████████████████████████████████████████████████████████████████████████████████████████████████████████████████████████████████████████████████████████████████████▌       | 48/50 [08:00<00:19,  9.88s/it]"
     ]
    },
    {
     "name": "stdout",
     "output_type": "stream",
     "text": [
      "drums           ==> SDR:   3.440  SIR: 218.183  ISR:   8.760  SAR:   1.512  \n",
      "bass            ==> SDR:   3.440  SIR: 218.183  ISR:   8.760  SAR:   1.512  \n",
      "\n"
     ]
    },
    {
     "name": "stderr",
     "output_type": "stream",
     "text": [
      " 98%|██████████████████████████████████████████████████████████████████████████████████████████████████████████████████████████████████████████████████████████████████████████████████████▎   | 49/50 [08:10<00:09,  9.89s/it]"
     ]
    },
    {
     "name": "stdout",
     "output_type": "stream",
     "text": [
      "drums           ==> SDR:   8.088  SIR: 209.677  ISR:  16.665  SAR:   7.664  \n",
      "bass            ==> SDR:   8.088  SIR: 209.677  ISR:  16.665  SAR:   7.664  \n",
      "\n"
     ]
    },
    {
     "name": "stderr",
     "output_type": "stream",
     "text": [
      "100%|██████████████████████████████████████████████████████████████████████████████████████████████████████████████████████████████████████████████████████████████████████████████████████████| 50/50 [08:20<00:00, 10.01s/it]"
     ]
    },
    {
     "name": "stdout",
     "output_type": "stream",
     "text": [
      "drums           ==> SDR:   7.244  SIR: 204.247  ISR:  12.593  SAR:   6.447  \n",
      "bass            ==> SDR:   7.244  SIR: 204.247  ISR:  12.593  SAR:   6.447  \n",
      "\n"
     ]
    },
    {
     "name": "stderr",
     "output_type": "stream",
     "text": [
      "\n",
      "C:\\Python311\\Lib\\site-packages\\pytorch_lightning\\utilities\\migration\\utils.py:55: The loaded checkpoint was produced with Lightning v2.2.1, which is newer than your current Lightning version: v2.1.2\n",
      "  2%|███▋                                                                                                                                                                                       | 1/50 [00:10<08:12, 10.05s/it]"
     ]
    },
    {
     "name": "stdout",
     "output_type": "stream",
     "text": [
      "drums           ==> SDR:   7.444  SIR: 196.832  ISR:  13.110  SAR:   6.674  \n",
      "bass            ==> SDR:   7.444  SIR: 196.832  ISR:  13.110  SAR:   6.674  \n",
      "\n"
     ]
    },
    {
     "name": "stderr",
     "output_type": "stream",
     "text": [
      "  4%|███████▍                                                                                                                                                                                   | 2/50 [00:19<07:56,  9.93s/it]"
     ]
    },
    {
     "name": "stdout",
     "output_type": "stream",
     "text": [
      "drums           ==> SDR:   2.698  SIR: 183.928  ISR:   9.124  SAR:   0.113  \n",
      "bass            ==> SDR:   2.698  SIR: 183.928  ISR:   9.124  SAR:   0.113  \n",
      "\n"
     ]
    },
    {
     "name": "stderr",
     "output_type": "stream",
     "text": [
      "  6%|███████████▏                                                                                                                                                                               | 3/50 [00:29<07:47,  9.94s/it]"
     ]
    },
    {
     "name": "stdout",
     "output_type": "stream",
     "text": [
      "drums           ==> SDR:   3.756  SIR: 231.701  ISR:  10.585  SAR:   2.233  \n",
      "bass            ==> SDR:   3.756  SIR: 231.701  ISR:  10.585  SAR:   2.233  \n",
      "\n"
     ]
    },
    {
     "name": "stderr",
     "output_type": "stream",
     "text": [
      "  8%|██████████████▉                                                                                                                                                                            | 4/50 [00:39<07:36,  9.91s/it]"
     ]
    },
    {
     "name": "stdout",
     "output_type": "stream",
     "text": [
      "drums           ==> SDR:   0.318  SIR: 225.917  ISR:  13.315  SAR:  -1.309  \n",
      "bass            ==> SDR:   0.318  SIR: 225.917  ISR:  13.315  SAR:  -1.309  \n",
      "\n"
     ]
    },
    {
     "name": "stderr",
     "output_type": "stream",
     "text": [
      " 10%|██████████████████▋                                                                                                                                                                        | 5/50 [00:49<07:30, 10.00s/it]"
     ]
    },
    {
     "name": "stdout",
     "output_type": "stream",
     "text": [
      "drums           ==> SDR:   8.195  SIR: 200.036  ISR:  15.547  SAR:   7.661  \n",
      "bass            ==> SDR:   8.195  SIR: 200.036  ISR:  15.547  SAR:   7.661  \n",
      "\n"
     ]
    },
    {
     "name": "stderr",
     "output_type": "stream",
     "text": [
      " 12%|██████████████████████▍                                                                                                                                                                    | 6/50 [00:59<07:17,  9.95s/it]"
     ]
    },
    {
     "name": "stdout",
     "output_type": "stream",
     "text": [
      "drums           ==> SDR:   4.371  SIR: 230.658  ISR:   8.559  SAR:   3.339  \n",
      "bass            ==> SDR:   4.371  SIR: 230.658  ISR:   8.559  SAR:   3.339  \n",
      "\n"
     ]
    },
    {
     "name": "stderr",
     "output_type": "stream",
     "text": [
      " 14%|██████████████████████████▏                                                                                                                                                                | 7/50 [01:09<07:05,  9.90s/it]"
     ]
    },
    {
     "name": "stdout",
     "output_type": "stream",
     "text": [
      "drums           ==> SDR:   5.404  SIR: 223.875  ISR:  11.865  SAR:   4.469  \n",
      "bass            ==> SDR:   5.404  SIR: 223.875  ISR:  11.865  SAR:   4.469  \n",
      "\n"
     ]
    },
    {
     "name": "stderr",
     "output_type": "stream",
     "text": [
      " 16%|█████████████████████████████▉                                                                                                                                                             | 8/50 [01:19<06:53,  9.84s/it]"
     ]
    },
    {
     "name": "stdout",
     "output_type": "stream",
     "text": [
      "drums           ==> SDR:   3.793  SIR: 238.369  ISR:  10.490  SAR:   2.169  \n",
      "bass            ==> SDR:   3.793  SIR: 238.369  ISR:  10.490  SAR:   2.169  \n",
      "\n"
     ]
    },
    {
     "name": "stderr",
     "output_type": "stream",
     "text": [
      " 18%|█████████████████████████████████▋                                                                                                                                                         | 9/50 [01:29<06:42,  9.82s/it]"
     ]
    },
    {
     "name": "stdout",
     "output_type": "stream",
     "text": [
      "drums           ==> SDR:   5.234  SIR: 162.801  ISR:   7.608  SAR:   4.276  \n",
      "bass            ==> SDR:   5.234  SIR: 162.801  ISR:   7.608  SAR:   4.276  \n",
      "\n"
     ]
    },
    {
     "name": "stderr",
     "output_type": "stream",
     "text": [
      " 20%|█████████████████████████████████████▏                                                                                                                                                    | 10/50 [01:38<06:33,  9.83s/it]"
     ]
    },
    {
     "name": "stdout",
     "output_type": "stream",
     "text": [
      "drums           ==> SDR: -36.068  SIR: 187.609  ISR:   8.765  SAR: -38.904  \n",
      "bass            ==> SDR: -36.068  SIR: 187.609  ISR:   8.765  SAR: -38.904  \n",
      "\n"
     ]
    },
    {
     "name": "stderr",
     "output_type": "stream",
     "text": [
      " 22%|████████████████████████████████████████▉                                                                                                                                                 | 11/50 [01:48<06:23,  9.82s/it]"
     ]
    },
    {
     "name": "stdout",
     "output_type": "stream",
     "text": [
      "drums           ==> SDR:   9.476  SIR: 221.039  ISR:  14.798  SAR:   9.489  \n",
      "bass            ==> SDR:   9.476  SIR: 221.039  ISR:  14.798  SAR:   9.489  \n",
      "\n"
     ]
    },
    {
     "name": "stderr",
     "output_type": "stream",
     "text": [
      " 24%|████████████████████████████████████████████▋                                                                                                                                             | 12/50 [01:58<06:12,  9.80s/it]"
     ]
    },
    {
     "name": "stdout",
     "output_type": "stream",
     "text": [
      "drums           ==> SDR:   6.524  SIR: 225.670  ISR:   8.539  SAR:   7.031  \n",
      "bass            ==> SDR:   6.524  SIR: 225.670  ISR:   8.539  SAR:   7.031  \n",
      "\n"
     ]
    },
    {
     "name": "stderr",
     "output_type": "stream",
     "text": [
      " 26%|████████████████████████████████████████████████▎                                                                                                                                         | 13/50 [02:07<05:54,  9.58s/it]"
     ]
    },
    {
     "name": "stdout",
     "output_type": "stream",
     "text": [
      "drums           ==> SDR:   1.149  SIR:  80.649  ISR:   1.887  SAR:  -1.661  \n",
      "bass            ==> SDR:   1.149  SIR:  80.649  ISR:   1.887  SAR:  -1.661  \n",
      "\n"
     ]
    },
    {
     "name": "stderr",
     "output_type": "stream",
     "text": [
      " 28%|████████████████████████████████████████████████████                                                                                                                                      | 14/50 [02:17<05:48,  9.67s/it]"
     ]
    },
    {
     "name": "stdout",
     "output_type": "stream",
     "text": [
      "drums           ==> SDR:   7.312  SIR: 213.085  ISR:  11.476  SAR:   7.357  \n",
      "bass            ==> SDR:   7.312  SIR: 213.085  ISR:  11.476  SAR:   7.357  \n",
      "\n"
     ]
    },
    {
     "name": "stderr",
     "output_type": "stream",
     "text": [
      " 30%|███████████████████████████████████████████████████████▊                                                                                                                                  | 15/50 [02:27<05:41,  9.76s/it]"
     ]
    },
    {
     "name": "stdout",
     "output_type": "stream",
     "text": [
      "drums           ==> SDR:   5.736  SIR: 216.254  ISR:  13.023  SAR:   4.893  \n",
      "bass            ==> SDR:   5.736  SIR: 216.254  ISR:  13.023  SAR:   4.893  \n",
      "\n"
     ]
    },
    {
     "name": "stderr",
     "output_type": "stream",
     "text": [
      " 32%|███████████████████████████████████████████████████████████▌                                                                                                                              | 16/50 [02:37<05:31,  9.74s/it]"
     ]
    },
    {
     "name": "stdout",
     "output_type": "stream",
     "text": [
      "drums           ==> SDR:   4.170  SIR: 219.867  ISR:  10.745  SAR:   2.428  \n",
      "bass            ==> SDR:   4.170  SIR: 219.867  ISR:  10.745  SAR:   2.428  \n",
      "\n"
     ]
    },
    {
     "name": "stderr",
     "output_type": "stream",
     "text": [
      " 34%|███████████████████████████████████████████████████████████████▏                                                                                                                          | 17/50 [02:47<05:25,  9.86s/it]"
     ]
    },
    {
     "name": "stdout",
     "output_type": "stream",
     "text": [
      "drums           ==> SDR:   2.427  SIR: 224.407  ISR:   5.885  SAR:  -0.282  \n",
      "bass            ==> SDR:   2.427  SIR: 224.407  ISR:   5.885  SAR:  -0.282  \n",
      "\n"
     ]
    },
    {
     "name": "stderr",
     "output_type": "stream",
     "text": [
      " 36%|██████████████████████████████████████████████████████████████████▉                                                                                                                       | 18/50 [02:57<05:17,  9.91s/it]"
     ]
    },
    {
     "name": "stdout",
     "output_type": "stream",
     "text": [
      "drums           ==> SDR:  10.017  SIR: 198.537  ISR:  15.398  SAR:  10.092  \n",
      "bass            ==> SDR:  10.017  SIR: 198.537  ISR:  15.398  SAR:  10.092  \n",
      "\n"
     ]
    },
    {
     "name": "stderr",
     "output_type": "stream",
     "text": [
      " 38%|██████████████████████████████████████████████████████████████████████▋                                                                                                                   | 19/50 [03:07<05:07,  9.92s/it]"
     ]
    },
    {
     "name": "stdout",
     "output_type": "stream",
     "text": [
      "drums           ==> SDR:   8.629  SIR: 218.997  ISR:  19.760  SAR:   8.226  \n",
      "bass            ==> SDR:   8.629  SIR: 218.997  ISR:  19.760  SAR:   8.226  \n",
      "\n"
     ]
    },
    {
     "name": "stderr",
     "output_type": "stream",
     "text": [
      " 40%|██████████████████████████████████████████████████████████████████████████▍                                                                                                               | 20/50 [03:16<04:56,  9.88s/it]"
     ]
    },
    {
     "name": "stdout",
     "output_type": "stream",
     "text": [
      "drums           ==> SDR:   1.245  SIR: 214.253  ISR:   1.745  SAR:   4.827  \n",
      "bass            ==> SDR:   1.245  SIR: 214.253  ISR:   1.745  SAR:   4.827  \n",
      "\n"
     ]
    },
    {
     "name": "stderr",
     "output_type": "stream",
     "text": [
      " 42%|██████████████████████████████████████████████████████████████████████████████                                                                                                            | 21/50 [03:26<04:46,  9.87s/it]"
     ]
    },
    {
     "name": "stdout",
     "output_type": "stream",
     "text": [
      "drums           ==> SDR:   6.824  SIR: 189.843  ISR:  14.113  SAR:   6.313  \n",
      "bass            ==> SDR:   6.824  SIR: 189.843  ISR:  14.113  SAR:   6.313  \n",
      "\n"
     ]
    },
    {
     "name": "stderr",
     "output_type": "stream",
     "text": [
      " 44%|█████████████████████████████████████████████████████████████████████████████████▊                                                                                                        | 22/50 [03:36<04:34,  9.81s/it]"
     ]
    },
    {
     "name": "stdout",
     "output_type": "stream",
     "text": [
      "drums           ==> SDR: -24.124  SIR: 272.760  ISR:   2.609  SAR: -28.710  \n",
      "bass            ==> SDR: -24.124  SIR: 272.760  ISR:   2.609  SAR: -28.710  \n",
      "\n"
     ]
    },
    {
     "name": "stderr",
     "output_type": "stream",
     "text": [
      " 46%|█████████████████████████████████████████████████████████████████████████████████████▌                                                                                                    | 23/50 [03:45<04:21,  9.68s/it]"
     ]
    },
    {
     "name": "stdout",
     "output_type": "stream",
     "text": [
      "drums           ==> SDR:   4.316  SIR: 173.115  ISR:  10.217  SAR:   2.621  \n",
      "bass            ==> SDR:   4.316  SIR: 173.115  ISR:  10.217  SAR:   2.621  \n",
      "\n"
     ]
    },
    {
     "name": "stderr",
     "output_type": "stream",
     "text": [
      " 48%|█████████████████████████████████████████████████████████████████████████████████████████▎                                                                                                | 24/50 [03:55<04:11,  9.68s/it]"
     ]
    },
    {
     "name": "stdout",
     "output_type": "stream",
     "text": [
      "drums           ==> SDR:   7.270  SIR: 136.674  ISR:  12.659  SAR:   7.179  \n",
      "bass            ==> SDR:   7.270  SIR: 136.674  ISR:  12.659  SAR:   7.179  \n",
      "\n"
     ]
    },
    {
     "name": "stderr",
     "output_type": "stream",
     "text": [
      " 50%|█████████████████████████████████████████████████████████████████████████████████████████████                                                                                             | 25/50 [04:05<04:04,  9.79s/it]"
     ]
    },
    {
     "name": "stdout",
     "output_type": "stream",
     "text": [
      "drums           ==> SDR:   2.720  SIR: 221.842  ISR:   8.116  SAR:   0.150  \n",
      "bass            ==> SDR:   2.720  SIR: 221.842  ISR:   8.116  SAR:   0.150  \n",
      "\n"
     ]
    },
    {
     "name": "stderr",
     "output_type": "stream",
     "text": [
      " 52%|████████████████████████████████████████████████████████████████████████████████████████████████▋                                                                                         | 26/50 [04:15<03:53,  9.74s/it]"
     ]
    },
    {
     "name": "stdout",
     "output_type": "stream",
     "text": [
      "drums           ==> SDR:  11.439  SIR: 191.812  ISR:  18.496  SAR:  11.446  \n",
      "bass            ==> SDR:  11.439  SIR: 191.812  ISR:  18.496  SAR:  11.446  \n",
      "\n"
     ]
    },
    {
     "name": "stderr",
     "output_type": "stream",
     "text": [
      " 54%|████████████████████████████████████████████████████████████████████████████████████████████████████▍                                                                                     | 27/50 [04:25<03:47,  9.88s/it]"
     ]
    },
    {
     "name": "stdout",
     "output_type": "stream",
     "text": [
      "drums           ==> SDR:   6.701  SIR: 192.970  ISR:  15.930  SAR:   6.797  \n",
      "bass            ==> SDR:   6.701  SIR: 192.970  ISR:  15.930  SAR:   6.797  \n",
      "\n"
     ]
    },
    {
     "name": "stderr",
     "output_type": "stream",
     "text": [
      " 56%|████████████████████████████████████████████████████████████████████████████████████████████████████████▏                                                                                 | 28/50 [04:35<03:40, 10.01s/it]"
     ]
    },
    {
     "name": "stdout",
     "output_type": "stream",
     "text": [
      "drums           ==> SDR:  10.199  SIR: 188.229  ISR:  13.367  SAR:  10.926  \n",
      "bass            ==> SDR:  10.199  SIR: 188.229  ISR:  13.367  SAR:  10.926  \n",
      "\n"
     ]
    },
    {
     "name": "stderr",
     "output_type": "stream",
     "text": [
      " 58%|███████████████████████████████████████████████████████████████████████████████████████████████████████████▉                                                                              | 29/50 [04:45<03:30, 10.01s/it]"
     ]
    },
    {
     "name": "stdout",
     "output_type": "stream",
     "text": [
      "drums           ==> SDR:   5.548  SIR: 203.125  ISR:   7.291  SAR:   7.166  \n",
      "bass            ==> SDR:   5.548  SIR: 203.125  ISR:   7.291  SAR:   7.166  \n",
      "\n"
     ]
    },
    {
     "name": "stderr",
     "output_type": "stream",
     "text": [
      " 60%|███████████████████████████████████████████████████████████████████████████████████████████████████████████████▌                                                                          | 30/50 [04:55<03:20, 10.00s/it]"
     ]
    },
    {
     "name": "stdout",
     "output_type": "stream",
     "text": [
      "drums           ==> SDR:   5.533  SIR: 214.305  ISR:  12.292  SAR:   5.011  \n",
      "bass            ==> SDR:   5.533  SIR: 214.305  ISR:  12.292  SAR:   5.011  \n",
      "\n"
     ]
    },
    {
     "name": "stderr",
     "output_type": "stream",
     "text": [
      " 62%|███████████████████████████████████████████████████████████████████████████████████████████████████████████████████▎                                                                      | 31/50 [05:06<03:11, 10.10s/it]"
     ]
    },
    {
     "name": "stdout",
     "output_type": "stream",
     "text": [
      "drums           ==> SDR:   2.635  SIR: 188.984  ISR:  10.394  SAR:   0.779  \n",
      "bass            ==> SDR:   2.635  SIR: 188.984  ISR:  10.394  SAR:   0.779  \n",
      "\n"
     ]
    },
    {
     "name": "stderr",
     "output_type": "stream",
     "text": [
      " 64%|███████████████████████████████████████████████████████████████████████████████████████████████████████████████████████                                                                   | 32/50 [05:15<02:58,  9.91s/it]"
     ]
    },
    {
     "name": "stdout",
     "output_type": "stream",
     "text": [
      "drums           ==> SDR:   2.931  SIR: 189.857  ISR:   6.229  SAR:   1.987  \n",
      "bass            ==> SDR:   2.931  SIR: 189.857  ISR:   6.229  SAR:   1.987  \n",
      "\n"
     ]
    },
    {
     "name": "stderr",
     "output_type": "stream",
     "text": [
      " 66%|██████████████████████████████████████████████████████████████████████████████████████████████████████████████████████████▊                                                               | 33/50 [05:25<02:50, 10.05s/it]"
     ]
    },
    {
     "name": "stdout",
     "output_type": "stream",
     "text": [
      "drums           ==> SDR:   2.154  SIR: 219.145  ISR:   6.199  SAR:  -0.954  \n",
      "bass            ==> SDR:   2.154  SIR: 219.145  ISR:   6.199  SAR:  -0.954  \n",
      "\n"
     ]
    },
    {
     "name": "stderr",
     "output_type": "stream",
     "text": [
      " 68%|██████████████████████████████████████████████████████████████████████████████████████████████████████████████████████████████▍                                                           | 34/50 [05:35<02:40, 10.04s/it]"
     ]
    },
    {
     "name": "stdout",
     "output_type": "stream",
     "text": [
      "drums           ==> SDR:   4.571  SIR: 250.290  ISR:   9.021  SAR:   3.387  \n",
      "bass            ==> SDR:   4.571  SIR: 250.290  ISR:   9.021  SAR:   3.387  \n",
      "\n"
     ]
    },
    {
     "name": "stderr",
     "output_type": "stream",
     "text": [
      " 70%|██████████████████████████████████████████████████████████████████████████████████████████████████████████████████████████████████▏                                                       | 35/50 [05:45<02:30, 10.03s/it]"
     ]
    },
    {
     "name": "stdout",
     "output_type": "stream",
     "text": [
      "drums           ==> SDR:   9.050  SIR: 215.406  ISR:  14.204  SAR:   8.995  \n",
      "bass            ==> SDR:   9.050  SIR: 215.406  ISR:  14.204  SAR:   8.995  \n",
      "\n"
     ]
    },
    {
     "name": "stderr",
     "output_type": "stream",
     "text": [
      " 72%|█████████████████████████████████████████████████████████████████████████████████████████████████████████████████████████████████████▉                                                    | 36/50 [05:55<02:20, 10.02s/it]"
     ]
    },
    {
     "name": "stdout",
     "output_type": "stream",
     "text": [
      "drums           ==> SDR:   1.736  SIR: 196.127  ISR:   7.790  SAR:  -0.531  \n",
      "bass            ==> SDR:   1.736  SIR: 196.127  ISR:   7.790  SAR:  -0.531  \n",
      "\n"
     ]
    },
    {
     "name": "stderr",
     "output_type": "stream",
     "text": [
      " 74%|█████████████████████████████████████████████████████████████████████████████████████████████████████████████████████████████████████████▋                                                | 37/50 [06:06<02:11, 10.08s/it]"
     ]
    },
    {
     "name": "stdout",
     "output_type": "stream",
     "text": [
      "drums           ==> SDR:  -2.078  SIR: 201.564  ISR:  11.871  SAR:  -4.287  \n",
      "bass            ==> SDR:  -2.078  SIR: 201.564  ISR:  11.871  SAR:  -4.287  \n",
      "\n"
     ]
    },
    {
     "name": "stderr",
     "output_type": "stream",
     "text": [
      " 76%|█████████████████████████████████████████████████████████████████████████████████████████████████████████████████████████████████████████████▎                                            | 38/50 [06:16<02:00, 10.06s/it]"
     ]
    },
    {
     "name": "stdout",
     "output_type": "stream",
     "text": [
      "drums           ==> SDR:   6.293  SIR: 225.531  ISR:  10.575  SAR:   3.999  \n",
      "bass            ==> SDR:   6.293  SIR: 225.531  ISR:  10.575  SAR:   3.999  \n",
      "\n"
     ]
    },
    {
     "name": "stderr",
     "output_type": "stream",
     "text": [
      " 78%|█████████████████████████████████████████████████████████████████████████████████████████████████████████████████████████████████████████████████                                         | 39/50 [06:26<01:50, 10.07s/it]"
     ]
    },
    {
     "name": "stdout",
     "output_type": "stream",
     "text": [
      "drums           ==> SDR:   5.251  SIR: 226.226  ISR:   7.511  SAR:   5.775  \n",
      "bass            ==> SDR:   5.251  SIR: 226.226  ISR:   7.511  SAR:   5.775  \n",
      "\n"
     ]
    },
    {
     "name": "stderr",
     "output_type": "stream",
     "text": [
      " 80%|████████████████████████████████████████████████████████████████████████████████████████████████████████████████████████████████████████████████████▊                                     | 40/50 [06:36<01:40, 10.09s/it]"
     ]
    },
    {
     "name": "stdout",
     "output_type": "stream",
     "text": [
      "drums           ==> SDR:  -2.474  SIR: 181.825  ISR:   7.139  SAR:  -5.279  \n",
      "bass            ==> SDR:  -2.474  SIR: 181.825  ISR:   7.139  SAR:  -5.279  \n",
      "\n"
     ]
    },
    {
     "name": "stderr",
     "output_type": "stream",
     "text": [
      " 82%|████████████████████████████████████████████████████████████████████████████████████████████████████████████████████████████████████████████████████████▌                                 | 41/50 [06:46<01:30, 10.03s/it]"
     ]
    },
    {
     "name": "stdout",
     "output_type": "stream",
     "text": [
      "drums           ==> SDR:   6.146  SIR: 184.743  ISR:  13.885  SAR:   5.486  \n",
      "bass            ==> SDR:   6.146  SIR: 184.743  ISR:  13.885  SAR:   5.486  \n",
      "\n"
     ]
    },
    {
     "name": "stderr",
     "output_type": "stream",
     "text": [
      " 84%|████████████████████████████████████████████████████████████████████████████████████████████████████████████████████████████████████████████████████████████▏                             | 42/50 [06:56<01:20, 10.06s/it]"
     ]
    },
    {
     "name": "stdout",
     "output_type": "stream",
     "text": [
      "drums           ==> SDR:   7.335  SIR: 129.826  ISR:  12.545  SAR:   6.612  \n",
      "bass            ==> SDR:   7.335  SIR: 129.826  ISR:  12.545  SAR:   6.612  \n",
      "\n"
     ]
    },
    {
     "name": "stderr",
     "output_type": "stream",
     "text": [
      " 86%|███████████████████████████████████████████████████████████████████████████████████████████████████████████████████████████████████████████████████████████████▉                          | 43/50 [07:05<01:09,  9.93s/it]"
     ]
    },
    {
     "name": "stdout",
     "output_type": "stream",
     "text": [
      "drums           ==> SDR:   4.716  SIR: 189.521  ISR:   8.875  SAR:   2.819  \n",
      "bass            ==> SDR:   4.716  SIR: 189.521  ISR:   8.875  SAR:   2.819  \n",
      "\n"
     ]
    },
    {
     "name": "stderr",
     "output_type": "stream",
     "text": [
      " 88%|███████████████████████████████████████████████████████████████████████████████████████████████████████████████████████████████████████████████████████████████████▋                      | 44/50 [07:15<00:58,  9.75s/it]"
     ]
    },
    {
     "name": "stdout",
     "output_type": "stream",
     "text": [
      "drums           ==> SDR:   7.624  SIR: 217.556  ISR:  13.894  SAR:   7.056  \n",
      "bass            ==> SDR:   7.624  SIR: 217.556  ISR:  13.894  SAR:   7.056  \n",
      "\n"
     ]
    },
    {
     "name": "stderr",
     "output_type": "stream",
     "text": [
      " 90%|███████████████████████████████████████████████████████████████████████████████████████████████████████████████████████████████████████████████████████████████████████▍                  | 45/50 [07:25<00:48,  9.80s/it]"
     ]
    },
    {
     "name": "stdout",
     "output_type": "stream",
     "text": [
      "drums           ==> SDR:   1.299  SIR: 211.546  ISR:   1.842  SAR:  -2.000  \n",
      "bass            ==> SDR:   1.299  SIR: 211.546  ISR:   1.842  SAR:  -2.000  \n",
      "\n"
     ]
    },
    {
     "name": "stderr",
     "output_type": "stream",
     "text": [
      " 92%|███████████████████████████████████████████████████████████████████████████████████████████████████████████████████████████████████████████████████████████████████████████               | 46/50 [07:35<00:39,  9.87s/it]"
     ]
    },
    {
     "name": "stdout",
     "output_type": "stream",
     "text": [
      "drums           ==> SDR:   1.980  SIR: 219.825  ISR:   5.017  SAR:  -0.854  \n",
      "bass            ==> SDR:   1.980  SIR: 219.825  ISR:   5.017  SAR:  -0.854  \n",
      "\n"
     ]
    },
    {
     "name": "stderr",
     "output_type": "stream",
     "text": [
      " 94%|██████████████████████████████████████████████████████████████████████████████████████████████████████████████████████████████████████████████████████████████████████████████▊           | 47/50 [07:44<00:29,  9.69s/it]"
     ]
    },
    {
     "name": "stdout",
     "output_type": "stream",
     "text": [
      "drums           ==> SDR:   2.071  SIR: 166.956  ISR:   8.195  SAR:   0.406  \n",
      "bass            ==> SDR:   2.071  SIR: 166.956  ISR:   8.195  SAR:   0.406  \n",
      "\n"
     ]
    },
    {
     "name": "stderr",
     "output_type": "stream",
     "text": [
      " 96%|██████████████████████████████████████████████████████████████████████████████████████████████████████████████████████████████████████████████████████████████████████████████████▌       | 48/50 [07:55<00:19,  9.99s/it]"
     ]
    },
    {
     "name": "stdout",
     "output_type": "stream",
     "text": [
      "drums           ==> SDR:   3.387  SIR: 222.581  ISR:   9.143  SAR:   1.373  \n",
      "bass            ==> SDR:   3.387  SIR: 222.581  ISR:   9.143  SAR:   1.373  \n",
      "\n"
     ]
    },
    {
     "name": "stderr",
     "output_type": "stream",
     "text": [
      " 98%|██████████████████████████████████████████████████████████████████████████████████████████████████████████████████████████████████████████████████████████████████████████████████████▎   | 49/50 [08:05<00:09,  9.98s/it]"
     ]
    },
    {
     "name": "stdout",
     "output_type": "stream",
     "text": [
      "drums           ==> SDR:   7.828  SIR: 206.769  ISR:  16.925  SAR:   7.334  \n",
      "bass            ==> SDR:   7.828  SIR: 206.769  ISR:  16.925  SAR:   7.334  \n",
      "\n"
     ]
    },
    {
     "name": "stderr",
     "output_type": "stream",
     "text": [
      "100%|██████████████████████████████████████████████████████████████████████████████████████████████████████████████████████████████████████████████████████████████████████████████████████████| 50/50 [08:15<00:00,  9.90s/it]"
     ]
    },
    {
     "name": "stdout",
     "output_type": "stream",
     "text": [
      "drums           ==> SDR:   7.032  SIR: 217.492  ISR:  12.630  SAR:   6.351  \n",
      "bass            ==> SDR:   7.032  SIR: 217.492  ISR:  12.630  SAR:   6.351  \n",
      "\n"
     ]
    },
    {
     "name": "stderr",
     "output_type": "stream",
     "text": [
      "\n",
      "C:\\Python311\\Lib\\site-packages\\pytorch_lightning\\utilities\\migration\\utils.py:55: The loaded checkpoint was produced with Lightning v2.2.1, which is newer than your current Lightning version: v2.1.2\n",
      "  2%|███▋                                                                                                                                                                                       | 1/50 [00:09<08:06,  9.92s/it]"
     ]
    },
    {
     "name": "stdout",
     "output_type": "stream",
     "text": [
      "drums           ==> SDR:   7.406  SIR: 205.601  ISR:  13.240  SAR:   6.166  \n",
      "bass            ==> SDR:   7.406  SIR: 205.601  ISR:  13.240  SAR:   6.166  \n",
      "\n"
     ]
    },
    {
     "name": "stderr",
     "output_type": "stream",
     "text": [
      "  4%|███████▍                                                                                                                                                                                   | 2/50 [00:19<07:57,  9.94s/it]"
     ]
    },
    {
     "name": "stdout",
     "output_type": "stream",
     "text": [
      "drums           ==> SDR:   2.584  SIR: 188.326  ISR:   9.429  SAR:   0.056  \n",
      "bass            ==> SDR:   2.584  SIR: 188.326  ISR:   9.429  SAR:   0.056  \n",
      "\n"
     ]
    },
    {
     "name": "stderr",
     "output_type": "stream",
     "text": [
      "  6%|███████████▏                                                                                                                                                                               | 3/50 [00:29<07:44,  9.88s/it]"
     ]
    },
    {
     "name": "stdout",
     "output_type": "stream",
     "text": [
      "drums           ==> SDR:   3.411  SIR: 232.863  ISR:  10.677  SAR:   1.806  \n",
      "bass            ==> SDR:   3.411  SIR: 232.863  ISR:  10.677  SAR:   1.806  \n",
      "\n"
     ]
    },
    {
     "name": "stderr",
     "output_type": "stream",
     "text": [
      "  8%|██████████████▉                                                                                                                                                                            | 4/50 [00:39<07:32,  9.83s/it]"
     ]
    },
    {
     "name": "stdout",
     "output_type": "stream",
     "text": [
      "drums           ==> SDR:   0.726  SIR: 227.265  ISR:  13.372  SAR:  -1.035  \n",
      "bass            ==> SDR:   0.726  SIR: 227.265  ISR:  13.372  SAR:  -1.035  \n",
      "\n"
     ]
    },
    {
     "name": "stderr",
     "output_type": "stream",
     "text": [
      " 10%|██████████████████▋                                                                                                                                                                        | 5/50 [00:49<07:23,  9.85s/it]"
     ]
    },
    {
     "name": "stdout",
     "output_type": "stream",
     "text": [
      "drums           ==> SDR:   7.751  SIR: 195.939  ISR:  15.868  SAR:   7.178  \n",
      "bass            ==> SDR:   7.751  SIR: 195.939  ISR:  15.868  SAR:   7.178  \n",
      "\n"
     ]
    },
    {
     "name": "stderr",
     "output_type": "stream",
     "text": [
      " 12%|██████████████████████▍                                                                                                                                                                    | 6/50 [00:59<07:12,  9.83s/it]"
     ]
    },
    {
     "name": "stdout",
     "output_type": "stream",
     "text": [
      "drums           ==> SDR:   3.867  SIR: 240.137  ISR:   7.750  SAR:   2.992  \n",
      "bass            ==> SDR:   3.867  SIR: 240.137  ISR:   7.750  SAR:   2.992  \n",
      "\n"
     ]
    },
    {
     "name": "stderr",
     "output_type": "stream",
     "text": [
      " 14%|██████████████████████████▏                                                                                                                                                                | 7/50 [01:08<07:01,  9.80s/it]"
     ]
    },
    {
     "name": "stdout",
     "output_type": "stream",
     "text": [
      "drums           ==> SDR:   5.310  SIR: 222.790  ISR:  11.707  SAR:   4.130  \n",
      "bass            ==> SDR:   5.310  SIR: 222.790  ISR:  11.707  SAR:   4.130  \n",
      "\n"
     ]
    },
    {
     "name": "stderr",
     "output_type": "stream",
     "text": [
      " 16%|█████████████████████████████▉                                                                                                                                                             | 8/50 [01:18<06:54,  9.88s/it]"
     ]
    },
    {
     "name": "stdout",
     "output_type": "stream",
     "text": [
      "drums           ==> SDR:   3.565  SIR: 243.911  ISR:  10.827  SAR:   1.971  \n",
      "bass            ==> SDR:   3.565  SIR: 243.911  ISR:  10.827  SAR:   1.971  \n",
      "\n"
     ]
    },
    {
     "name": "stderr",
     "output_type": "stream",
     "text": [
      " 18%|█████████████████████████████████▋                                                                                                                                                         | 9/50 [01:29<06:54, 10.10s/it]"
     ]
    },
    {
     "name": "stdout",
     "output_type": "stream",
     "text": [
      "drums           ==> SDR:   4.696  SIR: 162.154  ISR:   7.344  SAR:   4.105  \n",
      "bass            ==> SDR:   4.696  SIR: 162.154  ISR:   7.344  SAR:   4.105  \n",
      "\n"
     ]
    },
    {
     "name": "stderr",
     "output_type": "stream",
     "text": [
      " 20%|█████████████████████████████████████▏                                                                                                                                                    | 10/50 [01:39<06:43, 10.08s/it]"
     ]
    },
    {
     "name": "stdout",
     "output_type": "stream",
     "text": [
      "drums           ==> SDR: -37.119  SIR: 177.309  ISR:   8.971  SAR: -40.176  \n",
      "bass            ==> SDR: -37.119  SIR: 177.309  ISR:   8.971  SAR: -40.176  \n",
      "\n"
     ]
    },
    {
     "name": "stderr",
     "output_type": "stream",
     "text": [
      " 22%|████████████████████████████████████████▉                                                                                                                                                 | 11/50 [01:49<06:32, 10.06s/it]"
     ]
    },
    {
     "name": "stdout",
     "output_type": "stream",
     "text": [
      "drums           ==> SDR:   9.403  SIR: 225.878  ISR:  14.957  SAR:   9.451  \n",
      "bass            ==> SDR:   9.403  SIR: 225.878  ISR:  14.957  SAR:   9.451  \n",
      "\n"
     ]
    },
    {
     "name": "stderr",
     "output_type": "stream",
     "text": [
      " 24%|████████████████████████████████████████████▋                                                                                                                                             | 12/50 [01:59<06:20, 10.01s/it]"
     ]
    },
    {
     "name": "stdout",
     "output_type": "stream",
     "text": [
      "drums           ==> SDR:   6.824  SIR: 228.641  ISR:   8.698  SAR:   7.062  \n",
      "bass            ==> SDR:   6.824  SIR: 228.641  ISR:   8.698  SAR:   7.062  \n",
      "\n"
     ]
    },
    {
     "name": "stderr",
     "output_type": "stream",
     "text": [
      " 26%|████████████████████████████████████████████████▎                                                                                                                                         | 13/50 [02:08<06:02,  9.81s/it]"
     ]
    },
    {
     "name": "stdout",
     "output_type": "stream",
     "text": [
      "drums           ==> SDR:   0.836  SIR:  80.211  ISR:   1.712  SAR:  -2.081  \n",
      "bass            ==> SDR:   0.836  SIR:  80.211  ISR:   1.712  SAR:  -2.081  \n",
      "\n"
     ]
    },
    {
     "name": "stderr",
     "output_type": "stream",
     "text": [
      " 28%|████████████████████████████████████████████████████                                                                                                                                      | 14/50 [02:18<05:53,  9.82s/it]"
     ]
    },
    {
     "name": "stdout",
     "output_type": "stream",
     "text": [
      "drums           ==> SDR:   7.007  SIR: 207.551  ISR:  11.257  SAR:   7.078  \n",
      "bass            ==> SDR:   7.007  SIR: 207.551  ISR:  11.257  SAR:   7.078  \n",
      "\n"
     ]
    },
    {
     "name": "stderr",
     "output_type": "stream",
     "text": [
      " 30%|███████████████████████████████████████████████████████▊                                                                                                                                  | 15/50 [02:28<05:45,  9.87s/it]"
     ]
    },
    {
     "name": "stdout",
     "output_type": "stream",
     "text": [
      "drums           ==> SDR:   5.317  SIR: 207.481  ISR:  12.932  SAR:   4.535  \n",
      "bass            ==> SDR:   5.317  SIR: 207.481  ISR:  12.932  SAR:   4.535  \n",
      "\n"
     ]
    },
    {
     "name": "stderr",
     "output_type": "stream",
     "text": [
      " 32%|███████████████████████████████████████████████████████████▌                                                                                                                              | 16/50 [02:38<05:38,  9.94s/it]"
     ]
    },
    {
     "name": "stdout",
     "output_type": "stream",
     "text": [
      "drums           ==> SDR:   4.297  SIR: 219.854  ISR:  12.441  SAR:   2.713  \n",
      "bass            ==> SDR:   4.297  SIR: 219.854  ISR:  12.441  SAR:   2.713  \n",
      "\n"
     ]
    },
    {
     "name": "stderr",
     "output_type": "stream",
     "text": [
      " 34%|███████████████████████████████████████████████████████████████▏                                                                                                                          | 17/50 [02:48<05:27,  9.94s/it]"
     ]
    },
    {
     "name": "stdout",
     "output_type": "stream",
     "text": [
      "drums           ==> SDR:   2.268  SIR: 222.400  ISR:   5.591  SAR:  -0.529  \n",
      "bass            ==> SDR:   2.268  SIR: 222.400  ISR:   5.591  SAR:  -0.529  \n",
      "\n"
     ]
    },
    {
     "name": "stderr",
     "output_type": "stream",
     "text": [
      " 36%|██████████████████████████████████████████████████████████████████▉                                                                                                                       | 18/50 [02:58<05:15,  9.87s/it]"
     ]
    },
    {
     "name": "stdout",
     "output_type": "stream",
     "text": [
      "drums           ==> SDR:   9.984  SIR: 194.118  ISR:  15.814  SAR:   9.880  \n",
      "bass            ==> SDR:   9.984  SIR: 194.118  ISR:  15.814  SAR:   9.880  \n",
      "\n"
     ]
    },
    {
     "name": "stderr",
     "output_type": "stream",
     "text": [
      " 38%|██████████████████████████████████████████████████████████████████████▋                                                                                                                   | 19/50 [03:08<05:05,  9.85s/it]"
     ]
    },
    {
     "name": "stdout",
     "output_type": "stream",
     "text": [
      "drums           ==> SDR:   8.315  SIR: 222.771  ISR:  19.987  SAR:   7.965  \n",
      "bass            ==> SDR:   8.315  SIR: 222.771  ISR:  19.987  SAR:   7.965  \n",
      "\n"
     ]
    },
    {
     "name": "stderr",
     "output_type": "stream",
     "text": [
      " 40%|██████████████████████████████████████████████████████████████████████████▍                                                                                                               | 20/50 [03:18<04:55,  9.85s/it]"
     ]
    },
    {
     "name": "stdout",
     "output_type": "stream",
     "text": [
      "drums           ==> SDR:   1.209  SIR: 217.394  ISR:   1.758  SAR:   4.462  \n",
      "bass            ==> SDR:   1.209  SIR: 217.394  ISR:   1.758  SAR:   4.462  \n",
      "\n"
     ]
    },
    {
     "name": "stderr",
     "output_type": "stream",
     "text": [
      " 42%|██████████████████████████████████████████████████████████████████████████████                                                                                                            | 21/50 [03:28<04:46,  9.89s/it]"
     ]
    },
    {
     "name": "stdout",
     "output_type": "stream",
     "text": [
      "drums           ==> SDR:   6.532  SIR: 186.923  ISR:  14.667  SAR:   5.985  \n",
      "bass            ==> SDR:   6.532  SIR: 186.923  ISR:  14.667  SAR:   5.985  \n",
      "\n"
     ]
    },
    {
     "name": "stderr",
     "output_type": "stream",
     "text": [
      " 44%|█████████████████████████████████████████████████████████████████████████████████▊                                                                                                        | 22/50 [03:38<04:39,  9.99s/it]"
     ]
    },
    {
     "name": "stdout",
     "output_type": "stream",
     "text": [
      "drums           ==> SDR: -27.008  SIR: 271.926  ISR:   1.595  SAR: -30.093  \n",
      "bass            ==> SDR: -27.008  SIR: 271.926  ISR:   1.595  SAR: -30.093  \n",
      "\n"
     ]
    },
    {
     "name": "stderr",
     "output_type": "stream",
     "text": [
      " 46%|█████████████████████████████████████████████████████████████████████████████████████▌                                                                                                    | 23/50 [03:47<04:25,  9.83s/it]"
     ]
    },
    {
     "name": "stdout",
     "output_type": "stream",
     "text": [
      "drums           ==> SDR:   4.097  SIR: 172.349  ISR:  10.310  SAR:   2.212  \n",
      "bass            ==> SDR:   4.097  SIR: 172.349  ISR:  10.310  SAR:   2.212  \n",
      "\n"
     ]
    },
    {
     "name": "stderr",
     "output_type": "stream",
     "text": [
      " 48%|█████████████████████████████████████████████████████████████████████████████████████████▎                                                                                                | 24/50 [03:57<04:15,  9.82s/it]"
     ]
    },
    {
     "name": "stdout",
     "output_type": "stream",
     "text": [
      "drums           ==> SDR:   6.798  SIR: 136.285  ISR:  12.710  SAR:   6.576  \n",
      "bass            ==> SDR:   6.798  SIR: 136.285  ISR:  12.710  SAR:   6.576  \n",
      "\n"
     ]
    },
    {
     "name": "stderr",
     "output_type": "stream",
     "text": [
      " 50%|█████████████████████████████████████████████████████████████████████████████████████████████                                                                                             | 25/50 [04:07<04:06,  9.86s/it]"
     ]
    },
    {
     "name": "stdout",
     "output_type": "stream",
     "text": [
      "drums           ==> SDR:   1.957  SIR: 218.289  ISR:   8.026  SAR:  -0.585  \n",
      "bass            ==> SDR:   1.957  SIR: 218.289  ISR:   8.026  SAR:  -0.585  \n",
      "\n"
     ]
    },
    {
     "name": "stderr",
     "output_type": "stream",
     "text": [
      " 52%|████████████████████████████████████████████████████████████████████████████████████████████████▋                                                                                         | 26/50 [04:17<03:54,  9.79s/it]"
     ]
    },
    {
     "name": "stdout",
     "output_type": "stream",
     "text": [
      "drums           ==> SDR:  11.517  SIR: 188.724  ISR:  18.711  SAR:  11.412  \n",
      "bass            ==> SDR:  11.517  SIR: 188.724  ISR:  18.711  SAR:  11.412  \n",
      "\n"
     ]
    },
    {
     "name": "stderr",
     "output_type": "stream",
     "text": [
      " 54%|████████████████████████████████████████████████████████████████████████████████████████████████████▍                                                                                     | 27/50 [04:27<03:48,  9.93s/it]"
     ]
    },
    {
     "name": "stdout",
     "output_type": "stream",
     "text": [
      "drums           ==> SDR:   6.940  SIR: 187.665  ISR:  15.636  SAR:   6.664  \n",
      "bass            ==> SDR:   6.940  SIR: 187.665  ISR:  15.636  SAR:   6.664  \n",
      "\n"
     ]
    },
    {
     "name": "stderr",
     "output_type": "stream",
     "text": [
      " 56%|████████████████████████████████████████████████████████████████████████████████████████████████████████▏                                                                                 | 28/50 [04:38<03:48, 10.38s/it]"
     ]
    },
    {
     "name": "stdout",
     "output_type": "stream",
     "text": [
      "drums           ==> SDR:  10.300  SIR: 195.186  ISR:  13.523  SAR:  11.096  \n",
      "bass            ==> SDR:  10.300  SIR: 195.186  ISR:  13.523  SAR:  11.096  \n",
      "\n"
     ]
    },
    {
     "name": "stderr",
     "output_type": "stream",
     "text": [
      " 58%|███████████████████████████████████████████████████████████████████████████████████████████████████████████▉                                                                              | 29/50 [04:48<03:34, 10.22s/it]"
     ]
    },
    {
     "name": "stdout",
     "output_type": "stream",
     "text": [
      "drums           ==> SDR:   5.706  SIR: 195.836  ISR:   7.356  SAR:   7.396  \n",
      "bass            ==> SDR:   5.706  SIR: 195.836  ISR:   7.356  SAR:   7.396  \n",
      "\n"
     ]
    },
    {
     "name": "stderr",
     "output_type": "stream",
     "text": [
      " 60%|███████████████████████████████████████████████████████████████████████████████████████████████████████████████▌                                                                          | 30/50 [04:58<03:22, 10.10s/it]"
     ]
    },
    {
     "name": "stdout",
     "output_type": "stream",
     "text": [
      "drums           ==> SDR:   4.926  SIR: 217.344  ISR:  12.418  SAR:   4.523  \n",
      "bass            ==> SDR:   4.926  SIR: 217.344  ISR:  12.418  SAR:   4.523  \n",
      "\n"
     ]
    },
    {
     "name": "stderr",
     "output_type": "stream",
     "text": [
      " 62%|███████████████████████████████████████████████████████████████████████████████████████████████████████████████████▎                                                                      | 31/50 [05:08<03:12, 10.11s/it]"
     ]
    },
    {
     "name": "stdout",
     "output_type": "stream",
     "text": [
      "drums           ==> SDR:   2.531  SIR: 214.991  ISR:  10.406  SAR:   0.372  \n",
      "bass            ==> SDR:   2.531  SIR: 214.991  ISR:  10.406  SAR:   0.372  \n",
      "\n"
     ]
    },
    {
     "name": "stderr",
     "output_type": "stream",
     "text": [
      " 64%|███████████████████████████████████████████████████████████████████████████████████████████████████████████████████████                                                                   | 32/50 [05:17<02:58,  9.91s/it]"
     ]
    },
    {
     "name": "stdout",
     "output_type": "stream",
     "text": [
      "drums           ==> SDR:   2.891  SIR: 192.214  ISR:   6.157  SAR:   1.750  \n",
      "bass            ==> SDR:   2.891  SIR: 192.214  ISR:   6.157  SAR:   1.750  \n",
      "\n"
     ]
    },
    {
     "name": "stderr",
     "output_type": "stream",
     "text": [
      " 66%|██████████████████████████████████████████████████████████████████████████████████████████████████████████████████████████▊                                                               | 33/50 [05:28<02:52, 10.13s/it]"
     ]
    },
    {
     "name": "stdout",
     "output_type": "stream",
     "text": [
      "drums           ==> SDR:   1.696  SIR: 216.747  ISR:   6.657  SAR:  -1.214  \n",
      "bass            ==> SDR:   1.696  SIR: 216.747  ISR:   6.657  SAR:  -1.214  \n",
      "\n"
     ]
    },
    {
     "name": "stderr",
     "output_type": "stream",
     "text": [
      " 68%|██████████████████████████████████████████████████████████████████████████████████████████████████████████████████████████████▍                                                           | 34/50 [05:38<02:41, 10.09s/it]"
     ]
    },
    {
     "name": "stdout",
     "output_type": "stream",
     "text": [
      "drums           ==> SDR:   4.489  SIR: 248.624  ISR:   8.843  SAR:   2.953  \n",
      "bass            ==> SDR:   4.489  SIR: 248.624  ISR:   8.843  SAR:   2.953  \n",
      "\n"
     ]
    },
    {
     "name": "stderr",
     "output_type": "stream",
     "text": [
      " 70%|██████████████████████████████████████████████████████████████████████████████████████████████████████████████████████████████████▏                                                       | 35/50 [05:48<02:30, 10.06s/it]"
     ]
    },
    {
     "name": "stdout",
     "output_type": "stream",
     "text": [
      "drums           ==> SDR:   9.114  SIR: 217.420  ISR:  14.714  SAR:   8.846  \n",
      "bass            ==> SDR:   9.114  SIR: 217.420  ISR:  14.714  SAR:   8.846  \n",
      "\n"
     ]
    },
    {
     "name": "stderr",
     "output_type": "stream",
     "text": [
      " 72%|█████████████████████████████████████████████████████████████████████████████████████████████████████████████████████████████████████▉                                                    | 36/50 [05:58<02:21, 10.07s/it]"
     ]
    },
    {
     "name": "stdout",
     "output_type": "stream",
     "text": [
      "drums           ==> SDR:   1.550  SIR: 212.690  ISR:   8.168  SAR:  -0.611  \n",
      "bass            ==> SDR:   1.550  SIR: 212.690  ISR:   8.168  SAR:  -0.611  \n",
      "\n"
     ]
    },
    {
     "name": "stderr",
     "output_type": "stream",
     "text": [
      " 74%|█████████████████████████████████████████████████████████████████████████████████████████████████████████████████████████████████████████▋                                                | 37/50 [06:08<02:10, 10.07s/it]"
     ]
    },
    {
     "name": "stdout",
     "output_type": "stream",
     "text": [
      "drums           ==> SDR:  -3.355  SIR: 202.632  ISR:  12.278  SAR:  -5.547  \n",
      "bass            ==> SDR:  -3.355  SIR: 202.632  ISR:  12.278  SAR:  -5.547  \n",
      "\n"
     ]
    },
    {
     "name": "stderr",
     "output_type": "stream",
     "text": [
      " 76%|█████████████████████████████████████████████████████████████████████████████████████████████████████████████████████████████████████████████▎                                            | 38/50 [06:18<02:01, 10.10s/it]"
     ]
    },
    {
     "name": "stdout",
     "output_type": "stream",
     "text": [
      "drums           ==> SDR:   5.993  SIR: 228.332  ISR:  10.704  SAR:   4.017  \n",
      "bass            ==> SDR:   5.993  SIR: 228.332  ISR:  10.704  SAR:   4.017  \n",
      "\n"
     ]
    },
    {
     "name": "stderr",
     "output_type": "stream",
     "text": [
      " 78%|█████████████████████████████████████████████████████████████████████████████████████████████████████████████████████████████████████████████████                                         | 39/50 [06:28<01:50, 10.06s/it]"
     ]
    },
    {
     "name": "stdout",
     "output_type": "stream",
     "text": [
      "drums           ==> SDR:   5.265  SIR: 225.837  ISR:   7.591  SAR:   5.831  \n",
      "bass            ==> SDR:   5.265  SIR: 225.837  ISR:   7.591  SAR:   5.831  \n",
      "\n"
     ]
    },
    {
     "name": "stderr",
     "output_type": "stream",
     "text": [
      " 80%|████████████████████████████████████████████████████████████████████████████████████████████████████████████████████████████████████████████████████▊                                     | 40/50 [06:39<01:41, 10.20s/it]"
     ]
    },
    {
     "name": "stdout",
     "output_type": "stream",
     "text": [
      "drums           ==> SDR:  -3.418  SIR: 178.360  ISR:   7.017  SAR:  -5.837  \n",
      "bass            ==> SDR:  -3.418  SIR: 178.360  ISR:   7.017  SAR:  -5.837  \n",
      "\n"
     ]
    },
    {
     "name": "stderr",
     "output_type": "stream",
     "text": [
      " 82%|████████████████████████████████████████████████████████████████████████████████████████████████████████████████████████████████████████████████████████▌                                 | 41/50 [06:49<01:31, 10.14s/it]"
     ]
    },
    {
     "name": "stdout",
     "output_type": "stream",
     "text": [
      "drums           ==> SDR:   6.338  SIR: 182.526  ISR:  14.932  SAR:   5.731  \n",
      "bass            ==> SDR:   6.338  SIR: 182.526  ISR:  14.932  SAR:   5.731  \n",
      "\n"
     ]
    },
    {
     "name": "stderr",
     "output_type": "stream",
     "text": [
      " 84%|████████████████████████████████████████████████████████████████████████████████████████████████████████████████████████████████████████████████████████████▏                             | 42/50 [06:59<01:20, 10.06s/it]"
     ]
    },
    {
     "name": "stdout",
     "output_type": "stream",
     "text": [
      "drums           ==> SDR:   7.411  SIR: 129.704  ISR:  12.694  SAR:   6.488  \n",
      "bass            ==> SDR:   7.411  SIR: 129.704  ISR:  12.694  SAR:   6.488  \n",
      "\n"
     ]
    },
    {
     "name": "stderr",
     "output_type": "stream",
     "text": [
      " 86%|███████████████████████████████████████████████████████████████████████████████████████████████████████████████████████████████████████████████████████████████▉                          | 43/50 [07:08<01:09,  9.91s/it]"
     ]
    },
    {
     "name": "stdout",
     "output_type": "stream",
     "text": [
      "drums           ==> SDR:   4.388  SIR: 185.157  ISR:   9.174  SAR:   2.388  \n",
      "bass            ==> SDR:   4.388  SIR: 185.157  ISR:   9.174  SAR:   2.388  \n",
      "\n"
     ]
    },
    {
     "name": "stderr",
     "output_type": "stream",
     "text": [
      " 88%|███████████████████████████████████████████████████████████████████████████████████████████████████████████████████████████████████████████████████████████████████▋                      | 44/50 [07:17<00:57,  9.67s/it]"
     ]
    },
    {
     "name": "stdout",
     "output_type": "stream",
     "text": [
      "drums           ==> SDR:   7.617  SIR: 218.488  ISR:  15.140  SAR:   7.397  \n",
      "bass            ==> SDR:   7.617  SIR: 218.488  ISR:  15.140  SAR:   7.397  \n",
      "\n"
     ]
    },
    {
     "name": "stderr",
     "output_type": "stream",
     "text": [
      " 90%|███████████████████████████████████████████████████████████████████████████████████████████████████████████████████████████████████████████████████████████████████████▍                  | 45/50 [07:27<00:48,  9.75s/it]"
     ]
    },
    {
     "name": "stdout",
     "output_type": "stream",
     "text": [
      "drums           ==> SDR:   1.170  SIR: 214.968  ISR:   1.834  SAR:  -2.058  \n",
      "bass            ==> SDR:   1.170  SIR: 214.968  ISR:   1.834  SAR:  -2.058  \n",
      "\n"
     ]
    },
    {
     "name": "stderr",
     "output_type": "stream",
     "text": [
      " 92%|███████████████████████████████████████████████████████████████████████████████████████████████████████████████████████████████████████████████████████████████████████████               | 46/50 [07:37<00:39,  9.83s/it]"
     ]
    },
    {
     "name": "stdout",
     "output_type": "stream",
     "text": [
      "drums           ==> SDR:   1.834  SIR: 204.131  ISR:   4.767  SAR:  -0.941  \n",
      "bass            ==> SDR:   1.834  SIR: 204.131  ISR:   4.767  SAR:  -0.941  \n",
      "\n"
     ]
    },
    {
     "name": "stderr",
     "output_type": "stream",
     "text": [
      " 94%|██████████████████████████████████████████████████████████████████████████████████████████████████████████████████████████████████████████████████████████████████████████████▊           | 47/50 [07:47<00:29,  9.72s/it]"
     ]
    },
    {
     "name": "stdout",
     "output_type": "stream",
     "text": [
      "drums           ==> SDR:   2.626  SIR: 166.996  ISR:   8.278  SAR:   1.211  \n",
      "bass            ==> SDR:   2.626  SIR: 166.996  ISR:   8.278  SAR:   1.211  \n",
      "\n"
     ]
    },
    {
     "name": "stderr",
     "output_type": "stream",
     "text": [
      " 96%|██████████████████████████████████████████████████████████████████████████████████████████████████████████████████████████████████████████████████████████████████████████████████▌       | 48/50 [07:57<00:19,  9.80s/it]"
     ]
    },
    {
     "name": "stdout",
     "output_type": "stream",
     "text": [
      "drums           ==> SDR:   3.120  SIR: 225.736  ISR:   9.535  SAR:   1.161  \n",
      "bass            ==> SDR:   3.120  SIR: 225.736  ISR:   9.535  SAR:   1.161  \n",
      "\n"
     ]
    },
    {
     "name": "stderr",
     "output_type": "stream",
     "text": [
      " 98%|██████████████████████████████████████████████████████████████████████████████████████████████████████████████████████████████████████████████████████████████████████████████████████▎   | 49/50 [08:07<00:09,  9.82s/it]"
     ]
    },
    {
     "name": "stdout",
     "output_type": "stream",
     "text": [
      "drums           ==> SDR:   7.585  SIR: 209.658  ISR:  17.146  SAR:   7.076  \n",
      "bass            ==> SDR:   7.585  SIR: 209.658  ISR:  17.146  SAR:   7.076  \n",
      "\n"
     ]
    },
    {
     "name": "stderr",
     "output_type": "stream",
     "text": [
      "100%|██████████████████████████████████████████████████████████████████████████████████████████████████████████████████████████████████████████████████████████████████████████████████████████| 50/50 [08:17<00:00,  9.94s/it]"
     ]
    },
    {
     "name": "stdout",
     "output_type": "stream",
     "text": [
      "drums           ==> SDR:   7.043  SIR: 210.025  ISR:  12.914  SAR:   6.358  \n",
      "bass            ==> SDR:   7.043  SIR: 210.025  ISR:  12.914  SAR:   6.358  \n",
      "\n"
     ]
    },
    {
     "name": "stderr",
     "output_type": "stream",
     "text": [
      "\n",
      "C:\\Python311\\Lib\\site-packages\\pytorch_lightning\\utilities\\migration\\utils.py:55: The loaded checkpoint was produced with Lightning v2.2.1, which is newer than your current Lightning version: v2.1.2\n",
      "  2%|███▋                                                                                                                                                                                       | 1/50 [00:09<08:08,  9.97s/it]"
     ]
    },
    {
     "name": "stdout",
     "output_type": "stream",
     "text": [
      "drums           ==> SDR:   7.171  SIR: 208.177  ISR:  14.114  SAR:   5.717  \n",
      "bass            ==> SDR:   7.171  SIR: 208.177  ISR:  14.114  SAR:   5.717  \n",
      "\n"
     ]
    },
    {
     "name": "stderr",
     "output_type": "stream",
     "text": [
      "  4%|███████▍                                                                                                                                                                                   | 2/50 [00:19<07:55,  9.91s/it]"
     ]
    },
    {
     "name": "stdout",
     "output_type": "stream",
     "text": [
      "drums           ==> SDR:   2.377  SIR: 185.253  ISR:   9.757  SAR:  -0.385  \n",
      "bass            ==> SDR:   2.377  SIR: 185.253  ISR:   9.757  SAR:  -0.385  \n",
      "\n"
     ]
    },
    {
     "name": "stderr",
     "output_type": "stream",
     "text": [
      "  6%|███████████▏                                                                                                                                                                               | 3/50 [00:29<07:44,  9.88s/it]"
     ]
    },
    {
     "name": "stdout",
     "output_type": "stream",
     "text": [
      "drums           ==> SDR:   2.955  SIR: 228.724  ISR:  11.163  SAR:   1.361  \n",
      "bass            ==> SDR:   2.955  SIR: 228.724  ISR:  11.163  SAR:   1.361  \n",
      "\n"
     ]
    },
    {
     "name": "stderr",
     "output_type": "stream",
     "text": [
      "  8%|██████████████▉                                                                                                                                                                            | 4/50 [00:39<07:35,  9.90s/it]"
     ]
    },
    {
     "name": "stdout",
     "output_type": "stream",
     "text": [
      "drums           ==> SDR:   0.288  SIR: 224.905  ISR:  13.075  SAR:  -1.646  \n",
      "bass            ==> SDR:   0.288  SIR: 224.905  ISR:  13.075  SAR:  -1.646  \n",
      "\n"
     ]
    },
    {
     "name": "stderr",
     "output_type": "stream",
     "text": [
      " 10%|██████████████████▋                                                                                                                                                                        | 5/50 [00:49<07:27,  9.95s/it]"
     ]
    },
    {
     "name": "stdout",
     "output_type": "stream",
     "text": [
      "drums           ==> SDR:   7.647  SIR: 196.021  ISR:  16.031  SAR:   7.213  \n",
      "bass            ==> SDR:   7.647  SIR: 196.021  ISR:  16.031  SAR:   7.213  \n",
      "\n"
     ]
    },
    {
     "name": "stderr",
     "output_type": "stream",
     "text": [
      " 12%|██████████████████████▍                                                                                                                                                                    | 6/50 [00:59<07:18,  9.97s/it]"
     ]
    },
    {
     "name": "stdout",
     "output_type": "stream",
     "text": [
      "drums           ==> SDR:   3.884  SIR: 232.000  ISR:   8.062  SAR:   2.571  \n",
      "bass            ==> SDR:   3.884  SIR: 232.000  ISR:   8.062  SAR:   2.571  \n",
      "\n"
     ]
    },
    {
     "name": "stderr",
     "output_type": "stream",
     "text": [
      " 14%|██████████████████████████▏                                                                                                                                                                | 7/50 [01:10<07:16, 10.16s/it]"
     ]
    },
    {
     "name": "stdout",
     "output_type": "stream",
     "text": [
      "drums           ==> SDR:   5.339  SIR: 224.666  ISR:  12.202  SAR:   4.171  \n",
      "bass            ==> SDR:   5.339  SIR: 224.666  ISR:  12.202  SAR:   4.171  \n",
      "\n"
     ]
    },
    {
     "name": "stderr",
     "output_type": "stream",
     "text": [
      " 16%|█████████████████████████████▉                                                                                                                                                             | 8/50 [01:20<07:07, 10.18s/it]"
     ]
    },
    {
     "name": "stdout",
     "output_type": "stream",
     "text": [
      "drums           ==> SDR:   3.106  SIR: 241.192  ISR:  10.641  SAR:   1.495  \n",
      "bass            ==> SDR:   3.106  SIR: 241.192  ISR:  10.641  SAR:   1.495  \n",
      "\n"
     ]
    },
    {
     "name": "stderr",
     "output_type": "stream",
     "text": [
      " 18%|█████████████████████████████████▋                                                                                                                                                         | 9/50 [01:30<06:54, 10.12s/it]"
     ]
    },
    {
     "name": "stdout",
     "output_type": "stream",
     "text": [
      "drums           ==> SDR:   4.344  SIR: 160.268  ISR:   6.391  SAR:   2.727  \n",
      "bass            ==> SDR:   4.344  SIR: 160.268  ISR:   6.391  SAR:   2.727  \n",
      "\n"
     ]
    },
    {
     "name": "stderr",
     "output_type": "stream",
     "text": [
      " 20%|█████████████████████████████████████▏                                                                                                                                                    | 10/50 [01:40<06:45, 10.14s/it]"
     ]
    },
    {
     "name": "stdout",
     "output_type": "stream",
     "text": [
      "drums           ==> SDR: -39.474  SIR: 181.231  ISR:   9.305  SAR: -42.255  \n",
      "bass            ==> SDR: -39.474  SIR: 181.231  ISR:   9.305  SAR: -42.255  \n",
      "\n"
     ]
    },
    {
     "name": "stderr",
     "output_type": "stream",
     "text": [
      " 22%|████████████████████████████████████████▉                                                                                                                                                 | 11/50 [01:51<06:43, 10.34s/it]"
     ]
    },
    {
     "name": "stdout",
     "output_type": "stream",
     "text": [
      "drums           ==> SDR:   8.969  SIR: 222.015  ISR:  15.202  SAR:   9.041  \n",
      "bass            ==> SDR:   8.969  SIR: 222.015  ISR:  15.202  SAR:   9.041  \n",
      "\n"
     ]
    },
    {
     "name": "stderr",
     "output_type": "stream",
     "text": [
      " 24%|████████████████████████████████████████████▋                                                                                                                                             | 12/50 [02:01<06:30, 10.29s/it]"
     ]
    },
    {
     "name": "stdout",
     "output_type": "stream",
     "text": [
      "drums           ==> SDR:   6.804  SIR: 223.411  ISR:   8.880  SAR:   7.058  \n",
      "bass            ==> SDR:   6.804  SIR: 223.411  ISR:   8.880  SAR:   7.058  \n",
      "\n"
     ]
    },
    {
     "name": "stderr",
     "output_type": "stream",
     "text": [
      " 26%|████████████████████████████████████████████████▎                                                                                                                                         | 13/50 [02:11<06:15, 10.14s/it]"
     ]
    },
    {
     "name": "stdout",
     "output_type": "stream",
     "text": [
      "drums           ==> SDR:   0.733  SIR:  81.259  ISR:   1.702  SAR:  -2.228  \n",
      "bass            ==> SDR:   0.733  SIR:  81.259  ISR:   1.702  SAR:  -2.228  \n",
      "\n"
     ]
    },
    {
     "name": "stderr",
     "output_type": "stream",
     "text": [
      " 28%|████████████████████████████████████████████████████                                                                                                                                      | 14/50 [02:21<06:07, 10.20s/it]"
     ]
    },
    {
     "name": "stdout",
     "output_type": "stream",
     "text": [
      "drums           ==> SDR:   7.042  SIR: 212.024  ISR:  11.484  SAR:   6.906  \n",
      "bass            ==> SDR:   7.042  SIR: 212.024  ISR:  11.484  SAR:   6.906  \n",
      "\n"
     ]
    },
    {
     "name": "stderr",
     "output_type": "stream",
     "text": [
      " 30%|███████████████████████████████████████████████████████▊                                                                                                                                  | 15/50 [02:31<05:55, 10.14s/it]"
     ]
    },
    {
     "name": "stdout",
     "output_type": "stream",
     "text": [
      "drums           ==> SDR:   5.397  SIR: 217.630  ISR:  12.772  SAR:   4.309  \n",
      "bass            ==> SDR:   5.397  SIR: 217.630  ISR:  12.772  SAR:   4.309  \n",
      "\n"
     ]
    },
    {
     "name": "stderr",
     "output_type": "stream",
     "text": [
      " 32%|███████████████████████████████████████████████████████████▌                                                                                                                              | 16/50 [02:41<05:43, 10.09s/it]"
     ]
    },
    {
     "name": "stdout",
     "output_type": "stream",
     "text": [
      "drums           ==> SDR:   4.089  SIR: 212.646  ISR:  13.241  SAR:   2.581  \n",
      "bass            ==> SDR:   4.089  SIR: 212.646  ISR:  13.241  SAR:   2.581  \n",
      "\n"
     ]
    },
    {
     "name": "stderr",
     "output_type": "stream",
     "text": [
      " 34%|███████████████████████████████████████████████████████████████▏                                                                                                                          | 17/50 [02:51<05:34, 10.15s/it]"
     ]
    },
    {
     "name": "stdout",
     "output_type": "stream",
     "text": [
      "drums           ==> SDR:   1.904  SIR: 223.688  ISR:   5.980  SAR:  -1.438  \n",
      "bass            ==> SDR:   1.904  SIR: 223.688  ISR:   5.980  SAR:  -1.438  \n",
      "\n"
     ]
    },
    {
     "name": "stderr",
     "output_type": "stream",
     "text": [
      " 36%|██████████████████████████████████████████████████████████████████▉                                                                                                                       | 18/50 [03:02<05:26, 10.20s/it]"
     ]
    },
    {
     "name": "stdout",
     "output_type": "stream",
     "text": [
      "drums           ==> SDR:   9.663  SIR: 194.042  ISR:  16.038  SAR:   9.471  \n",
      "bass            ==> SDR:   9.663  SIR: 194.042  ISR:  16.038  SAR:   9.471  \n",
      "\n"
     ]
    },
    {
     "name": "stderr",
     "output_type": "stream",
     "text": [
      " 38%|██████████████████████████████████████████████████████████████████████▋                                                                                                                   | 19/50 [03:12<05:17, 10.24s/it]"
     ]
    },
    {
     "name": "stdout",
     "output_type": "stream",
     "text": [
      "drums           ==> SDR:   8.319  SIR: 220.348  ISR:  20.213  SAR:   7.905  \n",
      "bass            ==> SDR:   8.319  SIR: 220.348  ISR:  20.213  SAR:   7.905  \n",
      "\n"
     ]
    },
    {
     "name": "stderr",
     "output_type": "stream",
     "text": [
      " 40%|██████████████████████████████████████████████████████████████████████████▍                                                                                                               | 20/50 [03:22<05:06, 10.22s/it]"
     ]
    },
    {
     "name": "stdout",
     "output_type": "stream",
     "text": [
      "drums           ==> SDR:   1.172  SIR: 213.068  ISR:   1.776  SAR:   4.153  \n",
      "bass            ==> SDR:   1.172  SIR: 213.068  ISR:   1.776  SAR:   4.153  \n",
      "\n"
     ]
    },
    {
     "name": "stderr",
     "output_type": "stream",
     "text": [
      " 42%|██████████████████████████████████████████████████████████████████████████████                                                                                                            | 21/50 [03:32<04:56, 10.21s/it]"
     ]
    },
    {
     "name": "stdout",
     "output_type": "stream",
     "text": [
      "drums           ==> SDR:   5.907  SIR: 186.989  ISR:  14.550  SAR:   5.161  \n",
      "bass            ==> SDR:   5.907  SIR: 186.989  ISR:  14.550  SAR:   5.161  \n",
      "\n"
     ]
    },
    {
     "name": "stderr",
     "output_type": "stream",
     "text": [
      " 44%|█████████████████████████████████████████████████████████████████████████████████▊                                                                                                        | 22/50 [03:42<04:41, 10.07s/it]"
     ]
    },
    {
     "name": "stdout",
     "output_type": "stream",
     "text": [
      "drums           ==> SDR: -28.132  SIR: 271.236  ISR:   1.972  SAR: -32.239  \n",
      "bass            ==> SDR: -28.132  SIR: 271.236  ISR:   1.972  SAR: -32.239  \n",
      "\n"
     ]
    },
    {
     "name": "stderr",
     "output_type": "stream",
     "text": [
      " 46%|█████████████████████████████████████████████████████████████████████████████████████▌                                                                                                    | 23/50 [03:52<04:27,  9.92s/it]"
     ]
    },
    {
     "name": "stdout",
     "output_type": "stream",
     "text": [
      "drums           ==> SDR:   3.802  SIR: 176.890  ISR:  10.783  SAR:   2.092  \n",
      "bass            ==> SDR:   3.802  SIR: 176.890  ISR:  10.783  SAR:   2.092  \n",
      "\n"
     ]
    },
    {
     "name": "stderr",
     "output_type": "stream",
     "text": [
      " 48%|█████████████████████████████████████████████████████████████████████████████████████████▎                                                                                                | 24/50 [04:02<04:20, 10.00s/it]"
     ]
    },
    {
     "name": "stdout",
     "output_type": "stream",
     "text": [
      "drums           ==> SDR:   6.884  SIR: 136.321  ISR:  13.038  SAR:   6.469  \n",
      "bass            ==> SDR:   6.884  SIR: 136.321  ISR:  13.038  SAR:   6.469  \n",
      "\n"
     ]
    },
    {
     "name": "stderr",
     "output_type": "stream",
     "text": [
      " 50%|█████████████████████████████████████████████████████████████████████████████████████████████                                                                                             | 25/50 [04:12<04:10, 10.01s/it]"
     ]
    },
    {
     "name": "stdout",
     "output_type": "stream",
     "text": [
      "drums           ==> SDR:   1.837  SIR: 226.138  ISR:   7.630  SAR:  -1.451  \n",
      "bass            ==> SDR:   1.837  SIR: 226.138  ISR:   7.630  SAR:  -1.451  \n",
      "\n"
     ]
    },
    {
     "name": "stderr",
     "output_type": "stream",
     "text": [
      " 52%|████████████████████████████████████████████████████████████████████████████████████████████████▋                                                                                         | 26/50 [04:23<04:08, 10.34s/it]"
     ]
    },
    {
     "name": "stdout",
     "output_type": "stream",
     "text": [
      "drums           ==> SDR:  10.971  SIR: 185.518  ISR:  18.656  SAR:  10.952  \n",
      "bass            ==> SDR:  10.971  SIR: 185.518  ISR:  18.656  SAR:  10.952  \n",
      "\n"
     ]
    },
    {
     "name": "stderr",
     "output_type": "stream",
     "text": [
      " 54%|████████████████████████████████████████████████████████████████████████████████████████████████████▍                                                                                     | 27/50 [04:35<04:11, 10.93s/it]"
     ]
    },
    {
     "name": "stdout",
     "output_type": "stream",
     "text": [
      "drums           ==> SDR:   6.513  SIR: 187.872  ISR:  15.713  SAR:   5.769  \n",
      "bass            ==> SDR:   6.513  SIR: 187.872  ISR:  15.713  SAR:   5.769  \n",
      "\n"
     ]
    },
    {
     "name": "stderr",
     "output_type": "stream",
     "text": [
      " 56%|████████████████████████████████████████████████████████████████████████████████████████████████████████▏                                                                                 | 28/50 [04:48<04:10, 11.37s/it]"
     ]
    },
    {
     "name": "stdout",
     "output_type": "stream",
     "text": [
      "drums           ==> SDR:   9.836  SIR: 208.527  ISR:  13.480  SAR:  10.771  \n",
      "bass            ==> SDR:   9.836  SIR: 208.527  ISR:  13.480  SAR:  10.771  \n",
      "\n"
     ]
    },
    {
     "name": "stderr",
     "output_type": "stream",
     "text": [
      " 58%|███████████████████████████████████████████████████████████████████████████████████████████████████████████▉                                                                              | 29/50 [04:58<03:48, 10.90s/it]"
     ]
    },
    {
     "name": "stdout",
     "output_type": "stream",
     "text": [
      "drums           ==> SDR:   5.738  SIR: 186.642  ISR:   7.456  SAR:   7.273  \n",
      "bass            ==> SDR:   5.738  SIR: 186.642  ISR:   7.456  SAR:   7.273  \n",
      "\n"
     ]
    },
    {
     "name": "stderr",
     "output_type": "stream",
     "text": [
      " 60%|███████████████████████████████████████████████████████████████████████████████████████████████████████████████▌                                                                          | 30/50 [05:11<03:51, 11.60s/it]"
     ]
    },
    {
     "name": "stdout",
     "output_type": "stream",
     "text": [
      "drums           ==> SDR:   5.248  SIR: 215.569  ISR:  12.643  SAR:   5.383  \n",
      "bass            ==> SDR:   5.248  SIR: 215.569  ISR:  12.643  SAR:   5.383  \n",
      "\n"
     ]
    },
    {
     "name": "stderr",
     "output_type": "stream",
     "text": [
      " 62%|███████████████████████████████████████████████████████████████████████████████████████████████████████████████████▎                                                                      | 31/50 [05:21<03:34, 11.30s/it]"
     ]
    },
    {
     "name": "stdout",
     "output_type": "stream",
     "text": [
      "drums           ==> SDR:   2.210  SIR: 210.549  ISR:  10.744  SAR:   0.384  \n",
      "bass            ==> SDR:   2.210  SIR: 210.549  ISR:  10.744  SAR:   0.384  \n",
      "\n"
     ]
    },
    {
     "name": "stderr",
     "output_type": "stream",
     "text": [
      " 64%|███████████████████████████████████████████████████████████████████████████████████████████████████████████████████████                                                                   | 32/50 [05:32<03:18, 11.01s/it]"
     ]
    },
    {
     "name": "stdout",
     "output_type": "stream",
     "text": [
      "drums           ==> SDR:   2.104  SIR: 206.162  ISR:   6.255  SAR:   1.546  \n",
      "bass            ==> SDR:   2.104  SIR: 206.162  ISR:   6.255  SAR:   1.546  \n",
      "\n"
     ]
    },
    {
     "name": "stderr",
     "output_type": "stream",
     "text": [
      " 66%|██████████████████████████████████████████████████████████████████████████████████████████████████████████████████████████▊                                                               | 33/50 [05:42<03:05, 10.90s/it]"
     ]
    },
    {
     "name": "stdout",
     "output_type": "stream",
     "text": [
      "drums           ==> SDR:   1.761  SIR: 224.967  ISR:   6.577  SAR:  -1.299  \n",
      "bass            ==> SDR:   1.761  SIR: 224.967  ISR:   6.577  SAR:  -1.299  \n",
      "\n"
     ]
    },
    {
     "name": "stderr",
     "output_type": "stream",
     "text": [
      " 68%|██████████████████████████████████████████████████████████████████████████████████████████████████████████████████████████████▍                                                           | 34/50 [05:53<02:51, 10.72s/it]"
     ]
    },
    {
     "name": "stdout",
     "output_type": "stream",
     "text": [
      "drums           ==> SDR:   4.298  SIR: 247.976  ISR:   8.780  SAR:   2.656  \n",
      "bass            ==> SDR:   4.298  SIR: 247.976  ISR:   8.780  SAR:   2.656  \n",
      "\n"
     ]
    },
    {
     "name": "stderr",
     "output_type": "stream",
     "text": [
      " 70%|██████████████████████████████████████████████████████████████████████████████████████████████████████████████████████████████████▏                                                       | 35/50 [06:03<02:40, 10.72s/it]"
     ]
    },
    {
     "name": "stdout",
     "output_type": "stream",
     "text": [
      "drums           ==> SDR:   9.000  SIR: 216.484  ISR:  14.802  SAR:   8.676  \n",
      "bass            ==> SDR:   9.000  SIR: 216.484  ISR:  14.802  SAR:   8.676  \n",
      "\n"
     ]
    },
    {
     "name": "stderr",
     "output_type": "stream",
     "text": [
      " 72%|█████████████████████████████████████████████████████████████████████████████████████████████████████████████████████████████████████▉                                                    | 36/50 [06:14<02:27, 10.56s/it]"
     ]
    },
    {
     "name": "stdout",
     "output_type": "stream",
     "text": [
      "drums           ==> SDR:   1.350  SIR: 201.957  ISR:   7.898  SAR:  -1.056  \n",
      "bass            ==> SDR:   1.350  SIR: 201.957  ISR:   7.898  SAR:  -1.056  \n",
      "\n"
     ]
    },
    {
     "name": "stderr",
     "output_type": "stream",
     "text": [
      " 74%|█████████████████████████████████████████████████████████████████████████████████████████████████████████████████████████████████████████▋                                                | 37/50 [06:24<02:18, 10.65s/it]"
     ]
    },
    {
     "name": "stdout",
     "output_type": "stream",
     "text": [
      "drums           ==> SDR:  -4.522  SIR: 200.216  ISR:  12.357  SAR:  -6.742  \n",
      "bass            ==> SDR:  -4.522  SIR: 200.216  ISR:  12.357  SAR:  -6.742  \n",
      "\n"
     ]
    },
    {
     "name": "stderr",
     "output_type": "stream",
     "text": [
      " 76%|█████████████████████████████████████████████████████████████████████████████████████████████████████████████████████████████████████████████▎                                            | 38/50 [06:35<02:07, 10.60s/it]"
     ]
    },
    {
     "name": "stdout",
     "output_type": "stream",
     "text": [
      "drums           ==> SDR:   5.362  SIR: 222.573  ISR:  11.160  SAR:   3.705  \n",
      "bass            ==> SDR:   5.362  SIR: 222.573  ISR:  11.160  SAR:   3.705  \n",
      "\n"
     ]
    },
    {
     "name": "stderr",
     "output_type": "stream",
     "text": [
      " 78%|█████████████████████████████████████████████████████████████████████████████████████████████████████████████████████████████████████████████████                                         | 39/50 [06:46<01:56, 10.60s/it]"
     ]
    },
    {
     "name": "stdout",
     "output_type": "stream",
     "text": [
      "drums           ==> SDR:   5.141  SIR: 227.258  ISR:   7.454  SAR:   5.231  \n",
      "bass            ==> SDR:   5.141  SIR: 227.258  ISR:   7.454  SAR:   5.231  \n",
      "\n"
     ]
    },
    {
     "name": "stderr",
     "output_type": "stream",
     "text": [
      " 80%|████████████████████████████████████████████████████████████████████████████████████████████████████████████████████████████████████████████████████▊                                     | 40/50 [06:56<01:46, 10.64s/it]"
     ]
    },
    {
     "name": "stdout",
     "output_type": "stream",
     "text": [
      "drums           ==> SDR:  -4.983  SIR: 173.164  ISR:   7.422  SAR:  -6.892  \n",
      "bass            ==> SDR:  -4.983  SIR: 173.164  ISR:   7.422  SAR:  -6.892  \n",
      "\n"
     ]
    },
    {
     "name": "stderr",
     "output_type": "stream",
     "text": [
      " 82%|████████████████████████████████████████████████████████████████████████████████████████████████████████████████████████████████████████████████████████▌                                 | 41/50 [07:07<01:34, 10.53s/it]"
     ]
    },
    {
     "name": "stdout",
     "output_type": "stream",
     "text": [
      "drums           ==> SDR:   6.016  SIR: 180.431  ISR:  15.137  SAR:   5.029  \n",
      "bass            ==> SDR:   6.016  SIR: 180.431  ISR:  15.137  SAR:   5.029  \n",
      "\n"
     ]
    },
    {
     "name": "stderr",
     "output_type": "stream",
     "text": [
      " 84%|████████████████████████████████████████████████████████████████████████████████████████████████████████████████████████████████████████████████████████████▏                             | 42/50 [07:17<01:23, 10.38s/it]"
     ]
    },
    {
     "name": "stdout",
     "output_type": "stream",
     "text": [
      "drums           ==> SDR:   7.365  SIR: 129.465  ISR:  13.274  SAR:   6.609  \n",
      "bass            ==> SDR:   7.365  SIR: 129.465  ISR:  13.274  SAR:   6.609  \n",
      "\n"
     ]
    },
    {
     "name": "stderr",
     "output_type": "stream",
     "text": [
      " 86%|███████████████████████████████████████████████████████████████████████████████████████████████████████████████████████████████████████████████████████████████▉                          | 43/50 [07:26<01:11, 10.16s/it]"
     ]
    },
    {
     "name": "stdout",
     "output_type": "stream",
     "text": [
      "drums           ==> SDR:   4.061  SIR: 185.373  ISR:   9.103  SAR:   2.180  \n",
      "bass            ==> SDR:   4.061  SIR: 185.373  ISR:   9.103  SAR:   2.180  \n",
      "\n"
     ]
    },
    {
     "name": "stderr",
     "output_type": "stream",
     "text": [
      " 88%|███████████████████████████████████████████████████████████████████████████████████████████████████████████████████████████████████████████████████████████████████▋                      | 44/50 [07:37<01:01, 10.21s/it]"
     ]
    },
    {
     "name": "stdout",
     "output_type": "stream",
     "text": [
      "drums           ==> SDR:   7.249  SIR: 217.466  ISR:  14.733  SAR:   5.959  \n",
      "bass            ==> SDR:   7.249  SIR: 217.466  ISR:  14.733  SAR:   5.959  \n",
      "\n"
     ]
    },
    {
     "name": "stderr",
     "output_type": "stream",
     "text": [
      " 90%|███████████████████████████████████████████████████████████████████████████████████████████████████████████████████████████████████████████████████████████████████████▍                  | 45/50 [07:47<00:51, 10.32s/it]"
     ]
    },
    {
     "name": "stdout",
     "output_type": "stream",
     "text": [
      "drums           ==> SDR:   1.215  SIR: 211.511  ISR:   1.791  SAR:  -2.186  \n",
      "bass            ==> SDR:   1.215  SIR: 211.511  ISR:   1.791  SAR:  -2.186  \n",
      "\n"
     ]
    },
    {
     "name": "stderr",
     "output_type": "stream",
     "text": [
      " 92%|███████████████████████████████████████████████████████████████████████████████████████████████████████████████████████████████████████████████████████████████████████████               | 46/50 [07:57<00:41, 10.29s/it]"
     ]
    },
    {
     "name": "stdout",
     "output_type": "stream",
     "text": [
      "drums           ==> SDR:   1.566  SIR: 207.516  ISR:   5.165  SAR:  -1.560  \n",
      "bass            ==> SDR:   1.566  SIR: 207.516  ISR:   5.165  SAR:  -1.560  \n",
      "\n"
     ]
    },
    {
     "name": "stderr",
     "output_type": "stream",
     "text": [
      " 94%|██████████████████████████████████████████████████████████████████████████████████████████████████████████████████████████████████████████████████████████████████████████████▊           | 47/50 [08:07<00:30, 10.01s/it]"
     ]
    },
    {
     "name": "stdout",
     "output_type": "stream",
     "text": [
      "drums           ==> SDR:   1.527  SIR: 169.354  ISR:   8.852  SAR:   0.477  \n",
      "bass            ==> SDR:   1.527  SIR: 169.354  ISR:   8.852  SAR:   0.477  \n",
      "\n"
     ]
    },
    {
     "name": "stderr",
     "output_type": "stream",
     "text": [
      " 96%|██████████████████████████████████████████████████████████████████████████████████████████████████████████████████████████████████████████████████████████████████████████████████▌       | 48/50 [08:17<00:20, 10.16s/it]"
     ]
    },
    {
     "name": "stdout",
     "output_type": "stream",
     "text": [
      "drums           ==> SDR:   2.686  SIR: 220.359  ISR:   9.742  SAR:   1.022  \n",
      "bass            ==> SDR:   2.686  SIR: 220.359  ISR:   9.742  SAR:   1.022  \n",
      "\n"
     ]
    },
    {
     "name": "stderr",
     "output_type": "stream",
     "text": [
      " 98%|██████████████████████████████████████████████████████████████████████████████████████████████████████████████████████████████████████████████████████████████████████████████████████▎   | 49/50 [08:28<00:10, 10.22s/it]"
     ]
    },
    {
     "name": "stdout",
     "output_type": "stream",
     "text": [
      "drums           ==> SDR:   7.011  SIR: 219.125  ISR:  17.458  SAR:   6.594  \n",
      "bass            ==> SDR:   7.011  SIR: 219.125  ISR:  17.458  SAR:   6.594  \n",
      "\n"
     ]
    },
    {
     "name": "stderr",
     "output_type": "stream",
     "text": [
      "100%|██████████████████████████████████████████████████████████████████████████████████████████████████████████████████████████████████████████████████████████████████████████████████████████| 50/50 [08:40<00:00, 10.42s/it]"
     ]
    },
    {
     "name": "stdout",
     "output_type": "stream",
     "text": [
      "drums           ==> SDR:   6.905  SIR: 208.895  ISR:  13.600  SAR:   6.053  \n",
      "bass            ==> SDR:   6.905  SIR: 208.895  ISR:  13.600  SAR:   6.053  \n",
      "\n"
     ]
    },
    {
     "name": "stderr",
     "output_type": "stream",
     "text": [
      "\n"
     ]
    }
   ],
   "source": [
    "# for fold in range(3):\n",
    "for accuracy in [0.02, 0.05, 0.1, 0.2, 0.3, 0.5, 0.7, 1.0]:\n",
    "    for name in ['epoch_280']:\n",
    "        #try:\n",
    "        output_path = f\"D:/Github/phd-drum-sep/rebuttal_experiments/htdemucs/results_{name}_{accuracy}_fpr/\"\n",
    "        \n",
    "        try:\n",
    "            os.mkdir(output_path)\n",
    "        except:\n",
    "            pass\n",
    "    \n",
    "        model = DrumHybridDemucs.load_from_checkpoint(f'D:/Github/phd-drum-sep/analysis/ht_demucs_small_analysis/checkpoint/{name}.ckpt')\n",
    "        # model.to('cpu')\n",
    "        model = model.eval()\n",
    "        \n",
    "        mus = musdb.DB(root=\"D:/Github/phd-drum-sep/Data/musdb18_stems/\", subsets=\"test\") \n",
    "        \n",
    "        results = museval.EvalStore(frames_agg='median', tracks_agg='median')\n",
    "        for track in tqdm(mus):\n",
    "            try:\n",
    "                path = \"D:/Github/phd-drum-sep/Data/musdb18hq/\"\n",
    "                audio_path = path + 'test/' + track.name + \"/\"\n",
    "            \n",
    "            \n",
    "                mixture_tensor = load_audio(audio_path, start_point,'mixture.wav').unsqueeze(0).to(model.device)[:,:,:duration]\n",
    "                drum_tensor = load_audio(audio_path, start_point,'drums.wav').unsqueeze(0).to(model.device)[:,:,:duration]\n",
    "                shape = mixture_tensor.shape[2]\n",
    "                roll_tensor = load_roll(audio_path, start_point, shape, accuracy).unsqueeze(0).to(model.device)[:,:,:duration]\n",
    "            \n",
    "                seperated = separate_sources(model, mixture_tensor, roll_tensor, device='cuda')\n",
    "            \n",
    "                \n",
    "                audio = seperated.squeeze(0).cpu().numpy()\n",
    "                audio = np.swapaxes(audio,0,1)\n",
    "                estimates = {'drums': audio, 'bass': audio}\n",
    "            \n",
    "                d = drum_tensor.squeeze(0).cpu().numpy()\n",
    "                d = np.swapaxes(d,0,1)\n",
    "                \n",
    "                track.targets['drums'] = AudioData(d)\n",
    "                track.targets['bass'] = AudioData(d)\n",
    "                \n",
    "                scores = museval.eval_mus_track(\n",
    "                    track, estimates, output_dir=f\"{output_path}\"\n",
    "                )\n",
    "            \n",
    "                print(scores)\n",
    "                results.add_track(scores)\n",
    "                gc.collect()\n",
    "            except Exception as e:\n",
    "                print(e)\n",
    "                pass\n",
    "        \n",
    "        results.df.to_csv(f\"{output_path}results.csv\")\n",
    "    \n",
    "        del model\n",
    "        del mus\n",
    "        \n",
    "        # except Exception as e:\n",
    "        #     print('error with model, skipping', name, e)"
   ]
  },
  {
   "cell_type": "code",
   "execution_count": 16,
   "id": "ff3d97f7-2804-4b99-adcb-5adeb7dc9d7d",
   "metadata": {},
   "outputs": [
    {
     "data": {
      "text/plain": [
       "['__class__',\n",
       " '__delattr__',\n",
       " '__dict__',\n",
       " '__dir__',\n",
       " '__doc__',\n",
       " '__eq__',\n",
       " '__format__',\n",
       " '__ge__',\n",
       " '__getattribute__',\n",
       " '__getstate__',\n",
       " '__gt__',\n",
       " '__hash__',\n",
       " '__init__',\n",
       " '__init_subclass__',\n",
       " '__le__',\n",
       " '__lt__',\n",
       " '__module__',\n",
       " '__ne__',\n",
       " '__new__',\n",
       " '__reduce__',\n",
       " '__reduce_ex__',\n",
       " '__repr__',\n",
       " '__setattr__',\n",
       " '__sizeof__',\n",
       " '__str__',\n",
       " '__subclasshook__',\n",
       " '__weakref__',\n",
       " 'add_eval_dir',\n",
       " 'add_track',\n",
       " 'agg_frames_scores',\n",
       " 'agg_frames_tracks_scores',\n",
       " 'df',\n",
       " 'frames_agg',\n",
       " 'load',\n",
       " 'save',\n",
       " 'tracks_agg']"
      ]
     },
     "execution_count": 16,
     "metadata": {},
     "output_type": "execute_result"
    }
   ],
   "source": [
    "dir(results)"
   ]
  },
  {
   "cell_type": "code",
   "execution_count": 17,
   "id": "6cd0a0c5-a825-44cb-94e7-9fef9dcc91fb",
   "metadata": {},
   "outputs": [
    {
     "data": {
      "text/plain": [
       "(target  metric\n",
       " bass    ISR        10.971557\n",
       "         SAR         3.216130\n",
       "         SDR         4.320782\n",
       "         SIR       211.030180\n",
       " drums   ISR        10.971557\n",
       "         SAR         3.216130\n",
       "         SDR         4.320782\n",
       "         SIR       211.030180\n",
       " Name: score, dtype: float64,)"
      ]
     },
     "execution_count": 17,
     "metadata": {},
     "output_type": "execute_result"
    }
   ],
   "source": [
    "results.agg_frames_tracks_scores(), "
   ]
  },
  {
   "cell_type": "code",
   "execution_count": 18,
   "id": "246b6f4f-d272-4105-aef9-26757a4c3b4f",
   "metadata": {},
   "outputs": [],
   "source": [
    "r = results.agg_frames_scores().to_dict()"
   ]
  },
  {
   "cell_type": "code",
   "execution_count": 19,
   "id": "d600d210-0015-462f-8dc5-4c5888589fe3",
   "metadata": {},
   "outputs": [
    {
     "name": "stdout",
     "output_type": "stream",
     "text": [
      "4.3207825\n"
     ]
    }
   ],
   "source": [
    "sdrs = []\n",
    "for key in list(r.keys()):\n",
    "    if 'SDR' in key:\n",
    "        sdrs.append(r[key])\n",
    "\n",
    "print(np.median(sdrs))"
   ]
  },
  {
   "cell_type": "code",
   "execution_count": null,
   "id": "58db3f19-21c2-4daf-bdf1-eb25814ec5d7",
   "metadata": {},
   "outputs": [],
   "source": []
  }
 ],
 "metadata": {
  "kernelspec": {
   "display_name": "Python 3 (ipykernel)",
   "language": "python",
   "name": "python3"
  },
  "language_info": {
   "codemirror_mode": {
    "name": "ipython",
    "version": 3
   },
   "file_extension": ".py",
   "mimetype": "text/x-python",
   "name": "python",
   "nbconvert_exporter": "python",
   "pygments_lexer": "ipython3",
   "version": "3.11.4"
  }
 },
 "nbformat": 4,
 "nbformat_minor": 5
}
