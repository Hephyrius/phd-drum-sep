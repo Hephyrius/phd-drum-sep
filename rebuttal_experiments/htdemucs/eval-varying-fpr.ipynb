{
 "cells": [
  {
   "cell_type": "markdown",
   "id": "20b2a3bb-3d01-4f42-bc37-dff46522af7f",
   "metadata": {},
   "source": [
    "# Imports"
   ]
  },
  {
   "cell_type": "code",
   "execution_count": 1,
   "id": "71d686e6-8847-4861-88f0-58141c363862",
   "metadata": {},
   "outputs": [
    {
     "name": "stdout",
     "output_type": "stream",
     "text": [
      "True\n"
     ]
    }
   ],
   "source": [
    "import os\n",
    "import pywt\n",
    "import torch\n",
    "import torch.nn as nn\n",
    "import torch.nn.functional as F\n",
    "import torchaudio\n",
    "import pytorch_lightning as pl\n",
    "from torch.utils.data import DataLoader, Dataset\n",
    "from torchaudio.pipelines import HDEMUCS_HIGH_MUSDB\n",
    "import torch.optim as optim\n",
    "from torch.utils.data import Dataset, DataLoader\n",
    "import torchaudio\n",
    "import numpy as np\n",
    "import random\n",
    "from pytorch_lightning.loggers import WandbLogger\n",
    "import wandb\n",
    "import auraloss\n",
    "import collections\n",
    "from tqdm import tqdm\n",
    "import pretty_midi\n",
    "import matplotlib.pyplot as plt\n",
    "from torchaudio.pipelines import HDEMUCS_HIGH_MUSDB\n",
    "print(torch.cuda.is_available())\n",
    "import plotly.graph_objects as go\n",
    "from torch.optim import lr_scheduler\n",
    "from IPython.display import Audio\n",
    "from torchaudio.transforms import Fade\n",
    "import musdb\n",
    "import museval\n",
    "import gc\n",
    "from demucs import pretrained, htdemucs"
   ]
  },
  {
   "cell_type": "code",
   "execution_count": 2,
   "id": "275ddd3f-aa3d-4444-8ddd-c8874bac940c",
   "metadata": {},
   "outputs": [
    {
     "name": "stdout",
     "output_type": "stream",
     "text": [
      "True\n"
     ]
    }
   ],
   "source": [
    "\n",
    "import os\n",
    "import torch\n",
    "import torch.nn as nn\n",
    "import torch.nn.functional as F\n",
    "import torchaudio\n",
    "import pytorch_lightning as pl\n",
    "from torch.utils.data import DataLoader, Dataset\n",
    "from torchaudio.pipelines import HDEMUCS_HIGH_MUSDB\n",
    "import torch.optim as optim\n",
    "from torch.utils.data import Dataset, DataLoader\n",
    "import torchaudio\n",
    "import numpy as np\n",
    "import random\n",
    "from pytorch_lightning.loggers import WandbLogger\n",
    "import subprocess\n",
    "import wandb\n",
    "import auraloss\n",
    "import collections\n",
    "from tqdm import tqdm\n",
    "import librosa\n",
    "from torchaudio.pipelines import HDEMUCS_HIGH_MUSDB\n",
    "print(torch.cuda.is_available())\n",
    "from torch.optim import lr_scheduler\n",
    "import pretty_midi\n",
    "from typing import Optional, Tuple\n",
    "import numpy as np\n",
    "import random"
   ]
  },
  {
   "cell_type": "markdown",
   "id": "e1c82506-04c8-4200-9e63-26857aa176bd",
   "metadata": {},
   "source": [
    "# Set Seeds"
   ]
  },
  {
   "cell_type": "code",
   "execution_count": 3,
   "id": "db3acd3b-d177-44d3-a3f4-35140f45e48a",
   "metadata": {},
   "outputs": [],
   "source": [
    "seed_value = 3407\n",
    "torch.manual_seed(seed_value)\n",
    "random.seed(seed_value)\n",
    "np.random.seed(seed_value)\n",
    "torch.cuda.manual_seed(seed_value)\n",
    "torch.cuda.manual_seed_all(seed_value)\n",
    "torch.set_float32_matmul_precision('high')"
   ]
  },
  {
   "cell_type": "markdown",
   "id": "6182916a-aec1-4c05-8a08-4d2e44dfd979",
   "metadata": {},
   "source": [
    "# Construct Teh Datas"
   ]
  },
  {
   "cell_type": "code",
   "execution_count": 4,
   "id": "dbe5ef07-9ab9-4e3e-9334-048f67ae25e4",
   "metadata": {},
   "outputs": [],
   "source": [
    "path = \"D:/Github/phd-drum-sep/Data/musdb18hq/\""
   ]
  },
  {
   "cell_type": "code",
   "execution_count": 5,
   "id": "e101d3bb-e001-42ff-90cc-42384739d506",
   "metadata": {},
   "outputs": [
    {
     "data": {
      "text/plain": [
       "['test', 'train']"
      ]
     },
     "execution_count": 5,
     "metadata": {},
     "output_type": "execute_result"
    }
   ],
   "source": [
    "os.listdir(path)"
   ]
  },
  {
   "cell_type": "code",
   "execution_count": 6,
   "id": "c52ab99f-41d2-4b7f-a179-90681a8a0a81",
   "metadata": {},
   "outputs": [],
   "source": [
    "train = list(os.listdir(path+'train'))\n",
    "test = list(os.listdir(path+'test'))"
   ]
  },
  {
   "cell_type": "code",
   "execution_count": 7,
   "id": "21aa39ee-b25f-4bdc-950a-9389eb93765a",
   "metadata": {},
   "outputs": [],
   "source": [
    "sources = ['drum', 'bass', 'other', 'vocals']"
   ]
  },
  {
   "cell_type": "code",
   "execution_count": 8,
   "id": "f07f7f9c-2d6b-42b9-b5ac-0f4bd9aeb6a7",
   "metadata": {},
   "outputs": [
    {
     "name": "stderr",
     "output_type": "stream",
     "text": [
      "50it [00:00, 4540.57it/s]\n"
     ]
    }
   ],
   "source": [
    "all_scenes = {}\n",
    "counter = 0\n",
    "sample_rate = 44100\n",
    "segment_length = sample_rate * 1\n",
    "\n",
    "for idx, val in tqdm(enumerate(test)):\n",
    "    p = path + 'test/' + val + \"/\"\n",
    "    info = torchaudio.info(f\"{p}mixture.wav\")\n",
    "    seconds = info.num_frames // 44100\n",
    "    for i in range(0, seconds - 1, 1):\n",
    "        start_point = i * 44100\n",
    "        if start_point + 44100 < info.num_frames:\n",
    "            all_scenes[counter] = {'music_path': p, 'start_point': start_point, 'length': 44100, 'frames' : info.num_frames}\n",
    "            counter += 1"
   ]
  },
  {
   "cell_type": "code",
   "execution_count": 9,
   "id": "d6d4eb9a-f08d-4452-a4ad-b9769a218278",
   "metadata": {},
   "outputs": [],
   "source": [
    "import numpy as np\n",
    "import random\n",
    "def turn_transcription_into_roll(transcription, frames, false_positive_rate=0.0):\n",
    "    \"\"\"\n",
    "    Convert transcription into a piano roll, selectively including notes based on a threshold,\n",
    "    and introduce false positives based on the false positive rate.\n",
    "    \n",
    "    Args:\n",
    "        transcription (music21.stream.Score): The transcription data.\n",
    "        frames (int): The number of frames in the output roll.\n",
    "        threshold (float): The threshold for including a note (0.0 to 1.0).\n",
    "        false_positive_rate (float): The rate at which false positives are introduced (0.0 to 1.0).\n",
    "    \n",
    "    Returns:\n",
    "        np.ndarray: The piano roll representation of the transcription.\n",
    "    \"\"\"\n",
    "    # Determine your sampling frequency (frames per second)\n",
    "    fs = 44100\n",
    "    \n",
    "    piano_roll_length = int(frames)\n",
    "    \n",
    "    # Initialize the piano roll array\n",
    "    piano_roll = np.zeros((64, piano_roll_length))\n",
    "    \n",
    "    # Fill in the piano roll array with true notes\n",
    "    for note in transcription.instruments[0].notes:\n",
    "        # Convert start and end times to frame indices\n",
    "        start_frame = int(np.floor(note.start * fs))\n",
    "        end_frame = int(np.ceil(note.end * fs))\n",
    "        \n",
    "        # Set the corresponding frames to 1 (or note.velocity for a velocity-sensitive representation)\n",
    "        piano_roll[note.pitch, start_frame:end_frame] = 1  # Or use note.velocity\n",
    "    \n",
    "    # Introduce false positives\n",
    "    num_false_positives = int(false_positive_rate * len(transcription.instruments[0].notes))\n",
    "    for _ in range(num_false_positives):\n",
    "        random_pitch = random.choice([35, 38, 42, 47, 49])\n",
    "        random_start_frame = random.randint(0, piano_roll_length - int(fs * 0.15))\n",
    "        random_duration = random.randint(int(fs * 0.05), int(fs * 0.15))  # Random duration up to 0.1 seconds\n",
    "        random_end_frame = min(random_start_frame + random_duration, piano_roll_length)\n",
    "        \n",
    "        # Set the false positive frames to 1\n",
    "        piano_roll[random_pitch, random_start_frame:random_end_frame] = 1\n",
    "    \n",
    "    roll = np.vstack([\n",
    "        piano_roll[35:36, :],  # Kick\n",
    "        piano_roll[38:39, :],  # Snare\n",
    "        piano_roll[42:43, :],  # Hi-hat closed\n",
    "        piano_roll[47:48, :],  # Hi-hat open\n",
    "        piano_roll[49:50, :]   # Crash\n",
    "    ])\n",
    "    \n",
    "    return roll"
   ]
  },
  {
   "cell_type": "markdown",
   "id": "20988d30-a95e-4dca-ac19-a6f7cea95717",
   "metadata": {},
   "source": [
    "# model"
   ]
  },
  {
   "cell_type": "code",
   "execution_count": 10,
   "id": "b72a57b5-7115-421d-b26e-3ca3d21fef5d",
   "metadata": {},
   "outputs": [],
   "source": [
    "\n",
    "\n",
    "# # making the model\n",
    "class NewSDRLoss(nn.Module):\n",
    "    \"\"\"\n",
    "    New Signal-to-Distortion Ratio (SDR) loss module based on the MDX challenge definition.\n",
    "\n",
    "    Args:\n",
    "        reduction (str, optional): Specifies the reduction to apply to the output:\n",
    "            'none': no reduction will be applied,\n",
    "            'mean': the mean of the output will be calculated,\n",
    "            'sum': the sum of the output will be calculated. Default: 'mean'.\n",
    "    \"\"\"\n",
    "    def __init__(self, reduction='mean'):\n",
    "        super(NewSDRLoss, self).__init__()\n",
    "        self.reduction = reduction\n",
    "\n",
    "    def forward(self, estimates, references):\n",
    "        \"\"\"\n",
    "        Computes the SDR loss between the estimated and reference signals.\n",
    "\n",
    "        Args:\n",
    "            estimates (Tensor): Estimated signals, shape (batch, channels, height, width).\n",
    "            references (Tensor): Reference signals, shape (batch, channels, height, width).\n",
    "\n",
    "        Returns:\n",
    "            Tensor: The calculated SDR loss.\n",
    "        \"\"\"\n",
    "        assert references.dim() == 4 and estimates.dim() == 4, \"Inputs must be 4D tensors.\"\n",
    "\n",
    "        delta = 1e-7  # Avoid numerical errors\n",
    "        num = torch.sum(torch.square(references), dim=(2, 3))\n",
    "        den = torch.sum(torch.square(references - estimates), dim=(2, 3))\n",
    "        num += delta\n",
    "        den += delta\n",
    "        scores = 10 * torch.log10(num / den)\n",
    "\n",
    "        if self.reduction == 'mean':\n",
    "            return -scores.mean()\n",
    "        elif self.reduction == 'sum':\n",
    "            return -scores.sum()\n",
    "        else:  # 'none'\n",
    "            return -scores\n",
    "        \n",
    "class DrumHybridDemucs(pl.LightningModule):\n",
    "    def __init__(self):\n",
    "        super(DrumHybridDemucs, self).__init__()\n",
    "\n",
    "        self.loss_fn = auraloss.freq.MultiResolutionSTFTLoss(\n",
    "                    fft_sizes=[1024, 2048, 4096],\n",
    "                    hop_sizes=[256, 512, 1024],\n",
    "                    win_lengths=[1024, 2048, 4096],\n",
    "                    scale=\"mel\", \n",
    "                    n_bins=150,\n",
    "                    sample_rate=44100,\n",
    "                    device=\"cuda\"\n",
    "                )\n",
    "\n",
    "        self.loss_fn_2 = auraloss.time.SISDRLoss()\n",
    "\n",
    "        self.loss_fn_3 = torch.nn.L1Loss()\n",
    "\n",
    "        self.loss_fn_4 = NewSDRLoss()\n",
    "\n",
    "        self.loss_used = 0\n",
    "\n",
    "        sources = ['drum',\n",
    "                   'noise',\n",
    "                   ]\n",
    "        \n",
    "        self.demucs_mixer = htdemucs.HTDemucs(sources=sources, audio_channels=7)\n",
    "\n",
    "        self.out_conv = nn.Conv1d(in_channels=7, out_channels=2, kernel_size=1)\n",
    "        self.out = nn.Conv1d(in_channels=2, out_channels=2, kernel_size=1)      \n",
    "\n",
    "\n",
    "    def compute_loss(self, outputs, ref_signals):\n",
    "        # loss = self.loss_fn(outputs, ref_signals) + self.loss_fn_2(outputs, ref_signals) +  self.loss_fn_3(outputs, ref_signals)\n",
    "        loss = self.loss_fn_4(outputs.unsqueeze(2), ref_signals.unsqueeze(2))\n",
    "        return loss\n",
    "    \n",
    "    def forward(self, audio, drumroll):\n",
    "        to_mix = torch.cat([audio, drumroll], axis=1)\n",
    "        out = self.demucs_mixer(to_mix)\n",
    "        out_2 = self.out_conv(out[:, 0, :, :])\n",
    "        out_2 = self.out(out_2)\n",
    "        # out_2 = torch.tanh(out_2)\n",
    "\n",
    "        return out_2\n",
    "    \n",
    "    def training_step(self, batch, batch_idx):\n",
    "        # training_step defines the train loop. It is independent of forward\n",
    "        audio, drum, drumroll = batch\n",
    "        \n",
    "        outputs = self.forward(audio, drumroll)\n",
    "        # print(outputs.size())\n",
    "\n",
    "        if batch_idx % 256 == 0:\n",
    "            input_signal = audio[0].cpu().detach().numpy().T\n",
    "            generated_signal = outputs[0].cpu().detach().numpy().T\n",
    "            drum_signal = drum[0].cpu().detach().numpy().T \n",
    "            wandb.log({'audio_input': [wandb.Audio(input_signal, caption=\"Input\", sample_rate=44100)]})\n",
    "            wandb.log({'audio_reference': [wandb.Audio(drum_signal, caption=\"Reference\", sample_rate=44100)]})\n",
    "            wandb.log({'audio_output': [wandb.Audio(generated_signal, caption=\"Output\", sample_rate=44100)]})\n",
    "             \n",
    "            for i in range(5):\n",
    "                wandb.log({f'drum_{i + 1}': [wandb.Audio(drumroll[0].cpu().detach().numpy()[i, :], caption=\"Output\", sample_rate=44100)]})\n",
    "\n",
    "\n",
    "        loss = self.compute_loss(outputs, drum)         \n",
    "\n",
    "        self.log('train_loss', loss, on_step=True, on_epoch=True, prog_bar=True, logger=True)\n",
    "        \n",
    "        return loss\n",
    "    \n",
    "\n",
    "    def configure_optimizers(self):\n",
    "        # Define your optimizer and optionally learning rate scheduler here\n",
    "        optimizer = optim.Adam(self.parameters(), lr=0.001)\n",
    "        scheduler = lr_scheduler.StepLR(optimizer, step_size=1, gamma=0.99)\n",
    "        return [optimizer], [scheduler]\n",
    "        \n"
   ]
  },
  {
   "cell_type": "code",
   "execution_count": 11,
   "id": "79d11190-4e68-41f8-ae19-36d8199c1643",
   "metadata": {},
   "outputs": [],
   "source": [
    "def load_audio(path, start_point, filename):\n",
    "    audio_tensors = []\n",
    "    waveform, _ = torchaudio.load(f\"{path}/{filename}\")\n",
    "    return waveform\n",
    "\n",
    "def load_roll(path, start_point, frames, threshold=1.0):\n",
    "    midi = path + '/mixture.wav.mid'\n",
    "    transcription = pretty_midi.PrettyMIDI(midi)\n",
    "    roll = turn_transcription_into_roll(transcription, frames, threshold)\n",
    "\n",
    "    return torch.from_numpy(roll).float()\n"
   ]
  },
  {
   "cell_type": "markdown",
   "id": "28a00457-307d-4743-9784-9f4cdae73730",
   "metadata": {},
   "source": [
    "# SISNR"
   ]
  },
  {
   "cell_type": "code",
   "execution_count": 12,
   "id": "3873fcee-a3cb-4975-98f5-fc50e77883fa",
   "metadata": {},
   "outputs": [],
   "source": [
    "def separate_sources(\n",
    "    model,\n",
    "    mix,\n",
    "    drumroll,\n",
    "    segment=4.0,\n",
    "    overlap=0,\n",
    "    device=None,\n",
    "):\n",
    "    \"\"\"\n",
    "    Apply model to a given mixture. Use fade, and add segments together in order to add model segment by segment.\n",
    "\n",
    "    Args:\n",
    "        segment (int): segment length in seconds\n",
    "        device (torch.device, str, or None): if provided, device on which to\n",
    "            execute the computation, otherwise `mix.device` is assumed.\n",
    "            When `device` is different from `mix.device`, only local computations will\n",
    "            be on `device`, while the entire tracks will be stored on `mix.device`.\n",
    "    \"\"\"\n",
    "    if device is None:\n",
    "        device = mix.device\n",
    "    else:\n",
    "        device = torch.device(device)\n",
    "\n",
    "    batch, channels, length = mix.shape\n",
    "\n",
    "    chunk_len = int(sample_rate * segment * (1 + overlap))\n",
    "    start = 0\n",
    "    end = chunk_len\n",
    "    overlap_frames = overlap * sample_rate\n",
    "    fade = Fade(fade_in_len=0, fade_out_len=int(overlap_frames), fade_shape=\"linear\")\n",
    "\n",
    "    final = torch.zeros(batch, channels, length, device=device)\n",
    "\n",
    "    while start < length - overlap_frames:\n",
    "        chunk = mix[:, :, start:end]\n",
    "        roll = drumroll[:, :, start:end]\n",
    "        \n",
    "        with torch.no_grad():\n",
    "            out = model.forward(chunk, roll)\n",
    "        # print(out.shape)\n",
    "        out = fade(out)\n",
    "        # print(out.shape)\n",
    "        try:\n",
    "            final[:, :, start:end] += out\n",
    "        except:\n",
    "            pass\n",
    "        if start == 0:\n",
    "            fade.fade_in_len = int(overlap_frames)\n",
    "            start += int(chunk_len - overlap_frames)\n",
    "        else:\n",
    "            start += chunk_len\n",
    "        end += chunk_len\n",
    "        if end >= length:\n",
    "            fade.fade_out_len = 0\n",
    "    return final"
   ]
  },
  {
   "cell_type": "code",
   "execution_count": 13,
   "id": "b97a63a5-d58e-47db-9768-e063efd5da5a",
   "metadata": {},
   "outputs": [],
   "source": [
    "class AudioData:\n",
    "    def __init__(self, audio):\n",
    "        self.audio = audio"
   ]
  },
  {
   "cell_type": "code",
   "execution_count": 14,
   "id": "0bc5296c-89cf-4321-98dd-5ed9ca7d325a",
   "metadata": {},
   "outputs": [],
   "source": [
    "duration = 64 * 44100"
   ]
  },
  {
   "cell_type": "code",
   "execution_count": null,
   "id": "bcf06e62-3267-4faf-838f-70f14be50e92",
   "metadata": {},
   "outputs": [
    {
     "name": "stderr",
     "output_type": "stream",
     "text": [
      "C:\\Python311\\Lib\\site-packages\\pytorch_lightning\\utilities\\migration\\utils.py:55: The loaded checkpoint was produced with Lightning v2.2.1, which is newer than your current Lightning version: v2.1.2\n",
      "  2%|███▋                                                                                                                                                                                       | 1/50 [00:13<10:44, 13.16s/it]"
     ]
    },
    {
     "name": "stdout",
     "output_type": "stream",
     "text": [
      "drums           ==> SDR:   7.846  SIR: 208.312  ISR:  11.792  SAR:   6.746  \n",
      "bass            ==> SDR:   7.846  SIR: 208.312  ISR:  11.792  SAR:   6.746  \n",
      "\n"
     ]
    },
    {
     "name": "stderr",
     "output_type": "stream",
     "text": [
      "  4%|███████▍                                                                                                                                                                                   | 2/50 [00:23<09:07, 11.40s/it]"
     ]
    },
    {
     "name": "stdout",
     "output_type": "stream",
     "text": [
      "drums           ==> SDR:   3.260  SIR: 188.591  ISR:   8.278  SAR:   0.684  \n",
      "bass            ==> SDR:   3.260  SIR: 188.591  ISR:   8.278  SAR:   0.684  \n",
      "\n"
     ]
    },
    {
     "name": "stderr",
     "output_type": "stream",
     "text": [
      "  6%|███████████▏                                                                                                                                                                               | 3/50 [00:33<08:30, 10.87s/it]"
     ]
    },
    {
     "name": "stdout",
     "output_type": "stream",
     "text": [
      "drums           ==> SDR:   4.486  SIR: 230.891  ISR:   9.962  SAR:   3.299  \n",
      "bass            ==> SDR:   4.486  SIR: 230.891  ISR:   9.962  SAR:   3.299  \n",
      "\n"
     ]
    },
    {
     "name": "stderr",
     "output_type": "stream",
     "text": [
      "  8%|██████████████▉                                                                                                                                                                            | 4/50 [00:43<08:07, 10.60s/it]"
     ]
    },
    {
     "name": "stdout",
     "output_type": "stream",
     "text": [
      "drums           ==> SDR:   1.520  SIR: 225.056  ISR:  13.079  SAR:  -0.239  \n",
      "bass            ==> SDR:   1.520  SIR: 225.056  ISR:  13.079  SAR:  -0.239  \n",
      "\n"
     ]
    },
    {
     "name": "stderr",
     "output_type": "stream",
     "text": [
      " 10%|██████████████████▋                                                                                                                                                                        | 5/50 [00:54<07:52, 10.50s/it]"
     ]
    },
    {
     "name": "stdout",
     "output_type": "stream",
     "text": [
      "drums           ==> SDR:   9.277  SIR: 195.948  ISR:  14.877  SAR:   9.242  \n",
      "bass            ==> SDR:   9.277  SIR: 195.948  ISR:  14.877  SAR:   9.242  \n",
      "\n"
     ]
    },
    {
     "name": "stderr",
     "output_type": "stream",
     "text": [
      " 12%|██████████████████████▍                                                                                                                                                                    | 6/50 [01:04<07:37, 10.41s/it]"
     ]
    },
    {
     "name": "stdout",
     "output_type": "stream",
     "text": [
      "drums           ==> SDR:   5.252  SIR: 232.166  ISR:   9.508  SAR:   4.463  \n",
      "bass            ==> SDR:   5.252  SIR: 232.166  ISR:   9.508  SAR:   4.463  \n",
      "\n"
     ]
    },
    {
     "name": "stderr",
     "output_type": "stream",
     "text": [
      " 14%|██████████████████████████▏                                                                                                                                                                | 7/50 [01:14<07:23, 10.31s/it]"
     ]
    },
    {
     "name": "stdout",
     "output_type": "stream",
     "text": [
      "drums           ==> SDR:   5.500  SIR: 222.108  ISR:  11.378  SAR:   4.647  \n",
      "bass            ==> SDR:   5.500  SIR: 222.108  ISR:  11.378  SAR:   4.647  \n",
      "\n"
     ]
    },
    {
     "name": "stderr",
     "output_type": "stream",
     "text": [
      " 16%|█████████████████████████████▉                                                                                                                                                             | 8/50 [01:24<07:11, 10.26s/it]"
     ]
    },
    {
     "name": "stdout",
     "output_type": "stream",
     "text": [
      "drums           ==> SDR:   4.285  SIR: 242.646  ISR:  10.333  SAR:   2.987  \n",
      "bass            ==> SDR:   4.285  SIR: 242.646  ISR:  10.333  SAR:   2.987  \n",
      "\n"
     ]
    },
    {
     "name": "stderr",
     "output_type": "stream",
     "text": [
      " 18%|█████████████████████████████████▋                                                                                                                                                         | 9/50 [01:35<07:03, 10.33s/it]"
     ]
    },
    {
     "name": "stdout",
     "output_type": "stream",
     "text": [
      "drums           ==> SDR:   6.272  SIR: 168.253  ISR:   9.190  SAR:   5.848  \n",
      "bass            ==> SDR:   6.272  SIR: 168.253  ISR:   9.190  SAR:   5.848  \n",
      "\n"
     ]
    },
    {
     "name": "stderr",
     "output_type": "stream",
     "text": [
      " 20%|█████████████████████████████████████▏                                                                                                                                                    | 10/50 [01:45<06:53, 10.33s/it]"
     ]
    },
    {
     "name": "stdout",
     "output_type": "stream",
     "text": [
      "drums           ==> SDR: -18.450  SIR: 180.244  ISR:   7.644  SAR: -21.520  \n",
      "bass            ==> SDR: -18.450  SIR: 180.244  ISR:   7.644  SAR: -21.520  \n",
      "\n"
     ]
    },
    {
     "name": "stderr",
     "output_type": "stream",
     "text": [
      " 22%|████████████████████████████████████████▉                                                                                                                                                 | 11/50 [01:56<06:52, 10.57s/it]"
     ]
    },
    {
     "name": "stdout",
     "output_type": "stream",
     "text": [
      "drums           ==> SDR:   9.779  SIR: 222.451  ISR:  14.510  SAR:   9.975  \n",
      "bass            ==> SDR:   9.779  SIR: 222.451  ISR:  14.510  SAR:   9.975  \n",
      "\n"
     ]
    },
    {
     "name": "stderr",
     "output_type": "stream",
     "text": [
      " 24%|████████████████████████████████████████████▋                                                                                                                                             | 12/50 [02:06<06:37, 10.46s/it]"
     ]
    },
    {
     "name": "stdout",
     "output_type": "stream",
     "text": [
      "drums           ==> SDR:   6.375  SIR: 227.078  ISR:   7.898  SAR:   6.923  \n",
      "bass            ==> SDR:   6.375  SIR: 227.078  ISR:   7.898  SAR:   6.923  \n",
      "\n"
     ]
    },
    {
     "name": "stderr",
     "output_type": "stream",
     "text": [
      " 26%|████████████████████████████████████████████████▎                                                                                                                                         | 13/50 [02:16<06:16, 10.17s/it]"
     ]
    },
    {
     "name": "stdout",
     "output_type": "stream",
     "text": [
      "drums           ==> SDR:   1.599  SIR:  86.865  ISR:   2.248  SAR:   0.235  \n",
      "bass            ==> SDR:   1.599  SIR:  86.865  ISR:   2.248  SAR:   0.235  \n",
      "\n"
     ]
    },
    {
     "name": "stderr",
     "output_type": "stream",
     "text": [
      " 28%|████████████████████████████████████████████████████                                                                                                                                      | 14/50 [02:27<06:13, 10.38s/it]"
     ]
    },
    {
     "name": "stdout",
     "output_type": "stream",
     "text": [
      "drums           ==> SDR:   8.061  SIR: 211.434  ISR:  12.580  SAR:   8.259  \n",
      "bass            ==> SDR:   8.061  SIR: 211.434  ISR:  12.580  SAR:   8.259  \n",
      "\n"
     ]
    },
    {
     "name": "stderr",
     "output_type": "stream",
     "text": [
      " 30%|███████████████████████████████████████████████████████▊                                                                                                                                  | 15/50 [02:37<06:05, 10.44s/it]"
     ]
    },
    {
     "name": "stdout",
     "output_type": "stream",
     "text": [
      "drums           ==> SDR:   6.686  SIR: 207.970  ISR:  12.300  SAR:   5.980  \n",
      "bass            ==> SDR:   6.686  SIR: 207.970  ISR:  12.300  SAR:   5.980  \n",
      "\n"
     ]
    },
    {
     "name": "stderr",
     "output_type": "stream",
     "text": [
      " 32%|███████████████████████████████████████████████████████████▌                                                                                                                              | 16/50 [02:47<05:49, 10.29s/it]"
     ]
    },
    {
     "name": "stdout",
     "output_type": "stream",
     "text": [
      "drums           ==> SDR:   4.354  SIR: 208.998  ISR:   8.485  SAR:   2.411  \n",
      "bass            ==> SDR:   4.354  SIR: 208.998  ISR:   8.485  SAR:   2.411  \n",
      "\n"
     ]
    },
    {
     "name": "stderr",
     "output_type": "stream",
     "text": [
      " 34%|███████████████████████████████████████████████████████████████▏                                                                                                                          | 17/50 [02:57<05:38, 10.25s/it]"
     ]
    },
    {
     "name": "stdout",
     "output_type": "stream",
     "text": [
      "drums           ==> SDR:   2.498  SIR: 220.053  ISR:   5.998  SAR:  -0.341  \n",
      "bass            ==> SDR:   2.498  SIR: 220.053  ISR:   5.998  SAR:  -0.341  \n",
      "\n"
     ]
    },
    {
     "name": "stderr",
     "output_type": "stream",
     "text": [
      " 36%|██████████████████████████████████████████████████████████████████▉                                                                                                                       | 18/50 [03:07<05:26, 10.20s/it]"
     ]
    },
    {
     "name": "stdout",
     "output_type": "stream",
     "text": [
      "drums           ==> SDR:  10.178  SIR: 201.229  ISR:  14.453  SAR:  10.611  \n",
      "bass            ==> SDR:  10.178  SIR: 201.229  ISR:  14.453  SAR:  10.611  \n",
      "\n"
     ]
    },
    {
     "name": "stderr",
     "output_type": "stream",
     "text": [
      " 38%|██████████████████████████████████████████████████████████████████████▋                                                                                                                   | 19/50 [03:18<05:16, 10.20s/it]"
     ]
    },
    {
     "name": "stdout",
     "output_type": "stream",
     "text": [
      "drums           ==> SDR:   9.473  SIR: 223.751  ISR:  18.877  SAR:   9.148  \n",
      "bass            ==> SDR:   9.473  SIR: 223.751  ISR:  18.877  SAR:   9.148  \n",
      "\n"
     ]
    },
    {
     "name": "stderr",
     "output_type": "stream",
     "text": [
      " 40%|██████████████████████████████████████████████████████████████████████████▍                                                                                                               | 20/50 [03:28<05:04, 10.15s/it]"
     ]
    },
    {
     "name": "stdout",
     "output_type": "stream",
     "text": [
      "drums           ==> SDR:   1.257  SIR: 215.009  ISR:   1.684  SAR:   5.795  \n",
      "bass            ==> SDR:   1.257  SIR: 215.009  ISR:   1.684  SAR:   5.795  \n",
      "\n"
     ]
    },
    {
     "name": "stderr",
     "output_type": "stream",
     "text": [
      " 42%|██████████████████████████████████████████████████████████████████████████████                                                                                                            | 21/50 [03:38<04:53, 10.11s/it]"
     ]
    },
    {
     "name": "stdout",
     "output_type": "stream",
     "text": [
      "drums           ==> SDR:   7.834  SIR: 191.701  ISR:  12.577  SAR:   7.712  \n",
      "bass            ==> SDR:   7.834  SIR: 191.701  ISR:  12.577  SAR:   7.712  \n",
      "\n"
     ]
    },
    {
     "name": "stderr",
     "output_type": "stream",
     "text": [
      " 44%|█████████████████████████████████████████████████████████████████████████████████▊                                                                                                        | 22/50 [03:48<04:41, 10.07s/it]"
     ]
    },
    {
     "name": "stdout",
     "output_type": "stream",
     "text": [
      "drums           ==> SDR:  -9.473  SIR: 271.010  ISR:   1.152  SAR: -21.576  \n",
      "bass            ==> SDR:  -9.473  SIR: 271.010  ISR:   1.152  SAR: -21.576  \n",
      "\n"
     ]
    },
    {
     "name": "stderr",
     "output_type": "stream",
     "text": [
      " 46%|█████████████████████████████████████████████████████████████████████████████████████▌                                                                                                    | 23/50 [03:57<04:28,  9.95s/it]"
     ]
    },
    {
     "name": "stdout",
     "output_type": "stream",
     "text": [
      "drums           ==> SDR:   4.322  SIR: 169.612  ISR:   8.445  SAR:   2.997  \n",
      "bass            ==> SDR:   4.322  SIR: 169.612  ISR:   8.445  SAR:   2.997  \n",
      "\n"
     ]
    },
    {
     "name": "stderr",
     "output_type": "stream",
     "text": [
      " 48%|█████████████████████████████████████████████████████████████████████████████████████████▎                                                                                                | 24/50 [04:07<04:18,  9.96s/it]"
     ]
    },
    {
     "name": "stdout",
     "output_type": "stream",
     "text": [
      "drums           ==> SDR:   7.270  SIR: 134.172  ISR:  12.142  SAR:   7.068  \n",
      "bass            ==> SDR:   7.270  SIR: 134.172  ISR:  12.142  SAR:   7.068  \n",
      "\n"
     ]
    },
    {
     "name": "stderr",
     "output_type": "stream",
     "text": [
      " 50%|█████████████████████████████████████████████████████████████████████████████████████████████                                                                                             | 25/50 [04:17<04:11, 10.04s/it]"
     ]
    },
    {
     "name": "stdout",
     "output_type": "stream",
     "text": [
      "drums           ==> SDR:   3.630  SIR: 226.214  ISR:   8.518  SAR:   2.169  \n",
      "bass            ==> SDR:   3.630  SIR: 226.214  ISR:   8.518  SAR:   2.169  \n",
      "\n"
     ]
    },
    {
     "name": "stderr",
     "output_type": "stream",
     "text": [
      " 52%|████████████████████████████████████████████████████████████████████████████████████████████████▋                                                                                         | 26/50 [04:27<03:59,  9.99s/it]"
     ]
    },
    {
     "name": "stdout",
     "output_type": "stream",
     "text": [
      "drums           ==> SDR:  11.828  SIR: 187.158  ISR:  18.163  SAR:  11.839  \n",
      "bass            ==> SDR:  11.828  SIR: 187.158  ISR:  18.163  SAR:  11.839  \n",
      "\n"
     ]
    },
    {
     "name": "stderr",
     "output_type": "stream",
     "text": [
      " 54%|████████████████████████████████████████████████████████████████████████████████████████████████████▍                                                                                     | 27/50 [04:37<03:50, 10.02s/it]"
     ]
    },
    {
     "name": "stdout",
     "output_type": "stream",
     "text": [
      "drums           ==> SDR:   7.254  SIR: 192.489  ISR:  16.464  SAR:   6.875  \n",
      "bass            ==> SDR:   7.254  SIR: 192.489  ISR:  16.464  SAR:   6.875  \n",
      "\n"
     ]
    },
    {
     "name": "stderr",
     "output_type": "stream",
     "text": [
      " 56%|████████████████████████████████████████████████████████████████████████████████████████████████████████▏                                                                                 | 28/50 [04:48<03:45, 10.25s/it]"
     ]
    },
    {
     "name": "stdout",
     "output_type": "stream",
     "text": [
      "drums           ==> SDR:  10.214  SIR: 187.600  ISR:  12.775  SAR:  11.114  \n",
      "bass            ==> SDR:  10.214  SIR: 187.600  ISR:  12.775  SAR:  11.114  \n",
      "\n"
     ]
    },
    {
     "name": "stderr",
     "output_type": "stream",
     "text": [
      " 58%|███████████████████████████████████████████████████████████████████████████████████████████████████████████▉                                                                              | 29/50 [04:59<03:39, 10.45s/it]"
     ]
    },
    {
     "name": "stdout",
     "output_type": "stream",
     "text": [
      "drums           ==> SDR:   5.404  SIR: 189.119  ISR:   7.088  SAR:   7.193  \n",
      "bass            ==> SDR:   5.404  SIR: 189.119  ISR:   7.088  SAR:   7.193  \n",
      "\n"
     ]
    },
    {
     "name": "stderr",
     "output_type": "stream",
     "text": [
      " 60%|███████████████████████████████████████████████████████████████████████████████████████████████████████████████▌                                                                          | 30/50 [05:10<03:34, 10.71s/it]"
     ]
    },
    {
     "name": "stdout",
     "output_type": "stream",
     "text": [
      "drums           ==> SDR:   6.747  SIR: 215.336  ISR:  11.757  SAR:   6.495  \n",
      "bass            ==> SDR:   6.747  SIR: 215.336  ISR:  11.757  SAR:   6.495  \n",
      "\n"
     ]
    },
    {
     "name": "stderr",
     "output_type": "stream",
     "text": [
      " 62%|███████████████████████████████████████████████████████████████████████████████████████████████████████████████████▎                                                                      | 31/50 [05:21<03:23, 10.73s/it]"
     ]
    },
    {
     "name": "stdout",
     "output_type": "stream",
     "text": [
      "drums           ==> SDR:   2.817  SIR: 201.068  ISR:  10.242  SAR:   1.108  \n",
      "bass            ==> SDR:   2.817  SIR: 201.068  ISR:  10.242  SAR:   1.108  \n",
      "\n"
     ]
    },
    {
     "name": "stderr",
     "output_type": "stream",
     "text": [
      " 64%|███████████████████████████████████████████████████████████████████████████████████████████████████████████████████████                                                                   | 32/50 [05:32<03:10, 10.61s/it]"
     ]
    },
    {
     "name": "stdout",
     "output_type": "stream",
     "text": [
      "drums           ==> SDR:   1.603  SIR: 192.219  ISR:   5.334  SAR:   1.712  \n",
      "bass            ==> SDR:   1.603  SIR: 192.219  ISR:   5.334  SAR:   1.712  \n",
      "\n"
     ]
    },
    {
     "name": "stderr",
     "output_type": "stream",
     "text": [
      " 66%|██████████████████████████████████████████████████████████████████████████████████████████████████████████████████████████▊                                                               | 33/50 [05:43<03:04, 10.82s/it]"
     ]
    },
    {
     "name": "stdout",
     "output_type": "stream",
     "text": [
      "drums           ==> SDR:   2.427  SIR: 224.210  ISR:   5.974  SAR:  -0.212  \n",
      "bass            ==> SDR:   2.427  SIR: 224.210  ISR:   5.974  SAR:  -0.212  \n",
      "\n"
     ]
    },
    {
     "name": "stderr",
     "output_type": "stream",
     "text": [
      " 68%|██████████████████████████████████████████████████████████████████████████████████████████████████████████████████████████████▍                                                           | 34/50 [05:54<02:53, 10.86s/it]"
     ]
    },
    {
     "name": "stdout",
     "output_type": "stream",
     "text": [
      "drums           ==> SDR:   4.871  SIR: 248.254  ISR:   8.497  SAR:   3.728  \n",
      "bass            ==> SDR:   4.871  SIR: 248.254  ISR:   8.497  SAR:   3.728  \n",
      "\n"
     ]
    },
    {
     "name": "stderr",
     "output_type": "stream",
     "text": [
      " 70%|██████████████████████████████████████████████████████████████████████████████████████████████████████████████████████████████████▏                                                       | 35/50 [06:04<02:41, 10.77s/it]"
     ]
    },
    {
     "name": "stdout",
     "output_type": "stream",
     "text": [
      "drums           ==> SDR:   9.250  SIR: 215.197  ISR:  13.626  SAR:   9.465  \n",
      "bass            ==> SDR:   9.250  SIR: 215.197  ISR:  13.626  SAR:   9.465  \n",
      "\n"
     ]
    },
    {
     "name": "stderr",
     "output_type": "stream",
     "text": [
      " 72%|█████████████████████████████████████████████████████████████████████████████████████████████████████████████████████████████████████▉                                                    | 36/50 [06:15<02:29, 10.70s/it]"
     ]
    },
    {
     "name": "stdout",
     "output_type": "stream",
     "text": [
      "drums           ==> SDR:   2.208  SIR: 203.746  ISR:   7.464  SAR:  -0.389  \n",
      "bass            ==> SDR:   2.208  SIR: 203.746  ISR:   7.464  SAR:  -0.389  \n",
      "\n"
     ]
    },
    {
     "name": "stderr",
     "output_type": "stream",
     "text": [
      " 74%|█████████████████████████████████████████████████████████████████████████████████████████████████████████████████████████████████████████▋                                                | 37/50 [06:27<02:23, 11.04s/it]"
     ]
    },
    {
     "name": "stdout",
     "output_type": "stream",
     "text": [
      "drums           ==> SDR:   4.480  SIR: 200.254  ISR:  11.083  SAR:   2.851  \n",
      "bass            ==> SDR:   4.480  SIR: 200.254  ISR:  11.083  SAR:   2.851  \n",
      "\n"
     ]
    },
    {
     "name": "stderr",
     "output_type": "stream",
     "text": [
      " 76%|█████████████████████████████████████████████████████████████████████████████████████████████████████████████████████████████████████████████▎                                            | 38/50 [06:38<02:14, 11.23s/it]"
     ]
    },
    {
     "name": "stdout",
     "output_type": "stream",
     "text": [
      "drums           ==> SDR:   7.947  SIR: 220.897  ISR:  10.000  SAR:   5.222  \n",
      "bass            ==> SDR:   7.947  SIR: 220.897  ISR:  10.000  SAR:   5.222  \n",
      "\n"
     ]
    },
    {
     "name": "stderr",
     "output_type": "stream",
     "text": [
      " 78%|█████████████████████████████████████████████████████████████████████████████████████████████████████████████████████████████████████████████████                                         | 39/50 [06:49<02:02, 11.11s/it]"
     ]
    },
    {
     "name": "stdout",
     "output_type": "stream",
     "text": [
      "drums           ==> SDR:   4.916  SIR: 226.329  ISR:   7.089  SAR:   5.685  \n",
      "bass            ==> SDR:   4.916  SIR: 226.329  ISR:   7.089  SAR:   5.685  \n",
      "\n"
     ]
    },
    {
     "name": "stderr",
     "output_type": "stream",
     "text": [
      " 80%|████████████████████████████████████████████████████████████████████████████████████████████████████████████████████████████████████████████████████▊                                     | 40/50 [07:00<01:49, 10.99s/it]"
     ]
    },
    {
     "name": "stdout",
     "output_type": "stream",
     "text": [
      "drums           ==> SDR:   4.698  SIR: 172.158  ISR:   8.363  SAR:   3.179  \n",
      "bass            ==> SDR:   4.698  SIR: 172.158  ISR:   8.363  SAR:   3.179  \n",
      "\n"
     ]
    },
    {
     "name": "stderr",
     "output_type": "stream",
     "text": [
      " 82%|████████████████████████████████████████████████████████████████████████████████████████████████████████████████████████████████████████████████████████▌                                 | 41/50 [07:11<01:37, 10.89s/it]"
     ]
    },
    {
     "name": "stdout",
     "output_type": "stream",
     "text": [
      "drums           ==> SDR:   5.419  SIR: 180.158  ISR:  11.775  SAR:   4.930  \n",
      "bass            ==> SDR:   5.419  SIR: 180.158  ISR:  11.775  SAR:   4.930  \n",
      "\n"
     ]
    },
    {
     "name": "stderr",
     "output_type": "stream",
     "text": [
      " 84%|████████████████████████████████████████████████████████████████████████████████████████████████████████████████████████████████████████████████████████████▏                             | 42/50 [07:21<01:26, 10.87s/it]"
     ]
    },
    {
     "name": "stdout",
     "output_type": "stream",
     "text": [
      "drums           ==> SDR:   7.268  SIR: 127.155  ISR:  11.401  SAR:   6.664  \n",
      "bass            ==> SDR:   7.268  SIR: 127.155  ISR:  11.401  SAR:   6.664  \n",
      "\n"
     ]
    },
    {
     "name": "stderr",
     "output_type": "stream",
     "text": [
      " 86%|███████████████████████████████████████████████████████████████████████████████████████████████████████████████████████████████████████████████████████████████▉                          | 43/50 [07:32<01:15, 10.80s/it]"
     ]
    },
    {
     "name": "stdout",
     "output_type": "stream",
     "text": [
      "drums           ==> SDR:   5.216  SIR: 189.202  ISR:   9.283  SAR:   3.699  \n",
      "bass            ==> SDR:   5.216  SIR: 189.202  ISR:   9.283  SAR:   3.699  \n",
      "\n"
     ]
    },
    {
     "name": "stderr",
     "output_type": "stream",
     "text": [
      " 88%|███████████████████████████████████████████████████████████████████████████████████████████████████████████████████████████████████████████████████████████████████▋                      | 44/50 [07:41<01:02, 10.38s/it]"
     ]
    },
    {
     "name": "stdout",
     "output_type": "stream",
     "text": [
      "drums           ==> SDR:   8.492  SIR: 218.485  ISR:  11.788  SAR:   7.600  \n",
      "bass            ==> SDR:   8.492  SIR: 218.485  ISR:  11.788  SAR:   7.600  \n",
      "\n"
     ]
    },
    {
     "name": "stderr",
     "output_type": "stream",
     "text": [
      " 90%|███████████████████████████████████████████████████████████████████████████████████████████████████████████████████████████████████████████████████████████████████████▍                  | 45/50 [07:52<00:52, 10.55s/it]"
     ]
    },
    {
     "name": "stdout",
     "output_type": "stream",
     "text": [
      "drums           ==> SDR:   0.820  SIR: 214.016  ISR:   1.532  SAR:  -2.517  \n",
      "bass            ==> SDR:   0.820  SIR: 214.016  ISR:   1.532  SAR:  -2.517  \n",
      "\n"
     ]
    },
    {
     "name": "stderr",
     "output_type": "stream",
     "text": [
      " 92%|███████████████████████████████████████████████████████████████████████████████████████████████████████████████████████████████████████████████████████████████████████████               | 46/50 [08:03<00:42, 10.52s/it]"
     ]
    },
    {
     "name": "stdout",
     "output_type": "stream",
     "text": [
      "drums           ==> SDR:   2.475  SIR: 202.658  ISR:   4.761  SAR:  -0.176  \n",
      "bass            ==> SDR:   2.475  SIR: 202.658  ISR:   4.761  SAR:  -0.176  \n",
      "\n"
     ]
    },
    {
     "name": "stderr",
     "output_type": "stream",
     "text": [
      " 94%|██████████████████████████████████████████████████████████████████████████████████████████████████████████████████████████████████████████████████████████████████████████████▊           | 47/50 [08:12<00:30, 10.18s/it]"
     ]
    },
    {
     "name": "stdout",
     "output_type": "stream",
     "text": [
      "drums           ==> SDR:   3.066  SIR: 165.569  ISR:   5.792  SAR:   2.639  \n",
      "bass            ==> SDR:   3.066  SIR: 165.569  ISR:   5.792  SAR:   2.639  \n",
      "\n"
     ]
    },
    {
     "name": "stderr",
     "output_type": "stream",
     "text": [
      " 96%|██████████████████████████████████████████████████████████████████████████████████████████████████████████████████████████████████████████████████████████████████████████████████▌       | 48/50 [08:23<00:20, 10.21s/it]"
     ]
    },
    {
     "name": "stdout",
     "output_type": "stream",
     "text": [
      "drums           ==> SDR:   3.321  SIR: 222.424  ISR:   8.404  SAR:   1.916  \n",
      "bass            ==> SDR:   3.321  SIR: 222.424  ISR:   8.404  SAR:   1.916  \n",
      "\n"
     ]
    },
    {
     "name": "stderr",
     "output_type": "stream",
     "text": [
      " 98%|██████████████████████████████████████████████████████████████████████████████████████████████████████████████████████████████████████████████████████████████████████████████████████▎   | 49/50 [08:33<00:10, 10.18s/it]"
     ]
    },
    {
     "name": "stdout",
     "output_type": "stream",
     "text": [
      "drums           ==> SDR:   8.909  SIR: 210.565  ISR:  16.615  SAR:   8.682  \n",
      "bass            ==> SDR:   8.909  SIR: 210.565  ISR:  16.615  SAR:   8.682  \n",
      "\n"
     ]
    },
    {
     "name": "stderr",
     "output_type": "stream",
     "text": [
      "100%|██████████████████████████████████████████████████████████████████████████████████████████████████████████████████████████████████████████████████████████████████████████████████████████| 50/50 [08:43<00:00, 10.47s/it]"
     ]
    },
    {
     "name": "stdout",
     "output_type": "stream",
     "text": [
      "drums           ==> SDR:   7.009  SIR: 209.843  ISR:  11.494  SAR:   6.394  \n",
      "bass            ==> SDR:   7.009  SIR: 209.843  ISR:  11.494  SAR:   6.394  \n",
      "\n"
     ]
    },
    {
     "name": "stderr",
     "output_type": "stream",
     "text": [
      "\n",
      "C:\\Python311\\Lib\\site-packages\\pytorch_lightning\\utilities\\migration\\utils.py:55: The loaded checkpoint was produced with Lightning v2.2.1, which is newer than your current Lightning version: v2.1.2\n",
      "  2%|███▋                                                                                                                                                                                       | 1/50 [00:10<08:30, 10.41s/it]"
     ]
    },
    {
     "name": "stdout",
     "output_type": "stream",
     "text": [
      "drums           ==> SDR:   7.371  SIR: 205.751  ISR:  11.905  SAR:   6.672  \n",
      "bass            ==> SDR:   7.371  SIR: 205.751  ISR:  11.905  SAR:   6.672  \n",
      "\n"
     ]
    },
    {
     "name": "stderr",
     "output_type": "stream",
     "text": [
      "  4%|███████▍                                                                                                                                                                                   | 2/50 [00:21<08:26, 10.56s/it]"
     ]
    },
    {
     "name": "stdout",
     "output_type": "stream",
     "text": [
      "drums           ==> SDR:   3.130  SIR: 190.128  ISR:   8.257  SAR:   0.722  \n",
      "bass            ==> SDR:   3.130  SIR: 190.128  ISR:   8.257  SAR:   0.722  \n",
      "\n"
     ]
    },
    {
     "name": "stderr",
     "output_type": "stream",
     "text": [
      "  6%|███████████▏                                                                                                                                                                               | 3/50 [00:31<08:04, 10.31s/it]"
     ]
    },
    {
     "name": "stdout",
     "output_type": "stream",
     "text": [
      "drums           ==> SDR:   4.400  SIR: 226.790  ISR:  10.044  SAR:   3.163  \n",
      "bass            ==> SDR:   4.400  SIR: 226.790  ISR:  10.044  SAR:   3.163  \n",
      "\n"
     ]
    },
    {
     "name": "stderr",
     "output_type": "stream",
     "text": [
      "  8%|██████████████▉                                                                                                                                                                            | 4/50 [00:41<07:50, 10.23s/it]"
     ]
    },
    {
     "name": "stdout",
     "output_type": "stream",
     "text": [
      "drums           ==> SDR:   1.196  SIR: 224.056  ISR:  13.091  SAR:  -0.509  \n",
      "bass            ==> SDR:   1.196  SIR: 224.056  ISR:  13.091  SAR:  -0.509  \n",
      "\n"
     ]
    },
    {
     "name": "stderr",
     "output_type": "stream",
     "text": [
      " 10%|██████████████████▋                                                                                                                                                                        | 5/50 [00:51<07:40, 10.22s/it]"
     ]
    },
    {
     "name": "stdout",
     "output_type": "stream",
     "text": [
      "drums           ==> SDR:   9.041  SIR: 194.550  ISR:  14.816  SAR:   8.863  \n",
      "bass            ==> SDR:   9.041  SIR: 194.550  ISR:  14.816  SAR:   8.863  \n",
      "\n"
     ]
    },
    {
     "name": "stderr",
     "output_type": "stream",
     "text": [
      " 12%|██████████████████████▍                                                                                                                                                                    | 6/50 [01:01<07:34, 10.34s/it]"
     ]
    },
    {
     "name": "stdout",
     "output_type": "stream",
     "text": [
      "drums           ==> SDR:   5.110  SIR: 229.398  ISR:   9.366  SAR:   4.182  \n",
      "bass            ==> SDR:   5.110  SIR: 229.398  ISR:   9.366  SAR:   4.182  \n",
      "\n"
     ]
    },
    {
     "name": "stderr",
     "output_type": "stream",
     "text": [
      " 14%|██████████████████████████▏                                                                                                                                                                | 7/50 [01:11<07:19, 10.23s/it]"
     ]
    },
    {
     "name": "stdout",
     "output_type": "stream",
     "text": [
      "drums           ==> SDR:   5.583  SIR: 218.973  ISR:  11.436  SAR:   4.646  \n",
      "bass            ==> SDR:   5.583  SIR: 218.973  ISR:  11.436  SAR:   4.646  \n",
      "\n"
     ]
    },
    {
     "name": "stderr",
     "output_type": "stream",
     "text": [
      " 16%|█████████████████████████████▉                                                                                                                                                             | 8/50 [01:21<07:05, 10.13s/it]"
     ]
    },
    {
     "name": "stdout",
     "output_type": "stream",
     "text": [
      "drums           ==> SDR:   4.164  SIR: 240.577  ISR:  10.381  SAR:   3.025  \n",
      "bass            ==> SDR:   4.164  SIR: 240.577  ISR:  10.381  SAR:   3.025  \n",
      "\n"
     ]
    },
    {
     "name": "stderr",
     "output_type": "stream",
     "text": [
      " 18%|█████████████████████████████████▋                                                                                                                                                         | 9/50 [01:32<06:56, 10.17s/it]"
     ]
    },
    {
     "name": "stdout",
     "output_type": "stream",
     "text": [
      "drums           ==> SDR:   6.206  SIR: 165.020  ISR:   9.061  SAR:   5.778  \n",
      "bass            ==> SDR:   6.206  SIR: 165.020  ISR:   9.061  SAR:   5.778  \n",
      "\n"
     ]
    },
    {
     "name": "stderr",
     "output_type": "stream",
     "text": [
      " 20%|█████████████████████████████████████▏                                                                                                                                                    | 10/50 [01:42<06:45, 10.13s/it]"
     ]
    },
    {
     "name": "stdout",
     "output_type": "stream",
     "text": [
      "drums           ==> SDR: -22.386  SIR: 188.858  ISR:   7.871  SAR: -25.415  \n",
      "bass            ==> SDR: -22.386  SIR: 188.858  ISR:   7.871  SAR: -25.415  \n",
      "\n"
     ]
    },
    {
     "name": "stderr",
     "output_type": "stream",
     "text": [
      " 22%|████████████████████████████████████████▉                                                                                                                                                 | 11/50 [01:52<06:39, 10.23s/it]"
     ]
    },
    {
     "name": "stdout",
     "output_type": "stream",
     "text": [
      "drums           ==> SDR:   9.966  SIR: 217.751  ISR:  14.590  SAR:  10.355  \n",
      "bass            ==> SDR:   9.966  SIR: 217.751  ISR:  14.590  SAR:  10.355  \n",
      "\n"
     ]
    },
    {
     "name": "stderr",
     "output_type": "stream",
     "text": [
      " 24%|████████████████████████████████████████████▋                                                                                                                                             | 12/50 [02:02<06:26, 10.17s/it]"
     ]
    },
    {
     "name": "stdout",
     "output_type": "stream",
     "text": [
      "drums           ==> SDR:   6.337  SIR: 226.887  ISR:   7.891  SAR:   6.760  \n",
      "bass            ==> SDR:   6.337  SIR: 226.887  ISR:   7.891  SAR:   6.760  \n",
      "\n"
     ]
    },
    {
     "name": "stderr",
     "output_type": "stream",
     "text": [
      " 26%|████████████████████████████████████████████████▎                                                                                                                                         | 13/50 [02:12<06:08,  9.95s/it]"
     ]
    },
    {
     "name": "stdout",
     "output_type": "stream",
     "text": [
      "drums           ==> SDR:   1.561  SIR:  90.771  ISR:   2.187  SAR:  -0.028  \n",
      "bass            ==> SDR:   1.561  SIR:  90.771  ISR:   2.187  SAR:  -0.028  \n",
      "\n"
     ]
    },
    {
     "name": "stderr",
     "output_type": "stream",
     "text": [
      " 28%|████████████████████████████████████████████████████                                                                                                                                      | 14/50 [02:22<05:59,  9.99s/it]"
     ]
    },
    {
     "name": "stdout",
     "output_type": "stream",
     "text": [
      "drums           ==> SDR:   7.977  SIR: 214.751  ISR:  12.485  SAR:   8.194  \n",
      "bass            ==> SDR:   7.977  SIR: 214.751  ISR:  12.485  SAR:   8.194  \n",
      "\n"
     ]
    },
    {
     "name": "stderr",
     "output_type": "stream",
     "text": [
      " 30%|███████████████████████████████████████████████████████▊                                                                                                                                  | 15/50 [02:32<05:54, 10.12s/it]"
     ]
    },
    {
     "name": "stdout",
     "output_type": "stream",
     "text": [
      "drums           ==> SDR:   6.518  SIR: 211.144  ISR:  12.457  SAR:   5.906  \n",
      "bass            ==> SDR:   6.518  SIR: 211.144  ISR:  12.457  SAR:   5.906  \n",
      "\n"
     ]
    },
    {
     "name": "stderr",
     "output_type": "stream",
     "text": [
      " 32%|███████████████████████████████████████████████████████████▌                                                                                                                              | 16/50 [02:42<05:43, 10.09s/it]"
     ]
    },
    {
     "name": "stdout",
     "output_type": "stream",
     "text": [
      "drums           ==> SDR:   4.326  SIR: 213.784  ISR:   8.527  SAR:   2.530  \n",
      "bass            ==> SDR:   4.326  SIR: 213.784  ISR:   8.527  SAR:   2.530  \n",
      "\n"
     ]
    },
    {
     "name": "stderr",
     "output_type": "stream",
     "text": [
      " 34%|███████████████████████████████████████████████████████████████▏                                                                                                                          | 17/50 [02:53<05:35, 10.17s/it]"
     ]
    },
    {
     "name": "stdout",
     "output_type": "stream",
     "text": [
      "drums           ==> SDR:   2.543  SIR: 228.988  ISR:   6.066  SAR:  -0.445  \n",
      "bass            ==> SDR:   2.543  SIR: 228.988  ISR:   6.066  SAR:  -0.445  \n",
      "\n"
     ]
    }
   ],
   "source": [
    "# for fold in range(3):\n",
    "for accuracy in [0.02, 0.05, 0.1, 0.2, 0.3, 0.5, 0.7, 1.0]:\n",
    "    for name in ['epoch_280']:\n",
    "        #try:\n",
    "        output_path = f\"D:/Github/phd-drum-sep/rebuttal_experiments/htdemucs/results_{name}_{accuracy}_fpr/\"\n",
    "        \n",
    "        try:\n",
    "            os.mkdir(output_path)\n",
    "        except:\n",
    "            pass\n",
    "    \n",
    "        model = DrumHybridDemucs.load_from_checkpoint(f'D:/Github/phd-drum-sep/analysis/ht_demucs_small_analysis/checkpoint/{name}.ckpt')\n",
    "        # model.to('cpu')\n",
    "        model = model.eval()\n",
    "        \n",
    "        mus = musdb.DB(root=\"D:/Github/phd-drum-sep/Data/musdb18_stems/\", subsets=\"test\") \n",
    "        \n",
    "        results = museval.EvalStore(frames_agg='median', tracks_agg='median')\n",
    "        for track in tqdm(mus):\n",
    "            try:\n",
    "                path = \"D:/Github/phd-drum-sep/Data/musdb18hq/\"\n",
    "                audio_path = path + 'test/' + track.name + \"/\"\n",
    "            \n",
    "            \n",
    "                mixture_tensor = load_audio(audio_path, start_point,'mixture.wav').unsqueeze(0).to(model.device)[:,:,:duration]\n",
    "                drum_tensor = load_audio(audio_path, start_point,'drums.wav').unsqueeze(0).to(model.device)[:,:,:duration]\n",
    "                shape = mixture_tensor.shape[2]\n",
    "                roll_tensor = load_roll(audio_path, start_point, shape, accuracy).unsqueeze(0).to(model.device)[:,:,:duration]\n",
    "            \n",
    "                seperated = separate_sources(model, mixture_tensor, roll_tensor, device='cuda')\n",
    "            \n",
    "                \n",
    "                audio = seperated.squeeze(0).cpu().numpy()\n",
    "                audio = np.swapaxes(audio,0,1)\n",
    "                estimates = {'drums': audio, 'bass': audio}\n",
    "            \n",
    "                d = drum_tensor.squeeze(0).cpu().numpy()\n",
    "                d = np.swapaxes(d,0,1)\n",
    "                \n",
    "                track.targets['drums'] = AudioData(d)\n",
    "                track.targets['bass'] = AudioData(d)\n",
    "                \n",
    "                scores = museval.eval_mus_track(\n",
    "                    track, estimates, output_dir=f\"{output_path}\"\n",
    "                )\n",
    "            \n",
    "                print(scores)\n",
    "                results.add_track(scores)\n",
    "                gc.collect()\n",
    "            except Exception as e:\n",
    "                print(e)\n",
    "                pass\n",
    "        \n",
    "        results.df.to_csv(f\"{output_path}results.csv\")\n",
    "    \n",
    "        del model\n",
    "        del mus\n",
    "        \n",
    "        # except Exception as e:\n",
    "        #     print('error with model, skipping', name, e)"
   ]
  },
  {
   "cell_type": "code",
   "execution_count": null,
   "id": "ff3d97f7-2804-4b99-adcb-5adeb7dc9d7d",
   "metadata": {},
   "outputs": [],
   "source": [
    "dir(results)"
   ]
  },
  {
   "cell_type": "code",
   "execution_count": null,
   "id": "6cd0a0c5-a825-44cb-94e7-9fef9dcc91fb",
   "metadata": {},
   "outputs": [],
   "source": [
    "results.agg_frames_tracks_scores(), "
   ]
  },
  {
   "cell_type": "code",
   "execution_count": null,
   "id": "246b6f4f-d272-4105-aef9-26757a4c3b4f",
   "metadata": {},
   "outputs": [],
   "source": [
    "r = results.agg_frames_scores().to_dict()"
   ]
  },
  {
   "cell_type": "code",
   "execution_count": null,
   "id": "d600d210-0015-462f-8dc5-4c5888589fe3",
   "metadata": {},
   "outputs": [],
   "source": [
    "sdrs = []\n",
    "for key in list(r.keys()):\n",
    "    if 'SDR' in key:\n",
    "        sdrs.append(r[key])\n",
    "\n",
    "print(np.median(sdrs))"
   ]
  },
  {
   "cell_type": "code",
   "execution_count": null,
   "id": "58db3f19-21c2-4daf-bdf1-eb25814ec5d7",
   "metadata": {},
   "outputs": [],
   "source": []
  }
 ],
 "metadata": {
  "kernelspec": {
   "display_name": "Python 3 (ipykernel)",
   "language": "python",
   "name": "python3"
  },
  "language_info": {
   "codemirror_mode": {
    "name": "ipython",
    "version": 3
   },
   "file_extension": ".py",
   "mimetype": "text/x-python",
   "name": "python",
   "nbconvert_exporter": "python",
   "pygments_lexer": "ipython3",
   "version": "3.11.4"
  }
 },
 "nbformat": 4,
 "nbformat_minor": 5
}
